{
 "cells": [
  {
   "cell_type": "markdown",
   "metadata": {},
   "source": [
    "# Рекомендация тарифов"
   ]
  },
  {
   "cell_type": "markdown",
   "metadata": {},
   "source": [
    "В вашем распоряжении данные о поведении клиентов, которые уже перешли на эти тарифы (из проекта курса «Статистический анализ данных»). Нужно построить модель для задачи классификации, которая выберет подходящий тариф. Предобработка данных не понадобится — вы её уже сделали.\n",
    "\n",
    "Построить модель с максимально большим значением *accuracy* и исследовать базовые модели машинного обучения."
   ]
  },
  {
   "cell_type": "markdown",
   "metadata": {},
   "source": [
    "## Импорт:"
   ]
  },
  {
   "cell_type": "markdown",
   "metadata": {},
   "source": [
    "### Импорт библиотек"
   ]
  },
  {
   "cell_type": "code",
   "execution_count": 1,
   "metadata": {},
   "outputs": [],
   "source": [
    "import pandas as pd\n",
    "import matplotlib.pyplot as plt\n",
    "from sklearn.tree import DecisionTreeClassifier\n",
    "from sklearn.ensemble import RandomForestClassifier\n",
    "from sklearn.linear_model import LinearRegression\n",
    "from sklearn.linear_model import LogisticRegression\n",
    "from sklearn.model_selection import train_test_split\n",
    "from sklearn.metrics import accuracy_score, precision_score, recall_score, f1_score \n",
    "from sklearn.datasets import load_iris\n",
    "from sklearn import tree\n",
    "from sklearn.dummy import DummyClassifier"
   ]
  },
  {
   "cell_type": "markdown",
   "metadata": {},
   "source": [
    "### Импорт датасета"
   ]
  },
  {
   "cell_type": "code",
   "execution_count": 2,
   "metadata": {},
   "outputs": [],
   "source": [
    "df = pd.read_csv('users_behavior.csv')"
   ]
  },
  {
   "cell_type": "code",
   "execution_count": 3,
   "metadata": {},
   "outputs": [
    {
     "name": "stdout",
     "output_type": "stream",
     "text": [
      "<class 'pandas.core.frame.DataFrame'>\n",
      "RangeIndex: 3214 entries, 0 to 3213\n",
      "Data columns (total 5 columns):\n",
      " #   Column    Non-Null Count  Dtype  \n",
      "---  ------    --------------  -----  \n",
      " 0   calls     3214 non-null   float64\n",
      " 1   minutes   3214 non-null   float64\n",
      " 2   messages  3214 non-null   float64\n",
      " 3   mb_used   3214 non-null   float64\n",
      " 4   is_ultra  3214 non-null   int64  \n",
      "dtypes: float64(4), int64(1)\n",
      "memory usage: 125.7 KB\n"
     ]
    }
   ],
   "source": [
    "df.info()"
   ]
  },
  {
   "cell_type": "code",
   "execution_count": 4,
   "metadata": {},
   "outputs": [
    {
     "data": {
      "text/html": [
       "<div>\n",
       "<style scoped>\n",
       "    .dataframe tbody tr th:only-of-type {\n",
       "        vertical-align: middle;\n",
       "    }\n",
       "\n",
       "    .dataframe tbody tr th {\n",
       "        vertical-align: top;\n",
       "    }\n",
       "\n",
       "    .dataframe thead th {\n",
       "        text-align: right;\n",
       "    }\n",
       "</style>\n",
       "<table border=\"1\" class=\"dataframe\">\n",
       "  <thead>\n",
       "    <tr style=\"text-align: right;\">\n",
       "      <th></th>\n",
       "      <th>calls</th>\n",
       "      <th>minutes</th>\n",
       "      <th>messages</th>\n",
       "      <th>mb_used</th>\n",
       "      <th>is_ultra</th>\n",
       "    </tr>\n",
       "  </thead>\n",
       "  <tbody>\n",
       "    <tr>\n",
       "      <th>0</th>\n",
       "      <td>40.0</td>\n",
       "      <td>311.90</td>\n",
       "      <td>83.0</td>\n",
       "      <td>19915.42</td>\n",
       "      <td>0</td>\n",
       "    </tr>\n",
       "    <tr>\n",
       "      <th>1</th>\n",
       "      <td>85.0</td>\n",
       "      <td>516.75</td>\n",
       "      <td>56.0</td>\n",
       "      <td>22696.96</td>\n",
       "      <td>0</td>\n",
       "    </tr>\n",
       "    <tr>\n",
       "      <th>2</th>\n",
       "      <td>77.0</td>\n",
       "      <td>467.66</td>\n",
       "      <td>86.0</td>\n",
       "      <td>21060.45</td>\n",
       "      <td>0</td>\n",
       "    </tr>\n",
       "    <tr>\n",
       "      <th>3</th>\n",
       "      <td>106.0</td>\n",
       "      <td>745.53</td>\n",
       "      <td>81.0</td>\n",
       "      <td>8437.39</td>\n",
       "      <td>1</td>\n",
       "    </tr>\n",
       "    <tr>\n",
       "      <th>4</th>\n",
       "      <td>66.0</td>\n",
       "      <td>418.74</td>\n",
       "      <td>1.0</td>\n",
       "      <td>14502.75</td>\n",
       "      <td>0</td>\n",
       "    </tr>\n",
       "  </tbody>\n",
       "</table>\n",
       "</div>"
      ],
      "text/plain": [
       "   calls  minutes  messages   mb_used  is_ultra\n",
       "0   40.0   311.90      83.0  19915.42         0\n",
       "1   85.0   516.75      56.0  22696.96         0\n",
       "2   77.0   467.66      86.0  21060.45         0\n",
       "3  106.0   745.53      81.0   8437.39         1\n",
       "4   66.0   418.74       1.0  14502.75         0"
      ]
     },
     "execution_count": 4,
     "metadata": {},
     "output_type": "execute_result"
    }
   ],
   "source": [
    "df.head()"
   ]
  },
  {
   "cell_type": "markdown",
   "metadata": {},
   "source": [
    "**Вывод:** Данные подготовлены, не содержат пропусков, типы данных соответствуют назначениям. Всего 3213 записей.\n"
   ]
  },
  {
   "cell_type": "markdown",
   "metadata": {},
   "source": [
    "## Подготовка выборок"
   ]
  },
  {
   "cell_type": "markdown",
   "metadata": {},
   "source": [
    "Выделяем признаки `features` и целевые значения `target` для обучения"
   ]
  },
  {
   "cell_type": "code",
   "execution_count": 5,
   "metadata": {},
   "outputs": [],
   "source": [
    "features = df.drop(['is_ultra'], axis=1)\n",
    "target = df['is_ultra']"
   ]
  },
  {
   "cell_type": "markdown",
   "metadata": {},
   "source": [
    "Делим исходные данные на обучающую и валидационную `...valid` выборки в соотношении 75% на 25%."
   ]
  },
  {
   "cell_type": "code",
   "execution_count": 6,
   "metadata": {},
   "outputs": [],
   "source": [
    "features_train, features_valid, target_train, target_valid = train_test_split(\n",
    "    features, target, test_size=0.25, random_state=123, stratify=target)"
   ]
  },
  {
   "cell_type": "code",
   "execution_count": 7,
   "metadata": {},
   "outputs": [
    {
     "name": "stdout",
     "output_type": "stream",
     "text": [
      "Размер тренировочной выборки признаков: (2410, 4)\n",
      "Размер проверочной выборки признаков: (804, 4)\n"
     ]
    }
   ],
   "source": [
    "#check\n",
    "print('Размер тренировочной выборки признаков:', features_train.shape)\n",
    "print('Размер проверочной выборки признаков:', features_valid.shape)"
   ]
  },
  {
   "cell_type": "code",
   "execution_count": 8,
   "metadata": {},
   "outputs": [
    {
     "name": "stdout",
     "output_type": "stream",
     "text": [
      "Размер тренировочной выборки целевого значения: (2410,)\n",
      "Размер проверочной выборки целевого значения: (804,)\n"
     ]
    }
   ],
   "source": [
    "#check\n",
    "print('Размер тренировочной выборки целевого значения:', target_train.shape)\n",
    "print('Размер проверочной выборки целевого значения:', target_valid.shape)"
   ]
  },
  {
   "cell_type": "markdown",
   "metadata": {},
   "source": [
    "## Модели машинного обучения"
   ]
  },
  {
   "cell_type": "markdown",
   "metadata": {},
   "source": [
    "### Исследование модели \"Дерево решений\":"
   ]
  },
  {
   "cell_type": "code",
   "execution_count": 9,
   "metadata": {
    "scrolled": true
   },
   "outputs": [
    {
     "name": "stdout",
     "output_type": "stream",
     "text": [
      "CPU times: total: 391 ms\n",
      "Wall time: 401 ms\n"
     ]
    }
   ],
   "source": [
    "%%time\n",
    "best_model_tree = None\n",
    "best_aсcuracy_tree = 0\n",
    "best_depth_tree = 0\n",
    "samples_split_tree = None\n",
    "\n",
    "\n",
    "for depth in range(1, 6):\n",
    "    for min_samples_sp in range(2, 15):\n",
    "        model = DecisionTreeClassifier(random_state=123, max_depth=depth)\n",
    "        model.fit(features_train, target_train) \n",
    "        predictions_valid_tree = model.predict(features_valid)\n",
    "        accuracy = accuracy_score(target_valid, predictions_valid_tree)\n",
    "        if accuracy > best_aсcuracy_tree:\n",
    "            best_model_tree = model\n",
    "            best_aсcuracy_tree = accuracy\n",
    "            best_depth_tree = depth\n",
    "            samples_split_tree = min_samples_sp"
   ]
  },
  {
   "cell_type": "code",
   "execution_count": 10,
   "metadata": {},
   "outputs": [
    {
     "name": "stdout",
     "output_type": "stream",
     "text": [
      "Максимальная точность модели RandomForestClassifier: 0.7898009950248757\n",
      "Максимальная точность достигнута при глубине 3,     min_samples_split 2\n"
     ]
    }
   ],
   "source": [
    "print('Максимальная точность модели RandomForestClassifier:', best_aсcuracy_tree)\n",
    "print(f'Максимальная точность достигнута при глубине {best_depth_tree}, \\\n",
    "    min_samples_split {samples_split_tree}')"
   ]
  },
  {
   "cell_type": "code",
   "execution_count": 11,
   "metadata": {
    "scrolled": true
   },
   "outputs": [
    {
     "data": {
      "text/html": [
       "<style>#sk-container-id-1 {color: black;background-color: white;}#sk-container-id-1 pre{padding: 0;}#sk-container-id-1 div.sk-toggleable {background-color: white;}#sk-container-id-1 label.sk-toggleable__label {cursor: pointer;display: block;width: 100%;margin-bottom: 0;padding: 0.3em;box-sizing: border-box;text-align: center;}#sk-container-id-1 label.sk-toggleable__label-arrow:before {content: \"▸\";float: left;margin-right: 0.25em;color: #696969;}#sk-container-id-1 label.sk-toggleable__label-arrow:hover:before {color: black;}#sk-container-id-1 div.sk-estimator:hover label.sk-toggleable__label-arrow:before {color: black;}#sk-container-id-1 div.sk-toggleable__content {max-height: 0;max-width: 0;overflow: hidden;text-align: left;background-color: #f0f8ff;}#sk-container-id-1 div.sk-toggleable__content pre {margin: 0.2em;color: black;border-radius: 0.25em;background-color: #f0f8ff;}#sk-container-id-1 input.sk-toggleable__control:checked~div.sk-toggleable__content {max-height: 200px;max-width: 100%;overflow: auto;}#sk-container-id-1 input.sk-toggleable__control:checked~label.sk-toggleable__label-arrow:before {content: \"▾\";}#sk-container-id-1 div.sk-estimator input.sk-toggleable__control:checked~label.sk-toggleable__label {background-color: #d4ebff;}#sk-container-id-1 div.sk-label input.sk-toggleable__control:checked~label.sk-toggleable__label {background-color: #d4ebff;}#sk-container-id-1 input.sk-hidden--visually {border: 0;clip: rect(1px 1px 1px 1px);clip: rect(1px, 1px, 1px, 1px);height: 1px;margin: -1px;overflow: hidden;padding: 0;position: absolute;width: 1px;}#sk-container-id-1 div.sk-estimator {font-family: monospace;background-color: #f0f8ff;border: 1px dotted black;border-radius: 0.25em;box-sizing: border-box;margin-bottom: 0.5em;}#sk-container-id-1 div.sk-estimator:hover {background-color: #d4ebff;}#sk-container-id-1 div.sk-parallel-item::after {content: \"\";width: 100%;border-bottom: 1px solid gray;flex-grow: 1;}#sk-container-id-1 div.sk-label:hover label.sk-toggleable__label {background-color: #d4ebff;}#sk-container-id-1 div.sk-serial::before {content: \"\";position: absolute;border-left: 1px solid gray;box-sizing: border-box;top: 0;bottom: 0;left: 50%;z-index: 0;}#sk-container-id-1 div.sk-serial {display: flex;flex-direction: column;align-items: center;background-color: white;padding-right: 0.2em;padding-left: 0.2em;position: relative;}#sk-container-id-1 div.sk-item {position: relative;z-index: 1;}#sk-container-id-1 div.sk-parallel {display: flex;align-items: stretch;justify-content: center;background-color: white;position: relative;}#sk-container-id-1 div.sk-item::before, #sk-container-id-1 div.sk-parallel-item::before {content: \"\";position: absolute;border-left: 1px solid gray;box-sizing: border-box;top: 0;bottom: 0;left: 50%;z-index: -1;}#sk-container-id-1 div.sk-parallel-item {display: flex;flex-direction: column;z-index: 1;position: relative;background-color: white;}#sk-container-id-1 div.sk-parallel-item:first-child::after {align-self: flex-end;width: 50%;}#sk-container-id-1 div.sk-parallel-item:last-child::after {align-self: flex-start;width: 50%;}#sk-container-id-1 div.sk-parallel-item:only-child::after {width: 0;}#sk-container-id-1 div.sk-dashed-wrapped {border: 1px dashed gray;margin: 0 0.4em 0.5em 0.4em;box-sizing: border-box;padding-bottom: 0.4em;background-color: white;}#sk-container-id-1 div.sk-label label {font-family: monospace;font-weight: bold;display: inline-block;line-height: 1.2em;}#sk-container-id-1 div.sk-label-container {text-align: center;}#sk-container-id-1 div.sk-container {/* jupyter's `normalize.less` sets `[hidden] { display: none; }` but bootstrap.min.css set `[hidden] { display: none !important; }` so we also need the `!important` here to be able to override the default hidden behavior on the sphinx rendered scikit-learn.org. See: https://github.com/scikit-learn/scikit-learn/issues/21755 */display: inline-block !important;position: relative;}#sk-container-id-1 div.sk-text-repr-fallback {display: none;}</style><div id=\"sk-container-id-1\" class=\"sk-top-container\"><div class=\"sk-text-repr-fallback\"><pre>DecisionTreeClassifier(max_depth=3, random_state=123)</pre><b>In a Jupyter environment, please rerun this cell to show the HTML representation or trust the notebook. <br />On GitHub, the HTML representation is unable to render, please try loading this page with nbviewer.org.</b></div><div class=\"sk-container\" hidden><div class=\"sk-item\"><div class=\"sk-estimator sk-toggleable\"><input class=\"sk-toggleable__control sk-hidden--visually\" id=\"sk-estimator-id-1\" type=\"checkbox\" checked><label for=\"sk-estimator-id-1\" class=\"sk-toggleable__label sk-toggleable__label-arrow\">DecisionTreeClassifier</label><div class=\"sk-toggleable__content\"><pre>DecisionTreeClassifier(max_depth=3, random_state=123)</pre></div></div></div></div></div>"
      ],
      "text/plain": [
       "DecisionTreeClassifier(max_depth=3, random_state=123)"
      ]
     },
     "execution_count": 11,
     "metadata": {},
     "output_type": "execute_result"
    }
   ],
   "source": [
    "best_model_tree = tree.DecisionTreeClassifier(random_state=123, max_depth=3, min_samples_split=2)\n",
    "best_model_tree.fit(features_train, target_train)"
   ]
  },
  {
   "cell_type": "code",
   "execution_count": 12,
   "metadata": {},
   "outputs": [
    {
     "data": {
      "image/png": "[encoded data removed]",
      "text/plain": [
       "<Figure size 936x720 with 1 Axes>"
      ]
     },
     "metadata": {
      "needs_background": "light"
     },
     "output_type": "display_data"
    }
   ],
   "source": [
    "plt.figure(figsize=(13,10))\n",
    "tree.plot_tree(\n",
    "    best_model_tree, \n",
    "    fontsize=10, \n",
    "    class_names=['Smart','Ultra'], \n",
    "    feature_names=features.columns.values, filled=True)\n",
    "plt.show()"
   ]
  },
  {
   "cell_type": "code",
   "execution_count": 13,
   "metadata": {},
   "outputs": [
    {
     "data": {
      "image/png": "[encoded data removed]",
      "text/plain": [
       "<Figure size 2520x1440 with 1 Axes>"
      ]
     },
     "metadata": {
      "needs_background": "light"
     },
     "output_type": "display_data"
    }
   ],
   "source": [
    "fig = plt.figure(figsize=(35,20))\n",
    "_ = tree.plot_tree(best_model_tree, \n",
    "               feature_names=features.columns.values, \n",
    "               class_names=['Smart','Ultra'],\n",
    "               filled=True,\n",
    "               fontsize = 18)"
   ]
  },
  {
   "cell_type": "markdown",
   "metadata": {},
   "source": [
    "**Вывод:** Максимальная точность модели \"Решающий лес\" не превышает 0.7947 при ограничении глубины рекомендуемыми значениями до 6. Однако при увеличении их числа точность повышается до 0.807 при увеличении временных затрат в 4 раза (с 0.305с до 1.23с). Остановимся на рекоммендуемых гиперпараметрах, т.к. разница в метрике незначительна"
   ]
  },
  {
   "cell_type": "markdown",
   "metadata": {},
   "source": [
    "### Исследование модели \"Случайный лес\":"
   ]
  },
  {
   "cell_type": "code",
   "execution_count": 14,
   "metadata": {},
   "outputs": [
    {
     "name": "stdout",
     "output_type": "stream",
     "text": [
      "CPU times: total: 7.77 s\n",
      "Wall time: 7.79 s\n"
     ]
    }
   ],
   "source": [
    "%%time\n",
    "best_model_rf = None\n",
    "best_accuracy_rf = 0\n",
    "best_est_rf = None\n",
    "samples_split_rf = None\n",
    "\n",
    "for est in range(1, 20):\n",
    "    for min_samples_sp in range(2, 30, 5):\n",
    "        model = RandomForestClassifier(random_state=123, n_estimators=est, \\\n",
    "                                        min_samples_split=min_samples_sp) \n",
    "        model.fit(features_train, target_train)\n",
    "        predictions_valid_rf = model.predict(features_valid)\n",
    "        result_rf = accuracy_score(predictions_valid_rf, target_valid)\n",
    "        if result_rf > best_accuracy_rf:\n",
    "            best_model_rf = model\n",
    "            best_accuracy_rf = result_rf\n",
    "            best_est_rf = est\n",
    "            samples_split_rf = min_samples_sp"
   ]
  },
  {
   "cell_type": "code",
   "execution_count": 15,
   "metadata": {},
   "outputs": [
    {
     "name": "stdout",
     "output_type": "stream",
     "text": [
      "Максимальная точность модели RandomForestClassifier: 0.8134328358208955\n",
      "Максимальная точность достигнута при количеством деревьев 17, min_samples_split 27\n"
     ]
    }
   ],
   "source": [
    "print('Максимальная точность модели RandomForestClassifier:', best_accuracy_rf)\n",
    "print(f'Максимальная точность достигнута при количеством деревьев {best_est_rf}, min_samples_split {samples_split_rf}')"
   ]
  },
  {
   "cell_type": "markdown",
   "metadata": {},
   "source": [
    "### Исследование модели \"Логистическая регрессия\":"
   ]
  },
  {
   "cell_type": "code",
   "execution_count": 16,
   "metadata": {
    "scrolled": true
   },
   "outputs": [
    {
     "name": "stdout",
     "output_type": "stream",
     "text": [
      "CPU times: total: 46.9 ms\n",
      "Wall time: 38 ms\n"
     ]
    }
   ],
   "source": [
    "%%time\n",
    "model_lr = LogisticRegression(random_state=123, solver='lbfgs', max_iter=200) \n",
    "model_lr.fit(features_train, target_train) # обучите модель на тренировочной выборке\n",
    "predictions_valid_lr = model_lr.predict(features_valid) # получите предсказания модели на валидационной выборке\n",
    "best_accuracy_lr = accuracy_score(target_valid, predictions_valid_lr)"
   ]
  },
  {
   "cell_type": "code",
   "execution_count": 17,
   "metadata": {},
   "outputs": [
    {
     "name": "stdout",
     "output_type": "stream",
     "text": [
      "Максимальная точность модели LogisticRegression: 0.7624378109452736\n"
     ]
    }
   ],
   "source": [
    "print('Максимальная точность модели LogisticRegression:', best_accuracy_lr)"
   ]
  },
  {
   "cell_type": "markdown",
   "metadata": {},
   "source": [
    "**Вывод** Лучший результат показала модель \"Случайный лес\" с результатом точности 0.809 и параметрами:\n",
    "- количество деревьев  = 10, \n",
    "- min_samples_split  = 22 . \n",
    "\n",
    "Худший - у модели \"Логистическая прогрессия\" со значением 0.697 и кротчайшим сроком выполнения 14 мс."
   ]
  },
  {
   "cell_type": "markdown",
   "metadata": {},
   "source": [
    "## Итоговое тестирование"
   ]
  },
  {
   "cell_type": "code",
   "execution_count": 18,
   "metadata": {},
   "outputs": [
    {
     "name": "stdout",
     "output_type": "stream",
     "text": [
      "Точность модели \"Случайный лес\" на тестовой выборке составила: 0.8022388059701493\n"
     ]
    }
   ],
   "source": [
    "model = RandomForestClassifier(random_state=123, n_estimators=10, \\\n",
    "                                           min_samples_split=22) \n",
    "model.fit(features_train, target_train)\n",
    "predictions_test = model.predict(features_valid)\n",
    "result_test = accuracy_score(predictions_test, target_valid)\n",
    "\n",
    "print('Точность модели \"Случайный лес\" на тестовой выборке составила:', result_test)"
   ]
  },
  {
   "cell_type": "markdown",
   "metadata": {},
   "source": [
    "## Проверка модели на адекватность"
   ]
  },
  {
   "cell_type": "code",
   "execution_count": 19,
   "metadata": {
    "scrolled": true
   },
   "outputs": [
    {
     "ename": "NameError",
     "evalue": "name 'features_concat' is not defined",
     "output_type": "error",
     "traceback": [
      "\u001b[1;31m---------------------------------------------------------------------------\u001b[0m",
      "\u001b[1;31mNameError\u001b[0m                                 Traceback (most recent call last)",
      "Input \u001b[1;32mIn [19]\u001b[0m, in \u001b[0;36m<cell line: 2>\u001b[1;34m()\u001b[0m\n\u001b[0;32m      1\u001b[0m dummy_clf \u001b[38;5;241m=\u001b[39m DummyClassifier(strategy\u001b[38;5;241m=\u001b[39m\u001b[38;5;124m\"\u001b[39m\u001b[38;5;124mmost_frequent\u001b[39m\u001b[38;5;124m\"\u001b[39m)\n\u001b[1;32m----> 2\u001b[0m dummy_clf\u001b[38;5;241m.\u001b[39mfit(\u001b[43mfeatures_concat\u001b[49m, target_concat)\n\u001b[0;32m      3\u001b[0m DummyClassifier(strategy\u001b[38;5;241m=\u001b[39m\u001b[38;5;124m'\u001b[39m\u001b[38;5;124mmost_frequent\u001b[39m\u001b[38;5;124m'\u001b[39m)\n\u001b[0;32m      4\u001b[0m pr \u001b[38;5;241m=\u001b[39m dummy_clf\u001b[38;5;241m.\u001b[39mpredict(features_valid)\n",
      "\u001b[1;31mNameError\u001b[0m: name 'features_concat' is not defined"
     ]
    }
   ],
   "source": [
    "dummy_clf = DummyClassifier(strategy=\"most_frequent\")\n",
    "dummy_clf.fit(features_concat, target_concat)\n",
    "DummyClassifier(strategy='most_frequent')\n",
    "pr = dummy_clf.predict(features_valid)\n",
    "dummy_clf.score(pr, target_valid)"
   ]
  },
  {
   "cell_type": "markdown",
   "metadata": {},
   "source": [
    "**Вывод:** Выбранная модель прошла тест на адекватность: точность модели превышает точность dummyclassifier на 15%."
   ]
  },
  {
   "cell_type": "markdown",
   "metadata": {},
   "source": [
    "## Выводы"
   ]
  },
  {
   "cell_type": "markdown",
   "metadata": {},
   "source": [
    "- Произведен подбор гиперпараметров базовых моделей DT, RF, LR через цикл for\n",
    "- Логистическая регрессия показала свою ограниченность при решении определенных задач и показала худшую метрику accuracy = 0.69. Значит, классы текущего датасета невозможно линейно разделить одной гиперплоскостью\n",
    "- Модель RandomForestClassifier показала лучший результат за счет своей гибкости, возможности уловить нелинейные связи, усреднения результатов за счет ансамбля деревьев. Для нее построен график ветвления решений\n",
    "- Проведена проверка модели на адекватность. Точность в сравнении с константной выше на 15%."
   ]
  }
 ],
 "metadata": {
  "ExecuteTimeLog": [
   {
    "duration": 355,
    "start_time": "2022-08-31T19:20:40.794Z"
   },
   {
    "duration": 87,
    "start_time": "2022-08-31T19:20:41.342Z"
   },
   {
    "duration": 47,
    "start_time": "2022-08-31T19:21:23.803Z"
   },
   {
    "duration": 35,
    "start_time": "2022-08-31T19:21:30.061Z"
   },
   {
    "duration": 3,
    "start_time": "2022-08-31T19:28:44.353Z"
   },
   {
    "duration": 9,
    "start_time": "2022-08-31T19:29:29.862Z"
   },
   {
    "duration": 11,
    "start_time": "2022-08-31T19:29:45.699Z"
   },
   {
    "duration": 10,
    "start_time": "2022-08-31T19:29:46.483Z"
   },
   {
    "duration": 11,
    "start_time": "2022-08-31T19:30:07.340Z"
   },
   {
    "duration": 1027,
    "start_time": "2022-08-31T19:31:15.077Z"
   },
   {
    "duration": 37,
    "start_time": "2022-08-31T19:31:16.106Z"
   },
   {
    "duration": 16,
    "start_time": "2022-08-31T19:31:16.146Z"
   },
   {
    "duration": 25,
    "start_time": "2022-08-31T19:31:16.164Z"
   },
   {
    "duration": 110,
    "start_time": "2022-08-31T19:31:16.191Z"
   },
   {
    "duration": 4,
    "start_time": "2022-08-31T19:32:44.197Z"
   },
   {
    "duration": 76,
    "start_time": "2022-09-05T11:57:29.641Z"
   },
   {
    "duration": 1295,
    "start_time": "2022-09-05T11:57:35.713Z"
   },
   {
    "duration": 140,
    "start_time": "2022-09-05T11:57:37.014Z"
   },
   {
    "duration": 15,
    "start_time": "2022-09-05T11:57:37.156Z"
   },
   {
    "duration": 35,
    "start_time": "2022-09-05T11:57:37.173Z"
   },
   {
    "duration": 28,
    "start_time": "2022-09-05T11:57:37.213Z"
   },
   {
    "duration": 134,
    "start_time": "2022-09-05T11:57:37.243Z"
   },
   {
    "duration": 0,
    "start_time": "2022-09-05T11:57:37.379Z"
   },
   {
    "duration": 0,
    "start_time": "2022-09-05T11:57:37.381Z"
   },
   {
    "duration": 0,
    "start_time": "2022-09-05T11:57:37.382Z"
   },
   {
    "duration": 0,
    "start_time": "2022-09-05T11:57:37.383Z"
   },
   {
    "duration": 4,
    "start_time": "2022-09-05T12:11:52.347Z"
   },
   {
    "duration": 13,
    "start_time": "2022-09-05T12:11:54.823Z"
   },
   {
    "duration": 5,
    "start_time": "2022-09-05T12:12:18.467Z"
   },
   {
    "duration": 9,
    "start_time": "2022-09-05T12:12:26.833Z"
   },
   {
    "duration": 9,
    "start_time": "2022-09-05T12:12:46.514Z"
   },
   {
    "duration": 23,
    "start_time": "2022-09-05T12:13:13.685Z"
   },
   {
    "duration": 18,
    "start_time": "2022-09-05T12:13:26.949Z"
   },
   {
    "duration": 21,
    "start_time": "2022-09-05T12:14:17.288Z"
   },
   {
    "duration": 1199,
    "start_time": "2022-09-05T12:14:38.571Z"
   },
   {
    "duration": 47,
    "start_time": "2022-09-05T12:14:39.772Z"
   },
   {
    "duration": 14,
    "start_time": "2022-09-05T12:14:39.820Z"
   },
   {
    "duration": 18,
    "start_time": "2022-09-05T12:14:39.836Z"
   },
   {
    "duration": 4,
    "start_time": "2022-09-05T12:14:39.855Z"
   },
   {
    "duration": 10,
    "start_time": "2022-09-05T12:14:39.861Z"
   },
   {
    "duration": 16,
    "start_time": "2022-09-05T12:14:39.873Z"
   },
   {
    "duration": 140,
    "start_time": "2022-09-05T12:14:39.891Z"
   },
   {
    "duration": 0,
    "start_time": "2022-09-05T12:14:40.033Z"
   },
   {
    "duration": 0,
    "start_time": "2022-09-05T12:14:40.034Z"
   },
   {
    "duration": 0,
    "start_time": "2022-09-05T12:14:40.036Z"
   },
   {
    "duration": 0,
    "start_time": "2022-09-05T12:14:40.037Z"
   },
   {
    "duration": 5,
    "start_time": "2022-09-05T12:19:10.868Z"
   },
   {
    "duration": 8,
    "start_time": "2022-09-05T12:19:13.023Z"
   },
   {
    "duration": 1176,
    "start_time": "2022-09-05T12:19:51.962Z"
   },
   {
    "duration": 30,
    "start_time": "2022-09-05T12:19:53.140Z"
   },
   {
    "duration": 12,
    "start_time": "2022-09-05T12:19:53.172Z"
   },
   {
    "duration": 31,
    "start_time": "2022-09-05T12:19:53.186Z"
   },
   {
    "duration": 7,
    "start_time": "2022-09-05T12:19:53.219Z"
   },
   {
    "duration": 13,
    "start_time": "2022-09-05T12:19:53.227Z"
   },
   {
    "duration": 23,
    "start_time": "2022-09-05T12:19:53.242Z"
   },
   {
    "duration": 9,
    "start_time": "2022-09-05T12:19:53.267Z"
   },
   {
    "duration": 12,
    "start_time": "2022-09-05T12:19:53.278Z"
   },
   {
    "duration": 54,
    "start_time": "2022-09-05T12:19:53.292Z"
   },
   {
    "duration": 8802,
    "start_time": "2022-09-05T12:19:53.348Z"
   },
   {
    "duration": 10,
    "start_time": "2022-09-05T12:20:02.153Z"
   },
   {
    "duration": 7,
    "start_time": "2022-09-05T12:24:13.289Z"
   },
   {
    "duration": 12,
    "start_time": "2022-09-05T12:24:14.924Z"
   },
   {
    "duration": 7,
    "start_time": "2022-09-05T12:25:03.684Z"
   },
   {
    "duration": 7,
    "start_time": "2022-09-05T12:25:30.143Z"
   },
   {
    "duration": 5,
    "start_time": "2022-09-05T12:25:30.576Z"
   },
   {
    "duration": 1172,
    "start_time": "2022-09-05T12:25:34.756Z"
   },
   {
    "duration": 30,
    "start_time": "2022-09-05T12:25:35.930Z"
   },
   {
    "duration": 13,
    "start_time": "2022-09-05T12:25:35.962Z"
   },
   {
    "duration": 35,
    "start_time": "2022-09-05T12:25:35.978Z"
   },
   {
    "duration": 9,
    "start_time": "2022-09-05T12:25:36.016Z"
   },
   {
    "duration": 12,
    "start_time": "2022-09-05T12:25:36.027Z"
   },
   {
    "duration": 8,
    "start_time": "2022-09-05T12:25:36.041Z"
   },
   {
    "duration": 11,
    "start_time": "2022-09-05T12:25:36.052Z"
   },
   {
    "duration": 12,
    "start_time": "2022-09-05T12:25:36.065Z"
   },
   {
    "duration": 36,
    "start_time": "2022-09-05T12:25:36.080Z"
   },
   {
    "duration": 5043,
    "start_time": "2022-09-05T12:25:36.118Z"
   },
   {
    "duration": 9,
    "start_time": "2022-09-05T12:25:41.163Z"
   },
   {
    "duration": 116,
    "start_time": "2022-09-05T12:43:03.683Z"
   },
   {
    "duration": 1225,
    "start_time": "2022-09-05T12:44:12.701Z"
   },
   {
    "duration": 31,
    "start_time": "2022-09-05T12:44:13.931Z"
   },
   {
    "duration": 13,
    "start_time": "2022-09-05T12:44:13.965Z"
   },
   {
    "duration": 25,
    "start_time": "2022-09-05T12:44:13.981Z"
   },
   {
    "duration": 4,
    "start_time": "2022-09-05T12:44:14.007Z"
   },
   {
    "duration": 8,
    "start_time": "2022-09-05T12:44:14.013Z"
   },
   {
    "duration": 21,
    "start_time": "2022-09-05T12:44:14.023Z"
   },
   {
    "duration": 19,
    "start_time": "2022-09-05T12:44:14.046Z"
   },
   {
    "duration": 9,
    "start_time": "2022-09-05T12:44:14.068Z"
   },
   {
    "duration": 131,
    "start_time": "2022-09-05T12:44:14.079Z"
   },
   {
    "duration": 0,
    "start_time": "2022-09-05T12:44:14.211Z"
   },
   {
    "duration": 0,
    "start_time": "2022-09-05T12:44:14.213Z"
   },
   {
    "duration": 0,
    "start_time": "2022-09-05T12:44:14.214Z"
   },
   {
    "duration": 1169,
    "start_time": "2022-09-05T12:44:57.908Z"
   },
   {
    "duration": 43,
    "start_time": "2022-09-05T12:44:59.079Z"
   },
   {
    "duration": 12,
    "start_time": "2022-09-05T12:44:59.124Z"
   },
   {
    "duration": 21,
    "start_time": "2022-09-05T12:44:59.138Z"
   },
   {
    "duration": 4,
    "start_time": "2022-09-05T12:44:59.161Z"
   },
   {
    "duration": 13,
    "start_time": "2022-09-05T12:44:59.166Z"
   },
   {
    "duration": 9,
    "start_time": "2022-09-05T12:44:59.180Z"
   },
   {
    "duration": 25,
    "start_time": "2022-09-05T12:44:59.190Z"
   },
   {
    "duration": 12,
    "start_time": "2022-09-05T12:44:59.217Z"
   },
   {
    "duration": 132,
    "start_time": "2022-09-05T12:44:59.232Z"
   },
   {
    "duration": 0,
    "start_time": "2022-09-05T12:44:59.366Z"
   },
   {
    "duration": 0,
    "start_time": "2022-09-05T12:44:59.368Z"
   },
   {
    "duration": 0,
    "start_time": "2022-09-05T12:44:59.369Z"
   },
   {
    "duration": 1197,
    "start_time": "2022-09-05T12:45:13.305Z"
   },
   {
    "duration": 30,
    "start_time": "2022-09-05T12:45:14.508Z"
   },
   {
    "duration": 13,
    "start_time": "2022-09-05T12:45:14.540Z"
   },
   {
    "duration": 51,
    "start_time": "2022-09-05T12:45:14.555Z"
   },
   {
    "duration": 7,
    "start_time": "2022-09-05T12:45:14.609Z"
   },
   {
    "duration": 14,
    "start_time": "2022-09-05T12:45:14.618Z"
   },
   {
    "duration": 14,
    "start_time": "2022-09-05T12:45:14.634Z"
   },
   {
    "duration": 15,
    "start_time": "2022-09-05T12:45:14.650Z"
   },
   {
    "duration": 21,
    "start_time": "2022-09-05T12:45:14.667Z"
   },
   {
    "duration": 56,
    "start_time": "2022-09-05T12:45:14.690Z"
   },
   {
    "duration": 110,
    "start_time": "2022-09-05T12:45:14.748Z"
   },
   {
    "duration": 0,
    "start_time": "2022-09-05T12:45:14.859Z"
   },
   {
    "duration": 0,
    "start_time": "2022-09-05T12:45:14.861Z"
   },
   {
    "duration": 46,
    "start_time": "2022-09-05T12:45:35.584Z"
   },
   {
    "duration": 11,
    "start_time": "2022-09-05T12:45:36.339Z"
   },
   {
    "duration": 39,
    "start_time": "2022-09-05T12:46:00.175Z"
   },
   {
    "duration": 4,
    "start_time": "2022-09-05T12:46:00.431Z"
   },
   {
    "duration": 36,
    "start_time": "2022-09-05T12:46:16.542Z"
   },
   {
    "duration": 4,
    "start_time": "2022-09-05T12:46:16.874Z"
   },
   {
    "duration": 1197,
    "start_time": "2022-09-05T13:06:14.466Z"
   },
   {
    "duration": 39,
    "start_time": "2022-09-05T13:06:15.665Z"
   },
   {
    "duration": 13,
    "start_time": "2022-09-05T13:06:15.705Z"
   },
   {
    "duration": 40,
    "start_time": "2022-09-05T13:06:15.720Z"
   },
   {
    "duration": 9,
    "start_time": "2022-09-05T13:06:15.762Z"
   },
   {
    "duration": 33,
    "start_time": "2022-09-05T13:06:15.772Z"
   },
   {
    "duration": 33,
    "start_time": "2022-09-05T13:06:15.807Z"
   },
   {
    "duration": 13,
    "start_time": "2022-09-05T13:06:15.842Z"
   },
   {
    "duration": 45,
    "start_time": "2022-09-05T13:06:15.857Z"
   },
   {
    "duration": 135,
    "start_time": "2022-09-05T13:06:15.905Z"
   },
   {
    "duration": 0,
    "start_time": "2022-09-05T13:06:16.041Z"
   },
   {
    "duration": 0,
    "start_time": "2022-09-05T13:06:16.042Z"
   },
   {
    "duration": 0,
    "start_time": "2022-09-05T13:06:16.043Z"
   },
   {
    "duration": 0,
    "start_time": "2022-09-05T13:06:16.044Z"
   },
   {
    "duration": 17,
    "start_time": "2022-09-05T13:06:41.408Z"
   },
   {
    "duration": 17,
    "start_time": "2022-09-05T13:07:04.684Z"
   },
   {
    "duration": 32,
    "start_time": "2022-09-05T13:07:38.851Z"
   },
   {
    "duration": 5,
    "start_time": "2022-09-05T13:07:41.982Z"
   },
   {
    "duration": 38,
    "start_time": "2022-09-05T13:07:46.890Z"
   },
   {
    "duration": 4,
    "start_time": "2022-09-05T13:07:47.186Z"
   },
   {
    "duration": 4025,
    "start_time": "2022-09-05T13:07:53.663Z"
   },
   {
    "duration": 9,
    "start_time": "2022-09-05T13:07:57.690Z"
   },
   {
    "duration": 3998,
    "start_time": "2022-09-05T13:11:04.866Z"
   },
   {
    "duration": 4,
    "start_time": "2022-09-05T13:11:08.866Z"
   },
   {
    "duration": 3814,
    "start_time": "2022-09-05T13:11:14.937Z"
   },
   {
    "duration": 3,
    "start_time": "2022-09-05T13:11:18.753Z"
   },
   {
    "duration": 4318,
    "start_time": "2022-09-05T13:12:02.986Z"
   },
   {
    "duration": 4,
    "start_time": "2022-09-05T13:12:07.307Z"
   },
   {
    "duration": 19,
    "start_time": "2022-09-05T13:21:26.824Z"
   },
   {
    "duration": 82,
    "start_time": "2022-09-05T13:22:06.344Z"
   },
   {
    "duration": 14,
    "start_time": "2022-09-05T13:22:59.740Z"
   },
   {
    "duration": 77,
    "start_time": "2022-09-05T13:29:05.606Z"
   },
   {
    "duration": 90,
    "start_time": "2022-09-05T13:29:09.791Z"
   },
   {
    "duration": 10,
    "start_time": "2022-09-05T13:29:18.749Z"
   },
   {
    "duration": 8,
    "start_time": "2022-09-05T13:29:39.669Z"
   },
   {
    "duration": 13,
    "start_time": "2022-09-05T13:29:40.483Z"
   },
   {
    "duration": 830,
    "start_time": "2022-09-05T13:41:24.634Z"
   },
   {
    "duration": 9,
    "start_time": "2022-09-05T13:41:25.466Z"
   },
   {
    "duration": 899,
    "start_time": "2022-09-05T13:41:41.485Z"
   },
   {
    "duration": 6,
    "start_time": "2022-09-05T13:41:42.386Z"
   },
   {
    "duration": 869,
    "start_time": "2022-09-05T13:42:20.833Z"
   },
   {
    "duration": 4,
    "start_time": "2022-09-05T13:42:21.705Z"
   },
   {
    "duration": 23,
    "start_time": "2022-09-05T13:43:31.965Z"
   },
   {
    "duration": 32,
    "start_time": "2022-09-05T13:43:45.623Z"
   },
   {
    "duration": 5,
    "start_time": "2022-09-05T13:43:46.060Z"
   },
   {
    "duration": 29,
    "start_time": "2022-09-05T13:43:55.616Z"
   },
   {
    "duration": 41,
    "start_time": "2022-09-05T13:44:01.920Z"
   },
   {
    "duration": 3,
    "start_time": "2022-09-05T13:44:02.159Z"
   },
   {
    "duration": 867,
    "start_time": "2022-09-05T13:44:04.700Z"
   },
   {
    "duration": 3,
    "start_time": "2022-09-05T13:44:05.569Z"
   },
   {
    "duration": 8,
    "start_time": "2022-09-05T13:44:19.202Z"
   },
   {
    "duration": 14,
    "start_time": "2022-09-05T13:44:19.539Z"
   },
   {
    "duration": 8,
    "start_time": "2022-09-05T14:06:36.039Z"
   },
   {
    "duration": 7,
    "start_time": "2022-09-05T14:06:37.550Z"
   },
   {
    "duration": 6,
    "start_time": "2022-09-05T14:06:58.000Z"
   },
   {
    "duration": 7,
    "start_time": "2022-09-05T14:06:59.163Z"
   },
   {
    "duration": 1106,
    "start_time": "2022-09-05T14:07:06.221Z"
   },
   {
    "duration": 29,
    "start_time": "2022-09-05T14:07:07.328Z"
   },
   {
    "duration": 11,
    "start_time": "2022-09-05T14:07:07.359Z"
   },
   {
    "duration": 20,
    "start_time": "2022-09-05T14:07:07.372Z"
   },
   {
    "duration": 9,
    "start_time": "2022-09-05T14:07:07.395Z"
   },
   {
    "duration": 12,
    "start_time": "2022-09-05T14:07:07.405Z"
   },
   {
    "duration": 8,
    "start_time": "2022-09-05T14:07:07.419Z"
   },
   {
    "duration": 9,
    "start_time": "2022-09-05T14:07:07.428Z"
   },
   {
    "duration": 7,
    "start_time": "2022-09-05T14:07:07.438Z"
   },
   {
    "duration": 35,
    "start_time": "2022-09-05T14:07:07.447Z"
   },
   {
    "duration": 10,
    "start_time": "2022-09-05T14:07:07.483Z"
   },
   {
    "duration": 867,
    "start_time": "2022-09-05T14:07:07.495Z"
   },
   {
    "duration": 4,
    "start_time": "2022-09-05T14:07:08.363Z"
   },
   {
    "duration": 19,
    "start_time": "2022-09-05T14:07:08.369Z"
   },
   {
    "duration": 131,
    "start_time": "2022-09-05T14:07:08.389Z"
   },
   {
    "duration": 0,
    "start_time": "2022-09-05T14:07:08.521Z"
   },
   {
    "duration": 32,
    "start_time": "2022-09-05T14:09:13.980Z"
   },
   {
    "duration": 4,
    "start_time": "2022-09-05T14:09:14.587Z"
   },
   {
    "duration": 865,
    "start_time": "2022-09-05T14:09:18.652Z"
   },
   {
    "duration": 3,
    "start_time": "2022-09-05T14:09:19.519Z"
   },
   {
    "duration": 1086,
    "start_time": "2022-09-05T19:32:40.863Z"
   },
   {
    "duration": 117,
    "start_time": "2022-09-05T19:32:41.951Z"
   },
   {
    "duration": 11,
    "start_time": "2022-09-05T19:32:42.070Z"
   },
   {
    "duration": 29,
    "start_time": "2022-09-05T19:32:42.083Z"
   },
   {
    "duration": 11,
    "start_time": "2022-09-05T19:32:42.114Z"
   },
   {
    "duration": 19,
    "start_time": "2022-09-05T19:32:42.127Z"
   },
   {
    "duration": 13,
    "start_time": "2022-09-05T19:32:42.148Z"
   },
   {
    "duration": 22,
    "start_time": "2022-09-05T19:32:42.162Z"
   },
   {
    "duration": 18,
    "start_time": "2022-09-05T19:32:42.185Z"
   },
   {
    "duration": 41,
    "start_time": "2022-09-05T19:32:42.205Z"
   },
   {
    "duration": 4,
    "start_time": "2022-09-05T19:32:42.247Z"
   },
   {
    "duration": 808,
    "start_time": "2022-09-05T19:32:42.252Z"
   },
   {
    "duration": 4,
    "start_time": "2022-09-05T19:32:43.061Z"
   },
   {
    "duration": 11,
    "start_time": "2022-09-05T19:32:43.066Z"
   },
   {
    "duration": 106,
    "start_time": "2022-09-05T19:32:43.079Z"
   },
   {
    "duration": 0,
    "start_time": "2022-09-05T19:32:43.186Z"
   },
   {
    "duration": 47,
    "start_time": "2022-09-07T09:39:31.789Z"
   },
   {
    "duration": 1075,
    "start_time": "2022-09-07T09:39:52.232Z"
   },
   {
    "duration": 113,
    "start_time": "2022-09-07T09:39:53.309Z"
   },
   {
    "duration": 10,
    "start_time": "2022-09-07T09:39:53.424Z"
   },
   {
    "duration": 23,
    "start_time": "2022-09-07T09:39:53.436Z"
   },
   {
    "duration": 9,
    "start_time": "2022-09-07T09:39:53.461Z"
   },
   {
    "duration": 12,
    "start_time": "2022-09-07T09:39:53.472Z"
   },
   {
    "duration": 10,
    "start_time": "2022-09-07T09:39:53.485Z"
   },
   {
    "duration": 9,
    "start_time": "2022-09-07T09:39:53.497Z"
   },
   {
    "duration": 117,
    "start_time": "2022-09-07T09:39:53.507Z"
   },
   {
    "duration": 0,
    "start_time": "2022-09-07T09:39:53.626Z"
   },
   {
    "duration": 0,
    "start_time": "2022-09-07T09:39:53.627Z"
   },
   {
    "duration": 0,
    "start_time": "2022-09-07T09:39:53.629Z"
   },
   {
    "duration": 0,
    "start_time": "2022-09-07T09:39:53.630Z"
   },
   {
    "duration": 0,
    "start_time": "2022-09-07T09:39:53.631Z"
   },
   {
    "duration": 0,
    "start_time": "2022-09-07T09:39:53.632Z"
   },
   {
    "duration": 0,
    "start_time": "2022-09-07T09:39:53.633Z"
   },
   {
    "duration": 6,
    "start_time": "2022-09-07T09:40:05.989Z"
   },
   {
    "duration": 30,
    "start_time": "2022-09-07T09:40:09.005Z"
   },
   {
    "duration": 3,
    "start_time": "2022-09-07T09:40:09.556Z"
   },
   {
    "duration": 26,
    "start_time": "2022-09-07T09:43:07.990Z"
   },
   {
    "duration": 23900,
    "start_time": "2022-09-07T09:43:55.578Z"
   },
   {
    "duration": 9,
    "start_time": "2022-09-07T09:44:19.479Z"
   },
   {
    "duration": 10,
    "start_time": "2022-09-07T09:47:30.076Z"
   },
   {
    "duration": 23375,
    "start_time": "2022-09-07T09:47:42.370Z"
   },
   {
    "duration": 3,
    "start_time": "2022-09-07T09:48:05.747Z"
   },
   {
    "duration": 13,
    "start_time": "2022-09-07T09:52:24.011Z"
   },
   {
    "duration": 46,
    "start_time": "2022-09-07T09:53:14.772Z"
   },
   {
    "duration": 10,
    "start_time": "2022-09-07T09:53:15.005Z"
   },
   {
    "duration": 45,
    "start_time": "2022-09-07T09:53:42.689Z"
   },
   {
    "duration": 4,
    "start_time": "2022-09-07T09:53:44.013Z"
   },
   {
    "duration": 889,
    "start_time": "2022-09-07T09:54:36.121Z"
   },
   {
    "duration": 4,
    "start_time": "2022-09-07T09:54:37.012Z"
   },
   {
    "duration": 785,
    "start_time": "2022-09-07T09:54:50.992Z"
   },
   {
    "duration": 8,
    "start_time": "2022-09-07T09:54:51.779Z"
   },
   {
    "duration": 416,
    "start_time": "2022-09-07T09:58:28.034Z"
   },
   {
    "duration": 4,
    "start_time": "2022-09-07T09:58:28.452Z"
   },
   {
    "duration": 1826,
    "start_time": "2022-09-07T09:58:37.583Z"
   },
   {
    "duration": 3,
    "start_time": "2022-09-07T09:58:39.411Z"
   },
   {
    "duration": 9906,
    "start_time": "2022-09-07T09:59:25.882Z"
   },
   {
    "duration": 3,
    "start_time": "2022-09-07T09:59:35.791Z"
   },
   {
    "duration": 845,
    "start_time": "2022-09-07T10:00:00.143Z"
   },
   {
    "duration": 4,
    "start_time": "2022-09-07T10:00:00.990Z"
   },
   {
    "duration": 23942,
    "start_time": "2022-09-07T10:00:22.309Z"
   },
   {
    "duration": 3,
    "start_time": "2022-09-07T10:00:46.254Z"
   },
   {
    "duration": 3,
    "start_time": "2022-09-07T10:04:19.890Z"
   },
   {
    "duration": 7,
    "start_time": "2022-09-07T10:04:21.727Z"
   },
   {
    "duration": 13,
    "start_time": "2022-09-07T10:04:30.928Z"
   },
   {
    "duration": 12,
    "start_time": "2022-09-07T10:15:36.297Z"
   },
   {
    "duration": 13,
    "start_time": "2022-09-07T10:15:47.655Z"
   },
   {
    "duration": 13,
    "start_time": "2022-09-07T10:16:01.801Z"
   },
   {
    "duration": 10,
    "start_time": "2022-09-07T10:17:17.842Z"
   },
   {
    "duration": 13,
    "start_time": "2022-09-07T10:17:30.135Z"
   },
   {
    "duration": 7,
    "start_time": "2022-09-07T10:19:20.916Z"
   },
   {
    "duration": 13,
    "start_time": "2022-09-07T10:19:28.419Z"
   },
   {
    "duration": 7,
    "start_time": "2022-09-07T10:19:46.163Z"
   },
   {
    "duration": 13,
    "start_time": "2022-09-07T10:19:52.202Z"
   },
   {
    "duration": 9,
    "start_time": "2022-09-07T10:20:00.090Z"
   },
   {
    "duration": 13,
    "start_time": "2022-09-07T10:20:11.357Z"
   },
   {
    "duration": 9,
    "start_time": "2022-09-07T10:20:29.061Z"
   },
   {
    "duration": 6,
    "start_time": "2022-09-07T10:20:36.144Z"
   },
   {
    "duration": 14,
    "start_time": "2022-09-07T10:20:40.320Z"
   },
   {
    "duration": 20,
    "start_time": "2022-09-07T10:31:09.272Z"
   },
   {
    "duration": 14,
    "start_time": "2022-09-07T10:31:26.450Z"
   },
   {
    "duration": 8,
    "start_time": "2022-09-07T10:31:43.263Z"
   },
   {
    "duration": 11,
    "start_time": "2022-09-07T10:31:50.296Z"
   },
   {
    "duration": 11,
    "start_time": "2022-09-07T10:31:58.730Z"
   },
   {
    "duration": 7,
    "start_time": "2022-09-07T10:32:01.616Z"
   },
   {
    "duration": 11,
    "start_time": "2022-09-07T10:32:01.959Z"
   },
   {
    "duration": 1096,
    "start_time": "2022-09-07T10:32:08.395Z"
   },
   {
    "duration": 29,
    "start_time": "2022-09-07T10:32:09.493Z"
   },
   {
    "duration": 12,
    "start_time": "2022-09-07T10:32:09.524Z"
   },
   {
    "duration": 20,
    "start_time": "2022-09-07T10:32:09.538Z"
   },
   {
    "duration": 8,
    "start_time": "2022-09-07T10:32:09.560Z"
   },
   {
    "duration": 8,
    "start_time": "2022-09-07T10:32:09.570Z"
   },
   {
    "duration": 19,
    "start_time": "2022-09-07T10:32:09.579Z"
   },
   {
    "duration": 8,
    "start_time": "2022-09-07T10:32:09.599Z"
   },
   {
    "duration": 13,
    "start_time": "2022-09-07T10:32:09.608Z"
   },
   {
    "duration": 857,
    "start_time": "2022-09-07T10:32:09.623Z"
   },
   {
    "duration": 7,
    "start_time": "2022-09-07T10:32:10.481Z"
   },
   {
    "duration": 23840,
    "start_time": "2022-09-07T10:32:10.489Z"
   },
   {
    "duration": 3,
    "start_time": "2022-09-07T10:32:34.331Z"
   },
   {
    "duration": 9,
    "start_time": "2022-09-07T10:32:34.335Z"
   },
   {
    "duration": 107,
    "start_time": "2022-09-07T10:32:34.346Z"
   },
   {
    "duration": 0,
    "start_time": "2022-09-07T10:32:34.455Z"
   },
   {
    "duration": 8,
    "start_time": "2022-09-07T10:36:42.346Z"
   },
   {
    "duration": 11,
    "start_time": "2022-09-07T10:36:43.149Z"
   },
   {
    "duration": 1063,
    "start_time": "2022-09-07T10:36:58.136Z"
   },
   {
    "duration": 29,
    "start_time": "2022-09-07T10:36:59.202Z"
   },
   {
    "duration": 10,
    "start_time": "2022-09-07T10:36:59.233Z"
   },
   {
    "duration": 15,
    "start_time": "2022-09-07T10:36:59.245Z"
   },
   {
    "duration": 3,
    "start_time": "2022-09-07T10:36:59.262Z"
   },
   {
    "duration": 8,
    "start_time": "2022-09-07T10:36:59.266Z"
   },
   {
    "duration": 11,
    "start_time": "2022-09-07T10:36:59.276Z"
   },
   {
    "duration": 6,
    "start_time": "2022-09-07T10:36:59.289Z"
   },
   {
    "duration": 8,
    "start_time": "2022-09-07T10:36:59.296Z"
   },
   {
    "duration": 814,
    "start_time": "2022-09-07T10:36:59.307Z"
   },
   {
    "duration": 3,
    "start_time": "2022-09-07T10:37:00.123Z"
   },
   {
    "duration": 24929,
    "start_time": "2022-09-07T10:37:00.128Z"
   },
   {
    "duration": 4,
    "start_time": "2022-09-07T10:37:25.059Z"
   },
   {
    "duration": 14,
    "start_time": "2022-09-07T10:37:25.064Z"
   },
   {
    "duration": 154,
    "start_time": "2022-09-07T10:37:25.080Z"
   },
   {
    "duration": 1,
    "start_time": "2022-09-07T10:37:25.235Z"
   },
   {
    "duration": 8,
    "start_time": "2022-09-07T10:42:39.195Z"
   },
   {
    "duration": 8,
    "start_time": "2022-09-07T10:42:47.758Z"
   },
   {
    "duration": 6,
    "start_time": "2022-09-07T10:42:48.489Z"
   },
   {
    "duration": 4,
    "start_time": "2022-09-07T10:45:43.746Z"
   },
   {
    "duration": 10,
    "start_time": "2022-09-07T10:46:34.547Z"
   },
   {
    "duration": 9,
    "start_time": "2022-09-07T10:46:46.158Z"
   },
   {
    "duration": 1146,
    "start_time": "2022-09-07T10:47:01.119Z"
   },
   {
    "duration": 30,
    "start_time": "2022-09-07T10:47:02.267Z"
   },
   {
    "duration": 11,
    "start_time": "2022-09-07T10:47:02.299Z"
   },
   {
    "duration": 29,
    "start_time": "2022-09-07T10:47:02.313Z"
   },
   {
    "duration": 29,
    "start_time": "2022-09-07T10:47:02.343Z"
   },
   {
    "duration": 17,
    "start_time": "2022-09-07T10:47:02.373Z"
   },
   {
    "duration": 32,
    "start_time": "2022-09-07T10:47:02.392Z"
   },
   {
    "duration": 28,
    "start_time": "2022-09-07T10:47:02.426Z"
   },
   {
    "duration": 19,
    "start_time": "2022-09-07T10:47:02.456Z"
   },
   {
    "duration": 849,
    "start_time": "2022-09-07T10:47:02.477Z"
   },
   {
    "duration": 4,
    "start_time": "2022-09-07T10:47:03.327Z"
   },
   {
    "duration": 23825,
    "start_time": "2022-09-07T10:47:03.333Z"
   },
   {
    "duration": 4,
    "start_time": "2022-09-07T10:47:27.159Z"
   },
   {
    "duration": 23,
    "start_time": "2022-09-07T10:47:27.164Z"
   },
   {
    "duration": 5,
    "start_time": "2022-09-07T10:47:27.188Z"
   },
   {
    "duration": 5,
    "start_time": "2022-09-07T10:47:27.194Z"
   },
   {
    "duration": 8,
    "start_time": "2022-09-07T10:47:27.200Z"
   },
   {
    "duration": 5,
    "start_time": "2022-09-07T10:48:18.204Z"
   },
   {
    "duration": 18,
    "start_time": "2022-09-07T10:58:04.521Z"
   },
   {
    "duration": 5,
    "start_time": "2022-09-07T10:58:05.456Z"
   },
   {
    "duration": 18,
    "start_time": "2022-09-07T11:01:40.849Z"
   },
   {
    "duration": 4,
    "start_time": "2022-09-07T11:01:41.255Z"
   },
   {
    "duration": 2,
    "start_time": "2022-09-07T11:01:43.049Z"
   },
   {
    "duration": 3,
    "start_time": "2022-09-07T11:03:09.946Z"
   },
   {
    "duration": 117,
    "start_time": "2022-09-07T11:06:05.621Z"
   },
   {
    "duration": 4,
    "start_time": "2022-09-07T11:06:06.045Z"
   },
   {
    "duration": 23400,
    "start_time": "2022-09-07T11:06:30.930Z"
   },
   {
    "duration": 3,
    "start_time": "2022-09-07T11:06:54.332Z"
   },
   {
    "duration": 1025,
    "start_time": "2022-09-07T11:19:43.536Z"
   },
   {
    "duration": 29,
    "start_time": "2022-09-07T11:19:44.563Z"
   },
   {
    "duration": 11,
    "start_time": "2022-09-07T11:19:44.593Z"
   },
   {
    "duration": 19,
    "start_time": "2022-09-07T11:19:44.606Z"
   },
   {
    "duration": 7,
    "start_time": "2022-09-07T11:19:44.627Z"
   },
   {
    "duration": 8,
    "start_time": "2022-09-07T11:19:44.635Z"
   },
   {
    "duration": 11,
    "start_time": "2022-09-07T11:19:44.644Z"
   },
   {
    "duration": 7,
    "start_time": "2022-09-07T11:19:44.657Z"
   },
   {
    "duration": 7,
    "start_time": "2022-09-07T11:19:44.666Z"
   },
   {
    "duration": 800,
    "start_time": "2022-09-07T11:19:44.686Z"
   },
   {
    "duration": 3,
    "start_time": "2022-09-07T11:19:45.489Z"
   },
   {
    "duration": 23958,
    "start_time": "2022-09-07T11:19:45.494Z"
   },
   {
    "duration": 4,
    "start_time": "2022-09-07T11:20:09.453Z"
   },
   {
    "duration": 29,
    "start_time": "2022-09-07T11:20:09.459Z"
   },
   {
    "duration": 3,
    "start_time": "2022-09-07T11:20:09.490Z"
   },
   {
    "duration": 23863,
    "start_time": "2022-09-07T11:23:04.090Z"
   },
   {
    "duration": 143,
    "start_time": "2022-09-07T11:33:24.838Z"
   },
   {
    "duration": 1019,
    "start_time": "2022-09-07T11:33:51.349Z"
   },
   {
    "duration": 28,
    "start_time": "2022-09-07T11:33:52.371Z"
   },
   {
    "duration": 11,
    "start_time": "2022-09-07T11:33:52.401Z"
   },
   {
    "duration": 19,
    "start_time": "2022-09-07T11:33:52.414Z"
   },
   {
    "duration": 9,
    "start_time": "2022-09-07T11:33:52.435Z"
   },
   {
    "duration": 11,
    "start_time": "2022-09-07T11:33:52.445Z"
   },
   {
    "duration": 5,
    "start_time": "2022-09-07T11:33:52.458Z"
   },
   {
    "duration": 9,
    "start_time": "2022-09-07T11:33:52.465Z"
   },
   {
    "duration": 11,
    "start_time": "2022-09-07T11:33:52.475Z"
   },
   {
    "duration": 811,
    "start_time": "2022-09-07T11:33:52.487Z"
   },
   {
    "duration": 4,
    "start_time": "2022-09-07T11:33:53.300Z"
   },
   {
    "duration": 23845,
    "start_time": "2022-09-07T11:33:53.306Z"
   },
   {
    "duration": 3,
    "start_time": "2022-09-07T11:34:17.152Z"
   },
   {
    "duration": 33,
    "start_time": "2022-09-07T11:34:17.158Z"
   },
   {
    "duration": 3,
    "start_time": "2022-09-07T11:34:17.192Z"
   },
   {
    "duration": 159,
    "start_time": "2022-09-07T11:34:17.197Z"
   },
   {
    "duration": 0,
    "start_time": "2022-09-07T11:34:17.357Z"
   },
   {
    "duration": 7,
    "start_time": "2022-09-07T11:34:26.197Z"
   },
   {
    "duration": 57,
    "start_time": "2022-09-07T11:34:47.036Z"
   },
   {
    "duration": 59,
    "start_time": "2022-09-07T11:35:13.192Z"
   },
   {
    "duration": 62,
    "start_time": "2022-09-07T11:35:18.780Z"
   },
   {
    "duration": 57,
    "start_time": "2022-09-07T11:35:29.816Z"
   },
   {
    "duration": 56,
    "start_time": "2022-09-07T11:35:35.762Z"
   },
   {
    "duration": 55,
    "start_time": "2022-09-07T11:35:38.219Z"
   },
   {
    "duration": 58,
    "start_time": "2022-09-07T11:37:13.506Z"
   },
   {
    "duration": 63,
    "start_time": "2022-09-07T11:43:23.999Z"
   },
   {
    "duration": 50,
    "start_time": "2022-09-07T11:43:52.745Z"
   },
   {
    "duration": 49,
    "start_time": "2022-09-07T11:44:07.787Z"
   },
   {
    "duration": 51,
    "start_time": "2022-09-07T11:44:43.992Z"
   },
   {
    "duration": 1051,
    "start_time": "2022-09-07T11:45:13.929Z"
   },
   {
    "duration": 29,
    "start_time": "2022-09-07T11:45:14.983Z"
   },
   {
    "duration": 12,
    "start_time": "2022-09-07T11:45:15.014Z"
   },
   {
    "duration": 31,
    "start_time": "2022-09-07T11:45:15.028Z"
   },
   {
    "duration": 4,
    "start_time": "2022-09-07T11:45:15.061Z"
   },
   {
    "duration": 14,
    "start_time": "2022-09-07T11:45:15.066Z"
   },
   {
    "duration": 8,
    "start_time": "2022-09-07T11:45:15.082Z"
   },
   {
    "duration": 8,
    "start_time": "2022-09-07T11:45:15.092Z"
   },
   {
    "duration": 9,
    "start_time": "2022-09-07T11:45:15.101Z"
   },
   {
    "duration": 849,
    "start_time": "2022-09-07T11:45:15.114Z"
   },
   {
    "duration": 4,
    "start_time": "2022-09-07T11:45:15.965Z"
   },
   {
    "duration": 23923,
    "start_time": "2022-09-07T11:45:15.971Z"
   },
   {
    "duration": 3,
    "start_time": "2022-09-07T11:45:39.895Z"
   },
   {
    "duration": 21,
    "start_time": "2022-09-07T11:45:39.900Z"
   },
   {
    "duration": 3,
    "start_time": "2022-09-07T11:45:39.923Z"
   },
   {
    "duration": 61,
    "start_time": "2022-09-07T11:45:39.927Z"
   },
   {
    "duration": 43,
    "start_time": "2022-09-07T14:39:07.030Z"
   },
   {
    "duration": 459,
    "start_time": "2022-09-07T14:39:13.854Z"
   },
   {
    "duration": 0,
    "start_time": "2022-09-07T14:39:14.315Z"
   },
   {
    "duration": 7,
    "start_time": "2022-09-07T14:39:14.618Z"
   },
   {
    "duration": 7,
    "start_time": "2022-09-07T14:39:15.380Z"
   },
   {
    "duration": 6,
    "start_time": "2022-09-07T14:39:20.406Z"
   },
   {
    "duration": 1098,
    "start_time": "2022-09-07T14:39:27.400Z"
   },
   {
    "duration": 116,
    "start_time": "2022-09-07T14:39:29.531Z"
   },
   {
    "duration": 11,
    "start_time": "2022-09-07T14:39:30.588Z"
   },
   {
    "duration": 16,
    "start_time": "2022-09-07T14:39:31.064Z"
   },
   {
    "duration": 4,
    "start_time": "2022-09-07T14:39:33.838Z"
   },
   {
    "duration": 7,
    "start_time": "2022-09-07T14:39:35.041Z"
   },
   {
    "duration": 51,
    "start_time": "2022-09-08T06:53:41.421Z"
   },
   {
    "duration": 1090,
    "start_time": "2022-09-08T06:53:47.265Z"
   },
   {
    "duration": 169,
    "start_time": "2022-09-08T06:53:48.357Z"
   },
   {
    "duration": 11,
    "start_time": "2022-09-08T06:53:48.527Z"
   },
   {
    "duration": 16,
    "start_time": "2022-09-08T06:53:48.540Z"
   },
   {
    "duration": 7,
    "start_time": "2022-09-08T06:53:48.560Z"
   },
   {
    "duration": 9,
    "start_time": "2022-09-08T06:53:48.570Z"
   },
   {
    "duration": 11,
    "start_time": "2022-09-08T06:53:48.580Z"
   },
   {
    "duration": 7,
    "start_time": "2022-09-08T06:53:48.593Z"
   },
   {
    "duration": 4,
    "start_time": "2022-09-08T06:53:48.602Z"
   },
   {
    "duration": 6,
    "start_time": "2022-09-08T06:53:48.608Z"
   },
   {
    "duration": 857,
    "start_time": "2022-09-08T06:53:48.616Z"
   },
   {
    "duration": 4,
    "start_time": "2022-09-08T06:53:49.474Z"
   },
   {
    "duration": 24483,
    "start_time": "2022-09-08T06:53:49.480Z"
   },
   {
    "duration": 6,
    "start_time": "2022-09-08T06:54:13.971Z"
   },
   {
    "duration": 23,
    "start_time": "2022-09-08T06:54:13.978Z"
   },
   {
    "duration": 3,
    "start_time": "2022-09-08T06:54:14.002Z"
   },
   {
    "duration": 58,
    "start_time": "2022-09-08T06:54:14.007Z"
   },
   {
    "duration": 3,
    "start_time": "2022-09-08T06:54:16.693Z"
   },
   {
    "duration": 3,
    "start_time": "2022-09-08T06:54:33.333Z"
   },
   {
    "duration": 49,
    "start_time": "2022-09-08T06:55:40.205Z"
   },
   {
    "duration": 64,
    "start_time": "2022-09-08T06:55:44.274Z"
   },
   {
    "duration": 4,
    "start_time": "2022-09-08T06:55:46.831Z"
   },
   {
    "duration": 4,
    "start_time": "2022-09-08T06:56:27.250Z"
   },
   {
    "duration": 5,
    "start_time": "2022-09-08T06:56:29.495Z"
   },
   {
    "duration": 71,
    "start_time": "2022-09-08T06:57:22.976Z"
   },
   {
    "duration": 64,
    "start_time": "2022-09-08T06:57:26.977Z"
   },
   {
    "duration": 4,
    "start_time": "2022-09-08T07:16:40.673Z"
   },
   {
    "duration": 30,
    "start_time": "2022-09-08T07:16:41.798Z"
   },
   {
    "duration": 11,
    "start_time": "2022-09-08T07:16:42.245Z"
   },
   {
    "duration": 12,
    "start_time": "2022-09-08T07:16:42.457Z"
   },
   {
    "duration": 3,
    "start_time": "2022-09-08T07:16:43.932Z"
   },
   {
    "duration": 4,
    "start_time": "2022-09-08T07:16:44.319Z"
   },
   {
    "duration": 4,
    "start_time": "2022-09-08T07:16:44.946Z"
   },
   {
    "duration": 4,
    "start_time": "2022-09-08T07:16:45.335Z"
   },
   {
    "duration": 4,
    "start_time": "2022-09-08T07:16:46.072Z"
   },
   {
    "duration": 834,
    "start_time": "2022-09-08T07:16:54.354Z"
   },
   {
    "duration": 3,
    "start_time": "2022-09-08T07:16:57.527Z"
   },
   {
    "duration": 24516,
    "start_time": "2022-09-08T07:17:21.382Z"
   },
   {
    "duration": 4,
    "start_time": "2022-09-08T07:17:45.900Z"
   },
   {
    "duration": 32,
    "start_time": "2022-09-08T07:18:56.077Z"
   },
   {
    "duration": 3,
    "start_time": "2022-09-08T07:18:56.836Z"
   },
   {
    "duration": 53,
    "start_time": "2022-09-08T07:19:16.744Z"
   },
   {
    "duration": 68,
    "start_time": "2022-09-08T07:19:51.103Z"
   },
   {
    "duration": 220,
    "start_time": "2022-09-08T07:46:39.133Z"
   },
   {
    "duration": 4,
    "start_time": "2022-09-08T07:47:07.675Z"
   },
   {
    "duration": 206,
    "start_time": "2022-09-08T07:47:12.880Z"
   },
   {
    "duration": 3,
    "start_time": "2022-09-08T07:47:13.142Z"
   },
   {
    "duration": 1088,
    "start_time": "2022-09-08T07:47:18.826Z"
   },
   {
    "duration": 35,
    "start_time": "2022-09-08T07:47:19.916Z"
   },
   {
    "duration": 11,
    "start_time": "2022-09-08T07:47:19.953Z"
   },
   {
    "duration": 23,
    "start_time": "2022-09-08T07:47:19.967Z"
   },
   {
    "duration": 18,
    "start_time": "2022-09-08T07:47:19.991Z"
   },
   {
    "duration": 105,
    "start_time": "2022-09-08T07:47:20.011Z"
   },
   {
    "duration": 0,
    "start_time": "2022-09-08T07:47:20.118Z"
   },
   {
    "duration": 0,
    "start_time": "2022-09-08T07:47:20.119Z"
   },
   {
    "duration": 0,
    "start_time": "2022-09-08T07:47:20.120Z"
   },
   {
    "duration": 0,
    "start_time": "2022-09-08T07:47:20.121Z"
   },
   {
    "duration": 0,
    "start_time": "2022-09-08T07:47:20.122Z"
   },
   {
    "duration": 0,
    "start_time": "2022-09-08T07:47:20.123Z"
   },
   {
    "duration": 0,
    "start_time": "2022-09-08T07:47:20.124Z"
   },
   {
    "duration": 0,
    "start_time": "2022-09-08T07:47:20.125Z"
   },
   {
    "duration": 0,
    "start_time": "2022-09-08T07:47:20.126Z"
   },
   {
    "duration": 0,
    "start_time": "2022-09-08T07:47:20.127Z"
   },
   {
    "duration": 1170,
    "start_time": "2022-09-08T07:47:48.647Z"
   },
   {
    "duration": 29,
    "start_time": "2022-09-08T07:47:49.819Z"
   },
   {
    "duration": 21,
    "start_time": "2022-09-08T07:47:49.850Z"
   },
   {
    "duration": 23,
    "start_time": "2022-09-08T07:47:49.874Z"
   },
   {
    "duration": 4,
    "start_time": "2022-09-08T07:47:49.899Z"
   },
   {
    "duration": 12,
    "start_time": "2022-09-08T07:47:49.905Z"
   },
   {
    "duration": 10,
    "start_time": "2022-09-08T07:47:49.919Z"
   },
   {
    "duration": 5,
    "start_time": "2022-09-08T07:47:49.931Z"
   },
   {
    "duration": 8,
    "start_time": "2022-09-08T07:47:49.937Z"
   },
   {
    "duration": 261,
    "start_time": "2022-09-08T07:47:49.947Z"
   },
   {
    "duration": 4,
    "start_time": "2022-09-08T07:47:50.210Z"
   },
   {
    "duration": 27180,
    "start_time": "2022-09-08T07:47:50.215Z"
   },
   {
    "duration": 4,
    "start_time": "2022-09-08T07:48:17.397Z"
   },
   {
    "duration": 26,
    "start_time": "2022-09-08T07:48:17.403Z"
   },
   {
    "duration": 9,
    "start_time": "2022-09-08T07:48:17.432Z"
   },
   {
    "duration": 0,
    "start_time": "2022-09-08T07:48:17.442Z"
   },
   {
    "duration": 246,
    "start_time": "2022-09-08T07:48:55.041Z"
   },
   {
    "duration": 4,
    "start_time": "2022-09-08T07:48:55.934Z"
   },
   {
    "duration": 1166,
    "start_time": "2022-09-08T07:49:01.432Z"
   },
   {
    "duration": 30,
    "start_time": "2022-09-08T07:49:02.600Z"
   },
   {
    "duration": 12,
    "start_time": "2022-09-08T07:49:02.631Z"
   },
   {
    "duration": 29,
    "start_time": "2022-09-08T07:49:02.645Z"
   },
   {
    "duration": 4,
    "start_time": "2022-09-08T07:49:02.676Z"
   },
   {
    "duration": 11,
    "start_time": "2022-09-08T07:49:02.682Z"
   },
   {
    "duration": 5,
    "start_time": "2022-09-08T07:49:02.695Z"
   },
   {
    "duration": 5,
    "start_time": "2022-09-08T07:49:02.702Z"
   },
   {
    "duration": 11,
    "start_time": "2022-09-08T07:49:02.708Z"
   },
   {
    "duration": 244,
    "start_time": "2022-09-08T07:49:02.722Z"
   },
   {
    "duration": 8,
    "start_time": "2022-09-08T07:49:02.968Z"
   },
   {
    "duration": 26356,
    "start_time": "2022-09-08T07:49:02.977Z"
   },
   {
    "duration": 4,
    "start_time": "2022-09-08T07:49:29.334Z"
   },
   {
    "duration": 39,
    "start_time": "2022-09-08T07:49:29.340Z"
   },
   {
    "duration": 108,
    "start_time": "2022-09-08T07:49:29.380Z"
   },
   {
    "duration": 0,
    "start_time": "2022-09-08T07:49:29.490Z"
   },
   {
    "duration": 0,
    "start_time": "2022-09-08T07:49:29.491Z"
   },
   {
    "duration": 0,
    "start_time": "2022-09-08T07:49:29.492Z"
   },
   {
    "duration": 94,
    "start_time": "2022-09-08T07:57:23.887Z"
   },
   {
    "duration": 4,
    "start_time": "2022-09-08T07:57:25.034Z"
   },
   {
    "duration": 301,
    "start_time": "2022-09-08T07:58:02.846Z"
   },
   {
    "duration": 4,
    "start_time": "2022-09-08T07:58:03.448Z"
   },
   {
    "duration": 1233,
    "start_time": "2022-09-08T07:59:20.852Z"
   },
   {
    "duration": 4,
    "start_time": "2022-09-08T07:59:22.086Z"
   },
   {
    "duration": 309,
    "start_time": "2022-09-08T08:00:01.093Z"
   },
   {
    "duration": 4,
    "start_time": "2022-09-08T08:00:01.568Z"
   },
   {
    "duration": 352,
    "start_time": "2022-09-08T08:00:35.423Z"
   },
   {
    "duration": 3,
    "start_time": "2022-09-08T08:00:35.777Z"
   },
   {
    "duration": 26,
    "start_time": "2022-09-08T08:02:30.056Z"
   },
   {
    "duration": 4,
    "start_time": "2022-09-08T08:05:13.505Z"
   },
   {
    "duration": 1121,
    "start_time": "2022-09-08T08:05:19.247Z"
   },
   {
    "duration": 32,
    "start_time": "2022-09-08T08:05:20.374Z"
   },
   {
    "duration": 14,
    "start_time": "2022-09-08T08:05:20.407Z"
   },
   {
    "duration": 21,
    "start_time": "2022-09-08T08:05:20.423Z"
   },
   {
    "duration": 4,
    "start_time": "2022-09-08T08:05:20.446Z"
   },
   {
    "duration": 28,
    "start_time": "2022-09-08T08:05:20.452Z"
   },
   {
    "duration": 10,
    "start_time": "2022-09-08T08:05:20.482Z"
   },
   {
    "duration": 9,
    "start_time": "2022-09-08T08:05:20.493Z"
   },
   {
    "duration": 9,
    "start_time": "2022-09-08T08:05:20.503Z"
   },
   {
    "duration": 321,
    "start_time": "2022-09-08T08:05:20.515Z"
   },
   {
    "duration": 4,
    "start_time": "2022-09-08T08:05:20.838Z"
   },
   {
    "duration": 34,
    "start_time": "2022-09-08T08:05:20.843Z"
   },
   {
    "duration": 0,
    "start_time": "2022-09-08T08:05:20.879Z"
   },
   {
    "duration": 0,
    "start_time": "2022-09-08T08:05:20.880Z"
   },
   {
    "duration": 0,
    "start_time": "2022-09-08T08:05:20.881Z"
   },
   {
    "duration": 0,
    "start_time": "2022-09-08T08:05:20.882Z"
   },
   {
    "duration": 198,
    "start_time": "2022-09-08T08:05:37.034Z"
   },
   {
    "duration": 196,
    "start_time": "2022-09-08T08:06:13.231Z"
   },
   {
    "duration": 4694,
    "start_time": "2022-09-08T08:06:27.682Z"
   },
   {
    "duration": 9,
    "start_time": "2022-09-08T08:06:32.378Z"
   },
   {
    "duration": 5,
    "start_time": "2022-09-08T08:06:55.393Z"
   },
   {
    "duration": 60,
    "start_time": "2022-09-08T08:10:31.650Z"
   },
   {
    "duration": 321,
    "start_time": "2022-09-08T08:10:46.121Z"
   },
   {
    "duration": 4,
    "start_time": "2022-09-08T08:10:47.891Z"
   },
   {
    "duration": 4745,
    "start_time": "2022-09-08T08:10:59.393Z"
   },
   {
    "duration": 4,
    "start_time": "2022-09-08T08:11:04.140Z"
   },
   {
    "duration": 29,
    "start_time": "2022-09-08T08:11:33.417Z"
   },
   {
    "duration": 9,
    "start_time": "2022-09-08T08:11:34.566Z"
   },
   {
    "duration": 9,
    "start_time": "2022-09-08T08:11:43.608Z"
   },
   {
    "duration": 18,
    "start_time": "2022-09-08T08:11:45.518Z"
   },
   {
    "duration": 9,
    "start_time": "2022-09-08T08:11:45.782Z"
   },
   {
    "duration": 20,
    "start_time": "2022-09-08T08:12:00.068Z"
   },
   {
    "duration": 4,
    "start_time": "2022-09-08T08:12:00.340Z"
   },
   {
    "duration": 19,
    "start_time": "2022-09-08T08:41:08.089Z"
   },
   {
    "duration": 3,
    "start_time": "2022-09-08T08:41:08.370Z"
   },
   {
    "duration": 17,
    "start_time": "2022-09-08T08:41:13.079Z"
   },
   {
    "duration": 3,
    "start_time": "2022-09-08T08:41:13.370Z"
   },
   {
    "duration": 18,
    "start_time": "2022-09-08T08:41:19.029Z"
   },
   {
    "duration": 4,
    "start_time": "2022-09-08T08:41:20.270Z"
   },
   {
    "duration": 22,
    "start_time": "2022-09-08T08:41:25.399Z"
   },
   {
    "duration": 16,
    "start_time": "2022-09-08T08:41:28.784Z"
   },
   {
    "duration": 3,
    "start_time": "2022-09-08T08:41:29.294Z"
   },
   {
    "duration": 19,
    "start_time": "2022-09-08T08:41:34.713Z"
   },
   {
    "duration": 4,
    "start_time": "2022-09-08T08:41:34.899Z"
   },
   {
    "duration": 4718,
    "start_time": "2022-09-08T08:44:24.173Z"
   },
   {
    "duration": 3,
    "start_time": "2022-09-08T08:44:28.893Z"
   },
   {
    "duration": 46,
    "start_time": "2022-09-08T08:44:55.806Z"
   },
   {
    "duration": 9,
    "start_time": "2022-09-08T08:48:53.900Z"
   },
   {
    "duration": 1173,
    "start_time": "2022-09-08T08:49:00.041Z"
   },
   {
    "duration": 40,
    "start_time": "2022-09-08T08:49:01.215Z"
   },
   {
    "duration": 20,
    "start_time": "2022-09-08T08:49:01.261Z"
   },
   {
    "duration": 34,
    "start_time": "2022-09-08T08:49:01.284Z"
   },
   {
    "duration": 7,
    "start_time": "2022-09-08T08:49:01.319Z"
   },
   {
    "duration": 27,
    "start_time": "2022-09-08T08:49:01.328Z"
   },
   {
    "duration": 46,
    "start_time": "2022-09-08T08:49:01.360Z"
   },
   {
    "duration": 26,
    "start_time": "2022-09-08T08:49:01.407Z"
   },
   {
    "duration": 38,
    "start_time": "2022-09-08T08:49:01.436Z"
   },
   {
    "duration": 349,
    "start_time": "2022-09-08T08:49:01.477Z"
   },
   {
    "duration": 4,
    "start_time": "2022-09-08T08:49:01.828Z"
   },
   {
    "duration": 895,
    "start_time": "2022-09-08T08:49:01.833Z"
   },
   {
    "duration": 6003,
    "start_time": "2022-09-08T08:49:02.730Z"
   },
   {
    "duration": 3,
    "start_time": "2022-09-08T08:49:08.735Z"
   },
   {
    "duration": 35,
    "start_time": "2022-09-08T08:49:08.740Z"
   },
   {
    "duration": 4,
    "start_time": "2022-09-08T08:49:08.777Z"
   },
   {
    "duration": 54,
    "start_time": "2022-09-08T08:49:08.782Z"
   },
   {
    "duration": 125,
    "start_time": "2022-09-08T09:11:38.246Z"
   },
   {
    "duration": 322,
    "start_time": "2022-09-08T09:11:54.639Z"
   },
   {
    "duration": 343,
    "start_time": "2022-09-08T09:11:59.987Z"
   },
   {
    "duration": 312,
    "start_time": "2022-09-08T09:12:08.631Z"
   },
   {
    "duration": 1336,
    "start_time": "2022-09-08T09:17:45.678Z"
   },
   {
    "duration": 30,
    "start_time": "2022-09-08T09:17:47.016Z"
   },
   {
    "duration": 14,
    "start_time": "2022-09-08T09:17:47.048Z"
   },
   {
    "duration": 23,
    "start_time": "2022-09-08T09:17:47.065Z"
   },
   {
    "duration": 5,
    "start_time": "2022-09-08T09:17:47.090Z"
   },
   {
    "duration": 7,
    "start_time": "2022-09-08T09:17:47.096Z"
   },
   {
    "duration": 7,
    "start_time": "2022-09-08T09:17:47.105Z"
   },
   {
    "duration": 4,
    "start_time": "2022-09-08T09:17:47.113Z"
   },
   {
    "duration": 6,
    "start_time": "2022-09-08T09:17:47.118Z"
   },
   {
    "duration": 329,
    "start_time": "2022-09-08T09:17:47.125Z"
   },
   {
    "duration": 10,
    "start_time": "2022-09-08T09:17:47.457Z"
   },
   {
    "duration": 304,
    "start_time": "2022-09-08T09:17:47.472Z"
   },
   {
    "duration": 5486,
    "start_time": "2022-09-08T09:17:47.777Z"
   },
   {
    "duration": 4,
    "start_time": "2022-09-08T09:17:53.269Z"
   },
   {
    "duration": 25,
    "start_time": "2022-09-08T09:17:53.275Z"
   },
   {
    "duration": 3,
    "start_time": "2022-09-08T09:17:53.302Z"
   },
   {
    "duration": 57,
    "start_time": "2022-09-08T09:17:53.306Z"
   },
   {
    "duration": 488,
    "start_time": "2022-09-08T09:42:43.493Z"
   },
   {
    "duration": 448,
    "start_time": "2022-09-08T09:42:50.010Z"
   },
   {
    "duration": 156,
    "start_time": "2022-09-08T09:45:40.656Z"
   },
   {
    "duration": 607,
    "start_time": "2022-09-08T09:49:28.095Z"
   },
   {
    "duration": 528,
    "start_time": "2022-09-08T09:49:48.905Z"
   },
   {
    "duration": 499,
    "start_time": "2022-09-08T09:49:57.125Z"
   },
   {
    "duration": 502,
    "start_time": "2022-09-08T09:50:45.435Z"
   },
   {
    "duration": 495,
    "start_time": "2022-09-08T09:50:59.182Z"
   },
   {
    "duration": 531,
    "start_time": "2022-09-08T09:51:24.193Z"
   },
   {
    "duration": 466,
    "start_time": "2022-09-08T09:51:26.914Z"
   },
   {
    "duration": 440,
    "start_time": "2022-09-08T09:52:16.772Z"
   },
   {
    "duration": 17,
    "start_time": "2022-09-08T09:52:44.202Z"
   },
   {
    "duration": 533,
    "start_time": "2022-09-08T09:52:53.548Z"
   },
   {
    "duration": 468,
    "start_time": "2022-09-08T09:56:32.809Z"
   },
   {
    "duration": 498,
    "start_time": "2022-09-08T09:56:39.151Z"
   },
   {
    "duration": 537,
    "start_time": "2022-09-08T09:56:45.484Z"
   },
   {
    "duration": 13,
    "start_time": "2022-09-08T09:57:14.791Z"
   },
   {
    "duration": 486,
    "start_time": "2022-09-08T09:57:18.258Z"
   },
   {
    "duration": 473,
    "start_time": "2022-09-08T10:01:47.738Z"
   },
   {
    "duration": 4393,
    "start_time": "2022-09-08T10:11:14.289Z"
   },
   {
    "duration": 4635,
    "start_time": "2022-09-08T10:11:39.790Z"
   },
   {
    "duration": 4,
    "start_time": "2022-09-08T10:20:19.586Z"
   },
   {
    "duration": 4,
    "start_time": "2022-09-08T10:20:23.106Z"
   },
   {
    "duration": 10,
    "start_time": "2022-09-08T11:57:08.015Z"
   },
   {
    "duration": 4,
    "start_time": "2022-09-08T11:57:11.933Z"
   },
   {
    "duration": 10,
    "start_time": "2022-09-08T11:57:23.778Z"
   },
   {
    "duration": 3,
    "start_time": "2022-09-08T11:57:33.635Z"
   },
   {
    "duration": 8,
    "start_time": "2022-09-08T11:58:28.332Z"
   },
   {
    "duration": 11,
    "start_time": "2022-09-08T11:58:30.363Z"
   },
   {
    "duration": 10,
    "start_time": "2022-09-08T11:58:30.574Z"
   },
   {
    "duration": 10,
    "start_time": "2022-09-08T11:58:32.049Z"
   },
   {
    "duration": 9,
    "start_time": "2022-09-08T11:58:32.454Z"
   },
   {
    "duration": 5,
    "start_time": "2022-09-08T11:58:37.107Z"
   },
   {
    "duration": 4,
    "start_time": "2022-09-08T11:58:37.543Z"
   },
   {
    "duration": 3,
    "start_time": "2022-09-08T11:58:47.254Z"
   },
   {
    "duration": 4,
    "start_time": "2022-09-08T11:59:20.692Z"
   },
   {
    "duration": 60,
    "start_time": "2022-09-08T12:04:04.655Z"
   },
   {
    "duration": 1279,
    "start_time": "2022-09-08T12:04:11.879Z"
   },
   {
    "duration": 0,
    "start_time": "2022-09-08T12:04:13.161Z"
   },
   {
    "duration": 0,
    "start_time": "2022-09-08T12:04:13.162Z"
   },
   {
    "duration": 0,
    "start_time": "2022-09-08T12:04:13.163Z"
   },
   {
    "duration": 0,
    "start_time": "2022-09-08T12:04:13.164Z"
   },
   {
    "duration": 0,
    "start_time": "2022-09-08T12:04:13.166Z"
   },
   {
    "duration": 0,
    "start_time": "2022-09-08T12:04:13.166Z"
   },
   {
    "duration": 0,
    "start_time": "2022-09-08T12:04:13.177Z"
   },
   {
    "duration": 0,
    "start_time": "2022-09-08T12:04:13.178Z"
   },
   {
    "duration": 0,
    "start_time": "2022-09-08T12:04:13.179Z"
   },
   {
    "duration": 0,
    "start_time": "2022-09-08T12:04:13.180Z"
   },
   {
    "duration": 0,
    "start_time": "2022-09-08T12:04:13.182Z"
   },
   {
    "duration": 0,
    "start_time": "2022-09-08T12:04:13.183Z"
   },
   {
    "duration": 0,
    "start_time": "2022-09-08T12:04:13.185Z"
   },
   {
    "duration": 0,
    "start_time": "2022-09-08T12:04:13.186Z"
   },
   {
    "duration": 0,
    "start_time": "2022-09-08T12:04:13.187Z"
   },
   {
    "duration": 0,
    "start_time": "2022-09-08T12:04:13.189Z"
   },
   {
    "duration": 0,
    "start_time": "2022-09-08T12:04:13.191Z"
   },
   {
    "duration": 0,
    "start_time": "2022-09-08T12:04:13.192Z"
   },
   {
    "duration": 0,
    "start_time": "2022-09-08T12:04:13.193Z"
   },
   {
    "duration": 0,
    "start_time": "2022-09-08T12:04:13.195Z"
   },
   {
    "duration": 9,
    "start_time": "2022-09-08T12:05:08.859Z"
   },
   {
    "duration": 256,
    "start_time": "2022-09-08T12:05:14.191Z"
   },
   {
    "duration": 1440,
    "start_time": "2022-09-08T12:05:20.325Z"
   },
   {
    "duration": 30,
    "start_time": "2022-09-08T12:05:21.768Z"
   },
   {
    "duration": 11,
    "start_time": "2022-09-08T12:05:21.800Z"
   },
   {
    "duration": 17,
    "start_time": "2022-09-08T12:05:21.813Z"
   },
   {
    "duration": 3,
    "start_time": "2022-09-08T12:05:21.832Z"
   },
   {
    "duration": 9,
    "start_time": "2022-09-08T12:05:21.836Z"
   },
   {
    "duration": 5,
    "start_time": "2022-09-08T12:05:21.846Z"
   },
   {
    "duration": 6,
    "start_time": "2022-09-08T12:05:21.852Z"
   },
   {
    "duration": 9,
    "start_time": "2022-09-08T12:05:21.859Z"
   },
   {
    "duration": 318,
    "start_time": "2022-09-08T12:05:21.878Z"
   },
   {
    "duration": 4,
    "start_time": "2022-09-08T12:05:22.198Z"
   },
   {
    "duration": 521,
    "start_time": "2022-09-08T12:05:22.203Z"
   },
   {
    "duration": 5405,
    "start_time": "2022-09-08T12:05:22.726Z"
   },
   {
    "duration": 3,
    "start_time": "2022-09-08T12:05:28.133Z"
   },
   {
    "duration": 24,
    "start_time": "2022-09-08T12:05:28.176Z"
   },
   {
    "duration": 41,
    "start_time": "2022-09-08T12:05:28.201Z"
   },
   {
    "duration": 8,
    "start_time": "2022-09-08T12:05:28.244Z"
   },
   {
    "duration": 74,
    "start_time": "2022-09-08T12:05:28.254Z"
   },
   {
    "duration": 5,
    "start_time": "2022-09-08T12:05:28.329Z"
   },
   {
    "duration": 20,
    "start_time": "2022-09-08T12:05:28.335Z"
   },
   {
    "duration": 80,
    "start_time": "2022-09-08T12:05:28.357Z"
   },
   {
    "duration": 54,
    "start_time": "2022-09-08T12:13:29.708Z"
   },
   {
    "duration": 267,
    "start_time": "2022-09-08T12:18:44.435Z"
   },
   {
    "duration": 1411,
    "start_time": "2022-09-08T12:19:03.699Z"
   },
   {
    "duration": 31,
    "start_time": "2022-09-08T12:19:05.114Z"
   },
   {
    "duration": 13,
    "start_time": "2022-09-08T12:19:05.148Z"
   },
   {
    "duration": 28,
    "start_time": "2022-09-08T12:19:05.162Z"
   },
   {
    "duration": 4,
    "start_time": "2022-09-08T12:19:05.192Z"
   },
   {
    "duration": 12,
    "start_time": "2022-09-08T12:19:05.197Z"
   },
   {
    "duration": 5,
    "start_time": "2022-09-08T12:19:05.211Z"
   },
   {
    "duration": 12,
    "start_time": "2022-09-08T12:19:05.217Z"
   },
   {
    "duration": 14,
    "start_time": "2022-09-08T12:19:05.232Z"
   },
   {
    "duration": 401,
    "start_time": "2022-09-08T12:19:05.248Z"
   },
   {
    "duration": 4,
    "start_time": "2022-09-08T12:19:05.651Z"
   },
   {
    "duration": 569,
    "start_time": "2022-09-08T12:19:05.656Z"
   },
   {
    "duration": 4778,
    "start_time": "2022-09-08T12:19:06.227Z"
   },
   {
    "duration": 3,
    "start_time": "2022-09-08T12:19:11.008Z"
   },
   {
    "duration": 12,
    "start_time": "2022-09-08T12:19:11.014Z"
   },
   {
    "duration": 30,
    "start_time": "2022-09-08T12:19:11.028Z"
   },
   {
    "duration": 19,
    "start_time": "2022-09-08T12:19:11.060Z"
   },
   {
    "duration": 59,
    "start_time": "2022-09-08T12:19:11.081Z"
   },
   {
    "duration": 6,
    "start_time": "2022-09-08T12:19:11.142Z"
   },
   {
    "duration": 263,
    "start_time": "2022-09-08T12:19:11.150Z"
   },
   {
    "duration": 136,
    "start_time": "2022-09-08T12:19:46.748Z"
   },
   {
    "duration": 173,
    "start_time": "2022-09-08T12:20:40.213Z"
   },
   {
    "duration": 73,
    "start_time": "2022-09-08T12:20:55.638Z"
   },
   {
    "duration": 5577,
    "start_time": "2022-09-08T12:21:12.628Z"
   },
   {
    "duration": 5629,
    "start_time": "2022-09-08T12:23:22.688Z"
   },
   {
    "duration": 5,
    "start_time": "2022-09-08T12:24:37.891Z"
   },
   {
    "duration": 5863,
    "start_time": "2022-09-08T12:24:38.298Z"
   },
   {
    "duration": 88,
    "start_time": "2022-09-08T13:14:57.933Z"
   },
   {
    "duration": 144,
    "start_time": "2022-09-08T13:15:13.249Z"
   },
   {
    "duration": 1531,
    "start_time": "2022-09-08T13:15:44.999Z"
   },
   {
    "duration": 30,
    "start_time": "2022-09-08T13:15:46.532Z"
   },
   {
    "duration": 12,
    "start_time": "2022-09-08T13:15:46.564Z"
   },
   {
    "duration": 36,
    "start_time": "2022-09-08T13:15:46.578Z"
   },
   {
    "duration": 4,
    "start_time": "2022-09-08T13:15:46.615Z"
   },
   {
    "duration": 9,
    "start_time": "2022-09-08T13:15:46.620Z"
   },
   {
    "duration": 5,
    "start_time": "2022-09-08T13:15:46.631Z"
   },
   {
    "duration": 6,
    "start_time": "2022-09-08T13:15:46.638Z"
   },
   {
    "duration": 6,
    "start_time": "2022-09-08T13:15:46.646Z"
   },
   {
    "duration": 358,
    "start_time": "2022-09-08T13:15:46.654Z"
   },
   {
    "duration": 6,
    "start_time": "2022-09-08T13:15:47.015Z"
   },
   {
    "duration": 620,
    "start_time": "2022-09-08T13:15:47.023Z"
   },
   {
    "duration": 4885,
    "start_time": "2022-09-08T13:15:47.644Z"
   },
   {
    "duration": 4,
    "start_time": "2022-09-08T13:15:52.530Z"
   },
   {
    "duration": 33,
    "start_time": "2022-09-08T13:15:52.536Z"
   },
   {
    "duration": 44,
    "start_time": "2022-09-08T13:15:52.571Z"
   },
   {
    "duration": 27,
    "start_time": "2022-09-08T13:15:52.617Z"
   },
   {
    "duration": 73,
    "start_time": "2022-09-08T13:15:52.645Z"
   },
   {
    "duration": 5,
    "start_time": "2022-09-08T13:15:52.719Z"
   },
   {
    "duration": 7305,
    "start_time": "2022-09-08T13:15:52.725Z"
   },
   {
    "duration": 6102,
    "start_time": "2022-09-08T13:17:44.415Z"
   },
   {
    "duration": 4,
    "start_time": "2022-09-08T13:22:03.597Z"
   },
   {
    "duration": 1387,
    "start_time": "2022-09-08T13:22:12.651Z"
   },
   {
    "duration": 29,
    "start_time": "2022-09-08T13:22:14.040Z"
   },
   {
    "duration": 15,
    "start_time": "2022-09-08T13:22:14.071Z"
   },
   {
    "duration": 23,
    "start_time": "2022-09-08T13:22:14.090Z"
   },
   {
    "duration": 5,
    "start_time": "2022-09-08T13:22:14.115Z"
   },
   {
    "duration": 8,
    "start_time": "2022-09-08T13:22:14.121Z"
   },
   {
    "duration": 5,
    "start_time": "2022-09-08T13:22:14.131Z"
   },
   {
    "duration": 5,
    "start_time": "2022-09-08T13:22:14.138Z"
   },
   {
    "duration": 5,
    "start_time": "2022-09-08T13:22:14.144Z"
   },
   {
    "duration": 760,
    "start_time": "2022-09-08T13:22:14.150Z"
   },
   {
    "duration": 4,
    "start_time": "2022-09-08T13:22:14.912Z"
   },
   {
    "duration": 1587,
    "start_time": "2022-09-08T13:22:14.917Z"
   },
   {
    "duration": 5051,
    "start_time": "2022-09-08T13:22:16.506Z"
   },
   {
    "duration": 4,
    "start_time": "2022-09-08T13:22:21.560Z"
   },
   {
    "duration": 26,
    "start_time": "2022-09-08T13:22:21.566Z"
   },
   {
    "duration": 32,
    "start_time": "2022-09-08T13:22:21.594Z"
   },
   {
    "duration": 5,
    "start_time": "2022-09-08T13:22:21.627Z"
   },
   {
    "duration": 57,
    "start_time": "2022-09-08T13:22:21.634Z"
   },
   {
    "duration": 6,
    "start_time": "2022-09-08T13:22:21.693Z"
   },
   {
    "duration": 6173,
    "start_time": "2022-09-08T13:22:21.701Z"
   },
   {
    "duration": 6247,
    "start_time": "2022-09-08T13:23:41.021Z"
   },
   {
    "duration": 1569,
    "start_time": "2022-09-08T13:30:04.473Z"
   },
   {
    "duration": 32,
    "start_time": "2022-09-08T13:30:06.044Z"
   },
   {
    "duration": 14,
    "start_time": "2022-09-08T13:30:06.079Z"
   },
   {
    "duration": 15,
    "start_time": "2022-09-08T13:30:06.095Z"
   },
   {
    "duration": 4,
    "start_time": "2022-09-08T13:30:06.113Z"
   },
   {
    "duration": 9,
    "start_time": "2022-09-08T13:30:06.119Z"
   },
   {
    "duration": 7,
    "start_time": "2022-09-08T13:30:06.130Z"
   },
   {
    "duration": 5,
    "start_time": "2022-09-08T13:30:06.139Z"
   },
   {
    "duration": 10,
    "start_time": "2022-09-08T13:30:06.181Z"
   },
   {
    "duration": 338,
    "start_time": "2022-09-08T13:30:06.194Z"
   },
   {
    "duration": 4,
    "start_time": "2022-09-08T13:30:06.534Z"
   },
   {
    "duration": 613,
    "start_time": "2022-09-08T13:30:06.539Z"
   },
   {
    "duration": 4809,
    "start_time": "2022-09-08T13:30:07.155Z"
   },
   {
    "duration": 3,
    "start_time": "2022-09-08T13:30:11.966Z"
   },
   {
    "duration": 12,
    "start_time": "2022-09-08T13:30:11.971Z"
   },
   {
    "duration": 30,
    "start_time": "2022-09-08T13:30:11.985Z"
   },
   {
    "duration": 3,
    "start_time": "2022-09-08T13:30:12.017Z"
   },
   {
    "duration": 59,
    "start_time": "2022-09-08T13:30:12.022Z"
   },
   {
    "duration": 9,
    "start_time": "2022-09-08T13:30:12.082Z"
   },
   {
    "duration": 7076,
    "start_time": "2022-09-08T13:30:12.093Z"
   },
   {
    "duration": 124,
    "start_time": "2022-09-08T13:56:09.031Z"
   },
   {
    "duration": 1373,
    "start_time": "2022-09-08T13:56:14.154Z"
   },
   {
    "duration": 33,
    "start_time": "2022-09-08T13:56:15.530Z"
   },
   {
    "duration": 22,
    "start_time": "2022-09-08T13:56:15.566Z"
   },
   {
    "duration": 31,
    "start_time": "2022-09-08T13:56:15.589Z"
   },
   {
    "duration": 17,
    "start_time": "2022-09-08T13:56:15.624Z"
   },
   {
    "duration": 11,
    "start_time": "2022-09-08T13:56:15.643Z"
   },
   {
    "duration": 5,
    "start_time": "2022-09-08T13:56:15.656Z"
   },
   {
    "duration": 10,
    "start_time": "2022-09-08T13:56:15.663Z"
   },
   {
    "duration": 31,
    "start_time": "2022-09-08T13:56:15.675Z"
   },
   {
    "duration": 344,
    "start_time": "2022-09-08T13:56:15.708Z"
   },
   {
    "duration": 4,
    "start_time": "2022-09-08T13:56:16.054Z"
   },
   {
    "duration": 557,
    "start_time": "2022-09-08T13:56:16.059Z"
   },
   {
    "duration": 4854,
    "start_time": "2022-09-08T13:56:16.621Z"
   },
   {
    "duration": 9,
    "start_time": "2022-09-08T13:56:21.480Z"
   },
   {
    "duration": 12,
    "start_time": "2022-09-08T13:56:21.491Z"
   },
   {
    "duration": 23,
    "start_time": "2022-09-08T13:56:21.504Z"
   },
   {
    "duration": 4,
    "start_time": "2022-09-08T13:56:21.529Z"
   },
   {
    "duration": 62,
    "start_time": "2022-09-08T13:56:21.535Z"
   },
   {
    "duration": 6,
    "start_time": "2022-09-08T13:56:21.599Z"
   },
   {
    "duration": 7080,
    "start_time": "2022-09-08T13:56:21.606Z"
   },
   {
    "duration": 120,
    "start_time": "2022-09-08T13:56:28.688Z"
   },
   {
    "duration": 6,
    "start_time": "2022-09-08T13:56:33.719Z"
   },
   {
    "duration": 6,
    "start_time": "2022-09-08T14:00:34.961Z"
   },
   {
    "duration": 1944,
    "start_time": "2022-09-09T03:53:31.100Z"
   },
   {
    "duration": 68,
    "start_time": "2022-09-09T03:53:33.046Z"
   },
   {
    "duration": 14,
    "start_time": "2022-09-09T03:53:33.117Z"
   },
   {
    "duration": 15,
    "start_time": "2022-09-09T03:53:33.133Z"
   },
   {
    "duration": 3,
    "start_time": "2022-09-09T03:53:33.150Z"
   },
   {
    "duration": 9,
    "start_time": "2022-09-09T03:53:33.155Z"
   },
   {
    "duration": 5,
    "start_time": "2022-09-09T03:53:33.166Z"
   },
   {
    "duration": 6,
    "start_time": "2022-09-09T03:53:33.173Z"
   },
   {
    "duration": 6,
    "start_time": "2022-09-09T03:53:33.191Z"
   },
   {
    "duration": 331,
    "start_time": "2022-09-09T03:53:33.200Z"
   },
   {
    "duration": 4,
    "start_time": "2022-09-09T03:53:33.532Z"
   },
   {
    "duration": 545,
    "start_time": "2022-09-09T03:53:33.538Z"
   },
   {
    "duration": 4919,
    "start_time": "2022-09-09T03:53:34.085Z"
   },
   {
    "duration": 4,
    "start_time": "2022-09-09T03:53:39.005Z"
   },
   {
    "duration": 24,
    "start_time": "2022-09-09T03:53:39.010Z"
   },
   {
    "duration": 24,
    "start_time": "2022-09-09T03:53:39.035Z"
   },
   {
    "duration": 4,
    "start_time": "2022-09-09T03:53:39.061Z"
   },
   {
    "duration": 60,
    "start_time": "2022-09-09T03:53:39.066Z"
   },
   {
    "duration": 5,
    "start_time": "2022-09-09T03:53:39.128Z"
   },
   {
    "duration": 6270,
    "start_time": "2022-09-09T03:53:39.135Z"
   },
   {
    "duration": 7,
    "start_time": "2022-09-09T03:53:45.407Z"
   },
   {
    "duration": 1546,
    "start_time": "2022-09-12T14:01:54.991Z"
   },
   {
    "duration": 69,
    "start_time": "2022-09-12T14:01:56.539Z"
   },
   {
    "duration": 11,
    "start_time": "2022-09-12T14:01:56.609Z"
   },
   {
    "duration": 12,
    "start_time": "2022-09-12T14:01:56.623Z"
   },
   {
    "duration": 3,
    "start_time": "2022-09-12T14:01:56.637Z"
   },
   {
    "duration": 9,
    "start_time": "2022-09-12T14:01:56.641Z"
   },
   {
    "duration": 7,
    "start_time": "2022-09-12T14:01:56.651Z"
   },
   {
    "duration": 4,
    "start_time": "2022-09-12T14:01:56.659Z"
   },
   {
    "duration": 5,
    "start_time": "2022-09-12T14:01:56.665Z"
   },
   {
    "duration": 280,
    "start_time": "2022-09-12T14:01:56.672Z"
   },
   {
    "duration": 3,
    "start_time": "2022-09-12T14:01:56.953Z"
   },
   {
    "duration": 497,
    "start_time": "2022-09-12T14:01:56.958Z"
   },
   {
    "duration": 99,
    "start_time": "2022-09-12T14:01:57.457Z"
   },
   {
    "duration": 0,
    "start_time": "2022-09-12T14:01:57.557Z"
   },
   {
    "duration": 0,
    "start_time": "2022-09-12T14:01:57.558Z"
   },
   {
    "duration": 0,
    "start_time": "2022-09-12T14:01:57.559Z"
   },
   {
    "duration": 0,
    "start_time": "2022-09-12T14:01:57.560Z"
   },
   {
    "duration": 0,
    "start_time": "2022-09-12T14:01:57.561Z"
   },
   {
    "duration": 0,
    "start_time": "2022-09-12T14:01:57.562Z"
   },
   {
    "duration": 0,
    "start_time": "2022-09-12T14:01:57.563Z"
   },
   {
    "duration": 0,
    "start_time": "2022-09-12T14:01:57.577Z"
   },
   {
    "duration": 0,
    "start_time": "2022-09-12T14:01:57.578Z"
   },
   {
    "duration": 444,
    "start_time": "2022-09-12T14:15:06.249Z"
   },
   {
    "duration": 641,
    "start_time": "2022-09-12T14:15:46.870Z"
   },
   {
    "duration": 671,
    "start_time": "2022-09-12T14:16:43.908Z"
   },
   {
    "duration": 91,
    "start_time": "2022-09-12T18:57:08.733Z"
   },
   {
    "duration": 51,
    "start_time": "2022-09-12T18:57:17.280Z"
   },
   {
    "duration": 1676,
    "start_time": "2022-09-12T18:57:25.632Z"
   },
   {
    "duration": 117,
    "start_time": "2022-09-12T18:57:27.310Z"
   },
   {
    "duration": 13,
    "start_time": "2022-09-12T18:57:27.428Z"
   },
   {
    "duration": 13,
    "start_time": "2022-09-12T18:57:27.443Z"
   },
   {
    "duration": 8,
    "start_time": "2022-09-12T18:57:27.457Z"
   },
   {
    "duration": 8,
    "start_time": "2022-09-12T18:57:27.467Z"
   },
   {
    "duration": 4,
    "start_time": "2022-09-12T18:57:27.477Z"
   },
   {
    "duration": 6,
    "start_time": "2022-09-12T18:57:27.483Z"
   },
   {
    "duration": 9,
    "start_time": "2022-09-12T18:57:27.491Z"
   },
   {
    "duration": 342,
    "start_time": "2022-09-12T18:57:27.521Z"
   },
   {
    "duration": 5,
    "start_time": "2022-09-12T18:57:27.865Z"
   },
   {
    "duration": 612,
    "start_time": "2022-09-12T18:57:27.871Z"
   },
   {
    "duration": 867,
    "start_time": "2022-09-12T18:57:28.485Z"
   },
   {
    "duration": 5015,
    "start_time": "2022-09-12T18:57:29.354Z"
   },
   {
    "duration": 4,
    "start_time": "2022-09-12T18:57:34.371Z"
   },
   {
    "duration": 8,
    "start_time": "2022-09-12T18:57:34.377Z"
   },
   {
    "duration": 38,
    "start_time": "2022-09-12T18:57:34.387Z"
   },
   {
    "duration": 3,
    "start_time": "2022-09-12T18:57:34.427Z"
   },
   {
    "duration": 54,
    "start_time": "2022-09-12T18:57:34.432Z"
   },
   {
    "duration": 6,
    "start_time": "2022-09-12T18:57:34.487Z"
   },
   {
    "duration": 7485,
    "start_time": "2022-09-12T18:57:34.495Z"
   },
   {
    "duration": 6,
    "start_time": "2022-09-12T18:57:41.982Z"
   },
   {
    "duration": 710,
    "start_time": "2022-09-12T18:58:34.123Z"
   },
   {
    "duration": 572,
    "start_time": "2022-09-12T18:59:10.773Z"
   },
   {
    "duration": 592,
    "start_time": "2022-09-12T18:59:15.205Z"
   },
   {
    "duration": 567,
    "start_time": "2022-09-12T19:01:49.272Z"
   },
   {
    "duration": 560,
    "start_time": "2022-09-12T19:01:53.850Z"
   },
   {
    "duration": 68,
    "start_time": "2022-09-12T19:22:16.924Z"
   },
   {
    "duration": 1522,
    "start_time": "2022-09-12T19:22:22.490Z"
   },
   {
    "duration": 32,
    "start_time": "2022-09-12T19:22:24.014Z"
   },
   {
    "duration": 13,
    "start_time": "2022-09-12T19:22:24.048Z"
   },
   {
    "duration": 15,
    "start_time": "2022-09-12T19:22:24.064Z"
   },
   {
    "duration": 5,
    "start_time": "2022-09-12T19:22:24.080Z"
   },
   {
    "duration": 10,
    "start_time": "2022-09-12T19:22:24.087Z"
   },
   {
    "duration": 8,
    "start_time": "2022-09-12T19:22:24.098Z"
   },
   {
    "duration": 4,
    "start_time": "2022-09-12T19:22:24.120Z"
   },
   {
    "duration": 12,
    "start_time": "2022-09-12T19:22:24.126Z"
   },
   {
    "duration": 351,
    "start_time": "2022-09-12T19:22:24.140Z"
   },
   {
    "duration": 5,
    "start_time": "2022-09-12T19:22:24.492Z"
   },
   {
    "duration": 612,
    "start_time": "2022-09-12T19:22:24.499Z"
   },
   {
    "duration": 772,
    "start_time": "2022-09-12T19:22:25.112Z"
   },
   {
    "duration": 5078,
    "start_time": "2022-09-12T19:22:25.886Z"
   },
   {
    "duration": 5,
    "start_time": "2022-09-12T19:22:30.965Z"
   },
   {
    "duration": 37,
    "start_time": "2022-09-12T19:22:30.971Z"
   },
   {
    "duration": 4,
    "start_time": "2022-09-12T19:22:31.010Z"
   },
   {
    "duration": 52,
    "start_time": "2022-09-12T19:22:31.016Z"
   },
   {
    "duration": 5,
    "start_time": "2022-09-12T19:22:31.070Z"
   },
   {
    "duration": 191,
    "start_time": "2022-09-12T19:22:31.077Z"
   },
   {
    "duration": 0,
    "start_time": "2022-09-12T19:22:31.270Z"
   },
   {
    "duration": 64,
    "start_time": "2022-09-12T19:23:04.025Z"
   },
   {
    "duration": 1523,
    "start_time": "2022-09-12T19:23:09.718Z"
   },
   {
    "duration": 31,
    "start_time": "2022-09-12T19:23:11.243Z"
   },
   {
    "duration": 14,
    "start_time": "2022-09-12T19:23:11.275Z"
   },
   {
    "duration": 16,
    "start_time": "2022-09-12T19:23:11.291Z"
   },
   {
    "duration": 5,
    "start_time": "2022-09-12T19:23:11.309Z"
   },
   {
    "duration": 17,
    "start_time": "2022-09-12T19:23:11.320Z"
   },
   {
    "duration": 5,
    "start_time": "2022-09-12T19:23:11.338Z"
   },
   {
    "duration": 5,
    "start_time": "2022-09-12T19:23:11.345Z"
   },
   {
    "duration": 10,
    "start_time": "2022-09-12T19:23:11.351Z"
   },
   {
    "duration": 371,
    "start_time": "2022-09-12T19:23:11.363Z"
   },
   {
    "duration": 4,
    "start_time": "2022-09-12T19:23:11.736Z"
   },
   {
    "duration": 601,
    "start_time": "2022-09-12T19:23:11.742Z"
   },
   {
    "duration": 772,
    "start_time": "2022-09-12T19:23:12.344Z"
   },
   {
    "duration": 4924,
    "start_time": "2022-09-12T19:23:13.119Z"
   },
   {
    "duration": 4,
    "start_time": "2022-09-12T19:23:18.045Z"
   },
   {
    "duration": 24,
    "start_time": "2022-09-12T19:23:18.050Z"
   },
   {
    "duration": 4,
    "start_time": "2022-09-12T19:23:18.078Z"
   },
   {
    "duration": 74,
    "start_time": "2022-09-12T19:23:18.083Z"
   },
   {
    "duration": 5,
    "start_time": "2022-09-12T19:23:18.159Z"
   },
   {
    "duration": 82,
    "start_time": "2022-09-12T19:23:18.166Z"
   },
   {
    "duration": 7,
    "start_time": "2022-09-12T19:23:18.250Z"
   },
   {
    "duration": 63,
    "start_time": "2022-09-12T19:24:55.736Z"
   },
   {
    "duration": 1746,
    "start_time": "2022-09-12T19:29:40.183Z"
   },
   {
    "duration": 29,
    "start_time": "2022-09-12T19:29:41.931Z"
   },
   {
    "duration": 12,
    "start_time": "2022-09-12T19:29:41.962Z"
   },
   {
    "duration": 64,
    "start_time": "2022-09-12T19:29:41.975Z"
   },
   {
    "duration": 11,
    "start_time": "2022-09-12T19:29:42.041Z"
   },
   {
    "duration": 12,
    "start_time": "2022-09-12T19:29:42.054Z"
   },
   {
    "duration": 5,
    "start_time": "2022-09-12T19:29:42.068Z"
   },
   {
    "duration": 47,
    "start_time": "2022-09-12T19:29:42.075Z"
   },
   {
    "duration": 10,
    "start_time": "2022-09-12T19:29:42.124Z"
   },
   {
    "duration": 690,
    "start_time": "2022-09-12T19:29:42.136Z"
   },
   {
    "duration": 4,
    "start_time": "2022-09-12T19:29:42.828Z"
   },
   {
    "duration": 658,
    "start_time": "2022-09-12T19:29:42.833Z"
   },
   {
    "duration": 952,
    "start_time": "2022-09-12T19:29:43.493Z"
   },
   {
    "duration": 6558,
    "start_time": "2022-09-12T19:29:44.447Z"
   },
   {
    "duration": 4,
    "start_time": "2022-09-12T19:29:51.007Z"
   },
   {
    "duration": 23,
    "start_time": "2022-09-12T19:29:51.020Z"
   },
   {
    "duration": 3,
    "start_time": "2022-09-12T19:29:51.045Z"
   },
   {
    "duration": 53,
    "start_time": "2022-09-12T19:29:51.050Z"
   },
   {
    "duration": 21,
    "start_time": "2022-09-12T19:29:51.105Z"
   },
   {
    "duration": 67,
    "start_time": "2022-09-12T19:29:51.128Z"
   },
   {
    "duration": 6,
    "start_time": "2022-09-12T19:29:51.197Z"
   },
   {
    "duration": 1330,
    "start_time": "2022-09-21T08:02:47.722Z"
   },
   {
    "duration": 113,
    "start_time": "2022-09-21T08:02:49.053Z"
   },
   {
    "duration": 11,
    "start_time": "2022-09-21T08:02:49.168Z"
   },
   {
    "duration": 14,
    "start_time": "2022-09-21T08:02:49.180Z"
   },
   {
    "duration": 3,
    "start_time": "2022-09-21T08:02:49.196Z"
   },
   {
    "duration": 11,
    "start_time": "2022-09-21T08:02:49.201Z"
   },
   {
    "duration": 6,
    "start_time": "2022-09-21T08:02:49.214Z"
   },
   {
    "duration": 12,
    "start_time": "2022-09-21T08:02:49.221Z"
   },
   {
    "duration": 7,
    "start_time": "2022-09-21T08:02:49.234Z"
   },
   {
    "duration": 345,
    "start_time": "2022-09-21T08:02:49.242Z"
   },
   {
    "duration": 4,
    "start_time": "2022-09-21T08:02:49.588Z"
   },
   {
    "duration": 556,
    "start_time": "2022-09-21T08:02:49.593Z"
   },
   {
    "duration": 784,
    "start_time": "2022-09-21T08:02:50.150Z"
   },
   {
    "duration": 7162,
    "start_time": "2022-09-21T08:02:50.936Z"
   },
   {
    "duration": 20,
    "start_time": "2022-09-21T08:02:58.100Z"
   },
   {
    "duration": 29,
    "start_time": "2022-09-21T08:02:58.122Z"
   },
   {
    "duration": 4,
    "start_time": "2022-09-21T08:02:58.153Z"
   },
   {
    "duration": 57,
    "start_time": "2022-09-21T08:02:58.158Z"
   },
   {
    "duration": 3,
    "start_time": "2022-09-21T08:02:58.217Z"
   },
   {
    "duration": 10,
    "start_time": "2022-09-21T08:02:58.222Z"
   },
   {
    "duration": 62,
    "start_time": "2022-09-21T08:02:58.233Z"
   },
   {
    "duration": 25,
    "start_time": "2022-09-21T08:02:58.297Z"
   }
  ],
  "kernelspec": {
   "display_name": "Python 3 (ipykernel)",
   "language": "python",
   "name": "python3"
  },
  "language_info": {
   "codemirror_mode": {
    "name": "ipython",
    "version": 3
   },
   "file_extension": ".py",
   "mimetype": "text/x-python",
   "name": "python",
   "nbconvert_exporter": "python",
   "pygments_lexer": "ipython3",
   "version": "3.9.12"
  },
  "toc": {
   "base_numbering": 1,
   "nav_menu": {},
   "number_sections": true,
   "sideBar": true,
   "skip_h1_title": true,
   "title_cell": "Table of Contents",
   "title_sidebar": "Contents",
   "toc_cell": false,
   "toc_position": {
    "height": "calc(100% - 180px)",
    "left": "10px",
    "top": "150px",
    "width": "361.391px"
   },
   "toc_section_display": true,
   "toc_window_display": true
  }
 },
 "nbformat": 4,
 "nbformat_minor": 2
}
