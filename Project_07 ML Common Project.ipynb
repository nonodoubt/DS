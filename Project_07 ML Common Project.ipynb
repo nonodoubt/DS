{
 "cells": [
  {
   "cell_type": "markdown",
   "metadata": {
    "toc": true
   },
   "source": [
    "<h1>Содержание<span class=\"tocSkip\"></span></h1>\n",
    "<div class=\"toc\"><ul class=\"toc-item\"><li><span><a href=\"#Подготовка-данных\" data-toc-modified-id=\"Подготовка-данных-1\"><span class=\"toc-item-num\">1&nbsp;&nbsp;</span>Подготовка данных</a></span><ul class=\"toc-item\"><li><span><a href=\"#Импорт-библиотек\" data-toc-modified-id=\"Импорт-библиотек-1.1\"><span class=\"toc-item-num\">1.1&nbsp;&nbsp;</span>Импорт библиотек</a></span></li><li><span><a href=\"#Загрузка-и-обзор-датасетов\" data-toc-modified-id=\"Загрузка-и-обзор-датасетов-1.2\"><span class=\"toc-item-num\">1.2&nbsp;&nbsp;</span>Загрузка и обзор датасетов</a></span></li><li><span><a href=\"#Подготовка-данных\" data-toc-modified-id=\"Подготовка-данных-1.3\"><span class=\"toc-item-num\">1.3&nbsp;&nbsp;</span>Подготовка данных</a></span><ul class=\"toc-item\"><li><span><a href=\"#Подготовка-столбцов-датасетов\" data-toc-modified-id=\"Подготовка-столбцов-датасетов-1.3.1\"><span class=\"toc-item-num\">1.3.1&nbsp;&nbsp;</span>Подготовка столбцов датасетов</a></span></li><li><span><a href=\"#Проверим-на-тренеровочной-выборке,-что-эффективность-обогащения-rougher.output.recovery-рассчитана-правильно\" data-toc-modified-id=\"Проверим-на-тренеровочной-выборке,-что-эффективность-обогащения-rougher.output.recovery-рассчитана-правильно-1.3.2\"><span class=\"toc-item-num\">1.3.2&nbsp;&nbsp;</span>Проверим на тренеровочной выборке, что эффективность обогащения <code>rougher.output.recovery</code> рассчитана правильно</a></span></li></ul></li></ul></li><li><span><a href=\"#Анализ-данных\" data-toc-modified-id=\"Анализ-данных-2\"><span class=\"toc-item-num\">2&nbsp;&nbsp;</span>Анализ данных</a></span><ul class=\"toc-item\"><li><span><a href=\"#Посмотрим,-как-меняется-концентрация-металлов-(Au,-Ag,-Pb)-на-различных-этапах-очистки:\" data-toc-modified-id=\"Посмотрим,-как-меняется-концентрация-металлов-(Au,-Ag,-Pb)-на-различных-этапах-очистки:-2.1\"><span class=\"toc-item-num\">2.1&nbsp;&nbsp;</span>Посмотрим, как меняется концентрация металлов (Au, Ag, Pb) на различных этапах очистки:</a></span></li><li><span><a href=\"#Сравним-распределения-размеров-гранул-сырья-на-обучающей-и-тестовой-выборках:\" data-toc-modified-id=\"Сравним-распределения-размеров-гранул-сырья-на-обучающей-и-тестовой-выборках:-2.2\"><span class=\"toc-item-num\">2.2&nbsp;&nbsp;</span>Сравним распределения размеров гранул сырья на обучающей и тестовой выборках:</a></span></li><li><span><a href=\"#Исследуем-суммарную-концентрацию-всех-веществ-на-разных-стадиях:-в-сырье,-в-черновом-и-финальном-концентратах.\" data-toc-modified-id=\"Исследуем-суммарную-концентрацию-всех-веществ-на-разных-стадиях:-в-сырье,-в-черновом-и-финальном-концентратах.-2.3\"><span class=\"toc-item-num\">2.3&nbsp;&nbsp;</span>Исследуем суммарную концентрацию всех веществ на разных стадиях: в сырье, в черновом и финальном концентратах.</a></span></li></ul></li><li><span><a href=\"#Модель\" data-toc-modified-id=\"Модель-3\"><span class=\"toc-item-num\">3&nbsp;&nbsp;</span>Модель</a></span><ul class=\"toc-item\"><li><span><a href=\"#Подготовим-функцию-расчета-метрики-sMAPE-согласно-заданной-клиентом-формуле:\" data-toc-modified-id=\"Подготовим-функцию-расчета-метрики-sMAPE-согласно-заданной-клиентом-формуле:-3.1\"><span class=\"toc-item-num\">3.1&nbsp;&nbsp;</span>Подготовим функцию расчета метрики sMAPE согласно заданной клиентом формуле:</a></span></li><li><span><a href=\"#Подготовим-датасеты-для-работы-ML:\" data-toc-modified-id=\"Подготовим-датасеты-для-работы-ML:-3.2\"><span class=\"toc-item-num\">3.2&nbsp;&nbsp;</span>Подготовим датасеты для работы ML:</a></span></li><li><span><a href=\"#Подготовим-датасеты-для-работы-ML-LinearRegression:\" data-toc-modified-id=\"Подготовим-датасеты-для-работы-ML-LinearRegression:-3.3\"><span class=\"toc-item-num\">3.3&nbsp;&nbsp;</span>Подготовим датасеты для работы ML LinearRegression:</a></span></li><li><span><a href=\"#Тестируем-модель-rf-на-параметре-rougher.output.recovery-для-подбора-параметров-через-GridSearchCV:\" data-toc-modified-id=\"Тестируем-модель-rf-на-параметре-rougher.output.recovery-для-подбора-параметров-через-GridSearchCV:-3.4\"><span class=\"toc-item-num\">3.4&nbsp;&nbsp;</span>Тестируем модель rf на параметре <code>rougher.output.recovery</code> для подбора параметров через GridSearchCV:</a></span></li><li><span><a href=\"#Тестируем-модель-rf-на-параметре-final.output.recovery-для-подбора-параметров-через-GridSearchCV:\" data-toc-modified-id=\"Тестируем-модель-rf-на-параметре-final.output.recovery-для-подбора-параметров-через-GridSearchCV:-3.5\"><span class=\"toc-item-num\">3.5&nbsp;&nbsp;</span>Тестируем модель rf на параметре <code>final.output.recovery</code> для подбора параметров через GridSearchCV:</a></span></li><li><span><a href=\"#Оценим-итоговый-sMAPE-модели-RF:\" data-toc-modified-id=\"Оценим-итоговый-sMAPE-модели-RF:-3.6\"><span class=\"toc-item-num\">3.6&nbsp;&nbsp;</span>Оценим итоговый sMAPE модели RF:</a></span></li><li><span><a href=\"#Тестируем-модель-LinearRegression-для-оценки-sMAPE-параметра-rougher.output.recovery-:\" data-toc-modified-id=\"Тестируем-модель-LinearRegression-для-оценки-sMAPE-параметра-rougher.output.recovery-:-3.7\"><span class=\"toc-item-num\">3.7&nbsp;&nbsp;</span>Тестируем модель LinearRegression для оценки sMAPE параметра <code>rougher.output.recovery</code> :</a></span></li><li><span><a href=\"#Тестируем-модель-LinearRegression-для-оценки-sMAPE-параметра-final.output.recovery-:\" data-toc-modified-id=\"Тестируем-модель-LinearRegression-для-оценки-sMAPE-параметра-final.output.recovery-:-3.8\"><span class=\"toc-item-num\">3.8&nbsp;&nbsp;</span>Тестируем модель LinearRegression для оценки sMAPE параметра <code>final.output.recovery</code> :</a></span></li><li><span><a href=\"#Оценим-итоговый-sMAPE-модели-LR\" data-toc-modified-id=\"Оценим-итоговый-sMAPE-модели-LR-3.9\"><span class=\"toc-item-num\">3.9&nbsp;&nbsp;</span>Оценим итоговый sMAPE модели LR</a></span></li><li><span><a href=\"#Оценим-sMAPE-для-константной-модели-:\" data-toc-modified-id=\"Оценим-sMAPE-для-константной-модели-:-3.10\"><span class=\"toc-item-num\">3.10&nbsp;&nbsp;</span>Оценим sMAPE для константной модели :</a></span></li><li><span><a href=\"#Обучим-модель-RF-с-подобранными-параметрами-на-полной-выборке-и-проверим-на-тестовой:\" data-toc-modified-id=\"Обучим-модель-RF-с-подобранными-параметрами-на-полной-выборке-и-проверим-на-тестовой:-3.11\"><span class=\"toc-item-num\">3.11&nbsp;&nbsp;</span>Обучим модель RF с подобранными параметрами на полной выборке и проверим на тестовой:</a></span></li></ul></li><li><span><a href=\"#Выводы:\" data-toc-modified-id=\"Выводы:-4\"><span class=\"toc-item-num\">4&nbsp;&nbsp;</span>Выводы:</a></span></li></ul></div>"
   ]
  },
  {
   "cell_type": "markdown",
   "metadata": {},
   "source": [
    "# Восстановление золота из руды"
   ]
  },
  {
   "cell_type": "markdown",
   "metadata": {},
   "source": [
    "Подготовим прототип модели машинного обучения для «Цифры». Компания разрабатывает решения для эффективной работы промышленных предприятий.\n",
    "\n",
    "Модель должна предсказать коэффициент восстановления золота из золотосодержащей руды. Датасеты клиента сожержат данные с параметрами добычи и очистки, содержание руды и пр.. \n",
    "\n",
    "Цель задачи: оптимизировать производство добычи золота из руды, чтобы не запускать предприятие с убыточными характеристиками.\n",
    "\n",
    "Этапы:\n",
    "\n",
    "1. Подготовка данных;\n",
    "2. Исследовательский анализ данных;\n",
    "3. Построенин и обучение модели ML\n",
    "\n"
   ]
  },
  {
   "cell_type": "markdown",
   "metadata": {},
   "source": [
    "## Подготовка данных"
   ]
  },
  {
   "cell_type": "markdown",
   "metadata": {},
   "source": [
    "### Импорт библиотек"
   ]
  },
  {
   "cell_type": "code",
   "execution_count": 1,
   "metadata": {},
   "outputs": [],
   "source": [
    "import pandas as pd\n",
    "import numpy as np\n",
    "import random\n",
    "import matplotlib.pyplot as plt\n",
    "\n",
    "from sklearn.model_selection import train_test_split, GridSearchCV, cross_val_score\n",
    "from sklearn.linear_model import LinearRegression\n",
    "from sklearn.ensemble import RandomForestRegressor\n",
    "from sklearn.preprocessing import StandardScaler \n",
    "from sklearn.utils import shuffle\n",
    "from sklearn.metrics import f1_score, roc_auc_score, mean_absolute_error, make_scorer\n",
    "from sklearn.dummy import DummyRegressor\n",
    "from sklearn.feature_selection import mutual_info_regression\n",
    "\n",
    "pd.options.mode.chained_assignment = None"
   ]
  },
  {
   "cell_type": "markdown",
   "metadata": {},
   "source": [
    "### Загрузка и обзор датасетов"
   ]
  },
  {
   "cell_type": "code",
   "execution_count": 2,
   "metadata": {},
   "outputs": [],
   "source": [
    "df_train = pd.read_csv('gold_recovery_train_new.csv')\n",
    "#print(df_train.info(memory_usage='deep'))"
   ]
  },
  {
   "cell_type": "code",
   "execution_count": 3,
   "metadata": {},
   "outputs": [],
   "source": [
    "#display(df_train.head())"
   ]
  },
  {
   "cell_type": "code",
   "execution_count": 4,
   "metadata": {},
   "outputs": [],
   "source": [
    "df_test = pd.read_csv('gold_recovery_test_new.csv')\n",
    "#print(df_test.info(memory_usage='deep'))"
   ]
  },
  {
   "cell_type": "code",
   "execution_count": 5,
   "metadata": {},
   "outputs": [],
   "source": [
    "#display(df_test.head())"
   ]
  },
  {
   "cell_type": "code",
   "execution_count": 6,
   "metadata": {},
   "outputs": [],
   "source": [
    "df_full = pd.read_csv('gold_recovery_full_new.csv')\n",
    "#print(df_full.info(memory_usage='deep'))"
   ]
  },
  {
   "cell_type": "code",
   "execution_count": 7,
   "metadata": {},
   "outputs": [],
   "source": [
    "#display(df_full.head())"
   ]
  },
  {
   "cell_type": "code",
   "execution_count": 8,
   "metadata": {},
   "outputs": [
    {
     "data": {
      "text/plain": [
       "date                                            0\n",
       "final.output.concentrate_ag                     1\n",
       "final.output.concentrate_pb                     1\n",
       "final.output.concentrate_sol                  211\n",
       "final.output.concentrate_au                     0\n",
       "                                             ... \n",
       "secondary_cleaner.state.floatbank5_a_level      1\n",
       "secondary_cleaner.state.floatbank5_b_air        1\n",
       "secondary_cleaner.state.floatbank5_b_level      1\n",
       "secondary_cleaner.state.floatbank6_a_air        2\n",
       "secondary_cleaner.state.floatbank6_a_level      1\n",
       "Length: 87, dtype: int64"
      ]
     },
     "execution_count": 8,
     "metadata": {},
     "output_type": "execute_result"
    }
   ],
   "source": [
    "df_train.isna().sum()"
   ]
  },
  {
   "cell_type": "code",
   "execution_count": 9,
   "metadata": {
    "scrolled": true
   },
   "outputs": [
    {
     "data": {
      "text/plain": [
       "date                                           0\n",
       "primary_cleaner.input.sulfate                  4\n",
       "primary_cleaner.input.depressant               5\n",
       "primary_cleaner.input.feed_size                0\n",
       "primary_cleaner.input.xanthate                 4\n",
       "primary_cleaner.state.floatbank8_a_air         0\n",
       "primary_cleaner.state.floatbank8_a_level       0\n",
       "primary_cleaner.state.floatbank8_b_air         0\n",
       "primary_cleaner.state.floatbank8_b_level       0\n",
       "primary_cleaner.state.floatbank8_c_air         0\n",
       "primary_cleaner.state.floatbank8_c_level       0\n",
       "primary_cleaner.state.floatbank8_d_air         0\n",
       "primary_cleaner.state.floatbank8_d_level       0\n",
       "rougher.input.feed_ag                          0\n",
       "rougher.input.feed_pb                          0\n",
       "rougher.input.feed_rate                        3\n",
       "rougher.input.feed_size                        1\n",
       "rougher.input.feed_sol                        21\n",
       "rougher.input.feed_au                          0\n",
       "rougher.input.floatbank10_sulfate              5\n",
       "rougher.input.floatbank10_xanthate             0\n",
       "rougher.input.floatbank11_sulfate              8\n",
       "rougher.input.floatbank11_xanthate            25\n",
       "rougher.state.floatbank10_a_air                0\n",
       "rougher.state.floatbank10_a_level              0\n",
       "rougher.state.floatbank10_b_air                0\n",
       "rougher.state.floatbank10_b_level              0\n",
       "rougher.state.floatbank10_c_air                0\n",
       "rougher.state.floatbank10_c_level              0\n",
       "rougher.state.floatbank10_d_air                0\n",
       "rougher.state.floatbank10_d_level              0\n",
       "rougher.state.floatbank10_e_air                0\n",
       "rougher.state.floatbank10_e_level              0\n",
       "rougher.state.floatbank10_f_air                0\n",
       "rougher.state.floatbank10_f_level              0\n",
       "secondary_cleaner.state.floatbank2_a_air       3\n",
       "secondary_cleaner.state.floatbank2_a_level     0\n",
       "secondary_cleaner.state.floatbank2_b_air       2\n",
       "secondary_cleaner.state.floatbank2_b_level     0\n",
       "secondary_cleaner.state.floatbank3_a_air       9\n",
       "secondary_cleaner.state.floatbank3_a_level     0\n",
       "secondary_cleaner.state.floatbank3_b_air       0\n",
       "secondary_cleaner.state.floatbank3_b_level     0\n",
       "secondary_cleaner.state.floatbank4_a_air       0\n",
       "secondary_cleaner.state.floatbank4_a_level     0\n",
       "secondary_cleaner.state.floatbank4_b_air       0\n",
       "secondary_cleaner.state.floatbank4_b_level     0\n",
       "secondary_cleaner.state.floatbank5_a_air       0\n",
       "secondary_cleaner.state.floatbank5_a_level     0\n",
       "secondary_cleaner.state.floatbank5_b_air       0\n",
       "secondary_cleaner.state.floatbank5_b_level     0\n",
       "secondary_cleaner.state.floatbank6_a_air       0\n",
       "secondary_cleaner.state.floatbank6_a_level     0\n",
       "dtype: int64"
      ]
     },
     "execution_count": 9,
     "metadata": {},
     "output_type": "execute_result"
    }
   ],
   "source": [
    "df_test.isna().sum()"
   ]
  },
  {
   "cell_type": "code",
   "execution_count": 10,
   "metadata": {
    "scrolled": true
   },
   "outputs": [
    {
     "data": {
      "text/plain": [
       "date                                            0\n",
       "final.output.concentrate_ag                     1\n",
       "final.output.concentrate_pb                     1\n",
       "final.output.concentrate_sol                  211\n",
       "final.output.concentrate_au                     0\n",
       "                                             ... \n",
       "secondary_cleaner.state.floatbank5_a_level      1\n",
       "secondary_cleaner.state.floatbank5_b_air        1\n",
       "secondary_cleaner.state.floatbank5_b_level      1\n",
       "secondary_cleaner.state.floatbank6_a_air        2\n",
       "secondary_cleaner.state.floatbank6_a_level      1\n",
       "Length: 87, dtype: int64"
      ]
     },
     "execution_count": 10,
     "metadata": {},
     "output_type": "execute_result"
    }
   ],
   "source": [
    "df_full.isna().sum()"
   ]
  },
  {
   "cell_type": "code",
   "execution_count": 11,
   "metadata": {},
   "outputs": [
    {
     "name": "stdout",
     "output_type": "stream",
     "text": [
      "final.output.recovery      0\n",
      "rougher.output.recovery    0\n",
      "dtype: int64\n",
      "final.output.recovery      0\n",
      "rougher.output.recovery    0\n",
      "dtype: int64\n"
     ]
    }
   ],
   "source": [
    "print(df_train[['final.output.recovery', 'rougher.output.recovery']].isna().sum())\n",
    "print(df_full[['final.output.recovery', 'rougher.output.recovery']].isna().sum())\n",
    "df_full = df_full.dropna()"
   ]
  },
  {
   "cell_type": "code",
   "execution_count": 12,
   "metadata": {
    "scrolled": true
   },
   "outputs": [
    {
     "data": {
      "text/plain": [
       "False"
      ]
     },
     "execution_count": 12,
     "metadata": {},
     "output_type": "execute_result"
    }
   ],
   "source": [
    "len(df_full) == len(df_test) + len(df_train)"
   ]
  },
  {
   "cell_type": "code",
   "execution_count": 13,
   "metadata": {},
   "outputs": [
    {
     "name": "stdout",
     "output_type": "stream",
     "text": [
      "Доля тренеровочного датасета в полном: 0.8791475083882192\n",
      "Доля тестового датасета в полном: 0.328693923201193\n"
     ]
    }
   ],
   "source": [
    "print('Доля тренеровочного датасета в полном:', len(df_train) / len(df_full))\n",
    "print('Доля тестового датасета в полном:', len(df_test) / len(df_full))"
   ]
  },
  {
   "cell_type": "code",
   "execution_count": 14,
   "metadata": {},
   "outputs": [
    {
     "data": {
      "text/plain": [
       "0"
      ]
     },
     "execution_count": 14,
     "metadata": {},
     "output_type": "execute_result"
    }
   ],
   "source": [
    "df_train.duplicated().sum()"
   ]
  },
  {
   "cell_type": "code",
   "execution_count": 15,
   "metadata": {},
   "outputs": [
    {
     "data": {
      "text/plain": [
       "0"
      ]
     },
     "execution_count": 15,
     "metadata": {},
     "output_type": "execute_result"
    }
   ],
   "source": [
    "df_test.duplicated().sum()"
   ]
  },
  {
   "cell_type": "code",
   "execution_count": 16,
   "metadata": {},
   "outputs": [
    {
     "data": {
      "text/plain": [
       "0"
      ]
     },
     "execution_count": 16,
     "metadata": {},
     "output_type": "execute_result"
    }
   ],
   "source": [
    "df_full.duplicated().sum()"
   ]
  },
  {
   "cell_type": "markdown",
   "metadata": {},
   "source": [
    "Проверим датасеты на разброс значений:"
   ]
  },
  {
   "cell_type": "code",
   "execution_count": 17,
   "metadata": {},
   "outputs": [
    {
     "data": {
      "text/html": [
       "<style type=\"text/css\">\n",
       "</style>\n",
       "<table id=\"T_43f5e\">\n",
       "  <thead>\n",
       "    <tr>\n",
       "      <th class=\"blank level0\" >&nbsp;</th>\n",
       "      <th id=\"T_43f5e_level0_col0\" class=\"col_heading level0 col0\" >final.output.concentrate_ag</th>\n",
       "      <th id=\"T_43f5e_level0_col1\" class=\"col_heading level0 col1\" >final.output.concentrate_pb</th>\n",
       "      <th id=\"T_43f5e_level0_col2\" class=\"col_heading level0 col2\" >final.output.concentrate_sol</th>\n",
       "      <th id=\"T_43f5e_level0_col3\" class=\"col_heading level0 col3\" >final.output.concentrate_au</th>\n",
       "      <th id=\"T_43f5e_level0_col4\" class=\"col_heading level0 col4\" >final.output.recovery</th>\n",
       "      <th id=\"T_43f5e_level0_col5\" class=\"col_heading level0 col5\" >final.output.tail_ag</th>\n",
       "      <th id=\"T_43f5e_level0_col6\" class=\"col_heading level0 col6\" >final.output.tail_pb</th>\n",
       "      <th id=\"T_43f5e_level0_col7\" class=\"col_heading level0 col7\" >final.output.tail_sol</th>\n",
       "      <th id=\"T_43f5e_level0_col8\" class=\"col_heading level0 col8\" >final.output.tail_au</th>\n",
       "      <th id=\"T_43f5e_level0_col9\" class=\"col_heading level0 col9\" >primary_cleaner.input.sulfate</th>\n",
       "      <th id=\"T_43f5e_level0_col10\" class=\"col_heading level0 col10\" >primary_cleaner.input.depressant</th>\n",
       "      <th id=\"T_43f5e_level0_col11\" class=\"col_heading level0 col11\" >primary_cleaner.input.feed_size</th>\n",
       "      <th id=\"T_43f5e_level0_col12\" class=\"col_heading level0 col12\" >primary_cleaner.input.xanthate</th>\n",
       "      <th id=\"T_43f5e_level0_col13\" class=\"col_heading level0 col13\" >primary_cleaner.output.concentrate_ag</th>\n",
       "      <th id=\"T_43f5e_level0_col14\" class=\"col_heading level0 col14\" >primary_cleaner.output.concentrate_pb</th>\n",
       "      <th id=\"T_43f5e_level0_col15\" class=\"col_heading level0 col15\" >primary_cleaner.output.concentrate_sol</th>\n",
       "      <th id=\"T_43f5e_level0_col16\" class=\"col_heading level0 col16\" >primary_cleaner.output.concentrate_au</th>\n",
       "      <th id=\"T_43f5e_level0_col17\" class=\"col_heading level0 col17\" >primary_cleaner.output.tail_ag</th>\n",
       "      <th id=\"T_43f5e_level0_col18\" class=\"col_heading level0 col18\" >primary_cleaner.output.tail_pb</th>\n",
       "      <th id=\"T_43f5e_level0_col19\" class=\"col_heading level0 col19\" >primary_cleaner.output.tail_sol</th>\n",
       "      <th id=\"T_43f5e_level0_col20\" class=\"col_heading level0 col20\" >primary_cleaner.output.tail_au</th>\n",
       "      <th id=\"T_43f5e_level0_col21\" class=\"col_heading level0 col21\" >primary_cleaner.state.floatbank8_a_air</th>\n",
       "      <th id=\"T_43f5e_level0_col22\" class=\"col_heading level0 col22\" >primary_cleaner.state.floatbank8_a_level</th>\n",
       "      <th id=\"T_43f5e_level0_col23\" class=\"col_heading level0 col23\" >primary_cleaner.state.floatbank8_b_air</th>\n",
       "      <th id=\"T_43f5e_level0_col24\" class=\"col_heading level0 col24\" >primary_cleaner.state.floatbank8_b_level</th>\n",
       "      <th id=\"T_43f5e_level0_col25\" class=\"col_heading level0 col25\" >primary_cleaner.state.floatbank8_c_air</th>\n",
       "      <th id=\"T_43f5e_level0_col26\" class=\"col_heading level0 col26\" >primary_cleaner.state.floatbank8_c_level</th>\n",
       "      <th id=\"T_43f5e_level0_col27\" class=\"col_heading level0 col27\" >primary_cleaner.state.floatbank8_d_air</th>\n",
       "      <th id=\"T_43f5e_level0_col28\" class=\"col_heading level0 col28\" >primary_cleaner.state.floatbank8_d_level</th>\n",
       "      <th id=\"T_43f5e_level0_col29\" class=\"col_heading level0 col29\" >rougher.calculation.sulfate_to_au_concentrate</th>\n",
       "      <th id=\"T_43f5e_level0_col30\" class=\"col_heading level0 col30\" >rougher.calculation.floatbank10_sulfate_to_au_feed</th>\n",
       "      <th id=\"T_43f5e_level0_col31\" class=\"col_heading level0 col31\" >rougher.calculation.floatbank11_sulfate_to_au_feed</th>\n",
       "      <th id=\"T_43f5e_level0_col32\" class=\"col_heading level0 col32\" >rougher.calculation.au_pb_ratio</th>\n",
       "      <th id=\"T_43f5e_level0_col33\" class=\"col_heading level0 col33\" >rougher.input.feed_ag</th>\n",
       "      <th id=\"T_43f5e_level0_col34\" class=\"col_heading level0 col34\" >rougher.input.feed_pb</th>\n",
       "      <th id=\"T_43f5e_level0_col35\" class=\"col_heading level0 col35\" >rougher.input.feed_rate</th>\n",
       "      <th id=\"T_43f5e_level0_col36\" class=\"col_heading level0 col36\" >rougher.input.feed_size</th>\n",
       "      <th id=\"T_43f5e_level0_col37\" class=\"col_heading level0 col37\" >rougher.input.feed_sol</th>\n",
       "      <th id=\"T_43f5e_level0_col38\" class=\"col_heading level0 col38\" >rougher.input.feed_au</th>\n",
       "      <th id=\"T_43f5e_level0_col39\" class=\"col_heading level0 col39\" >rougher.input.floatbank10_sulfate</th>\n",
       "      <th id=\"T_43f5e_level0_col40\" class=\"col_heading level0 col40\" >rougher.input.floatbank10_xanthate</th>\n",
       "      <th id=\"T_43f5e_level0_col41\" class=\"col_heading level0 col41\" >rougher.input.floatbank11_sulfate</th>\n",
       "      <th id=\"T_43f5e_level0_col42\" class=\"col_heading level0 col42\" >rougher.input.floatbank11_xanthate</th>\n",
       "      <th id=\"T_43f5e_level0_col43\" class=\"col_heading level0 col43\" >rougher.output.concentrate_ag</th>\n",
       "      <th id=\"T_43f5e_level0_col44\" class=\"col_heading level0 col44\" >rougher.output.concentrate_pb</th>\n",
       "      <th id=\"T_43f5e_level0_col45\" class=\"col_heading level0 col45\" >rougher.output.concentrate_sol</th>\n",
       "      <th id=\"T_43f5e_level0_col46\" class=\"col_heading level0 col46\" >rougher.output.concentrate_au</th>\n",
       "      <th id=\"T_43f5e_level0_col47\" class=\"col_heading level0 col47\" >rougher.output.recovery</th>\n",
       "      <th id=\"T_43f5e_level0_col48\" class=\"col_heading level0 col48\" >rougher.output.tail_ag</th>\n",
       "      <th id=\"T_43f5e_level0_col49\" class=\"col_heading level0 col49\" >rougher.output.tail_pb</th>\n",
       "      <th id=\"T_43f5e_level0_col50\" class=\"col_heading level0 col50\" >rougher.output.tail_sol</th>\n",
       "      <th id=\"T_43f5e_level0_col51\" class=\"col_heading level0 col51\" >rougher.output.tail_au</th>\n",
       "      <th id=\"T_43f5e_level0_col52\" class=\"col_heading level0 col52\" >rougher.state.floatbank10_a_air</th>\n",
       "      <th id=\"T_43f5e_level0_col53\" class=\"col_heading level0 col53\" >rougher.state.floatbank10_a_level</th>\n",
       "      <th id=\"T_43f5e_level0_col54\" class=\"col_heading level0 col54\" >rougher.state.floatbank10_b_air</th>\n",
       "      <th id=\"T_43f5e_level0_col55\" class=\"col_heading level0 col55\" >rougher.state.floatbank10_b_level</th>\n",
       "      <th id=\"T_43f5e_level0_col56\" class=\"col_heading level0 col56\" >rougher.state.floatbank10_c_air</th>\n",
       "      <th id=\"T_43f5e_level0_col57\" class=\"col_heading level0 col57\" >rougher.state.floatbank10_c_level</th>\n",
       "      <th id=\"T_43f5e_level0_col58\" class=\"col_heading level0 col58\" >rougher.state.floatbank10_d_air</th>\n",
       "      <th id=\"T_43f5e_level0_col59\" class=\"col_heading level0 col59\" >rougher.state.floatbank10_d_level</th>\n",
       "      <th id=\"T_43f5e_level0_col60\" class=\"col_heading level0 col60\" >rougher.state.floatbank10_e_air</th>\n",
       "      <th id=\"T_43f5e_level0_col61\" class=\"col_heading level0 col61\" >rougher.state.floatbank10_e_level</th>\n",
       "      <th id=\"T_43f5e_level0_col62\" class=\"col_heading level0 col62\" >rougher.state.floatbank10_f_air</th>\n",
       "      <th id=\"T_43f5e_level0_col63\" class=\"col_heading level0 col63\" >rougher.state.floatbank10_f_level</th>\n",
       "      <th id=\"T_43f5e_level0_col64\" class=\"col_heading level0 col64\" >secondary_cleaner.output.tail_ag</th>\n",
       "      <th id=\"T_43f5e_level0_col65\" class=\"col_heading level0 col65\" >secondary_cleaner.output.tail_pb</th>\n",
       "      <th id=\"T_43f5e_level0_col66\" class=\"col_heading level0 col66\" >secondary_cleaner.output.tail_sol</th>\n",
       "      <th id=\"T_43f5e_level0_col67\" class=\"col_heading level0 col67\" >secondary_cleaner.output.tail_au</th>\n",
       "      <th id=\"T_43f5e_level0_col68\" class=\"col_heading level0 col68\" >secondary_cleaner.state.floatbank2_a_air</th>\n",
       "      <th id=\"T_43f5e_level0_col69\" class=\"col_heading level0 col69\" >secondary_cleaner.state.floatbank2_a_level</th>\n",
       "      <th id=\"T_43f5e_level0_col70\" class=\"col_heading level0 col70\" >secondary_cleaner.state.floatbank2_b_air</th>\n",
       "      <th id=\"T_43f5e_level0_col71\" class=\"col_heading level0 col71\" >secondary_cleaner.state.floatbank2_b_level</th>\n",
       "      <th id=\"T_43f5e_level0_col72\" class=\"col_heading level0 col72\" >secondary_cleaner.state.floatbank3_a_air</th>\n",
       "      <th id=\"T_43f5e_level0_col73\" class=\"col_heading level0 col73\" >secondary_cleaner.state.floatbank3_a_level</th>\n",
       "      <th id=\"T_43f5e_level0_col74\" class=\"col_heading level0 col74\" >secondary_cleaner.state.floatbank3_b_air</th>\n",
       "      <th id=\"T_43f5e_level0_col75\" class=\"col_heading level0 col75\" >secondary_cleaner.state.floatbank3_b_level</th>\n",
       "      <th id=\"T_43f5e_level0_col76\" class=\"col_heading level0 col76\" >secondary_cleaner.state.floatbank4_a_air</th>\n",
       "      <th id=\"T_43f5e_level0_col77\" class=\"col_heading level0 col77\" >secondary_cleaner.state.floatbank4_a_level</th>\n",
       "      <th id=\"T_43f5e_level0_col78\" class=\"col_heading level0 col78\" >secondary_cleaner.state.floatbank4_b_air</th>\n",
       "      <th id=\"T_43f5e_level0_col79\" class=\"col_heading level0 col79\" >secondary_cleaner.state.floatbank4_b_level</th>\n",
       "      <th id=\"T_43f5e_level0_col80\" class=\"col_heading level0 col80\" >secondary_cleaner.state.floatbank5_a_air</th>\n",
       "      <th id=\"T_43f5e_level0_col81\" class=\"col_heading level0 col81\" >secondary_cleaner.state.floatbank5_a_level</th>\n",
       "      <th id=\"T_43f5e_level0_col82\" class=\"col_heading level0 col82\" >secondary_cleaner.state.floatbank5_b_air</th>\n",
       "      <th id=\"T_43f5e_level0_col83\" class=\"col_heading level0 col83\" >secondary_cleaner.state.floatbank5_b_level</th>\n",
       "      <th id=\"T_43f5e_level0_col84\" class=\"col_heading level0 col84\" >secondary_cleaner.state.floatbank6_a_air</th>\n",
       "      <th id=\"T_43f5e_level0_col85\" class=\"col_heading level0 col85\" >secondary_cleaner.state.floatbank6_a_level</th>\n",
       "    </tr>\n",
       "  </thead>\n",
       "  <tbody>\n",
       "    <tr>\n",
       "      <th id=\"T_43f5e_level0_row0\" class=\"row_heading level0 row0\" >count</th>\n",
       "      <td id=\"T_43f5e_row0_col0\" class=\"data row0 col0\" >14,148.00</td>\n",
       "      <td id=\"T_43f5e_row0_col1\" class=\"data row0 col1\" >14,148.00</td>\n",
       "      <td id=\"T_43f5e_row0_col2\" class=\"data row0 col2\" >13,938.00</td>\n",
       "      <td id=\"T_43f5e_row0_col3\" class=\"data row0 col3\" >14,149.00</td>\n",
       "      <td id=\"T_43f5e_row0_col4\" class=\"data row0 col4\" >14,149.00</td>\n",
       "      <td id=\"T_43f5e_row0_col5\" class=\"data row0 col5\" >14,149.00</td>\n",
       "      <td id=\"T_43f5e_row0_col6\" class=\"data row0 col6\" >14,049.00</td>\n",
       "      <td id=\"T_43f5e_row0_col7\" class=\"data row0 col7\" >14,144.00</td>\n",
       "      <td id=\"T_43f5e_row0_col8\" class=\"data row0 col8\" >14,149.00</td>\n",
       "      <td id=\"T_43f5e_row0_col9\" class=\"data row0 col9\" >14,129.00</td>\n",
       "      <td id=\"T_43f5e_row0_col10\" class=\"data row0 col10\" >14,117.00</td>\n",
       "      <td id=\"T_43f5e_row0_col11\" class=\"data row0 col11\" >14,149.00</td>\n",
       "      <td id=\"T_43f5e_row0_col12\" class=\"data row0 col12\" >14,049.00</td>\n",
       "      <td id=\"T_43f5e_row0_col13\" class=\"data row0 col13\" >14,149.00</td>\n",
       "      <td id=\"T_43f5e_row0_col14\" class=\"data row0 col14\" >14,063.00</td>\n",
       "      <td id=\"T_43f5e_row0_col15\" class=\"data row0 col15\" >13,863.00</td>\n",
       "      <td id=\"T_43f5e_row0_col16\" class=\"data row0 col16\" >14,149.00</td>\n",
       "      <td id=\"T_43f5e_row0_col17\" class=\"data row0 col17\" >14,148.00</td>\n",
       "      <td id=\"T_43f5e_row0_col18\" class=\"data row0 col18\" >14,134.00</td>\n",
       "      <td id=\"T_43f5e_row0_col19\" class=\"data row0 col19\" >14,103.00</td>\n",
       "      <td id=\"T_43f5e_row0_col20\" class=\"data row0 col20\" >14,149.00</td>\n",
       "      <td id=\"T_43f5e_row0_col21\" class=\"data row0 col21\" >14,145.00</td>\n",
       "      <td id=\"T_43f5e_row0_col22\" class=\"data row0 col22\" >14,148.00</td>\n",
       "      <td id=\"T_43f5e_row0_col23\" class=\"data row0 col23\" >14,145.00</td>\n",
       "      <td id=\"T_43f5e_row0_col24\" class=\"data row0 col24\" >14,148.00</td>\n",
       "      <td id=\"T_43f5e_row0_col25\" class=\"data row0 col25\" >14,147.00</td>\n",
       "      <td id=\"T_43f5e_row0_col26\" class=\"data row0 col26\" >14,148.00</td>\n",
       "      <td id=\"T_43f5e_row0_col27\" class=\"data row0 col27\" >14,146.00</td>\n",
       "      <td id=\"T_43f5e_row0_col28\" class=\"data row0 col28\" >14,148.00</td>\n",
       "      <td id=\"T_43f5e_row0_col29\" class=\"data row0 col29\" >14,148.00</td>\n",
       "      <td id=\"T_43f5e_row0_col30\" class=\"data row0 col30\" >14,148.00</td>\n",
       "      <td id=\"T_43f5e_row0_col31\" class=\"data row0 col31\" >14,148.00</td>\n",
       "      <td id=\"T_43f5e_row0_col32\" class=\"data row0 col32\" >14,149.00</td>\n",
       "      <td id=\"T_43f5e_row0_col33\" class=\"data row0 col33\" >14,149.00</td>\n",
       "      <td id=\"T_43f5e_row0_col34\" class=\"data row0 col34\" >14,049.00</td>\n",
       "      <td id=\"T_43f5e_row0_col35\" class=\"data row0 col35\" >14,141.00</td>\n",
       "      <td id=\"T_43f5e_row0_col36\" class=\"data row0 col36\" >14,005.00</td>\n",
       "      <td id=\"T_43f5e_row0_col37\" class=\"data row0 col37\" >14,071.00</td>\n",
       "      <td id=\"T_43f5e_row0_col38\" class=\"data row0 col38\" >14,149.00</td>\n",
       "      <td id=\"T_43f5e_row0_col39\" class=\"data row0 col39\" >14,120.00</td>\n",
       "      <td id=\"T_43f5e_row0_col40\" class=\"data row0 col40\" >14,141.00</td>\n",
       "      <td id=\"T_43f5e_row0_col41\" class=\"data row0 col41\" >14,113.00</td>\n",
       "      <td id=\"T_43f5e_row0_col42\" class=\"data row0 col42\" >13,721.00</td>\n",
       "      <td id=\"T_43f5e_row0_col43\" class=\"data row0 col43\" >14,149.00</td>\n",
       "      <td id=\"T_43f5e_row0_col44\" class=\"data row0 col44\" >14,149.00</td>\n",
       "      <td id=\"T_43f5e_row0_col45\" class=\"data row0 col45\" >14,127.00</td>\n",
       "      <td id=\"T_43f5e_row0_col46\" class=\"data row0 col46\" >14,149.00</td>\n",
       "      <td id=\"T_43f5e_row0_col47\" class=\"data row0 col47\" >14,149.00</td>\n",
       "      <td id=\"T_43f5e_row0_col48\" class=\"data row0 col48\" >14,148.00</td>\n",
       "      <td id=\"T_43f5e_row0_col49\" class=\"data row0 col49\" >14,149.00</td>\n",
       "      <td id=\"T_43f5e_row0_col50\" class=\"data row0 col50\" >14,149.00</td>\n",
       "      <td id=\"T_43f5e_row0_col51\" class=\"data row0 col51\" >14,149.00</td>\n",
       "      <td id=\"T_43f5e_row0_col52\" class=\"data row0 col52\" >14,148.00</td>\n",
       "      <td id=\"T_43f5e_row0_col53\" class=\"data row0 col53\" >14,148.00</td>\n",
       "      <td id=\"T_43f5e_row0_col54\" class=\"data row0 col54\" >14,148.00</td>\n",
       "      <td id=\"T_43f5e_row0_col55\" class=\"data row0 col55\" >14,148.00</td>\n",
       "      <td id=\"T_43f5e_row0_col56\" class=\"data row0 col56\" >14,148.00</td>\n",
       "      <td id=\"T_43f5e_row0_col57\" class=\"data row0 col57\" >14,148.00</td>\n",
       "      <td id=\"T_43f5e_row0_col58\" class=\"data row0 col58\" >14,149.00</td>\n",
       "      <td id=\"T_43f5e_row0_col59\" class=\"data row0 col59\" >14,149.00</td>\n",
       "      <td id=\"T_43f5e_row0_col60\" class=\"data row0 col60\" >13,713.00</td>\n",
       "      <td id=\"T_43f5e_row0_col61\" class=\"data row0 col61\" >14,149.00</td>\n",
       "      <td id=\"T_43f5e_row0_col62\" class=\"data row0 col62\" >14,149.00</td>\n",
       "      <td id=\"T_43f5e_row0_col63\" class=\"data row0 col63\" >14,149.00</td>\n",
       "      <td id=\"T_43f5e_row0_col64\" class=\"data row0 col64\" >14,147.00</td>\n",
       "      <td id=\"T_43f5e_row0_col65\" class=\"data row0 col65\" >14,139.00</td>\n",
       "      <td id=\"T_43f5e_row0_col66\" class=\"data row0 col66\" >12,544.00</td>\n",
       "      <td id=\"T_43f5e_row0_col67\" class=\"data row0 col67\" >14,149.00</td>\n",
       "      <td id=\"T_43f5e_row0_col68\" class=\"data row0 col68\" >13,932.00</td>\n",
       "      <td id=\"T_43f5e_row0_col69\" class=\"data row0 col69\" >14,148.00</td>\n",
       "      <td id=\"T_43f5e_row0_col70\" class=\"data row0 col70\" >14,128.00</td>\n",
       "      <td id=\"T_43f5e_row0_col71\" class=\"data row0 col71\" >14,148.00</td>\n",
       "      <td id=\"T_43f5e_row0_col72\" class=\"data row0 col72\" >14,145.00</td>\n",
       "      <td id=\"T_43f5e_row0_col73\" class=\"data row0 col73\" >14,148.00</td>\n",
       "      <td id=\"T_43f5e_row0_col74\" class=\"data row0 col74\" >14,148.00</td>\n",
       "      <td id=\"T_43f5e_row0_col75\" class=\"data row0 col75\" >14,148.00</td>\n",
       "      <td id=\"T_43f5e_row0_col76\" class=\"data row0 col76\" >14,143.00</td>\n",
       "      <td id=\"T_43f5e_row0_col77\" class=\"data row0 col77\" >14,148.00</td>\n",
       "      <td id=\"T_43f5e_row0_col78\" class=\"data row0 col78\" >14,148.00</td>\n",
       "      <td id=\"T_43f5e_row0_col79\" class=\"data row0 col79\" >14,148.00</td>\n",
       "      <td id=\"T_43f5e_row0_col80\" class=\"data row0 col80\" >14,148.00</td>\n",
       "      <td id=\"T_43f5e_row0_col81\" class=\"data row0 col81\" >14,148.00</td>\n",
       "      <td id=\"T_43f5e_row0_col82\" class=\"data row0 col82\" >14,148.00</td>\n",
       "      <td id=\"T_43f5e_row0_col83\" class=\"data row0 col83\" >14,148.00</td>\n",
       "      <td id=\"T_43f5e_row0_col84\" class=\"data row0 col84\" >14,147.00</td>\n",
       "      <td id=\"T_43f5e_row0_col85\" class=\"data row0 col85\" >14,148.00</td>\n",
       "    </tr>\n",
       "    <tr>\n",
       "      <th id=\"T_43f5e_level0_row1\" class=\"row_heading level0 row1\" >min</th>\n",
       "      <td id=\"T_43f5e_row1_col0\" class=\"data row1 col0\" >0.00</td>\n",
       "      <td id=\"T_43f5e_row1_col1\" class=\"data row1 col1\" >0.00</td>\n",
       "      <td id=\"T_43f5e_row1_col2\" class=\"data row1 col2\" >0.00</td>\n",
       "      <td id=\"T_43f5e_row1_col3\" class=\"data row1 col3\" >0.00</td>\n",
       "      <td id=\"T_43f5e_row1_col4\" class=\"data row1 col4\" >0.00</td>\n",
       "      <td id=\"T_43f5e_row1_col5\" class=\"data row1 col5\" >0.00</td>\n",
       "      <td id=\"T_43f5e_row1_col6\" class=\"data row1 col6\" >0.00</td>\n",
       "      <td id=\"T_43f5e_row1_col7\" class=\"data row1 col7\" >0.00</td>\n",
       "      <td id=\"T_43f5e_row1_col8\" class=\"data row1 col8\" >0.00</td>\n",
       "      <td id=\"T_43f5e_row1_col9\" class=\"data row1 col9\" >0.00</td>\n",
       "      <td id=\"T_43f5e_row1_col10\" class=\"data row1 col10\" >0.00</td>\n",
       "      <td id=\"T_43f5e_row1_col11\" class=\"data row1 col11\" >1.08</td>\n",
       "      <td id=\"T_43f5e_row1_col12\" class=\"data row1 col12\" >0.00</td>\n",
       "      <td id=\"T_43f5e_row1_col13\" class=\"data row1 col13\" >0.00</td>\n",
       "      <td id=\"T_43f5e_row1_col14\" class=\"data row1 col14\" >0.00</td>\n",
       "      <td id=\"T_43f5e_row1_col15\" class=\"data row1 col15\" >0.00</td>\n",
       "      <td id=\"T_43f5e_row1_col16\" class=\"data row1 col16\" >0.00</td>\n",
       "      <td id=\"T_43f5e_row1_col17\" class=\"data row1 col17\" >0.00</td>\n",
       "      <td id=\"T_43f5e_row1_col18\" class=\"data row1 col18\" >0.00</td>\n",
       "      <td id=\"T_43f5e_row1_col19\" class=\"data row1 col19\" >0.00</td>\n",
       "      <td id=\"T_43f5e_row1_col20\" class=\"data row1 col20\" >0.00</td>\n",
       "      <td id=\"T_43f5e_row1_col21\" class=\"data row1 col21\" >0.01</td>\n",
       "      <td id=\"T_43f5e_row1_col22\" class=\"data row1 col22\" >-798.64</td>\n",
       "      <td id=\"T_43f5e_row1_col23\" class=\"data row1 col23\" >0.01</td>\n",
       "      <td id=\"T_43f5e_row1_col24\" class=\"data row1 col24\" >-740.12</td>\n",
       "      <td id=\"T_43f5e_row1_col25\" class=\"data row1 col25\" >0.02</td>\n",
       "      <td id=\"T_43f5e_row1_col26\" class=\"data row1 col26\" >-799.80</td>\n",
       "      <td id=\"T_43f5e_row1_col27\" class=\"data row1 col27\" >0.01</td>\n",
       "      <td id=\"T_43f5e_row1_col28\" class=\"data row1 col28\" >-799.79</td>\n",
       "      <td id=\"T_43f5e_row1_col29\" class=\"data row1 col29\" >-42,235,197.37</td>\n",
       "      <td id=\"T_43f5e_row1_col30\" class=\"data row1 col30\" >-486.60</td>\n",
       "      <td id=\"T_43f5e_row1_col31\" class=\"data row1 col31\" >-264.98</td>\n",
       "      <td id=\"T_43f5e_row1_col32\" class=\"data row1 col32\" >-0.01</td>\n",
       "      <td id=\"T_43f5e_row1_col33\" class=\"data row1 col33\" >0.01</td>\n",
       "      <td id=\"T_43f5e_row1_col34\" class=\"data row1 col34\" >0.01</td>\n",
       "      <td id=\"T_43f5e_row1_col35\" class=\"data row1 col35\" >0.01</td>\n",
       "      <td id=\"T_43f5e_row1_col36\" class=\"data row1 col36\" >9.66</td>\n",
       "      <td id=\"T_43f5e_row1_col37\" class=\"data row1 col37\" >0.01</td>\n",
       "      <td id=\"T_43f5e_row1_col38\" class=\"data row1 col38\" >0.01</td>\n",
       "      <td id=\"T_43f5e_row1_col39\" class=\"data row1 col39\" >0.00</td>\n",
       "      <td id=\"T_43f5e_row1_col40\" class=\"data row1 col40\" >0.00</td>\n",
       "      <td id=\"T_43f5e_row1_col41\" class=\"data row1 col41\" >0.00</td>\n",
       "      <td id=\"T_43f5e_row1_col42\" class=\"data row1 col42\" >0.00</td>\n",
       "      <td id=\"T_43f5e_row1_col43\" class=\"data row1 col43\" >0.00</td>\n",
       "      <td id=\"T_43f5e_row1_col44\" class=\"data row1 col44\" >0.00</td>\n",
       "      <td id=\"T_43f5e_row1_col45\" class=\"data row1 col45\" >0.00</td>\n",
       "      <td id=\"T_43f5e_row1_col46\" class=\"data row1 col46\" >0.00</td>\n",
       "      <td id=\"T_43f5e_row1_col47\" class=\"data row1 col47\" >0.00</td>\n",
       "      <td id=\"T_43f5e_row1_col48\" class=\"data row1 col48\" >0.59</td>\n",
       "      <td id=\"T_43f5e_row1_col49\" class=\"data row1 col49\" >0.01</td>\n",
       "      <td id=\"T_43f5e_row1_col50\" class=\"data row1 col50\" >10.01</td>\n",
       "      <td id=\"T_43f5e_row1_col51\" class=\"data row1 col51\" >0.02</td>\n",
       "      <td id=\"T_43f5e_row1_col52\" class=\"data row1 col52\" >-0.04</td>\n",
       "      <td id=\"T_43f5e_row1_col53\" class=\"data row1 col53\" >-650.20</td>\n",
       "      <td id=\"T_43f5e_row1_col54\" class=\"data row1 col54\" >-0.65</td>\n",
       "      <td id=\"T_43f5e_row1_col55\" class=\"data row1 col55\" >-650.26</td>\n",
       "      <td id=\"T_43f5e_row1_col56\" class=\"data row1 col56\" >-0.04</td>\n",
       "      <td id=\"T_43f5e_row1_col57\" class=\"data row1 col57\" >-641.00</td>\n",
       "      <td id=\"T_43f5e_row1_col58\" class=\"data row1 col58\" >-0.55</td>\n",
       "      <td id=\"T_43f5e_row1_col59\" class=\"data row1 col59\" >-640.52</td>\n",
       "      <td id=\"T_43f5e_row1_col60\" class=\"data row1 col60\" >-1.97</td>\n",
       "      <td id=\"T_43f5e_row1_col61\" class=\"data row1 col61\" >-649.44</td>\n",
       "      <td id=\"T_43f5e_row1_col62\" class=\"data row1 col62\" >-2.43</td>\n",
       "      <td id=\"T_43f5e_row1_col63\" class=\"data row1 col63\" >-649.88</td>\n",
       "      <td id=\"T_43f5e_row1_col64\" class=\"data row1 col64\" >0.00</td>\n",
       "      <td id=\"T_43f5e_row1_col65\" class=\"data row1 col65\" >0.00</td>\n",
       "      <td id=\"T_43f5e_row1_col66\" class=\"data row1 col66\" >0.00</td>\n",
       "      <td id=\"T_43f5e_row1_col67\" class=\"data row1 col67\" >0.00</td>\n",
       "      <td id=\"T_43f5e_row1_col68\" class=\"data row1 col68\" >0.08</td>\n",
       "      <td id=\"T_43f5e_row1_col69\" class=\"data row1 col69\" >-799.61</td>\n",
       "      <td id=\"T_43f5e_row1_col70\" class=\"data row1 col70\" >0.00</td>\n",
       "      <td id=\"T_43f5e_row1_col71\" class=\"data row1 col71\" >-799.87</td>\n",
       "      <td id=\"T_43f5e_row1_col72\" class=\"data row1 col72\" >0.00</td>\n",
       "      <td id=\"T_43f5e_row1_col73\" class=\"data row1 col73\" >-799.61</td>\n",
       "      <td id=\"T_43f5e_row1_col74\" class=\"data row1 col74\" >0.00</td>\n",
       "      <td id=\"T_43f5e_row1_col75\" class=\"data row1 col75\" >-759.18</td>\n",
       "      <td id=\"T_43f5e_row1_col76\" class=\"data row1 col76\" >0.00</td>\n",
       "      <td id=\"T_43f5e_row1_col77\" class=\"data row1 col77\" >-799.71</td>\n",
       "      <td id=\"T_43f5e_row1_col78\" class=\"data row1 col78\" >0.00</td>\n",
       "      <td id=\"T_43f5e_row1_col79\" class=\"data row1 col79\" >-799.89</td>\n",
       "      <td id=\"T_43f5e_row1_col80\" class=\"data row1 col80\" >-0.37</td>\n",
       "      <td id=\"T_43f5e_row1_col81\" class=\"data row1 col81\" >-797.14</td>\n",
       "      <td id=\"T_43f5e_row1_col82\" class=\"data row1 col82\" >0.65</td>\n",
       "      <td id=\"T_43f5e_row1_col83\" class=\"data row1 col83\" >-800.01</td>\n",
       "      <td id=\"T_43f5e_row1_col84\" class=\"data row1 col84\" >0.20</td>\n",
       "      <td id=\"T_43f5e_row1_col85\" class=\"data row1 col85\" >-809.40</td>\n",
       "    </tr>\n",
       "    <tr>\n",
       "      <th id=\"T_43f5e_level0_row2\" class=\"row_heading level0 row2\" >max</th>\n",
       "      <td id=\"T_43f5e_row2_col0\" class=\"data row2 col0\" >16.00</td>\n",
       "      <td id=\"T_43f5e_row2_col1\" class=\"data row2 col1\" >17.03</td>\n",
       "      <td id=\"T_43f5e_row2_col2\" class=\"data row2 col2\" >18.12</td>\n",
       "      <td id=\"T_43f5e_row2_col3\" class=\"data row2 col3\" >52.76</td>\n",
       "      <td id=\"T_43f5e_row2_col4\" class=\"data row2 col4\" >100.00</td>\n",
       "      <td id=\"T_43f5e_row2_col5\" class=\"data row2 col5\" >19.55</td>\n",
       "      <td id=\"T_43f5e_row2_col6\" class=\"data row2 col6\" >5.64</td>\n",
       "      <td id=\"T_43f5e_row2_col7\" class=\"data row2 col7\" >22.32</td>\n",
       "      <td id=\"T_43f5e_row2_col8\" class=\"data row2 col8\" >8.20</td>\n",
       "      <td id=\"T_43f5e_row2_col9\" class=\"data row2 col9\" >250.13</td>\n",
       "      <td id=\"T_43f5e_row2_col10\" class=\"data row2 col10\" >20.05</td>\n",
       "      <td id=\"T_43f5e_row2_col11\" class=\"data row2 col11\" >10.47</td>\n",
       "      <td id=\"T_43f5e_row2_col12\" class=\"data row2 col12\" >2.51</td>\n",
       "      <td id=\"T_43f5e_row2_col13\" class=\"data row2 col13\" >16.08</td>\n",
       "      <td id=\"T_43f5e_row2_col14\" class=\"data row2 col14\" >17.08</td>\n",
       "      <td id=\"T_43f5e_row2_col15\" class=\"data row2 col15\" >22.28</td>\n",
       "      <td id=\"T_43f5e_row2_col16\" class=\"data row2 col16\" >45.93</td>\n",
       "      <td id=\"T_43f5e_row2_col17\" class=\"data row2 col17\" >29.46</td>\n",
       "      <td id=\"T_43f5e_row2_col18\" class=\"data row2 col18\" >9.63</td>\n",
       "      <td id=\"T_43f5e_row2_col19\" class=\"data row2 col19\" >20.62</td>\n",
       "      <td id=\"T_43f5e_row2_col20\" class=\"data row2 col20\" >17.79</td>\n",
       "      <td id=\"T_43f5e_row2_col21\" class=\"data row2 col21\" >2,079.53</td>\n",
       "      <td id=\"T_43f5e_row2_col22\" class=\"data row2 col22\" >-330.13</td>\n",
       "      <td id=\"T_43f5e_row2_col23\" class=\"data row2 col23\" >2,114.91</td>\n",
       "      <td id=\"T_43f5e_row2_col24\" class=\"data row2 col24\" >-347.35</td>\n",
       "      <td id=\"T_43f5e_row2_col25\" class=\"data row2 col25\" >2,013.16</td>\n",
       "      <td id=\"T_43f5e_row2_col26\" class=\"data row2 col26\" >-346.65</td>\n",
       "      <td id=\"T_43f5e_row2_col27\" class=\"data row2 col27\" >2,398.90</td>\n",
       "      <td id=\"T_43f5e_row2_col28\" class=\"data row2 col28\" >-30.60</td>\n",
       "      <td id=\"T_43f5e_row2_col29\" class=\"data row2 col29\" >3,428,098.94</td>\n",
       "      <td id=\"T_43f5e_row2_col30\" class=\"data row2 col30\" >629,638.98</td>\n",
       "      <td id=\"T_43f5e_row2_col31\" class=\"data row2 col31\" >718,684.96</td>\n",
       "      <td id=\"T_43f5e_row2_col32\" class=\"data row2 col32\" >39.38</td>\n",
       "      <td id=\"T_43f5e_row2_col33\" class=\"data row2 col33\" >14.60</td>\n",
       "      <td id=\"T_43f5e_row2_col34\" class=\"data row2 col34\" >7.14</td>\n",
       "      <td id=\"T_43f5e_row2_col35\" class=\"data row2 col35\" >717.51</td>\n",
       "      <td id=\"T_43f5e_row2_col36\" class=\"data row2 col36\" >484.97</td>\n",
       "      <td id=\"T_43f5e_row2_col37\" class=\"data row2 col37\" >48.36</td>\n",
       "      <td id=\"T_43f5e_row2_col38\" class=\"data row2 col38\" >13.13</td>\n",
       "      <td id=\"T_43f5e_row2_col39\" class=\"data row2 col39\" >36.12</td>\n",
       "      <td id=\"T_43f5e_row2_col40\" class=\"data row2 col40\" >9.70</td>\n",
       "      <td id=\"T_43f5e_row2_col41\" class=\"data row2 col41\" >37.98</td>\n",
       "      <td id=\"T_43f5e_row2_col42\" class=\"data row2 col42\" >9.70</td>\n",
       "      <td id=\"T_43f5e_row2_col43\" class=\"data row2 col43\" >24.48</td>\n",
       "      <td id=\"T_43f5e_row2_col44\" class=\"data row2 col44\" >13.62</td>\n",
       "      <td id=\"T_43f5e_row2_col45\" class=\"data row2 col45\" >38.35</td>\n",
       "      <td id=\"T_43f5e_row2_col46\" class=\"data row2 col46\" >28.15</td>\n",
       "      <td id=\"T_43f5e_row2_col47\" class=\"data row2 col47\" >100.00</td>\n",
       "      <td id=\"T_43f5e_row2_col48\" class=\"data row2 col48\" >12.72</td>\n",
       "      <td id=\"T_43f5e_row2_col49\" class=\"data row2 col49\" >3.78</td>\n",
       "      <td id=\"T_43f5e_row2_col50\" class=\"data row2 col50\" >66.12</td>\n",
       "      <td id=\"T_43f5e_row2_col51\" class=\"data row2 col51\" >9.69</td>\n",
       "      <td id=\"T_43f5e_row2_col52\" class=\"data row2 col52\" >1,521.98</td>\n",
       "      <td id=\"T_43f5e_row2_col53\" class=\"data row2 col53\" >-281.04</td>\n",
       "      <td id=\"T_43f5e_row2_col54\" class=\"data row2 col54\" >1,809.19</td>\n",
       "      <td id=\"T_43f5e_row2_col55\" class=\"data row2 col55\" >-296.38</td>\n",
       "      <td id=\"T_43f5e_row2_col56\" class=\"data row2 col56\" >2,499.13</td>\n",
       "      <td id=\"T_43f5e_row2_col57\" class=\"data row2 col57\" >-292.16</td>\n",
       "      <td id=\"T_43f5e_row2_col58\" class=\"data row2 col58\" >1,817.20</td>\n",
       "      <td id=\"T_43f5e_row2_col59\" class=\"data row2 col59\" >-208.33</td>\n",
       "      <td id=\"T_43f5e_row2_col60\" class=\"data row2 col60\" >1,922.64</td>\n",
       "      <td id=\"T_43f5e_row2_col61\" class=\"data row2 col61\" >-272.20</td>\n",
       "      <td id=\"T_43f5e_row2_col62\" class=\"data row2 col62\" >1,706.31</td>\n",
       "      <td id=\"T_43f5e_row2_col63\" class=\"data row2 col63\" >-191.72</td>\n",
       "      <td id=\"T_43f5e_row2_col64\" class=\"data row2 col64\" >23.26</td>\n",
       "      <td id=\"T_43f5e_row2_col65\" class=\"data row2 col65\" >17.04</td>\n",
       "      <td id=\"T_43f5e_row2_col66\" class=\"data row2 col66\" >17.98</td>\n",
       "      <td id=\"T_43f5e_row2_col67\" class=\"data row2 col67\" >26.81</td>\n",
       "      <td id=\"T_43f5e_row2_col68\" class=\"data row2 col68\" >52.65</td>\n",
       "      <td id=\"T_43f5e_row2_col69\" class=\"data row2 col69\" >-127.88</td>\n",
       "      <td id=\"T_43f5e_row2_col70\" class=\"data row2 col70\" >35.15</td>\n",
       "      <td id=\"T_43f5e_row2_col71\" class=\"data row2 col71\" >-212.06</td>\n",
       "      <td id=\"T_43f5e_row2_col72\" class=\"data row2 col72\" >44.26</td>\n",
       "      <td id=\"T_43f5e_row2_col73\" class=\"data row2 col73\" >-191.68</td>\n",
       "      <td id=\"T_43f5e_row2_col74\" class=\"data row2 col74\" >35.07</td>\n",
       "      <td id=\"T_43f5e_row2_col75\" class=\"data row2 col75\" >-159.74</td>\n",
       "      <td id=\"T_43f5e_row2_col76\" class=\"data row2 col76\" >30.12</td>\n",
       "      <td id=\"T_43f5e_row2_col77\" class=\"data row2 col77\" >-245.24</td>\n",
       "      <td id=\"T_43f5e_row2_col78\" class=\"data row2 col78\" >24.01</td>\n",
       "      <td id=\"T_43f5e_row2_col79\" class=\"data row2 col79\" >-145.07</td>\n",
       "      <td id=\"T_43f5e_row2_col80\" class=\"data row2 col80\" >43.71</td>\n",
       "      <td id=\"T_43f5e_row2_col81\" class=\"data row2 col81\" >-275.07</td>\n",
       "      <td id=\"T_43f5e_row2_col82\" class=\"data row2 col82\" >27.93</td>\n",
       "      <td id=\"T_43f5e_row2_col83\" class=\"data row2 col83\" >-157.40</td>\n",
       "      <td id=\"T_43f5e_row2_col84\" class=\"data row2 col84\" >32.19</td>\n",
       "      <td id=\"T_43f5e_row2_col85\" class=\"data row2 col85\" >-104.43</td>\n",
       "    </tr>\n",
       "  </tbody>\n",
       "</table>\n"
      ],
      "text/plain": [
       "<pandas.io.formats.style.Styler at 0x22e29d0ddf0>"
      ]
     },
     "metadata": {},
     "output_type": "display_data"
    },
    {
     "data": {
      "text/html": [
       "<style type=\"text/css\">\n",
       "</style>\n",
       "<table id=\"T_fab05\">\n",
       "  <thead>\n",
       "    <tr>\n",
       "      <th class=\"blank level0\" >&nbsp;</th>\n",
       "      <th id=\"T_fab05_level0_col0\" class=\"col_heading level0 col0\" >primary_cleaner.input.sulfate</th>\n",
       "      <th id=\"T_fab05_level0_col1\" class=\"col_heading level0 col1\" >primary_cleaner.input.depressant</th>\n",
       "      <th id=\"T_fab05_level0_col2\" class=\"col_heading level0 col2\" >primary_cleaner.input.feed_size</th>\n",
       "      <th id=\"T_fab05_level0_col3\" class=\"col_heading level0 col3\" >primary_cleaner.input.xanthate</th>\n",
       "      <th id=\"T_fab05_level0_col4\" class=\"col_heading level0 col4\" >primary_cleaner.state.floatbank8_a_air</th>\n",
       "      <th id=\"T_fab05_level0_col5\" class=\"col_heading level0 col5\" >primary_cleaner.state.floatbank8_a_level</th>\n",
       "      <th id=\"T_fab05_level0_col6\" class=\"col_heading level0 col6\" >primary_cleaner.state.floatbank8_b_air</th>\n",
       "      <th id=\"T_fab05_level0_col7\" class=\"col_heading level0 col7\" >primary_cleaner.state.floatbank8_b_level</th>\n",
       "      <th id=\"T_fab05_level0_col8\" class=\"col_heading level0 col8\" >primary_cleaner.state.floatbank8_c_air</th>\n",
       "      <th id=\"T_fab05_level0_col9\" class=\"col_heading level0 col9\" >primary_cleaner.state.floatbank8_c_level</th>\n",
       "      <th id=\"T_fab05_level0_col10\" class=\"col_heading level0 col10\" >primary_cleaner.state.floatbank8_d_air</th>\n",
       "      <th id=\"T_fab05_level0_col11\" class=\"col_heading level0 col11\" >primary_cleaner.state.floatbank8_d_level</th>\n",
       "      <th id=\"T_fab05_level0_col12\" class=\"col_heading level0 col12\" >rougher.input.feed_ag</th>\n",
       "      <th id=\"T_fab05_level0_col13\" class=\"col_heading level0 col13\" >rougher.input.feed_pb</th>\n",
       "      <th id=\"T_fab05_level0_col14\" class=\"col_heading level0 col14\" >rougher.input.feed_rate</th>\n",
       "      <th id=\"T_fab05_level0_col15\" class=\"col_heading level0 col15\" >rougher.input.feed_size</th>\n",
       "      <th id=\"T_fab05_level0_col16\" class=\"col_heading level0 col16\" >rougher.input.feed_sol</th>\n",
       "      <th id=\"T_fab05_level0_col17\" class=\"col_heading level0 col17\" >rougher.input.feed_au</th>\n",
       "      <th id=\"T_fab05_level0_col18\" class=\"col_heading level0 col18\" >rougher.input.floatbank10_sulfate</th>\n",
       "      <th id=\"T_fab05_level0_col19\" class=\"col_heading level0 col19\" >rougher.input.floatbank10_xanthate</th>\n",
       "      <th id=\"T_fab05_level0_col20\" class=\"col_heading level0 col20\" >rougher.input.floatbank11_sulfate</th>\n",
       "      <th id=\"T_fab05_level0_col21\" class=\"col_heading level0 col21\" >rougher.input.floatbank11_xanthate</th>\n",
       "      <th id=\"T_fab05_level0_col22\" class=\"col_heading level0 col22\" >rougher.state.floatbank10_a_air</th>\n",
       "      <th id=\"T_fab05_level0_col23\" class=\"col_heading level0 col23\" >rougher.state.floatbank10_a_level</th>\n",
       "      <th id=\"T_fab05_level0_col24\" class=\"col_heading level0 col24\" >rougher.state.floatbank10_b_air</th>\n",
       "      <th id=\"T_fab05_level0_col25\" class=\"col_heading level0 col25\" >rougher.state.floatbank10_b_level</th>\n",
       "      <th id=\"T_fab05_level0_col26\" class=\"col_heading level0 col26\" >rougher.state.floatbank10_c_air</th>\n",
       "      <th id=\"T_fab05_level0_col27\" class=\"col_heading level0 col27\" >rougher.state.floatbank10_c_level</th>\n",
       "      <th id=\"T_fab05_level0_col28\" class=\"col_heading level0 col28\" >rougher.state.floatbank10_d_air</th>\n",
       "      <th id=\"T_fab05_level0_col29\" class=\"col_heading level0 col29\" >rougher.state.floatbank10_d_level</th>\n",
       "      <th id=\"T_fab05_level0_col30\" class=\"col_heading level0 col30\" >rougher.state.floatbank10_e_air</th>\n",
       "      <th id=\"T_fab05_level0_col31\" class=\"col_heading level0 col31\" >rougher.state.floatbank10_e_level</th>\n",
       "      <th id=\"T_fab05_level0_col32\" class=\"col_heading level0 col32\" >rougher.state.floatbank10_f_air</th>\n",
       "      <th id=\"T_fab05_level0_col33\" class=\"col_heading level0 col33\" >rougher.state.floatbank10_f_level</th>\n",
       "      <th id=\"T_fab05_level0_col34\" class=\"col_heading level0 col34\" >secondary_cleaner.state.floatbank2_a_air</th>\n",
       "      <th id=\"T_fab05_level0_col35\" class=\"col_heading level0 col35\" >secondary_cleaner.state.floatbank2_a_level</th>\n",
       "      <th id=\"T_fab05_level0_col36\" class=\"col_heading level0 col36\" >secondary_cleaner.state.floatbank2_b_air</th>\n",
       "      <th id=\"T_fab05_level0_col37\" class=\"col_heading level0 col37\" >secondary_cleaner.state.floatbank2_b_level</th>\n",
       "      <th id=\"T_fab05_level0_col38\" class=\"col_heading level0 col38\" >secondary_cleaner.state.floatbank3_a_air</th>\n",
       "      <th id=\"T_fab05_level0_col39\" class=\"col_heading level0 col39\" >secondary_cleaner.state.floatbank3_a_level</th>\n",
       "      <th id=\"T_fab05_level0_col40\" class=\"col_heading level0 col40\" >secondary_cleaner.state.floatbank3_b_air</th>\n",
       "      <th id=\"T_fab05_level0_col41\" class=\"col_heading level0 col41\" >secondary_cleaner.state.floatbank3_b_level</th>\n",
       "      <th id=\"T_fab05_level0_col42\" class=\"col_heading level0 col42\" >secondary_cleaner.state.floatbank4_a_air</th>\n",
       "      <th id=\"T_fab05_level0_col43\" class=\"col_heading level0 col43\" >secondary_cleaner.state.floatbank4_a_level</th>\n",
       "      <th id=\"T_fab05_level0_col44\" class=\"col_heading level0 col44\" >secondary_cleaner.state.floatbank4_b_air</th>\n",
       "      <th id=\"T_fab05_level0_col45\" class=\"col_heading level0 col45\" >secondary_cleaner.state.floatbank4_b_level</th>\n",
       "      <th id=\"T_fab05_level0_col46\" class=\"col_heading level0 col46\" >secondary_cleaner.state.floatbank5_a_air</th>\n",
       "      <th id=\"T_fab05_level0_col47\" class=\"col_heading level0 col47\" >secondary_cleaner.state.floatbank5_a_level</th>\n",
       "      <th id=\"T_fab05_level0_col48\" class=\"col_heading level0 col48\" >secondary_cleaner.state.floatbank5_b_air</th>\n",
       "      <th id=\"T_fab05_level0_col49\" class=\"col_heading level0 col49\" >secondary_cleaner.state.floatbank5_b_level</th>\n",
       "      <th id=\"T_fab05_level0_col50\" class=\"col_heading level0 col50\" >secondary_cleaner.state.floatbank6_a_air</th>\n",
       "      <th id=\"T_fab05_level0_col51\" class=\"col_heading level0 col51\" >secondary_cleaner.state.floatbank6_a_level</th>\n",
       "    </tr>\n",
       "  </thead>\n",
       "  <tbody>\n",
       "    <tr>\n",
       "      <th id=\"T_fab05_level0_row0\" class=\"row_heading level0 row0\" >count</th>\n",
       "      <td id=\"T_fab05_row0_col0\" class=\"data row0 col0\" >5,286.00</td>\n",
       "      <td id=\"T_fab05_row0_col1\" class=\"data row0 col1\" >5,285.00</td>\n",
       "      <td id=\"T_fab05_row0_col2\" class=\"data row0 col2\" >5,290.00</td>\n",
       "      <td id=\"T_fab05_row0_col3\" class=\"data row0 col3\" >5,286.00</td>\n",
       "      <td id=\"T_fab05_row0_col4\" class=\"data row0 col4\" >5,290.00</td>\n",
       "      <td id=\"T_fab05_row0_col5\" class=\"data row0 col5\" >5,290.00</td>\n",
       "      <td id=\"T_fab05_row0_col6\" class=\"data row0 col6\" >5,290.00</td>\n",
       "      <td id=\"T_fab05_row0_col7\" class=\"data row0 col7\" >5,290.00</td>\n",
       "      <td id=\"T_fab05_row0_col8\" class=\"data row0 col8\" >5,290.00</td>\n",
       "      <td id=\"T_fab05_row0_col9\" class=\"data row0 col9\" >5,290.00</td>\n",
       "      <td id=\"T_fab05_row0_col10\" class=\"data row0 col10\" >5,290.00</td>\n",
       "      <td id=\"T_fab05_row0_col11\" class=\"data row0 col11\" >5,290.00</td>\n",
       "      <td id=\"T_fab05_row0_col12\" class=\"data row0 col12\" >5,290.00</td>\n",
       "      <td id=\"T_fab05_row0_col13\" class=\"data row0 col13\" >5,290.00</td>\n",
       "      <td id=\"T_fab05_row0_col14\" class=\"data row0 col14\" >5,287.00</td>\n",
       "      <td id=\"T_fab05_row0_col15\" class=\"data row0 col15\" >5,289.00</td>\n",
       "      <td id=\"T_fab05_row0_col16\" class=\"data row0 col16\" >5,269.00</td>\n",
       "      <td id=\"T_fab05_row0_col17\" class=\"data row0 col17\" >5,290.00</td>\n",
       "      <td id=\"T_fab05_row0_col18\" class=\"data row0 col18\" >5,285.00</td>\n",
       "      <td id=\"T_fab05_row0_col19\" class=\"data row0 col19\" >5,290.00</td>\n",
       "      <td id=\"T_fab05_row0_col20\" class=\"data row0 col20\" >5,282.00</td>\n",
       "      <td id=\"T_fab05_row0_col21\" class=\"data row0 col21\" >5,265.00</td>\n",
       "      <td id=\"T_fab05_row0_col22\" class=\"data row0 col22\" >5,290.00</td>\n",
       "      <td id=\"T_fab05_row0_col23\" class=\"data row0 col23\" >5,290.00</td>\n",
       "      <td id=\"T_fab05_row0_col24\" class=\"data row0 col24\" >5,290.00</td>\n",
       "      <td id=\"T_fab05_row0_col25\" class=\"data row0 col25\" >5,290.00</td>\n",
       "      <td id=\"T_fab05_row0_col26\" class=\"data row0 col26\" >5,290.00</td>\n",
       "      <td id=\"T_fab05_row0_col27\" class=\"data row0 col27\" >5,290.00</td>\n",
       "      <td id=\"T_fab05_row0_col28\" class=\"data row0 col28\" >5,290.00</td>\n",
       "      <td id=\"T_fab05_row0_col29\" class=\"data row0 col29\" >5,290.00</td>\n",
       "      <td id=\"T_fab05_row0_col30\" class=\"data row0 col30\" >5,290.00</td>\n",
       "      <td id=\"T_fab05_row0_col31\" class=\"data row0 col31\" >5,290.00</td>\n",
       "      <td id=\"T_fab05_row0_col32\" class=\"data row0 col32\" >5,290.00</td>\n",
       "      <td id=\"T_fab05_row0_col33\" class=\"data row0 col33\" >5,290.00</td>\n",
       "      <td id=\"T_fab05_row0_col34\" class=\"data row0 col34\" >5,287.00</td>\n",
       "      <td id=\"T_fab05_row0_col35\" class=\"data row0 col35\" >5,290.00</td>\n",
       "      <td id=\"T_fab05_row0_col36\" class=\"data row0 col36\" >5,288.00</td>\n",
       "      <td id=\"T_fab05_row0_col37\" class=\"data row0 col37\" >5,290.00</td>\n",
       "      <td id=\"T_fab05_row0_col38\" class=\"data row0 col38\" >5,281.00</td>\n",
       "      <td id=\"T_fab05_row0_col39\" class=\"data row0 col39\" >5,290.00</td>\n",
       "      <td id=\"T_fab05_row0_col40\" class=\"data row0 col40\" >5,290.00</td>\n",
       "      <td id=\"T_fab05_row0_col41\" class=\"data row0 col41\" >5,290.00</td>\n",
       "      <td id=\"T_fab05_row0_col42\" class=\"data row0 col42\" >5,290.00</td>\n",
       "      <td id=\"T_fab05_row0_col43\" class=\"data row0 col43\" >5,290.00</td>\n",
       "      <td id=\"T_fab05_row0_col44\" class=\"data row0 col44\" >5,290.00</td>\n",
       "      <td id=\"T_fab05_row0_col45\" class=\"data row0 col45\" >5,290.00</td>\n",
       "      <td id=\"T_fab05_row0_col46\" class=\"data row0 col46\" >5,290.00</td>\n",
       "      <td id=\"T_fab05_row0_col47\" class=\"data row0 col47\" >5,290.00</td>\n",
       "      <td id=\"T_fab05_row0_col48\" class=\"data row0 col48\" >5,290.00</td>\n",
       "      <td id=\"T_fab05_row0_col49\" class=\"data row0 col49\" >5,290.00</td>\n",
       "      <td id=\"T_fab05_row0_col50\" class=\"data row0 col50\" >5,290.00</td>\n",
       "      <td id=\"T_fab05_row0_col51\" class=\"data row0 col51\" >5,290.00</td>\n",
       "    </tr>\n",
       "    <tr>\n",
       "      <th id=\"T_fab05_level0_row1\" class=\"row_heading level0 row1\" >min</th>\n",
       "      <td id=\"T_fab05_row1_col0\" class=\"data row1 col0\" >2.57</td>\n",
       "      <td id=\"T_fab05_row1_col1\" class=\"data row1 col1\" >0.00</td>\n",
       "      <td id=\"T_fab05_row1_col2\" class=\"data row1 col2\" >5.65</td>\n",
       "      <td id=\"T_fab05_row1_col3\" class=\"data row1 col3\" >0.00</td>\n",
       "      <td id=\"T_fab05_row1_col4\" class=\"data row1 col4\" >0.00</td>\n",
       "      <td id=\"T_fab05_row1_col5\" class=\"data row1 col5\" >-795.32</td>\n",
       "      <td id=\"T_fab05_row1_col6\" class=\"data row1 col6\" >0.00</td>\n",
       "      <td id=\"T_fab05_row1_col7\" class=\"data row1 col7\" >-800.00</td>\n",
       "      <td id=\"T_fab05_row1_col8\" class=\"data row1 col8\" >0.00</td>\n",
       "      <td id=\"T_fab05_row1_col9\" class=\"data row1 col9\" >-799.96</td>\n",
       "      <td id=\"T_fab05_row1_col10\" class=\"data row1 col10\" >0.00</td>\n",
       "      <td id=\"T_fab05_row1_col11\" class=\"data row1 col11\" >-799.79</td>\n",
       "      <td id=\"T_fab05_row1_col12\" class=\"data row1 col12\" >0.57</td>\n",
       "      <td id=\"T_fab05_row1_col13\" class=\"data row1 col13\" >0.27</td>\n",
       "      <td id=\"T_fab05_row1_col14\" class=\"data row1 col14\" >0.00</td>\n",
       "      <td id=\"T_fab05_row1_col15\" class=\"data row1 col15\" >0.05</td>\n",
       "      <td id=\"T_fab05_row1_col16\" class=\"data row1 col16\" >1.39</td>\n",
       "      <td id=\"T_fab05_row1_col17\" class=\"data row1 col17\" >0.57</td>\n",
       "      <td id=\"T_fab05_row1_col18\" class=\"data row1 col18\" >0.00</td>\n",
       "      <td id=\"T_fab05_row1_col19\" class=\"data row1 col19\" >0.00</td>\n",
       "      <td id=\"T_fab05_row1_col20\" class=\"data row1 col20\" >0.00</td>\n",
       "      <td id=\"T_fab05_row1_col21\" class=\"data row1 col21\" >0.01</td>\n",
       "      <td id=\"T_fab05_row1_col22\" class=\"data row1 col22\" >-0.04</td>\n",
       "      <td id=\"T_fab05_row1_col23\" class=\"data row1 col23\" >-657.95</td>\n",
       "      <td id=\"T_fab05_row1_col24\" class=\"data row1 col24\" >-0.72</td>\n",
       "      <td id=\"T_fab05_row1_col25\" class=\"data row1 col25\" >-650.25</td>\n",
       "      <td id=\"T_fab05_row1_col26\" class=\"data row1 col26\" >-0.06</td>\n",
       "      <td id=\"T_fab05_row1_col27\" class=\"data row1 col27\" >-647.54</td>\n",
       "      <td id=\"T_fab05_row1_col28\" class=\"data row1 col28\" >-0.99</td>\n",
       "      <td id=\"T_fab05_row1_col29\" class=\"data row1 col29\" >-648.39</td>\n",
       "      <td id=\"T_fab05_row1_col30\" class=\"data row1 col30\" >-1.98</td>\n",
       "      <td id=\"T_fab05_row1_col31\" class=\"data row1 col31\" >-649.27</td>\n",
       "      <td id=\"T_fab05_row1_col32\" class=\"data row1 col32\" >-2.59</td>\n",
       "      <td id=\"T_fab05_row1_col33\" class=\"data row1 col33\" >-649.95</td>\n",
       "      <td id=\"T_fab05_row1_col34\" class=\"data row1 col34\" >0.21</td>\n",
       "      <td id=\"T_fab05_row1_col35\" class=\"data row1 col35\" >-784.09</td>\n",
       "      <td id=\"T_fab05_row1_col36\" class=\"data row1 col36\" >0.01</td>\n",
       "      <td id=\"T_fab05_row1_col37\" class=\"data row1 col37\" >-797.78</td>\n",
       "      <td id=\"T_fab05_row1_col38\" class=\"data row1 col38\" >0.00</td>\n",
       "      <td id=\"T_fab05_row1_col39\" class=\"data row1 col39\" >-799.76</td>\n",
       "      <td id=\"T_fab05_row1_col40\" class=\"data row1 col40\" >0.00</td>\n",
       "      <td id=\"T_fab05_row1_col41\" class=\"data row1 col41\" >-809.33</td>\n",
       "      <td id=\"T_fab05_row1_col42\" class=\"data row1 col42\" >0.00</td>\n",
       "      <td id=\"T_fab05_row1_col43\" class=\"data row1 col43\" >-799.80</td>\n",
       "      <td id=\"T_fab05_row1_col44\" class=\"data row1 col44\" >0.00</td>\n",
       "      <td id=\"T_fab05_row1_col45\" class=\"data row1 col45\" >-800.84</td>\n",
       "      <td id=\"T_fab05_row1_col46\" class=\"data row1 col46\" >0.07</td>\n",
       "      <td id=\"T_fab05_row1_col47\" class=\"data row1 col47\" >-797.32</td>\n",
       "      <td id=\"T_fab05_row1_col48\" class=\"data row1 col48\" >0.53</td>\n",
       "      <td id=\"T_fab05_row1_col49\" class=\"data row1 col49\" >-800.22</td>\n",
       "      <td id=\"T_fab05_row1_col50\" class=\"data row1 col50\" >-0.08</td>\n",
       "      <td id=\"T_fab05_row1_col51\" class=\"data row1 col51\" >-809.74</td>\n",
       "    </tr>\n",
       "    <tr>\n",
       "      <th id=\"T_fab05_level0_row2\" class=\"row_heading level0 row2\" >max</th>\n",
       "      <td id=\"T_fab05_row2_col0\" class=\"data row2 col0\" >265.98</td>\n",
       "      <td id=\"T_fab05_row2_col1\" class=\"data row2 col1\" >40.00</td>\n",
       "      <td id=\"T_fab05_row2_col2\" class=\"data row2 col2\" >15.50</td>\n",
       "      <td id=\"T_fab05_row2_col3\" class=\"data row2 col3\" >4.10</td>\n",
       "      <td id=\"T_fab05_row2_col4\" class=\"data row2 col4\" >2,103.10</td>\n",
       "      <td id=\"T_fab05_row2_col5\" class=\"data row2 col5\" >-57.20</td>\n",
       "      <td id=\"T_fab05_row2_col6\" class=\"data row2 col6\" >1,813.08</td>\n",
       "      <td id=\"T_fab05_row2_col7\" class=\"data row2 col7\" >-142.53</td>\n",
       "      <td id=\"T_fab05_row2_col8\" class=\"data row2 col8\" >1,715.05</td>\n",
       "      <td id=\"T_fab05_row2_col9\" class=\"data row2 col9\" >-150.94</td>\n",
       "      <td id=\"T_fab05_row2_col10\" class=\"data row2 col10\" >1,913.26</td>\n",
       "      <td id=\"T_fab05_row2_col11\" class=\"data row2 col11\" >-158.95</td>\n",
       "      <td id=\"T_fab05_row2_col12\" class=\"data row2 col12\" >14.41</td>\n",
       "      <td id=\"T_fab05_row2_col13\" class=\"data row2 col13\" >6.91</td>\n",
       "      <td id=\"T_fab05_row2_col14\" class=\"data row2 col14\" >707.36</td>\n",
       "      <td id=\"T_fab05_row2_col15\" class=\"data row2 col15\" >392.49</td>\n",
       "      <td id=\"T_fab05_row2_col16\" class=\"data row2 col16\" >53.48</td>\n",
       "      <td id=\"T_fab05_row2_col17\" class=\"data row2 col17\" >13.73</td>\n",
       "      <td id=\"T_fab05_row2_col18\" class=\"data row2 col18\" >24.28</td>\n",
       "      <td id=\"T_fab05_row2_col19\" class=\"data row2 col19\" >8.91</td>\n",
       "      <td id=\"T_fab05_row2_col20\" class=\"data row2 col20\" >24.28</td>\n",
       "      <td id=\"T_fab05_row2_col21\" class=\"data row2 col21\" >8.62</td>\n",
       "      <td id=\"T_fab05_row2_col22\" class=\"data row2 col22\" >1,423.27</td>\n",
       "      <td id=\"T_fab05_row2_col23\" class=\"data row2 col23\" >-273.78</td>\n",
       "      <td id=\"T_fab05_row2_col24\" class=\"data row2 col24\" >1,706.64</td>\n",
       "      <td id=\"T_fab05_row2_col25\" class=\"data row2 col25\" >-298.20</td>\n",
       "      <td id=\"T_fab05_row2_col26\" class=\"data row2 col26\" >1,731.02</td>\n",
       "      <td id=\"T_fab05_row2_col27\" class=\"data row2 col27\" >-298.04</td>\n",
       "      <td id=\"T_fab05_row2_col28\" class=\"data row2 col28\" >1,775.22</td>\n",
       "      <td id=\"T_fab05_row2_col29\" class=\"data row2 col29\" >-76.40</td>\n",
       "      <td id=\"T_fab05_row2_col30\" class=\"data row2 col30\" >1,467.18</td>\n",
       "      <td id=\"T_fab05_row2_col31\" class=\"data row2 col31\" >-139.75</td>\n",
       "      <td id=\"T_fab05_row2_col32\" class=\"data row2 col32\" >1,476.59</td>\n",
       "      <td id=\"T_fab05_row2_col33\" class=\"data row2 col33\" >-249.80</td>\n",
       "      <td id=\"T_fab05_row2_col34\" class=\"data row2 col34\" >32.14</td>\n",
       "      <td id=\"T_fab05_row2_col35\" class=\"data row2 col35\" >-300.34</td>\n",
       "      <td id=\"T_fab05_row2_col36\" class=\"data row2 col36\" >28.17</td>\n",
       "      <td id=\"T_fab05_row2_col37\" class=\"data row2 col37\" >-212.00</td>\n",
       "      <td id=\"T_fab05_row2_col38\" class=\"data row2 col38\" >40.04</td>\n",
       "      <td id=\"T_fab05_row2_col39\" class=\"data row2 col39\" >-313.87</td>\n",
       "      <td id=\"T_fab05_row2_col40\" class=\"data row2 col40\" >32.04</td>\n",
       "      <td id=\"T_fab05_row2_col41\" class=\"data row2 col41\" >-202.28</td>\n",
       "      <td id=\"T_fab05_row2_col42\" class=\"data row2 col42\" >30.05</td>\n",
       "      <td id=\"T_fab05_row2_col43\" class=\"data row2 col43\" >-401.57</td>\n",
       "      <td id=\"T_fab05_row2_col44\" class=\"data row2 col44\" >31.27</td>\n",
       "      <td id=\"T_fab05_row2_col45\" class=\"data row2 col45\" >-6.51</td>\n",
       "      <td id=\"T_fab05_row2_col46\" class=\"data row2 col46\" >25.26</td>\n",
       "      <td id=\"T_fab05_row2_col47\" class=\"data row2 col47\" >-244.48</td>\n",
       "      <td id=\"T_fab05_row2_col48\" class=\"data row2 col48\" >14.09</td>\n",
       "      <td id=\"T_fab05_row2_col49\" class=\"data row2 col49\" >-137.74</td>\n",
       "      <td id=\"T_fab05_row2_col50\" class=\"data row2 col50\" >26.71</td>\n",
       "      <td id=\"T_fab05_row2_col51\" class=\"data row2 col51\" >-123.31</td>\n",
       "    </tr>\n",
       "  </tbody>\n",
       "</table>\n"
      ],
      "text/plain": [
       "<pandas.io.formats.style.Styler at 0x22e29d493d0>"
      ]
     },
     "metadata": {},
     "output_type": "display_data"
    },
    {
     "data": {
      "text/html": [
       "<style type=\"text/css\">\n",
       "</style>\n",
       "<table id=\"T_d9a91\">\n",
       "  <thead>\n",
       "    <tr>\n",
       "      <th class=\"blank level0\" >&nbsp;</th>\n",
       "      <th id=\"T_d9a91_level0_col0\" class=\"col_heading level0 col0\" >final.output.concentrate_ag</th>\n",
       "      <th id=\"T_d9a91_level0_col1\" class=\"col_heading level0 col1\" >final.output.concentrate_pb</th>\n",
       "      <th id=\"T_d9a91_level0_col2\" class=\"col_heading level0 col2\" >final.output.concentrate_sol</th>\n",
       "      <th id=\"T_d9a91_level0_col3\" class=\"col_heading level0 col3\" >final.output.concentrate_au</th>\n",
       "      <th id=\"T_d9a91_level0_col4\" class=\"col_heading level0 col4\" >final.output.recovery</th>\n",
       "      <th id=\"T_d9a91_level0_col5\" class=\"col_heading level0 col5\" >final.output.tail_ag</th>\n",
       "      <th id=\"T_d9a91_level0_col6\" class=\"col_heading level0 col6\" >final.output.tail_pb</th>\n",
       "      <th id=\"T_d9a91_level0_col7\" class=\"col_heading level0 col7\" >final.output.tail_sol</th>\n",
       "      <th id=\"T_d9a91_level0_col8\" class=\"col_heading level0 col8\" >final.output.tail_au</th>\n",
       "      <th id=\"T_d9a91_level0_col9\" class=\"col_heading level0 col9\" >primary_cleaner.input.sulfate</th>\n",
       "      <th id=\"T_d9a91_level0_col10\" class=\"col_heading level0 col10\" >primary_cleaner.input.depressant</th>\n",
       "      <th id=\"T_d9a91_level0_col11\" class=\"col_heading level0 col11\" >primary_cleaner.input.feed_size</th>\n",
       "      <th id=\"T_d9a91_level0_col12\" class=\"col_heading level0 col12\" >primary_cleaner.input.xanthate</th>\n",
       "      <th id=\"T_d9a91_level0_col13\" class=\"col_heading level0 col13\" >primary_cleaner.output.concentrate_ag</th>\n",
       "      <th id=\"T_d9a91_level0_col14\" class=\"col_heading level0 col14\" >primary_cleaner.output.concentrate_pb</th>\n",
       "      <th id=\"T_d9a91_level0_col15\" class=\"col_heading level0 col15\" >primary_cleaner.output.concentrate_sol</th>\n",
       "      <th id=\"T_d9a91_level0_col16\" class=\"col_heading level0 col16\" >primary_cleaner.output.concentrate_au</th>\n",
       "      <th id=\"T_d9a91_level0_col17\" class=\"col_heading level0 col17\" >primary_cleaner.output.tail_ag</th>\n",
       "      <th id=\"T_d9a91_level0_col18\" class=\"col_heading level0 col18\" >primary_cleaner.output.tail_pb</th>\n",
       "      <th id=\"T_d9a91_level0_col19\" class=\"col_heading level0 col19\" >primary_cleaner.output.tail_sol</th>\n",
       "      <th id=\"T_d9a91_level0_col20\" class=\"col_heading level0 col20\" >primary_cleaner.output.tail_au</th>\n",
       "      <th id=\"T_d9a91_level0_col21\" class=\"col_heading level0 col21\" >primary_cleaner.state.floatbank8_a_air</th>\n",
       "      <th id=\"T_d9a91_level0_col22\" class=\"col_heading level0 col22\" >primary_cleaner.state.floatbank8_a_level</th>\n",
       "      <th id=\"T_d9a91_level0_col23\" class=\"col_heading level0 col23\" >primary_cleaner.state.floatbank8_b_air</th>\n",
       "      <th id=\"T_d9a91_level0_col24\" class=\"col_heading level0 col24\" >primary_cleaner.state.floatbank8_b_level</th>\n",
       "      <th id=\"T_d9a91_level0_col25\" class=\"col_heading level0 col25\" >primary_cleaner.state.floatbank8_c_air</th>\n",
       "      <th id=\"T_d9a91_level0_col26\" class=\"col_heading level0 col26\" >primary_cleaner.state.floatbank8_c_level</th>\n",
       "      <th id=\"T_d9a91_level0_col27\" class=\"col_heading level0 col27\" >primary_cleaner.state.floatbank8_d_air</th>\n",
       "      <th id=\"T_d9a91_level0_col28\" class=\"col_heading level0 col28\" >primary_cleaner.state.floatbank8_d_level</th>\n",
       "      <th id=\"T_d9a91_level0_col29\" class=\"col_heading level0 col29\" >rougher.calculation.sulfate_to_au_concentrate</th>\n",
       "      <th id=\"T_d9a91_level0_col30\" class=\"col_heading level0 col30\" >rougher.calculation.floatbank10_sulfate_to_au_feed</th>\n",
       "      <th id=\"T_d9a91_level0_col31\" class=\"col_heading level0 col31\" >rougher.calculation.floatbank11_sulfate_to_au_feed</th>\n",
       "      <th id=\"T_d9a91_level0_col32\" class=\"col_heading level0 col32\" >rougher.calculation.au_pb_ratio</th>\n",
       "      <th id=\"T_d9a91_level0_col33\" class=\"col_heading level0 col33\" >rougher.input.feed_ag</th>\n",
       "      <th id=\"T_d9a91_level0_col34\" class=\"col_heading level0 col34\" >rougher.input.feed_pb</th>\n",
       "      <th id=\"T_d9a91_level0_col35\" class=\"col_heading level0 col35\" >rougher.input.feed_rate</th>\n",
       "      <th id=\"T_d9a91_level0_col36\" class=\"col_heading level0 col36\" >rougher.input.feed_size</th>\n",
       "      <th id=\"T_d9a91_level0_col37\" class=\"col_heading level0 col37\" >rougher.input.feed_sol</th>\n",
       "      <th id=\"T_d9a91_level0_col38\" class=\"col_heading level0 col38\" >rougher.input.feed_au</th>\n",
       "      <th id=\"T_d9a91_level0_col39\" class=\"col_heading level0 col39\" >rougher.input.floatbank10_sulfate</th>\n",
       "      <th id=\"T_d9a91_level0_col40\" class=\"col_heading level0 col40\" >rougher.input.floatbank10_xanthate</th>\n",
       "      <th id=\"T_d9a91_level0_col41\" class=\"col_heading level0 col41\" >rougher.input.floatbank11_sulfate</th>\n",
       "      <th id=\"T_d9a91_level0_col42\" class=\"col_heading level0 col42\" >rougher.input.floatbank11_xanthate</th>\n",
       "      <th id=\"T_d9a91_level0_col43\" class=\"col_heading level0 col43\" >rougher.output.concentrate_ag</th>\n",
       "      <th id=\"T_d9a91_level0_col44\" class=\"col_heading level0 col44\" >rougher.output.concentrate_pb</th>\n",
       "      <th id=\"T_d9a91_level0_col45\" class=\"col_heading level0 col45\" >rougher.output.concentrate_sol</th>\n",
       "      <th id=\"T_d9a91_level0_col46\" class=\"col_heading level0 col46\" >rougher.output.concentrate_au</th>\n",
       "      <th id=\"T_d9a91_level0_col47\" class=\"col_heading level0 col47\" >rougher.output.recovery</th>\n",
       "      <th id=\"T_d9a91_level0_col48\" class=\"col_heading level0 col48\" >rougher.output.tail_ag</th>\n",
       "      <th id=\"T_d9a91_level0_col49\" class=\"col_heading level0 col49\" >rougher.output.tail_pb</th>\n",
       "      <th id=\"T_d9a91_level0_col50\" class=\"col_heading level0 col50\" >rougher.output.tail_sol</th>\n",
       "      <th id=\"T_d9a91_level0_col51\" class=\"col_heading level0 col51\" >rougher.output.tail_au</th>\n",
       "      <th id=\"T_d9a91_level0_col52\" class=\"col_heading level0 col52\" >rougher.state.floatbank10_a_air</th>\n",
       "      <th id=\"T_d9a91_level0_col53\" class=\"col_heading level0 col53\" >rougher.state.floatbank10_a_level</th>\n",
       "      <th id=\"T_d9a91_level0_col54\" class=\"col_heading level0 col54\" >rougher.state.floatbank10_b_air</th>\n",
       "      <th id=\"T_d9a91_level0_col55\" class=\"col_heading level0 col55\" >rougher.state.floatbank10_b_level</th>\n",
       "      <th id=\"T_d9a91_level0_col56\" class=\"col_heading level0 col56\" >rougher.state.floatbank10_c_air</th>\n",
       "      <th id=\"T_d9a91_level0_col57\" class=\"col_heading level0 col57\" >rougher.state.floatbank10_c_level</th>\n",
       "      <th id=\"T_d9a91_level0_col58\" class=\"col_heading level0 col58\" >rougher.state.floatbank10_d_air</th>\n",
       "      <th id=\"T_d9a91_level0_col59\" class=\"col_heading level0 col59\" >rougher.state.floatbank10_d_level</th>\n",
       "      <th id=\"T_d9a91_level0_col60\" class=\"col_heading level0 col60\" >rougher.state.floatbank10_e_air</th>\n",
       "      <th id=\"T_d9a91_level0_col61\" class=\"col_heading level0 col61\" >rougher.state.floatbank10_e_level</th>\n",
       "      <th id=\"T_d9a91_level0_col62\" class=\"col_heading level0 col62\" >rougher.state.floatbank10_f_air</th>\n",
       "      <th id=\"T_d9a91_level0_col63\" class=\"col_heading level0 col63\" >rougher.state.floatbank10_f_level</th>\n",
       "      <th id=\"T_d9a91_level0_col64\" class=\"col_heading level0 col64\" >secondary_cleaner.output.tail_ag</th>\n",
       "      <th id=\"T_d9a91_level0_col65\" class=\"col_heading level0 col65\" >secondary_cleaner.output.tail_pb</th>\n",
       "      <th id=\"T_d9a91_level0_col66\" class=\"col_heading level0 col66\" >secondary_cleaner.output.tail_sol</th>\n",
       "      <th id=\"T_d9a91_level0_col67\" class=\"col_heading level0 col67\" >secondary_cleaner.output.tail_au</th>\n",
       "      <th id=\"T_d9a91_level0_col68\" class=\"col_heading level0 col68\" >secondary_cleaner.state.floatbank2_a_air</th>\n",
       "      <th id=\"T_d9a91_level0_col69\" class=\"col_heading level0 col69\" >secondary_cleaner.state.floatbank2_a_level</th>\n",
       "      <th id=\"T_d9a91_level0_col70\" class=\"col_heading level0 col70\" >secondary_cleaner.state.floatbank2_b_air</th>\n",
       "      <th id=\"T_d9a91_level0_col71\" class=\"col_heading level0 col71\" >secondary_cleaner.state.floatbank2_b_level</th>\n",
       "      <th id=\"T_d9a91_level0_col72\" class=\"col_heading level0 col72\" >secondary_cleaner.state.floatbank3_a_air</th>\n",
       "      <th id=\"T_d9a91_level0_col73\" class=\"col_heading level0 col73\" >secondary_cleaner.state.floatbank3_a_level</th>\n",
       "      <th id=\"T_d9a91_level0_col74\" class=\"col_heading level0 col74\" >secondary_cleaner.state.floatbank3_b_air</th>\n",
       "      <th id=\"T_d9a91_level0_col75\" class=\"col_heading level0 col75\" >secondary_cleaner.state.floatbank3_b_level</th>\n",
       "      <th id=\"T_d9a91_level0_col76\" class=\"col_heading level0 col76\" >secondary_cleaner.state.floatbank4_a_air</th>\n",
       "      <th id=\"T_d9a91_level0_col77\" class=\"col_heading level0 col77\" >secondary_cleaner.state.floatbank4_a_level</th>\n",
       "      <th id=\"T_d9a91_level0_col78\" class=\"col_heading level0 col78\" >secondary_cleaner.state.floatbank4_b_air</th>\n",
       "      <th id=\"T_d9a91_level0_col79\" class=\"col_heading level0 col79\" >secondary_cleaner.state.floatbank4_b_level</th>\n",
       "      <th id=\"T_d9a91_level0_col80\" class=\"col_heading level0 col80\" >secondary_cleaner.state.floatbank5_a_air</th>\n",
       "      <th id=\"T_d9a91_level0_col81\" class=\"col_heading level0 col81\" >secondary_cleaner.state.floatbank5_a_level</th>\n",
       "      <th id=\"T_d9a91_level0_col82\" class=\"col_heading level0 col82\" >secondary_cleaner.state.floatbank5_b_air</th>\n",
       "      <th id=\"T_d9a91_level0_col83\" class=\"col_heading level0 col83\" >secondary_cleaner.state.floatbank5_b_level</th>\n",
       "      <th id=\"T_d9a91_level0_col84\" class=\"col_heading level0 col84\" >secondary_cleaner.state.floatbank6_a_air</th>\n",
       "      <th id=\"T_d9a91_level0_col85\" class=\"col_heading level0 col85\" >secondary_cleaner.state.floatbank6_a_level</th>\n",
       "    </tr>\n",
       "  </thead>\n",
       "  <tbody>\n",
       "    <tr>\n",
       "      <th id=\"T_d9a91_level0_row0\" class=\"row_heading level0 row0\" >count</th>\n",
       "      <td id=\"T_d9a91_row0_col0\" class=\"data row0 col0\" >16,094.00</td>\n",
       "      <td id=\"T_d9a91_row0_col1\" class=\"data row0 col1\" >16,094.00</td>\n",
       "      <td id=\"T_d9a91_row0_col2\" class=\"data row0 col2\" >16,094.00</td>\n",
       "      <td id=\"T_d9a91_row0_col3\" class=\"data row0 col3\" >16,094.00</td>\n",
       "      <td id=\"T_d9a91_row0_col4\" class=\"data row0 col4\" >16,094.00</td>\n",
       "      <td id=\"T_d9a91_row0_col5\" class=\"data row0 col5\" >16,094.00</td>\n",
       "      <td id=\"T_d9a91_row0_col6\" class=\"data row0 col6\" >16,094.00</td>\n",
       "      <td id=\"T_d9a91_row0_col7\" class=\"data row0 col7\" >16,094.00</td>\n",
       "      <td id=\"T_d9a91_row0_col8\" class=\"data row0 col8\" >16,094.00</td>\n",
       "      <td id=\"T_d9a91_row0_col9\" class=\"data row0 col9\" >16,094.00</td>\n",
       "      <td id=\"T_d9a91_row0_col10\" class=\"data row0 col10\" >16,094.00</td>\n",
       "      <td id=\"T_d9a91_row0_col11\" class=\"data row0 col11\" >16,094.00</td>\n",
       "      <td id=\"T_d9a91_row0_col12\" class=\"data row0 col12\" >16,094.00</td>\n",
       "      <td id=\"T_d9a91_row0_col13\" class=\"data row0 col13\" >16,094.00</td>\n",
       "      <td id=\"T_d9a91_row0_col14\" class=\"data row0 col14\" >16,094.00</td>\n",
       "      <td id=\"T_d9a91_row0_col15\" class=\"data row0 col15\" >16,094.00</td>\n",
       "      <td id=\"T_d9a91_row0_col16\" class=\"data row0 col16\" >16,094.00</td>\n",
       "      <td id=\"T_d9a91_row0_col17\" class=\"data row0 col17\" >16,094.00</td>\n",
       "      <td id=\"T_d9a91_row0_col18\" class=\"data row0 col18\" >16,094.00</td>\n",
       "      <td id=\"T_d9a91_row0_col19\" class=\"data row0 col19\" >16,094.00</td>\n",
       "      <td id=\"T_d9a91_row0_col20\" class=\"data row0 col20\" >16,094.00</td>\n",
       "      <td id=\"T_d9a91_row0_col21\" class=\"data row0 col21\" >16,094.00</td>\n",
       "      <td id=\"T_d9a91_row0_col22\" class=\"data row0 col22\" >16,094.00</td>\n",
       "      <td id=\"T_d9a91_row0_col23\" class=\"data row0 col23\" >16,094.00</td>\n",
       "      <td id=\"T_d9a91_row0_col24\" class=\"data row0 col24\" >16,094.00</td>\n",
       "      <td id=\"T_d9a91_row0_col25\" class=\"data row0 col25\" >16,094.00</td>\n",
       "      <td id=\"T_d9a91_row0_col26\" class=\"data row0 col26\" >16,094.00</td>\n",
       "      <td id=\"T_d9a91_row0_col27\" class=\"data row0 col27\" >16,094.00</td>\n",
       "      <td id=\"T_d9a91_row0_col28\" class=\"data row0 col28\" >16,094.00</td>\n",
       "      <td id=\"T_d9a91_row0_col29\" class=\"data row0 col29\" >16,094.00</td>\n",
       "      <td id=\"T_d9a91_row0_col30\" class=\"data row0 col30\" >16,094.00</td>\n",
       "      <td id=\"T_d9a91_row0_col31\" class=\"data row0 col31\" >16,094.00</td>\n",
       "      <td id=\"T_d9a91_row0_col32\" class=\"data row0 col32\" >16,094.00</td>\n",
       "      <td id=\"T_d9a91_row0_col33\" class=\"data row0 col33\" >16,094.00</td>\n",
       "      <td id=\"T_d9a91_row0_col34\" class=\"data row0 col34\" >16,094.00</td>\n",
       "      <td id=\"T_d9a91_row0_col35\" class=\"data row0 col35\" >16,094.00</td>\n",
       "      <td id=\"T_d9a91_row0_col36\" class=\"data row0 col36\" >16,094.00</td>\n",
       "      <td id=\"T_d9a91_row0_col37\" class=\"data row0 col37\" >16,094.00</td>\n",
       "      <td id=\"T_d9a91_row0_col38\" class=\"data row0 col38\" >16,094.00</td>\n",
       "      <td id=\"T_d9a91_row0_col39\" class=\"data row0 col39\" >16,094.00</td>\n",
       "      <td id=\"T_d9a91_row0_col40\" class=\"data row0 col40\" >16,094.00</td>\n",
       "      <td id=\"T_d9a91_row0_col41\" class=\"data row0 col41\" >16,094.00</td>\n",
       "      <td id=\"T_d9a91_row0_col42\" class=\"data row0 col42\" >16,094.00</td>\n",
       "      <td id=\"T_d9a91_row0_col43\" class=\"data row0 col43\" >16,094.00</td>\n",
       "      <td id=\"T_d9a91_row0_col44\" class=\"data row0 col44\" >16,094.00</td>\n",
       "      <td id=\"T_d9a91_row0_col45\" class=\"data row0 col45\" >16,094.00</td>\n",
       "      <td id=\"T_d9a91_row0_col46\" class=\"data row0 col46\" >16,094.00</td>\n",
       "      <td id=\"T_d9a91_row0_col47\" class=\"data row0 col47\" >16,094.00</td>\n",
       "      <td id=\"T_d9a91_row0_col48\" class=\"data row0 col48\" >16,094.00</td>\n",
       "      <td id=\"T_d9a91_row0_col49\" class=\"data row0 col49\" >16,094.00</td>\n",
       "      <td id=\"T_d9a91_row0_col50\" class=\"data row0 col50\" >16,094.00</td>\n",
       "      <td id=\"T_d9a91_row0_col51\" class=\"data row0 col51\" >16,094.00</td>\n",
       "      <td id=\"T_d9a91_row0_col52\" class=\"data row0 col52\" >16,094.00</td>\n",
       "      <td id=\"T_d9a91_row0_col53\" class=\"data row0 col53\" >16,094.00</td>\n",
       "      <td id=\"T_d9a91_row0_col54\" class=\"data row0 col54\" >16,094.00</td>\n",
       "      <td id=\"T_d9a91_row0_col55\" class=\"data row0 col55\" >16,094.00</td>\n",
       "      <td id=\"T_d9a91_row0_col56\" class=\"data row0 col56\" >16,094.00</td>\n",
       "      <td id=\"T_d9a91_row0_col57\" class=\"data row0 col57\" >16,094.00</td>\n",
       "      <td id=\"T_d9a91_row0_col58\" class=\"data row0 col58\" >16,094.00</td>\n",
       "      <td id=\"T_d9a91_row0_col59\" class=\"data row0 col59\" >16,094.00</td>\n",
       "      <td id=\"T_d9a91_row0_col60\" class=\"data row0 col60\" >16,094.00</td>\n",
       "      <td id=\"T_d9a91_row0_col61\" class=\"data row0 col61\" >16,094.00</td>\n",
       "      <td id=\"T_d9a91_row0_col62\" class=\"data row0 col62\" >16,094.00</td>\n",
       "      <td id=\"T_d9a91_row0_col63\" class=\"data row0 col63\" >16,094.00</td>\n",
       "      <td id=\"T_d9a91_row0_col64\" class=\"data row0 col64\" >16,094.00</td>\n",
       "      <td id=\"T_d9a91_row0_col65\" class=\"data row0 col65\" >16,094.00</td>\n",
       "      <td id=\"T_d9a91_row0_col66\" class=\"data row0 col66\" >16,094.00</td>\n",
       "      <td id=\"T_d9a91_row0_col67\" class=\"data row0 col67\" >16,094.00</td>\n",
       "      <td id=\"T_d9a91_row0_col68\" class=\"data row0 col68\" >16,094.00</td>\n",
       "      <td id=\"T_d9a91_row0_col69\" class=\"data row0 col69\" >16,094.00</td>\n",
       "      <td id=\"T_d9a91_row0_col70\" class=\"data row0 col70\" >16,094.00</td>\n",
       "      <td id=\"T_d9a91_row0_col71\" class=\"data row0 col71\" >16,094.00</td>\n",
       "      <td id=\"T_d9a91_row0_col72\" class=\"data row0 col72\" >16,094.00</td>\n",
       "      <td id=\"T_d9a91_row0_col73\" class=\"data row0 col73\" >16,094.00</td>\n",
       "      <td id=\"T_d9a91_row0_col74\" class=\"data row0 col74\" >16,094.00</td>\n",
       "      <td id=\"T_d9a91_row0_col75\" class=\"data row0 col75\" >16,094.00</td>\n",
       "      <td id=\"T_d9a91_row0_col76\" class=\"data row0 col76\" >16,094.00</td>\n",
       "      <td id=\"T_d9a91_row0_col77\" class=\"data row0 col77\" >16,094.00</td>\n",
       "      <td id=\"T_d9a91_row0_col78\" class=\"data row0 col78\" >16,094.00</td>\n",
       "      <td id=\"T_d9a91_row0_col79\" class=\"data row0 col79\" >16,094.00</td>\n",
       "      <td id=\"T_d9a91_row0_col80\" class=\"data row0 col80\" >16,094.00</td>\n",
       "      <td id=\"T_d9a91_row0_col81\" class=\"data row0 col81\" >16,094.00</td>\n",
       "      <td id=\"T_d9a91_row0_col82\" class=\"data row0 col82\" >16,094.00</td>\n",
       "      <td id=\"T_d9a91_row0_col83\" class=\"data row0 col83\" >16,094.00</td>\n",
       "      <td id=\"T_d9a91_row0_col84\" class=\"data row0 col84\" >16,094.00</td>\n",
       "      <td id=\"T_d9a91_row0_col85\" class=\"data row0 col85\" >16,094.00</td>\n",
       "    </tr>\n",
       "    <tr>\n",
       "      <th id=\"T_d9a91_level0_row1\" class=\"row_heading level0 row1\" >min</th>\n",
       "      <td id=\"T_d9a91_row1_col0\" class=\"data row1 col0\" >0.00</td>\n",
       "      <td id=\"T_d9a91_row1_col1\" class=\"data row1 col1\" >0.00</td>\n",
       "      <td id=\"T_d9a91_row1_col2\" class=\"data row1 col2\" >0.00</td>\n",
       "      <td id=\"T_d9a91_row1_col3\" class=\"data row1 col3\" >0.00</td>\n",
       "      <td id=\"T_d9a91_row1_col4\" class=\"data row1 col4\" >0.00</td>\n",
       "      <td id=\"T_d9a91_row1_col5\" class=\"data row1 col5\" >0.00</td>\n",
       "      <td id=\"T_d9a91_row1_col6\" class=\"data row1 col6\" >0.00</td>\n",
       "      <td id=\"T_d9a91_row1_col7\" class=\"data row1 col7\" >0.00</td>\n",
       "      <td id=\"T_d9a91_row1_col8\" class=\"data row1 col8\" >0.00</td>\n",
       "      <td id=\"T_d9a91_row1_col9\" class=\"data row1 col9\" >1.87</td>\n",
       "      <td id=\"T_d9a91_row1_col10\" class=\"data row1 col10\" >0.00</td>\n",
       "      <td id=\"T_d9a91_row1_col11\" class=\"data row1 col11\" >1.08</td>\n",
       "      <td id=\"T_d9a91_row1_col12\" class=\"data row1 col12\" >0.00</td>\n",
       "      <td id=\"T_d9a91_row1_col13\" class=\"data row1 col13\" >0.00</td>\n",
       "      <td id=\"T_d9a91_row1_col14\" class=\"data row1 col14\" >0.00</td>\n",
       "      <td id=\"T_d9a91_row1_col15\" class=\"data row1 col15\" >0.00</td>\n",
       "      <td id=\"T_d9a91_row1_col16\" class=\"data row1 col16\" >0.00</td>\n",
       "      <td id=\"T_d9a91_row1_col17\" class=\"data row1 col17\" >0.00</td>\n",
       "      <td id=\"T_d9a91_row1_col18\" class=\"data row1 col18\" >0.00</td>\n",
       "      <td id=\"T_d9a91_row1_col19\" class=\"data row1 col19\" >0.00</td>\n",
       "      <td id=\"T_d9a91_row1_col20\" class=\"data row1 col20\" >0.00</td>\n",
       "      <td id=\"T_d9a91_row1_col21\" class=\"data row1 col21\" >1,011.53</td>\n",
       "      <td id=\"T_d9a91_row1_col22\" class=\"data row1 col22\" >-653.48</td>\n",
       "      <td id=\"T_d9a91_row1_col23\" class=\"data row1 col23\" >1,012.93</td>\n",
       "      <td id=\"T_d9a91_row1_col24\" class=\"data row1 col24\" >-799.75</td>\n",
       "      <td id=\"T_d9a91_row1_col25\" class=\"data row1 col25\" >1,011.87</td>\n",
       "      <td id=\"T_d9a91_row1_col26\" class=\"data row1 col26\" >-790.72</td>\n",
       "      <td id=\"T_d9a91_row1_col27\" class=\"data row1 col27\" >523.35</td>\n",
       "      <td id=\"T_d9a91_row1_col28\" class=\"data row1 col28\" >-799.79</td>\n",
       "      <td id=\"T_d9a91_row1_col29\" class=\"data row1 col29\" >-42,235,197.37</td>\n",
       "      <td id=\"T_d9a91_row1_col30\" class=\"data row1 col30\" >-486.60</td>\n",
       "      <td id=\"T_d9a91_row1_col31\" class=\"data row1 col31\" >-264.98</td>\n",
       "      <td id=\"T_d9a91_row1_col32\" class=\"data row1 col32\" >0.98</td>\n",
       "      <td id=\"T_d9a91_row1_col33\" class=\"data row1 col33\" >0.01</td>\n",
       "      <td id=\"T_d9a91_row1_col34\" class=\"data row1 col34\" >0.01</td>\n",
       "      <td id=\"T_d9a91_row1_col35\" class=\"data row1 col35\" >0.00</td>\n",
       "      <td id=\"T_d9a91_row1_col36\" class=\"data row1 col36\" >0.05</td>\n",
       "      <td id=\"T_d9a91_row1_col37\" class=\"data row1 col37\" >0.01</td>\n",
       "      <td id=\"T_d9a91_row1_col38\" class=\"data row1 col38\" >0.01</td>\n",
       "      <td id=\"T_d9a91_row1_col39\" class=\"data row1 col39\" >0.35</td>\n",
       "      <td id=\"T_d9a91_row1_col40\" class=\"data row1 col40\" >0.01</td>\n",
       "      <td id=\"T_d9a91_row1_col41\" class=\"data row1 col41\" >0.01</td>\n",
       "      <td id=\"T_d9a91_row1_col42\" class=\"data row1 col42\" >0.01</td>\n",
       "      <td id=\"T_d9a91_row1_col43\" class=\"data row1 col43\" >0.00</td>\n",
       "      <td id=\"T_d9a91_row1_col44\" class=\"data row1 col44\" >0.00</td>\n",
       "      <td id=\"T_d9a91_row1_col45\" class=\"data row1 col45\" >0.00</td>\n",
       "      <td id=\"T_d9a91_row1_col46\" class=\"data row1 col46\" >0.00</td>\n",
       "      <td id=\"T_d9a91_row1_col47\" class=\"data row1 col47\" >0.00</td>\n",
       "      <td id=\"T_d9a91_row1_col48\" class=\"data row1 col48\" >2.32</td>\n",
       "      <td id=\"T_d9a91_row1_col49\" class=\"data row1 col49\" >0.01</td>\n",
       "      <td id=\"T_d9a91_row1_col50\" class=\"data row1 col50\" >10.01</td>\n",
       "      <td id=\"T_d9a91_row1_col51\" class=\"data row1 col51\" >0.05</td>\n",
       "      <td id=\"T_d9a91_row1_col52\" class=\"data row1 col52\" >299.10</td>\n",
       "      <td id=\"T_d9a91_row1_col53\" class=\"data row1 col53\" >-650.09</td>\n",
       "      <td id=\"T_d9a91_row1_col54\" class=\"data row1 col54\" >379.02</td>\n",
       "      <td id=\"T_d9a91_row1_col55\" class=\"data row1 col55\" >-558.97</td>\n",
       "      <td id=\"T_d9a91_row1_col56\" class=\"data row1 col56\" >831.54</td>\n",
       "      <td id=\"T_d9a91_row1_col57\" class=\"data row1 col57\" >-610.36</td>\n",
       "      <td id=\"T_d9a91_row1_col58\" class=\"data row1 col58\" >304.09</td>\n",
       "      <td id=\"T_d9a91_row1_col59\" class=\"data row1 col59\" >-648.39</td>\n",
       "      <td id=\"T_d9a91_row1_col60\" class=\"data row1 col60\" >547.54</td>\n",
       "      <td id=\"T_d9a91_row1_col61\" class=\"data row1 col61\" >-649.44</td>\n",
       "      <td id=\"T_d9a91_row1_col62\" class=\"data row1 col62\" >695.18</td>\n",
       "      <td id=\"T_d9a91_row1_col63\" class=\"data row1 col63\" >-649.51</td>\n",
       "      <td id=\"T_d9a91_row1_col64\" class=\"data row1 col64\" >0.00</td>\n",
       "      <td id=\"T_d9a91_row1_col65\" class=\"data row1 col65\" >0.00</td>\n",
       "      <td id=\"T_d9a91_row1_col66\" class=\"data row1 col66\" >0.00</td>\n",
       "      <td id=\"T_d9a91_row1_col67\" class=\"data row1 col67\" >0.00</td>\n",
       "      <td id=\"T_d9a91_row1_col68\" class=\"data row1 col68\" >0.12</td>\n",
       "      <td id=\"T_d9a91_row1_col69\" class=\"data row1 col69\" >-799.61</td>\n",
       "      <td id=\"T_d9a91_row1_col70\" class=\"data row1 col70\" >0.00</td>\n",
       "      <td id=\"T_d9a91_row1_col71\" class=\"data row1 col71\" >-799.87</td>\n",
       "      <td id=\"T_d9a91_row1_col72\" class=\"data row1 col72\" >0.00</td>\n",
       "      <td id=\"T_d9a91_row1_col73\" class=\"data row1 col73\" >-799.59</td>\n",
       "      <td id=\"T_d9a91_row1_col74\" class=\"data row1 col74\" >0.00</td>\n",
       "      <td id=\"T_d9a91_row1_col75\" class=\"data row1 col75\" >-758.76</td>\n",
       "      <td id=\"T_d9a91_row1_col76\" class=\"data row1 col76\" >0.00</td>\n",
       "      <td id=\"T_d9a91_row1_col77\" class=\"data row1 col77\" >-799.71</td>\n",
       "      <td id=\"T_d9a91_row1_col78\" class=\"data row1 col78\" >0.00</td>\n",
       "      <td id=\"T_d9a91_row1_col79\" class=\"data row1 col79\" >-799.89</td>\n",
       "      <td id=\"T_d9a91_row1_col80\" class=\"data row1 col80\" >-0.37</td>\n",
       "      <td id=\"T_d9a91_row1_col81\" class=\"data row1 col81\" >-797.14</td>\n",
       "      <td id=\"T_d9a91_row1_col82\" class=\"data row1 col82\" >2.78</td>\n",
       "      <td id=\"T_d9a91_row1_col83\" class=\"data row1 col83\" >-800.01</td>\n",
       "      <td id=\"T_d9a91_row1_col84\" class=\"data row1 col84\" >0.13</td>\n",
       "      <td id=\"T_d9a91_row1_col85\" class=\"data row1 col85\" >-809.74</td>\n",
       "    </tr>\n",
       "    <tr>\n",
       "      <th id=\"T_d9a91_level0_row2\" class=\"row_heading level0 row2\" >max</th>\n",
       "      <td id=\"T_d9a91_row2_col0\" class=\"data row2 col0\" >16.00</td>\n",
       "      <td id=\"T_d9a91_row2_col1\" class=\"data row2 col1\" >17.03</td>\n",
       "      <td id=\"T_d9a91_row2_col2\" class=\"data row2 col2\" >19.62</td>\n",
       "      <td id=\"T_d9a91_row2_col3\" class=\"data row2 col3\" >51.57</td>\n",
       "      <td id=\"T_d9a91_row2_col4\" class=\"data row2 col4\" >100.00</td>\n",
       "      <td id=\"T_d9a91_row2_col5\" class=\"data row2 col5\" >19.55</td>\n",
       "      <td id=\"T_d9a91_row2_col6\" class=\"data row2 col6\" >5.80</td>\n",
       "      <td id=\"T_d9a91_row2_col7\" class=\"data row2 col7\" >22.27</td>\n",
       "      <td id=\"T_d9a91_row2_col8\" class=\"data row2 col8\" >8.25</td>\n",
       "      <td id=\"T_d9a91_row2_col9\" class=\"data row2 col9\" >265.98</td>\n",
       "      <td id=\"T_d9a91_row2_col10\" class=\"data row2 col10\" >20.05</td>\n",
       "      <td id=\"T_d9a91_row2_col11\" class=\"data row2 col11\" >15.50</td>\n",
       "      <td id=\"T_d9a91_row2_col12\" class=\"data row2 col12\" >4.10</td>\n",
       "      <td id=\"T_d9a91_row2_col13\" class=\"data row2 col13\" >15.01</td>\n",
       "      <td id=\"T_d9a91_row2_col14\" class=\"data row2 col14\" >17.08</td>\n",
       "      <td id=\"T_d9a91_row2_col15\" class=\"data row2 col15\" >22.46</td>\n",
       "      <td id=\"T_d9a91_row2_col16\" class=\"data row2 col16\" >45.93</td>\n",
       "      <td id=\"T_d9a91_row2_col17\" class=\"data row2 col17\" >29.46</td>\n",
       "      <td id=\"T_d9a91_row2_col18\" class=\"data row2 col18\" >9.63</td>\n",
       "      <td id=\"T_d9a91_row2_col19\" class=\"data row2 col19\" >22.28</td>\n",
       "      <td id=\"T_d9a91_row2_col20\" class=\"data row2 col20\" >17.79</td>\n",
       "      <td id=\"T_d9a91_row2_col21\" class=\"data row2 col21\" >2,079.53</td>\n",
       "      <td id=\"T_d9a91_row2_col22\" class=\"data row2 col22\" >-57.20</td>\n",
       "      <td id=\"T_d9a91_row2_col23\" class=\"data row2 col23\" >1,823.31</td>\n",
       "      <td id=\"T_d9a91_row2_col24\" class=\"data row2 col24\" >-142.53</td>\n",
       "      <td id=\"T_d9a91_row2_col25\" class=\"data row2 col25\" >1,847.62</td>\n",
       "      <td id=\"T_d9a91_row2_col26\" class=\"data row2 col26\" >-150.94</td>\n",
       "      <td id=\"T_d9a91_row2_col27\" class=\"data row2 col27\" >2,398.90</td>\n",
       "      <td id=\"T_d9a91_row2_col28\" class=\"data row2 col28\" >-126.99</td>\n",
       "      <td id=\"T_d9a91_row2_col29\" class=\"data row2 col29\" >3,428,098.94</td>\n",
       "      <td id=\"T_d9a91_row2_col30\" class=\"data row2 col30\" >11,175.02</td>\n",
       "      <td id=\"T_d9a91_row2_col31\" class=\"data row2 col31\" >11,077.97</td>\n",
       "      <td id=\"T_d9a91_row2_col32\" class=\"data row2 col32\" >19.41</td>\n",
       "      <td id=\"T_d9a91_row2_col33\" class=\"data row2 col33\" >14.60</td>\n",
       "      <td id=\"T_d9a91_row2_col34\" class=\"data row2 col34\" >7.14</td>\n",
       "      <td id=\"T_d9a91_row2_col35\" class=\"data row2 col35\" >717.51</td>\n",
       "      <td id=\"T_d9a91_row2_col36\" class=\"data row2 col36\" >484.97</td>\n",
       "      <td id=\"T_d9a91_row2_col37\" class=\"data row2 col37\" >53.48</td>\n",
       "      <td id=\"T_d9a91_row2_col38\" class=\"data row2 col38\" >13.73</td>\n",
       "      <td id=\"T_d9a91_row2_col39\" class=\"data row2 col39\" >36.12</td>\n",
       "      <td id=\"T_d9a91_row2_col40\" class=\"data row2 col40\" >9.70</td>\n",
       "      <td id=\"T_d9a91_row2_col41\" class=\"data row2 col41\" >37.98</td>\n",
       "      <td id=\"T_d9a91_row2_col42\" class=\"data row2 col42\" >9.70</td>\n",
       "      <td id=\"T_d9a91_row2_col43\" class=\"data row2 col43\" >21.73</td>\n",
       "      <td id=\"T_d9a91_row2_col44\" class=\"data row2 col44\" >12.70</td>\n",
       "      <td id=\"T_d9a91_row2_col45\" class=\"data row2 col45\" >38.35</td>\n",
       "      <td id=\"T_d9a91_row2_col46\" class=\"data row2 col46\" >28.82</td>\n",
       "      <td id=\"T_d9a91_row2_col47\" class=\"data row2 col47\" >100.00</td>\n",
       "      <td id=\"T_d9a91_row2_col48\" class=\"data row2 col48\" >11.51</td>\n",
       "      <td id=\"T_d9a91_row2_col49\" class=\"data row2 col49\" >3.35</td>\n",
       "      <td id=\"T_d9a91_row2_col50\" class=\"data row2 col50\" >65.62</td>\n",
       "      <td id=\"T_d9a91_row2_col51\" class=\"data row2 col51\" >8.25</td>\n",
       "      <td id=\"T_d9a91_row2_col52\" class=\"data row2 col52\" >1,521.98</td>\n",
       "      <td id=\"T_d9a91_row2_col53\" class=\"data row2 col53\" >-273.78</td>\n",
       "      <td id=\"T_d9a91_row2_col54\" class=\"data row2 col54\" >1,807.21</td>\n",
       "      <td id=\"T_d9a91_row2_col55\" class=\"data row2 col55\" >-298.20</td>\n",
       "      <td id=\"T_d9a91_row2_col56\" class=\"data row2 col56\" >2,499.13</td>\n",
       "      <td id=\"T_d9a91_row2_col57\" class=\"data row2 col57\" >-295.10</td>\n",
       "      <td id=\"T_d9a91_row2_col58\" class=\"data row2 col58\" >1,817.20</td>\n",
       "      <td id=\"T_d9a91_row2_col59\" class=\"data row2 col59\" >-296.59</td>\n",
       "      <td id=\"T_d9a91_row2_col60\" class=\"data row2 col60\" >1,922.64</td>\n",
       "      <td id=\"T_d9a91_row2_col61\" class=\"data row2 col61\" >-272.20</td>\n",
       "      <td id=\"T_d9a91_row2_col62\" class=\"data row2 col62\" >1,706.31</td>\n",
       "      <td id=\"T_d9a91_row2_col63\" class=\"data row2 col63\" >-249.80</td>\n",
       "      <td id=\"T_d9a91_row2_col64\" class=\"data row2 col64\" >23.26</td>\n",
       "      <td id=\"T_d9a91_row2_col65\" class=\"data row2 col65\" >17.04</td>\n",
       "      <td id=\"T_d9a91_row2_col66\" class=\"data row2 col66\" >17.98</td>\n",
       "      <td id=\"T_d9a91_row2_col67\" class=\"data row2 col67\" >26.81</td>\n",
       "      <td id=\"T_d9a91_row2_col68\" class=\"data row2 col68\" >52.65</td>\n",
       "      <td id=\"T_d9a91_row2_col69\" class=\"data row2 col69\" >-166.93</td>\n",
       "      <td id=\"T_d9a91_row2_col70\" class=\"data row2 col70\" >35.08</td>\n",
       "      <td id=\"T_d9a91_row2_col71\" class=\"data row2 col71\" >-212.00</td>\n",
       "      <td id=\"T_d9a91_row2_col72\" class=\"data row2 col72\" >44.26</td>\n",
       "      <td id=\"T_d9a91_row2_col73\" class=\"data row2 col73\" >-191.68</td>\n",
       "      <td id=\"T_d9a91_row2_col74\" class=\"data row2 col74\" >35.07</td>\n",
       "      <td id=\"T_d9a91_row2_col75\" class=\"data row2 col75\" >-159.80</td>\n",
       "      <td id=\"T_d9a91_row2_col76\" class=\"data row2 col76\" >30.12</td>\n",
       "      <td id=\"T_d9a91_row2_col77\" class=\"data row2 col77\" >-245.24</td>\n",
       "      <td id=\"T_d9a91_row2_col78\" class=\"data row2 col78\" >24.01</td>\n",
       "      <td id=\"T_d9a91_row2_col79\" class=\"data row2 col79\" >-110.55</td>\n",
       "      <td id=\"T_d9a91_row2_col80\" class=\"data row2 col80\" >43.71</td>\n",
       "      <td id=\"T_d9a91_row2_col81\" class=\"data row2 col81\" >-244.48</td>\n",
       "      <td id=\"T_d9a91_row2_col82\" class=\"data row2 col82\" >27.93</td>\n",
       "      <td id=\"T_d9a91_row2_col83\" class=\"data row2 col83\" >-137.74</td>\n",
       "      <td id=\"T_d9a91_row2_col84\" class=\"data row2 col84\" >32.19</td>\n",
       "      <td id=\"T_d9a91_row2_col85\" class=\"data row2 col85\" >-104.43</td>\n",
       "    </tr>\n",
       "  </tbody>\n",
       "</table>\n"
      ],
      "text/plain": [
       "<pandas.io.formats.style.Styler at 0x22e29d0ddf0>"
      ]
     },
     "metadata": {},
     "output_type": "display_data"
    }
   ],
   "source": [
    "numerics_1 = df_train.select_dtypes(include=\"number\").columns\n",
    "numerics_2 = df_test.select_dtypes(include=\"number\").columns\n",
    "numerics_3 = df_full.select_dtypes(include=\"number\").columns\n",
    "\n",
    "display(df_train[numerics_1].apply (['count', 'min', 'max']).style.format(\"{:,.2f}\"))\n",
    "display(df_test[numerics_2].apply (['count', 'min', 'max']).style.format(\"{:,.2f}\"))\n",
    "display(df_full[numerics_3].apply (['count', 'min', 'max']).style.format(\"{:,.2f}\"))\n"
   ]
  },
  {
   "cell_type": "markdown",
   "metadata": {},
   "source": [
    "**Выводы** \n",
    "1. Полный датасет имеет длину 19439 записей. Тренировочный `df_train` и тестовый `df_test` датасеты разбиты в соотношении 72.79:27.21 (14149 и 5290 записей соответственно), сумма их записей соответствует длине полного датасет `df_full`\n",
    "2. Тестовая выборка `df_test` не содержит целевые признаки `rougher.output.recovery`, `final.output.recovery`, также пропущены прочие столбцы - всего 27 столбцов (в том числе целевые признаки) в связи с тем, что ряд данных недоступен до окончания производства.\n",
    "3. Датасеты имеют ряд незначительных пропусков по разным столбцам. Заметная часть пропусков (211 шт.) относится к концентрации примесей `final.output.concentrate_sol` на заключительном этапе. `\n",
    "4. Полные дубликаты в датасетах отсутствуют"
   ]
  },
  {
   "cell_type": "markdown",
   "metadata": {},
   "source": [
    "### Подготовка данных"
   ]
  },
  {
   "cell_type": "markdown",
   "metadata": {},
   "source": [
    "#### Подготовка столбцов датасетов"
   ]
  },
  {
   "cell_type": "markdown",
   "metadata": {},
   "source": [
    "**В дальнейшем для проверки правильности расчета `rougher.output.recovery` нам потребуются столбцы `rougher.output.concentrate_au`  и `rougher.output.recovery`. Они отсутствуют в тестовой выборке и мы избавимся от них. Поэтому на текущем этапе заранее выгрузим признаки в отдельный датасет `df_rougher`.**"
   ]
  },
  {
   "cell_type": "code",
   "execution_count": 18,
   "metadata": {},
   "outputs": [],
   "source": [
    "df_rougher = df_train[['rougher.input.feed_au', 'rougher.output.concentrate_au', 'rougher.output.tail_au', 'rougher.output.recovery']]"
   ]
  },
  {
   "cell_type": "markdown",
   "metadata": {},
   "source": [
    "Тестовая выборка не содержит целевые значения `rougher.output.recovery`, `final.output.recovery`. Добавим их из полного датасета `df_full`"
   ]
  },
  {
   "cell_type": "code",
   "execution_count": 19,
   "metadata": {},
   "outputs": [],
   "source": [
    "df_test = df_test.merge(df_full[['date', 'final.output.recovery', 'rougher.output.recovery']], how = 'left', on='date')"
   ]
  },
  {
   "cell_type": "markdown",
   "metadata": {},
   "source": [
    "Тестовая выборка не содержит ряд параметров (см.выше). В связи с этим обученная на тренеровочной выборке модель встретится с влиянием низвестных ей вводных. Удалим такие параметры из тренеровочноый выборки df_train:"
   ]
  },
  {
   "cell_type": "code",
   "execution_count": 20,
   "metadata": {
    "scrolled": true
   },
   "outputs": [
    {
     "name": "stdout",
     "output_type": "stream",
     "text": [
      "Число столбцов df_train, отсутствующих в df_test: 32\n"
     ]
    }
   ],
   "source": [
    "list_columns = list(set(df_train.columns)-set(df_test.columns))\n",
    "print('Число столбцов df_train, отсутствующих в df_test:', len(list_columns))\n",
    "df_train = df_train.drop(columns=list_columns, axis=1)"
   ]
  },
  {
   "cell_type": "code",
   "execution_count": 21,
   "metadata": {},
   "outputs": [
    {
     "name": "stdout",
     "output_type": "stream",
     "text": [
      "date                                            0\n",
      "primary_cleaner.input.sulfate                   4\n",
      "primary_cleaner.input.depressant                5\n",
      "primary_cleaner.input.feed_size                 0\n",
      "primary_cleaner.input.xanthate                  4\n",
      "primary_cleaner.state.floatbank8_a_air          0\n",
      "primary_cleaner.state.floatbank8_a_level        0\n",
      "primary_cleaner.state.floatbank8_b_air          0\n",
      "primary_cleaner.state.floatbank8_b_level        0\n",
      "primary_cleaner.state.floatbank8_c_air          0\n",
      "primary_cleaner.state.floatbank8_c_level        0\n",
      "primary_cleaner.state.floatbank8_d_air          0\n",
      "primary_cleaner.state.floatbank8_d_level        0\n",
      "rougher.input.feed_ag                           0\n",
      "rougher.input.feed_pb                           0\n",
      "rougher.input.feed_rate                         3\n",
      "rougher.input.feed_size                         1\n",
      "rougher.input.feed_sol                         21\n",
      "rougher.input.feed_au                           0\n",
      "rougher.input.floatbank10_sulfate               5\n",
      "rougher.input.floatbank10_xanthate              0\n",
      "rougher.input.floatbank11_sulfate               8\n",
      "rougher.input.floatbank11_xanthate             25\n",
      "rougher.state.floatbank10_a_air                 0\n",
      "rougher.state.floatbank10_a_level               0\n",
      "rougher.state.floatbank10_b_air                 0\n",
      "rougher.state.floatbank10_b_level               0\n",
      "rougher.state.floatbank10_c_air                 0\n",
      "rougher.state.floatbank10_c_level               0\n",
      "rougher.state.floatbank10_d_air                 0\n",
      "rougher.state.floatbank10_d_level               0\n",
      "rougher.state.floatbank10_e_air                 0\n",
      "rougher.state.floatbank10_e_level               0\n",
      "rougher.state.floatbank10_f_air                 0\n",
      "rougher.state.floatbank10_f_level               0\n",
      "secondary_cleaner.state.floatbank2_a_air        3\n",
      "secondary_cleaner.state.floatbank2_a_level      0\n",
      "secondary_cleaner.state.floatbank2_b_air        2\n",
      "secondary_cleaner.state.floatbank2_b_level      0\n",
      "secondary_cleaner.state.floatbank3_a_air        9\n",
      "secondary_cleaner.state.floatbank3_a_level      0\n",
      "secondary_cleaner.state.floatbank3_b_air        0\n",
      "secondary_cleaner.state.floatbank3_b_level      0\n",
      "secondary_cleaner.state.floatbank4_a_air        0\n",
      "secondary_cleaner.state.floatbank4_a_level      0\n",
      "secondary_cleaner.state.floatbank4_b_air        0\n",
      "secondary_cleaner.state.floatbank4_b_level      0\n",
      "secondary_cleaner.state.floatbank5_a_air        0\n",
      "secondary_cleaner.state.floatbank5_a_level      0\n",
      "secondary_cleaner.state.floatbank5_b_air        0\n",
      "secondary_cleaner.state.floatbank5_b_level      0\n",
      "secondary_cleaner.state.floatbank6_a_air        0\n",
      "secondary_cleaner.state.floatbank6_a_level      0\n",
      "final.output.recovery                         213\n",
      "rougher.output.recovery                       213\n",
      "dtype: int64\n",
      "516\n"
     ]
    }
   ],
   "source": [
    "print(df_test.isna().sum())\n",
    "print(df_test.isna().sum().sum())"
   ]
  },
  {
   "cell_type": "code",
   "execution_count": 22,
   "metadata": {
    "scrolled": true
   },
   "outputs": [
    {
     "name": "stdout",
     "output_type": "stream",
     "text": [
      "date                                            0\n",
      "primary_cleaner.input.sulfate                   4\n",
      "primary_cleaner.input.depressant                5\n",
      "primary_cleaner.input.feed_size                 0\n",
      "primary_cleaner.input.xanthate                  4\n",
      "primary_cleaner.state.floatbank8_a_air          0\n",
      "primary_cleaner.state.floatbank8_a_level        0\n",
      "primary_cleaner.state.floatbank8_b_air          0\n",
      "primary_cleaner.state.floatbank8_b_level        0\n",
      "primary_cleaner.state.floatbank8_c_air          0\n",
      "primary_cleaner.state.floatbank8_c_level        0\n",
      "primary_cleaner.state.floatbank8_d_air          0\n",
      "primary_cleaner.state.floatbank8_d_level        0\n",
      "rougher.input.feed_ag                           0\n",
      "rougher.input.feed_pb                           0\n",
      "rougher.input.feed_rate                         3\n",
      "rougher.input.feed_size                         1\n",
      "rougher.input.feed_sol                         21\n",
      "rougher.input.feed_au                           0\n",
      "rougher.input.floatbank10_sulfate               5\n",
      "rougher.input.floatbank10_xanthate              0\n",
      "rougher.input.floatbank11_sulfate               8\n",
      "rougher.input.floatbank11_xanthate             25\n",
      "rougher.state.floatbank10_a_air                 0\n",
      "rougher.state.floatbank10_a_level               0\n",
      "rougher.state.floatbank10_b_air                 0\n",
      "rougher.state.floatbank10_b_level               0\n",
      "rougher.state.floatbank10_c_air                 0\n",
      "rougher.state.floatbank10_c_level               0\n",
      "rougher.state.floatbank10_d_air                 0\n",
      "rougher.state.floatbank10_d_level               0\n",
      "rougher.state.floatbank10_e_air                 0\n",
      "rougher.state.floatbank10_e_level               0\n",
      "rougher.state.floatbank10_f_air                 0\n",
      "rougher.state.floatbank10_f_level               0\n",
      "secondary_cleaner.state.floatbank2_a_air        3\n",
      "secondary_cleaner.state.floatbank2_a_level      0\n",
      "secondary_cleaner.state.floatbank2_b_air        2\n",
      "secondary_cleaner.state.floatbank2_b_level      0\n",
      "secondary_cleaner.state.floatbank3_a_air        9\n",
      "secondary_cleaner.state.floatbank3_a_level      0\n",
      "secondary_cleaner.state.floatbank3_b_air        0\n",
      "secondary_cleaner.state.floatbank3_b_level      0\n",
      "secondary_cleaner.state.floatbank4_a_air        0\n",
      "secondary_cleaner.state.floatbank4_a_level      0\n",
      "secondary_cleaner.state.floatbank4_b_air        0\n",
      "secondary_cleaner.state.floatbank4_b_level      0\n",
      "secondary_cleaner.state.floatbank5_a_air        0\n",
      "secondary_cleaner.state.floatbank5_a_level      0\n",
      "secondary_cleaner.state.floatbank5_b_air        0\n",
      "secondary_cleaner.state.floatbank5_b_level      0\n",
      "secondary_cleaner.state.floatbank6_a_air        0\n",
      "secondary_cleaner.state.floatbank6_a_level      0\n",
      "final.output.recovery                         213\n",
      "rougher.output.recovery                       213\n",
      "dtype: int64\n",
      "1705\n"
     ]
    }
   ],
   "source": [
    "print(df_test.isna().sum())\n",
    "print(df_train.isna().sum().sum())"
   ]
  },
  {
   "cell_type": "markdown",
   "metadata": {},
   "source": [
    "Записи датасета `data_full` последовательные по дате. В соответствии с условием задачи данные соседних записей имеют малое различие (точки измерений близки по времеин). Заполним пропуски ближайшим предшествующим в тренеровочной и тестовой выборках:"
   ]
  },
  {
   "cell_type": "code",
   "execution_count": 23,
   "metadata": {},
   "outputs": [],
   "source": [
    "df_train.fillna(method='ffill', inplace=True)\n",
    "df_test.fillna(method='ffill', inplace=True)\n",
    "df_full.fillna(method='ffill', inplace=True)"
   ]
  },
  {
   "cell_type": "markdown",
   "metadata": {},
   "source": [
    "#### Проверим на тренеровочной выборке, что эффективность обогащения `rougher.output.recovery` рассчитана правильно"
   ]
  },
  {
   "cell_type": "markdown",
   "metadata": {},
   "source": [
    "Расчитаем `rougher.output.recovery` вручную по формуле. Датасет `df_rougher` бы сформирован ранее в п.1.3.1:"
   ]
  },
  {
   "cell_type": "markdown",
   "metadata": {},
   "source": [
    "'rougher.input.feed_au', 'rougher.output.concentrate_au', 'rougher.output.tail_au', 'rougher.output.recovery'"
   ]
  },
  {
   "cell_type": "code",
   "execution_count": 24,
   "metadata": {},
   "outputs": [],
   "source": [
    "df_rougher['recovery'] = 100 * (df_rougher['rougher.output.concentrate_au'] * \n",
    "                                (df_rougher['rougher.input.feed_au'] - df_rougher['rougher.output.tail_au']) ) \\\n",
    "                                 / (df_rougher['rougher.input.feed_au'] * \n",
    "                               (df_rougher['rougher.output.concentrate_au'] - df_rougher['rougher.output.tail_au']) )"
   ]
  },
  {
   "cell_type": "markdown",
   "metadata": {},
   "source": [
    "Сравним расчетные значения с соответствующими значениями выборки:"
   ]
  },
  {
   "cell_type": "code",
   "execution_count": 25,
   "metadata": {},
   "outputs": [
    {
     "name": "stdout",
     "output_type": "stream",
     "text": [
      "Ошибка MAE для расчетного значения rougher.output.recovery: 1.1131451184435918e-14\n"
     ]
    }
   ],
   "source": [
    "print('Ошибка MAE для расчетного значения rougher.output.recovery:', \n",
    "      mean_absolute_error(df_rougher['recovery'], df_rougher['rougher.output.recovery'] ))"
   ]
  },
  {
   "cell_type": "markdown",
   "metadata": {},
   "source": [
    "**Выводы** \n",
    "1. Выполнены обзор данных, заполнение пропущенных значений выборок по данным полного датасета.\n",
    "2. Столбцы тренеровочной и тестовой выборок привдеены в соответствие.\n",
    "3. Значение `rougher.output.recovery` датасетов верное, ошибка между ним и расчетным значениям стремится к нулю и составляет 1.1e-14"
   ]
  },
  {
   "cell_type": "markdown",
   "metadata": {},
   "source": [
    "## Анализ данных"
   ]
  },
  {
   "cell_type": "markdown",
   "metadata": {},
   "source": [
    "### Посмотрим, как меняется концентрация металлов (Au, Ag, Pb) на различных этапах очистки:"
   ]
  },
  {
   "cell_type": "markdown",
   "metadata": {},
   "source": [
    "Перечень концентраций на выходе по этапам: \n",
    "- 'rougher.input.feed_pb'\n",
    "- 'rougher.input.feed_ag'\n",
    "- 'rougher.input.feed_au'\n",
    "- 'rougher.output.concentrate_pb'\n",
    "- 'rougher.output.concentrate_ag'\n",
    "- 'rougher.output.concentrate_au'\n",
    "- 'primary_cleaner.output.concentrate_pb'\n",
    "- 'primary_cleaner.output.concentrate_ag'\n",
    "- 'primary_cleaner.output.concentrate_au'\n",
    "- 'final.output.concentrate_pb'\n",
    "- 'final.output.concentrate_ag'\n",
    "- 'final.output.concentrate_au'"
   ]
  },
  {
   "cell_type": "code",
   "execution_count": 26,
   "metadata": {},
   "outputs": [
    {
     "data": {
      "text/html": [
       "<div>\n",
       "<style scoped>\n",
       "    .dataframe tbody tr th:only-of-type {\n",
       "        vertical-align: middle;\n",
       "    }\n",
       "\n",
       "    .dataframe tbody tr th {\n",
       "        vertical-align: top;\n",
       "    }\n",
       "\n",
       "    .dataframe thead th {\n",
       "        text-align: right;\n",
       "    }\n",
       "</style>\n",
       "<table border=\"1\" class=\"dataframe\">\n",
       "  <thead>\n",
       "    <tr style=\"text-align: right;\">\n",
       "      <th></th>\n",
       "      <th>Свинец</th>\n",
       "      <th>Серебро</th>\n",
       "      <th>Золото</th>\n",
       "    </tr>\n",
       "    <tr>\n",
       "      <th>Этап</th>\n",
       "      <th></th>\n",
       "      <th></th>\n",
       "      <th></th>\n",
       "    </tr>\n",
       "  </thead>\n",
       "  <tbody>\n",
       "    <tr>\n",
       "      <th>Сырье</th>\n",
       "      <td>3.636621</td>\n",
       "      <td>8.985281</td>\n",
       "      <td>8.516990</td>\n",
       "    </tr>\n",
       "    <tr>\n",
       "      <th>Флотация</th>\n",
       "      <td>7.553095</td>\n",
       "      <td>12.084945</td>\n",
       "      <td>20.052152</td>\n",
       "    </tr>\n",
       "    <tr>\n",
       "      <th>Первая стадия очистки</th>\n",
       "      <td>9.884018</td>\n",
       "      <td>8.674853</td>\n",
       "      <td>32.065559</td>\n",
       "    </tr>\n",
       "    <tr>\n",
       "      <th>Вторая стадия очистки</th>\n",
       "      <td>9.997593</td>\n",
       "      <td>5.190976</td>\n",
       "      <td>44.307437</td>\n",
       "    </tr>\n",
       "  </tbody>\n",
       "</table>\n",
       "</div>"
      ],
      "text/plain": [
       "                         Свинец    Серебро     Золото\n",
       "Этап                                                 \n",
       "Сырье                  3.636621   8.985281   8.516990\n",
       "Флотация               7.553095  12.084945  20.052152\n",
       "Первая стадия очистки  9.884018   8.674853  32.065559\n",
       "Вторая стадия очистки  9.997593   5.190976  44.307437"
      ]
     },
     "metadata": {},
     "output_type": "display_data"
    }
   ],
   "source": [
    "df_conc = {'Этап': ['Сырье','Флотация','Первая стадия очистки', 'Вторая стадия очистки'],\n",
    "           'Свинец': [df_full['rougher.input.feed_pb'].mean(), df_full['rougher.output.concentrate_pb'].mean(),\n",
    "                      df_full['primary_cleaner.output.concentrate_pb'].mean(), df_full['final.output.concentrate_pb'].mean()],\n",
    "           'Серебро':[df_full['rougher.input.feed_ag'].mean(), df_full['rougher.output.concentrate_ag'].mean(),\n",
    "                      df_full['primary_cleaner.output.concentrate_ag'].mean(), df_full['final.output.concentrate_ag'].mean()],\n",
    "           'Золото': [df_full['rougher.input.feed_au'].mean(), df_full['rougher.output.concentrate_au'].mean(),\n",
    "                      df_full['primary_cleaner.output.concentrate_au'].mean(), df_full['final.output.concentrate_au'].mean()],\n",
    "          }\n",
    "df_conc = pd.DataFrame(df_conc).set_index('Этап')\n",
    "display(df_conc)"
   ]
  },
  {
   "cell_type": "code",
   "execution_count": 27,
   "metadata": {},
   "outputs": [
    {
     "data": {
      "image/png": "[encoded data removed]",
      "text/plain": [
       "<Figure size 1440x720 with 1 Axes>"
      ]
     },
     "metadata": {
      "needs_background": "light"
     },
     "output_type": "display_data"
    }
   ],
   "source": [
    "ax = df_conc.plot(grid=True, marker='o', markersize=8, figsize=(20,10), linewidth=3.00)\n",
    "ax.legend(fontsize=15)\n",
    "ax.set_xlabel('этап', fontsize=20)\n",
    "ax.set_ylabel('концентрация', fontsize=20)\n",
    "ax.set_title('Изменение концентрации металлов по этапам', fontsize=20);"
   ]
  },
  {
   "cell_type": "code",
   "execution_count": 28,
   "metadata": {},
   "outputs": [
    {
     "name": "stdout",
     "output_type": "stream",
     "text": [
      "count    16094.000000\n",
      "mean         9.997593\n",
      "std          1.568785\n",
      "min          0.000000\n",
      "25%          9.103183\n",
      "50%         10.092386\n",
      "75%         11.030644\n",
      "max         17.031899\n",
      "Name: final.output.concentrate_pb, dtype: float64\n",
      "count    16094.000000\n",
      "mean         5.190976\n",
      "std          1.333257\n",
      "min          0.000000\n",
      "25%          4.277722\n",
      "50%          5.083578\n",
      "75%          5.894149\n",
      "max         16.001945\n",
      "Name: final.output.concentrate_ag, dtype: float64\n",
      "count    16094.000000\n",
      "mean        44.307437\n",
      "std          4.210135\n",
      "min          0.000000\n",
      "25%         43.431184\n",
      "50%         44.986391\n",
      "75%         46.253912\n",
      "max         51.571885\n",
      "Name: final.output.concentrate_au, dtype: float64\n"
     ]
    }
   ],
   "source": [
    "pb_final = df_full['final.output.concentrate_pb'].describe()\n",
    "ag_final = df_full['final.output.concentrate_ag'].describe()\n",
    "au_final = df_full['final.output.concentrate_au'].describe()\n",
    "print(pb_final)\n",
    "print(ag_final)\n",
    "print(au_final)"
   ]
  },
  {
   "cell_type": "markdown",
   "metadata": {},
   "source": [
    "**Вывод** По мере очистки концентрация золота повышается, а серебра снижается. На заключительном этапе среднее значение концентрации золота достигает 44.07%, серебра - 5.17%, свинца - 9.97%. Концентрация свинца в ходе обработки руды увеличилась - вероятно процесс очистки не отсеивает данный металл, поэтому его концентрация в общей массе в итоге повышается за счет отсева проичх примесей."
   ]
  },
  {
   "cell_type": "markdown",
   "metadata": {},
   "source": [
    "### Сравним распределения размеров гранул сырья на обучающей и тестовой выборках:"
   ]
  },
  {
   "cell_type": "markdown",
   "metadata": {},
   "source": [
    "'rougher.input.feed_size', 'primary_cleaner.input.feed_size'"
   ]
  },
  {
   "cell_type": "code",
   "execution_count": 29,
   "metadata": {},
   "outputs": [
    {
     "data": {
      "text/plain": [
       "(5.0, 10.0)"
      ]
     },
     "execution_count": 29,
     "metadata": {},
     "output_type": "execute_result"
    },
    {
     "data": {
      "image/png": "[encoded data removed]",
      "text/plain": [
       "<Figure size 1800x1440 with 2 Axes>"
      ]
     },
     "metadata": {
      "needs_background": "light"
     },
     "output_type": "display_data"
    }
   ],
   "source": [
    "fig, axes = plt.subplots(2, 1,figsize=(25,20))\n",
    "\n",
    "axes[0].hist(df_train['rougher.input.feed_size'],bins=100, alpha=1, density = True,\n",
    "             label='Размер гранул на входе дробилки тренеровочной выборки')\n",
    "axes[0].hist(df_test['rougher.input.feed_size'],bins=100, alpha=0.5, density = True,\n",
    "             label='Размер гранул на входе дробилки тестовой выборки')\n",
    "axes[0].legend(loc='upper right', prop={'size': 20})\n",
    "axes[0].set_title(\"Концентрация свинца по этапам очистки\")\n",
    "axes[0].set_xlim((0, 150))\n",
    "\n",
    "axes[1].hist(df_train['primary_cleaner.input.feed_size'], bins=100, alpha=1, density = True,\n",
    "             label='Размер гранул на выходе из дробилки тренеровочной выборки')\n",
    "axes[1].hist(df_test['primary_cleaner.input.feed_size'], bins=100, alpha=0.5, density = True,\n",
    "             label='Размер гранул на выходе из дробилки тестовой выборки')\n",
    "\n",
    "axes[1].legend(loc='upper right', prop={'size': 19})\n",
    "axes[1].set_title(\"Концентрация серебра по этапам очистки\")\n",
    "axes[1].set_xlim((5, 10))"
   ]
  },
  {
   "cell_type": "markdown",
   "metadata": {},
   "source": [
    "**Вывод:** Размер гранул до измельчения и после имеет нормальное распределение на тренеровочной и тестовой выборках"
   ]
  },
  {
   "cell_type": "markdown",
   "metadata": {},
   "source": [
    "### Исследуем суммарную концентрацию всех веществ на разных стадиях: в сырье, в черновом и финальном концентратах."
   ]
  },
  {
   "cell_type": "code",
   "execution_count": 30,
   "metadata": {},
   "outputs": [],
   "source": [
    "raw_conc = df_full['rougher.input.feed_sol'] + \\\n",
    "        df_full['rougher.input.feed_pb'] + \\\n",
    "        df_full['rougher.input.feed_ag'] + \\\n",
    "        df_full['rougher.input.feed_au']\n",
    "rough_conc = df_full['rougher.output.concentrate_sol'] + \\\n",
    "        df_full['rougher.output.concentrate_pb'] + \\\n",
    "        df_full['rougher.output.concentrate_ag'] + \\\n",
    "        df_full['rougher.output.concentrate_au']\n",
    "final_conc = df_full['final.output.concentrate_sol'] + \\\n",
    "        df_full['final.output.concentrate_pb'] +\\\n",
    "        df_full['final.output.concentrate_ag'] + \\\n",
    "        df_full['final.output.concentrate_au']"
   ]
  },
  {
   "cell_type": "code",
   "execution_count": 31,
   "metadata": {
    "scrolled": false
   },
   "outputs": [
    {
     "data": {
      "text/plain": [
       "<matplotlib.legend.Legend at 0x22e2c45bd90>"
      ]
     },
     "execution_count": 31,
     "metadata": {},
     "output_type": "execute_result"
    },
    {
     "data": {
      "image/png": "[encoded data removed]",
      "text/plain": [
       "<Figure size 1440x720 with 1 Axes>"
      ]
     },
     "metadata": {
      "needs_background": "light"
     },
     "output_type": "display_data"
    }
   ],
   "source": [
    "plt.figure(figsize=(20,10))\n",
    "plt.hist(raw_conc ,bins=45, alpha=0.5, label='Сырье')\n",
    "plt.hist(rough_conc ,bins=45, alpha=0.5, label='Черновой концентрат')\n",
    "plt.hist(final_conc ,bins=45, alpha=0.5, label='Финальный концентрат')\n",
    "plt.legend(loc='upper right', prop={'size': 12})"
   ]
  },
  {
   "cell_type": "markdown",
   "metadata": {},
   "source": [
    "Датасет имеет аномальные значения: концентрации бывают либо оконулевыми Необходимо избавиться от аномалий, пересчитать показатели."
   ]
  },
  {
   "cell_type": "code",
   "execution_count": 32,
   "metadata": {
    "scrolled": true
   },
   "outputs": [],
   "source": [
    "for i in ['rougher.input.feed_sol', 'rougher.input.feed_pb', 'rougher.input.feed_ag', 'rougher.input.feed_au', \n",
    "          'rougher.output.concentrate_sol', 'rougher.output.concentrate_pb', 'rougher.output.concentrate_ag',\n",
    "          'rougher.output.concentrate_au', 'final.output.concentrate_sol', 'final.output.concentrate_pb', \n",
    "          'final.output.concentrate_ag','final.output.concentrate_au']:\n",
    "    df_full = df_full[df_full[i] > 2]"
   ]
  },
  {
   "cell_type": "code",
   "execution_count": 33,
   "metadata": {},
   "outputs": [],
   "source": [
    "raw_conc = df_full['rougher.input.feed_sol'] + \\\n",
    "        df_full['rougher.input.feed_pb'] + \\\n",
    "        df_full['rougher.input.feed_ag'] + \\\n",
    "        df_full['rougher.input.feed_au']\n",
    "rough_conc = df_full['rougher.output.concentrate_sol'] + \\\n",
    "        df_full['rougher.output.concentrate_pb'] + \\\n",
    "        df_full['rougher.output.concentrate_ag'] + \\\n",
    "        df_full['rougher.output.concentrate_au']\n",
    "final_conc = df_full['final.output.concentrate_sol'] + \\\n",
    "        df_full['final.output.concentrate_pb'] +\\\n",
    "        df_full['final.output.concentrate_ag'] + \\\n",
    "        df_full['final.output.concentrate_au']"
   ]
  },
  {
   "cell_type": "code",
   "execution_count": 34,
   "metadata": {
    "scrolled": true
   },
   "outputs": [
    {
     "data": {
      "text/plain": [
       "<matplotlib.legend.Legend at 0x22e2bb8caf0>"
      ]
     },
     "execution_count": 34,
     "metadata": {},
     "output_type": "execute_result"
    },
    {
     "data": {
      "image/png": "[encoded data removed]",
      "text/plain": [
       "<Figure size 1440x504 with 1 Axes>"
      ]
     },
     "metadata": {
      "needs_background": "light"
     },
     "output_type": "display_data"
    }
   ],
   "source": [
    "plt.figure(figsize=(20,7))\n",
    "plt.hist(raw_conc ,bins=45, alpha=0.5, label='Сырье')\n",
    "plt.hist(rough_conc ,bins=45, alpha=0.5, label='Черновой концентрат')\n",
    "plt.hist(final_conc ,bins=45, alpha=0.5, label='Финальный концентрат')\n",
    "plt.legend(loc='upper right', prop={'size': 12})"
   ]
  },
  {
   "cell_type": "markdown",
   "metadata": {},
   "source": [
    "**Вывод:** Аномалии отсеяны."
   ]
  },
  {
   "cell_type": "code",
   "execution_count": 35,
   "metadata": {},
   "outputs": [
    {
     "data": {
      "text/plain": [
       "14973"
      ]
     },
     "execution_count": 35,
     "metadata": {},
     "output_type": "execute_result"
    }
   ],
   "source": [
    "len(df_full)"
   ]
  },
  {
   "cell_type": "markdown",
   "metadata": {},
   "source": [
    "## Модель"
   ]
  },
  {
   "cell_type": "markdown",
   "metadata": {},
   "source": [
    "### Подготовим функцию расчета метрики sMAPE согласно заданной клиентом формуле:"
   ]
  },
  {
   "cell_type": "markdown",
   "metadata": {},
   "source": [
    "Для оценки предсказания одного таргета:"
   ]
  },
  {
   "cell_type": "code",
   "execution_count": 36,
   "metadata": {},
   "outputs": [],
   "source": [
    "def smape(prediction, target):\n",
    "    smape = 0\n",
    "    for i in range(len(target)):\n",
    "        smape = smape + 2 * abs(target[i] - prediction[i]) / ((abs(target[i]) + abs(prediction[i]) + 0.00000001) * len(target))\n",
    "    return smape * 100"
   ]
  },
  {
   "cell_type": "markdown",
   "metadata": {},
   "source": [
    "Для оценки суммарного sMAPE по обоим показателям:"
   ]
  },
  {
   "cell_type": "code",
   "execution_count": 37,
   "metadata": {},
   "outputs": [],
   "source": [
    "def smape_final(smape_rougher, smape_final):\n",
    "    return 0.25 * smape_rougher + 0.75 * smape_final"
   ]
  },
  {
   "cell_type": "markdown",
   "metadata": {},
   "source": [
    "Создадим кастомный скорер для оценки качества моделей:"
   ]
  },
  {
   "cell_type": "code",
   "execution_count": 38,
   "metadata": {},
   "outputs": [],
   "source": [
    "smape_scorer = make_scorer(smape, greater_is_better=False)"
   ]
  },
  {
   "cell_type": "markdown",
   "metadata": {},
   "source": [
    "### Подготовим датасеты для работы ML:"
   ]
  },
  {
   "cell_type": "markdown",
   "metadata": {},
   "source": [
    "Для построения моделей предсказания целевых параметров выделим отдельные целевые series и переведем их в nd.array для успешной работы gridsearch с кастомным скорером:"
   ]
  },
  {
   "cell_type": "code",
   "execution_count": 39,
   "metadata": {},
   "outputs": [],
   "source": [
    "features_train = df_train.drop(['date', 'rougher.output.recovery','final.output.recovery'], axis=1)\n",
    "features_test =  df_test.drop(['date','rougher.output.recovery','final.output.recovery'], axis=1)\n",
    "target_rougher_train=    df_train['rougher.output.recovery']\n",
    "target_rougher_test=     df_test['rougher.output.recovery']\n",
    "target_final_train=      df_train['final.output.recovery']\n",
    "target_final_test=       df_test['final.output.recovery']"
   ]
  },
  {
   "cell_type": "code",
   "execution_count": 40,
   "metadata": {},
   "outputs": [
    {
     "data": {
      "image/png": "[encoded data removed]",
      "text/plain": [
       "<Figure size 720x1080 with 1 Axes>"
      ]
     },
     "metadata": {
      "needs_background": "light"
     },
     "output_type": "display_data"
    }
   ],
   "source": [
    "importances = mutual_info_regression(features_train, target_rougher_train, discrete_features=False)\n",
    "\n",
    "feature_importances = pd.Series(importances, features_train.columns[0:len(features_train.columns)])\n",
    "plt.figure(figsize=(10,15))\n",
    "feature_importances.plot(kind='barh', color='teal')\n",
    "\n",
    "plt.show()"
   ]
  },
  {
   "cell_type": "code",
   "execution_count": 41,
   "metadata": {},
   "outputs": [
    {
     "data": {
      "image/png": "[encoded data removed]",
      "text/plain": [
       "<Figure size 720x1080 with 1 Axes>"
      ]
     },
     "metadata": {
      "needs_background": "light"
     },
     "output_type": "display_data"
    }
   ],
   "source": [
    "importances = mutual_info_regression(features_train, target_final_train, discrete_features=False)\n",
    "\n",
    "feature_importances = pd.Series(importances, features_train.columns[0:len(features_train.columns)])\n",
    "plt.figure(figsize=(10,15))\n",
    "feature_importances.plot(kind='barh', color='teal')\n",
    "\n",
    "plt.show()"
   ]
  },
  {
   "cell_type": "code",
   "execution_count": 44,
   "metadata": {},
   "outputs": [
    {
     "name": "stdout",
     "output_type": "stream",
     "text": [
      "39\n"
     ]
    }
   ],
   "source": [
    "threshold = []\n",
    "for i in feature_importances:\n",
    "    if i > 0.05:\n",
    "        threshold.append(feature_importances[feature_importances == i].index[0])\n",
    "print(len(threshold)    )\n",
    "features_train = features_train[threshold]\n",
    "features_test = features_test[threshold]"
   ]
  },
  {
   "cell_type": "code",
   "execution_count": 45,
   "metadata": {},
   "outputs": [],
   "source": [
    "features_train = df_train.drop(['date', 'rougher.output.recovery','final.output.recovery'], axis=1).to_numpy()\n",
    "features_test =  df_test.drop(['date','rougher.output.recovery','final.output.recovery'], axis=1).to_numpy()\n",
    "target_rougher_train=    df_train['rougher.output.recovery'].to_numpy()\n",
    "target_rougher_test=     df_test['rougher.output.recovery'].to_numpy()\n",
    "target_final_train=      df_train['final.output.recovery'].to_numpy()\n",
    "target_final_test=       df_test['final.output.recovery'].to_numpy()"
   ]
  },
  {
   "cell_type": "markdown",
   "metadata": {},
   "source": [
    "### Подготовим датасеты для работы ML LinearRegression:"
   ]
  },
  {
   "cell_type": "code",
   "execution_count": 46,
   "metadata": {},
   "outputs": [],
   "source": [
    "features_train_lr = df_train.drop(['date', 'rougher.output.recovery','final.output.recovery'], axis=1).to_numpy()\n",
    "features_test_lr =  df_test.drop(['date','rougher.output.recovery','final.output.recovery'], axis=1).to_numpy()\n",
    "\n",
    "scaler = StandardScaler()\n",
    "scaler.fit(features_train_lr)\n",
    "\n",
    "features_train_lr = scaler.transform(features_train_lr)\n",
    "features_test_lr  = scaler.transform(features_test_lr)"
   ]
  },
  {
   "cell_type": "markdown",
   "metadata": {},
   "source": [
    "### Тестируем модель rf на параметре `rougher.output.recovery` для подбора параметров через GridSearchCV:"
   ]
  },
  {
   "cell_type": "code",
   "execution_count": 47,
   "metadata": {},
   "outputs": [
    {
     "name": "stdout",
     "output_type": "stream",
     "text": [
      "Fitting 3 folds for each of 24 candidates, totalling 72 fits\n",
      "[CV] END ........................max_depth=2, n_estimators=5; total time=   0.5s\n",
      "[CV] END ........................max_depth=2, n_estimators=5; total time=   0.6s\n",
      "[CV] END ........................max_depth=2, n_estimators=5; total time=   0.5s\n",
      "[CV] END ........................max_depth=2, n_estimators=7; total time=   0.7s\n",
      "[CV] END ........................max_depth=2, n_estimators=7; total time=   0.7s\n",
      "[CV] END ........................max_depth=2, n_estimators=7; total time=   0.7s\n",
      "[CV] END ........................max_depth=2, n_estimators=9; total time=   0.9s\n",
      "[CV] END ........................max_depth=2, n_estimators=9; total time=   0.9s\n",
      "[CV] END ........................max_depth=2, n_estimators=9; total time=   0.9s\n",
      "[CV] END .......................max_depth=2, n_estimators=11; total time=   1.1s\n",
      "[CV] END .......................max_depth=2, n_estimators=11; total time=   1.1s\n",
      "[CV] END .......................max_depth=2, n_estimators=11; total time=   1.2s\n",
      "[CV] END .......................max_depth=2, n_estimators=13; total time=   1.3s\n",
      "[CV] END .......................max_depth=2, n_estimators=13; total time=   1.4s\n",
      "[CV] END .......................max_depth=2, n_estimators=13; total time=   1.5s\n",
      "[CV] END .......................max_depth=2, n_estimators=15; total time=   2.2s\n",
      "[CV] END .......................max_depth=2, n_estimators=15; total time=   2.0s\n",
      "[CV] END .......................max_depth=2, n_estimators=15; total time=   1.9s\n",
      "[CV] END .......................max_depth=2, n_estimators=17; total time=   2.0s\n",
      "[CV] END .......................max_depth=2, n_estimators=17; total time=   1.8s\n",
      "[CV] END .......................max_depth=2, n_estimators=17; total time=   1.7s\n",
      "[CV] END .......................max_depth=2, n_estimators=19; total time=   2.0s\n",
      "[CV] END .......................max_depth=2, n_estimators=19; total time=   2.0s\n",
      "[CV] END .......................max_depth=2, n_estimators=19; total time=   2.2s\n",
      "[CV] END ........................max_depth=4, n_estimators=5; total time=   0.9s\n",
      "[CV] END ........................max_depth=4, n_estimators=5; total time=   1.0s\n",
      "[CV] END ........................max_depth=4, n_estimators=5; total time=   1.1s\n",
      "[CV] END ........................max_depth=4, n_estimators=7; total time=   1.6s\n",
      "[CV] END ........................max_depth=4, n_estimators=7; total time=   1.3s\n",
      "[CV] END ........................max_depth=4, n_estimators=7; total time=   1.3s\n",
      "[CV] END ........................max_depth=4, n_estimators=9; total time=   1.7s\n",
      "[CV] END ........................max_depth=4, n_estimators=9; total time=   1.7s\n",
      "[CV] END ........................max_depth=4, n_estimators=9; total time=   1.8s\n",
      "[CV] END .......................max_depth=4, n_estimators=11; total time=   2.4s\n",
      "[CV] END .......................max_depth=4, n_estimators=11; total time=   2.1s\n",
      "[CV] END .......................max_depth=4, n_estimators=11; total time=   2.1s\n",
      "[CV] END .......................max_depth=4, n_estimators=13; total time=   2.5s\n",
      "[CV] END .......................max_depth=4, n_estimators=13; total time=   2.5s\n",
      "[CV] END .......................max_depth=4, n_estimators=13; total time=   2.6s\n",
      "[CV] END .......................max_depth=4, n_estimators=15; total time=   3.4s\n",
      "[CV] END .......................max_depth=4, n_estimators=15; total time=   3.0s\n",
      "[CV] END .......................max_depth=4, n_estimators=15; total time=   3.1s\n",
      "[CV] END .......................max_depth=4, n_estimators=17; total time=   3.5s\n",
      "[CV] END .......................max_depth=4, n_estimators=17; total time=   4.1s\n",
      "[CV] END .......................max_depth=4, n_estimators=17; total time=   4.4s\n",
      "[CV] END .......................max_depth=4, n_estimators=19; total time=   3.9s\n",
      "[CV] END .......................max_depth=4, n_estimators=19; total time=   3.8s\n",
      "[CV] END .......................max_depth=4, n_estimators=19; total time=   3.9s\n",
      "[CV] END ........................max_depth=6, n_estimators=5; total time=   1.6s\n",
      "[CV] END ........................max_depth=6, n_estimators=5; total time=   1.4s\n",
      "[CV] END ........................max_depth=6, n_estimators=5; total time=   1.4s\n",
      "[CV] END ........................max_depth=6, n_estimators=7; total time=   2.0s\n",
      "[CV] END ........................max_depth=6, n_estimators=7; total time=   1.9s\n",
      "[CV] END ........................max_depth=6, n_estimators=7; total time=   1.9s\n",
      "[CV] END ........................max_depth=6, n_estimators=9; total time=   2.6s\n",
      "[CV] END ........................max_depth=6, n_estimators=9; total time=   2.7s\n",
      "[CV] END ........................max_depth=6, n_estimators=9; total time=   2.7s\n",
      "[CV] END .......................max_depth=6, n_estimators=11; total time=   3.1s\n",
      "[CV] END .......................max_depth=6, n_estimators=11; total time=   3.1s\n",
      "[CV] END .......................max_depth=6, n_estimators=11; total time=   3.1s\n",
      "[CV] END .......................max_depth=6, n_estimators=13; total time=   4.0s\n",
      "[CV] END .......................max_depth=6, n_estimators=13; total time=   3.7s\n",
      "[CV] END .......................max_depth=6, n_estimators=13; total time=   3.7s\n",
      "[CV] END .......................max_depth=6, n_estimators=15; total time=   4.3s\n",
      "[CV] END .......................max_depth=6, n_estimators=15; total time=   4.5s\n",
      "[CV] END .......................max_depth=6, n_estimators=15; total time=   4.4s\n",
      "[CV] END .......................max_depth=6, n_estimators=17; total time=   5.1s\n",
      "[CV] END .......................max_depth=6, n_estimators=17; total time=   4.9s\n",
      "[CV] END .......................max_depth=6, n_estimators=17; total time=   5.1s\n",
      "[CV] END .......................max_depth=6, n_estimators=19; total time=   5.5s\n",
      "[CV] END .......................max_depth=6, n_estimators=19; total time=   5.7s\n",
      "[CV] END .......................max_depth=6, n_estimators=19; total time=   5.6s\n",
      "Лучшие результаты SMAPE модели RF для rougher.output.recovery - 11.9104111608397 при параметрах модели: {'max_depth': 6, 'n_estimators': 15}\n",
      "CPU times: total: 3min 7s\n",
      "Wall time: 3min 9s\n"
     ]
    }
   ],
   "source": [
    "%%time\n",
    "parameters = {'n_estimators': range(5, 20, 2),\n",
    "             'max_depth': range(2, 7, 2)\n",
    "             }\n",
    "\n",
    "rf_rougher = RandomForestRegressor(random_state=282)\n",
    "rf_rougher = GridSearchCV(rf_rougher, \n",
    "                          parameters, \n",
    "                          cv=3,\n",
    "                          scoring=smape_scorer,\n",
    "                          error_score=\"raise\",\n",
    "                          verbose=2)\n",
    "rf_rougher.fit(features_train, target_rougher_train)\n",
    "\n",
    "print(f'Лучшие результаты SMAPE модели RF для rougher.output.recovery - \\\n",
    "{abs(rf_rougher.best_score_)} при параметрах модели: {rf_rougher.best_params_}')"
   ]
  },
  {
   "cell_type": "markdown",
   "metadata": {},
   "source": [
    "**Вывод:** Лучшие результаты SMAPE модели RF для rougher.output.recovery - 11.910411161839399 при параметрах модели: {'max_depth': 6, 'n_estimators': 15}"
   ]
  },
  {
   "cell_type": "markdown",
   "metadata": {},
   "source": [
    "### Тестируем модель rf на параметре `final.output.recovery` для подбора параметров через GridSearchCV:"
   ]
  },
  {
   "cell_type": "code",
   "execution_count": 48,
   "metadata": {},
   "outputs": [
    {
     "name": "stdout",
     "output_type": "stream",
     "text": [
      "Fitting 3 folds for each of 24 candidates, totalling 72 fits\n",
      "[CV] END ........................max_depth=2, n_estimators=5; total time=   0.5s\n",
      "[CV] END ........................max_depth=2, n_estimators=5; total time=   0.4s\n",
      "[CV] END ........................max_depth=2, n_estimators=5; total time=   0.5s\n",
      "[CV] END ........................max_depth=2, n_estimators=7; total time=   0.8s\n",
      "[CV] END ........................max_depth=2, n_estimators=7; total time=   0.9s\n",
      "[CV] END ........................max_depth=2, n_estimators=7; total time=   0.7s\n",
      "[CV] END ........................max_depth=2, n_estimators=9; total time=   0.9s\n",
      "[CV] END ........................max_depth=2, n_estimators=9; total time=   0.8s\n",
      "[CV] END ........................max_depth=2, n_estimators=9; total time=   0.8s\n",
      "[CV] END .......................max_depth=2, n_estimators=11; total time=   1.1s\n",
      "[CV] END .......................max_depth=2, n_estimators=11; total time=   1.2s\n",
      "[CV] END .......................max_depth=2, n_estimators=11; total time=   1.1s\n",
      "[CV] END .......................max_depth=2, n_estimators=13; total time=   1.3s\n",
      "[CV] END .......................max_depth=2, n_estimators=13; total time=   1.3s\n",
      "[CV] END .......................max_depth=2, n_estimators=13; total time=   1.3s\n",
      "[CV] END .......................max_depth=2, n_estimators=15; total time=   1.5s\n",
      "[CV] END .......................max_depth=2, n_estimators=15; total time=   1.8s\n",
      "[CV] END .......................max_depth=2, n_estimators=15; total time=   1.9s\n",
      "[CV] END .......................max_depth=2, n_estimators=17; total time=   1.7s\n",
      "[CV] END .......................max_depth=2, n_estimators=17; total time=   1.7s\n",
      "[CV] END .......................max_depth=2, n_estimators=17; total time=   1.7s\n",
      "[CV] END .......................max_depth=2, n_estimators=19; total time=   1.9s\n",
      "[CV] END .......................max_depth=2, n_estimators=19; total time=   1.9s\n",
      "[CV] END .......................max_depth=2, n_estimators=19; total time=   1.8s\n",
      "[CV] END ........................max_depth=4, n_estimators=5; total time=   0.9s\n",
      "[CV] END ........................max_depth=4, n_estimators=5; total time=   0.9s\n",
      "[CV] END ........................max_depth=4, n_estimators=5; total time=   1.1s\n",
      "[CV] END ........................max_depth=4, n_estimators=7; total time=   1.4s\n",
      "[CV] END ........................max_depth=4, n_estimators=7; total time=   1.3s\n",
      "[CV] END ........................max_depth=4, n_estimators=7; total time=   1.3s\n",
      "[CV] END ........................max_depth=4, n_estimators=9; total time=   1.7s\n",
      "[CV] END ........................max_depth=4, n_estimators=9; total time=   1.7s\n",
      "[CV] END ........................max_depth=4, n_estimators=9; total time=   1.7s\n",
      "[CV] END .......................max_depth=4, n_estimators=11; total time=   2.1s\n",
      "[CV] END .......................max_depth=4, n_estimators=11; total time=   2.1s\n",
      "[CV] END .......................max_depth=4, n_estimators=11; total time=   2.4s\n",
      "[CV] END .......................max_depth=4, n_estimators=13; total time=   2.5s\n",
      "[CV] END .......................max_depth=4, n_estimators=13; total time=   2.6s\n",
      "[CV] END .......................max_depth=4, n_estimators=13; total time=   2.7s\n",
      "[CV] END .......................max_depth=4, n_estimators=15; total time=   3.6s\n",
      "[CV] END .......................max_depth=4, n_estimators=15; total time=   3.3s\n",
      "[CV] END .......................max_depth=4, n_estimators=15; total time=   3.2s\n",
      "[CV] END .......................max_depth=4, n_estimators=17; total time=   3.5s\n",
      "[CV] END .......................max_depth=4, n_estimators=17; total time=   3.7s\n",
      "[CV] END .......................max_depth=4, n_estimators=17; total time=   4.5s\n",
      "[CV] END .......................max_depth=4, n_estimators=19; total time=   4.0s\n",
      "[CV] END .......................max_depth=4, n_estimators=19; total time=   4.5s\n",
      "[CV] END .......................max_depth=4, n_estimators=19; total time=   5.0s\n",
      "[CV] END ........................max_depth=6, n_estimators=5; total time=   2.2s\n",
      "[CV] END ........................max_depth=6, n_estimators=5; total time=   2.0s\n",
      "[CV] END ........................max_depth=6, n_estimators=5; total time=   2.0s\n",
      "[CV] END ........................max_depth=6, n_estimators=7; total time=   2.4s\n",
      "[CV] END ........................max_depth=6, n_estimators=7; total time=   3.2s\n",
      "[CV] END ........................max_depth=6, n_estimators=7; total time=   2.6s\n",
      "[CV] END ........................max_depth=6, n_estimators=9; total time=   2.7s\n",
      "[CV] END ........................max_depth=6, n_estimators=9; total time=   3.2s\n",
      "[CV] END ........................max_depth=6, n_estimators=9; total time=   2.7s\n",
      "[CV] END .......................max_depth=6, n_estimators=11; total time=   3.1s\n",
      "[CV] END .......................max_depth=6, n_estimators=11; total time=   3.0s\n",
      "[CV] END .......................max_depth=6, n_estimators=11; total time=   3.1s\n",
      "[CV] END .......................max_depth=6, n_estimators=13; total time=   4.0s\n",
      "[CV] END .......................max_depth=6, n_estimators=13; total time=   3.7s\n",
      "[CV] END .......................max_depth=6, n_estimators=13; total time=   3.8s\n",
      "[CV] END .......................max_depth=6, n_estimators=15; total time=   4.2s\n",
      "[CV] END .......................max_depth=6, n_estimators=15; total time=   4.8s\n",
      "[CV] END .......................max_depth=6, n_estimators=15; total time=   4.5s\n",
      "[CV] END .......................max_depth=6, n_estimators=17; total time=   4.7s\n",
      "[CV] END .......................max_depth=6, n_estimators=17; total time=   5.2s\n",
      "[CV] END .......................max_depth=6, n_estimators=17; total time=   4.9s\n",
      "[CV] END .......................max_depth=6, n_estimators=19; total time=   5.7s\n",
      "[CV] END .......................max_depth=6, n_estimators=19; total time=   6.1s\n",
      "[CV] END .......................max_depth=6, n_estimators=19; total time=   5.6s\n",
      "Лучшие результаты SMAPE модели RF для final.output.recovery - 10.868417525310255 при параметрах модели: {'max_depth': 2, 'n_estimators': 17}\n",
      "CPU times: total: 3min 8s\n",
      "Wall time: 3min 10s\n"
     ]
    }
   ],
   "source": [
    "%%time\n",
    "parameters = {'n_estimators': range(5, 20, 2),\n",
    "             'max_depth': range(2, 7, 2)\n",
    "             }\n",
    "\n",
    "\n",
    "rf_final = RandomForestRegressor(random_state=282)\n",
    "rf_final = GridSearchCV(rf_final, \n",
    "                        parameters, \n",
    "                        cv=3,\n",
    "                        scoring=smape_scorer,\n",
    "                        error_score=\"raise\",\n",
    "                        verbose=2)\n",
    "rf_final.fit(features_train, target_final_train)\n",
    "\n",
    "print(f'Лучшие результаты SMAPE модели RF для final.output.recovery - \\\n",
    "{abs(rf_final.best_score_)} при параметрах модели: {rf_final.best_params_}')"
   ]
  },
  {
   "cell_type": "markdown",
   "metadata": {},
   "source": [
    "**Вывод:** Лучшие результаты SMAPE модели RF для final.output.recovery - 10.868417526265247 при параметрах модели: {'max_depth': 2, 'n_estimators': 17}"
   ]
  },
  {
   "cell_type": "markdown",
   "metadata": {},
   "source": [
    "### Оценим итоговый sMAPE модели RF:"
   ]
  },
  {
   "cell_type": "code",
   "execution_count": 49,
   "metadata": {},
   "outputs": [
    {
     "name": "stdout",
     "output_type": "stream",
     "text": [
      "Итоговый sMAPE модели RF: 11.128915934192616\n"
     ]
    }
   ],
   "source": [
    "#prediction_final_train = rf_final.predict(features_train)\n",
    "final_smape_rf = smape_final(abs(rf_rougher.best_score_), abs(rf_final.best_score_))\n",
    "print('Итоговый sMAPE модели RF:',final_smape_rf)"
   ]
  },
  {
   "cell_type": "markdown",
   "metadata": {},
   "source": [
    "### Тестируем модель LinearRegression для оценки sMAPE параметра `rougher.output.recovery` :"
   ]
  },
  {
   "cell_type": "code",
   "execution_count": 50,
   "metadata": {
    "scrolled": true
   },
   "outputs": [
    {
     "name": "stdout",
     "output_type": "stream",
     "text": [
      "sMAPE модели LR для параметра rougher.output.recovery: -12.802483457437251\n",
      "CPU times: total: 438 ms\n",
      "Wall time: 313 ms\n"
     ]
    }
   ],
   "source": [
    "%%time\n",
    "lr_rougher = LinearRegression()\n",
    "lr_rougher.fit(features_train_lr, target_rougher_train)\n",
    "\n",
    "scores_rougher = cross_val_score(lr_rougher, features_train_lr, target_rougher_train, scoring = smape_scorer, cv=5) \n",
    "scores_rougher_mean = scores_rougher.mean()\n",
    "\n",
    "print('sMAPE модели LR для параметра rougher.output.recovery:', scores_rougher_mean)"
   ]
  },
  {
   "cell_type": "markdown",
   "metadata": {},
   "source": [
    "### Тестируем модель LinearRegression для оценки sMAPE параметра `final.output.recovery` :"
   ]
  },
  {
   "cell_type": "code",
   "execution_count": 51,
   "metadata": {},
   "outputs": [
    {
     "name": "stdout",
     "output_type": "stream",
     "text": [
      "sMAPE модели LR для параметра final.output.recovery: -12.24530031924822\n",
      "CPU times: total: 484 ms\n",
      "Wall time: 254 ms\n"
     ]
    }
   ],
   "source": [
    "%%time\n",
    "lr_final = LinearRegression()\n",
    "lr_final.fit(features_train_lr, target_final_train)\n",
    "\n",
    "scores_final = cross_val_score(lr_final, features_train_lr, target_final_train, scoring = smape_scorer, cv=5) \n",
    "scores_final_mean = scores_final.mean()\n",
    "\n",
    "print('sMAPE модели LR для параметра final.output.recovery:', scores_final_mean)"
   ]
  },
  {
   "cell_type": "markdown",
   "metadata": {},
   "source": [
    "### Оценим итоговый sMAPE модели LR"
   ]
  },
  {
   "cell_type": "code",
   "execution_count": 52,
   "metadata": {
    "scrolled": true
   },
   "outputs": [
    {
     "name": "stdout",
     "output_type": "stream",
     "text": [
      "Итоговый sMAPE модели LR: 12.384596103795477\n"
     ]
    }
   ],
   "source": [
    "final_smape_lr = smape_final(abs(scores_rougher_mean), abs(scores_final_mean))\n",
    "print('Итоговый sMAPE модели LR:',final_smape_lr)"
   ]
  },
  {
   "cell_type": "markdown",
   "metadata": {},
   "source": [
    "### Оценим sMAPE для константной модели :"
   ]
  },
  {
   "cell_type": "code",
   "execution_count": 53,
   "metadata": {},
   "outputs": [
    {
     "name": "stdout",
     "output_type": "stream",
     "text": [
      "sMAPE константной модели для параметра rougher.output.recovery: 12.215336412220584\n"
     ]
    }
   ],
   "source": [
    "model_dummy_1 = DummyRegressor(strategy=\"mean\")\n",
    "model_dummy_1.fit(features_train, target_rougher_train)\n",
    "predicted_dummy_1 = model_dummy_1.predict(features_test)\n",
    "scores_1 = cross_val_score(model_dummy_1, features_train, target_rougher_train, scoring=smape_scorer, cv=5)\n",
    "score_mean_1 = np.abs(scores_1.mean())\n",
    "print('sMAPE константной модели для параметра rougher.output.recovery:', score_mean_1)"
   ]
  },
  {
   "cell_type": "code",
   "execution_count": 54,
   "metadata": {},
   "outputs": [
    {
     "name": "stdout",
     "output_type": "stream",
     "text": [
      "sMAPE константной модели для параметра rougher.output.recovery: 11.36135930224837\n"
     ]
    }
   ],
   "source": [
    "model_dummy_2 = DummyRegressor(strategy=\"mean\")\n",
    "model_dummy_2.fit(features_train, target_final_train)\n",
    "predicted_dummy_2 = model_dummy_2.predict(features_test)\n",
    "scores_2 = cross_val_score(model_dummy_2, features_train, target_final_train, scoring=smape_scorer, cv=5)\n",
    "score_mean_2 = np.abs(scores_2.mean())\n",
    "print('sMAPE константной модели для параметра rougher.output.recovery:', score_mean_2)"
   ]
  },
  {
   "cell_type": "code",
   "execution_count": 55,
   "metadata": {},
   "outputs": [
    {
     "name": "stdout",
     "output_type": "stream",
     "text": [
      "Итоговый sMAPE константной модели: 11.574853579741422\n"
     ]
    }
   ],
   "source": [
    "final_smape_d = smape_final(score_mean_1, score_mean_2)\n",
    "print('Итоговый sMAPE константной модели:',final_smape_d)"
   ]
  },
  {
   "cell_type": "markdown",
   "metadata": {},
   "source": [
    "**Выводы:**\n",
    "Модель RF показала лучший результат. Проверим ее на тестовой выборке и оценим результат"
   ]
  },
  {
   "cell_type": "markdown",
   "metadata": {},
   "source": [
    "### Обучим модель RF с подобранными параметрами на полной выборке и проверим на тестовой:"
   ]
  },
  {
   "cell_type": "code",
   "execution_count": 57,
   "metadata": {},
   "outputs": [
    {
     "name": "stdout",
     "output_type": "stream",
     "text": [
      "10.036948973919307\n",
      "8.240469802422314\n",
      "Итоговый sMAPE модели RF: 8.689589595296562\n"
     ]
    }
   ],
   "source": [
    "model_1 = RandomForestRegressor(random_state=123, n_estimators=15, max_depth=6) \n",
    "model_1.fit(features_train, target_rougher_train)\n",
    "predictions_1 = model_1.predict(features_test)\n",
    "smape_1 = smape(target_rougher_test, predictions_1)\n",
    "print(smape_1)\n",
    "\n",
    "model_2 = RandomForestRegressor(random_state=123, n_estimators=17, max_depth=2) \n",
    "model_2.fit(features_train, target_final_train)\n",
    "predictions_2 = model_2.predict(features_test)\n",
    "smape_2 = smape(target_final_test, predictions_2)\n",
    "print(smape_2)\n",
    "\n",
    "final = smape_final(smape_1, smape_2)\n",
    "print('Итоговый sMAPE модели RF:',final)"
   ]
  },
  {
   "cell_type": "markdown",
   "metadata": {},
   "source": [
    "**Вывод:** Прототип для предсказания целевых значений подготовлен на модели RandomForestRegressor. Две отдельные модели предсказывают целевые значения `rougher.output.recovery` и `final.output.recovery` с итоговым sMAPE равным 8.69"
   ]
  },
  {
   "cell_type": "markdown",
   "metadata": {},
   "source": [
    "## Выводы:"
   ]
  },
  {
   "cell_type": "markdown",
   "metadata": {},
   "source": [
    "1. Проведена преодобработка данных\n",
    "2. Выполнен анализ концентрации металлов на разных этапах очистки. \n",
    "- По мере очистки концентрация золота повышается, а серебра снижается. На заключительном этапе среднее значение концентрации золота достигает 44.07%, серебра - 5.17%, свинца - 9.97%. Концентрация свинца в ходе обработки руды увеличилась - вероятно процесс очистки не отсеивает данный металл, поэтому его концентрация в общей массе в итоге повышается за счет отсева проичх примесей.\n",
    "- Размер гранул до измельчения и после имеет нормальное распределение на тренеровочной и тестовой выборках\n",
    "- \n",
    "3. Для оценки качества моделей подготовлена кастомная функция по расчету sMAPE\n",
    "4. Отобраны значимые признаки для загрузки в модели\n",
    "5. Исследованы модели ML с подбором гиперпараметров через GridSearchCV\n",
    "6. Итоговая модель RandomForest показала результат sMAPE = 8.69, что удовлетворяет заданию заказчика"
   ]
  }
 ],
 "metadata": {
  "ExecuteTimeLog": [
   {
    "duration": 1476,
    "start_time": "2022-10-11T11:48:18.820Z"
   },
   {
    "duration": 182,
    "start_time": "2022-10-11T11:48:20.299Z"
   },
   {
    "duration": 18,
    "start_time": "2022-10-11T11:49:00.227Z"
   },
   {
    "duration": 75,
    "start_time": "2022-10-11T11:49:16.164Z"
   },
   {
    "duration": 1296,
    "start_time": "2022-10-11T11:49:25.536Z"
   },
   {
    "duration": 1096,
    "start_time": "2022-10-11T11:49:37.303Z"
   },
   {
    "duration": 835,
    "start_time": "2022-10-11T11:50:48.451Z"
   },
   {
    "duration": 357,
    "start_time": "2022-10-11T11:51:24.197Z"
   },
   {
    "duration": 95,
    "start_time": "2022-10-11T11:51:24.661Z"
   },
   {
    "duration": 405,
    "start_time": "2022-10-11T11:51:25.119Z"
   },
   {
    "duration": 338,
    "start_time": "2022-10-11T11:51:52.274Z"
   },
   {
    "duration": 352,
    "start_time": "2022-10-11T11:52:00.885Z"
   },
   {
    "duration": 35,
    "start_time": "2022-10-11T11:52:41.562Z"
   },
   {
    "duration": 1704,
    "start_time": "2022-10-11T13:04:08.189Z"
   },
   {
    "duration": 339,
    "start_time": "2022-10-11T13:04:09.895Z"
   },
   {
    "duration": 27,
    "start_time": "2022-10-11T13:04:10.236Z"
   },
   {
    "duration": 96,
    "start_time": "2022-10-11T13:04:10.265Z"
   },
   {
    "duration": 38,
    "start_time": "2022-10-11T13:04:10.363Z"
   },
   {
    "duration": 411,
    "start_time": "2022-10-11T13:04:10.403Z"
   },
   {
    "duration": 28,
    "start_time": "2022-10-11T13:04:10.816Z"
   },
   {
    "duration": 18,
    "start_time": "2022-10-11T13:04:10.845Z"
   },
   {
    "duration": 132,
    "start_time": "2022-10-11T13:15:10.833Z"
   },
   {
    "duration": 34,
    "start_time": "2022-10-11T13:15:21.714Z"
   },
   {
    "duration": 14,
    "start_time": "2022-10-11T13:15:54.347Z"
   },
   {
    "duration": 8,
    "start_time": "2022-10-11T13:16:07.349Z"
   },
   {
    "duration": 9,
    "start_time": "2022-10-11T13:16:14.324Z"
   },
   {
    "duration": 19,
    "start_time": "2022-10-11T13:16:27.622Z"
   },
   {
    "duration": 6,
    "start_time": "2022-10-11T13:16:53.576Z"
   },
   {
    "duration": 10,
    "start_time": "2022-10-11T13:17:01.719Z"
   },
   {
    "duration": 8,
    "start_time": "2022-10-11T14:09:00.917Z"
   },
   {
    "duration": 6,
    "start_time": "2022-10-11T14:09:03.801Z"
   },
   {
    "duration": 10,
    "start_time": "2022-10-11T14:09:06.047Z"
   },
   {
    "duration": 1452,
    "start_time": "2022-10-11T14:10:29.999Z"
   },
   {
    "duration": 306,
    "start_time": "2022-10-11T14:10:31.453Z"
   },
   {
    "duration": 32,
    "start_time": "2022-10-11T14:10:31.761Z"
   },
   {
    "duration": 99,
    "start_time": "2022-10-11T14:10:31.794Z"
   },
   {
    "duration": 3,
    "start_time": "2022-10-11T14:10:31.896Z"
   },
   {
    "duration": 791,
    "start_time": "2022-10-11T14:10:31.901Z"
   },
   {
    "duration": 2,
    "start_time": "2022-10-11T14:10:32.694Z"
   },
   {
    "duration": 12,
    "start_time": "2022-10-11T14:10:32.698Z"
   },
   {
    "duration": 5,
    "start_time": "2022-10-11T14:10:32.712Z"
   },
   {
    "duration": 20,
    "start_time": "2022-10-11T14:10:32.719Z"
   },
   {
    "duration": 16,
    "start_time": "2022-10-11T14:10:32.790Z"
   },
   {
    "duration": 3,
    "start_time": "2022-10-11T14:10:49.985Z"
   },
   {
    "duration": 8,
    "start_time": "2022-10-11T14:12:23.813Z"
   },
   {
    "duration": 11,
    "start_time": "2022-10-11T14:12:34.778Z"
   },
   {
    "duration": 14,
    "start_time": "2022-10-11T14:12:43.257Z"
   },
   {
    "duration": 9,
    "start_time": "2022-10-11T14:12:45.642Z"
   },
   {
    "duration": 7,
    "start_time": "2022-10-11T14:12:46.159Z"
   },
   {
    "duration": 10,
    "start_time": "2022-10-11T14:12:46.347Z"
   },
   {
    "duration": 9,
    "start_time": "2022-10-11T14:12:53.092Z"
   },
   {
    "duration": 14,
    "start_time": "2022-10-11T14:12:58.539Z"
   },
   {
    "duration": 97,
    "start_time": "2022-10-11T14:18:50.593Z"
   },
   {
    "duration": 113,
    "start_time": "2022-10-11T14:19:02.554Z"
   },
   {
    "duration": 4,
    "start_time": "2022-10-11T14:19:13.077Z"
   },
   {
    "duration": 6,
    "start_time": "2022-10-11T14:20:01.986Z"
   },
   {
    "duration": 5,
    "start_time": "2022-10-11T14:20:10.529Z"
   },
   {
    "duration": 4,
    "start_time": "2022-10-11T14:20:17.723Z"
   },
   {
    "duration": 4,
    "start_time": "2022-10-11T14:20:18.007Z"
   },
   {
    "duration": 5,
    "start_time": "2022-10-11T14:20:53.103Z"
   },
   {
    "duration": 4,
    "start_time": "2022-10-11T14:21:03.535Z"
   },
   {
    "duration": 4,
    "start_time": "2022-10-11T14:21:09.188Z"
   },
   {
    "duration": 4,
    "start_time": "2022-10-11T14:21:32.253Z"
   },
   {
    "duration": 4,
    "start_time": "2022-10-11T14:24:10.859Z"
   },
   {
    "duration": 4,
    "start_time": "2022-10-11T14:24:16.698Z"
   },
   {
    "duration": 5,
    "start_time": "2022-10-11T14:36:50.389Z"
   },
   {
    "duration": 10,
    "start_time": "2022-10-11T14:37:00.188Z"
   },
   {
    "duration": 10,
    "start_time": "2022-10-11T14:37:03.683Z"
   },
   {
    "duration": 12,
    "start_time": "2022-10-11T14:37:06.786Z"
   },
   {
    "duration": 5,
    "start_time": "2022-10-11T14:37:12.392Z"
   },
   {
    "duration": 16,
    "start_time": "2022-10-11T14:37:26.280Z"
   },
   {
    "duration": 9,
    "start_time": "2022-10-11T14:40:30.911Z"
   },
   {
    "duration": 13,
    "start_time": "2022-10-11T14:40:38.216Z"
   },
   {
    "duration": 75,
    "start_time": "2022-10-11T14:42:03.818Z"
   },
   {
    "duration": 3,
    "start_time": "2022-10-11T14:42:09.109Z"
   },
   {
    "duration": 4,
    "start_time": "2022-10-11T14:42:17.240Z"
   },
   {
    "duration": 4,
    "start_time": "2022-10-11T14:42:21.636Z"
   },
   {
    "duration": 6,
    "start_time": "2022-10-11T14:42:36.388Z"
   },
   {
    "duration": 14,
    "start_time": "2022-10-11T14:42:42.271Z"
   },
   {
    "duration": 1511,
    "start_time": "2022-10-11T14:58:17.181Z"
   },
   {
    "duration": 308,
    "start_time": "2022-10-11T14:58:18.695Z"
   },
   {
    "duration": 3,
    "start_time": "2022-10-11T14:58:19.005Z"
   },
   {
    "duration": 96,
    "start_time": "2022-10-11T14:58:19.011Z"
   },
   {
    "duration": 4,
    "start_time": "2022-10-11T14:58:19.109Z"
   },
   {
    "duration": 404,
    "start_time": "2022-10-11T14:58:19.115Z"
   },
   {
    "duration": 2,
    "start_time": "2022-10-11T14:58:19.521Z"
   },
   {
    "duration": 16,
    "start_time": "2022-10-11T14:58:19.524Z"
   },
   {
    "duration": 7,
    "start_time": "2022-10-11T14:58:19.542Z"
   },
   {
    "duration": 11,
    "start_time": "2022-10-11T14:58:19.551Z"
   },
   {
    "duration": 27,
    "start_time": "2022-10-11T14:58:19.563Z"
   },
   {
    "duration": 4,
    "start_time": "2022-10-11T14:58:19.592Z"
   },
   {
    "duration": 80,
    "start_time": "2022-10-11T14:58:19.598Z"
   },
   {
    "duration": 0,
    "start_time": "2022-10-11T14:58:19.679Z"
   },
   {
    "duration": 0,
    "start_time": "2022-10-11T14:58:19.681Z"
   },
   {
    "duration": 0,
    "start_time": "2022-10-11T14:58:19.682Z"
   },
   {
    "duration": 0,
    "start_time": "2022-10-11T14:58:19.683Z"
   },
   {
    "duration": 3,
    "start_time": "2022-10-11T14:58:34.206Z"
   },
   {
    "duration": 4,
    "start_time": "2022-10-11T14:58:34.725Z"
   },
   {
    "duration": 8,
    "start_time": "2022-10-11T14:58:35.226Z"
   },
   {
    "duration": 19,
    "start_time": "2022-10-11T14:58:35.779Z"
   },
   {
    "duration": 3,
    "start_time": "2022-10-11T14:59:44.971Z"
   },
   {
    "duration": 3,
    "start_time": "2022-10-11T14:59:45.882Z"
   },
   {
    "duration": 8,
    "start_time": "2022-10-11T14:59:47.072Z"
   },
   {
    "duration": 14,
    "start_time": "2022-10-11T14:59:47.592Z"
   },
   {
    "duration": 105,
    "start_time": "2022-10-11T15:00:47.373Z"
   },
   {
    "duration": 8,
    "start_time": "2022-10-11T15:00:51.152Z"
   },
   {
    "duration": 1459,
    "start_time": "2022-10-11T15:00:58.199Z"
   },
   {
    "duration": 305,
    "start_time": "2022-10-11T15:00:59.660Z"
   },
   {
    "duration": 3,
    "start_time": "2022-10-11T15:00:59.966Z"
   },
   {
    "duration": 92,
    "start_time": "2022-10-11T15:00:59.972Z"
   },
   {
    "duration": 3,
    "start_time": "2022-10-11T15:01:00.066Z"
   },
   {
    "duration": 384,
    "start_time": "2022-10-11T15:01:00.071Z"
   },
   {
    "duration": 2,
    "start_time": "2022-10-11T15:01:00.457Z"
   },
   {
    "duration": 22,
    "start_time": "2022-10-11T15:01:00.460Z"
   },
   {
    "duration": 8,
    "start_time": "2022-10-11T15:01:00.488Z"
   },
   {
    "duration": 33,
    "start_time": "2022-10-11T15:01:00.498Z"
   },
   {
    "duration": 19,
    "start_time": "2022-10-11T15:01:00.533Z"
   },
   {
    "duration": 44,
    "start_time": "2022-10-11T15:01:00.553Z"
   },
   {
    "duration": 84,
    "start_time": "2022-10-11T15:01:00.598Z"
   },
   {
    "duration": 30,
    "start_time": "2022-10-11T15:01:00.685Z"
   },
   {
    "duration": 23,
    "start_time": "2022-10-11T15:01:00.717Z"
   },
   {
    "duration": 12,
    "start_time": "2022-10-11T15:36:01.213Z"
   },
   {
    "duration": 1460,
    "start_time": "2022-10-11T15:36:15.146Z"
   },
   {
    "duration": 326,
    "start_time": "2022-10-11T15:36:16.608Z"
   },
   {
    "duration": 3,
    "start_time": "2022-10-11T15:36:16.936Z"
   },
   {
    "duration": 96,
    "start_time": "2022-10-11T15:36:16.941Z"
   },
   {
    "duration": 3,
    "start_time": "2022-10-11T15:36:17.039Z"
   },
   {
    "duration": 410,
    "start_time": "2022-10-11T15:36:17.043Z"
   },
   {
    "duration": 2,
    "start_time": "2022-10-11T15:36:17.455Z"
   },
   {
    "duration": 16,
    "start_time": "2022-10-11T15:36:17.459Z"
   },
   {
    "duration": 19,
    "start_time": "2022-10-11T15:36:17.476Z"
   },
   {
    "duration": 21,
    "start_time": "2022-10-11T15:36:17.497Z"
   },
   {
    "duration": 4,
    "start_time": "2022-10-11T15:36:17.520Z"
   },
   {
    "duration": 15,
    "start_time": "2022-10-11T15:36:17.526Z"
   },
   {
    "duration": 47,
    "start_time": "2022-10-11T15:36:17.543Z"
   },
   {
    "duration": 8,
    "start_time": "2022-10-11T15:36:17.592Z"
   },
   {
    "duration": 18,
    "start_time": "2022-10-11T15:36:17.602Z"
   },
   {
    "duration": 71,
    "start_time": "2022-10-11T15:36:17.622Z"
   },
   {
    "duration": 177,
    "start_time": "2022-10-11T15:36:46.393Z"
   },
   {
    "duration": 8,
    "start_time": "2022-10-11T15:36:47.032Z"
   },
   {
    "duration": 1757,
    "start_time": "2022-10-11T15:37:00.423Z"
   },
   {
    "duration": 324,
    "start_time": "2022-10-11T15:37:02.182Z"
   },
   {
    "duration": 4,
    "start_time": "2022-10-11T15:37:02.508Z"
   },
   {
    "duration": 95,
    "start_time": "2022-10-11T15:37:02.514Z"
   },
   {
    "duration": 3,
    "start_time": "2022-10-11T15:37:02.611Z"
   },
   {
    "duration": 411,
    "start_time": "2022-10-11T15:37:02.616Z"
   },
   {
    "duration": 2,
    "start_time": "2022-10-11T15:37:03.029Z"
   },
   {
    "duration": 22,
    "start_time": "2022-10-11T15:37:03.033Z"
   },
   {
    "duration": 11,
    "start_time": "2022-10-11T15:37:03.057Z"
   },
   {
    "duration": 21,
    "start_time": "2022-10-11T15:37:03.070Z"
   },
   {
    "duration": 4,
    "start_time": "2022-10-11T15:37:03.093Z"
   },
   {
    "duration": 7,
    "start_time": "2022-10-11T15:37:03.099Z"
   },
   {
    "duration": 93,
    "start_time": "2022-10-11T15:37:03.108Z"
   },
   {
    "duration": 0,
    "start_time": "2022-10-11T15:37:03.203Z"
   },
   {
    "duration": 0,
    "start_time": "2022-10-11T15:37:03.205Z"
   },
   {
    "duration": 0,
    "start_time": "2022-10-11T15:37:03.207Z"
   },
   {
    "duration": 1438,
    "start_time": "2022-10-11T15:37:16.620Z"
   },
   {
    "duration": 342,
    "start_time": "2022-10-11T15:37:18.060Z"
   },
   {
    "duration": 3,
    "start_time": "2022-10-11T15:37:18.404Z"
   },
   {
    "duration": 103,
    "start_time": "2022-10-11T15:37:18.409Z"
   },
   {
    "duration": 3,
    "start_time": "2022-10-11T15:37:18.514Z"
   },
   {
    "duration": 398,
    "start_time": "2022-10-11T15:37:18.518Z"
   },
   {
    "duration": 3,
    "start_time": "2022-10-11T15:37:18.918Z"
   },
   {
    "duration": 26,
    "start_time": "2022-10-11T15:37:18.922Z"
   },
   {
    "duration": 6,
    "start_time": "2022-10-11T15:37:18.950Z"
   },
   {
    "duration": 13,
    "start_time": "2022-10-11T15:37:18.959Z"
   },
   {
    "duration": 16,
    "start_time": "2022-10-11T15:37:18.974Z"
   },
   {
    "duration": 9,
    "start_time": "2022-10-11T15:37:18.992Z"
   },
   {
    "duration": 138,
    "start_time": "2022-10-11T15:37:19.002Z"
   },
   {
    "duration": 0,
    "start_time": "2022-10-11T15:37:19.142Z"
   },
   {
    "duration": 0,
    "start_time": "2022-10-11T15:37:19.143Z"
   },
   {
    "duration": 1,
    "start_time": "2022-10-11T15:37:19.144Z"
   },
   {
    "duration": 1424,
    "start_time": "2022-10-11T15:37:42.736Z"
   },
   {
    "duration": 314,
    "start_time": "2022-10-11T15:37:44.163Z"
   },
   {
    "duration": 3,
    "start_time": "2022-10-11T15:37:44.479Z"
   },
   {
    "duration": 94,
    "start_time": "2022-10-11T15:37:44.484Z"
   },
   {
    "duration": 2,
    "start_time": "2022-10-11T15:37:44.580Z"
   },
   {
    "duration": 413,
    "start_time": "2022-10-11T15:37:44.589Z"
   },
   {
    "duration": 3,
    "start_time": "2022-10-11T15:37:45.004Z"
   },
   {
    "duration": 29,
    "start_time": "2022-10-11T15:37:45.009Z"
   },
   {
    "duration": 9,
    "start_time": "2022-10-11T15:37:45.088Z"
   },
   {
    "duration": 13,
    "start_time": "2022-10-11T15:37:45.098Z"
   },
   {
    "duration": 4,
    "start_time": "2022-10-11T15:37:45.113Z"
   },
   {
    "duration": 6,
    "start_time": "2022-10-11T15:37:45.119Z"
   },
   {
    "duration": 74,
    "start_time": "2022-10-11T15:37:45.127Z"
   },
   {
    "duration": 10,
    "start_time": "2022-10-11T15:37:45.205Z"
   },
   {
    "duration": 75,
    "start_time": "2022-10-11T15:37:45.216Z"
   },
   {
    "duration": 19,
    "start_time": "2022-10-11T15:37:45.293Z"
   },
   {
    "duration": 42,
    "start_time": "2022-10-11T15:38:09.556Z"
   },
   {
    "duration": 5,
    "start_time": "2022-10-11T15:38:15.537Z"
   },
   {
    "duration": 1542,
    "start_time": "2022-10-11T15:38:28.800Z"
   },
   {
    "duration": 330,
    "start_time": "2022-10-11T15:38:30.344Z"
   },
   {
    "duration": 3,
    "start_time": "2022-10-11T15:38:30.675Z"
   },
   {
    "duration": 119,
    "start_time": "2022-10-11T15:38:30.680Z"
   },
   {
    "duration": 3,
    "start_time": "2022-10-11T15:38:30.801Z"
   },
   {
    "duration": 406,
    "start_time": "2022-10-11T15:38:30.806Z"
   },
   {
    "duration": 2,
    "start_time": "2022-10-11T15:38:31.214Z"
   },
   {
    "duration": 20,
    "start_time": "2022-10-11T15:38:31.218Z"
   },
   {
    "duration": 6,
    "start_time": "2022-10-11T15:38:31.240Z"
   },
   {
    "duration": 11,
    "start_time": "2022-10-11T15:38:31.247Z"
   },
   {
    "duration": 31,
    "start_time": "2022-10-11T15:38:31.259Z"
   },
   {
    "duration": 3,
    "start_time": "2022-10-11T15:38:31.292Z"
   },
   {
    "duration": 18,
    "start_time": "2022-10-11T15:38:31.297Z"
   },
   {
    "duration": 20,
    "start_time": "2022-10-11T15:38:31.318Z"
   },
   {
    "duration": 11,
    "start_time": "2022-10-11T15:38:31.339Z"
   },
   {
    "duration": 30,
    "start_time": "2022-10-11T15:38:31.351Z"
   },
   {
    "duration": 16,
    "start_time": "2022-10-11T15:38:31.383Z"
   },
   {
    "duration": 118,
    "start_time": "2022-10-11T15:45:36.419Z"
   },
   {
    "duration": 13,
    "start_time": "2022-10-11T15:45:53.138Z"
   },
   {
    "duration": 5,
    "start_time": "2022-10-11T15:45:58.997Z"
   },
   {
    "duration": 1414,
    "start_time": "2022-10-11T15:46:19.149Z"
   },
   {
    "duration": 333,
    "start_time": "2022-10-11T15:46:20.565Z"
   },
   {
    "duration": 2,
    "start_time": "2022-10-11T15:46:20.900Z"
   },
   {
    "duration": 97,
    "start_time": "2022-10-11T15:46:20.904Z"
   },
   {
    "duration": 3,
    "start_time": "2022-10-11T15:46:21.003Z"
   },
   {
    "duration": 394,
    "start_time": "2022-10-11T15:46:21.008Z"
   },
   {
    "duration": 2,
    "start_time": "2022-10-11T15:46:21.404Z"
   },
   {
    "duration": 36,
    "start_time": "2022-10-11T15:46:21.408Z"
   },
   {
    "duration": 18,
    "start_time": "2022-10-11T15:46:21.446Z"
   },
   {
    "duration": 32,
    "start_time": "2022-10-11T15:46:21.466Z"
   },
   {
    "duration": 20,
    "start_time": "2022-10-11T15:46:21.499Z"
   },
   {
    "duration": 14,
    "start_time": "2022-10-11T15:46:21.521Z"
   },
   {
    "duration": 38,
    "start_time": "2022-10-11T15:46:21.537Z"
   },
   {
    "duration": 22,
    "start_time": "2022-10-11T15:46:21.577Z"
   },
   {
    "duration": 14,
    "start_time": "2022-10-11T15:46:21.601Z"
   },
   {
    "duration": 35,
    "start_time": "2022-10-11T15:46:21.617Z"
   },
   {
    "duration": 45,
    "start_time": "2022-10-11T15:46:21.653Z"
   },
   {
    "duration": 15,
    "start_time": "2022-10-11T15:46:59.636Z"
   },
   {
    "duration": 1461,
    "start_time": "2022-10-11T15:47:07.002Z"
   },
   {
    "duration": 446,
    "start_time": "2022-10-11T15:47:08.465Z"
   },
   {
    "duration": 3,
    "start_time": "2022-10-11T15:47:08.912Z"
   },
   {
    "duration": 190,
    "start_time": "2022-10-11T15:47:08.917Z"
   },
   {
    "duration": 2,
    "start_time": "2022-10-11T15:47:09.109Z"
   },
   {
    "duration": 800,
    "start_time": "2022-10-11T15:47:09.112Z"
   },
   {
    "duration": 2,
    "start_time": "2022-10-11T15:47:09.914Z"
   },
   {
    "duration": 74,
    "start_time": "2022-10-11T15:47:09.918Z"
   },
   {
    "duration": 7,
    "start_time": "2022-10-11T15:47:09.994Z"
   },
   {
    "duration": 29,
    "start_time": "2022-10-11T15:47:10.003Z"
   },
   {
    "duration": 4,
    "start_time": "2022-10-11T15:47:10.034Z"
   },
   {
    "duration": 51,
    "start_time": "2022-10-11T15:47:10.040Z"
   },
   {
    "duration": 19,
    "start_time": "2022-10-11T15:47:10.093Z"
   },
   {
    "duration": 14,
    "start_time": "2022-10-11T15:47:10.114Z"
   },
   {
    "duration": 59,
    "start_time": "2022-10-11T15:47:10.130Z"
   },
   {
    "duration": 15,
    "start_time": "2022-10-11T15:47:10.191Z"
   },
   {
    "duration": 14,
    "start_time": "2022-10-11T15:47:10.208Z"
   },
   {
    "duration": 1470,
    "start_time": "2022-10-11T15:51:31.672Z"
   },
   {
    "duration": 297,
    "start_time": "2022-10-11T15:51:33.144Z"
   },
   {
    "duration": 3,
    "start_time": "2022-10-11T15:51:33.443Z"
   },
   {
    "duration": 99,
    "start_time": "2022-10-11T15:51:33.448Z"
   },
   {
    "duration": 2,
    "start_time": "2022-10-11T15:51:33.549Z"
   },
   {
    "duration": 369,
    "start_time": "2022-10-11T15:51:33.553Z"
   },
   {
    "duration": 3,
    "start_time": "2022-10-11T15:51:33.924Z"
   },
   {
    "duration": 16,
    "start_time": "2022-10-11T15:51:33.928Z"
   },
   {
    "duration": 8,
    "start_time": "2022-10-11T15:51:33.946Z"
   },
   {
    "duration": 33,
    "start_time": "2022-10-11T15:51:33.957Z"
   },
   {
    "duration": 4,
    "start_time": "2022-10-11T15:51:33.992Z"
   },
   {
    "duration": 12,
    "start_time": "2022-10-11T15:51:33.997Z"
   },
   {
    "duration": 19,
    "start_time": "2022-10-11T15:51:34.011Z"
   },
   {
    "duration": 10,
    "start_time": "2022-10-11T15:51:34.032Z"
   },
   {
    "duration": 23,
    "start_time": "2022-10-11T15:51:34.043Z"
   },
   {
    "duration": 30,
    "start_time": "2022-10-11T15:51:34.067Z"
   },
   {
    "duration": 1398,
    "start_time": "2022-10-11T15:59:34.213Z"
   },
   {
    "duration": 7,
    "start_time": "2022-10-11T15:59:45.769Z"
   },
   {
    "duration": 16,
    "start_time": "2022-10-11T16:00:06.379Z"
   },
   {
    "duration": 13,
    "start_time": "2022-10-11T16:00:26.472Z"
   },
   {
    "duration": 10,
    "start_time": "2022-10-11T16:00:30.360Z"
   },
   {
    "duration": 8,
    "start_time": "2022-10-11T16:00:43.783Z"
   },
   {
    "duration": 1406,
    "start_time": "2022-10-11T16:00:48.540Z"
   },
   {
    "duration": 293,
    "start_time": "2022-10-11T16:00:49.948Z"
   },
   {
    "duration": 2,
    "start_time": "2022-10-11T16:00:50.243Z"
   },
   {
    "duration": 86,
    "start_time": "2022-10-11T16:00:50.247Z"
   },
   {
    "duration": 2,
    "start_time": "2022-10-11T16:00:50.335Z"
   },
   {
    "duration": 379,
    "start_time": "2022-10-11T16:00:50.339Z"
   },
   {
    "duration": 3,
    "start_time": "2022-10-11T16:00:50.719Z"
   },
   {
    "duration": 16,
    "start_time": "2022-10-11T16:00:50.723Z"
   },
   {
    "duration": 7,
    "start_time": "2022-10-11T16:00:50.741Z"
   },
   {
    "duration": 14,
    "start_time": "2022-10-11T16:00:50.749Z"
   },
   {
    "duration": 30,
    "start_time": "2022-10-11T16:00:50.764Z"
   },
   {
    "duration": 5,
    "start_time": "2022-10-11T16:00:50.796Z"
   },
   {
    "duration": 10,
    "start_time": "2022-10-11T16:00:50.803Z"
   },
   {
    "duration": 20,
    "start_time": "2022-10-11T16:00:50.816Z"
   },
   {
    "duration": 8,
    "start_time": "2022-10-11T16:00:50.838Z"
   },
   {
    "duration": 42,
    "start_time": "2022-10-11T16:00:50.848Z"
   },
   {
    "duration": 13,
    "start_time": "2022-10-11T16:00:50.892Z"
   },
   {
    "duration": 10,
    "start_time": "2022-10-11T16:05:08.759Z"
   },
   {
    "duration": 9,
    "start_time": "2022-10-11T16:05:22.068Z"
   },
   {
    "duration": 8,
    "start_time": "2022-10-11T16:08:15.962Z"
   },
   {
    "duration": 9,
    "start_time": "2022-10-11T16:08:23.418Z"
   },
   {
    "duration": 10,
    "start_time": "2022-10-11T16:08:40.450Z"
   },
   {
    "duration": 1484,
    "start_time": "2022-10-11T16:08:53.193Z"
   },
   {
    "duration": 335,
    "start_time": "2022-10-11T16:08:54.679Z"
   },
   {
    "duration": 3,
    "start_time": "2022-10-11T16:08:55.016Z"
   },
   {
    "duration": 111,
    "start_time": "2022-10-11T16:08:55.021Z"
   },
   {
    "duration": 3,
    "start_time": "2022-10-11T16:08:55.134Z"
   },
   {
    "duration": 442,
    "start_time": "2022-10-11T16:08:55.138Z"
   },
   {
    "duration": 8,
    "start_time": "2022-10-11T16:08:55.581Z"
   },
   {
    "duration": 32,
    "start_time": "2022-10-11T16:08:55.591Z"
   },
   {
    "duration": 20,
    "start_time": "2022-10-11T16:08:55.625Z"
   },
   {
    "duration": 35,
    "start_time": "2022-10-11T16:08:55.647Z"
   },
   {
    "duration": 36,
    "start_time": "2022-10-11T16:08:55.684Z"
   },
   {
    "duration": 29,
    "start_time": "2022-10-11T16:08:55.723Z"
   },
   {
    "duration": 13,
    "start_time": "2022-10-11T16:08:55.753Z"
   },
   {
    "duration": 30,
    "start_time": "2022-10-11T16:08:55.769Z"
   },
   {
    "duration": 27,
    "start_time": "2022-10-11T16:08:55.801Z"
   },
   {
    "duration": 23,
    "start_time": "2022-10-11T16:08:55.830Z"
   },
   {
    "duration": 16,
    "start_time": "2022-10-11T16:08:55.854Z"
   },
   {
    "duration": 157,
    "start_time": "2022-10-11T16:08:55.872Z"
   },
   {
    "duration": 0,
    "start_time": "2022-10-11T16:08:56.031Z"
   },
   {
    "duration": 34,
    "start_time": "2022-10-11T16:24:04.248Z"
   },
   {
    "duration": 9,
    "start_time": "2022-10-11T16:31:35.752Z"
   },
   {
    "duration": 11,
    "start_time": "2022-10-11T16:31:43.047Z"
   },
   {
    "duration": 15,
    "start_time": "2022-10-11T16:45:44.653Z"
   },
   {
    "duration": 16,
    "start_time": "2022-10-11T16:46:45.314Z"
   },
   {
    "duration": 1545,
    "start_time": "2022-10-11T16:55:10.315Z"
   },
   {
    "duration": 342,
    "start_time": "2022-10-11T16:55:11.863Z"
   },
   {
    "duration": 3,
    "start_time": "2022-10-11T16:55:12.207Z"
   },
   {
    "duration": 85,
    "start_time": "2022-10-11T16:55:12.213Z"
   },
   {
    "duration": 2,
    "start_time": "2022-10-11T16:55:12.300Z"
   },
   {
    "duration": 385,
    "start_time": "2022-10-11T16:55:12.304Z"
   },
   {
    "duration": 3,
    "start_time": "2022-10-11T16:55:12.691Z"
   },
   {
    "duration": 18,
    "start_time": "2022-10-11T16:55:12.696Z"
   },
   {
    "duration": 8,
    "start_time": "2022-10-11T16:55:12.716Z"
   },
   {
    "duration": 10,
    "start_time": "2022-10-11T16:55:12.726Z"
   },
   {
    "duration": 7,
    "start_time": "2022-10-11T16:55:12.738Z"
   },
   {
    "duration": 6,
    "start_time": "2022-10-11T16:55:12.746Z"
   },
   {
    "duration": 37,
    "start_time": "2022-10-11T16:55:12.754Z"
   },
   {
    "duration": 6,
    "start_time": "2022-10-11T16:55:12.792Z"
   },
   {
    "duration": 17,
    "start_time": "2022-10-11T16:55:12.800Z"
   },
   {
    "duration": 9,
    "start_time": "2022-10-11T16:55:12.819Z"
   },
   {
    "duration": 14,
    "start_time": "2022-10-11T16:55:12.829Z"
   },
   {
    "duration": 9,
    "start_time": "2022-10-11T16:55:12.845Z"
   },
   {
    "duration": 38,
    "start_time": "2022-10-11T16:55:12.856Z"
   },
   {
    "duration": 223,
    "start_time": "2022-10-11T16:55:12.896Z"
   },
   {
    "duration": 0,
    "start_time": "2022-10-11T16:55:13.121Z"
   },
   {
    "duration": 11,
    "start_time": "2022-10-11T17:00:01.379Z"
   },
   {
    "duration": 1516,
    "start_time": "2022-10-11T17:00:08.394Z"
   },
   {
    "duration": 312,
    "start_time": "2022-10-11T17:00:09.913Z"
   },
   {
    "duration": 5,
    "start_time": "2022-10-11T17:00:10.226Z"
   },
   {
    "duration": 90,
    "start_time": "2022-10-11T17:00:10.234Z"
   },
   {
    "duration": 3,
    "start_time": "2022-10-11T17:00:10.326Z"
   },
   {
    "duration": 386,
    "start_time": "2022-10-11T17:00:10.332Z"
   },
   {
    "duration": 3,
    "start_time": "2022-10-11T17:00:10.719Z"
   },
   {
    "duration": 19,
    "start_time": "2022-10-11T17:00:10.723Z"
   },
   {
    "duration": 19,
    "start_time": "2022-10-11T17:00:10.744Z"
   },
   {
    "duration": 28,
    "start_time": "2022-10-11T17:00:10.767Z"
   },
   {
    "duration": 11,
    "start_time": "2022-10-11T17:00:10.798Z"
   },
   {
    "duration": 19,
    "start_time": "2022-10-11T17:00:10.811Z"
   },
   {
    "duration": 6,
    "start_time": "2022-10-11T17:00:10.833Z"
   },
   {
    "duration": 23,
    "start_time": "2022-10-11T17:00:10.842Z"
   },
   {
    "duration": 27,
    "start_time": "2022-10-11T17:00:10.867Z"
   },
   {
    "duration": 10,
    "start_time": "2022-10-11T17:00:10.896Z"
   },
   {
    "duration": 13,
    "start_time": "2022-10-11T17:00:10.908Z"
   },
   {
    "duration": 14,
    "start_time": "2022-10-11T17:00:10.923Z"
   },
   {
    "duration": 14,
    "start_time": "2022-10-11T17:00:10.939Z"
   },
   {
    "duration": 164,
    "start_time": "2022-10-11T17:00:10.956Z"
   },
   {
    "duration": 0,
    "start_time": "2022-10-11T17:00:11.122Z"
   },
   {
    "duration": 199,
    "start_time": "2022-10-11T17:14:18.303Z"
   },
   {
    "duration": 89,
    "start_time": "2022-10-11T17:14:53.749Z"
   },
   {
    "duration": 89,
    "start_time": "2022-10-11T17:15:06.027Z"
   },
   {
    "duration": 93,
    "start_time": "2022-10-11T17:15:22.869Z"
   },
   {
    "duration": 83,
    "start_time": "2022-10-11T17:17:09.991Z"
   },
   {
    "duration": 165,
    "start_time": "2022-10-11T17:21:04.136Z"
   },
   {
    "duration": 98,
    "start_time": "2022-10-11T17:21:14.399Z"
   },
   {
    "duration": 117,
    "start_time": "2022-10-11T17:21:48.070Z"
   },
   {
    "duration": 212,
    "start_time": "2022-10-11T17:22:18.294Z"
   },
   {
    "duration": 7,
    "start_time": "2022-10-11T17:22:36.390Z"
   },
   {
    "duration": 77,
    "start_time": "2022-10-11T17:22:51.010Z"
   },
   {
    "duration": 105,
    "start_time": "2022-10-11T17:22:56.347Z"
   },
   {
    "duration": 6,
    "start_time": "2022-10-11T17:22:59.106Z"
   },
   {
    "duration": 104,
    "start_time": "2022-10-11T17:23:11.122Z"
   },
   {
    "duration": 6,
    "start_time": "2022-10-11T17:23:15.505Z"
   },
   {
    "duration": 15,
    "start_time": "2022-10-11T17:23:24.307Z"
   },
   {
    "duration": 6,
    "start_time": "2022-10-11T17:24:59.091Z"
   },
   {
    "duration": 11,
    "start_time": "2022-10-11T17:25:46.384Z"
   },
   {
    "duration": 4,
    "start_time": "2022-10-11T17:26:15.130Z"
   },
   {
    "duration": 1541,
    "start_time": "2022-10-11T17:26:20.466Z"
   },
   {
    "duration": 350,
    "start_time": "2022-10-11T17:26:22.009Z"
   },
   {
    "duration": 3,
    "start_time": "2022-10-11T17:26:22.362Z"
   },
   {
    "duration": 80,
    "start_time": "2022-10-11T17:26:22.368Z"
   },
   {
    "duration": 2,
    "start_time": "2022-10-11T17:26:22.450Z"
   },
   {
    "duration": 358,
    "start_time": "2022-10-11T17:26:22.454Z"
   },
   {
    "duration": 3,
    "start_time": "2022-10-11T17:26:22.813Z"
   },
   {
    "duration": 16,
    "start_time": "2022-10-11T17:26:22.817Z"
   },
   {
    "duration": 8,
    "start_time": "2022-10-11T17:26:22.835Z"
   },
   {
    "duration": 11,
    "start_time": "2022-10-11T17:26:22.845Z"
   },
   {
    "duration": 33,
    "start_time": "2022-10-11T17:26:22.857Z"
   },
   {
    "duration": 14,
    "start_time": "2022-10-11T17:26:22.891Z"
   },
   {
    "duration": 10,
    "start_time": "2022-10-11T17:26:22.907Z"
   },
   {
    "duration": 9,
    "start_time": "2022-10-11T17:26:22.918Z"
   },
   {
    "duration": 17,
    "start_time": "2022-10-11T17:26:22.929Z"
   },
   {
    "duration": 11,
    "start_time": "2022-10-11T17:26:22.948Z"
   },
   {
    "duration": 30,
    "start_time": "2022-10-11T17:26:22.961Z"
   },
   {
    "duration": 13,
    "start_time": "2022-10-11T17:26:22.993Z"
   },
   {
    "duration": 11,
    "start_time": "2022-10-11T17:26:23.008Z"
   },
   {
    "duration": 8,
    "start_time": "2022-10-11T17:26:23.021Z"
   },
   {
    "duration": 9,
    "start_time": "2022-10-11T17:26:23.031Z"
   },
   {
    "duration": 22,
    "start_time": "2022-10-11T17:26:23.042Z"
   },
   {
    "duration": 5,
    "start_time": "2022-10-11T17:27:23.826Z"
   },
   {
    "duration": 6,
    "start_time": "2022-10-11T17:27:31.553Z"
   },
   {
    "duration": 95,
    "start_time": "2022-10-11T17:27:35.800Z"
   },
   {
    "duration": 78,
    "start_time": "2022-10-11T17:27:40.157Z"
   },
   {
    "duration": 8,
    "start_time": "2022-10-11T17:27:41.865Z"
   },
   {
    "duration": 7,
    "start_time": "2022-10-11T17:27:47.478Z"
   },
   {
    "duration": 6,
    "start_time": "2022-10-11T17:27:52.018Z"
   },
   {
    "duration": 5,
    "start_time": "2022-10-11T17:29:05.404Z"
   },
   {
    "duration": 523,
    "start_time": "2022-10-11T18:09:55.072Z"
   },
   {
    "duration": 391,
    "start_time": "2022-10-11T18:10:01.453Z"
   },
   {
    "duration": 197,
    "start_time": "2022-10-11T18:19:39.477Z"
   },
   {
    "duration": 14,
    "start_time": "2022-10-11T18:25:17.445Z"
   },
   {
    "duration": 35,
    "start_time": "2022-10-11T18:25:30.957Z"
   },
   {
    "duration": 190,
    "start_time": "2022-10-11T18:25:44.566Z"
   },
   {
    "duration": 363033,
    "start_time": "2022-10-11T18:26:08.678Z"
   },
   {
    "duration": 16,
    "start_time": "2022-10-11T18:36:58.482Z"
   },
   {
    "duration": 23,
    "start_time": "2022-10-11T19:23:46.161Z"
   },
   {
    "duration": 37,
    "start_time": "2022-10-11T19:23:56.507Z"
   },
   {
    "duration": 41,
    "start_time": "2022-10-11T19:25:10.852Z"
   },
   {
    "duration": 26,
    "start_time": "2022-10-11T19:25:11.880Z"
   },
   {
    "duration": 25,
    "start_time": "2022-10-11T19:25:20.502Z"
   },
   {
    "duration": 14,
    "start_time": "2022-10-11T19:25:21.553Z"
   },
   {
    "duration": 33,
    "start_time": "2022-10-11T19:26:16.107Z"
   },
   {
    "duration": 13,
    "start_time": "2022-10-11T19:26:16.877Z"
   },
   {
    "duration": 608,
    "start_time": "2022-10-11T19:26:39.731Z"
   },
   {
    "duration": 32,
    "start_time": "2022-10-11T19:27:14.092Z"
   },
   {
    "duration": 15,
    "start_time": "2022-10-11T19:27:19.295Z"
   },
   {
    "duration": 12,
    "start_time": "2022-10-11T19:27:22.351Z"
   },
   {
    "duration": 44,
    "start_time": "2022-10-11T19:28:59.854Z"
   },
   {
    "duration": 17,
    "start_time": "2022-10-11T19:29:00.307Z"
   },
   {
    "duration": 30,
    "start_time": "2022-10-11T19:29:32.769Z"
   },
   {
    "duration": 22,
    "start_time": "2022-10-11T19:29:33.476Z"
   },
   {
    "duration": 26,
    "start_time": "2022-10-11T19:30:16.358Z"
   },
   {
    "duration": 15,
    "start_time": "2022-10-11T19:30:16.899Z"
   },
   {
    "duration": 27,
    "start_time": "2022-10-11T19:31:30.369Z"
   },
   {
    "duration": 18,
    "start_time": "2022-10-11T19:31:34.822Z"
   },
   {
    "duration": 25,
    "start_time": "2022-10-11T19:32:21.036Z"
   },
   {
    "duration": 12,
    "start_time": "2022-10-11T19:32:21.211Z"
   },
   {
    "duration": 229,
    "start_time": "2022-10-11T19:36:58.374Z"
   },
   {
    "duration": 3092,
    "start_time": "2022-10-11T19:38:37.879Z"
   },
   {
    "duration": 381,
    "start_time": "2022-10-11T19:41:39.716Z"
   },
   {
    "duration": 397,
    "start_time": "2022-10-11T19:41:58.058Z"
   },
   {
    "duration": 370,
    "start_time": "2022-10-11T19:42:26.637Z"
   },
   {
    "duration": 49,
    "start_time": "2022-10-11T19:42:27.010Z"
   },
   {
    "duration": 6,
    "start_time": "2022-10-11T19:43:00.846Z"
   },
   {
    "duration": 464,
    "start_time": "2022-10-11T19:43:01.387Z"
   },
   {
    "duration": 192,
    "start_time": "2022-10-11T19:43:29.233Z"
   },
   {
    "duration": 91,
    "start_time": "2022-10-11T19:43:32.819Z"
   },
   {
    "duration": 5,
    "start_time": "2022-10-11T19:43:43.142Z"
   },
   {
    "duration": 197,
    "start_time": "2022-10-11T19:43:47.551Z"
   },
   {
    "duration": 427,
    "start_time": "2022-10-11T19:46:19.941Z"
   },
   {
    "duration": 693,
    "start_time": "2022-10-11T19:46:44.990Z"
   },
   {
    "duration": 7,
    "start_time": "2022-10-11T19:47:59.962Z"
   },
   {
    "duration": 512,
    "start_time": "2022-10-11T19:48:00.122Z"
   },
   {
    "duration": 407,
    "start_time": "2022-10-11T19:51:42.894Z"
   },
   {
    "duration": 407,
    "start_time": "2022-10-11T19:51:48.748Z"
   },
   {
    "duration": 281,
    "start_time": "2022-10-11T19:51:56.667Z"
   },
   {
    "duration": 384,
    "start_time": "2022-10-11T19:52:12.970Z"
   },
   {
    "duration": 298,
    "start_time": "2022-10-11T19:52:26.223Z"
   },
   {
    "duration": 346,
    "start_time": "2022-10-11T19:53:07.318Z"
   },
   {
    "duration": 367,
    "start_time": "2022-10-11T19:58:15.762Z"
   },
   {
    "duration": 356,
    "start_time": "2022-10-11T19:58:38.916Z"
   },
   {
    "duration": 457,
    "start_time": "2022-10-11T20:05:41.974Z"
   },
   {
    "duration": 341,
    "start_time": "2022-10-11T20:05:47.920Z"
   },
   {
    "duration": 226,
    "start_time": "2022-10-11T20:06:00.220Z"
   },
   {
    "duration": 354,
    "start_time": "2022-10-11T20:06:21.232Z"
   },
   {
    "duration": 367,
    "start_time": "2022-10-11T20:10:12.370Z"
   },
   {
    "duration": 328,
    "start_time": "2022-10-11T20:10:57.067Z"
   },
   {
    "duration": 202,
    "start_time": "2022-10-11T20:11:08.146Z"
   },
   {
    "duration": 331,
    "start_time": "2022-10-11T20:11:36.748Z"
   },
   {
    "duration": 428,
    "start_time": "2022-10-11T20:11:59.885Z"
   },
   {
    "duration": 378,
    "start_time": "2022-10-11T20:12:09.628Z"
   },
   {
    "duration": 432,
    "start_time": "2022-10-11T20:12:18.034Z"
   },
   {
    "duration": 482,
    "start_time": "2022-10-11T20:12:34.029Z"
   },
   {
    "duration": 222,
    "start_time": "2022-10-11T20:13:31.165Z"
   },
   {
    "duration": 492,
    "start_time": "2022-10-11T20:13:34.963Z"
   },
   {
    "duration": 228,
    "start_time": "2022-10-11T20:13:40.911Z"
   },
   {
    "duration": 100,
    "start_time": "2022-10-11T20:14:07.276Z"
   },
   {
    "duration": 1742,
    "start_time": "2022-10-11T20:14:11.113Z"
   },
   {
    "duration": 240,
    "start_time": "2022-10-11T20:14:16.386Z"
   },
   {
    "duration": 26,
    "start_time": "2022-10-11T20:14:20.909Z"
   },
   {
    "duration": 407,
    "start_time": "2022-10-11T20:14:22.859Z"
   },
   {
    "duration": 556,
    "start_time": "2022-10-11T20:14:38.217Z"
   },
   {
    "duration": 492,
    "start_time": "2022-10-11T20:15:03.042Z"
   },
   {
    "duration": 785,
    "start_time": "2022-10-11T20:15:17.938Z"
   },
   {
    "duration": 606,
    "start_time": "2022-10-11T20:15:22.859Z"
   },
   {
    "duration": 124,
    "start_time": "2022-10-11T20:15:51.440Z"
   },
   {
    "duration": 106,
    "start_time": "2022-10-11T20:15:54.743Z"
   },
   {
    "duration": 556,
    "start_time": "2022-10-11T20:16:06.440Z"
   },
   {
    "duration": 780,
    "start_time": "2022-10-11T20:16:13.249Z"
   },
   {
    "duration": 690,
    "start_time": "2022-10-11T20:16:56.875Z"
   },
   {
    "duration": 764,
    "start_time": "2022-10-11T20:17:13.817Z"
   },
   {
    "duration": 562,
    "start_time": "2022-10-11T20:17:28.364Z"
   },
   {
    "duration": 819,
    "start_time": "2022-10-11T20:17:32.627Z"
   },
   {
    "duration": 765,
    "start_time": "2022-10-11T20:18:14.147Z"
   },
   {
    "duration": 921,
    "start_time": "2022-10-11T20:19:06.142Z"
   },
   {
    "duration": 859,
    "start_time": "2022-10-11T20:19:10.549Z"
   },
   {
    "duration": 780,
    "start_time": "2022-10-11T20:19:14.419Z"
   },
   {
    "duration": 898,
    "start_time": "2022-10-11T20:19:49.749Z"
   },
   {
    "duration": 1389,
    "start_time": "2022-10-11T20:20:13.349Z"
   },
   {
    "duration": 1028,
    "start_time": "2022-10-11T20:20:21.452Z"
   },
   {
    "duration": 1504,
    "start_time": "2022-10-11T20:20:50.280Z"
   },
   {
    "duration": 1430,
    "start_time": "2022-10-11T20:21:19.036Z"
   },
   {
    "duration": 1524,
    "start_time": "2022-10-11T20:23:18.560Z"
   },
   {
    "duration": 1363,
    "start_time": "2022-10-11T20:24:34.456Z"
   },
   {
    "duration": 1352,
    "start_time": "2022-10-11T20:30:51.489Z"
   },
   {
    "duration": 1298,
    "start_time": "2022-10-11T20:32:13.038Z"
   },
   {
    "duration": 1625,
    "start_time": "2022-10-11T20:32:40.021Z"
   },
   {
    "duration": 1320,
    "start_time": "2022-10-11T20:34:22.817Z"
   },
   {
    "duration": 1512,
    "start_time": "2022-10-11T20:34:37.971Z"
   },
   {
    "duration": 1350,
    "start_time": "2022-10-11T20:34:54.184Z"
   },
   {
    "duration": 1462,
    "start_time": "2022-10-11T20:36:09.717Z"
   },
   {
    "duration": 1463,
    "start_time": "2022-10-11T20:38:09.016Z"
   },
   {
    "duration": 80,
    "start_time": "2022-10-11T20:39:26.429Z"
   },
   {
    "duration": 16,
    "start_time": "2022-10-11T20:40:23.944Z"
   },
   {
    "duration": 25,
    "start_time": "2022-10-11T20:40:40.639Z"
   },
   {
    "duration": 21,
    "start_time": "2022-10-11T20:40:47.640Z"
   },
   {
    "duration": 2114,
    "start_time": "2022-10-11T20:41:54.940Z"
   },
   {
    "duration": 32,
    "start_time": "2022-10-11T20:41:58.310Z"
   },
   {
    "duration": 1189,
    "start_time": "2022-10-11T20:44:13.390Z"
   },
   {
    "duration": 624,
    "start_time": "2022-10-11T20:45:36.957Z"
   },
   {
    "duration": 878,
    "start_time": "2022-10-11T20:45:46.954Z"
   },
   {
    "duration": 775,
    "start_time": "2022-10-11T20:46:06.589Z"
   },
   {
    "duration": 638,
    "start_time": "2022-10-11T20:46:24.517Z"
   },
   {
    "duration": 767,
    "start_time": "2022-10-11T20:47:04.936Z"
   },
   {
    "duration": 1047,
    "start_time": "2022-10-11T20:47:22.445Z"
   },
   {
    "duration": 1441,
    "start_time": "2022-10-11T20:48:04.841Z"
   },
   {
    "duration": 1221,
    "start_time": "2022-10-11T20:48:10.367Z"
   },
   {
    "duration": 923,
    "start_time": "2022-10-11T20:48:17.353Z"
   },
   {
    "duration": 16,
    "start_time": "2022-10-11T20:48:30.843Z"
   },
   {
    "duration": 789,
    "start_time": "2022-10-11T20:48:35.246Z"
   },
   {
    "duration": 1428,
    "start_time": "2022-10-11T20:52:08.524Z"
   },
   {
    "duration": 1171,
    "start_time": "2022-10-11T20:52:56.381Z"
   },
   {
    "duration": 1464,
    "start_time": "2022-10-11T20:53:12.840Z"
   },
   {
    "duration": 1079,
    "start_time": "2022-10-11T20:53:30.036Z"
   },
   {
    "duration": 1692,
    "start_time": "2022-10-11T20:53:37.063Z"
   },
   {
    "duration": 1204,
    "start_time": "2022-10-11T20:53:59.183Z"
   },
   {
    "duration": 109,
    "start_time": "2022-10-11T20:59:08.831Z"
   },
   {
    "duration": 1606,
    "start_time": "2022-10-11T20:59:19.857Z"
   },
   {
    "duration": 1117,
    "start_time": "2022-10-11T20:59:56.266Z"
   },
   {
    "duration": 140,
    "start_time": "2022-10-11T21:00:16.809Z"
   },
   {
    "duration": 1445,
    "start_time": "2022-10-11T21:00:24.968Z"
   },
   {
    "duration": 1134,
    "start_time": "2022-10-11T21:00:52.174Z"
   },
   {
    "duration": 1200,
    "start_time": "2022-10-11T21:01:03.440Z"
   },
   {
    "duration": 1447,
    "start_time": "2022-10-11T21:01:10.223Z"
   },
   {
    "duration": 1108,
    "start_time": "2022-10-11T21:01:16.139Z"
   },
   {
    "duration": 1410,
    "start_time": "2022-10-11T21:01:24.089Z"
   },
   {
    "duration": 45,
    "start_time": "2022-10-11T21:05:29.360Z"
   },
   {
    "duration": 15,
    "start_time": "2022-10-11T21:05:33.620Z"
   },
   {
    "duration": 25,
    "start_time": "2022-10-11T21:05:39.423Z"
   },
   {
    "duration": 30,
    "start_time": "2022-10-11T21:05:41.990Z"
   },
   {
    "duration": 140,
    "start_time": "2022-10-11T21:16:49.338Z"
   },
   {
    "duration": 141,
    "start_time": "2022-10-11T21:16:52.134Z"
   },
   {
    "duration": 165,
    "start_time": "2022-10-11T21:16:54.838Z"
   },
   {
    "duration": 6,
    "start_time": "2022-10-11T21:17:00.682Z"
   },
   {
    "duration": 2155,
    "start_time": "2022-10-11T21:18:24.113Z"
   },
   {
    "duration": 1498,
    "start_time": "2022-10-11T21:19:00.503Z"
   },
   {
    "duration": 22,
    "start_time": "2022-10-11T21:31:48.400Z"
   },
   {
    "duration": 7,
    "start_time": "2022-10-11T21:32:17.609Z"
   },
   {
    "duration": 7,
    "start_time": "2022-10-11T21:33:08.021Z"
   },
   {
    "duration": 650,
    "start_time": "2022-10-11T21:34:07.998Z"
   },
   {
    "duration": 658,
    "start_time": "2022-10-11T21:34:13.572Z"
   },
   {
    "duration": 679,
    "start_time": "2022-10-11T21:35:02.320Z"
   },
   {
    "duration": 656,
    "start_time": "2022-10-11T21:35:37.306Z"
   },
   {
    "duration": 998,
    "start_time": "2022-10-11T21:35:47.518Z"
   },
   {
    "duration": 646,
    "start_time": "2022-10-11T21:37:12.604Z"
   },
   {
    "duration": 27,
    "start_time": "2022-10-11T21:42:09.369Z"
   },
   {
    "duration": 219,
    "start_time": "2022-10-11T21:42:57.856Z"
   },
   {
    "duration": 729,
    "start_time": "2022-10-11T21:43:01.727Z"
   },
   {
    "duration": 406,
    "start_time": "2022-10-11T21:53:55.437Z"
   },
   {
    "duration": 487,
    "start_time": "2022-10-11T21:54:21.156Z"
   },
   {
    "duration": 510,
    "start_time": "2022-10-11T21:54:26.620Z"
   },
   {
    "duration": 98,
    "start_time": "2022-10-11T21:54:56.412Z"
   },
   {
    "duration": 12,
    "start_time": "2022-10-11T21:54:59.952Z"
   },
   {
    "duration": 18,
    "start_time": "2022-10-11T21:55:25.398Z"
   },
   {
    "duration": 15,
    "start_time": "2022-10-11T21:55:34.627Z"
   },
   {
    "duration": 435,
    "start_time": "2022-10-11T21:56:01.872Z"
   },
   {
    "duration": 408,
    "start_time": "2022-10-11T21:56:16.887Z"
   },
   {
    "duration": 398,
    "start_time": "2022-10-11T21:56:26.330Z"
   },
   {
    "duration": 897,
    "start_time": "2022-10-11T21:56:57.672Z"
   },
   {
    "duration": 5,
    "start_time": "2022-10-11T21:59:10.363Z"
   },
   {
    "duration": 14,
    "start_time": "2022-10-11T21:59:34.944Z"
   },
   {
    "duration": 50750,
    "start_time": "2022-10-11T22:00:39.310Z"
   },
   {
    "duration": 620,
    "start_time": "2022-10-11T22:01:40.466Z"
   },
   {
    "duration": 1684,
    "start_time": "2022-10-11T22:01:57.862Z"
   },
   {
    "duration": 2170,
    "start_time": "2022-10-11T22:02:50.505Z"
   },
   {
    "duration": 168,
    "start_time": "2022-10-11T22:03:57.009Z"
   },
   {
    "duration": 2083,
    "start_time": "2022-10-11T22:04:05.225Z"
   },
   {
    "duration": 2152,
    "start_time": "2022-10-11T22:04:24.115Z"
   },
   {
    "duration": 169,
    "start_time": "2022-10-11T22:09:15.800Z"
   },
   {
    "duration": 193,
    "start_time": "2022-10-11T22:09:24.904Z"
   },
   {
    "duration": 179,
    "start_time": "2022-10-11T22:09:33.140Z"
   },
   {
    "duration": 3244,
    "start_time": "2022-10-11T22:09:47.005Z"
   },
   {
    "duration": 129,
    "start_time": "2022-10-11T22:10:45.674Z"
   },
   {
    "duration": 11,
    "start_time": "2022-10-11T22:10:46.224Z"
   },
   {
    "duration": 458,
    "start_time": "2022-10-11T22:10:46.777Z"
   },
   {
    "duration": 133,
    "start_time": "2022-10-11T22:11:38.209Z"
   },
   {
    "duration": 9,
    "start_time": "2022-10-11T22:11:38.442Z"
   },
   {
    "duration": 433,
    "start_time": "2022-10-11T22:11:38.633Z"
   },
   {
    "duration": 88,
    "start_time": "2022-10-11T22:15:41.675Z"
   },
   {
    "duration": 11,
    "start_time": "2022-10-11T22:15:41.836Z"
   },
   {
    "duration": 473,
    "start_time": "2022-10-11T22:15:41.997Z"
   },
   {
    "duration": 64,
    "start_time": "2022-10-11T22:15:56.058Z"
   },
   {
    "duration": 10,
    "start_time": "2022-10-11T22:15:56.874Z"
   },
   {
    "duration": 473,
    "start_time": "2022-10-11T22:15:57.044Z"
   },
   {
    "duration": 1581,
    "start_time": "2022-10-11T22:17:27.938Z"
   },
   {
    "duration": 321,
    "start_time": "2022-10-11T22:17:29.521Z"
   },
   {
    "duration": 4,
    "start_time": "2022-10-11T22:17:29.844Z"
   },
   {
    "duration": 92,
    "start_time": "2022-10-11T22:17:29.850Z"
   },
   {
    "duration": 3,
    "start_time": "2022-10-11T22:17:29.944Z"
   },
   {
    "duration": 407,
    "start_time": "2022-10-11T22:17:29.949Z"
   },
   {
    "duration": 3,
    "start_time": "2022-10-11T22:17:30.358Z"
   },
   {
    "duration": 44,
    "start_time": "2022-10-11T22:17:30.363Z"
   },
   {
    "duration": 8,
    "start_time": "2022-10-11T22:17:30.409Z"
   },
   {
    "duration": 21,
    "start_time": "2022-10-11T22:17:30.420Z"
   },
   {
    "duration": 24,
    "start_time": "2022-10-11T22:17:30.443Z"
   },
   {
    "duration": 54,
    "start_time": "2022-10-11T22:17:30.469Z"
   },
   {
    "duration": 21,
    "start_time": "2022-10-11T22:17:30.525Z"
   },
   {
    "duration": 29,
    "start_time": "2022-10-11T22:17:30.548Z"
   },
   {
    "duration": 48,
    "start_time": "2022-10-11T22:17:30.580Z"
   },
   {
    "duration": 26,
    "start_time": "2022-10-11T22:17:30.632Z"
   },
   {
    "duration": 35,
    "start_time": "2022-10-11T22:17:30.662Z"
   },
   {
    "duration": 43,
    "start_time": "2022-10-11T22:17:30.704Z"
   },
   {
    "duration": 26,
    "start_time": "2022-10-11T22:17:30.750Z"
   },
   {
    "duration": 11,
    "start_time": "2022-10-11T22:17:30.778Z"
   },
   {
    "duration": 29,
    "start_time": "2022-10-11T22:17:30.792Z"
   },
   {
    "duration": 1330,
    "start_time": "2022-10-11T22:17:30.824Z"
   },
   {
    "duration": 34,
    "start_time": "2022-10-11T22:17:32.157Z"
   },
   {
    "duration": 1070,
    "start_time": "2022-10-11T22:17:32.194Z"
   },
   {
    "duration": 23,
    "start_time": "2022-10-11T22:17:33.266Z"
   },
   {
    "duration": 417,
    "start_time": "2022-10-11T22:17:33.297Z"
   },
   {
    "duration": 186,
    "start_time": "2022-10-11T22:17:33.716Z"
   },
   {
    "duration": 7,
    "start_time": "2022-10-11T22:17:33.906Z"
   },
   {
    "duration": 419,
    "start_time": "2022-10-11T22:17:33.915Z"
   },
   {
    "duration": 132,
    "start_time": "2022-10-11T22:17:34.336Z"
   },
   {
    "duration": 0,
    "start_time": "2022-10-11T22:17:34.469Z"
   },
   {
    "duration": 0,
    "start_time": "2022-10-11T22:17:34.471Z"
   },
   {
    "duration": 5,
    "start_time": "2022-10-11T22:18:10.835Z"
   },
   {
    "duration": 9,
    "start_time": "2022-10-11T22:18:12.273Z"
   },
   {
    "duration": 4,
    "start_time": "2022-10-11T22:18:16.226Z"
   },
   {
    "duration": 1503,
    "start_time": "2022-10-11T22:19:18.876Z"
   },
   {
    "duration": 337,
    "start_time": "2022-10-11T22:19:20.382Z"
   },
   {
    "duration": 4,
    "start_time": "2022-10-11T22:19:20.720Z"
   },
   {
    "duration": 113,
    "start_time": "2022-10-11T22:19:20.726Z"
   },
   {
    "duration": 3,
    "start_time": "2022-10-11T22:19:20.841Z"
   },
   {
    "duration": 418,
    "start_time": "2022-10-11T22:19:20.846Z"
   },
   {
    "duration": 3,
    "start_time": "2022-10-11T22:19:21.265Z"
   },
   {
    "duration": 32,
    "start_time": "2022-10-11T22:19:21.269Z"
   },
   {
    "duration": 8,
    "start_time": "2022-10-11T22:19:21.306Z"
   },
   {
    "duration": 12,
    "start_time": "2022-10-11T22:19:21.317Z"
   },
   {
    "duration": 10,
    "start_time": "2022-10-11T22:19:21.331Z"
   },
   {
    "duration": 8,
    "start_time": "2022-10-11T22:19:21.343Z"
   },
   {
    "duration": 9,
    "start_time": "2022-10-11T22:19:21.354Z"
   },
   {
    "duration": 36,
    "start_time": "2022-10-11T22:19:21.365Z"
   },
   {
    "duration": 29,
    "start_time": "2022-10-11T22:19:21.403Z"
   },
   {
    "duration": 10,
    "start_time": "2022-10-11T22:19:21.434Z"
   },
   {
    "duration": 13,
    "start_time": "2022-10-11T22:19:21.446Z"
   },
   {
    "duration": 18,
    "start_time": "2022-10-11T22:19:21.461Z"
   },
   {
    "duration": 24,
    "start_time": "2022-10-11T22:19:21.481Z"
   },
   {
    "duration": 14,
    "start_time": "2022-10-11T22:19:21.511Z"
   },
   {
    "duration": 6,
    "start_time": "2022-10-11T22:19:21.527Z"
   },
   {
    "duration": 1284,
    "start_time": "2022-10-11T22:19:21.535Z"
   },
   {
    "duration": 18,
    "start_time": "2022-10-11T22:19:22.821Z"
   },
   {
    "duration": 1113,
    "start_time": "2022-10-11T22:19:22.841Z"
   },
   {
    "duration": 9,
    "start_time": "2022-10-11T22:19:23.956Z"
   },
   {
    "duration": 431,
    "start_time": "2022-10-11T22:19:23.968Z"
   },
   {
    "duration": 175,
    "start_time": "2022-10-11T22:19:24.401Z"
   },
   {
    "duration": 20,
    "start_time": "2022-10-11T22:19:24.579Z"
   },
   {
    "duration": 462,
    "start_time": "2022-10-11T22:19:24.606Z"
   },
   {
    "duration": 18,
    "start_time": "2022-10-11T22:19:25.071Z"
   },
   {
    "duration": 9,
    "start_time": "2022-10-11T22:19:25.091Z"
   },
   {
    "duration": 196,
    "start_time": "2022-10-11T22:19:25.103Z"
   },
   {
    "duration": 137,
    "start_time": "2022-10-11T22:21:54.128Z"
   },
   {
    "duration": 9,
    "start_time": "2022-10-11T22:21:54.330Z"
   },
   {
    "duration": 420,
    "start_time": "2022-10-11T22:21:54.495Z"
   },
   {
    "duration": 5,
    "start_time": "2022-10-11T22:21:54.917Z"
   },
   {
    "duration": 534,
    "start_time": "2022-10-11T22:24:40.636Z"
   },
   {
    "duration": 8,
    "start_time": "2022-10-11T22:24:41.409Z"
   },
   {
    "duration": 430,
    "start_time": "2022-10-11T22:24:42.038Z"
   },
   {
    "duration": 4,
    "start_time": "2022-10-11T22:24:46.068Z"
   },
   {
    "duration": 4,
    "start_time": "2022-10-11T22:24:46.240Z"
   },
   {
    "duration": 3,
    "start_time": "2022-10-11T22:25:53.998Z"
   },
   {
    "duration": 7,
    "start_time": "2022-10-11T22:25:54.178Z"
   },
   {
    "duration": 418,
    "start_time": "2022-10-11T22:25:55.553Z"
   },
   {
    "duration": 1541,
    "start_time": "2022-10-11T22:26:05.909Z"
   },
   {
    "duration": 319,
    "start_time": "2022-10-11T22:26:07.454Z"
   },
   {
    "duration": 3,
    "start_time": "2022-10-11T22:26:07.776Z"
   },
   {
    "duration": 105,
    "start_time": "2022-10-11T22:26:07.781Z"
   },
   {
    "duration": 8,
    "start_time": "2022-10-11T22:26:07.889Z"
   },
   {
    "duration": 425,
    "start_time": "2022-10-11T22:26:07.899Z"
   },
   {
    "duration": 2,
    "start_time": "2022-10-11T22:26:08.327Z"
   },
   {
    "duration": 19,
    "start_time": "2022-10-11T22:26:08.331Z"
   },
   {
    "duration": 7,
    "start_time": "2022-10-11T22:26:08.352Z"
   },
   {
    "duration": 43,
    "start_time": "2022-10-11T22:26:08.360Z"
   },
   {
    "duration": 12,
    "start_time": "2022-10-11T22:26:08.405Z"
   },
   {
    "duration": 9,
    "start_time": "2022-10-11T22:26:08.419Z"
   },
   {
    "duration": 7,
    "start_time": "2022-10-11T22:26:08.430Z"
   },
   {
    "duration": 4,
    "start_time": "2022-10-11T22:26:08.441Z"
   },
   {
    "duration": 17,
    "start_time": "2022-10-11T22:26:08.446Z"
   },
   {
    "duration": 30,
    "start_time": "2022-10-11T22:26:08.465Z"
   },
   {
    "duration": 16,
    "start_time": "2022-10-11T22:26:08.497Z"
   },
   {
    "duration": 9,
    "start_time": "2022-10-11T22:26:08.515Z"
   },
   {
    "duration": 9,
    "start_time": "2022-10-11T22:26:08.525Z"
   },
   {
    "duration": 8,
    "start_time": "2022-10-11T22:26:08.535Z"
   },
   {
    "duration": 15,
    "start_time": "2022-10-11T22:26:08.544Z"
   },
   {
    "duration": 1170,
    "start_time": "2022-10-11T22:26:08.561Z"
   },
   {
    "duration": 18,
    "start_time": "2022-10-11T22:26:09.732Z"
   },
   {
    "duration": 1002,
    "start_time": "2022-10-11T22:26:09.752Z"
   },
   {
    "duration": 7,
    "start_time": "2022-10-11T22:26:10.757Z"
   },
   {
    "duration": 414,
    "start_time": "2022-10-11T22:26:10.766Z"
   },
   {
    "duration": 589,
    "start_time": "2022-10-11T22:26:11.181Z"
   },
   {
    "duration": 2,
    "start_time": "2022-10-11T22:26:11.772Z"
   },
   {
    "duration": 46,
    "start_time": "2022-10-11T22:26:11.776Z"
   },
   {
    "duration": 530,
    "start_time": "2022-10-11T22:26:11.825Z"
   },
   {
    "duration": 3,
    "start_time": "2022-10-11T22:26:12.357Z"
   },
   {
    "duration": 7,
    "start_time": "2022-10-11T22:26:12.362Z"
   },
   {
    "duration": 115,
    "start_time": "2022-10-11T22:30:34.706Z"
   },
   {
    "duration": 10,
    "start_time": "2022-10-11T22:30:44.877Z"
   },
   {
    "duration": 4,
    "start_time": "2022-10-11T22:31:25.551Z"
   },
   {
    "duration": 78,
    "start_time": "2022-10-12T15:10:06.921Z"
   },
   {
    "duration": 3,
    "start_time": "2022-10-12T15:14:35.414Z"
   },
   {
    "duration": 5,
    "start_time": "2022-10-12T15:15:26.904Z"
   },
   {
    "duration": 4,
    "start_time": "2022-10-12T15:15:42.777Z"
   },
   {
    "duration": 3,
    "start_time": "2022-10-12T15:16:08.494Z"
   },
   {
    "duration": 43,
    "start_time": "2022-10-12T15:41:47.769Z"
   },
   {
    "duration": 7,
    "start_time": "2022-10-12T15:50:23.597Z"
   },
   {
    "duration": 1614,
    "start_time": "2022-10-12T15:50:34.084Z"
   },
   {
    "duration": 1362,
    "start_time": "2022-10-12T15:50:43.196Z"
   },
   {
    "duration": 1170,
    "start_time": "2022-10-12T15:50:44.560Z"
   },
   {
    "duration": 4,
    "start_time": "2022-10-12T15:50:45.732Z"
   },
   {
    "duration": 860,
    "start_time": "2022-10-12T15:50:45.738Z"
   },
   {
    "duration": 3,
    "start_time": "2022-10-12T15:50:46.600Z"
   },
   {
    "duration": 1876,
    "start_time": "2022-10-12T15:50:46.604Z"
   },
   {
    "duration": 3,
    "start_time": "2022-10-12T15:50:48.482Z"
   },
   {
    "duration": 14,
    "start_time": "2022-10-12T15:50:48.486Z"
   },
   {
    "duration": 7,
    "start_time": "2022-10-12T15:50:48.501Z"
   },
   {
    "duration": 9,
    "start_time": "2022-10-12T15:50:48.511Z"
   },
   {
    "duration": 8,
    "start_time": "2022-10-12T15:50:48.522Z"
   },
   {
    "duration": 5,
    "start_time": "2022-10-12T15:50:48.532Z"
   },
   {
    "duration": 7,
    "start_time": "2022-10-12T15:50:48.538Z"
   },
   {
    "duration": 5,
    "start_time": "2022-10-12T15:50:48.547Z"
   },
   {
    "duration": 41,
    "start_time": "2022-10-12T15:50:48.554Z"
   },
   {
    "duration": 9,
    "start_time": "2022-10-12T15:50:48.596Z"
   },
   {
    "duration": 14,
    "start_time": "2022-10-12T15:50:48.607Z"
   },
   {
    "duration": 10,
    "start_time": "2022-10-12T15:50:48.622Z"
   },
   {
    "duration": 8,
    "start_time": "2022-10-12T15:50:48.633Z"
   },
   {
    "duration": 6,
    "start_time": "2022-10-12T15:50:48.643Z"
   },
   {
    "duration": 4,
    "start_time": "2022-10-12T15:50:48.651Z"
   },
   {
    "duration": 1090,
    "start_time": "2022-10-12T15:50:48.657Z"
   },
   {
    "duration": 16,
    "start_time": "2022-10-12T15:50:49.748Z"
   },
   {
    "duration": 958,
    "start_time": "2022-10-12T15:50:49.765Z"
   },
   {
    "duration": 7,
    "start_time": "2022-10-12T15:50:50.724Z"
   },
   {
    "duration": 386,
    "start_time": "2022-10-12T15:50:50.733Z"
   },
   {
    "duration": 483,
    "start_time": "2022-10-12T15:50:51.121Z"
   },
   {
    "duration": 3,
    "start_time": "2022-10-12T15:50:51.607Z"
   },
   {
    "duration": 34,
    "start_time": "2022-10-12T15:50:51.611Z"
   },
   {
    "duration": 395,
    "start_time": "2022-10-12T15:50:51.647Z"
   },
   {
    "duration": 4,
    "start_time": "2022-10-12T15:50:52.044Z"
   },
   {
    "duration": 28,
    "start_time": "2022-10-12T15:50:52.050Z"
   },
   {
    "duration": 12,
    "start_time": "2022-10-12T15:50:52.080Z"
   },
   {
    "duration": 121,
    "start_time": "2022-10-12T15:50:52.093Z"
   },
   {
    "duration": 0,
    "start_time": "2022-10-12T15:50:52.216Z"
   },
   {
    "duration": 4,
    "start_time": "2022-10-12T15:55:35.142Z"
   },
   {
    "duration": 9,
    "start_time": "2022-10-12T15:55:40.580Z"
   },
   {
    "duration": 11,
    "start_time": "2022-10-12T15:55:48.045Z"
   },
   {
    "duration": 4,
    "start_time": "2022-10-12T16:04:49.383Z"
   },
   {
    "duration": 4,
    "start_time": "2022-10-12T16:05:02.039Z"
   },
   {
    "duration": 13,
    "start_time": "2022-10-12T16:05:03.423Z"
   },
   {
    "duration": 8,
    "start_time": "2022-10-12T16:13:52.402Z"
   },
   {
    "duration": 7,
    "start_time": "2022-10-12T16:13:52.897Z"
   },
   {
    "duration": 55,
    "start_time": "2022-10-12T16:16:49.765Z"
   },
   {
    "duration": 54,
    "start_time": "2022-10-12T16:16:51.044Z"
   },
   {
    "duration": 4,
    "start_time": "2022-10-12T16:16:57.938Z"
   },
   {
    "duration": 13,
    "start_time": "2022-10-12T16:48:28.555Z"
   },
   {
    "duration": 56,
    "start_time": "2022-10-12T16:48:33.244Z"
   },
   {
    "duration": 26,
    "start_time": "2022-10-12T16:48:34.967Z"
   },
   {
    "duration": 25,
    "start_time": "2022-10-12T16:48:53.354Z"
   },
   {
    "duration": 23,
    "start_time": "2022-10-12T16:49:14.276Z"
   },
   {
    "duration": 31,
    "start_time": "2022-10-12T16:49:16.942Z"
   },
   {
    "duration": 23,
    "start_time": "2022-10-12T16:51:16.015Z"
   },
   {
    "duration": 23,
    "start_time": "2022-10-12T16:51:30.701Z"
   },
   {
    "duration": 24,
    "start_time": "2022-10-12T16:52:20.804Z"
   },
   {
    "duration": 23,
    "start_time": "2022-10-12T16:52:29.218Z"
   },
   {
    "duration": 1339,
    "start_time": "2022-10-12T16:52:43.644Z"
   },
   {
    "duration": 267,
    "start_time": "2022-10-12T16:52:44.985Z"
   },
   {
    "duration": 2,
    "start_time": "2022-10-12T16:52:45.254Z"
   },
   {
    "duration": 81,
    "start_time": "2022-10-12T16:52:45.258Z"
   },
   {
    "duration": 2,
    "start_time": "2022-10-12T16:52:45.341Z"
   },
   {
    "duration": 334,
    "start_time": "2022-10-12T16:52:45.344Z"
   },
   {
    "duration": 3,
    "start_time": "2022-10-12T16:52:45.679Z"
   },
   {
    "duration": 19,
    "start_time": "2022-10-12T16:52:45.683Z"
   },
   {
    "duration": 6,
    "start_time": "2022-10-12T16:52:45.704Z"
   },
   {
    "duration": 10,
    "start_time": "2022-10-12T16:52:45.712Z"
   },
   {
    "duration": 8,
    "start_time": "2022-10-12T16:52:45.723Z"
   },
   {
    "duration": 7,
    "start_time": "2022-10-12T16:52:45.732Z"
   },
   {
    "duration": 5,
    "start_time": "2022-10-12T16:52:45.740Z"
   },
   {
    "duration": 5,
    "start_time": "2022-10-12T16:52:45.747Z"
   },
   {
    "duration": 46,
    "start_time": "2022-10-12T16:52:45.753Z"
   },
   {
    "duration": 8,
    "start_time": "2022-10-12T16:52:45.801Z"
   },
   {
    "duration": 11,
    "start_time": "2022-10-12T16:52:45.811Z"
   },
   {
    "duration": 9,
    "start_time": "2022-10-12T16:52:45.824Z"
   },
   {
    "duration": 8,
    "start_time": "2022-10-12T16:52:45.835Z"
   },
   {
    "duration": 8,
    "start_time": "2022-10-12T16:52:45.845Z"
   },
   {
    "duration": 41,
    "start_time": "2022-10-12T16:52:45.855Z"
   },
   {
    "duration": 1154,
    "start_time": "2022-10-12T16:52:45.898Z"
   },
   {
    "duration": 18,
    "start_time": "2022-10-12T16:52:47.053Z"
   },
   {
    "duration": 962,
    "start_time": "2022-10-12T16:52:47.072Z"
   },
   {
    "duration": 8,
    "start_time": "2022-10-12T16:52:48.037Z"
   },
   {
    "duration": 376,
    "start_time": "2022-10-12T16:52:48.046Z"
   },
   {
    "duration": 450,
    "start_time": "2022-10-12T16:52:48.424Z"
   },
   {
    "duration": 3,
    "start_time": "2022-10-12T16:52:48.878Z"
   },
   {
    "duration": 13,
    "start_time": "2022-10-12T16:52:48.882Z"
   },
   {
    "duration": 386,
    "start_time": "2022-10-12T16:52:48.897Z"
   },
   {
    "duration": 9,
    "start_time": "2022-10-12T16:52:49.286Z"
   },
   {
    "duration": 5,
    "start_time": "2022-10-12T16:52:49.297Z"
   },
   {
    "duration": 4,
    "start_time": "2022-10-12T16:52:49.304Z"
   },
   {
    "duration": 50,
    "start_time": "2022-10-12T16:52:49.310Z"
   },
   {
    "duration": 267,
    "start_time": "2022-10-12T16:52:49.362Z"
   },
   {
    "duration": 0,
    "start_time": "2022-10-12T16:52:49.631Z"
   },
   {
    "duration": 0,
    "start_time": "2022-10-12T16:52:49.632Z"
   },
   {
    "duration": 26,
    "start_time": "2022-10-12T16:56:51.940Z"
   },
   {
    "duration": 9,
    "start_time": "2022-10-12T16:57:14.835Z"
   },
   {
    "duration": 3557,
    "start_time": "2022-10-12T16:59:51.006Z"
   },
   {
    "duration": 110,
    "start_time": "2022-10-12T17:06:17.322Z"
   },
   {
    "duration": 45,
    "start_time": "2022-10-12T17:06:22.390Z"
   },
   {
    "duration": 17,
    "start_time": "2022-10-12T17:06:55.330Z"
   },
   {
    "duration": 48,
    "start_time": "2022-10-12T17:06:55.921Z"
   },
   {
    "duration": 11,
    "start_time": "2022-10-12T17:07:18.431Z"
   },
   {
    "duration": 1420,
    "start_time": "2022-10-12T17:12:58.490Z"
   },
   {
    "duration": 272,
    "start_time": "2022-10-12T17:12:59.912Z"
   },
   {
    "duration": 3,
    "start_time": "2022-10-12T17:13:00.186Z"
   },
   {
    "duration": 91,
    "start_time": "2022-10-12T17:13:00.195Z"
   },
   {
    "duration": 3,
    "start_time": "2022-10-12T17:13:00.288Z"
   },
   {
    "duration": 356,
    "start_time": "2022-10-12T17:13:00.293Z"
   },
   {
    "duration": 2,
    "start_time": "2022-10-12T17:13:00.651Z"
   },
   {
    "duration": 16,
    "start_time": "2022-10-12T17:13:00.654Z"
   },
   {
    "duration": 8,
    "start_time": "2022-10-12T17:13:00.671Z"
   },
   {
    "duration": 21,
    "start_time": "2022-10-12T17:13:00.681Z"
   },
   {
    "duration": 7,
    "start_time": "2022-10-12T17:13:00.704Z"
   },
   {
    "duration": 7,
    "start_time": "2022-10-12T17:13:00.713Z"
   },
   {
    "duration": 10,
    "start_time": "2022-10-12T17:13:00.721Z"
   },
   {
    "duration": 9,
    "start_time": "2022-10-12T17:13:00.733Z"
   },
   {
    "duration": 44,
    "start_time": "2022-10-12T17:13:00.744Z"
   },
   {
    "duration": 9,
    "start_time": "2022-10-12T17:13:00.790Z"
   },
   {
    "duration": 35,
    "start_time": "2022-10-12T17:13:00.801Z"
   },
   {
    "duration": 12,
    "start_time": "2022-10-12T17:13:00.838Z"
   },
   {
    "duration": 17,
    "start_time": "2022-10-12T17:13:00.852Z"
   },
   {
    "duration": 18,
    "start_time": "2022-10-12T17:13:00.871Z"
   },
   {
    "duration": 5,
    "start_time": "2022-10-12T17:13:00.891Z"
   },
   {
    "duration": 1104,
    "start_time": "2022-10-12T17:13:00.898Z"
   },
   {
    "duration": 17,
    "start_time": "2022-10-12T17:13:02.004Z"
   },
   {
    "duration": 919,
    "start_time": "2022-10-12T17:13:02.023Z"
   },
   {
    "duration": 7,
    "start_time": "2022-10-12T17:13:02.944Z"
   },
   {
    "duration": 345,
    "start_time": "2022-10-12T17:13:02.953Z"
   },
   {
    "duration": 428,
    "start_time": "2022-10-12T17:13:03.299Z"
   },
   {
    "duration": 3,
    "start_time": "2022-10-12T17:13:03.730Z"
   },
   {
    "duration": 8,
    "start_time": "2022-10-12T17:13:03.734Z"
   },
   {
    "duration": 387,
    "start_time": "2022-10-12T17:13:03.743Z"
   },
   {
    "duration": 4,
    "start_time": "2022-10-12T17:13:04.132Z"
   },
   {
    "duration": 11,
    "start_time": "2022-10-12T17:13:04.138Z"
   },
   {
    "duration": 6,
    "start_time": "2022-10-12T17:13:04.151Z"
   },
   {
    "duration": 10,
    "start_time": "2022-10-12T17:13:04.158Z"
   },
   {
    "duration": 364759,
    "start_time": "2022-10-12T17:13:04.170Z"
   },
   {
    "duration": 117,
    "start_time": "2022-10-12T17:19:08.931Z"
   },
   {
    "duration": 0,
    "start_time": "2022-10-12T17:19:09.050Z"
   },
   {
    "duration": 0,
    "start_time": "2022-10-12T17:19:09.051Z"
   },
   {
    "duration": 0,
    "start_time": "2022-10-12T17:19:09.053Z"
   },
   {
    "duration": 16841517,
    "start_time": "2022-10-12T17:23:10.408Z"
   },
   {
    "duration": 27,
    "start_time": "2022-10-12T22:12:57.126Z"
   },
   {
    "duration": 14,
    "start_time": "2022-10-12T22:13:02.955Z"
   },
   {
    "duration": 26,
    "start_time": "2022-10-12T22:16:22.754Z"
   },
   {
    "duration": 33,
    "start_time": "2022-10-12T22:16:34.079Z"
   },
   {
    "duration": 9,
    "start_time": "2022-10-12T22:17:15.641Z"
   },
   {
    "duration": 19,
    "start_time": "2022-10-12T22:17:39.947Z"
   },
   {
    "duration": 19,
    "start_time": "2022-10-12T22:17:50.409Z"
   },
   {
    "duration": 27,
    "start_time": "2022-10-12T22:17:55.089Z"
   },
   {
    "duration": 3490,
    "start_time": "2022-10-12T23:08:15.271Z"
   },
   {
    "duration": 55,
    "start_time": "2022-10-12T23:49:19.325Z"
   },
   {
    "duration": 4,
    "start_time": "2022-10-12T23:55:15.693Z"
   },
   {
    "duration": 282,
    "start_time": "2022-10-12T23:55:15.700Z"
   },
   {
    "duration": 3,
    "start_time": "2022-10-12T23:55:15.984Z"
   },
   {
    "duration": 128,
    "start_time": "2022-10-12T23:55:15.988Z"
   },
   {
    "duration": 3,
    "start_time": "2022-10-12T23:55:16.119Z"
   },
   {
    "duration": 530,
    "start_time": "2022-10-12T23:55:16.124Z"
   },
   {
    "duration": 2,
    "start_time": "2022-10-12T23:55:16.656Z"
   },
   {
    "duration": 18,
    "start_time": "2022-10-12T23:55:16.659Z"
   },
   {
    "duration": 8,
    "start_time": "2022-10-12T23:55:16.679Z"
   },
   {
    "duration": 24,
    "start_time": "2022-10-12T23:55:16.690Z"
   },
   {
    "duration": 12,
    "start_time": "2022-10-12T23:55:16.717Z"
   },
   {
    "duration": 4,
    "start_time": "2022-10-12T23:55:16.731Z"
   },
   {
    "duration": 3,
    "start_time": "2022-10-12T23:55:16.756Z"
   },
   {
    "duration": 9,
    "start_time": "2022-10-12T23:55:16.761Z"
   },
   {
    "duration": 25,
    "start_time": "2022-10-12T23:55:16.772Z"
   },
   {
    "duration": 11,
    "start_time": "2022-10-12T23:55:16.798Z"
   },
   {
    "duration": 13,
    "start_time": "2022-10-12T23:55:16.810Z"
   },
   {
    "duration": 34,
    "start_time": "2022-10-12T23:55:16.824Z"
   },
   {
    "duration": 10,
    "start_time": "2022-10-12T23:55:16.859Z"
   },
   {
    "duration": 7,
    "start_time": "2022-10-12T23:55:16.871Z"
   },
   {
    "duration": 8,
    "start_time": "2022-10-12T23:55:16.880Z"
   },
   {
    "duration": 1114,
    "start_time": "2022-10-12T23:55:16.889Z"
   },
   {
    "duration": 17,
    "start_time": "2022-10-12T23:55:18.004Z"
   },
   {
    "duration": 956,
    "start_time": "2022-10-12T23:55:18.023Z"
   },
   {
    "duration": 3,
    "start_time": "2022-10-12T23:55:18.980Z"
   },
   {
    "duration": 39,
    "start_time": "2022-10-12T23:55:18.985Z"
   },
   {
    "duration": 54,
    "start_time": "2022-10-12T23:55:19.025Z"
   },
   {
    "duration": 0,
    "start_time": "2022-10-12T23:55:19.081Z"
   },
   {
    "duration": 0,
    "start_time": "2022-10-12T23:55:19.083Z"
   },
   {
    "duration": 0,
    "start_time": "2022-10-12T23:55:19.086Z"
   },
   {
    "duration": 0,
    "start_time": "2022-10-12T23:55:19.087Z"
   },
   {
    "duration": 0,
    "start_time": "2022-10-12T23:55:19.089Z"
   },
   {
    "duration": 0,
    "start_time": "2022-10-12T23:55:19.091Z"
   },
   {
    "duration": 0,
    "start_time": "2022-10-12T23:55:19.092Z"
   },
   {
    "duration": 0,
    "start_time": "2022-10-12T23:55:19.094Z"
   },
   {
    "duration": 9,
    "start_time": "2022-10-12T23:55:21.468Z"
   },
   {
    "duration": 159,
    "start_time": "2022-10-12T23:55:25.318Z"
   },
   {
    "duration": 31,
    "start_time": "2022-10-12T23:57:55.430Z"
   },
   {
    "duration": 21,
    "start_time": "2022-10-12T23:58:06.963Z"
   },
   {
    "duration": 5,
    "start_time": "2022-10-12T23:58:12.174Z"
   },
   {
    "duration": 4,
    "start_time": "2022-10-13T00:07:08.342Z"
   },
   {
    "duration": 4498,
    "start_time": "2022-10-13T00:07:29.817Z"
   },
   {
    "duration": 20,
    "start_time": "2022-10-13T00:07:38.921Z"
   },
   {
    "duration": 4,
    "start_time": "2022-10-13T00:07:45.964Z"
   },
   {
    "duration": 30,
    "start_time": "2022-10-13T00:07:48.694Z"
   },
   {
    "duration": 5,
    "start_time": "2022-10-13T00:08:11.485Z"
   },
   {
    "duration": 15,
    "start_time": "2022-10-13T00:08:12.362Z"
   },
   {
    "duration": 5,
    "start_time": "2022-10-13T00:08:25.927Z"
   },
   {
    "duration": 4,
    "start_time": "2022-10-13T00:08:34.713Z"
   },
   {
    "duration": 3,
    "start_time": "2022-10-13T00:08:50.387Z"
   },
   {
    "duration": 4,
    "start_time": "2022-10-13T00:08:50.965Z"
   },
   {
    "duration": 6,
    "start_time": "2022-10-13T00:08:51.453Z"
   },
   {
    "duration": 13,
    "start_time": "2022-10-13T00:08:51.992Z"
   },
   {
    "duration": 11,
    "start_time": "2022-10-13T00:10:48.232Z"
   },
   {
    "duration": 10,
    "start_time": "2022-10-13T00:10:52.094Z"
   },
   {
    "duration": 2,
    "start_time": "2022-10-13T00:11:00.048Z"
   },
   {
    "duration": 3,
    "start_time": "2022-10-13T00:11:07.530Z"
   },
   {
    "duration": 4400,
    "start_time": "2022-10-13T00:11:07.771Z"
   },
   {
    "duration": 4,
    "start_time": "2022-10-13T00:11:12.173Z"
   },
   {
    "duration": 9,
    "start_time": "2022-10-13T00:11:12.178Z"
   },
   {
    "duration": 6,
    "start_time": "2022-10-13T00:11:12.189Z"
   },
   {
    "duration": 3,
    "start_time": "2022-10-13T00:11:18.998Z"
   },
   {
    "duration": 4364,
    "start_time": "2022-10-13T00:11:19.107Z"
   },
   {
    "duration": 3,
    "start_time": "2022-10-13T00:11:23.473Z"
   },
   {
    "duration": 7,
    "start_time": "2022-10-13T00:11:23.478Z"
   },
   {
    "duration": 6,
    "start_time": "2022-10-13T00:11:23.486Z"
   },
   {
    "duration": 8,
    "start_time": "2022-10-13T00:11:33.686Z"
   },
   {
    "duration": 5,
    "start_time": "2022-10-13T00:11:39.599Z"
   },
   {
    "duration": 4,
    "start_time": "2022-10-13T00:11:44.893Z"
   },
   {
    "duration": 15,
    "start_time": "2022-10-13T00:11:45.116Z"
   },
   {
    "duration": 4,
    "start_time": "2022-10-13T00:11:48.776Z"
   },
   {
    "duration": 4,
    "start_time": "2022-10-13T00:12:23.709Z"
   },
   {
    "duration": 4,
    "start_time": "2022-10-13T00:12:23.947Z"
   },
   {
    "duration": 5,
    "start_time": "2022-10-13T00:12:24.177Z"
   },
   {
    "duration": 14,
    "start_time": "2022-10-13T00:12:24.345Z"
   },
   {
    "duration": 4,
    "start_time": "2022-10-13T00:14:28.615Z"
   },
   {
    "duration": 330,
    "start_time": "2022-10-13T00:14:28.621Z"
   },
   {
    "duration": 2,
    "start_time": "2022-10-13T00:14:28.954Z"
   },
   {
    "duration": 137,
    "start_time": "2022-10-13T00:14:28.958Z"
   },
   {
    "duration": 2,
    "start_time": "2022-10-13T00:14:29.098Z"
   },
   {
    "duration": 601,
    "start_time": "2022-10-13T00:14:29.102Z"
   },
   {
    "duration": 2,
    "start_time": "2022-10-13T00:14:29.705Z"
   },
   {
    "duration": 24,
    "start_time": "2022-10-13T00:14:29.709Z"
   },
   {
    "duration": 10,
    "start_time": "2022-10-13T00:14:29.735Z"
   },
   {
    "duration": 38,
    "start_time": "2022-10-13T00:14:29.747Z"
   },
   {
    "duration": 8,
    "start_time": "2022-10-13T00:14:29.787Z"
   },
   {
    "duration": 4,
    "start_time": "2022-10-13T00:14:29.796Z"
   },
   {
    "duration": 11,
    "start_time": "2022-10-13T00:14:29.801Z"
   },
   {
    "duration": 6,
    "start_time": "2022-10-13T00:14:29.813Z"
   },
   {
    "duration": 24,
    "start_time": "2022-10-13T00:14:29.821Z"
   },
   {
    "duration": 7,
    "start_time": "2022-10-13T00:14:29.847Z"
   },
   {
    "duration": 15,
    "start_time": "2022-10-13T00:14:29.856Z"
   },
   {
    "duration": 10,
    "start_time": "2022-10-13T00:14:29.873Z"
   },
   {
    "duration": 13,
    "start_time": "2022-10-13T00:14:29.885Z"
   },
   {
    "duration": 7,
    "start_time": "2022-10-13T00:14:29.900Z"
   },
   {
    "duration": 6,
    "start_time": "2022-10-13T00:14:29.908Z"
   },
   {
    "duration": 1163,
    "start_time": "2022-10-13T00:14:29.915Z"
   },
   {
    "duration": 17,
    "start_time": "2022-10-13T00:14:31.080Z"
   },
   {
    "duration": 934,
    "start_time": "2022-10-13T00:14:31.100Z"
   },
   {
    "duration": 3,
    "start_time": "2022-10-13T00:14:32.036Z"
   },
   {
    "duration": 28,
    "start_time": "2022-10-13T00:14:32.040Z"
   },
   {
    "duration": 61,
    "start_time": "2022-10-13T00:14:32.069Z"
   },
   {
    "duration": 0,
    "start_time": "2022-10-13T00:14:32.132Z"
   },
   {
    "duration": 0,
    "start_time": "2022-10-13T00:14:32.133Z"
   },
   {
    "duration": 0,
    "start_time": "2022-10-13T00:14:32.134Z"
   },
   {
    "duration": 0,
    "start_time": "2022-10-13T00:14:32.135Z"
   },
   {
    "duration": 0,
    "start_time": "2022-10-13T00:14:32.136Z"
   },
   {
    "duration": 0,
    "start_time": "2022-10-13T00:14:32.137Z"
   },
   {
    "duration": 0,
    "start_time": "2022-10-13T00:14:32.138Z"
   },
   {
    "duration": 0,
    "start_time": "2022-10-13T00:14:32.139Z"
   },
   {
    "duration": 0,
    "start_time": "2022-10-13T00:14:32.140Z"
   },
   {
    "duration": 0,
    "start_time": "2022-10-13T00:14:32.141Z"
   },
   {
    "duration": 15,
    "start_time": "2022-10-13T00:14:34.715Z"
   },
   {
    "duration": 53,
    "start_time": "2022-10-13T00:21:02.073Z"
   },
   {
    "duration": 1620,
    "start_time": "2022-10-13T14:40:52.536Z"
   },
   {
    "duration": 1196,
    "start_time": "2022-10-13T14:40:54.158Z"
   },
   {
    "duration": 4,
    "start_time": "2022-10-13T14:40:55.356Z"
   },
   {
    "duration": 415,
    "start_time": "2022-10-13T14:40:55.362Z"
   },
   {
    "duration": 3,
    "start_time": "2022-10-13T14:40:55.779Z"
   },
   {
    "duration": 1813,
    "start_time": "2022-10-13T14:40:55.784Z"
   },
   {
    "duration": 2,
    "start_time": "2022-10-13T14:40:57.599Z"
   },
   {
    "duration": 14,
    "start_time": "2022-10-13T14:40:57.603Z"
   },
   {
    "duration": 7,
    "start_time": "2022-10-13T14:40:57.619Z"
   },
   {
    "duration": 34,
    "start_time": "2022-10-13T14:40:57.628Z"
   },
   {
    "duration": 8,
    "start_time": "2022-10-13T14:40:57.663Z"
   },
   {
    "duration": 4,
    "start_time": "2022-10-13T14:40:57.673Z"
   },
   {
    "duration": 6,
    "start_time": "2022-10-13T14:40:57.678Z"
   },
   {
    "duration": 3,
    "start_time": "2022-10-13T14:40:57.697Z"
   },
   {
    "duration": 15,
    "start_time": "2022-10-13T14:40:57.702Z"
   },
   {
    "duration": 8,
    "start_time": "2022-10-13T14:40:57.719Z"
   },
   {
    "duration": 12,
    "start_time": "2022-10-13T14:40:57.730Z"
   },
   {
    "duration": 8,
    "start_time": "2022-10-13T14:40:57.744Z"
   },
   {
    "duration": 9,
    "start_time": "2022-10-13T14:40:57.754Z"
   },
   {
    "duration": 37,
    "start_time": "2022-10-13T14:40:57.765Z"
   },
   {
    "duration": 5,
    "start_time": "2022-10-13T14:40:57.805Z"
   },
   {
    "duration": 1185,
    "start_time": "2022-10-13T14:40:57.812Z"
   },
   {
    "duration": 18,
    "start_time": "2022-10-13T14:40:58.999Z"
   },
   {
    "duration": 966,
    "start_time": "2022-10-13T14:40:59.019Z"
   },
   {
    "duration": 3,
    "start_time": "2022-10-13T14:40:59.987Z"
   },
   {
    "duration": 7,
    "start_time": "2022-10-13T14:40:59.992Z"
   },
   {
    "duration": 177,
    "start_time": "2022-10-13T14:41:00.001Z"
   },
   {
    "duration": 0,
    "start_time": "2022-10-13T14:41:00.180Z"
   },
   {
    "duration": 0,
    "start_time": "2022-10-13T14:41:00.181Z"
   },
   {
    "duration": 0,
    "start_time": "2022-10-13T14:41:00.182Z"
   },
   {
    "duration": 0,
    "start_time": "2022-10-13T14:41:00.183Z"
   },
   {
    "duration": 0,
    "start_time": "2022-10-13T14:41:00.184Z"
   },
   {
    "duration": 0,
    "start_time": "2022-10-13T14:41:00.185Z"
   },
   {
    "duration": 0,
    "start_time": "2022-10-13T14:41:00.186Z"
   },
   {
    "duration": 0,
    "start_time": "2022-10-13T14:41:00.187Z"
   },
   {
    "duration": 0,
    "start_time": "2022-10-13T14:41:00.188Z"
   },
   {
    "duration": 0,
    "start_time": "2022-10-13T14:41:00.189Z"
   },
   {
    "duration": 0,
    "start_time": "2022-10-13T14:41:00.190Z"
   },
   {
    "duration": 0,
    "start_time": "2022-10-13T14:41:00.191Z"
   },
   {
    "duration": 0,
    "start_time": "2022-10-13T14:41:00.192Z"
   },
   {
    "duration": 0,
    "start_time": "2022-10-13T14:41:00.193Z"
   },
   {
    "duration": 0,
    "start_time": "2022-10-13T14:41:00.194Z"
   },
   {
    "duration": 0,
    "start_time": "2022-10-13T14:41:00.195Z"
   },
   {
    "duration": 81,
    "start_time": "2022-10-13T14:46:27.832Z"
   },
   {
    "duration": 27,
    "start_time": "2022-10-13T14:46:34.599Z"
   },
   {
    "duration": 102,
    "start_time": "2022-10-13T14:46:44.627Z"
   },
   {
    "duration": 103,
    "start_time": "2022-10-13T14:49:41.249Z"
   },
   {
    "duration": 93,
    "start_time": "2022-10-13T14:49:45.913Z"
   },
   {
    "duration": 13,
    "start_time": "2022-10-13T14:50:23.515Z"
   },
   {
    "duration": 10,
    "start_time": "2022-10-13T14:53:57.138Z"
   },
   {
    "duration": 9,
    "start_time": "2022-10-13T14:54:10.587Z"
   },
   {
    "duration": 6,
    "start_time": "2022-10-13T14:54:21.047Z"
   },
   {
    "duration": 58,
    "start_time": "2022-10-13T14:54:22.474Z"
   },
   {
    "duration": 153,
    "start_time": "2022-10-13T14:57:27.412Z"
   },
   {
    "duration": 147,
    "start_time": "2022-10-13T14:57:37.514Z"
   },
   {
    "duration": 161,
    "start_time": "2022-10-13T14:57:43.131Z"
   },
   {
    "duration": 23,
    "start_time": "2022-10-13T14:57:56.001Z"
   },
   {
    "duration": 1409,
    "start_time": "2022-10-13T14:58:01.143Z"
   },
   {
    "duration": 289,
    "start_time": "2022-10-13T14:58:02.554Z"
   },
   {
    "duration": 3,
    "start_time": "2022-10-13T14:58:02.845Z"
   },
   {
    "duration": 81,
    "start_time": "2022-10-13T14:58:02.850Z"
   },
   {
    "duration": 3,
    "start_time": "2022-10-13T14:58:02.932Z"
   },
   {
    "duration": 361,
    "start_time": "2022-10-13T14:58:02.937Z"
   },
   {
    "duration": 2,
    "start_time": "2022-10-13T14:58:03.300Z"
   },
   {
    "duration": 19,
    "start_time": "2022-10-13T14:58:03.303Z"
   },
   {
    "duration": 8,
    "start_time": "2022-10-13T14:58:03.324Z"
   },
   {
    "duration": 13,
    "start_time": "2022-10-13T14:58:03.336Z"
   },
   {
    "duration": 9,
    "start_time": "2022-10-13T14:58:03.351Z"
   },
   {
    "duration": 36,
    "start_time": "2022-10-13T14:58:03.362Z"
   },
   {
    "duration": 9,
    "start_time": "2022-10-13T14:58:03.399Z"
   },
   {
    "duration": 137,
    "start_time": "2022-10-13T14:58:03.409Z"
   },
   {
    "duration": 25,
    "start_time": "2022-10-13T14:58:03.548Z"
   },
   {
    "duration": 123,
    "start_time": "2022-10-13T14:58:03.575Z"
   },
   {
    "duration": 258,
    "start_time": "2022-10-13T14:58:03.699Z"
   },
   {
    "duration": 0,
    "start_time": "2022-10-13T14:58:03.959Z"
   },
   {
    "duration": 0,
    "start_time": "2022-10-13T14:58:03.960Z"
   },
   {
    "duration": 0,
    "start_time": "2022-10-13T14:58:03.961Z"
   },
   {
    "duration": 0,
    "start_time": "2022-10-13T14:58:03.962Z"
   },
   {
    "duration": 0,
    "start_time": "2022-10-13T14:58:03.964Z"
   },
   {
    "duration": 0,
    "start_time": "2022-10-13T14:58:03.965Z"
   },
   {
    "duration": 0,
    "start_time": "2022-10-13T14:58:03.967Z"
   },
   {
    "duration": 0,
    "start_time": "2022-10-13T14:58:03.968Z"
   },
   {
    "duration": 0,
    "start_time": "2022-10-13T14:58:03.969Z"
   },
   {
    "duration": 0,
    "start_time": "2022-10-13T14:58:03.971Z"
   },
   {
    "duration": 0,
    "start_time": "2022-10-13T14:58:03.996Z"
   },
   {
    "duration": 0,
    "start_time": "2022-10-13T14:58:03.997Z"
   },
   {
    "duration": 0,
    "start_time": "2022-10-13T14:58:03.999Z"
   },
   {
    "duration": 0,
    "start_time": "2022-10-13T14:58:04.000Z"
   },
   {
    "duration": 0,
    "start_time": "2022-10-13T14:58:04.001Z"
   },
   {
    "duration": 0,
    "start_time": "2022-10-13T14:58:04.002Z"
   },
   {
    "duration": 0,
    "start_time": "2022-10-13T14:58:04.004Z"
   },
   {
    "duration": 0,
    "start_time": "2022-10-13T14:58:04.005Z"
   },
   {
    "duration": 0,
    "start_time": "2022-10-13T14:58:04.006Z"
   },
   {
    "duration": 0,
    "start_time": "2022-10-13T14:58:04.007Z"
   },
   {
    "duration": 0,
    "start_time": "2022-10-13T14:58:04.008Z"
   },
   {
    "duration": 0,
    "start_time": "2022-10-13T14:58:04.009Z"
   },
   {
    "duration": 0,
    "start_time": "2022-10-13T14:58:04.010Z"
   },
   {
    "duration": 0,
    "start_time": "2022-10-13T14:58:04.011Z"
   },
   {
    "duration": 0,
    "start_time": "2022-10-13T14:58:04.012Z"
   },
   {
    "duration": 0,
    "start_time": "2022-10-13T14:58:04.014Z"
   },
   {
    "duration": 0,
    "start_time": "2022-10-13T14:58:04.015Z"
   },
   {
    "duration": 0,
    "start_time": "2022-10-13T14:58:04.016Z"
   },
   {
    "duration": 0,
    "start_time": "2022-10-13T14:58:04.017Z"
   },
   {
    "duration": 0,
    "start_time": "2022-10-13T14:58:04.018Z"
   },
   {
    "duration": 109,
    "start_time": "2022-10-13T15:11:03.800Z"
   },
   {
    "duration": 250,
    "start_time": "2022-10-13T15:14:04.210Z"
   },
   {
    "duration": 4,
    "start_time": "2022-10-13T15:14:38.761Z"
   },
   {
    "duration": 15,
    "start_time": "2022-10-13T15:14:39.575Z"
   },
   {
    "duration": 7,
    "start_time": "2022-10-13T15:14:41.028Z"
   },
   {
    "duration": 4,
    "start_time": "2022-10-13T15:20:06.226Z"
   },
   {
    "duration": 4,
    "start_time": "2022-10-13T15:20:22.245Z"
   },
   {
    "duration": 1455,
    "start_time": "2022-10-13T15:20:27.939Z"
   },
   {
    "duration": 266,
    "start_time": "2022-10-13T15:20:29.395Z"
   },
   {
    "duration": 2,
    "start_time": "2022-10-13T15:20:29.663Z"
   },
   {
    "duration": 77,
    "start_time": "2022-10-13T15:20:29.667Z"
   },
   {
    "duration": 2,
    "start_time": "2022-10-13T15:20:29.746Z"
   },
   {
    "duration": 345,
    "start_time": "2022-10-13T15:20:29.750Z"
   },
   {
    "duration": 2,
    "start_time": "2022-10-13T15:20:30.097Z"
   },
   {
    "duration": 30,
    "start_time": "2022-10-13T15:20:30.101Z"
   },
   {
    "duration": 11,
    "start_time": "2022-10-13T15:20:30.133Z"
   },
   {
    "duration": 11,
    "start_time": "2022-10-13T15:20:30.146Z"
   },
   {
    "duration": 14,
    "start_time": "2022-10-13T15:20:30.158Z"
   },
   {
    "duration": 20,
    "start_time": "2022-10-13T15:20:30.174Z"
   },
   {
    "duration": 18,
    "start_time": "2022-10-13T15:20:30.196Z"
   },
   {
    "duration": 148,
    "start_time": "2022-10-13T15:20:30.215Z"
   },
   {
    "duration": 35,
    "start_time": "2022-10-13T15:20:30.365Z"
   },
   {
    "duration": 105,
    "start_time": "2022-10-13T15:20:30.401Z"
   },
   {
    "duration": 322,
    "start_time": "2022-10-13T15:20:30.508Z"
   },
   {
    "duration": 3,
    "start_time": "2022-10-13T15:20:30.832Z"
   },
   {
    "duration": 38,
    "start_time": "2022-10-13T15:20:30.837Z"
   },
   {
    "duration": 21,
    "start_time": "2022-10-13T15:20:30.876Z"
   },
   {
    "duration": 57,
    "start_time": "2022-10-13T15:20:30.898Z"
   },
   {
    "duration": 16,
    "start_time": "2022-10-13T15:20:30.957Z"
   },
   {
    "duration": 16,
    "start_time": "2022-10-13T15:20:30.974Z"
   },
   {
    "duration": 15,
    "start_time": "2022-10-13T15:20:30.992Z"
   },
   {
    "duration": 5,
    "start_time": "2022-10-13T15:20:31.009Z"
   },
   {
    "duration": 1312,
    "start_time": "2022-10-13T15:20:31.016Z"
   },
   {
    "duration": 66,
    "start_time": "2022-10-13T15:20:32.330Z"
   },
   {
    "duration": 1480,
    "start_time": "2022-10-13T15:20:32.400Z"
   },
   {
    "duration": 3,
    "start_time": "2022-10-13T15:20:33.882Z"
   },
   {
    "duration": 7,
    "start_time": "2022-10-13T15:20:33.886Z"
   },
   {
    "duration": 167,
    "start_time": "2022-10-13T15:20:33.895Z"
   },
   {
    "duration": 0,
    "start_time": "2022-10-13T15:20:34.064Z"
   },
   {
    "duration": 0,
    "start_time": "2022-10-13T15:20:34.065Z"
   },
   {
    "duration": 0,
    "start_time": "2022-10-13T15:20:34.066Z"
   },
   {
    "duration": 0,
    "start_time": "2022-10-13T15:20:34.067Z"
   },
   {
    "duration": 0,
    "start_time": "2022-10-13T15:20:34.068Z"
   },
   {
    "duration": 0,
    "start_time": "2022-10-13T15:20:34.069Z"
   },
   {
    "duration": 0,
    "start_time": "2022-10-13T15:20:34.070Z"
   },
   {
    "duration": 0,
    "start_time": "2022-10-13T15:20:34.071Z"
   },
   {
    "duration": 0,
    "start_time": "2022-10-13T15:20:34.073Z"
   },
   {
    "duration": 0,
    "start_time": "2022-10-13T15:20:34.074Z"
   },
   {
    "duration": 0,
    "start_time": "2022-10-13T15:20:34.075Z"
   },
   {
    "duration": 0,
    "start_time": "2022-10-13T15:20:34.076Z"
   },
   {
    "duration": 0,
    "start_time": "2022-10-13T15:20:34.077Z"
   },
   {
    "duration": 0,
    "start_time": "2022-10-13T15:20:34.078Z"
   },
   {
    "duration": 0,
    "start_time": "2022-10-13T15:20:34.079Z"
   },
   {
    "duration": 0,
    "start_time": "2022-10-13T15:20:34.080Z"
   },
   {
    "duration": 7,
    "start_time": "2022-10-13T15:21:08.223Z"
   },
   {
    "duration": 1115,
    "start_time": "2022-10-13T15:29:07.818Z"
   },
   {
    "duration": 972,
    "start_time": "2022-10-13T15:30:05.008Z"
   },
   {
    "duration": 89,
    "start_time": "2022-10-13T15:38:17.628Z"
   },
   {
    "duration": 440,
    "start_time": "2022-10-13T15:38:41.557Z"
   },
   {
    "duration": 84,
    "start_time": "2022-10-13T15:39:39.368Z"
   },
   {
    "duration": 483,
    "start_time": "2022-10-13T15:44:05.134Z"
   },
   {
    "duration": 5,
    "start_time": "2022-10-13T15:44:22.901Z"
   },
   {
    "duration": 361,
    "start_time": "2022-10-13T15:44:29.724Z"
   },
   {
    "duration": 390,
    "start_time": "2022-10-13T15:44:42.175Z"
   },
   {
    "duration": 420,
    "start_time": "2022-10-13T15:47:08.081Z"
   },
   {
    "duration": 386,
    "start_time": "2022-10-13T15:47:31.363Z"
   },
   {
    "duration": 128,
    "start_time": "2022-10-13T15:47:45.022Z"
   },
   {
    "duration": 1034,
    "start_time": "2022-10-13T15:47:45.220Z"
   },
   {
    "duration": 126,
    "start_time": "2022-10-13T15:49:27.303Z"
   },
   {
    "duration": 17,
    "start_time": "2022-10-13T15:50:12.265Z"
   },
   {
    "duration": 104,
    "start_time": "2022-10-13T15:59:58.818Z"
   },
   {
    "duration": 6,
    "start_time": "2022-10-13T16:00:19.887Z"
   },
   {
    "duration": 8,
    "start_time": "2022-10-13T16:00:26.145Z"
   },
   {
    "duration": 11,
    "start_time": "2022-10-13T16:00:41.374Z"
   },
   {
    "duration": 21,
    "start_time": "2022-10-13T16:00:44.606Z"
   },
   {
    "duration": 188,
    "start_time": "2022-10-13T16:00:56.978Z"
   },
   {
    "duration": 15,
    "start_time": "2022-10-13T16:01:53.707Z"
   },
   {
    "duration": 126,
    "start_time": "2022-10-13T16:02:07.248Z"
   },
   {
    "duration": 13,
    "start_time": "2022-10-13T16:04:58.048Z"
   },
   {
    "duration": 68,
    "start_time": "2022-10-13T16:06:33.260Z"
   },
   {
    "duration": 1218,
    "start_time": "2022-10-13T16:06:33.397Z"
   },
   {
    "duration": 15,
    "start_time": "2022-10-13T16:06:44.775Z"
   },
   {
    "duration": 21,
    "start_time": "2022-10-13T16:06:58.534Z"
   },
   {
    "duration": 16,
    "start_time": "2022-10-13T16:07:35.083Z"
   },
   {
    "duration": 8,
    "start_time": "2022-10-13T16:08:10.007Z"
   },
   {
    "duration": 10,
    "start_time": "2022-10-13T16:08:11.564Z"
   },
   {
    "duration": 9,
    "start_time": "2022-10-13T16:08:16.703Z"
   },
   {
    "duration": 10,
    "start_time": "2022-10-13T16:08:23.768Z"
   },
   {
    "duration": 1453,
    "start_time": "2022-10-13T16:08:31.698Z"
   },
   {
    "duration": 302,
    "start_time": "2022-10-13T16:08:33.153Z"
   },
   {
    "duration": 3,
    "start_time": "2022-10-13T16:08:33.457Z"
   },
   {
    "duration": 104,
    "start_time": "2022-10-13T16:08:33.463Z"
   },
   {
    "duration": 3,
    "start_time": "2022-10-13T16:08:33.569Z"
   },
   {
    "duration": 523,
    "start_time": "2022-10-13T16:08:33.574Z"
   },
   {
    "duration": 2,
    "start_time": "2022-10-13T16:08:34.099Z"
   },
   {
    "duration": 18,
    "start_time": "2022-10-13T16:08:34.103Z"
   },
   {
    "duration": 7,
    "start_time": "2022-10-13T16:08:34.122Z"
   },
   {
    "duration": 10,
    "start_time": "2022-10-13T16:08:34.132Z"
   },
   {
    "duration": 60,
    "start_time": "2022-10-13T16:08:34.143Z"
   },
   {
    "duration": 11,
    "start_time": "2022-10-13T16:08:34.205Z"
   },
   {
    "duration": 8,
    "start_time": "2022-10-13T16:08:34.217Z"
   },
   {
    "duration": 272,
    "start_time": "2022-10-13T16:08:34.226Z"
   },
   {
    "duration": 35,
    "start_time": "2022-10-13T16:08:34.500Z"
   },
   {
    "duration": 260,
    "start_time": "2022-10-13T16:08:34.537Z"
   },
   {
    "duration": 532,
    "start_time": "2022-10-13T16:08:34.799Z"
   },
   {
    "duration": 4,
    "start_time": "2022-10-13T16:08:35.333Z"
   },
   {
    "duration": 63,
    "start_time": "2022-10-13T16:08:35.338Z"
   },
   {
    "duration": 6,
    "start_time": "2022-10-13T16:08:35.403Z"
   },
   {
    "duration": 11,
    "start_time": "2022-10-13T16:08:35.411Z"
   },
   {
    "duration": 9,
    "start_time": "2022-10-13T16:08:35.424Z"
   },
   {
    "duration": 8,
    "start_time": "2022-10-13T16:08:35.434Z"
   },
   {
    "duration": 7,
    "start_time": "2022-10-13T16:08:35.496Z"
   },
   {
    "duration": 14,
    "start_time": "2022-10-13T16:08:35.505Z"
   },
   {
    "duration": 20,
    "start_time": "2022-10-13T16:08:35.520Z"
   },
   {
    "duration": 56,
    "start_time": "2022-10-13T16:08:35.542Z"
   },
   {
    "duration": 214,
    "start_time": "2022-10-13T16:08:35.601Z"
   },
   {
    "duration": 0,
    "start_time": "2022-10-13T16:08:35.818Z"
   },
   {
    "duration": 0,
    "start_time": "2022-10-13T16:08:35.819Z"
   },
   {
    "duration": 0,
    "start_time": "2022-10-13T16:08:35.820Z"
   },
   {
    "duration": 0,
    "start_time": "2022-10-13T16:08:35.821Z"
   },
   {
    "duration": 0,
    "start_time": "2022-10-13T16:08:35.822Z"
   },
   {
    "duration": 0,
    "start_time": "2022-10-13T16:08:35.823Z"
   },
   {
    "duration": 0,
    "start_time": "2022-10-13T16:08:35.825Z"
   },
   {
    "duration": 0,
    "start_time": "2022-10-13T16:08:35.826Z"
   },
   {
    "duration": 0,
    "start_time": "2022-10-13T16:08:35.827Z"
   },
   {
    "duration": 1,
    "start_time": "2022-10-13T16:08:35.828Z"
   },
   {
    "duration": 0,
    "start_time": "2022-10-13T16:08:35.829Z"
   },
   {
    "duration": 0,
    "start_time": "2022-10-13T16:08:35.830Z"
   },
   {
    "duration": 0,
    "start_time": "2022-10-13T16:08:35.831Z"
   },
   {
    "duration": 0,
    "start_time": "2022-10-13T16:08:35.832Z"
   },
   {
    "duration": 0,
    "start_time": "2022-10-13T16:08:35.834Z"
   },
   {
    "duration": 0,
    "start_time": "2022-10-13T16:08:35.836Z"
   },
   {
    "duration": 0,
    "start_time": "2022-10-13T16:08:35.837Z"
   },
   {
    "duration": 0,
    "start_time": "2022-10-13T16:08:35.838Z"
   },
   {
    "duration": 0,
    "start_time": "2022-10-13T16:08:35.839Z"
   },
   {
    "duration": 0,
    "start_time": "2022-10-13T16:08:35.897Z"
   },
   {
    "duration": 0,
    "start_time": "2022-10-13T16:08:35.898Z"
   },
   {
    "duration": 0,
    "start_time": "2022-10-13T16:08:35.899Z"
   },
   {
    "duration": 0,
    "start_time": "2022-10-13T16:08:35.900Z"
   },
   {
    "duration": 0,
    "start_time": "2022-10-13T16:08:35.901Z"
   },
   {
    "duration": 14,
    "start_time": "2022-10-13T16:09:05.480Z"
   },
   {
    "duration": 20,
    "start_time": "2022-10-13T16:10:15.486Z"
   },
   {
    "duration": 220,
    "start_time": "2022-10-13T16:10:28.318Z"
   },
   {
    "duration": 137,
    "start_time": "2022-10-13T16:14:38.048Z"
   },
   {
    "duration": 144,
    "start_time": "2022-10-13T16:15:38.907Z"
   },
   {
    "duration": 206,
    "start_time": "2022-10-13T16:16:07.620Z"
   },
   {
    "duration": 134,
    "start_time": "2022-10-13T16:19:37.045Z"
   },
   {
    "duration": 114,
    "start_time": "2022-10-13T16:19:48.879Z"
   },
   {
    "duration": 126,
    "start_time": "2022-10-13T16:20:20.412Z"
   },
   {
    "duration": 126,
    "start_time": "2022-10-13T16:21:17.353Z"
   },
   {
    "duration": 18,
    "start_time": "2022-10-13T16:22:45.397Z"
   },
   {
    "duration": 28,
    "start_time": "2022-10-13T16:22:51.757Z"
   },
   {
    "duration": 18,
    "start_time": "2022-10-13T16:23:05.471Z"
   },
   {
    "duration": 17,
    "start_time": "2022-10-13T16:23:10.153Z"
   },
   {
    "duration": 16,
    "start_time": "2022-10-13T16:24:09.086Z"
   },
   {
    "duration": 23,
    "start_time": "2022-10-13T16:24:10.595Z"
   },
   {
    "duration": 21,
    "start_time": "2022-10-13T16:24:11.861Z"
   },
   {
    "duration": 19,
    "start_time": "2022-10-13T16:24:13.233Z"
   },
   {
    "duration": 13,
    "start_time": "2022-10-13T16:24:35.141Z"
   },
   {
    "duration": 5,
    "start_time": "2022-10-13T16:26:09.234Z"
   },
   {
    "duration": 19,
    "start_time": "2022-10-13T16:26:11.974Z"
   },
   {
    "duration": 22,
    "start_time": "2022-10-13T16:26:28.453Z"
   },
   {
    "duration": 13,
    "start_time": "2022-10-13T16:27:02.394Z"
   },
   {
    "duration": 147,
    "start_time": "2022-10-13T16:27:07.818Z"
   },
   {
    "duration": 135,
    "start_time": "2022-10-13T16:27:46.039Z"
   },
   {
    "duration": 131,
    "start_time": "2022-10-13T16:28:27.166Z"
   },
   {
    "duration": 115,
    "start_time": "2022-10-13T16:29:05.402Z"
   },
   {
    "duration": 141,
    "start_time": "2022-10-13T16:29:30.026Z"
   },
   {
    "duration": 120,
    "start_time": "2022-10-13T16:30:20.644Z"
   },
   {
    "duration": 106,
    "start_time": "2022-10-13T16:30:46.728Z"
   },
   {
    "duration": 138,
    "start_time": "2022-10-13T16:30:51.497Z"
   },
   {
    "duration": 119,
    "start_time": "2022-10-13T16:31:11.419Z"
   },
   {
    "duration": 29,
    "start_time": "2022-10-13T16:37:24.299Z"
   },
   {
    "duration": 17,
    "start_time": "2022-10-13T16:37:33.899Z"
   },
   {
    "duration": 15,
    "start_time": "2022-10-13T16:37:46.971Z"
   },
   {
    "duration": 10,
    "start_time": "2022-10-13T16:37:57.954Z"
   },
   {
    "duration": 189,
    "start_time": "2022-10-13T16:38:06.141Z"
   },
   {
    "duration": 268,
    "start_time": "2022-10-13T16:38:27.245Z"
   },
   {
    "duration": 183,
    "start_time": "2022-10-13T16:38:33.884Z"
   },
   {
    "duration": 161,
    "start_time": "2022-10-13T16:38:39.185Z"
   },
   {
    "duration": 183,
    "start_time": "2022-10-13T16:38:50.933Z"
   },
   {
    "duration": 186,
    "start_time": "2022-10-13T16:39:02.507Z"
   },
   {
    "duration": 186,
    "start_time": "2022-10-13T16:39:51.226Z"
   },
   {
    "duration": 184,
    "start_time": "2022-10-13T16:39:55.340Z"
   },
   {
    "duration": 278,
    "start_time": "2022-10-13T16:40:05.287Z"
   },
   {
    "duration": 265,
    "start_time": "2022-10-13T16:40:25.696Z"
   },
   {
    "duration": 289,
    "start_time": "2022-10-13T16:40:37.808Z"
   },
   {
    "duration": 270,
    "start_time": "2022-10-13T16:41:16.886Z"
   },
   {
    "duration": 350,
    "start_time": "2022-10-13T16:41:20.141Z"
   },
   {
    "duration": 299,
    "start_time": "2022-10-13T16:41:26.593Z"
   },
   {
    "duration": 280,
    "start_time": "2022-10-13T16:42:15.194Z"
   },
   {
    "duration": 603,
    "start_time": "2022-10-13T16:42:24.562Z"
   },
   {
    "duration": 300,
    "start_time": "2022-10-13T16:42:30.518Z"
   },
   {
    "duration": 283,
    "start_time": "2022-10-13T16:43:17.750Z"
   },
   {
    "duration": 285,
    "start_time": "2022-10-13T16:43:36.583Z"
   },
   {
    "duration": 283,
    "start_time": "2022-10-13T16:43:44.681Z"
   },
   {
    "duration": 265,
    "start_time": "2022-10-13T16:43:48.692Z"
   },
   {
    "duration": 307,
    "start_time": "2022-10-13T16:44:40.885Z"
   },
   {
    "duration": 265,
    "start_time": "2022-10-13T16:45:52.743Z"
   },
   {
    "duration": 18,
    "start_time": "2022-10-13T16:46:24.111Z"
   },
   {
    "duration": 93,
    "start_time": "2022-10-13T16:50:52.368Z"
   },
   {
    "duration": 14,
    "start_time": "2022-10-13T16:50:52.841Z"
   },
   {
    "duration": 71,
    "start_time": "2022-10-13T16:51:34.757Z"
   },
   {
    "duration": 8,
    "start_time": "2022-10-13T16:51:59.021Z"
   },
   {
    "duration": 486,
    "start_time": "2022-10-13T16:52:12.031Z"
   },
   {
    "duration": 7,
    "start_time": "2022-10-13T16:55:47.195Z"
   },
   {
    "duration": 472,
    "start_time": "2022-10-13T17:40:15.095Z"
   },
   {
    "duration": 9,
    "start_time": "2022-10-13T17:40:18.451Z"
   },
   {
    "duration": 372,
    "start_time": "2022-10-13T17:40:18.928Z"
   },
   {
    "duration": 4,
    "start_time": "2022-10-13T17:40:41.657Z"
   },
   {
    "duration": 4,
    "start_time": "2022-10-13T17:40:41.969Z"
   },
   {
    "duration": 9,
    "start_time": "2022-10-13T17:54:47.142Z"
   },
   {
    "duration": 5,
    "start_time": "2022-10-13T17:55:00.338Z"
   },
   {
    "duration": 3,
    "start_time": "2022-10-13T17:55:00.690Z"
   },
   {
    "duration": 3,
    "start_time": "2022-10-13T17:55:00.947Z"
   },
   {
    "duration": 1446,
    "start_time": "2022-10-13T18:01:29.163Z"
   },
   {
    "duration": 303,
    "start_time": "2022-10-13T18:01:30.612Z"
   },
   {
    "duration": 2,
    "start_time": "2022-10-13T18:01:30.917Z"
   },
   {
    "duration": 97,
    "start_time": "2022-10-13T18:01:30.922Z"
   },
   {
    "duration": 3,
    "start_time": "2022-10-13T18:01:31.021Z"
   },
   {
    "duration": 378,
    "start_time": "2022-10-13T18:01:31.026Z"
   },
   {
    "duration": 3,
    "start_time": "2022-10-13T18:01:31.406Z"
   },
   {
    "duration": 18,
    "start_time": "2022-10-13T18:01:31.410Z"
   },
   {
    "duration": 7,
    "start_time": "2022-10-13T18:01:31.429Z"
   },
   {
    "duration": 11,
    "start_time": "2022-10-13T18:01:31.439Z"
   },
   {
    "duration": 9,
    "start_time": "2022-10-13T18:01:31.451Z"
   },
   {
    "duration": 37,
    "start_time": "2022-10-13T18:01:31.461Z"
   },
   {
    "duration": 65,
    "start_time": "2022-10-13T18:01:31.499Z"
   },
   {
    "duration": 158,
    "start_time": "2022-10-13T18:01:31.566Z"
   },
   {
    "duration": 26,
    "start_time": "2022-10-13T18:01:31.726Z"
   },
   {
    "duration": 111,
    "start_time": "2022-10-13T18:01:31.754Z"
   },
   {
    "duration": 296,
    "start_time": "2022-10-13T18:01:31.866Z"
   },
   {
    "duration": 4,
    "start_time": "2022-10-13T18:01:32.164Z"
   },
   {
    "duration": 40,
    "start_time": "2022-10-13T18:01:32.170Z"
   },
   {
    "duration": 13,
    "start_time": "2022-10-13T18:01:32.212Z"
   },
   {
    "duration": 26,
    "start_time": "2022-10-13T18:01:32.227Z"
   },
   {
    "duration": 39,
    "start_time": "2022-10-13T18:01:32.255Z"
   },
   {
    "duration": 20,
    "start_time": "2022-10-13T18:01:32.295Z"
   },
   {
    "duration": 24,
    "start_time": "2022-10-13T18:01:32.317Z"
   },
   {
    "duration": 16,
    "start_time": "2022-10-13T18:01:32.342Z"
   },
   {
    "duration": 29,
    "start_time": "2022-10-13T18:01:32.359Z"
   },
   {
    "duration": 293,
    "start_time": "2022-10-13T18:01:32.389Z"
   },
   {
    "duration": 23,
    "start_time": "2022-10-13T18:01:32.685Z"
   },
   {
    "duration": 1017,
    "start_time": "2022-10-13T18:01:32.710Z"
   },
   {
    "duration": 7,
    "start_time": "2022-10-13T18:01:33.729Z"
   },
   {
    "duration": 379,
    "start_time": "2022-10-13T18:01:33.738Z"
   },
   {
    "duration": 499,
    "start_time": "2022-10-13T18:01:34.119Z"
   },
   {
    "duration": 6,
    "start_time": "2022-10-13T18:01:34.620Z"
   },
   {
    "duration": 397,
    "start_time": "2022-10-13T18:01:34.628Z"
   },
   {
    "duration": 4,
    "start_time": "2022-10-13T18:01:35.027Z"
   },
   {
    "duration": 10,
    "start_time": "2022-10-13T18:01:35.033Z"
   },
   {
    "duration": 7,
    "start_time": "2022-10-13T18:01:35.045Z"
   },
   {
    "duration": 5,
    "start_time": "2022-10-13T18:01:35.054Z"
   },
   {
    "duration": 5,
    "start_time": "2022-10-13T18:01:35.061Z"
   },
   {
    "duration": 9,
    "start_time": "2022-10-13T18:01:35.068Z"
   },
   {
    "duration": 20,
    "start_time": "2022-10-13T18:01:35.097Z"
   },
   {
    "duration": 189,
    "start_time": "2022-10-13T18:01:35.119Z"
   },
   {
    "duration": 14,
    "start_time": "2022-10-13T18:01:35.309Z"
   },
   {
    "duration": 0,
    "start_time": "2022-10-13T18:01:35.325Z"
   },
   {
    "duration": 0,
    "start_time": "2022-10-13T18:01:35.326Z"
   },
   {
    "duration": 0,
    "start_time": "2022-10-13T18:01:35.327Z"
   },
   {
    "duration": 0,
    "start_time": "2022-10-13T18:01:35.329Z"
   },
   {
    "duration": 405,
    "start_time": "2022-10-13T18:01:59.296Z"
   },
   {
    "duration": 410,
    "start_time": "2022-10-13T18:03:00.698Z"
   },
   {
    "duration": 41483,
    "start_time": "2022-10-13T18:05:10.070Z"
   },
   {
    "duration": 4,
    "start_time": "2022-10-13T18:06:30.580Z"
   },
   {
    "duration": 3,
    "start_time": "2022-10-13T18:06:31.096Z"
   },
   {
    "duration": 3,
    "start_time": "2022-10-13T18:06:31.402Z"
   },
   {
    "duration": 7,
    "start_time": "2022-10-13T18:06:32.033Z"
   },
   {
    "duration": 22,
    "start_time": "2022-10-13T18:06:32.539Z"
   },
   {
    "duration": 40703,
    "start_time": "2022-10-13T18:06:33.361Z"
   },
   {
    "duration": 27,
    "start_time": "2022-10-13T18:24:20.535Z"
   },
   {
    "duration": 1322,
    "start_time": "2022-10-13T18:26:45.913Z"
   },
   {
    "duration": 285,
    "start_time": "2022-10-13T18:26:47.237Z"
   },
   {
    "duration": 3,
    "start_time": "2022-10-13T18:26:47.524Z"
   },
   {
    "duration": 82,
    "start_time": "2022-10-13T18:26:47.528Z"
   },
   {
    "duration": 2,
    "start_time": "2022-10-13T18:26:47.612Z"
   },
   {
    "duration": 359,
    "start_time": "2022-10-13T18:26:47.616Z"
   },
   {
    "duration": 3,
    "start_time": "2022-10-13T18:26:47.977Z"
   },
   {
    "duration": 20,
    "start_time": "2022-10-13T18:26:47.981Z"
   },
   {
    "duration": 7,
    "start_time": "2022-10-13T18:26:48.003Z"
   },
   {
    "duration": 10,
    "start_time": "2022-10-13T18:26:48.012Z"
   },
   {
    "duration": 8,
    "start_time": "2022-10-13T18:26:48.023Z"
   },
   {
    "duration": 5,
    "start_time": "2022-10-13T18:26:48.033Z"
   },
   {
    "duration": 6,
    "start_time": "2022-10-13T18:26:48.039Z"
   },
   {
    "duration": 193,
    "start_time": "2022-10-13T18:26:48.047Z"
   },
   {
    "duration": 33,
    "start_time": "2022-10-13T18:26:48.242Z"
   },
   {
    "duration": 129,
    "start_time": "2022-10-13T18:26:48.277Z"
   },
   {
    "duration": 306,
    "start_time": "2022-10-13T18:26:48.407Z"
   },
   {
    "duration": 4,
    "start_time": "2022-10-13T18:26:48.714Z"
   },
   {
    "duration": 16,
    "start_time": "2022-10-13T18:26:48.720Z"
   },
   {
    "duration": 7,
    "start_time": "2022-10-13T18:26:48.737Z"
   },
   {
    "duration": 10,
    "start_time": "2022-10-13T18:26:48.746Z"
   },
   {
    "duration": 40,
    "start_time": "2022-10-13T18:26:48.757Z"
   },
   {
    "duration": 11,
    "start_time": "2022-10-13T18:26:48.798Z"
   },
   {
    "duration": 7,
    "start_time": "2022-10-13T18:26:48.811Z"
   },
   {
    "duration": 6,
    "start_time": "2022-10-13T18:26:48.820Z"
   },
   {
    "duration": 18,
    "start_time": "2022-10-13T18:26:48.827Z"
   },
   {
    "duration": 294,
    "start_time": "2022-10-13T18:26:48.846Z"
   },
   {
    "duration": 17,
    "start_time": "2022-10-13T18:26:49.143Z"
   },
   {
    "duration": 1081,
    "start_time": "2022-10-13T18:26:49.162Z"
   },
   {
    "duration": 6,
    "start_time": "2022-10-13T18:26:50.297Z"
   },
   {
    "duration": 725,
    "start_time": "2022-10-13T18:26:50.305Z"
   },
   {
    "duration": 976,
    "start_time": "2022-10-13T18:26:51.031Z"
   },
   {
    "duration": 6,
    "start_time": "2022-10-13T18:26:52.009Z"
   },
   {
    "duration": 819,
    "start_time": "2022-10-13T18:26:52.017Z"
   },
   {
    "duration": 4,
    "start_time": "2022-10-13T18:26:52.837Z"
   },
   {
    "duration": 57,
    "start_time": "2022-10-13T18:26:52.843Z"
   },
   {
    "duration": 6,
    "start_time": "2022-10-13T18:26:52.902Z"
   },
   {
    "duration": 5,
    "start_time": "2022-10-13T18:26:52.909Z"
   },
   {
    "duration": 5,
    "start_time": "2022-10-13T18:26:52.916Z"
   },
   {
    "duration": 9,
    "start_time": "2022-10-13T18:26:52.923Z"
   },
   {
    "duration": 71,
    "start_time": "2022-10-13T18:26:52.934Z"
   },
   {
    "duration": 40851,
    "start_time": "2022-10-13T18:26:53.007Z"
   },
   {
    "duration": 37,
    "start_time": "2022-10-13T18:27:33.860Z"
   },
   {
    "duration": 37799,
    "start_time": "2022-10-13T18:27:33.899Z"
   },
   {
    "duration": 120,
    "start_time": "2022-10-13T18:28:11.700Z"
   },
   {
    "duration": 0,
    "start_time": "2022-10-13T18:28:11.822Z"
   },
   {
    "duration": 0,
    "start_time": "2022-10-13T18:28:11.823Z"
   },
   {
    "duration": 39453,
    "start_time": "2022-10-13T18:30:22.077Z"
   },
   {
    "duration": 66,
    "start_time": "2022-10-13T18:32:06.811Z"
   },
   {
    "duration": 1399,
    "start_time": "2022-10-13T18:32:24.661Z"
   },
   {
    "duration": 296,
    "start_time": "2022-10-13T18:32:26.062Z"
   },
   {
    "duration": 2,
    "start_time": "2022-10-13T18:32:26.360Z"
   },
   {
    "duration": 86,
    "start_time": "2022-10-13T18:32:26.363Z"
   },
   {
    "duration": 2,
    "start_time": "2022-10-13T18:32:26.451Z"
   },
   {
    "duration": 401,
    "start_time": "2022-10-13T18:32:26.454Z"
   },
   {
    "duration": 2,
    "start_time": "2022-10-13T18:32:26.857Z"
   },
   {
    "duration": 18,
    "start_time": "2022-10-13T18:32:26.862Z"
   },
   {
    "duration": 21,
    "start_time": "2022-10-13T18:32:26.882Z"
   },
   {
    "duration": 12,
    "start_time": "2022-10-13T18:32:26.906Z"
   },
   {
    "duration": 10,
    "start_time": "2022-10-13T18:32:26.920Z"
   },
   {
    "duration": 8,
    "start_time": "2022-10-13T18:32:26.931Z"
   },
   {
    "duration": 7,
    "start_time": "2022-10-13T18:32:26.941Z"
   },
   {
    "duration": 167,
    "start_time": "2022-10-13T18:32:26.952Z"
   },
   {
    "duration": 25,
    "start_time": "2022-10-13T18:32:27.120Z"
   },
   {
    "duration": 116,
    "start_time": "2022-10-13T18:32:27.147Z"
   },
   {
    "duration": 295,
    "start_time": "2022-10-13T18:32:27.265Z"
   },
   {
    "duration": 4,
    "start_time": "2022-10-13T18:32:27.561Z"
   },
   {
    "duration": 15,
    "start_time": "2022-10-13T18:32:27.567Z"
   },
   {
    "duration": 18,
    "start_time": "2022-10-13T18:32:27.584Z"
   },
   {
    "duration": 13,
    "start_time": "2022-10-13T18:32:27.604Z"
   },
   {
    "duration": 9,
    "start_time": "2022-10-13T18:32:27.619Z"
   },
   {
    "duration": 13,
    "start_time": "2022-10-13T18:32:27.630Z"
   },
   {
    "duration": 8,
    "start_time": "2022-10-13T18:32:27.646Z"
   },
   {
    "duration": 6,
    "start_time": "2022-10-13T18:32:27.656Z"
   },
   {
    "duration": 45,
    "start_time": "2022-10-13T18:32:27.664Z"
   },
   {
    "duration": 280,
    "start_time": "2022-10-13T18:32:27.711Z"
   },
   {
    "duration": 16,
    "start_time": "2022-10-13T18:32:27.996Z"
   },
   {
    "duration": 1079,
    "start_time": "2022-10-13T18:32:28.014Z"
   },
   {
    "duration": 6,
    "start_time": "2022-10-13T18:32:29.096Z"
   },
   {
    "duration": 367,
    "start_time": "2022-10-13T18:32:29.104Z"
   },
   {
    "duration": 437,
    "start_time": "2022-10-13T18:32:29.473Z"
   },
   {
    "duration": 6,
    "start_time": "2022-10-13T18:32:29.912Z"
   },
   {
    "duration": 393,
    "start_time": "2022-10-13T18:32:29.920Z"
   },
   {
    "duration": 4,
    "start_time": "2022-10-13T18:32:30.314Z"
   },
   {
    "duration": 29,
    "start_time": "2022-10-13T18:32:30.319Z"
   },
   {
    "duration": 23,
    "start_time": "2022-10-13T18:32:30.349Z"
   },
   {
    "duration": 28,
    "start_time": "2022-10-13T18:32:30.374Z"
   },
   {
    "duration": 26,
    "start_time": "2022-10-13T18:32:30.404Z"
   },
   {
    "duration": 35,
    "start_time": "2022-10-13T18:32:30.432Z"
   },
   {
    "duration": 41,
    "start_time": "2022-10-13T18:32:30.471Z"
   },
   {
    "duration": 40775,
    "start_time": "2022-10-13T18:32:30.514Z"
   },
   {
    "duration": 25,
    "start_time": "2022-10-13T18:33:11.291Z"
   },
   {
    "duration": 36787,
    "start_time": "2022-10-13T18:33:11.318Z"
   },
   {
    "duration": 72,
    "start_time": "2022-10-13T18:33:48.107Z"
   },
   {
    "duration": 0,
    "start_time": "2022-10-13T18:33:48.180Z"
   },
   {
    "duration": 0,
    "start_time": "2022-10-13T18:33:48.181Z"
   },
   {
    "duration": 26,
    "start_time": "2022-10-13T18:37:19.376Z"
   },
   {
    "duration": 126,
    "start_time": "2022-10-13T18:38:07.928Z"
   },
   {
    "duration": 3,
    "start_time": "2022-10-13T18:38:14.706Z"
   },
   {
    "duration": 18,
    "start_time": "2022-10-13T18:38:16.716Z"
   },
   {
    "duration": 3,
    "start_time": "2022-10-13T18:38:48.824Z"
   },
   {
    "duration": 9,
    "start_time": "2022-10-13T18:38:54.396Z"
   },
   {
    "duration": 10,
    "start_time": "2022-10-13T18:39:01.577Z"
   },
   {
    "duration": 84,
    "start_time": "2022-10-13T18:39:39.952Z"
   },
   {
    "duration": 4,
    "start_time": "2022-10-13T18:39:53.449Z"
   },
   {
    "duration": 142,
    "start_time": "2022-10-13T18:40:00.336Z"
   },
   {
    "duration": 194,
    "start_time": "2022-10-13T18:40:09.607Z"
   },
   {
    "duration": 4,
    "start_time": "2022-10-13T18:40:38.975Z"
   },
   {
    "duration": 971,
    "start_time": "2022-10-13T18:40:50.134Z"
   },
   {
    "duration": 141,
    "start_time": "2022-10-13T18:40:51.198Z"
   },
   {
    "duration": 1161,
    "start_time": "2022-10-13T18:40:57.839Z"
   },
   {
    "duration": 556,
    "start_time": "2022-10-13T18:41:18.941Z"
   },
   {
    "duration": 624,
    "start_time": "2022-10-13T18:41:20.376Z"
   },
   {
    "duration": 1115,
    "start_time": "2022-10-13T18:42:49.383Z"
   },
   {
    "duration": 1099,
    "start_time": "2022-10-13T18:42:50.500Z"
   },
   {
    "duration": 1035,
    "start_time": "2022-10-13T18:44:14.770Z"
   },
   {
    "duration": 1091,
    "start_time": "2022-10-13T18:44:15.808Z"
   },
   {
    "duration": 736,
    "start_time": "2022-10-13T18:45:07.363Z"
   },
   {
    "duration": 1008,
    "start_time": "2022-10-13T18:45:08.101Z"
   },
   {
    "duration": 4,
    "start_time": "2022-10-13T18:45:09.111Z"
   },
   {
    "duration": 1966,
    "start_time": "2022-10-13T18:45:44.049Z"
   },
   {
    "duration": 2088,
    "start_time": "2022-10-13T18:45:46.018Z"
   },
   {
    "duration": 5,
    "start_time": "2022-10-13T18:45:48.108Z"
   },
   {
    "duration": 4,
    "start_time": "2022-10-13T18:49:31.624Z"
   },
   {
    "duration": 4,
    "start_time": "2022-10-13T18:50:16.447Z"
   },
   {
    "duration": 10,
    "start_time": "2022-10-13T18:50:22.900Z"
   },
   {
    "duration": 9,
    "start_time": "2022-10-13T19:00:10.632Z"
   },
   {
    "duration": 2015,
    "start_time": "2022-10-13T19:00:11.289Z"
   },
   {
    "duration": 1591,
    "start_time": "2022-10-13T19:00:13.306Z"
   },
   {
    "duration": 6,
    "start_time": "2022-10-13T19:00:14.899Z"
   },
   {
    "duration": 4,
    "start_time": "2022-10-13T19:00:45.104Z"
   },
   {
    "duration": 8,
    "start_time": "2022-10-13T19:04:19.163Z"
   },
   {
    "duration": 1357,
    "start_time": "2022-10-13T19:04:19.841Z"
   },
   {
    "duration": 1298,
    "start_time": "2022-10-13T19:04:21.200Z"
   },
   {
    "duration": 4,
    "start_time": "2022-10-13T19:04:22.501Z"
   },
   {
    "duration": 12,
    "start_time": "2022-10-13T19:24:07.040Z"
   },
   {
    "duration": 6,
    "start_time": "2022-10-13T19:24:39.810Z"
   },
   {
    "duration": 45,
    "start_time": "2022-10-13T19:24:48.763Z"
   },
   {
    "duration": 65,
    "start_time": "2022-10-13T19:26:18.110Z"
   },
   {
    "duration": 10,
    "start_time": "2022-10-13T19:26:57.279Z"
   },
   {
    "duration": 59,
    "start_time": "2022-10-13T19:27:03.281Z"
   },
   {
    "duration": 43,
    "start_time": "2022-10-13T19:27:03.433Z"
   },
   {
    "duration": 4,
    "start_time": "2022-10-13T19:27:03.577Z"
   },
   {
    "duration": 13,
    "start_time": "2022-10-13T19:31:06.057Z"
   },
   {
    "duration": 1442,
    "start_time": "2022-10-13T19:31:38.593Z"
   },
   {
    "duration": 289,
    "start_time": "2022-10-13T19:31:40.037Z"
   },
   {
    "duration": 2,
    "start_time": "2022-10-13T19:31:40.328Z"
   },
   {
    "duration": 82,
    "start_time": "2022-10-13T19:31:40.332Z"
   },
   {
    "duration": 3,
    "start_time": "2022-10-13T19:31:40.416Z"
   },
   {
    "duration": 371,
    "start_time": "2022-10-13T19:31:40.420Z"
   },
   {
    "duration": 3,
    "start_time": "2022-10-13T19:31:40.792Z"
   },
   {
    "duration": 19,
    "start_time": "2022-10-13T19:31:40.797Z"
   },
   {
    "duration": 7,
    "start_time": "2022-10-13T19:31:40.818Z"
   },
   {
    "duration": 9,
    "start_time": "2022-10-13T19:31:40.828Z"
   },
   {
    "duration": 8,
    "start_time": "2022-10-13T19:31:40.838Z"
   },
   {
    "duration": 3,
    "start_time": "2022-10-13T19:31:40.848Z"
   },
   {
    "duration": 4,
    "start_time": "2022-10-13T19:31:40.853Z"
   },
   {
    "duration": 162,
    "start_time": "2022-10-13T19:31:40.858Z"
   },
   {
    "duration": 23,
    "start_time": "2022-10-13T19:31:41.022Z"
   },
   {
    "duration": 120,
    "start_time": "2022-10-13T19:31:41.047Z"
   },
   {
    "duration": 302,
    "start_time": "2022-10-13T19:31:41.168Z"
   },
   {
    "duration": 5,
    "start_time": "2022-10-13T19:31:41.472Z"
   },
   {
    "duration": 34,
    "start_time": "2022-10-13T19:31:41.479Z"
   },
   {
    "duration": 15,
    "start_time": "2022-10-13T19:31:41.515Z"
   },
   {
    "duration": 11,
    "start_time": "2022-10-13T19:31:41.532Z"
   },
   {
    "duration": 10,
    "start_time": "2022-10-13T19:31:41.545Z"
   },
   {
    "duration": 8,
    "start_time": "2022-10-13T19:31:41.558Z"
   },
   {
    "duration": 34,
    "start_time": "2022-10-13T19:31:41.568Z"
   },
   {
    "duration": 19,
    "start_time": "2022-10-13T19:31:41.605Z"
   },
   {
    "duration": 19,
    "start_time": "2022-10-13T19:31:41.626Z"
   },
   {
    "duration": 303,
    "start_time": "2022-10-13T19:31:41.647Z"
   },
   {
    "duration": 16,
    "start_time": "2022-10-13T19:31:41.953Z"
   },
   {
    "duration": 1061,
    "start_time": "2022-10-13T19:31:41.970Z"
   },
   {
    "duration": 6,
    "start_time": "2022-10-13T19:31:43.032Z"
   },
   {
    "duration": 376,
    "start_time": "2022-10-13T19:31:43.039Z"
   },
   {
    "duration": 459,
    "start_time": "2022-10-13T19:31:43.417Z"
   },
   {
    "duration": 6,
    "start_time": "2022-10-13T19:31:43.878Z"
   },
   {
    "duration": 420,
    "start_time": "2022-10-13T19:31:43.886Z"
   },
   {
    "duration": 7,
    "start_time": "2022-10-13T19:31:44.308Z"
   },
   {
    "duration": 5,
    "start_time": "2022-10-13T19:31:44.317Z"
   },
   {
    "duration": 4,
    "start_time": "2022-10-13T19:31:44.324Z"
   },
   {
    "duration": 7,
    "start_time": "2022-10-13T19:31:44.330Z"
   },
   {
    "duration": 5,
    "start_time": "2022-10-13T19:31:44.339Z"
   },
   {
    "duration": 9,
    "start_time": "2022-10-13T19:31:44.345Z"
   },
   {
    "duration": 44,
    "start_time": "2022-10-13T19:31:44.356Z"
   },
   {
    "duration": 135,
    "start_time": "2022-10-13T19:31:44.402Z"
   },
   {
    "duration": 0,
    "start_time": "2022-10-13T19:31:44.539Z"
   },
   {
    "duration": 0,
    "start_time": "2022-10-13T19:31:44.540Z"
   },
   {
    "duration": 0,
    "start_time": "2022-10-13T19:31:44.542Z"
   },
   {
    "duration": 0,
    "start_time": "2022-10-13T19:31:44.544Z"
   },
   {
    "duration": 0,
    "start_time": "2022-10-13T19:31:44.545Z"
   },
   {
    "duration": 0,
    "start_time": "2022-10-13T19:31:44.547Z"
   },
   {
    "duration": 0,
    "start_time": "2022-10-13T19:31:44.549Z"
   },
   {
    "duration": 0,
    "start_time": "2022-10-13T19:31:44.550Z"
   },
   {
    "duration": 0,
    "start_time": "2022-10-13T19:31:44.552Z"
   },
   {
    "duration": 0,
    "start_time": "2022-10-13T19:31:44.555Z"
   },
   {
    "duration": 0,
    "start_time": "2022-10-13T19:31:44.557Z"
   },
   {
    "duration": 1611,
    "start_time": "2022-10-13T19:32:27.722Z"
   },
   {
    "duration": 323,
    "start_time": "2022-10-13T19:32:29.336Z"
   },
   {
    "duration": 4,
    "start_time": "2022-10-13T19:32:29.661Z"
   },
   {
    "duration": 107,
    "start_time": "2022-10-13T19:32:29.666Z"
   },
   {
    "duration": 4,
    "start_time": "2022-10-13T19:32:29.776Z"
   },
   {
    "duration": 452,
    "start_time": "2022-10-13T19:32:29.782Z"
   },
   {
    "duration": 3,
    "start_time": "2022-10-13T19:32:30.235Z"
   },
   {
    "duration": 22,
    "start_time": "2022-10-13T19:32:30.240Z"
   },
   {
    "duration": 26,
    "start_time": "2022-10-13T19:32:30.264Z"
   },
   {
    "duration": 25,
    "start_time": "2022-10-13T19:32:30.292Z"
   },
   {
    "duration": 8,
    "start_time": "2022-10-13T19:32:30.322Z"
   },
   {
    "duration": 11,
    "start_time": "2022-10-13T19:32:30.332Z"
   },
   {
    "duration": 10,
    "start_time": "2022-10-13T19:32:30.344Z"
   },
   {
    "duration": 187,
    "start_time": "2022-10-13T19:32:30.357Z"
   },
   {
    "duration": 26,
    "start_time": "2022-10-13T19:32:30.546Z"
   },
   {
    "duration": 142,
    "start_time": "2022-10-13T19:32:30.574Z"
   },
   {
    "duration": 361,
    "start_time": "2022-10-13T19:32:30.718Z"
   },
   {
    "duration": 4,
    "start_time": "2022-10-13T19:32:31.081Z"
   },
   {
    "duration": 23,
    "start_time": "2022-10-13T19:32:31.096Z"
   },
   {
    "duration": 22,
    "start_time": "2022-10-13T19:32:31.122Z"
   },
   {
    "duration": 22,
    "start_time": "2022-10-13T19:32:31.145Z"
   },
   {
    "duration": 16,
    "start_time": "2022-10-13T19:32:31.169Z"
   },
   {
    "duration": 12,
    "start_time": "2022-10-13T19:32:31.187Z"
   },
   {
    "duration": 19,
    "start_time": "2022-10-13T19:32:31.202Z"
   },
   {
    "duration": 8,
    "start_time": "2022-10-13T19:32:31.223Z"
   },
   {
    "duration": 19,
    "start_time": "2022-10-13T19:32:31.233Z"
   },
   {
    "duration": 328,
    "start_time": "2022-10-13T19:32:31.254Z"
   },
   {
    "duration": 31,
    "start_time": "2022-10-13T19:32:31.584Z"
   },
   {
    "duration": 1159,
    "start_time": "2022-10-13T19:32:31.617Z"
   },
   {
    "duration": 6,
    "start_time": "2022-10-13T19:32:32.778Z"
   },
   {
    "duration": 420,
    "start_time": "2022-10-13T19:32:32.796Z"
   },
   {
    "duration": 546,
    "start_time": "2022-10-13T19:32:33.218Z"
   },
   {
    "duration": 8,
    "start_time": "2022-10-13T19:32:33.766Z"
   },
   {
    "duration": 425,
    "start_time": "2022-10-13T19:32:33.776Z"
   },
   {
    "duration": 6,
    "start_time": "2022-10-13T19:32:34.203Z"
   },
   {
    "duration": 15,
    "start_time": "2022-10-13T19:32:34.211Z"
   },
   {
    "duration": 7,
    "start_time": "2022-10-13T19:32:34.228Z"
   },
   {
    "duration": 8,
    "start_time": "2022-10-13T19:32:34.237Z"
   },
   {
    "duration": 5,
    "start_time": "2022-10-13T19:32:34.247Z"
   },
   {
    "duration": 10,
    "start_time": "2022-10-13T19:32:34.254Z"
   },
   {
    "duration": 39,
    "start_time": "2022-10-13T19:32:34.269Z"
   },
   {
    "duration": 2175,
    "start_time": "2022-10-13T19:32:34.310Z"
   },
   {
    "duration": 16,
    "start_time": "2022-10-13T19:32:36.486Z"
   },
   {
    "duration": 0,
    "start_time": "2022-10-13T19:32:36.504Z"
   },
   {
    "duration": 0,
    "start_time": "2022-10-13T19:32:36.506Z"
   },
   {
    "duration": 0,
    "start_time": "2022-10-13T19:32:36.507Z"
   },
   {
    "duration": 0,
    "start_time": "2022-10-13T19:32:36.509Z"
   },
   {
    "duration": 0,
    "start_time": "2022-10-13T19:32:36.510Z"
   },
   {
    "duration": 0,
    "start_time": "2022-10-13T19:32:36.516Z"
   },
   {
    "duration": 0,
    "start_time": "2022-10-13T19:32:36.518Z"
   },
   {
    "duration": 0,
    "start_time": "2022-10-13T19:32:36.520Z"
   },
   {
    "duration": 0,
    "start_time": "2022-10-13T19:32:36.522Z"
   },
   {
    "duration": 0,
    "start_time": "2022-10-13T19:32:36.523Z"
   },
   {
    "duration": 0,
    "start_time": "2022-10-13T19:32:36.524Z"
   },
   {
    "duration": 0,
    "start_time": "2022-10-13T19:32:36.525Z"
   },
   {
    "duration": 1489,
    "start_time": "2022-10-13T19:33:37.515Z"
   },
   {
    "duration": 324,
    "start_time": "2022-10-13T19:33:39.006Z"
   },
   {
    "duration": 3,
    "start_time": "2022-10-13T19:33:39.331Z"
   },
   {
    "duration": 101,
    "start_time": "2022-10-13T19:33:39.336Z"
   },
   {
    "duration": 3,
    "start_time": "2022-10-13T19:33:39.438Z"
   },
   {
    "duration": 417,
    "start_time": "2022-10-13T19:33:39.442Z"
   },
   {
    "duration": 2,
    "start_time": "2022-10-13T19:33:39.861Z"
   },
   {
    "duration": 39,
    "start_time": "2022-10-13T19:33:39.864Z"
   },
   {
    "duration": 9,
    "start_time": "2022-10-13T19:33:39.905Z"
   },
   {
    "duration": 24,
    "start_time": "2022-10-13T19:33:39.918Z"
   },
   {
    "duration": 26,
    "start_time": "2022-10-13T19:33:39.944Z"
   },
   {
    "duration": 21,
    "start_time": "2022-10-13T19:33:39.972Z"
   },
   {
    "duration": 11,
    "start_time": "2022-10-13T19:33:39.994Z"
   },
   {
    "duration": 157,
    "start_time": "2022-10-13T19:33:40.008Z"
   },
   {
    "duration": 25,
    "start_time": "2022-10-13T19:33:40.167Z"
   },
   {
    "duration": 120,
    "start_time": "2022-10-13T19:33:40.193Z"
   },
   {
    "duration": 305,
    "start_time": "2022-10-13T19:33:40.316Z"
   },
   {
    "duration": 4,
    "start_time": "2022-10-13T19:33:40.623Z"
   },
   {
    "duration": 33,
    "start_time": "2022-10-13T19:33:40.629Z"
   },
   {
    "duration": 9,
    "start_time": "2022-10-13T19:33:40.664Z"
   },
   {
    "duration": 33,
    "start_time": "2022-10-13T19:33:40.674Z"
   },
   {
    "duration": 23,
    "start_time": "2022-10-13T19:33:40.709Z"
   },
   {
    "duration": 19,
    "start_time": "2022-10-13T19:33:40.734Z"
   },
   {
    "duration": 11,
    "start_time": "2022-10-13T19:33:40.755Z"
   },
   {
    "duration": 23,
    "start_time": "2022-10-13T19:33:40.768Z"
   },
   {
    "duration": 27,
    "start_time": "2022-10-13T19:33:40.793Z"
   },
   {
    "duration": 260,
    "start_time": "2022-10-13T19:33:40.822Z"
   },
   {
    "duration": 24,
    "start_time": "2022-10-13T19:33:41.086Z"
   },
   {
    "duration": 1093,
    "start_time": "2022-10-13T19:33:41.112Z"
   },
   {
    "duration": 12,
    "start_time": "2022-10-13T19:33:42.208Z"
   },
   {
    "duration": 409,
    "start_time": "2022-10-13T19:33:42.221Z"
   },
   {
    "duration": 489,
    "start_time": "2022-10-13T19:33:42.632Z"
   },
   {
    "duration": 8,
    "start_time": "2022-10-13T19:33:43.124Z"
   },
   {
    "duration": 420,
    "start_time": "2022-10-13T19:33:43.133Z"
   },
   {
    "duration": 4,
    "start_time": "2022-10-13T19:33:43.555Z"
   },
   {
    "duration": 48,
    "start_time": "2022-10-13T19:33:43.561Z"
   },
   {
    "duration": 28,
    "start_time": "2022-10-13T19:33:43.612Z"
   },
   {
    "duration": 33,
    "start_time": "2022-10-13T19:33:43.642Z"
   },
   {
    "duration": 20,
    "start_time": "2022-10-13T19:33:43.677Z"
   },
   {
    "duration": 32,
    "start_time": "2022-10-13T19:33:43.698Z"
   },
   {
    "duration": 30,
    "start_time": "2022-10-13T19:33:43.731Z"
   },
   {
    "duration": 43195,
    "start_time": "2022-10-13T19:33:43.763Z"
   },
   {
    "duration": 26,
    "start_time": "2022-10-13T19:34:26.959Z"
   },
   {
    "duration": 41273,
    "start_time": "2022-10-13T19:34:26.999Z"
   },
   {
    "duration": 168,
    "start_time": "2022-10-13T19:35:08.274Z"
   },
   {
    "duration": 0,
    "start_time": "2022-10-13T19:35:08.444Z"
   },
   {
    "duration": 0,
    "start_time": "2022-10-13T19:35:08.445Z"
   },
   {
    "duration": 0,
    "start_time": "2022-10-13T19:35:08.447Z"
   },
   {
    "duration": 0,
    "start_time": "2022-10-13T19:35:08.449Z"
   },
   {
    "duration": 0,
    "start_time": "2022-10-13T19:35:08.450Z"
   },
   {
    "duration": 0,
    "start_time": "2022-10-13T19:35:08.452Z"
   },
   {
    "duration": 0,
    "start_time": "2022-10-13T19:35:08.453Z"
   },
   {
    "duration": 0,
    "start_time": "2022-10-13T19:35:08.455Z"
   },
   {
    "duration": 0,
    "start_time": "2022-10-13T19:35:08.456Z"
   },
   {
    "duration": 0,
    "start_time": "2022-10-13T19:35:08.458Z"
   },
   {
    "duration": 18,
    "start_time": "2022-10-13T19:39:24.850Z"
   },
   {
    "duration": 10,
    "start_time": "2022-10-13T19:39:24.903Z"
   },
   {
    "duration": 9,
    "start_time": "2022-10-13T19:39:25.012Z"
   },
   {
    "duration": 16,
    "start_time": "2022-10-13T19:40:40.807Z"
   },
   {
    "duration": 17,
    "start_time": "2022-10-13T19:41:10.524Z"
   },
   {
    "duration": 12,
    "start_time": "2022-10-13T19:41:30.421Z"
   },
   {
    "duration": 10,
    "start_time": "2022-10-13T19:41:43.935Z"
   },
   {
    "duration": 18,
    "start_time": "2022-10-13T19:52:39.119Z"
   },
   {
    "duration": 3378,
    "start_time": "2022-10-13T19:53:39.211Z"
   },
   {
    "duration": 3436,
    "start_time": "2022-10-13T19:53:48.881Z"
   },
   {
    "duration": 1227,
    "start_time": "2022-10-13T19:54:33.369Z"
   },
   {
    "duration": 13,
    "start_time": "2022-10-13T19:55:16.406Z"
   },
   {
    "duration": 3,
    "start_time": "2022-10-13T19:55:56.237Z"
   },
   {
    "duration": 4,
    "start_time": "2022-10-13T19:55:58.293Z"
   },
   {
    "duration": 3,
    "start_time": "2022-10-13T19:56:03.894Z"
   },
   {
    "duration": 3,
    "start_time": "2022-10-13T19:57:01.630Z"
   },
   {
    "duration": 74,
    "start_time": "2022-10-13T19:57:01.784Z"
   },
   {
    "duration": 10,
    "start_time": "2022-10-13T19:57:06.313Z"
   },
   {
    "duration": 1394,
    "start_time": "2022-10-13T19:57:29.961Z"
   },
   {
    "duration": 293,
    "start_time": "2022-10-13T19:57:31.357Z"
   },
   {
    "duration": 3,
    "start_time": "2022-10-13T19:57:31.652Z"
   },
   {
    "duration": 85,
    "start_time": "2022-10-13T19:57:31.658Z"
   },
   {
    "duration": 3,
    "start_time": "2022-10-13T19:57:31.745Z"
   },
   {
    "duration": 377,
    "start_time": "2022-10-13T19:57:31.750Z"
   },
   {
    "duration": 3,
    "start_time": "2022-10-13T19:57:32.129Z"
   },
   {
    "duration": 19,
    "start_time": "2022-10-13T19:57:32.133Z"
   },
   {
    "duration": 6,
    "start_time": "2022-10-13T19:57:32.154Z"
   },
   {
    "duration": 10,
    "start_time": "2022-10-13T19:57:32.163Z"
   },
   {
    "duration": 28,
    "start_time": "2022-10-13T19:57:32.174Z"
   },
   {
    "duration": 5,
    "start_time": "2022-10-13T19:57:32.203Z"
   },
   {
    "duration": 4,
    "start_time": "2022-10-13T19:57:32.210Z"
   },
   {
    "duration": 147,
    "start_time": "2022-10-13T19:57:32.216Z"
   },
   {
    "duration": 32,
    "start_time": "2022-10-13T19:57:32.365Z"
   },
   {
    "duration": 109,
    "start_time": "2022-10-13T19:57:32.399Z"
   },
   {
    "duration": 304,
    "start_time": "2022-10-13T19:57:32.510Z"
   },
   {
    "duration": 3,
    "start_time": "2022-10-13T19:57:32.815Z"
   },
   {
    "duration": 18,
    "start_time": "2022-10-13T19:57:32.820Z"
   },
   {
    "duration": 7,
    "start_time": "2022-10-13T19:57:32.839Z"
   },
   {
    "duration": 11,
    "start_time": "2022-10-13T19:57:32.848Z"
   },
   {
    "duration": 36,
    "start_time": "2022-10-13T19:57:32.861Z"
   },
   {
    "duration": 9,
    "start_time": "2022-10-13T19:57:32.899Z"
   },
   {
    "duration": 8,
    "start_time": "2022-10-13T19:57:32.910Z"
   },
   {
    "duration": 5,
    "start_time": "2022-10-13T19:57:32.919Z"
   },
   {
    "duration": 17,
    "start_time": "2022-10-13T19:57:32.926Z"
   },
   {
    "duration": 296,
    "start_time": "2022-10-13T19:57:32.944Z"
   },
   {
    "duration": 15,
    "start_time": "2022-10-13T19:57:33.245Z"
   },
   {
    "duration": 959,
    "start_time": "2022-10-13T19:57:33.262Z"
   },
   {
    "duration": 7,
    "start_time": "2022-10-13T19:57:34.222Z"
   },
   {
    "duration": 382,
    "start_time": "2022-10-13T19:57:34.230Z"
   },
   {
    "duration": 491,
    "start_time": "2022-10-13T19:57:34.614Z"
   },
   {
    "duration": 7,
    "start_time": "2022-10-13T19:57:35.107Z"
   },
   {
    "duration": 364,
    "start_time": "2022-10-13T19:57:35.115Z"
   },
   {
    "duration": 3,
    "start_time": "2022-10-13T19:57:35.481Z"
   },
   {
    "duration": 15,
    "start_time": "2022-10-13T19:57:35.486Z"
   },
   {
    "duration": 5,
    "start_time": "2022-10-13T19:57:35.502Z"
   },
   {
    "duration": 5,
    "start_time": "2022-10-13T19:57:35.508Z"
   },
   {
    "duration": 5,
    "start_time": "2022-10-13T19:57:35.515Z"
   },
   {
    "duration": 9,
    "start_time": "2022-10-13T19:57:35.521Z"
   },
   {
    "duration": 21,
    "start_time": "2022-10-13T19:57:35.531Z"
   },
   {
    "duration": 39355,
    "start_time": "2022-10-13T19:57:35.554Z"
   },
   {
    "duration": 25,
    "start_time": "2022-10-13T19:58:14.910Z"
   },
   {
    "duration": 36948,
    "start_time": "2022-10-13T19:58:14.937Z"
   },
   {
    "duration": 14,
    "start_time": "2022-10-13T19:58:51.886Z"
   },
   {
    "duration": 1796,
    "start_time": "2022-10-13T19:58:51.902Z"
   },
   {
    "duration": 1702,
    "start_time": "2022-10-13T19:58:53.700Z"
   },
   {
    "duration": 4,
    "start_time": "2022-10-13T19:58:55.404Z"
   },
   {
    "duration": 120,
    "start_time": "2022-10-13T19:58:55.410Z"
   },
   {
    "duration": 40,
    "start_time": "2022-10-13T19:58:55.532Z"
   },
   {
    "duration": 24,
    "start_time": "2022-10-13T19:58:55.573Z"
   },
   {
    "duration": 11,
    "start_time": "2022-10-13T19:58:55.599Z"
   },
   {
    "duration": 3449,
    "start_time": "2022-10-13T19:58:55.612Z"
   },
   {
    "duration": 1242,
    "start_time": "2022-10-13T19:58:59.062Z"
   },
   {
    "duration": 3,
    "start_time": "2022-10-13T19:59:00.306Z"
   },
   {
    "duration": 69,
    "start_time": "2022-10-13T20:51:41.567Z"
   },
   {
    "duration": 1307,
    "start_time": "2022-10-13T20:57:30.506Z"
   },
   {
    "duration": 254,
    "start_time": "2022-10-13T20:57:31.815Z"
   },
   {
    "duration": 2,
    "start_time": "2022-10-13T20:57:32.071Z"
   },
   {
    "duration": 104,
    "start_time": "2022-10-13T20:57:32.075Z"
   },
   {
    "duration": 5,
    "start_time": "2022-10-13T20:57:32.180Z"
   },
   {
    "duration": 346,
    "start_time": "2022-10-13T20:57:32.186Z"
   },
   {
    "duration": 2,
    "start_time": "2022-10-13T20:57:32.534Z"
   },
   {
    "duration": 20,
    "start_time": "2022-10-13T20:57:32.537Z"
   },
   {
    "duration": 6,
    "start_time": "2022-10-13T20:57:32.558Z"
   },
   {
    "duration": 16,
    "start_time": "2022-10-13T20:57:32.566Z"
   },
   {
    "duration": 27,
    "start_time": "2022-10-13T20:57:32.584Z"
   },
   {
    "duration": 25,
    "start_time": "2022-10-13T20:57:32.612Z"
   },
   {
    "duration": 7,
    "start_time": "2022-10-13T20:57:32.639Z"
   },
   {
    "duration": 109,
    "start_time": "2022-10-13T20:57:32.647Z"
   },
   {
    "duration": 21,
    "start_time": "2022-10-13T20:57:32.757Z"
   },
   {
    "duration": 101,
    "start_time": "2022-10-13T20:57:32.779Z"
   },
   {
    "duration": 264,
    "start_time": "2022-10-13T20:57:32.881Z"
   },
   {
    "duration": 3,
    "start_time": "2022-10-13T20:57:33.146Z"
   },
   {
    "duration": 16,
    "start_time": "2022-10-13T20:57:33.151Z"
   },
   {
    "duration": 8,
    "start_time": "2022-10-13T20:57:33.168Z"
   },
   {
    "duration": 19,
    "start_time": "2022-10-13T20:57:33.177Z"
   },
   {
    "duration": 15,
    "start_time": "2022-10-13T20:57:33.198Z"
   },
   {
    "duration": 15,
    "start_time": "2022-10-13T20:57:33.215Z"
   },
   {
    "duration": 14,
    "start_time": "2022-10-13T20:57:33.231Z"
   },
   {
    "duration": 26,
    "start_time": "2022-10-13T20:57:33.247Z"
   },
   {
    "duration": 30,
    "start_time": "2022-10-13T20:57:33.274Z"
   },
   {
    "duration": 250,
    "start_time": "2022-10-13T20:57:33.306Z"
   },
   {
    "duration": 14,
    "start_time": "2022-10-13T20:57:33.559Z"
   },
   {
    "duration": 813,
    "start_time": "2022-10-13T20:57:33.574Z"
   },
   {
    "duration": 6,
    "start_time": "2022-10-13T20:57:34.389Z"
   },
   {
    "duration": 314,
    "start_time": "2022-10-13T20:57:34.396Z"
   },
   {
    "duration": 5,
    "start_time": "2022-10-13T20:57:53.721Z"
   },
   {
    "duration": 6,
    "start_time": "2022-10-13T20:58:06.313Z"
   },
   {
    "duration": 3,
    "start_time": "2022-10-13T21:14:01.809Z"
   },
   {
    "duration": 279,
    "start_time": "2022-10-13T21:14:01.816Z"
   },
   {
    "duration": 3,
    "start_time": "2022-10-13T21:14:02.096Z"
   },
   {
    "duration": 116,
    "start_time": "2022-10-13T21:14:02.100Z"
   },
   {
    "duration": 2,
    "start_time": "2022-10-13T21:14:02.218Z"
   },
   {
    "duration": 331,
    "start_time": "2022-10-13T21:14:02.222Z"
   },
   {
    "duration": 2,
    "start_time": "2022-10-13T21:14:02.555Z"
   },
   {
    "duration": 19,
    "start_time": "2022-10-13T21:14:02.558Z"
   },
   {
    "duration": 14,
    "start_time": "2022-10-13T21:14:02.578Z"
   },
   {
    "duration": 17,
    "start_time": "2022-10-13T21:14:02.593Z"
   },
   {
    "duration": 8,
    "start_time": "2022-10-13T21:14:02.611Z"
   },
   {
    "duration": 9,
    "start_time": "2022-10-13T21:14:02.620Z"
   },
   {
    "duration": 11,
    "start_time": "2022-10-13T21:14:02.630Z"
   },
   {
    "duration": 120,
    "start_time": "2022-10-13T21:14:02.643Z"
   },
   {
    "duration": 21,
    "start_time": "2022-10-13T21:14:02.767Z"
   },
   {
    "duration": 93,
    "start_time": "2022-10-13T21:14:02.790Z"
   },
   {
    "duration": 221,
    "start_time": "2022-10-13T21:14:02.885Z"
   },
   {
    "duration": 3,
    "start_time": "2022-10-13T21:14:03.108Z"
   },
   {
    "duration": 11,
    "start_time": "2022-10-13T21:14:03.121Z"
   },
   {
    "duration": 10,
    "start_time": "2022-10-13T21:14:03.133Z"
   },
   {
    "duration": 8,
    "start_time": "2022-10-13T21:14:03.144Z"
   },
   {
    "duration": 7,
    "start_time": "2022-10-13T21:14:03.154Z"
   },
   {
    "duration": 7,
    "start_time": "2022-10-13T21:14:03.162Z"
   },
   {
    "duration": 7,
    "start_time": "2022-10-13T21:14:03.171Z"
   },
   {
    "duration": 11,
    "start_time": "2022-10-13T21:14:03.179Z"
   },
   {
    "duration": 37,
    "start_time": "2022-10-13T21:14:03.191Z"
   },
   {
    "duration": 220,
    "start_time": "2022-10-13T21:14:03.230Z"
   },
   {
    "duration": 15,
    "start_time": "2022-10-13T21:14:03.451Z"
   },
   {
    "duration": 861,
    "start_time": "2022-10-13T21:14:03.468Z"
   },
   {
    "duration": 7,
    "start_time": "2022-10-13T21:14:04.331Z"
   },
   {
    "duration": 302,
    "start_time": "2022-10-13T21:14:04.340Z"
   },
   {
    "duration": 420,
    "start_time": "2022-10-13T21:14:04.644Z"
   },
   {
    "duration": 7,
    "start_time": "2022-10-13T21:14:05.065Z"
   },
   {
    "duration": 338,
    "start_time": "2022-10-13T21:14:05.074Z"
   },
   {
    "duration": 7,
    "start_time": "2022-10-13T21:14:05.414Z"
   },
   {
    "duration": 7,
    "start_time": "2022-10-13T21:14:05.423Z"
   },
   {
    "duration": 7,
    "start_time": "2022-10-13T21:14:05.431Z"
   },
   {
    "duration": 5,
    "start_time": "2022-10-13T21:14:05.440Z"
   },
   {
    "duration": 6,
    "start_time": "2022-10-13T21:14:05.446Z"
   },
   {
    "duration": 11,
    "start_time": "2022-10-13T21:14:05.453Z"
   },
   {
    "duration": 30,
    "start_time": "2022-10-13T21:14:05.465Z"
   },
   {
    "duration": 33567,
    "start_time": "2022-10-13T21:14:05.499Z"
   },
   {
    "duration": 22,
    "start_time": "2022-10-13T21:14:39.068Z"
   },
   {
    "duration": 25,
    "start_time": "2022-10-13T21:21:36.347Z"
   },
   {
    "duration": 4,
    "start_time": "2022-10-13T21:21:40.735Z"
   },
   {
    "duration": 2,
    "start_time": "2022-10-13T21:21:46.303Z"
   },
   {
    "duration": 25,
    "start_time": "2022-10-13T21:21:49.027Z"
   },
   {
    "duration": 4,
    "start_time": "2022-10-13T21:22:00.919Z"
   },
   {
    "duration": 5,
    "start_time": "2022-10-13T21:22:08.005Z"
   },
   {
    "duration": 3,
    "start_time": "2022-10-13T21:22:24.745Z"
   },
   {
    "duration": 21,
    "start_time": "2022-10-13T21:22:29.673Z"
   },
   {
    "duration": 94,
    "start_time": "2022-10-13T21:23:27.575Z"
   },
   {
    "duration": 4,
    "start_time": "2022-10-13T21:23:36.647Z"
   },
   {
    "duration": 3,
    "start_time": "2022-10-13T21:23:40.080Z"
   },
   {
    "duration": 4,
    "start_time": "2022-10-13T21:23:44.993Z"
   },
   {
    "duration": 77,
    "start_time": "2022-10-13T21:25:56.772Z"
   },
   {
    "duration": 4,
    "start_time": "2022-10-13T21:29:08.532Z"
   },
   {
    "duration": 286,
    "start_time": "2022-10-13T21:29:08.538Z"
   },
   {
    "duration": 2,
    "start_time": "2022-10-13T21:29:08.826Z"
   },
   {
    "duration": 71,
    "start_time": "2022-10-13T21:29:08.830Z"
   },
   {
    "duration": 2,
    "start_time": "2022-10-13T21:29:08.903Z"
   },
   {
    "duration": 332,
    "start_time": "2022-10-13T21:29:08.907Z"
   },
   {
    "duration": 2,
    "start_time": "2022-10-13T21:29:09.241Z"
   },
   {
    "duration": 13,
    "start_time": "2022-10-13T21:29:09.244Z"
   },
   {
    "duration": 6,
    "start_time": "2022-10-13T21:29:09.258Z"
   },
   {
    "duration": 10,
    "start_time": "2022-10-13T21:29:09.265Z"
   },
   {
    "duration": 7,
    "start_time": "2022-10-13T21:29:09.277Z"
   },
   {
    "duration": 4,
    "start_time": "2022-10-13T21:29:09.285Z"
   },
   {
    "duration": 37,
    "start_time": "2022-10-13T21:29:09.290Z"
   },
   {
    "duration": 127,
    "start_time": "2022-10-13T21:29:09.328Z"
   },
   {
    "duration": 24,
    "start_time": "2022-10-13T21:29:09.457Z"
   },
   {
    "duration": 105,
    "start_time": "2022-10-13T21:29:09.482Z"
   },
   {
    "duration": 235,
    "start_time": "2022-10-13T21:29:09.589Z"
   },
   {
    "duration": 4,
    "start_time": "2022-10-13T21:29:09.825Z"
   },
   {
    "duration": 15,
    "start_time": "2022-10-13T21:29:09.830Z"
   },
   {
    "duration": 8,
    "start_time": "2022-10-13T21:29:09.847Z"
   },
   {
    "duration": 8,
    "start_time": "2022-10-13T21:29:09.856Z"
   },
   {
    "duration": 8,
    "start_time": "2022-10-13T21:29:09.865Z"
   },
   {
    "duration": 9,
    "start_time": "2022-10-13T21:29:09.875Z"
   },
   {
    "duration": 37,
    "start_time": "2022-10-13T21:29:09.886Z"
   },
   {
    "duration": 19,
    "start_time": "2022-10-13T21:29:09.925Z"
   },
   {
    "duration": 27,
    "start_time": "2022-10-13T21:29:09.946Z"
   },
   {
    "duration": 253,
    "start_time": "2022-10-13T21:29:09.974Z"
   },
   {
    "duration": 14,
    "start_time": "2022-10-13T21:29:10.229Z"
   },
   {
    "duration": 939,
    "start_time": "2022-10-13T21:29:10.247Z"
   },
   {
    "duration": 6,
    "start_time": "2022-10-13T21:29:11.188Z"
   },
   {
    "duration": 373,
    "start_time": "2022-10-13T21:29:11.195Z"
   },
   {
    "duration": 452,
    "start_time": "2022-10-13T21:29:11.570Z"
   },
   {
    "duration": 7,
    "start_time": "2022-10-13T21:29:12.024Z"
   },
   {
    "duration": 334,
    "start_time": "2022-10-13T21:29:12.033Z"
   },
   {
    "duration": 4,
    "start_time": "2022-10-13T21:29:12.368Z"
   },
   {
    "duration": 8,
    "start_time": "2022-10-13T21:29:12.373Z"
   },
   {
    "duration": 12,
    "start_time": "2022-10-13T21:29:12.383Z"
   },
   {
    "duration": 8,
    "start_time": "2022-10-13T21:29:12.396Z"
   },
   {
    "duration": 7,
    "start_time": "2022-10-13T21:29:12.405Z"
   },
   {
    "duration": 12,
    "start_time": "2022-10-13T21:29:12.413Z"
   },
   {
    "duration": 18,
    "start_time": "2022-10-13T21:29:12.427Z"
   },
   {
    "duration": 33253,
    "start_time": "2022-10-13T21:29:12.447Z"
   },
   {
    "duration": 28,
    "start_time": "2022-10-13T21:29:45.701Z"
   },
   {
    "duration": 31353,
    "start_time": "2022-10-13T21:29:45.730Z"
   },
   {
    "duration": 7,
    "start_time": "2022-10-13T21:30:17.084Z"
   },
   {
    "duration": 1331,
    "start_time": "2022-10-13T21:30:17.092Z"
   },
   {
    "duration": 1498,
    "start_time": "2022-10-13T21:30:18.425Z"
   },
   {
    "duration": 3,
    "start_time": "2022-10-13T21:30:28.321Z"
   },
   {
    "duration": 3,
    "start_time": "2022-10-13T21:30:58.755Z"
   },
   {
    "duration": 4,
    "start_time": "2022-10-13T21:31:12.269Z"
   },
   {
    "duration": 3,
    "start_time": "2022-10-13T21:31:48.256Z"
   },
   {
    "duration": 4,
    "start_time": "2022-10-13T21:32:34.864Z"
   },
   {
    "duration": 4,
    "start_time": "2022-10-13T21:32:35.040Z"
   },
   {
    "duration": 53,
    "start_time": "2022-10-14T23:26:49.896Z"
   },
   {
    "duration": 50,
    "start_time": "2022-10-14T23:28:38.684Z"
   },
   {
    "duration": 41,
    "start_time": "2022-10-14T23:28:51.963Z"
   },
   {
    "duration": 1428,
    "start_time": "2022-10-14T23:29:18.856Z"
   },
   {
    "duration": 789,
    "start_time": "2022-10-14T23:29:20.286Z"
   },
   {
    "duration": 3,
    "start_time": "2022-10-14T23:29:21.076Z"
   },
   {
    "duration": 133,
    "start_time": "2022-10-14T23:29:21.081Z"
   },
   {
    "duration": 2,
    "start_time": "2022-10-14T23:29:21.215Z"
   },
   {
    "duration": 510,
    "start_time": "2022-10-14T23:29:21.219Z"
   },
   {
    "duration": 3,
    "start_time": "2022-10-14T23:29:21.730Z"
   },
   {
    "duration": 13,
    "start_time": "2022-10-14T23:29:21.734Z"
   },
   {
    "duration": 5,
    "start_time": "2022-10-14T23:29:21.749Z"
   },
   {
    "duration": 8,
    "start_time": "2022-10-14T23:29:21.756Z"
   },
   {
    "duration": 7,
    "start_time": "2022-10-14T23:29:21.765Z"
   },
   {
    "duration": 5,
    "start_time": "2022-10-14T23:29:21.773Z"
   },
   {
    "duration": 6,
    "start_time": "2022-10-14T23:29:21.780Z"
   },
   {
    "duration": 140,
    "start_time": "2022-10-14T23:29:21.787Z"
   },
   {
    "duration": 23,
    "start_time": "2022-10-14T23:29:21.928Z"
   },
   {
    "duration": 107,
    "start_time": "2022-10-14T23:29:21.952Z"
   },
   {
    "duration": 267,
    "start_time": "2022-10-14T23:29:22.060Z"
   },
   {
    "duration": 4,
    "start_time": "2022-10-14T23:29:22.328Z"
   },
   {
    "duration": 15,
    "start_time": "2022-10-14T23:29:22.333Z"
   },
   {
    "duration": 6,
    "start_time": "2022-10-14T23:29:22.349Z"
   },
   {
    "duration": 9,
    "start_time": "2022-10-14T23:29:22.357Z"
   },
   {
    "duration": 10,
    "start_time": "2022-10-14T23:29:22.368Z"
   },
   {
    "duration": 7,
    "start_time": "2022-10-14T23:29:22.380Z"
   },
   {
    "duration": 38,
    "start_time": "2022-10-14T23:29:22.389Z"
   },
   {
    "duration": 6,
    "start_time": "2022-10-14T23:29:22.428Z"
   },
   {
    "duration": 17,
    "start_time": "2022-10-14T23:29:22.435Z"
   },
   {
    "duration": 262,
    "start_time": "2022-10-14T23:29:22.454Z"
   },
   {
    "duration": 13,
    "start_time": "2022-10-14T23:29:22.720Z"
   },
   {
    "duration": 880,
    "start_time": "2022-10-14T23:29:22.734Z"
   },
   {
    "duration": 8,
    "start_time": "2022-10-14T23:29:23.615Z"
   },
   {
    "duration": 318,
    "start_time": "2022-10-14T23:29:23.625Z"
   },
   {
    "duration": 106,
    "start_time": "2022-10-14T23:29:23.945Z"
   },
   {
    "duration": 0,
    "start_time": "2022-10-14T23:29:24.053Z"
   },
   {
    "duration": 0,
    "start_time": "2022-10-14T23:29:24.054Z"
   },
   {
    "duration": 0,
    "start_time": "2022-10-14T23:29:24.054Z"
   },
   {
    "duration": 0,
    "start_time": "2022-10-14T23:29:24.056Z"
   },
   {
    "duration": 0,
    "start_time": "2022-10-14T23:29:24.057Z"
   },
   {
    "duration": 0,
    "start_time": "2022-10-14T23:29:24.058Z"
   },
   {
    "duration": 0,
    "start_time": "2022-10-14T23:29:24.059Z"
   },
   {
    "duration": 0,
    "start_time": "2022-10-14T23:29:24.060Z"
   },
   {
    "duration": 0,
    "start_time": "2022-10-14T23:29:24.060Z"
   },
   {
    "duration": 0,
    "start_time": "2022-10-14T23:29:24.062Z"
   },
   {
    "duration": 0,
    "start_time": "2022-10-14T23:29:24.062Z"
   },
   {
    "duration": 0,
    "start_time": "2022-10-14T23:29:24.063Z"
   },
   {
    "duration": 0,
    "start_time": "2022-10-14T23:29:24.064Z"
   },
   {
    "duration": 0,
    "start_time": "2022-10-14T23:29:24.065Z"
   },
   {
    "duration": 0,
    "start_time": "2022-10-14T23:29:24.066Z"
   },
   {
    "duration": 0,
    "start_time": "2022-10-14T23:29:24.067Z"
   },
   {
    "duration": 0,
    "start_time": "2022-10-14T23:29:24.068Z"
   },
   {
    "duration": 0,
    "start_time": "2022-10-14T23:29:24.069Z"
   },
   {
    "duration": 0,
    "start_time": "2022-10-14T23:29:24.070Z"
   },
   {
    "duration": 0,
    "start_time": "2022-10-14T23:29:24.071Z"
   },
   {
    "duration": 0,
    "start_time": "2022-10-14T23:29:24.072Z"
   },
   {
    "duration": 0,
    "start_time": "2022-10-14T23:29:24.073Z"
   },
   {
    "duration": 0,
    "start_time": "2022-10-14T23:29:24.074Z"
   },
   {
    "duration": 0,
    "start_time": "2022-10-14T23:29:24.074Z"
   },
   {
    "duration": 0,
    "start_time": "2022-10-14T23:29:24.075Z"
   },
   {
    "duration": 0,
    "start_time": "2022-10-14T23:29:24.077Z"
   },
   {
    "duration": 15,
    "start_time": "2022-10-14T23:29:36.843Z"
   },
   {
    "duration": 10,
    "start_time": "2022-10-14T23:31:11.704Z"
   },
   {
    "duration": 6,
    "start_time": "2022-10-14T23:31:12.606Z"
   },
   {
    "duration": 313,
    "start_time": "2022-10-14T23:31:13.408Z"
   },
   {
    "duration": 10,
    "start_time": "2022-10-14T23:31:26.086Z"
   },
   {
    "duration": 5,
    "start_time": "2022-10-14T23:31:26.558Z"
   },
   {
    "duration": 314,
    "start_time": "2022-10-14T23:31:26.989Z"
   },
   {
    "duration": 1236,
    "start_time": "2022-10-14T23:31:32.542Z"
   },
   {
    "duration": 256,
    "start_time": "2022-10-14T23:31:33.780Z"
   },
   {
    "duration": 3,
    "start_time": "2022-10-14T23:31:34.038Z"
   },
   {
    "duration": 71,
    "start_time": "2022-10-14T23:31:34.043Z"
   },
   {
    "duration": 6,
    "start_time": "2022-10-14T23:31:34.116Z"
   },
   {
    "duration": 336,
    "start_time": "2022-10-14T23:31:34.123Z"
   },
   {
    "duration": 3,
    "start_time": "2022-10-14T23:31:34.460Z"
   },
   {
    "duration": 14,
    "start_time": "2022-10-14T23:31:34.464Z"
   },
   {
    "duration": 7,
    "start_time": "2022-10-14T23:31:34.479Z"
   },
   {
    "duration": 9,
    "start_time": "2022-10-14T23:31:34.489Z"
   },
   {
    "duration": 28,
    "start_time": "2022-10-14T23:31:34.500Z"
   },
   {
    "duration": 4,
    "start_time": "2022-10-14T23:31:34.530Z"
   },
   {
    "duration": 5,
    "start_time": "2022-10-14T23:31:34.535Z"
   },
   {
    "duration": 139,
    "start_time": "2022-10-14T23:31:34.542Z"
   },
   {
    "duration": 22,
    "start_time": "2022-10-14T23:31:34.683Z"
   },
   {
    "duration": 104,
    "start_time": "2022-10-14T23:31:34.707Z"
   },
   {
    "duration": 271,
    "start_time": "2022-10-14T23:31:34.822Z"
   },
   {
    "duration": 4,
    "start_time": "2022-10-14T23:31:35.096Z"
   },
   {
    "duration": 25,
    "start_time": "2022-10-14T23:31:35.101Z"
   },
   {
    "duration": 7,
    "start_time": "2022-10-14T23:31:35.127Z"
   },
   {
    "duration": 11,
    "start_time": "2022-10-14T23:31:35.135Z"
   },
   {
    "duration": 8,
    "start_time": "2022-10-14T23:31:35.148Z"
   },
   {
    "duration": 7,
    "start_time": "2022-10-14T23:31:35.157Z"
   },
   {
    "duration": 6,
    "start_time": "2022-10-14T23:31:35.165Z"
   },
   {
    "duration": 7,
    "start_time": "2022-10-14T23:31:35.172Z"
   },
   {
    "duration": 46,
    "start_time": "2022-10-14T23:31:35.180Z"
   },
   {
    "duration": 257,
    "start_time": "2022-10-14T23:31:35.227Z"
   },
   {
    "duration": 14,
    "start_time": "2022-10-14T23:31:35.489Z"
   },
   {
    "duration": 935,
    "start_time": "2022-10-14T23:31:35.505Z"
   },
   {
    "duration": 7,
    "start_time": "2022-10-14T23:31:36.442Z"
   },
   {
    "duration": 403,
    "start_time": "2022-10-14T23:31:36.451Z"
   },
   {
    "duration": 67,
    "start_time": "2022-10-14T23:31:36.855Z"
   },
   {
    "duration": 5,
    "start_time": "2022-10-14T23:31:36.924Z"
   },
   {
    "duration": 694,
    "start_time": "2022-10-14T23:31:36.931Z"
   },
   {
    "duration": 845,
    "start_time": "2022-10-14T23:31:37.626Z"
   },
   {
    "duration": 5,
    "start_time": "2022-10-14T23:31:38.473Z"
   },
   {
    "duration": 368,
    "start_time": "2022-10-14T23:31:38.480Z"
   },
   {
    "duration": 4,
    "start_time": "2022-10-14T23:31:38.850Z"
   },
   {
    "duration": 8,
    "start_time": "2022-10-14T23:31:38.856Z"
   },
   {
    "duration": 8,
    "start_time": "2022-10-14T23:31:38.866Z"
   },
   {
    "duration": 13,
    "start_time": "2022-10-14T23:31:38.876Z"
   },
   {
    "duration": 8,
    "start_time": "2022-10-14T23:31:38.890Z"
   },
   {
    "duration": 21,
    "start_time": "2022-10-14T23:31:38.901Z"
   },
   {
    "duration": 22,
    "start_time": "2022-10-14T23:31:38.924Z"
   },
   {
    "duration": 36666,
    "start_time": "2022-10-14T23:31:38.948Z"
   },
   {
    "duration": 26,
    "start_time": "2022-10-14T23:32:15.615Z"
   },
   {
    "duration": 34593,
    "start_time": "2022-10-14T23:32:15.642Z"
   },
   {
    "duration": 7,
    "start_time": "2022-10-14T23:32:50.236Z"
   },
   {
    "duration": 1490,
    "start_time": "2022-10-14T23:32:50.244Z"
   },
   {
    "duration": 1808,
    "start_time": "2022-10-14T23:32:51.822Z"
   },
   {
    "duration": 4,
    "start_time": "2022-10-14T23:32:53.632Z"
   },
   {
    "duration": 185,
    "start_time": "2022-10-14T23:32:53.638Z"
   },
   {
    "duration": 32,
    "start_time": "2022-10-14T23:32:53.825Z"
   },
   {
    "duration": 3,
    "start_time": "2022-10-14T23:32:53.858Z"
   },
   {
    "duration": 21,
    "start_time": "2022-10-14T23:32:53.862Z"
   },
   {
    "duration": 3079,
    "start_time": "2022-10-14T23:32:53.885Z"
   },
   {
    "duration": 1163,
    "start_time": "2022-10-14T23:32:56.966Z"
   },
   {
    "duration": 3,
    "start_time": "2022-10-14T23:32:58.131Z"
   },
   {
    "duration": 1248,
    "start_time": "2022-10-14T23:34:43.632Z"
   },
   {
    "duration": 259,
    "start_time": "2022-10-14T23:34:44.882Z"
   },
   {
    "duration": 3,
    "start_time": "2022-10-14T23:34:45.142Z"
   },
   {
    "duration": 89,
    "start_time": "2022-10-14T23:34:45.147Z"
   },
   {
    "duration": 2,
    "start_time": "2022-10-14T23:34:45.238Z"
   },
   {
    "duration": 343,
    "start_time": "2022-10-14T23:34:45.242Z"
   },
   {
    "duration": 2,
    "start_time": "2022-10-14T23:34:45.586Z"
   },
   {
    "duration": 13,
    "start_time": "2022-10-14T23:34:45.590Z"
   },
   {
    "duration": 6,
    "start_time": "2022-10-14T23:34:45.604Z"
   },
   {
    "duration": 9,
    "start_time": "2022-10-14T23:34:45.622Z"
   },
   {
    "duration": 7,
    "start_time": "2022-10-14T23:34:45.632Z"
   },
   {
    "duration": 5,
    "start_time": "2022-10-14T23:34:45.640Z"
   },
   {
    "duration": 11,
    "start_time": "2022-10-14T23:34:45.646Z"
   },
   {
    "duration": 143,
    "start_time": "2022-10-14T23:34:45.659Z"
   },
   {
    "duration": 29,
    "start_time": "2022-10-14T23:34:45.804Z"
   },
   {
    "duration": 97,
    "start_time": "2022-10-14T23:34:45.834Z"
   },
   {
    "duration": 265,
    "start_time": "2022-10-14T23:34:45.932Z"
   },
   {
    "duration": 3,
    "start_time": "2022-10-14T23:34:46.199Z"
   },
   {
    "duration": 20,
    "start_time": "2022-10-14T23:34:46.204Z"
   },
   {
    "duration": 6,
    "start_time": "2022-10-14T23:34:46.226Z"
   },
   {
    "duration": 11,
    "start_time": "2022-10-14T23:34:46.233Z"
   },
   {
    "duration": 9,
    "start_time": "2022-10-14T23:34:46.246Z"
   },
   {
    "duration": 7,
    "start_time": "2022-10-14T23:34:46.256Z"
   },
   {
    "duration": 5,
    "start_time": "2022-10-14T23:34:46.265Z"
   },
   {
    "duration": 5,
    "start_time": "2022-10-14T23:34:46.271Z"
   },
   {
    "duration": 45,
    "start_time": "2022-10-14T23:34:46.278Z"
   },
   {
    "duration": 263,
    "start_time": "2022-10-14T23:34:46.325Z"
   },
   {
    "duration": 15,
    "start_time": "2022-10-14T23:34:46.592Z"
   },
   {
    "duration": 1323,
    "start_time": "2022-10-14T23:34:46.609Z"
   },
   {
    "duration": 7,
    "start_time": "2022-10-14T23:34:47.933Z"
   },
   {
    "duration": 617,
    "start_time": "2022-10-14T23:34:47.941Z"
   },
   {
    "duration": 70,
    "start_time": "2022-10-14T23:34:48.559Z"
   },
   {
    "duration": 5,
    "start_time": "2022-10-14T23:34:48.631Z"
   },
   {
    "duration": 390,
    "start_time": "2022-10-14T23:34:48.637Z"
   },
   {
    "duration": 429,
    "start_time": "2022-10-14T23:34:49.029Z"
   },
   {
    "duration": 7,
    "start_time": "2022-10-14T23:34:49.459Z"
   },
   {
    "duration": 349,
    "start_time": "2022-10-14T23:34:49.467Z"
   },
   {
    "duration": 6,
    "start_time": "2022-10-14T23:34:49.817Z"
   },
   {
    "duration": 5,
    "start_time": "2022-10-14T23:34:49.824Z"
   },
   {
    "duration": 5,
    "start_time": "2022-10-14T23:34:49.831Z"
   },
   {
    "duration": 7,
    "start_time": "2022-10-14T23:34:49.837Z"
   },
   {
    "duration": 5,
    "start_time": "2022-10-14T23:34:49.846Z"
   },
   {
    "duration": 12,
    "start_time": "2022-10-14T23:34:49.852Z"
   },
   {
    "duration": 23,
    "start_time": "2022-10-14T23:34:49.865Z"
   },
   {
    "duration": 36608,
    "start_time": "2022-10-14T23:34:49.890Z"
   },
   {
    "duration": 29,
    "start_time": "2022-10-14T23:35:26.500Z"
   },
   {
    "duration": 34146,
    "start_time": "2022-10-14T23:35:26.530Z"
   },
   {
    "duration": 8,
    "start_time": "2022-10-14T23:36:00.677Z"
   },
   {
    "duration": 1537,
    "start_time": "2022-10-14T23:36:00.686Z"
   },
   {
    "duration": 1805,
    "start_time": "2022-10-14T23:36:02.225Z"
   },
   {
    "duration": 90,
    "start_time": "2022-10-14T23:36:04.032Z"
   },
   {
    "duration": 37,
    "start_time": "2022-10-14T23:36:04.124Z"
   },
   {
    "duration": 76,
    "start_time": "2022-10-14T23:36:04.163Z"
   },
   {
    "duration": 3,
    "start_time": "2022-10-14T23:36:04.241Z"
   },
   {
    "duration": 33,
    "start_time": "2022-10-14T23:36:04.245Z"
   },
   {
    "duration": 3078,
    "start_time": "2022-10-14T23:36:04.280Z"
   },
   {
    "duration": 1147,
    "start_time": "2022-10-14T23:36:07.360Z"
   },
   {
    "duration": 3,
    "start_time": "2022-10-14T23:36:08.509Z"
   },
   {
    "duration": 414,
    "start_time": "2022-10-14T23:36:56.981Z"
   },
   {
    "duration": 1271,
    "start_time": "2022-10-14T23:37:11.327Z"
   },
   {
    "duration": 294,
    "start_time": "2022-10-14T23:37:12.600Z"
   },
   {
    "duration": 3,
    "start_time": "2022-10-14T23:37:12.896Z"
   },
   {
    "duration": 95,
    "start_time": "2022-10-14T23:37:12.901Z"
   },
   {
    "duration": 3,
    "start_time": "2022-10-14T23:37:12.997Z"
   },
   {
    "duration": 359,
    "start_time": "2022-10-14T23:37:13.001Z"
   },
   {
    "duration": 2,
    "start_time": "2022-10-14T23:37:13.362Z"
   },
   {
    "duration": 33,
    "start_time": "2022-10-14T23:37:13.366Z"
   },
   {
    "duration": 20,
    "start_time": "2022-10-14T23:37:13.401Z"
   },
   {
    "duration": 14,
    "start_time": "2022-10-14T23:37:13.423Z"
   },
   {
    "duration": 32,
    "start_time": "2022-10-14T23:37:13.439Z"
   },
   {
    "duration": 29,
    "start_time": "2022-10-14T23:37:13.472Z"
   },
   {
    "duration": 14,
    "start_time": "2022-10-14T23:37:13.503Z"
   },
   {
    "duration": 139,
    "start_time": "2022-10-14T23:37:13.518Z"
   },
   {
    "duration": 23,
    "start_time": "2022-10-14T23:37:13.659Z"
   },
   {
    "duration": 109,
    "start_time": "2022-10-14T23:37:13.684Z"
   },
   {
    "duration": 293,
    "start_time": "2022-10-14T23:37:13.795Z"
   },
   {
    "duration": 4,
    "start_time": "2022-10-14T23:37:14.089Z"
   },
   {
    "duration": 57,
    "start_time": "2022-10-14T23:37:14.094Z"
   },
   {
    "duration": 12,
    "start_time": "2022-10-14T23:37:14.153Z"
   },
   {
    "duration": 18,
    "start_time": "2022-10-14T23:37:14.166Z"
   },
   {
    "duration": 16,
    "start_time": "2022-10-14T23:37:14.186Z"
   },
   {
    "duration": 13,
    "start_time": "2022-10-14T23:37:14.204Z"
   },
   {
    "duration": 27,
    "start_time": "2022-10-14T23:37:14.218Z"
   },
   {
    "duration": 17,
    "start_time": "2022-10-14T23:37:14.247Z"
   },
   {
    "duration": 48,
    "start_time": "2022-10-14T23:37:14.265Z"
   },
   {
    "duration": 273,
    "start_time": "2022-10-14T23:37:14.315Z"
   },
   {
    "duration": 13,
    "start_time": "2022-10-14T23:37:14.592Z"
   },
   {
    "duration": 903,
    "start_time": "2022-10-14T23:37:14.607Z"
   },
   {
    "duration": 12,
    "start_time": "2022-10-14T23:37:15.512Z"
   },
   {
    "duration": 349,
    "start_time": "2022-10-14T23:37:15.525Z"
   },
   {
    "duration": 18,
    "start_time": "2022-10-14T23:37:15.876Z"
   },
   {
    "duration": 14,
    "start_time": "2022-10-14T23:37:15.896Z"
   },
   {
    "duration": 317,
    "start_time": "2022-10-14T23:37:15.911Z"
   },
   {
    "duration": 107,
    "start_time": "2022-10-14T23:37:16.229Z"
   },
   {
    "duration": 0,
    "start_time": "2022-10-14T23:37:16.338Z"
   },
   {
    "duration": 0,
    "start_time": "2022-10-14T23:37:16.339Z"
   },
   {
    "duration": 0,
    "start_time": "2022-10-14T23:37:16.340Z"
   },
   {
    "duration": 0,
    "start_time": "2022-10-14T23:37:16.342Z"
   },
   {
    "duration": 0,
    "start_time": "2022-10-14T23:37:16.343Z"
   },
   {
    "duration": 0,
    "start_time": "2022-10-14T23:37:16.344Z"
   },
   {
    "duration": 0,
    "start_time": "2022-10-14T23:37:16.346Z"
   },
   {
    "duration": 0,
    "start_time": "2022-10-14T23:37:16.347Z"
   },
   {
    "duration": 0,
    "start_time": "2022-10-14T23:37:16.348Z"
   },
   {
    "duration": 0,
    "start_time": "2022-10-14T23:37:16.349Z"
   },
   {
    "duration": 0,
    "start_time": "2022-10-14T23:37:16.350Z"
   },
   {
    "duration": 0,
    "start_time": "2022-10-14T23:37:16.351Z"
   },
   {
    "duration": 0,
    "start_time": "2022-10-14T23:37:16.352Z"
   },
   {
    "duration": 0,
    "start_time": "2022-10-14T23:37:16.353Z"
   },
   {
    "duration": 0,
    "start_time": "2022-10-14T23:37:16.354Z"
   },
   {
    "duration": 0,
    "start_time": "2022-10-14T23:37:16.355Z"
   },
   {
    "duration": 0,
    "start_time": "2022-10-14T23:37:16.356Z"
   },
   {
    "duration": 0,
    "start_time": "2022-10-14T23:37:16.357Z"
   },
   {
    "duration": 0,
    "start_time": "2022-10-14T23:37:16.357Z"
   },
   {
    "duration": 0,
    "start_time": "2022-10-14T23:37:16.358Z"
   },
   {
    "duration": 0,
    "start_time": "2022-10-14T23:37:16.360Z"
   },
   {
    "duration": 0,
    "start_time": "2022-10-14T23:37:16.361Z"
   },
   {
    "duration": 1333,
    "start_time": "2022-10-14T23:37:44.771Z"
   },
   {
    "duration": 253,
    "start_time": "2022-10-14T23:37:46.106Z"
   },
   {
    "duration": 3,
    "start_time": "2022-10-14T23:37:46.360Z"
   },
   {
    "duration": 71,
    "start_time": "2022-10-14T23:37:46.365Z"
   },
   {
    "duration": 3,
    "start_time": "2022-10-14T23:37:46.437Z"
   },
   {
    "duration": 333,
    "start_time": "2022-10-14T23:37:46.441Z"
   },
   {
    "duration": 2,
    "start_time": "2022-10-14T23:37:46.776Z"
   },
   {
    "duration": 16,
    "start_time": "2022-10-14T23:37:46.780Z"
   },
   {
    "duration": 7,
    "start_time": "2022-10-14T23:37:46.797Z"
   },
   {
    "duration": 20,
    "start_time": "2022-10-14T23:37:46.806Z"
   },
   {
    "duration": 7,
    "start_time": "2022-10-14T23:37:46.827Z"
   },
   {
    "duration": 5,
    "start_time": "2022-10-14T23:37:46.836Z"
   },
   {
    "duration": 9,
    "start_time": "2022-10-14T23:37:46.843Z"
   },
   {
    "duration": 135,
    "start_time": "2022-10-14T23:37:46.853Z"
   },
   {
    "duration": 33,
    "start_time": "2022-10-14T23:37:46.990Z"
   },
   {
    "duration": 99,
    "start_time": "2022-10-14T23:37:47.024Z"
   },
   {
    "duration": 273,
    "start_time": "2022-10-14T23:37:47.124Z"
   },
   {
    "duration": 4,
    "start_time": "2022-10-14T23:37:47.398Z"
   },
   {
    "duration": 22,
    "start_time": "2022-10-14T23:37:47.403Z"
   },
   {
    "duration": 6,
    "start_time": "2022-10-14T23:37:47.426Z"
   },
   {
    "duration": 12,
    "start_time": "2022-10-14T23:37:47.433Z"
   },
   {
    "duration": 12,
    "start_time": "2022-10-14T23:37:47.446Z"
   },
   {
    "duration": 9,
    "start_time": "2022-10-14T23:37:47.460Z"
   },
   {
    "duration": 6,
    "start_time": "2022-10-14T23:37:47.470Z"
   },
   {
    "duration": 21,
    "start_time": "2022-10-14T23:37:47.478Z"
   },
   {
    "duration": 25,
    "start_time": "2022-10-14T23:37:47.500Z"
   },
   {
    "duration": 266,
    "start_time": "2022-10-14T23:37:47.526Z"
   },
   {
    "duration": 13,
    "start_time": "2022-10-14T23:37:47.796Z"
   },
   {
    "duration": 883,
    "start_time": "2022-10-14T23:37:47.810Z"
   },
   {
    "duration": 7,
    "start_time": "2022-10-14T23:37:48.695Z"
   },
   {
    "duration": 722,
    "start_time": "2022-10-14T23:37:48.703Z"
   },
   {
    "duration": 16,
    "start_time": "2022-10-14T23:37:49.426Z"
   },
   {
    "duration": 4,
    "start_time": "2022-10-14T23:37:49.444Z"
   },
   {
    "duration": 708,
    "start_time": "2022-10-14T23:37:49.449Z"
   },
   {
    "duration": 264,
    "start_time": "2022-10-14T23:37:50.159Z"
   },
   {
    "duration": 0,
    "start_time": "2022-10-14T23:37:50.425Z"
   },
   {
    "duration": 0,
    "start_time": "2022-10-14T23:37:50.426Z"
   },
   {
    "duration": 0,
    "start_time": "2022-10-14T23:37:50.427Z"
   },
   {
    "duration": 0,
    "start_time": "2022-10-14T23:37:50.428Z"
   },
   {
    "duration": 0,
    "start_time": "2022-10-14T23:37:50.429Z"
   },
   {
    "duration": 0,
    "start_time": "2022-10-14T23:37:50.429Z"
   },
   {
    "duration": 0,
    "start_time": "2022-10-14T23:37:50.430Z"
   },
   {
    "duration": 0,
    "start_time": "2022-10-14T23:37:50.431Z"
   },
   {
    "duration": 0,
    "start_time": "2022-10-14T23:37:50.432Z"
   },
   {
    "duration": 0,
    "start_time": "2022-10-14T23:37:50.433Z"
   },
   {
    "duration": 0,
    "start_time": "2022-10-14T23:37:50.434Z"
   },
   {
    "duration": 0,
    "start_time": "2022-10-14T23:37:50.435Z"
   },
   {
    "duration": 0,
    "start_time": "2022-10-14T23:37:50.436Z"
   },
   {
    "duration": 0,
    "start_time": "2022-10-14T23:37:50.437Z"
   },
   {
    "duration": 0,
    "start_time": "2022-10-14T23:37:50.438Z"
   },
   {
    "duration": 0,
    "start_time": "2022-10-14T23:37:50.439Z"
   },
   {
    "duration": 0,
    "start_time": "2022-10-14T23:37:50.440Z"
   },
   {
    "duration": 0,
    "start_time": "2022-10-14T23:37:50.440Z"
   },
   {
    "duration": 0,
    "start_time": "2022-10-14T23:37:50.441Z"
   },
   {
    "duration": 0,
    "start_time": "2022-10-14T23:37:50.442Z"
   },
   {
    "duration": 0,
    "start_time": "2022-10-14T23:37:50.443Z"
   },
   {
    "duration": 0,
    "start_time": "2022-10-14T23:37:50.444Z"
   },
   {
    "duration": 1260,
    "start_time": "2022-10-14T23:38:04.329Z"
   },
   {
    "duration": 279,
    "start_time": "2022-10-14T23:38:05.591Z"
   },
   {
    "duration": 2,
    "start_time": "2022-10-14T23:38:05.872Z"
   },
   {
    "duration": 75,
    "start_time": "2022-10-14T23:38:05.876Z"
   },
   {
    "duration": 2,
    "start_time": "2022-10-14T23:38:05.953Z"
   },
   {
    "duration": 343,
    "start_time": "2022-10-14T23:38:05.956Z"
   },
   {
    "duration": 2,
    "start_time": "2022-10-14T23:38:06.300Z"
   },
   {
    "duration": 19,
    "start_time": "2022-10-14T23:38:06.304Z"
   },
   {
    "duration": 6,
    "start_time": "2022-10-14T23:38:06.324Z"
   },
   {
    "duration": 15,
    "start_time": "2022-10-14T23:38:06.332Z"
   },
   {
    "duration": 7,
    "start_time": "2022-10-14T23:38:06.348Z"
   },
   {
    "duration": 4,
    "start_time": "2022-10-14T23:38:06.356Z"
   },
   {
    "duration": 5,
    "start_time": "2022-10-14T23:38:06.361Z"
   },
   {
    "duration": 139,
    "start_time": "2022-10-14T23:38:06.367Z"
   },
   {
    "duration": 34,
    "start_time": "2022-10-14T23:38:06.507Z"
   },
   {
    "duration": 100,
    "start_time": "2022-10-14T23:38:06.542Z"
   },
   {
    "duration": 286,
    "start_time": "2022-10-14T23:38:06.644Z"
   },
   {
    "duration": 4,
    "start_time": "2022-10-14T23:38:06.932Z"
   },
   {
    "duration": 31,
    "start_time": "2022-10-14T23:38:06.938Z"
   },
   {
    "duration": 6,
    "start_time": "2022-10-14T23:38:06.970Z"
   },
   {
    "duration": 10,
    "start_time": "2022-10-14T23:38:06.978Z"
   },
   {
    "duration": 8,
    "start_time": "2022-10-14T23:38:06.989Z"
   },
   {
    "duration": 7,
    "start_time": "2022-10-14T23:38:06.998Z"
   },
   {
    "duration": 7,
    "start_time": "2022-10-14T23:38:07.021Z"
   },
   {
    "duration": 5,
    "start_time": "2022-10-14T23:38:07.029Z"
   },
   {
    "duration": 17,
    "start_time": "2022-10-14T23:38:07.036Z"
   },
   {
    "duration": 285,
    "start_time": "2022-10-14T23:38:07.055Z"
   },
   {
    "duration": 14,
    "start_time": "2022-10-14T23:38:07.344Z"
   },
   {
    "duration": 896,
    "start_time": "2022-10-14T23:38:07.360Z"
   },
   {
    "duration": 6,
    "start_time": "2022-10-14T23:38:08.258Z"
   },
   {
    "duration": 323,
    "start_time": "2022-10-14T23:38:08.265Z"
   },
   {
    "duration": 16,
    "start_time": "2022-10-14T23:38:08.589Z"
   },
   {
    "duration": 4,
    "start_time": "2022-10-14T23:38:08.607Z"
   },
   {
    "duration": 332,
    "start_time": "2022-10-14T23:38:08.622Z"
   },
   {
    "duration": 139,
    "start_time": "2022-10-14T23:38:08.957Z"
   },
   {
    "duration": 0,
    "start_time": "2022-10-14T23:38:09.097Z"
   },
   {
    "duration": 0,
    "start_time": "2022-10-14T23:38:09.098Z"
   },
   {
    "duration": 0,
    "start_time": "2022-10-14T23:38:09.100Z"
   },
   {
    "duration": 0,
    "start_time": "2022-10-14T23:38:09.101Z"
   },
   {
    "duration": 0,
    "start_time": "2022-10-14T23:38:09.102Z"
   },
   {
    "duration": 0,
    "start_time": "2022-10-14T23:38:09.104Z"
   },
   {
    "duration": 0,
    "start_time": "2022-10-14T23:38:09.105Z"
   },
   {
    "duration": 0,
    "start_time": "2022-10-14T23:38:09.107Z"
   },
   {
    "duration": 0,
    "start_time": "2022-10-14T23:38:09.122Z"
   },
   {
    "duration": 0,
    "start_time": "2022-10-14T23:38:09.123Z"
   },
   {
    "duration": 0,
    "start_time": "2022-10-14T23:38:09.125Z"
   },
   {
    "duration": 0,
    "start_time": "2022-10-14T23:38:09.126Z"
   },
   {
    "duration": 0,
    "start_time": "2022-10-14T23:38:09.127Z"
   },
   {
    "duration": 0,
    "start_time": "2022-10-14T23:38:09.129Z"
   },
   {
    "duration": 0,
    "start_time": "2022-10-14T23:38:09.131Z"
   },
   {
    "duration": 0,
    "start_time": "2022-10-14T23:38:09.132Z"
   },
   {
    "duration": 0,
    "start_time": "2022-10-14T23:38:09.133Z"
   },
   {
    "duration": 1,
    "start_time": "2022-10-14T23:38:09.134Z"
   },
   {
    "duration": 0,
    "start_time": "2022-10-14T23:38:09.136Z"
   },
   {
    "duration": 0,
    "start_time": "2022-10-14T23:38:09.136Z"
   },
   {
    "duration": 0,
    "start_time": "2022-10-14T23:38:09.137Z"
   },
   {
    "duration": 0,
    "start_time": "2022-10-14T23:38:09.138Z"
   },
   {
    "duration": 1211,
    "start_time": "2022-10-14T23:38:21.673Z"
   },
   {
    "duration": 264,
    "start_time": "2022-10-14T23:38:22.886Z"
   },
   {
    "duration": 2,
    "start_time": "2022-10-14T23:38:23.152Z"
   },
   {
    "duration": 70,
    "start_time": "2022-10-14T23:38:23.156Z"
   },
   {
    "duration": 2,
    "start_time": "2022-10-14T23:38:23.228Z"
   },
   {
    "duration": 330,
    "start_time": "2022-10-14T23:38:23.232Z"
   },
   {
    "duration": 2,
    "start_time": "2022-10-14T23:38:23.564Z"
   },
   {
    "duration": 14,
    "start_time": "2022-10-14T23:38:23.568Z"
   },
   {
    "duration": 5,
    "start_time": "2022-10-14T23:38:23.583Z"
   },
   {
    "duration": 13,
    "start_time": "2022-10-14T23:38:23.590Z"
   },
   {
    "duration": 23,
    "start_time": "2022-10-14T23:38:23.604Z"
   },
   {
    "duration": 6,
    "start_time": "2022-10-14T23:38:23.629Z"
   },
   {
    "duration": 7,
    "start_time": "2022-10-14T23:38:23.636Z"
   },
   {
    "duration": 133,
    "start_time": "2022-10-14T23:38:23.645Z"
   },
   {
    "duration": 22,
    "start_time": "2022-10-14T23:38:23.780Z"
   },
   {
    "duration": 106,
    "start_time": "2022-10-14T23:38:23.804Z"
   },
   {
    "duration": 271,
    "start_time": "2022-10-14T23:38:23.911Z"
   },
   {
    "duration": 4,
    "start_time": "2022-10-14T23:38:24.183Z"
   },
   {
    "duration": 14,
    "start_time": "2022-10-14T23:38:24.188Z"
   },
   {
    "duration": 19,
    "start_time": "2022-10-14T23:38:24.204Z"
   },
   {
    "duration": 10,
    "start_time": "2022-10-14T23:38:24.224Z"
   },
   {
    "duration": 8,
    "start_time": "2022-10-14T23:38:24.235Z"
   },
   {
    "duration": 7,
    "start_time": "2022-10-14T23:38:24.245Z"
   },
   {
    "duration": 5,
    "start_time": "2022-10-14T23:38:24.254Z"
   },
   {
    "duration": 4,
    "start_time": "2022-10-14T23:38:24.261Z"
   },
   {
    "duration": 15,
    "start_time": "2022-10-14T23:38:24.266Z"
   },
   {
    "duration": 287,
    "start_time": "2022-10-14T23:38:24.282Z"
   },
   {
    "duration": 15,
    "start_time": "2022-10-14T23:38:24.572Z"
   },
   {
    "duration": 895,
    "start_time": "2022-10-14T23:38:24.588Z"
   },
   {
    "duration": 6,
    "start_time": "2022-10-14T23:38:25.485Z"
   },
   {
    "duration": 350,
    "start_time": "2022-10-14T23:38:25.492Z"
   },
   {
    "duration": 16,
    "start_time": "2022-10-14T23:38:25.844Z"
   },
   {
    "duration": 5,
    "start_time": "2022-10-14T23:38:25.861Z"
   },
   {
    "duration": 323,
    "start_time": "2022-10-14T23:38:25.868Z"
   },
   {
    "duration": 113,
    "start_time": "2022-10-14T23:38:26.193Z"
   },
   {
    "duration": 0,
    "start_time": "2022-10-14T23:38:26.307Z"
   },
   {
    "duration": 0,
    "start_time": "2022-10-14T23:38:26.309Z"
   },
   {
    "duration": 0,
    "start_time": "2022-10-14T23:38:26.310Z"
   },
   {
    "duration": 0,
    "start_time": "2022-10-14T23:38:26.311Z"
   },
   {
    "duration": 0,
    "start_time": "2022-10-14T23:38:26.322Z"
   },
   {
    "duration": 0,
    "start_time": "2022-10-14T23:38:26.323Z"
   },
   {
    "duration": 0,
    "start_time": "2022-10-14T23:38:26.324Z"
   },
   {
    "duration": 0,
    "start_time": "2022-10-14T23:38:26.325Z"
   },
   {
    "duration": 0,
    "start_time": "2022-10-14T23:38:26.326Z"
   },
   {
    "duration": 0,
    "start_time": "2022-10-14T23:38:26.328Z"
   },
   {
    "duration": 0,
    "start_time": "2022-10-14T23:38:26.329Z"
   },
   {
    "duration": 0,
    "start_time": "2022-10-14T23:38:26.330Z"
   },
   {
    "duration": 0,
    "start_time": "2022-10-14T23:38:26.331Z"
   },
   {
    "duration": 0,
    "start_time": "2022-10-14T23:38:26.332Z"
   },
   {
    "duration": 0,
    "start_time": "2022-10-14T23:38:26.333Z"
   },
   {
    "duration": 0,
    "start_time": "2022-10-14T23:38:26.334Z"
   },
   {
    "duration": 0,
    "start_time": "2022-10-14T23:38:26.335Z"
   },
   {
    "duration": 0,
    "start_time": "2022-10-14T23:38:26.336Z"
   },
   {
    "duration": 0,
    "start_time": "2022-10-14T23:38:26.338Z"
   },
   {
    "duration": 0,
    "start_time": "2022-10-14T23:38:26.340Z"
   },
   {
    "duration": 0,
    "start_time": "2022-10-14T23:38:26.341Z"
   },
   {
    "duration": 0,
    "start_time": "2022-10-14T23:38:26.342Z"
   },
   {
    "duration": 1252,
    "start_time": "2022-10-14T23:38:52.931Z"
   },
   {
    "duration": 258,
    "start_time": "2022-10-14T23:38:54.184Z"
   },
   {
    "duration": 2,
    "start_time": "2022-10-14T23:38:54.444Z"
   },
   {
    "duration": 75,
    "start_time": "2022-10-14T23:38:54.448Z"
   },
   {
    "duration": 2,
    "start_time": "2022-10-14T23:38:54.524Z"
   },
   {
    "duration": 330,
    "start_time": "2022-10-14T23:38:54.528Z"
   },
   {
    "duration": 2,
    "start_time": "2022-10-14T23:38:54.859Z"
   },
   {
    "duration": 13,
    "start_time": "2022-10-14T23:38:54.863Z"
   },
   {
    "duration": 6,
    "start_time": "2022-10-14T23:38:54.877Z"
   },
   {
    "duration": 9,
    "start_time": "2022-10-14T23:38:54.885Z"
   },
   {
    "duration": 29,
    "start_time": "2022-10-14T23:38:54.895Z"
   },
   {
    "duration": 4,
    "start_time": "2022-10-14T23:38:54.926Z"
   },
   {
    "duration": 5,
    "start_time": "2022-10-14T23:38:54.932Z"
   },
   {
    "duration": 130,
    "start_time": "2022-10-14T23:38:54.938Z"
   },
   {
    "duration": 26,
    "start_time": "2022-10-14T23:38:55.070Z"
   },
   {
    "duration": 109,
    "start_time": "2022-10-14T23:38:55.098Z"
   },
   {
    "duration": 276,
    "start_time": "2022-10-14T23:38:55.209Z"
   },
   {
    "duration": 4,
    "start_time": "2022-10-14T23:38:55.486Z"
   },
   {
    "duration": 15,
    "start_time": "2022-10-14T23:38:55.491Z"
   },
   {
    "duration": 14,
    "start_time": "2022-10-14T23:38:55.508Z"
   },
   {
    "duration": 10,
    "start_time": "2022-10-14T23:38:55.523Z"
   },
   {
    "duration": 8,
    "start_time": "2022-10-14T23:38:55.534Z"
   },
   {
    "duration": 7,
    "start_time": "2022-10-14T23:38:55.543Z"
   },
   {
    "duration": 6,
    "start_time": "2022-10-14T23:38:55.551Z"
   },
   {
    "duration": 4,
    "start_time": "2022-10-14T23:38:55.558Z"
   },
   {
    "duration": 14,
    "start_time": "2022-10-14T23:38:55.564Z"
   },
   {
    "duration": 297,
    "start_time": "2022-10-14T23:38:55.580Z"
   },
   {
    "duration": 15,
    "start_time": "2022-10-14T23:38:55.880Z"
   },
   {
    "duration": 885,
    "start_time": "2022-10-14T23:38:55.896Z"
   },
   {
    "duration": 6,
    "start_time": "2022-10-14T23:38:56.783Z"
   },
   {
    "duration": 546,
    "start_time": "2022-10-14T23:38:56.790Z"
   },
   {
    "duration": 21,
    "start_time": "2022-10-14T23:38:57.337Z"
   },
   {
    "duration": 6,
    "start_time": "2022-10-14T23:38:57.360Z"
   },
   {
    "duration": 616,
    "start_time": "2022-10-14T23:38:57.422Z"
   },
   {
    "duration": 204,
    "start_time": "2022-10-14T23:38:58.040Z"
   },
   {
    "duration": 0,
    "start_time": "2022-10-14T23:38:58.245Z"
   },
   {
    "duration": 0,
    "start_time": "2022-10-14T23:38:58.248Z"
   },
   {
    "duration": 0,
    "start_time": "2022-10-14T23:38:58.249Z"
   },
   {
    "duration": 0,
    "start_time": "2022-10-14T23:38:58.251Z"
   },
   {
    "duration": 1,
    "start_time": "2022-10-14T23:38:58.251Z"
   },
   {
    "duration": 0,
    "start_time": "2022-10-14T23:38:58.252Z"
   },
   {
    "duration": 0,
    "start_time": "2022-10-14T23:38:58.253Z"
   },
   {
    "duration": 0,
    "start_time": "2022-10-14T23:38:58.254Z"
   },
   {
    "duration": 0,
    "start_time": "2022-10-14T23:38:58.256Z"
   },
   {
    "duration": 0,
    "start_time": "2022-10-14T23:38:58.257Z"
   },
   {
    "duration": 0,
    "start_time": "2022-10-14T23:38:58.258Z"
   },
   {
    "duration": 0,
    "start_time": "2022-10-14T23:38:58.259Z"
   },
   {
    "duration": 0,
    "start_time": "2022-10-14T23:38:58.260Z"
   },
   {
    "duration": 0,
    "start_time": "2022-10-14T23:38:58.261Z"
   },
   {
    "duration": 0,
    "start_time": "2022-10-14T23:38:58.262Z"
   },
   {
    "duration": 0,
    "start_time": "2022-10-14T23:38:58.263Z"
   },
   {
    "duration": 0,
    "start_time": "2022-10-14T23:38:58.322Z"
   },
   {
    "duration": 0,
    "start_time": "2022-10-14T23:38:58.323Z"
   },
   {
    "duration": 0,
    "start_time": "2022-10-14T23:38:58.324Z"
   },
   {
    "duration": 0,
    "start_time": "2022-10-14T23:38:58.325Z"
   },
   {
    "duration": 0,
    "start_time": "2022-10-14T23:38:58.326Z"
   },
   {
    "duration": 0,
    "start_time": "2022-10-14T23:38:58.327Z"
   },
   {
    "duration": 4,
    "start_time": "2022-10-14T23:39:20.784Z"
   },
   {
    "duration": 1230,
    "start_time": "2022-10-14T23:39:45.749Z"
   },
   {
    "duration": 262,
    "start_time": "2022-10-14T23:39:46.981Z"
   },
   {
    "duration": 2,
    "start_time": "2022-10-14T23:39:47.245Z"
   },
   {
    "duration": 70,
    "start_time": "2022-10-14T23:39:47.249Z"
   },
   {
    "duration": 2,
    "start_time": "2022-10-14T23:39:47.320Z"
   },
   {
    "duration": 365,
    "start_time": "2022-10-14T23:39:47.324Z"
   },
   {
    "duration": 2,
    "start_time": "2022-10-14T23:39:47.690Z"
   },
   {
    "duration": 14,
    "start_time": "2022-10-14T23:39:47.694Z"
   },
   {
    "duration": 13,
    "start_time": "2022-10-14T23:39:47.709Z"
   },
   {
    "duration": 9,
    "start_time": "2022-10-14T23:39:47.724Z"
   },
   {
    "duration": 7,
    "start_time": "2022-10-14T23:39:47.735Z"
   },
   {
    "duration": 7,
    "start_time": "2022-10-14T23:39:47.743Z"
   },
   {
    "duration": 5,
    "start_time": "2022-10-14T23:39:47.751Z"
   },
   {
    "duration": 142,
    "start_time": "2022-10-14T23:39:47.758Z"
   },
   {
    "duration": 25,
    "start_time": "2022-10-14T23:39:47.901Z"
   },
   {
    "duration": 102,
    "start_time": "2022-10-14T23:39:47.927Z"
   },
   {
    "duration": 271,
    "start_time": "2022-10-14T23:39:48.030Z"
   },
   {
    "duration": 4,
    "start_time": "2022-10-14T23:39:48.302Z"
   },
   {
    "duration": 20,
    "start_time": "2022-10-14T23:39:48.307Z"
   },
   {
    "duration": 6,
    "start_time": "2022-10-14T23:39:48.328Z"
   },
   {
    "duration": 10,
    "start_time": "2022-10-14T23:39:48.335Z"
   },
   {
    "duration": 8,
    "start_time": "2022-10-14T23:39:48.347Z"
   },
   {
    "duration": 12,
    "start_time": "2022-10-14T23:39:48.356Z"
   },
   {
    "duration": 5,
    "start_time": "2022-10-14T23:39:48.369Z"
   },
   {
    "duration": 4,
    "start_time": "2022-10-14T23:39:48.376Z"
   },
   {
    "duration": 42,
    "start_time": "2022-10-14T23:39:48.382Z"
   },
   {
    "duration": 267,
    "start_time": "2022-10-14T23:39:48.425Z"
   },
   {
    "duration": 15,
    "start_time": "2022-10-14T23:39:48.697Z"
   },
   {
    "duration": 976,
    "start_time": "2022-10-14T23:39:48.714Z"
   },
   {
    "duration": 8,
    "start_time": "2022-10-14T23:39:49.691Z"
   },
   {
    "duration": 333,
    "start_time": "2022-10-14T23:39:49.700Z"
   },
   {
    "duration": 43,
    "start_time": "2022-10-14T23:39:50.035Z"
   },
   {
    "duration": 6,
    "start_time": "2022-10-14T23:39:50.080Z"
   },
   {
    "duration": 324,
    "start_time": "2022-10-14T23:39:50.087Z"
   },
   {
    "duration": 3,
    "start_time": "2022-10-14T23:39:50.413Z"
   },
   {
    "duration": 104,
    "start_time": "2022-10-14T23:39:50.421Z"
   },
   {
    "duration": 0,
    "start_time": "2022-10-14T23:39:50.526Z"
   },
   {
    "duration": 0,
    "start_time": "2022-10-14T23:39:50.528Z"
   },
   {
    "duration": 0,
    "start_time": "2022-10-14T23:39:50.529Z"
   },
   {
    "duration": 0,
    "start_time": "2022-10-14T23:39:50.530Z"
   },
   {
    "duration": 0,
    "start_time": "2022-10-14T23:39:50.531Z"
   },
   {
    "duration": 0,
    "start_time": "2022-10-14T23:39:50.532Z"
   },
   {
    "duration": 0,
    "start_time": "2022-10-14T23:39:50.533Z"
   },
   {
    "duration": 0,
    "start_time": "2022-10-14T23:39:50.534Z"
   },
   {
    "duration": 0,
    "start_time": "2022-10-14T23:39:50.535Z"
   },
   {
    "duration": 0,
    "start_time": "2022-10-14T23:39:50.536Z"
   },
   {
    "duration": 0,
    "start_time": "2022-10-14T23:39:50.537Z"
   },
   {
    "duration": 0,
    "start_time": "2022-10-14T23:39:50.538Z"
   },
   {
    "duration": 0,
    "start_time": "2022-10-14T23:39:50.539Z"
   },
   {
    "duration": 0,
    "start_time": "2022-10-14T23:39:50.540Z"
   },
   {
    "duration": 0,
    "start_time": "2022-10-14T23:39:50.541Z"
   },
   {
    "duration": 0,
    "start_time": "2022-10-14T23:39:50.543Z"
   },
   {
    "duration": 0,
    "start_time": "2022-10-14T23:39:50.544Z"
   },
   {
    "duration": 0,
    "start_time": "2022-10-14T23:39:50.545Z"
   },
   {
    "duration": 0,
    "start_time": "2022-10-14T23:39:50.546Z"
   },
   {
    "duration": 0,
    "start_time": "2022-10-14T23:39:50.547Z"
   },
   {
    "duration": 0,
    "start_time": "2022-10-14T23:39:50.548Z"
   },
   {
    "duration": 0,
    "start_time": "2022-10-14T23:39:50.550Z"
   },
   {
    "duration": 6,
    "start_time": "2022-10-14T23:40:57.026Z"
   },
   {
    "duration": 312,
    "start_time": "2022-10-14T23:40:58.494Z"
   },
   {
    "duration": 3,
    "start_time": "2022-10-14T23:41:14.268Z"
   },
   {
    "duration": 9,
    "start_time": "2022-10-14T23:41:15.001Z"
   },
   {
    "duration": 1303,
    "start_time": "2022-10-14T23:41:46.424Z"
   },
   {
    "duration": 258,
    "start_time": "2022-10-14T23:41:47.729Z"
   },
   {
    "duration": 2,
    "start_time": "2022-10-14T23:41:47.989Z"
   },
   {
    "duration": 78,
    "start_time": "2022-10-14T23:41:47.993Z"
   },
   {
    "duration": 2,
    "start_time": "2022-10-14T23:41:48.072Z"
   },
   {
    "duration": 341,
    "start_time": "2022-10-14T23:41:48.076Z"
   },
   {
    "duration": 3,
    "start_time": "2022-10-14T23:41:48.419Z"
   },
   {
    "duration": 14,
    "start_time": "2022-10-14T23:41:48.423Z"
   },
   {
    "duration": 6,
    "start_time": "2022-10-14T23:41:48.438Z"
   },
   {
    "duration": 9,
    "start_time": "2022-10-14T23:41:48.447Z"
   },
   {
    "duration": 7,
    "start_time": "2022-10-14T23:41:48.457Z"
   },
   {
    "duration": 5,
    "start_time": "2022-10-14T23:41:48.466Z"
   },
   {
    "duration": 5,
    "start_time": "2022-10-14T23:41:48.472Z"
   },
   {
    "duration": 150,
    "start_time": "2022-10-14T23:41:48.478Z"
   },
   {
    "duration": 22,
    "start_time": "2022-10-14T23:41:48.629Z"
   },
   {
    "duration": 105,
    "start_time": "2022-10-14T23:41:48.653Z"
   },
   {
    "duration": 317,
    "start_time": "2022-10-14T23:41:48.760Z"
   },
   {
    "duration": 4,
    "start_time": "2022-10-14T23:41:49.079Z"
   },
   {
    "duration": 20,
    "start_time": "2022-10-14T23:41:49.085Z"
   },
   {
    "duration": 6,
    "start_time": "2022-10-14T23:41:49.106Z"
   },
   {
    "duration": 11,
    "start_time": "2022-10-14T23:41:49.114Z"
   },
   {
    "duration": 9,
    "start_time": "2022-10-14T23:41:49.126Z"
   },
   {
    "duration": 7,
    "start_time": "2022-10-14T23:41:49.136Z"
   },
   {
    "duration": 6,
    "start_time": "2022-10-14T23:41:49.144Z"
   },
   {
    "duration": 4,
    "start_time": "2022-10-14T23:41:49.151Z"
   },
   {
    "duration": 13,
    "start_time": "2022-10-14T23:41:49.156Z"
   },
   {
    "duration": 291,
    "start_time": "2022-10-14T23:41:49.170Z"
   },
   {
    "duration": 14,
    "start_time": "2022-10-14T23:41:49.464Z"
   },
   {
    "duration": 873,
    "start_time": "2022-10-14T23:41:49.479Z"
   },
   {
    "duration": 7,
    "start_time": "2022-10-14T23:41:50.354Z"
   },
   {
    "duration": 334,
    "start_time": "2022-10-14T23:41:50.362Z"
   },
   {
    "duration": 50,
    "start_time": "2022-10-14T23:41:50.698Z"
   },
   {
    "duration": 6,
    "start_time": "2022-10-14T23:41:50.749Z"
   },
   {
    "duration": 511,
    "start_time": "2022-10-14T23:41:50.756Z"
   },
   {
    "duration": 55,
    "start_time": "2022-10-14T23:41:51.269Z"
   },
   {
    "duration": 5,
    "start_time": "2022-10-14T23:41:51.325Z"
   },
   {
    "duration": 5,
    "start_time": "2022-10-14T23:41:51.332Z"
   },
   {
    "duration": 9,
    "start_time": "2022-10-14T23:41:51.338Z"
   },
   {
    "duration": 13,
    "start_time": "2022-10-14T23:41:51.348Z"
   },
   {
    "duration": 68,
    "start_time": "2022-10-14T23:41:51.362Z"
   },
   {
    "duration": 37084,
    "start_time": "2022-10-14T23:41:51.431Z"
   },
   {
    "duration": 25,
    "start_time": "2022-10-14T23:42:28.516Z"
   },
   {
    "duration": 34451,
    "start_time": "2022-10-14T23:42:28.542Z"
   },
   {
    "duration": 7,
    "start_time": "2022-10-14T23:43:02.995Z"
   },
   {
    "duration": 1525,
    "start_time": "2022-10-14T23:43:03.003Z"
   },
   {
    "duration": 1600,
    "start_time": "2022-10-14T23:43:04.531Z"
   },
   {
    "duration": 90,
    "start_time": "2022-10-14T23:43:06.133Z"
   },
   {
    "duration": 35,
    "start_time": "2022-10-14T23:43:06.224Z"
   },
   {
    "duration": 81,
    "start_time": "2022-10-14T23:43:06.260Z"
   },
   {
    "duration": 3,
    "start_time": "2022-10-14T23:43:06.342Z"
   },
   {
    "duration": 12,
    "start_time": "2022-10-14T23:43:06.347Z"
   },
   {
    "duration": 3136,
    "start_time": "2022-10-14T23:43:06.360Z"
   },
   {
    "duration": 1147,
    "start_time": "2022-10-14T23:43:09.498Z"
   },
   {
    "duration": 4,
    "start_time": "2022-10-14T23:43:10.646Z"
   },
   {
    "duration": 1245,
    "start_time": "2022-10-14T23:49:21.235Z"
   },
   {
    "duration": 261,
    "start_time": "2022-10-14T23:49:22.482Z"
   },
   {
    "duration": 2,
    "start_time": "2022-10-14T23:49:22.745Z"
   },
   {
    "duration": 69,
    "start_time": "2022-10-14T23:49:22.749Z"
   },
   {
    "duration": 3,
    "start_time": "2022-10-14T23:49:22.819Z"
   },
   {
    "duration": 342,
    "start_time": "2022-10-14T23:49:22.823Z"
   },
   {
    "duration": 2,
    "start_time": "2022-10-14T23:49:23.167Z"
   },
   {
    "duration": 22,
    "start_time": "2022-10-14T23:49:23.171Z"
   },
   {
    "duration": 5,
    "start_time": "2022-10-14T23:49:23.195Z"
   },
   {
    "duration": 10,
    "start_time": "2022-10-14T23:49:23.202Z"
   },
   {
    "duration": 14,
    "start_time": "2022-10-14T23:49:23.213Z"
   },
   {
    "duration": 4,
    "start_time": "2022-10-14T23:49:23.228Z"
   },
   {
    "duration": 5,
    "start_time": "2022-10-14T23:49:23.233Z"
   },
   {
    "duration": 140,
    "start_time": "2022-10-14T23:49:23.239Z"
   },
   {
    "duration": 23,
    "start_time": "2022-10-14T23:49:23.381Z"
   },
   {
    "duration": 101,
    "start_time": "2022-10-14T23:49:23.405Z"
   },
   {
    "duration": 273,
    "start_time": "2022-10-14T23:49:23.508Z"
   },
   {
    "duration": 3,
    "start_time": "2022-10-14T23:49:23.783Z"
   },
   {
    "duration": 13,
    "start_time": "2022-10-14T23:49:23.788Z"
   },
   {
    "duration": 6,
    "start_time": "2022-10-14T23:49:23.802Z"
   },
   {
    "duration": 18,
    "start_time": "2022-10-14T23:49:23.809Z"
   },
   {
    "duration": 8,
    "start_time": "2022-10-14T23:49:23.828Z"
   },
   {
    "duration": 7,
    "start_time": "2022-10-14T23:49:23.837Z"
   },
   {
    "duration": 5,
    "start_time": "2022-10-14T23:49:23.846Z"
   },
   {
    "duration": 4,
    "start_time": "2022-10-14T23:49:23.853Z"
   },
   {
    "duration": 13,
    "start_time": "2022-10-14T23:49:23.858Z"
   },
   {
    "duration": 305,
    "start_time": "2022-10-14T23:49:23.872Z"
   },
   {
    "duration": 14,
    "start_time": "2022-10-14T23:49:24.180Z"
   },
   {
    "duration": 895,
    "start_time": "2022-10-14T23:49:24.196Z"
   },
   {
    "duration": 7,
    "start_time": "2022-10-14T23:49:25.093Z"
   },
   {
    "duration": 318,
    "start_time": "2022-10-14T23:49:25.101Z"
   },
   {
    "duration": 42,
    "start_time": "2022-10-14T23:49:25.422Z"
   },
   {
    "duration": 6,
    "start_time": "2022-10-14T23:49:25.466Z"
   },
   {
    "duration": 352,
    "start_time": "2022-10-14T23:49:25.474Z"
   },
   {
    "duration": 4,
    "start_time": "2022-10-14T23:49:25.828Z"
   },
   {
    "duration": 5,
    "start_time": "2022-10-14T23:49:25.834Z"
   },
   {
    "duration": 4,
    "start_time": "2022-10-14T23:49:25.841Z"
   },
   {
    "duration": 4,
    "start_time": "2022-10-14T23:49:25.847Z"
   },
   {
    "duration": 11,
    "start_time": "2022-10-14T23:49:25.852Z"
   },
   {
    "duration": 20,
    "start_time": "2022-10-14T23:49:25.865Z"
   },
   {
    "duration": 156303,
    "start_time": "2022-10-14T23:49:25.887Z"
   },
   {
    "duration": 32,
    "start_time": "2022-10-14T23:52:02.191Z"
   },
   {
    "duration": 149449,
    "start_time": "2022-10-14T23:52:02.224Z"
   },
   {
    "duration": 13,
    "start_time": "2022-10-14T23:54:31.675Z"
   },
   {
    "duration": 1632,
    "start_time": "2022-10-14T23:54:31.691Z"
   },
   {
    "duration": 1502,
    "start_time": "2022-10-14T23:54:33.325Z"
   },
   {
    "duration": 4,
    "start_time": "2022-10-14T23:54:34.829Z"
   },
   {
    "duration": 117,
    "start_time": "2022-10-14T23:54:34.835Z"
   },
   {
    "duration": 69,
    "start_time": "2022-10-14T23:54:34.953Z"
   },
   {
    "duration": 3,
    "start_time": "2022-10-14T23:54:35.024Z"
   },
   {
    "duration": 13,
    "start_time": "2022-10-14T23:54:35.029Z"
   },
   {
    "duration": 3150,
    "start_time": "2022-10-14T23:54:35.044Z"
   },
   {
    "duration": 1215,
    "start_time": "2022-10-14T23:54:38.196Z"
   },
   {
    "duration": 4,
    "start_time": "2022-10-14T23:54:39.413Z"
   },
   {
    "duration": 4,
    "start_time": "2022-10-14T23:59:49.957Z"
   },
   {
    "duration": 3,
    "start_time": "2022-10-15T00:01:02.657Z"
   },
   {
    "duration": 3,
    "start_time": "2022-10-15T00:29:20.254Z"
   },
   {
    "duration": 24,
    "start_time": "2022-10-15T00:29:25.313Z"
   },
   {
    "duration": 1278,
    "start_time": "2022-10-15T00:41:34.514Z"
   },
   {
    "duration": 265,
    "start_time": "2022-10-15T00:41:35.794Z"
   },
   {
    "duration": 2,
    "start_time": "2022-10-15T00:41:36.061Z"
   },
   {
    "duration": 70,
    "start_time": "2022-10-15T00:41:36.065Z"
   },
   {
    "duration": 2,
    "start_time": "2022-10-15T00:41:36.137Z"
   },
   {
    "duration": 332,
    "start_time": "2022-10-15T00:41:36.140Z"
   },
   {
    "duration": 2,
    "start_time": "2022-10-15T00:41:36.474Z"
   },
   {
    "duration": 15,
    "start_time": "2022-10-15T00:41:36.477Z"
   },
   {
    "duration": 6,
    "start_time": "2022-10-15T00:41:36.494Z"
   },
   {
    "duration": 23,
    "start_time": "2022-10-15T00:41:36.502Z"
   },
   {
    "duration": 6,
    "start_time": "2022-10-15T00:41:36.527Z"
   },
   {
    "duration": 4,
    "start_time": "2022-10-15T00:41:36.535Z"
   },
   {
    "duration": 5,
    "start_time": "2022-10-15T00:41:36.540Z"
   },
   {
    "duration": 138,
    "start_time": "2022-10-15T00:41:36.546Z"
   },
   {
    "duration": 23,
    "start_time": "2022-10-15T00:41:36.685Z"
   },
   {
    "duration": 103,
    "start_time": "2022-10-15T00:41:36.710Z"
   },
   {
    "duration": 278,
    "start_time": "2022-10-15T00:41:36.822Z"
   },
   {
    "duration": 4,
    "start_time": "2022-10-15T00:41:37.102Z"
   },
   {
    "duration": 21,
    "start_time": "2022-10-15T00:41:37.107Z"
   },
   {
    "duration": 6,
    "start_time": "2022-10-15T00:41:37.130Z"
   },
   {
    "duration": 10,
    "start_time": "2022-10-15T00:41:37.138Z"
   },
   {
    "duration": 9,
    "start_time": "2022-10-15T00:41:37.150Z"
   },
   {
    "duration": 13,
    "start_time": "2022-10-15T00:41:37.160Z"
   },
   {
    "duration": 7,
    "start_time": "2022-10-15T00:41:37.175Z"
   },
   {
    "duration": 5,
    "start_time": "2022-10-15T00:41:37.221Z"
   },
   {
    "duration": 15,
    "start_time": "2022-10-15T00:41:37.228Z"
   },
   {
    "duration": 256,
    "start_time": "2022-10-15T00:41:37.244Z"
   },
   {
    "duration": 25,
    "start_time": "2022-10-15T00:41:37.505Z"
   },
   {
    "duration": 945,
    "start_time": "2022-10-15T00:41:37.531Z"
   },
   {
    "duration": 7,
    "start_time": "2022-10-15T00:41:38.478Z"
   },
   {
    "duration": 325,
    "start_time": "2022-10-15T00:41:38.486Z"
   },
   {
    "duration": 49,
    "start_time": "2022-10-15T00:41:38.812Z"
   },
   {
    "duration": 8,
    "start_time": "2022-10-15T00:41:38.862Z"
   },
   {
    "duration": 403,
    "start_time": "2022-10-15T00:41:38.872Z"
   },
   {
    "duration": 3,
    "start_time": "2022-10-15T00:41:39.277Z"
   },
   {
    "duration": 7,
    "start_time": "2022-10-15T00:41:39.281Z"
   },
   {
    "duration": 6,
    "start_time": "2022-10-15T00:41:39.289Z"
   },
   {
    "duration": 5,
    "start_time": "2022-10-15T00:41:39.296Z"
   },
   {
    "duration": 20,
    "start_time": "2022-10-15T00:41:39.302Z"
   },
   {
    "duration": 23,
    "start_time": "2022-10-15T00:41:39.323Z"
   },
   {
    "duration": 156227,
    "start_time": "2022-10-15T00:41:39.348Z"
   },
   {
    "duration": 23,
    "start_time": "2022-10-15T00:44:15.577Z"
   },
   {
    "duration": 80,
    "start_time": "2022-10-15T00:44:15.602Z"
   },
   {
    "duration": 0,
    "start_time": "2022-10-15T00:44:15.684Z"
   },
   {
    "duration": 0,
    "start_time": "2022-10-15T00:44:15.685Z"
   },
   {
    "duration": 0,
    "start_time": "2022-10-15T00:44:15.686Z"
   },
   {
    "duration": 0,
    "start_time": "2022-10-15T00:44:15.687Z"
   },
   {
    "duration": 0,
    "start_time": "2022-10-15T00:44:15.689Z"
   },
   {
    "duration": 0,
    "start_time": "2022-10-15T00:44:15.690Z"
   },
   {
    "duration": 0,
    "start_time": "2022-10-15T00:44:15.691Z"
   },
   {
    "duration": 0,
    "start_time": "2022-10-15T00:44:15.692Z"
   },
   {
    "duration": 0,
    "start_time": "2022-10-15T00:44:15.694Z"
   },
   {
    "duration": 369153,
    "start_time": "2022-10-15T00:45:12.426Z"
   },
   {
    "duration": 119,
    "start_time": "2022-10-15T00:57:03.938Z"
   },
   {
    "duration": 20,
    "start_time": "2022-10-15T00:57:30.744Z"
   },
   {
    "duration": 27,
    "start_time": "2022-10-15T00:57:50.374Z"
   },
   {
    "duration": 25,
    "start_time": "2022-10-15T00:57:54.092Z"
   },
   {
    "duration": 5927,
    "start_time": "2022-10-15T00:59:39.908Z"
   },
   {
    "duration": 16,
    "start_time": "2022-10-15T01:01:04.175Z"
   },
   {
    "duration": 1262,
    "start_time": "2022-10-15T01:01:32.289Z"
   },
   {
    "duration": 262,
    "start_time": "2022-10-15T01:01:33.552Z"
   },
   {
    "duration": 3,
    "start_time": "2022-10-15T01:01:33.815Z"
   },
   {
    "duration": 73,
    "start_time": "2022-10-15T01:01:33.822Z"
   },
   {
    "duration": 3,
    "start_time": "2022-10-15T01:01:33.896Z"
   },
   {
    "duration": 353,
    "start_time": "2022-10-15T01:01:33.901Z"
   },
   {
    "duration": 2,
    "start_time": "2022-10-15T01:01:34.256Z"
   },
   {
    "duration": 14,
    "start_time": "2022-10-15T01:01:34.260Z"
   },
   {
    "duration": 7,
    "start_time": "2022-10-15T01:01:34.275Z"
   },
   {
    "duration": 11,
    "start_time": "2022-10-15T01:01:34.285Z"
   },
   {
    "duration": 41,
    "start_time": "2022-10-15T01:01:34.298Z"
   },
   {
    "duration": 5,
    "start_time": "2022-10-15T01:01:34.341Z"
   },
   {
    "duration": 9,
    "start_time": "2022-10-15T01:01:34.347Z"
   },
   {
    "duration": 132,
    "start_time": "2022-10-15T01:01:34.357Z"
   },
   {
    "duration": 33,
    "start_time": "2022-10-15T01:01:34.491Z"
   },
   {
    "duration": 130,
    "start_time": "2022-10-15T01:01:34.525Z"
   },
   {
    "duration": 254,
    "start_time": "2022-10-15T01:01:34.656Z"
   },
   {
    "duration": 4,
    "start_time": "2022-10-15T01:01:34.921Z"
   },
   {
    "duration": 14,
    "start_time": "2022-10-15T01:01:34.926Z"
   },
   {
    "duration": 7,
    "start_time": "2022-10-15T01:01:34.941Z"
   },
   {
    "duration": 11,
    "start_time": "2022-10-15T01:01:34.950Z"
   },
   {
    "duration": 11,
    "start_time": "2022-10-15T01:01:34.962Z"
   },
   {
    "duration": 12,
    "start_time": "2022-10-15T01:01:34.974Z"
   },
   {
    "duration": 34,
    "start_time": "2022-10-15T01:01:34.988Z"
   },
   {
    "duration": 5,
    "start_time": "2022-10-15T01:01:35.023Z"
   },
   {
    "duration": 18,
    "start_time": "2022-10-15T01:01:35.030Z"
   },
   {
    "duration": 269,
    "start_time": "2022-10-15T01:01:35.049Z"
   },
   {
    "duration": 15,
    "start_time": "2022-10-15T01:01:35.324Z"
   },
   {
    "duration": 933,
    "start_time": "2022-10-15T01:01:35.340Z"
   },
   {
    "duration": 7,
    "start_time": "2022-10-15T01:01:36.274Z"
   },
   {
    "duration": 310,
    "start_time": "2022-10-15T01:01:36.282Z"
   },
   {
    "duration": 48,
    "start_time": "2022-10-15T01:01:36.593Z"
   },
   {
    "duration": 7,
    "start_time": "2022-10-15T01:01:36.642Z"
   },
   {
    "duration": 340,
    "start_time": "2022-10-15T01:01:36.650Z"
   },
   {
    "duration": 3,
    "start_time": "2022-10-15T01:01:36.992Z"
   },
   {
    "duration": 14,
    "start_time": "2022-10-15T01:01:36.998Z"
   },
   {
    "duration": 8,
    "start_time": "2022-10-15T01:01:37.014Z"
   },
   {
    "duration": 4,
    "start_time": "2022-10-15T01:01:37.023Z"
   },
   {
    "duration": 11,
    "start_time": "2022-10-15T01:01:37.029Z"
   },
   {
    "duration": 29,
    "start_time": "2022-10-15T01:01:37.042Z"
   },
   {
    "duration": 98744,
    "start_time": "2022-10-15T01:01:37.073Z"
   },
   {
    "duration": 94327,
    "start_time": "2022-10-15T01:03:15.823Z"
   },
   {
    "duration": 9,
    "start_time": "2022-10-15T01:04:50.152Z"
   },
   {
    "duration": 1863,
    "start_time": "2022-10-15T01:04:50.162Z"
   },
   {
    "duration": 2595,
    "start_time": "2022-10-15T01:04:52.028Z"
   },
   {
    "duration": 9,
    "start_time": "2022-10-15T01:04:54.627Z"
   },
   {
    "duration": 43,
    "start_time": "2022-10-15T01:04:54.723Z"
   },
   {
    "duration": 56,
    "start_time": "2022-10-15T01:04:54.768Z"
   },
   {
    "duration": 4,
    "start_time": "2022-10-15T01:04:54.826Z"
   },
   {
    "duration": 28,
    "start_time": "2022-10-15T01:04:54.832Z"
   },
   {
    "duration": 5340,
    "start_time": "2022-10-15T01:04:54.862Z"
   },
   {
    "duration": 1234,
    "start_time": "2022-10-15T01:06:52.860Z"
   },
   {
    "duration": 264,
    "start_time": "2022-10-15T01:06:54.096Z"
   },
   {
    "duration": 3,
    "start_time": "2022-10-15T01:06:54.361Z"
   },
   {
    "duration": 70,
    "start_time": "2022-10-15T01:06:54.366Z"
   },
   {
    "duration": 3,
    "start_time": "2022-10-15T01:06:54.437Z"
   },
   {
    "duration": 330,
    "start_time": "2022-10-15T01:06:54.442Z"
   },
   {
    "duration": 3,
    "start_time": "2022-10-15T01:06:54.774Z"
   },
   {
    "duration": 14,
    "start_time": "2022-10-15T01:06:54.778Z"
   },
   {
    "duration": 6,
    "start_time": "2022-10-15T01:06:54.794Z"
   },
   {
    "duration": 25,
    "start_time": "2022-10-15T01:06:54.802Z"
   },
   {
    "duration": 22,
    "start_time": "2022-10-15T01:06:54.828Z"
   },
   {
    "duration": 5,
    "start_time": "2022-10-15T01:06:54.851Z"
   },
   {
    "duration": 5,
    "start_time": "2022-10-15T01:06:54.857Z"
   },
   {
    "duration": 148,
    "start_time": "2022-10-15T01:06:54.863Z"
   },
   {
    "duration": 28,
    "start_time": "2022-10-15T01:06:55.013Z"
   },
   {
    "duration": 128,
    "start_time": "2022-10-15T01:06:55.042Z"
   },
   {
    "duration": 258,
    "start_time": "2022-10-15T01:06:55.171Z"
   },
   {
    "duration": 3,
    "start_time": "2022-10-15T01:06:55.431Z"
   },
   {
    "duration": 14,
    "start_time": "2022-10-15T01:06:55.436Z"
   },
   {
    "duration": 7,
    "start_time": "2022-10-15T01:06:55.452Z"
   },
   {
    "duration": 9,
    "start_time": "2022-10-15T01:06:55.460Z"
   },
   {
    "duration": 9,
    "start_time": "2022-10-15T01:06:55.470Z"
   },
   {
    "duration": 42,
    "start_time": "2022-10-15T01:06:55.480Z"
   },
   {
    "duration": 5,
    "start_time": "2022-10-15T01:06:55.524Z"
   },
   {
    "duration": 7,
    "start_time": "2022-10-15T01:06:55.531Z"
   },
   {
    "duration": 16,
    "start_time": "2022-10-15T01:06:55.540Z"
   },
   {
    "duration": 265,
    "start_time": "2022-10-15T01:06:55.558Z"
   },
   {
    "duration": 13,
    "start_time": "2022-10-15T01:06:55.826Z"
   },
   {
    "duration": 940,
    "start_time": "2022-10-15T01:06:55.841Z"
   },
   {
    "duration": 6,
    "start_time": "2022-10-15T01:06:56.782Z"
   },
   {
    "duration": 319,
    "start_time": "2022-10-15T01:06:56.789Z"
   },
   {
    "duration": 42,
    "start_time": "2022-10-15T01:06:57.110Z"
   },
   {
    "duration": 7,
    "start_time": "2022-10-15T01:06:57.154Z"
   },
   {
    "duration": 345,
    "start_time": "2022-10-15T01:06:57.163Z"
   },
   {
    "duration": 4,
    "start_time": "2022-10-15T01:06:57.510Z"
   },
   {
    "duration": 4,
    "start_time": "2022-10-15T01:06:57.521Z"
   },
   {
    "duration": 5,
    "start_time": "2022-10-15T01:06:57.526Z"
   },
   {
    "duration": 9,
    "start_time": "2022-10-15T01:06:57.533Z"
   },
   {
    "duration": 11,
    "start_time": "2022-10-15T01:06:57.544Z"
   },
   {
    "duration": 30,
    "start_time": "2022-10-15T01:06:57.557Z"
   },
   {
    "duration": 100313,
    "start_time": "2022-10-15T01:06:57.589Z"
   },
   {
    "duration": 97555,
    "start_time": "2022-10-15T01:08:37.904Z"
   },
   {
    "duration": 8,
    "start_time": "2022-10-15T01:10:15.461Z"
   },
   {
    "duration": 1955,
    "start_time": "2022-10-15T01:10:15.471Z"
   },
   {
    "duration": 1705,
    "start_time": "2022-10-15T01:10:17.428Z"
   },
   {
    "duration": 5,
    "start_time": "2022-10-15T01:10:19.136Z"
   },
   {
    "duration": 118,
    "start_time": "2022-10-15T01:10:19.142Z"
   },
   {
    "duration": 32,
    "start_time": "2022-10-15T01:10:19.262Z"
   },
   {
    "duration": 3,
    "start_time": "2022-10-15T01:10:19.296Z"
   },
   {
    "duration": 16,
    "start_time": "2022-10-15T01:10:19.322Z"
   },
   {
    "duration": 5201,
    "start_time": "2022-10-15T01:10:19.340Z"
   },
   {
    "duration": 4,
    "start_time": "2022-10-15T01:15:07.521Z"
   },
   {
    "duration": 17,
    "start_time": "2022-10-15T01:15:50.285Z"
   },
   {
    "duration": 4388,
    "start_time": "2022-10-15T01:15:50.795Z"
   },
   {
    "duration": 4,
    "start_time": "2022-10-15T01:23:57.809Z"
   },
   {
    "duration": 23,
    "start_time": "2022-10-15T01:25:30.783Z"
   },
   {
    "duration": 5,
    "start_time": "2022-10-15T01:25:31.373Z"
   },
   {
    "duration": 28,
    "start_time": "2022-10-15T01:26:25.805Z"
   },
   {
    "duration": 4,
    "start_time": "2022-10-15T01:26:26.502Z"
   },
   {
    "duration": 4509,
    "start_time": "2022-10-15T01:26:31.586Z"
   },
   {
    "duration": 34,
    "start_time": "2022-10-15T01:27:32.022Z"
   },
   {
    "duration": 4,
    "start_time": "2022-10-15T01:27:32.864Z"
   },
   {
    "duration": 26,
    "start_time": "2022-10-15T01:29:18.599Z"
   },
   {
    "duration": 4,
    "start_time": "2022-10-15T01:29:19.992Z"
   },
   {
    "duration": 16,
    "start_time": "2022-10-15T01:29:36.381Z"
   },
   {
    "duration": 4,
    "start_time": "2022-10-15T01:29:36.608Z"
   },
   {
    "duration": 15,
    "start_time": "2022-10-15T01:30:18.550Z"
   },
   {
    "duration": 4,
    "start_time": "2022-10-15T01:30:18.748Z"
   },
   {
    "duration": 6457,
    "start_time": "2022-10-15T01:30:18.920Z"
   },
   {
    "duration": 1671,
    "start_time": "2022-10-15T14:16:09.625Z"
   },
   {
    "duration": 1206,
    "start_time": "2022-10-15T14:16:11.298Z"
   },
   {
    "duration": 2,
    "start_time": "2022-10-15T14:16:12.506Z"
   },
   {
    "duration": 407,
    "start_time": "2022-10-15T14:16:12.510Z"
   },
   {
    "duration": 3,
    "start_time": "2022-10-15T14:16:12.919Z"
   },
   {
    "duration": 1743,
    "start_time": "2022-10-15T14:16:12.923Z"
   },
   {
    "duration": 2,
    "start_time": "2022-10-15T14:16:14.668Z"
   },
   {
    "duration": 14,
    "start_time": "2022-10-15T14:16:14.672Z"
   },
   {
    "duration": 7,
    "start_time": "2022-10-15T14:16:14.688Z"
   },
   {
    "duration": 8,
    "start_time": "2022-10-15T14:16:14.698Z"
   },
   {
    "duration": 23,
    "start_time": "2022-10-15T14:16:14.708Z"
   },
   {
    "duration": 4,
    "start_time": "2022-10-15T14:16:14.732Z"
   },
   {
    "duration": 6,
    "start_time": "2022-10-15T14:16:14.737Z"
   },
   {
    "duration": 144,
    "start_time": "2022-10-15T14:16:14.744Z"
   },
   {
    "duration": 25,
    "start_time": "2022-10-15T14:16:14.890Z"
   },
   {
    "duration": 137,
    "start_time": "2022-10-15T14:16:14.917Z"
   },
   {
    "duration": 281,
    "start_time": "2022-10-15T14:16:15.056Z"
   },
   {
    "duration": 4,
    "start_time": "2022-10-15T14:16:15.338Z"
   },
   {
    "duration": 18,
    "start_time": "2022-10-15T14:16:15.343Z"
   },
   {
    "duration": 7,
    "start_time": "2022-10-15T14:16:15.362Z"
   },
   {
    "duration": 24,
    "start_time": "2022-10-15T14:16:15.371Z"
   },
   {
    "duration": 10,
    "start_time": "2022-10-15T14:16:15.397Z"
   },
   {
    "duration": 17,
    "start_time": "2022-10-15T14:16:15.409Z"
   },
   {
    "duration": 6,
    "start_time": "2022-10-15T14:16:15.427Z"
   },
   {
    "duration": 8,
    "start_time": "2022-10-15T14:16:15.435Z"
   },
   {
    "duration": 17,
    "start_time": "2022-10-15T14:16:15.444Z"
   },
   {
    "duration": 274,
    "start_time": "2022-10-15T14:16:15.463Z"
   },
   {
    "duration": 14,
    "start_time": "2022-10-15T14:16:15.741Z"
   },
   {
    "duration": 1019,
    "start_time": "2022-10-15T14:16:15.757Z"
   },
   {
    "duration": 7,
    "start_time": "2022-10-15T14:16:16.779Z"
   },
   {
    "duration": 361,
    "start_time": "2022-10-15T14:16:16.789Z"
   },
   {
    "duration": 59,
    "start_time": "2022-10-15T14:16:17.152Z"
   },
   {
    "duration": 8,
    "start_time": "2022-10-15T14:16:17.213Z"
   },
   {
    "duration": 360,
    "start_time": "2022-10-15T14:16:17.222Z"
   },
   {
    "duration": 11,
    "start_time": "2022-10-15T14:16:17.584Z"
   },
   {
    "duration": 8,
    "start_time": "2022-10-15T14:16:17.596Z"
   },
   {
    "duration": 5,
    "start_time": "2022-10-15T14:16:17.605Z"
   },
   {
    "duration": 7,
    "start_time": "2022-10-15T14:16:17.611Z"
   },
   {
    "duration": 9,
    "start_time": "2022-10-15T14:16:17.619Z"
   },
   {
    "duration": 26,
    "start_time": "2022-10-15T14:16:17.629Z"
   },
   {
    "duration": 122,
    "start_time": "2022-10-15T14:16:17.656Z"
   },
   {
    "duration": 0,
    "start_time": "2022-10-15T14:16:17.780Z"
   },
   {
    "duration": 0,
    "start_time": "2022-10-15T14:16:17.781Z"
   },
   {
    "duration": 0,
    "start_time": "2022-10-15T14:16:17.782Z"
   },
   {
    "duration": 0,
    "start_time": "2022-10-15T14:16:17.796Z"
   },
   {
    "duration": 0,
    "start_time": "2022-10-15T14:16:17.797Z"
   },
   {
    "duration": 0,
    "start_time": "2022-10-15T14:16:17.798Z"
   },
   {
    "duration": 0,
    "start_time": "2022-10-15T14:16:17.799Z"
   },
   {
    "duration": 0,
    "start_time": "2022-10-15T14:16:17.800Z"
   },
   {
    "duration": 0,
    "start_time": "2022-10-15T14:16:17.802Z"
   },
   {
    "duration": 0,
    "start_time": "2022-10-15T14:16:17.803Z"
   },
   {
    "duration": 10,
    "start_time": "2022-10-15T14:16:53.100Z"
   },
   {
    "duration": 1614,
    "start_time": "2022-10-15T14:17:06.882Z"
   },
   {
    "duration": 1311,
    "start_time": "2022-10-15T14:17:09.384Z"
   },
   {
    "duration": 3,
    "start_time": "2022-10-15T14:17:12.393Z"
   },
   {
    "duration": 43,
    "start_time": "2022-10-15T14:17:13.340Z"
   },
   {
    "duration": 38,
    "start_time": "2022-10-15T14:17:13.530Z"
   },
   {
    "duration": 4,
    "start_time": "2022-10-15T14:17:13.717Z"
   },
   {
    "duration": 8,
    "start_time": "2022-10-15T14:17:21.344Z"
   },
   {
    "duration": 4998,
    "start_time": "2022-10-15T14:17:22.200Z"
   },
   {
    "duration": 1349,
    "start_time": "2022-10-15T14:19:58.917Z"
   },
   {
    "duration": 276,
    "start_time": "2022-10-15T14:20:00.268Z"
   },
   {
    "duration": 2,
    "start_time": "2022-10-15T14:20:00.546Z"
   },
   {
    "duration": 82,
    "start_time": "2022-10-15T14:20:00.550Z"
   },
   {
    "duration": 2,
    "start_time": "2022-10-15T14:20:00.634Z"
   },
   {
    "duration": 349,
    "start_time": "2022-10-15T14:20:00.637Z"
   },
   {
    "duration": 3,
    "start_time": "2022-10-15T14:20:00.987Z"
   },
   {
    "duration": 12,
    "start_time": "2022-10-15T14:20:00.996Z"
   },
   {
    "duration": 15,
    "start_time": "2022-10-15T14:20:01.010Z"
   },
   {
    "duration": 21,
    "start_time": "2022-10-15T14:20:01.027Z"
   },
   {
    "duration": 35,
    "start_time": "2022-10-15T14:20:01.050Z"
   },
   {
    "duration": 4,
    "start_time": "2022-10-15T14:20:01.086Z"
   },
   {
    "duration": 19,
    "start_time": "2022-10-15T14:20:01.091Z"
   },
   {
    "duration": 144,
    "start_time": "2022-10-15T14:20:01.112Z"
   },
   {
    "duration": 23,
    "start_time": "2022-10-15T14:20:01.257Z"
   },
   {
    "duration": 133,
    "start_time": "2022-10-15T14:20:01.282Z"
   },
   {
    "duration": 281,
    "start_time": "2022-10-15T14:20:01.417Z"
   },
   {
    "duration": 3,
    "start_time": "2022-10-15T14:20:01.700Z"
   },
   {
    "duration": 26,
    "start_time": "2022-10-15T14:20:01.705Z"
   },
   {
    "duration": 9,
    "start_time": "2022-10-15T14:20:01.733Z"
   },
   {
    "duration": 8,
    "start_time": "2022-10-15T14:20:01.743Z"
   },
   {
    "duration": 9,
    "start_time": "2022-10-15T14:20:01.753Z"
   },
   {
    "duration": 14,
    "start_time": "2022-10-15T14:20:01.764Z"
   },
   {
    "duration": 6,
    "start_time": "2022-10-15T14:20:01.795Z"
   },
   {
    "duration": 9,
    "start_time": "2022-10-15T14:20:01.803Z"
   },
   {
    "duration": 52,
    "start_time": "2022-10-15T14:20:01.813Z"
   },
   {
    "duration": 248,
    "start_time": "2022-10-15T14:20:01.866Z"
   },
   {
    "duration": 15,
    "start_time": "2022-10-15T14:20:02.117Z"
   },
   {
    "duration": 1028,
    "start_time": "2022-10-15T14:20:02.133Z"
   },
   {
    "duration": 7,
    "start_time": "2022-10-15T14:20:03.162Z"
   },
   {
    "duration": 348,
    "start_time": "2022-10-15T14:20:03.171Z"
   },
   {
    "duration": 43,
    "start_time": "2022-10-15T14:20:03.520Z"
   },
   {
    "duration": 7,
    "start_time": "2022-10-15T14:20:03.565Z"
   },
   {
    "duration": 355,
    "start_time": "2022-10-15T14:20:03.574Z"
   },
   {
    "duration": 3,
    "start_time": "2022-10-15T14:20:03.931Z"
   },
   {
    "duration": 6,
    "start_time": "2022-10-15T14:20:03.936Z"
   },
   {
    "duration": 6,
    "start_time": "2022-10-15T14:20:03.943Z"
   },
   {
    "duration": 7,
    "start_time": "2022-10-15T14:20:03.950Z"
   },
   {
    "duration": 9,
    "start_time": "2022-10-15T14:20:03.959Z"
   },
   {
    "duration": 41,
    "start_time": "2022-10-15T14:20:03.970Z"
   },
   {
    "duration": 96611,
    "start_time": "2022-10-15T14:20:04.013Z"
   },
   {
    "duration": 91400,
    "start_time": "2022-10-15T14:21:40.626Z"
   },
   {
    "duration": 3,
    "start_time": "2022-10-15T14:23:12.028Z"
   },
   {
    "duration": 1265,
    "start_time": "2022-10-15T14:23:12.032Z"
   },
   {
    "duration": 1705,
    "start_time": "2022-10-15T14:23:13.298Z"
   },
   {
    "duration": 4,
    "start_time": "2022-10-15T14:23:15.005Z"
   },
   {
    "duration": 108,
    "start_time": "2022-10-15T14:23:15.095Z"
   },
   {
    "duration": 37,
    "start_time": "2022-10-15T14:23:15.205Z"
   },
   {
    "duration": 4,
    "start_time": "2022-10-15T14:23:15.244Z"
   },
   {
    "duration": 4882,
    "start_time": "2022-10-15T14:23:15.250Z"
   },
   {
    "duration": 21,
    "start_time": "2022-10-15T14:23:20.133Z"
   },
   {
    "duration": 5994,
    "start_time": "2022-10-15T14:23:20.155Z"
   },
   {
    "duration": 1581,
    "start_time": "2022-10-19T04:29:50.944Z"
   },
   {
    "duration": 808,
    "start_time": "2022-10-19T04:29:52.527Z"
   },
   {
    "duration": 2,
    "start_time": "2022-10-19T04:29:53.337Z"
   },
   {
    "duration": 146,
    "start_time": "2022-10-19T04:29:53.341Z"
   },
   {
    "duration": 2,
    "start_time": "2022-10-19T04:29:53.489Z"
   },
   {
    "duration": 533,
    "start_time": "2022-10-19T04:29:53.492Z"
   },
   {
    "duration": 2,
    "start_time": "2022-10-19T04:29:54.026Z"
   },
   {
    "duration": 19,
    "start_time": "2022-10-19T04:29:54.030Z"
   },
   {
    "duration": 6,
    "start_time": "2022-10-19T04:29:54.050Z"
   },
   {
    "duration": 10,
    "start_time": "2022-10-19T04:29:54.059Z"
   },
   {
    "duration": 39,
    "start_time": "2022-10-19T04:29:54.070Z"
   },
   {
    "duration": 4,
    "start_time": "2022-10-19T04:29:54.110Z"
   },
   {
    "duration": 10,
    "start_time": "2022-10-19T04:29:54.115Z"
   },
   {
    "duration": 158,
    "start_time": "2022-10-19T04:29:54.127Z"
   },
   {
    "duration": 29,
    "start_time": "2022-10-19T04:29:54.286Z"
   },
   {
    "duration": 157,
    "start_time": "2022-10-19T04:29:54.317Z"
   },
   {
    "duration": 272,
    "start_time": "2022-10-19T04:29:54.476Z"
   },
   {
    "duration": 3,
    "start_time": "2022-10-19T04:29:54.750Z"
   },
   {
    "duration": 15,
    "start_time": "2022-10-19T04:29:54.755Z"
   },
   {
    "duration": 6,
    "start_time": "2022-10-19T04:29:54.771Z"
   },
   {
    "duration": 11,
    "start_time": "2022-10-19T04:29:54.778Z"
   },
   {
    "duration": 10,
    "start_time": "2022-10-19T04:29:54.808Z"
   },
   {
    "duration": 12,
    "start_time": "2022-10-19T04:29:54.819Z"
   },
   {
    "duration": 5,
    "start_time": "2022-10-19T04:29:54.833Z"
   },
   {
    "duration": 11,
    "start_time": "2022-10-19T04:29:54.839Z"
   },
   {
    "duration": 14,
    "start_time": "2022-10-19T04:29:54.852Z"
   },
   {
    "duration": 279,
    "start_time": "2022-10-19T04:29:54.867Z"
   },
   {
    "duration": 15,
    "start_time": "2022-10-19T04:29:55.150Z"
   },
   {
    "duration": 926,
    "start_time": "2022-10-19T04:29:55.166Z"
   },
   {
    "duration": 5,
    "start_time": "2022-10-19T04:29:56.094Z"
   },
   {
    "duration": 337,
    "start_time": "2022-10-19T04:29:56.100Z"
   },
   {
    "duration": 43,
    "start_time": "2022-10-19T04:29:56.439Z"
   },
   {
    "duration": 7,
    "start_time": "2022-10-19T04:29:56.484Z"
   },
   {
    "duration": 344,
    "start_time": "2022-10-19T04:29:56.509Z"
   },
   {
    "duration": 3,
    "start_time": "2022-10-19T04:29:56.855Z"
   },
   {
    "duration": 11,
    "start_time": "2022-10-19T04:29:56.859Z"
   },
   {
    "duration": 12,
    "start_time": "2022-10-19T04:29:56.872Z"
   },
   {
    "duration": 6,
    "start_time": "2022-10-19T04:29:56.885Z"
   },
   {
    "duration": 10,
    "start_time": "2022-10-19T04:29:56.892Z"
   },
   {
    "duration": 144,
    "start_time": "2022-10-19T04:29:56.903Z"
   },
   {
    "duration": 0,
    "start_time": "2022-10-19T04:29:57.048Z"
   },
   {
    "duration": 0,
    "start_time": "2022-10-19T04:29:57.049Z"
   },
   {
    "duration": 0,
    "start_time": "2022-10-19T04:29:57.050Z"
   },
   {
    "duration": 0,
    "start_time": "2022-10-19T04:29:57.051Z"
   },
   {
    "duration": 0,
    "start_time": "2022-10-19T04:29:57.053Z"
   },
   {
    "duration": 0,
    "start_time": "2022-10-19T04:29:57.054Z"
   },
   {
    "duration": 0,
    "start_time": "2022-10-19T04:29:57.055Z"
   },
   {
    "duration": 0,
    "start_time": "2022-10-19T04:29:57.056Z"
   },
   {
    "duration": 0,
    "start_time": "2022-10-19T04:29:57.057Z"
   },
   {
    "duration": 0,
    "start_time": "2022-10-19T04:29:57.058Z"
   },
   {
    "duration": 0,
    "start_time": "2022-10-19T04:29:57.060Z"
   },
   {
    "duration": 12,
    "start_time": "2022-10-19T04:39:29.889Z"
   },
   {
    "duration": 9,
    "start_time": "2022-10-19T04:41:42.530Z"
   },
   {
    "duration": 9,
    "start_time": "2022-10-19T04:42:00.606Z"
   },
   {
    "duration": 14,
    "start_time": "2022-10-19T04:42:06.461Z"
   },
   {
    "duration": 10,
    "start_time": "2022-10-19T04:42:37.470Z"
   },
   {
    "duration": 12,
    "start_time": "2022-10-19T04:42:48.880Z"
   },
   {
    "duration": 4,
    "start_time": "2022-10-19T04:45:06.662Z"
   },
   {
    "duration": 12,
    "start_time": "2022-10-19T04:45:10.966Z"
   },
   {
    "duration": 1326,
    "start_time": "2022-10-19T04:45:19.418Z"
   },
   {
    "duration": 252,
    "start_time": "2022-10-19T04:45:20.746Z"
   },
   {
    "duration": 3,
    "start_time": "2022-10-19T04:45:21.000Z"
   },
   {
    "duration": 68,
    "start_time": "2022-10-19T04:45:21.009Z"
   },
   {
    "duration": 2,
    "start_time": "2022-10-19T04:45:21.079Z"
   },
   {
    "duration": 332,
    "start_time": "2022-10-19T04:45:21.083Z"
   },
   {
    "duration": 3,
    "start_time": "2022-10-19T04:45:21.417Z"
   },
   {
    "duration": 15,
    "start_time": "2022-10-19T04:45:21.421Z"
   },
   {
    "duration": 8,
    "start_time": "2022-10-19T04:45:21.437Z"
   },
   {
    "duration": 10,
    "start_time": "2022-10-19T04:45:21.448Z"
   },
   {
    "duration": 17,
    "start_time": "2022-10-19T04:45:21.460Z"
   },
   {
    "duration": 5,
    "start_time": "2022-10-19T04:45:21.510Z"
   },
   {
    "duration": 7,
    "start_time": "2022-10-19T04:45:21.516Z"
   },
   {
    "duration": 147,
    "start_time": "2022-10-19T04:45:21.524Z"
   },
   {
    "duration": 23,
    "start_time": "2022-10-19T04:45:21.673Z"
   },
   {
    "duration": 146,
    "start_time": "2022-10-19T04:45:21.698Z"
   },
   {
    "duration": 244,
    "start_time": "2022-10-19T04:45:21.846Z"
   },
   {
    "duration": 4,
    "start_time": "2022-10-19T04:45:22.091Z"
   },
   {
    "duration": 24,
    "start_time": "2022-10-19T04:45:22.096Z"
   },
   {
    "duration": 6,
    "start_time": "2022-10-19T04:45:22.121Z"
   },
   {
    "duration": 10,
    "start_time": "2022-10-19T04:45:22.129Z"
   },
   {
    "duration": 9,
    "start_time": "2022-10-19T04:45:22.141Z"
   },
   {
    "duration": 11,
    "start_time": "2022-10-19T04:45:22.152Z"
   },
   {
    "duration": 8,
    "start_time": "2022-10-19T04:45:22.165Z"
   },
   {
    "duration": 35,
    "start_time": "2022-10-19T04:45:22.174Z"
   },
   {
    "duration": 15,
    "start_time": "2022-10-19T04:45:22.210Z"
   },
   {
    "duration": 394,
    "start_time": "2022-10-19T04:45:22.227Z"
   },
   {
    "duration": 18,
    "start_time": "2022-10-19T04:45:22.625Z"
   },
   {
    "duration": 1663,
    "start_time": "2022-10-19T04:45:22.645Z"
   },
   {
    "duration": 5,
    "start_time": "2022-10-19T04:45:24.310Z"
   },
   {
    "duration": 350,
    "start_time": "2022-10-19T04:45:24.317Z"
   },
   {
    "duration": 42,
    "start_time": "2022-10-19T04:45:24.668Z"
   },
   {
    "duration": 8,
    "start_time": "2022-10-19T04:45:24.712Z"
   },
   {
    "duration": 345,
    "start_time": "2022-10-19T04:45:24.722Z"
   },
   {
    "duration": 4,
    "start_time": "2022-10-19T04:45:25.068Z"
   },
   {
    "duration": 6,
    "start_time": "2022-10-19T04:45:25.073Z"
   },
   {
    "duration": 5,
    "start_time": "2022-10-19T04:45:25.080Z"
   },
   {
    "duration": 4,
    "start_time": "2022-10-19T04:45:25.087Z"
   },
   {
    "duration": 7,
    "start_time": "2022-10-19T04:45:25.108Z"
   },
   {
    "duration": 126,
    "start_time": "2022-10-19T04:45:25.116Z"
   },
   {
    "duration": 0,
    "start_time": "2022-10-19T04:45:25.244Z"
   },
   {
    "duration": 0,
    "start_time": "2022-10-19T04:45:25.245Z"
   },
   {
    "duration": 0,
    "start_time": "2022-10-19T04:45:25.247Z"
   },
   {
    "duration": 0,
    "start_time": "2022-10-19T04:45:25.248Z"
   },
   {
    "duration": 0,
    "start_time": "2022-10-19T04:45:25.249Z"
   },
   {
    "duration": 0,
    "start_time": "2022-10-19T04:45:25.250Z"
   },
   {
    "duration": 0,
    "start_time": "2022-10-19T04:45:25.252Z"
   },
   {
    "duration": 0,
    "start_time": "2022-10-19T04:45:25.253Z"
   },
   {
    "duration": 0,
    "start_time": "2022-10-19T04:45:25.254Z"
   },
   {
    "duration": 0,
    "start_time": "2022-10-19T04:45:25.255Z"
   },
   {
    "duration": 0,
    "start_time": "2022-10-19T04:45:25.256Z"
   },
   {
    "duration": 10922,
    "start_time": "2022-10-19T04:45:36.346Z"
   },
   {
    "duration": 4482,
    "start_time": "2022-10-19T04:46:43.993Z"
   },
   {
    "duration": 7,
    "start_time": "2022-10-19T04:47:24.403Z"
   },
   {
    "duration": 4415,
    "start_time": "2022-10-19T04:47:24.728Z"
   },
   {
    "duration": 5541,
    "start_time": "2022-10-19T04:47:47.628Z"
   },
   {
    "duration": 4491,
    "start_time": "2022-10-19T04:48:13.810Z"
   },
   {
    "duration": 4426,
    "start_time": "2022-10-19T04:48:35.471Z"
   },
   {
    "duration": 4453,
    "start_time": "2022-10-19T04:49:15.822Z"
   },
   {
    "duration": 5812,
    "start_time": "2022-10-19T04:49:53.307Z"
   },
   {
    "duration": 11182,
    "start_time": "2022-10-19T05:06:54.225Z"
   },
   {
    "duration": 0,
    "start_time": "2022-10-19T05:07:05.409Z"
   },
   {
    "duration": 5581,
    "start_time": "2022-10-19T05:07:17.072Z"
   },
   {
    "duration": 5744,
    "start_time": "2022-10-19T05:07:22.655Z"
   },
   {
    "duration": 5668,
    "start_time": "2022-10-19T05:09:15.509Z"
   },
   {
    "duration": 10,
    "start_time": "2022-10-19T05:22:24.947Z"
   },
   {
    "duration": 13,
    "start_time": "2022-10-19T05:22:32.383Z"
   },
   {
    "duration": 12,
    "start_time": "2022-10-19T05:22:43.294Z"
   },
   {
    "duration": 1298,
    "start_time": "2022-10-19T05:22:54.487Z"
   },
   {
    "duration": 256,
    "start_time": "2022-10-19T05:22:55.787Z"
   },
   {
    "duration": 3,
    "start_time": "2022-10-19T05:22:56.044Z"
   },
   {
    "duration": 104,
    "start_time": "2022-10-19T05:22:56.048Z"
   },
   {
    "duration": 56,
    "start_time": "2022-10-19T05:22:56.153Z"
   },
   {
    "duration": 639,
    "start_time": "2022-10-19T05:22:56.211Z"
   },
   {
    "duration": 57,
    "start_time": "2022-10-19T05:22:56.852Z"
   },
   {
    "duration": 16,
    "start_time": "2022-10-19T05:22:56.911Z"
   },
   {
    "duration": 7,
    "start_time": "2022-10-19T05:22:56.929Z"
   },
   {
    "duration": 10,
    "start_time": "2022-10-19T05:22:56.938Z"
   },
   {
    "duration": 67,
    "start_time": "2022-10-19T05:22:56.950Z"
   },
   {
    "duration": 4,
    "start_time": "2022-10-19T05:22:57.019Z"
   },
   {
    "duration": 7,
    "start_time": "2022-10-19T05:22:57.024Z"
   },
   {
    "duration": 297,
    "start_time": "2022-10-19T05:22:57.032Z"
   },
   {
    "duration": 80,
    "start_time": "2022-10-19T05:22:57.330Z"
   },
   {
    "duration": 232,
    "start_time": "2022-10-19T05:22:57.411Z"
   },
   {
    "duration": 356,
    "start_time": "2022-10-19T05:22:57.645Z"
   },
   {
    "duration": 7,
    "start_time": "2022-10-19T05:22:58.002Z"
   },
   {
    "duration": 16,
    "start_time": "2022-10-19T05:22:58.011Z"
   },
   {
    "duration": 6,
    "start_time": "2022-10-19T05:22:58.028Z"
   },
   {
    "duration": 13,
    "start_time": "2022-10-19T05:22:58.035Z"
   },
   {
    "duration": 8,
    "start_time": "2022-10-19T05:22:58.050Z"
   },
   {
    "duration": 13,
    "start_time": "2022-10-19T05:22:58.059Z"
   },
   {
    "duration": 5,
    "start_time": "2022-10-19T05:22:58.074Z"
   },
   {
    "duration": 35,
    "start_time": "2022-10-19T05:22:58.080Z"
   },
   {
    "duration": 14,
    "start_time": "2022-10-19T05:22:58.117Z"
   },
   {
    "duration": 263,
    "start_time": "2022-10-19T05:22:58.132Z"
   },
   {
    "duration": 18,
    "start_time": "2022-10-19T05:22:58.398Z"
   },
   {
    "duration": 898,
    "start_time": "2022-10-19T05:22:58.418Z"
   },
   {
    "duration": 6,
    "start_time": "2022-10-19T05:22:59.317Z"
   },
   {
    "duration": 302,
    "start_time": "2022-10-19T05:22:59.324Z"
   },
   {
    "duration": 37,
    "start_time": "2022-10-19T05:22:59.628Z"
   },
   {
    "duration": 5,
    "start_time": "2022-10-19T05:22:59.667Z"
   },
   {
    "duration": 329,
    "start_time": "2022-10-19T05:22:59.673Z"
   },
   {
    "duration": 4,
    "start_time": "2022-10-19T05:23:00.008Z"
   },
   {
    "duration": 17,
    "start_time": "2022-10-19T05:23:00.014Z"
   },
   {
    "duration": 9,
    "start_time": "2022-10-19T05:23:00.032Z"
   },
   {
    "duration": 7,
    "start_time": "2022-10-19T05:23:00.042Z"
   },
   {
    "duration": 12,
    "start_time": "2022-10-19T05:23:00.051Z"
   },
   {
    "duration": 6724,
    "start_time": "2022-10-19T05:23:00.065Z"
   },
   {
    "duration": 5794,
    "start_time": "2022-10-19T05:23:06.790Z"
   },
   {
    "duration": 124,
    "start_time": "2022-10-19T05:23:12.586Z"
   },
   {
    "duration": 0,
    "start_time": "2022-10-19T05:23:12.712Z"
   },
   {
    "duration": 0,
    "start_time": "2022-10-19T05:23:12.713Z"
   },
   {
    "duration": 0,
    "start_time": "2022-10-19T05:23:12.714Z"
   },
   {
    "duration": 0,
    "start_time": "2022-10-19T05:23:12.715Z"
   },
   {
    "duration": 0,
    "start_time": "2022-10-19T05:23:12.716Z"
   },
   {
    "duration": 0,
    "start_time": "2022-10-19T05:23:12.717Z"
   },
   {
    "duration": 0,
    "start_time": "2022-10-19T05:23:12.718Z"
   },
   {
    "duration": 0,
    "start_time": "2022-10-19T05:23:12.719Z"
   },
   {
    "duration": 0,
    "start_time": "2022-10-19T05:23:12.720Z"
   },
   {
    "duration": 0,
    "start_time": "2022-10-19T05:23:12.721Z"
   },
   {
    "duration": 0,
    "start_time": "2022-10-19T05:23:12.722Z"
   },
   {
    "duration": 0,
    "start_time": "2022-10-19T05:23:12.723Z"
   },
   {
    "duration": 10,
    "start_time": "2022-10-19T05:24:18.051Z"
   },
   {
    "duration": 12,
    "start_time": "2022-10-19T05:25:19.962Z"
   },
   {
    "duration": 10,
    "start_time": "2022-10-19T05:45:54.946Z"
   },
   {
    "duration": 1214,
    "start_time": "2022-10-19T05:46:11.021Z"
   },
   {
    "duration": 9,
    "start_time": "2022-10-19T05:46:46.034Z"
   },
   {
    "duration": 10,
    "start_time": "2022-10-19T05:53:57.891Z"
   },
   {
    "duration": 10,
    "start_time": "2022-10-19T05:54:01.568Z"
   },
   {
    "duration": 9,
    "start_time": "2022-10-19T05:54:20.511Z"
   },
   {
    "duration": 8,
    "start_time": "2022-10-19T05:54:26.596Z"
   },
   {
    "duration": 9,
    "start_time": "2022-10-19T05:54:29.643Z"
   },
   {
    "duration": 10,
    "start_time": "2022-10-19T05:54:44.391Z"
   },
   {
    "duration": 8,
    "start_time": "2022-10-19T05:56:12.194Z"
   },
   {
    "duration": 9,
    "start_time": "2022-10-19T05:56:21.993Z"
   },
   {
    "duration": 3,
    "start_time": "2022-10-19T05:57:14.405Z"
   },
   {
    "duration": 9,
    "start_time": "2022-10-19T05:58:05.180Z"
   },
   {
    "duration": 5792,
    "start_time": "2022-10-19T05:58:37.636Z"
   },
   {
    "duration": 14,
    "start_time": "2022-10-19T06:00:41.651Z"
   },
   {
    "duration": 17,
    "start_time": "2022-10-19T06:00:54.736Z"
   },
   {
    "duration": 18,
    "start_time": "2022-10-19T06:01:48.050Z"
   }
  ],
  "kernelspec": {
   "display_name": "Python 3 (ipykernel)",
   "language": "python",
   "name": "python3"
  },
  "language_info": {
   "codemirror_mode": {
    "name": "ipython",
    "version": 3
   },
   "file_extension": ".py",
   "mimetype": "text/x-python",
   "name": "python",
   "nbconvert_exporter": "python",
   "pygments_lexer": "ipython3",
   "version": "3.9.12"
  },
  "toc": {
   "base_numbering": 1,
   "nav_menu": {},
   "number_sections": true,
   "sideBar": true,
   "skip_h1_title": true,
   "title_cell": "Содержание",
   "title_sidebar": "Contents",
   "toc_cell": true,
   "toc_position": {
    "height": "calc(100% - 180px)",
    "left": "10px",
    "top": "150px",
    "width": "359.188px"
   },
   "toc_section_display": true,
   "toc_window_display": true
  }
 },
 "nbformat": 4,
 "nbformat_minor": 2
}
