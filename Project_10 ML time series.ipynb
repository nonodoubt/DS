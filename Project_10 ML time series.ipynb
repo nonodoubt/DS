{
 "cells": [
  {
   "cell_type": "markdown",
   "metadata": {
    "toc": true
   },
   "source": [
    "<h1>Содержание<span class=\"tocSkip\"></span></h1>\n",
    "<div class=\"toc\"><ul class=\"toc-item\"><li><span><a href=\"#Подготовка\" data-toc-modified-id=\"Подготовка-1\"><span class=\"toc-item-num\">1&nbsp;&nbsp;</span>Подготовка</a></span><ul class=\"toc-item\"><li><span><a href=\"#Импорт-библиотек:\" data-toc-modified-id=\"Импорт-библиотек:-1.1\"><span class=\"toc-item-num\">1.1&nbsp;&nbsp;</span>Импорт библиотек:</a></span></li><li><span><a href=\"#Обзор-данных:\" data-toc-modified-id=\"Обзор-данных:-1.2\"><span class=\"toc-item-num\">1.2&nbsp;&nbsp;</span>Обзор данных:</a></span></li></ul></li><li><span><a href=\"#Анализ\" data-toc-modified-id=\"Анализ-2\"><span class=\"toc-item-num\">2&nbsp;&nbsp;</span>Анализ</a></span><ul class=\"toc-item\"><li><span><a href=\"#Определеие-лага-для-сдвига:\" data-toc-modified-id=\"Определеие-лага-для-сдвига:-2.1\"><span class=\"toc-item-num\">2.1&nbsp;&nbsp;</span>Определеие лага для сдвига:</a></span></li><li><span><a href=\"#Определение-размера-окна-для-скользящего-среднего:\" data-toc-modified-id=\"Определение-размера-окна-для-скользящего-среднего:-2.2\"><span class=\"toc-item-num\">2.2&nbsp;&nbsp;</span>Определение размера окна для скользящего среднего:</a></span></li><li><span><a href=\"#Определение-признаков-для-моделей:\" data-toc-modified-id=\"Определение-признаков-для-моделей:-2.3\"><span class=\"toc-item-num\">2.3&nbsp;&nbsp;</span>Определение признаков для моделей:</a></span></li></ul></li><li><span><a href=\"#Обучение\" data-toc-modified-id=\"Обучение-3\"><span class=\"toc-item-num\">3&nbsp;&nbsp;</span>Обучение</a></span><ul class=\"toc-item\"><li><span><a href=\"#Линейная-регрессия:\" data-toc-modified-id=\"Линейная-регрессия:-3.1\"><span class=\"toc-item-num\">3.1&nbsp;&nbsp;</span>Линейная регрессия:</a></span></li><li><span><a href=\"#Случайный-лес:\" data-toc-modified-id=\"Случайный-лес:-3.2\"><span class=\"toc-item-num\">3.2&nbsp;&nbsp;</span>Случайный лес:</a></span></li><li><span><a href=\"#Регрессия-Ridge:\" data-toc-modified-id=\"Регрессия-Ridge:-3.3\"><span class=\"toc-item-num\">3.3&nbsp;&nbsp;</span>Регрессия Ridge:</a></span></li><li><span><a href=\"#Регрессия-LGBM:\" data-toc-modified-id=\"Регрессия-LGBM:-3.4\"><span class=\"toc-item-num\">3.4&nbsp;&nbsp;</span>Регрессия LGBM:</a></span></li><li><span><a href=\"#Сравнительная-таблица:\" data-toc-modified-id=\"Сравнительная-таблица:-3.5\"><span class=\"toc-item-num\">3.5&nbsp;&nbsp;</span>Сравнительная таблица:</a></span></li></ul></li><li><span><a href=\"#Тестирование\" data-toc-modified-id=\"Тестирование-4\"><span class=\"toc-item-num\">4&nbsp;&nbsp;</span>Тестирование</a></span><ul class=\"toc-item\"><li><span><a href=\"#Регрессия-LGBM:\" data-toc-modified-id=\"Регрессия-LGBM:-4.1\"><span class=\"toc-item-num\">4.1&nbsp;&nbsp;</span>Регрессия LGBM:</a></span></li><li><span><a href=\"#Вывод:\" data-toc-modified-id=\"Вывод:-4.2\"><span class=\"toc-item-num\">4.2&nbsp;&nbsp;</span>Вывод:</a></span></li></ul></li></ul></div>"
   ]
  },
  {
   "cell_type": "markdown",
   "metadata": {},
   "source": [
    "#  Прогнозирование заказов такси"
   ]
  },
  {
   "cell_type": "markdown",
   "metadata": {},
   "source": [
    "Компания «Чётенькое такси» собрала исторические данные о заказах такси в аэропортах. Чтобы привлекать больше водителей в период пиковой нагрузки, нужно спрогнозировать количество заказов такси на следующий час. Построим модель для такого предсказания.\n",
    "\n",
    "Согласно техническому заданию значение метрики *RMSE* на тестовой выборке должно быть не больше 48.\n",
    "\n",
    "План:\n",
    "\n",
    "1. Загрузим данные и выполним их ресемплирование по одному часу.\n",
    "2. Проанализируем данные.\n",
    "3. Обучим разные модели с различными гиперпараметрами.\n",
    "4. Проверим данные на тестовой выборке и определим лучшую для представления заказчику.\n",
    "\n",
    "\n",
    "Признаки:\n",
    "- `datetime` - отрезок времени, по 10 минут\n",
    "- `num_orders`Количество заказов за 1 отрезок времени `datetime`"
   ]
  },
  {
   "cell_type": "markdown",
   "metadata": {},
   "source": [
    "## Подготовка"
   ]
  },
  {
   "cell_type": "markdown",
   "metadata": {},
   "source": [
    "### Импорт библиотек:"
   ]
  },
  {
   "cell_type": "code",
   "execution_count": 1,
   "metadata": {},
   "outputs": [],
   "source": [
    "import pandas as pd\n",
    "\n",
    "import warnings\n",
    "import matplotlib.pyplot as plt\n",
    "import numpy as np\n",
    "import seaborn as sns\n",
    "\n",
    "from statsmodels.tsa.seasonal import seasonal_decompose\n",
    "from sklearn.model_selection import train_test_split, GridSearchCV, cross_val_score, cross_validate, TimeSeriesSplit\n",
    "from sklearn.metrics import mean_absolute_error\n",
    "import statsmodels.api as sm\n",
    "from statsmodels.graphics.tsaplots import plot_acf, plot_pacf\n",
    "from sklearn.dummy import DummyRegressor\n",
    "from sklearn.preprocessing import OrdinalEncoder\n",
    "from sklearn.linear_model import LinearRegression\n",
    "from sklearn.ensemble import RandomForestRegressor\n",
    "from catboost import Pool, CatBoostRegressor, cv\n",
    "from lightgbm import LGBMRegressor\n",
    "from sklearn.linear_model import Ridge\n",
    "\n",
    "\n",
    "from sklearn.metrics import mean_squared_error\n",
    "\n",
    "pd.options.mode.chained_assignment = None\n",
    "warnings.filterwarnings('ignore')"
   ]
  },
  {
   "cell_type": "code",
   "execution_count": 2,
   "metadata": {},
   "outputs": [],
   "source": [
    "df = pd.read_csv('taxi.csv', index_col=[0], parse_dates=[0])"
   ]
  },
  {
   "cell_type": "markdown",
   "metadata": {},
   "source": [
    "### Обзор данных:"
   ]
  },
  {
   "cell_type": "code",
   "execution_count": 3,
   "metadata": {},
   "outputs": [
    {
     "data": {
      "text/html": [
       "<div>\n",
       "<style scoped>\n",
       "    .dataframe tbody tr th:only-of-type {\n",
       "        vertical-align: middle;\n",
       "    }\n",
       "\n",
       "    .dataframe tbody tr th {\n",
       "        vertical-align: top;\n",
       "    }\n",
       "\n",
       "    .dataframe thead th {\n",
       "        text-align: right;\n",
       "    }\n",
       "</style>\n",
       "<table border=\"1\" class=\"dataframe\">\n",
       "  <thead>\n",
       "    <tr style=\"text-align: right;\">\n",
       "      <th></th>\n",
       "      <th>num_orders</th>\n",
       "    </tr>\n",
       "    <tr>\n",
       "      <th>datetime</th>\n",
       "      <th></th>\n",
       "    </tr>\n",
       "  </thead>\n",
       "  <tbody>\n",
       "    <tr>\n",
       "      <th>2018-03-01 00:00:00</th>\n",
       "      <td>9</td>\n",
       "    </tr>\n",
       "    <tr>\n",
       "      <th>2018-03-01 00:10:00</th>\n",
       "      <td>14</td>\n",
       "    </tr>\n",
       "    <tr>\n",
       "      <th>2018-03-01 00:20:00</th>\n",
       "      <td>28</td>\n",
       "    </tr>\n",
       "    <tr>\n",
       "      <th>2018-03-01 00:30:00</th>\n",
       "      <td>20</td>\n",
       "    </tr>\n",
       "    <tr>\n",
       "      <th>2018-03-01 00:40:00</th>\n",
       "      <td>32</td>\n",
       "    </tr>\n",
       "  </tbody>\n",
       "</table>\n",
       "</div>"
      ],
      "text/plain": [
       "                     num_orders\n",
       "datetime                       \n",
       "2018-03-01 00:00:00           9\n",
       "2018-03-01 00:10:00          14\n",
       "2018-03-01 00:20:00          28\n",
       "2018-03-01 00:30:00          20\n",
       "2018-03-01 00:40:00          32"
      ]
     },
     "execution_count": 3,
     "metadata": {},
     "output_type": "execute_result"
    }
   ],
   "source": [
    "df.head()"
   ]
  },
  {
   "cell_type": "code",
   "execution_count": 4,
   "metadata": {},
   "outputs": [
    {
     "name": "stdout",
     "output_type": "stream",
     "text": [
      "<class 'pandas.core.frame.DataFrame'>\n",
      "DatetimeIndex: 26496 entries, 2018-03-01 00:00:00 to 2018-08-31 23:50:00\n",
      "Data columns (total 1 columns):\n",
      " #   Column      Non-Null Count  Dtype\n",
      "---  ------      --------------  -----\n",
      " 0   num_orders  26496 non-null  int64\n",
      "dtypes: int64(1)\n",
      "memory usage: 414.0 KB\n"
     ]
    }
   ],
   "source": [
    "df.info(memory_usage='deep')"
   ]
  },
  {
   "cell_type": "code",
   "execution_count": 5,
   "metadata": {},
   "outputs": [
    {
     "data": {
      "text/plain": [
       "num_orders    0\n",
       "dtype: int64"
      ]
     },
     "execution_count": 5,
     "metadata": {},
     "output_type": "execute_result"
    }
   ],
   "source": [
    "df.isna().sum()"
   ]
  },
  {
   "cell_type": "code",
   "execution_count": 6,
   "metadata": {},
   "outputs": [
    {
     "data": {
      "text/plain": [
       "<AxesSubplot:>"
      ]
     },
     "execution_count": 6,
     "metadata": {},
     "output_type": "execute_result"
    },
    {
     "data": {
      "image/png": "[encoded data removed]",
      "text/plain": [
       "<Figure size 864x360 with 1 Axes>"
      ]
     },
     "metadata": {
      "needs_background": "light"
     },
     "output_type": "display_data"
    }
   ],
   "source": [
    "df.boxplot('num_orders', vert = False, figsize=(12,5))"
   ]
  },
  {
   "cell_type": "code",
   "execution_count": 7,
   "metadata": {},
   "outputs": [
    {
     "data": {
      "text/plain": [
       "count    26496.000000\n",
       "mean        14.070463\n",
       "std          9.211330\n",
       "min          0.000000\n",
       "25%          8.000000\n",
       "50%         13.000000\n",
       "75%         19.000000\n",
       "max        119.000000\n",
       "Name: num_orders, dtype: float64"
      ]
     },
     "execution_count": 7,
     "metadata": {},
     "output_type": "execute_result"
    },
    {
     "data": {
      "image/png": "[encoded data removed]",
      "text/plain": [
       "<Figure size 864x360 with 1 Axes>"
      ]
     },
     "metadata": {
      "needs_background": "light"
     },
     "output_type": "display_data"
    }
   ],
   "source": [
    "df['num_orders'].hist(bins=100, figsize=(12,5))\n",
    "df['num_orders'].describe()"
   ]
  },
  {
   "cell_type": "markdown",
   "metadata": {},
   "source": [
    "**Вывод** Выполнен обзор датасета. Датасет имеер размер 26496*2. Данные подготовленные: не имеют пропусков, типы данных соответствуют значениям. Распределение заказов распределено нормально и имеет положительную скошенность."
   ]
  },
  {
   "cell_type": "markdown",
   "metadata": {},
   "source": [
    "## Анализ"
   ]
  },
  {
   "cell_type": "markdown",
   "metadata": {},
   "source": [
    "Проверим порядок расположения индексов на монотонность:"
   ]
  },
  {
   "cell_type": "code",
   "execution_count": 8,
   "metadata": {},
   "outputs": [
    {
     "name": "stdout",
     "output_type": "stream",
     "text": [
      "True\n"
     ]
    }
   ],
   "source": [
    "print(df.index.is_monotonic)"
   ]
  },
  {
   "cell_type": "markdown",
   "metadata": {},
   "source": [
    "Клиент запрашивает прогнозирование на 1час. Соответственно ресемплируем данные по 1 часу и посмотрим на график:"
   ]
  },
  {
   "cell_type": "code",
   "execution_count": 9,
   "metadata": {},
   "outputs": [],
   "source": [
    "df = df.resample('1H').sum()"
   ]
  },
  {
   "cell_type": "code",
   "execution_count": 10,
   "metadata": {},
   "outputs": [
    {
     "data": {
      "text/plain": [
       "<AxesSubplot:xlabel='datetime'>"
      ]
     },
     "execution_count": 10,
     "metadata": {},
     "output_type": "execute_result"
    },
    {
     "data": {
      "image/png": "[encoded data removed]",
      "text/plain": [
       "<Figure size 1080x360 with 1 Axes>"
      ]
     },
     "metadata": {
      "needs_background": "light"
     },
     "output_type": "display_data"
    }
   ],
   "source": [
    "df.plot(figsize=(15,5))"
   ]
  },
  {
   "cell_type": "markdown",
   "metadata": {},
   "source": [
    "Тренд числа заказов  - явно растет. Все больше людей используют сервис. Рассмотрим данные за неделю:"
   ]
  },
  {
   "cell_type": "code",
   "execution_count": 11,
   "metadata": {
    "scrolled": true
   },
   "outputs": [
    {
     "data": {
      "text/plain": [
       "<AxesSubplot:xlabel='datetime'>"
      ]
     },
     "execution_count": 11,
     "metadata": {},
     "output_type": "execute_result"
    },
    {
     "data": {
      "image/png": "[encoded data removed]",
      "text/plain": [
       "<Figure size 1080x360 with 1 Axes>"
      ]
     },
     "metadata": {
      "needs_background": "light"
     },
     "output_type": "display_data"
    }
   ],
   "source": [
    "df['2018-04-01':'2018-04-07'].plot(figsize=(15,5))"
   ]
  },
  {
   "cell_type": "code",
   "execution_count": 12,
   "metadata": {},
   "outputs": [
    {
     "data": {
      "text/plain": [
       "<AxesSubplot:xlabel='datetime'>"
      ]
     },
     "execution_count": 12,
     "metadata": {},
     "output_type": "execute_result"
    },
    {
     "data": {
      "image/png": "[encoded data removed]",
      "text/plain": [
       "<Figure size 1080x360 with 1 Axes>"
      ]
     },
     "metadata": {
      "needs_background": "light"
     },
     "output_type": "display_data"
    }
   ],
   "source": [
    "df['2018-07-02':'2018-07-08'].plot(figsize=(15,5))"
   ]
  },
  {
   "cell_type": "markdown",
   "metadata": {},
   "source": [
    "На примере двух недель к полуночи наблюдается сезонное увеличение числа заказов с последующим спадом к минимуму в предутреннее время."
   ]
  },
  {
   "cell_type": "code",
   "execution_count": 13,
   "metadata": {
    "scrolled": true
   },
   "outputs": [
    {
     "data": {
      "text/plain": [
       "Text(0.5, 1.0, 'Residuals')"
      ]
     },
     "execution_count": 13,
     "metadata": {},
     "output_type": "execute_result"
    },
    {
     "data": {
      "image/png": "[encoded data removed]",
      "text/plain": [
       "<Figure size 1080x1368 with 3 Axes>"
      ]
     },
     "metadata": {
      "needs_background": "light"
     },
     "output_type": "display_data"
    }
   ],
   "source": [
    "decomposed = seasonal_decompose(df['2018-05-01':'2018-07-01'])\n",
    "plt.figure(figsize=(15,19))\n",
    "plt.subplot(311)\n",
    "decomposed.trend.plot()\n",
    "plt.title('Trend')\n",
    "\n",
    "plt.subplot(312)\n",
    "decomposed.seasonal.plot()\n",
    "plt.title('Seasonality')\n",
    "\n",
    "plt.subplot(313)\n",
    "decomposed.resid.plot()\n",
    "plt.title('Residuals')"
   ]
  },
  {
   "cell_type": "markdown",
   "metadata": {},
   "source": [
    "Временной ряд нестационарный: дисперсия со временем увеличивается. Для возможности прогнозирования требуется сделать ряд стационарным."
   ]
  },
  {
   "cell_type": "markdown",
   "metadata": {},
   "source": [
    "### Определеие лага для сдвига:"
   ]
  },
  {
   "cell_type": "markdown",
   "metadata": {},
   "source": [
    "Построим график автокорреляции для определения максимального лага:"
   ]
  },
  {
   "cell_type": "code",
   "execution_count": 14,
   "metadata": {},
   "outputs": [
    {
     "data": {
      "image/png": "[encoded data removed]",
      "text/plain": [
       "<Figure size 1728x648 with 1 Axes>"
      ]
     },
     "metadata": {
      "needs_background": "light"
     },
     "output_type": "display_data"
    }
   ],
   "source": [
    "time_list = df['num_orders']\n",
    "lags = 100\n",
    "plt.figure(figsize=(24,9))\n",
    "plt.xticks(list(range(lags)),rotation=90)\n",
    "ax = plt.subplot(111)\n",
    "acf = plot_acf(time_list, lags=lags, ax=ax)\n"
   ]
  },
  {
   "cell_type": "code",
   "execution_count": 15,
   "metadata": {},
   "outputs": [],
   "source": [
    "max_lag = 24"
   ]
  },
  {
   "cell_type": "markdown",
   "metadata": {},
   "source": [
    "Максимальная корреляция временного ряда наблюдается каждые 24 дня. Выберем это значение в качестве параметра `max_lag`=24."
   ]
  },
  {
   "cell_type": "markdown",
   "metadata": {},
   "source": [
    "### Определение размера окна для скользящего среднего:"
   ]
  },
  {
   "cell_type": "markdown",
   "metadata": {},
   "source": [
    "Создадим словарь, в котором ключами будут размеры окна, а значениями - RMSE между количеством заказов и скользящим средним:"
   ]
  },
  {
   "cell_type": "code",
   "execution_count": 16,
   "metadata": {},
   "outputs": [
    {
     "name": "stdout",
     "output_type": "stream",
     "text": [
      "RMSE for \"rolling_mean_size\"=1 : 0.0 orders\n",
      "RMSE for \"rolling_mean_size\"=2 : 37.21 orders\n",
      "RMSE for \"rolling_mean_size\"=3 : 53.29 orders\n",
      "RMSE for \"rolling_mean_size\"=4 : 63.74 orders\n",
      "RMSE for \"rolling_mean_size\"=5 : 67.6 orders\n",
      "RMSE for \"rolling_mean_size\"=6 : 69.73 orders\n",
      "RMSE for \"rolling_mean_size\"=7 : 67.92 orders\n",
      "RMSE for \"rolling_mean_size\"=8 : 62.93 orders\n",
      "RMSE for \"rolling_mean_size\"=9 : 59.29 orders\n",
      "RMSE for \"rolling_mean_size\"=10 : 60.04 orders\n",
      "RMSE for \"rolling_mean_size\"=11 : 62.15 orders\n",
      "RMSE for \"rolling_mean_size\"=12 : 63.27 orders\n",
      "RMSE for \"rolling_mean_size\"=13 : 64.52 orders\n",
      "RMSE for \"rolling_mean_size\"=14 : 65.52 orders\n",
      "RMSE for \"rolling_mean_size\"=15 : 66.57 orders\n",
      "RMSE for \"rolling_mean_size\"=16 : 66.39 orders\n",
      "RMSE for \"rolling_mean_size\"=17 : 66.79 orders\n",
      "RMSE for \"rolling_mean_size\"=18 : 65.96 orders\n",
      "RMSE for \"rolling_mean_size\"=19 : 59.95 orders\n",
      "RMSE for \"rolling_mean_size\"=20 : 61.62 orders\n",
      "RMSE for \"rolling_mean_size\"=21 : 60.3 orders\n",
      "RMSE for \"rolling_mean_size\"=22 : 61.58 orders\n",
      "RMSE for \"rolling_mean_size\"=23 : 62.24 orders\n",
      "RMSE for \"rolling_mean_size\"=24 : 62.2 orders\n",
      "RMSE for \"rolling_mean_size\"=25 : 59.35 orders\n",
      "RMSE for \"rolling_mean_size\"=26 : 55.4 orders\n",
      "RMSE for \"rolling_mean_size\"=27 : 56.6 orders\n",
      "RMSE for \"rolling_mean_size\"=28 : 58.0 orders\n",
      "RMSE for \"rolling_mean_size\"=29 : 57.88 orders\n",
      "RMSE for \"rolling_mean_size\"=30 : 55.95 orders\n",
      "RMSE for \"rolling_mean_size\"=31 : 52.57 orders\n",
      "RMSE for \"rolling_mean_size\"=32 : 42.5 orders\n",
      "RMSE for \"rolling_mean_size\"=33 : 30.93 orders\n",
      "RMSE for \"rolling_mean_size\"=34 : 31.35 orders\n",
      "RMSE for \"rolling_mean_size\"=35 : 31.77 orders\n",
      "RMSE for \"rolling_mean_size\"=36 : 33.79 orders\n",
      "RMSE for \"rolling_mean_size\"=37 : 35.77 orders\n",
      "RMSE for \"rolling_mean_size\"=38 : 35.84 orders\n",
      "RMSE for \"rolling_mean_size\"=39 : 37.0 orders\n",
      "RMSE for \"rolling_mean_size\"=40 : 37.47 orders\n",
      "RMSE for \"rolling_mean_size\"=41 : 36.28 orders\n",
      "RMSE for \"rolling_mean_size\"=42 : 37.86 orders\n",
      "RMSE for \"rolling_mean_size\"=43 : 35.87 orders\n",
      "RMSE for \"rolling_mean_size\"=44 : 35.23 orders\n",
      "RMSE for \"rolling_mean_size\"=45 : 35.49 orders\n",
      "RMSE for \"rolling_mean_size\"=46 : 39.34 orders\n",
      "RMSE for \"rolling_mean_size\"=47 : 46.82 orders\n",
      "RMSE for \"rolling_mean_size\"=48 : 36.08 orders\n"
     ]
    }
   ],
   "source": [
    "rolling_mean_size_dict = {}\n",
    "for rolling_mean_size in range(1,49):\n",
    "    data = df['2018-08-30':'2018-08-31'].copy()\n",
    "    data['rolling_mean'] = data['num_orders'].rolling(rolling_mean_size).mean()\n",
    "    data.dropna(inplace=True)\n",
    "    index = data.index\n",
    "    num_orders = data['num_orders']\n",
    "    rolling_mean = data['rolling_mean']\n",
    "    #plt.plot(index,num_orders,'r-',index, rolling_mean,'b-')\n",
    "    #plt.show()\n",
    "    RMSE = mean_squared_error(num_orders,rolling_mean)**0.5\n",
    "    print(f'RMSE for \"rolling_mean_size\"={rolling_mean_size} : {round(RMSE,2)} orders')\n",
    "    rolling_mean_size_dict[rolling_mean_size] = RMSE"
   ]
  },
  {
   "cell_type": "markdown",
   "metadata": {},
   "source": [
    "rolling_mean_size_dict"
   ]
  },
  {
   "cell_type": "markdown",
   "metadata": {},
   "source": [
    "Минимальное значение RMSE 30.93 зафиксировано при `rolling_mean_size`= 33"
   ]
  },
  {
   "cell_type": "markdown",
   "metadata": {},
   "source": [
    "### Определение признаков для моделей:"
   ]
  },
  {
   "cell_type": "markdown",
   "metadata": {},
   "source": [
    "Подготовим функцию для создания признаков для обучения моделей:"
   ]
  },
  {
   "cell_type": "code",
   "execution_count": 17,
   "metadata": {},
   "outputs": [],
   "source": [
    "def make_features(data, column, max_lag, rolling_mean_size):\n",
    "    data['day'] = data.index.day\n",
    "    data['dayofweek'] = data.index.dayofweek\n",
    "    data['month'] = data.index.month\n",
    "    \n",
    "    for lag in range(1, max_lag + 1):\n",
    "        data['lag_{}'.format(lag)] = data[column].shift(lag)\n",
    "\n",
    "    data['rolling_mean'] = data[column].shift().rolling(rolling_mean_size).mean()"
   ]
  },
  {
   "cell_type": "code",
   "execution_count": 18,
   "metadata": {},
   "outputs": [],
   "source": [
    "data_taxi_copy = df.copy()\n",
    "make_features(df,'num_orders', max_lag, 1)\n",
    "\n",
    "train, test = train_test_split(df, shuffle=False, test_size=0.1, random_state=282)\n",
    "train = train.dropna()\n",
    "\n",
    "train_features = train.drop('num_orders', axis=1)\n",
    "train_target = train['num_orders']\n",
    "test_features = test.drop('num_orders', axis=1)\n",
    "test_target = test['num_orders']"
   ]
  },
  {
   "cell_type": "markdown",
   "metadata": {},
   "source": [
    "Подготовим функцию для расчета метрики RMSE:"
   ]
  },
  {
   "cell_type": "code",
   "execution_count": 19,
   "metadata": {},
   "outputs": [],
   "source": [
    "def cv_time_series_rmse(regressor, data, target_column, n_splits, max_train_size):\n",
    "    tscv = TimeSeriesSplit(n_splits = n_splits, max_train_size = max_train_size)\n",
    "    RMSE = 0.0\n",
    "    for train_index, test_index in tscv.split(data):\n",
    "        train = data.iloc[train_index]\n",
    "        test = data.iloc[test_index]\n",
    "        train_features = train.drop(target_column, axis=1)\n",
    "        train_target = train[target_column]\n",
    "        test_features = test.drop(target_column, axis=1)\n",
    "        test_target = test[target_column]\n",
    "        regressor.fit(train_features, train_target)\n",
    "        RMSE += mean_squared_error(test_target, regressor.predict(test_features)) ** 0.5\n",
    "    return RMSE / n_splits\n"
   ]
  },
  {
   "cell_type": "code",
   "execution_count": 20,
   "metadata": {},
   "outputs": [
    {
     "data": {
      "text/plain": [
       "(4416, 29)"
      ]
     },
     "execution_count": 20,
     "metadata": {},
     "output_type": "execute_result"
    }
   ],
   "source": [
    "df.shape"
   ]
  },
  {
   "cell_type": "code",
   "execution_count": 21,
   "metadata": {},
   "outputs": [
    {
     "data": {
      "text/plain": [
       "3950"
      ]
     },
     "execution_count": 21,
     "metadata": {},
     "output_type": "execute_result"
    }
   ],
   "source": [
    "train.shape[0]"
   ]
  },
  {
   "cell_type": "markdown",
   "metadata": {},
   "source": [
    "Проверка бейслайн модели:"
   ]
  },
  {
   "cell_type": "code",
   "execution_count": 22,
   "metadata": {
    "scrolled": true
   },
   "outputs": [
    {
     "data": {
      "text/plain": [
       "27.529305439273667"
      ]
     },
     "execution_count": 22,
     "metadata": {},
     "output_type": "execute_result"
    }
   ],
   "source": [
    "cv_train_test_split = (train.shape[0] * 4 //5)\n",
    "cv_splits = 3\n",
    "cv_time_series_rmse(regressor=LinearRegression(), \n",
    "                    data=train, \n",
    "                    target_column='num_orders', \n",
    "                    n_splits=cv_splits, \n",
    "                    max_train_size=cv_train_test_split)"
   ]
  },
  {
   "cell_type": "markdown",
   "metadata": {},
   "source": [
    "## Обучение"
   ]
  },
  {
   "cell_type": "markdown",
   "metadata": {},
   "source": [
    "### Линейная регрессия:"
   ]
  },
  {
   "cell_type": "code",
   "execution_count": 23,
   "metadata": {},
   "outputs": [
    {
     "name": "stdout",
     "output_type": "stream",
     "text": [
      "# Train for root_mean_squared_error\n",
      "\n",
      "Mean RMSE from CV of LinearRegression = 27.529305439273667\n",
      "CPU times: total: 62.5 ms\n",
      "Wall time: 31.2 ms\n"
     ]
    }
   ],
   "source": [
    "%%time\n",
    "\n",
    "regressor = LinearRegression()\n",
    "print('# Train for root_mean_squared_error')\n",
    "print()\n",
    "cv_RMSE_LR = cv_time_series_rmse(regressor=regressor, \n",
    "                                 data=train, \n",
    "                                 target_column='num_orders', \n",
    "                                 n_splits=cv_splits, \n",
    "                                 max_train_size=cv_train_test_split)\n",
    "print('Mean RMSE from CV of LinearRegression =', cv_RMSE_LR)"
   ]
  },
  {
   "cell_type": "markdown",
   "metadata": {},
   "source": [
    "Mean RMSE from CV of LinearRegression = 27.979648497831434\n",
    "CPU times: user 45 ms, sys: 179 ms, total: 224 ms\n",
    "Wall time: 148 ms"
   ]
  },
  {
   "cell_type": "markdown",
   "metadata": {},
   "source": [
    "### Случайный лес:"
   ]
  },
  {
   "cell_type": "markdown",
   "metadata": {},
   "source": [
    "Подбор параметров:"
   ]
  },
  {
   "cell_type": "code",
   "execution_count": 24,
   "metadata": {},
   "outputs": [
    {
     "name": "stdout",
     "output_type": "stream",
     "text": [
      "# Tuning hyper-parameters for root_mean_squared_error\n",
      "\n",
      "Fitting 5 folds for each of 32 candidates, totalling 160 fits\n",
      "Best parameters set found on development set:\n",
      "\n",
      "{'criterion': 'squared_error', 'max_depth': 24, 'n_estimators': 125, 'random_state': 282}\n",
      "\n",
      "Grid scores on development set:\n",
      "\n",
      "25.399788 for {'criterion': 'squared_error', 'max_depth': 10, 'n_estimators': 25, 'random_state': 282}\n",
      "25.317926 for {'criterion': 'squared_error', 'max_depth': 10, 'n_estimators': 50, 'random_state': 282}\n",
      "25.261992 for {'criterion': 'squared_error', 'max_depth': 10, 'n_estimators': 100, 'random_state': 282}\n",
      "25.226841 for {'criterion': 'squared_error', 'max_depth': 10, 'n_estimators': 125, 'random_state': 282}\n",
      "25.360178 for {'criterion': 'squared_error', 'max_depth': 12, 'n_estimators': 25, 'random_state': 282}\n",
      "25.154115 for {'criterion': 'squared_error', 'max_depth': 12, 'n_estimators': 50, 'random_state': 282}\n",
      "25.067969 for {'criterion': 'squared_error', 'max_depth': 12, 'n_estimators': 100, 'random_state': 282}\n",
      "25.035473 for {'criterion': 'squared_error', 'max_depth': 12, 'n_estimators': 125, 'random_state': 282}\n",
      "25.318430 for {'criterion': 'squared_error', 'max_depth': 14, 'n_estimators': 25, 'random_state': 282}\n",
      "25.081418 for {'criterion': 'squared_error', 'max_depth': 14, 'n_estimators': 50, 'random_state': 282}\n",
      "24.998631 for {'criterion': 'squared_error', 'max_depth': 14, 'n_estimators': 100, 'random_state': 282}\n",
      "24.952523 for {'criterion': 'squared_error', 'max_depth': 14, 'n_estimators': 125, 'random_state': 282}\n",
      "25.300999 for {'criterion': 'squared_error', 'max_depth': 16, 'n_estimators': 25, 'random_state': 282}\n",
      "25.103185 for {'criterion': 'squared_error', 'max_depth': 16, 'n_estimators': 50, 'random_state': 282}\n",
      "25.016268 for {'criterion': 'squared_error', 'max_depth': 16, 'n_estimators': 100, 'random_state': 282}\n",
      "24.968006 for {'criterion': 'squared_error', 'max_depth': 16, 'n_estimators': 125, 'random_state': 282}\n",
      "25.250439 for {'criterion': 'squared_error', 'max_depth': 18, 'n_estimators': 25, 'random_state': 282}\n",
      "25.069308 for {'criterion': 'squared_error', 'max_depth': 18, 'n_estimators': 50, 'random_state': 282}\n",
      "24.991536 for {'criterion': 'squared_error', 'max_depth': 18, 'n_estimators': 100, 'random_state': 282}\n",
      "24.951277 for {'criterion': 'squared_error', 'max_depth': 18, 'n_estimators': 125, 'random_state': 282}\n",
      "25.314136 for {'criterion': 'squared_error', 'max_depth': 20, 'n_estimators': 25, 'random_state': 282}\n",
      "25.059503 for {'criterion': 'squared_error', 'max_depth': 20, 'n_estimators': 50, 'random_state': 282}\n",
      "24.979687 for {'criterion': 'squared_error', 'max_depth': 20, 'n_estimators': 100, 'random_state': 282}\n",
      "24.928760 for {'criterion': 'squared_error', 'max_depth': 20, 'n_estimators': 125, 'random_state': 282}\n",
      "25.295469 for {'criterion': 'squared_error', 'max_depth': 22, 'n_estimators': 25, 'random_state': 282}\n",
      "25.082323 for {'criterion': 'squared_error', 'max_depth': 22, 'n_estimators': 50, 'random_state': 282}\n",
      "24.977643 for {'criterion': 'squared_error', 'max_depth': 22, 'n_estimators': 100, 'random_state': 282}\n",
      "24.920488 for {'criterion': 'squared_error', 'max_depth': 22, 'n_estimators': 125, 'random_state': 282}\n",
      "25.220301 for {'criterion': 'squared_error', 'max_depth': 24, 'n_estimators': 25, 'random_state': 282}\n",
      "25.025363 for {'criterion': 'squared_error', 'max_depth': 24, 'n_estimators': 50, 'random_state': 282}\n",
      "24.961373 for {'criterion': 'squared_error', 'max_depth': 24, 'n_estimators': 100, 'random_state': 282}\n",
      "24.914509 for {'criterion': 'squared_error', 'max_depth': 24, 'n_estimators': 125, 'random_state': 282}\n",
      "\n",
      "CPU times: total: 13min 55s\n",
      "Wall time: 14min 22s\n"
     ]
    }
   ],
   "source": [
    "%%time\n",
    "\n",
    "regressor = RandomForestRegressor() \n",
    "max_depth_list = [x for x in range(10, 25, 2)]\n",
    "hyperparams = [{'criterion':['squared_error'], \n",
    "                'max_depth':max_depth_list, \n",
    "                'n_estimators':[25, 50, 100, 125],\n",
    "                'random_state':[282]}]\n",
    "\n",
    "print('# Tuning hyper-parameters for root_mean_squared_error')\n",
    "print()\n",
    "clf = GridSearchCV(regressor, \n",
    "                   hyperparams, \n",
    "                   scoring='neg_mean_squared_error',\n",
    "                   verbose=1)\n",
    "clf.fit(train_features, train_target)\n",
    "print(\"Best parameters set found on development set:\")\n",
    "print()\n",
    "best_params_RFR = clf.best_params_\n",
    "print(best_params_RFR)\n",
    "print()\n",
    "print(\"Grid scores on development set:\")\n",
    "print()\n",
    "means = clf.cv_results_['mean_test_score']\n",
    "stds = clf.cv_results_['std_test_score']\n",
    "\n",
    "for mean, std, params in zip(means, stds, clf.cv_results_['params']):\n",
    "    print(\"%0.6f for %r\"% ((mean*-1)** 0.5, params))\n",
    "print()\n",
    "\n"
   ]
  },
  {
   "cell_type": "markdown",
   "metadata": {},
   "source": [
    "24.91 for {'criterion': 'squared_error', 'max_depth': 24, 'n_estimators': 125, 'random_state': 282}"
   ]
  },
  {
   "cell_type": "markdown",
   "metadata": {},
   "source": [
    "Проверка:"
   ]
  },
  {
   "cell_type": "code",
   "execution_count": 25,
   "metadata": {},
   "outputs": [
    {
     "name": "stdout",
     "output_type": "stream",
     "text": [
      "# Train for root_mean_squared_error\n",
      "\n",
      "Mean RMSE from CV of RandomForestRegressor = 27.43264986325575\n",
      "CPU times: total: 16.3 s\n",
      "Wall time: 16.6 s\n"
     ]
    }
   ],
   "source": [
    "%%time\n",
    "\n",
    "regressor = RandomForestRegressor()\n",
    "regressor.set_params(**best_params_RFR)\n",
    "print('# Train for root_mean_squared_error')\n",
    "print()\n",
    "cv_RMSE_RFR = cv_time_series_rmse(regressor=regressor, \n",
    "                                  data=train, \n",
    "                                  target_column='num_orders', \n",
    "                                  n_splits=cv_splits, \n",
    "                                  max_train_size=cv_train_test_split)\n",
    "print('Mean RMSE from CV of RandomForestRegressor =', cv_RMSE_RFR)\n"
   ]
  },
  {
   "cell_type": "markdown",
   "metadata": {},
   "source": [
    "Mean RMSE from CV of RandomForestRegressor = 27.43\n",
    "CPU times: user 6.42 s, sys: 12.4 ms, total: 6.43 s\n",
    "Wall time: 6.44 s"
   ]
  },
  {
   "cell_type": "markdown",
   "metadata": {},
   "source": [
    "### Регрессия Ridge:"
   ]
  },
  {
   "cell_type": "markdown",
   "metadata": {},
   "source": [
    "Подбор параметров:"
   ]
  },
  {
   "cell_type": "code",
   "execution_count": 26,
   "metadata": {},
   "outputs": [
    {
     "name": "stdout",
     "output_type": "stream",
     "text": [
      "# Tuning hyper-parameters for root_mean_squared_error\n",
      "\n",
      "Best parameters set found on development set:\n",
      "\n",
      "{'alpha': 1000, 'random_state': 282, 'solver': 'lsqr'}\n",
      "\n",
      "Grid scores on development set:\n",
      "\n",
      "26.144369 for {'alpha': 0.1, 'random_state': 282, 'solver': 'auto'}\n",
      "26.144369 for {'alpha': 0.1, 'random_state': 282, 'solver': 'svd'}\n",
      "26.144369 for {'alpha': 0.1, 'random_state': 282, 'solver': 'cholesky'}\n",
      "26.144178 for {'alpha': 0.1, 'random_state': 282, 'solver': 'lsqr'}\n",
      "26.144547 for {'alpha': 0.1, 'random_state': 282, 'solver': 'sparse_cg'}\n",
      "26.144250 for {'alpha': 1, 'random_state': 282, 'solver': 'auto'}\n",
      "26.144250 for {'alpha': 1, 'random_state': 282, 'solver': 'svd'}\n",
      "26.144250 for {'alpha': 1, 'random_state': 282, 'solver': 'cholesky'}\n",
      "26.144060 for {'alpha': 1, 'random_state': 282, 'solver': 'lsqr'}\n",
      "26.144401 for {'alpha': 1, 'random_state': 282, 'solver': 'sparse_cg'}\n",
      "26.143094 for {'alpha': 10, 'random_state': 282, 'solver': 'auto'}\n",
      "26.143094 for {'alpha': 10, 'random_state': 282, 'solver': 'svd'}\n",
      "26.143094 for {'alpha': 10, 'random_state': 282, 'solver': 'cholesky'}\n",
      "26.142905 for {'alpha': 10, 'random_state': 282, 'solver': 'lsqr'}\n",
      "26.143225 for {'alpha': 10, 'random_state': 282, 'solver': 'sparse_cg'}\n",
      "26.133912 for {'alpha': 100, 'random_state': 282, 'solver': 'auto'}\n",
      "26.133912 for {'alpha': 100, 'random_state': 282, 'solver': 'svd'}\n",
      "26.133912 for {'alpha': 100, 'random_state': 282, 'solver': 'cholesky'}\n",
      "26.133733 for {'alpha': 100, 'random_state': 282, 'solver': 'lsqr'}\n",
      "26.134041 for {'alpha': 100, 'random_state': 282, 'solver': 'sparse_cg'}\n",
      "26.128692 for {'alpha': 1000, 'random_state': 282, 'solver': 'auto'}\n",
      "26.128692 for {'alpha': 1000, 'random_state': 282, 'solver': 'svd'}\n",
      "26.128692 for {'alpha': 1000, 'random_state': 282, 'solver': 'cholesky'}\n",
      "26.128323 for {'alpha': 1000, 'random_state': 282, 'solver': 'lsqr'}\n",
      "26.128606 for {'alpha': 1000, 'random_state': 282, 'solver': 'sparse_cg'}\n",
      "\n",
      "CPU times: total: 2.48 s\n",
      "Wall time: 1.31 s\n"
     ]
    }
   ],
   "source": [
    "%%time\n",
    "\n",
    "regressor = Ridge()\n",
    "hyperparams = [{'alpha':[0.1, 1, 10, 100, 1000],\n",
    "                'solver':['auto', 'svd', 'cholesky', 'lsqr','sparse_cg'],\n",
    "               'random_state':[282]}]\n",
    "\n",
    "\n",
    "print('# Tuning hyper-parameters for root_mean_squared_error')\n",
    "print()\n",
    "clf = GridSearchCV(regressor, \n",
    "                   hyperparams, \n",
    "                   scoring='neg_mean_squared_error')\n",
    "\n",
    "clf.fit(train_features, train_target)\n",
    "print(\"Best parameters set found on development set:\")\n",
    "print()\n",
    "best_params_R = clf.best_params_\n",
    "print(best_params_R)\n",
    "print()\n",
    "print(\"Grid scores on development set:\")\n",
    "print()\n",
    "means = clf.cv_results_['mean_test_score']\n",
    "stds = clf.cv_results_['std_test_score']\n",
    "\n",
    "for mean, std, params in zip(means, stds, clf.cv_results_['params']):\n",
    "    print(\"%0.6f for %r\"% ((mean*-1)** 0.5, params))\n",
    "print()\n"
   ]
  },
  {
   "cell_type": "markdown",
   "metadata": {},
   "source": [
    "RMSE 26.198810 on Ridge with parameters{'alpha': 1000, 'solver': 'svd'}"
   ]
  },
  {
   "cell_type": "markdown",
   "metadata": {},
   "source": [
    "Проверка:"
   ]
  },
  {
   "cell_type": "code",
   "execution_count": 27,
   "metadata": {},
   "outputs": [
    {
     "name": "stdout",
     "output_type": "stream",
     "text": [
      "# Train for root_mean_squared_error\n",
      "\n",
      "Mean RMSE from CV of Ridge = 27.62075767008942\n",
      "CPU times: total: 46.9 ms\n",
      "Wall time: 45.9 ms\n"
     ]
    }
   ],
   "source": [
    "\n",
    "%%time\n",
    "\n",
    "regressor = Ridge()\n",
    "regressor.set_params(**best_params_R)\n",
    "print('# Train for root_mean_squared_error')\n",
    "print()\n",
    "cv_RMSE_R = cv_time_series_rmse(regressor=regressor, \n",
    "                                data=train, \n",
    "                                target_column='num_orders', \n",
    "                                n_splits=cv_splits, \n",
    "                                max_train_size=cv_train_test_split)\n",
    "print('Mean RMSE from CV of Ridge =', cv_RMSE_R)\n"
   ]
  },
  {
   "cell_type": "markdown",
   "metadata": {},
   "source": [
    "Mean RMSE from CV of Ridge = 28.22863681897381\n",
    "CPU times: user 207 ms, sys: 539 ms, total: 746 ms\n",
    "Wall time: 704 ms"
   ]
  },
  {
   "cell_type": "markdown",
   "metadata": {},
   "source": [
    "### Регрессия LGBM:"
   ]
  },
  {
   "cell_type": "code",
   "execution_count": 28,
   "metadata": {},
   "outputs": [
    {
     "name": "stdout",
     "output_type": "stream",
     "text": [
      "# Tuning hyper-parameters for root_mean_squared_error\n",
      "\n",
      "Fitting 5 folds for each of 5 candidates, totalling 25 fits\n",
      "Best parameters set found on development set:\n",
      "\n",
      "{'learning_rate': 0.1, 'random_state': 282}\n",
      "\n",
      "Grid scores on development set:\n",
      "\n",
      "24.517681 for {'learning_rate': 0.1, 'random_state': 282}\n",
      "25.259306 for {'learning_rate': 0.2, 'random_state': 282}\n",
      "25.524925 for {'learning_rate': 0.3, 'random_state': 282}\n",
      "26.593219 for {'learning_rate': 0.4, 'random_state': 282}\n",
      "27.365227 for {'learning_rate': 0.5, 'random_state': 282}\n",
      "\n",
      "CPU times: total: 16.7 s\n",
      "Wall time: 4.27 s\n"
     ]
    }
   ],
   "source": [
    "%%time\n",
    "\n",
    "regressor = LGBMRegressor() \n",
    "hyperparams = [{'learning_rate':[x/10 for x in range(1, 6)],\n",
    "                'random_state':[282]}]\n",
    "\n",
    "print('# Tuning hyper-parameters for root_mean_squared_error')\n",
    "print()\n",
    "clf = GridSearchCV(regressor, \n",
    "                   hyperparams, \n",
    "                   scoring='neg_mean_squared_error', \n",
    "                   verbose=1)\n",
    "clf.fit(train_features, train_target)\n",
    "print(\"Best parameters set found on development set:\")\n",
    "print()\n",
    "best_params_LGBMR = clf.best_params_\n",
    "print(best_params_LGBMR)\n",
    "print()\n",
    "print(\"Grid scores on development set:\")\n",
    "print()\n",
    "means = clf.cv_results_['mean_test_score']\n",
    "stds = clf.cv_results_['std_test_score']\n",
    "\n",
    "for mean, std, params in zip(means, stds, clf.cv_results_['params']):\n",
    "    print(\"%0.6f for %r\"% ((mean*-1)** 0.5, params))\n",
    "print()"
   ]
  },
  {
   "cell_type": "code",
   "execution_count": 29,
   "metadata": {},
   "outputs": [
    {
     "name": "stdout",
     "output_type": "stream",
     "text": [
      "# Train for root_mean_squared_error\n",
      "\n",
      "Mean RMSE from CV of LGBMRegressor = 27.30927927327383\n",
      "CPU times: total: 1.69 s\n",
      "Wall time: 456 ms\n"
     ]
    }
   ],
   "source": [
    "%%time\n",
    "\n",
    "regressor = LGBMRegressor()\n",
    "regressor.set_params(**best_params_LGBMR)\n",
    "print('# Train for root_mean_squared_error')\n",
    "print()\n",
    "cv_RMSE_LGBMR = cv_time_series_rmse(regressor=regressor, \n",
    "                                    data=train, \n",
    "                                    target_column='num_orders', \n",
    "                                    n_splits=cv_splits, \n",
    "                                    max_train_size=cv_train_test_split)\n",
    "print('Mean RMSE from CV of LGBMRegressor =', cv_RMSE_LGBMR)"
   ]
  },
  {
   "cell_type": "markdown",
   "metadata": {},
   "source": [
    "Mean RMSE from CV of LGBMRegressor = 27.510281469422267\n",
    "CPU times: user 2.84 s, sys: 36.1 ms, total: 2.88 s\n",
    "Wall time: 2.89 s"
   ]
  },
  {
   "cell_type": "markdown",
   "metadata": {},
   "source": [
    "### Сравнительная таблица:"
   ]
  },
  {
   "cell_type": "code",
   "execution_count": 30,
   "metadata": {},
   "outputs": [
    {
     "data": {
      "text/html": [
       "<div>\n",
       "<style scoped>\n",
       "    .dataframe tbody tr th:only-of-type {\n",
       "        vertical-align: middle;\n",
       "    }\n",
       "\n",
       "    .dataframe tbody tr th {\n",
       "        vertical-align: top;\n",
       "    }\n",
       "\n",
       "    .dataframe thead th {\n",
       "        text-align: right;\n",
       "    }\n",
       "</style>\n",
       "<table border=\"1\" class=\"dataframe\">\n",
       "  <thead>\n",
       "    <tr style=\"text-align: right;\">\n",
       "      <th></th>\n",
       "      <th>RMSE на CV, шт./ час</th>\n",
       "    </tr>\n",
       "  </thead>\n",
       "  <tbody>\n",
       "    <tr>\n",
       "      <th>LGBMRegressor</th>\n",
       "      <td>27.309279</td>\n",
       "    </tr>\n",
       "    <tr>\n",
       "      <th>RandomForestRegressor</th>\n",
       "      <td>27.432650</td>\n",
       "    </tr>\n",
       "    <tr>\n",
       "      <th>LinearRegression</th>\n",
       "      <td>27.529305</td>\n",
       "    </tr>\n",
       "    <tr>\n",
       "      <th>RidgeRegression</th>\n",
       "      <td>27.620758</td>\n",
       "    </tr>\n",
       "  </tbody>\n",
       "</table>\n",
       "</div>"
      ],
      "text/plain": [
       "                       RMSE на CV, шт./ час\n",
       "LGBMRegressor                     27.309279\n",
       "RandomForestRegressor             27.432650\n",
       "LinearRegression                  27.529305\n",
       "RidgeRegression                   27.620758"
      ]
     },
     "execution_count": 30,
     "metadata": {},
     "output_type": "execute_result"
    }
   ],
   "source": [
    "index = ['LinearRegression',\n",
    "         'RandomForestRegressor',\n",
    "         'RidgeRegression',\n",
    "         'LGBMRegressor']\n",
    "\n",
    "data = {'RMSE на CV, шт./ час':[cv_RMSE_LR,\n",
    "                            cv_RMSE_RFR,\n",
    "                            cv_RMSE_R,\n",
    "                            cv_RMSE_LGBMR]\n",
    "       }\n",
    "        \n",
    "pivot = pd.DataFrame(data=data, index=index)\n",
    "pivot.sort_values(by='RMSE на CV, шт./ час')"
   ]
  },
  {
   "cell_type": "markdown",
   "metadata": {},
   "source": [
    "## Тестирование"
   ]
  },
  {
   "cell_type": "markdown",
   "metadata": {},
   "source": [
    "### Регрессия LGBM:"
   ]
  },
  {
   "cell_type": "code",
   "execution_count": 33,
   "metadata": {},
   "outputs": [
    {
     "name": "stdout",
     "output_type": "stream",
     "text": [
      "CPU times: total: 1.31 s\n",
      "Wall time: 421 ms\n"
     ]
    },
    {
     "data": {
      "text/plain": [
       "[<matplotlib.lines.Line2D at 0x212b0f7a5b0>,\n",
       " <matplotlib.lines.Line2D at 0x212b0f84b50>]"
      ]
     },
     "execution_count": 33,
     "metadata": {},
     "output_type": "execute_result"
    },
    {
     "data": {
      "image/png": "[encoded data removed]",
      "text/plain": [
       "<Figure size 1080x648 with 1 Axes>"
      ]
     },
     "metadata": {
      "needs_background": "light"
     },
     "output_type": "display_data"
    }
   ],
   "source": [
    "%%time\n",
    "\n",
    "model = LGBMRegressor()\n",
    "model.set_params(**best_params_LGBMR)\n",
    "model.fit(train_features, train_target)\n",
    "target_predict = model.predict(test_features)\n",
    "final_RMSE_LGBMR = mean_squared_error(test_target, target_predict) ** 0.5\n",
    "\n",
    "plt.figure(figsize=(15,9))\n",
    "plt.plot(test_target.index, \n",
    "         test_target, \n",
    "         'b-', \n",
    "         test_target.index, \n",
    "         target_predict,\n",
    "         'r-')"
   ]
  },
  {
   "cell_type": "code",
   "execution_count": 34,
   "metadata": {},
   "outputs": [
    {
     "data": {
      "text/plain": [
       "42.0262109766554"
      ]
     },
     "execution_count": 34,
     "metadata": {},
     "output_type": "execute_result"
    }
   ],
   "source": [
    "final_RMSE_LGBMR"
   ]
  },
  {
   "cell_type": "markdown",
   "metadata": {},
   "source": [
    "### Вывод:\n",
    "1. Исследованы 4 модели на предмет размера ошибки предскзания количества заказов на следующий день\n",
    "2. По результатам итогового тестирования для предоставления заказчику отобрана модель LGBMRegressor с ошибкой = 42 заказа/час"
   ]
  }
 ],
 "metadata": {
  "ExecuteTimeLog": [
   {
    "duration": 2989,
    "start_time": "2022-12-01T08:25:04.912Z"
   },
   {
    "duration": 1688,
    "start_time": "2022-12-01T08:25:07.903Z"
   },
   {
    "duration": 104,
    "start_time": "2022-12-01T08:25:09.593Z"
   },
   {
    "duration": 162,
    "start_time": "2022-12-01T08:25:21.310Z"
   },
   {
    "duration": 13,
    "start_time": "2022-12-01T08:25:24.379Z"
   },
   {
    "duration": 162,
    "start_time": "2022-12-01T08:30:40.934Z"
   },
   {
    "duration": 359,
    "start_time": "2022-12-01T08:30:59.080Z"
   },
   {
    "duration": 4,
    "start_time": "2022-12-01T08:31:13.061Z"
   },
   {
    "duration": 41,
    "start_time": "2022-12-01T08:31:13.225Z"
   },
   {
    "duration": 7,
    "start_time": "2022-12-01T08:31:13.522Z"
   },
   {
    "duration": 13,
    "start_time": "2022-12-01T08:31:13.672Z"
   },
   {
    "duration": 8,
    "start_time": "2022-12-01T08:31:13.834Z"
   },
   {
    "duration": 19,
    "start_time": "2022-12-01T08:31:14.002Z"
   },
   {
    "duration": 108,
    "start_time": "2022-12-01T08:31:14.161Z"
   },
   {
    "duration": 253,
    "start_time": "2022-12-01T08:31:14.333Z"
   },
   {
    "duration": 113,
    "start_time": "2022-12-01T08:37:38.648Z"
   },
   {
    "duration": 151,
    "start_time": "2022-12-01T08:37:44.595Z"
   },
   {
    "duration": 326,
    "start_time": "2022-12-01T08:37:48.561Z"
   },
   {
    "duration": 120,
    "start_time": "2022-12-01T08:37:54.794Z"
   },
   {
    "duration": 131,
    "start_time": "2022-12-01T08:37:59.318Z"
   },
   {
    "duration": 268,
    "start_time": "2022-12-01T08:38:04.366Z"
   },
   {
    "duration": 117,
    "start_time": "2022-12-01T08:38:08.069Z"
   },
   {
    "duration": 55,
    "start_time": "2022-12-01T09:09:33.862Z"
   },
   {
    "duration": 10,
    "start_time": "2022-12-01T09:09:34.238Z"
   },
   {
    "duration": 11,
    "start_time": "2022-12-01T09:09:37.347Z"
   },
   {
    "duration": 105,
    "start_time": "2022-12-01T09:10:25.650Z"
   },
   {
    "duration": 4,
    "start_time": "2022-12-01T09:10:29.471Z"
   },
   {
    "duration": 697,
    "start_time": "2022-12-01T09:10:53.146Z"
   },
   {
    "duration": 10,
    "start_time": "2022-12-01T09:11:20.661Z"
   },
   {
    "duration": 161,
    "start_time": "2022-12-01T09:11:21.002Z"
   },
   {
    "duration": 6,
    "start_time": "2022-12-01T09:11:48.999Z"
   },
   {
    "duration": 172,
    "start_time": "2022-12-01T09:11:54.176Z"
   },
   {
    "duration": 38,
    "start_time": "2022-12-01T09:12:57.938Z"
   },
   {
    "duration": 16,
    "start_time": "2022-12-01T09:13:10.842Z"
   },
   {
    "duration": 9,
    "start_time": "2022-12-01T09:13:45.504Z"
   },
   {
    "duration": 175,
    "start_time": "2022-12-01T09:14:15.645Z"
   },
   {
    "duration": 646,
    "start_time": "2022-12-01T09:14:56.703Z"
   },
   {
    "duration": 181,
    "start_time": "2022-12-01T09:15:16.251Z"
   },
   {
    "duration": 163,
    "start_time": "2022-12-01T09:15:49.669Z"
   },
   {
    "duration": 1277,
    "start_time": "2022-12-01T09:30:35.051Z"
   },
   {
    "duration": 0,
    "start_time": "2022-12-01T09:30:36.330Z"
   },
   {
    "duration": 0,
    "start_time": "2022-12-01T09:30:36.331Z"
   },
   {
    "duration": 0,
    "start_time": "2022-12-01T09:30:36.333Z"
   },
   {
    "duration": 0,
    "start_time": "2022-12-01T09:30:36.334Z"
   },
   {
    "duration": 12,
    "start_time": "2022-12-01T09:31:15.361Z"
   },
   {
    "duration": 7,
    "start_time": "2022-12-01T09:31:24.572Z"
   },
   {
    "duration": 5,
    "start_time": "2022-12-01T09:31:32.566Z"
   },
   {
    "duration": 288,
    "start_time": "2022-12-01T09:31:34.553Z"
   },
   {
    "duration": 10,
    "start_time": "2022-12-01T09:31:34.843Z"
   },
   {
    "duration": 553,
    "start_time": "2022-12-01T09:31:34.876Z"
   },
   {
    "duration": 170,
    "start_time": "2022-12-01T09:31:35.431Z"
   },
   {
    "duration": 1622,
    "start_time": "2022-12-02T07:33:17.428Z"
   },
   {
    "duration": 105,
    "start_time": "2022-12-02T07:33:19.052Z"
   },
   {
    "duration": 10,
    "start_time": "2022-12-02T07:33:19.159Z"
   },
   {
    "duration": 19,
    "start_time": "2022-12-02T07:33:19.171Z"
   },
   {
    "duration": 5,
    "start_time": "2022-12-02T07:33:19.192Z"
   },
   {
    "duration": 17,
    "start_time": "2022-12-02T07:33:19.199Z"
   },
   {
    "duration": 129,
    "start_time": "2022-12-02T07:33:19.218Z"
   },
   {
    "duration": 350,
    "start_time": "2022-12-02T07:33:19.349Z"
   },
   {
    "duration": 4,
    "start_time": "2022-12-02T07:33:19.700Z"
   },
   {
    "duration": 245,
    "start_time": "2022-12-02T07:33:19.706Z"
   },
   {
    "duration": 10,
    "start_time": "2022-12-02T07:33:19.953Z"
   },
   {
    "duration": 24,
    "start_time": "2022-12-02T07:33:19.965Z"
   },
   {
    "duration": 201,
    "start_time": "2022-12-02T07:33:19.991Z"
   },
   {
    "duration": 7,
    "start_time": "2022-12-02T07:33:20.194Z"
   },
   {
    "duration": 202,
    "start_time": "2022-12-02T07:33:20.202Z"
   },
   {
    "duration": 10,
    "start_time": "2022-12-02T07:33:20.405Z"
   },
   {
    "duration": 598,
    "start_time": "2022-12-02T07:33:20.417Z"
   },
   {
    "duration": 172,
    "start_time": "2022-12-02T07:33:21.017Z"
   },
   {
    "duration": 98,
    "start_time": "2022-12-02T07:33:21.191Z"
   },
   {
    "duration": 0,
    "start_time": "2022-12-02T07:33:21.291Z"
   },
   {
    "duration": 0,
    "start_time": "2022-12-02T07:33:21.292Z"
   },
   {
    "duration": 0,
    "start_time": "2022-12-02T07:33:21.294Z"
   },
   {
    "duration": 0,
    "start_time": "2022-12-02T07:33:21.294Z"
   },
   {
    "duration": 0,
    "start_time": "2022-12-02T07:33:21.295Z"
   },
   {
    "duration": 1390,
    "start_time": "2022-12-02T07:33:34.131Z"
   },
   {
    "duration": 47,
    "start_time": "2022-12-02T07:33:35.523Z"
   },
   {
    "duration": 11,
    "start_time": "2022-12-02T07:33:35.572Z"
   },
   {
    "duration": 10,
    "start_time": "2022-12-02T07:33:35.584Z"
   },
   {
    "duration": 7,
    "start_time": "2022-12-02T07:33:35.597Z"
   },
   {
    "duration": 7,
    "start_time": "2022-12-02T07:33:35.606Z"
   },
   {
    "duration": 126,
    "start_time": "2022-12-02T07:33:35.615Z"
   },
   {
    "duration": 389,
    "start_time": "2022-12-02T07:33:35.743Z"
   },
   {
    "duration": 3,
    "start_time": "2022-12-02T07:33:36.136Z"
   },
   {
    "duration": 251,
    "start_time": "2022-12-02T07:33:36.141Z"
   },
   {
    "duration": 10,
    "start_time": "2022-12-02T07:33:36.394Z"
   },
   {
    "duration": 20,
    "start_time": "2022-12-02T07:33:36.405Z"
   },
   {
    "duration": 182,
    "start_time": "2022-12-02T07:33:36.427Z"
   },
   {
    "duration": 7,
    "start_time": "2022-12-02T07:33:36.611Z"
   },
   {
    "duration": 425,
    "start_time": "2022-12-02T07:33:36.620Z"
   },
   {
    "duration": 11,
    "start_time": "2022-12-02T07:33:37.046Z"
   },
   {
    "duration": 1015,
    "start_time": "2022-12-02T07:33:37.059Z"
   },
   {
    "duration": 385,
    "start_time": "2022-12-02T07:33:38.076Z"
   },
   {
    "duration": 74,
    "start_time": "2022-12-02T07:33:38.463Z"
   },
   {
    "duration": 0,
    "start_time": "2022-12-02T07:33:38.538Z"
   },
   {
    "duration": 0,
    "start_time": "2022-12-02T07:33:38.540Z"
   },
   {
    "duration": 0,
    "start_time": "2022-12-02T07:33:38.541Z"
   },
   {
    "duration": 0,
    "start_time": "2022-12-02T07:33:38.542Z"
   },
   {
    "duration": 0,
    "start_time": "2022-12-02T07:33:38.544Z"
   },
   {
    "duration": 4,
    "start_time": "2022-12-02T07:34:14.871Z"
   },
   {
    "duration": 48,
    "start_time": "2022-12-02T07:34:15.483Z"
   },
   {
    "duration": 7,
    "start_time": "2022-12-02T07:34:17.094Z"
   },
   {
    "duration": 7,
    "start_time": "2022-12-02T07:34:17.562Z"
   },
   {
    "duration": 6,
    "start_time": "2022-12-02T07:34:18.053Z"
   },
   {
    "duration": 6,
    "start_time": "2022-12-02T07:34:21.865Z"
   },
   {
    "duration": 110,
    "start_time": "2022-12-02T07:34:31.027Z"
   },
   {
    "duration": 283,
    "start_time": "2022-12-02T07:34:32.219Z"
   },
   {
    "duration": 3,
    "start_time": "2022-12-02T07:34:34.026Z"
   },
   {
    "duration": 263,
    "start_time": "2022-12-02T07:34:34.447Z"
   },
   {
    "duration": 8,
    "start_time": "2022-12-02T07:34:35.860Z"
   },
   {
    "duration": 8,
    "start_time": "2022-12-02T07:34:37.498Z"
   },
   {
    "duration": 166,
    "start_time": "2022-12-02T07:34:38.038Z"
   },
   {
    "duration": 6,
    "start_time": "2022-12-02T07:34:38.780Z"
   },
   {
    "duration": 49,
    "start_time": "2022-12-02T07:34:56.633Z"
   },
   {
    "duration": 8,
    "start_time": "2022-12-02T07:34:56.963Z"
   },
   {
    "duration": 8,
    "start_time": "2022-12-02T07:34:57.134Z"
   },
   {
    "duration": 6,
    "start_time": "2022-12-02T07:34:57.305Z"
   },
   {
    "duration": 121,
    "start_time": "2022-12-02T07:34:57.475Z"
   },
   {
    "duration": 275,
    "start_time": "2022-12-02T07:35:02.240Z"
   },
   {
    "duration": 4,
    "start_time": "2022-12-02T07:35:04.840Z"
   },
   {
    "duration": 592,
    "start_time": "2022-12-02T07:35:05.371Z"
   },
   {
    "duration": 9,
    "start_time": "2022-12-02T07:35:06.929Z"
   },
   {
    "duration": 9,
    "start_time": "2022-12-02T07:35:07.690Z"
   },
   {
    "duration": 8,
    "start_time": "2022-12-02T07:35:20.399Z"
   },
   {
    "duration": 9,
    "start_time": "2022-12-02T07:35:21.082Z"
   },
   {
    "duration": 158,
    "start_time": "2022-12-02T07:35:25.045Z"
   },
   {
    "duration": 6,
    "start_time": "2022-12-02T07:35:27.230Z"
   },
   {
    "duration": 185,
    "start_time": "2022-12-02T07:35:28.755Z"
   },
   {
    "duration": 10,
    "start_time": "2022-12-02T07:35:31.106Z"
   },
   {
    "duration": 653,
    "start_time": "2022-12-02T07:35:35.728Z"
   },
   {
    "duration": 195,
    "start_time": "2022-12-02T07:35:36.590Z"
   },
   {
    "duration": 171,
    "start_time": "2022-12-02T07:38:09.767Z"
   },
   {
    "duration": 205,
    "start_time": "2022-12-02T07:38:49.303Z"
   },
   {
    "duration": 198,
    "start_time": "2022-12-02T07:38:52.913Z"
   },
   {
    "duration": 178,
    "start_time": "2022-12-02T07:38:56.803Z"
   },
   {
    "duration": 510,
    "start_time": "2022-12-02T07:39:16.949Z"
   },
   {
    "duration": 617,
    "start_time": "2022-12-02T07:39:29.364Z"
   },
   {
    "duration": 15,
    "start_time": "2022-12-02T07:51:46.906Z"
   },
   {
    "duration": 118,
    "start_time": "2022-12-02T07:51:57.384Z"
   },
   {
    "duration": 4,
    "start_time": "2022-12-02T07:52:06.520Z"
   },
   {
    "duration": 16,
    "start_time": "2022-12-02T07:52:09.528Z"
   },
   {
    "duration": 4,
    "start_time": "2022-12-02T07:53:09.162Z"
   },
   {
    "duration": 5,
    "start_time": "2022-12-02T07:53:09.582Z"
   },
   {
    "duration": 180,
    "start_time": "2022-12-02T07:53:10.095Z"
   },
   {
    "duration": 1423,
    "start_time": "2022-12-02T07:53:16.764Z"
   },
   {
    "duration": 46,
    "start_time": "2022-12-02T07:53:18.189Z"
   },
   {
    "duration": 9,
    "start_time": "2022-12-02T07:53:18.237Z"
   },
   {
    "duration": 9,
    "start_time": "2022-12-02T07:53:18.248Z"
   },
   {
    "duration": 5,
    "start_time": "2022-12-02T07:53:18.259Z"
   },
   {
    "duration": 187,
    "start_time": "2022-12-02T07:53:18.266Z"
   },
   {
    "duration": 351,
    "start_time": "2022-12-02T07:53:18.455Z"
   },
   {
    "duration": 4,
    "start_time": "2022-12-02T07:53:18.808Z"
   },
   {
    "duration": 649,
    "start_time": "2022-12-02T07:53:18.813Z"
   },
   {
    "duration": 8,
    "start_time": "2022-12-02T07:53:19.464Z"
   },
   {
    "duration": 225,
    "start_time": "2022-12-02T07:53:19.473Z"
   },
   {
    "duration": 3,
    "start_time": "2022-12-02T07:53:19.700Z"
   },
   {
    "duration": 22,
    "start_time": "2022-12-02T07:53:19.705Z"
   },
   {
    "duration": 234,
    "start_time": "2022-12-02T07:53:19.729Z"
   },
   {
    "duration": 11,
    "start_time": "2022-12-02T07:53:19.965Z"
   },
   {
    "duration": 132,
    "start_time": "2022-12-02T07:53:19.978Z"
   },
   {
    "duration": 0,
    "start_time": "2022-12-02T07:53:20.112Z"
   },
   {
    "duration": 0,
    "start_time": "2022-12-02T07:53:20.113Z"
   },
   {
    "duration": 0,
    "start_time": "2022-12-02T07:53:20.114Z"
   },
   {
    "duration": 0,
    "start_time": "2022-12-02T07:53:20.116Z"
   },
   {
    "duration": 0,
    "start_time": "2022-12-02T07:53:20.136Z"
   },
   {
    "duration": 0,
    "start_time": "2022-12-02T07:53:20.137Z"
   },
   {
    "duration": 0,
    "start_time": "2022-12-02T07:53:20.138Z"
   },
   {
    "duration": 0,
    "start_time": "2022-12-02T07:53:20.139Z"
   },
   {
    "duration": 4,
    "start_time": "2022-12-02T07:55:01.820Z"
   },
   {
    "duration": 262,
    "start_time": "2022-12-02T07:55:02.200Z"
   },
   {
    "duration": 3,
    "start_time": "2022-12-02T07:55:14.801Z"
   },
   {
    "duration": 6,
    "start_time": "2022-12-02T07:55:15.101Z"
   },
   {
    "duration": 235,
    "start_time": "2022-12-02T07:55:15.522Z"
   },
   {
    "duration": 12,
    "start_time": "2022-12-02T07:55:15.786Z"
   },
   {
    "duration": 16,
    "start_time": "2022-12-02T07:55:16.014Z"
   },
   {
    "duration": 10,
    "start_time": "2022-12-02T07:55:16.185Z"
   },
   {
    "duration": 4,
    "start_time": "2022-12-02T07:55:26.143Z"
   },
   {
    "duration": 49,
    "start_time": "2022-12-02T07:55:26.805Z"
   },
   {
    "duration": 7,
    "start_time": "2022-12-02T07:55:27.116Z"
   },
   {
    "duration": 9,
    "start_time": "2022-12-02T07:55:27.258Z"
   },
   {
    "duration": 7,
    "start_time": "2022-12-02T07:55:27.399Z"
   },
   {
    "duration": 123,
    "start_time": "2022-12-02T07:55:27.558Z"
   },
   {
    "duration": 354,
    "start_time": "2022-12-02T07:55:27.699Z"
   },
   {
    "duration": 3,
    "start_time": "2022-12-02T07:55:28.171Z"
   },
   {
    "duration": 623,
    "start_time": "2022-12-02T07:55:28.343Z"
   },
   {
    "duration": 6,
    "start_time": "2022-12-02T07:55:28.968Z"
   },
   {
    "duration": 10,
    "start_time": "2022-12-02T07:55:28.975Z"
   },
   {
    "duration": 214,
    "start_time": "2022-12-02T07:55:28.987Z"
   },
   {
    "duration": 4,
    "start_time": "2022-12-02T07:55:29.203Z"
   },
   {
    "duration": 13,
    "start_time": "2022-12-02T07:55:29.209Z"
   },
   {
    "duration": 248,
    "start_time": "2022-12-02T07:55:29.256Z"
   },
   {
    "duration": 11,
    "start_time": "2022-12-02T07:55:29.506Z"
   },
   {
    "duration": 12,
    "start_time": "2022-12-02T07:55:29.748Z"
   },
   {
    "duration": 5,
    "start_time": "2022-12-02T08:02:49.460Z"
   },
   {
    "duration": 13,
    "start_time": "2022-12-02T08:16:08.529Z"
   },
   {
    "duration": 791,
    "start_time": "2022-12-02T08:17:07.701Z"
   },
   {
    "duration": 24,
    "start_time": "2022-12-02T08:17:55.823Z"
   },
   {
    "duration": 5,
    "start_time": "2022-12-02T08:21:24.606Z"
   },
   {
    "duration": 4,
    "start_time": "2022-12-02T08:22:10.139Z"
   },
   {
    "duration": 18,
    "start_time": "2022-12-02T08:22:28.363Z"
   },
   {
    "duration": 6,
    "start_time": "2022-12-02T08:22:28.548Z"
   },
   {
    "duration": 18,
    "start_time": "2022-12-02T08:22:37.866Z"
   },
   {
    "duration": 6,
    "start_time": "2022-12-02T08:22:48.297Z"
   },
   {
    "duration": 24,
    "start_time": "2022-12-02T08:25:46.975Z"
   },
   {
    "duration": 5,
    "start_time": "2022-12-02T08:25:47.331Z"
   },
   {
    "duration": 24,
    "start_time": "2022-12-02T08:25:56.703Z"
   },
   {
    "duration": 6,
    "start_time": "2022-12-02T08:25:57.101Z"
   },
   {
    "duration": 21,
    "start_time": "2022-12-02T08:26:04.473Z"
   },
   {
    "duration": 6,
    "start_time": "2022-12-02T08:26:05.100Z"
   },
   {
    "duration": 482,
    "start_time": "2022-12-02T08:28:09.283Z"
   },
   {
    "duration": 1646,
    "start_time": "2022-12-02T08:28:21.224Z"
   },
   {
    "duration": 83,
    "start_time": "2022-12-02T08:28:22.872Z"
   },
   {
    "duration": 14,
    "start_time": "2022-12-02T08:28:22.956Z"
   },
   {
    "duration": 65,
    "start_time": "2022-12-02T08:28:22.972Z"
   },
   {
    "duration": 17,
    "start_time": "2022-12-02T08:28:23.039Z"
   },
   {
    "duration": 294,
    "start_time": "2022-12-02T08:28:23.061Z"
   },
   {
    "duration": 717,
    "start_time": "2022-12-02T08:28:23.356Z"
   },
   {
    "duration": 4,
    "start_time": "2022-12-02T08:28:24.075Z"
   },
   {
    "duration": 1293,
    "start_time": "2022-12-02T08:28:24.080Z"
   },
   {
    "duration": 8,
    "start_time": "2022-12-02T08:28:25.376Z"
   },
   {
    "duration": 8,
    "start_time": "2022-12-02T08:28:25.435Z"
   },
   {
    "duration": 394,
    "start_time": "2022-12-02T08:28:25.444Z"
   },
   {
    "duration": 3,
    "start_time": "2022-12-02T08:28:25.840Z"
   },
   {
    "duration": 16,
    "start_time": "2022-12-02T08:28:25.845Z"
   },
   {
    "duration": 482,
    "start_time": "2022-12-02T08:28:25.862Z"
   },
   {
    "duration": 12,
    "start_time": "2022-12-02T08:28:26.346Z"
   },
   {
    "duration": 131,
    "start_time": "2022-12-02T08:28:26.360Z"
   },
   {
    "duration": 0,
    "start_time": "2022-12-02T08:28:26.493Z"
   },
   {
    "duration": 0,
    "start_time": "2022-12-02T08:28:26.494Z"
   },
   {
    "duration": 0,
    "start_time": "2022-12-02T08:28:26.495Z"
   },
   {
    "duration": 0,
    "start_time": "2022-12-02T08:28:26.496Z"
   },
   {
    "duration": 0,
    "start_time": "2022-12-02T08:28:26.497Z"
   },
   {
    "duration": 0,
    "start_time": "2022-12-02T08:28:26.498Z"
   },
   {
    "duration": 0,
    "start_time": "2022-12-02T08:28:26.499Z"
   },
   {
    "duration": 0,
    "start_time": "2022-12-02T08:28:26.500Z"
   },
   {
    "duration": 0,
    "start_time": "2022-12-02T08:28:26.501Z"
   },
   {
    "duration": 0,
    "start_time": "2022-12-02T08:28:26.502Z"
   },
   {
    "duration": 234,
    "start_time": "2022-12-02T08:30:04.360Z"
   },
   {
    "duration": 7,
    "start_time": "2022-12-02T08:30:09.015Z"
   },
   {
    "duration": 356,
    "start_time": "2022-12-02T08:30:11.706Z"
   },
   {
    "duration": 262,
    "start_time": "2022-12-02T08:30:22.930Z"
   },
   {
    "duration": 277,
    "start_time": "2022-12-02T08:30:29.672Z"
   },
   {
    "duration": 46,
    "start_time": "2022-12-02T08:30:37.254Z"
   },
   {
    "duration": 7,
    "start_time": "2022-12-02T08:30:37.792Z"
   },
   {
    "duration": 7,
    "start_time": "2022-12-02T08:30:43.691Z"
   },
   {
    "duration": 8,
    "start_time": "2022-12-02T08:30:47.249Z"
   },
   {
    "duration": 10,
    "start_time": "2022-12-02T08:30:47.952Z"
   },
   {
    "duration": 6,
    "start_time": "2022-12-02T08:30:48.883Z"
   },
   {
    "duration": 137,
    "start_time": "2022-12-02T08:30:49.678Z"
   },
   {
    "duration": 244,
    "start_time": "2022-12-02T08:30:52.055Z"
   },
   {
    "duration": 9,
    "start_time": "2022-12-02T08:32:30.689Z"
   },
   {
    "duration": 203,
    "start_time": "2022-12-02T08:32:31.387Z"
   },
   {
    "duration": 345,
    "start_time": "2022-12-02T08:32:44.293Z"
   },
   {
    "duration": 187,
    "start_time": "2022-12-02T08:48:13.852Z"
   },
   {
    "duration": 3,
    "start_time": "2022-12-02T09:02:10.856Z"
   },
   {
    "duration": 6,
    "start_time": "2022-12-02T09:02:11.203Z"
   },
   {
    "duration": 267,
    "start_time": "2022-12-02T09:02:11.762Z"
   },
   {
    "duration": 12,
    "start_time": "2022-12-02T09:03:09.841Z"
   },
   {
    "duration": 64,
    "start_time": "2022-12-02T09:07:21.788Z"
   },
   {
    "duration": 11,
    "start_time": "2022-12-02T09:07:22.114Z"
   },
   {
    "duration": 12,
    "start_time": "2022-12-02T09:07:22.265Z"
   },
   {
    "duration": 12,
    "start_time": "2022-12-02T09:07:22.422Z"
   },
   {
    "duration": 193,
    "start_time": "2022-12-02T09:07:22.542Z"
   },
   {
    "duration": 272,
    "start_time": "2022-12-02T09:07:22.752Z"
   },
   {
    "duration": 4,
    "start_time": "2022-12-02T09:07:23.384Z"
   },
   {
    "duration": 10,
    "start_time": "2022-12-02T09:07:24.571Z"
   },
   {
    "duration": 338,
    "start_time": "2022-12-02T09:07:25.148Z"
   },
   {
    "duration": 4,
    "start_time": "2022-12-02T09:07:26.580Z"
   },
   {
    "duration": 52,
    "start_time": "2022-12-02T09:08:15.219Z"
   },
   {
    "duration": 9,
    "start_time": "2022-12-02T09:08:15.534Z"
   },
   {
    "duration": 9,
    "start_time": "2022-12-02T09:08:15.705Z"
   },
   {
    "duration": 7,
    "start_time": "2022-12-02T09:08:15.852Z"
   },
   {
    "duration": 150,
    "start_time": "2022-12-02T09:08:16.013Z"
   },
   {
    "duration": 265,
    "start_time": "2022-12-02T09:08:16.184Z"
   },
   {
    "duration": 4,
    "start_time": "2022-12-02T09:08:16.856Z"
   },
   {
    "duration": 7,
    "start_time": "2022-12-02T09:08:17.150Z"
   },
   {
    "duration": 476,
    "start_time": "2022-12-02T09:08:19.133Z"
   },
   {
    "duration": 191,
    "start_time": "2022-12-02T09:08:45.236Z"
   },
   {
    "duration": 868,
    "start_time": "2022-12-02T09:09:06.265Z"
   },
   {
    "duration": 864,
    "start_time": "2022-12-02T09:13:20.716Z"
   },
   {
    "duration": 1042,
    "start_time": "2022-12-02T09:13:32.102Z"
   },
   {
    "duration": 628,
    "start_time": "2022-12-02T09:13:40.810Z"
   },
   {
    "duration": 26,
    "start_time": "2022-12-02T09:13:55.772Z"
   },
   {
    "duration": 22,
    "start_time": "2022-12-02T09:14:06.983Z"
   },
   {
    "duration": 824,
    "start_time": "2022-12-02T09:14:09.459Z"
   },
   {
    "duration": 914,
    "start_time": "2022-12-02T09:14:21.559Z"
   },
   {
    "duration": 587,
    "start_time": "2022-12-02T09:14:54.726Z"
   },
   {
    "duration": 872,
    "start_time": "2022-12-02T09:16:05.707Z"
   },
   {
    "duration": 698,
    "start_time": "2022-12-02T09:16:14.125Z"
   },
   {
    "duration": 7,
    "start_time": "2022-12-02T11:29:49.399Z"
   },
   {
    "duration": 438,
    "start_time": "2022-12-02T11:29:49.819Z"
   },
   {
    "duration": 276,
    "start_time": "2022-12-02T11:41:56.552Z"
   },
   {
    "duration": 1725,
    "start_time": "2022-12-02T11:42:59.460Z"
   },
   {
    "duration": 71,
    "start_time": "2022-12-02T11:43:01.187Z"
   },
   {
    "duration": 14,
    "start_time": "2022-12-02T11:43:01.260Z"
   },
   {
    "duration": 24,
    "start_time": "2022-12-02T11:43:01.277Z"
   },
   {
    "duration": 21,
    "start_time": "2022-12-02T11:43:01.303Z"
   },
   {
    "duration": 264,
    "start_time": "2022-12-02T11:43:01.326Z"
   },
   {
    "duration": 408,
    "start_time": "2022-12-02T11:43:01.592Z"
   },
   {
    "duration": 4,
    "start_time": "2022-12-02T11:43:02.009Z"
   },
   {
    "duration": 84,
    "start_time": "2022-12-02T11:43:02.015Z"
   },
   {
    "duration": 403,
    "start_time": "2022-12-02T11:43:02.102Z"
   },
   {
    "duration": 476,
    "start_time": "2022-12-02T11:43:02.507Z"
   },
   {
    "duration": 589,
    "start_time": "2022-12-02T11:43:02.985Z"
   },
   {
    "duration": 1902,
    "start_time": "2022-12-02T11:43:03.576Z"
   },
   {
    "duration": 7,
    "start_time": "2022-12-02T11:43:05.481Z"
   },
   {
    "duration": 449,
    "start_time": "2022-12-02T11:43:05.490Z"
   },
   {
    "duration": 6,
    "start_time": "2022-12-02T11:43:05.944Z"
   },
   {
    "duration": 153,
    "start_time": "2022-12-02T11:43:05.952Z"
   },
   {
    "duration": 0,
    "start_time": "2022-12-02T11:43:06.107Z"
   },
   {
    "duration": 0,
    "start_time": "2022-12-02T11:43:06.109Z"
   },
   {
    "duration": 0,
    "start_time": "2022-12-02T11:43:06.110Z"
   },
   {
    "duration": 0,
    "start_time": "2022-12-02T11:43:06.113Z"
   },
   {
    "duration": 0,
    "start_time": "2022-12-02T11:43:06.114Z"
   },
   {
    "duration": 0,
    "start_time": "2022-12-02T11:43:06.116Z"
   },
   {
    "duration": 71,
    "start_time": "2022-12-02T11:44:03.275Z"
   },
   {
    "duration": 12,
    "start_time": "2022-12-02T11:44:11.754Z"
   },
   {
    "duration": 1654,
    "start_time": "2022-12-02T11:44:22.030Z"
   },
   {
    "duration": 113,
    "start_time": "2022-12-02T11:44:23.686Z"
   },
   {
    "duration": 52,
    "start_time": "2022-12-02T11:44:23.801Z"
   },
   {
    "duration": 41,
    "start_time": "2022-12-02T11:44:23.857Z"
   },
   {
    "duration": 6,
    "start_time": "2022-12-02T11:44:23.937Z"
   },
   {
    "duration": 424,
    "start_time": "2022-12-02T11:44:23.945Z"
   },
   {
    "duration": 888,
    "start_time": "2022-12-02T11:44:24.371Z"
   },
   {
    "duration": 4,
    "start_time": "2022-12-02T11:44:25.261Z"
   },
   {
    "duration": 37,
    "start_time": "2022-12-02T11:44:25.266Z"
   },
   {
    "duration": 286,
    "start_time": "2022-12-02T11:44:25.305Z"
   },
   {
    "duration": 204,
    "start_time": "2022-12-02T11:44:25.593Z"
   },
   {
    "duration": 230,
    "start_time": "2022-12-02T11:44:25.799Z"
   },
   {
    "duration": 538,
    "start_time": "2022-12-02T11:44:26.031Z"
   },
   {
    "duration": 0,
    "start_time": "2022-12-02T11:44:26.571Z"
   },
   {
    "duration": 0,
    "start_time": "2022-12-02T11:44:26.573Z"
   },
   {
    "duration": 0,
    "start_time": "2022-12-02T11:44:26.575Z"
   },
   {
    "duration": 0,
    "start_time": "2022-12-02T11:44:26.576Z"
   },
   {
    "duration": 1,
    "start_time": "2022-12-02T11:44:26.577Z"
   },
   {
    "duration": 0,
    "start_time": "2022-12-02T11:44:26.579Z"
   },
   {
    "duration": 0,
    "start_time": "2022-12-02T11:44:26.580Z"
   },
   {
    "duration": 0,
    "start_time": "2022-12-02T11:44:26.582Z"
   },
   {
    "duration": 0,
    "start_time": "2022-12-02T11:44:26.583Z"
   },
   {
    "duration": 0,
    "start_time": "2022-12-02T11:44:26.585Z"
   },
   {
    "duration": 408,
    "start_time": "2022-12-02T11:44:43.253Z"
   },
   {
    "duration": 854,
    "start_time": "2022-12-02T11:44:53.152Z"
   },
   {
    "duration": 6,
    "start_time": "2022-12-02T11:46:23.824Z"
   },
   {
    "duration": 262,
    "start_time": "2022-12-02T11:46:24.368Z"
   },
   {
    "duration": 10,
    "start_time": "2022-12-02T13:06:45.971Z"
   },
   {
    "duration": 5,
    "start_time": "2022-12-02T13:07:57.262Z"
   },
   {
    "duration": 10,
    "start_time": "2022-12-02T13:08:02.987Z"
   },
   {
    "duration": 22,
    "start_time": "2022-12-02T13:08:43.608Z"
   },
   {
    "duration": 6,
    "start_time": "2022-12-02T13:08:43.982Z"
   },
   {
    "duration": 11,
    "start_time": "2022-12-02T13:08:44.412Z"
   },
   {
    "duration": 59,
    "start_time": "2022-12-02T13:54:14.650Z"
   },
   {
    "duration": 1634,
    "start_time": "2022-12-03T11:06:26.473Z"
   },
   {
    "duration": 178,
    "start_time": "2022-12-03T11:06:28.109Z"
   },
   {
    "duration": 12,
    "start_time": "2022-12-03T11:06:28.288Z"
   },
   {
    "duration": 11,
    "start_time": "2022-12-03T11:06:28.303Z"
   },
   {
    "duration": 8,
    "start_time": "2022-12-03T11:06:28.316Z"
   },
   {
    "duration": 176,
    "start_time": "2022-12-03T11:06:28.326Z"
   },
   {
    "duration": 331,
    "start_time": "2022-12-03T11:06:28.503Z"
   },
   {
    "duration": 3,
    "start_time": "2022-12-03T11:06:28.836Z"
   },
   {
    "duration": 12,
    "start_time": "2022-12-03T11:06:28.840Z"
   },
   {
    "duration": 242,
    "start_time": "2022-12-03T11:06:28.939Z"
   },
   {
    "duration": 178,
    "start_time": "2022-12-03T11:06:29.308Z"
   },
   {
    "duration": 202,
    "start_time": "2022-12-03T11:06:29.490Z"
   },
   {
    "duration": 689,
    "start_time": "2022-12-03T11:06:29.871Z"
   },
   {
    "duration": 236,
    "start_time": "2022-12-03T11:06:30.562Z"
   },
   {
    "duration": 181,
    "start_time": "2022-12-03T11:06:30.800Z"
   },
   {
    "duration": 5,
    "start_time": "2022-12-03T11:06:31.116Z"
   },
   {
    "duration": 286,
    "start_time": "2022-12-03T11:38:12.652Z"
   },
   {
    "duration": 63,
    "start_time": "2022-12-03T11:38:32.200Z"
   },
   {
    "duration": 8,
    "start_time": "2022-12-03T11:38:32.501Z"
   },
   {
    "duration": 10,
    "start_time": "2022-12-03T11:38:32.645Z"
   },
   {
    "duration": 6,
    "start_time": "2022-12-03T11:38:32.805Z"
   },
   {
    "duration": 142,
    "start_time": "2022-12-03T11:38:32.956Z"
   },
   {
    "duration": 269,
    "start_time": "2022-12-03T11:38:33.126Z"
   },
   {
    "duration": 3,
    "start_time": "2022-12-03T11:38:34.461Z"
   },
   {
    "duration": 8,
    "start_time": "2022-12-03T11:38:36.130Z"
   },
   {
    "duration": 138,
    "start_time": "2022-12-03T11:38:36.693Z"
   },
   {
    "duration": 74,
    "start_time": "2022-12-03T11:39:52.517Z"
   },
   {
    "duration": 447,
    "start_time": "2022-12-03T11:39:55.931Z"
   },
   {
    "duration": 533,
    "start_time": "2022-12-03T11:40:07.169Z"
   },
   {
    "duration": 9,
    "start_time": "2022-12-03T11:40:39.919Z"
   },
   {
    "duration": 343,
    "start_time": "2022-12-03T11:40:52.896Z"
   },
   {
    "duration": 465,
    "start_time": "2022-12-03T11:41:04.773Z"
   },
   {
    "duration": 222,
    "start_time": "2022-12-03T11:41:17.146Z"
   },
   {
    "duration": 11,
    "start_time": "2022-12-03T11:58:08.876Z"
   },
   {
    "duration": 7446,
    "start_time": "2022-12-03T11:58:17.074Z"
   },
   {
    "duration": 791,
    "start_time": "2022-12-03T12:37:16.382Z"
   },
   {
    "duration": 932,
    "start_time": "2022-12-03T12:37:43.792Z"
   },
   {
    "duration": 163,
    "start_time": "2022-12-03T12:39:45.491Z"
   },
   {
    "duration": 46,
    "start_time": "2022-12-03T12:39:47.004Z"
   },
   {
    "duration": 7,
    "start_time": "2022-12-03T12:39:47.320Z"
   },
   {
    "duration": 9,
    "start_time": "2022-12-03T12:39:47.482Z"
   },
   {
    "duration": 5,
    "start_time": "2022-12-03T12:39:47.637Z"
   },
   {
    "duration": 115,
    "start_time": "2022-12-03T12:39:47.798Z"
   },
   {
    "duration": 251,
    "start_time": "2022-12-03T12:39:47.959Z"
   },
   {
    "duration": 3,
    "start_time": "2022-12-03T12:39:48.632Z"
   },
   {
    "duration": 9,
    "start_time": "2022-12-03T12:39:48.924Z"
   },
   {
    "duration": 241,
    "start_time": "2022-12-03T12:39:49.109Z"
   },
   {
    "duration": 170,
    "start_time": "2022-12-03T12:39:49.436Z"
   },
   {
    "duration": 176,
    "start_time": "2022-12-03T12:39:50.305Z"
   },
   {
    "duration": 1067,
    "start_time": "2022-12-03T12:39:51.190Z"
   },
   {
    "duration": 30,
    "start_time": "2022-12-03T12:41:16.716Z"
   },
   {
    "duration": 215,
    "start_time": "2022-12-03T12:41:28.568Z"
   },
   {
    "duration": 4,
    "start_time": "2022-12-03T12:43:05.707Z"
   },
   {
    "duration": 409,
    "start_time": "2022-12-03T12:43:11.832Z"
   },
   {
    "duration": 771,
    "start_time": "2022-12-03T12:44:07.188Z"
   },
   {
    "duration": 21526,
    "start_time": "2022-12-03T12:44:22.479Z"
   },
   {
    "duration": 7597,
    "start_time": "2022-12-03T12:44:45.994Z"
   },
   {
    "duration": 3292,
    "start_time": "2022-12-03T12:44:57.535Z"
   },
   {
    "duration": 1197,
    "start_time": "2022-12-03T13:02:07.327Z"
   },
   {
    "duration": 5,
    "start_time": "2022-12-03T13:04:45.435Z"
   },
   {
    "duration": 10,
    "start_time": "2022-12-03T13:14:51.136Z"
   },
   {
    "duration": 11,
    "start_time": "2022-12-03T13:14:55.337Z"
   },
   {
    "duration": 4,
    "start_time": "2022-12-03T13:15:00.242Z"
   },
   {
    "duration": 9,
    "start_time": "2022-12-03T13:15:05.379Z"
   },
   {
    "duration": 10,
    "start_time": "2022-12-03T13:15:09.351Z"
   },
   {
    "duration": 10,
    "start_time": "2022-12-03T13:15:11.716Z"
   },
   {
    "duration": 10,
    "start_time": "2022-12-03T13:15:22.500Z"
   },
   {
    "duration": 10,
    "start_time": "2022-12-03T13:16:09.571Z"
   },
   {
    "duration": 70,
    "start_time": "2022-12-03T13:16:12.795Z"
   },
   {
    "duration": 11,
    "start_time": "2022-12-03T13:16:14.418Z"
   },
   {
    "duration": 11,
    "start_time": "2022-12-03T13:16:17.941Z"
   },
   {
    "duration": 6,
    "start_time": "2022-12-03T13:16:19.566Z"
   },
   {
    "duration": 1918,
    "start_time": "2022-12-05T05:38:17.392Z"
   },
   {
    "duration": 141,
    "start_time": "2022-12-05T05:38:19.312Z"
   },
   {
    "duration": 9,
    "start_time": "2022-12-05T05:38:19.455Z"
   },
   {
    "duration": 8,
    "start_time": "2022-12-05T05:38:19.466Z"
   },
   {
    "duration": 6,
    "start_time": "2022-12-05T05:38:19.476Z"
   },
   {
    "duration": 160,
    "start_time": "2022-12-05T05:38:19.483Z"
   },
   {
    "duration": 256,
    "start_time": "2022-12-05T05:38:19.647Z"
   },
   {
    "duration": 4,
    "start_time": "2022-12-05T05:38:19.904Z"
   },
   {
    "duration": 19,
    "start_time": "2022-12-05T05:38:19.909Z"
   },
   {
    "duration": 251,
    "start_time": "2022-12-05T05:38:19.934Z"
   },
   {
    "duration": 193,
    "start_time": "2022-12-05T05:38:20.187Z"
   },
   {
    "duration": 234,
    "start_time": "2022-12-05T05:38:20.382Z"
   },
   {
    "duration": 1037,
    "start_time": "2022-12-05T05:38:20.618Z"
   },
   {
    "duration": 2702,
    "start_time": "2022-12-05T05:38:21.659Z"
   },
   {
    "duration": 379,
    "start_time": "2022-12-05T05:38:24.362Z"
   },
   {
    "duration": 1,
    "start_time": "2022-12-05T05:38:24.743Z"
   },
   {
    "duration": 0,
    "start_time": "2022-12-05T05:38:24.745Z"
   },
   {
    "duration": 0,
    "start_time": "2022-12-05T05:38:24.746Z"
   },
   {
    "duration": 0,
    "start_time": "2022-12-05T05:38:24.749Z"
   },
   {
    "duration": 0,
    "start_time": "2022-12-05T05:38:24.750Z"
   },
   {
    "duration": 0,
    "start_time": "2022-12-05T05:38:24.753Z"
   },
   {
    "duration": 0,
    "start_time": "2022-12-05T05:38:24.755Z"
   },
   {
    "duration": 0,
    "start_time": "2022-12-05T05:38:24.756Z"
   },
   {
    "duration": 8209,
    "start_time": "2022-12-05T05:39:04.778Z"
   },
   {
    "duration": 7914,
    "start_time": "2022-12-05T05:39:28.099Z"
   },
   {
    "duration": 8770,
    "start_time": "2022-12-05T05:40:00.147Z"
   },
   {
    "duration": 8955,
    "start_time": "2022-12-05T05:40:27.434Z"
   },
   {
    "duration": 8717,
    "start_time": "2022-12-05T05:40:41.463Z"
   },
   {
    "duration": 1721,
    "start_time": "2022-12-05T10:40:13.299Z"
   },
   {
    "duration": 193,
    "start_time": "2022-12-05T10:40:15.022Z"
   },
   {
    "duration": 10,
    "start_time": "2022-12-05T10:40:15.217Z"
   },
   {
    "duration": 14,
    "start_time": "2022-12-05T10:40:15.229Z"
   },
   {
    "duration": 9,
    "start_time": "2022-12-05T10:40:15.245Z"
   },
   {
    "duration": 138,
    "start_time": "2022-12-05T10:40:15.255Z"
   },
   {
    "duration": 232,
    "start_time": "2022-12-05T10:40:15.395Z"
   },
   {
    "duration": 4,
    "start_time": "2022-12-05T10:40:15.629Z"
   },
   {
    "duration": 48,
    "start_time": "2022-12-05T10:40:15.635Z"
   },
   {
    "duration": 267,
    "start_time": "2022-12-05T10:40:15.685Z"
   },
   {
    "duration": 184,
    "start_time": "2022-12-05T10:40:15.954Z"
   },
   {
    "duration": 197,
    "start_time": "2022-12-05T10:40:16.140Z"
   },
   {
    "duration": 933,
    "start_time": "2022-12-05T10:40:16.366Z"
   },
   {
    "duration": 1235,
    "start_time": "2022-12-05T10:40:17.301Z"
   },
   {
    "duration": 6474,
    "start_time": "2022-12-05T10:40:18.538Z"
   },
   {
    "duration": 7,
    "start_time": "2022-12-05T10:40:45.756Z"
   },
   {
    "duration": 4,
    "start_time": "2022-12-05T10:41:30.071Z"
   },
   {
    "duration": 3,
    "start_time": "2022-12-05T10:41:42.547Z"
   },
   {
    "duration": 4,
    "start_time": "2022-12-05T10:42:14.758Z"
   },
   {
    "duration": 5,
    "start_time": "2022-12-05T10:44:14.189Z"
   },
   {
    "duration": 5,
    "start_time": "2022-12-05T10:46:31.167Z"
   },
   {
    "duration": 4,
    "start_time": "2022-12-05T10:52:07.287Z"
   },
   {
    "duration": 123,
    "start_time": "2022-12-05T10:52:10.928Z"
   },
   {
    "duration": 10,
    "start_time": "2022-12-05T10:52:23.467Z"
   },
   {
    "duration": 11,
    "start_time": "2022-12-05T10:52:51.694Z"
   },
   {
    "duration": 11,
    "start_time": "2022-12-05T10:53:03.944Z"
   },
   {
    "duration": 2,
    "start_time": "2022-12-05T10:54:38.560Z"
   },
   {
    "duration": 27,
    "start_time": "2022-12-05T10:54:46.281Z"
   },
   {
    "duration": 5,
    "start_time": "2022-12-05T10:54:48.689Z"
   },
   {
    "duration": 141,
    "start_time": "2022-12-05T10:54:51.392Z"
   },
   {
    "duration": 1512,
    "start_time": "2022-12-05T11:23:16.667Z"
   },
   {
    "duration": 48,
    "start_time": "2022-12-05T11:23:18.181Z"
   },
   {
    "duration": 9,
    "start_time": "2022-12-05T11:23:18.231Z"
   },
   {
    "duration": 11,
    "start_time": "2022-12-05T11:23:18.241Z"
   },
   {
    "duration": 5,
    "start_time": "2022-12-05T11:23:18.253Z"
   },
   {
    "duration": 138,
    "start_time": "2022-12-05T11:23:18.259Z"
   },
   {
    "duration": 251,
    "start_time": "2022-12-05T11:23:18.399Z"
   },
   {
    "duration": 3,
    "start_time": "2022-12-05T11:23:18.651Z"
   },
   {
    "duration": 21,
    "start_time": "2022-12-05T11:23:18.655Z"
   },
   {
    "duration": 244,
    "start_time": "2022-12-05T11:23:18.678Z"
   },
   {
    "duration": 177,
    "start_time": "2022-12-05T11:23:18.924Z"
   },
   {
    "duration": 210,
    "start_time": "2022-12-05T11:23:19.103Z"
   },
   {
    "duration": 1824,
    "start_time": "2022-12-05T11:23:19.315Z"
   },
   {
    "duration": 1414,
    "start_time": "2022-12-05T11:23:21.142Z"
   },
   {
    "duration": 3,
    "start_time": "2022-12-05T11:23:22.557Z"
   },
   {
    "duration": 10,
    "start_time": "2022-12-05T11:23:22.561Z"
   },
   {
    "duration": 6621,
    "start_time": "2022-12-05T11:23:22.572Z"
   },
   {
    "duration": 4,
    "start_time": "2022-12-05T11:23:29.195Z"
   },
   {
    "duration": 17,
    "start_time": "2022-12-05T11:23:29.200Z"
   },
   {
    "duration": 31,
    "start_time": "2022-12-05T11:23:29.219Z"
   },
   {
    "duration": 137,
    "start_time": "2022-12-05T11:23:29.252Z"
   },
   {
    "duration": 0,
    "start_time": "2022-12-05T11:23:29.391Z"
   },
   {
    "duration": 0,
    "start_time": "2022-12-05T11:23:29.392Z"
   },
   {
    "duration": 0,
    "start_time": "2022-12-05T11:23:29.393Z"
   },
   {
    "duration": 0,
    "start_time": "2022-12-05T11:23:29.393Z"
   },
   {
    "duration": 29,
    "start_time": "2022-12-05T11:28:00.941Z"
   },
   {
    "duration": 4,
    "start_time": "2022-12-05T11:28:01.287Z"
   },
   {
    "duration": 162,
    "start_time": "2022-12-05T11:28:02.570Z"
   },
   {
    "duration": 4,
    "start_time": "2022-12-05T11:35:01.097Z"
   },
   {
    "duration": 4,
    "start_time": "2022-12-05T11:35:11.177Z"
   },
   {
    "duration": 3,
    "start_time": "2022-12-05T11:35:11.765Z"
   },
   {
    "duration": 1556,
    "start_time": "2022-12-05T11:35:53.249Z"
   },
   {
    "duration": 48,
    "start_time": "2022-12-05T11:35:54.806Z"
   },
   {
    "duration": 10,
    "start_time": "2022-12-05T11:35:54.855Z"
   },
   {
    "duration": 8,
    "start_time": "2022-12-05T11:35:54.867Z"
   },
   {
    "duration": 5,
    "start_time": "2022-12-05T11:35:54.877Z"
   },
   {
    "duration": 145,
    "start_time": "2022-12-05T11:35:54.884Z"
   },
   {
    "duration": 238,
    "start_time": "2022-12-05T11:35:55.031Z"
   },
   {
    "duration": 3,
    "start_time": "2022-12-05T11:35:55.271Z"
   },
   {
    "duration": 10,
    "start_time": "2022-12-05T11:35:55.276Z"
   },
   {
    "duration": 240,
    "start_time": "2022-12-05T11:35:55.288Z"
   },
   {
    "duration": 165,
    "start_time": "2022-12-05T11:35:55.530Z"
   },
   {
    "duration": 208,
    "start_time": "2022-12-05T11:35:55.697Z"
   },
   {
    "duration": 930,
    "start_time": "2022-12-05T11:35:55.908Z"
   },
   {
    "duration": 1182,
    "start_time": "2022-12-05T11:35:56.840Z"
   },
   {
    "duration": 3,
    "start_time": "2022-12-05T11:35:58.025Z"
   },
   {
    "duration": 10,
    "start_time": "2022-12-05T11:35:58.029Z"
   },
   {
    "duration": 8559,
    "start_time": "2022-12-05T11:35:58.040Z"
   },
   {
    "duration": 5,
    "start_time": "2022-12-05T11:36:06.600Z"
   },
   {
    "duration": 9,
    "start_time": "2022-12-05T11:36:06.606Z"
   },
   {
    "duration": 33,
    "start_time": "2022-12-05T11:36:06.617Z"
   },
   {
    "duration": 4,
    "start_time": "2022-12-05T11:36:06.652Z"
   },
   {
    "duration": 12,
    "start_time": "2022-12-05T11:36:06.658Z"
   },
   {
    "duration": 7,
    "start_time": "2022-12-05T11:36:06.671Z"
   },
   {
    "duration": 249,
    "start_time": "2022-12-05T11:36:06.680Z"
   },
   {
    "duration": 353,
    "start_time": "2022-12-05T11:36:06.931Z"
   },
   {
    "duration": 87,
    "start_time": "2022-12-05T11:36:07.286Z"
   },
   {
    "duration": 12,
    "start_time": "2022-12-05T11:36:07.374Z"
   },
   {
    "duration": 190,
    "start_time": "2022-12-05T11:38:59.045Z"
   },
   {
    "duration": 109,
    "start_time": "2022-12-05T11:39:02.768Z"
   },
   {
    "duration": 5,
    "start_time": "2022-12-05T11:39:28.222Z"
   },
   {
    "duration": 85,
    "start_time": "2022-12-05T11:39:31.916Z"
   },
   {
    "duration": 17,
    "start_time": "2022-12-05T11:49:49.922Z"
   },
   {
    "duration": 4,
    "start_time": "2022-12-05T11:49:50.960Z"
   },
   {
    "duration": 4,
    "start_time": "2022-12-05T11:49:51.110Z"
   },
   {
    "duration": 4,
    "start_time": "2022-12-05T11:49:51.255Z"
   },
   {
    "duration": 377,
    "start_time": "2022-12-05T11:49:51.557Z"
   },
   {
    "duration": 692,
    "start_time": "2022-12-05T11:49:51.936Z"
   },
   {
    "duration": 13295,
    "start_time": "2022-12-05T11:49:52.632Z"
   },
   {
    "duration": 505,
    "start_time": "2022-12-05T11:50:05.930Z"
   },
   {
    "duration": 144,
    "start_time": "2022-12-05T11:50:06.528Z"
   },
   {
    "duration": 84,
    "start_time": "2022-12-05T11:50:06.673Z"
   },
   {
    "duration": 13,
    "start_time": "2022-12-05T11:50:06.758Z"
   },
   {
    "duration": 116,
    "start_time": "2022-12-05T12:23:04.776Z"
   },
   {
    "duration": 94,
    "start_time": "2022-12-05T12:23:05.345Z"
   },
   {
    "duration": 245055,
    "start_time": "2022-12-05T12:24:02.194Z"
   },
   {
    "duration": 6448,
    "start_time": "2022-12-05T12:28:07.251Z"
   },
   {
    "duration": 42,
    "start_time": "2022-12-05T12:35:00.622Z"
   },
   {
    "duration": 551213,
    "start_time": "2022-12-05T12:35:09.937Z"
   },
   {
    "duration": 152,
    "start_time": "2022-12-05T12:44:31.679Z"
   },
   {
    "duration": 585758,
    "start_time": "2022-12-05T12:46:57.954Z"
   },
   {
    "duration": 13612,
    "start_time": "2022-12-05T12:56:43.714Z"
   },
   {
    "duration": 799,
    "start_time": "2022-12-05T12:56:57.328Z"
   },
   {
    "duration": 1015608,
    "start_time": "2022-12-05T12:56:58.129Z"
   },
   {
    "duration": 76,
    "start_time": "2022-12-05T13:13:57.236Z"
   },
   {
    "duration": 2893,
    "start_time": "2022-12-05T13:20:41.937Z"
   },
   {
    "duration": 240,
    "start_time": "2022-12-05T13:25:16.591Z"
   },
   {
    "duration": 485,
    "start_time": "2022-12-05T13:25:25.536Z"
   },
   {
    "duration": 281,
    "start_time": "2022-12-05T13:25:37.152Z"
   },
   {
    "duration": 386,
    "start_time": "2022-12-05T13:25:54.327Z"
   },
   {
    "duration": 5,
    "start_time": "2022-12-05T13:26:18.506Z"
   },
   {
    "duration": 4,
    "start_time": "2022-12-05T13:31:41.801Z"
   },
   {
    "duration": 1248,
    "start_time": "2022-12-05T13:32:00.683Z"
   },
   {
    "duration": 3,
    "start_time": "2022-12-05T13:32:08.299Z"
   },
   {
    "duration": 1655,
    "start_time": "2022-12-05T13:37:00.792Z"
   },
   {
    "duration": 50,
    "start_time": "2022-12-05T13:37:02.449Z"
   },
   {
    "duration": 11,
    "start_time": "2022-12-05T13:37:02.500Z"
   },
   {
    "duration": 12,
    "start_time": "2022-12-05T13:37:02.513Z"
   },
   {
    "duration": 4,
    "start_time": "2022-12-05T13:37:02.527Z"
   },
   {
    "duration": 142,
    "start_time": "2022-12-05T13:37:02.533Z"
   },
   {
    "duration": 260,
    "start_time": "2022-12-05T13:37:02.677Z"
   },
   {
    "duration": 3,
    "start_time": "2022-12-05T13:37:02.938Z"
   },
   {
    "duration": 26,
    "start_time": "2022-12-05T13:37:02.943Z"
   },
   {
    "duration": 233,
    "start_time": "2022-12-05T13:37:02.972Z"
   },
   {
    "duration": 175,
    "start_time": "2022-12-05T13:37:03.207Z"
   },
   {
    "duration": 206,
    "start_time": "2022-12-05T13:37:03.383Z"
   },
   {
    "duration": 949,
    "start_time": "2022-12-05T13:37:03.591Z"
   },
   {
    "duration": 1275,
    "start_time": "2022-12-05T13:37:04.541Z"
   },
   {
    "duration": 8,
    "start_time": "2022-12-05T13:37:05.818Z"
   },
   {
    "duration": 14,
    "start_time": "2022-12-05T13:37:05.828Z"
   },
   {
    "duration": 231,
    "start_time": "2022-12-05T13:37:05.843Z"
   },
   {
    "duration": 5,
    "start_time": "2022-12-05T13:37:06.076Z"
   },
   {
    "duration": 7,
    "start_time": "2022-12-05T13:37:06.082Z"
   },
   {
    "duration": 46,
    "start_time": "2022-12-05T13:37:06.091Z"
   },
   {
    "duration": 4,
    "start_time": "2022-12-05T13:37:06.139Z"
   },
   {
    "duration": 10,
    "start_time": "2022-12-05T13:37:06.145Z"
   },
   {
    "duration": 7,
    "start_time": "2022-12-05T13:37:06.157Z"
   },
   {
    "duration": 662,
    "start_time": "2022-12-05T13:37:06.165Z"
   },
   {
    "duration": 497,
    "start_time": "2022-12-05T13:37:06.829Z"
   },
   {
    "duration": 3,
    "start_time": "2022-12-05T13:37:07.328Z"
   },
   {
    "duration": 187,
    "start_time": "2022-12-05T13:37:07.332Z"
   },
   {
    "duration": 10,
    "start_time": "2022-12-05T13:37:07.522Z"
   },
   {
    "duration": 0,
    "start_time": "2022-12-05T13:37:07.533Z"
   },
   {
    "duration": 0,
    "start_time": "2022-12-05T13:37:07.534Z"
   },
   {
    "duration": 0,
    "start_time": "2022-12-05T13:37:07.536Z"
   },
   {
    "duration": 0,
    "start_time": "2022-12-05T13:37:07.537Z"
   },
   {
    "duration": 0,
    "start_time": "2022-12-05T13:37:07.538Z"
   },
   {
    "duration": 80,
    "start_time": "2022-12-05T13:37:19.138Z"
   },
   {
    "duration": 1679,
    "start_time": "2022-12-05T13:37:51.363Z"
   },
   {
    "duration": 51,
    "start_time": "2022-12-05T13:37:53.043Z"
   },
   {
    "duration": 10,
    "start_time": "2022-12-05T13:37:53.096Z"
   },
   {
    "duration": 12,
    "start_time": "2022-12-05T13:37:53.107Z"
   },
   {
    "duration": 7,
    "start_time": "2022-12-05T13:37:53.121Z"
   },
   {
    "duration": 145,
    "start_time": "2022-12-05T13:37:53.130Z"
   },
   {
    "duration": 246,
    "start_time": "2022-12-05T13:37:53.276Z"
   },
   {
    "duration": 3,
    "start_time": "2022-12-05T13:37:53.525Z"
   },
   {
    "duration": 17,
    "start_time": "2022-12-05T13:37:53.530Z"
   },
   {
    "duration": 279,
    "start_time": "2022-12-05T13:37:53.549Z"
   },
   {
    "duration": 213,
    "start_time": "2022-12-05T13:37:53.830Z"
   },
   {
    "duration": 212,
    "start_time": "2022-12-05T13:37:54.045Z"
   },
   {
    "duration": 935,
    "start_time": "2022-12-05T13:37:54.259Z"
   },
   {
    "duration": 1267,
    "start_time": "2022-12-05T13:37:55.197Z"
   },
   {
    "duration": 2,
    "start_time": "2022-12-05T13:37:56.466Z"
   },
   {
    "duration": 22,
    "start_time": "2022-12-05T13:37:56.470Z"
   },
   {
    "duration": 233,
    "start_time": "2022-12-05T13:37:56.493Z"
   },
   {
    "duration": 3,
    "start_time": "2022-12-05T13:37:56.728Z"
   },
   {
    "duration": 18,
    "start_time": "2022-12-05T13:37:56.732Z"
   },
   {
    "duration": 38,
    "start_time": "2022-12-05T13:37:56.751Z"
   },
   {
    "duration": 13,
    "start_time": "2022-12-05T13:37:56.790Z"
   },
   {
    "duration": 28,
    "start_time": "2022-12-05T13:37:56.804Z"
   },
   {
    "duration": 23,
    "start_time": "2022-12-05T13:37:56.834Z"
   },
   {
    "duration": 370,
    "start_time": "2022-12-05T13:37:56.858Z"
   },
   {
    "duration": 295,
    "start_time": "2022-12-05T13:37:57.235Z"
   },
   {
    "duration": 595891,
    "start_time": "2022-12-05T13:37:57.535Z"
   },
   {
    "duration": 199,
    "start_time": "2022-12-05T13:47:53.428Z"
   },
   {
    "duration": 20606,
    "start_time": "2022-12-05T13:47:53.630Z"
   },
   {
    "duration": 889,
    "start_time": "2022-12-05T13:48:14.238Z"
   },
   {
    "duration": 3,
    "start_time": "2022-12-05T13:49:34.757Z"
   },
   {
    "duration": 4,
    "start_time": "2022-12-05T13:49:39.426Z"
   },
   {
    "duration": 3,
    "start_time": "2022-12-05T13:49:40.009Z"
   },
   {
    "duration": 78,
    "start_time": "2022-12-05T13:49:41.331Z"
   },
   {
    "duration": 13316,
    "start_time": "2022-12-05T13:49:41.410Z"
   },
   {
    "duration": 406,
    "start_time": "2022-12-05T13:49:54.729Z"
   },
   {
    "duration": 6372,
    "start_time": "2022-12-05T13:50:54.419Z"
   },
   {
    "duration": 14141,
    "start_time": "2022-12-05T13:51:00.793Z"
   },
   {
    "duration": 505,
    "start_time": "2022-12-05T13:51:15.026Z"
   },
   {
    "duration": 37400,
    "start_time": "2022-12-05T13:51:15.532Z"
   },
   {
    "duration": 3303,
    "start_time": "2022-12-05T13:51:52.933Z"
   },
   {
    "duration": 483,
    "start_time": "2022-12-05T13:51:56.238Z"
   },
   {
    "duration": 4640,
    "start_time": "2022-12-05T13:51:56.722Z"
   },
   {
    "duration": 465,
    "start_time": "2022-12-05T13:52:01.364Z"
   },
   {
    "duration": 1440,
    "start_time": "2022-12-05T13:52:01.831Z"
   },
   {
    "duration": 3,
    "start_time": "2022-12-05T13:52:03.273Z"
   },
   {
    "duration": 14,
    "start_time": "2022-12-05T13:52:03.277Z"
   },
   {
    "duration": 49,
    "start_time": "2022-12-06T07:37:13.780Z"
   },
   {
    "duration": 2666,
    "start_time": "2022-12-06T07:37:22.252Z"
   },
   {
    "duration": 162,
    "start_time": "2022-12-06T07:37:24.920Z"
   },
   {
    "duration": 11,
    "start_time": "2022-12-06T07:37:25.084Z"
   },
   {
    "duration": 10,
    "start_time": "2022-12-06T07:37:25.097Z"
   },
   {
    "duration": 9,
    "start_time": "2022-12-06T07:37:25.108Z"
   },
   {
    "duration": 165,
    "start_time": "2022-12-06T07:37:25.119Z"
   },
   {
    "duration": 263,
    "start_time": "2022-12-06T07:37:25.285Z"
   },
   {
    "duration": 3,
    "start_time": "2022-12-06T07:37:25.550Z"
   },
   {
    "duration": 52,
    "start_time": "2022-12-06T07:37:25.554Z"
   },
   {
    "duration": 296,
    "start_time": "2022-12-06T07:37:25.608Z"
   },
   {
    "duration": 207,
    "start_time": "2022-12-06T07:37:25.906Z"
   },
   {
    "duration": 229,
    "start_time": "2022-12-06T07:37:26.115Z"
   },
   {
    "duration": 1034,
    "start_time": "2022-12-06T07:37:26.346Z"
   },
   {
    "duration": 1473,
    "start_time": "2022-12-06T07:37:27.382Z"
   },
   {
    "duration": 3,
    "start_time": "2022-12-06T07:37:28.857Z"
   },
   {
    "duration": 19,
    "start_time": "2022-12-06T07:37:28.862Z"
   },
   {
    "duration": 267,
    "start_time": "2022-12-06T07:37:28.883Z"
   },
   {
    "duration": 6,
    "start_time": "2022-12-06T07:37:29.151Z"
   },
   {
    "duration": 1764,
    "start_time": "2022-12-06T07:59:42.905Z"
   },
   {
    "duration": 47,
    "start_time": "2022-12-06T07:59:44.671Z"
   },
   {
    "duration": 12,
    "start_time": "2022-12-06T07:59:44.719Z"
   },
   {
    "duration": 14,
    "start_time": "2022-12-06T07:59:44.733Z"
   },
   {
    "duration": 6,
    "start_time": "2022-12-06T07:59:44.749Z"
   },
   {
    "duration": 165,
    "start_time": "2022-12-06T07:59:44.757Z"
   },
   {
    "duration": 272,
    "start_time": "2022-12-06T07:59:44.924Z"
   },
   {
    "duration": 3,
    "start_time": "2022-12-06T07:59:45.198Z"
   },
   {
    "duration": 15,
    "start_time": "2022-12-06T07:59:45.203Z"
   },
   {
    "duration": 273,
    "start_time": "2022-12-06T07:59:45.220Z"
   },
   {
    "duration": 198,
    "start_time": "2022-12-06T07:59:45.495Z"
   },
   {
    "duration": 216,
    "start_time": "2022-12-06T07:59:45.694Z"
   },
   {
    "duration": 1011,
    "start_time": "2022-12-06T07:59:45.911Z"
   },
   {
    "duration": 1243,
    "start_time": "2022-12-06T07:59:46.923Z"
   },
   {
    "duration": 3,
    "start_time": "2022-12-06T07:59:48.167Z"
   },
   {
    "duration": 41,
    "start_time": "2022-12-06T07:59:48.178Z"
   },
   {
    "duration": 26,
    "start_time": "2022-12-06T07:59:48.221Z"
   },
   {
    "duration": 168,
    "start_time": "2022-12-06T07:59:48.249Z"
   },
   {
    "duration": 0,
    "start_time": "2022-12-06T07:59:48.419Z"
   },
   {
    "duration": 0,
    "start_time": "2022-12-06T07:59:48.420Z"
   },
   {
    "duration": 4,
    "start_time": "2022-12-06T08:00:19.541Z"
   },
   {
    "duration": 29,
    "start_time": "2022-12-06T08:00:20.239Z"
   },
   {
    "duration": 4,
    "start_time": "2022-12-06T08:00:21.254Z"
   },
   {
    "duration": 4,
    "start_time": "2022-12-06T08:00:22.390Z"
   },
   {
    "duration": 4,
    "start_time": "2022-12-06T08:00:22.594Z"
   },
   {
    "duration": 341,
    "start_time": "2022-12-06T08:00:23.840Z"
   },
   {
    "duration": 371,
    "start_time": "2022-12-06T08:00:30.613Z"
   },
   {
    "duration": 47,
    "start_time": "2022-12-06T08:08:57.203Z"
   },
   {
    "duration": 396,
    "start_time": "2022-12-06T08:09:06.751Z"
   },
   {
    "duration": 99,
    "start_time": "2022-12-06T08:10:32.757Z"
   },
   {
    "duration": 51,
    "start_time": "2022-12-07T07:44:03.531Z"
   }
  ],
  "kernelspec": {
   "display_name": "Python 3 (ipykernel)",
   "language": "python",
   "name": "python3"
  },
  "language_info": {
   "codemirror_mode": {
    "name": "ipython",
    "version": 3
   },
   "file_extension": ".py",
   "mimetype": "text/x-python",
   "name": "python",
   "nbconvert_exporter": "python",
   "pygments_lexer": "ipython3",
   "version": "3.9.12"
  },
  "toc": {
   "base_numbering": 1,
   "nav_menu": {},
   "number_sections": true,
   "sideBar": true,
   "skip_h1_title": true,
   "title_cell": "Содержание",
   "title_sidebar": "Contents",
   "toc_cell": true,
   "toc_position": {
    "height": "calc(100% - 180px)",
    "left": "10px",
    "top": "150px",
    "width": "276.188px"
   },
   "toc_section_display": true,
   "toc_window_display": true
  }
 },
 "nbformat": 4,
 "nbformat_minor": 2
}
