{
 "cells": [
  {
   "cell_type": "markdown",
   "metadata": {},
   "source": [
    "# Определение стоимости автомобилей"
   ]
  },
  {
   "cell_type": "markdown",
   "metadata": {},
   "source": [
    "Сервис по продаже автомобилей с пробегом «Не бит, не крашен» разрабатывает приложение для привлечения новых клиентов. В нём можно быстро узнать рыночную стоимость своего автомобиля. В нашем распоряжении исторические данные: технические характеристики, комплектации и цены автомобилей. Необходимо построить модель для определения стоимости. \n",
    "\n",
    "Заказчику важны:\n",
    "\n",
    "- качество предсказания;\n",
    "- скорость предсказания;\n",
    "- время обучения\n",
    "\n",
    "Признаки:\n",
    "- DateCrawled — дата скачивания анкеты из базы\n",
    "- VehicleType — тип автомобильного кузова\n",
    "- RegistrationYear — год регистрации автомобиля\n",
    "- Gearbox — тип коробки передач\n",
    "- Power — мощность (л. с.)\n",
    "- Model — модель автомобиля\n",
    "- Kilometer — пробег (км)\n",
    "- RegistrationMonth — месяц регистрации автомобиля\n",
    "- FuelType — тип топлива\n",
    "- Brand — марка автомобиля\n",
    "- NotRepaired — была машина в ремонте или нет\n",
    "- DateCreated — дата создания анкеты\n",
    "- NumberOfPictures — количество фотографий автомобиля\n",
    "- PostalCode — почтовый индекс владельца анкеты (пользователя)\n",
    "- LastSeen — дата последней активности пользователя\n",
    "\n",
    "Целевой признак:\n",
    "- Price — цена (евро)"
   ]
  },
  {
   "cell_type": "markdown",
   "metadata": {},
   "source": [
    "## Подготовка данных"
   ]
  },
  {
   "cell_type": "markdown",
   "metadata": {},
   "source": [
    "### Импорт библиотек:"
   ]
  },
  {
   "cell_type": "code",
   "execution_count": 1,
   "metadata": {},
   "outputs": [],
   "source": [
    "import pandas as pd\n",
    "import warnings\n",
    "import matplotlib.pyplot as plt\n",
    "import numpy as np\n",
    "import seaborn as sns\n",
    "import re\n",
    "import phik\n",
    "\n",
    "from phik.report import plot_correlation_matrix\n",
    "from phik import report\n",
    "from sklearn.dummy import DummyRegressor\n",
    "from sklearn.preprocessing import OrdinalEncoder\n",
    "from sklearn.linear_model import LinearRegression\n",
    "from sklearn.ensemble import RandomForestRegressor\n",
    "from catboost import Pool, CatBoostRegressor, cv\n",
    "from lightgbm import LGBMRegressor\n",
    "from sklearn.model_selection import train_test_split, GridSearchCV, cross_val_score, cross_validate\n",
    "from sklearn.metrics import mean_squared_error\n",
    "\n",
    "pd.options.mode.chained_assignment = None\n",
    "warnings.filterwarnings('ignore')"
   ]
  },
  {
   "cell_type": "markdown",
   "metadata": {},
   "source": [
    "Импорт датасета:"
   ]
  },
  {
   "cell_type": "code",
   "execution_count": 2,
   "metadata": {},
   "outputs": [],
   "source": [
    "df = pd.read_csv('autos.csv')"
   ]
  },
  {
   "cell_type": "markdown",
   "metadata": {},
   "source": [
    "### Обзор данных:"
   ]
  },
  {
   "cell_type": "code",
   "execution_count": 3,
   "metadata": {},
   "outputs": [
    {
     "name": "stdout",
     "output_type": "stream",
     "text": [
      "<class 'pandas.core.frame.DataFrame'>\n",
      "RangeIndex: 354369 entries, 0 to 354368\n",
      "Data columns (total 16 columns):\n",
      " #   Column             Non-Null Count   Dtype \n",
      "---  ------             --------------   ----- \n",
      " 0   DateCrawled        354369 non-null  object\n",
      " 1   Price              354369 non-null  int64 \n",
      " 2   VehicleType        316879 non-null  object\n",
      " 3   RegistrationYear   354369 non-null  int64 \n",
      " 4   Gearbox            334536 non-null  object\n",
      " 5   Power              354369 non-null  int64 \n",
      " 6   Model              334664 non-null  object\n",
      " 7   Kilometer          354369 non-null  int64 \n",
      " 8   RegistrationMonth  354369 non-null  int64 \n",
      " 9   FuelType           321474 non-null  object\n",
      " 10  Brand              354369 non-null  object\n",
      " 11  Repaired           283215 non-null  object\n",
      " 12  DateCreated        354369 non-null  object\n",
      " 13  NumberOfPictures   354369 non-null  int64 \n",
      " 14  PostalCode         354369 non-null  int64 \n",
      " 15  LastSeen           354369 non-null  object\n",
      "dtypes: int64(7), object(9)\n",
      "memory usage: 217.0 MB\n"
     ]
    }
   ],
   "source": [
    "df.info(memory_usage='deep')"
   ]
  },
  {
   "cell_type": "code",
   "execution_count": 4,
   "metadata": {},
   "outputs": [
    {
     "data": {
      "text/html": [
       "<div>\n",
       "<style scoped>\n",
       "    .dataframe tbody tr th:only-of-type {\n",
       "        vertical-align: middle;\n",
       "    }\n",
       "\n",
       "    .dataframe tbody tr th {\n",
       "        vertical-align: top;\n",
       "    }\n",
       "\n",
       "    .dataframe thead th {\n",
       "        text-align: right;\n",
       "    }\n",
       "</style>\n",
       "<table border=\"1\" class=\"dataframe\">\n",
       "  <thead>\n",
       "    <tr style=\"text-align: right;\">\n",
       "      <th></th>\n",
       "      <th>DateCrawled</th>\n",
       "      <th>Price</th>\n",
       "      <th>VehicleType</th>\n",
       "      <th>RegistrationYear</th>\n",
       "      <th>Gearbox</th>\n",
       "      <th>Power</th>\n",
       "      <th>Model</th>\n",
       "      <th>Kilometer</th>\n",
       "      <th>RegistrationMonth</th>\n",
       "      <th>FuelType</th>\n",
       "      <th>Brand</th>\n",
       "      <th>Repaired</th>\n",
       "      <th>DateCreated</th>\n",
       "      <th>NumberOfPictures</th>\n",
       "      <th>PostalCode</th>\n",
       "      <th>LastSeen</th>\n",
       "    </tr>\n",
       "  </thead>\n",
       "  <tbody>\n",
       "    <tr>\n",
       "      <th>0</th>\n",
       "      <td>2016-03-24 11:52:17</td>\n",
       "      <td>480</td>\n",
       "      <td>NaN</td>\n",
       "      <td>1993</td>\n",
       "      <td>manual</td>\n",
       "      <td>0</td>\n",
       "      <td>golf</td>\n",
       "      <td>150000</td>\n",
       "      <td>0</td>\n",
       "      <td>petrol</td>\n",
       "      <td>volkswagen</td>\n",
       "      <td>NaN</td>\n",
       "      <td>2016-03-24 00:00:00</td>\n",
       "      <td>0</td>\n",
       "      <td>70435</td>\n",
       "      <td>2016-04-07 03:16:57</td>\n",
       "    </tr>\n",
       "    <tr>\n",
       "      <th>1</th>\n",
       "      <td>2016-03-24 10:58:45</td>\n",
       "      <td>18300</td>\n",
       "      <td>coupe</td>\n",
       "      <td>2011</td>\n",
       "      <td>manual</td>\n",
       "      <td>190</td>\n",
       "      <td>NaN</td>\n",
       "      <td>125000</td>\n",
       "      <td>5</td>\n",
       "      <td>gasoline</td>\n",
       "      <td>audi</td>\n",
       "      <td>yes</td>\n",
       "      <td>2016-03-24 00:00:00</td>\n",
       "      <td>0</td>\n",
       "      <td>66954</td>\n",
       "      <td>2016-04-07 01:46:50</td>\n",
       "    </tr>\n",
       "    <tr>\n",
       "      <th>2</th>\n",
       "      <td>2016-03-14 12:52:21</td>\n",
       "      <td>9800</td>\n",
       "      <td>suv</td>\n",
       "      <td>2004</td>\n",
       "      <td>auto</td>\n",
       "      <td>163</td>\n",
       "      <td>grand</td>\n",
       "      <td>125000</td>\n",
       "      <td>8</td>\n",
       "      <td>gasoline</td>\n",
       "      <td>jeep</td>\n",
       "      <td>NaN</td>\n",
       "      <td>2016-03-14 00:00:00</td>\n",
       "      <td>0</td>\n",
       "      <td>90480</td>\n",
       "      <td>2016-04-05 12:47:46</td>\n",
       "    </tr>\n",
       "    <tr>\n",
       "      <th>3</th>\n",
       "      <td>2016-03-17 16:54:04</td>\n",
       "      <td>1500</td>\n",
       "      <td>small</td>\n",
       "      <td>2001</td>\n",
       "      <td>manual</td>\n",
       "      <td>75</td>\n",
       "      <td>golf</td>\n",
       "      <td>150000</td>\n",
       "      <td>6</td>\n",
       "      <td>petrol</td>\n",
       "      <td>volkswagen</td>\n",
       "      <td>no</td>\n",
       "      <td>2016-03-17 00:00:00</td>\n",
       "      <td>0</td>\n",
       "      <td>91074</td>\n",
       "      <td>2016-03-17 17:40:17</td>\n",
       "    </tr>\n",
       "    <tr>\n",
       "      <th>4</th>\n",
       "      <td>2016-03-31 17:25:20</td>\n",
       "      <td>3600</td>\n",
       "      <td>small</td>\n",
       "      <td>2008</td>\n",
       "      <td>manual</td>\n",
       "      <td>69</td>\n",
       "      <td>fabia</td>\n",
       "      <td>90000</td>\n",
       "      <td>7</td>\n",
       "      <td>gasoline</td>\n",
       "      <td>skoda</td>\n",
       "      <td>no</td>\n",
       "      <td>2016-03-31 00:00:00</td>\n",
       "      <td>0</td>\n",
       "      <td>60437</td>\n",
       "      <td>2016-04-06 10:17:21</td>\n",
       "    </tr>\n",
       "    <tr>\n",
       "      <th>5</th>\n",
       "      <td>2016-04-04 17:36:23</td>\n",
       "      <td>650</td>\n",
       "      <td>sedan</td>\n",
       "      <td>1995</td>\n",
       "      <td>manual</td>\n",
       "      <td>102</td>\n",
       "      <td>3er</td>\n",
       "      <td>150000</td>\n",
       "      <td>10</td>\n",
       "      <td>petrol</td>\n",
       "      <td>bmw</td>\n",
       "      <td>yes</td>\n",
       "      <td>2016-04-04 00:00:00</td>\n",
       "      <td>0</td>\n",
       "      <td>33775</td>\n",
       "      <td>2016-04-06 19:17:07</td>\n",
       "    </tr>\n",
       "    <tr>\n",
       "      <th>6</th>\n",
       "      <td>2016-04-01 20:48:51</td>\n",
       "      <td>2200</td>\n",
       "      <td>convertible</td>\n",
       "      <td>2004</td>\n",
       "      <td>manual</td>\n",
       "      <td>109</td>\n",
       "      <td>2_reihe</td>\n",
       "      <td>150000</td>\n",
       "      <td>8</td>\n",
       "      <td>petrol</td>\n",
       "      <td>peugeot</td>\n",
       "      <td>no</td>\n",
       "      <td>2016-04-01 00:00:00</td>\n",
       "      <td>0</td>\n",
       "      <td>67112</td>\n",
       "      <td>2016-04-05 18:18:39</td>\n",
       "    </tr>\n",
       "    <tr>\n",
       "      <th>7</th>\n",
       "      <td>2016-03-21 18:54:38</td>\n",
       "      <td>0</td>\n",
       "      <td>sedan</td>\n",
       "      <td>1980</td>\n",
       "      <td>manual</td>\n",
       "      <td>50</td>\n",
       "      <td>other</td>\n",
       "      <td>40000</td>\n",
       "      <td>7</td>\n",
       "      <td>petrol</td>\n",
       "      <td>volkswagen</td>\n",
       "      <td>no</td>\n",
       "      <td>2016-03-21 00:00:00</td>\n",
       "      <td>0</td>\n",
       "      <td>19348</td>\n",
       "      <td>2016-03-25 16:47:58</td>\n",
       "    </tr>\n",
       "    <tr>\n",
       "      <th>8</th>\n",
       "      <td>2016-04-04 23:42:13</td>\n",
       "      <td>14500</td>\n",
       "      <td>bus</td>\n",
       "      <td>2014</td>\n",
       "      <td>manual</td>\n",
       "      <td>125</td>\n",
       "      <td>c_max</td>\n",
       "      <td>30000</td>\n",
       "      <td>8</td>\n",
       "      <td>petrol</td>\n",
       "      <td>ford</td>\n",
       "      <td>NaN</td>\n",
       "      <td>2016-04-04 00:00:00</td>\n",
       "      <td>0</td>\n",
       "      <td>94505</td>\n",
       "      <td>2016-04-04 23:42:13</td>\n",
       "    </tr>\n",
       "    <tr>\n",
       "      <th>9</th>\n",
       "      <td>2016-03-17 10:53:50</td>\n",
       "      <td>999</td>\n",
       "      <td>small</td>\n",
       "      <td>1998</td>\n",
       "      <td>manual</td>\n",
       "      <td>101</td>\n",
       "      <td>golf</td>\n",
       "      <td>150000</td>\n",
       "      <td>0</td>\n",
       "      <td>NaN</td>\n",
       "      <td>volkswagen</td>\n",
       "      <td>NaN</td>\n",
       "      <td>2016-03-17 00:00:00</td>\n",
       "      <td>0</td>\n",
       "      <td>27472</td>\n",
       "      <td>2016-03-31 17:17:06</td>\n",
       "    </tr>\n",
       "  </tbody>\n",
       "</table>\n",
       "</div>"
      ],
      "text/plain": [
       "           DateCrawled  Price  VehicleType  RegistrationYear Gearbox  Power  \\\n",
       "0  2016-03-24 11:52:17    480          NaN              1993  manual      0   \n",
       "1  2016-03-24 10:58:45  18300        coupe              2011  manual    190   \n",
       "2  2016-03-14 12:52:21   9800          suv              2004    auto    163   \n",
       "3  2016-03-17 16:54:04   1500        small              2001  manual     75   \n",
       "4  2016-03-31 17:25:20   3600        small              2008  manual     69   \n",
       "5  2016-04-04 17:36:23    650        sedan              1995  manual    102   \n",
       "6  2016-04-01 20:48:51   2200  convertible              2004  manual    109   \n",
       "7  2016-03-21 18:54:38      0        sedan              1980  manual     50   \n",
       "8  2016-04-04 23:42:13  14500          bus              2014  manual    125   \n",
       "9  2016-03-17 10:53:50    999        small              1998  manual    101   \n",
       "\n",
       "     Model  Kilometer  RegistrationMonth  FuelType       Brand Repaired  \\\n",
       "0     golf     150000                  0    petrol  volkswagen      NaN   \n",
       "1      NaN     125000                  5  gasoline        audi      yes   \n",
       "2    grand     125000                  8  gasoline        jeep      NaN   \n",
       "3     golf     150000                  6    petrol  volkswagen       no   \n",
       "4    fabia      90000                  7  gasoline       skoda       no   \n",
       "5      3er     150000                 10    petrol         bmw      yes   \n",
       "6  2_reihe     150000                  8    petrol     peugeot       no   \n",
       "7    other      40000                  7    petrol  volkswagen       no   \n",
       "8    c_max      30000                  8    petrol        ford      NaN   \n",
       "9     golf     150000                  0       NaN  volkswagen      NaN   \n",
       "\n",
       "           DateCreated  NumberOfPictures  PostalCode             LastSeen  \n",
       "0  2016-03-24 00:00:00                 0       70435  2016-04-07 03:16:57  \n",
       "1  2016-03-24 00:00:00                 0       66954  2016-04-07 01:46:50  \n",
       "2  2016-03-14 00:00:00                 0       90480  2016-04-05 12:47:46  \n",
       "3  2016-03-17 00:00:00                 0       91074  2016-03-17 17:40:17  \n",
       "4  2016-03-31 00:00:00                 0       60437  2016-04-06 10:17:21  \n",
       "5  2016-04-04 00:00:00                 0       33775  2016-04-06 19:17:07  \n",
       "6  2016-04-01 00:00:00                 0       67112  2016-04-05 18:18:39  \n",
       "7  2016-03-21 00:00:00                 0       19348  2016-03-25 16:47:58  \n",
       "8  2016-04-04 00:00:00                 0       94505  2016-04-04 23:42:13  \n",
       "9  2016-03-17 00:00:00                 0       27472  2016-03-31 17:17:06  "
      ]
     },
     "execution_count": 4,
     "metadata": {},
     "output_type": "execute_result"
    }
   ],
   "source": [
    "df.head(10)"
   ]
  },
  {
   "cell_type": "markdown",
   "metadata": {},
   "source": [
    "Сразу приведем наименования столбцов к стандартному виду:"
   ]
  },
  {
   "cell_type": "code",
   "execution_count": 5,
   "metadata": {},
   "outputs": [],
   "source": [
    "for i in df.columns:\n",
    "    rep = re.sub(r'(?<!^)(?=[A-Z])', '_', i).lower()\n",
    "    df.rename(columns={i: rep}, inplace=True)"
   ]
  },
  {
   "cell_type": "markdown",
   "metadata": {},
   "source": [
    "Пропуски:"
   ]
  },
  {
   "cell_type": "code",
   "execution_count": 6,
   "metadata": {},
   "outputs": [
    {
     "data": {
      "text/plain": [
       "date_crawled              0\n",
       "price                     0\n",
       "vehicle_type          37490\n",
       "registration_year         0\n",
       "gearbox               19833\n",
       "power                     0\n",
       "model                 19705\n",
       "kilometer                 0\n",
       "registration_month        0\n",
       "fuel_type             32895\n",
       "brand                     0\n",
       "repaired              71154\n",
       "date_created              0\n",
       "number_of_pictures        0\n",
       "postal_code               0\n",
       "last_seen                 0\n",
       "dtype: int64"
      ]
     },
     "execution_count": 6,
     "metadata": {},
     "output_type": "execute_result"
    }
   ],
   "source": [
    "df.isna().sum()"
   ]
  },
  {
   "cell_type": "markdown",
   "metadata": {},
   "source": [
    "Проверка на явные дубликаты и их удаление:"
   ]
  },
  {
   "cell_type": "code",
   "execution_count": 7,
   "metadata": {},
   "outputs": [
    {
     "name": "stdout",
     "output_type": "stream",
     "text": [
      "4\n"
     ]
    }
   ],
   "source": [
    "print(df.duplicated().sum())\n",
    "df = df.drop_duplicates()"
   ]
  },
  {
   "cell_type": "markdown",
   "metadata": {},
   "source": [
    "Уникальные значения столбцов:"
   ]
  },
  {
   "cell_type": "code",
   "execution_count": 8,
   "metadata": {},
   "outputs": [
    {
     "name": "stdout",
     "output_type": "stream",
     "text": [
      "Уникальные значения столбца: date_crawled\n",
      "['2016-03-24 11:52:17' '2016-03-24 10:58:45' '2016-03-14 12:52:21' ...\n",
      " '2016-03-21 09:50:58' '2016-03-14 17:48:27' '2016-03-19 18:57:12']\n",
      "\n",
      "Уникальные значения столбца: price\n",
      "[  480 18300  9800 ... 12395 18429 10985]\n",
      "\n",
      "Уникальные значения столбца: vehicle_type\n",
      "[nan 'coupe' 'suv' 'small' 'sedan' 'convertible' 'bus' 'wagon' 'other']\n",
      "\n",
      "Уникальные значения столбца: registration_year\n",
      "[1993 2011 2004 2001 2008 1995 1980 2014 1998 2005 1910 2016 2007 2009\n",
      " 2002 2018 1997 1990 2017 1981 2003 1994 1991 1984 2006 1999 2012 2010\n",
      " 2000 1992 2013 1996 1985 1989 2015 1982 1976 1983 1973 1111 1969 1971\n",
      " 1987 1986 1988 1970 1965 1945 1925 1974 1979 1955 1978 1972 1968 1977\n",
      " 1961 1960 1966 1975 1963 1964 5000 1954 1958 1967 1959 9999 1956 3200\n",
      " 1000 1941 8888 1500 2200 4100 1962 1929 1957 1940 3000 2066 1949 2019\n",
      " 1937 1951 1800 1953 1234 8000 5300 9000 2900 6000 5900 5911 1933 1400\n",
      " 1950 4000 1948 1952 1200 8500 1932 1255 3700 3800 4800 1942 7000 1935\n",
      " 1936 6500 1923 2290 2500 1930 1001 9450 1944 1943 1934 1938 1688 2800\n",
      " 1253 1928 1919 5555 5600 1600 2222 1039 9996 1300 8455 1931 1915 4500\n",
      " 1920 1602 7800 9229 1947 1927 7100 8200 1946 7500 3500]\n",
      "\n",
      "Уникальные значения столбца: gearbox\n",
      "['manual' 'auto' nan]\n",
      "\n",
      "Уникальные значения столбца: power\n",
      "[    0   190   163    75    69   102   109    50   125   101   105   140\n",
      "   115   131    60   136   160   231    90   118   193    99   113   218\n",
      "   122   129    70   306    95    61   177    80   170    55   143    64\n",
      "   286   232   150   156    82   155    54   185    87   180    86    84\n",
      "   224   235   200   178   265    77   110   144   120   116   184   126\n",
      "   204    88   194   305   197   179   250    45   313    41   165    98\n",
      "   130   114   211    56   201   213    58   107    83   174   100   220\n",
      "    85    73   192    68    66   299    74    52   147    65   310    71\n",
      "    97   239   203     5   300   103   258   320    63    81   148    44\n",
      "   145   230   280   260   104   188   333   186   117   141    59   132\n",
      "   234   158    39    92    51   135    53   209    43   146    67   106\n",
      "   166   276   344    72   249   237   245   111   326   279    23   138\n",
      "   175    96   226    26    37   301   334   128   133   124    33   219\n",
      "   241   167    94   182   196   238  1398   228   112    48   272   139\n",
      "  1799    40   240    79   256   360   243   375   252   396   340   108\n",
      "   121   345   187   289   222   198   284   450   233   387   152   347\n",
      "   172    57   137   212   476   314    30     7    47   173   290   207\n",
      "   205   171   750    78    91    89   349   325    76   151   350   953\n",
      "    93   142   500   343   199   119   164    16   264   367   208   210\n",
      "    46   435  1001   225   127   176   161   603   307   354    35   206\n",
      "   771   355   273   223   255   123   154   149  7515  1400   268   620\n",
      "   169   400   275    34     2   242  1779   285   162   328  1753   329\n",
      "   134   420   247   168 10317   215    18   330   283    62    10   214\n",
      "   183   254    15   321   322   315   952   600   181   426   599   379\n",
      "   999    22   157    42   195   553     4   309   507   381   271   440\n",
      "   189   401  1111  2729    21   236  1240  1704   521     1  1900   270\n",
      "    24   159   292   808   515  1200   303    29    38  1993    14   216\n",
      "   610   504    49   267   331   363   261   385  1011   253   696 10520\n",
      "   376   227   311    27   217    20  1999    11  1056    25   394    12\n",
      "   298   296  1659   294   551  6920   246    17  1800  1625   368   390\n",
      "   221  1367   259   606   327  2017  1597   266   374   392     9   405\n",
      "    13   262   601   430   295     8   411   900   541  7512   382 10218\n",
      "  7544  1102   287    19   751   297  1090   457   282   602   388     6\n",
      "  1000  5411   335  1360   202  3750   805  1062  1024 11530   364  1796\n",
      "  5000   269   460  1002   288  1780 12012 17932   316  2005  1399   191\n",
      "   278  1300   380   257   449  1256   153  1653   520   560   281 12510\n",
      "     3  1500   386    32  1202  2016  1436  1405   671   274  1288  1055\n",
      " 10912 15016  6226  1115   277  1105   341  1223  2340  8404  1968   338\n",
      "   445  1920   370   517  4400 10710 10522  9010   431  1164 11509   371\n",
      "  1501   428 11635    36   304   348  1703  1910  1995   579 10000   580\n",
      "   408    31  1005   358  1403   489  5575 19211   585   960   365   353\n",
      "   490   352  1801   346   550  3199   800  7508  1312   357  1937   950\n",
      "  4700  1600  3454 19208   251   850   337   700  8011  2331  2789   487\n",
      "   519  2461  6006  3500  5815  6018  1781  1503   612  1596   229  1506\n",
      "  5809 15020  5867  2172  1598 17410  1363   584  1054   851  1339   318\n",
      "   510   525  1700    28  1151   685  6011   317   703  1771 15001   514\n",
      "   362   332   324  6045   530   425   308  6010   475   903   640  2000\n",
      "   248   651  2799 17011   505  1103  1521   351 16051   398  9000  1998\n",
      " 10311   409  1230 17019 12684  8259  1895   901  1317   871   909  2201\n",
      "  1595   776 17700 11011  1199   459  1162  1120 15033  1896   339   361\n",
      "   574  6512   454   650 13616   604   607 16312  1082   336 20000   416\n",
      "   678  6012  1401  1021  1870 13636  1250  9710   323  1158  2009   902\n",
      "  6062  1275   572   244   399  1016   743  1221  2402 16011  1362   544\n",
      "   645   907   702 12512  1986  1003  1432  9013  9011   442  1017  1394\n",
      " 15017 10910  1992   540  2018 11025  1433  1701  2792  1502  1239  1390\n",
      " 14009  1160  1351 11111  1783  9007   923  1149   754  1988   402  2004\n",
      "  5420  1793  1324   356  7511  1299   293 19312  1079  1689   998  1100\n",
      "  9012  1933   508 16311   682  1252  1922  7529   732  2389  2200  1707\n",
      "  1416  8500  1012   485  3000 10110   421  4507  1631  7518   377  1004\n",
      "  2007  2598  1548  1241]\n",
      "\n",
      "Уникальные значения столбца: model\n",
      "['golf' nan 'grand' 'fabia' '3er' '2_reihe' 'other' 'c_max' '3_reihe'\n",
      " 'passat' 'navara' 'ka' 'polo' 'twingo' 'a_klasse' 'scirocco' '5er'\n",
      " 'meriva' 'arosa' 'c4' 'civic' 'transporter' 'punto' 'e_klasse' 'clio'\n",
      " 'kadett' 'kangoo' 'corsa' 'one' 'fortwo' '1er' 'b_klasse' 'signum'\n",
      " 'astra' 'a8' 'jetta' 'fiesta' 'c_klasse' 'micra' 'vito' 'sprinter' '156'\n",
      " 'escort' 'forester' 'xc_reihe' 'scenic' 'a4' 'a1' 'insignia' 'combo'\n",
      " 'focus' 'tt' 'a6' 'jazz' 'omega' 'slk' '7er' '80' '147' '100' 'z_reihe'\n",
      " 'sportage' 'sorento' 'v40' 'ibiza' 'mustang' 'eos' 'touran' 'getz' 'a3'\n",
      " 'almera' 'megane' 'lupo' 'r19' 'zafira' 'caddy' 'mondeo' 'cordoba' 'colt'\n",
      " 'impreza' 'vectra' 'berlingo' 'tiguan' 'i_reihe' 'espace' 'sharan'\n",
      " '6_reihe' 'panda' 'up' 'seicento' 'ceed' '5_reihe' 'yeti' 'octavia' 'mii'\n",
      " 'rx_reihe' '6er' 'modus' 'fox' 'matiz' 'beetle' 'c1' 'rio' 'touareg'\n",
      " 'logan' 'spider' 'cuore' 's_max' 'a2' 'galaxy' 'c3' 'viano' 's_klasse'\n",
      " '1_reihe' 'avensis' 'roomster' 'sl' 'kaefer' 'santa' 'cooper' 'leon'\n",
      " '4_reihe' 'a5' '500' 'laguna' 'ptcruiser' 'clk' 'primera' 'x_reihe'\n",
      " 'exeo' '159' 'transit' 'juke' 'qashqai' 'carisma' 'accord' 'corolla'\n",
      " 'lanos' 'phaeton' 'verso' 'swift' 'rav' 'picanto' 'boxster' 'kalos'\n",
      " 'superb' 'stilo' 'alhambra' 'mx_reihe' 'roadster' 'ypsilon' 'cayenne'\n",
      " 'galant' 'justy' '90' 'sirion' 'crossfire' 'agila' 'duster' 'cr_reihe'\n",
      " 'v50' 'c_reihe' 'v_klasse' 'm_klasse' 'yaris' 'c5' 'aygo' 'cc' 'carnival'\n",
      " 'fusion' '911' 'bora' 'forfour' 'm_reihe' 'cl' 'tigra' '300c' 'spark'\n",
      " 'v70' 'kuga' 'x_type' 'ducato' 's_type' 'x_trail' 'toledo' 'altea'\n",
      " 'voyager' 'calibra' 'bravo' 'antara' 'tucson' 'citigo' 'jimny' 'wrangler'\n",
      " 'lybra' 'q7' 'lancer' 'captiva' 'c2' 'discovery' 'freelander' 'sandero'\n",
      " 'note' '900' 'cherokee' 'clubman' 'samara' 'defender' '601' 'cx_reihe'\n",
      " 'legacy' 'pajero' 'auris' 'niva' 's60' 'nubira' 'vivaro' 'g_klasse'\n",
      " 'lodgy' '850' 'range_rover' 'q3' 'serie_2' 'glk' 'charade' 'croma'\n",
      " 'outlander' 'doblo' 'musa' 'move' '9000' 'v60' '145' 'aveo' '200' 'b_max'\n",
      " 'range_rover_sport' 'terios' 'rangerover' 'q5' 'range_rover_evoque'\n",
      " 'materia' 'delta' 'gl' 'kalina' 'amarok' 'elefantino' 'i3' 'kappa'\n",
      " 'serie_3' 'serie_1']\n",
      "\n",
      "Уникальные значения столбца: kilometer\n",
      "[150000 125000  90000  40000  30000  70000   5000 100000  60000  20000\n",
      "  80000  50000  10000]\n",
      "\n",
      "Уникальные значения столбца: registration_month\n",
      "[ 0  5  8  6  7 10 12 11  2  3  1  4  9]\n",
      "\n",
      "Уникальные значения столбца: fuel_type\n",
      "['petrol' 'gasoline' nan 'lpg' 'other' 'hybrid' 'cng' 'electric']\n",
      "\n",
      "Уникальные значения столбца: brand\n",
      "['volkswagen' 'audi' 'jeep' 'skoda' 'bmw' 'peugeot' 'ford' 'mazda'\n",
      " 'nissan' 'renault' 'mercedes_benz' 'opel' 'seat' 'citroen' 'honda' 'fiat'\n",
      " 'mini' 'smart' 'hyundai' 'sonstige_autos' 'alfa_romeo' 'subaru' 'volvo'\n",
      " 'mitsubishi' 'kia' 'suzuki' 'lancia' 'toyota' 'chevrolet' 'dacia'\n",
      " 'daihatsu' 'trabant' 'saab' 'chrysler' 'jaguar' 'daewoo' 'porsche'\n",
      " 'rover' 'land_rover' 'lada']\n",
      "\n",
      "Уникальные значения столбца: repaired\n",
      "[nan 'yes' 'no']\n",
      "\n",
      "Уникальные значения столбца: date_created\n",
      "['2016-03-24 00:00:00' '2016-03-14 00:00:00' '2016-03-17 00:00:00'\n",
      " '2016-03-31 00:00:00' '2016-04-04 00:00:00' '2016-04-01 00:00:00'\n",
      " '2016-03-21 00:00:00' '2016-03-26 00:00:00' '2016-04-07 00:00:00'\n",
      " '2016-03-15 00:00:00' '2016-03-11 00:00:00' '2016-03-20 00:00:00'\n",
      " '2016-03-23 00:00:00' '2016-03-27 00:00:00' '2016-03-12 00:00:00'\n",
      " '2016-03-13 00:00:00' '2016-03-18 00:00:00' '2016-03-10 00:00:00'\n",
      " '2016-03-07 00:00:00' '2016-03-09 00:00:00' '2016-03-08 00:00:00'\n",
      " '2016-04-03 00:00:00' '2016-03-29 00:00:00' '2016-03-25 00:00:00'\n",
      " '2016-03-28 00:00:00' '2016-03-30 00:00:00' '2016-03-22 00:00:00'\n",
      " '2016-02-09 00:00:00' '2016-03-05 00:00:00' '2016-04-02 00:00:00'\n",
      " '2016-03-16 00:00:00' '2016-03-19 00:00:00' '2016-04-05 00:00:00'\n",
      " '2016-03-06 00:00:00' '2016-02-12 00:00:00' '2016-03-03 00:00:00'\n",
      " '2016-03-01 00:00:00' '2016-03-04 00:00:00' '2016-04-06 00:00:00'\n",
      " '2016-02-15 00:00:00' '2016-02-24 00:00:00' '2016-02-27 00:00:00'\n",
      " '2015-03-20 00:00:00' '2016-02-28 00:00:00' '2016-02-17 00:00:00'\n",
      " '2016-01-27 00:00:00' '2016-02-20 00:00:00' '2016-02-29 00:00:00'\n",
      " '2016-02-10 00:00:00' '2016-02-23 00:00:00' '2016-02-21 00:00:00'\n",
      " '2015-11-02 00:00:00' '2016-02-19 00:00:00' '2016-02-26 00:00:00'\n",
      " '2016-02-11 00:00:00' '2016-01-10 00:00:00' '2016-02-06 00:00:00'\n",
      " '2016-02-18 00:00:00' '2016-01-29 00:00:00' '2016-03-02 00:00:00'\n",
      " '2015-12-06 00:00:00' '2016-01-24 00:00:00' '2016-01-30 00:00:00'\n",
      " '2016-02-02 00:00:00' '2016-02-16 00:00:00' '2016-02-13 00:00:00'\n",
      " '2016-02-05 00:00:00' '2016-02-22 00:00:00' '2015-11-17 00:00:00'\n",
      " '2014-03-10 00:00:00' '2016-02-07 00:00:00' '2016-01-23 00:00:00'\n",
      " '2016-02-25 00:00:00' '2016-02-14 00:00:00' '2016-01-02 00:00:00'\n",
      " '2015-09-04 00:00:00' '2015-11-12 00:00:00' '2015-12-27 00:00:00'\n",
      " '2015-11-24 00:00:00' '2016-01-20 00:00:00' '2016-02-03 00:00:00'\n",
      " '2015-12-05 00:00:00' '2015-08-07 00:00:00' '2016-01-28 00:00:00'\n",
      " '2016-01-31 00:00:00' '2016-02-08 00:00:00' '2016-01-07 00:00:00'\n",
      " '2016-01-22 00:00:00' '2016-01-18 00:00:00' '2016-01-08 00:00:00'\n",
      " '2015-11-23 00:00:00' '2016-01-13 00:00:00' '2016-01-17 00:00:00'\n",
      " '2016-01-15 00:00:00' '2015-11-08 00:00:00' '2016-01-26 00:00:00'\n",
      " '2016-02-04 00:00:00' '2016-01-25 00:00:00' '2016-01-16 00:00:00'\n",
      " '2015-08-10 00:00:00' '2016-01-03 00:00:00' '2016-01-19 00:00:00'\n",
      " '2015-12-30 00:00:00' '2016-02-01 00:00:00' '2015-12-17 00:00:00'\n",
      " '2015-11-10 00:00:00' '2016-01-06 00:00:00' '2015-09-09 00:00:00'\n",
      " '2015-06-18 00:00:00']\n",
      "\n",
      "Уникальные значения столбца: number_of_pictures\n",
      "[0]\n",
      "\n",
      "Уникальные значения столбца: postal_code\n",
      "[70435 66954 90480 ... 38528 38325 31096]\n",
      "\n",
      "Уникальные значения столбца: last_seen\n",
      "['2016-04-07 03:16:57' '2016-04-07 01:46:50' '2016-04-05 12:47:46' ...\n",
      " '2016-03-19 20:44:43' '2016-03-29 10:17:23' '2016-03-21 10:42:49']\n",
      "\n"
     ]
    }
   ],
   "source": [
    "for i in df.columns:\n",
    "    try: #оборачиваем в try-except, т.к. есть пропуски\n",
    "        print('Уникальные значения столбца:',i)\n",
    "        print(df[i].unique())\n",
    "        print()\n",
    "    except: #\n",
    "        continue"
   ]
  },
  {
   "cell_type": "markdown",
   "metadata": {},
   "source": [
    "В столбце RegistrationYear существуют некорректные значения года регистрации.\n",
    "В столбце RegistrationMonth отсутсвует месяц регистрации.\n",
    "В столбце Power присутвует некорректное значение мощности.\n",
    "\n",
    "Определим признаки, важные для модели.\n",
    "\n",
    "К значимым признакам отнесем следующие столбцы:\n",
    "\n",
    "* VehicleType. Тип машины определяет ее функционал. Чем больше возможносей у машины, тем выше цена.\n",
    "* Gearbox. Наличие автоматической коробки передач повышает стоимость машины из-за сложности конструкции.\n",
    "* Power. Мощность в лоашдиных силах (далее л.с.) напрямую влияют на цену.\n",
    "* Kilometer. Имеет обратно пропорциональную зависиммость от цены. Чем больше километров проехала машина, тем меньше ее надежность и соответсвенно цена.\n",
    "* FuelType. Тип топлива определяет конструкцию двигателя внутреннего сгорания.\n",
    "* Brand. Концерн/компания, которая создала автомобиль показывает качество и надежность автомобиля.\n",
    "* NotRepaired. Машины, которые побывали в дорожно-транспортных проишествиях означает, что машина подвергалась изменениям и ее надежность ниже.\n",
    "* RegistrationYear. Год регистрации определяет сколько уже лет машина на ходу. соответвенно, чем больше возраст, тем меньше цена.\n",
    "* Model. В купе с типом машины и брендом може влиять на популярность у покупателей.\n"
   ]
  },
  {
   "cell_type": "markdown",
   "metadata": {},
   "source": [
    "Кореляция пирсона (линейные взаимосвязи) не показывает линейные зависимости целевого признака от показателей:"
   ]
  },
  {
   "cell_type": "code",
   "execution_count": 9,
   "metadata": {
    "scrolled": false
   },
   "outputs": [
    {
     "data": {
      "text/plain": [
       "<AxesSubplot:>"
      ]
     },
     "execution_count": 9,
     "metadata": {},
     "output_type": "execute_result"
    },
    {
     "data": {
      "image/png": "[encoded data removed]",
      "text/plain": [
       "<Figure size 432x288 with 2 Axes>"
      ]
     },
     "metadata": {
      "needs_background": "light"
     },
     "output_type": "display_data"
    }
   ],
   "source": [
    "sns.heatmap(df.corr(), annot=True)"
   ]
  },
  {
   "cell_type": "markdown",
   "metadata": {},
   "source": [
    "Проверим наличие нелинейных взаимосвязей через Phik:"
   ]
  },
  {
   "cell_type": "code",
   "execution_count": 10,
   "metadata": {},
   "outputs": [
    {
     "data": {
      "text/html": [
       "<div>\n",
       "<style scoped>\n",
       "    .dataframe tbody tr th:only-of-type {\n",
       "        vertical-align: middle;\n",
       "    }\n",
       "\n",
       "    .dataframe tbody tr th {\n",
       "        vertical-align: top;\n",
       "    }\n",
       "\n",
       "    .dataframe thead th {\n",
       "        text-align: right;\n",
       "    }\n",
       "</style>\n",
       "<table border=\"1\" class=\"dataframe\">\n",
       "  <thead>\n",
       "    <tr style=\"text-align: right;\">\n",
       "      <th></th>\n",
       "      <th>date_crawled</th>\n",
       "      <th>price</th>\n",
       "      <th>vehicle_type</th>\n",
       "      <th>registration_year</th>\n",
       "      <th>gearbox</th>\n",
       "      <th>power</th>\n",
       "      <th>model</th>\n",
       "      <th>kilometer</th>\n",
       "      <th>registration_month</th>\n",
       "      <th>fuel_type</th>\n",
       "      <th>brand</th>\n",
       "      <th>repaired</th>\n",
       "      <th>date_created</th>\n",
       "      <th>number_of_pictures</th>\n",
       "      <th>postal_code</th>\n",
       "      <th>last_seen</th>\n",
       "    </tr>\n",
       "  </thead>\n",
       "  <tbody>\n",
       "    <tr>\n",
       "      <th>0</th>\n",
       "      <td>2016-03-24 11:52:17</td>\n",
       "      <td>480</td>\n",
       "      <td>NaN</td>\n",
       "      <td>1993</td>\n",
       "      <td>manual</td>\n",
       "      <td>0</td>\n",
       "      <td>golf</td>\n",
       "      <td>150000</td>\n",
       "      <td>0</td>\n",
       "      <td>petrol</td>\n",
       "      <td>volkswagen</td>\n",
       "      <td>NaN</td>\n",
       "      <td>2016-03-24 00:00:00</td>\n",
       "      <td>0</td>\n",
       "      <td>70435</td>\n",
       "      <td>2016-04-07 03:16:57</td>\n",
       "    </tr>\n",
       "    <tr>\n",
       "      <th>1</th>\n",
       "      <td>2016-03-24 10:58:45</td>\n",
       "      <td>18300</td>\n",
       "      <td>coupe</td>\n",
       "      <td>2011</td>\n",
       "      <td>manual</td>\n",
       "      <td>190</td>\n",
       "      <td>NaN</td>\n",
       "      <td>125000</td>\n",
       "      <td>5</td>\n",
       "      <td>gasoline</td>\n",
       "      <td>audi</td>\n",
       "      <td>yes</td>\n",
       "      <td>2016-03-24 00:00:00</td>\n",
       "      <td>0</td>\n",
       "      <td>66954</td>\n",
       "      <td>2016-04-07 01:46:50</td>\n",
       "    </tr>\n",
       "    <tr>\n",
       "      <th>2</th>\n",
       "      <td>2016-03-14 12:52:21</td>\n",
       "      <td>9800</td>\n",
       "      <td>suv</td>\n",
       "      <td>2004</td>\n",
       "      <td>auto</td>\n",
       "      <td>163</td>\n",
       "      <td>grand</td>\n",
       "      <td>125000</td>\n",
       "      <td>8</td>\n",
       "      <td>gasoline</td>\n",
       "      <td>jeep</td>\n",
       "      <td>NaN</td>\n",
       "      <td>2016-03-14 00:00:00</td>\n",
       "      <td>0</td>\n",
       "      <td>90480</td>\n",
       "      <td>2016-04-05 12:47:46</td>\n",
       "    </tr>\n",
       "    <tr>\n",
       "      <th>3</th>\n",
       "      <td>2016-03-17 16:54:04</td>\n",
       "      <td>1500</td>\n",
       "      <td>small</td>\n",
       "      <td>2001</td>\n",
       "      <td>manual</td>\n",
       "      <td>75</td>\n",
       "      <td>golf</td>\n",
       "      <td>150000</td>\n",
       "      <td>6</td>\n",
       "      <td>petrol</td>\n",
       "      <td>volkswagen</td>\n",
       "      <td>no</td>\n",
       "      <td>2016-03-17 00:00:00</td>\n",
       "      <td>0</td>\n",
       "      <td>91074</td>\n",
       "      <td>2016-03-17 17:40:17</td>\n",
       "    </tr>\n",
       "    <tr>\n",
       "      <th>4</th>\n",
       "      <td>2016-03-31 17:25:20</td>\n",
       "      <td>3600</td>\n",
       "      <td>small</td>\n",
       "      <td>2008</td>\n",
       "      <td>manual</td>\n",
       "      <td>69</td>\n",
       "      <td>fabia</td>\n",
       "      <td>90000</td>\n",
       "      <td>7</td>\n",
       "      <td>gasoline</td>\n",
       "      <td>skoda</td>\n",
       "      <td>no</td>\n",
       "      <td>2016-03-31 00:00:00</td>\n",
       "      <td>0</td>\n",
       "      <td>60437</td>\n",
       "      <td>2016-04-06 10:17:21</td>\n",
       "    </tr>\n",
       "    <tr>\n",
       "      <th>...</th>\n",
       "      <td>...</td>\n",
       "      <td>...</td>\n",
       "      <td>...</td>\n",
       "      <td>...</td>\n",
       "      <td>...</td>\n",
       "      <td>...</td>\n",
       "      <td>...</td>\n",
       "      <td>...</td>\n",
       "      <td>...</td>\n",
       "      <td>...</td>\n",
       "      <td>...</td>\n",
       "      <td>...</td>\n",
       "      <td>...</td>\n",
       "      <td>...</td>\n",
       "      <td>...</td>\n",
       "      <td>...</td>\n",
       "    </tr>\n",
       "    <tr>\n",
       "      <th>354364</th>\n",
       "      <td>2016-03-21 09:50:58</td>\n",
       "      <td>0</td>\n",
       "      <td>NaN</td>\n",
       "      <td>2005</td>\n",
       "      <td>manual</td>\n",
       "      <td>0</td>\n",
       "      <td>colt</td>\n",
       "      <td>150000</td>\n",
       "      <td>7</td>\n",
       "      <td>petrol</td>\n",
       "      <td>mitsubishi</td>\n",
       "      <td>yes</td>\n",
       "      <td>2016-03-21 00:00:00</td>\n",
       "      <td>0</td>\n",
       "      <td>2694</td>\n",
       "      <td>2016-03-21 10:42:49</td>\n",
       "    </tr>\n",
       "    <tr>\n",
       "      <th>354365</th>\n",
       "      <td>2016-03-14 17:48:27</td>\n",
       "      <td>2200</td>\n",
       "      <td>NaN</td>\n",
       "      <td>2005</td>\n",
       "      <td>NaN</td>\n",
       "      <td>0</td>\n",
       "      <td>NaN</td>\n",
       "      <td>20000</td>\n",
       "      <td>1</td>\n",
       "      <td>NaN</td>\n",
       "      <td>sonstige_autos</td>\n",
       "      <td>NaN</td>\n",
       "      <td>2016-03-14 00:00:00</td>\n",
       "      <td>0</td>\n",
       "      <td>39576</td>\n",
       "      <td>2016-04-06 00:46:52</td>\n",
       "    </tr>\n",
       "    <tr>\n",
       "      <th>354366</th>\n",
       "      <td>2016-03-05 19:56:21</td>\n",
       "      <td>1199</td>\n",
       "      <td>convertible</td>\n",
       "      <td>2000</td>\n",
       "      <td>auto</td>\n",
       "      <td>101</td>\n",
       "      <td>fortwo</td>\n",
       "      <td>125000</td>\n",
       "      <td>3</td>\n",
       "      <td>petrol</td>\n",
       "      <td>smart</td>\n",
       "      <td>no</td>\n",
       "      <td>2016-03-05 00:00:00</td>\n",
       "      <td>0</td>\n",
       "      <td>26135</td>\n",
       "      <td>2016-03-11 18:17:12</td>\n",
       "    </tr>\n",
       "    <tr>\n",
       "      <th>354367</th>\n",
       "      <td>2016-03-19 18:57:12</td>\n",
       "      <td>9200</td>\n",
       "      <td>bus</td>\n",
       "      <td>1996</td>\n",
       "      <td>manual</td>\n",
       "      <td>102</td>\n",
       "      <td>transporter</td>\n",
       "      <td>150000</td>\n",
       "      <td>3</td>\n",
       "      <td>gasoline</td>\n",
       "      <td>volkswagen</td>\n",
       "      <td>no</td>\n",
       "      <td>2016-03-19 00:00:00</td>\n",
       "      <td>0</td>\n",
       "      <td>87439</td>\n",
       "      <td>2016-04-07 07:15:26</td>\n",
       "    </tr>\n",
       "    <tr>\n",
       "      <th>354368</th>\n",
       "      <td>2016-03-20 19:41:08</td>\n",
       "      <td>3400</td>\n",
       "      <td>wagon</td>\n",
       "      <td>2002</td>\n",
       "      <td>manual</td>\n",
       "      <td>100</td>\n",
       "      <td>golf</td>\n",
       "      <td>150000</td>\n",
       "      <td>6</td>\n",
       "      <td>gasoline</td>\n",
       "      <td>volkswagen</td>\n",
       "      <td>NaN</td>\n",
       "      <td>2016-03-20 00:00:00</td>\n",
       "      <td>0</td>\n",
       "      <td>40764</td>\n",
       "      <td>2016-03-24 12:45:21</td>\n",
       "    </tr>\n",
       "  </tbody>\n",
       "</table>\n",
       "<p>354365 rows × 16 columns</p>\n",
       "</div>"
      ],
      "text/plain": [
       "               date_crawled  price vehicle_type  registration_year gearbox  \\\n",
       "0       2016-03-24 11:52:17    480          NaN               1993  manual   \n",
       "1       2016-03-24 10:58:45  18300        coupe               2011  manual   \n",
       "2       2016-03-14 12:52:21   9800          suv               2004    auto   \n",
       "3       2016-03-17 16:54:04   1500        small               2001  manual   \n",
       "4       2016-03-31 17:25:20   3600        small               2008  manual   \n",
       "...                     ...    ...          ...                ...     ...   \n",
       "354364  2016-03-21 09:50:58      0          NaN               2005  manual   \n",
       "354365  2016-03-14 17:48:27   2200          NaN               2005     NaN   \n",
       "354366  2016-03-05 19:56:21   1199  convertible               2000    auto   \n",
       "354367  2016-03-19 18:57:12   9200          bus               1996  manual   \n",
       "354368  2016-03-20 19:41:08   3400        wagon               2002  manual   \n",
       "\n",
       "        power        model  kilometer  registration_month fuel_type  \\\n",
       "0           0         golf     150000                   0    petrol   \n",
       "1         190          NaN     125000                   5  gasoline   \n",
       "2         163        grand     125000                   8  gasoline   \n",
       "3          75         golf     150000                   6    petrol   \n",
       "4          69        fabia      90000                   7  gasoline   \n",
       "...       ...          ...        ...                 ...       ...   \n",
       "354364      0         colt     150000                   7    petrol   \n",
       "354365      0          NaN      20000                   1       NaN   \n",
       "354366    101       fortwo     125000                   3    petrol   \n",
       "354367    102  transporter     150000                   3  gasoline   \n",
       "354368    100         golf     150000                   6  gasoline   \n",
       "\n",
       "                 brand repaired         date_created  number_of_pictures  \\\n",
       "0           volkswagen      NaN  2016-03-24 00:00:00                   0   \n",
       "1                 audi      yes  2016-03-24 00:00:00                   0   \n",
       "2                 jeep      NaN  2016-03-14 00:00:00                   0   \n",
       "3           volkswagen       no  2016-03-17 00:00:00                   0   \n",
       "4                skoda       no  2016-03-31 00:00:00                   0   \n",
       "...                ...      ...                  ...                 ...   \n",
       "354364      mitsubishi      yes  2016-03-21 00:00:00                   0   \n",
       "354365  sonstige_autos      NaN  2016-03-14 00:00:00                   0   \n",
       "354366           smart       no  2016-03-05 00:00:00                   0   \n",
       "354367      volkswagen       no  2016-03-19 00:00:00                   0   \n",
       "354368      volkswagen      NaN  2016-03-20 00:00:00                   0   \n",
       "\n",
       "        postal_code            last_seen  \n",
       "0             70435  2016-04-07 03:16:57  \n",
       "1             66954  2016-04-07 01:46:50  \n",
       "2             90480  2016-04-05 12:47:46  \n",
       "3             91074  2016-03-17 17:40:17  \n",
       "4             60437  2016-04-06 10:17:21  \n",
       "...             ...                  ...  \n",
       "354364         2694  2016-03-21 10:42:49  \n",
       "354365        39576  2016-04-06 00:46:52  \n",
       "354366        26135  2016-03-11 18:17:12  \n",
       "354367        87439  2016-04-07 07:15:26  \n",
       "354368        40764  2016-03-24 12:45:21  \n",
       "\n",
       "[354365 rows x 16 columns]"
      ]
     },
     "execution_count": 10,
     "metadata": {},
     "output_type": "execute_result"
    }
   ],
   "source": [
    "df"
   ]
  },
  {
   "cell_type": "code",
   "execution_count": 11,
   "metadata": {},
   "outputs": [
    {
     "name": "stdout",
     "output_type": "stream",
     "text": [
      "interval columns not set, guessing: ['registration_year']\n"
     ]
    }
   ],
   "source": [
    "phik_overview = df[['vehicle_type', 'registration_year', 'gearbox', 'model', 'fuel_type', 'brand']].phik_matrix()\n",
    "#phik_overview.round(2)"
   ]
  },
  {
   "cell_type": "code",
   "execution_count": 12,
   "metadata": {
    "scrolled": true
   },
   "outputs": [
    {
     "data": {
      "image/png": "[encoded data removed]",
      "text/plain": [
       "<Figure size 720x576 with 2 Axes>"
      ]
     },
     "metadata": {
      "needs_background": "light"
     },
     "output_type": "display_data"
    }
   ],
   "source": [
    "plot_correlation_matrix(phik_overview.values, \n",
    "                        x_labels=phik_overview.columns, \n",
    "                        y_labels=phik_overview.index, \n",
    "                        vmin=0, vmax=1, color_map=\"Greens\", \n",
    "                        title=r\"correlation $\\phi_K$\", \n",
    "                        fontsize_factor=1.5, \n",
    "                        figsize=(10, 8))\n",
    "plt.tight_layout()"
   ]
  },
  {
   "cell_type": "markdown",
   "metadata": {},
   "source": [
    "Наблюдается сильная корреляция между моделю автомобиля и типом его кузова, между маркой и типом кузова и коробкой передач."
   ]
  },
  {
   "cell_type": "markdown",
   "metadata": {},
   "source": [
    "### Отбор признаков"
   ]
  },
  {
   "cell_type": "markdown",
   "metadata": {},
   "source": [
    "Удалим лишние признаки:"
   ]
  },
  {
   "cell_type": "code",
   "execution_count": 13,
   "metadata": {},
   "outputs": [],
   "source": [
    "df = df.drop(['date_crawled', 'number_of_pictures', 'last_seen', 'postal_code', 'date_created', 'registration_month'], axis=1)"
   ]
  },
  {
   "cell_type": "code",
   "execution_count": 14,
   "metadata": {},
   "outputs": [
    {
     "data": {
      "text/html": [
       "<style type=\"text/css\">\n",
       "</style>\n",
       "<table id=\"T_9d1bb\">\n",
       "  <thead>\n",
       "    <tr>\n",
       "      <th class=\"blank level0\" >&nbsp;</th>\n",
       "      <th id=\"T_9d1bb_level0_col0\" class=\"col_heading level0 col0\" >price</th>\n",
       "      <th id=\"T_9d1bb_level0_col1\" class=\"col_heading level0 col1\" >registration_year</th>\n",
       "      <th id=\"T_9d1bb_level0_col2\" class=\"col_heading level0 col2\" >power</th>\n",
       "      <th id=\"T_9d1bb_level0_col3\" class=\"col_heading level0 col3\" >kilometer</th>\n",
       "    </tr>\n",
       "  </thead>\n",
       "  <tbody>\n",
       "    <tr>\n",
       "      <th id=\"T_9d1bb_level0_row0\" class=\"row_heading level0 row0\" >count</th>\n",
       "      <td id=\"T_9d1bb_row0_col0\" class=\"data row0 col0\" >354,365.00</td>\n",
       "      <td id=\"T_9d1bb_row0_col1\" class=\"data row0 col1\" >354,365.00</td>\n",
       "      <td id=\"T_9d1bb_row0_col2\" class=\"data row0 col2\" >354,365.00</td>\n",
       "      <td id=\"T_9d1bb_row0_col3\" class=\"data row0 col3\" >354,365.00</td>\n",
       "    </tr>\n",
       "    <tr>\n",
       "      <th id=\"T_9d1bb_level0_row1\" class=\"row_heading level0 row1\" >min</th>\n",
       "      <td id=\"T_9d1bb_row1_col0\" class=\"data row1 col0\" >0.00</td>\n",
       "      <td id=\"T_9d1bb_row1_col1\" class=\"data row1 col1\" >1,000.00</td>\n",
       "      <td id=\"T_9d1bb_row1_col2\" class=\"data row1 col2\" >0.00</td>\n",
       "      <td id=\"T_9d1bb_row1_col3\" class=\"data row1 col3\" >5,000.00</td>\n",
       "    </tr>\n",
       "    <tr>\n",
       "      <th id=\"T_9d1bb_level0_row2\" class=\"row_heading level0 row2\" >max</th>\n",
       "      <td id=\"T_9d1bb_row2_col0\" class=\"data row2 col0\" >20,000.00</td>\n",
       "      <td id=\"T_9d1bb_row2_col1\" class=\"data row2 col1\" >9,999.00</td>\n",
       "      <td id=\"T_9d1bb_row2_col2\" class=\"data row2 col2\" >20,000.00</td>\n",
       "      <td id=\"T_9d1bb_row2_col3\" class=\"data row2 col3\" >150,000.00</td>\n",
       "    </tr>\n",
       "    <tr>\n",
       "      <th id=\"T_9d1bb_level0_row3\" class=\"row_heading level0 row3\" >mean</th>\n",
       "      <td id=\"T_9d1bb_row3_col0\" class=\"data row3 col0\" >4,416.68</td>\n",
       "      <td id=\"T_9d1bb_row3_col1\" class=\"data row3 col1\" >2,004.23</td>\n",
       "      <td id=\"T_9d1bb_row3_col2\" class=\"data row3 col2\" >110.09</td>\n",
       "      <td id=\"T_9d1bb_row3_col3\" class=\"data row3 col3\" >128,211.36</td>\n",
       "    </tr>\n",
       "  </tbody>\n",
       "</table>\n"
      ],
      "text/plain": [
       "<pandas.io.formats.style.Styler at 0x159c424e6a0>"
      ]
     },
     "metadata": {},
     "output_type": "display_data"
    }
   ],
   "source": [
    "display(df[df.select_dtypes(include=\"number\").columns].apply (['count', 'min', 'max', 'mean']).style.format(\"{:,.2f}\"))"
   ]
  },
  {
   "cell_type": "markdown",
   "metadata": {},
   "source": [
    "### Обзор данных и удаление выбросов:"
   ]
  },
  {
   "cell_type": "code",
   "execution_count": 15,
   "metadata": {},
   "outputs": [
    {
     "data": {
      "text/plain": [
       "<AxesSubplot:>"
      ]
     },
     "execution_count": 15,
     "metadata": {},
     "output_type": "execute_result"
    },
    {
     "data": {
      "image/png": "[encoded data removed]",
      "text/plain": [
       "<Figure size 432x288 with 1 Axes>"
      ]
     },
     "metadata": {
      "needs_background": "light"
     },
     "output_type": "display_data"
    }
   ],
   "source": [
    "df.boxplot('price', vert = False)"
   ]
  },
  {
   "cell_type": "code",
   "execution_count": 16,
   "metadata": {},
   "outputs": [
    {
     "data": {
      "text/plain": [
       "count    354365.000000\n",
       "mean       4416.679830\n",
       "std        4514.176349\n",
       "min           0.000000\n",
       "25%        1050.000000\n",
       "50%        2700.000000\n",
       "75%        6400.000000\n",
       "max       20000.000000\n",
       "Name: price, dtype: float64"
      ]
     },
     "execution_count": 16,
     "metadata": {},
     "output_type": "execute_result"
    },
    {
     "data": {
      "image/png": "[encoded data removed]",
      "text/plain": [
       "<Figure size 864x648 with 1 Axes>"
      ]
     },
     "metadata": {
      "needs_background": "light"
     },
     "output_type": "display_data"
    }
   ],
   "source": [
    "df['price'].hist(bins=100, figsize=(12,9))\n",
    "df['price'].describe()"
   ]
  },
  {
   "cell_type": "code",
   "execution_count": 17,
   "metadata": {},
   "outputs": [
    {
     "data": {
      "text/plain": [
       "0.05      200.0\n",
       "0.95    14600.0\n",
       "Name: price, dtype: float64"
      ]
     },
     "execution_count": 17,
     "metadata": {},
     "output_type": "execute_result"
    }
   ],
   "source": [
    "df['price'].quantile([.05, 0.95])"
   ]
  },
  {
   "cell_type": "code",
   "execution_count": 18,
   "metadata": {},
   "outputs": [
    {
     "name": "stdout",
     "output_type": "stream",
     "text": [
      "<class 'pandas.core.frame.DataFrame'>\n",
      "Int64Index: 293648 entries, 0 to 354368\n",
      "Data columns (total 10 columns):\n",
      " #   Column             Non-Null Count   Dtype \n",
      "---  ------             --------------   ----- \n",
      " 0   price              293648 non-null  int64 \n",
      " 1   vehicle_type       263749 non-null  object\n",
      " 2   registration_year  293648 non-null  int64 \n",
      " 3   gearbox            278766 non-null  object\n",
      " 4   power              293648 non-null  int64 \n",
      " 5   model              278422 non-null  object\n",
      " 6   kilometer          293648 non-null  int64 \n",
      " 7   fuel_type          267770 non-null  object\n",
      " 8   brand              293648 non-null  object\n",
      " 9   repaired           234463 non-null  object\n",
      "dtypes: int64(4), object(6)\n",
      "memory usage: 24.6+ MB\n"
     ]
    }
   ],
   "source": [
    "df = df.query('200 <= price <= 10001')\n",
    "df.info()"
   ]
  },
  {
   "cell_type": "code",
   "execution_count": 19,
   "metadata": {},
   "outputs": [
    {
     "data": {
      "text/plain": [
       "count    293648.000000\n",
       "mean       2003.225750\n",
       "std          67.074362\n",
       "min        1000.000000\n",
       "25%        1999.000000\n",
       "50%        2002.000000\n",
       "75%        2006.000000\n",
       "max        9999.000000\n",
       "Name: registration_year, dtype: float64"
      ]
     },
     "execution_count": 19,
     "metadata": {},
     "output_type": "execute_result"
    },
    {
     "data": {
      "image/png": "[encoded data removed]",
      "text/plain": [
       "<Figure size 864x648 with 1 Axes>"
      ]
     },
     "metadata": {
      "needs_background": "light"
     },
     "output_type": "display_data"
    }
   ],
   "source": [
    "df['registration_year'].hist(bins=100, figsize=(12,9))\n",
    "df['registration_year'].describe()"
   ]
  },
  {
   "cell_type": "markdown",
   "metadata": {},
   "source": [
    "Даты регистрации после 2016 года некорректны и машины появились не раньше 1900 года. Отсечем ненужные года:"
   ]
  },
  {
   "cell_type": "code",
   "execution_count": 20,
   "metadata": {},
   "outputs": [
    {
     "data": {
      "text/plain": [
       "count    280800.000000\n",
       "mean       2001.873803\n",
       "std           6.386862\n",
       "min        1910.000000\n",
       "25%        1999.000000\n",
       "50%        2002.000000\n",
       "75%        2006.000000\n",
       "max        2016.000000\n",
       "Name: registration_year, dtype: float64"
      ]
     },
     "execution_count": 20,
     "metadata": {},
     "output_type": "execute_result"
    },
    {
     "data": {
      "image/png": "[encoded data removed]",
      "text/plain": [
       "<Figure size 864x648 with 1 Axes>"
      ]
     },
     "metadata": {
      "needs_background": "light"
     },
     "output_type": "display_data"
    }
   ],
   "source": [
    "df = df.query('1899 < registration_year < 2017')\n",
    "df['registration_year'].hist(bins=100, figsize=(12,9))\n",
    "df['registration_year'].describe()"
   ]
  },
  {
   "cell_type": "markdown",
   "metadata": {},
   "source": [
    "Количество значений менее 1960 незначительное, отсечем их:"
   ]
  },
  {
   "cell_type": "code",
   "execution_count": 21,
   "metadata": {},
   "outputs": [
    {
     "data": {
      "text/plain": [
       "count    280638.000000\n",
       "mean       2001.907650\n",
       "std           6.217156\n",
       "min        1960.000000\n",
       "25%        1999.000000\n",
       "50%        2002.000000\n",
       "75%        2006.000000\n",
       "max        2016.000000\n",
       "Name: registration_year, dtype: float64"
      ]
     },
     "execution_count": 21,
     "metadata": {},
     "output_type": "execute_result"
    },
    {
     "data": {
      "image/png": "[encoded data removed]",
      "text/plain": [
       "<Figure size 864x648 with 1 Axes>"
      ]
     },
     "metadata": {
      "needs_background": "light"
     },
     "output_type": "display_data"
    }
   ],
   "source": [
    "df = df.query('1959 < registration_year')\n",
    "df['registration_year'].hist(bins=50, figsize=(12,9))\n",
    "df['registration_year'].describe()"
   ]
  },
  {
   "cell_type": "code",
   "execution_count": 22,
   "metadata": {},
   "outputs": [
    {
     "data": {
      "text/plain": [
       "count    280638.000000\n",
       "mean        104.582640\n",
       "std         182.924495\n",
       "min           0.000000\n",
       "25%          68.000000\n",
       "50%         101.000000\n",
       "75%         136.000000\n",
       "max       20000.000000\n",
       "Name: power, dtype: float64"
      ]
     },
     "execution_count": 22,
     "metadata": {},
     "output_type": "execute_result"
    }
   ],
   "source": [
    "df['power'].describe()"
   ]
  },
  {
   "cell_type": "markdown",
   "metadata": {},
   "source": [
    "Максимальная мощность двигателя автомобиля в истории - 5000 л.с., однако значения >1000 также практически не встречаются. Значения выше считаем выбросами. Значения <10  также аномально малы"
   ]
  },
  {
   "cell_type": "code",
   "execution_count": 23,
   "metadata": {},
   "outputs": [],
   "source": [
    "df = df.query('10 < power < 1000')"
   ]
  },
  {
   "cell_type": "code",
   "execution_count": 24,
   "metadata": {},
   "outputs": [
    {
     "data": {
      "text/plain": [
       "<AxesSubplot:>"
      ]
     },
     "execution_count": 24,
     "metadata": {},
     "output_type": "execute_result"
    },
    {
     "data": {
      "image/png": "[encoded data removed]",
      "text/plain": [
       "<Figure size 864x648 with 1 Axes>"
      ]
     },
     "metadata": {
      "needs_background": "light"
     },
     "output_type": "display_data"
    }
   ],
   "source": [
    "df['power'].hist(bins=50, figsize=(12,9))"
   ]
  },
  {
   "cell_type": "markdown",
   "metadata": {},
   "source": [
    "### Заполнение пропусков:"
   ]
  },
  {
   "cell_type": "code",
   "execution_count": 25,
   "metadata": {},
   "outputs": [
    {
     "data": {
      "text/plain": [
       "price                    0\n",
       "vehicle_type          9865\n",
       "registration_year        0\n",
       "gearbox               4829\n",
       "power                    0\n",
       "model                 9619\n",
       "kilometer                0\n",
       "fuel_type            14036\n",
       "brand                    0\n",
       "repaired             38951\n",
       "dtype: int64"
      ]
     },
     "execution_count": 25,
     "metadata": {},
     "output_type": "execute_result"
    }
   ],
   "source": [
    "df.isna().sum()"
   ]
  },
  {
   "cell_type": "markdown",
   "metadata": {},
   "source": [
    "Значения `gearbox`, `not_repaired`, `model` заполним следующим образом:"
   ]
  },
  {
   "cell_type": "code",
   "execution_count": 26,
   "metadata": {},
   "outputs": [],
   "source": [
    "df.fillna({'gearbox':'manual',\n",
    "           'repaired':'yes',\n",
    "           'model':'unknown'},\n",
    "            inplace=True)"
   ]
  },
  {
   "cell_type": "markdown",
   "metadata": {},
   "source": [
    "Заполнение `vehicle_type`. Создадим сводную таблицу по типам кузова для каждого бренда для определения самого популярного значения:"
   ]
  },
  {
   "cell_type": "code",
   "execution_count": 27,
   "metadata": {},
   "outputs": [
    {
     "data": {
      "text/html": [
       "<div>\n",
       "<style scoped>\n",
       "    .dataframe tbody tr th:only-of-type {\n",
       "        vertical-align: middle;\n",
       "    }\n",
       "\n",
       "    .dataframe tbody tr th {\n",
       "        vertical-align: top;\n",
       "    }\n",
       "\n",
       "    .dataframe thead tr th {\n",
       "        text-align: left;\n",
       "    }\n",
       "\n",
       "    .dataframe thead tr:last-of-type th {\n",
       "        text-align: right;\n",
       "    }\n",
       "</style>\n",
       "<table border=\"1\" class=\"dataframe\">\n",
       "  <thead>\n",
       "    <tr>\n",
       "      <th></th>\n",
       "      <th colspan=\"21\" halign=\"left\">count</th>\n",
       "    </tr>\n",
       "    <tr>\n",
       "      <th></th>\n",
       "      <th colspan=\"21\" halign=\"left\">price</th>\n",
       "    </tr>\n",
       "    <tr>\n",
       "      <th>brand</th>\n",
       "      <th>alfa_romeo</th>\n",
       "      <th>audi</th>\n",
       "      <th>bmw</th>\n",
       "      <th>chevrolet</th>\n",
       "      <th>chrysler</th>\n",
       "      <th>citroen</th>\n",
       "      <th>dacia</th>\n",
       "      <th>daewoo</th>\n",
       "      <th>daihatsu</th>\n",
       "      <th>fiat</th>\n",
       "      <th>...</th>\n",
       "      <th>seat</th>\n",
       "      <th>skoda</th>\n",
       "      <th>smart</th>\n",
       "      <th>sonstige_autos</th>\n",
       "      <th>subaru</th>\n",
       "      <th>suzuki</th>\n",
       "      <th>toyota</th>\n",
       "      <th>trabant</th>\n",
       "      <th>volkswagen</th>\n",
       "      <th>volvo</th>\n",
       "    </tr>\n",
       "    <tr>\n",
       "      <th>vehicle_type</th>\n",
       "      <th></th>\n",
       "      <th></th>\n",
       "      <th></th>\n",
       "      <th></th>\n",
       "      <th></th>\n",
       "      <th></th>\n",
       "      <th></th>\n",
       "      <th></th>\n",
       "      <th></th>\n",
       "      <th></th>\n",
       "      <th></th>\n",
       "      <th></th>\n",
       "      <th></th>\n",
       "      <th></th>\n",
       "      <th></th>\n",
       "      <th></th>\n",
       "      <th></th>\n",
       "      <th></th>\n",
       "      <th></th>\n",
       "      <th></th>\n",
       "      <th></th>\n",
       "    </tr>\n",
       "  </thead>\n",
       "  <tbody>\n",
       "    <tr>\n",
       "      <th>bus</th>\n",
       "      <td>NaN</td>\n",
       "      <td>9.0</td>\n",
       "      <td>4.0</td>\n",
       "      <td>105.0</td>\n",
       "      <td>355.0</td>\n",
       "      <td>1069.0</td>\n",
       "      <td>28.0</td>\n",
       "      <td>24.0</td>\n",
       "      <td>31.0</td>\n",
       "      <td>681.0</td>\n",
       "      <td>...</td>\n",
       "      <td>516.0</td>\n",
       "      <td>197.0</td>\n",
       "      <td>NaN</td>\n",
       "      <td>133.0</td>\n",
       "      <td>14.0</td>\n",
       "      <td>25.0</td>\n",
       "      <td>369.0</td>\n",
       "      <td>NaN</td>\n",
       "      <td>6609.0</td>\n",
       "      <td>NaN</td>\n",
       "    </tr>\n",
       "    <tr>\n",
       "      <th>convertible</th>\n",
       "      <td>121.0</td>\n",
       "      <td>916.0</td>\n",
       "      <td>2021.0</td>\n",
       "      <td>9.0</td>\n",
       "      <td>188.0</td>\n",
       "      <td>86.0</td>\n",
       "      <td>NaN</td>\n",
       "      <td>1.0</td>\n",
       "      <td>15.0</td>\n",
       "      <td>348.0</td>\n",
       "      <td>...</td>\n",
       "      <td>NaN</td>\n",
       "      <td>3.0</td>\n",
       "      <td>1021.0</td>\n",
       "      <td>177.0</td>\n",
       "      <td>1.0</td>\n",
       "      <td>26.0</td>\n",
       "      <td>56.0</td>\n",
       "      <td>27.0</td>\n",
       "      <td>2177.0</td>\n",
       "      <td>34.0</td>\n",
       "    </tr>\n",
       "    <tr>\n",
       "      <th>coupe</th>\n",
       "      <td>198.0</td>\n",
       "      <td>716.0</td>\n",
       "      <td>2626.0</td>\n",
       "      <td>46.0</td>\n",
       "      <td>33.0</td>\n",
       "      <td>129.0</td>\n",
       "      <td>NaN</td>\n",
       "      <td>5.0</td>\n",
       "      <td>NaN</td>\n",
       "      <td>140.0</td>\n",
       "      <td>...</td>\n",
       "      <td>66.0</td>\n",
       "      <td>5.0</td>\n",
       "      <td>288.0</td>\n",
       "      <td>87.0</td>\n",
       "      <td>3.0</td>\n",
       "      <td>4.0</td>\n",
       "      <td>184.0</td>\n",
       "      <td>2.0</td>\n",
       "      <td>882.0</td>\n",
       "      <td>55.0</td>\n",
       "    </tr>\n",
       "    <tr>\n",
       "      <th>other</th>\n",
       "      <td>7.0</td>\n",
       "      <td>76.0</td>\n",
       "      <td>190.0</td>\n",
       "      <td>20.0</td>\n",
       "      <td>4.0</td>\n",
       "      <td>91.0</td>\n",
       "      <td>6.0</td>\n",
       "      <td>3.0</td>\n",
       "      <td>7.0</td>\n",
       "      <td>134.0</td>\n",
       "      <td>...</td>\n",
       "      <td>43.0</td>\n",
       "      <td>17.0</td>\n",
       "      <td>4.0</td>\n",
       "      <td>66.0</td>\n",
       "      <td>4.0</td>\n",
       "      <td>9.0</td>\n",
       "      <td>12.0</td>\n",
       "      <td>2.0</td>\n",
       "      <td>570.0</td>\n",
       "      <td>3.0</td>\n",
       "    </tr>\n",
       "    <tr>\n",
       "      <th>sedan</th>\n",
       "      <td>773.0</td>\n",
       "      <td>8199.0</td>\n",
       "      <td>12789.0</td>\n",
       "      <td>172.0</td>\n",
       "      <td>213.0</td>\n",
       "      <td>572.0</td>\n",
       "      <td>94.0</td>\n",
       "      <td>88.0</td>\n",
       "      <td>37.0</td>\n",
       "      <td>760.0</td>\n",
       "      <td>...</td>\n",
       "      <td>1375.0</td>\n",
       "      <td>695.0</td>\n",
       "      <td>26.0</td>\n",
       "      <td>258.0</td>\n",
       "      <td>124.0</td>\n",
       "      <td>133.0</td>\n",
       "      <td>746.0</td>\n",
       "      <td>129.0</td>\n",
       "      <td>15577.0</td>\n",
       "      <td>522.0</td>\n",
       "    </tr>\n",
       "    <tr>\n",
       "      <th>small</th>\n",
       "      <td>211.0</td>\n",
       "      <td>833.0</td>\n",
       "      <td>330.0</td>\n",
       "      <td>528.0</td>\n",
       "      <td>10.0</td>\n",
       "      <td>1360.0</td>\n",
       "      <td>204.0</td>\n",
       "      <td>214.0</td>\n",
       "      <td>422.0</td>\n",
       "      <td>4457.0</td>\n",
       "      <td>...</td>\n",
       "      <td>2712.0</td>\n",
       "      <td>981.0</td>\n",
       "      <td>2945.0</td>\n",
       "      <td>74.0</td>\n",
       "      <td>98.0</td>\n",
       "      <td>820.0</td>\n",
       "      <td>1405.0</td>\n",
       "      <td>45.0</td>\n",
       "      <td>15338.0</td>\n",
       "      <td>6.0</td>\n",
       "    </tr>\n",
       "    <tr>\n",
       "      <th>suv</th>\n",
       "      <td>NaN</td>\n",
       "      <td>19.0</td>\n",
       "      <td>300.0</td>\n",
       "      <td>216.0</td>\n",
       "      <td>13.0</td>\n",
       "      <td>12.0</td>\n",
       "      <td>127.0</td>\n",
       "      <td>1.0</td>\n",
       "      <td>41.0</td>\n",
       "      <td>18.0</td>\n",
       "      <td>...</td>\n",
       "      <td>3.0</td>\n",
       "      <td>18.0</td>\n",
       "      <td>NaN</td>\n",
       "      <td>208.0</td>\n",
       "      <td>48.0</td>\n",
       "      <td>593.0</td>\n",
       "      <td>304.0</td>\n",
       "      <td>NaN</td>\n",
       "      <td>393.0</td>\n",
       "      <td>99.0</td>\n",
       "    </tr>\n",
       "    <tr>\n",
       "      <th>wagon</th>\n",
       "      <td>403.0</td>\n",
       "      <td>7565.0</td>\n",
       "      <td>5639.0</td>\n",
       "      <td>82.0</td>\n",
       "      <td>200.0</td>\n",
       "      <td>505.0</td>\n",
       "      <td>222.0</td>\n",
       "      <td>39.0</td>\n",
       "      <td>14.0</td>\n",
       "      <td>358.0</td>\n",
       "      <td>...</td>\n",
       "      <td>269.0</td>\n",
       "      <td>1967.0</td>\n",
       "      <td>9.0</td>\n",
       "      <td>87.0</td>\n",
       "      <td>251.0</td>\n",
       "      <td>77.0</td>\n",
       "      <td>455.0</td>\n",
       "      <td>50.0</td>\n",
       "      <td>10153.0</td>\n",
       "      <td>1664.0</td>\n",
       "    </tr>\n",
       "  </tbody>\n",
       "</table>\n",
       "<p>8 rows × 40 columns</p>\n",
       "</div>"
      ],
      "text/plain": [
       "                  count                                                     \\\n",
       "                  price                                                      \n",
       "brand        alfa_romeo    audi      bmw chevrolet chrysler citroen  dacia   \n",
       "vehicle_type                                                                 \n",
       "bus                 NaN     9.0      4.0     105.0    355.0  1069.0   28.0   \n",
       "convertible       121.0   916.0   2021.0       9.0    188.0    86.0    NaN   \n",
       "coupe             198.0   716.0   2626.0      46.0     33.0   129.0    NaN   \n",
       "other               7.0    76.0    190.0      20.0      4.0    91.0    6.0   \n",
       "sedan             773.0  8199.0  12789.0     172.0    213.0   572.0   94.0   \n",
       "small             211.0   833.0    330.0     528.0     10.0  1360.0  204.0   \n",
       "suv                 NaN    19.0    300.0     216.0     13.0    12.0  127.0   \n",
       "wagon             403.0  7565.0   5639.0      82.0    200.0   505.0  222.0   \n",
       "\n",
       "                                      ...                          \\\n",
       "                                      ...                           \n",
       "brand        daewoo daihatsu    fiat  ...    seat   skoda   smart   \n",
       "vehicle_type                          ...                           \n",
       "bus            24.0     31.0   681.0  ...   516.0   197.0     NaN   \n",
       "convertible     1.0     15.0   348.0  ...     NaN     3.0  1021.0   \n",
       "coupe           5.0      NaN   140.0  ...    66.0     5.0   288.0   \n",
       "other           3.0      7.0   134.0  ...    43.0    17.0     4.0   \n",
       "sedan          88.0     37.0   760.0  ...  1375.0   695.0    26.0   \n",
       "small         214.0    422.0  4457.0  ...  2712.0   981.0  2945.0   \n",
       "suv             1.0     41.0    18.0  ...     3.0    18.0     NaN   \n",
       "wagon          39.0     14.0   358.0  ...   269.0  1967.0     9.0   \n",
       "\n",
       "                                                                              \n",
       "                                                                              \n",
       "brand        sonstige_autos subaru suzuki  toyota trabant volkswagen   volvo  \n",
       "vehicle_type                                                                  \n",
       "bus                   133.0   14.0   25.0   369.0     NaN     6609.0     NaN  \n",
       "convertible           177.0    1.0   26.0    56.0    27.0     2177.0    34.0  \n",
       "coupe                  87.0    3.0    4.0   184.0     2.0      882.0    55.0  \n",
       "other                  66.0    4.0    9.0    12.0     2.0      570.0     3.0  \n",
       "sedan                 258.0  124.0  133.0   746.0   129.0    15577.0   522.0  \n",
       "small                  74.0   98.0  820.0  1405.0    45.0    15338.0     6.0  \n",
       "suv                   208.0   48.0  593.0   304.0     NaN      393.0    99.0  \n",
       "wagon                  87.0  251.0   77.0   455.0    50.0    10153.0  1664.0  \n",
       "\n",
       "[8 rows x 40 columns]"
      ]
     },
     "metadata": {},
     "output_type": "display_data"
    }
   ],
   "source": [
    "vehicle_type_pivot_table = df.pivot_table(index=['vehicle_type'], \n",
    "                                          columns=['brand'],\n",
    "                                          values=['price'],\n",
    "                                          aggfunc=['count'])\n",
    "display(vehicle_type_pivot_table)"
   ]
  },
  {
   "cell_type": "markdown",
   "metadata": {},
   "source": [
    "Избавимся от мультииндекса:"
   ]
  },
  {
   "cell_type": "code",
   "execution_count": 28,
   "metadata": {},
   "outputs": [],
   "source": [
    "vehicle_type_pivot_table = vehicle_type_pivot_table['count']['price']\n",
    "df.fillna({'vehicle_type':0},inplace=True)"
   ]
  },
  {
   "cell_type": "markdown",
   "metadata": {},
   "source": [
    "Функция для заполнения пропусков^:"
   ]
  },
  {
   "cell_type": "code",
   "execution_count": 29,
   "metadata": {},
   "outputs": [],
   "source": [
    "def fillna_by_brand(row, row_number, vehicle_type_pivot_table):\n",
    "    brand = row[8]\n",
    "    fill_value = row[row_number]\n",
    "    if row[row_number] == 0:\n",
    "        fill_value = vehicle_type_pivot_table[brand].idxmax()\n",
    "    return fill_value"
   ]
  },
  {
   "cell_type": "code",
   "execution_count": 30,
   "metadata": {},
   "outputs": [
    {
     "data": {
      "text/plain": [
       "0"
      ]
     },
     "metadata": {},
     "output_type": "display_data"
    },
    {
     "data": {
      "text/plain": [
       "sedan          75948\n",
       "small          69873\n",
       "wagon          49984\n",
       "bus            22039\n",
       "convertible    14104\n",
       "coupe          10909\n",
       "suv             6269\n",
       "other           2179\n",
       "Name: vehicle_type, dtype: int64"
      ]
     },
     "execution_count": 30,
     "metadata": {},
     "output_type": "execute_result"
    }
   ],
   "source": [
    "df['vehicle_type'] = df.apply(\n",
    "                        fillna_by_brand, \n",
    "                        args=[1, vehicle_type_pivot_table],\n",
    "                        axis=1)\n",
    "display(df['vehicle_type'].isna().sum())\n",
    "df['vehicle_type'].value_counts()"
   ]
  },
  {
   "cell_type": "markdown",
   "metadata": {},
   "source": [
    "Проверка: в 1-й строке тип кузова volkswagen заполнился самым популярным значениям для этой модели бренда:"
   ]
  },
  {
   "cell_type": "code",
   "execution_count": 31,
   "metadata": {},
   "outputs": [
    {
     "data": {
      "text/html": [
       "<div>\n",
       "<style scoped>\n",
       "    .dataframe tbody tr th:only-of-type {\n",
       "        vertical-align: middle;\n",
       "    }\n",
       "\n",
       "    .dataframe tbody tr th {\n",
       "        vertical-align: top;\n",
       "    }\n",
       "\n",
       "    .dataframe thead th {\n",
       "        text-align: right;\n",
       "    }\n",
       "</style>\n",
       "<table border=\"1\" class=\"dataframe\">\n",
       "  <thead>\n",
       "    <tr style=\"text-align: right;\">\n",
       "      <th></th>\n",
       "      <th>price</th>\n",
       "      <th>vehicle_type</th>\n",
       "      <th>registration_year</th>\n",
       "      <th>gearbox</th>\n",
       "      <th>power</th>\n",
       "      <th>model</th>\n",
       "      <th>kilometer</th>\n",
       "      <th>fuel_type</th>\n",
       "      <th>brand</th>\n",
       "      <th>repaired</th>\n",
       "    </tr>\n",
       "  </thead>\n",
       "  <tbody>\n",
       "    <tr>\n",
       "      <th>2</th>\n",
       "      <td>9800</td>\n",
       "      <td>suv</td>\n",
       "      <td>2004</td>\n",
       "      <td>auto</td>\n",
       "      <td>163</td>\n",
       "      <td>grand</td>\n",
       "      <td>125000</td>\n",
       "      <td>gasoline</td>\n",
       "      <td>jeep</td>\n",
       "      <td>yes</td>\n",
       "    </tr>\n",
       "    <tr>\n",
       "      <th>3</th>\n",
       "      <td>1500</td>\n",
       "      <td>small</td>\n",
       "      <td>2001</td>\n",
       "      <td>manual</td>\n",
       "      <td>75</td>\n",
       "      <td>golf</td>\n",
       "      <td>150000</td>\n",
       "      <td>petrol</td>\n",
       "      <td>volkswagen</td>\n",
       "      <td>no</td>\n",
       "    </tr>\n",
       "    <tr>\n",
       "      <th>4</th>\n",
       "      <td>3600</td>\n",
       "      <td>small</td>\n",
       "      <td>2008</td>\n",
       "      <td>manual</td>\n",
       "      <td>69</td>\n",
       "      <td>fabia</td>\n",
       "      <td>90000</td>\n",
       "      <td>gasoline</td>\n",
       "      <td>skoda</td>\n",
       "      <td>no</td>\n",
       "    </tr>\n",
       "    <tr>\n",
       "      <th>5</th>\n",
       "      <td>650</td>\n",
       "      <td>sedan</td>\n",
       "      <td>1995</td>\n",
       "      <td>manual</td>\n",
       "      <td>102</td>\n",
       "      <td>3er</td>\n",
       "      <td>150000</td>\n",
       "      <td>petrol</td>\n",
       "      <td>bmw</td>\n",
       "      <td>yes</td>\n",
       "    </tr>\n",
       "    <tr>\n",
       "      <th>6</th>\n",
       "      <td>2200</td>\n",
       "      <td>convertible</td>\n",
       "      <td>2004</td>\n",
       "      <td>manual</td>\n",
       "      <td>109</td>\n",
       "      <td>2_reihe</td>\n",
       "      <td>150000</td>\n",
       "      <td>petrol</td>\n",
       "      <td>peugeot</td>\n",
       "      <td>no</td>\n",
       "    </tr>\n",
       "  </tbody>\n",
       "</table>\n",
       "</div>"
      ],
      "text/plain": [
       "   price vehicle_type  registration_year gearbox  power    model  kilometer  \\\n",
       "2   9800          suv               2004    auto    163    grand     125000   \n",
       "3   1500        small               2001  manual     75     golf     150000   \n",
       "4   3600        small               2008  manual     69    fabia      90000   \n",
       "5    650        sedan               1995  manual    102      3er     150000   \n",
       "6   2200  convertible               2004  manual    109  2_reihe     150000   \n",
       "\n",
       "  fuel_type       brand repaired  \n",
       "2  gasoline        jeep      yes  \n",
       "3    petrol  volkswagen       no  \n",
       "4  gasoline       skoda       no  \n",
       "5    petrol         bmw      yes  \n",
       "6    petrol     peugeot       no  "
      ]
     },
     "execution_count": 31,
     "metadata": {},
     "output_type": "execute_result"
    }
   ],
   "source": [
    "df.head()"
   ]
  },
  {
   "cell_type": "markdown",
   "metadata": {},
   "source": [
    "Заполнение `fuel_type`. Создадим сводную таблицу по типам кузова для каждого бренда для определения самого популярного значения:"
   ]
  },
  {
   "cell_type": "code",
   "execution_count": 32,
   "metadata": {},
   "outputs": [
    {
     "data": {
      "text/html": [
       "<div>\n",
       "<style scoped>\n",
       "    .dataframe tbody tr th:only-of-type {\n",
       "        vertical-align: middle;\n",
       "    }\n",
       "\n",
       "    .dataframe tbody tr th {\n",
       "        vertical-align: top;\n",
       "    }\n",
       "\n",
       "    .dataframe thead tr th {\n",
       "        text-align: left;\n",
       "    }\n",
       "\n",
       "    .dataframe thead tr:last-of-type th {\n",
       "        text-align: right;\n",
       "    }\n",
       "</style>\n",
       "<table border=\"1\" class=\"dataframe\">\n",
       "  <thead>\n",
       "    <tr>\n",
       "      <th></th>\n",
       "      <th colspan=\"21\" halign=\"left\">count</th>\n",
       "    </tr>\n",
       "    <tr>\n",
       "      <th></th>\n",
       "      <th colspan=\"21\" halign=\"left\">price</th>\n",
       "    </tr>\n",
       "    <tr>\n",
       "      <th>brand</th>\n",
       "      <th>alfa_romeo</th>\n",
       "      <th>audi</th>\n",
       "      <th>bmw</th>\n",
       "      <th>chevrolet</th>\n",
       "      <th>chrysler</th>\n",
       "      <th>citroen</th>\n",
       "      <th>dacia</th>\n",
       "      <th>daewoo</th>\n",
       "      <th>daihatsu</th>\n",
       "      <th>fiat</th>\n",
       "      <th>...</th>\n",
       "      <th>seat</th>\n",
       "      <th>skoda</th>\n",
       "      <th>smart</th>\n",
       "      <th>sonstige_autos</th>\n",
       "      <th>subaru</th>\n",
       "      <th>suzuki</th>\n",
       "      <th>toyota</th>\n",
       "      <th>trabant</th>\n",
       "      <th>volkswagen</th>\n",
       "      <th>volvo</th>\n",
       "    </tr>\n",
       "    <tr>\n",
       "      <th>fuel_type</th>\n",
       "      <th></th>\n",
       "      <th></th>\n",
       "      <th></th>\n",
       "      <th></th>\n",
       "      <th></th>\n",
       "      <th></th>\n",
       "      <th></th>\n",
       "      <th></th>\n",
       "      <th></th>\n",
       "      <th></th>\n",
       "      <th></th>\n",
       "      <th></th>\n",
       "      <th></th>\n",
       "      <th></th>\n",
       "      <th></th>\n",
       "      <th></th>\n",
       "      <th></th>\n",
       "      <th></th>\n",
       "      <th></th>\n",
       "      <th></th>\n",
       "      <th></th>\n",
       "    </tr>\n",
       "  </thead>\n",
       "  <tbody>\n",
       "    <tr>\n",
       "      <th>cng</th>\n",
       "      <td>NaN</td>\n",
       "      <td>NaN</td>\n",
       "      <td>5.0</td>\n",
       "      <td>4.0</td>\n",
       "      <td>NaN</td>\n",
       "      <td>5.0</td>\n",
       "      <td>2.0</td>\n",
       "      <td>NaN</td>\n",
       "      <td>NaN</td>\n",
       "      <td>62.0</td>\n",
       "      <td>...</td>\n",
       "      <td>NaN</td>\n",
       "      <td>6.0</td>\n",
       "      <td>2.0</td>\n",
       "      <td>6.0</td>\n",
       "      <td>2.0</td>\n",
       "      <td>NaN</td>\n",
       "      <td>NaN</td>\n",
       "      <td>NaN</td>\n",
       "      <td>153.0</td>\n",
       "      <td>20.0</td>\n",
       "    </tr>\n",
       "    <tr>\n",
       "      <th>electric</th>\n",
       "      <td>NaN</td>\n",
       "      <td>2.0</td>\n",
       "      <td>3.0</td>\n",
       "      <td>NaN</td>\n",
       "      <td>NaN</td>\n",
       "      <td>NaN</td>\n",
       "      <td>NaN</td>\n",
       "      <td>NaN</td>\n",
       "      <td>1.0</td>\n",
       "      <td>2.0</td>\n",
       "      <td>...</td>\n",
       "      <td>NaN</td>\n",
       "      <td>NaN</td>\n",
       "      <td>2.0</td>\n",
       "      <td>3.0</td>\n",
       "      <td>NaN</td>\n",
       "      <td>NaN</td>\n",
       "      <td>NaN</td>\n",
       "      <td>NaN</td>\n",
       "      <td>2.0</td>\n",
       "      <td>NaN</td>\n",
       "    </tr>\n",
       "    <tr>\n",
       "      <th>gasoline</th>\n",
       "      <td>503.0</td>\n",
       "      <td>7476.0</td>\n",
       "      <td>6649.0</td>\n",
       "      <td>115.0</td>\n",
       "      <td>283.0</td>\n",
       "      <td>1250.0</td>\n",
       "      <td>126.0</td>\n",
       "      <td>1.0</td>\n",
       "      <td>4.0</td>\n",
       "      <td>1165.0</td>\n",
       "      <td>...</td>\n",
       "      <td>1309.0</td>\n",
       "      <td>1299.0</td>\n",
       "      <td>757.0</td>\n",
       "      <td>199.0</td>\n",
       "      <td>19.0</td>\n",
       "      <td>174.0</td>\n",
       "      <td>776.0</td>\n",
       "      <td>1.0</td>\n",
       "      <td>17759.0</td>\n",
       "      <td>692.0</td>\n",
       "    </tr>\n",
       "    <tr>\n",
       "      <th>hybrid</th>\n",
       "      <td>NaN</td>\n",
       "      <td>NaN</td>\n",
       "      <td>NaN</td>\n",
       "      <td>NaN</td>\n",
       "      <td>NaN</td>\n",
       "      <td>NaN</td>\n",
       "      <td>NaN</td>\n",
       "      <td>NaN</td>\n",
       "      <td>NaN</td>\n",
       "      <td>3.0</td>\n",
       "      <td>...</td>\n",
       "      <td>1.0</td>\n",
       "      <td>NaN</td>\n",
       "      <td>1.0</td>\n",
       "      <td>1.0</td>\n",
       "      <td>NaN</td>\n",
       "      <td>NaN</td>\n",
       "      <td>40.0</td>\n",
       "      <td>NaN</td>\n",
       "      <td>3.0</td>\n",
       "      <td>NaN</td>\n",
       "    </tr>\n",
       "    <tr>\n",
       "      <th>lpg</th>\n",
       "      <td>27.0</td>\n",
       "      <td>382.0</td>\n",
       "      <td>640.0</td>\n",
       "      <td>150.0</td>\n",
       "      <td>76.0</td>\n",
       "      <td>61.0</td>\n",
       "      <td>44.0</td>\n",
       "      <td>21.0</td>\n",
       "      <td>4.0</td>\n",
       "      <td>59.0</td>\n",
       "      <td>...</td>\n",
       "      <td>58.0</td>\n",
       "      <td>48.0</td>\n",
       "      <td>3.0</td>\n",
       "      <td>76.0</td>\n",
       "      <td>27.0</td>\n",
       "      <td>15.0</td>\n",
       "      <td>15.0</td>\n",
       "      <td>NaN</td>\n",
       "      <td>450.0</td>\n",
       "      <td>102.0</td>\n",
       "    </tr>\n",
       "    <tr>\n",
       "      <th>other</th>\n",
       "      <td>NaN</td>\n",
       "      <td>1.0</td>\n",
       "      <td>3.0</td>\n",
       "      <td>NaN</td>\n",
       "      <td>NaN</td>\n",
       "      <td>NaN</td>\n",
       "      <td>NaN</td>\n",
       "      <td>NaN</td>\n",
       "      <td>NaN</td>\n",
       "      <td>1.0</td>\n",
       "      <td>...</td>\n",
       "      <td>NaN</td>\n",
       "      <td>NaN</td>\n",
       "      <td>NaN</td>\n",
       "      <td>6.0</td>\n",
       "      <td>NaN</td>\n",
       "      <td>1.0</td>\n",
       "      <td>NaN</td>\n",
       "      <td>23.0</td>\n",
       "      <td>14.0</td>\n",
       "      <td>2.0</td>\n",
       "    </tr>\n",
       "    <tr>\n",
       "      <th>petrol</th>\n",
       "      <td>1158.0</td>\n",
       "      <td>10127.0</td>\n",
       "      <td>15984.0</td>\n",
       "      <td>895.0</td>\n",
       "      <td>630.0</td>\n",
       "      <td>2453.0</td>\n",
       "      <td>491.0</td>\n",
       "      <td>353.0</td>\n",
       "      <td>541.0</td>\n",
       "      <td>5506.0</td>\n",
       "      <td>...</td>\n",
       "      <td>3558.0</td>\n",
       "      <td>2477.0</td>\n",
       "      <td>3492.0</td>\n",
       "      <td>760.0</td>\n",
       "      <td>478.0</td>\n",
       "      <td>1469.0</td>\n",
       "      <td>2676.0</td>\n",
       "      <td>199.0</td>\n",
       "      <td>32941.0</td>\n",
       "      <td>1505.0</td>\n",
       "    </tr>\n",
       "  </tbody>\n",
       "</table>\n",
       "<p>7 rows × 40 columns</p>\n",
       "</div>"
      ],
      "text/plain": [
       "               count                                                      \\\n",
       "               price                                                       \n",
       "brand     alfa_romeo     audi      bmw chevrolet chrysler citroen  dacia   \n",
       "fuel_type                                                                  \n",
       "cng              NaN      NaN      5.0       4.0      NaN     5.0    2.0   \n",
       "electric         NaN      2.0      3.0       NaN      NaN     NaN    NaN   \n",
       "gasoline       503.0   7476.0   6649.0     115.0    283.0  1250.0  126.0   \n",
       "hybrid           NaN      NaN      NaN       NaN      NaN     NaN    NaN   \n",
       "lpg             27.0    382.0    640.0     150.0     76.0    61.0   44.0   \n",
       "other            NaN      1.0      3.0       NaN      NaN     NaN    NaN   \n",
       "petrol        1158.0  10127.0  15984.0     895.0    630.0  2453.0  491.0   \n",
       "\n",
       "                                   ...                                         \\\n",
       "                                   ...                                          \n",
       "brand     daewoo daihatsu    fiat  ...    seat   skoda   smart sonstige_autos   \n",
       "fuel_type                          ...                                          \n",
       "cng          NaN      NaN    62.0  ...     NaN     6.0     2.0            6.0   \n",
       "electric     NaN      1.0     2.0  ...     NaN     NaN     2.0            3.0   \n",
       "gasoline     1.0      4.0  1165.0  ...  1309.0  1299.0   757.0          199.0   \n",
       "hybrid       NaN      NaN     3.0  ...     1.0     NaN     1.0            1.0   \n",
       "lpg         21.0      4.0    59.0  ...    58.0    48.0     3.0           76.0   \n",
       "other        NaN      NaN     1.0  ...     NaN     NaN     NaN            6.0   \n",
       "petrol     353.0    541.0  5506.0  ...  3558.0  2477.0  3492.0          760.0   \n",
       "\n",
       "                                                             \n",
       "                                                             \n",
       "brand     subaru  suzuki  toyota trabant volkswagen   volvo  \n",
       "fuel_type                                                    \n",
       "cng          2.0     NaN     NaN     NaN      153.0    20.0  \n",
       "electric     NaN     NaN     NaN     NaN        2.0     NaN  \n",
       "gasoline    19.0   174.0   776.0     1.0    17759.0   692.0  \n",
       "hybrid       NaN     NaN    40.0     NaN        3.0     NaN  \n",
       "lpg         27.0    15.0    15.0     NaN      450.0   102.0  \n",
       "other        NaN     1.0     NaN    23.0       14.0     2.0  \n",
       "petrol     478.0  1469.0  2676.0   199.0    32941.0  1505.0  \n",
       "\n",
       "[7 rows x 40 columns]"
      ]
     },
     "metadata": {},
     "output_type": "display_data"
    }
   ],
   "source": [
    "fuel_type_pivot_table = df.pivot_table(index=['fuel_type'], \n",
    "                                          columns=['brand'],\n",
    "                                          values=['price'],\n",
    "                                          aggfunc=['count'])\n",
    "display(fuel_type_pivot_table)"
   ]
  },
  {
   "cell_type": "code",
   "execution_count": 33,
   "metadata": {},
   "outputs": [],
   "source": [
    "fuel_type_pivot_table = fuel_type_pivot_table['count']['price']\n",
    "df.fillna({'fuel_type':0},inplace=True)"
   ]
  },
  {
   "cell_type": "code",
   "execution_count": 34,
   "metadata": {},
   "outputs": [],
   "source": [
    "df['fuel_type'] = df.apply(\n",
    "                        fillna_by_brand, \n",
    "                        args=[8, fuel_type_pivot_table],\n",
    "                        axis=1)"
   ]
  },
  {
   "cell_type": "code",
   "execution_count": 35,
   "metadata": {},
   "outputs": [
    {
     "data": {
      "text/plain": [
       "price                0\n",
       "vehicle_type         0\n",
       "registration_year    0\n",
       "gearbox              0\n",
       "power                0\n",
       "model                0\n",
       "kilometer            0\n",
       "fuel_type            0\n",
       "brand                0\n",
       "repaired             0\n",
       "dtype: int64"
      ]
     },
     "execution_count": 35,
     "metadata": {},
     "output_type": "execute_result"
    }
   ],
   "source": [
    "df.isna().sum()"
   ]
  },
  {
   "cell_type": "markdown",
   "metadata": {},
   "source": [
    "### Замена типов данных:"
   ]
  },
  {
   "cell_type": "code",
   "execution_count": 36,
   "metadata": {},
   "outputs": [
    {
     "data": {
      "text/html": [
       "<div>\n",
       "<style scoped>\n",
       "    .dataframe tbody tr th:only-of-type {\n",
       "        vertical-align: middle;\n",
       "    }\n",
       "\n",
       "    .dataframe tbody tr th {\n",
       "        vertical-align: top;\n",
       "    }\n",
       "\n",
       "    .dataframe thead th {\n",
       "        text-align: right;\n",
       "    }\n",
       "</style>\n",
       "<table border=\"1\" class=\"dataframe\">\n",
       "  <thead>\n",
       "    <tr style=\"text-align: right;\">\n",
       "      <th></th>\n",
       "      <th>price</th>\n",
       "      <th>vehicle_type</th>\n",
       "      <th>registration_year</th>\n",
       "      <th>gearbox</th>\n",
       "      <th>power</th>\n",
       "      <th>model</th>\n",
       "      <th>kilometer</th>\n",
       "      <th>fuel_type</th>\n",
       "      <th>brand</th>\n",
       "      <th>repaired</th>\n",
       "    </tr>\n",
       "  </thead>\n",
       "  <tbody>\n",
       "    <tr>\n",
       "      <th>2</th>\n",
       "      <td>9800</td>\n",
       "      <td>suv</td>\n",
       "      <td>2004</td>\n",
       "      <td>auto</td>\n",
       "      <td>163</td>\n",
       "      <td>grand</td>\n",
       "      <td>125000</td>\n",
       "      <td>jeep</td>\n",
       "      <td>jeep</td>\n",
       "      <td>yes</td>\n",
       "    </tr>\n",
       "    <tr>\n",
       "      <th>3</th>\n",
       "      <td>1500</td>\n",
       "      <td>small</td>\n",
       "      <td>2001</td>\n",
       "      <td>manual</td>\n",
       "      <td>75</td>\n",
       "      <td>golf</td>\n",
       "      <td>150000</td>\n",
       "      <td>volkswagen</td>\n",
       "      <td>volkswagen</td>\n",
       "      <td>no</td>\n",
       "    </tr>\n",
       "    <tr>\n",
       "      <th>4</th>\n",
       "      <td>3600</td>\n",
       "      <td>small</td>\n",
       "      <td>2008</td>\n",
       "      <td>manual</td>\n",
       "      <td>69</td>\n",
       "      <td>fabia</td>\n",
       "      <td>90000</td>\n",
       "      <td>skoda</td>\n",
       "      <td>skoda</td>\n",
       "      <td>no</td>\n",
       "    </tr>\n",
       "    <tr>\n",
       "      <th>5</th>\n",
       "      <td>650</td>\n",
       "      <td>sedan</td>\n",
       "      <td>1995</td>\n",
       "      <td>manual</td>\n",
       "      <td>102</td>\n",
       "      <td>3er</td>\n",
       "      <td>150000</td>\n",
       "      <td>bmw</td>\n",
       "      <td>bmw</td>\n",
       "      <td>yes</td>\n",
       "    </tr>\n",
       "    <tr>\n",
       "      <th>6</th>\n",
       "      <td>2200</td>\n",
       "      <td>convertible</td>\n",
       "      <td>2004</td>\n",
       "      <td>manual</td>\n",
       "      <td>109</td>\n",
       "      <td>2_reihe</td>\n",
       "      <td>150000</td>\n",
       "      <td>peugeot</td>\n",
       "      <td>peugeot</td>\n",
       "      <td>no</td>\n",
       "    </tr>\n",
       "  </tbody>\n",
       "</table>\n",
       "</div>"
      ],
      "text/plain": [
       "   price vehicle_type  registration_year gearbox  power    model  kilometer  \\\n",
       "2   9800          suv               2004    auto    163    grand     125000   \n",
       "3   1500        small               2001  manual     75     golf     150000   \n",
       "4   3600        small               2008  manual     69    fabia      90000   \n",
       "5    650        sedan               1995  manual    102      3er     150000   \n",
       "6   2200  convertible               2004  manual    109  2_reihe     150000   \n",
       "\n",
       "    fuel_type       brand repaired  \n",
       "2        jeep        jeep      yes  \n",
       "3  volkswagen  volkswagen       no  \n",
       "4       skoda       skoda       no  \n",
       "5         bmw         bmw      yes  \n",
       "6     peugeot     peugeot       no  "
      ]
     },
     "execution_count": 36,
     "metadata": {},
     "output_type": "execute_result"
    }
   ],
   "source": [
    "df.head()"
   ]
  },
  {
   "cell_type": "code",
   "execution_count": 37,
   "metadata": {},
   "outputs": [],
   "source": [
    "df['vehicle_type'] = df['vehicle_type'].astype('category')\n",
    "df['registration_year'] = df['registration_year'].astype('uint32')\n",
    "df['gearbox'] = df['gearbox'].astype('category')\n",
    "df['power'] = df['power'].astype('float32')\n",
    "df['model'] = df['model'].astype('category')\n",
    "df['fuel_type'] = df['fuel_type'].astype('category')\n",
    "df['brand'] = df['brand'].astype('category')\n",
    "df['repaired'] = df['repaired'].astype('bool')"
   ]
  },
  {
   "cell_type": "code",
   "execution_count": 38,
   "metadata": {},
   "outputs": [
    {
     "name": "stdout",
     "output_type": "stream",
     "text": [
      "<class 'pandas.core.frame.DataFrame'>\n",
      "Int64Index: 251305 entries, 2 to 354368\n",
      "Data columns (total 10 columns):\n",
      " #   Column             Non-Null Count   Dtype   \n",
      "---  ------             --------------   -----   \n",
      " 0   price              251305 non-null  int64   \n",
      " 1   vehicle_type       251305 non-null  category\n",
      " 2   registration_year  251305 non-null  uint32  \n",
      " 3   gearbox            251305 non-null  category\n",
      " 4   power              251305 non-null  float32 \n",
      " 5   model              251305 non-null  category\n",
      " 6   kilometer          251305 non-null  int64   \n",
      " 7   fuel_type          251305 non-null  category\n",
      " 8   brand              251305 non-null  category\n",
      " 9   repaired           251305 non-null  bool    \n",
      "dtypes: bool(1), category(5), float32(1), int64(2), uint32(1)\n",
      "memory usage: 9.4 MB\n"
     ]
    }
   ],
   "source": [
    "df.info(memory_usage='deep')"
   ]
  },
  {
   "cell_type": "code",
   "execution_count": 39,
   "metadata": {},
   "outputs": [
    {
     "data": {
      "text/html": [
       "<style type=\"text/css\">\n",
       "</style>\n",
       "<table id=\"T_9bae6\">\n",
       "  <thead>\n",
       "    <tr>\n",
       "      <th class=\"blank level0\" >&nbsp;</th>\n",
       "      <th id=\"T_9bae6_level0_col0\" class=\"col_heading level0 col0\" >price</th>\n",
       "      <th id=\"T_9bae6_level0_col1\" class=\"col_heading level0 col1\" >registration_year</th>\n",
       "      <th id=\"T_9bae6_level0_col2\" class=\"col_heading level0 col2\" >power</th>\n",
       "      <th id=\"T_9bae6_level0_col3\" class=\"col_heading level0 col3\" >kilometer</th>\n",
       "    </tr>\n",
       "  </thead>\n",
       "  <tbody>\n",
       "    <tr>\n",
       "      <th id=\"T_9bae6_level0_row0\" class=\"row_heading level0 row0\" >count</th>\n",
       "      <td id=\"T_9bae6_row0_col0\" class=\"data row0 col0\" >251,305.00</td>\n",
       "      <td id=\"T_9bae6_row0_col1\" class=\"data row0 col1\" >251,305.00</td>\n",
       "      <td id=\"T_9bae6_row0_col2\" class=\"data row0 col2\" >251,305.00</td>\n",
       "      <td id=\"T_9bae6_row0_col3\" class=\"data row0 col3\" >251,305.00</td>\n",
       "    </tr>\n",
       "    <tr>\n",
       "      <th id=\"T_9bae6_level0_row1\" class=\"row_heading level0 row1\" >min</th>\n",
       "      <td id=\"T_9bae6_row1_col0\" class=\"data row1 col0\" >200.00</td>\n",
       "      <td id=\"T_9bae6_row1_col1\" class=\"data row1 col1\" >1,960.00</td>\n",
       "      <td id=\"T_9bae6_row1_col2\" class=\"data row1 col2\" >11.00</td>\n",
       "      <td id=\"T_9bae6_row1_col3\" class=\"data row1 col3\" >5,000.00</td>\n",
       "    </tr>\n",
       "    <tr>\n",
       "      <th id=\"T_9bae6_level0_row2\" class=\"row_heading level0 row2\" >max</th>\n",
       "      <td id=\"T_9bae6_row2_col0\" class=\"data row2 col0\" >10,001.00</td>\n",
       "      <td id=\"T_9bae6_row2_col1\" class=\"data row2 col1\" >2,016.00</td>\n",
       "      <td id=\"T_9bae6_row2_col2\" class=\"data row2 col2\" >999.00</td>\n",
       "      <td id=\"T_9bae6_row2_col3\" class=\"data row2 col3\" >150,000.00</td>\n",
       "    </tr>\n",
       "    <tr>\n",
       "      <th id=\"T_9bae6_level0_row3\" class=\"row_heading level0 row3\" >mean</th>\n",
       "      <td id=\"T_9bae6_row3_col0\" class=\"data row3 col0\" >3,391.47</td>\n",
       "      <td id=\"T_9bae6_row3_col1\" class=\"data row3 col1\" >2,002.02</td>\n",
       "      <td id=\"T_9bae6_row3_col2\" class=\"data row3 col2\" >112.98</td>\n",
       "      <td id=\"T_9bae6_row3_col3\" class=\"data row3 col3\" >132,815.60</td>\n",
       "    </tr>\n",
       "  </tbody>\n",
       "</table>\n"
      ],
      "text/plain": [
       "<pandas.io.formats.style.Styler at 0x159c474a760>"
      ]
     },
     "metadata": {},
     "output_type": "display_data"
    }
   ],
   "source": [
    "display(df[df.select_dtypes(include=\"number\").columns].apply (['count', 'min', 'max', 'mean']).style.format(\"{:,.2f}\"))"
   ]
  },
  {
   "cell_type": "markdown",
   "metadata": {},
   "source": [
    "Анализ датасета:"
   ]
  },
  {
   "cell_type": "markdown",
   "metadata": {},
   "source": [
    "**Вывод**\n",
    "1. Выполнен обзор датасета\n",
    "2. Исключены дубликаты, аномальные значения, нерелевантные для машинного обучения столбцы\n",
    "3. Заполнены пропуски в датасете\n",
    "4. Объем расходования оперативной памяти сокращен с 43.3 Мб до 9.4 Мб.\n",
    "5. Мультиколлинеарность между признаками не выявлена"
   ]
  },
  {
   "cell_type": "markdown",
   "metadata": {},
   "source": [
    "## Обучение моделей"
   ]
  },
  {
   "cell_type": "markdown",
   "metadata": {},
   "source": [
    "В качестве моделей для предсказания оценки автомобилей выберем:\n",
    "* LinearRegression\n",
    "* RandoForestRegressor\n",
    "* LightGBM\n",
    "* CatBoost"
   ]
  },
  {
   "cell_type": "markdown",
   "metadata": {},
   "source": [
    "Подготовка признаков:\n",
    "- Библиотеки градиентного бустинга LightGBM и CatBoost работают с категориальными признаками напрямую, для них не требуется кодировать их в численные. \n",
    "-  LinearRegression необходимо работать только с численными значениями, для нее используем dummy-признаки.\n",
    "-  Для модели RandomForest используем поярдковое кодирование OrdinalEncoder."
   ]
  },
  {
   "cell_type": "markdown",
   "metadata": {},
   "source": [
    "Предварительно разделим датасет на выборки во избежание утечки данных с трейн на тест:"
   ]
  },
  {
   "cell_type": "code",
   "execution_count": 40,
   "metadata": {},
   "outputs": [],
   "source": [
    "target = df['price']\n",
    "original_features = df.drop('price', axis=1)"
   ]
  },
  {
   "cell_type": "code",
   "execution_count": 41,
   "metadata": {},
   "outputs": [],
   "source": [
    "original_features_train, original_features_test, target_train, target_test = train_test_split(\n",
    "    original_features, target, test_size=0.25, random_state=282)"
   ]
  },
  {
   "cell_type": "markdown",
   "metadata": {},
   "source": [
    "Подготовим дамми-признаки для работы модели LinearRegression:"
   ]
  },
  {
   "cell_type": "code",
   "execution_count": 42,
   "metadata": {},
   "outputs": [],
   "source": [
    "ohe_features_train = pd.get_dummies(original_features_train, drop_first=True)\n",
    "ohe_features_test = pd.get_dummies(original_features_test, drop_first=True)"
   ]
  },
  {
   "cell_type": "markdown",
   "metadata": {},
   "source": [
    "Произведем кодирование признаков для модели RandomForest:"
   ]
  },
  {
   "cell_type": "code",
   "execution_count": 43,
   "metadata": {},
   "outputs": [
    {
     "data": {
      "text/html": [
       "<div>\n",
       "<style scoped>\n",
       "    .dataframe tbody tr th:only-of-type {\n",
       "        vertical-align: middle;\n",
       "    }\n",
       "\n",
       "    .dataframe tbody tr th {\n",
       "        vertical-align: top;\n",
       "    }\n",
       "\n",
       "    .dataframe thead th {\n",
       "        text-align: right;\n",
       "    }\n",
       "</style>\n",
       "<table border=\"1\" class=\"dataframe\">\n",
       "  <thead>\n",
       "    <tr style=\"text-align: right;\">\n",
       "      <th></th>\n",
       "      <th>price</th>\n",
       "      <th>vehicle_type</th>\n",
       "      <th>registration_year</th>\n",
       "      <th>gearbox</th>\n",
       "      <th>power</th>\n",
       "      <th>model</th>\n",
       "      <th>kilometer</th>\n",
       "      <th>fuel_type</th>\n",
       "      <th>brand</th>\n",
       "      <th>repaired</th>\n",
       "    </tr>\n",
       "  </thead>\n",
       "  <tbody>\n",
       "    <tr>\n",
       "      <th>2</th>\n",
       "      <td>9800</td>\n",
       "      <td>suv</td>\n",
       "      <td>2004</td>\n",
       "      <td>auto</td>\n",
       "      <td>163.0</td>\n",
       "      <td>grand</td>\n",
       "      <td>125000</td>\n",
       "      <td>jeep</td>\n",
       "      <td>jeep</td>\n",
       "      <td>True</td>\n",
       "    </tr>\n",
       "    <tr>\n",
       "      <th>3</th>\n",
       "      <td>1500</td>\n",
       "      <td>small</td>\n",
       "      <td>2001</td>\n",
       "      <td>manual</td>\n",
       "      <td>75.0</td>\n",
       "      <td>golf</td>\n",
       "      <td>150000</td>\n",
       "      <td>volkswagen</td>\n",
       "      <td>volkswagen</td>\n",
       "      <td>True</td>\n",
       "    </tr>\n",
       "    <tr>\n",
       "      <th>4</th>\n",
       "      <td>3600</td>\n",
       "      <td>small</td>\n",
       "      <td>2008</td>\n",
       "      <td>manual</td>\n",
       "      <td>69.0</td>\n",
       "      <td>fabia</td>\n",
       "      <td>90000</td>\n",
       "      <td>skoda</td>\n",
       "      <td>skoda</td>\n",
       "      <td>True</td>\n",
       "    </tr>\n",
       "    <tr>\n",
       "      <th>5</th>\n",
       "      <td>650</td>\n",
       "      <td>sedan</td>\n",
       "      <td>1995</td>\n",
       "      <td>manual</td>\n",
       "      <td>102.0</td>\n",
       "      <td>3er</td>\n",
       "      <td>150000</td>\n",
       "      <td>bmw</td>\n",
       "      <td>bmw</td>\n",
       "      <td>True</td>\n",
       "    </tr>\n",
       "    <tr>\n",
       "      <th>6</th>\n",
       "      <td>2200</td>\n",
       "      <td>convertible</td>\n",
       "      <td>2004</td>\n",
       "      <td>manual</td>\n",
       "      <td>109.0</td>\n",
       "      <td>2_reihe</td>\n",
       "      <td>150000</td>\n",
       "      <td>peugeot</td>\n",
       "      <td>peugeot</td>\n",
       "      <td>True</td>\n",
       "    </tr>\n",
       "  </tbody>\n",
       "</table>\n",
       "</div>"
      ],
      "text/plain": [
       "   price vehicle_type  registration_year gearbox  power    model  kilometer  \\\n",
       "2   9800          suv               2004    auto  163.0    grand     125000   \n",
       "3   1500        small               2001  manual   75.0     golf     150000   \n",
       "4   3600        small               2008  manual   69.0    fabia      90000   \n",
       "5    650        sedan               1995  manual  102.0      3er     150000   \n",
       "6   2200  convertible               2004  manual  109.0  2_reihe     150000   \n",
       "\n",
       "    fuel_type       brand  repaired  \n",
       "2        jeep        jeep      True  \n",
       "3  volkswagen  volkswagen      True  \n",
       "4       skoda       skoda      True  \n",
       "5         bmw         bmw      True  \n",
       "6     peugeot     peugeot      True  "
      ]
     },
     "execution_count": 43,
     "metadata": {},
     "output_type": "execute_result"
    }
   ],
   "source": [
    "df.head()"
   ]
  },
  {
   "cell_type": "code",
   "execution_count": 44,
   "metadata": {},
   "outputs": [],
   "source": [
    "oe_features_train = original_features_train.copy()\n",
    "oe_features_test = original_features_test.copy()\n",
    "\n",
    "encoder = OrdinalEncoder(handle_unknown='use_encoded_value', unknown_value=1000)\n",
    "encoder.fit(oe_features_train[['vehicle_type','gearbox','model','fuel_type', 'brand']])\n",
    "\n",
    "oe_features_train[['vehicle_type','gearbox','model','fuel_type', 'brand']] = encoder.transform(\n",
    "    oe_features_train[['vehicle_type','gearbox','model','fuel_type', 'brand']])\n",
    "\n",
    "oe_features_test[['vehicle_type','gearbox','model','fuel_type', 'brand']] = encoder.transform(\n",
    "    oe_features_test[['vehicle_type','gearbox','model','fuel_type', 'brand']])"
   ]
  },
  {
   "cell_type": "markdown",
   "metadata": {},
   "source": [
    "### Линейная регрессия"
   ]
  },
  {
   "cell_type": "markdown",
   "metadata": {},
   "source": [
    "Масштабирование в данном случае не требуется,т.к. не влияет на начение RMSE."
   ]
  },
  {
   "cell_type": "code",
   "execution_count": 45,
   "metadata": {},
   "outputs": [
    {
     "name": "stdout",
     "output_type": "stream",
     "text": [
      "Training for RMSE:\n",
      "\n",
      "Mean RMSE from CV of LinearRegression = 1763.1315815514622\n",
      "Mean fittime from CV of LinearRegression = 7.277282810211181\n",
      "Mean predicttime from CV of LinearRegression = 0.21535024642944336\n",
      "CPU times: total: 53.7 s\n",
      "Wall time: 37.6 s\n"
     ]
    }
   ],
   "source": [
    "%%time\n",
    "\n",
    "linear_model = LinearRegression()\n",
    "print('Training for RMSE:')\n",
    "print()\n",
    "linear_model_info = (cross_validate(linear_model, \n",
    "                             ohe_features_train, \n",
    "                             target_train, \n",
    "                             cv=5, \n",
    "                             scoring='neg_mean_squared_error'))\n",
    "\n",
    "linear_model_rmse_train = (linear_model_info['test_score'].mean() * -1) ** 0.5\n",
    "linear_model_fittime_train = linear_model_info['fit_time'].mean()\n",
    "linear_model_predicttime_train = linear_model_info['score_time'].mean()\n",
    "\n",
    "print('Mean RMSE from CV of LinearRegression =', linear_model_rmse_train)\n",
    "print('Mean fittime from CV of LinearRegression =', linear_model_fittime_train)\n",
    "print('Mean predicttime from CV of LinearRegression =', linear_model_predicttime_train)"
   ]
  },
  {
   "cell_type": "markdown",
   "metadata": {},
   "source": [
    "На OHE признаках:\n",
    "\n",
    "* Mean RMSE from CV of LinearRegression = 1763.1315815514647\n",
    "* Mean fittime from CV of LinearRegression = 22.744531631469727\n",
    "* Mean predicttime from CV of LinearRegression = 0.9314366340637207\n",
    "* CPU times: user 1min 6s, sys: 51.1 s, total: 1min 58s\n",
    "* Wall time: 1min 58s"
   ]
  },
  {
   "cell_type": "markdown",
   "metadata": {},
   "source": [
    "### RandomForestRegressor"
   ]
  },
  {
   "cell_type": "code",
   "execution_count": 48,
   "metadata": {
    "scrolled": true
   },
   "outputs": [
    {
     "name": "stdout",
     "output_type": "stream",
     "text": [
      "Fitting 5 folds for each of 48 candidates, totalling 240 fits\n",
      "[CV] END criterion=squared_error, max_depth=10, n_estimators=15; total time=   5.2s\n",
      "[CV] END criterion=squared_error, max_depth=10, n_estimators=15; total time=   4.7s\n",
      "[CV] END criterion=squared_error, max_depth=10, n_estimators=15; total time=   4.0s\n",
      "[CV] END criterion=squared_error, max_depth=10, n_estimators=15; total time=   3.5s\n",
      "[CV] END criterion=squared_error, max_depth=10, n_estimators=15; total time=   4.3s\n",
      "[CV] END criterion=squared_error, max_depth=10, n_estimators=19; total time=   4.1s\n",
      "[CV] END criterion=squared_error, max_depth=10, n_estimators=19; total time=   4.3s\n",
      "[CV] END criterion=squared_error, max_depth=10, n_estimators=19; total time=   6.3s\n",
      "[CV] END criterion=squared_error, max_depth=10, n_estimators=19; total time=   4.3s\n",
      "[CV] END criterion=squared_error, max_depth=10, n_estimators=19; total time=   4.5s\n",
      "[CV] END criterion=squared_error, max_depth=10, n_estimators=23; total time=   6.5s\n",
      "[CV] END criterion=squared_error, max_depth=10, n_estimators=23; total time=   4.7s\n",
      "[CV] END criterion=squared_error, max_depth=10, n_estimators=23; total time=   4.6s\n",
      "[CV] END criterion=squared_error, max_depth=10, n_estimators=23; total time=   5.5s\n",
      "[CV] END criterion=squared_error, max_depth=10, n_estimators=23; total time=   4.7s\n",
      "[CV] END criterion=squared_error, max_depth=10, n_estimators=27; total time=   5.5s\n",
      "[CV] END criterion=squared_error, max_depth=10, n_estimators=27; total time=   6.6s\n",
      "[CV] END criterion=squared_error, max_depth=10, n_estimators=27; total time=   5.4s\n",
      "[CV] END criterion=squared_error, max_depth=10, n_estimators=27; total time=   5.8s\n",
      "[CV] END criterion=squared_error, max_depth=10, n_estimators=27; total time=   6.4s\n",
      "[CV] END criterion=squared_error, max_depth=10, n_estimators=31; total time=   6.6s\n",
      "[CV] END criterion=squared_error, max_depth=10, n_estimators=31; total time=   7.1s\n",
      "[CV] END criterion=squared_error, max_depth=10, n_estimators=31; total time=   6.2s\n",
      "[CV] END criterion=squared_error, max_depth=10, n_estimators=31; total time=   6.4s\n",
      "[CV] END criterion=squared_error, max_depth=10, n_estimators=31; total time=   6.9s\n",
      "[CV] END criterion=squared_error, max_depth=10, n_estimators=35; total time=   7.2s\n",
      "[CV] END criterion=squared_error, max_depth=10, n_estimators=35; total time=   7.9s\n",
      "[CV] END criterion=squared_error, max_depth=10, n_estimators=35; total time=   7.3s\n",
      "[CV] END criterion=squared_error, max_depth=10, n_estimators=35; total time=   7.6s\n",
      "[CV] END criterion=squared_error, max_depth=10, n_estimators=35; total time=   7.3s\n",
      "[CV] END criterion=squared_error, max_depth=10, n_estimators=39; total time=   8.6s\n",
      "[CV] END criterion=squared_error, max_depth=10, n_estimators=39; total time=   7.8s\n",
      "[CV] END criterion=squared_error, max_depth=10, n_estimators=39; total time=   8.7s\n",
      "[CV] END criterion=squared_error, max_depth=10, n_estimators=39; total time=   7.9s\n",
      "[CV] END criterion=squared_error, max_depth=10, n_estimators=39; total time=   9.4s\n",
      "[CV] END criterion=squared_error, max_depth=10, n_estimators=43; total time=   9.4s\n",
      "[CV] END criterion=squared_error, max_depth=10, n_estimators=43; total time=   9.2s\n",
      "[CV] END criterion=squared_error, max_depth=10, n_estimators=43; total time=   9.5s\n",
      "[CV] END criterion=squared_error, max_depth=10, n_estimators=43; total time=   8.6s\n",
      "[CV] END criterion=squared_error, max_depth=10, n_estimators=43; total time=   9.7s\n",
      "[CV] END criterion=squared_error, max_depth=12, n_estimators=15; total time=   3.5s\n",
      "[CV] END criterion=squared_error, max_depth=12, n_estimators=15; total time=   3.6s\n",
      "[CV] END criterion=squared_error, max_depth=12, n_estimators=15; total time=   4.4s\n",
      "[CV] END criterion=squared_error, max_depth=12, n_estimators=15; total time=   3.8s\n",
      "[CV] END criterion=squared_error, max_depth=12, n_estimators=15; total time=   3.8s\n",
      "[CV] END criterion=squared_error, max_depth=12, n_estimators=19; total time=   4.7s\n",
      "[CV] END criterion=squared_error, max_depth=12, n_estimators=19; total time=   5.4s\n",
      "[CV] END criterion=squared_error, max_depth=12, n_estimators=19; total time=   4.6s\n",
      "[CV] END criterion=squared_error, max_depth=12, n_estimators=19; total time=   4.5s\n",
      "[CV] END criterion=squared_error, max_depth=12, n_estimators=19; total time=   5.3s\n",
      "[CV] END criterion=squared_error, max_depth=12, n_estimators=23; total time=   5.6s\n",
      "[CV] END criterion=squared_error, max_depth=12, n_estimators=23; total time=   5.5s\n",
      "[CV] END criterion=squared_error, max_depth=12, n_estimators=23; total time=   7.3s\n",
      "[CV] END criterion=squared_error, max_depth=12, n_estimators=23; total time=   6.5s\n",
      "[CV] END criterion=squared_error, max_depth=12, n_estimators=23; total time=   9.6s\n",
      "[CV] END criterion=squared_error, max_depth=12, n_estimators=27; total time=   8.6s\n",
      "[CV] END criterion=squared_error, max_depth=12, n_estimators=27; total time=   8.2s\n",
      "[CV] END criterion=squared_error, max_depth=12, n_estimators=27; total time=   7.1s\n",
      "[CV] END criterion=squared_error, max_depth=12, n_estimators=27; total time=   8.0s\n",
      "[CV] END criterion=squared_error, max_depth=12, n_estimators=27; total time=   7.2s\n",
      "[CV] END criterion=squared_error, max_depth=12, n_estimators=31; total time=  10.5s\n",
      "[CV] END criterion=squared_error, max_depth=12, n_estimators=31; total time=  10.2s\n",
      "[CV] END criterion=squared_error, max_depth=12, n_estimators=31; total time=   8.8s\n",
      "[CV] END criterion=squared_error, max_depth=12, n_estimators=31; total time=   8.4s\n",
      "[CV] END criterion=squared_error, max_depth=12, n_estimators=31; total time=   7.7s\n",
      "[CV] END criterion=squared_error, max_depth=12, n_estimators=35; total time=  10.1s\n",
      "[CV] END criterion=squared_error, max_depth=12, n_estimators=35; total time=  10.0s\n",
      "[CV] END criterion=squared_error, max_depth=12, n_estimators=35; total time=   9.6s\n",
      "[CV] END criterion=squared_error, max_depth=12, n_estimators=35; total time=  10.0s\n",
      "[CV] END criterion=squared_error, max_depth=12, n_estimators=35; total time=   8.3s\n",
      "[CV] END criterion=squared_error, max_depth=12, n_estimators=39; total time=  10.4s\n",
      "[CV] END criterion=squared_error, max_depth=12, n_estimators=39; total time=  13.2s\n",
      "[CV] END criterion=squared_error, max_depth=12, n_estimators=39; total time=  12.0s\n",
      "[CV] END criterion=squared_error, max_depth=12, n_estimators=39; total time=  10.9s\n",
      "[CV] END criterion=squared_error, max_depth=12, n_estimators=39; total time=  15.5s\n",
      "[CV] END criterion=squared_error, max_depth=12, n_estimators=43; total time=  16.7s\n",
      "[CV] END criterion=squared_error, max_depth=12, n_estimators=43; total time=  11.2s\n",
      "[CV] END criterion=squared_error, max_depth=12, n_estimators=43; total time=  12.9s\n",
      "[CV] END criterion=squared_error, max_depth=12, n_estimators=43; total time=  19.0s\n",
      "[CV] END criterion=squared_error, max_depth=12, n_estimators=43; total time=  14.1s\n",
      "[CV] END criterion=squared_error, max_depth=14, n_estimators=15; total time=   4.9s\n",
      "[CV] END criterion=squared_error, max_depth=14, n_estimators=15; total time=   4.9s\n",
      "[CV] END criterion=squared_error, max_depth=14, n_estimators=15; total time=   5.7s\n",
      "[CV] END criterion=squared_error, max_depth=14, n_estimators=15; total time=   4.8s\n",
      "[CV] END criterion=squared_error, max_depth=14, n_estimators=15; total time=   5.1s\n",
      "[CV] END criterion=squared_error, max_depth=14, n_estimators=19; total time=   7.2s\n",
      "[CV] END criterion=squared_error, max_depth=14, n_estimators=19; total time=   6.1s\n",
      "[CV] END criterion=squared_error, max_depth=14, n_estimators=19; total time=   7.1s\n",
      "[CV] END criterion=squared_error, max_depth=14, n_estimators=19; total time=   7.2s\n",
      "[CV] END criterion=squared_error, max_depth=14, n_estimators=19; total time=   7.8s\n",
      "[CV] END criterion=squared_error, max_depth=14, n_estimators=23; total time=   8.8s\n",
      "[CV] END criterion=squared_error, max_depth=14, n_estimators=23; total time=  10.4s\n",
      "[CV] END criterion=squared_error, max_depth=14, n_estimators=23; total time=   8.6s\n",
      "[CV] END criterion=squared_error, max_depth=14, n_estimators=23; total time=  10.0s\n",
      "[CV] END criterion=squared_error, max_depth=14, n_estimators=23; total time=  10.1s\n",
      "[CV] END criterion=squared_error, max_depth=14, n_estimators=27; total time=   9.2s\n",
      "[CV] END criterion=squared_error, max_depth=14, n_estimators=27; total time=   9.2s\n",
      "[CV] END criterion=squared_error, max_depth=14, n_estimators=27; total time=   8.7s\n",
      "[CV] END criterion=squared_error, max_depth=14, n_estimators=27; total time=  13.6s\n",
      "[CV] END criterion=squared_error, max_depth=14, n_estimators=27; total time=  11.5s\n",
      "[CV] END criterion=squared_error, max_depth=14, n_estimators=31; total time=  12.0s\n",
      "[CV] END criterion=squared_error, max_depth=14, n_estimators=31; total time=   9.8s\n",
      "[CV] END criterion=squared_error, max_depth=14, n_estimators=31; total time=  12.1s\n",
      "[CV] END criterion=squared_error, max_depth=14, n_estimators=31; total time=  11.7s\n",
      "[CV] END criterion=squared_error, max_depth=14, n_estimators=31; total time=  14.1s\n",
      "[CV] END criterion=squared_error, max_depth=14, n_estimators=35; total time=  15.1s\n",
      "[CV] END criterion=squared_error, max_depth=14, n_estimators=35; total time=   9.7s\n",
      "[CV] END criterion=squared_error, max_depth=14, n_estimators=35; total time=  11.9s\n",
      "[CV] END criterion=squared_error, max_depth=14, n_estimators=35; total time=  10.5s\n",
      "[CV] END criterion=squared_error, max_depth=14, n_estimators=35; total time=   9.8s\n",
      "[CV] END criterion=squared_error, max_depth=14, n_estimators=39; total time=  11.3s\n",
      "[CV] END criterion=squared_error, max_depth=14, n_estimators=39; total time=  11.2s\n",
      "[CV] END criterion=squared_error, max_depth=14, n_estimators=39; total time=  10.3s\n",
      "[CV] END criterion=squared_error, max_depth=14, n_estimators=39; total time=  11.4s\n",
      "[CV] END criterion=squared_error, max_depth=14, n_estimators=39; total time=  11.9s\n",
      "[CV] END criterion=squared_error, max_depth=14, n_estimators=43; total time=  12.7s\n",
      "[CV] END criterion=squared_error, max_depth=14, n_estimators=43; total time=  12.1s\n",
      "[CV] END criterion=squared_error, max_depth=14, n_estimators=43; total time=  13.3s\n",
      "[CV] END criterion=squared_error, max_depth=14, n_estimators=43; total time=  13.1s\n",
      "[CV] END criterion=squared_error, max_depth=14, n_estimators=43; total time=  14.2s\n",
      "[CV] END criterion=squared_error, max_depth=16, n_estimators=15; total time=   4.6s\n",
      "[CV] END criterion=squared_error, max_depth=16, n_estimators=15; total time=   5.1s\n",
      "[CV] END criterion=squared_error, max_depth=16, n_estimators=15; total time=   4.5s\n",
      "[CV] END criterion=squared_error, max_depth=16, n_estimators=15; total time=   4.4s\n",
      "[CV] END criterion=squared_error, max_depth=16, n_estimators=15; total time=   4.6s\n",
      "[CV] END criterion=squared_error, max_depth=16, n_estimators=19; total time=   6.6s\n",
      "[CV] END criterion=squared_error, max_depth=16, n_estimators=19; total time=   5.8s\n",
      "[CV] END criterion=squared_error, max_depth=16, n_estimators=19; total time=   6.5s\n",
      "[CV] END criterion=squared_error, max_depth=16, n_estimators=19; total time=   6.1s\n",
      "[CV] END criterion=squared_error, max_depth=16, n_estimators=19; total time=   6.0s\n",
      "[CV] END criterion=squared_error, max_depth=16, n_estimators=23; total time=   7.6s\n",
      "[CV] END criterion=squared_error, max_depth=16, n_estimators=23; total time=   7.1s\n",
      "[CV] END criterion=squared_error, max_depth=16, n_estimators=23; total time=   7.8s\n",
      "[CV] END criterion=squared_error, max_depth=16, n_estimators=23; total time=   7.0s\n",
      "[CV] END criterion=squared_error, max_depth=16, n_estimators=23; total time=   7.8s\n",
      "[CV] END criterion=squared_error, max_depth=16, n_estimators=27; total time=   8.8s\n",
      "[CV] END criterion=squared_error, max_depth=16, n_estimators=27; total time=  10.8s\n",
      "[CV] END criterion=squared_error, max_depth=16, n_estimators=27; total time=   9.0s\n",
      "[CV] END criterion=squared_error, max_depth=16, n_estimators=27; total time=   8.1s\n",
      "[CV] END criterion=squared_error, max_depth=16, n_estimators=27; total time=   8.9s\n",
      "[CV] END criterion=squared_error, max_depth=16, n_estimators=31; total time=   9.3s\n",
      "[CV] END criterion=squared_error, max_depth=16, n_estimators=31; total time=  10.3s\n",
      "[CV] END criterion=squared_error, max_depth=16, n_estimators=31; total time=  11.8s\n",
      "[CV] END criterion=squared_error, max_depth=16, n_estimators=31; total time=   9.7s\n",
      "[CV] END criterion=squared_error, max_depth=16, n_estimators=31; total time=  10.1s\n",
      "[CV] END criterion=squared_error, max_depth=16, n_estimators=35; total time=  11.4s\n",
      "[CV] END criterion=squared_error, max_depth=16, n_estimators=35; total time=  10.7s\n",
      "[CV] END criterion=squared_error, max_depth=16, n_estimators=35; total time=  11.8s\n",
      "[CV] END criterion=squared_error, max_depth=16, n_estimators=35; total time=  11.5s\n",
      "[CV] END criterion=squared_error, max_depth=16, n_estimators=35; total time=  10.5s\n",
      "[CV] END criterion=squared_error, max_depth=16, n_estimators=39; total time=  12.7s\n",
      "[CV] END criterion=squared_error, max_depth=16, n_estimators=39; total time=  12.6s\n",
      "[CV] END criterion=squared_error, max_depth=16, n_estimators=39; total time=  12.6s\n",
      "[CV] END criterion=squared_error, max_depth=16, n_estimators=39; total time=  13.0s\n",
      "[CV] END criterion=squared_error, max_depth=16, n_estimators=39; total time=  11.7s\n",
      "[CV] END criterion=squared_error, max_depth=16, n_estimators=43; total time=  13.9s\n",
      "[CV] END criterion=squared_error, max_depth=16, n_estimators=43; total time=  13.9s\n",
      "[CV] END criterion=squared_error, max_depth=16, n_estimators=43; total time=  14.1s\n",
      "[CV] END criterion=squared_error, max_depth=16, n_estimators=43; total time=  14.0s\n",
      "[CV] END criterion=squared_error, max_depth=16, n_estimators=43; total time=  13.8s\n",
      "[CV] END criterion=squared_error, max_depth=18, n_estimators=15; total time=   5.1s\n",
      "[CV] END criterion=squared_error, max_depth=18, n_estimators=15; total time=   5.0s\n",
      "[CV] END criterion=squared_error, max_depth=18, n_estimators=15; total time=   5.6s\n",
      "[CV] END criterion=squared_error, max_depth=18, n_estimators=15; total time=   5.1s\n",
      "[CV] END criterion=squared_error, max_depth=18, n_estimators=15; total time=   5.0s\n",
      "[CV] END criterion=squared_error, max_depth=18, n_estimators=19; total time=   7.4s\n",
      "[CV] END criterion=squared_error, max_depth=18, n_estimators=19; total time=   6.4s\n",
      "[CV] END criterion=squared_error, max_depth=18, n_estimators=19; total time=   7.1s\n",
      "[CV] END criterion=squared_error, max_depth=18, n_estimators=19; total time=   6.3s\n",
      "[CV] END criterion=squared_error, max_depth=18, n_estimators=19; total time=   7.0s\n",
      "[CV] END criterion=squared_error, max_depth=18, n_estimators=23; total time=   7.8s\n",
      "[CV] END criterion=squared_error, max_depth=18, n_estimators=23; total time=   8.6s\n",
      "[CV] END criterion=squared_error, max_depth=18, n_estimators=23; total time=   7.7s\n",
      "[CV] END criterion=squared_error, max_depth=18, n_estimators=23; total time=   8.9s\n",
      "[CV] END criterion=squared_error, max_depth=18, n_estimators=23; total time=   7.6s\n",
      "[CV] END criterion=squared_error, max_depth=18, n_estimators=27; total time=   9.8s\n",
      "[CV] END criterion=squared_error, max_depth=18, n_estimators=27; total time=   9.2s\n",
      "[CV] END criterion=squared_error, max_depth=18, n_estimators=27; total time=   9.7s\n",
      "[CV] END criterion=squared_error, max_depth=18, n_estimators=27; total time=   9.8s\n",
      "[CV] END criterion=squared_error, max_depth=18, n_estimators=27; total time=   9.4s\n",
      "[CV] END criterion=squared_error, max_depth=18, n_estimators=31; total time=  11.0s\n",
      "[CV] END criterion=squared_error, max_depth=18, n_estimators=31; total time=  14.0s\n",
      "[CV] END criterion=squared_error, max_depth=18, n_estimators=31; total time=  14.8s\n",
      "[CV] END criterion=squared_error, max_depth=18, n_estimators=31; total time=  11.1s\n",
      "[CV] END criterion=squared_error, max_depth=18, n_estimators=31; total time=  13.8s\n",
      "[CV] END criterion=squared_error, max_depth=18, n_estimators=35; total time=  14.8s\n",
      "[CV] END criterion=squared_error, max_depth=18, n_estimators=35; total time=  14.2s\n",
      "[CV] END criterion=squared_error, max_depth=18, n_estimators=35; total time=  13.1s\n",
      "[CV] END criterion=squared_error, max_depth=18, n_estimators=35; total time=  13.2s\n",
      "[CV] END criterion=squared_error, max_depth=18, n_estimators=35; total time=  12.0s\n",
      "[CV] END criterion=squared_error, max_depth=18, n_estimators=39; total time=  13.6s\n",
      "[CV] END criterion=squared_error, max_depth=18, n_estimators=39; total time=  14.1s\n",
      "[CV] END criterion=squared_error, max_depth=18, n_estimators=39; total time=  14.4s\n",
      "[CV] END criterion=squared_error, max_depth=18, n_estimators=39; total time=  14.2s\n",
      "[CV] END criterion=squared_error, max_depth=18, n_estimators=39; total time=  13.9s\n",
      "[CV] END criterion=squared_error, max_depth=18, n_estimators=43; total time=  15.2s\n",
      "[CV] END criterion=squared_error, max_depth=18, n_estimators=43; total time=  15.3s\n",
      "[CV] END criterion=squared_error, max_depth=18, n_estimators=43; total time=  15.6s\n",
      "[CV] END criterion=squared_error, max_depth=18, n_estimators=43; total time=  15.0s\n",
      "[CV] END criterion=squared_error, max_depth=18, n_estimators=43; total time=  14.9s\n",
      "[CV] END criterion=squared_error, max_depth=20, n_estimators=15; total time=   5.4s\n",
      "[CV] END criterion=squared_error, max_depth=20, n_estimators=15; total time=   5.3s\n",
      "[CV] END criterion=squared_error, max_depth=20, n_estimators=15; total time=   6.3s\n",
      "[CV] END criterion=squared_error, max_depth=20, n_estimators=15; total time=   5.6s\n",
      "[CV] END criterion=squared_error, max_depth=20, n_estimators=15; total time=   5.8s\n",
      "[CV] END criterion=squared_error, max_depth=20, n_estimators=19; total time=   7.1s\n",
      "[CV] END criterion=squared_error, max_depth=20, n_estimators=19; total time=   6.8s\n",
      "[CV] END criterion=squared_error, max_depth=20, n_estimators=19; total time=   7.7s\n",
      "[CV] END criterion=squared_error, max_depth=20, n_estimators=19; total time=   7.1s\n",
      "[CV] END criterion=squared_error, max_depth=20, n_estimators=19; total time=   7.7s\n",
      "[CV] END criterion=squared_error, max_depth=20, n_estimators=23; total time=   8.4s\n",
      "[CV] END criterion=squared_error, max_depth=20, n_estimators=23; total time=   9.4s\n",
      "[CV] END criterion=squared_error, max_depth=20, n_estimators=23; total time=   8.5s\n",
      "[CV] END criterion=squared_error, max_depth=20, n_estimators=23; total time=   8.8s\n",
      "[CV] END criterion=squared_error, max_depth=20, n_estimators=23; total time=   9.1s\n",
      "[CV] END criterion=squared_error, max_depth=20, n_estimators=27; total time=   9.7s\n",
      "[CV] END criterion=squared_error, max_depth=20, n_estimators=27; total time=  12.8s\n",
      "[CV] END criterion=squared_error, max_depth=20, n_estimators=27; total time=  12.4s\n",
      "[CV] END criterion=squared_error, max_depth=20, n_estimators=27; total time=  12.0s\n",
      "[CV] END criterion=squared_error, max_depth=20, n_estimators=27; total time=  10.1s\n",
      "[CV] END criterion=squared_error, max_depth=20, n_estimators=31; total time=  12.6s\n",
      "[CV] END criterion=squared_error, max_depth=20, n_estimators=31; total time=  15.2s\n",
      "[CV] END criterion=squared_error, max_depth=20, n_estimators=31; total time=  16.3s\n",
      "[CV] END criterion=squared_error, max_depth=20, n_estimators=31; total time=  14.2s\n",
      "[CV] END criterion=squared_error, max_depth=20, n_estimators=31; total time=  12.9s\n",
      "[CV] END criterion=squared_error, max_depth=20, n_estimators=35; total time=  13.3s\n",
      "[CV] END criterion=squared_error, max_depth=20, n_estimators=35; total time=  13.8s\n",
      "[CV] END criterion=squared_error, max_depth=20, n_estimators=35; total time=  13.4s\n",
      "[CV] END criterion=squared_error, max_depth=20, n_estimators=35; total time=  13.5s\n",
      "[CV] END criterion=squared_error, max_depth=20, n_estimators=35; total time=  15.5s\n",
      "[CV] END criterion=squared_error, max_depth=20, n_estimators=39; total time=  15.8s\n",
      "[CV] END criterion=squared_error, max_depth=20, n_estimators=39; total time=  15.0s\n",
      "[CV] END criterion=squared_error, max_depth=20, n_estimators=39; total time=  15.6s\n",
      "[CV] END criterion=squared_error, max_depth=20, n_estimators=39; total time=  17.4s\n",
      "[CV] END criterion=squared_error, max_depth=20, n_estimators=39; total time=  17.0s\n",
      "[CV] END criterion=squared_error, max_depth=20, n_estimators=43; total time=  18.3s\n",
      "[CV] END criterion=squared_error, max_depth=20, n_estimators=43; total time=  29.3s\n",
      "[CV] END criterion=squared_error, max_depth=20, n_estimators=43; total time=  28.7s\n",
      "[CV] END criterion=squared_error, max_depth=20, n_estimators=43; total time=  31.1s\n",
      "[CV] END criterion=squared_error, max_depth=20, n_estimators=43; total time=  33.5s\n",
      "['mean_fit_time', 'mean_score_time', 'mean_test_score', 'param_criterion', 'param_max_depth', 'param_n_estimators', 'params', 'rank_test_score', 'split0_test_score', 'split1_test_score', 'split2_test_score', 'split3_test_score', 'split4_test_score', 'std_fit_time', 'std_score_time', 'std_test_score']\n",
      "Best parameters set found on development set:\n",
      "\n",
      "{'criterion': 'squared_error', 'max_depth': 18, 'n_estimators': 43}\n",
      "\n",
      "Grid scores on development set:\n",
      "\n",
      "1271.028269 for {'criterion': 'squared_error', 'max_depth': 10, 'n_estimators': 15}\n",
      "1270.234285 for {'criterion': 'squared_error', 'max_depth': 10, 'n_estimators': 19}\n",
      "1269.107758 for {'criterion': 'squared_error', 'max_depth': 10, 'n_estimators': 23}\n",
      "1268.484688 for {'criterion': 'squared_error', 'max_depth': 10, 'n_estimators': 27}\n",
      "1267.998843 for {'criterion': 'squared_error', 'max_depth': 10, 'n_estimators': 31}\n",
      "1267.654497 for {'criterion': 'squared_error', 'max_depth': 10, 'n_estimators': 35}\n",
      "1267.197003 for {'criterion': 'squared_error', 'max_depth': 10, 'n_estimators': 39}\n",
      "1266.812147 for {'criterion': 'squared_error', 'max_depth': 10, 'n_estimators': 43}\n",
      "1209.417550 for {'criterion': 'squared_error', 'max_depth': 12, 'n_estimators': 15}\n",
      "1207.948889 for {'criterion': 'squared_error', 'max_depth': 12, 'n_estimators': 19}\n",
      "1206.638478 for {'criterion': 'squared_error', 'max_depth': 12, 'n_estimators': 23}\n",
      "1205.655727 for {'criterion': 'squared_error', 'max_depth': 12, 'n_estimators': 27}\n",
      "1205.096955 for {'criterion': 'squared_error', 'max_depth': 12, 'n_estimators': 31}\n",
      "1204.343239 for {'criterion': 'squared_error', 'max_depth': 12, 'n_estimators': 35}\n",
      "1204.032762 for {'criterion': 'squared_error', 'max_depth': 12, 'n_estimators': 39}\n",
      "1203.534349 for {'criterion': 'squared_error', 'max_depth': 12, 'n_estimators': 43}\n",
      "1171.103816 for {'criterion': 'squared_error', 'max_depth': 14, 'n_estimators': 15}\n",
      "1168.952707 for {'criterion': 'squared_error', 'max_depth': 14, 'n_estimators': 19}\n",
      "1167.387675 for {'criterion': 'squared_error', 'max_depth': 14, 'n_estimators': 23}\n",
      "1165.973621 for {'criterion': 'squared_error', 'max_depth': 14, 'n_estimators': 27}\n",
      "1165.245212 for {'criterion': 'squared_error', 'max_depth': 14, 'n_estimators': 31}\n",
      "1164.690305 for {'criterion': 'squared_error', 'max_depth': 14, 'n_estimators': 35}\n",
      "1164.320208 for {'criterion': 'squared_error', 'max_depth': 14, 'n_estimators': 39}\n",
      "1163.756196 for {'criterion': 'squared_error', 'max_depth': 14, 'n_estimators': 43}\n",
      "1155.903118 for {'criterion': 'squared_error', 'max_depth': 16, 'n_estimators': 15}\n",
      "1153.359499 for {'criterion': 'squared_error', 'max_depth': 16, 'n_estimators': 19}\n",
      "1151.265990 for {'criterion': 'squared_error', 'max_depth': 16, 'n_estimators': 23}\n",
      "1149.446636 for {'criterion': 'squared_error', 'max_depth': 16, 'n_estimators': 27}\n",
      "1148.565072 for {'criterion': 'squared_error', 'max_depth': 16, 'n_estimators': 31}\n",
      "1147.949003 for {'criterion': 'squared_error', 'max_depth': 16, 'n_estimators': 35}\n",
      "1147.409805 for {'criterion': 'squared_error', 'max_depth': 16, 'n_estimators': 39}\n",
      "1146.706688 for {'criterion': 'squared_error', 'max_depth': 16, 'n_estimators': 43}\n",
      "1155.877963 for {'criterion': 'squared_error', 'max_depth': 18, 'n_estimators': 15}\n",
      "1152.770653 for {'criterion': 'squared_error', 'max_depth': 18, 'n_estimators': 19}\n",
      "1150.503626 for {'criterion': 'squared_error', 'max_depth': 18, 'n_estimators': 23}\n",
      "1148.529620 for {'criterion': 'squared_error', 'max_depth': 18, 'n_estimators': 27}\n",
      "1147.651221 for {'criterion': 'squared_error', 'max_depth': 18, 'n_estimators': 31}\n",
      "1146.977413 for {'criterion': 'squared_error', 'max_depth': 18, 'n_estimators': 35}\n",
      "1146.373313 for {'criterion': 'squared_error', 'max_depth': 18, 'n_estimators': 39}\n",
      "1145.540695 for {'criterion': 'squared_error', 'max_depth': 18, 'n_estimators': 43}\n",
      "1161.137676 for {'criterion': 'squared_error', 'max_depth': 20, 'n_estimators': 15}\n",
      "1157.864748 for {'criterion': 'squared_error', 'max_depth': 20, 'n_estimators': 19}\n",
      "1155.428830 for {'criterion': 'squared_error', 'max_depth': 20, 'n_estimators': 23}\n",
      "1153.246431 for {'criterion': 'squared_error', 'max_depth': 20, 'n_estimators': 27}\n",
      "1152.306798 for {'criterion': 'squared_error', 'max_depth': 20, 'n_estimators': 31}\n",
      "1151.530516 for {'criterion': 'squared_error', 'max_depth': 20, 'n_estimators': 35}\n",
      "1150.832865 for {'criterion': 'squared_error', 'max_depth': 20, 'n_estimators': 39}\n",
      "1149.937610 for {'criterion': 'squared_error', 'max_depth': 20, 'n_estimators': 43}\n",
      "\n",
      "CPU times: total: 38min 55s\n",
      "Wall time: 39min 55s\n"
     ]
    }
   ],
   "source": [
    "%%time\n",
    "tree_model = RandomForestRegressor(random_state=282)\n",
    "\n",
    "parameters = {'criterion': ['squared_error'], \n",
    "              'max_depth': range(10, 21, 2),\n",
    "              'n_estimators': range(15, 45, 4)\n",
    "              }\n",
    "clf = GridSearchCV(tree_model, \n",
    "                   parameters, \n",
    "                   scoring='neg_mean_squared_error', \n",
    "                   cv=5, \n",
    "                   verbose=2)\n",
    "clf.fit(oe_features_train, target_train)\n",
    "\n",
    "print(sorted(clf.cv_results_.keys()))\n",
    "\n",
    "print(\"Best parameters set found on development set:\")\n",
    "print()\n",
    "print(clf.best_params_)\n",
    "print()\n",
    "print(\"Grid scores on development set:\")\n",
    "print()\n",
    "means = clf.cv_results_['mean_test_score']\n",
    "for mean, params in zip(means, clf.cv_results_['params']):\n",
    "    print(\"%0.6f for %r\"% ((mean*-1)** 0.5, params))\n",
    "print()\n",
    "\n",
    "cv_RMSE_rf = (max(means)*-1) ** 0.5"
   ]
  },
  {
   "cell_type": "code",
   "execution_count": 49,
   "metadata": {},
   "outputs": [
    {
     "data": {
      "text/plain": [
       "1145.54069549838"
      ]
     },
     "execution_count": 49,
     "metadata": {},
     "output_type": "execute_result"
    }
   ],
   "source": [
    "cv_RMSE_rf"
   ]
  },
  {
   "cell_type": "markdown",
   "metadata": {},
   "source": [
    "Лучший результат RMSE 1145 на OE признаках при гиперпараметрах {'criterion': 'mse', 'max_depth': 18, 'n_estimators': 44}."
   ]
  },
  {
   "cell_type": "markdown",
   "metadata": {},
   "source": [
    "### LightGBM"
   ]
  },
  {
   "cell_type": "code",
   "execution_count": 50,
   "metadata": {},
   "outputs": [
    {
     "name": "stdout",
     "output_type": "stream",
     "text": [
      "# Tuning hyper-parameters for root_mean_squared_error\n",
      "\n",
      "Fitting 3 folds for each of 9 candidates, totalling 27 fits\n",
      "[CV] END ...................learning_rate=0.1, num_leaves=31; total time=   1.2s\n",
      "[CV] END ...................learning_rate=0.1, num_leaves=31; total time=   1.0s\n",
      "[CV] END ...................learning_rate=0.1, num_leaves=31; total time=   1.0s\n",
      "[CV] END ..................learning_rate=0.1, num_leaves=100; total time=   1.4s\n",
      "[CV] END ..................learning_rate=0.1, num_leaves=100; total time=   1.7s\n",
      "[CV] END ..................learning_rate=0.1, num_leaves=100; total time=   2.0s\n",
      "[CV] END ..................learning_rate=0.1, num_leaves=200; total time=   2.4s\n",
      "[CV] END ..................learning_rate=0.1, num_leaves=200; total time=   3.7s\n",
      "[CV] END ..................learning_rate=0.1, num_leaves=200; total time=   2.5s\n",
      "[CV] END ...................learning_rate=0.3, num_leaves=31; total time=   1.4s\n",
      "[CV] END ...................learning_rate=0.3, num_leaves=31; total time=   1.3s\n",
      "[CV] END ...................learning_rate=0.3, num_leaves=31; total time=   1.3s\n",
      "[CV] END ..................learning_rate=0.3, num_leaves=100; total time=   4.0s\n",
      "[CV] END ..................learning_rate=0.3, num_leaves=100; total time=   1.5s\n",
      "[CV] END ..................learning_rate=0.3, num_leaves=100; total time=   1.4s\n",
      "[CV] END ..................learning_rate=0.3, num_leaves=200; total time=   1.7s\n",
      "[CV] END ..................learning_rate=0.3, num_leaves=200; total time=   2.0s\n",
      "[CV] END ..................learning_rate=0.3, num_leaves=200; total time=   1.6s\n",
      "[CV] END ...................learning_rate=0.5, num_leaves=31; total time=   0.8s\n",
      "[CV] END ...................learning_rate=0.5, num_leaves=31; total time=   0.8s\n",
      "[CV] END ...................learning_rate=0.5, num_leaves=31; total time=   1.1s\n",
      "[CV] END ..................learning_rate=0.5, num_leaves=100; total time=   2.2s\n",
      "[CV] END ..................learning_rate=0.5, num_leaves=100; total time=   2.3s\n",
      "[CV] END ..................learning_rate=0.5, num_leaves=100; total time=   1.6s\n",
      "[CV] END ..................learning_rate=0.5, num_leaves=200; total time=   2.4s\n",
      "[CV] END ..................learning_rate=0.5, num_leaves=200; total time=   2.3s\n",
      "[CV] END ..................learning_rate=0.5, num_leaves=200; total time=   2.8s\n",
      "Best parameters set found on development set:\n",
      "\n",
      "{'learning_rate': 0.1, 'num_leaves': 200}\n",
      "\n",
      "Grid scores on development set:\n",
      "\n",
      "1150.349973 for {'learning_rate': 0.1, 'num_leaves': 31}\n",
      "1126.221371 for {'learning_rate': 0.1, 'num_leaves': 100}\n",
      "1116.824970 for {'learning_rate': 0.1, 'num_leaves': 200}\n",
      "1140.949630 for {'learning_rate': 0.3, 'num_leaves': 31}\n",
      "1129.374173 for {'learning_rate': 0.3, 'num_leaves': 100}\n",
      "1126.159834 for {'learning_rate': 0.3, 'num_leaves': 200}\n",
      "1148.506687 for {'learning_rate': 0.5, 'num_leaves': 31}\n",
      "1143.136232 for {'learning_rate': 0.5, 'num_leaves': 100}\n",
      "1143.859884 for {'learning_rate': 0.5, 'num_leaves': 200}\n",
      "\n",
      "CPU times: total: 2min 50s\n",
      "Wall time: 56.6 s\n"
     ]
    }
   ],
   "source": [
    "%%time\n",
    "\n",
    "lgbm_model = LGBMRegressor(random_state=282) \n",
    "parameters = {'num_leaves':[31, 100, 200],\n",
    "              'learning_rate':[0.1, 0.3, 0.5] }\n",
    "\n",
    "print('# Tuning hyper-parameters for root_mean_squared_error')\n",
    "print()\n",
    "clf = GridSearchCV(lgbm_model, \n",
    "                   parameters, \n",
    "                   scoring='neg_mean_squared_error', \n",
    "                   cv=3,\n",
    "                   verbose=2)\n",
    "clf.fit(original_features_train, target_train)\n",
    "\n",
    "print(\"Best parameters set found on development set:\")\n",
    "print()\n",
    "print(clf.best_params_)\n",
    "print()\n",
    "print(\"Grid scores on development set:\")\n",
    "print()\n",
    "means = clf.cv_results_['mean_test_score']\n",
    "for mean, params in zip(means, clf.cv_results_['params']):\n",
    "    print(\"%0.6f for %r\"% ((mean*-1)** 0.5, params))\n",
    "print()\n",
    "\n",
    "cv_RMSE_LGBMR = (max(means)*-1) ** 0.5"
   ]
  },
  {
   "cell_type": "code",
   "execution_count": 51,
   "metadata": {},
   "outputs": [],
   "source": [
    "cv_RMSE_LGBMR = (max(means)*-1) ** 0.5"
   ]
  },
  {
   "cell_type": "markdown",
   "metadata": {},
   "source": [
    "Лучший результат: 1110.761059 for {'learning_rate': 0.1, 'num_leaves': 200}"
   ]
  },
  {
   "cell_type": "markdown",
   "metadata": {},
   "source": [
    "### CatBoost"
   ]
  },
  {
   "cell_type": "code",
   "execution_count": 52,
   "metadata": {},
   "outputs": [
    {
     "name": "stdout",
     "output_type": "stream",
     "text": [
      "# Tuning hyper-parameters for root_mean_squared_error\n",
      "\n",
      "Fitting 3 folds for each of 9 candidates, totalling 27 fits\n",
      "0:\tlearn: 2483.0063369\ttotal: 231ms\tremaining: 22.8s\n",
      "2:\tlearn: 2228.1062301\ttotal: 377ms\tremaining: 12.2s\n",
      "4:\tlearn: 2036.5096072\ttotal: 545ms\tremaining: 10.4s\n",
      "6:\tlearn: 1892.3959984\ttotal: 719ms\tremaining: 9.55s\n",
      "8:\tlearn: 1767.7702464\ttotal: 883ms\tremaining: 8.93s\n",
      "10:\tlearn: 1676.4497270\ttotal: 1.04s\tremaining: 8.4s\n",
      "12:\tlearn: 1609.5752080\ttotal: 1.19s\tremaining: 7.98s\n",
      "14:\tlearn: 1552.6953307\ttotal: 1.35s\tremaining: 7.64s\n",
      "16:\tlearn: 1507.2472526\ttotal: 1.5s\tremaining: 7.34s\n",
      "18:\tlearn: 1468.1871166\ttotal: 1.73s\tremaining: 7.38s\n",
      "20:\tlearn: 1436.6092403\ttotal: 1.96s\tremaining: 7.36s\n",
      "22:\tlearn: 1404.8278894\ttotal: 2.14s\tremaining: 7.16s\n",
      "24:\tlearn: 1382.9005426\ttotal: 2.31s\tremaining: 6.92s\n",
      "26:\tlearn: 1366.3305586\ttotal: 2.47s\tremaining: 6.68s\n",
      "28:\tlearn: 1353.7788381\ttotal: 2.63s\tremaining: 6.45s\n",
      "30:\tlearn: 1342.6939872\ttotal: 2.79s\tremaining: 6.22s\n",
      "32:\tlearn: 1334.8469466\ttotal: 2.97s\tremaining: 6.03s\n",
      "34:\tlearn: 1326.6212709\ttotal: 3.12s\tremaining: 5.79s\n",
      "36:\tlearn: 1321.3019765\ttotal: 3.27s\tremaining: 5.56s\n",
      "38:\tlearn: 1315.9283518\ttotal: 3.41s\tremaining: 5.34s\n",
      "40:\tlearn: 1311.0820365\ttotal: 3.57s\tremaining: 5.13s\n",
      "42:\tlearn: 1306.0867777\ttotal: 3.72s\tremaining: 4.93s\n",
      "44:\tlearn: 1301.5904314\ttotal: 3.88s\tremaining: 4.74s\n",
      "46:\tlearn: 1297.9766793\ttotal: 4.03s\tremaining: 4.55s\n",
      "48:\tlearn: 1294.1206172\ttotal: 4.2s\tremaining: 4.37s\n",
      "50:\tlearn: 1290.6943295\ttotal: 4.35s\tremaining: 4.18s\n",
      "52:\tlearn: 1287.2476205\ttotal: 4.5s\tremaining: 3.99s\n",
      "54:\tlearn: 1284.8084646\ttotal: 4.65s\tremaining: 3.81s\n",
      "56:\tlearn: 1282.1884869\ttotal: 4.81s\tremaining: 3.63s\n",
      "58:\tlearn: 1279.0649208\ttotal: 4.97s\tremaining: 3.45s\n",
      "60:\tlearn: 1275.5373808\ttotal: 5.13s\tremaining: 3.28s\n",
      "62:\tlearn: 1273.2757512\ttotal: 5.29s\tremaining: 3.11s\n",
      "64:\tlearn: 1270.9340650\ttotal: 5.45s\tremaining: 2.93s\n",
      "66:\tlearn: 1268.8966645\ttotal: 5.6s\tremaining: 2.76s\n",
      "68:\tlearn: 1266.6488114\ttotal: 5.76s\tremaining: 2.59s\n",
      "70:\tlearn: 1265.5239731\ttotal: 5.92s\tremaining: 2.42s\n",
      "72:\tlearn: 1263.2518778\ttotal: 6.08s\tremaining: 2.25s\n",
      "74:\tlearn: 1261.4550775\ttotal: 6.24s\tremaining: 2.08s\n",
      "76:\tlearn: 1259.4511408\ttotal: 6.39s\tremaining: 1.91s\n",
      "78:\tlearn: 1256.9428964\ttotal: 6.55s\tremaining: 1.74s\n",
      "80:\tlearn: 1254.4523410\ttotal: 6.7s\tremaining: 1.57s\n",
      "82:\tlearn: 1253.2403524\ttotal: 6.89s\tremaining: 1.41s\n",
      "84:\tlearn: 1251.7052379\ttotal: 7.05s\tremaining: 1.24s\n",
      "86:\tlearn: 1250.1616414\ttotal: 7.21s\tremaining: 1.08s\n",
      "88:\tlearn: 1249.3747865\ttotal: 7.36s\tremaining: 910ms\n",
      "90:\tlearn: 1248.6639182\ttotal: 7.52s\tremaining: 744ms\n",
      "92:\tlearn: 1246.8190196\ttotal: 7.68s\tremaining: 578ms\n",
      "94:\tlearn: 1245.5954772\ttotal: 7.83s\tremaining: 412ms\n",
      "96:\tlearn: 1244.1303921\ttotal: 7.99s\tremaining: 247ms\n",
      "98:\tlearn: 1242.0777291\ttotal: 8.18s\tremaining: 82.6ms\n",
      "99:\tlearn: 1241.5228888\ttotal: 8.27s\tremaining: 0us\n",
      "[CV] END ..................iterations=100, learning_rate=0.1; total time=   8.9s\n",
      "0:\tlearn: 2485.0625995\ttotal: 86.6ms\tremaining: 8.58s\n",
      "2:\tlearn: 2233.1968793\ttotal: 243ms\tremaining: 7.87s\n",
      "4:\tlearn: 2041.3176544\ttotal: 412ms\tremaining: 7.82s\n",
      "6:\tlearn: 1897.2487966\ttotal: 566ms\tremaining: 7.52s\n",
      "8:\tlearn: 1780.5881593\ttotal: 729ms\tremaining: 7.37s\n",
      "10:\tlearn: 1684.9852181\ttotal: 932ms\tremaining: 7.54s\n",
      "12:\tlearn: 1614.4899324\ttotal: 1.1s\tremaining: 7.34s\n",
      "14:\tlearn: 1561.7430951\ttotal: 1.26s\tremaining: 7.14s\n",
      "16:\tlearn: 1511.4504640\ttotal: 1.42s\tremaining: 6.95s\n",
      "18:\tlearn: 1466.6405545\ttotal: 1.6s\tremaining: 6.81s\n",
      "20:\tlearn: 1433.8350731\ttotal: 1.77s\tremaining: 6.65s\n",
      "22:\tlearn: 1405.4207895\ttotal: 1.95s\tremaining: 6.52s\n",
      "24:\tlearn: 1382.0384058\ttotal: 2.13s\tremaining: 6.39s\n",
      "26:\tlearn: 1364.8360396\ttotal: 2.3s\tremaining: 6.21s\n",
      "28:\tlearn: 1352.1050687\ttotal: 2.47s\tremaining: 6.04s\n",
      "30:\tlearn: 1341.1188801\ttotal: 2.63s\tremaining: 5.86s\n",
      "32:\tlearn: 1332.7778826\ttotal: 2.79s\tremaining: 5.66s\n",
      "34:\tlearn: 1324.8701542\ttotal: 2.93s\tremaining: 5.45s\n",
      "36:\tlearn: 1318.9382365\ttotal: 3.08s\tremaining: 5.25s\n",
      "38:\tlearn: 1313.2264814\ttotal: 3.23s\tremaining: 5.06s\n",
      "40:\tlearn: 1309.0912965\ttotal: 3.39s\tremaining: 4.87s\n",
      "42:\tlearn: 1303.9783068\ttotal: 3.54s\tremaining: 4.69s\n",
      "44:\tlearn: 1299.9142747\ttotal: 3.7s\tremaining: 4.53s\n",
      "46:\tlearn: 1296.8654861\ttotal: 3.92s\tremaining: 4.42s\n",
      "48:\tlearn: 1293.1111518\ttotal: 4.12s\tremaining: 4.29s\n",
      "50:\tlearn: 1290.3314940\ttotal: 4.32s\tremaining: 4.15s\n",
      "52:\tlearn: 1287.9302550\ttotal: 4.5s\tremaining: 3.99s\n",
      "54:\tlearn: 1284.9543485\ttotal: 4.68s\tremaining: 3.83s\n",
      "56:\tlearn: 1281.9675558\ttotal: 4.87s\tremaining: 3.67s\n",
      "58:\tlearn: 1279.5584344\ttotal: 5.05s\tremaining: 3.51s\n",
      "60:\tlearn: 1277.1240847\ttotal: 5.23s\tremaining: 3.34s\n",
      "62:\tlearn: 1274.4234428\ttotal: 5.41s\tremaining: 3.17s\n",
      "64:\tlearn: 1272.9712550\ttotal: 5.58s\tremaining: 3.01s\n",
      "66:\tlearn: 1270.9828584\ttotal: 5.76s\tremaining: 2.84s\n",
      "68:\tlearn: 1269.3079470\ttotal: 5.95s\tremaining: 2.67s\n",
      "70:\tlearn: 1267.9197655\ttotal: 6.14s\tremaining: 2.51s\n",
      "72:\tlearn: 1264.9549354\ttotal: 6.33s\tremaining: 2.34s\n",
      "74:\tlearn: 1261.9717039\ttotal: 6.53s\tremaining: 2.17s\n",
      "76:\tlearn: 1260.0653565\ttotal: 6.71s\tremaining: 2s\n",
      "78:\tlearn: 1258.4565362\ttotal: 6.89s\tremaining: 1.83s\n",
      "80:\tlearn: 1256.7652444\ttotal: 7.07s\tremaining: 1.66s\n",
      "82:\tlearn: 1254.7968826\ttotal: 7.26s\tremaining: 1.49s\n",
      "84:\tlearn: 1252.7232609\ttotal: 7.46s\tremaining: 1.32s\n",
      "86:\tlearn: 1251.1224048\ttotal: 7.63s\tremaining: 1.14s\n",
      "88:\tlearn: 1249.6248692\ttotal: 7.78s\tremaining: 962ms\n",
      "90:\tlearn: 1248.1644611\ttotal: 7.93s\tremaining: 785ms\n",
      "92:\tlearn: 1246.5338723\ttotal: 8.09s\tremaining: 609ms\n",
      "94:\tlearn: 1245.2793974\ttotal: 8.24s\tremaining: 434ms\n",
      "96:\tlearn: 1243.8619541\ttotal: 8.39s\tremaining: 260ms\n",
      "98:\tlearn: 1242.8986973\ttotal: 8.55s\tremaining: 86.3ms\n",
      "99:\tlearn: 1242.1910463\ttotal: 8.63s\tremaining: 0us\n",
      "[CV] END ..................iterations=100, learning_rate=0.1; total time=   9.0s\n",
      "0:\tlearn: 2475.0775085\ttotal: 88.5ms\tremaining: 8.76s\n",
      "2:\tlearn: 2221.0934154\ttotal: 241ms\tremaining: 7.8s\n",
      "4:\tlearn: 2030.3002712\ttotal: 405ms\tremaining: 7.7s\n",
      "6:\tlearn: 1885.3998720\ttotal: 558ms\tremaining: 7.42s\n",
      "8:\tlearn: 1767.7887126\ttotal: 720ms\tremaining: 7.28s\n",
      "10:\tlearn: 1674.6183537\ttotal: 878ms\tremaining: 7.1s\n",
      "12:\tlearn: 1603.7746580\ttotal: 1.04s\tremaining: 7s\n",
      "14:\tlearn: 1548.5844894\ttotal: 1.21s\tremaining: 6.88s\n",
      "16:\tlearn: 1498.8447924\ttotal: 1.37s\tremaining: 6.67s\n",
      "18:\tlearn: 1457.9582977\ttotal: 1.52s\tremaining: 6.47s\n",
      "20:\tlearn: 1427.1001147\ttotal: 1.68s\tremaining: 6.32s\n",
      "22:\tlearn: 1397.9753038\ttotal: 1.84s\tremaining: 6.18s\n",
      "24:\tlearn: 1376.9010490\ttotal: 2s\tremaining: 6.01s\n",
      "26:\tlearn: 1360.8611071\ttotal: 2.16s\tremaining: 5.83s\n",
      "28:\tlearn: 1347.7366056\ttotal: 2.31s\tremaining: 5.66s\n",
      "30:\tlearn: 1337.5830483\ttotal: 2.48s\tremaining: 5.53s\n",
      "32:\tlearn: 1328.5342829\ttotal: 2.64s\tremaining: 5.36s\n",
      "34:\tlearn: 1321.7072828\ttotal: 2.79s\tremaining: 5.19s\n",
      "36:\tlearn: 1314.9362975\ttotal: 2.94s\tremaining: 5.01s\n",
      "38:\tlearn: 1307.6759061\ttotal: 3.1s\tremaining: 4.84s\n",
      "40:\tlearn: 1302.1905681\ttotal: 3.25s\tremaining: 4.68s\n",
      "42:\tlearn: 1298.1529449\ttotal: 3.4s\tremaining: 4.51s\n",
      "44:\tlearn: 1294.4553492\ttotal: 3.56s\tremaining: 4.35s\n",
      "46:\tlearn: 1290.4525200\ttotal: 3.71s\tremaining: 4.18s\n",
      "48:\tlearn: 1286.0581805\ttotal: 3.87s\tremaining: 4.02s\n",
      "50:\tlearn: 1282.8755447\ttotal: 4.02s\tremaining: 3.86s\n",
      "52:\tlearn: 1279.8019585\ttotal: 4.17s\tremaining: 3.7s\n",
      "54:\tlearn: 1277.0782013\ttotal: 4.32s\tremaining: 3.54s\n",
      "56:\tlearn: 1274.6858786\ttotal: 4.47s\tremaining: 3.37s\n",
      "58:\tlearn: 1271.3158748\ttotal: 4.62s\tremaining: 3.21s\n",
      "60:\tlearn: 1268.2441035\ttotal: 4.77s\tremaining: 3.05s\n",
      "62:\tlearn: 1266.0843507\ttotal: 4.93s\tremaining: 2.89s\n",
      "64:\tlearn: 1263.8949369\ttotal: 5.08s\tremaining: 2.74s\n",
      "66:\tlearn: 1261.9944806\ttotal: 5.24s\tremaining: 2.58s\n",
      "68:\tlearn: 1259.1369990\ttotal: 5.39s\tremaining: 2.42s\n",
      "70:\tlearn: 1256.7897158\ttotal: 5.55s\tremaining: 2.27s\n",
      "72:\tlearn: 1254.1346898\ttotal: 5.7s\tremaining: 2.11s\n",
      "74:\tlearn: 1251.2481106\ttotal: 5.86s\tremaining: 1.95s\n",
      "76:\tlearn: 1248.6944708\ttotal: 6s\tremaining: 1.79s\n",
      "78:\tlearn: 1246.9385362\ttotal: 6.15s\tremaining: 1.64s\n",
      "80:\tlearn: 1245.3728483\ttotal: 6.3s\tremaining: 1.48s\n",
      "82:\tlearn: 1243.8549543\ttotal: 6.46s\tremaining: 1.32s\n",
      "84:\tlearn: 1242.2043241\ttotal: 6.61s\tremaining: 1.17s\n",
      "86:\tlearn: 1240.8484829\ttotal: 6.76s\tremaining: 1.01s\n",
      "88:\tlearn: 1239.1889593\ttotal: 6.92s\tremaining: 856ms\n",
      "90:\tlearn: 1237.3775177\ttotal: 7.08s\tremaining: 700ms\n",
      "92:\tlearn: 1235.9359098\ttotal: 7.23s\tremaining: 544ms\n",
      "94:\tlearn: 1234.6967304\ttotal: 7.38s\tremaining: 389ms\n",
      "96:\tlearn: 1233.5997120\ttotal: 7.54s\tremaining: 233ms\n",
      "98:\tlearn: 1232.8125987\ttotal: 7.7s\tremaining: 77.7ms\n",
      "99:\tlearn: 1232.2461273\ttotal: 7.78s\tremaining: 0us\n",
      "[CV] END ..................iterations=100, learning_rate=0.1; total time=   8.2s\n",
      "0:\tlearn: 2195.0963040\ttotal: 118ms\tremaining: 11.7s\n",
      "2:\tlearn: 1744.0118733\ttotal: 313ms\tremaining: 10.1s\n",
      "4:\tlearn: 1534.8122270\ttotal: 492ms\tremaining: 9.36s\n",
      "6:\tlearn: 1426.4162987\ttotal: 666ms\tremaining: 8.85s\n",
      "8:\tlearn: 1363.0231321\ttotal: 837ms\tremaining: 8.47s\n",
      "10:\tlearn: 1335.4695225\ttotal: 997ms\tremaining: 8.07s\n",
      "12:\tlearn: 1318.1220525\ttotal: 1.15s\tremaining: 7.71s\n",
      "14:\tlearn: 1306.6646303\ttotal: 1.31s\tremaining: 7.41s\n",
      "16:\tlearn: 1294.6611214\ttotal: 1.46s\tremaining: 7.14s\n",
      "18:\tlearn: 1286.0346105\ttotal: 1.61s\tremaining: 6.88s\n",
      "20:\tlearn: 1278.8187482\ttotal: 1.76s\tremaining: 6.64s\n",
      "22:\tlearn: 1271.9738834\ttotal: 1.92s\tremaining: 6.42s\n",
      "24:\tlearn: 1267.2076654\ttotal: 2.07s\tremaining: 6.21s\n",
      "26:\tlearn: 1262.2488126\ttotal: 2.22s\tremaining: 6.01s\n",
      "28:\tlearn: 1255.3716423\ttotal: 2.37s\tremaining: 5.8s\n",
      "30:\tlearn: 1252.2511335\ttotal: 2.57s\tremaining: 5.72s\n",
      "32:\tlearn: 1247.2909106\ttotal: 2.81s\tremaining: 5.7s\n",
      "34:\tlearn: 1243.3631379\ttotal: 2.98s\tremaining: 5.54s\n",
      "36:\tlearn: 1240.1174209\ttotal: 3.17s\tremaining: 5.4s\n",
      "38:\tlearn: 1237.7895486\ttotal: 3.37s\tremaining: 5.26s\n",
      "40:\tlearn: 1234.4680672\ttotal: 3.56s\tremaining: 5.13s\n",
      "42:\tlearn: 1232.1607371\ttotal: 3.77s\tremaining: 5s\n",
      "44:\tlearn: 1229.5015768\ttotal: 3.95s\tremaining: 4.83s\n",
      "46:\tlearn: 1227.0903934\ttotal: 4.13s\tremaining: 4.66s\n",
      "48:\tlearn: 1225.1518878\ttotal: 4.31s\tremaining: 4.49s\n",
      "50:\tlearn: 1221.4096931\ttotal: 4.59s\tremaining: 4.41s\n",
      "52:\tlearn: 1219.6738150\ttotal: 4.79s\tremaining: 4.25s\n",
      "54:\tlearn: 1218.1437937\ttotal: 5.03s\tremaining: 4.11s\n",
      "56:\tlearn: 1215.9992216\ttotal: 5.23s\tremaining: 3.94s\n",
      "58:\tlearn: 1213.7493564\ttotal: 5.44s\tremaining: 3.78s\n",
      "60:\tlearn: 1211.8271685\ttotal: 5.62s\tremaining: 3.59s\n",
      "62:\tlearn: 1210.1856385\ttotal: 5.8s\tremaining: 3.41s\n",
      "64:\tlearn: 1209.1808088\ttotal: 5.98s\tremaining: 3.22s\n",
      "66:\tlearn: 1207.1904390\ttotal: 6.18s\tremaining: 3.05s\n",
      "68:\tlearn: 1205.0673067\ttotal: 6.38s\tremaining: 2.86s\n",
      "70:\tlearn: 1203.6554639\ttotal: 6.53s\tremaining: 2.67s\n",
      "72:\tlearn: 1201.5199209\ttotal: 6.69s\tremaining: 2.47s\n",
      "74:\tlearn: 1200.3016775\ttotal: 6.84s\tremaining: 2.28s\n",
      "76:\tlearn: 1199.0364636\ttotal: 7s\tremaining: 2.09s\n",
      "78:\tlearn: 1197.4808102\ttotal: 7.15s\tremaining: 1.9s\n",
      "80:\tlearn: 1196.2188917\ttotal: 7.3s\tremaining: 1.71s\n",
      "82:\tlearn: 1195.1930599\ttotal: 7.46s\tremaining: 1.53s\n",
      "84:\tlearn: 1194.3697737\ttotal: 7.61s\tremaining: 1.34s\n",
      "86:\tlearn: 1192.8129813\ttotal: 7.76s\tremaining: 1.16s\n",
      "88:\tlearn: 1191.8937603\ttotal: 7.91s\tremaining: 978ms\n",
      "90:\tlearn: 1190.3618495\ttotal: 8.06s\tremaining: 798ms\n",
      "92:\tlearn: 1189.2218149\ttotal: 8.22s\tremaining: 619ms\n",
      "94:\tlearn: 1188.2569886\ttotal: 8.37s\tremaining: 441ms\n",
      "96:\tlearn: 1187.4776084\ttotal: 8.52s\tremaining: 264ms\n",
      "98:\tlearn: 1186.5882120\ttotal: 8.68s\tremaining: 87.7ms\n",
      "99:\tlearn: 1186.2603689\ttotal: 8.76s\tremaining: 0us\n",
      "[CV] END ..................iterations=100, learning_rate=0.3; total time=   9.2s\n",
      "0:\tlearn: 2198.7171207\ttotal: 87.5ms\tremaining: 8.66s\n",
      "2:\tlearn: 1748.6841589\ttotal: 250ms\tremaining: 8.09s\n",
      "4:\tlearn: 1535.4831132\ttotal: 416ms\tremaining: 7.9s\n",
      "6:\tlearn: 1422.0124078\ttotal: 574ms\tremaining: 7.63s\n",
      "8:\tlearn: 1362.1060712\ttotal: 734ms\tremaining: 7.42s\n",
      "10:\tlearn: 1334.8690009\ttotal: 886ms\tremaining: 7.17s\n",
      "12:\tlearn: 1317.6893442\ttotal: 1.04s\tremaining: 6.98s\n",
      "14:\tlearn: 1306.1446969\ttotal: 1.2s\tremaining: 6.78s\n",
      "16:\tlearn: 1294.7425442\ttotal: 1.35s\tremaining: 6.58s\n",
      "18:\tlearn: 1283.5311845\ttotal: 1.5s\tremaining: 6.39s\n",
      "20:\tlearn: 1277.3380714\ttotal: 1.65s\tremaining: 6.22s\n",
      "22:\tlearn: 1272.6947146\ttotal: 1.81s\tremaining: 6.06s\n",
      "24:\tlearn: 1267.2447698\ttotal: 1.96s\tremaining: 5.89s\n",
      "26:\tlearn: 1263.8871261\ttotal: 2.11s\tremaining: 5.72s\n",
      "28:\tlearn: 1257.9192903\ttotal: 2.27s\tremaining: 5.56s\n",
      "30:\tlearn: 1252.6254290\ttotal: 2.42s\tremaining: 5.39s\n",
      "32:\tlearn: 1246.9704459\ttotal: 2.58s\tremaining: 5.24s\n",
      "34:\tlearn: 1244.0169045\ttotal: 2.73s\tremaining: 5.08s\n",
      "36:\tlearn: 1240.3672267\ttotal: 2.89s\tremaining: 4.91s\n",
      "38:\tlearn: 1237.6030705\ttotal: 3.04s\tremaining: 4.75s\n",
      "40:\tlearn: 1234.9683772\ttotal: 3.19s\tremaining: 4.59s\n",
      "42:\tlearn: 1231.5290439\ttotal: 3.34s\tremaining: 4.43s\n",
      "44:\tlearn: 1229.2752615\ttotal: 3.5s\tremaining: 4.27s\n",
      "46:\tlearn: 1226.9919926\ttotal: 3.67s\tremaining: 4.14s\n",
      "48:\tlearn: 1224.5085836\ttotal: 3.83s\tremaining: 3.98s\n",
      "50:\tlearn: 1222.0836235\ttotal: 3.98s\tremaining: 3.82s\n",
      "52:\tlearn: 1220.2595107\ttotal: 4.13s\tremaining: 3.67s\n",
      "54:\tlearn: 1217.8456357\ttotal: 4.29s\tremaining: 3.51s\n",
      "56:\tlearn: 1216.1803967\ttotal: 4.44s\tremaining: 3.35s\n",
      "58:\tlearn: 1214.1702291\ttotal: 4.59s\tremaining: 3.19s\n",
      "60:\tlearn: 1212.2489549\ttotal: 4.75s\tremaining: 3.04s\n",
      "62:\tlearn: 1210.3008415\ttotal: 4.91s\tremaining: 2.88s\n",
      "64:\tlearn: 1208.5575501\ttotal: 5.06s\tremaining: 2.73s\n",
      "66:\tlearn: 1206.8786964\ttotal: 5.22s\tremaining: 2.57s\n",
      "68:\tlearn: 1205.7200883\ttotal: 5.41s\tremaining: 2.43s\n",
      "70:\tlearn: 1204.6596546\ttotal: 5.58s\tremaining: 2.28s\n",
      "72:\tlearn: 1203.5771077\ttotal: 5.74s\tremaining: 2.12s\n",
      "74:\tlearn: 1202.2704192\ttotal: 5.89s\tremaining: 1.96s\n",
      "76:\tlearn: 1201.3851133\ttotal: 6.04s\tremaining: 1.8s\n",
      "78:\tlearn: 1199.8387171\ttotal: 6.19s\tremaining: 1.65s\n",
      "80:\tlearn: 1198.4422037\ttotal: 6.34s\tremaining: 1.49s\n",
      "82:\tlearn: 1197.5483019\ttotal: 6.5s\tremaining: 1.33s\n",
      "84:\tlearn: 1196.1926036\ttotal: 6.65s\tremaining: 1.17s\n",
      "86:\tlearn: 1194.5561413\ttotal: 6.8s\tremaining: 1.02s\n",
      "88:\tlearn: 1193.7811257\ttotal: 6.96s\tremaining: 860ms\n",
      "90:\tlearn: 1193.0286611\ttotal: 7.12s\tremaining: 704ms\n",
      "92:\tlearn: 1192.0535777\ttotal: 7.27s\tremaining: 547ms\n",
      "94:\tlearn: 1191.1539172\ttotal: 7.43s\tremaining: 391ms\n",
      "96:\tlearn: 1190.1967933\ttotal: 7.58s\tremaining: 234ms\n",
      "98:\tlearn: 1188.7710092\ttotal: 7.73s\tremaining: 78.1ms\n",
      "99:\tlearn: 1188.2971490\ttotal: 7.81s\tremaining: 0us\n",
      "[CV] END ..................iterations=100, learning_rate=0.3; total time=   8.2s\n",
      "0:\tlearn: 2187.8994463\ttotal: 86.6ms\tremaining: 8.57s\n",
      "2:\tlearn: 1745.9211670\ttotal: 239ms\tremaining: 7.74s\n",
      "4:\tlearn: 1524.0587572\ttotal: 410ms\tremaining: 7.78s\n",
      "6:\tlearn: 1412.8552342\ttotal: 562ms\tremaining: 7.46s\n",
      "8:\tlearn: 1355.5242507\ttotal: 723ms\tremaining: 7.31s\n",
      "10:\tlearn: 1325.5735030\ttotal: 879ms\tremaining: 7.11s\n",
      "12:\tlearn: 1308.5549424\ttotal: 1.03s\tremaining: 6.9s\n",
      "14:\tlearn: 1293.7279931\ttotal: 1.19s\tremaining: 6.72s\n",
      "16:\tlearn: 1285.4542033\ttotal: 1.36s\tremaining: 6.65s\n",
      "18:\tlearn: 1277.8818596\ttotal: 1.54s\tremaining: 6.58s\n",
      "20:\tlearn: 1269.4388568\ttotal: 1.73s\tremaining: 6.52s\n",
      "22:\tlearn: 1261.8777086\ttotal: 1.93s\tremaining: 6.46s\n",
      "24:\tlearn: 1256.2351016\ttotal: 2.12s\tremaining: 6.35s\n",
      "26:\tlearn: 1250.9871604\ttotal: 2.3s\tremaining: 6.22s\n",
      "28:\tlearn: 1242.8354211\ttotal: 2.48s\tremaining: 6.06s\n",
      "30:\tlearn: 1237.4639372\ttotal: 2.66s\tremaining: 5.91s\n",
      "32:\tlearn: 1234.5662151\ttotal: 2.84s\tremaining: 5.76s\n",
      "34:\tlearn: 1231.3869016\ttotal: 3.01s\tremaining: 5.6s\n",
      "36:\tlearn: 1228.2754614\ttotal: 3.19s\tremaining: 5.43s\n",
      "38:\tlearn: 1225.0914198\ttotal: 3.38s\tremaining: 5.29s\n",
      "40:\tlearn: 1222.2245490\ttotal: 3.57s\tremaining: 5.14s\n",
      "42:\tlearn: 1219.5380264\ttotal: 3.76s\tremaining: 4.98s\n",
      "44:\tlearn: 1216.0299627\ttotal: 3.94s\tremaining: 4.81s\n",
      "46:\tlearn: 1214.3953518\ttotal: 4.12s\tremaining: 4.64s\n",
      "48:\tlearn: 1212.7277713\ttotal: 4.3s\tremaining: 4.47s\n",
      "50:\tlearn: 1210.2943352\ttotal: 4.52s\tremaining: 4.34s\n",
      "52:\tlearn: 1207.8580035\ttotal: 4.68s\tremaining: 4.15s\n",
      "54:\tlearn: 1205.3741045\ttotal: 4.83s\tremaining: 3.95s\n",
      "56:\tlearn: 1203.3408983\ttotal: 4.98s\tremaining: 3.76s\n",
      "58:\tlearn: 1201.9243478\ttotal: 5.13s\tremaining: 3.57s\n",
      "60:\tlearn: 1200.2236492\ttotal: 5.29s\tremaining: 3.38s\n",
      "62:\tlearn: 1198.0493422\ttotal: 5.44s\tremaining: 3.19s\n",
      "64:\tlearn: 1196.0501359\ttotal: 5.59s\tremaining: 3.01s\n",
      "66:\tlearn: 1194.5948814\ttotal: 5.75s\tremaining: 2.83s\n",
      "68:\tlearn: 1192.4905789\ttotal: 5.91s\tremaining: 2.65s\n",
      "70:\tlearn: 1191.3675209\ttotal: 6.06s\tremaining: 2.48s\n",
      "72:\tlearn: 1189.9502561\ttotal: 6.23s\tremaining: 2.3s\n",
      "74:\tlearn: 1188.6471669\ttotal: 6.39s\tremaining: 2.13s\n",
      "76:\tlearn: 1187.5407929\ttotal: 6.55s\tremaining: 1.96s\n",
      "78:\tlearn: 1186.4054796\ttotal: 6.72s\tremaining: 1.79s\n",
      "80:\tlearn: 1184.9567319\ttotal: 6.88s\tremaining: 1.61s\n",
      "82:\tlearn: 1183.7944477\ttotal: 7.04s\tremaining: 1.44s\n",
      "84:\tlearn: 1182.6317926\ttotal: 7.2s\tremaining: 1.27s\n",
      "86:\tlearn: 1181.1140211\ttotal: 7.42s\tremaining: 1.11s\n",
      "88:\tlearn: 1180.0407374\ttotal: 7.6s\tremaining: 939ms\n",
      "90:\tlearn: 1178.5943908\ttotal: 7.75s\tremaining: 767ms\n",
      "92:\tlearn: 1177.5761263\ttotal: 7.9s\tremaining: 595ms\n",
      "94:\tlearn: 1176.6634386\ttotal: 8.06s\tremaining: 424ms\n",
      "96:\tlearn: 1175.4045966\ttotal: 8.22s\tremaining: 254ms\n",
      "98:\tlearn: 1174.4216315\ttotal: 8.39s\tremaining: 84.7ms\n",
      "99:\tlearn: 1173.2897062\ttotal: 8.47s\tremaining: 0us\n",
      "[CV] END ..................iterations=100, learning_rate=0.3; total time=   8.8s\n",
      "0:\tlearn: 1951.4097418\ttotal: 90.5ms\tremaining: 8.96s\n",
      "2:\tlearn: 1520.4110602\ttotal: 264ms\tremaining: 8.55s\n",
      "4:\tlearn: 1376.0398262\ttotal: 435ms\tremaining: 8.27s\n",
      "6:\tlearn: 1336.9624017\ttotal: 591ms\tremaining: 7.85s\n",
      "8:\tlearn: 1313.5925239\ttotal: 749ms\tremaining: 7.57s\n",
      "10:\tlearn: 1295.0928862\ttotal: 907ms\tremaining: 7.34s\n",
      "12:\tlearn: 1283.3226575\ttotal: 1.07s\tremaining: 7.19s\n",
      "14:\tlearn: 1273.8701174\ttotal: 1.24s\tremaining: 7.02s\n",
      "16:\tlearn: 1265.2595770\ttotal: 1.53s\tremaining: 7.46s\n",
      "18:\tlearn: 1261.4471256\ttotal: 1.76s\tremaining: 7.51s\n",
      "20:\tlearn: 1256.9640982\ttotal: 1.93s\tremaining: 7.26s\n",
      "22:\tlearn: 1250.0451451\ttotal: 2.11s\tremaining: 7.06s\n",
      "24:\tlearn: 1243.7929992\ttotal: 2.3s\tremaining: 6.89s\n",
      "26:\tlearn: 1239.4181256\ttotal: 2.48s\tremaining: 6.69s\n",
      "28:\tlearn: 1234.5570256\ttotal: 2.65s\tremaining: 6.48s\n",
      "30:\tlearn: 1231.3532863\ttotal: 2.82s\tremaining: 6.29s\n",
      "32:\tlearn: 1227.5625278\ttotal: 2.98s\tremaining: 6.05s\n",
      "34:\tlearn: 1223.5457706\ttotal: 3.15s\tremaining: 5.84s\n",
      "36:\tlearn: 1220.8246752\ttotal: 3.32s\tremaining: 5.65s\n",
      "38:\tlearn: 1217.2112458\ttotal: 3.52s\tremaining: 5.5s\n",
      "40:\tlearn: 1214.9860302\ttotal: 3.69s\tremaining: 5.31s\n",
      "42:\tlearn: 1211.8859453\ttotal: 3.85s\tremaining: 5.11s\n",
      "44:\tlearn: 1209.0686267\ttotal: 4.01s\tremaining: 4.91s\n",
      "46:\tlearn: 1206.5891947\ttotal: 4.2s\tremaining: 4.73s\n",
      "48:\tlearn: 1204.5205788\ttotal: 4.37s\tremaining: 4.55s\n",
      "50:\tlearn: 1202.0081380\ttotal: 4.56s\tremaining: 4.38s\n",
      "52:\tlearn: 1199.0068387\ttotal: 4.76s\tremaining: 4.22s\n",
      "54:\tlearn: 1197.6561237\ttotal: 4.97s\tremaining: 4.07s\n",
      "56:\tlearn: 1195.3915505\ttotal: 5.15s\tremaining: 3.89s\n",
      "58:\tlearn: 1193.4516017\ttotal: 5.35s\tremaining: 3.72s\n",
      "60:\tlearn: 1192.0580517\ttotal: 5.54s\tremaining: 3.54s\n",
      "62:\tlearn: 1189.9932605\ttotal: 5.73s\tremaining: 3.37s\n",
      "64:\tlearn: 1188.8355503\ttotal: 5.92s\tremaining: 3.19s\n",
      "66:\tlearn: 1186.3411431\ttotal: 6.1s\tremaining: 3s\n",
      "68:\tlearn: 1185.4129771\ttotal: 6.28s\tremaining: 2.82s\n",
      "70:\tlearn: 1184.3919452\ttotal: 6.46s\tremaining: 2.64s\n",
      "72:\tlearn: 1182.5043939\ttotal: 6.64s\tremaining: 2.46s\n",
      "74:\tlearn: 1181.4093285\ttotal: 6.83s\tremaining: 2.28s\n",
      "76:\tlearn: 1180.3025938\ttotal: 7.01s\tremaining: 2.09s\n",
      "78:\tlearn: 1179.2205870\ttotal: 7.2s\tremaining: 1.91s\n",
      "80:\tlearn: 1177.6786913\ttotal: 7.38s\tremaining: 1.73s\n",
      "82:\tlearn: 1175.3708562\ttotal: 7.57s\tremaining: 1.55s\n",
      "84:\tlearn: 1173.7886729\ttotal: 7.75s\tremaining: 1.37s\n",
      "86:\tlearn: 1172.6687646\ttotal: 7.93s\tremaining: 1.18s\n",
      "88:\tlearn: 1171.9658169\ttotal: 8.11s\tremaining: 1s\n",
      "90:\tlearn: 1171.2229012\ttotal: 8.32s\tremaining: 823ms\n",
      "92:\tlearn: 1170.5758007\ttotal: 8.51s\tremaining: 641ms\n",
      "94:\tlearn: 1169.4610644\ttotal: 8.71s\tremaining: 458ms\n",
      "96:\tlearn: 1167.7622964\ttotal: 8.89s\tremaining: 275ms\n",
      "98:\tlearn: 1167.0148626\ttotal: 9.06s\tremaining: 91.5ms\n",
      "99:\tlearn: 1165.9938693\ttotal: 9.15s\tremaining: 0us\n",
      "[CV] END ..................iterations=100, learning_rate=0.5; total time=   9.6s\n",
      "0:\tlearn: 1956.5790373\ttotal: 158ms\tremaining: 15.6s\n",
      "2:\tlearn: 1533.1153177\ttotal: 362ms\tremaining: 11.7s\n",
      "4:\tlearn: 1379.0595259\ttotal: 555ms\tremaining: 10.5s\n",
      "6:\tlearn: 1340.7153496\ttotal: 740ms\tremaining: 9.82s\n",
      "8:\tlearn: 1318.6230301\ttotal: 923ms\tremaining: 9.33s\n",
      "10:\tlearn: 1300.5592090\ttotal: 1.12s\tremaining: 9.05s\n",
      "12:\tlearn: 1289.4517375\ttotal: 1.29s\tremaining: 8.64s\n",
      "14:\tlearn: 1276.4980799\ttotal: 1.49s\tremaining: 8.42s\n",
      "16:\tlearn: 1266.7196831\ttotal: 1.69s\tremaining: 8.23s\n",
      "18:\tlearn: 1259.8909864\ttotal: 1.9s\tremaining: 8.11s\n",
      "20:\tlearn: 1254.9378788\ttotal: 2.06s\tremaining: 7.76s\n",
      "22:\tlearn: 1250.4610280\ttotal: 2.22s\tremaining: 7.45s\n",
      "24:\tlearn: 1243.6392091\ttotal: 2.38s\tremaining: 7.14s\n",
      "26:\tlearn: 1239.0310752\ttotal: 2.55s\tremaining: 6.91s\n",
      "28:\tlearn: 1235.6583670\ttotal: 2.72s\tremaining: 6.67s\n",
      "30:\tlearn: 1232.2818164\ttotal: 2.9s\tremaining: 6.45s\n",
      "32:\tlearn: 1229.1337824\ttotal: 3.06s\tremaining: 6.22s\n",
      "34:\tlearn: 1225.8545631\ttotal: 3.24s\tremaining: 6.02s\n",
      "36:\tlearn: 1221.3984268\ttotal: 3.4s\tremaining: 5.79s\n",
      "38:\tlearn: 1219.3651845\ttotal: 3.56s\tremaining: 5.58s\n",
      "40:\tlearn: 1215.9988327\ttotal: 3.72s\tremaining: 5.36s\n",
      "42:\tlearn: 1213.7397750\ttotal: 3.88s\tremaining: 5.15s\n",
      "44:\tlearn: 1210.6837404\ttotal: 4.06s\tremaining: 4.96s\n",
      "46:\tlearn: 1207.6132638\ttotal: 4.22s\tremaining: 4.75s\n",
      "48:\tlearn: 1206.3811103\ttotal: 4.37s\tremaining: 4.55s\n",
      "50:\tlearn: 1204.8704800\ttotal: 4.52s\tremaining: 4.35s\n",
      "52:\tlearn: 1202.3321546\ttotal: 4.68s\tremaining: 4.15s\n",
      "54:\tlearn: 1200.7214413\ttotal: 4.83s\tremaining: 3.96s\n",
      "56:\tlearn: 1199.1903122\ttotal: 5.01s\tremaining: 3.78s\n",
      "58:\tlearn: 1197.9610793\ttotal: 5.18s\tremaining: 3.6s\n",
      "60:\tlearn: 1196.7350075\ttotal: 5.34s\tremaining: 3.41s\n",
      "62:\tlearn: 1194.9706919\ttotal: 5.49s\tremaining: 3.22s\n",
      "64:\tlearn: 1193.7404815\ttotal: 5.65s\tremaining: 3.04s\n",
      "66:\tlearn: 1191.9372044\ttotal: 5.83s\tremaining: 2.87s\n",
      "68:\tlearn: 1189.2149888\ttotal: 6s\tremaining: 2.7s\n",
      "70:\tlearn: 1187.6615865\ttotal: 6.16s\tremaining: 2.51s\n",
      "72:\tlearn: 1184.8213325\ttotal: 6.32s\tremaining: 2.33s\n",
      "74:\tlearn: 1183.1273637\ttotal: 6.51s\tremaining: 2.17s\n",
      "76:\tlearn: 1181.5816265\ttotal: 6.67s\tremaining: 1.99s\n",
      "78:\tlearn: 1179.5806788\ttotal: 6.83s\tremaining: 1.82s\n",
      "80:\tlearn: 1178.5734166\ttotal: 6.99s\tremaining: 1.64s\n",
      "82:\tlearn: 1177.5202153\ttotal: 7.15s\tremaining: 1.46s\n",
      "84:\tlearn: 1176.3563959\ttotal: 7.3s\tremaining: 1.29s\n",
      "86:\tlearn: 1175.3022944\ttotal: 7.46s\tremaining: 1.11s\n",
      "88:\tlearn: 1174.3645676\ttotal: 7.63s\tremaining: 943ms\n",
      "90:\tlearn: 1173.3771278\ttotal: 7.8s\tremaining: 771ms\n",
      "92:\tlearn: 1172.1485395\ttotal: 7.95s\tremaining: 598ms\n",
      "94:\tlearn: 1171.5376421\ttotal: 8.11s\tremaining: 427ms\n",
      "96:\tlearn: 1170.1736647\ttotal: 8.26s\tremaining: 256ms\n",
      "98:\tlearn: 1168.9275332\ttotal: 8.42s\tremaining: 85.1ms\n",
      "99:\tlearn: 1168.6740776\ttotal: 8.5s\tremaining: 0us\n",
      "[CV] END ..................iterations=100, learning_rate=0.5; total time=   9.1s\n",
      "0:\tlearn: 1944.8128756\ttotal: 86.4ms\tremaining: 8.55s\n",
      "2:\tlearn: 1506.6903463\ttotal: 248ms\tremaining: 8.03s\n",
      "4:\tlearn: 1362.8929199\ttotal: 415ms\tremaining: 7.89s\n",
      "6:\tlearn: 1328.7609743\ttotal: 569ms\tremaining: 7.56s\n",
      "8:\tlearn: 1310.0033610\ttotal: 724ms\tremaining: 7.32s\n",
      "10:\tlearn: 1292.5313782\ttotal: 876ms\tremaining: 7.09s\n",
      "12:\tlearn: 1280.5648475\ttotal: 1.03s\tremaining: 6.89s\n",
      "14:\tlearn: 1270.1922388\ttotal: 1.18s\tremaining: 6.68s\n",
      "16:\tlearn: 1257.7000488\ttotal: 1.33s\tremaining: 6.52s\n",
      "18:\tlearn: 1249.5173482\ttotal: 1.48s\tremaining: 6.33s\n",
      "20:\tlearn: 1244.4933484\ttotal: 1.64s\tremaining: 6.18s\n",
      "22:\tlearn: 1241.5608281\ttotal: 1.8s\tremaining: 6.02s\n",
      "24:\tlearn: 1235.3666967\ttotal: 1.96s\tremaining: 5.89s\n",
      "26:\tlearn: 1230.8030492\ttotal: 2.13s\tremaining: 5.76s\n",
      "28:\tlearn: 1225.2361298\ttotal: 2.29s\tremaining: 5.61s\n",
      "30:\tlearn: 1221.3894053\ttotal: 2.45s\tremaining: 5.45s\n",
      "32:\tlearn: 1217.1871032\ttotal: 2.62s\tremaining: 5.31s\n",
      "34:\tlearn: 1213.8756366\ttotal: 2.78s\tremaining: 5.17s\n",
      "36:\tlearn: 1211.9491808\ttotal: 2.94s\tremaining: 5.01s\n",
      "38:\tlearn: 1208.4983103\ttotal: 3.09s\tremaining: 4.84s\n",
      "40:\tlearn: 1205.7378858\ttotal: 3.25s\tremaining: 4.68s\n",
      "42:\tlearn: 1203.7875487\ttotal: 3.41s\tremaining: 4.52s\n",
      "44:\tlearn: 1201.6016723\ttotal: 3.57s\tremaining: 4.36s\n",
      "46:\tlearn: 1199.6486001\ttotal: 3.72s\tremaining: 4.2s\n",
      "48:\tlearn: 1198.2226928\ttotal: 3.88s\tremaining: 4.04s\n",
      "50:\tlearn: 1196.3390128\ttotal: 4.04s\tremaining: 3.88s\n",
      "52:\tlearn: 1193.5607869\ttotal: 4.2s\tremaining: 3.73s\n",
      "54:\tlearn: 1190.3253157\ttotal: 4.36s\tremaining: 3.57s\n",
      "56:\tlearn: 1188.6536470\ttotal: 4.52s\tremaining: 3.41s\n",
      "58:\tlearn: 1187.2431742\ttotal: 4.67s\tremaining: 3.25s\n",
      "60:\tlearn: 1185.2457771\ttotal: 4.82s\tremaining: 3.08s\n",
      "62:\tlearn: 1183.7624591\ttotal: 4.97s\tremaining: 2.92s\n",
      "64:\tlearn: 1182.0584960\ttotal: 5.13s\tremaining: 2.77s\n",
      "66:\tlearn: 1181.0525739\ttotal: 5.29s\tremaining: 2.6s\n",
      "68:\tlearn: 1179.6169708\ttotal: 5.47s\tremaining: 2.46s\n",
      "70:\tlearn: 1178.5530551\ttotal: 5.64s\tremaining: 2.31s\n",
      "72:\tlearn: 1176.2743503\ttotal: 5.83s\tremaining: 2.16s\n",
      "74:\tlearn: 1174.5506169\ttotal: 6.01s\tremaining: 2s\n",
      "76:\tlearn: 1173.6652469\ttotal: 6.2s\tremaining: 1.85s\n",
      "78:\tlearn: 1171.8214611\ttotal: 6.39s\tremaining: 1.7s\n",
      "80:\tlearn: 1170.0838117\ttotal: 6.57s\tremaining: 1.54s\n",
      "82:\tlearn: 1169.0492497\ttotal: 6.76s\tremaining: 1.38s\n",
      "84:\tlearn: 1167.6826745\ttotal: 6.94s\tremaining: 1.23s\n",
      "86:\tlearn: 1166.6596869\ttotal: 7.12s\tremaining: 1.06s\n",
      "88:\tlearn: 1165.6633524\ttotal: 7.31s\tremaining: 904ms\n",
      "90:\tlearn: 1164.3533716\ttotal: 7.5s\tremaining: 741ms\n",
      "92:\tlearn: 1163.1482025\ttotal: 7.69s\tremaining: 579ms\n",
      "94:\tlearn: 1162.7571817\ttotal: 7.87s\tremaining: 414ms\n",
      "96:\tlearn: 1161.5150941\ttotal: 8.05s\tremaining: 249ms\n",
      "98:\tlearn: 1160.4193049\ttotal: 8.23s\tremaining: 83.1ms\n",
      "99:\tlearn: 1159.8311663\ttotal: 8.35s\tremaining: 0us\n",
      "[CV] END ..................iterations=100, learning_rate=0.5; total time=   8.8s\n",
      "0:\tlearn: 2478.3605349\ttotal: 179ms\tremaining: 35.5s\n",
      "2:\tlearn: 2218.6588283\ttotal: 422ms\tremaining: 27.7s\n",
      "4:\tlearn: 2007.8977706\ttotal: 682ms\tremaining: 26.6s\n",
      "6:\tlearn: 1853.3387858\ttotal: 928ms\tremaining: 25.6s\n",
      "8:\tlearn: 1730.6626336\ttotal: 1.15s\tremaining: 24.5s\n",
      "10:\tlearn: 1635.0460854\ttotal: 1.4s\tremaining: 24.1s\n",
      "12:\tlearn: 1559.2846538\ttotal: 1.67s\tremaining: 24s\n",
      "14:\tlearn: 1501.2819241\ttotal: 1.95s\tremaining: 24.1s\n",
      "16:\tlearn: 1456.6696143\ttotal: 2.2s\tremaining: 23.6s\n",
      "18:\tlearn: 1420.7285279\ttotal: 2.43s\tremaining: 23.2s\n",
      "20:\tlearn: 1394.1091705\ttotal: 2.67s\tremaining: 22.8s\n",
      "22:\tlearn: 1373.8897224\ttotal: 2.96s\tremaining: 22.7s\n",
      "24:\tlearn: 1356.6912142\ttotal: 3.21s\tremaining: 22.5s\n",
      "26:\tlearn: 1342.3776244\ttotal: 3.45s\tremaining: 22.1s\n",
      "28:\tlearn: 1330.9406664\ttotal: 3.74s\tremaining: 22.1s\n",
      "30:\tlearn: 1321.5015693\ttotal: 3.97s\tremaining: 21.6s\n",
      "32:\tlearn: 1313.6757560\ttotal: 4.25s\tremaining: 21.5s\n",
      "34:\tlearn: 1307.5226070\ttotal: 4.53s\tremaining: 21.4s\n",
      "36:\tlearn: 1301.5351988\ttotal: 4.79s\tremaining: 21.1s\n",
      "38:\tlearn: 1296.3627162\ttotal: 5.06s\tremaining: 20.9s\n",
      "40:\tlearn: 1292.1656660\ttotal: 5.34s\tremaining: 20.7s\n",
      "42:\tlearn: 1287.5143251\ttotal: 5.61s\tremaining: 20.5s\n",
      "44:\tlearn: 1283.3265689\ttotal: 5.87s\tremaining: 20.2s\n",
      "46:\tlearn: 1279.5236656\ttotal: 6.14s\tremaining: 20s\n",
      "48:\tlearn: 1275.3831569\ttotal: 6.37s\tremaining: 19.6s\n",
      "50:\tlearn: 1271.4031185\ttotal: 6.6s\tremaining: 19.3s\n",
      "52:\tlearn: 1268.7698144\ttotal: 6.87s\tremaining: 19.1s\n",
      "54:\tlearn: 1265.1165423\ttotal: 7.12s\tremaining: 18.8s\n",
      "56:\tlearn: 1261.8687651\ttotal: 7.35s\tremaining: 18.4s\n",
      "58:\tlearn: 1259.8149259\ttotal: 7.65s\tremaining: 18.3s\n",
      "60:\tlearn: 1257.8755506\ttotal: 7.94s\tremaining: 18.1s\n",
      "62:\tlearn: 1256.0044427\ttotal: 8.23s\tremaining: 17.9s\n",
      "64:\tlearn: 1253.5322656\ttotal: 8.5s\tremaining: 17.7s\n",
      "66:\tlearn: 1251.3022743\ttotal: 8.75s\tremaining: 17.4s\n",
      "68:\tlearn: 1249.4436994\ttotal: 9s\tremaining: 17.1s\n",
      "70:\tlearn: 1247.7952156\ttotal: 9.29s\tremaining: 16.9s\n",
      "72:\tlearn: 1246.1213138\ttotal: 9.54s\tremaining: 16.6s\n",
      "74:\tlearn: 1244.2928593\ttotal: 9.8s\tremaining: 16.3s\n",
      "76:\tlearn: 1243.0756833\ttotal: 10.1s\tremaining: 16.1s\n",
      "78:\tlearn: 1241.7445252\ttotal: 10.3s\tremaining: 15.8s\n",
      "80:\tlearn: 1239.9995122\ttotal: 10.6s\tremaining: 15.6s\n",
      "82:\tlearn: 1238.4339884\ttotal: 10.9s\tremaining: 15.3s\n",
      "84:\tlearn: 1236.3177583\ttotal: 11.2s\tremaining: 15.1s\n",
      "86:\tlearn: 1235.2397645\ttotal: 11.4s\tremaining: 14.9s\n",
      "88:\tlearn: 1233.9264194\ttotal: 11.7s\tremaining: 14.6s\n",
      "90:\tlearn: 1232.6141051\ttotal: 12s\tremaining: 14.3s\n",
      "92:\tlearn: 1231.3046657\ttotal: 12.2s\tremaining: 14.1s\n",
      "94:\tlearn: 1230.4310649\ttotal: 12.6s\tremaining: 13.9s\n",
      "96:\tlearn: 1229.4829263\ttotal: 12.9s\tremaining: 13.7s\n",
      "98:\tlearn: 1228.1506745\ttotal: 13.3s\tremaining: 13.6s\n",
      "100:\tlearn: 1227.0657636\ttotal: 13.6s\tremaining: 13.3s\n",
      "102:\tlearn: 1225.8421713\ttotal: 13.9s\tremaining: 13.1s\n",
      "104:\tlearn: 1224.9026479\ttotal: 14.2s\tremaining: 12.8s\n",
      "106:\tlearn: 1223.3259306\ttotal: 14.5s\tremaining: 12.6s\n",
      "108:\tlearn: 1222.1251098\ttotal: 14.8s\tremaining: 12.3s\n",
      "110:\tlearn: 1220.9025964\ttotal: 15.1s\tremaining: 12.1s\n",
      "112:\tlearn: 1220.2664432\ttotal: 15.4s\tremaining: 11.9s\n",
      "114:\tlearn: 1219.2824419\ttotal: 15.8s\tremaining: 11.7s\n",
      "116:\tlearn: 1218.5202157\ttotal: 16.2s\tremaining: 11.5s\n",
      "118:\tlearn: 1217.3998087\ttotal: 16.5s\tremaining: 11.2s\n",
      "120:\tlearn: 1216.6975134\ttotal: 16.8s\tremaining: 11s\n",
      "122:\tlearn: 1215.6430785\ttotal: 17.1s\tremaining: 10.7s\n",
      "124:\tlearn: 1214.7093027\ttotal: 17.4s\tremaining: 10.4s\n",
      "126:\tlearn: 1213.9901247\ttotal: 17.7s\tremaining: 10.2s\n",
      "128:\tlearn: 1213.4813274\ttotal: 18s\tremaining: 9.9s\n",
      "130:\tlearn: 1212.9753715\ttotal: 18.3s\tremaining: 9.62s\n",
      "132:\tlearn: 1212.1236348\ttotal: 18.6s\tremaining: 9.35s\n",
      "134:\tlearn: 1211.4826322\ttotal: 18.9s\tremaining: 9.08s\n",
      "136:\tlearn: 1210.4300381\ttotal: 19.1s\tremaining: 8.79s\n",
      "138:\tlearn: 1209.4146422\ttotal: 19.4s\tremaining: 8.53s\n",
      "140:\tlearn: 1208.7635702\ttotal: 19.7s\tremaining: 8.25s\n",
      "142:\tlearn: 1207.6220116\ttotal: 20s\tremaining: 7.98s\n",
      "144:\tlearn: 1206.6788290\ttotal: 20.3s\tremaining: 7.71s\n",
      "146:\tlearn: 1206.1131729\ttotal: 20.6s\tremaining: 7.43s\n",
      "148:\tlearn: 1205.6331121\ttotal: 20.9s\tremaining: 7.16s\n",
      "150:\tlearn: 1205.2093851\ttotal: 21.2s\tremaining: 6.87s\n",
      "152:\tlearn: 1204.4763314\ttotal: 21.5s\tremaining: 6.6s\n",
      "154:\tlearn: 1203.8696309\ttotal: 21.7s\tremaining: 6.3s\n",
      "156:\tlearn: 1202.6066803\ttotal: 22s\tremaining: 6.01s\n",
      "158:\tlearn: 1201.9074618\ttotal: 22.2s\tremaining: 5.74s\n",
      "160:\tlearn: 1201.0776631\ttotal: 22.6s\tremaining: 5.47s\n",
      "162:\tlearn: 1200.2666980\ttotal: 22.8s\tremaining: 5.18s\n",
      "164:\tlearn: 1199.6859043\ttotal: 23.1s\tremaining: 4.91s\n",
      "166:\tlearn: 1199.0200367\ttotal: 23.5s\tremaining: 4.64s\n",
      "168:\tlearn: 1198.2618716\ttotal: 23.8s\tremaining: 4.37s\n",
      "170:\tlearn: 1197.6638426\ttotal: 24.1s\tremaining: 4.09s\n",
      "172:\tlearn: 1196.9978454\ttotal: 24.4s\tremaining: 3.8s\n",
      "174:\tlearn: 1196.6172244\ttotal: 24.7s\tremaining: 3.53s\n",
      "176:\tlearn: 1195.9453652\ttotal: 25s\tremaining: 3.24s\n",
      "178:\tlearn: 1195.1772885\ttotal: 25.3s\tremaining: 2.97s\n",
      "180:\tlearn: 1194.6205606\ttotal: 25.6s\tremaining: 2.68s\n",
      "182:\tlearn: 1193.8791443\ttotal: 25.9s\tremaining: 2.4s\n",
      "184:\tlearn: 1193.4897021\ttotal: 26.1s\tremaining: 2.12s\n",
      "186:\tlearn: 1192.8115159\ttotal: 26.5s\tremaining: 1.84s\n",
      "188:\tlearn: 1192.4583965\ttotal: 26.8s\tremaining: 1.56s\n",
      "190:\tlearn: 1191.5421991\ttotal: 27.1s\tremaining: 1.28s\n",
      "192:\tlearn: 1190.9680332\ttotal: 27.5s\tremaining: 996ms\n",
      "194:\tlearn: 1190.5050660\ttotal: 27.8s\tremaining: 712ms\n",
      "196:\tlearn: 1189.7612830\ttotal: 28.1s\tremaining: 428ms\n",
      "198:\tlearn: 1188.9883856\ttotal: 28.4s\tremaining: 143ms\n",
      "199:\tlearn: 1188.7809171\ttotal: 28.6s\tremaining: 0us\n",
      "[CV] END ..................iterations=200, learning_rate=0.1; total time=  29.4s\n",
      "0:\tlearn: 2480.6883579\ttotal: 186ms\tremaining: 37.1s\n",
      "2:\tlearn: 2215.1867808\ttotal: 496ms\tremaining: 32.6s\n",
      "4:\tlearn: 2010.4056530\ttotal: 799ms\tremaining: 31.1s\n",
      "6:\tlearn: 1849.8959666\ttotal: 1.11s\tremaining: 30.6s\n",
      "8:\tlearn: 1727.7024431\ttotal: 1.47s\tremaining: 31.3s\n",
      "10:\tlearn: 1630.8361276\ttotal: 1.84s\tremaining: 31.7s\n",
      "12:\tlearn: 1558.9895909\ttotal: 2.13s\tremaining: 30.6s\n",
      "14:\tlearn: 1504.1735816\ttotal: 2.45s\tremaining: 30.2s\n",
      "16:\tlearn: 1458.2414480\ttotal: 2.75s\tremaining: 29.6s\n",
      "18:\tlearn: 1421.6802968\ttotal: 3s\tremaining: 28.6s\n",
      "20:\tlearn: 1394.5098504\ttotal: 3.26s\tremaining: 27.8s\n",
      "22:\tlearn: 1373.4779717\ttotal: 3.5s\tremaining: 26.9s\n",
      "24:\tlearn: 1356.0993898\ttotal: 3.77s\tremaining: 26.4s\n",
      "26:\tlearn: 1341.2365175\ttotal: 4.17s\tremaining: 26.7s\n",
      "28:\tlearn: 1329.5095346\ttotal: 4.54s\tremaining: 26.8s\n",
      "30:\tlearn: 1319.2796081\ttotal: 4.83s\tremaining: 26.3s\n",
      "32:\tlearn: 1311.7656492\ttotal: 5.11s\tremaining: 25.9s\n",
      "34:\tlearn: 1304.1816520\ttotal: 5.37s\tremaining: 25.3s\n",
      "36:\tlearn: 1297.7995618\ttotal: 5.68s\tremaining: 25s\n",
      "38:\tlearn: 1291.6869907\ttotal: 5.93s\tremaining: 24.5s\n",
      "40:\tlearn: 1286.5019891\ttotal: 6.2s\tremaining: 24.1s\n",
      "42:\tlearn: 1281.8515645\ttotal: 6.5s\tremaining: 23.7s\n",
      "44:\tlearn: 1278.3309064\ttotal: 6.77s\tremaining: 23.3s\n",
      "46:\tlearn: 1274.6040011\ttotal: 7.03s\tremaining: 22.9s\n",
      "48:\tlearn: 1271.5415799\ttotal: 7.31s\tremaining: 22.5s\n",
      "50:\tlearn: 1268.8281118\ttotal: 7.6s\tremaining: 22.2s\n",
      "52:\tlearn: 1266.5454485\ttotal: 7.93s\tremaining: 22s\n",
      "54:\tlearn: 1263.7797710\ttotal: 8.21s\tremaining: 21.7s\n",
      "56:\tlearn: 1261.0654623\ttotal: 8.48s\tremaining: 21.3s\n",
      "58:\tlearn: 1259.4532526\ttotal: 8.73s\tremaining: 20.9s\n",
      "60:\tlearn: 1257.6326488\ttotal: 9.01s\tremaining: 20.5s\n",
      "62:\tlearn: 1254.5738291\ttotal: 9.29s\tremaining: 20.2s\n",
      "64:\tlearn: 1252.3707396\ttotal: 9.55s\tremaining: 19.8s\n",
      "66:\tlearn: 1250.0030918\ttotal: 9.81s\tremaining: 19.5s\n",
      "68:\tlearn: 1248.2752412\ttotal: 10.1s\tremaining: 19.2s\n",
      "70:\tlearn: 1246.6875049\ttotal: 10.4s\tremaining: 18.9s\n",
      "72:\tlearn: 1244.4781972\ttotal: 10.7s\tremaining: 18.7s\n",
      "74:\tlearn: 1242.2251079\ttotal: 11s\tremaining: 18.3s\n",
      "76:\tlearn: 1240.9086047\ttotal: 11.3s\tremaining: 18s\n",
      "78:\tlearn: 1239.5665995\ttotal: 11.5s\tremaining: 17.6s\n",
      "80:\tlearn: 1237.7727367\ttotal: 11.8s\tremaining: 17.3s\n",
      "82:\tlearn: 1236.3227841\ttotal: 12s\tremaining: 16.9s\n",
      "84:\tlearn: 1234.7359612\ttotal: 12.3s\tremaining: 16.7s\n",
      "86:\tlearn: 1233.4090352\ttotal: 12.6s\tremaining: 16.3s\n",
      "88:\tlearn: 1232.1231397\ttotal: 12.9s\tremaining: 16.1s\n",
      "90:\tlearn: 1230.5076871\ttotal: 13.3s\tremaining: 15.9s\n",
      "92:\tlearn: 1229.5169326\ttotal: 13.6s\tremaining: 15.6s\n",
      "94:\tlearn: 1228.4452883\ttotal: 13.9s\tremaining: 15.4s\n",
      "96:\tlearn: 1227.2844820\ttotal: 14.3s\tremaining: 15.1s\n",
      "98:\tlearn: 1225.9673401\ttotal: 14.8s\tremaining: 15.1s\n",
      "100:\tlearn: 1224.9805519\ttotal: 15.2s\tremaining: 14.9s\n",
      "102:\tlearn: 1223.8095219\ttotal: 15.5s\tremaining: 14.6s\n",
      "104:\tlearn: 1222.5853542\ttotal: 16.1s\tremaining: 14.5s\n",
      "106:\tlearn: 1221.4045479\ttotal: 16.5s\tremaining: 14.3s\n",
      "108:\tlearn: 1220.2451201\ttotal: 16.8s\tremaining: 14.1s\n",
      "110:\tlearn: 1219.4046898\ttotal: 17.1s\tremaining: 13.7s\n",
      "112:\tlearn: 1218.0667725\ttotal: 17.4s\tremaining: 13.4s\n",
      "114:\tlearn: 1217.2060726\ttotal: 17.7s\tremaining: 13.1s\n",
      "116:\tlearn: 1216.3187756\ttotal: 18.1s\tremaining: 12.8s\n",
      "118:\tlearn: 1215.5579156\ttotal: 18.4s\tremaining: 12.5s\n",
      "120:\tlearn: 1214.9849657\ttotal: 18.8s\tremaining: 12.3s\n",
      "122:\tlearn: 1213.8638499\ttotal: 19.2s\tremaining: 12s\n",
      "124:\tlearn: 1212.6638204\ttotal: 19.7s\tremaining: 11.8s\n",
      "126:\tlearn: 1211.9987696\ttotal: 20s\tremaining: 11.5s\n",
      "128:\tlearn: 1210.9576441\ttotal: 20.4s\tremaining: 11.3s\n",
      "130:\tlearn: 1210.4053265\ttotal: 20.7s\tremaining: 10.9s\n",
      "132:\tlearn: 1209.5689443\ttotal: 21.1s\tremaining: 10.6s\n",
      "134:\tlearn: 1208.6739183\ttotal: 21.4s\tremaining: 10.3s\n",
      "136:\tlearn: 1208.1646296\ttotal: 21.8s\tremaining: 10s\n",
      "138:\tlearn: 1207.0937686\ttotal: 22.1s\tremaining: 9.71s\n",
      "140:\tlearn: 1206.0637016\ttotal: 22.4s\tremaining: 9.36s\n",
      "142:\tlearn: 1205.5982410\ttotal: 22.7s\tremaining: 9.03s\n",
      "144:\tlearn: 1204.7465332\ttotal: 22.9s\tremaining: 8.7s\n",
      "146:\tlearn: 1203.8083413\ttotal: 23.3s\tremaining: 8.39s\n",
      "148:\tlearn: 1202.7603580\ttotal: 23.5s\tremaining: 8.05s\n",
      "150:\tlearn: 1201.7717504\ttotal: 23.9s\tremaining: 7.74s\n",
      "152:\tlearn: 1201.0601288\ttotal: 24.2s\tremaining: 7.44s\n",
      "154:\tlearn: 1200.3646242\ttotal: 24.6s\tremaining: 7.13s\n",
      "156:\tlearn: 1199.6076834\ttotal: 25s\tremaining: 6.84s\n",
      "158:\tlearn: 1198.9293676\ttotal: 25.3s\tremaining: 6.53s\n",
      "160:\tlearn: 1198.1811148\ttotal: 25.7s\tremaining: 6.22s\n",
      "162:\tlearn: 1197.8173824\ttotal: 26s\tremaining: 5.91s\n",
      "164:\tlearn: 1196.5227882\ttotal: 26.3s\tremaining: 5.58s\n",
      "166:\tlearn: 1195.6543609\ttotal: 26.5s\tremaining: 5.24s\n",
      "168:\tlearn: 1194.6553923\ttotal: 26.8s\tremaining: 4.91s\n",
      "170:\tlearn: 1193.7601419\ttotal: 27.1s\tremaining: 4.6s\n",
      "172:\tlearn: 1193.0712487\ttotal: 27.4s\tremaining: 4.28s\n",
      "174:\tlearn: 1192.4349999\ttotal: 27.7s\tremaining: 3.95s\n",
      "176:\tlearn: 1191.7657541\ttotal: 28s\tremaining: 3.63s\n",
      "178:\tlearn: 1191.2838839\ttotal: 28.5s\tremaining: 3.34s\n",
      "180:\tlearn: 1190.8609112\ttotal: 28.8s\tremaining: 3.02s\n",
      "182:\tlearn: 1190.2885014\ttotal: 29.1s\tremaining: 2.7s\n",
      "184:\tlearn: 1189.6111797\ttotal: 29.3s\tremaining: 2.38s\n",
      "186:\tlearn: 1188.8860938\ttotal: 29.6s\tremaining: 2.06s\n",
      "188:\tlearn: 1188.4607936\ttotal: 30s\tremaining: 1.75s\n",
      "190:\tlearn: 1188.0495020\ttotal: 30.3s\tremaining: 1.43s\n",
      "192:\tlearn: 1187.4172613\ttotal: 30.7s\tremaining: 1.11s\n",
      "194:\tlearn: 1186.6759582\ttotal: 31s\tremaining: 794ms\n",
      "196:\tlearn: 1186.0276278\ttotal: 31.3s\tremaining: 477ms\n",
      "198:\tlearn: 1185.7041599\ttotal: 31.6s\tremaining: 159ms\n",
      "199:\tlearn: 1185.2885161\ttotal: 31.7s\tremaining: 0us\n",
      "[CV] END ..................iterations=200, learning_rate=0.1; total time=  32.5s\n",
      "0:\tlearn: 2470.5463561\ttotal: 327ms\tremaining: 1m 5s\n",
      "2:\tlearn: 2202.9169046\ttotal: 854ms\tremaining: 56.1s\n",
      "4:\tlearn: 1999.0138109\ttotal: 1.31s\tremaining: 51s\n",
      "6:\tlearn: 1843.0198772\ttotal: 1.63s\tremaining: 44.9s\n",
      "8:\tlearn: 1722.5362029\ttotal: 1.96s\tremaining: 41.5s\n",
      "10:\tlearn: 1626.6446160\ttotal: 2.32s\tremaining: 39.9s\n",
      "12:\tlearn: 1550.5072296\ttotal: 2.79s\tremaining: 40.1s\n",
      "14:\tlearn: 1494.3318405\ttotal: 3.23s\tremaining: 39.9s\n",
      "16:\tlearn: 1452.1703265\ttotal: 3.58s\tremaining: 38.5s\n",
      "18:\tlearn: 1417.8534005\ttotal: 3.89s\tremaining: 37.1s\n",
      "20:\tlearn: 1390.4720617\ttotal: 4.26s\tremaining: 36.3s\n",
      "22:\tlearn: 1367.8599059\ttotal: 4.52s\tremaining: 34.8s\n",
      "24:\tlearn: 1348.5518279\ttotal: 4.78s\tremaining: 33.5s\n",
      "26:\tlearn: 1334.9258999\ttotal: 5.08s\tremaining: 32.6s\n",
      "28:\tlearn: 1322.5836319\ttotal: 5.4s\tremaining: 31.8s\n",
      "30:\tlearn: 1312.5124976\ttotal: 5.65s\tremaining: 30.8s\n",
      "32:\tlearn: 1304.7356002\ttotal: 5.9s\tremaining: 29.8s\n",
      "34:\tlearn: 1297.5582093\ttotal: 6.22s\tremaining: 29.3s\n",
      "36:\tlearn: 1291.5970226\ttotal: 6.47s\tremaining: 28.5s\n",
      "38:\tlearn: 1286.4842170\ttotal: 6.77s\tremaining: 27.9s\n",
      "40:\tlearn: 1281.0418249\ttotal: 7.04s\tremaining: 27.3s\n",
      "42:\tlearn: 1276.4785769\ttotal: 7.32s\tremaining: 26.7s\n",
      "44:\tlearn: 1272.4547391\ttotal: 7.58s\tremaining: 26.1s\n",
      "46:\tlearn: 1268.5582069\ttotal: 7.9s\tremaining: 25.7s\n",
      "48:\tlearn: 1265.6008920\ttotal: 8.16s\tremaining: 25.1s\n",
      "50:\tlearn: 1262.8480576\ttotal: 8.48s\tremaining: 24.8s\n",
      "52:\tlearn: 1260.5007562\ttotal: 8.77s\tremaining: 24.3s\n",
      "54:\tlearn: 1258.0800135\ttotal: 9.15s\tremaining: 24.1s\n",
      "56:\tlearn: 1255.0946864\ttotal: 9.54s\tremaining: 23.9s\n",
      "58:\tlearn: 1253.0030408\ttotal: 9.88s\tremaining: 23.6s\n",
      "60:\tlearn: 1250.8831837\ttotal: 10.2s\tremaining: 23.3s\n",
      "62:\tlearn: 1248.0198138\ttotal: 10.6s\tremaining: 23s\n",
      "64:\tlearn: 1245.9543145\ttotal: 10.9s\tremaining: 22.5s\n",
      "66:\tlearn: 1244.5780815\ttotal: 11.2s\tremaining: 22.1s\n",
      "68:\tlearn: 1242.8344591\ttotal: 11.4s\tremaining: 21.7s\n",
      "70:\tlearn: 1240.4070765\ttotal: 11.7s\tremaining: 21.3s\n",
      "72:\tlearn: 1238.5702150\ttotal: 12s\tremaining: 20.9s\n",
      "74:\tlearn: 1236.9926427\ttotal: 12.2s\tremaining: 20.4s\n",
      "76:\tlearn: 1235.0264519\ttotal: 12.5s\tremaining: 20s\n",
      "78:\tlearn: 1232.4545203\ttotal: 12.8s\tremaining: 19.6s\n",
      "80:\tlearn: 1230.6232596\ttotal: 13.1s\tremaining: 19.2s\n",
      "82:\tlearn: 1229.0714944\ttotal: 13.3s\tremaining: 18.8s\n",
      "84:\tlearn: 1227.4437314\ttotal: 13.6s\tremaining: 18.3s\n",
      "86:\tlearn: 1226.1503619\ttotal: 13.8s\tremaining: 17.9s\n",
      "88:\tlearn: 1225.3495480\ttotal: 14.1s\tremaining: 17.6s\n",
      "90:\tlearn: 1223.8545503\ttotal: 14.5s\tremaining: 17.3s\n",
      "92:\tlearn: 1222.3676944\ttotal: 14.9s\tremaining: 17.2s\n",
      "94:\tlearn: 1221.4671356\ttotal: 15.4s\tremaining: 17s\n",
      "96:\tlearn: 1220.6133013\ttotal: 15.7s\tremaining: 16.7s\n",
      "98:\tlearn: 1218.8364686\ttotal: 16.1s\tremaining: 16.4s\n",
      "100:\tlearn: 1217.9365096\ttotal: 16.4s\tremaining: 16.1s\n",
      "102:\tlearn: 1216.6962572\ttotal: 16.9s\tremaining: 15.9s\n",
      "104:\tlearn: 1215.6610835\ttotal: 17.3s\tremaining: 15.6s\n",
      "106:\tlearn: 1214.6520914\ttotal: 17.6s\tremaining: 15.3s\n",
      "108:\tlearn: 1213.6201205\ttotal: 17.9s\tremaining: 14.9s\n",
      "110:\tlearn: 1212.9595717\ttotal: 18.2s\tremaining: 14.6s\n",
      "112:\tlearn: 1211.5378616\ttotal: 18.6s\tremaining: 14.3s\n",
      "114:\tlearn: 1210.1077643\ttotal: 18.9s\tremaining: 14s\n",
      "116:\tlearn: 1209.0014829\ttotal: 19.2s\tremaining: 13.6s\n",
      "118:\tlearn: 1208.3896469\ttotal: 19.5s\tremaining: 13.3s\n",
      "120:\tlearn: 1207.6402121\ttotal: 19.8s\tremaining: 12.9s\n",
      "122:\tlearn: 1206.5404146\ttotal: 20s\tremaining: 12.5s\n",
      "124:\tlearn: 1205.7449459\ttotal: 20.3s\tremaining: 12.2s\n",
      "126:\tlearn: 1204.8360757\ttotal: 20.6s\tremaining: 11.9s\n",
      "128:\tlearn: 1204.0779534\ttotal: 20.9s\tremaining: 11.5s\n",
      "130:\tlearn: 1203.1536926\ttotal: 21.2s\tremaining: 11.2s\n",
      "132:\tlearn: 1202.3807663\ttotal: 21.6s\tremaining: 10.9s\n",
      "134:\tlearn: 1201.5957217\ttotal: 21.8s\tremaining: 10.5s\n",
      "136:\tlearn: 1200.8268948\ttotal: 22.1s\tremaining: 10.2s\n",
      "138:\tlearn: 1200.2286450\ttotal: 22.4s\tremaining: 9.84s\n",
      "140:\tlearn: 1199.1865804\ttotal: 22.7s\tremaining: 9.52s\n",
      "142:\tlearn: 1198.4142250\ttotal: 23.1s\tremaining: 9.19s\n",
      "144:\tlearn: 1197.9161386\ttotal: 23.4s\tremaining: 8.87s\n",
      "146:\tlearn: 1196.8987729\ttotal: 23.7s\tremaining: 8.55s\n",
      "148:\tlearn: 1195.8705279\ttotal: 24s\tremaining: 8.22s\n",
      "150:\tlearn: 1195.3976166\ttotal: 24.3s\tremaining: 7.88s\n",
      "152:\tlearn: 1194.4889711\ttotal: 24.6s\tremaining: 7.56s\n",
      "154:\tlearn: 1193.6319511\ttotal: 24.9s\tremaining: 7.23s\n",
      "156:\tlearn: 1192.5946864\ttotal: 25.1s\tremaining: 6.88s\n",
      "158:\tlearn: 1191.9228993\ttotal: 25.4s\tremaining: 6.55s\n",
      "160:\tlearn: 1191.0690320\ttotal: 25.7s\tremaining: 6.22s\n",
      "162:\tlearn: 1190.2094598\ttotal: 25.9s\tremaining: 5.88s\n",
      "164:\tlearn: 1189.7304380\ttotal: 26.2s\tremaining: 5.55s\n",
      "166:\tlearn: 1189.1395815\ttotal: 26.4s\tremaining: 5.22s\n",
      "168:\tlearn: 1188.6734043\ttotal: 26.7s\tremaining: 4.9s\n",
      "170:\tlearn: 1187.4396095\ttotal: 27s\tremaining: 4.58s\n",
      "172:\tlearn: 1186.6221473\ttotal: 27.3s\tremaining: 4.25s\n",
      "174:\tlearn: 1185.9527247\ttotal: 27.5s\tremaining: 3.93s\n",
      "176:\tlearn: 1185.5382323\ttotal: 27.8s\tremaining: 3.61s\n",
      "178:\tlearn: 1184.5548773\ttotal: 28.1s\tremaining: 3.29s\n",
      "180:\tlearn: 1183.8980140\ttotal: 28.4s\tremaining: 2.98s\n",
      "182:\tlearn: 1183.1244684\ttotal: 28.6s\tremaining: 2.66s\n",
      "184:\tlearn: 1182.5495286\ttotal: 28.9s\tremaining: 2.34s\n",
      "186:\tlearn: 1182.0483962\ttotal: 29.1s\tremaining: 2.02s\n",
      "188:\tlearn: 1181.8017765\ttotal: 29.5s\tremaining: 1.71s\n",
      "190:\tlearn: 1181.2392475\ttotal: 29.8s\tremaining: 1.4s\n",
      "192:\tlearn: 1180.4712507\ttotal: 30.1s\tremaining: 1.09s\n",
      "194:\tlearn: 1179.9651574\ttotal: 30.4s\tremaining: 780ms\n",
      "196:\tlearn: 1179.2822534\ttotal: 30.8s\tremaining: 469ms\n",
      "198:\tlearn: 1178.7861713\ttotal: 31.1s\tremaining: 157ms\n",
      "199:\tlearn: 1178.4614242\ttotal: 31.5s\tremaining: 0us\n",
      "[CV] END ..................iterations=200, learning_rate=0.1; total time=  32.5s\n",
      "0:\tlearn: 2180.9341011\ttotal: 218ms\tremaining: 43.4s\n",
      "2:\tlearn: 1687.9996186\ttotal: 613ms\tremaining: 40.2s\n",
      "4:\tlearn: 1477.0660724\ttotal: 909ms\tremaining: 35.5s\n",
      "6:\tlearn: 1378.9674045\ttotal: 1.29s\tremaining: 35.7s\n",
      "8:\tlearn: 1338.7127737\ttotal: 1.58s\tremaining: 33.5s\n",
      "10:\tlearn: 1314.3232602\ttotal: 1.93s\tremaining: 33.2s\n",
      "12:\tlearn: 1297.4705387\ttotal: 2.24s\tremaining: 32.2s\n",
      "14:\tlearn: 1285.4319463\ttotal: 2.49s\tremaining: 30.7s\n",
      "16:\tlearn: 1274.8798316\ttotal: 2.74s\tremaining: 29.5s\n",
      "18:\tlearn: 1267.4511894\ttotal: 2.98s\tremaining: 28.4s\n",
      "20:\tlearn: 1263.1640754\ttotal: 3.29s\tremaining: 28s\n",
      "22:\tlearn: 1257.0276820\ttotal: 3.56s\tremaining: 27.4s\n",
      "24:\tlearn: 1252.6992203\ttotal: 3.84s\tremaining: 26.9s\n",
      "26:\tlearn: 1249.7962450\ttotal: 4.13s\tremaining: 26.5s\n",
      "28:\tlearn: 1242.6974349\ttotal: 4.39s\tremaining: 25.9s\n",
      "30:\tlearn: 1238.1004803\ttotal: 4.67s\tremaining: 25.5s\n",
      "32:\tlearn: 1234.0898768\ttotal: 4.9s\tremaining: 24.8s\n",
      "34:\tlearn: 1230.5361973\ttotal: 5.2s\tremaining: 24.5s\n",
      "36:\tlearn: 1228.3387804\ttotal: 5.47s\tremaining: 24.1s\n",
      "38:\tlearn: 1224.5069077\ttotal: 5.73s\tremaining: 23.7s\n",
      "40:\tlearn: 1222.1856038\ttotal: 5.99s\tremaining: 23.2s\n",
      "42:\tlearn: 1218.1458514\ttotal: 6.35s\tremaining: 23.2s\n",
      "44:\tlearn: 1215.6535286\ttotal: 6.64s\tremaining: 22.9s\n",
      "46:\tlearn: 1213.6087547\ttotal: 6.95s\tremaining: 22.6s\n",
      "48:\tlearn: 1210.8736261\ttotal: 7.3s\tremaining: 22.5s\n",
      "50:\tlearn: 1208.6263952\ttotal: 7.61s\tremaining: 22.2s\n",
      "52:\tlearn: 1206.1272265\ttotal: 7.92s\tremaining: 22s\n",
      "54:\tlearn: 1204.0826505\ttotal: 8.27s\tremaining: 21.8s\n",
      "56:\tlearn: 1202.0563114\ttotal: 8.62s\tremaining: 21.6s\n",
      "58:\tlearn: 1199.7368175\ttotal: 8.93s\tremaining: 21.3s\n",
      "60:\tlearn: 1198.6495848\ttotal: 9.14s\tremaining: 20.8s\n",
      "62:\tlearn: 1196.9421239\ttotal: 9.39s\tremaining: 20.4s\n",
      "64:\tlearn: 1195.6335153\ttotal: 9.69s\tremaining: 20.1s\n",
      "66:\tlearn: 1193.6378435\ttotal: 9.96s\tremaining: 19.8s\n",
      "68:\tlearn: 1192.0404070\ttotal: 10.2s\tremaining: 19.4s\n",
      "70:\tlearn: 1190.2741612\ttotal: 10.5s\tremaining: 19s\n",
      "72:\tlearn: 1188.9328252\ttotal: 10.7s\tremaining: 18.6s\n",
      "74:\tlearn: 1186.3556797\ttotal: 11s\tremaining: 18.3s\n",
      "76:\tlearn: 1185.2142155\ttotal: 11.3s\tremaining: 18.1s\n",
      "78:\tlearn: 1183.8665456\ttotal: 11.6s\tremaining: 17.8s\n",
      "80:\tlearn: 1183.2131766\ttotal: 11.9s\tremaining: 17.5s\n",
      "82:\tlearn: 1181.7941284\ttotal: 12.2s\tremaining: 17.2s\n",
      "84:\tlearn: 1180.8835455\ttotal: 12.5s\tremaining: 16.9s\n",
      "86:\tlearn: 1180.1834676\ttotal: 12.7s\tremaining: 16.5s\n",
      "88:\tlearn: 1179.0866890\ttotal: 13s\tremaining: 16.2s\n",
      "90:\tlearn: 1178.0017822\ttotal: 13.2s\tremaining: 15.8s\n",
      "92:\tlearn: 1176.9705214\ttotal: 13.4s\tremaining: 15.5s\n",
      "94:\tlearn: 1175.6395155\ttotal: 13.7s\tremaining: 15.1s\n",
      "96:\tlearn: 1174.5785408\ttotal: 14s\tremaining: 14.9s\n",
      "98:\tlearn: 1173.6658427\ttotal: 14.3s\tremaining: 14.6s\n",
      "100:\tlearn: 1172.6604825\ttotal: 14.7s\tremaining: 14.4s\n",
      "102:\tlearn: 1171.8972740\ttotal: 14.9s\tremaining: 14.1s\n",
      "104:\tlearn: 1170.8377807\ttotal: 15.2s\tremaining: 13.7s\n",
      "106:\tlearn: 1169.8110065\ttotal: 15.5s\tremaining: 13.5s\n",
      "108:\tlearn: 1169.2651488\ttotal: 15.9s\tremaining: 13.2s\n",
      "110:\tlearn: 1168.6438867\ttotal: 16.2s\tremaining: 13s\n",
      "112:\tlearn: 1167.2987558\ttotal: 16.6s\tremaining: 12.8s\n",
      "114:\tlearn: 1166.5764911\ttotal: 17s\tremaining: 12.5s\n",
      "116:\tlearn: 1165.5617994\ttotal: 17.3s\tremaining: 12.3s\n",
      "118:\tlearn: 1164.5734149\ttotal: 17.6s\tremaining: 12s\n",
      "120:\tlearn: 1163.7798789\ttotal: 17.9s\tremaining: 11.7s\n",
      "122:\tlearn: 1163.0280253\ttotal: 18.1s\tremaining: 11.4s\n",
      "124:\tlearn: 1162.2884282\ttotal: 18.4s\tremaining: 11.1s\n",
      "126:\tlearn: 1161.5736353\ttotal: 18.6s\tremaining: 10.7s\n",
      "128:\tlearn: 1160.3182221\ttotal: 18.9s\tremaining: 10.4s\n",
      "130:\tlearn: 1159.6281931\ttotal: 19.2s\tremaining: 10.1s\n",
      "132:\tlearn: 1159.1469874\ttotal: 19.5s\tremaining: 9.8s\n",
      "134:\tlearn: 1158.6477670\ttotal: 19.7s\tremaining: 9.5s\n",
      "136:\tlearn: 1157.9813284\ttotal: 20.1s\tremaining: 9.23s\n",
      "138:\tlearn: 1157.1369843\ttotal: 20.3s\tremaining: 8.93s\n",
      "140:\tlearn: 1156.1013979\ttotal: 20.6s\tremaining: 8.62s\n",
      "142:\tlearn: 1155.4769424\ttotal: 20.9s\tremaining: 8.31s\n",
      "144:\tlearn: 1154.7564008\ttotal: 21.1s\tremaining: 8.02s\n",
      "146:\tlearn: 1153.7867774\ttotal: 21.4s\tremaining: 7.72s\n",
      "148:\tlearn: 1152.9890839\ttotal: 21.7s\tremaining: 7.43s\n",
      "150:\tlearn: 1152.5303563\ttotal: 22s\tremaining: 7.15s\n",
      "152:\tlearn: 1151.6729372\ttotal: 22.3s\tremaining: 6.84s\n",
      "154:\tlearn: 1151.2279491\ttotal: 22.5s\tremaining: 6.54s\n",
      "156:\tlearn: 1150.5455196\ttotal: 22.9s\tremaining: 6.26s\n",
      "158:\tlearn: 1149.8937355\ttotal: 23.2s\tremaining: 5.99s\n",
      "160:\tlearn: 1149.4489521\ttotal: 23.6s\tremaining: 5.72s\n",
      "162:\tlearn: 1149.0136319\ttotal: 24s\tremaining: 5.44s\n",
      "164:\tlearn: 1148.4509460\ttotal: 24.2s\tremaining: 5.14s\n",
      "166:\tlearn: 1147.7033987\ttotal: 24.5s\tremaining: 4.84s\n",
      "168:\tlearn: 1146.9209537\ttotal: 24.8s\tremaining: 4.55s\n",
      "170:\tlearn: 1146.5616464\ttotal: 25.1s\tremaining: 4.25s\n",
      "172:\tlearn: 1145.7256841\ttotal: 25.4s\tremaining: 3.96s\n",
      "174:\tlearn: 1145.0508567\ttotal: 25.6s\tremaining: 3.66s\n",
      "176:\tlearn: 1144.5338101\ttotal: 26s\tremaining: 3.37s\n",
      "178:\tlearn: 1143.8378784\ttotal: 26.2s\tremaining: 3.07s\n",
      "180:\tlearn: 1143.5156193\ttotal: 26.5s\tremaining: 2.78s\n",
      "182:\tlearn: 1142.7657548\ttotal: 26.8s\tremaining: 2.49s\n",
      "184:\tlearn: 1142.5054595\ttotal: 27s\tremaining: 2.19s\n",
      "186:\tlearn: 1141.9166460\ttotal: 27.3s\tremaining: 1.9s\n",
      "188:\tlearn: 1141.1344252\ttotal: 27.6s\tremaining: 1.61s\n",
      "190:\tlearn: 1140.7915721\ttotal: 27.9s\tremaining: 1.31s\n",
      "192:\tlearn: 1140.2933623\ttotal: 28.2s\tremaining: 1.02s\n",
      "194:\tlearn: 1139.7998198\ttotal: 28.5s\tremaining: 732ms\n",
      "196:\tlearn: 1139.5657591\ttotal: 28.8s\tremaining: 439ms\n",
      "198:\tlearn: 1139.2021693\ttotal: 29.1s\tremaining: 146ms\n",
      "199:\tlearn: 1138.8767178\ttotal: 29.3s\tremaining: 0us\n",
      "[CV] END ..................iterations=200, learning_rate=0.3; total time=  30.0s\n",
      "0:\tlearn: 2185.3913118\ttotal: 190ms\tremaining: 37.7s\n",
      "2:\tlearn: 1680.3670882\ttotal: 527ms\tremaining: 34.6s\n",
      "4:\tlearn: 1471.8278811\ttotal: 853ms\tremaining: 33.3s\n",
      "6:\tlearn: 1381.6686028\ttotal: 1.12s\tremaining: 31s\n",
      "8:\tlearn: 1338.5461122\ttotal: 1.44s\tremaining: 30.6s\n",
      "10:\tlearn: 1311.0637931\ttotal: 1.79s\tremaining: 30.8s\n",
      "12:\tlearn: 1298.3885983\ttotal: 2.13s\tremaining: 30.7s\n",
      "14:\tlearn: 1284.8925571\ttotal: 2.42s\tremaining: 29.9s\n",
      "16:\tlearn: 1276.5143857\ttotal: 2.79s\tremaining: 30.1s\n",
      "18:\tlearn: 1268.9837300\ttotal: 3.16s\tremaining: 30.1s\n",
      "20:\tlearn: 1258.9113630\ttotal: 3.47s\tremaining: 29.6s\n",
      "22:\tlearn: 1251.2625772\ttotal: 3.79s\tremaining: 29.2s\n",
      "24:\tlearn: 1245.6006293\ttotal: 4.02s\tremaining: 28.1s\n",
      "26:\tlearn: 1241.5017597\ttotal: 4.31s\tremaining: 27.6s\n",
      "28:\tlearn: 1237.2796657\ttotal: 4.62s\tremaining: 27.3s\n",
      "30:\tlearn: 1233.3133029\ttotal: 4.9s\tremaining: 26.7s\n",
      "32:\tlearn: 1227.6596113\ttotal: 5.25s\tremaining: 26.6s\n",
      "34:\tlearn: 1225.5577858\ttotal: 5.5s\tremaining: 25.9s\n",
      "36:\tlearn: 1222.7139045\ttotal: 5.83s\tremaining: 25.7s\n",
      "38:\tlearn: 1218.8976122\ttotal: 6.12s\tremaining: 25.3s\n",
      "40:\tlearn: 1216.6955583\ttotal: 6.37s\tremaining: 24.7s\n",
      "42:\tlearn: 1213.9691724\ttotal: 6.65s\tremaining: 24.3s\n",
      "44:\tlearn: 1211.3714063\ttotal: 6.92s\tremaining: 23.8s\n",
      "46:\tlearn: 1208.4345580\ttotal: 7.18s\tremaining: 23.4s\n",
      "48:\tlearn: 1206.1308202\ttotal: 7.5s\tremaining: 23.1s\n",
      "50:\tlearn: 1204.5719233\ttotal: 7.79s\tremaining: 22.8s\n",
      "52:\tlearn: 1202.3184911\ttotal: 8.11s\tremaining: 22.5s\n",
      "54:\tlearn: 1200.9275970\ttotal: 8.37s\tremaining: 22.1s\n",
      "56:\tlearn: 1198.9307193\ttotal: 8.62s\tremaining: 21.6s\n",
      "58:\tlearn: 1196.3844455\ttotal: 9.12s\tremaining: 21.8s\n",
      "60:\tlearn: 1193.7142385\ttotal: 9.4s\tremaining: 21.4s\n",
      "62:\tlearn: 1191.7972948\ttotal: 9.7s\tremaining: 21.1s\n",
      "64:\tlearn: 1190.5165250\ttotal: 10s\tremaining: 20.8s\n",
      "66:\tlearn: 1188.2967688\ttotal: 10.3s\tremaining: 20.4s\n",
      "68:\tlearn: 1187.2601637\ttotal: 10.5s\tremaining: 20s\n",
      "70:\tlearn: 1185.0089326\ttotal: 10.8s\tremaining: 19.6s\n",
      "72:\tlearn: 1183.4382659\ttotal: 11.1s\tremaining: 19.3s\n",
      "74:\tlearn: 1182.4251543\ttotal: 11.4s\tremaining: 18.9s\n",
      "76:\tlearn: 1181.3309155\ttotal: 11.6s\tremaining: 18.6s\n",
      "78:\tlearn: 1179.5714920\ttotal: 11.9s\tremaining: 18.2s\n",
      "80:\tlearn: 1178.5465823\ttotal: 12.2s\tremaining: 17.9s\n",
      "82:\tlearn: 1176.9875045\ttotal: 12.5s\tremaining: 17.6s\n",
      "84:\tlearn: 1176.2763501\ttotal: 12.8s\tremaining: 17.3s\n",
      "86:\tlearn: 1175.1536991\ttotal: 13.1s\tremaining: 17s\n",
      "88:\tlearn: 1173.7466652\ttotal: 13.3s\tremaining: 16.6s\n",
      "90:\tlearn: 1172.5501726\ttotal: 13.6s\tremaining: 16.3s\n",
      "92:\tlearn: 1171.0371125\ttotal: 13.9s\tremaining: 16s\n",
      "94:\tlearn: 1169.5913389\ttotal: 14.2s\tremaining: 15.7s\n",
      "96:\tlearn: 1168.5245643\ttotal: 14.5s\tremaining: 15.4s\n",
      "98:\tlearn: 1167.8805612\ttotal: 14.7s\tremaining: 15s\n",
      "100:\tlearn: 1167.0706046\ttotal: 15.1s\tremaining: 14.8s\n",
      "102:\tlearn: 1166.1423963\ttotal: 15.3s\tremaining: 14.4s\n",
      "104:\tlearn: 1165.2203246\ttotal: 15.7s\tremaining: 14.2s\n",
      "106:\tlearn: 1164.6070243\ttotal: 16s\tremaining: 13.9s\n",
      "108:\tlearn: 1164.0041616\ttotal: 16.4s\tremaining: 13.7s\n",
      "110:\tlearn: 1162.9051080\ttotal: 16.8s\tremaining: 13.4s\n",
      "112:\tlearn: 1162.3427251\ttotal: 17.1s\tremaining: 13.1s\n",
      "114:\tlearn: 1161.6374080\ttotal: 17.4s\tremaining: 12.9s\n",
      "116:\tlearn: 1159.9077565\ttotal: 17.8s\tremaining: 12.6s\n",
      "118:\tlearn: 1158.7925406\ttotal: 18.3s\tremaining: 12.4s\n",
      "120:\tlearn: 1158.4670649\ttotal: 18.7s\tremaining: 12.2s\n",
      "122:\tlearn: 1158.3064450\ttotal: 19s\tremaining: 11.9s\n",
      "124:\tlearn: 1157.4413417\ttotal: 19.5s\tremaining: 11.7s\n",
      "126:\tlearn: 1156.2890213\ttotal: 19.9s\tremaining: 11.4s\n",
      "128:\tlearn: 1155.4713769\ttotal: 20.2s\tremaining: 11.1s\n",
      "130:\tlearn: 1154.7468243\ttotal: 20.6s\tremaining: 10.9s\n",
      "132:\tlearn: 1154.0810531\ttotal: 20.9s\tremaining: 10.5s\n",
      "134:\tlearn: 1153.4655455\ttotal: 21.2s\tremaining: 10.2s\n",
      "136:\tlearn: 1153.1254670\ttotal: 21.5s\tremaining: 9.89s\n",
      "138:\tlearn: 1152.1430474\ttotal: 21.8s\tremaining: 9.55s\n",
      "140:\tlearn: 1151.2496350\ttotal: 22s\tremaining: 9.22s\n",
      "142:\tlearn: 1150.8616278\ttotal: 22.3s\tremaining: 8.89s\n",
      "144:\tlearn: 1150.2712961\ttotal: 22.6s\tremaining: 8.56s\n",
      "146:\tlearn: 1149.6685801\ttotal: 22.9s\tremaining: 8.26s\n",
      "148:\tlearn: 1149.1369618\ttotal: 23.2s\tremaining: 7.95s\n",
      "150:\tlearn: 1148.5948744\ttotal: 23.5s\tremaining: 7.64s\n",
      "152:\tlearn: 1147.5626299\ttotal: 23.8s\tremaining: 7.32s\n",
      "154:\tlearn: 1147.1703894\ttotal: 24.1s\tremaining: 6.99s\n",
      "156:\tlearn: 1146.6203587\ttotal: 24.3s\tremaining: 6.66s\n",
      "158:\tlearn: 1145.8764747\ttotal: 24.6s\tremaining: 6.34s\n",
      "160:\tlearn: 1145.1159864\ttotal: 24.8s\tremaining: 6.01s\n",
      "162:\tlearn: 1144.1888354\ttotal: 25.1s\tremaining: 5.69s\n",
      "164:\tlearn: 1143.5446547\ttotal: 25.3s\tremaining: 5.37s\n",
      "166:\tlearn: 1143.1051858\ttotal: 25.6s\tremaining: 5.05s\n",
      "168:\tlearn: 1142.6611485\ttotal: 25.8s\tremaining: 4.73s\n",
      "170:\tlearn: 1141.9789657\ttotal: 26.1s\tremaining: 4.42s\n",
      "172:\tlearn: 1141.4089602\ttotal: 26.3s\tremaining: 4.1s\n",
      "174:\tlearn: 1140.6757183\ttotal: 26.6s\tremaining: 3.8s\n",
      "176:\tlearn: 1140.4192867\ttotal: 26.9s\tremaining: 3.49s\n",
      "178:\tlearn: 1139.9518454\ttotal: 27.1s\tremaining: 3.18s\n",
      "180:\tlearn: 1139.5657519\ttotal: 27.4s\tremaining: 2.88s\n",
      "182:\tlearn: 1139.1405321\ttotal: 27.7s\tremaining: 2.57s\n",
      "184:\tlearn: 1138.5171055\ttotal: 28s\tremaining: 2.27s\n",
      "186:\tlearn: 1138.1574878\ttotal: 28.2s\tremaining: 1.96s\n",
      "188:\tlearn: 1137.8532390\ttotal: 28.5s\tremaining: 1.66s\n",
      "190:\tlearn: 1137.3051050\ttotal: 28.9s\tremaining: 1.36s\n",
      "192:\tlearn: 1136.8637609\ttotal: 29.2s\tremaining: 1.06s\n",
      "194:\tlearn: 1136.2383170\ttotal: 29.5s\tremaining: 757ms\n",
      "196:\tlearn: 1136.0270202\ttotal: 29.8s\tremaining: 454ms\n",
      "198:\tlearn: 1135.6453722\ttotal: 30.2s\tremaining: 152ms\n",
      "199:\tlearn: 1135.5193137\ttotal: 30.4s\tremaining: 0us\n",
      "[CV] END ..................iterations=200, learning_rate=0.3; total time=  31.1s\n",
      "0:\tlearn: 2174.0851391\ttotal: 152ms\tremaining: 30.2s\n",
      "2:\tlearn: 1673.5350790\ttotal: 431ms\tremaining: 28.3s\n",
      "4:\tlearn: 1464.2584114\ttotal: 756ms\tremaining: 29.5s\n",
      "6:\tlearn: 1366.4750048\ttotal: 1.09s\tremaining: 30.1s\n",
      "8:\tlearn: 1324.1903764\ttotal: 1.4s\tremaining: 29.7s\n",
      "10:\tlearn: 1303.4963076\ttotal: 1.73s\tremaining: 29.7s\n",
      "12:\tlearn: 1287.5328212\ttotal: 2.04s\tremaining: 29.3s\n",
      "14:\tlearn: 1278.7724252\ttotal: 2.38s\tremaining: 29.4s\n",
      "16:\tlearn: 1269.5006528\ttotal: 2.74s\tremaining: 29.5s\n",
      "18:\tlearn: 1262.3444537\ttotal: 3.12s\tremaining: 29.8s\n",
      "20:\tlearn: 1252.1407862\ttotal: 3.5s\tremaining: 29.8s\n",
      "22:\tlearn: 1243.8856914\ttotal: 3.84s\tremaining: 29.6s\n",
      "24:\tlearn: 1239.9659267\ttotal: 4.16s\tremaining: 29.1s\n",
      "26:\tlearn: 1233.3234544\ttotal: 4.46s\tremaining: 28.6s\n",
      "28:\tlearn: 1229.3267741\ttotal: 4.81s\tremaining: 28.4s\n",
      "30:\tlearn: 1224.6541811\ttotal: 5.03s\tremaining: 27.4s\n",
      "32:\tlearn: 1222.0239953\ttotal: 5.28s\tremaining: 26.7s\n",
      "34:\tlearn: 1219.1224363\ttotal: 5.56s\tremaining: 26.2s\n",
      "36:\tlearn: 1216.0297594\ttotal: 5.84s\tremaining: 25.7s\n",
      "38:\tlearn: 1212.4516070\ttotal: 6.08s\tremaining: 25.1s\n",
      "40:\tlearn: 1209.5495114\ttotal: 6.37s\tremaining: 24.7s\n",
      "42:\tlearn: 1206.8411910\ttotal: 6.62s\tremaining: 24.2s\n",
      "44:\tlearn: 1204.2961207\ttotal: 6.9s\tremaining: 23.8s\n",
      "46:\tlearn: 1201.7474265\ttotal: 7.2s\tremaining: 23.4s\n",
      "48:\tlearn: 1199.7569861\ttotal: 7.48s\tremaining: 23.1s\n",
      "50:\tlearn: 1197.8477004\ttotal: 7.95s\tremaining: 23.2s\n",
      "52:\tlearn: 1195.3184170\ttotal: 8.31s\tremaining: 23s\n",
      "54:\tlearn: 1192.9413642\ttotal: 8.69s\tremaining: 22.9s\n",
      "56:\tlearn: 1190.9940810\ttotal: 9.02s\tremaining: 22.6s\n",
      "58:\tlearn: 1189.2780529\ttotal: 9.32s\tremaining: 22.3s\n",
      "60:\tlearn: 1187.6323458\ttotal: 9.6s\tremaining: 21.9s\n",
      "62:\tlearn: 1185.1099919\ttotal: 9.86s\tremaining: 21.5s\n",
      "64:\tlearn: 1183.7240696\ttotal: 10.1s\tremaining: 21s\n",
      "66:\tlearn: 1181.5519368\ttotal: 10.4s\tremaining: 20.6s\n",
      "68:\tlearn: 1179.5420015\ttotal: 10.7s\tremaining: 20.2s\n",
      "70:\tlearn: 1177.8320854\ttotal: 11s\tremaining: 19.9s\n",
      "72:\tlearn: 1176.5205226\ttotal: 11.3s\tremaining: 19.6s\n",
      "74:\tlearn: 1174.9553868\ttotal: 11.5s\tremaining: 19.2s\n",
      "76:\tlearn: 1173.6629752\ttotal: 11.9s\tremaining: 19s\n",
      "78:\tlearn: 1171.6524910\ttotal: 12.1s\tremaining: 18.6s\n",
      "80:\tlearn: 1170.5762090\ttotal: 12.4s\tremaining: 18.3s\n",
      "82:\tlearn: 1169.3770821\ttotal: 12.7s\tremaining: 17.9s\n",
      "84:\tlearn: 1167.8691718\ttotal: 13s\tremaining: 17.6s\n",
      "86:\tlearn: 1166.0266430\ttotal: 13.3s\tremaining: 17.3s\n",
      "88:\tlearn: 1164.7284887\ttotal: 13.5s\tremaining: 16.9s\n",
      "90:\tlearn: 1163.7287071\ttotal: 13.8s\tremaining: 16.5s\n",
      "92:\tlearn: 1163.2820808\ttotal: 14.1s\tremaining: 16.2s\n",
      "94:\tlearn: 1162.5575833\ttotal: 14.4s\tremaining: 15.9s\n",
      "96:\tlearn: 1162.0465954\ttotal: 14.6s\tremaining: 15.5s\n",
      "98:\tlearn: 1161.3820746\ttotal: 14.8s\tremaining: 15.1s\n",
      "100:\tlearn: 1160.8510163\ttotal: 15.1s\tremaining: 14.8s\n",
      "102:\tlearn: 1160.0335801\ttotal: 15.4s\tremaining: 14.5s\n",
      "104:\tlearn: 1159.2860956\ttotal: 15.6s\tremaining: 14.2s\n",
      "106:\tlearn: 1158.2922546\ttotal: 16s\tremaining: 13.9s\n",
      "108:\tlearn: 1158.1264593\ttotal: 16.2s\tremaining: 13.5s\n",
      "110:\tlearn: 1157.1791117\ttotal: 16.4s\tremaining: 13.2s\n",
      "112:\tlearn: 1156.0035391\ttotal: 16.8s\tremaining: 12.9s\n",
      "114:\tlearn: 1154.8787765\ttotal: 17.1s\tremaining: 12.6s\n",
      "116:\tlearn: 1154.0496377\ttotal: 17.5s\tremaining: 12.4s\n",
      "118:\tlearn: 1153.4566491\ttotal: 17.8s\tremaining: 12.1s\n",
      "120:\tlearn: 1152.6570863\ttotal: 18.1s\tremaining: 11.8s\n",
      "122:\tlearn: 1152.0251838\ttotal: 18.5s\tremaining: 11.6s\n",
      "124:\tlearn: 1151.2874945\ttotal: 18.9s\tremaining: 11.3s\n",
      "126:\tlearn: 1150.2681679\ttotal: 19.1s\tremaining: 11s\n",
      "128:\tlearn: 1149.5814511\ttotal: 19.5s\tremaining: 10.7s\n",
      "130:\tlearn: 1149.0247862\ttotal: 19.9s\tremaining: 10.5s\n",
      "132:\tlearn: 1148.5202307\ttotal: 20.2s\tremaining: 10.2s\n",
      "134:\tlearn: 1147.8480306\ttotal: 20.5s\tremaining: 9.89s\n",
      "136:\tlearn: 1147.0701491\ttotal: 20.8s\tremaining: 9.57s\n",
      "138:\tlearn: 1146.7068910\ttotal: 21.1s\tremaining: 9.26s\n",
      "140:\tlearn: 1146.3248470\ttotal: 21.4s\tremaining: 8.96s\n",
      "142:\tlearn: 1145.8771205\ttotal: 21.7s\tremaining: 8.66s\n",
      "144:\tlearn: 1144.9820483\ttotal: 22s\tremaining: 8.35s\n",
      "146:\tlearn: 1144.1233158\ttotal: 22.2s\tremaining: 8.02s\n",
      "148:\tlearn: 1143.6311344\ttotal: 22.5s\tremaining: 7.71s\n",
      "150:\tlearn: 1142.8781592\ttotal: 22.8s\tremaining: 7.38s\n",
      "152:\tlearn: 1142.6203925\ttotal: 23s\tremaining: 7.07s\n",
      "154:\tlearn: 1142.0753734\ttotal: 23.3s\tremaining: 6.77s\n",
      "156:\tlearn: 1141.5380547\ttotal: 23.6s\tremaining: 6.46s\n",
      "158:\tlearn: 1141.0137402\ttotal: 23.9s\tremaining: 6.16s\n",
      "160:\tlearn: 1140.5485588\ttotal: 24.2s\tremaining: 5.87s\n",
      "162:\tlearn: 1139.9306590\ttotal: 24.5s\tremaining: 5.57s\n",
      "164:\tlearn: 1139.2522796\ttotal: 24.8s\tremaining: 5.26s\n",
      "166:\tlearn: 1138.7133027\ttotal: 25s\tremaining: 4.95s\n",
      "168:\tlearn: 1138.3846198\ttotal: 25.3s\tremaining: 4.64s\n",
      "170:\tlearn: 1137.7552059\ttotal: 25.6s\tremaining: 4.33s\n",
      "172:\tlearn: 1136.8985995\ttotal: 25.9s\tremaining: 4.04s\n",
      "174:\tlearn: 1136.1278545\ttotal: 26.1s\tremaining: 3.73s\n",
      "176:\tlearn: 1135.6629818\ttotal: 26.4s\tremaining: 3.43s\n",
      "178:\tlearn: 1134.8263549\ttotal: 26.7s\tremaining: 3.13s\n",
      "180:\tlearn: 1134.3847866\ttotal: 27.1s\tremaining: 2.84s\n",
      "182:\tlearn: 1133.7393715\ttotal: 27.3s\tremaining: 2.54s\n",
      "184:\tlearn: 1132.6528646\ttotal: 27.6s\tremaining: 2.24s\n",
      "186:\tlearn: 1132.2771035\ttotal: 27.9s\tremaining: 1.94s\n",
      "188:\tlearn: 1132.0250057\ttotal: 28.2s\tremaining: 1.64s\n",
      "190:\tlearn: 1131.5472612\ttotal: 28.5s\tremaining: 1.34s\n",
      "192:\tlearn: 1130.8837690\ttotal: 28.8s\tremaining: 1.04s\n",
      "194:\tlearn: 1130.4508651\ttotal: 29.1s\tremaining: 746ms\n",
      "196:\tlearn: 1129.7580672\ttotal: 29.4s\tremaining: 448ms\n",
      "198:\tlearn: 1129.3993779\ttotal: 29.6s\tremaining: 149ms\n",
      "199:\tlearn: 1129.3453122\ttotal: 29.8s\tremaining: 0us\n",
      "[CV] END ..................iterations=200, learning_rate=0.3; total time=  30.4s\n",
      "0:\tlearn: 1927.8658817\ttotal: 156ms\tremaining: 31.1s\n",
      "2:\tlearn: 1455.2081443\ttotal: 459ms\tremaining: 30.1s\n",
      "4:\tlearn: 1354.0578903\ttotal: 680ms\tremaining: 26.5s\n",
      "6:\tlearn: 1319.9093739\ttotal: 956ms\tremaining: 26.4s\n",
      "8:\tlearn: 1294.3998576\ttotal: 1.25s\tremaining: 26.5s\n",
      "10:\tlearn: 1278.8492297\ttotal: 1.53s\tremaining: 26.3s\n",
      "12:\tlearn: 1268.5353026\ttotal: 1.84s\tremaining: 26.5s\n",
      "14:\tlearn: 1258.6319044\ttotal: 2.19s\tremaining: 27s\n",
      "16:\tlearn: 1250.5684348\ttotal: 2.52s\tremaining: 27.1s\n",
      "18:\tlearn: 1243.7946345\ttotal: 2.85s\tremaining: 27.1s\n",
      "20:\tlearn: 1238.6828282\ttotal: 3.15s\tremaining: 26.8s\n",
      "22:\tlearn: 1233.4249812\ttotal: 3.43s\tremaining: 26.4s\n",
      "24:\tlearn: 1227.0603181\ttotal: 3.78s\tremaining: 26.5s\n",
      "26:\tlearn: 1224.3492523\ttotal: 4.12s\tremaining: 26.4s\n",
      "28:\tlearn: 1220.9823411\ttotal: 4.47s\tremaining: 26.4s\n",
      "30:\tlearn: 1217.7435327\ttotal: 4.85s\tremaining: 26.4s\n",
      "32:\tlearn: 1213.6613582\ttotal: 5.22s\tremaining: 26.4s\n",
      "34:\tlearn: 1210.1350529\ttotal: 5.54s\tremaining: 26.1s\n",
      "36:\tlearn: 1206.5645490\ttotal: 5.93s\tremaining: 26.1s\n",
      "38:\tlearn: 1203.3706396\ttotal: 6.21s\tremaining: 25.7s\n",
      "40:\tlearn: 1200.1275673\ttotal: 6.48s\tremaining: 25.1s\n",
      "42:\tlearn: 1197.5492438\ttotal: 6.75s\tremaining: 24.7s\n",
      "44:\tlearn: 1195.0353902\ttotal: 7.04s\tremaining: 24.2s\n",
      "46:\tlearn: 1193.2017142\ttotal: 7.31s\tremaining: 23.8s\n",
      "48:\tlearn: 1190.2895323\ttotal: 7.61s\tremaining: 23.5s\n",
      "50:\tlearn: 1187.2891979\ttotal: 7.86s\tremaining: 23s\n",
      "52:\tlearn: 1184.3450466\ttotal: 8.12s\tremaining: 22.5s\n",
      "54:\tlearn: 1182.7664106\ttotal: 8.42s\tremaining: 22.2s\n",
      "56:\tlearn: 1180.4476394\ttotal: 8.69s\tremaining: 21.8s\n",
      "58:\tlearn: 1178.5909875\ttotal: 8.98s\tremaining: 21.5s\n",
      "60:\tlearn: 1177.1380438\ttotal: 9.26s\tremaining: 21.1s\n",
      "62:\tlearn: 1175.3910848\ttotal: 9.54s\tremaining: 20.8s\n",
      "64:\tlearn: 1173.5361067\ttotal: 9.82s\tremaining: 20.4s\n",
      "66:\tlearn: 1171.8275224\ttotal: 10.1s\tremaining: 20.1s\n",
      "68:\tlearn: 1170.0790064\ttotal: 10.4s\tremaining: 19.8s\n",
      "70:\tlearn: 1169.0785844\ttotal: 10.7s\tremaining: 19.4s\n",
      "72:\tlearn: 1167.9547921\ttotal: 11s\tremaining: 19.1s\n",
      "74:\tlearn: 1166.2508341\ttotal: 11.3s\tremaining: 18.8s\n",
      "76:\tlearn: 1165.3883124\ttotal: 11.5s\tremaining: 18.4s\n",
      "78:\tlearn: 1163.6952248\ttotal: 11.8s\tremaining: 18.1s\n",
      "80:\tlearn: 1162.2068193\ttotal: 12.1s\tremaining: 17.8s\n",
      "82:\tlearn: 1161.1636786\ttotal: 12.4s\tremaining: 17.4s\n",
      "84:\tlearn: 1159.6452254\ttotal: 12.6s\tremaining: 17s\n",
      "86:\tlearn: 1158.8053492\ttotal: 12.9s\tremaining: 16.7s\n",
      "88:\tlearn: 1157.6408533\ttotal: 13.1s\tremaining: 16.4s\n",
      "90:\tlearn: 1156.8369113\ttotal: 13.4s\tremaining: 16s\n",
      "92:\tlearn: 1155.5508782\ttotal: 13.7s\tremaining: 15.8s\n",
      "94:\tlearn: 1154.2061436\ttotal: 14s\tremaining: 15.5s\n",
      "96:\tlearn: 1153.6499294\ttotal: 14.3s\tremaining: 15.2s\n",
      "98:\tlearn: 1152.8569399\ttotal: 14.6s\tremaining: 14.9s\n",
      "100:\tlearn: 1152.0795121\ttotal: 14.9s\tremaining: 14.6s\n",
      "102:\tlearn: 1150.7622800\ttotal: 15.2s\tremaining: 14.3s\n",
      "104:\tlearn: 1149.6502512\ttotal: 15.5s\tremaining: 14.1s\n",
      "106:\tlearn: 1148.8842055\ttotal: 15.8s\tremaining: 13.8s\n",
      "108:\tlearn: 1148.3265563\ttotal: 16.1s\tremaining: 13.4s\n",
      "110:\tlearn: 1147.0618933\ttotal: 16.4s\tremaining: 13.1s\n",
      "112:\tlearn: 1146.2378293\ttotal: 16.6s\tremaining: 12.8s\n",
      "114:\tlearn: 1145.0758984\ttotal: 16.9s\tremaining: 12.5s\n",
      "116:\tlearn: 1144.1743173\ttotal: 17.2s\tremaining: 12.2s\n",
      "118:\tlearn: 1143.5937483\ttotal: 17.5s\tremaining: 11.9s\n",
      "120:\tlearn: 1142.8761321\ttotal: 17.8s\tremaining: 11.6s\n",
      "122:\tlearn: 1142.0944254\ttotal: 18.1s\tremaining: 11.4s\n",
      "124:\tlearn: 1141.0700599\ttotal: 18.5s\tremaining: 11.1s\n",
      "126:\tlearn: 1140.2916238\ttotal: 18.8s\tremaining: 10.8s\n",
      "128:\tlearn: 1139.9785908\ttotal: 19.1s\tremaining: 10.5s\n",
      "130:\tlearn: 1139.3419846\ttotal: 19.5s\tremaining: 10.2s\n",
      "132:\tlearn: 1138.7455577\ttotal: 19.8s\tremaining: 9.97s\n",
      "134:\tlearn: 1137.5691207\ttotal: 20.1s\tremaining: 9.69s\n",
      "136:\tlearn: 1136.6223958\ttotal: 20.5s\tremaining: 9.42s\n",
      "138:\tlearn: 1135.6428953\ttotal: 20.9s\tremaining: 9.16s\n",
      "140:\tlearn: 1135.2008788\ttotal: 21.2s\tremaining: 8.86s\n",
      "142:\tlearn: 1134.6868049\ttotal: 21.4s\tremaining: 8.54s\n",
      "144:\tlearn: 1134.1432465\ttotal: 21.8s\tremaining: 8.26s\n",
      "146:\tlearn: 1133.6327819\ttotal: 22.1s\tremaining: 7.96s\n",
      "148:\tlearn: 1132.7697649\ttotal: 22.3s\tremaining: 7.64s\n",
      "150:\tlearn: 1132.1251442\ttotal: 22.6s\tremaining: 7.33s\n",
      "152:\tlearn: 1131.4005552\ttotal: 22.9s\tremaining: 7.02s\n",
      "154:\tlearn: 1130.7010995\ttotal: 23.2s\tremaining: 6.72s\n",
      "156:\tlearn: 1129.9988360\ttotal: 23.4s\tremaining: 6.42s\n",
      "158:\tlearn: 1129.1643634\ttotal: 23.7s\tremaining: 6.11s\n",
      "160:\tlearn: 1128.4847819\ttotal: 23.9s\tremaining: 5.8s\n",
      "162:\tlearn: 1127.8070002\ttotal: 24.2s\tremaining: 5.5s\n",
      "164:\tlearn: 1127.3828729\ttotal: 24.5s\tremaining: 5.21s\n",
      "166:\tlearn: 1126.8269472\ttotal: 24.9s\tremaining: 4.91s\n",
      "168:\tlearn: 1126.4289872\ttotal: 25.1s\tremaining: 4.61s\n",
      "170:\tlearn: 1125.8633463\ttotal: 25.4s\tremaining: 4.31s\n",
      "172:\tlearn: 1125.3148533\ttotal: 25.7s\tremaining: 4s\n",
      "174:\tlearn: 1124.8141934\ttotal: 25.9s\tremaining: 3.7s\n",
      "176:\tlearn: 1124.4399707\ttotal: 26.2s\tremaining: 3.4s\n",
      "178:\tlearn: 1123.5239312\ttotal: 26.4s\tremaining: 3.1s\n",
      "180:\tlearn: 1122.8493260\ttotal: 26.7s\tremaining: 2.8s\n",
      "182:\tlearn: 1122.2316125\ttotal: 27.1s\tremaining: 2.52s\n",
      "184:\tlearn: 1121.7234102\ttotal: 27.5s\tremaining: 2.23s\n",
      "186:\tlearn: 1121.0932171\ttotal: 27.7s\tremaining: 1.93s\n",
      "188:\tlearn: 1120.0840513\ttotal: 28s\tremaining: 1.63s\n",
      "190:\tlearn: 1119.6235921\ttotal: 28.4s\tremaining: 1.34s\n",
      "192:\tlearn: 1119.2331900\ttotal: 28.8s\tremaining: 1.04s\n",
      "194:\tlearn: 1118.4636872\ttotal: 29.1s\tremaining: 745ms\n",
      "196:\tlearn: 1118.0093332\ttotal: 29.4s\tremaining: 448ms\n",
      "198:\tlearn: 1117.6679792\ttotal: 29.7s\tremaining: 149ms\n",
      "199:\tlearn: 1117.4807997\ttotal: 29.9s\tremaining: 0us\n",
      "[CV] END ..................iterations=200, learning_rate=0.5; total time=  30.6s\n",
      "0:\tlearn: 1934.4428658\ttotal: 148ms\tremaining: 29.5s\n",
      "2:\tlearn: 1456.8012314\ttotal: 426ms\tremaining: 28s\n",
      "4:\tlearn: 1359.7135318\ttotal: 692ms\tremaining: 27s\n",
      "6:\tlearn: 1323.5945387\ttotal: 933ms\tremaining: 25.7s\n",
      "8:\tlearn: 1309.2128895\ttotal: 1.24s\tremaining: 26.3s\n",
      "10:\tlearn: 1288.6403606\ttotal: 1.52s\tremaining: 26.1s\n",
      "12:\tlearn: 1275.5112588\ttotal: 1.8s\tremaining: 26s\n",
      "14:\tlearn: 1265.9546611\ttotal: 2.1s\tremaining: 26s\n",
      "16:\tlearn: 1257.8576003\ttotal: 2.38s\tremaining: 25.6s\n",
      "18:\tlearn: 1250.4902734\ttotal: 2.65s\tremaining: 25.2s\n",
      "20:\tlearn: 1241.0950999\ttotal: 2.95s\tremaining: 25.2s\n",
      "22:\tlearn: 1236.4676401\ttotal: 3.26s\tremaining: 25.1s\n",
      "24:\tlearn: 1231.0204346\ttotal: 3.57s\tremaining: 25s\n",
      "26:\tlearn: 1227.1525918\ttotal: 3.92s\tremaining: 25.1s\n",
      "28:\tlearn: 1222.4997614\ttotal: 4.31s\tremaining: 25.4s\n",
      "30:\tlearn: 1216.9497616\ttotal: 4.62s\tremaining: 25.2s\n",
      "32:\tlearn: 1212.1092195\ttotal: 4.97s\tremaining: 25.2s\n",
      "34:\tlearn: 1209.4831455\ttotal: 5.3s\tremaining: 25s\n",
      "36:\tlearn: 1206.9702601\ttotal: 5.63s\tremaining: 24.8s\n",
      "38:\tlearn: 1203.1214399\ttotal: 5.95s\tremaining: 24.6s\n",
      "40:\tlearn: 1200.1400406\ttotal: 6.28s\tremaining: 24.4s\n",
      "42:\tlearn: 1197.9387944\ttotal: 6.59s\tremaining: 24.1s\n",
      "44:\tlearn: 1194.9409255\ttotal: 6.91s\tremaining: 23.8s\n",
      "46:\tlearn: 1192.6396022\ttotal: 7.33s\tremaining: 23.9s\n",
      "48:\tlearn: 1190.0097078\ttotal: 7.65s\tremaining: 23.6s\n",
      "50:\tlearn: 1187.8103759\ttotal: 7.92s\tremaining: 23.1s\n",
      "52:\tlearn: 1185.3821842\ttotal: 8.18s\tremaining: 22.7s\n",
      "54:\tlearn: 1183.6520527\ttotal: 8.48s\tremaining: 22.4s\n",
      "56:\tlearn: 1182.1270637\ttotal: 8.75s\tremaining: 22s\n",
      "58:\tlearn: 1180.8312815\ttotal: 8.96s\tremaining: 21.4s\n",
      "60:\tlearn: 1178.9620838\ttotal: 9.2s\tremaining: 21s\n",
      "62:\tlearn: 1176.7875413\ttotal: 9.49s\tremaining: 20.6s\n",
      "64:\tlearn: 1175.9922653\ttotal: 9.81s\tremaining: 20.4s\n",
      "66:\tlearn: 1173.9517340\ttotal: 10.1s\tremaining: 20.1s\n",
      "68:\tlearn: 1172.9838453\ttotal: 10.4s\tremaining: 19.8s\n",
      "70:\tlearn: 1171.8486378\ttotal: 10.7s\tremaining: 19.5s\n",
      "72:\tlearn: 1170.3752401\ttotal: 11s\tremaining: 19.1s\n",
      "74:\tlearn: 1169.2013717\ttotal: 11.2s\tremaining: 18.7s\n",
      "76:\tlearn: 1167.7820673\ttotal: 11.5s\tremaining: 18.4s\n",
      "78:\tlearn: 1166.7447622\ttotal: 11.8s\tremaining: 18s\n",
      "80:\tlearn: 1165.4836552\ttotal: 12s\tremaining: 17.7s\n",
      "82:\tlearn: 1164.6464163\ttotal: 12.4s\tremaining: 17.5s\n",
      "84:\tlearn: 1163.6990512\ttotal: 12.8s\tremaining: 17.3s\n",
      "86:\tlearn: 1162.4884224\ttotal: 13s\tremaining: 16.9s\n",
      "88:\tlearn: 1160.8596006\ttotal: 13.3s\tremaining: 16.6s\n",
      "90:\tlearn: 1159.4000778\ttotal: 13.6s\tremaining: 16.3s\n",
      "92:\tlearn: 1158.4856412\ttotal: 13.9s\tremaining: 16s\n",
      "94:\tlearn: 1157.1197382\ttotal: 14.1s\tremaining: 15.6s\n",
      "96:\tlearn: 1155.0941972\ttotal: 14.5s\tremaining: 15.4s\n",
      "98:\tlearn: 1154.4599551\ttotal: 14.8s\tremaining: 15.1s\n",
      "100:\tlearn: 1153.5196613\ttotal: 15.1s\tremaining: 14.8s\n",
      "102:\tlearn: 1152.3812526\ttotal: 15.3s\tremaining: 14.4s\n",
      "104:\tlearn: 1151.0331492\ttotal: 15.6s\tremaining: 14.1s\n",
      "106:\tlearn: 1150.0025686\ttotal: 15.9s\tremaining: 13.8s\n",
      "108:\tlearn: 1149.0616473\ttotal: 16.2s\tremaining: 13.5s\n",
      "110:\tlearn: 1148.3179262\ttotal: 16.5s\tremaining: 13.3s\n",
      "112:\tlearn: 1147.1551851\ttotal: 16.8s\tremaining: 12.9s\n",
      "114:\tlearn: 1146.6903114\ttotal: 17.1s\tremaining: 12.6s\n",
      "116:\tlearn: 1145.7628835\ttotal: 17.4s\tremaining: 12.4s\n",
      "118:\tlearn: 1144.9386568\ttotal: 17.7s\tremaining: 12.1s\n",
      "120:\tlearn: 1144.1355884\ttotal: 18.1s\tremaining: 11.8s\n",
      "122:\tlearn: 1143.4206350\ttotal: 18.4s\tremaining: 11.5s\n",
      "124:\tlearn: 1143.0387717\ttotal: 18.6s\tremaining: 11.2s\n",
      "126:\tlearn: 1142.3132682\ttotal: 18.9s\tremaining: 10.9s\n",
      "128:\tlearn: 1141.5240776\ttotal: 19.3s\tremaining: 10.6s\n",
      "130:\tlearn: 1140.7451864\ttotal: 19.6s\tremaining: 10.3s\n",
      "132:\tlearn: 1139.5153207\ttotal: 20s\tremaining: 10.1s\n",
      "134:\tlearn: 1138.7440199\ttotal: 20.3s\tremaining: 9.76s\n",
      "136:\tlearn: 1138.1872201\ttotal: 20.6s\tremaining: 9.49s\n",
      "138:\tlearn: 1137.5140580\ttotal: 21s\tremaining: 9.21s\n",
      "140:\tlearn: 1136.6700646\ttotal: 21.3s\tremaining: 8.92s\n",
      "142:\tlearn: 1135.5728534\ttotal: 21.6s\tremaining: 8.63s\n",
      "144:\tlearn: 1134.6600412\ttotal: 22s\tremaining: 8.36s\n",
      "146:\tlearn: 1134.1438674\ttotal: 22.4s\tremaining: 8.07s\n",
      "148:\tlearn: 1133.5966744\ttotal: 22.7s\tremaining: 7.77s\n",
      "150:\tlearn: 1132.9799014\ttotal: 23.1s\tremaining: 7.49s\n",
      "152:\tlearn: 1132.0613779\ttotal: 23.5s\tremaining: 7.2s\n",
      "154:\tlearn: 1131.4943959\ttotal: 23.7s\tremaining: 6.88s\n",
      "156:\tlearn: 1130.7723800\ttotal: 24s\tremaining: 6.57s\n",
      "158:\tlearn: 1130.4858107\ttotal: 24.3s\tremaining: 6.26s\n",
      "160:\tlearn: 1129.3719159\ttotal: 24.5s\tremaining: 5.95s\n",
      "162:\tlearn: 1128.8846223\ttotal: 24.9s\tremaining: 5.65s\n",
      "164:\tlearn: 1128.1756633\ttotal: 25.2s\tremaining: 5.34s\n",
      "166:\tlearn: 1127.6240776\ttotal: 25.4s\tremaining: 5.02s\n",
      "168:\tlearn: 1127.2850305\ttotal: 25.6s\tremaining: 4.7s\n",
      "170:\tlearn: 1126.4416954\ttotal: 25.9s\tremaining: 4.39s\n",
      "172:\tlearn: 1126.1215479\ttotal: 26.2s\tremaining: 4.09s\n",
      "174:\tlearn: 1125.6059015\ttotal: 26.5s\tremaining: 3.79s\n",
      "176:\tlearn: 1125.1023706\ttotal: 26.8s\tremaining: 3.48s\n",
      "178:\tlearn: 1124.8311719\ttotal: 27.1s\tremaining: 3.18s\n",
      "180:\tlearn: 1123.6668603\ttotal: 27.4s\tremaining: 2.88s\n",
      "182:\tlearn: 1123.3253426\ttotal: 27.7s\tremaining: 2.57s\n",
      "184:\tlearn: 1122.5969326\ttotal: 28s\tremaining: 2.27s\n",
      "186:\tlearn: 1121.5207697\ttotal: 28.3s\tremaining: 1.96s\n",
      "188:\tlearn: 1121.0147827\ttotal: 28.6s\tremaining: 1.66s\n",
      "190:\tlearn: 1120.4466655\ttotal: 28.9s\tremaining: 1.36s\n",
      "192:\tlearn: 1119.9019125\ttotal: 29.1s\tremaining: 1.06s\n",
      "194:\tlearn: 1119.5773347\ttotal: 29.5s\tremaining: 755ms\n",
      "196:\tlearn: 1118.9669604\ttotal: 29.7s\tremaining: 452ms\n",
      "198:\tlearn: 1118.1592390\ttotal: 30s\tremaining: 151ms\n",
      "199:\tlearn: 1118.0150855\ttotal: 30.2s\tremaining: 0us\n",
      "[CV] END ..................iterations=200, learning_rate=0.5; total time=  30.9s\n",
      "0:\tlearn: 1921.8440852\ttotal: 147ms\tremaining: 29.2s\n",
      "2:\tlearn: 1446.7933697\ttotal: 443ms\tremaining: 29.1s\n",
      "4:\tlearn: 1344.7508469\ttotal: 712ms\tremaining: 27.8s\n",
      "6:\tlearn: 1313.2850039\ttotal: 998ms\tremaining: 27.5s\n",
      "8:\tlearn: 1290.6585561\ttotal: 1.28s\tremaining: 27.1s\n",
      "10:\tlearn: 1277.1608964\ttotal: 1.55s\tremaining: 26.6s\n",
      "12:\tlearn: 1268.3232782\ttotal: 1.87s\tremaining: 26.9s\n",
      "14:\tlearn: 1255.2677576\ttotal: 2.28s\tremaining: 28.1s\n",
      "16:\tlearn: 1245.2699566\ttotal: 2.6s\tremaining: 28s\n",
      "18:\tlearn: 1239.1422494\ttotal: 2.96s\tremaining: 28.2s\n",
      "20:\tlearn: 1233.9581506\ttotal: 3.29s\tremaining: 28.1s\n",
      "22:\tlearn: 1228.6015232\ttotal: 3.62s\tremaining: 27.9s\n",
      "24:\tlearn: 1221.9839943\ttotal: 3.98s\tremaining: 27.9s\n",
      "26:\tlearn: 1215.8866571\ttotal: 4.33s\tremaining: 27.7s\n",
      "28:\tlearn: 1212.7154152\ttotal: 4.68s\tremaining: 27.6s\n",
      "30:\tlearn: 1208.5837929\ttotal: 5.03s\tremaining: 27.4s\n",
      "32:\tlearn: 1203.5915901\ttotal: 5.36s\tremaining: 27.1s\n",
      "34:\tlearn: 1199.4609900\ttotal: 5.72s\tremaining: 27s\n",
      "36:\tlearn: 1195.8861844\ttotal: 6.05s\tremaining: 26.7s\n",
      "38:\tlearn: 1193.0151484\ttotal: 6.41s\tremaining: 26.5s\n",
      "40:\tlearn: 1190.1368389\ttotal: 6.75s\tremaining: 26.2s\n",
      "42:\tlearn: 1187.8325359\ttotal: 7.02s\tremaining: 25.6s\n",
      "44:\tlearn: 1184.7064174\ttotal: 7.38s\tremaining: 25.4s\n",
      "46:\tlearn: 1183.2736547\ttotal: 7.72s\tremaining: 25.1s\n",
      "48:\tlearn: 1181.6810060\ttotal: 8.06s\tremaining: 24.8s\n",
      "50:\tlearn: 1178.9409077\ttotal: 8.39s\tremaining: 24.5s\n",
      "52:\tlearn: 1176.5585901\ttotal: 8.72s\tremaining: 24.2s\n",
      "54:\tlearn: 1174.3859608\ttotal: 9.01s\tremaining: 23.8s\n",
      "56:\tlearn: 1172.2273694\ttotal: 9.26s\tremaining: 23.2s\n",
      "58:\tlearn: 1170.8226143\ttotal: 9.58s\tremaining: 22.9s\n",
      "60:\tlearn: 1169.5585642\ttotal: 9.88s\tremaining: 22.5s\n",
      "62:\tlearn: 1168.1779127\ttotal: 10.1s\tremaining: 22s\n",
      "64:\tlearn: 1166.9000521\ttotal: 10.4s\tremaining: 21.7s\n",
      "66:\tlearn: 1165.9685477\ttotal: 10.7s\tremaining: 21.2s\n",
      "68:\tlearn: 1164.8831653\ttotal: 11s\tremaining: 20.9s\n",
      "70:\tlearn: 1163.5611114\ttotal: 11.3s\tremaining: 20.5s\n",
      "72:\tlearn: 1161.9765862\ttotal: 11.6s\tremaining: 20.1s\n",
      "74:\tlearn: 1159.9229824\ttotal: 11.8s\tremaining: 19.7s\n",
      "76:\tlearn: 1158.5583606\ttotal: 12.1s\tremaining: 19.3s\n",
      "78:\tlearn: 1157.2104077\ttotal: 12.3s\tremaining: 18.9s\n",
      "80:\tlearn: 1156.0791701\ttotal: 12.6s\tremaining: 18.4s\n",
      "82:\tlearn: 1155.1613253\ttotal: 12.8s\tremaining: 18s\n",
      "84:\tlearn: 1153.9157594\ttotal: 13.1s\tremaining: 17.8s\n",
      "86:\tlearn: 1153.0736423\ttotal: 13.4s\tremaining: 17.4s\n",
      "88:\tlearn: 1152.0535663\ttotal: 13.7s\tremaining: 17.1s\n",
      "90:\tlearn: 1150.6057676\ttotal: 14s\tremaining: 16.8s\n",
      "92:\tlearn: 1149.8883616\ttotal: 14.3s\tremaining: 16.4s\n",
      "94:\tlearn: 1149.0189565\ttotal: 14.5s\tremaining: 16.1s\n",
      "96:\tlearn: 1148.4916760\ttotal: 14.8s\tremaining: 15.7s\n",
      "98:\tlearn: 1146.8317635\ttotal: 15.1s\tremaining: 15.4s\n",
      "100:\tlearn: 1146.3208004\ttotal: 15.4s\tremaining: 15.1s\n",
      "102:\tlearn: 1145.7618459\ttotal: 15.6s\tremaining: 14.7s\n",
      "104:\tlearn: 1145.0011274\ttotal: 15.8s\tremaining: 14.3s\n",
      "106:\tlearn: 1144.3021298\ttotal: 16.1s\tremaining: 14s\n",
      "108:\tlearn: 1143.1546536\ttotal: 16.4s\tremaining: 13.7s\n",
      "110:\tlearn: 1142.5794188\ttotal: 16.7s\tremaining: 13.4s\n",
      "112:\tlearn: 1142.0118051\ttotal: 17s\tremaining: 13.1s\n",
      "114:\tlearn: 1141.1997973\ttotal: 17.2s\tremaining: 12.7s\n",
      "116:\tlearn: 1140.3165414\ttotal: 17.5s\tremaining: 12.4s\n",
      "118:\tlearn: 1139.3833386\ttotal: 17.7s\tremaining: 12.1s\n",
      "120:\tlearn: 1137.9624952\ttotal: 18s\tremaining: 11.8s\n",
      "122:\tlearn: 1136.8758401\ttotal: 18.3s\tremaining: 11.5s\n",
      "124:\tlearn: 1136.3598078\ttotal: 18.6s\tremaining: 11.2s\n",
      "126:\tlearn: 1135.5171919\ttotal: 18.9s\tremaining: 10.9s\n",
      "128:\tlearn: 1134.9619634\ttotal: 19.2s\tremaining: 10.6s\n",
      "130:\tlearn: 1133.5275642\ttotal: 19.5s\tremaining: 10.3s\n",
      "132:\tlearn: 1132.6342342\ttotal: 19.9s\tremaining: 10s\n",
      "134:\tlearn: 1131.9136846\ttotal: 20.3s\tremaining: 9.77s\n",
      "136:\tlearn: 1131.5341875\ttotal: 20.7s\tremaining: 9.5s\n",
      "138:\tlearn: 1131.3592111\ttotal: 21s\tremaining: 9.21s\n",
      "140:\tlearn: 1130.7227587\ttotal: 21.3s\tremaining: 8.92s\n",
      "142:\tlearn: 1130.1891908\ttotal: 21.7s\tremaining: 8.66s\n",
      "144:\tlearn: 1129.3234264\ttotal: 22s\tremaining: 8.36s\n",
      "146:\tlearn: 1128.6618079\ttotal: 22.4s\tremaining: 8.07s\n",
      "148:\tlearn: 1128.0691353\ttotal: 22.8s\tremaining: 7.79s\n",
      "150:\tlearn: 1127.5027850\ttotal: 23.1s\tremaining: 7.5s\n",
      "152:\tlearn: 1126.7522300\ttotal: 23.5s\tremaining: 7.23s\n",
      "154:\tlearn: 1126.1391418\ttotal: 23.9s\tremaining: 6.94s\n",
      "156:\tlearn: 1125.4609780\ttotal: 24.3s\tremaining: 6.65s\n",
      "158:\tlearn: 1125.0852856\ttotal: 24.9s\tremaining: 6.41s\n",
      "160:\tlearn: 1124.2571558\ttotal: 25.5s\tremaining: 6.18s\n",
      "162:\tlearn: 1123.4533563\ttotal: 25.9s\tremaining: 5.88s\n",
      "164:\tlearn: 1122.7079394\ttotal: 26.2s\tremaining: 5.56s\n",
      "166:\tlearn: 1121.8925889\ttotal: 26.6s\tremaining: 5.25s\n",
      "168:\tlearn: 1121.4537380\ttotal: 26.8s\tremaining: 4.92s\n",
      "170:\tlearn: 1120.5530315\ttotal: 27.1s\tremaining: 4.6s\n",
      "172:\tlearn: 1119.8938093\ttotal: 27.3s\tremaining: 4.26s\n",
      "174:\tlearn: 1119.0585211\ttotal: 27.6s\tremaining: 3.94s\n",
      "176:\tlearn: 1118.7508583\ttotal: 27.9s\tremaining: 3.62s\n",
      "178:\tlearn: 1118.3747027\ttotal: 28.1s\tremaining: 3.3s\n",
      "180:\tlearn: 1117.8509771\ttotal: 28.4s\tremaining: 2.98s\n",
      "182:\tlearn: 1117.4918939\ttotal: 28.7s\tremaining: 2.67s\n",
      "184:\tlearn: 1117.2126515\ttotal: 29s\tremaining: 2.35s\n",
      "186:\tlearn: 1116.7983655\ttotal: 29.2s\tremaining: 2.03s\n",
      "188:\tlearn: 1116.2597995\ttotal: 29.6s\tremaining: 1.72s\n",
      "190:\tlearn: 1115.7631232\ttotal: 29.8s\tremaining: 1.4s\n",
      "192:\tlearn: 1115.3098721\ttotal: 30.1s\tremaining: 1.09s\n",
      "194:\tlearn: 1114.8871490\ttotal: 30.4s\tremaining: 780ms\n",
      "196:\tlearn: 1114.2090506\ttotal: 30.6s\tremaining: 466ms\n",
      "198:\tlearn: 1113.6257933\ttotal: 30.8s\tremaining: 155ms\n",
      "199:\tlearn: 1113.2454655\ttotal: 30.9s\tremaining: 0us\n",
      "[CV] END ..................iterations=200, learning_rate=0.5; total time=  31.6s\n",
      "0:\tlearn: 2478.3605349\ttotal: 141ms\tremaining: 42.3s\n",
      "2:\tlearn: 2218.6588283\ttotal: 387ms\tremaining: 38.3s\n",
      "4:\tlearn: 2007.8977706\ttotal: 642ms\tremaining: 37.9s\n",
      "6:\tlearn: 1853.3387858\ttotal: 899ms\tremaining: 37.6s\n",
      "8:\tlearn: 1730.6626336\ttotal: 1.13s\tremaining: 36.5s\n",
      "10:\tlearn: 1635.0460854\ttotal: 1.37s\tremaining: 36.1s\n",
      "12:\tlearn: 1559.2846538\ttotal: 1.64s\tremaining: 36.3s\n",
      "14:\tlearn: 1501.2819241\ttotal: 1.93s\tremaining: 36.7s\n",
      "16:\tlearn: 1456.6696143\ttotal: 2.17s\tremaining: 36.2s\n",
      "18:\tlearn: 1420.7285279\ttotal: 2.42s\tremaining: 35.7s\n",
      "20:\tlearn: 1394.1091705\ttotal: 2.65s\tremaining: 35.2s\n",
      "22:\tlearn: 1373.8897224\ttotal: 2.92s\tremaining: 35.2s\n",
      "24:\tlearn: 1356.6912142\ttotal: 3.17s\tremaining: 34.9s\n",
      "26:\tlearn: 1342.3776244\ttotal: 3.46s\tremaining: 34.9s\n",
      "28:\tlearn: 1330.9406664\ttotal: 3.75s\tremaining: 35s\n",
      "30:\tlearn: 1321.5015693\ttotal: 3.98s\tremaining: 34.5s\n",
      "32:\tlearn: 1313.6757560\ttotal: 4.28s\tremaining: 34.6s\n",
      "34:\tlearn: 1307.5226070\ttotal: 4.57s\tremaining: 34.6s\n",
      "36:\tlearn: 1301.5351988\ttotal: 4.89s\tremaining: 34.8s\n",
      "38:\tlearn: 1296.3627162\ttotal: 5.29s\tremaining: 35.4s\n",
      "40:\tlearn: 1292.1656660\ttotal: 5.75s\tremaining: 36.3s\n",
      "42:\tlearn: 1287.5143251\ttotal: 6.07s\tremaining: 36.3s\n",
      "44:\tlearn: 1283.3265689\ttotal: 6.39s\tremaining: 36.2s\n",
      "46:\tlearn: 1279.5236656\ttotal: 6.73s\tremaining: 36.2s\n",
      "48:\tlearn: 1275.3831569\ttotal: 7.01s\tremaining: 35.9s\n",
      "50:\tlearn: 1271.4031185\ttotal: 7.3s\tremaining: 35.7s\n",
      "52:\tlearn: 1268.7698144\ttotal: 7.6s\tremaining: 35.4s\n",
      "54:\tlearn: 1265.1165423\ttotal: 7.89s\tremaining: 35.2s\n",
      "56:\tlearn: 1261.8687651\ttotal: 8.19s\tremaining: 34.9s\n",
      "58:\tlearn: 1259.8149259\ttotal: 8.52s\tremaining: 34.8s\n",
      "60:\tlearn: 1257.8755506\ttotal: 8.82s\tremaining: 34.6s\n",
      "62:\tlearn: 1256.0044427\ttotal: 9.15s\tremaining: 34.4s\n",
      "64:\tlearn: 1253.5322656\ttotal: 9.45s\tremaining: 34.2s\n",
      "66:\tlearn: 1251.3022743\ttotal: 9.73s\tremaining: 33.8s\n",
      "68:\tlearn: 1249.4436994\ttotal: 9.98s\tremaining: 33.4s\n",
      "70:\tlearn: 1247.7952156\ttotal: 10.3s\tremaining: 33.2s\n",
      "72:\tlearn: 1246.1213138\ttotal: 10.5s\tremaining: 32.8s\n",
      "74:\tlearn: 1244.2928593\ttotal: 10.8s\tremaining: 32.4s\n",
      "76:\tlearn: 1243.0756833\ttotal: 11.1s\tremaining: 32.1s\n",
      "78:\tlearn: 1241.7445252\ttotal: 11.3s\tremaining: 31.7s\n",
      "80:\tlearn: 1239.9995122\ttotal: 11.6s\tremaining: 31.3s\n",
      "82:\tlearn: 1238.4339884\ttotal: 11.8s\tremaining: 30.9s\n",
      "84:\tlearn: 1236.3177583\ttotal: 12.1s\tremaining: 30.7s\n",
      "86:\tlearn: 1235.2397645\ttotal: 12.4s\tremaining: 30.4s\n",
      "88:\tlearn: 1233.9264194\ttotal: 12.7s\tremaining: 30s\n",
      "90:\tlearn: 1232.6141051\ttotal: 12.9s\tremaining: 29.6s\n",
      "92:\tlearn: 1231.3046657\ttotal: 13.2s\tremaining: 29.3s\n",
      "94:\tlearn: 1230.4310649\ttotal: 13.4s\tremaining: 29s\n",
      "96:\tlearn: 1229.4829263\ttotal: 13.7s\tremaining: 28.7s\n",
      "98:\tlearn: 1228.1506745\ttotal: 14s\tremaining: 28.4s\n",
      "100:\tlearn: 1227.0657636\ttotal: 14.2s\tremaining: 28s\n",
      "102:\tlearn: 1225.8421713\ttotal: 14.5s\tremaining: 27.7s\n",
      "104:\tlearn: 1224.9026479\ttotal: 14.7s\tremaining: 27.3s\n",
      "106:\tlearn: 1223.3259306\ttotal: 14.9s\tremaining: 26.9s\n",
      "108:\tlearn: 1222.1251098\ttotal: 15.2s\tremaining: 26.6s\n",
      "110:\tlearn: 1220.9025964\ttotal: 15.5s\tremaining: 26.4s\n",
      "112:\tlearn: 1220.2664432\ttotal: 15.7s\tremaining: 26s\n",
      "114:\tlearn: 1219.2824419\ttotal: 16s\tremaining: 25.8s\n",
      "116:\tlearn: 1218.5202157\ttotal: 16.3s\tremaining: 25.5s\n",
      "118:\tlearn: 1217.3998087\ttotal: 16.7s\tremaining: 25.5s\n",
      "120:\tlearn: 1216.6975134\ttotal: 17s\tremaining: 25.2s\n",
      "122:\tlearn: 1215.6430785\ttotal: 17.3s\tremaining: 24.9s\n",
      "124:\tlearn: 1214.7093027\ttotal: 17.6s\tremaining: 24.6s\n",
      "126:\tlearn: 1213.9901247\ttotal: 18s\tremaining: 24.5s\n",
      "128:\tlearn: 1213.4813274\ttotal: 18.3s\tremaining: 24.3s\n",
      "130:\tlearn: 1212.9753715\ttotal: 18.6s\tremaining: 24s\n",
      "132:\tlearn: 1212.1236348\ttotal: 18.9s\tremaining: 23.7s\n",
      "134:\tlearn: 1211.4826322\ttotal: 19.2s\tremaining: 23.5s\n",
      "136:\tlearn: 1210.4300381\ttotal: 19.5s\tremaining: 23.2s\n",
      "138:\tlearn: 1209.4146422\ttotal: 19.8s\tremaining: 22.9s\n",
      "140:\tlearn: 1208.7635702\ttotal: 20s\tremaining: 22.6s\n",
      "142:\tlearn: 1207.6220116\ttotal: 20.3s\tremaining: 22.3s\n",
      "144:\tlearn: 1206.6788290\ttotal: 20.7s\tremaining: 22.1s\n",
      "146:\tlearn: 1206.1131729\ttotal: 21s\tremaining: 21.9s\n",
      "148:\tlearn: 1205.6331121\ttotal: 21.4s\tremaining: 21.7s\n",
      "150:\tlearn: 1205.2093851\ttotal: 21.7s\tremaining: 21.4s\n",
      "152:\tlearn: 1204.4763314\ttotal: 22s\tremaining: 21.2s\n",
      "154:\tlearn: 1203.8696309\ttotal: 22.3s\tremaining: 20.8s\n",
      "156:\tlearn: 1202.6066803\ttotal: 22.6s\tremaining: 20.5s\n",
      "158:\tlearn: 1201.9074618\ttotal: 22.9s\tremaining: 20.3s\n",
      "160:\tlearn: 1201.0776631\ttotal: 23.3s\tremaining: 20.1s\n",
      "162:\tlearn: 1200.2666980\ttotal: 23.6s\tremaining: 19.8s\n",
      "164:\tlearn: 1199.6859043\ttotal: 24s\tremaining: 19.6s\n",
      "166:\tlearn: 1199.0200367\ttotal: 24.4s\tremaining: 19.4s\n",
      "168:\tlearn: 1198.2618716\ttotal: 24.7s\tremaining: 19.2s\n",
      "170:\tlearn: 1197.6638426\ttotal: 25s\tremaining: 18.9s\n",
      "172:\tlearn: 1196.9978454\ttotal: 25.3s\tremaining: 18.6s\n",
      "174:\tlearn: 1196.6172244\ttotal: 25.6s\tremaining: 18.3s\n",
      "176:\tlearn: 1195.9453652\ttotal: 25.9s\tremaining: 18s\n",
      "178:\tlearn: 1195.1772885\ttotal: 26.2s\tremaining: 17.7s\n",
      "180:\tlearn: 1194.6205606\ttotal: 26.5s\tremaining: 17.4s\n",
      "182:\tlearn: 1193.8791443\ttotal: 26.8s\tremaining: 17.1s\n",
      "184:\tlearn: 1193.4897021\ttotal: 27.1s\tremaining: 16.8s\n",
      "186:\tlearn: 1192.8115159\ttotal: 27.4s\tremaining: 16.6s\n",
      "188:\tlearn: 1192.4583965\ttotal: 27.7s\tremaining: 16.3s\n",
      "190:\tlearn: 1191.5421991\ttotal: 28s\tremaining: 16s\n",
      "192:\tlearn: 1190.9680332\ttotal: 28.3s\tremaining: 15.7s\n",
      "194:\tlearn: 1190.5050660\ttotal: 28.6s\tremaining: 15.4s\n",
      "196:\tlearn: 1189.7612830\ttotal: 28.9s\tremaining: 15.1s\n",
      "198:\tlearn: 1188.9883856\ttotal: 29.2s\tremaining: 14.8s\n",
      "200:\tlearn: 1188.4858117\ttotal: 29.5s\tremaining: 14.5s\n",
      "202:\tlearn: 1187.8719469\ttotal: 29.7s\tremaining: 14.2s\n",
      "204:\tlearn: 1187.1357479\ttotal: 30s\tremaining: 13.9s\n",
      "206:\tlearn: 1186.6942987\ttotal: 30.3s\tremaining: 13.6s\n",
      "208:\tlearn: 1186.2661903\ttotal: 30.6s\tremaining: 13.3s\n",
      "210:\tlearn: 1185.6087481\ttotal: 31s\tremaining: 13.1s\n",
      "212:\tlearn: 1184.9850113\ttotal: 31.3s\tremaining: 12.8s\n",
      "214:\tlearn: 1184.1849945\ttotal: 31.5s\tremaining: 12.5s\n",
      "216:\tlearn: 1183.7002560\ttotal: 31.8s\tremaining: 12.2s\n",
      "218:\tlearn: 1182.9940735\ttotal: 32.1s\tremaining: 11.9s\n",
      "220:\tlearn: 1182.2459471\ttotal: 32.4s\tremaining: 11.6s\n",
      "222:\tlearn: 1181.8422857\ttotal: 32.7s\tremaining: 11.3s\n",
      "224:\tlearn: 1181.5794036\ttotal: 32.9s\tremaining: 11s\n",
      "226:\tlearn: 1181.2511879\ttotal: 33.2s\tremaining: 10.7s\n",
      "228:\tlearn: 1180.8866175\ttotal: 33.5s\tremaining: 10.4s\n",
      "230:\tlearn: 1180.6862494\ttotal: 33.7s\tremaining: 10.1s\n",
      "232:\tlearn: 1180.4609496\ttotal: 34s\tremaining: 9.78s\n",
      "234:\tlearn: 1179.9900046\ttotal: 34.3s\tremaining: 9.48s\n",
      "236:\tlearn: 1179.5357143\ttotal: 34.6s\tremaining: 9.19s\n",
      "238:\tlearn: 1179.1598189\ttotal: 34.8s\tremaining: 8.89s\n",
      "240:\tlearn: 1178.8107690\ttotal: 35.1s\tremaining: 8.59s\n",
      "242:\tlearn: 1178.3133933\ttotal: 35.4s\tremaining: 8.3s\n",
      "244:\tlearn: 1177.8704190\ttotal: 35.6s\tremaining: 8s\n",
      "246:\tlearn: 1177.5350251\ttotal: 35.9s\tremaining: 7.7s\n",
      "248:\tlearn: 1177.1224251\ttotal: 36.1s\tremaining: 7.4s\n",
      "250:\tlearn: 1176.4880437\ttotal: 36.4s\tremaining: 7.11s\n",
      "252:\tlearn: 1176.2961556\ttotal: 36.7s\tremaining: 6.83s\n",
      "254:\tlearn: 1175.8277602\ttotal: 37.1s\tremaining: 6.54s\n",
      "256:\tlearn: 1175.5748838\ttotal: 37.4s\tremaining: 6.26s\n",
      "258:\tlearn: 1174.8915875\ttotal: 37.8s\tremaining: 5.98s\n",
      "260:\tlearn: 1174.3914122\ttotal: 38.1s\tremaining: 5.69s\n",
      "262:\tlearn: 1173.9129799\ttotal: 38.4s\tremaining: 5.41s\n",
      "264:\tlearn: 1173.5572933\ttotal: 38.8s\tremaining: 5.13s\n",
      "266:\tlearn: 1173.1408101\ttotal: 39.2s\tremaining: 4.84s\n",
      "268:\tlearn: 1172.9434293\ttotal: 39.6s\tremaining: 4.56s\n",
      "270:\tlearn: 1172.5261400\ttotal: 39.9s\tremaining: 4.27s\n",
      "272:\tlearn: 1172.1013383\ttotal: 40.2s\tremaining: 3.97s\n",
      "274:\tlearn: 1171.7558270\ttotal: 40.5s\tremaining: 3.68s\n",
      "276:\tlearn: 1171.4907882\ttotal: 40.8s\tremaining: 3.38s\n",
      "278:\tlearn: 1171.2177139\ttotal: 41s\tremaining: 3.08s\n",
      "280:\tlearn: 1170.7523116\ttotal: 41.2s\tremaining: 2.79s\n",
      "282:\tlearn: 1170.5086571\ttotal: 41.5s\tremaining: 2.49s\n",
      "284:\tlearn: 1170.1309020\ttotal: 41.8s\tremaining: 2.2s\n",
      "286:\tlearn: 1169.7069047\ttotal: 42.1s\tremaining: 1.91s\n",
      "288:\tlearn: 1169.1870773\ttotal: 42.4s\tremaining: 1.61s\n",
      "290:\tlearn: 1168.7732220\ttotal: 42.7s\tremaining: 1.32s\n",
      "292:\tlearn: 1168.4908219\ttotal: 43s\tremaining: 1.03s\n",
      "294:\tlearn: 1168.1878882\ttotal: 43.2s\tremaining: 733ms\n",
      "296:\tlearn: 1167.7894562\ttotal: 43.6s\tremaining: 440ms\n",
      "298:\tlearn: 1167.5533212\ttotal: 43.8s\tremaining: 147ms\n",
      "299:\tlearn: 1167.4107822\ttotal: 43.9s\tremaining: 0us\n",
      "[CV] END ..................iterations=300, learning_rate=0.1; total time=  44.7s\n",
      "0:\tlearn: 2480.6883579\ttotal: 150ms\tremaining: 45s\n",
      "2:\tlearn: 2215.1867808\ttotal: 416ms\tremaining: 41.2s\n",
      "4:\tlearn: 2010.4056530\ttotal: 663ms\tremaining: 39.1s\n",
      "6:\tlearn: 1849.8959666\ttotal: 914ms\tremaining: 38.3s\n",
      "8:\tlearn: 1727.7024431\ttotal: 1.19s\tremaining: 38.4s\n",
      "10:\tlearn: 1630.8361276\ttotal: 1.47s\tremaining: 38.5s\n",
      "12:\tlearn: 1558.9895909\ttotal: 1.71s\tremaining: 37.7s\n",
      "14:\tlearn: 1504.1735816\ttotal: 1.97s\tremaining: 37.5s\n",
      "16:\tlearn: 1458.2414480\ttotal: 2.2s\tremaining: 36.7s\n",
      "18:\tlearn: 1421.6802968\ttotal: 2.44s\tremaining: 36.1s\n",
      "20:\tlearn: 1394.5098504\ttotal: 2.69s\tremaining: 35.8s\n",
      "22:\tlearn: 1373.4779717\ttotal: 2.93s\tremaining: 35.2s\n",
      "24:\tlearn: 1356.0993898\ttotal: 3.19s\tremaining: 35.1s\n",
      "26:\tlearn: 1341.2365175\ttotal: 3.49s\tremaining: 35.3s\n",
      "28:\tlearn: 1329.5095346\ttotal: 3.77s\tremaining: 35.2s\n",
      "30:\tlearn: 1319.2796081\ttotal: 4.04s\tremaining: 35.1s\n",
      "32:\tlearn: 1311.7656492\ttotal: 4.31s\tremaining: 34.9s\n",
      "34:\tlearn: 1304.1816520\ttotal: 4.57s\tremaining: 34.6s\n",
      "36:\tlearn: 1297.7995618\ttotal: 4.86s\tremaining: 34.5s\n",
      "38:\tlearn: 1291.6869907\ttotal: 5.1s\tremaining: 34.1s\n",
      "40:\tlearn: 1286.5019891\ttotal: 5.36s\tremaining: 33.9s\n",
      "42:\tlearn: 1281.8515645\ttotal: 5.65s\tremaining: 33.8s\n",
      "44:\tlearn: 1278.3309064\ttotal: 5.92s\tremaining: 33.6s\n",
      "46:\tlearn: 1274.6040011\ttotal: 6.18s\tremaining: 33.3s\n",
      "48:\tlearn: 1271.5415799\ttotal: 6.46s\tremaining: 33.1s\n",
      "50:\tlearn: 1268.8281118\ttotal: 6.72s\tremaining: 32.8s\n",
      "52:\tlearn: 1266.5454485\ttotal: 7.04s\tremaining: 32.8s\n",
      "54:\tlearn: 1263.7797710\ttotal: 7.31s\tremaining: 32.6s\n",
      "56:\tlearn: 1261.0654623\ttotal: 7.58s\tremaining: 32.3s\n",
      "58:\tlearn: 1259.4532526\ttotal: 7.85s\tremaining: 32.1s\n",
      "60:\tlearn: 1257.6326488\ttotal: 8.2s\tremaining: 32.1s\n",
      "62:\tlearn: 1254.5738291\ttotal: 8.55s\tremaining: 32.2s\n",
      "64:\tlearn: 1252.3707396\ttotal: 9.07s\tremaining: 32.8s\n",
      "66:\tlearn: 1250.0030918\ttotal: 9.4s\tremaining: 32.7s\n",
      "68:\tlearn: 1248.2752412\ttotal: 9.77s\tremaining: 32.7s\n",
      "70:\tlearn: 1246.6875049\ttotal: 10.1s\tremaining: 32.7s\n",
      "72:\tlearn: 1244.4781972\ttotal: 10.6s\tremaining: 32.8s\n",
      "74:\tlearn: 1242.2251079\ttotal: 10.9s\tremaining: 32.6s\n",
      "76:\tlearn: 1240.9086047\ttotal: 11.2s\tremaining: 32.5s\n",
      "78:\tlearn: 1239.5665995\ttotal: 11.5s\tremaining: 32.2s\n",
      "80:\tlearn: 1237.7727367\ttotal: 11.8s\tremaining: 31.9s\n",
      "82:\tlearn: 1236.3227841\ttotal: 12s\tremaining: 31.4s\n",
      "84:\tlearn: 1234.7359612\ttotal: 12.3s\tremaining: 31.1s\n",
      "86:\tlearn: 1233.4090352\ttotal: 12.6s\tremaining: 30.8s\n",
      "88:\tlearn: 1232.1231397\ttotal: 12.8s\tremaining: 30.4s\n",
      "90:\tlearn: 1230.5076871\ttotal: 13.1s\tremaining: 30.1s\n",
      "92:\tlearn: 1229.5169326\ttotal: 13.4s\tremaining: 29.8s\n",
      "94:\tlearn: 1228.4452883\ttotal: 13.7s\tremaining: 29.6s\n",
      "96:\tlearn: 1227.2844820\ttotal: 14s\tremaining: 29.3s\n",
      "98:\tlearn: 1225.9673401\ttotal: 14.3s\tremaining: 29s\n",
      "100:\tlearn: 1224.9805519\ttotal: 14.5s\tremaining: 28.7s\n",
      "102:\tlearn: 1223.8095219\ttotal: 14.8s\tremaining: 28.3s\n",
      "104:\tlearn: 1222.5853542\ttotal: 15.1s\tremaining: 28s\n",
      "106:\tlearn: 1221.4045479\ttotal: 15.4s\tremaining: 27.7s\n",
      "108:\tlearn: 1220.2451201\ttotal: 15.6s\tremaining: 27.4s\n",
      "110:\tlearn: 1219.4046898\ttotal: 15.9s\tremaining: 27s\n",
      "112:\tlearn: 1218.0667725\ttotal: 16.2s\tremaining: 26.7s\n",
      "114:\tlearn: 1217.2060726\ttotal: 16.4s\tremaining: 26.4s\n",
      "116:\tlearn: 1216.3187756\ttotal: 16.7s\tremaining: 26.1s\n",
      "118:\tlearn: 1215.5579156\ttotal: 16.9s\tremaining: 25.8s\n",
      "120:\tlearn: 1214.9849657\ttotal: 17.2s\tremaining: 25.5s\n",
      "122:\tlearn: 1213.8638499\ttotal: 17.6s\tremaining: 25.3s\n",
      "124:\tlearn: 1212.6638204\ttotal: 17.9s\tremaining: 25.1s\n",
      "126:\tlearn: 1211.9987696\ttotal: 18.2s\tremaining: 24.8s\n",
      "128:\tlearn: 1210.9576441\ttotal: 18.5s\tremaining: 24.6s\n",
      "130:\tlearn: 1210.4053265\ttotal: 18.8s\tremaining: 24.2s\n",
      "132:\tlearn: 1209.5689443\ttotal: 19.1s\tremaining: 24s\n",
      "134:\tlearn: 1208.6739183\ttotal: 19.4s\tremaining: 23.7s\n",
      "136:\tlearn: 1208.1646296\ttotal: 19.6s\tremaining: 23.4s\n",
      "138:\tlearn: 1207.0937686\ttotal: 19.9s\tremaining: 23.1s\n",
      "140:\tlearn: 1206.0637016\ttotal: 20.2s\tremaining: 22.7s\n",
      "142:\tlearn: 1205.5982410\ttotal: 20.4s\tremaining: 22.4s\n",
      "144:\tlearn: 1204.7465332\ttotal: 20.7s\tremaining: 22.1s\n",
      "146:\tlearn: 1203.8083413\ttotal: 21s\tremaining: 21.8s\n",
      "148:\tlearn: 1202.7603580\ttotal: 21.4s\tremaining: 21.7s\n",
      "150:\tlearn: 1201.7717504\ttotal: 21.9s\tremaining: 21.6s\n",
      "152:\tlearn: 1201.0601288\ttotal: 22.2s\tremaining: 21.4s\n",
      "154:\tlearn: 1200.3646242\ttotal: 22.5s\tremaining: 21.1s\n",
      "156:\tlearn: 1199.6076834\ttotal: 22.8s\tremaining: 20.8s\n",
      "158:\tlearn: 1198.9293676\ttotal: 23s\tremaining: 20.4s\n",
      "160:\tlearn: 1198.1811148\ttotal: 23.3s\tremaining: 20.1s\n",
      "162:\tlearn: 1197.8173824\ttotal: 23.6s\tremaining: 19.9s\n",
      "164:\tlearn: 1196.5227882\ttotal: 23.9s\tremaining: 19.6s\n",
      "166:\tlearn: 1195.6543609\ttotal: 24.2s\tremaining: 19.2s\n",
      "168:\tlearn: 1194.6553923\ttotal: 24.5s\tremaining: 19s\n",
      "170:\tlearn: 1193.7601419\ttotal: 24.8s\tremaining: 18.7s\n",
      "172:\tlearn: 1193.0712487\ttotal: 25.1s\tremaining: 18.5s\n",
      "174:\tlearn: 1192.4349999\ttotal: 25.4s\tremaining: 18.2s\n",
      "176:\tlearn: 1191.7657541\ttotal: 25.8s\tremaining: 17.9s\n",
      "178:\tlearn: 1191.2838839\ttotal: 26.1s\tremaining: 17.7s\n",
      "180:\tlearn: 1190.8609112\ttotal: 26.4s\tremaining: 17.4s\n",
      "182:\tlearn: 1190.2885014\ttotal: 26.7s\tremaining: 17.1s\n",
      "184:\tlearn: 1189.6111797\ttotal: 27s\tremaining: 16.8s\n",
      "186:\tlearn: 1188.8860938\ttotal: 27.4s\tremaining: 16.5s\n",
      "188:\tlearn: 1188.4607936\ttotal: 27.7s\tremaining: 16.3s\n",
      "190:\tlearn: 1188.0495020\ttotal: 28s\tremaining: 16s\n",
      "192:\tlearn: 1187.4172613\ttotal: 28.3s\tremaining: 15.7s\n",
      "194:\tlearn: 1186.6759582\ttotal: 28.6s\tremaining: 15.4s\n",
      "196:\tlearn: 1186.0276278\ttotal: 28.9s\tremaining: 15.1s\n",
      "198:\tlearn: 1185.7041599\ttotal: 29.1s\tremaining: 14.8s\n",
      "200:\tlearn: 1184.9840210\ttotal: 29.3s\tremaining: 14.4s\n",
      "202:\tlearn: 1184.5038358\ttotal: 29.6s\tremaining: 14.1s\n",
      "204:\tlearn: 1183.6694880\ttotal: 29.9s\tremaining: 13.9s\n",
      "206:\tlearn: 1182.8235648\ttotal: 30.2s\tremaining: 13.6s\n",
      "208:\tlearn: 1181.8588630\ttotal: 30.5s\tremaining: 13.3s\n",
      "210:\tlearn: 1181.3678882\ttotal: 30.7s\tremaining: 12.9s\n",
      "212:\tlearn: 1180.7955927\ttotal: 31s\tremaining: 12.7s\n",
      "214:\tlearn: 1180.3135496\ttotal: 31.3s\tremaining: 12.4s\n",
      "216:\tlearn: 1179.8548263\ttotal: 31.5s\tremaining: 12s\n",
      "218:\tlearn: 1179.4812185\ttotal: 31.8s\tremaining: 11.7s\n",
      "220:\tlearn: 1178.7858376\ttotal: 32.1s\tremaining: 11.5s\n",
      "222:\tlearn: 1178.2781836\ttotal: 32.3s\tremaining: 11.2s\n",
      "224:\tlearn: 1177.9216267\ttotal: 32.5s\tremaining: 10.8s\n",
      "226:\tlearn: 1177.4643431\ttotal: 32.7s\tremaining: 10.5s\n",
      "228:\tlearn: 1177.0233213\ttotal: 33s\tremaining: 10.2s\n",
      "230:\tlearn: 1176.4187656\ttotal: 33.3s\tremaining: 9.93s\n",
      "232:\tlearn: 1175.9491634\ttotal: 33.5s\tremaining: 9.65s\n",
      "234:\tlearn: 1175.6150333\ttotal: 33.9s\tremaining: 9.37s\n",
      "236:\tlearn: 1175.2184306\ttotal: 34.1s\tremaining: 9.07s\n",
      "238:\tlearn: 1174.7789628\ttotal: 34.4s\tremaining: 8.78s\n",
      "240:\tlearn: 1174.4801463\ttotal: 34.6s\tremaining: 8.48s\n",
      "242:\tlearn: 1174.0722771\ttotal: 34.9s\tremaining: 8.18s\n",
      "244:\tlearn: 1173.6318730\ttotal: 35.2s\tremaining: 7.89s\n",
      "246:\tlearn: 1173.0461234\ttotal: 35.5s\tremaining: 7.61s\n",
      "248:\tlearn: 1172.8038370\ttotal: 35.8s\tremaining: 7.33s\n",
      "250:\tlearn: 1172.6110392\ttotal: 36s\tremaining: 7.04s\n",
      "252:\tlearn: 1172.1933164\ttotal: 36.3s\tremaining: 6.75s\n",
      "254:\tlearn: 1171.9149269\ttotal: 36.6s\tremaining: 6.46s\n",
      "256:\tlearn: 1171.4931453\ttotal: 36.9s\tremaining: 6.18s\n",
      "258:\tlearn: 1171.0784529\ttotal: 37.2s\tremaining: 5.89s\n",
      "260:\tlearn: 1170.5631859\ttotal: 37.5s\tremaining: 5.6s\n",
      "262:\tlearn: 1170.1003284\ttotal: 37.8s\tremaining: 5.31s\n",
      "264:\tlearn: 1169.8063649\ttotal: 38.1s\tremaining: 5.03s\n",
      "266:\tlearn: 1169.4769400\ttotal: 38.4s\tremaining: 4.74s\n",
      "268:\tlearn: 1169.1941151\ttotal: 38.6s\tremaining: 4.45s\n",
      "270:\tlearn: 1168.9197450\ttotal: 38.9s\tremaining: 4.16s\n",
      "272:\tlearn: 1168.7022177\ttotal: 39.2s\tremaining: 3.88s\n",
      "274:\tlearn: 1168.4288874\ttotal: 39.4s\tremaining: 3.59s\n",
      "276:\tlearn: 1168.0564442\ttotal: 39.7s\tremaining: 3.3s\n",
      "278:\tlearn: 1167.6530975\ttotal: 40s\tremaining: 3.01s\n",
      "280:\tlearn: 1167.4138454\ttotal: 40.4s\tremaining: 2.73s\n",
      "282:\tlearn: 1167.1129426\ttotal: 40.8s\tremaining: 2.45s\n",
      "284:\tlearn: 1166.4745945\ttotal: 41.1s\tremaining: 2.16s\n",
      "286:\tlearn: 1166.1938367\ttotal: 41.4s\tremaining: 1.88s\n",
      "288:\tlearn: 1165.8459632\ttotal: 41.7s\tremaining: 1.59s\n",
      "290:\tlearn: 1165.3934485\ttotal: 42s\tremaining: 1.3s\n",
      "292:\tlearn: 1164.9318408\ttotal: 42.4s\tremaining: 1.01s\n",
      "294:\tlearn: 1164.4169809\ttotal: 42.8s\tremaining: 725ms\n",
      "296:\tlearn: 1164.1745656\ttotal: 43.1s\tremaining: 435ms\n",
      "298:\tlearn: 1163.8518944\ttotal: 43.5s\tremaining: 145ms\n",
      "299:\tlearn: 1163.4849160\ttotal: 43.7s\tremaining: 0us\n",
      "[CV] END ..................iterations=300, learning_rate=0.1; total time=  44.4s\n",
      "0:\tlearn: 2470.5463561\ttotal: 145ms\tremaining: 43.4s\n",
      "2:\tlearn: 2202.9169046\ttotal: 444ms\tremaining: 44s\n",
      "4:\tlearn: 1999.0138109\ttotal: 733ms\tremaining: 43.2s\n",
      "6:\tlearn: 1843.0198772\ttotal: 963ms\tremaining: 40.3s\n",
      "8:\tlearn: 1722.5362029\ttotal: 1.2s\tremaining: 38.7s\n",
      "10:\tlearn: 1626.6446160\ttotal: 1.42s\tremaining: 37.2s\n",
      "12:\tlearn: 1550.5072296\ttotal: 1.7s\tremaining: 37.6s\n",
      "14:\tlearn: 1494.3318405\ttotal: 1.98s\tremaining: 37.7s\n",
      "16:\tlearn: 1452.1703265\ttotal: 2.23s\tremaining: 37.1s\n",
      "18:\tlearn: 1417.8534005\ttotal: 2.44s\tremaining: 36.1s\n",
      "20:\tlearn: 1390.4720617\ttotal: 2.7s\tremaining: 35.9s\n",
      "22:\tlearn: 1367.8599059\ttotal: 2.94s\tremaining: 35.5s\n",
      "24:\tlearn: 1348.5518279\ttotal: 3.19s\tremaining: 35.1s\n",
      "26:\tlearn: 1334.9258999\ttotal: 3.46s\tremaining: 35s\n",
      "28:\tlearn: 1322.5836319\ttotal: 3.75s\tremaining: 35.1s\n",
      "30:\tlearn: 1312.5124976\ttotal: 4s\tremaining: 34.7s\n",
      "32:\tlearn: 1304.7356002\ttotal: 4.23s\tremaining: 34.2s\n",
      "34:\tlearn: 1297.5582093\ttotal: 4.49s\tremaining: 34s\n",
      "36:\tlearn: 1291.5970226\ttotal: 4.72s\tremaining: 33.6s\n",
      "38:\tlearn: 1286.4842170\ttotal: 4.98s\tremaining: 33.3s\n",
      "40:\tlearn: 1281.0418249\ttotal: 5.25s\tremaining: 33.2s\n",
      "42:\tlearn: 1276.4785769\ttotal: 5.49s\tremaining: 32.8s\n",
      "44:\tlearn: 1272.4547391\ttotal: 5.72s\tremaining: 32.4s\n",
      "46:\tlearn: 1268.5582069\ttotal: 6.05s\tremaining: 32.6s\n",
      "48:\tlearn: 1265.6008920\ttotal: 6.29s\tremaining: 32.2s\n",
      "50:\tlearn: 1262.8480576\ttotal: 6.58s\tremaining: 32.1s\n",
      "52:\tlearn: 1260.5007562\ttotal: 6.84s\tremaining: 31.9s\n",
      "54:\tlearn: 1258.0800135\ttotal: 7.14s\tremaining: 31.8s\n",
      "56:\tlearn: 1255.0946864\ttotal: 7.4s\tremaining: 31.6s\n",
      "58:\tlearn: 1253.0030408\ttotal: 7.69s\tremaining: 31.4s\n",
      "60:\tlearn: 1250.8831837\ttotal: 7.99s\tremaining: 31.3s\n",
      "62:\tlearn: 1248.0198138\ttotal: 8.3s\tremaining: 31.2s\n",
      "64:\tlearn: 1245.9543145\ttotal: 8.58s\tremaining: 31s\n",
      "66:\tlearn: 1244.5780815\ttotal: 8.86s\tremaining: 30.8s\n",
      "68:\tlearn: 1242.8344591\ttotal: 9.13s\tremaining: 30.6s\n",
      "70:\tlearn: 1240.4070765\ttotal: 9.42s\tremaining: 30.4s\n",
      "72:\tlearn: 1238.5702150\ttotal: 9.67s\tremaining: 30.1s\n",
      "74:\tlearn: 1236.9926427\ttotal: 9.92s\tremaining: 29.8s\n",
      "76:\tlearn: 1235.0264519\ttotal: 10.2s\tremaining: 29.6s\n",
      "78:\tlearn: 1232.4545203\ttotal: 10.5s\tremaining: 29.4s\n",
      "80:\tlearn: 1230.6232596\ttotal: 10.7s\tremaining: 29s\n",
      "82:\tlearn: 1229.0714944\ttotal: 11s\tremaining: 28.8s\n",
      "84:\tlearn: 1227.4437314\ttotal: 11.2s\tremaining: 28.5s\n",
      "86:\tlearn: 1226.1503619\ttotal: 11.6s\tremaining: 28.3s\n",
      "88:\tlearn: 1225.3495480\ttotal: 11.9s\tremaining: 28.2s\n",
      "90:\tlearn: 1223.8545503\ttotal: 12.2s\tremaining: 28s\n",
      "92:\tlearn: 1222.3676944\ttotal: 12.5s\tremaining: 27.8s\n",
      "94:\tlearn: 1221.4671356\ttotal: 12.8s\tremaining: 27.7s\n",
      "96:\tlearn: 1220.6133013\ttotal: 13.1s\tremaining: 27.4s\n",
      "98:\tlearn: 1218.8364686\ttotal: 13.4s\tremaining: 27.2s\n",
      "100:\tlearn: 1217.9365096\ttotal: 13.7s\tremaining: 27s\n",
      "102:\tlearn: 1216.6962572\ttotal: 14.1s\tremaining: 27s\n",
      "104:\tlearn: 1215.6610835\ttotal: 14.4s\tremaining: 26.8s\n",
      "106:\tlearn: 1214.6520914\ttotal: 14.8s\tremaining: 26.7s\n",
      "108:\tlearn: 1213.6201205\ttotal: 15.1s\tremaining: 26.4s\n",
      "110:\tlearn: 1212.9595717\ttotal: 15.3s\tremaining: 26.1s\n",
      "112:\tlearn: 1211.5378616\ttotal: 15.6s\tremaining: 25.8s\n",
      "114:\tlearn: 1210.1077643\ttotal: 15.9s\tremaining: 25.6s\n",
      "116:\tlearn: 1209.0014829\ttotal: 16.2s\tremaining: 25.3s\n",
      "118:\tlearn: 1208.3896469\ttotal: 16.5s\tremaining: 25.1s\n",
      "120:\tlearn: 1207.6402121\ttotal: 16.8s\tremaining: 24.8s\n",
      "122:\tlearn: 1206.5404146\ttotal: 17s\tremaining: 24.5s\n",
      "124:\tlearn: 1205.7449459\ttotal: 17.3s\tremaining: 24.3s\n",
      "126:\tlearn: 1204.8360757\ttotal: 17.6s\tremaining: 24s\n",
      "128:\tlearn: 1204.0779534\ttotal: 17.9s\tremaining: 23.8s\n",
      "130:\tlearn: 1203.1536926\ttotal: 18.3s\tremaining: 23.6s\n",
      "132:\tlearn: 1202.3807663\ttotal: 18.6s\tremaining: 23.4s\n",
      "134:\tlearn: 1201.5957217\ttotal: 18.9s\tremaining: 23.1s\n",
      "136:\tlearn: 1200.8268948\ttotal: 19.2s\tremaining: 22.9s\n",
      "138:\tlearn: 1200.2286450\ttotal: 19.6s\tremaining: 22.7s\n",
      "140:\tlearn: 1199.1865804\ttotal: 20s\tremaining: 22.6s\n",
      "142:\tlearn: 1198.4142250\ttotal: 20.4s\tremaining: 22.4s\n",
      "144:\tlearn: 1197.9161386\ttotal: 20.8s\tremaining: 22.2s\n",
      "146:\tlearn: 1196.8987729\ttotal: 21.1s\tremaining: 22s\n",
      "148:\tlearn: 1195.8705279\ttotal: 21.4s\tremaining: 21.7s\n",
      "150:\tlearn: 1195.3976166\ttotal: 21.7s\tremaining: 21.4s\n",
      "152:\tlearn: 1194.4889711\ttotal: 22s\tremaining: 21.1s\n",
      "154:\tlearn: 1193.6319511\ttotal: 22.3s\tremaining: 20.8s\n",
      "156:\tlearn: 1192.5946864\ttotal: 22.5s\tremaining: 20.5s\n",
      "158:\tlearn: 1191.9228993\ttotal: 22.8s\tremaining: 20.2s\n",
      "160:\tlearn: 1191.0690320\ttotal: 23.1s\tremaining: 19.9s\n",
      "162:\tlearn: 1190.2094598\ttotal: 23.4s\tremaining: 19.6s\n",
      "164:\tlearn: 1189.7304380\ttotal: 23.7s\tremaining: 19.4s\n",
      "166:\tlearn: 1189.1395815\ttotal: 24s\tremaining: 19.1s\n",
      "168:\tlearn: 1188.6734043\ttotal: 24.6s\tremaining: 19s\n",
      "170:\tlearn: 1187.4396095\ttotal: 24.9s\tremaining: 18.8s\n",
      "172:\tlearn: 1186.6221473\ttotal: 25.2s\tremaining: 18.5s\n",
      "174:\tlearn: 1185.9527247\ttotal: 25.5s\tremaining: 18.2s\n",
      "176:\tlearn: 1185.5382323\ttotal: 25.7s\tremaining: 17.9s\n",
      "178:\tlearn: 1184.5548773\ttotal: 26s\tremaining: 17.6s\n",
      "180:\tlearn: 1183.8980140\ttotal: 26.3s\tremaining: 17.3s\n",
      "182:\tlearn: 1183.1244684\ttotal: 26.6s\tremaining: 17s\n",
      "184:\tlearn: 1182.5495286\ttotal: 26.9s\tremaining: 16.7s\n",
      "186:\tlearn: 1182.0483962\ttotal: 27.2s\tremaining: 16.4s\n",
      "188:\tlearn: 1181.8017765\ttotal: 27.6s\tremaining: 16.2s\n",
      "190:\tlearn: 1181.2392475\ttotal: 28s\tremaining: 16s\n",
      "192:\tlearn: 1180.4712507\ttotal: 28.4s\tremaining: 15.7s\n",
      "194:\tlearn: 1179.9651574\ttotal: 28.8s\tremaining: 15.5s\n",
      "196:\tlearn: 1179.2822534\ttotal: 29.1s\tremaining: 15.2s\n",
      "198:\tlearn: 1178.7861713\ttotal: 29.5s\tremaining: 15s\n",
      "200:\tlearn: 1178.3165593\ttotal: 29.8s\tremaining: 14.7s\n",
      "202:\tlearn: 1177.7824789\ttotal: 30.1s\tremaining: 14.4s\n",
      "204:\tlearn: 1177.2142456\ttotal: 30.4s\tremaining: 14.1s\n",
      "206:\tlearn: 1176.8579025\ttotal: 30.8s\tremaining: 13.8s\n",
      "208:\tlearn: 1176.5555283\ttotal: 31.2s\tremaining: 13.6s\n",
      "210:\tlearn: 1175.9836164\ttotal: 31.5s\tremaining: 13.3s\n",
      "212:\tlearn: 1175.4042911\ttotal: 31.8s\tremaining: 13s\n",
      "214:\tlearn: 1174.9369850\ttotal: 32.1s\tremaining: 12.7s\n",
      "216:\tlearn: 1174.4172542\ttotal: 32.4s\tremaining: 12.4s\n",
      "218:\tlearn: 1173.5831944\ttotal: 32.7s\tremaining: 12.1s\n",
      "220:\tlearn: 1173.0718923\ttotal: 33s\tremaining: 11.8s\n",
      "222:\tlearn: 1172.6948004\ttotal: 33.3s\tremaining: 11.5s\n",
      "224:\tlearn: 1172.1767723\ttotal: 33.8s\tremaining: 11.3s\n",
      "226:\tlearn: 1171.7249747\ttotal: 34.2s\tremaining: 11s\n",
      "228:\tlearn: 1171.3484612\ttotal: 34.7s\tremaining: 10.7s\n",
      "230:\tlearn: 1170.8121938\ttotal: 35s\tremaining: 10.5s\n",
      "232:\tlearn: 1170.3956383\ttotal: 35.3s\tremaining: 10.1s\n",
      "234:\tlearn: 1169.9112219\ttotal: 35.5s\tremaining: 9.83s\n",
      "236:\tlearn: 1169.6333661\ttotal: 35.9s\tremaining: 9.53s\n",
      "238:\tlearn: 1169.2996415\ttotal: 36.2s\tremaining: 9.25s\n",
      "240:\tlearn: 1168.7180388\ttotal: 36.5s\tremaining: 8.95s\n",
      "242:\tlearn: 1168.4751752\ttotal: 36.8s\tremaining: 8.64s\n",
      "244:\tlearn: 1168.2202786\ttotal: 37.1s\tremaining: 8.32s\n",
      "246:\tlearn: 1167.6971728\ttotal: 37.5s\tremaining: 8.04s\n",
      "248:\tlearn: 1167.2404841\ttotal: 37.8s\tremaining: 7.75s\n",
      "250:\tlearn: 1166.8441039\ttotal: 38.1s\tremaining: 7.44s\n",
      "252:\tlearn: 1166.5844981\ttotal: 38.5s\tremaining: 7.14s\n",
      "254:\tlearn: 1166.3660212\ttotal: 38.8s\tremaining: 6.84s\n",
      "256:\tlearn: 1165.8947523\ttotal: 39s\tremaining: 6.53s\n",
      "258:\tlearn: 1165.1273791\ttotal: 39.3s\tremaining: 6.23s\n",
      "260:\tlearn: 1164.8630614\ttotal: 39.6s\tremaining: 5.92s\n",
      "262:\tlearn: 1164.5234055\ttotal: 39.9s\tremaining: 5.62s\n",
      "264:\tlearn: 1164.1407572\ttotal: 40.2s\tremaining: 5.31s\n",
      "266:\tlearn: 1163.8229942\ttotal: 40.5s\tremaining: 5.01s\n",
      "268:\tlearn: 1163.4133253\ttotal: 40.8s\tremaining: 4.7s\n",
      "270:\tlearn: 1163.0660732\ttotal: 41s\tremaining: 4.39s\n",
      "272:\tlearn: 1162.7225248\ttotal: 41.3s\tremaining: 4.09s\n",
      "274:\tlearn: 1162.1787855\ttotal: 41.6s\tremaining: 3.78s\n",
      "276:\tlearn: 1161.8179849\ttotal: 41.9s\tremaining: 3.48s\n",
      "278:\tlearn: 1161.4262168\ttotal: 42.2s\tremaining: 3.17s\n",
      "280:\tlearn: 1161.1081415\ttotal: 42.5s\tremaining: 2.87s\n",
      "282:\tlearn: 1160.7419038\ttotal: 42.8s\tremaining: 2.57s\n",
      "284:\tlearn: 1160.4239472\ttotal: 43s\tremaining: 2.26s\n",
      "286:\tlearn: 1160.2375764\ttotal: 43.3s\tremaining: 1.96s\n",
      "288:\tlearn: 1159.9940441\ttotal: 43.7s\tremaining: 1.66s\n",
      "290:\tlearn: 1159.7022881\ttotal: 44.1s\tremaining: 1.36s\n",
      "292:\tlearn: 1159.4829345\ttotal: 44.5s\tremaining: 1.06s\n",
      "294:\tlearn: 1159.1114540\ttotal: 44.9s\tremaining: 762ms\n",
      "296:\tlearn: 1158.7584548\ttotal: 45.3s\tremaining: 457ms\n",
      "298:\tlearn: 1158.5019550\ttotal: 45.6s\tremaining: 153ms\n",
      "299:\tlearn: 1158.3530980\ttotal: 45.8s\tremaining: 0us\n",
      "[CV] END ..................iterations=300, learning_rate=0.1; total time=  46.8s\n",
      "0:\tlearn: 2180.9341011\ttotal: 150ms\tremaining: 45s\n",
      "2:\tlearn: 1687.9996186\ttotal: 442ms\tremaining: 43.8s\n",
      "4:\tlearn: 1477.0660724\ttotal: 688ms\tremaining: 40.6s\n",
      "6:\tlearn: 1378.9674045\ttotal: 997ms\tremaining: 41.7s\n",
      "8:\tlearn: 1338.7127737\ttotal: 1.24s\tremaining: 40.2s\n",
      "10:\tlearn: 1314.3232602\ttotal: 1.51s\tremaining: 39.6s\n",
      "12:\tlearn: 1297.4705387\ttotal: 1.81s\tremaining: 39.9s\n",
      "14:\tlearn: 1285.4319463\ttotal: 2.07s\tremaining: 39.3s\n",
      "16:\tlearn: 1274.8798316\ttotal: 2.34s\tremaining: 39s\n",
      "18:\tlearn: 1267.4511894\ttotal: 2.57s\tremaining: 38.1s\n",
      "20:\tlearn: 1263.1640754\ttotal: 2.94s\tremaining: 39s\n",
      "22:\tlearn: 1257.0276820\ttotal: 3.28s\tremaining: 39.5s\n",
      "24:\tlearn: 1252.6992203\ttotal: 3.64s\tremaining: 40s\n",
      "26:\tlearn: 1249.7962450\ttotal: 3.98s\tremaining: 40.2s\n",
      "28:\tlearn: 1242.6974349\ttotal: 4.3s\tremaining: 40.2s\n",
      "30:\tlearn: 1238.1004803\ttotal: 4.6s\tremaining: 39.9s\n",
      "32:\tlearn: 1234.0898768\ttotal: 4.82s\tremaining: 39s\n",
      "34:\tlearn: 1230.5361973\ttotal: 5.1s\tremaining: 38.6s\n",
      "36:\tlearn: 1228.3387804\ttotal: 5.38s\tremaining: 38.2s\n",
      "38:\tlearn: 1224.5069077\ttotal: 5.64s\tremaining: 37.8s\n",
      "40:\tlearn: 1222.1856038\ttotal: 5.87s\tremaining: 37.1s\n",
      "42:\tlearn: 1218.1458514\ttotal: 6.19s\tremaining: 37s\n",
      "44:\tlearn: 1215.6535286\ttotal: 6.49s\tremaining: 36.8s\n",
      "46:\tlearn: 1213.6087547\ttotal: 6.79s\tremaining: 36.5s\n",
      "48:\tlearn: 1210.8736261\ttotal: 7.12s\tremaining: 36.5s\n",
      "50:\tlearn: 1208.6263952\ttotal: 7.38s\tremaining: 36.1s\n",
      "52:\tlearn: 1206.1272265\ttotal: 7.67s\tremaining: 35.7s\n",
      "54:\tlearn: 1204.0826505\ttotal: 7.97s\tremaining: 35.5s\n",
      "56:\tlearn: 1202.0563114\ttotal: 8.25s\tremaining: 35.2s\n",
      "58:\tlearn: 1199.7368175\ttotal: 8.51s\tremaining: 34.8s\n",
      "60:\tlearn: 1198.6495848\ttotal: 8.73s\tremaining: 34.2s\n",
      "62:\tlearn: 1196.9421239\ttotal: 8.98s\tremaining: 33.8s\n",
      "64:\tlearn: 1195.6335153\ttotal: 9.28s\tremaining: 33.6s\n",
      "66:\tlearn: 1193.6378435\ttotal: 9.55s\tremaining: 33.2s\n",
      "68:\tlearn: 1192.0404070\ttotal: 9.83s\tremaining: 32.9s\n",
      "70:\tlearn: 1190.2741612\ttotal: 10.1s\tremaining: 32.6s\n",
      "72:\tlearn: 1188.9328252\ttotal: 10.3s\tremaining: 32.1s\n",
      "74:\tlearn: 1186.3556797\ttotal: 10.6s\tremaining: 31.9s\n",
      "76:\tlearn: 1185.2142155\ttotal: 10.9s\tremaining: 31.6s\n",
      "78:\tlearn: 1183.8665456\ttotal: 11.2s\tremaining: 31.3s\n",
      "80:\tlearn: 1183.2131766\ttotal: 11.5s\tremaining: 31.1s\n",
      "82:\tlearn: 1181.7941284\ttotal: 11.8s\tremaining: 30.8s\n",
      "84:\tlearn: 1180.8835455\ttotal: 12s\tremaining: 30.5s\n",
      "86:\tlearn: 1180.1834676\ttotal: 12.3s\tremaining: 30.1s\n",
      "88:\tlearn: 1179.0866890\ttotal: 12.6s\tremaining: 29.8s\n",
      "90:\tlearn: 1178.0017822\ttotal: 12.9s\tremaining: 29.6s\n",
      "92:\tlearn: 1176.9705214\ttotal: 13.2s\tremaining: 29.3s\n",
      "94:\tlearn: 1175.6395155\ttotal: 13.5s\tremaining: 29.1s\n",
      "96:\tlearn: 1174.5785408\ttotal: 13.8s\tremaining: 28.8s\n",
      "98:\tlearn: 1173.6658427\ttotal: 14.1s\tremaining: 28.6s\n",
      "100:\tlearn: 1172.6604825\ttotal: 14.4s\tremaining: 28.4s\n",
      "102:\tlearn: 1171.8972740\ttotal: 14.7s\tremaining: 28.1s\n",
      "104:\tlearn: 1170.8377807\ttotal: 15s\tremaining: 27.8s\n",
      "106:\tlearn: 1169.8110065\ttotal: 15.3s\tremaining: 27.6s\n",
      "108:\tlearn: 1169.2651488\ttotal: 15.7s\tremaining: 27.5s\n",
      "110:\tlearn: 1168.6438867\ttotal: 16.1s\tremaining: 27.4s\n",
      "112:\tlearn: 1167.2987558\ttotal: 16.4s\tremaining: 27.2s\n",
      "114:\tlearn: 1166.5764911\ttotal: 16.8s\tremaining: 27s\n",
      "116:\tlearn: 1165.5617994\ttotal: 17.1s\tremaining: 26.7s\n",
      "118:\tlearn: 1164.5734149\ttotal: 17.4s\tremaining: 26.4s\n",
      "120:\tlearn: 1163.7798789\ttotal: 17.7s\tremaining: 26.1s\n",
      "122:\tlearn: 1163.0280253\ttotal: 17.9s\tremaining: 25.8s\n",
      "124:\tlearn: 1162.2884282\ttotal: 18.2s\tremaining: 25.5s\n",
      "126:\tlearn: 1161.5736353\ttotal: 18.5s\tremaining: 25.2s\n",
      "128:\tlearn: 1160.3182221\ttotal: 18.8s\tremaining: 24.9s\n",
      "130:\tlearn: 1159.6281931\ttotal: 19.1s\tremaining: 24.6s\n",
      "132:\tlearn: 1159.1469874\ttotal: 19.3s\tremaining: 24.3s\n",
      "134:\tlearn: 1158.6477670\ttotal: 19.6s\tremaining: 24s\n",
      "136:\tlearn: 1157.9813284\ttotal: 20s\tremaining: 23.8s\n",
      "138:\tlearn: 1157.1369843\ttotal: 20.3s\tremaining: 23.5s\n",
      "140:\tlearn: 1156.1013979\ttotal: 20.6s\tremaining: 23.2s\n",
      "142:\tlearn: 1155.4769424\ttotal: 20.8s\tremaining: 22.9s\n",
      "144:\tlearn: 1154.7564008\ttotal: 21.1s\tremaining: 22.6s\n",
      "146:\tlearn: 1153.7867774\ttotal: 21.4s\tremaining: 22.3s\n",
      "148:\tlearn: 1152.9890839\ttotal: 21.7s\tremaining: 22s\n",
      "150:\tlearn: 1152.5303563\ttotal: 22.1s\tremaining: 21.8s\n",
      "152:\tlearn: 1151.6729372\ttotal: 22.3s\tremaining: 21.4s\n",
      "154:\tlearn: 1151.2279491\ttotal: 22.5s\tremaining: 21.1s\n",
      "156:\tlearn: 1150.5455196\ttotal: 22.8s\tremaining: 20.8s\n",
      "158:\tlearn: 1149.8937355\ttotal: 23.2s\tremaining: 20.6s\n",
      "160:\tlearn: 1149.4489521\ttotal: 23.5s\tremaining: 20.3s\n",
      "162:\tlearn: 1149.0136319\ttotal: 23.8s\tremaining: 20s\n",
      "164:\tlearn: 1148.4509460\ttotal: 24s\tremaining: 19.7s\n",
      "166:\tlearn: 1147.7033987\ttotal: 24.3s\tremaining: 19.4s\n",
      "168:\tlearn: 1146.9209537\ttotal: 24.6s\tremaining: 19.1s\n",
      "170:\tlearn: 1146.5616464\ttotal: 24.8s\tremaining: 18.7s\n",
      "172:\tlearn: 1145.7256841\ttotal: 25.1s\tremaining: 18.4s\n",
      "174:\tlearn: 1145.0508567\ttotal: 25.4s\tremaining: 18.2s\n",
      "176:\tlearn: 1144.5338101\ttotal: 25.7s\tremaining: 17.8s\n",
      "178:\tlearn: 1143.8378784\ttotal: 25.9s\tremaining: 17.5s\n",
      "180:\tlearn: 1143.5156193\ttotal: 26.2s\tremaining: 17.2s\n",
      "182:\tlearn: 1142.7657548\ttotal: 26.5s\tremaining: 16.9s\n",
      "184:\tlearn: 1142.5054595\ttotal: 26.8s\tremaining: 16.7s\n",
      "186:\tlearn: 1141.9166460\ttotal: 27.1s\tremaining: 16.4s\n",
      "188:\tlearn: 1141.1344252\ttotal: 27.4s\tremaining: 16.1s\n",
      "190:\tlearn: 1140.7915721\ttotal: 27.6s\tremaining: 15.8s\n",
      "192:\tlearn: 1140.2933623\ttotal: 28s\tremaining: 15.5s\n",
      "194:\tlearn: 1139.7998198\ttotal: 28.3s\tremaining: 15.2s\n",
      "196:\tlearn: 1139.5657591\ttotal: 28.6s\tremaining: 15s\n",
      "198:\tlearn: 1139.2021693\ttotal: 29s\tremaining: 14.7s\n",
      "200:\tlearn: 1138.3916334\ttotal: 29.4s\tremaining: 14.5s\n",
      "202:\tlearn: 1137.9111771\ttotal: 29.7s\tremaining: 14.2s\n",
      "204:\tlearn: 1136.9496397\ttotal: 30.1s\tremaining: 13.9s\n",
      "206:\tlearn: 1136.3507081\ttotal: 30.4s\tremaining: 13.7s\n",
      "208:\tlearn: 1135.6977294\ttotal: 30.8s\tremaining: 13.4s\n",
      "210:\tlearn: 1135.5247766\ttotal: 31.1s\tremaining: 13.1s\n",
      "212:\tlearn: 1135.0805316\ttotal: 31.5s\tremaining: 12.8s\n",
      "214:\tlearn: 1134.4826677\ttotal: 31.8s\tremaining: 12.6s\n",
      "216:\tlearn: 1133.8268857\ttotal: 32.1s\tremaining: 12.3s\n",
      "218:\tlearn: 1133.4969807\ttotal: 32.4s\tremaining: 12s\n",
      "220:\tlearn: 1133.0093874\ttotal: 32.7s\tremaining: 11.7s\n",
      "222:\tlearn: 1132.4956302\ttotal: 33s\tremaining: 11.4s\n",
      "224:\tlearn: 1132.1324264\ttotal: 33.3s\tremaining: 11.1s\n",
      "226:\tlearn: 1131.6914892\ttotal: 33.6s\tremaining: 10.8s\n",
      "228:\tlearn: 1131.4100479\ttotal: 33.9s\tremaining: 10.5s\n",
      "230:\tlearn: 1130.8875628\ttotal: 34.2s\tremaining: 10.2s\n",
      "232:\tlearn: 1130.1277864\ttotal: 34.5s\tremaining: 9.92s\n",
      "234:\tlearn: 1129.7864441\ttotal: 34.7s\tremaining: 9.61s\n",
      "236:\tlearn: 1129.1466233\ttotal: 35s\tremaining: 9.31s\n",
      "238:\tlearn: 1128.7588386\ttotal: 35.3s\tremaining: 9.01s\n",
      "240:\tlearn: 1128.4193735\ttotal: 35.6s\tremaining: 8.7s\n",
      "242:\tlearn: 1128.0214982\ttotal: 35.8s\tremaining: 8.41s\n",
      "244:\tlearn: 1127.6189714\ttotal: 36.1s\tremaining: 8.11s\n",
      "246:\tlearn: 1127.2938660\ttotal: 36.4s\tremaining: 7.82s\n",
      "248:\tlearn: 1126.8726069\ttotal: 36.7s\tremaining: 7.52s\n",
      "250:\tlearn: 1126.3519984\ttotal: 36.9s\tremaining: 7.21s\n",
      "252:\tlearn: 1125.9782591\ttotal: 37.5s\tremaining: 6.96s\n",
      "254:\tlearn: 1125.4190719\ttotal: 37.8s\tremaining: 6.67s\n",
      "256:\tlearn: 1124.9684325\ttotal: 38.1s\tremaining: 6.37s\n",
      "258:\tlearn: 1124.4570662\ttotal: 38.4s\tremaining: 6.07s\n",
      "260:\tlearn: 1124.0788388\ttotal: 38.7s\tremaining: 5.78s\n",
      "262:\tlearn: 1123.7098557\ttotal: 39s\tremaining: 5.48s\n",
      "264:\tlearn: 1123.3935851\ttotal: 39.3s\tremaining: 5.18s\n",
      "266:\tlearn: 1123.0996711\ttotal: 39.5s\tremaining: 4.89s\n",
      "268:\tlearn: 1122.9033319\ttotal: 39.8s\tremaining: 4.59s\n",
      "270:\tlearn: 1122.5795938\ttotal: 40.1s\tremaining: 4.29s\n",
      "272:\tlearn: 1122.2068735\ttotal: 40.5s\tremaining: 4s\n",
      "274:\tlearn: 1121.7572424\ttotal: 40.7s\tremaining: 3.7s\n",
      "276:\tlearn: 1121.4864924\ttotal: 41.1s\tremaining: 3.41s\n",
      "278:\tlearn: 1121.1097452\ttotal: 41.4s\tremaining: 3.12s\n",
      "280:\tlearn: 1120.9375486\ttotal: 41.7s\tremaining: 2.82s\n",
      "282:\tlearn: 1120.2648825\ttotal: 42s\tremaining: 2.52s\n",
      "284:\tlearn: 1119.9504816\ttotal: 42.3s\tremaining: 2.23s\n",
      "286:\tlearn: 1119.6374722\ttotal: 42.6s\tremaining: 1.93s\n",
      "288:\tlearn: 1119.4724327\ttotal: 42.9s\tremaining: 1.63s\n",
      "290:\tlearn: 1119.1705007\ttotal: 43.2s\tremaining: 1.34s\n",
      "292:\tlearn: 1118.7697521\ttotal: 43.5s\tremaining: 1.04s\n",
      "294:\tlearn: 1118.4517789\ttotal: 43.7s\tremaining: 741ms\n",
      "296:\tlearn: 1118.1161058\ttotal: 44s\tremaining: 444ms\n",
      "298:\tlearn: 1117.8823763\ttotal: 44.3s\tremaining: 148ms\n",
      "299:\tlearn: 1117.7517993\ttotal: 44.4s\tremaining: 0us\n",
      "[CV] END ..................iterations=300, learning_rate=0.3; total time=  45.6s\n",
      "0:\tlearn: 2185.3913118\ttotal: 185ms\tremaining: 55.4s\n",
      "2:\tlearn: 1680.3670882\ttotal: 530ms\tremaining: 52.4s\n",
      "4:\tlearn: 1471.8278811\ttotal: 868ms\tremaining: 51.2s\n",
      "6:\tlearn: 1381.6686028\ttotal: 1.17s\tremaining: 48.9s\n",
      "8:\tlearn: 1338.5461122\ttotal: 1.5s\tremaining: 48.4s\n",
      "10:\tlearn: 1311.0637931\ttotal: 1.86s\tremaining: 49s\n",
      "12:\tlearn: 1298.3885983\ttotal: 2.19s\tremaining: 48.5s\n",
      "14:\tlearn: 1284.8925571\ttotal: 2.43s\tremaining: 46.2s\n",
      "16:\tlearn: 1276.5143857\ttotal: 2.74s\tremaining: 45.7s\n",
      "18:\tlearn: 1268.9837300\ttotal: 3.06s\tremaining: 45.2s\n",
      "20:\tlearn: 1258.9113630\ttotal: 3.3s\tremaining: 43.9s\n",
      "22:\tlearn: 1251.2625772\ttotal: 3.59s\tremaining: 43.2s\n",
      "24:\tlearn: 1245.6006293\ttotal: 3.81s\tremaining: 42s\n",
      "26:\tlearn: 1241.5017597\ttotal: 4.11s\tremaining: 41.5s\n",
      "28:\tlearn: 1237.2796657\ttotal: 4.4s\tremaining: 41.1s\n",
      "30:\tlearn: 1233.3133029\ttotal: 4.66s\tremaining: 40.5s\n",
      "32:\tlearn: 1227.6596113\ttotal: 4.97s\tremaining: 40.2s\n",
      "34:\tlearn: 1225.5577858\ttotal: 5.25s\tremaining: 39.8s\n",
      "36:\tlearn: 1222.7139045\ttotal: 5.62s\tremaining: 40s\n",
      "38:\tlearn: 1218.8976122\ttotal: 5.95s\tremaining: 39.8s\n",
      "40:\tlearn: 1216.6955583\ttotal: 6.2s\tremaining: 39.2s\n",
      "42:\tlearn: 1213.9691724\ttotal: 6.48s\tremaining: 38.7s\n",
      "44:\tlearn: 1211.3714063\ttotal: 6.75s\tremaining: 38.2s\n",
      "46:\tlearn: 1208.4345580\ttotal: 7.01s\tremaining: 37.8s\n",
      "48:\tlearn: 1206.1308202\ttotal: 7.3s\tremaining: 37.4s\n",
      "50:\tlearn: 1204.5719233\ttotal: 7.58s\tremaining: 37s\n",
      "52:\tlearn: 1202.3184911\ttotal: 7.88s\tremaining: 36.7s\n",
      "54:\tlearn: 1200.9275970\ttotal: 8.14s\tremaining: 36.3s\n",
      "56:\tlearn: 1198.9307193\ttotal: 8.38s\tremaining: 35.7s\n",
      "58:\tlearn: 1196.3844455\ttotal: 8.66s\tremaining: 35.4s\n",
      "60:\tlearn: 1193.7142385\ttotal: 8.9s\tremaining: 34.9s\n",
      "62:\tlearn: 1191.7972948\ttotal: 9.17s\tremaining: 34.5s\n",
      "64:\tlearn: 1190.5165250\ttotal: 9.49s\tremaining: 34.3s\n",
      "66:\tlearn: 1188.2967688\ttotal: 9.74s\tremaining: 33.9s\n",
      "68:\tlearn: 1187.2601637\ttotal: 9.99s\tremaining: 33.4s\n",
      "70:\tlearn: 1185.0089326\ttotal: 10.3s\tremaining: 33.2s\n",
      "72:\tlearn: 1183.4382659\ttotal: 10.6s\tremaining: 32.8s\n",
      "74:\tlearn: 1182.4251543\ttotal: 10.8s\tremaining: 32.5s\n",
      "76:\tlearn: 1181.3309155\ttotal: 11.1s\tremaining: 32.2s\n",
      "78:\tlearn: 1179.5714920\ttotal: 11.4s\tremaining: 31.9s\n",
      "80:\tlearn: 1178.5465823\ttotal: 11.7s\tremaining: 31.6s\n",
      "82:\tlearn: 1176.9875045\ttotal: 12s\tremaining: 31.3s\n",
      "84:\tlearn: 1176.2763501\ttotal: 12.3s\tremaining: 31.1s\n",
      "86:\tlearn: 1175.1536991\ttotal: 12.5s\tremaining: 30.7s\n",
      "88:\tlearn: 1173.7466652\ttotal: 12.8s\tremaining: 30.3s\n",
      "90:\tlearn: 1172.5501726\ttotal: 13.1s\tremaining: 30s\n",
      "92:\tlearn: 1171.0371125\ttotal: 13.4s\tremaining: 29.8s\n",
      "94:\tlearn: 1169.5913389\ttotal: 13.7s\tremaining: 29.5s\n",
      "96:\tlearn: 1168.5245643\ttotal: 13.9s\tremaining: 29.1s\n",
      "98:\tlearn: 1167.8805612\ttotal: 14.1s\tremaining: 28.7s\n",
      "100:\tlearn: 1167.0706046\ttotal: 14.5s\tremaining: 28.5s\n",
      "102:\tlearn: 1166.1423963\ttotal: 14.8s\tremaining: 28.2s\n",
      "104:\tlearn: 1165.2203246\ttotal: 15s\tremaining: 27.9s\n",
      "106:\tlearn: 1164.6070243\ttotal: 15.3s\tremaining: 27.7s\n",
      "108:\tlearn: 1164.0041616\ttotal: 15.7s\tremaining: 27.6s\n",
      "110:\tlearn: 1162.9051080\ttotal: 16.1s\tremaining: 27.4s\n",
      "112:\tlearn: 1162.3427251\ttotal: 16.4s\tremaining: 27.1s\n",
      "114:\tlearn: 1161.6374080\ttotal: 16.7s\tremaining: 26.9s\n",
      "116:\tlearn: 1159.9077565\ttotal: 17s\tremaining: 26.6s\n",
      "118:\tlearn: 1158.7925406\ttotal: 17.4s\tremaining: 26.4s\n",
      "120:\tlearn: 1158.4670649\ttotal: 17.7s\tremaining: 26.2s\n",
      "122:\tlearn: 1158.3064450\ttotal: 18s\tremaining: 25.9s\n",
      "124:\tlearn: 1157.4413417\ttotal: 18.4s\tremaining: 25.7s\n",
      "126:\tlearn: 1156.2890213\ttotal: 18.7s\tremaining: 25.4s\n",
      "128:\tlearn: 1155.4713769\ttotal: 19s\tremaining: 25.1s\n",
      "130:\tlearn: 1154.7468243\ttotal: 19.2s\tremaining: 24.8s\n",
      "132:\tlearn: 1154.0810531\ttotal: 19.5s\tremaining: 24.5s\n",
      "134:\tlearn: 1153.4655455\ttotal: 19.8s\tremaining: 24.2s\n",
      "136:\tlearn: 1153.1254670\ttotal: 20.1s\tremaining: 23.9s\n",
      "138:\tlearn: 1152.1430474\ttotal: 20.3s\tremaining: 23.6s\n",
      "140:\tlearn: 1151.2496350\ttotal: 20.6s\tremaining: 23.3s\n",
      "142:\tlearn: 1150.8616278\ttotal: 20.9s\tremaining: 22.9s\n",
      "144:\tlearn: 1150.2712961\ttotal: 21.1s\tremaining: 22.5s\n",
      "146:\tlearn: 1149.6685801\ttotal: 21.4s\tremaining: 22.3s\n",
      "148:\tlearn: 1149.1369618\ttotal: 21.7s\tremaining: 22s\n",
      "150:\tlearn: 1148.5948744\ttotal: 22s\tremaining: 21.7s\n",
      "152:\tlearn: 1147.5626299\ttotal: 22.2s\tremaining: 21.4s\n",
      "154:\tlearn: 1147.1703894\ttotal: 22.5s\tremaining: 21s\n",
      "156:\tlearn: 1146.6203587\ttotal: 22.7s\tremaining: 20.7s\n",
      "158:\tlearn: 1145.8764747\ttotal: 23s\tremaining: 20.4s\n",
      "160:\tlearn: 1145.1159864\ttotal: 23.2s\tremaining: 20.1s\n",
      "162:\tlearn: 1144.1888354\ttotal: 23.5s\tremaining: 19.7s\n",
      "164:\tlearn: 1143.5446547\ttotal: 23.7s\tremaining: 19.4s\n",
      "166:\tlearn: 1143.1051858\ttotal: 24s\tremaining: 19.1s\n",
      "168:\tlearn: 1142.6611485\ttotal: 24.2s\tremaining: 18.8s\n",
      "170:\tlearn: 1141.9789657\ttotal: 24.5s\tremaining: 18.5s\n",
      "172:\tlearn: 1141.4089602\ttotal: 24.7s\tremaining: 18.1s\n",
      "174:\tlearn: 1140.6757183\ttotal: 25s\tremaining: 17.9s\n",
      "176:\tlearn: 1140.4192867\ttotal: 25.3s\tremaining: 17.6s\n",
      "178:\tlearn: 1139.9518454\ttotal: 25.5s\tremaining: 17.3s\n",
      "180:\tlearn: 1139.5657519\ttotal: 25.8s\tremaining: 17s\n",
      "182:\tlearn: 1139.1405321\ttotal: 26.1s\tremaining: 16.7s\n",
      "184:\tlearn: 1138.5171055\ttotal: 26.3s\tremaining: 16.4s\n",
      "186:\tlearn: 1138.1574878\ttotal: 26.6s\tremaining: 16.1s\n",
      "188:\tlearn: 1137.8532390\ttotal: 26.8s\tremaining: 15.8s\n",
      "190:\tlearn: 1137.3051050\ttotal: 27.1s\tremaining: 15.5s\n",
      "192:\tlearn: 1136.8637609\ttotal: 27.3s\tremaining: 15.2s\n",
      "194:\tlearn: 1136.2383170\ttotal: 27.6s\tremaining: 14.9s\n",
      "196:\tlearn: 1136.0270202\ttotal: 27.8s\tremaining: 14.6s\n",
      "198:\tlearn: 1135.6453722\ttotal: 28.2s\tremaining: 14.3s\n",
      "200:\tlearn: 1135.3343581\ttotal: 28.5s\tremaining: 14s\n",
      "202:\tlearn: 1134.5595461\ttotal: 28.8s\tremaining: 13.7s\n",
      "204:\tlearn: 1134.1131102\ttotal: 29s\tremaining: 13.4s\n",
      "206:\tlearn: 1133.6668799\ttotal: 29.3s\tremaining: 13.2s\n",
      "208:\tlearn: 1133.2423212\ttotal: 29.6s\tremaining: 12.9s\n",
      "210:\tlearn: 1132.9264479\ttotal: 29.9s\tremaining: 12.6s\n",
      "212:\tlearn: 1132.4941597\ttotal: 30.1s\tremaining: 12.3s\n",
      "214:\tlearn: 1131.8775592\ttotal: 30.4s\tremaining: 12s\n",
      "216:\tlearn: 1131.5391625\ttotal: 30.7s\tremaining: 11.8s\n",
      "218:\tlearn: 1131.2416302\ttotal: 31.1s\tremaining: 11.5s\n",
      "220:\tlearn: 1130.6810886\ttotal: 31.4s\tremaining: 11.2s\n",
      "222:\tlearn: 1130.4078173\ttotal: 31.7s\tremaining: 11s\n",
      "224:\tlearn: 1130.0124812\ttotal: 32.1s\tremaining: 10.7s\n",
      "226:\tlearn: 1129.3226508\ttotal: 32.5s\tremaining: 10.4s\n",
      "228:\tlearn: 1128.7545301\ttotal: 32.8s\tremaining: 10.2s\n",
      "230:\tlearn: 1127.8545798\ttotal: 33.2s\tremaining: 9.91s\n",
      "232:\tlearn: 1127.3993196\ttotal: 33.5s\tremaining: 9.64s\n",
      "234:\tlearn: 1126.7270424\ttotal: 33.8s\tremaining: 9.36s\n",
      "236:\tlearn: 1126.4410489\ttotal: 34.2s\tremaining: 9.08s\n",
      "238:\tlearn: 1125.9683084\ttotal: 34.5s\tremaining: 8.79s\n",
      "240:\tlearn: 1125.8137309\ttotal: 34.7s\tremaining: 8.49s\n",
      "242:\tlearn: 1125.4643423\ttotal: 35s\tremaining: 8.21s\n",
      "244:\tlearn: 1125.2028150\ttotal: 35.3s\tremaining: 7.92s\n",
      "246:\tlearn: 1124.8867368\ttotal: 35.6s\tremaining: 7.64s\n",
      "248:\tlearn: 1124.6388283\ttotal: 35.9s\tremaining: 7.35s\n",
      "250:\tlearn: 1123.9212900\ttotal: 36.2s\tremaining: 7.07s\n",
      "252:\tlearn: 1123.3553547\ttotal: 36.5s\tremaining: 6.79s\n",
      "254:\tlearn: 1122.9991929\ttotal: 36.8s\tremaining: 6.5s\n",
      "256:\tlearn: 1122.1738428\ttotal: 37.1s\tremaining: 6.21s\n",
      "258:\tlearn: 1121.8569574\ttotal: 37.4s\tremaining: 5.92s\n",
      "260:\tlearn: 1121.4072516\ttotal: 37.7s\tremaining: 5.63s\n",
      "262:\tlearn: 1121.2591265\ttotal: 38s\tremaining: 5.34s\n",
      "264:\tlearn: 1120.7127847\ttotal: 38.2s\tremaining: 5.05s\n",
      "266:\tlearn: 1120.2031834\ttotal: 38.5s\tremaining: 4.76s\n",
      "268:\tlearn: 1119.9230629\ttotal: 38.8s\tremaining: 4.48s\n",
      "270:\tlearn: 1119.5795909\ttotal: 39.1s\tremaining: 4.19s\n",
      "272:\tlearn: 1119.0710759\ttotal: 39.4s\tremaining: 3.9s\n",
      "274:\tlearn: 1118.9229475\ttotal: 39.7s\tremaining: 3.61s\n",
      "276:\tlearn: 1118.5798776\ttotal: 40.1s\tremaining: 3.33s\n",
      "278:\tlearn: 1118.3844775\ttotal: 40.3s\tremaining: 3.04s\n",
      "280:\tlearn: 1118.2041806\ttotal: 40.6s\tremaining: 2.75s\n",
      "282:\tlearn: 1117.9298395\ttotal: 40.9s\tremaining: 2.46s\n",
      "284:\tlearn: 1117.6391651\ttotal: 41.2s\tremaining: 2.17s\n",
      "286:\tlearn: 1117.5142297\ttotal: 41.4s\tremaining: 1.88s\n",
      "288:\tlearn: 1117.2800694\ttotal: 41.7s\tremaining: 1.59s\n",
      "290:\tlearn: 1116.9775832\ttotal: 42s\tremaining: 1.3s\n",
      "292:\tlearn: 1116.5553997\ttotal: 42.3s\tremaining: 1.01s\n",
      "294:\tlearn: 1116.2391940\ttotal: 42.6s\tremaining: 723ms\n",
      "296:\tlearn: 1116.0032186\ttotal: 42.9s\tremaining: 434ms\n",
      "298:\tlearn: 1115.8683979\ttotal: 43.2s\tremaining: 144ms\n",
      "299:\tlearn: 1115.6556744\ttotal: 43.3s\tremaining: 0us\n",
      "[CV] END ..................iterations=300, learning_rate=0.3; total time=  44.2s\n",
      "0:\tlearn: 2174.0851391\ttotal: 148ms\tremaining: 44.1s\n",
      "2:\tlearn: 1673.5350790\ttotal: 421ms\tremaining: 41.7s\n",
      "4:\tlearn: 1464.2584114\ttotal: 664ms\tremaining: 39.2s\n",
      "6:\tlearn: 1366.4750048\ttotal: 922ms\tremaining: 38.6s\n",
      "8:\tlearn: 1324.1903764\ttotal: 1.19s\tremaining: 38.4s\n",
      "10:\tlearn: 1303.4963076\ttotal: 1.46s\tremaining: 38.3s\n",
      "12:\tlearn: 1287.5328212\ttotal: 1.71s\tremaining: 37.8s\n",
      "14:\tlearn: 1278.7724252\ttotal: 2s\tremaining: 38s\n",
      "16:\tlearn: 1269.5006528\ttotal: 2.25s\tremaining: 37.5s\n",
      "18:\tlearn: 1262.3444537\ttotal: 2.54s\tremaining: 37.5s\n",
      "20:\tlearn: 1252.1407862\ttotal: 2.89s\tremaining: 38.4s\n",
      "22:\tlearn: 1243.8856914\ttotal: 3.27s\tremaining: 39.4s\n",
      "24:\tlearn: 1239.9659267\ttotal: 3.6s\tremaining: 39.6s\n",
      "26:\tlearn: 1233.3234544\ttotal: 3.88s\tremaining: 39.3s\n",
      "28:\tlearn: 1229.3267741\ttotal: 4.2s\tremaining: 39.3s\n",
      "30:\tlearn: 1224.6541811\ttotal: 4.47s\tremaining: 38.8s\n",
      "32:\tlearn: 1222.0239953\ttotal: 4.75s\tremaining: 38.5s\n",
      "34:\tlearn: 1219.1224363\ttotal: 5.08s\tremaining: 38.4s\n",
      "36:\tlearn: 1216.0297594\ttotal: 5.39s\tremaining: 38.4s\n",
      "38:\tlearn: 1212.4516070\ttotal: 5.68s\tremaining: 38s\n",
      "40:\tlearn: 1209.5495114\ttotal: 6.05s\tremaining: 38.2s\n",
      "42:\tlearn: 1206.8411910\ttotal: 6.31s\tremaining: 37.7s\n",
      "44:\tlearn: 1204.2961207\ttotal: 6.59s\tremaining: 37.3s\n",
      "46:\tlearn: 1201.7474265\ttotal: 6.88s\tremaining: 37s\n",
      "48:\tlearn: 1199.7569861\ttotal: 7.19s\tremaining: 36.9s\n",
      "50:\tlearn: 1197.8477004\ttotal: 7.73s\tremaining: 37.7s\n",
      "52:\tlearn: 1195.3184170\ttotal: 8.01s\tremaining: 37.3s\n",
      "54:\tlearn: 1192.9413642\ttotal: 8.28s\tremaining: 36.9s\n",
      "56:\tlearn: 1190.9940810\ttotal: 8.55s\tremaining: 36.5s\n",
      "58:\tlearn: 1189.2780529\ttotal: 8.83s\tremaining: 36.1s\n",
      "60:\tlearn: 1187.6323458\ttotal: 9.1s\tremaining: 35.6s\n",
      "62:\tlearn: 1185.1099919\ttotal: 9.34s\tremaining: 35.1s\n",
      "64:\tlearn: 1183.7240696\ttotal: 9.57s\tremaining: 34.6s\n",
      "66:\tlearn: 1181.5519368\ttotal: 9.86s\tremaining: 34.3s\n",
      "68:\tlearn: 1179.5420015\ttotal: 10.1s\tremaining: 33.9s\n",
      "70:\tlearn: 1177.8320854\ttotal: 10.4s\tremaining: 33.6s\n",
      "72:\tlearn: 1176.5205226\ttotal: 10.7s\tremaining: 33.3s\n",
      "74:\tlearn: 1174.9553868\ttotal: 10.9s\tremaining: 32.8s\n",
      "76:\tlearn: 1173.6629752\ttotal: 11.2s\tremaining: 32.6s\n",
      "78:\tlearn: 1171.6524910\ttotal: 11.5s\tremaining: 32.2s\n",
      "80:\tlearn: 1170.5762090\ttotal: 11.8s\tremaining: 31.9s\n",
      "82:\tlearn: 1169.3770821\ttotal: 12.1s\tremaining: 31.5s\n",
      "84:\tlearn: 1167.8691718\ttotal: 12.3s\tremaining: 31.2s\n",
      "86:\tlearn: 1166.0266430\ttotal: 12.6s\tremaining: 30.9s\n",
      "88:\tlearn: 1164.7284887\ttotal: 12.9s\tremaining: 30.5s\n",
      "90:\tlearn: 1163.7287071\ttotal: 13.1s\tremaining: 30.1s\n",
      "92:\tlearn: 1163.2820808\ttotal: 13.4s\tremaining: 29.7s\n",
      "94:\tlearn: 1162.5575833\ttotal: 13.6s\tremaining: 29.4s\n",
      "96:\tlearn: 1162.0465954\ttotal: 13.9s\tremaining: 29s\n",
      "98:\tlearn: 1161.3820746\ttotal: 14.1s\tremaining: 28.6s\n",
      "100:\tlearn: 1160.8510163\ttotal: 14.3s\tremaining: 28.2s\n",
      "102:\tlearn: 1160.0335801\ttotal: 14.6s\tremaining: 27.9s\n",
      "104:\tlearn: 1159.2860956\ttotal: 14.9s\tremaining: 27.6s\n",
      "106:\tlearn: 1158.2922546\ttotal: 15.1s\tremaining: 27.3s\n",
      "108:\tlearn: 1158.1264593\ttotal: 15.4s\tremaining: 26.9s\n",
      "110:\tlearn: 1157.1791117\ttotal: 15.6s\tremaining: 26.6s\n",
      "112:\tlearn: 1156.0035391\ttotal: 15.9s\tremaining: 26.3s\n",
      "114:\tlearn: 1154.8787765\ttotal: 16.1s\tremaining: 25.9s\n",
      "116:\tlearn: 1154.0496377\ttotal: 16.4s\tremaining: 25.7s\n",
      "118:\tlearn: 1153.4566491\ttotal: 16.7s\tremaining: 25.4s\n",
      "120:\tlearn: 1152.6570863\ttotal: 17s\tremaining: 25.1s\n",
      "122:\tlearn: 1152.0251838\ttotal: 17.3s\tremaining: 24.8s\n",
      "124:\tlearn: 1151.2874945\ttotal: 17.6s\tremaining: 24.6s\n",
      "126:\tlearn: 1150.2681679\ttotal: 17.8s\tremaining: 24.2s\n",
      "128:\tlearn: 1149.5814511\ttotal: 18.1s\tremaining: 24s\n",
      "130:\tlearn: 1149.0247862\ttotal: 18.4s\tremaining: 23.7s\n",
      "132:\tlearn: 1148.5202307\ttotal: 18.7s\tremaining: 23.5s\n",
      "134:\tlearn: 1147.8480306\ttotal: 19s\tremaining: 23.3s\n",
      "136:\tlearn: 1147.0701491\ttotal: 19.3s\tremaining: 23s\n",
      "138:\tlearn: 1146.7068910\ttotal: 19.6s\tremaining: 22.8s\n",
      "140:\tlearn: 1146.3248470\ttotal: 20s\tremaining: 22.6s\n",
      "142:\tlearn: 1145.8771205\ttotal: 20.4s\tremaining: 22.4s\n",
      "144:\tlearn: 1144.9820483\ttotal: 20.7s\tremaining: 22.1s\n",
      "146:\tlearn: 1144.1233158\ttotal: 21s\tremaining: 21.8s\n",
      "148:\tlearn: 1143.6311344\ttotal: 21.3s\tremaining: 21.6s\n",
      "150:\tlearn: 1142.8781592\ttotal: 21.6s\tremaining: 21.3s\n",
      "152:\tlearn: 1142.6203925\ttotal: 22.1s\tremaining: 21.2s\n",
      "154:\tlearn: 1142.0753734\ttotal: 22.4s\tremaining: 21s\n",
      "156:\tlearn: 1141.5380547\ttotal: 22.7s\tremaining: 20.7s\n",
      "158:\tlearn: 1141.0137402\ttotal: 23s\tremaining: 20.4s\n",
      "160:\tlearn: 1140.5485588\ttotal: 23.3s\tremaining: 20.1s\n",
      "162:\tlearn: 1139.9306590\ttotal: 23.6s\tremaining: 19.8s\n",
      "164:\tlearn: 1139.2522796\ttotal: 23.8s\tremaining: 19.5s\n",
      "166:\tlearn: 1138.7133027\ttotal: 24.1s\tremaining: 19.2s\n",
      "168:\tlearn: 1138.3846198\ttotal: 24.3s\tremaining: 18.9s\n",
      "170:\tlearn: 1137.7552059\ttotal: 24.6s\tremaining: 18.6s\n",
      "172:\tlearn: 1136.8985995\ttotal: 24.9s\tremaining: 18.3s\n",
      "174:\tlearn: 1136.1278545\ttotal: 25.2s\tremaining: 18s\n",
      "176:\tlearn: 1135.6629818\ttotal: 25.5s\tremaining: 17.7s\n",
      "178:\tlearn: 1134.8263549\ttotal: 25.8s\tremaining: 17.4s\n",
      "180:\tlearn: 1134.3847866\ttotal: 26.1s\tremaining: 17.2s\n",
      "182:\tlearn: 1133.7393715\ttotal: 26.4s\tremaining: 16.9s\n",
      "184:\tlearn: 1132.6528646\ttotal: 26.6s\tremaining: 16.6s\n",
      "186:\tlearn: 1132.2771035\ttotal: 26.9s\tremaining: 16.3s\n",
      "188:\tlearn: 1132.0250057\ttotal: 27.2s\tremaining: 16s\n",
      "190:\tlearn: 1131.5472612\ttotal: 27.5s\tremaining: 15.7s\n",
      "192:\tlearn: 1130.8837690\ttotal: 27.8s\tremaining: 15.4s\n",
      "194:\tlearn: 1130.4508651\ttotal: 28.1s\tremaining: 15.1s\n",
      "196:\tlearn: 1129.7580672\ttotal: 28.4s\tremaining: 14.8s\n",
      "198:\tlearn: 1129.3993779\ttotal: 28.6s\tremaining: 14.5s\n",
      "200:\tlearn: 1128.9288829\ttotal: 28.9s\tremaining: 14.2s\n",
      "202:\tlearn: 1128.2683721\ttotal: 29.2s\tremaining: 13.9s\n",
      "204:\tlearn: 1127.7727683\ttotal: 29.5s\tremaining: 13.7s\n",
      "206:\tlearn: 1127.4617569\ttotal: 29.7s\tremaining: 13.4s\n",
      "208:\tlearn: 1126.9674509\ttotal: 30s\tremaining: 13.1s\n",
      "210:\tlearn: 1126.3056878\ttotal: 30.4s\tremaining: 12.8s\n",
      "212:\tlearn: 1125.5315914\ttotal: 30.7s\tremaining: 12.5s\n",
      "214:\tlearn: 1125.0329562\ttotal: 31s\tremaining: 12.2s\n",
      "216:\tlearn: 1124.5198763\ttotal: 31.3s\tremaining: 12s\n",
      "218:\tlearn: 1124.1607455\ttotal: 31.5s\tremaining: 11.7s\n",
      "220:\tlearn: 1123.4675876\ttotal: 31.8s\tremaining: 11.4s\n",
      "222:\tlearn: 1122.7775038\ttotal: 32.1s\tremaining: 11.1s\n",
      "224:\tlearn: 1122.0604171\ttotal: 32.4s\tremaining: 10.8s\n",
      "226:\tlearn: 1121.6727270\ttotal: 32.7s\tremaining: 10.5s\n",
      "228:\tlearn: 1121.3322029\ttotal: 33s\tremaining: 10.2s\n",
      "230:\tlearn: 1120.8045282\ttotal: 33.3s\tremaining: 9.95s\n",
      "232:\tlearn: 1120.3973858\ttotal: 33.6s\tremaining: 9.66s\n",
      "234:\tlearn: 1119.9504831\ttotal: 33.9s\tremaining: 9.38s\n",
      "236:\tlearn: 1119.6668283\ttotal: 34.2s\tremaining: 9.09s\n",
      "238:\tlearn: 1119.0659614\ttotal: 34.5s\tremaining: 8.8s\n",
      "240:\tlearn: 1118.7732406\ttotal: 34.8s\tremaining: 8.51s\n",
      "242:\tlearn: 1118.1365634\ttotal: 35.1s\tremaining: 8.23s\n",
      "244:\tlearn: 1117.6414671\ttotal: 35.5s\tremaining: 7.96s\n",
      "246:\tlearn: 1117.3856621\ttotal: 35.8s\tremaining: 7.68s\n",
      "248:\tlearn: 1116.9914019\ttotal: 36.1s\tremaining: 7.4s\n",
      "250:\tlearn: 1116.3550245\ttotal: 36.5s\tremaining: 7.12s\n",
      "252:\tlearn: 1115.9320921\ttotal: 37s\tremaining: 6.88s\n",
      "254:\tlearn: 1115.5554917\ttotal: 37.4s\tremaining: 6.6s\n",
      "256:\tlearn: 1115.3360990\ttotal: 37.7s\tremaining: 6.31s\n",
      "258:\tlearn: 1115.0788725\ttotal: 38s\tremaining: 6.02s\n",
      "260:\tlearn: 1114.6832131\ttotal: 38.3s\tremaining: 5.73s\n",
      "262:\tlearn: 1114.3754117\ttotal: 38.6s\tremaining: 5.43s\n",
      "264:\tlearn: 1113.9704617\ttotal: 38.9s\tremaining: 5.14s\n",
      "266:\tlearn: 1113.6881010\ttotal: 39.3s\tremaining: 4.86s\n",
      "268:\tlearn: 1113.2623174\ttotal: 39.7s\tremaining: 4.58s\n",
      "270:\tlearn: 1112.9239139\ttotal: 40.1s\tremaining: 4.29s\n",
      "272:\tlearn: 1112.6882442\ttotal: 40.4s\tremaining: 3.99s\n",
      "274:\tlearn: 1112.5600829\ttotal: 40.7s\tremaining: 3.7s\n",
      "276:\tlearn: 1112.4206529\ttotal: 40.9s\tremaining: 3.4s\n",
      "278:\tlearn: 1111.9779773\ttotal: 41.2s\tremaining: 3.1s\n",
      "280:\tlearn: 1111.6519410\ttotal: 41.5s\tremaining: 2.81s\n",
      "282:\tlearn: 1111.4146614\ttotal: 41.9s\tremaining: 2.51s\n",
      "284:\tlearn: 1111.2193230\ttotal: 42.2s\tremaining: 2.22s\n",
      "286:\tlearn: 1110.8657777\ttotal: 42.5s\tremaining: 1.92s\n",
      "288:\tlearn: 1110.7513170\ttotal: 42.8s\tremaining: 1.63s\n",
      "290:\tlearn: 1110.4747183\ttotal: 43.1s\tremaining: 1.33s\n",
      "292:\tlearn: 1110.0167764\ttotal: 43.4s\tremaining: 1.04s\n",
      "294:\tlearn: 1109.5714890\ttotal: 43.8s\tremaining: 742ms\n",
      "296:\tlearn: 1109.1337239\ttotal: 44.1s\tremaining: 446ms\n",
      "298:\tlearn: 1108.5856743\ttotal: 44.4s\tremaining: 149ms\n",
      "299:\tlearn: 1108.4386795\ttotal: 44.6s\tremaining: 0us\n",
      "[CV] END ..................iterations=300, learning_rate=0.3; total time=  45.4s\n",
      "0:\tlearn: 1927.8658817\ttotal: 152ms\tremaining: 45.3s\n",
      "2:\tlearn: 1455.2081443\ttotal: 462ms\tremaining: 45.7s\n",
      "4:\tlearn: 1354.0578903\ttotal: 689ms\tremaining: 40.7s\n",
      "6:\tlearn: 1319.9093739\ttotal: 985ms\tremaining: 41.2s\n",
      "8:\tlearn: 1294.3998576\ttotal: 1.29s\tremaining: 41.7s\n",
      "10:\tlearn: 1278.8492297\ttotal: 1.57s\tremaining: 41.3s\n",
      "12:\tlearn: 1268.5353026\ttotal: 1.89s\tremaining: 41.8s\n",
      "14:\tlearn: 1258.6319044\ttotal: 2.18s\tremaining: 41.4s\n",
      "16:\tlearn: 1250.5684348\ttotal: 2.49s\tremaining: 41.5s\n",
      "18:\tlearn: 1243.7946345\ttotal: 2.9s\tremaining: 43s\n",
      "20:\tlearn: 1238.6828282\ttotal: 3.25s\tremaining: 43.2s\n",
      "22:\tlearn: 1233.4249812\ttotal: 3.58s\tremaining: 43.1s\n",
      "24:\tlearn: 1227.0603181\ttotal: 3.91s\tremaining: 43.1s\n",
      "26:\tlearn: 1224.3492523\ttotal: 4.19s\tremaining: 42.4s\n",
      "28:\tlearn: 1220.9823411\ttotal: 4.5s\tremaining: 42.1s\n",
      "30:\tlearn: 1217.7435327\ttotal: 4.87s\tremaining: 42.2s\n",
      "32:\tlearn: 1213.6613582\ttotal: 5.36s\tremaining: 43.3s\n",
      "34:\tlearn: 1210.1350529\ttotal: 5.68s\tremaining: 43s\n",
      "36:\tlearn: 1206.5645490\ttotal: 6.08s\tremaining: 43.2s\n",
      "38:\tlearn: 1203.3706396\ttotal: 6.44s\tremaining: 43.1s\n",
      "40:\tlearn: 1200.1275673\ttotal: 6.86s\tremaining: 43.4s\n",
      "42:\tlearn: 1197.5492438\ttotal: 7.26s\tremaining: 43.4s\n",
      "44:\tlearn: 1195.0353902\ttotal: 7.61s\tremaining: 43.1s\n",
      "46:\tlearn: 1193.2017142\ttotal: 7.94s\tremaining: 42.7s\n",
      "48:\tlearn: 1190.2895323\ttotal: 8.44s\tremaining: 43.2s\n",
      "50:\tlearn: 1187.2891979\ttotal: 8.8s\tremaining: 43s\n",
      "52:\tlearn: 1184.3450466\ttotal: 9.17s\tremaining: 42.8s\n",
      "54:\tlearn: 1182.7664106\ttotal: 9.6s\tremaining: 42.8s\n",
      "56:\tlearn: 1180.4476394\ttotal: 9.96s\tremaining: 42.5s\n",
      "58:\tlearn: 1178.5909875\ttotal: 10.3s\tremaining: 42s\n",
      "60:\tlearn: 1177.1380438\ttotal: 10.6s\tremaining: 41.4s\n",
      "62:\tlearn: 1175.3910848\ttotal: 10.9s\tremaining: 40.9s\n",
      "64:\tlearn: 1173.5361067\ttotal: 11.2s\tremaining: 40.3s\n",
      "66:\tlearn: 1171.8275224\ttotal: 11.5s\tremaining: 39.9s\n",
      "68:\tlearn: 1170.0790064\ttotal: 11.8s\tremaining: 39.5s\n",
      "70:\tlearn: 1169.0785844\ttotal: 12.1s\tremaining: 38.9s\n",
      "72:\tlearn: 1167.9547921\ttotal: 12.4s\tremaining: 38.5s\n",
      "74:\tlearn: 1166.2508341\ttotal: 12.7s\tremaining: 38.1s\n",
      "76:\tlearn: 1165.3883124\ttotal: 13s\tremaining: 37.6s\n",
      "78:\tlearn: 1163.6952248\ttotal: 13.3s\tremaining: 37.2s\n",
      "80:\tlearn: 1162.2068193\ttotal: 13.6s\tremaining: 36.7s\n",
      "82:\tlearn: 1161.1636786\ttotal: 13.9s\tremaining: 36.3s\n",
      "84:\tlearn: 1159.6452254\ttotal: 14.1s\tremaining: 35.7s\n",
      "86:\tlearn: 1158.8053492\ttotal: 14.5s\tremaining: 35.4s\n",
      "88:\tlearn: 1157.6408533\ttotal: 14.8s\tremaining: 35s\n",
      "90:\tlearn: 1156.8369113\ttotal: 15s\tremaining: 34.6s\n",
      "92:\tlearn: 1155.5508782\ttotal: 15.4s\tremaining: 34.2s\n",
      "94:\tlearn: 1154.2061436\ttotal: 15.7s\tremaining: 33.8s\n",
      "96:\tlearn: 1153.6499294\ttotal: 16s\tremaining: 33.4s\n",
      "98:\tlearn: 1152.8569399\ttotal: 16.3s\tremaining: 33s\n",
      "100:\tlearn: 1152.0795121\ttotal: 16.6s\tremaining: 32.7s\n",
      "102:\tlearn: 1150.7622800\ttotal: 16.9s\tremaining: 32.3s\n",
      "104:\tlearn: 1149.6502512\ttotal: 17.3s\tremaining: 32s\n",
      "106:\tlearn: 1148.8842055\ttotal: 17.6s\tremaining: 31.7s\n",
      "108:\tlearn: 1148.3265563\ttotal: 17.9s\tremaining: 31.3s\n",
      "110:\tlearn: 1147.0618933\ttotal: 18.2s\tremaining: 31s\n",
      "112:\tlearn: 1146.2378293\ttotal: 18.5s\tremaining: 30.6s\n",
      "114:\tlearn: 1145.0758984\ttotal: 18.8s\tremaining: 30.2s\n",
      "116:\tlearn: 1144.1743173\ttotal: 19.1s\tremaining: 29.9s\n",
      "118:\tlearn: 1143.5937483\ttotal: 19.4s\tremaining: 29.5s\n",
      "120:\tlearn: 1142.8761321\ttotal: 19.8s\tremaining: 29.2s\n",
      "122:\tlearn: 1142.0944254\ttotal: 20.1s\tremaining: 28.9s\n",
      "124:\tlearn: 1141.0700599\ttotal: 20.4s\tremaining: 28.5s\n",
      "126:\tlearn: 1140.2916238\ttotal: 20.7s\tremaining: 28.2s\n",
      "128:\tlearn: 1139.9785908\ttotal: 21s\tremaining: 27.8s\n",
      "130:\tlearn: 1139.3419846\ttotal: 21.3s\tremaining: 27.5s\n",
      "132:\tlearn: 1138.7455577\ttotal: 21.8s\tremaining: 27.4s\n",
      "134:\tlearn: 1137.5691207\ttotal: 22.3s\tremaining: 27.3s\n",
      "136:\tlearn: 1136.6223958\ttotal: 22.7s\tremaining: 27s\n",
      "138:\tlearn: 1135.6428953\ttotal: 23.1s\tremaining: 26.7s\n",
      "140:\tlearn: 1135.2008788\ttotal: 23.4s\tremaining: 26.4s\n",
      "142:\tlearn: 1134.6868049\ttotal: 23.6s\tremaining: 26s\n",
      "144:\tlearn: 1134.1432465\ttotal: 24s\tremaining: 25.6s\n",
      "146:\tlearn: 1133.6327819\ttotal: 24.4s\tremaining: 25.4s\n",
      "148:\tlearn: 1132.7697649\ttotal: 24.7s\tremaining: 25s\n",
      "150:\tlearn: 1132.1251442\ttotal: 25s\tremaining: 24.7s\n",
      "152:\tlearn: 1131.4005552\ttotal: 25.3s\tremaining: 24.3s\n",
      "154:\tlearn: 1130.7010995\ttotal: 25.6s\tremaining: 23.9s\n",
      "156:\tlearn: 1129.9988360\ttotal: 25.9s\tremaining: 23.6s\n",
      "158:\tlearn: 1129.1643634\ttotal: 26.1s\tremaining: 23.2s\n",
      "160:\tlearn: 1128.4847819\ttotal: 26.4s\tremaining: 22.8s\n",
      "162:\tlearn: 1127.8070002\ttotal: 26.7s\tremaining: 22.4s\n",
      "164:\tlearn: 1127.3828729\ttotal: 27s\tremaining: 22.1s\n",
      "166:\tlearn: 1126.8269472\ttotal: 27.3s\tremaining: 21.8s\n",
      "168:\tlearn: 1126.4289872\ttotal: 27.6s\tremaining: 21.4s\n",
      "170:\tlearn: 1125.8633463\ttotal: 27.9s\tremaining: 21s\n",
      "172:\tlearn: 1125.3148533\ttotal: 28.2s\tremaining: 20.7s\n",
      "174:\tlearn: 1124.8141934\ttotal: 28.4s\tremaining: 20.3s\n",
      "176:\tlearn: 1124.4399707\ttotal: 28.7s\tremaining: 19.9s\n",
      "178:\tlearn: 1123.5239312\ttotal: 28.9s\tremaining: 19.6s\n",
      "180:\tlearn: 1122.8493260\ttotal: 29.2s\tremaining: 19.2s\n",
      "182:\tlearn: 1122.2316125\ttotal: 29.4s\tremaining: 18.8s\n",
      "184:\tlearn: 1121.7234102\ttotal: 29.7s\tremaining: 18.5s\n",
      "186:\tlearn: 1121.0932171\ttotal: 30s\tremaining: 18.1s\n",
      "188:\tlearn: 1120.0840513\ttotal: 30.3s\tremaining: 17.8s\n",
      "190:\tlearn: 1119.6235921\ttotal: 30.6s\tremaining: 17.5s\n",
      "192:\tlearn: 1119.2331900\ttotal: 30.9s\tremaining: 17.1s\n",
      "194:\tlearn: 1118.4636872\ttotal: 31.2s\tremaining: 16.8s\n",
      "196:\tlearn: 1118.0093332\ttotal: 31.5s\tremaining: 16.5s\n",
      "198:\tlearn: 1117.6679792\ttotal: 31.8s\tremaining: 16.2s\n",
      "200:\tlearn: 1117.1779099\ttotal: 32.2s\tremaining: 15.8s\n",
      "202:\tlearn: 1116.4953952\ttotal: 32.5s\tremaining: 15.5s\n",
      "204:\tlearn: 1115.6070615\ttotal: 32.8s\tremaining: 15.2s\n",
      "206:\tlearn: 1114.8942125\ttotal: 33s\tremaining: 14.8s\n",
      "208:\tlearn: 1114.3251690\ttotal: 33.3s\tremaining: 14.5s\n",
      "210:\tlearn: 1113.5408831\ttotal: 33.6s\tremaining: 14.2s\n",
      "212:\tlearn: 1113.0696181\ttotal: 33.9s\tremaining: 13.8s\n",
      "214:\tlearn: 1112.2916074\ttotal: 34.1s\tremaining: 13.5s\n",
      "216:\tlearn: 1111.8424290\ttotal: 34.4s\tremaining: 13.2s\n",
      "218:\tlearn: 1111.2585998\ttotal: 34.7s\tremaining: 12.8s\n",
      "220:\tlearn: 1110.5418340\ttotal: 35s\tremaining: 12.5s\n",
      "222:\tlearn: 1110.1501255\ttotal: 35.3s\tremaining: 12.2s\n",
      "224:\tlearn: 1109.8790804\ttotal: 35.5s\tremaining: 11.8s\n",
      "226:\tlearn: 1109.3925819\ttotal: 35.8s\tremaining: 11.5s\n",
      "228:\tlearn: 1108.9700351\ttotal: 36.1s\tremaining: 11.2s\n",
      "230:\tlearn: 1108.5968787\ttotal: 36.4s\tremaining: 10.9s\n",
      "232:\tlearn: 1108.0634551\ttotal: 36.7s\tremaining: 10.6s\n",
      "234:\tlearn: 1107.7777330\ttotal: 37.2s\tremaining: 10.3s\n",
      "236:\tlearn: 1107.4198015\ttotal: 37.7s\tremaining: 10s\n",
      "238:\tlearn: 1107.0622542\ttotal: 38.1s\tremaining: 9.72s\n",
      "240:\tlearn: 1106.6204638\ttotal: 38.4s\tremaining: 9.41s\n",
      "242:\tlearn: 1106.2502321\ttotal: 38.8s\tremaining: 9.09s\n",
      "244:\tlearn: 1105.8452668\ttotal: 39.1s\tremaining: 8.78s\n",
      "246:\tlearn: 1105.1457677\ttotal: 39.4s\tremaining: 8.46s\n",
      "248:\tlearn: 1104.7832734\ttotal: 39.8s\tremaining: 8.15s\n",
      "250:\tlearn: 1104.3850235\ttotal: 40.2s\tremaining: 7.84s\n",
      "252:\tlearn: 1104.1702218\ttotal: 40.5s\tremaining: 7.52s\n",
      "254:\tlearn: 1103.8926793\ttotal: 40.9s\tremaining: 7.21s\n",
      "256:\tlearn: 1103.6383000\ttotal: 41.2s\tremaining: 6.9s\n",
      "258:\tlearn: 1103.1728074\ttotal: 41.5s\tremaining: 6.58s\n",
      "260:\tlearn: 1102.6796329\ttotal: 41.8s\tremaining: 6.25s\n",
      "262:\tlearn: 1102.4161238\ttotal: 42.1s\tremaining: 5.93s\n",
      "264:\tlearn: 1101.9427616\ttotal: 42.5s\tremaining: 5.61s\n",
      "266:\tlearn: 1101.6608593\ttotal: 42.7s\tremaining: 5.28s\n",
      "268:\tlearn: 1101.2107480\ttotal: 43s\tremaining: 4.96s\n",
      "270:\tlearn: 1100.5618996\ttotal: 43.3s\tremaining: 4.63s\n",
      "272:\tlearn: 1100.3584537\ttotal: 43.5s\tremaining: 4.31s\n",
      "274:\tlearn: 1100.0459090\ttotal: 43.8s\tremaining: 3.98s\n",
      "276:\tlearn: 1099.5685483\ttotal: 44.2s\tremaining: 3.67s\n",
      "278:\tlearn: 1099.0412746\ttotal: 44.5s\tremaining: 3.35s\n",
      "280:\tlearn: 1098.7183661\ttotal: 44.7s\tremaining: 3.02s\n",
      "282:\tlearn: 1098.3783669\ttotal: 44.9s\tremaining: 2.7s\n",
      "284:\tlearn: 1097.9188581\ttotal: 45.2s\tremaining: 2.38s\n",
      "286:\tlearn: 1097.6951026\ttotal: 45.5s\tremaining: 2.06s\n",
      "288:\tlearn: 1097.2326809\ttotal: 45.8s\tremaining: 1.74s\n",
      "290:\tlearn: 1097.0070309\ttotal: 46s\tremaining: 1.42s\n",
      "292:\tlearn: 1096.6840737\ttotal: 46.3s\tremaining: 1.11s\n",
      "294:\tlearn: 1096.3085846\ttotal: 46.6s\tremaining: 790ms\n",
      "296:\tlearn: 1095.9025168\ttotal: 46.9s\tremaining: 474ms\n",
      "298:\tlearn: 1095.4157808\ttotal: 47.2s\tremaining: 158ms\n",
      "299:\tlearn: 1095.1508237\ttotal: 47.4s\tremaining: 0us\n",
      "[CV] END ..................iterations=300, learning_rate=0.5; total time=  48.2s\n",
      "0:\tlearn: 1934.4428658\ttotal: 148ms\tremaining: 44.3s\n",
      "2:\tlearn: 1456.8012314\ttotal: 418ms\tremaining: 41.3s\n",
      "4:\tlearn: 1359.7135318\ttotal: 684ms\tremaining: 40.4s\n",
      "6:\tlearn: 1323.5945387\ttotal: 915ms\tremaining: 38.3s\n",
      "8:\tlearn: 1309.2128895\ttotal: 1.21s\tremaining: 39.1s\n",
      "10:\tlearn: 1288.6403606\ttotal: 1.47s\tremaining: 38.7s\n",
      "12:\tlearn: 1275.5112588\ttotal: 1.75s\tremaining: 38.6s\n",
      "14:\tlearn: 1265.9546611\ttotal: 2.04s\tremaining: 38.8s\n",
      "16:\tlearn: 1257.8576003\ttotal: 2.31s\tremaining: 38.5s\n",
      "18:\tlearn: 1250.4902734\ttotal: 2.58s\tremaining: 38.2s\n",
      "20:\tlearn: 1241.0950999\ttotal: 2.89s\tremaining: 38.4s\n",
      "22:\tlearn: 1236.4676401\ttotal: 3.17s\tremaining: 38.2s\n",
      "24:\tlearn: 1231.0204346\ttotal: 3.43s\tremaining: 37.8s\n",
      "26:\tlearn: 1227.1525918\ttotal: 3.72s\tremaining: 37.6s\n",
      "28:\tlearn: 1222.4997614\ttotal: 4.04s\tremaining: 37.8s\n",
      "30:\tlearn: 1216.9497616\ttotal: 4.3s\tremaining: 37.3s\n",
      "32:\tlearn: 1212.1092195\ttotal: 4.61s\tremaining: 37.3s\n",
      "34:\tlearn: 1209.4831455\ttotal: 4.94s\tremaining: 37.4s\n",
      "36:\tlearn: 1206.9702601\ttotal: 5.28s\tremaining: 37.5s\n",
      "38:\tlearn: 1203.1214399\ttotal: 5.58s\tremaining: 37.4s\n",
      "40:\tlearn: 1200.1400406\ttotal: 5.89s\tremaining: 37.2s\n",
      "42:\tlearn: 1197.9387944\ttotal: 6.19s\tremaining: 37s\n",
      "44:\tlearn: 1194.9409255\ttotal: 6.51s\tremaining: 36.9s\n",
      "46:\tlearn: 1192.6396022\ttotal: 6.8s\tremaining: 36.6s\n",
      "48:\tlearn: 1190.0097078\ttotal: 7.09s\tremaining: 36.3s\n",
      "50:\tlearn: 1187.8103759\ttotal: 7.39s\tremaining: 36.1s\n",
      "52:\tlearn: 1185.3821842\ttotal: 7.69s\tremaining: 35.8s\n",
      "54:\tlearn: 1183.6520527\ttotal: 8.03s\tremaining: 35.8s\n",
      "56:\tlearn: 1182.1270637\ttotal: 8.37s\tremaining: 35.7s\n",
      "58:\tlearn: 1180.8312815\ttotal: 8.56s\tremaining: 35s\n",
      "60:\tlearn: 1178.9620838\ttotal: 8.79s\tremaining: 34.4s\n",
      "62:\tlearn: 1176.7875413\ttotal: 9.07s\tremaining: 34.1s\n",
      "64:\tlearn: 1175.9922653\ttotal: 9.37s\tremaining: 33.9s\n",
      "66:\tlearn: 1173.9517340\ttotal: 9.66s\tremaining: 33.6s\n",
      "68:\tlearn: 1172.9838453\ttotal: 9.96s\tremaining: 33.4s\n",
      "70:\tlearn: 1171.8486378\ttotal: 10.2s\tremaining: 33s\n",
      "72:\tlearn: 1170.3752401\ttotal: 10.5s\tremaining: 32.6s\n",
      "74:\tlearn: 1169.2013717\ttotal: 10.7s\tremaining: 32.2s\n",
      "76:\tlearn: 1167.7820673\ttotal: 11s\tremaining: 31.9s\n",
      "78:\tlearn: 1166.7447622\ttotal: 11.3s\tremaining: 31.5s\n",
      "80:\tlearn: 1165.4836552\ttotal: 11.5s\tremaining: 31.2s\n",
      "82:\tlearn: 1164.6464163\ttotal: 11.8s\tremaining: 31s\n",
      "84:\tlearn: 1163.6990512\ttotal: 12.2s\tremaining: 30.8s\n",
      "86:\tlearn: 1162.4884224\ttotal: 12.5s\tremaining: 30.5s\n",
      "88:\tlearn: 1160.8596006\ttotal: 12.7s\tremaining: 30.2s\n",
      "90:\tlearn: 1159.4000778\ttotal: 13s\tremaining: 29.9s\n",
      "92:\tlearn: 1158.4856412\ttotal: 13.3s\tremaining: 29.6s\n",
      "94:\tlearn: 1157.1197382\ttotal: 13.5s\tremaining: 29.2s\n",
      "96:\tlearn: 1155.0941972\ttotal: 13.9s\tremaining: 29s\n",
      "98:\tlearn: 1154.4599551\ttotal: 14.1s\tremaining: 28.7s\n",
      "100:\tlearn: 1153.5196613\ttotal: 14.4s\tremaining: 28.4s\n",
      "102:\tlearn: 1152.3812526\ttotal: 14.7s\tremaining: 28s\n",
      "104:\tlearn: 1151.0331492\ttotal: 14.9s\tremaining: 27.7s\n",
      "106:\tlearn: 1150.0025686\ttotal: 15.2s\tremaining: 27.5s\n",
      "108:\tlearn: 1149.0616473\ttotal: 15.6s\tremaining: 27.3s\n",
      "110:\tlearn: 1148.3179262\ttotal: 15.8s\tremaining: 27s\n",
      "112:\tlearn: 1147.1551851\ttotal: 16.1s\tremaining: 26.7s\n",
      "114:\tlearn: 1146.6903114\ttotal: 16.4s\tremaining: 26.3s\n",
      "116:\tlearn: 1145.7628835\ttotal: 16.7s\tremaining: 26.1s\n",
      "118:\tlearn: 1144.9386568\ttotal: 17s\tremaining: 25.8s\n",
      "120:\tlearn: 1144.1355884\ttotal: 17.3s\tremaining: 25.6s\n",
      "122:\tlearn: 1143.4206350\ttotal: 17.6s\tremaining: 25.3s\n",
      "124:\tlearn: 1143.0387717\ttotal: 17.8s\tremaining: 25s\n",
      "126:\tlearn: 1142.3132682\ttotal: 18.1s\tremaining: 24.7s\n",
      "128:\tlearn: 1141.5240776\ttotal: 18.4s\tremaining: 24.4s\n",
      "130:\tlearn: 1140.7451864\ttotal: 18.7s\tremaining: 24.1s\n",
      "132:\tlearn: 1139.5153207\ttotal: 19s\tremaining: 23.8s\n",
      "134:\tlearn: 1138.7440199\ttotal: 19.2s\tremaining: 23.5s\n",
      "136:\tlearn: 1138.1872201\ttotal: 19.5s\tremaining: 23.2s\n",
      "138:\tlearn: 1137.5140580\ttotal: 19.8s\tremaining: 23s\n",
      "140:\tlearn: 1136.6700646\ttotal: 20.1s\tremaining: 22.7s\n",
      "142:\tlearn: 1135.5728534\ttotal: 20.4s\tremaining: 22.4s\n",
      "144:\tlearn: 1134.6600412\ttotal: 20.8s\tremaining: 22.2s\n",
      "146:\tlearn: 1134.1438674\ttotal: 21.1s\tremaining: 21.9s\n",
      "148:\tlearn: 1133.5966744\ttotal: 21.4s\tremaining: 21.7s\n",
      "150:\tlearn: 1132.9799014\ttotal: 21.8s\tremaining: 21.5s\n",
      "152:\tlearn: 1132.0613779\ttotal: 22.1s\tremaining: 21.3s\n",
      "154:\tlearn: 1131.4943959\ttotal: 22.4s\tremaining: 20.9s\n",
      "156:\tlearn: 1130.7723800\ttotal: 22.8s\tremaining: 20.7s\n",
      "158:\tlearn: 1130.4858107\ttotal: 23.1s\tremaining: 20.5s\n",
      "160:\tlearn: 1129.3719159\ttotal: 23.4s\tremaining: 20.2s\n",
      "162:\tlearn: 1128.8846223\ttotal: 23.8s\tremaining: 20s\n",
      "164:\tlearn: 1128.1756633\ttotal: 24.2s\tremaining: 19.8s\n",
      "166:\tlearn: 1127.6240776\ttotal: 24.5s\tremaining: 19.5s\n",
      "168:\tlearn: 1127.2850305\ttotal: 24.7s\tremaining: 19.1s\n",
      "170:\tlearn: 1126.4416954\ttotal: 25s\tremaining: 18.8s\n",
      "172:\tlearn: 1126.1215479\ttotal: 25.3s\tremaining: 18.5s\n",
      "174:\tlearn: 1125.6059015\ttotal: 25.5s\tremaining: 18.2s\n",
      "176:\tlearn: 1125.1023706\ttotal: 25.8s\tremaining: 17.9s\n",
      "178:\tlearn: 1124.8311719\ttotal: 26.1s\tremaining: 17.7s\n",
      "180:\tlearn: 1123.6668603\ttotal: 26.4s\tremaining: 17.3s\n",
      "182:\tlearn: 1123.3253426\ttotal: 26.7s\tremaining: 17.1s\n",
      "184:\tlearn: 1122.5969326\ttotal: 27s\tremaining: 16.8s\n",
      "186:\tlearn: 1121.5207697\ttotal: 27.2s\tremaining: 16.5s\n",
      "188:\tlearn: 1121.0147827\ttotal: 27.5s\tremaining: 16.2s\n",
      "190:\tlearn: 1120.4466655\ttotal: 27.8s\tremaining: 15.9s\n",
      "192:\tlearn: 1119.9019125\ttotal: 28.1s\tremaining: 15.6s\n",
      "194:\tlearn: 1119.5773347\ttotal: 28.4s\tremaining: 15.3s\n",
      "196:\tlearn: 1118.9669604\ttotal: 28.6s\tremaining: 15s\n",
      "198:\tlearn: 1118.1592390\ttotal: 29s\tremaining: 14.7s\n",
      "200:\tlearn: 1117.4794910\ttotal: 29.2s\tremaining: 14.4s\n",
      "202:\tlearn: 1117.0964840\ttotal: 29.6s\tremaining: 14.1s\n",
      "204:\tlearn: 1116.8501197\ttotal: 29.9s\tremaining: 13.8s\n",
      "206:\tlearn: 1116.3734713\ttotal: 30.2s\tremaining: 13.6s\n",
      "208:\tlearn: 1115.3695652\ttotal: 30.4s\tremaining: 13.3s\n",
      "210:\tlearn: 1114.9693500\ttotal: 30.7s\tremaining: 13s\n",
      "212:\tlearn: 1114.5073906\ttotal: 31s\tremaining: 12.7s\n",
      "214:\tlearn: 1113.7591147\ttotal: 31.3s\tremaining: 12.4s\n",
      "216:\tlearn: 1113.1609681\ttotal: 31.5s\tremaining: 12.1s\n",
      "218:\tlearn: 1112.8065397\ttotal: 31.8s\tremaining: 11.8s\n",
      "220:\tlearn: 1112.2698393\ttotal: 32.1s\tremaining: 11.5s\n",
      "222:\tlearn: 1111.9347082\ttotal: 32.4s\tremaining: 11.2s\n",
      "224:\tlearn: 1111.1786375\ttotal: 32.8s\tremaining: 10.9s\n",
      "226:\tlearn: 1110.6508685\ttotal: 33.1s\tremaining: 10.6s\n",
      "228:\tlearn: 1110.1479179\ttotal: 33.6s\tremaining: 10.4s\n",
      "230:\tlearn: 1109.5474050\ttotal: 34s\tremaining: 10.1s\n",
      "232:\tlearn: 1109.1887889\ttotal: 34.2s\tremaining: 9.83s\n",
      "234:\tlearn: 1108.5512510\ttotal: 34.5s\tremaining: 9.53s\n",
      "236:\tlearn: 1108.2513103\ttotal: 34.7s\tremaining: 9.23s\n",
      "238:\tlearn: 1107.7775356\ttotal: 35s\tremaining: 8.95s\n",
      "240:\tlearn: 1106.8865022\ttotal: 35.3s\tremaining: 8.65s\n",
      "242:\tlearn: 1106.4655234\ttotal: 35.6s\tremaining: 8.35s\n",
      "244:\tlearn: 1105.7273516\ttotal: 35.9s\tremaining: 8.06s\n",
      "246:\tlearn: 1105.3842115\ttotal: 36.2s\tremaining: 7.78s\n",
      "248:\tlearn: 1104.9752047\ttotal: 36.5s\tremaining: 7.49s\n",
      "250:\tlearn: 1104.6919014\ttotal: 36.9s\tremaining: 7.21s\n",
      "252:\tlearn: 1103.9907342\ttotal: 37.3s\tremaining: 6.93s\n",
      "254:\tlearn: 1103.0817635\ttotal: 37.6s\tremaining: 6.63s\n",
      "256:\tlearn: 1102.8248360\ttotal: 37.9s\tremaining: 6.33s\n",
      "258:\tlearn: 1102.1361718\ttotal: 38.2s\tremaining: 6.04s\n",
      "260:\tlearn: 1101.1350097\ttotal: 38.4s\tremaining: 5.74s\n",
      "262:\tlearn: 1100.9209978\ttotal: 38.7s\tremaining: 5.44s\n",
      "264:\tlearn: 1100.6332947\ttotal: 39s\tremaining: 5.15s\n",
      "266:\tlearn: 1099.9769320\ttotal: 39.3s\tremaining: 4.86s\n",
      "268:\tlearn: 1099.3332945\ttotal: 39.7s\tremaining: 4.57s\n",
      "270:\tlearn: 1098.8981254\ttotal: 40.1s\tremaining: 4.29s\n",
      "272:\tlearn: 1098.5622665\ttotal: 40.4s\tremaining: 3.99s\n",
      "274:\tlearn: 1098.1158405\ttotal: 40.7s\tremaining: 3.7s\n",
      "276:\tlearn: 1097.7263251\ttotal: 41s\tremaining: 3.4s\n",
      "278:\tlearn: 1097.1911722\ttotal: 41.2s\tremaining: 3.1s\n",
      "280:\tlearn: 1096.6640786\ttotal: 41.5s\tremaining: 2.81s\n",
      "282:\tlearn: 1096.4163580\ttotal: 41.8s\tremaining: 2.51s\n",
      "284:\tlearn: 1095.9529621\ttotal: 42s\tremaining: 2.21s\n",
      "286:\tlearn: 1095.5967620\ttotal: 42.3s\tremaining: 1.91s\n",
      "288:\tlearn: 1095.4535524\ttotal: 42.6s\tremaining: 1.62s\n",
      "290:\tlearn: 1095.1694968\ttotal: 42.9s\tremaining: 1.33s\n",
      "292:\tlearn: 1094.7485668\ttotal: 43.1s\tremaining: 1.03s\n",
      "294:\tlearn: 1094.3506696\ttotal: 43.4s\tremaining: 736ms\n",
      "296:\tlearn: 1093.9967414\ttotal: 43.7s\tremaining: 442ms\n",
      "298:\tlearn: 1093.7358437\ttotal: 44s\tremaining: 147ms\n",
      "299:\tlearn: 1093.5784233\ttotal: 44.2s\tremaining: 0us\n",
      "[CV] END ..................iterations=300, learning_rate=0.5; total time=  45.1s\n",
      "0:\tlearn: 1921.8440852\ttotal: 150ms\tremaining: 44.9s\n",
      "2:\tlearn: 1446.7933697\ttotal: 417ms\tremaining: 41.3s\n",
      "4:\tlearn: 1344.7508469\ttotal: 681ms\tremaining: 40.2s\n",
      "6:\tlearn: 1313.2850039\ttotal: 952ms\tremaining: 39.9s\n",
      "8:\tlearn: 1290.6585561\ttotal: 1.24s\tremaining: 40s\n",
      "10:\tlearn: 1277.1608964\ttotal: 1.51s\tremaining: 39.7s\n",
      "12:\tlearn: 1268.3232782\ttotal: 1.82s\tremaining: 40.1s\n",
      "14:\tlearn: 1255.2677576\ttotal: 2.09s\tremaining: 39.8s\n",
      "16:\tlearn: 1245.2699566\ttotal: 2.36s\tremaining: 39.2s\n",
      "18:\tlearn: 1239.1422494\ttotal: 2.65s\tremaining: 39.2s\n",
      "20:\tlearn: 1233.9581506\ttotal: 2.93s\tremaining: 39s\n",
      "22:\tlearn: 1228.6015232\ttotal: 3.21s\tremaining: 38.7s\n",
      "24:\tlearn: 1221.9839943\ttotal: 3.5s\tremaining: 38.6s\n",
      "26:\tlearn: 1215.8866571\ttotal: 3.78s\tremaining: 38.2s\n",
      "28:\tlearn: 1212.7154152\ttotal: 4.05s\tremaining: 37.8s\n",
      "30:\tlearn: 1208.5837929\ttotal: 4.39s\tremaining: 38.1s\n",
      "32:\tlearn: 1203.5915901\ttotal: 4.7s\tremaining: 38s\n",
      "34:\tlearn: 1199.4609900\ttotal: 4.98s\tremaining: 37.7s\n",
      "36:\tlearn: 1195.8861844\ttotal: 5.27s\tremaining: 37.4s\n",
      "38:\tlearn: 1193.0151484\ttotal: 5.57s\tremaining: 37.3s\n",
      "40:\tlearn: 1190.1368389\ttotal: 5.83s\tremaining: 36.9s\n",
      "42:\tlearn: 1187.8325359\ttotal: 6.06s\tremaining: 36.2s\n",
      "44:\tlearn: 1184.7064174\ttotal: 6.34s\tremaining: 35.9s\n",
      "46:\tlearn: 1183.2736547\ttotal: 6.6s\tremaining: 35.5s\n",
      "48:\tlearn: 1181.6810060\ttotal: 6.86s\tremaining: 35.1s\n",
      "50:\tlearn: 1178.9409077\ttotal: 7.14s\tremaining: 34.8s\n",
      "52:\tlearn: 1176.5585901\ttotal: 7.38s\tremaining: 34.4s\n",
      "54:\tlearn: 1174.3859608\ttotal: 7.7s\tremaining: 34.3s\n",
      "56:\tlearn: 1172.2273694\ttotal: 8.01s\tremaining: 34.1s\n",
      "58:\tlearn: 1170.8226143\ttotal: 8.35s\tremaining: 34.1s\n",
      "60:\tlearn: 1169.5585642\ttotal: 8.71s\tremaining: 34.1s\n",
      "62:\tlearn: 1168.1779127\ttotal: 9.02s\tremaining: 33.9s\n",
      "64:\tlearn: 1166.9000521\ttotal: 9.37s\tremaining: 33.9s\n",
      "66:\tlearn: 1165.9685477\ttotal: 9.66s\tremaining: 33.6s\n",
      "68:\tlearn: 1164.8831653\ttotal: 10s\tremaining: 33.6s\n",
      "70:\tlearn: 1163.5611114\ttotal: 10.4s\tremaining: 33.4s\n",
      "72:\tlearn: 1161.9765862\ttotal: 10.7s\tremaining: 33.2s\n",
      "74:\tlearn: 1159.9229824\ttotal: 11s\tremaining: 33.1s\n",
      "76:\tlearn: 1158.5583606\ttotal: 11.3s\tremaining: 32.6s\n",
      "78:\tlearn: 1157.2104077\ttotal: 11.5s\tremaining: 32.1s\n",
      "80:\tlearn: 1156.0791701\ttotal: 11.7s\tremaining: 31.7s\n",
      "82:\tlearn: 1155.1613253\ttotal: 11.9s\tremaining: 31.2s\n",
      "84:\tlearn: 1153.9157594\ttotal: 12.3s\tremaining: 31s\n",
      "86:\tlearn: 1153.0736423\ttotal: 12.5s\tremaining: 30.7s\n",
      "88:\tlearn: 1152.0535663\ttotal: 12.8s\tremaining: 30.4s\n",
      "90:\tlearn: 1150.6057676\ttotal: 13.1s\tremaining: 30.2s\n",
      "92:\tlearn: 1149.8883616\ttotal: 13.4s\tremaining: 29.8s\n",
      "94:\tlearn: 1149.0189565\ttotal: 13.6s\tremaining: 29.4s\n",
      "96:\tlearn: 1148.4916760\ttotal: 13.9s\tremaining: 29s\n",
      "98:\tlearn: 1146.8317635\ttotal: 14.2s\tremaining: 28.7s\n",
      "100:\tlearn: 1146.3208004\ttotal: 14.4s\tremaining: 28.4s\n",
      "102:\tlearn: 1145.7618459\ttotal: 14.6s\tremaining: 28s\n",
      "104:\tlearn: 1145.0011274\ttotal: 14.9s\tremaining: 27.6s\n",
      "106:\tlearn: 1144.3021298\ttotal: 15.2s\tremaining: 27.4s\n",
      "108:\tlearn: 1143.1546536\ttotal: 15.4s\tremaining: 27s\n",
      "110:\tlearn: 1142.5794188\ttotal: 15.7s\tremaining: 26.7s\n",
      "112:\tlearn: 1142.0118051\ttotal: 16s\tremaining: 26.5s\n",
      "114:\tlearn: 1141.1997973\ttotal: 16.2s\tremaining: 26.1s\n",
      "116:\tlearn: 1140.3165414\ttotal: 16.5s\tremaining: 25.7s\n",
      "118:\tlearn: 1139.3833386\ttotal: 16.7s\tremaining: 25.4s\n",
      "120:\tlearn: 1137.9624952\ttotal: 17s\tremaining: 25.2s\n",
      "122:\tlearn: 1136.8758401\ttotal: 17.3s\tremaining: 24.9s\n",
      "124:\tlearn: 1136.3598078\ttotal: 17.5s\tremaining: 24.6s\n",
      "126:\tlearn: 1135.5171919\ttotal: 17.8s\tremaining: 24.3s\n",
      "128:\tlearn: 1134.9619634\ttotal: 18.2s\tremaining: 24.1s\n",
      "130:\tlearn: 1133.5275642\ttotal: 18.4s\tremaining: 23.8s\n",
      "132:\tlearn: 1132.6342342\ttotal: 18.7s\tremaining: 23.5s\n",
      "134:\tlearn: 1131.9136846\ttotal: 19.1s\tremaining: 23.3s\n",
      "136:\tlearn: 1131.5341875\ttotal: 19.3s\tremaining: 23s\n",
      "138:\tlearn: 1131.3592111\ttotal: 19.6s\tremaining: 22.7s\n",
      "140:\tlearn: 1130.7227587\ttotal: 19.8s\tremaining: 22.4s\n",
      "142:\tlearn: 1130.1891908\ttotal: 20.2s\tremaining: 22.1s\n",
      "144:\tlearn: 1129.3234264\ttotal: 20.4s\tremaining: 21.8s\n",
      "146:\tlearn: 1128.6618079\ttotal: 20.7s\tremaining: 21.5s\n",
      "148:\tlearn: 1128.0691353\ttotal: 21s\tremaining: 21.3s\n",
      "150:\tlearn: 1127.5027850\ttotal: 21.3s\tremaining: 21s\n",
      "152:\tlearn: 1126.7522300\ttotal: 21.6s\tremaining: 20.7s\n",
      "154:\tlearn: 1126.1391418\ttotal: 21.9s\tremaining: 20.5s\n",
      "156:\tlearn: 1125.4609780\ttotal: 22.2s\tremaining: 20.2s\n",
      "158:\tlearn: 1125.0852856\ttotal: 22.5s\tremaining: 20s\n",
      "160:\tlearn: 1124.2571558\ttotal: 22.8s\tremaining: 19.7s\n",
      "162:\tlearn: 1123.4533563\ttotal: 23.1s\tremaining: 19.4s\n",
      "164:\tlearn: 1122.7079394\ttotal: 23.4s\tremaining: 19.1s\n",
      "166:\tlearn: 1121.8925889\ttotal: 23.7s\tremaining: 18.9s\n",
      "168:\tlearn: 1121.4537380\ttotal: 24s\tremaining: 18.6s\n",
      "170:\tlearn: 1120.5530315\ttotal: 24.3s\tremaining: 18.4s\n",
      "172:\tlearn: 1119.8938093\ttotal: 24.6s\tremaining: 18s\n",
      "174:\tlearn: 1119.0585211\ttotal: 24.9s\tremaining: 17.8s\n",
      "176:\tlearn: 1118.7508583\ttotal: 25.3s\tremaining: 17.6s\n",
      "178:\tlearn: 1118.3747027\ttotal: 25.6s\tremaining: 17.3s\n",
      "180:\tlearn: 1117.8509771\ttotal: 25.9s\tremaining: 17s\n",
      "182:\tlearn: 1117.4918939\ttotal: 26.3s\tremaining: 16.8s\n",
      "184:\tlearn: 1117.2126515\ttotal: 26.7s\tremaining: 16.6s\n",
      "186:\tlearn: 1116.7983655\ttotal: 26.9s\tremaining: 16.3s\n",
      "188:\tlearn: 1116.2597995\ttotal: 27.2s\tremaining: 16s\n",
      "190:\tlearn: 1115.7631232\ttotal: 27.5s\tremaining: 15.7s\n",
      "192:\tlearn: 1115.3098721\ttotal: 27.8s\tremaining: 15.4s\n",
      "194:\tlearn: 1114.8871490\ttotal: 28.1s\tremaining: 15.1s\n",
      "196:\tlearn: 1114.2090506\ttotal: 28.3s\tremaining: 14.8s\n",
      "198:\tlearn: 1113.6257933\ttotal: 28.5s\tremaining: 14.4s\n",
      "200:\tlearn: 1112.8415175\ttotal: 28.8s\tremaining: 14.2s\n",
      "202:\tlearn: 1112.5213151\ttotal: 29s\tremaining: 13.9s\n",
      "204:\tlearn: 1112.2339930\ttotal: 29.3s\tremaining: 13.6s\n",
      "206:\tlearn: 1111.7714227\ttotal: 29.6s\tremaining: 13.3s\n",
      "208:\tlearn: 1111.0244093\ttotal: 30s\tremaining: 13s\n",
      "210:\tlearn: 1110.0184356\ttotal: 30.2s\tremaining: 12.8s\n",
      "212:\tlearn: 1109.4873873\ttotal: 30.5s\tremaining: 12.5s\n",
      "214:\tlearn: 1109.0554581\ttotal: 30.8s\tremaining: 12.2s\n",
      "216:\tlearn: 1108.3091861\ttotal: 31.1s\tremaining: 11.9s\n",
      "218:\tlearn: 1107.9129665\ttotal: 31.4s\tremaining: 11.6s\n",
      "220:\tlearn: 1107.5595090\ttotal: 31.7s\tremaining: 11.3s\n",
      "222:\tlearn: 1107.1464431\ttotal: 31.9s\tremaining: 11s\n",
      "224:\tlearn: 1106.7883182\ttotal: 32.2s\tremaining: 10.7s\n",
      "226:\tlearn: 1106.1938807\ttotal: 32.5s\tremaining: 10.4s\n",
      "228:\tlearn: 1105.7577087\ttotal: 32.7s\tremaining: 10.1s\n",
      "230:\tlearn: 1105.6353213\ttotal: 32.9s\tremaining: 9.84s\n",
      "232:\tlearn: 1105.1980720\ttotal: 33.2s\tremaining: 9.55s\n",
      "234:\tlearn: 1104.7025153\ttotal: 33.5s\tremaining: 9.26s\n",
      "236:\tlearn: 1104.2564982\ttotal: 33.8s\tremaining: 8.97s\n",
      "238:\tlearn: 1103.5201663\ttotal: 34.1s\tremaining: 8.69s\n",
      "240:\tlearn: 1103.0043620\ttotal: 34.3s\tremaining: 8.4s\n",
      "242:\tlearn: 1102.4978196\ttotal: 34.6s\tremaining: 8.12s\n",
      "244:\tlearn: 1101.9412029\ttotal: 34.9s\tremaining: 7.84s\n",
      "246:\tlearn: 1101.5753018\ttotal: 35.2s\tremaining: 7.55s\n",
      "248:\tlearn: 1101.1247890\ttotal: 35.5s\tremaining: 7.26s\n",
      "250:\tlearn: 1100.8379782\ttotal: 35.8s\tremaining: 6.98s\n",
      "252:\tlearn: 1100.3057954\ttotal: 36s\tremaining: 6.7s\n",
      "254:\tlearn: 1099.9407526\ttotal: 36.3s\tremaining: 6.41s\n",
      "256:\tlearn: 1099.5334546\ttotal: 36.6s\tremaining: 6.12s\n",
      "258:\tlearn: 1099.0288152\ttotal: 36.9s\tremaining: 5.84s\n",
      "260:\tlearn: 1098.3872596\ttotal: 37.2s\tremaining: 5.56s\n",
      "262:\tlearn: 1097.8580565\ttotal: 37.4s\tremaining: 5.26s\n",
      "264:\tlearn: 1097.3887502\ttotal: 37.7s\tremaining: 4.98s\n",
      "266:\tlearn: 1097.0099193\ttotal: 38s\tremaining: 4.69s\n",
      "268:\tlearn: 1096.6116921\ttotal: 38.3s\tremaining: 4.41s\n",
      "270:\tlearn: 1096.0673104\ttotal: 38.6s\tremaining: 4.13s\n",
      "272:\tlearn: 1095.1500271\ttotal: 38.9s\tremaining: 3.84s\n",
      "274:\tlearn: 1094.5371618\ttotal: 39.2s\tremaining: 3.56s\n",
      "276:\tlearn: 1094.3420240\ttotal: 39.4s\tremaining: 3.27s\n",
      "278:\tlearn: 1093.8156624\ttotal: 39.8s\tremaining: 2.99s\n",
      "280:\tlearn: 1093.3639796\ttotal: 40.1s\tremaining: 2.71s\n",
      "282:\tlearn: 1092.9835847\ttotal: 40.4s\tremaining: 2.43s\n",
      "284:\tlearn: 1092.6415928\ttotal: 40.8s\tremaining: 2.15s\n",
      "286:\tlearn: 1091.9013506\ttotal: 41.1s\tremaining: 1.86s\n",
      "288:\tlearn: 1091.4023996\ttotal: 41.4s\tremaining: 1.58s\n",
      "290:\tlearn: 1090.9733278\ttotal: 41.8s\tremaining: 1.29s\n",
      "292:\tlearn: 1090.5137064\ttotal: 42.1s\tremaining: 1s\n",
      "294:\tlearn: 1089.8148257\ttotal: 42.4s\tremaining: 719ms\n",
      "296:\tlearn: 1089.5031471\ttotal: 42.8s\tremaining: 432ms\n",
      "298:\tlearn: 1089.4244928\ttotal: 43.1s\tremaining: 144ms\n",
      "299:\tlearn: 1089.1914295\ttotal: 43.2s\tremaining: 0us\n",
      "[CV] END ..................iterations=300, learning_rate=0.5; total time=  44.1s\n",
      "0:\tlearn: 2185.5520521\ttotal: 202ms\tremaining: 1m\n",
      "2:\tlearn: 1695.0570607\ttotal: 621ms\tremaining: 1m 1s\n",
      "4:\tlearn: 1476.2423190\ttotal: 1.02s\tremaining: 1m\n",
      "6:\tlearn: 1381.1072245\ttotal: 1.35s\tremaining: 56.5s\n",
      "8:\tlearn: 1333.0322881\ttotal: 1.65s\tremaining: 53.3s\n",
      "10:\tlearn: 1306.6764385\ttotal: 2.08s\tremaining: 54.7s\n",
      "12:\tlearn: 1287.9185688\ttotal: 2.44s\tremaining: 53.9s\n",
      "14:\tlearn: 1277.1237820\ttotal: 2.84s\tremaining: 54s\n",
      "16:\tlearn: 1265.7420936\ttotal: 3.12s\tremaining: 52s\n",
      "18:\tlearn: 1259.1093637\ttotal: 3.52s\tremaining: 52s\n",
      "20:\tlearn: 1253.0577370\ttotal: 3.92s\tremaining: 52.1s\n",
      "22:\tlearn: 1247.1568982\ttotal: 4.56s\tremaining: 55s\n",
      "24:\tlearn: 1241.0893929\ttotal: 5.01s\tremaining: 55.1s\n",
      "26:\tlearn: 1237.0636156\ttotal: 5.47s\tremaining: 55.3s\n",
      "28:\tlearn: 1233.2159557\ttotal: 5.97s\tremaining: 55.8s\n",
      "30:\tlearn: 1229.6029992\ttotal: 6.32s\tremaining: 54.8s\n",
      "32:\tlearn: 1227.3768463\ttotal: 6.68s\tremaining: 54s\n",
      "34:\tlearn: 1223.2080004\ttotal: 7.17s\tremaining: 54.3s\n",
      "36:\tlearn: 1220.5099342\ttotal: 7.63s\tremaining: 54.2s\n",
      "38:\tlearn: 1216.6999939\ttotal: 8.02s\tremaining: 53.6s\n",
      "40:\tlearn: 1214.5393167\ttotal: 8.44s\tremaining: 53.3s\n",
      "42:\tlearn: 1211.9095676\ttotal: 8.81s\tremaining: 52.7s\n",
      "44:\tlearn: 1209.7569181\ttotal: 9.27s\tremaining: 52.6s\n",
      "46:\tlearn: 1207.6478326\ttotal: 9.88s\tremaining: 53.2s\n",
      "48:\tlearn: 1204.4807145\ttotal: 10.4s\tremaining: 53.5s\n",
      "50:\tlearn: 1202.4413081\ttotal: 10.9s\tremaining: 53.3s\n",
      "52:\tlearn: 1200.4948339\ttotal: 11.3s\tremaining: 52.9s\n",
      "54:\tlearn: 1198.5238629\ttotal: 11.8s\tremaining: 52.7s\n",
      "56:\tlearn: 1195.9883496\ttotal: 12.3s\tremaining: 52.6s\n",
      "58:\tlearn: 1194.2949217\ttotal: 12.8s\tremaining: 52.3s\n",
      "60:\tlearn: 1191.5891668\ttotal: 13.2s\tremaining: 51.6s\n",
      "62:\tlearn: 1190.3927695\ttotal: 13.7s\tremaining: 51.4s\n",
      "64:\tlearn: 1188.7004390\ttotal: 14.2s\tremaining: 51.2s\n",
      "66:\tlearn: 1187.4272562\ttotal: 14.7s\tremaining: 51.3s\n",
      "68:\tlearn: 1186.2558880\ttotal: 15.2s\tremaining: 50.9s\n",
      "70:\tlearn: 1184.1866653\ttotal: 16.1s\tremaining: 51.8s\n",
      "72:\tlearn: 1183.1545388\ttotal: 16.5s\tremaining: 51.3s\n",
      "74:\tlearn: 1182.0194025\ttotal: 17.1s\tremaining: 51.2s\n",
      "76:\tlearn: 1180.7586688\ttotal: 17.4s\tremaining: 50.5s\n",
      "78:\tlearn: 1178.6189270\ttotal: 17.8s\tremaining: 49.8s\n",
      "80:\tlearn: 1177.4903694\ttotal: 18.2s\tremaining: 49.2s\n",
      "82:\tlearn: 1176.4237036\ttotal: 18.7s\tremaining: 48.8s\n",
      "84:\tlearn: 1174.8124793\ttotal: 19.2s\tremaining: 48.5s\n",
      "86:\tlearn: 1173.7105251\ttotal: 19.7s\tremaining: 48.2s\n",
      "88:\tlearn: 1172.7744221\ttotal: 20.1s\tremaining: 47.7s\n",
      "90:\tlearn: 1171.9677804\ttotal: 20.6s\tremaining: 47.3s\n",
      "92:\tlearn: 1170.7322938\ttotal: 21.1s\tremaining: 47s\n",
      "94:\tlearn: 1169.5409653\ttotal: 21.6s\tremaining: 46.6s\n",
      "96:\tlearn: 1168.5664291\ttotal: 22s\tremaining: 46.1s\n",
      "98:\tlearn: 1167.8869214\ttotal: 22.5s\tremaining: 45.7s\n",
      "100:\tlearn: 1166.7937603\ttotal: 23s\tremaining: 45.3s\n",
      "102:\tlearn: 1166.0773958\ttotal: 23.4s\tremaining: 44.7s\n",
      "104:\tlearn: 1165.4235565\ttotal: 23.7s\tremaining: 44s\n",
      "106:\tlearn: 1164.7063185\ttotal: 24.1s\tremaining: 43.4s\n",
      "108:\tlearn: 1163.8133001\ttotal: 24.5s\tremaining: 42.9s\n",
      "110:\tlearn: 1163.0252324\ttotal: 25.1s\tremaining: 42.8s\n",
      "112:\tlearn: 1162.1305260\ttotal: 25.6s\tremaining: 42.3s\n",
      "114:\tlearn: 1160.9250352\ttotal: 26s\tremaining: 41.9s\n",
      "116:\tlearn: 1160.1448147\ttotal: 26.4s\tremaining: 41.3s\n",
      "118:\tlearn: 1159.0800693\ttotal: 26.8s\tremaining: 40.7s\n",
      "120:\tlearn: 1158.5853399\ttotal: 27.2s\tremaining: 40.2s\n",
      "122:\tlearn: 1157.8678227\ttotal: 27.6s\tremaining: 39.6s\n",
      "124:\tlearn: 1157.0626261\ttotal: 28s\tremaining: 39.2s\n",
      "126:\tlearn: 1156.4601534\ttotal: 28.6s\tremaining: 39s\n",
      "128:\tlearn: 1155.4300233\ttotal: 29.2s\tremaining: 38.7s\n",
      "130:\tlearn: 1155.1530083\ttotal: 29.6s\tremaining: 38.2s\n",
      "132:\tlearn: 1154.5612142\ttotal: 30s\tremaining: 37.6s\n",
      "134:\tlearn: 1154.0496221\ttotal: 30.3s\tremaining: 37.1s\n",
      "136:\tlearn: 1153.7236837\ttotal: 30.8s\tremaining: 36.6s\n",
      "138:\tlearn: 1152.8935082\ttotal: 31.2s\tremaining: 36.1s\n",
      "140:\tlearn: 1151.9455071\ttotal: 31.6s\tremaining: 35.6s\n",
      "142:\tlearn: 1151.4990404\ttotal: 32.1s\tremaining: 35.2s\n",
      "144:\tlearn: 1151.0064429\ttotal: 32.4s\tremaining: 34.7s\n",
      "146:\tlearn: 1150.4609076\ttotal: 32.8s\tremaining: 34.2s\n",
      "148:\tlearn: 1149.8644767\ttotal: 33.2s\tremaining: 33.7s\n",
      "150:\tlearn: 1149.3245826\ttotal: 33.7s\tremaining: 33.2s\n",
      "152:\tlearn: 1148.7520595\ttotal: 34s\tremaining: 32.7s\n",
      "154:\tlearn: 1147.9740361\ttotal: 34.4s\tremaining: 32.2s\n",
      "156:\tlearn: 1147.7652194\ttotal: 35s\tremaining: 31.9s\n",
      "158:\tlearn: 1147.3086612\ttotal: 35.5s\tremaining: 31.5s\n",
      "160:\tlearn: 1146.6359141\ttotal: 36s\tremaining: 31.1s\n",
      "162:\tlearn: 1145.9828390\ttotal: 36.5s\tremaining: 30.7s\n",
      "164:\tlearn: 1144.9649595\ttotal: 36.9s\tremaining: 30.2s\n",
      "166:\tlearn: 1144.5384196\ttotal: 37.3s\tremaining: 29.7s\n",
      "168:\tlearn: 1144.1028950\ttotal: 37.6s\tremaining: 29.1s\n",
      "170:\tlearn: 1143.7217644\ttotal: 38.2s\tremaining: 28.8s\n",
      "172:\tlearn: 1143.3819222\ttotal: 38.6s\tremaining: 28.3s\n",
      "174:\tlearn: 1142.8093780\ttotal: 39.1s\tremaining: 27.9s\n",
      "176:\tlearn: 1142.1905822\ttotal: 39.5s\tremaining: 27.5s\n",
      "178:\tlearn: 1141.6938472\ttotal: 39.9s\tremaining: 27s\n",
      "180:\tlearn: 1141.2548900\ttotal: 40.5s\tremaining: 26.6s\n",
      "182:\tlearn: 1140.6887528\ttotal: 40.9s\tremaining: 26.2s\n",
      "184:\tlearn: 1140.0829223\ttotal: 41.4s\tremaining: 25.7s\n",
      "186:\tlearn: 1139.6836739\ttotal: 41.8s\tremaining: 25.3s\n",
      "188:\tlearn: 1138.7675291\ttotal: 42.4s\tremaining: 24.9s\n",
      "190:\tlearn: 1138.2830009\ttotal: 42.9s\tremaining: 24.5s\n",
      "192:\tlearn: 1137.8982709\ttotal: 43.4s\tremaining: 24.1s\n",
      "194:\tlearn: 1137.4696706\ttotal: 43.9s\tremaining: 23.6s\n",
      "196:\tlearn: 1136.9663673\ttotal: 44.5s\tremaining: 23.2s\n",
      "198:\tlearn: 1136.4540414\ttotal: 44.9s\tremaining: 22.8s\n",
      "200:\tlearn: 1135.8504267\ttotal: 45.4s\tremaining: 22.3s\n",
      "202:\tlearn: 1135.3778085\ttotal: 45.9s\tremaining: 21.9s\n",
      "204:\tlearn: 1134.9654054\ttotal: 46.4s\tremaining: 21.5s\n",
      "206:\tlearn: 1134.2524876\ttotal: 46.8s\tremaining: 21s\n",
      "208:\tlearn: 1133.8600898\ttotal: 47.3s\tremaining: 20.6s\n",
      "210:\tlearn: 1133.3893659\ttotal: 47.8s\tremaining: 20.1s\n",
      "212:\tlearn: 1132.7947250\ttotal: 48.2s\tremaining: 19.7s\n",
      "214:\tlearn: 1132.4790412\ttotal: 48.5s\tremaining: 19.2s\n",
      "216:\tlearn: 1132.2018330\ttotal: 48.9s\tremaining: 18.7s\n",
      "218:\tlearn: 1131.8857509\ttotal: 49.4s\tremaining: 18.3s\n",
      "220:\tlearn: 1131.4321576\ttotal: 49.8s\tremaining: 17.8s\n",
      "222:\tlearn: 1130.7264104\ttotal: 50.3s\tremaining: 17.4s\n",
      "224:\tlearn: 1130.4356213\ttotal: 50.8s\tremaining: 16.9s\n",
      "226:\tlearn: 1129.8652962\ttotal: 51.2s\tremaining: 16.5s\n",
      "228:\tlearn: 1129.4595883\ttotal: 51.7s\tremaining: 16s\n",
      "230:\tlearn: 1129.3055299\ttotal: 52.2s\tremaining: 15.6s\n",
      "232:\tlearn: 1128.9127738\ttotal: 52.7s\tremaining: 15.1s\n",
      "234:\tlearn: 1128.3777153\ttotal: 53.2s\tremaining: 14.7s\n",
      "236:\tlearn: 1128.0857589\ttotal: 53.7s\tremaining: 14.3s\n",
      "238:\tlearn: 1127.4344556\ttotal: 54.1s\tremaining: 13.8s\n",
      "240:\tlearn: 1126.8220273\ttotal: 54.6s\tremaining: 13.4s\n",
      "242:\tlearn: 1126.3713433\ttotal: 55s\tremaining: 12.9s\n",
      "244:\tlearn: 1125.7547034\ttotal: 55.5s\tremaining: 12.5s\n",
      "246:\tlearn: 1125.3581865\ttotal: 55.8s\tremaining: 12s\n",
      "248:\tlearn: 1125.1107344\ttotal: 56.2s\tremaining: 11.5s\n",
      "250:\tlearn: 1124.8537804\ttotal: 56.7s\tremaining: 11.1s\n",
      "252:\tlearn: 1124.4019026\ttotal: 57.2s\tremaining: 10.6s\n",
      "254:\tlearn: 1123.8745437\ttotal: 57.7s\tremaining: 10.2s\n",
      "256:\tlearn: 1123.4842795\ttotal: 58.1s\tremaining: 9.72s\n",
      "258:\tlearn: 1123.1923887\ttotal: 58.5s\tremaining: 9.26s\n",
      "260:\tlearn: 1123.0197822\ttotal: 58.9s\tremaining: 8.8s\n",
      "262:\tlearn: 1122.7748146\ttotal: 59.4s\tremaining: 8.36s\n",
      "264:\tlearn: 1122.5127050\ttotal: 59.9s\tremaining: 7.91s\n",
      "266:\tlearn: 1122.1947742\ttotal: 1m\tremaining: 7.46s\n",
      "268:\tlearn: 1121.8745239\ttotal: 1m\tremaining: 7s\n",
      "270:\tlearn: 1121.4129868\ttotal: 1m 1s\tremaining: 6.56s\n",
      "272:\tlearn: 1120.9260127\ttotal: 1m 1s\tremaining: 6.11s\n",
      "274:\tlearn: 1120.5912775\ttotal: 1m 2s\tremaining: 5.66s\n",
      "276:\tlearn: 1119.9892900\ttotal: 1m 2s\tremaining: 5.21s\n",
      "278:\tlearn: 1119.7409895\ttotal: 1m 3s\tremaining: 4.75s\n",
      "280:\tlearn: 1119.1259094\ttotal: 1m 3s\tremaining: 4.3s\n",
      "282:\tlearn: 1118.8137767\ttotal: 1m 4s\tremaining: 3.85s\n",
      "284:\tlearn: 1118.3946032\ttotal: 1m 4s\tremaining: 3.4s\n",
      "286:\tlearn: 1118.2424141\ttotal: 1m 5s\tremaining: 2.95s\n",
      "288:\tlearn: 1117.9475473\ttotal: 1m 5s\tremaining: 2.5s\n",
      "290:\tlearn: 1117.7393631\ttotal: 1m 5s\tremaining: 2.04s\n",
      "292:\tlearn: 1117.2237158\ttotal: 1m 6s\tremaining: 1.59s\n",
      "294:\tlearn: 1117.0728005\ttotal: 1m 6s\tremaining: 1.13s\n",
      "296:\tlearn: 1116.6672053\ttotal: 1m 7s\tremaining: 679ms\n",
      "298:\tlearn: 1116.2614303\ttotal: 1m 7s\tremaining: 226ms\n",
      "299:\tlearn: 1116.1693577\ttotal: 1m 7s\tremaining: 0us\n",
      "Best parameters set found on development set:\n",
      "\n",
      "{'iterations': 300, 'learning_rate': 0.3}\n",
      "\n",
      "Grid scores on development set:\n",
      "\n",
      "1239.032282 for {'iterations': 100, 'learning_rate': 0.1}\n",
      "1196.156365 for {'iterations': 100, 'learning_rate': 0.3}\n",
      "1188.863871 for {'iterations': 100, 'learning_rate': 0.5}\n",
      "1188.374889 for {'iterations': 200, 'learning_rate': 0.1}\n",
      "1162.329196 for {'iterations': 200, 'learning_rate': 0.3}\n",
      "1161.846291 for {'iterations': 200, 'learning_rate': 0.5}\n",
      "1173.467046 for {'iterations': 300, 'learning_rate': 0.1}\n",
      "1153.867351 for {'iterations': 300, 'learning_rate': 0.3}\n",
      "1154.839968 for {'iterations': 300, 'learning_rate': 0.5}\n",
      "\n",
      "CPU times: total: 37min 15s\n",
      "Wall time: 13min 59s\n"
     ]
    }
   ],
   "source": [
    "%%time\n",
    "\n",
    "cat_model = CatBoostRegressor(random_state=282, \n",
    "                              verbose=2,\n",
    "                              cat_features=['vehicle_type', 'registration_year', 'gearbox', 'fuel_type','brand','model']) \n",
    "\n",
    "parameters = {'iterations':[100, 200, 300],\n",
    "              'learning_rate':[0.1, 0.3, 0.5] }\n",
    "\n",
    "print('# Tuning hyper-parameters for root_mean_squared_error')\n",
    "print()\n",
    "clf = GridSearchCV(cat_model, \n",
    "                   parameters, \n",
    "                   scoring='neg_mean_squared_error', \n",
    "                   cv=3,\n",
    "                   verbose=2)\n",
    "clf.fit(original_features_train, target_train)\n",
    "\n",
    "print(\"Best parameters set found on development set:\")\n",
    "print()\n",
    "print(clf.best_params_)\n",
    "print()\n",
    "print(\"Grid scores on development set:\")\n",
    "print()\n",
    "means = clf.cv_results_['mean_test_score']\n",
    "\n",
    "for mean, params in zip(means, clf.cv_results_['params']):\n",
    "    print(\"%0.6f for %r\"% ((mean*-1)** 0.5, params))\n",
    "print()\n",
    "\n",
    "cv_RMSE_cat = (max(means)*-1) ** 0.5"
   ]
  },
  {
   "cell_type": "code",
   "execution_count": 53,
   "metadata": {},
   "outputs": [
    {
     "data": {
      "text/plain": [
       "1153.8673514302504"
      ]
     },
     "execution_count": 53,
     "metadata": {},
     "output_type": "execute_result"
    }
   ],
   "source": [
    "cv_RMSE_cat"
   ]
  },
  {
   "cell_type": "markdown",
   "metadata": {},
   "source": [
    "Лучший результат RMSE 1153.867351 for {'iterations': 300, 'learning_rate': 0.3}"
   ]
  },
  {
   "cell_type": "markdown",
   "metadata": {},
   "source": [
    "**Вывод:** подготовлены 4 модели и подобраны лучшие параметры для расчтета метрики MSE. В следующем раздлеле протестируем модели на отобранных параметрах и определим время обучения и предсказания."
   ]
  },
  {
   "cell_type": "markdown",
   "metadata": {},
   "source": [
    "## Анализ моделей"
   ]
  },
  {
   "cell_type": "markdown",
   "metadata": {},
   "source": [
    "### Линейная регрессия"
   ]
  },
  {
   "cell_type": "code",
   "execution_count": 54,
   "metadata": {},
   "outputs": [
    {
     "name": "stdout",
     "output_type": "stream",
     "text": [
      "Training for RMSE:\n",
      "\n",
      "Mean RMSE from CV of LinearRegression = 1763.1315815514622\n",
      "Mean fittime from CV of LinearRegression = 6.918235349655151\n",
      "Mean predicttime from CV of LinearRegression = 0.2272655487060547\n"
     ]
    }
   ],
   "source": [
    "linear_model = LinearRegression()\n",
    "print('Training for RMSE:')\n",
    "print()\n",
    "linear_model_info = (cross_validate(linear_model, \n",
    "                             ohe_features_train, \n",
    "                             target_train, \n",
    "                             cv=5, \n",
    "                             scoring='neg_mean_squared_error'))\n",
    "\n",
    "linear_model_rmse_train = (linear_model_info['test_score'].mean() * -1) ** 0.5\n",
    "linear_model_fittime_train = linear_model_info['fit_time'].mean()\n",
    "linear_model_predicttime_train = linear_model_info['score_time'].mean()\n",
    "\n",
    "print('Mean RMSE from CV of LinearRegression =', linear_model_rmse_train)\n",
    "print('Mean fittime from CV of LinearRegression =', linear_model_fittime_train)\n",
    "print('Mean predicttime from CV of LinearRegression =', linear_model_predicttime_train)"
   ]
  },
  {
   "cell_type": "markdown",
   "metadata": {},
   "source": [
    "### RandomForestRegressor"
   ]
  },
  {
   "cell_type": "code",
   "execution_count": 56,
   "metadata": {},
   "outputs": [
    {
     "name": "stdout",
     "output_type": "stream",
     "text": [
      "Training for RMSE:\n",
      "\n",
      "Mean RMSE from CV of RandomForestRegression = 1145.3040945927778\n",
      "Mean fittime from CV of RandomForestRegressio = 16.09599609375\n",
      "Mean predicttime from CV of RandomForestRegressio = 0.41111016273498535\n"
     ]
    }
   ],
   "source": [
    "model_tree = RandomForestRegressor(criterion='squared_error', \n",
    "                                   max_depth=18,\n",
    "                                   n_estimators=44,\n",
    "                                   random_state=282) \n",
    "print('Training for RMSE:')\n",
    "print()\n",
    "rf_model_info = (cross_validate(model_tree, \n",
    "                             oe_features_train, \n",
    "                             target_train, \n",
    "                             cv=5, \n",
    "                             scoring='neg_mean_squared_error'))\n",
    "\n",
    "rf_model_rmse_train = (rf_model_info['test_score'].mean() * -1) ** 0.5\n",
    "rf_model_fittime_train = rf_model_info['fit_time'].mean()\n",
    "rf_model_predicttime_train = rf_model_info['score_time'].mean()\n",
    "\n",
    "print('Mean RMSE from CV of RandomForestRegression =', rf_model_rmse_train)\n",
    "print('Mean fittime from CV of RandomForestRegressio =', rf_model_fittime_train)\n",
    "print('Mean predicttime from CV of RandomForestRegressio =', rf_model_predicttime_train)"
   ]
  },
  {
   "cell_type": "markdown",
   "metadata": {},
   "source": [
    "### LightGBM"
   ]
  },
  {
   "cell_type": "code",
   "execution_count": 57,
   "metadata": {},
   "outputs": [
    {
     "name": "stdout",
     "output_type": "stream",
     "text": [
      "Mean RMSE from CV of LGBMRegression = 1110.7610585129512\n",
      "Mean fittime from CV of LGBMRegressio = 2.2826006412506104\n",
      "Mean predicttime from CV of LGBMRegressio = 0.27852697372436525\n"
     ]
    }
   ],
   "source": [
    "model_lgbmr = LGBMRegressor(learning_rate=0.1, \n",
    "                            num_leaves=200, \n",
    "                            random_state=282)\n",
    "\n",
    "lgbmr_model_info = (cross_validate(model_lgbmr, \n",
    "                             original_features_train, \n",
    "                             target_train, \n",
    "                             cv=5, \n",
    "                             scoring='neg_mean_squared_error'))\n",
    "\n",
    "lgbmr_model_rmse_train = (lgbmr_model_info['test_score'].mean() * -1) ** 0.5\n",
    "lgbmr_model_fittime_train = lgbmr_model_info['fit_time'].mean()\n",
    "lgbmr_model_predicttime_train = lgbmr_model_info['score_time'].mean()\n",
    "\n",
    "print('Mean RMSE from CV of LGBMRegression =', lgbmr_model_rmse_train)\n",
    "print('Mean fittime from CV of LGBMRegressio =', lgbmr_model_fittime_train)\n",
    "print('Mean predicttime from CV of LGBMRegressio =', lgbmr_model_predicttime_train)"
   ]
  },
  {
   "cell_type": "markdown",
   "metadata": {},
   "source": [
    "### CatBoost"
   ]
  },
  {
   "cell_type": "code",
   "execution_count": 58,
   "metadata": {},
   "outputs": [
    {
     "name": "stdout",
     "output_type": "stream",
     "text": [
      "0:\tlearn: 2182.9474974\ttotal: 183ms\tremaining: 54.8s\n",
      "1:\tlearn: 1884.1158447\ttotal: 328ms\tremaining: 48.8s\n",
      "2:\tlearn: 1684.8922867\ttotal: 489ms\tremaining: 48.4s\n",
      "3:\tlearn: 1563.7406271\ttotal: 656ms\tremaining: 48.6s\n",
      "4:\tlearn: 1481.1396760\ttotal: 812ms\tremaining: 47.9s\n",
      "5:\tlearn: 1423.9219883\ttotal: 977ms\tremaining: 47.9s\n",
      "6:\tlearn: 1383.0019246\ttotal: 1.22s\tremaining: 50.9s\n",
      "7:\tlearn: 1358.3427186\ttotal: 1.32s\tremaining: 48.2s\n",
      "8:\tlearn: 1341.1416021\ttotal: 1.48s\tremaining: 47.7s\n",
      "9:\tlearn: 1325.2914957\ttotal: 1.61s\tremaining: 46.7s\n",
      "10:\tlearn: 1315.8926424\ttotal: 1.73s\tremaining: 45.5s\n",
      "11:\tlearn: 1309.8039051\ttotal: 1.86s\tremaining: 44.6s\n",
      "12:\tlearn: 1301.9259159\ttotal: 2.05s\tremaining: 45.3s\n",
      "13:\tlearn: 1293.5563558\ttotal: 2.2s\tremaining: 44.9s\n",
      "14:\tlearn: 1288.0896123\ttotal: 2.37s\tremaining: 45s\n",
      "15:\tlearn: 1283.0476353\ttotal: 2.51s\tremaining: 44.5s\n",
      "16:\tlearn: 1276.8848168\ttotal: 2.68s\tremaining: 44.6s\n",
      "17:\tlearn: 1271.8153653\ttotal: 2.8s\tremaining: 43.9s\n",
      "18:\tlearn: 1267.0859467\ttotal: 2.92s\tremaining: 43.1s\n",
      "19:\tlearn: 1263.8961897\ttotal: 3.06s\tremaining: 42.9s\n",
      "20:\tlearn: 1260.6107853\ttotal: 3.23s\tremaining: 43s\n",
      "21:\tlearn: 1258.0286524\ttotal: 3.39s\tremaining: 42.9s\n",
      "22:\tlearn: 1255.9394918\ttotal: 3.57s\tremaining: 43s\n",
      "23:\tlearn: 1252.3310829\ttotal: 3.71s\tremaining: 42.6s\n",
      "24:\tlearn: 1248.7076821\ttotal: 3.88s\tremaining: 42.7s\n",
      "25:\tlearn: 1246.0287773\ttotal: 4.05s\tremaining: 42.7s\n",
      "26:\tlearn: 1243.3824147\ttotal: 4.24s\tremaining: 42.9s\n",
      "27:\tlearn: 1241.6743665\ttotal: 4.38s\tremaining: 42.5s\n",
      "28:\tlearn: 1240.1027290\ttotal: 4.51s\tremaining: 42.2s\n",
      "29:\tlearn: 1237.1554091\ttotal: 4.68s\tremaining: 42.1s\n",
      "30:\tlearn: 1235.5642292\ttotal: 4.84s\tremaining: 42s\n",
      "31:\tlearn: 1234.0560624\ttotal: 4.99s\tremaining: 41.8s\n",
      "32:\tlearn: 1231.4108591\ttotal: 5.14s\tremaining: 41.6s\n",
      "33:\tlearn: 1229.0817926\ttotal: 5.3s\tremaining: 41.4s\n",
      "34:\tlearn: 1227.4082612\ttotal: 5.48s\tremaining: 41.5s\n",
      "35:\tlearn: 1225.5129516\ttotal: 5.61s\tremaining: 41.2s\n",
      "36:\tlearn: 1224.4643731\ttotal: 5.78s\tremaining: 41.1s\n",
      "37:\tlearn: 1223.4170401\ttotal: 5.92s\tremaining: 40.8s\n",
      "38:\tlearn: 1222.3670973\ttotal: 6.09s\tremaining: 40.8s\n",
      "39:\tlearn: 1220.8173277\ttotal: 6.23s\tremaining: 40.5s\n",
      "40:\tlearn: 1219.6721455\ttotal: 6.4s\tremaining: 40.4s\n",
      "41:\tlearn: 1217.4748730\ttotal: 6.57s\tremaining: 40.3s\n",
      "42:\tlearn: 1215.5787100\ttotal: 6.7s\tremaining: 40.1s\n",
      "43:\tlearn: 1213.4597229\ttotal: 6.87s\tremaining: 40s\n",
      "44:\tlearn: 1212.6849199\ttotal: 7.02s\tremaining: 39.8s\n",
      "45:\tlearn: 1210.6887660\ttotal: 7.13s\tremaining: 39.4s\n",
      "46:\tlearn: 1209.8410836\ttotal: 7.3s\tremaining: 39.3s\n",
      "47:\tlearn: 1209.1630429\ttotal: 7.47s\tremaining: 39.2s\n",
      "48:\tlearn: 1208.5353154\ttotal: 7.68s\tremaining: 39.4s\n",
      "49:\tlearn: 1207.3452227\ttotal: 7.87s\tremaining: 39.3s\n",
      "50:\tlearn: 1206.1626651\ttotal: 8.07s\tremaining: 39.4s\n",
      "51:\tlearn: 1204.8764904\ttotal: 8.32s\tremaining: 39.7s\n",
      "52:\tlearn: 1202.7517379\ttotal: 8.5s\tremaining: 39.6s\n",
      "53:\tlearn: 1201.3437221\ttotal: 8.7s\tremaining: 39.7s\n",
      "54:\tlearn: 1200.2609328\ttotal: 8.95s\tremaining: 39.8s\n",
      "55:\tlearn: 1199.2717492\ttotal: 9.17s\tremaining: 39.9s\n",
      "56:\tlearn: 1198.3904026\ttotal: 9.38s\tremaining: 40s\n",
      "57:\tlearn: 1197.7060430\ttotal: 9.61s\tremaining: 40.1s\n",
      "58:\tlearn: 1197.2008294\ttotal: 9.81s\tremaining: 40.1s\n",
      "59:\tlearn: 1196.4992307\ttotal: 10s\tremaining: 40.1s\n",
      "60:\tlearn: 1195.5060668\ttotal: 10.2s\tremaining: 40.1s\n",
      "61:\tlearn: 1194.4909680\ttotal: 10.4s\tremaining: 39.9s\n",
      "62:\tlearn: 1193.4824606\ttotal: 10.6s\tremaining: 40.1s\n",
      "63:\tlearn: 1193.0233417\ttotal: 10.8s\tremaining: 40s\n",
      "64:\tlearn: 1192.3918739\ttotal: 11s\tremaining: 39.9s\n",
      "65:\tlearn: 1191.6525282\ttotal: 11.2s\tremaining: 39.7s\n",
      "66:\tlearn: 1190.5744675\ttotal: 11.4s\tremaining: 39.7s\n",
      "67:\tlearn: 1189.6354479\ttotal: 11.6s\tremaining: 39.7s\n",
      "68:\tlearn: 1188.9582753\ttotal: 11.8s\tremaining: 39.5s\n",
      "69:\tlearn: 1188.3937880\ttotal: 11.9s\tremaining: 39.2s\n",
      "70:\tlearn: 1187.0733494\ttotal: 12.1s\tremaining: 39s\n",
      "71:\tlearn: 1186.4054821\ttotal: 12.3s\tremaining: 38.8s\n",
      "72:\tlearn: 1185.5479238\ttotal: 12.4s\tremaining: 38.6s\n",
      "73:\tlearn: 1184.9840333\ttotal: 12.6s\tremaining: 38.4s\n",
      "74:\tlearn: 1184.3174793\ttotal: 12.8s\tremaining: 38.3s\n",
      "75:\tlearn: 1183.8206340\ttotal: 12.9s\tremaining: 38.1s\n",
      "76:\tlearn: 1183.1881543\ttotal: 13.1s\tremaining: 37.9s\n",
      "77:\tlearn: 1182.7637029\ttotal: 13.2s\tremaining: 37.7s\n",
      "78:\tlearn: 1182.2203643\ttotal: 13.4s\tremaining: 37.5s\n",
      "79:\tlearn: 1181.4633406\ttotal: 13.6s\tremaining: 37.3s\n",
      "80:\tlearn: 1180.8542060\ttotal: 13.7s\tremaining: 37.2s\n",
      "81:\tlearn: 1180.2478844\ttotal: 13.9s\tremaining: 37.1s\n",
      "82:\tlearn: 1179.6863019\ttotal: 14s\tremaining: 36.7s\n",
      "83:\tlearn: 1179.2003579\ttotal: 14.2s\tremaining: 36.5s\n",
      "84:\tlearn: 1178.7999020\ttotal: 14.4s\tremaining: 36.3s\n",
      "85:\tlearn: 1178.1302159\ttotal: 14.6s\tremaining: 36.2s\n",
      "86:\tlearn: 1177.3525208\ttotal: 14.7s\tremaining: 36s\n",
      "87:\tlearn: 1176.8714920\ttotal: 14.9s\tremaining: 35.8s\n",
      "88:\tlearn: 1176.2730625\ttotal: 15s\tremaining: 35.6s\n",
      "89:\tlearn: 1175.5131043\ttotal: 15.2s\tremaining: 35.4s\n",
      "90:\tlearn: 1175.2321289\ttotal: 15.3s\tremaining: 35.1s\n",
      "91:\tlearn: 1174.5207292\ttotal: 15.4s\tremaining: 34.9s\n",
      "92:\tlearn: 1173.9398719\ttotal: 15.6s\tremaining: 34.7s\n",
      "93:\tlearn: 1173.3497532\ttotal: 15.7s\tremaining: 34.5s\n",
      "94:\tlearn: 1172.9222818\ttotal: 15.9s\tremaining: 34.3s\n",
      "95:\tlearn: 1172.5359730\ttotal: 16s\tremaining: 34.1s\n",
      "96:\tlearn: 1171.9918343\ttotal: 16.2s\tremaining: 33.9s\n",
      "97:\tlearn: 1171.4134471\ttotal: 16.3s\tremaining: 33.6s\n",
      "98:\tlearn: 1170.8721728\ttotal: 16.5s\tremaining: 33.4s\n",
      "99:\tlearn: 1170.3651530\ttotal: 16.6s\tremaining: 33.3s\n",
      "100:\tlearn: 1169.8713322\ttotal: 16.8s\tremaining: 33s\n",
      "101:\tlearn: 1169.2992661\ttotal: 16.9s\tremaining: 32.9s\n",
      "102:\tlearn: 1168.9789873\ttotal: 17.1s\tremaining: 32.7s\n",
      "103:\tlearn: 1168.4859653\ttotal: 17.2s\tremaining: 32.5s\n",
      "104:\tlearn: 1168.1582500\ttotal: 17.4s\tremaining: 32.3s\n",
      "105:\tlearn: 1167.7830695\ttotal: 17.5s\tremaining: 32.1s\n",
      "106:\tlearn: 1167.2588275\ttotal: 17.7s\tremaining: 31.9s\n",
      "107:\tlearn: 1167.0772287\ttotal: 17.8s\tremaining: 31.6s\n",
      "108:\tlearn: 1166.5087302\ttotal: 17.9s\tremaining: 31.4s\n",
      "109:\tlearn: 1166.0254914\ttotal: 18s\tremaining: 31.1s\n",
      "110:\tlearn: 1165.3355109\ttotal: 18.1s\tremaining: 30.9s\n",
      "111:\tlearn: 1164.9062068\ttotal: 18.3s\tremaining: 30.7s\n",
      "112:\tlearn: 1164.3956804\ttotal: 18.4s\tremaining: 30.5s\n",
      "113:\tlearn: 1164.0250534\ttotal: 18.6s\tremaining: 30.3s\n",
      "114:\tlearn: 1163.7035278\ttotal: 18.8s\tremaining: 30.2s\n",
      "115:\tlearn: 1162.9029421\ttotal: 18.9s\tremaining: 30s\n",
      "116:\tlearn: 1162.4883698\ttotal: 19.1s\tremaining: 29.8s\n",
      "117:\tlearn: 1162.2333371\ttotal: 19.3s\tremaining: 29.7s\n",
      "118:\tlearn: 1161.9829308\ttotal: 19.4s\tremaining: 29.5s\n",
      "119:\tlearn: 1161.1347240\ttotal: 19.6s\tremaining: 29.4s\n",
      "120:\tlearn: 1160.5912833\ttotal: 19.7s\tremaining: 29.1s\n",
      "121:\tlearn: 1160.1583157\ttotal: 19.8s\tremaining: 28.9s\n",
      "122:\tlearn: 1159.5419637\ttotal: 20s\tremaining: 28.7s\n",
      "123:\tlearn: 1159.2307859\ttotal: 20.1s\tremaining: 28.5s\n",
      "124:\tlearn: 1158.9504292\ttotal: 20.2s\tremaining: 28.3s\n",
      "125:\tlearn: 1158.4591765\ttotal: 20.3s\tremaining: 28.1s\n",
      "126:\tlearn: 1157.9710262\ttotal: 20.5s\tremaining: 27.9s\n",
      "127:\tlearn: 1157.4262691\ttotal: 20.7s\tremaining: 27.8s\n",
      "128:\tlearn: 1156.9080098\ttotal: 20.9s\tremaining: 27.7s\n",
      "129:\tlearn: 1156.6387006\ttotal: 21s\tremaining: 27.5s\n",
      "130:\tlearn: 1156.0970177\ttotal: 21.2s\tremaining: 27.4s\n",
      "131:\tlearn: 1155.8241587\ttotal: 21.5s\tremaining: 27.4s\n",
      "132:\tlearn: 1155.5626357\ttotal: 21.7s\tremaining: 27.2s\n",
      "133:\tlearn: 1155.2980033\ttotal: 21.9s\tremaining: 27.1s\n",
      "134:\tlearn: 1154.9910384\ttotal: 22.1s\tremaining: 27s\n",
      "135:\tlearn: 1154.6612855\ttotal: 22.2s\tremaining: 26.8s\n",
      "136:\tlearn: 1154.4947824\ttotal: 22.4s\tremaining: 26.6s\n",
      "137:\tlearn: 1154.1746181\ttotal: 22.6s\tremaining: 26.5s\n",
      "138:\tlearn: 1153.9908367\ttotal: 22.7s\tremaining: 26.3s\n",
      "139:\tlearn: 1153.5036766\ttotal: 22.9s\tremaining: 26.2s\n",
      "140:\tlearn: 1153.3725064\ttotal: 23.1s\tremaining: 26s\n",
      "141:\tlearn: 1152.8150173\ttotal: 23.3s\tremaining: 25.9s\n",
      "142:\tlearn: 1152.5171698\ttotal: 23.5s\tremaining: 25.8s\n",
      "143:\tlearn: 1152.0086828\ttotal: 23.7s\tremaining: 25.7s\n",
      "144:\tlearn: 1151.7659093\ttotal: 23.9s\tremaining: 25.6s\n",
      "145:\tlearn: 1151.6300115\ttotal: 24.2s\tremaining: 25.5s\n",
      "146:\tlearn: 1151.3675828\ttotal: 24.4s\tremaining: 25.4s\n",
      "147:\tlearn: 1151.2703717\ttotal: 24.6s\tremaining: 25.3s\n",
      "148:\tlearn: 1151.1775242\ttotal: 24.8s\tremaining: 25.2s\n",
      "149:\tlearn: 1150.9591566\ttotal: 25.1s\tremaining: 25.1s\n",
      "150:\tlearn: 1150.7104787\ttotal: 25.3s\tremaining: 24.9s\n",
      "151:\tlearn: 1150.3971209\ttotal: 25.5s\tremaining: 24.8s\n",
      "152:\tlearn: 1150.1028731\ttotal: 25.7s\tremaining: 24.6s\n",
      "153:\tlearn: 1149.9744066\ttotal: 25.8s\tremaining: 24.5s\n",
      "154:\tlearn: 1149.5246608\ttotal: 26s\tremaining: 24.3s\n",
      "155:\tlearn: 1149.3216331\ttotal: 26.2s\tremaining: 24.2s\n",
      "156:\tlearn: 1149.1624785\ttotal: 26.4s\tremaining: 24.1s\n",
      "157:\tlearn: 1148.8511526\ttotal: 26.6s\tremaining: 23.9s\n",
      "158:\tlearn: 1148.4332377\ttotal: 26.8s\tremaining: 23.8s\n",
      "159:\tlearn: 1148.2571934\ttotal: 27s\tremaining: 23.6s\n",
      "160:\tlearn: 1147.9623974\ttotal: 27.2s\tremaining: 23.5s\n",
      "161:\tlearn: 1147.6936459\ttotal: 27.4s\tremaining: 23.3s\n",
      "162:\tlearn: 1147.6237460\ttotal: 27.6s\tremaining: 23.2s\n",
      "163:\tlearn: 1147.4759387\ttotal: 27.9s\tremaining: 23.1s\n",
      "164:\tlearn: 1147.0870402\ttotal: 28.1s\tremaining: 23s\n",
      "165:\tlearn: 1146.6653971\ttotal: 28.3s\tremaining: 22.8s\n",
      "166:\tlearn: 1146.5644921\ttotal: 28.5s\tremaining: 22.7s\n",
      "167:\tlearn: 1146.4691427\ttotal: 28.7s\tremaining: 22.5s\n",
      "168:\tlearn: 1146.1597386\ttotal: 28.9s\tremaining: 22.4s\n",
      "169:\tlearn: 1146.0058070\ttotal: 29s\tremaining: 22.2s\n",
      "170:\tlearn: 1145.8266557\ttotal: 29.3s\tremaining: 22.1s\n",
      "171:\tlearn: 1145.5346231\ttotal: 29.5s\tremaining: 21.9s\n",
      "172:\tlearn: 1145.3354451\ttotal: 29.7s\tremaining: 21.8s\n",
      "173:\tlearn: 1145.1512592\ttotal: 29.8s\tremaining: 21.6s\n",
      "174:\tlearn: 1144.9119463\ttotal: 30.1s\tremaining: 21.5s\n",
      "175:\tlearn: 1144.7765831\ttotal: 30.2s\tremaining: 21.3s\n",
      "176:\tlearn: 1144.1385471\ttotal: 30.4s\tremaining: 21.2s\n",
      "177:\tlearn: 1143.8671800\ttotal: 30.6s\tremaining: 20.9s\n",
      "178:\tlearn: 1143.4653005\ttotal: 30.7s\tremaining: 20.7s\n",
      "179:\tlearn: 1143.0750897\ttotal: 30.9s\tremaining: 20.6s\n",
      "180:\tlearn: 1142.8989112\ttotal: 31s\tremaining: 20.4s\n",
      "181:\tlearn: 1142.5474982\ttotal: 31.2s\tremaining: 20.2s\n",
      "182:\tlearn: 1142.1758611\ttotal: 31.4s\tremaining: 20.1s\n",
      "183:\tlearn: 1141.6940369\ttotal: 31.8s\tremaining: 20s\n",
      "184:\tlearn: 1141.5238221\ttotal: 32s\tremaining: 19.9s\n",
      "185:\tlearn: 1141.2944031\ttotal: 32.2s\tremaining: 19.7s\n",
      "186:\tlearn: 1140.9415868\ttotal: 32.3s\tremaining: 19.5s\n",
      "187:\tlearn: 1140.6357396\ttotal: 32.5s\tremaining: 19.4s\n",
      "188:\tlearn: 1140.5968541\ttotal: 32.6s\tremaining: 19.2s\n",
      "189:\tlearn: 1140.3533218\ttotal: 32.8s\tremaining: 19s\n",
      "190:\tlearn: 1140.1601557\ttotal: 33s\tremaining: 18.8s\n",
      "191:\tlearn: 1139.6020739\ttotal: 33.2s\tremaining: 18.7s\n",
      "192:\tlearn: 1139.1686381\ttotal: 33.3s\tremaining: 18.5s\n",
      "193:\tlearn: 1138.9192858\ttotal: 33.5s\tremaining: 18.3s\n",
      "194:\tlearn: 1138.5034509\ttotal: 33.7s\tremaining: 18.1s\n",
      "195:\tlearn: 1138.3048754\ttotal: 33.8s\tremaining: 18s\n",
      "196:\tlearn: 1138.1535058\ttotal: 34s\tremaining: 17.8s\n",
      "197:\tlearn: 1137.7840242\ttotal: 34.2s\tremaining: 17.6s\n",
      "198:\tlearn: 1137.4326222\ttotal: 34.3s\tremaining: 17.4s\n",
      "199:\tlearn: 1137.2801358\ttotal: 34.5s\tremaining: 17.3s\n",
      "200:\tlearn: 1137.1775021\ttotal: 34.7s\tremaining: 17.1s\n",
      "201:\tlearn: 1136.9719312\ttotal: 34.9s\tremaining: 16.9s\n",
      "202:\tlearn: 1136.6699386\ttotal: 35.1s\tremaining: 16.8s\n",
      "203:\tlearn: 1136.4404868\ttotal: 35.3s\tremaining: 16.6s\n",
      "204:\tlearn: 1136.2076147\ttotal: 35.4s\tremaining: 16.4s\n",
      "205:\tlearn: 1135.9702235\ttotal: 35.6s\tremaining: 16.2s\n",
      "206:\tlearn: 1135.6199090\ttotal: 35.8s\tremaining: 16.1s\n",
      "207:\tlearn: 1135.5309326\ttotal: 35.9s\tremaining: 15.9s\n",
      "208:\tlearn: 1135.2428725\ttotal: 36.1s\tremaining: 15.7s\n",
      "209:\tlearn: 1134.8841248\ttotal: 36.2s\tremaining: 15.5s\n",
      "210:\tlearn: 1134.4870647\ttotal: 36.4s\tremaining: 15.3s\n",
      "211:\tlearn: 1134.4056870\ttotal: 36.5s\tremaining: 15.2s\n",
      "212:\tlearn: 1134.3017172\ttotal: 36.7s\tremaining: 15s\n",
      "213:\tlearn: 1134.0981692\ttotal: 36.8s\tremaining: 14.8s\n",
      "214:\tlearn: 1133.9071327\ttotal: 37s\tremaining: 14.6s\n",
      "215:\tlearn: 1133.7431160\ttotal: 37.2s\tremaining: 14.4s\n",
      "216:\tlearn: 1133.4148830\ttotal: 37.3s\tremaining: 14.3s\n",
      "217:\tlearn: 1133.1422598\ttotal: 37.5s\tremaining: 14.1s\n",
      "218:\tlearn: 1132.8158161\ttotal: 37.6s\tremaining: 13.9s\n",
      "219:\tlearn: 1132.7178703\ttotal: 37.8s\tremaining: 13.7s\n",
      "220:\tlearn: 1132.5604152\ttotal: 37.9s\tremaining: 13.6s\n",
      "221:\tlearn: 1132.2802935\ttotal: 38.1s\tremaining: 13.4s\n",
      "222:\tlearn: 1132.1051877\ttotal: 38.3s\tremaining: 13.2s\n",
      "223:\tlearn: 1132.0080976\ttotal: 38.4s\tremaining: 13s\n",
      "224:\tlearn: 1131.7380806\ttotal: 38.6s\tremaining: 12.9s\n",
      "225:\tlearn: 1131.6279003\ttotal: 38.8s\tremaining: 12.7s\n",
      "226:\tlearn: 1131.3641893\ttotal: 39s\tremaining: 12.5s\n",
      "227:\tlearn: 1130.9389764\ttotal: 39.1s\tremaining: 12.4s\n",
      "228:\tlearn: 1130.5880208\ttotal: 39.3s\tremaining: 12.2s\n",
      "229:\tlearn: 1130.4523314\ttotal: 39.5s\tremaining: 12s\n",
      "230:\tlearn: 1130.2110766\ttotal: 39.7s\tremaining: 11.8s\n",
      "231:\tlearn: 1130.0636512\ttotal: 39.9s\tremaining: 11.7s\n",
      "232:\tlearn: 1129.7457256\ttotal: 40.1s\tremaining: 11.5s\n",
      "233:\tlearn: 1129.6057609\ttotal: 40.2s\tremaining: 11.3s\n",
      "234:\tlearn: 1129.4174921\ttotal: 40.5s\tremaining: 11.2s\n",
      "235:\tlearn: 1129.3521105\ttotal: 40.6s\tremaining: 11s\n",
      "236:\tlearn: 1129.2754214\ttotal: 40.8s\tremaining: 10.9s\n",
      "237:\tlearn: 1129.0784082\ttotal: 41s\tremaining: 10.7s\n",
      "238:\tlearn: 1128.8311328\ttotal: 41.2s\tremaining: 10.5s\n",
      "239:\tlearn: 1128.5610541\ttotal: 41.3s\tremaining: 10.3s\n",
      "240:\tlearn: 1128.4235527\ttotal: 41.5s\tremaining: 10.2s\n",
      "241:\tlearn: 1128.1545644\ttotal: 41.8s\tremaining: 10s\n",
      "242:\tlearn: 1127.8213701\ttotal: 42s\tremaining: 9.85s\n",
      "243:\tlearn: 1127.5630121\ttotal: 42.2s\tremaining: 9.69s\n",
      "244:\tlearn: 1127.3753664\ttotal: 42.4s\tremaining: 9.52s\n",
      "245:\tlearn: 1127.3132005\ttotal: 42.6s\tremaining: 9.34s\n",
      "246:\tlearn: 1127.1103368\ttotal: 42.8s\tremaining: 9.19s\n",
      "247:\tlearn: 1126.9379797\ttotal: 43s\tremaining: 9.02s\n",
      "248:\tlearn: 1126.6586150\ttotal: 43.2s\tremaining: 8.85s\n",
      "249:\tlearn: 1126.4172114\ttotal: 43.5s\tremaining: 8.69s\n",
      "250:\tlearn: 1125.7653212\ttotal: 43.6s\tremaining: 8.52s\n",
      "251:\tlearn: 1125.5917433\ttotal: 43.8s\tremaining: 8.35s\n",
      "252:\tlearn: 1125.4023347\ttotal: 44s\tremaining: 8.17s\n",
      "253:\tlearn: 1125.0735097\ttotal: 44.2s\tremaining: 8s\n",
      "254:\tlearn: 1124.9193690\ttotal: 44.4s\tremaining: 7.83s\n",
      "255:\tlearn: 1124.8495987\ttotal: 44.5s\tremaining: 7.65s\n",
      "256:\tlearn: 1124.4849011\ttotal: 44.7s\tremaining: 7.47s\n",
      "257:\tlearn: 1124.2615958\ttotal: 44.8s\tremaining: 7.3s\n",
      "258:\tlearn: 1123.9787304\ttotal: 45s\tremaining: 7.13s\n",
      "259:\tlearn: 1123.8303713\ttotal: 45.2s\tremaining: 6.95s\n",
      "260:\tlearn: 1123.7757685\ttotal: 45.4s\tremaining: 6.78s\n",
      "261:\tlearn: 1123.6090895\ttotal: 45.5s\tremaining: 6.6s\n",
      "262:\tlearn: 1123.4204959\ttotal: 45.7s\tremaining: 6.42s\n",
      "263:\tlearn: 1123.0449707\ttotal: 45.8s\tremaining: 6.25s\n",
      "264:\tlearn: 1122.8468242\ttotal: 46s\tremaining: 6.08s\n",
      "265:\tlearn: 1122.8016755\ttotal: 46.2s\tremaining: 5.91s\n",
      "266:\tlearn: 1122.6809983\ttotal: 46.4s\tremaining: 5.73s\n",
      "267:\tlearn: 1122.5178196\ttotal: 46.5s\tremaining: 5.56s\n",
      "268:\tlearn: 1122.4338155\ttotal: 46.7s\tremaining: 5.38s\n",
      "269:\tlearn: 1122.3167001\ttotal: 46.9s\tremaining: 5.21s\n",
      "270:\tlearn: 1122.2045651\ttotal: 47.1s\tremaining: 5.04s\n",
      "271:\tlearn: 1122.1082452\ttotal: 47.3s\tremaining: 4.87s\n",
      "272:\tlearn: 1122.0786522\ttotal: 47.5s\tremaining: 4.69s\n",
      "273:\tlearn: 1121.8647515\ttotal: 47.6s\tremaining: 4.52s\n",
      "274:\tlearn: 1121.6761792\ttotal: 47.8s\tremaining: 4.34s\n",
      "275:\tlearn: 1121.6231917\ttotal: 47.9s\tremaining: 4.17s\n",
      "276:\tlearn: 1121.5535944\ttotal: 48.1s\tremaining: 3.99s\n",
      "277:\tlearn: 1121.4248677\ttotal: 48.2s\tremaining: 3.82s\n",
      "278:\tlearn: 1121.3497525\ttotal: 48.4s\tremaining: 3.64s\n",
      "279:\tlearn: 1121.1796415\ttotal: 48.6s\tremaining: 3.47s\n",
      "280:\tlearn: 1121.0785823\ttotal: 48.7s\tremaining: 3.29s\n",
      "281:\tlearn: 1120.8422578\ttotal: 48.9s\tremaining: 3.12s\n",
      "282:\tlearn: 1120.6501558\ttotal: 49s\tremaining: 2.94s\n",
      "283:\tlearn: 1120.3765686\ttotal: 49.2s\tremaining: 2.77s\n",
      "284:\tlearn: 1120.2976193\ttotal: 49.3s\tremaining: 2.6s\n",
      "285:\tlearn: 1120.1410265\ttotal: 49.5s\tremaining: 2.42s\n",
      "286:\tlearn: 1119.9798439\ttotal: 49.7s\tremaining: 2.25s\n",
      "287:\tlearn: 1119.6734788\ttotal: 49.8s\tremaining: 2.08s\n",
      "288:\tlearn: 1119.4729060\ttotal: 50s\tremaining: 1.9s\n",
      "289:\tlearn: 1119.2046447\ttotal: 50.1s\tremaining: 1.73s\n",
      "290:\tlearn: 1119.0709320\ttotal: 50.3s\tremaining: 1.55s\n",
      "291:\tlearn: 1119.0076473\ttotal: 50.5s\tremaining: 1.38s\n",
      "292:\tlearn: 1118.6095420\ttotal: 50.6s\tremaining: 1.21s\n",
      "293:\tlearn: 1118.2946687\ttotal: 50.8s\tremaining: 1.04s\n",
      "294:\tlearn: 1118.2642929\ttotal: 51s\tremaining: 864ms\n",
      "295:\tlearn: 1118.0573392\ttotal: 51.1s\tremaining: 690ms\n",
      "296:\tlearn: 1117.8641168\ttotal: 51.3s\tremaining: 518ms\n",
      "297:\tlearn: 1117.7011145\ttotal: 51.4s\tremaining: 345ms\n",
      "298:\tlearn: 1117.5965376\ttotal: 51.6s\tremaining: 172ms\n",
      "299:\tlearn: 1117.4638554\ttotal: 51.7s\tremaining: 0us\n",
      "0:\tlearn: 2180.2325128\ttotal: 161ms\tremaining: 48.2s\n",
      "1:\tlearn: 1883.9593381\ttotal: 302ms\tremaining: 45s\n",
      "2:\tlearn: 1685.1636452\ttotal: 460ms\tremaining: 45.5s\n",
      "3:\tlearn: 1565.3356464\ttotal: 615ms\tremaining: 45.5s\n",
      "4:\tlearn: 1480.3589478\ttotal: 720ms\tremaining: 42.5s\n",
      "5:\tlearn: 1430.7385078\ttotal: 838ms\tremaining: 41.1s\n",
      "6:\tlearn: 1393.4031861\ttotal: 980ms\tremaining: 41s\n",
      "7:\tlearn: 1363.7367264\ttotal: 1.15s\tremaining: 41.9s\n",
      "8:\tlearn: 1342.7189171\ttotal: 1.29s\tremaining: 41.7s\n",
      "9:\tlearn: 1326.2129839\ttotal: 1.44s\tremaining: 41.8s\n",
      "10:\tlearn: 1311.0435813\ttotal: 1.61s\tremaining: 42.3s\n",
      "11:\tlearn: 1303.6810918\ttotal: 1.81s\tremaining: 43.3s\n",
      "12:\tlearn: 1296.6750629\ttotal: 1.96s\tremaining: 43.3s\n",
      "13:\tlearn: 1290.0698970\ttotal: 2.12s\tremaining: 43.3s\n",
      "14:\tlearn: 1282.0433412\ttotal: 2.25s\tremaining: 42.7s\n",
      "15:\tlearn: 1278.3817145\ttotal: 2.42s\tremaining: 42.9s\n",
      "16:\tlearn: 1272.7507429\ttotal: 2.54s\tremaining: 42.2s\n",
      "17:\tlearn: 1268.6645623\ttotal: 2.72s\tremaining: 42.6s\n",
      "18:\tlearn: 1265.8782118\ttotal: 2.9s\tremaining: 42.9s\n",
      "19:\tlearn: 1260.7040330\ttotal: 3.04s\tremaining: 42.5s\n",
      "20:\tlearn: 1257.9765333\ttotal: 3.21s\tremaining: 42.7s\n",
      "21:\tlearn: 1254.6954055\ttotal: 3.43s\tremaining: 43.4s\n",
      "22:\tlearn: 1253.4256407\ttotal: 3.63s\tremaining: 43.8s\n",
      "23:\tlearn: 1250.2360965\ttotal: 3.81s\tremaining: 43.9s\n",
      "24:\tlearn: 1246.9993073\ttotal: 3.97s\tremaining: 43.7s\n",
      "25:\tlearn: 1244.6567115\ttotal: 4.21s\tremaining: 44.4s\n",
      "26:\tlearn: 1242.8162611\ttotal: 4.39s\tremaining: 44.4s\n",
      "27:\tlearn: 1241.0301171\ttotal: 4.59s\tremaining: 44.6s\n",
      "28:\tlearn: 1239.4016842\ttotal: 4.76s\tremaining: 44.5s\n",
      "29:\tlearn: 1237.0064914\ttotal: 4.93s\tremaining: 44.4s\n",
      "30:\tlearn: 1236.3639670\ttotal: 5.09s\tremaining: 44.2s\n",
      "31:\tlearn: 1234.3101931\ttotal: 5.29s\tremaining: 44.4s\n",
      "32:\tlearn: 1232.7883807\ttotal: 5.46s\tremaining: 44.2s\n",
      "33:\tlearn: 1230.1439074\ttotal: 5.62s\tremaining: 44s\n",
      "34:\tlearn: 1227.8222499\ttotal: 5.89s\tremaining: 44.6s\n",
      "35:\tlearn: 1226.3214001\ttotal: 6.07s\tremaining: 44.5s\n",
      "36:\tlearn: 1224.2660690\ttotal: 6.35s\tremaining: 45.2s\n",
      "37:\tlearn: 1223.4640462\ttotal: 6.62s\tremaining: 45.6s\n",
      "38:\tlearn: 1221.9965213\ttotal: 6.84s\tremaining: 45.8s\n",
      "39:\tlearn: 1220.8077750\ttotal: 7.03s\tremaining: 45.7s\n",
      "40:\tlearn: 1218.7773932\ttotal: 7.2s\tremaining: 45.5s\n",
      "41:\tlearn: 1217.4181742\ttotal: 7.35s\tremaining: 45.1s\n",
      "42:\tlearn: 1216.2313578\ttotal: 7.49s\tremaining: 44.7s\n",
      "43:\tlearn: 1215.2978071\ttotal: 7.65s\tremaining: 44.5s\n",
      "44:\tlearn: 1213.8115758\ttotal: 7.81s\tremaining: 44.3s\n",
      "45:\tlearn: 1213.1181463\ttotal: 7.93s\tremaining: 43.8s\n",
      "46:\tlearn: 1211.6046405\ttotal: 8.09s\tremaining: 43.5s\n",
      "47:\tlearn: 1210.3424085\ttotal: 8.26s\tremaining: 43.3s\n",
      "48:\tlearn: 1209.1810574\ttotal: 8.43s\tremaining: 43.2s\n",
      "49:\tlearn: 1208.1635798\ttotal: 8.62s\tremaining: 43.1s\n",
      "50:\tlearn: 1206.1478371\ttotal: 8.81s\tremaining: 43s\n",
      "51:\tlearn: 1204.5221659\ttotal: 8.96s\tremaining: 42.7s\n",
      "52:\tlearn: 1203.2311848\ttotal: 9.13s\tremaining: 42.5s\n",
      "53:\tlearn: 1202.0331173\ttotal: 9.27s\tremaining: 42.2s\n",
      "54:\tlearn: 1201.0419259\ttotal: 9.44s\tremaining: 42.1s\n",
      "55:\tlearn: 1199.9193510\ttotal: 9.62s\tremaining: 41.9s\n",
      "56:\tlearn: 1199.0842914\ttotal: 9.8s\tremaining: 41.8s\n",
      "57:\tlearn: 1198.5210517\ttotal: 9.95s\tremaining: 41.5s\n",
      "58:\tlearn: 1197.9165679\ttotal: 10.1s\tremaining: 41.3s\n",
      "59:\tlearn: 1196.7890292\ttotal: 10.3s\tremaining: 41.1s\n",
      "60:\tlearn: 1196.1072617\ttotal: 10.4s\tremaining: 40.9s\n",
      "61:\tlearn: 1195.1747875\ttotal: 10.6s\tremaining: 40.6s\n",
      "62:\tlearn: 1194.3734100\ttotal: 10.7s\tremaining: 40.3s\n",
      "63:\tlearn: 1193.3386280\ttotal: 10.8s\tremaining: 40s\n",
      "64:\tlearn: 1192.7942716\ttotal: 11s\tremaining: 39.7s\n",
      "65:\tlearn: 1191.3220875\ttotal: 11.1s\tremaining: 39.4s\n",
      "66:\tlearn: 1190.0783879\ttotal: 11.3s\tremaining: 39.3s\n",
      "67:\tlearn: 1189.5583599\ttotal: 11.5s\tremaining: 39.1s\n",
      "68:\tlearn: 1188.9800633\ttotal: 11.6s\tremaining: 38.9s\n",
      "69:\tlearn: 1188.0596848\ttotal: 11.8s\tremaining: 38.7s\n",
      "70:\tlearn: 1187.3834349\ttotal: 11.9s\tremaining: 38.5s\n",
      "71:\tlearn: 1186.6321967\ttotal: 12.1s\tremaining: 38.4s\n",
      "72:\tlearn: 1186.2821927\ttotal: 12.2s\tremaining: 38s\n",
      "73:\tlearn: 1185.7245165\ttotal: 12.4s\tremaining: 37.8s\n",
      "74:\tlearn: 1184.9888815\ttotal: 12.6s\tremaining: 37.7s\n",
      "75:\tlearn: 1184.5474606\ttotal: 12.7s\tremaining: 37.5s\n",
      "76:\tlearn: 1183.7908603\ttotal: 12.9s\tremaining: 37.4s\n",
      "77:\tlearn: 1183.2157975\ttotal: 13.1s\tremaining: 37.2s\n",
      "78:\tlearn: 1182.5794583\ttotal: 13.2s\tremaining: 37s\n",
      "79:\tlearn: 1181.9061070\ttotal: 13.4s\tremaining: 36.8s\n",
      "80:\tlearn: 1181.5390857\ttotal: 13.5s\tremaining: 36.6s\n",
      "81:\tlearn: 1180.7821696\ttotal: 13.7s\tremaining: 36.4s\n",
      "82:\tlearn: 1179.4933785\ttotal: 13.9s\tremaining: 36.3s\n",
      "83:\tlearn: 1178.5107605\ttotal: 14s\tremaining: 36s\n",
      "84:\tlearn: 1177.4826549\ttotal: 14.2s\tremaining: 35.9s\n",
      "85:\tlearn: 1176.7191857\ttotal: 14.4s\tremaining: 35.8s\n",
      "86:\tlearn: 1175.6529564\ttotal: 14.5s\tremaining: 35.6s\n",
      "87:\tlearn: 1175.2335082\ttotal: 14.6s\tremaining: 35.3s\n",
      "88:\tlearn: 1174.8180887\ttotal: 14.8s\tremaining: 35.1s\n",
      "89:\tlearn: 1174.3182125\ttotal: 15s\tremaining: 34.9s\n",
      "90:\tlearn: 1173.5347539\ttotal: 15.1s\tremaining: 34.7s\n",
      "91:\tlearn: 1172.9990960\ttotal: 15.3s\tremaining: 34.6s\n",
      "92:\tlearn: 1172.6487913\ttotal: 15.5s\tremaining: 34.4s\n",
      "93:\tlearn: 1172.2942638\ttotal: 15.6s\tremaining: 34.2s\n",
      "94:\tlearn: 1171.7533598\ttotal: 15.8s\tremaining: 34.1s\n",
      "95:\tlearn: 1171.1721944\ttotal: 15.9s\tremaining: 33.8s\n",
      "96:\tlearn: 1170.8240267\ttotal: 16.1s\tremaining: 33.6s\n",
      "97:\tlearn: 1170.3820337\ttotal: 16.3s\tremaining: 33.5s\n",
      "98:\tlearn: 1170.1107832\ttotal: 16.4s\tremaining: 33.3s\n",
      "99:\tlearn: 1169.8240858\ttotal: 16.6s\tremaining: 33.1s\n",
      "100:\tlearn: 1169.2617832\ttotal: 16.7s\tremaining: 32.9s\n",
      "101:\tlearn: 1168.8342789\ttotal: 17s\tremaining: 32.9s\n",
      "102:\tlearn: 1168.3231847\ttotal: 17.1s\tremaining: 32.7s\n",
      "103:\tlearn: 1167.9537314\ttotal: 17.3s\tremaining: 32.6s\n",
      "104:\tlearn: 1167.4776586\ttotal: 17.5s\tremaining: 32.5s\n",
      "105:\tlearn: 1166.9102292\ttotal: 17.7s\tremaining: 32.4s\n",
      "106:\tlearn: 1166.6259916\ttotal: 17.8s\tremaining: 32.1s\n",
      "107:\tlearn: 1166.1641360\ttotal: 18s\tremaining: 32s\n",
      "108:\tlearn: 1165.6102115\ttotal: 18.2s\tremaining: 31.8s\n",
      "109:\tlearn: 1164.9969870\ttotal: 18.3s\tremaining: 31.7s\n",
      "110:\tlearn: 1164.7943886\ttotal: 18.5s\tremaining: 31.4s\n",
      "111:\tlearn: 1164.4880200\ttotal: 18.6s\tremaining: 31.3s\n",
      "112:\tlearn: 1164.0769659\ttotal: 18.8s\tremaining: 31.2s\n",
      "113:\tlearn: 1163.5914246\ttotal: 19s\tremaining: 31s\n",
      "114:\tlearn: 1163.2772872\ttotal: 19.2s\tremaining: 30.9s\n",
      "115:\tlearn: 1162.9568604\ttotal: 19.4s\tremaining: 30.8s\n",
      "116:\tlearn: 1162.1320566\ttotal: 19.6s\tremaining: 30.6s\n",
      "117:\tlearn: 1161.8150385\ttotal: 19.7s\tremaining: 30.4s\n",
      "118:\tlearn: 1161.3447284\ttotal: 19.9s\tremaining: 30.3s\n",
      "119:\tlearn: 1161.2061604\ttotal: 20.1s\tremaining: 30.2s\n",
      "120:\tlearn: 1160.8685446\ttotal: 20.3s\tremaining: 30.1s\n",
      "121:\tlearn: 1160.4739651\ttotal: 20.5s\tremaining: 30s\n",
      "122:\tlearn: 1160.2749309\ttotal: 20.7s\tremaining: 29.8s\n",
      "123:\tlearn: 1159.6573031\ttotal: 21s\tremaining: 29.7s\n",
      "124:\tlearn: 1159.0900782\ttotal: 21.2s\tremaining: 29.6s\n",
      "125:\tlearn: 1158.7557547\ttotal: 21.4s\tremaining: 29.5s\n",
      "126:\tlearn: 1158.4029316\ttotal: 21.5s\tremaining: 29.3s\n",
      "127:\tlearn: 1158.1834515\ttotal: 21.7s\tremaining: 29.2s\n",
      "128:\tlearn: 1158.0578329\ttotal: 21.9s\tremaining: 29s\n",
      "129:\tlearn: 1157.9184195\ttotal: 22.1s\tremaining: 28.8s\n",
      "130:\tlearn: 1157.8718431\ttotal: 22.2s\tremaining: 28.6s\n",
      "131:\tlearn: 1157.5915927\ttotal: 22.4s\tremaining: 28.6s\n",
      "132:\tlearn: 1156.8719511\ttotal: 22.7s\tremaining: 28.5s\n",
      "133:\tlearn: 1156.6663713\ttotal: 23s\tremaining: 28.5s\n",
      "134:\tlearn: 1156.0196663\ttotal: 23.2s\tremaining: 28.4s\n",
      "135:\tlearn: 1155.9586299\ttotal: 23.4s\tremaining: 28.2s\n",
      "136:\tlearn: 1155.5772779\ttotal: 23.6s\tremaining: 28.1s\n",
      "137:\tlearn: 1155.1885223\ttotal: 23.8s\tremaining: 27.9s\n",
      "138:\tlearn: 1154.8839169\ttotal: 23.9s\tremaining: 27.7s\n",
      "139:\tlearn: 1154.6832548\ttotal: 24.1s\tremaining: 27.5s\n",
      "140:\tlearn: 1154.4727971\ttotal: 24.2s\tremaining: 27.3s\n",
      "141:\tlearn: 1154.2770167\ttotal: 24.4s\tremaining: 27.1s\n",
      "142:\tlearn: 1153.8738440\ttotal: 24.6s\tremaining: 27s\n",
      "143:\tlearn: 1153.6064663\ttotal: 24.8s\tremaining: 26.8s\n",
      "144:\tlearn: 1153.2533435\ttotal: 24.9s\tremaining: 26.7s\n",
      "145:\tlearn: 1152.9488871\ttotal: 25.1s\tremaining: 26.5s\n",
      "146:\tlearn: 1152.5244816\ttotal: 25.2s\tremaining: 26.3s\n",
      "147:\tlearn: 1152.3222913\ttotal: 25.4s\tremaining: 26.1s\n",
      "148:\tlearn: 1152.2101164\ttotal: 25.6s\tremaining: 26s\n",
      "149:\tlearn: 1152.1431156\ttotal: 25.8s\tremaining: 25.8s\n",
      "150:\tlearn: 1151.4279702\ttotal: 26s\tremaining: 25.6s\n",
      "151:\tlearn: 1151.0561810\ttotal: 26.2s\tremaining: 25.5s\n",
      "152:\tlearn: 1150.6839095\ttotal: 26.3s\tremaining: 25.3s\n",
      "153:\tlearn: 1150.2680505\ttotal: 26.5s\tremaining: 25.1s\n",
      "154:\tlearn: 1150.1284392\ttotal: 26.6s\tremaining: 24.9s\n",
      "155:\tlearn: 1149.5227224\ttotal: 26.8s\tremaining: 24.7s\n",
      "156:\tlearn: 1149.1686795\ttotal: 26.9s\tremaining: 24.5s\n",
      "157:\tlearn: 1148.5576236\ttotal: 27.1s\tremaining: 24.4s\n",
      "158:\tlearn: 1148.1980744\ttotal: 27.3s\tremaining: 24.2s\n",
      "159:\tlearn: 1147.9825065\ttotal: 27.4s\tremaining: 24s\n",
      "160:\tlearn: 1147.7406900\ttotal: 27.6s\tremaining: 23.8s\n",
      "161:\tlearn: 1147.5144191\ttotal: 27.7s\tremaining: 23.6s\n",
      "162:\tlearn: 1147.2004176\ttotal: 27.9s\tremaining: 23.5s\n",
      "163:\tlearn: 1147.0063460\ttotal: 28.3s\tremaining: 23.5s\n",
      "164:\tlearn: 1146.5281147\ttotal: 28.5s\tremaining: 23.3s\n",
      "165:\tlearn: 1146.3885763\ttotal: 28.6s\tremaining: 23.1s\n",
      "166:\tlearn: 1146.2166586\ttotal: 28.8s\tremaining: 22.9s\n",
      "167:\tlearn: 1145.6543126\ttotal: 29s\tremaining: 22.8s\n",
      "168:\tlearn: 1145.3140593\ttotal: 29.1s\tremaining: 22.6s\n",
      "169:\tlearn: 1145.0652508\ttotal: 29.3s\tremaining: 22.4s\n",
      "170:\tlearn: 1144.7461638\ttotal: 29.4s\tremaining: 22.2s\n",
      "171:\tlearn: 1144.6126566\ttotal: 29.6s\tremaining: 22s\n",
      "172:\tlearn: 1144.5874821\ttotal: 29.7s\tremaining: 21.8s\n",
      "173:\tlearn: 1144.2959249\ttotal: 29.8s\tremaining: 21.6s\n",
      "174:\tlearn: 1144.1192714\ttotal: 29.9s\tremaining: 21.4s\n",
      "175:\tlearn: 1143.8544249\ttotal: 30.1s\tremaining: 21.2s\n",
      "176:\tlearn: 1143.5666564\ttotal: 30.3s\tremaining: 21s\n",
      "177:\tlearn: 1143.3864268\ttotal: 30.4s\tremaining: 20.8s\n",
      "178:\tlearn: 1143.2057474\ttotal: 30.6s\tremaining: 20.7s\n",
      "179:\tlearn: 1142.8126685\ttotal: 30.7s\tremaining: 20.5s\n",
      "180:\tlearn: 1142.5577467\ttotal: 30.9s\tremaining: 20.3s\n",
      "181:\tlearn: 1142.2599074\ttotal: 31s\tremaining: 20.1s\n",
      "182:\tlearn: 1141.8471642\ttotal: 31.2s\tremaining: 19.9s\n",
      "183:\tlearn: 1141.5306817\ttotal: 31.4s\tremaining: 19.8s\n",
      "184:\tlearn: 1141.2208315\ttotal: 31.5s\tremaining: 19.6s\n",
      "185:\tlearn: 1140.9198658\ttotal: 31.7s\tremaining: 19.4s\n",
      "186:\tlearn: 1140.6541899\ttotal: 31.8s\tremaining: 19.2s\n",
      "187:\tlearn: 1140.1447819\ttotal: 32s\tremaining: 19s\n",
      "188:\tlearn: 1139.9082087\ttotal: 32.1s\tremaining: 18.9s\n",
      "189:\tlearn: 1139.1337627\ttotal: 32.3s\tremaining: 18.7s\n",
      "190:\tlearn: 1138.6765800\ttotal: 32.5s\tremaining: 18.5s\n",
      "191:\tlearn: 1138.5779835\ttotal: 32.6s\tremaining: 18.3s\n",
      "192:\tlearn: 1138.3522789\ttotal: 32.8s\tremaining: 18.2s\n",
      "193:\tlearn: 1138.2419271\ttotal: 32.9s\tremaining: 18s\n",
      "194:\tlearn: 1137.8722400\ttotal: 33.1s\tremaining: 17.8s\n",
      "195:\tlearn: 1137.7418199\ttotal: 33.2s\tremaining: 17.6s\n",
      "196:\tlearn: 1137.4802738\ttotal: 33.4s\tremaining: 17.5s\n",
      "197:\tlearn: 1137.2391876\ttotal: 33.6s\tremaining: 17.3s\n",
      "198:\tlearn: 1137.0234718\ttotal: 33.8s\tremaining: 17.1s\n",
      "199:\tlearn: 1136.8219890\ttotal: 33.9s\tremaining: 17s\n",
      "200:\tlearn: 1136.6325096\ttotal: 34.1s\tremaining: 16.8s\n",
      "201:\tlearn: 1136.3809418\ttotal: 34.3s\tremaining: 16.6s\n",
      "202:\tlearn: 1136.1300798\ttotal: 34.5s\tremaining: 16.5s\n",
      "203:\tlearn: 1135.7841646\ttotal: 34.7s\tremaining: 16.3s\n",
      "204:\tlearn: 1135.6295876\ttotal: 34.9s\tremaining: 16.2s\n",
      "205:\tlearn: 1135.3701995\ttotal: 35.1s\tremaining: 16s\n",
      "206:\tlearn: 1135.2764512\ttotal: 35.3s\tremaining: 15.9s\n",
      "207:\tlearn: 1135.0542693\ttotal: 35.5s\tremaining: 15.7s\n",
      "208:\tlearn: 1134.8870183\ttotal: 35.7s\tremaining: 15.5s\n",
      "209:\tlearn: 1134.7493216\ttotal: 35.9s\tremaining: 15.4s\n",
      "210:\tlearn: 1134.4747318\ttotal: 36.1s\tremaining: 15.2s\n",
      "211:\tlearn: 1134.3743212\ttotal: 36.3s\tremaining: 15.1s\n",
      "212:\tlearn: 1134.1808240\ttotal: 36.6s\tremaining: 14.9s\n",
      "213:\tlearn: 1133.7907594\ttotal: 36.8s\tremaining: 14.8s\n",
      "214:\tlearn: 1133.2910915\ttotal: 37s\tremaining: 14.6s\n",
      "215:\tlearn: 1132.9752002\ttotal: 37.2s\tremaining: 14.5s\n",
      "216:\tlearn: 1132.7480233\ttotal: 37.4s\tremaining: 14.3s\n",
      "217:\tlearn: 1132.6079563\ttotal: 37.5s\tremaining: 14.1s\n",
      "218:\tlearn: 1132.4472534\ttotal: 37.7s\tremaining: 13.9s\n",
      "219:\tlearn: 1132.2099332\ttotal: 37.9s\tremaining: 13.8s\n",
      "220:\tlearn: 1132.0060607\ttotal: 38.1s\tremaining: 13.6s\n",
      "221:\tlearn: 1131.6470839\ttotal: 38.3s\tremaining: 13.5s\n",
      "222:\tlearn: 1131.5409249\ttotal: 38.5s\tremaining: 13.3s\n",
      "223:\tlearn: 1131.1750227\ttotal: 38.8s\tremaining: 13.2s\n",
      "224:\tlearn: 1130.9403500\ttotal: 39.1s\tremaining: 13s\n",
      "225:\tlearn: 1130.7044626\ttotal: 39.3s\tremaining: 12.9s\n",
      "226:\tlearn: 1130.5231306\ttotal: 39.4s\tremaining: 12.7s\n",
      "227:\tlearn: 1130.3647785\ttotal: 39.6s\tremaining: 12.5s\n",
      "228:\tlearn: 1130.1376003\ttotal: 39.7s\tremaining: 12.3s\n",
      "229:\tlearn: 1129.9472076\ttotal: 39.9s\tremaining: 12.1s\n",
      "230:\tlearn: 1129.8223600\ttotal: 40s\tremaining: 12s\n",
      "231:\tlearn: 1129.5285179\ttotal: 40.2s\tremaining: 11.8s\n",
      "232:\tlearn: 1129.3571150\ttotal: 40.4s\tremaining: 11.6s\n",
      "233:\tlearn: 1129.1793476\ttotal: 40.5s\tremaining: 11.4s\n",
      "234:\tlearn: 1129.0005842\ttotal: 40.7s\tremaining: 11.3s\n",
      "235:\tlearn: 1128.8855720\ttotal: 40.9s\tremaining: 11.1s\n",
      "236:\tlearn: 1128.7147086\ttotal: 41s\tremaining: 10.9s\n",
      "237:\tlearn: 1128.6000364\ttotal: 41.2s\tremaining: 10.7s\n",
      "238:\tlearn: 1128.5228641\ttotal: 41.4s\tremaining: 10.6s\n",
      "239:\tlearn: 1128.4583456\ttotal: 41.5s\tremaining: 10.4s\n",
      "240:\tlearn: 1128.2859438\ttotal: 41.7s\tremaining: 10.2s\n",
      "241:\tlearn: 1128.1407607\ttotal: 41.8s\tremaining: 10s\n",
      "242:\tlearn: 1127.8999582\ttotal: 42s\tremaining: 9.85s\n",
      "243:\tlearn: 1127.7571984\ttotal: 42.2s\tremaining: 9.68s\n",
      "244:\tlearn: 1127.4662121\ttotal: 42.4s\tremaining: 9.52s\n",
      "245:\tlearn: 1127.3721934\ttotal: 42.6s\tremaining: 9.34s\n",
      "246:\tlearn: 1127.2329350\ttotal: 42.8s\tremaining: 9.17s\n",
      "247:\tlearn: 1127.0468644\ttotal: 42.9s\tremaining: 8.99s\n",
      "248:\tlearn: 1126.7974560\ttotal: 43.1s\tremaining: 8.83s\n",
      "249:\tlearn: 1126.6384760\ttotal: 43.3s\tremaining: 8.65s\n",
      "250:\tlearn: 1126.4713760\ttotal: 43.5s\tremaining: 8.48s\n",
      "251:\tlearn: 1126.2835055\ttotal: 43.6s\tremaining: 8.31s\n",
      "252:\tlearn: 1126.1851317\ttotal: 43.8s\tremaining: 8.14s\n",
      "253:\tlearn: 1125.9670981\ttotal: 44s\tremaining: 7.97s\n",
      "254:\tlearn: 1125.8250974\ttotal: 44.1s\tremaining: 7.79s\n",
      "255:\tlearn: 1125.6296998\ttotal: 44.3s\tremaining: 7.62s\n",
      "256:\tlearn: 1125.3292092\ttotal: 44.5s\tremaining: 7.44s\n",
      "257:\tlearn: 1125.1998450\ttotal: 44.6s\tremaining: 7.27s\n",
      "258:\tlearn: 1125.0334701\ttotal: 44.9s\tremaining: 7.1s\n",
      "259:\tlearn: 1124.8851001\ttotal: 45s\tremaining: 6.92s\n",
      "260:\tlearn: 1124.8176065\ttotal: 45.2s\tremaining: 6.75s\n",
      "261:\tlearn: 1124.6170681\ttotal: 45.3s\tremaining: 6.57s\n",
      "262:\tlearn: 1124.2449116\ttotal: 45.5s\tremaining: 6.4s\n",
      "263:\tlearn: 1123.9893108\ttotal: 45.6s\tremaining: 6.21s\n",
      "264:\tlearn: 1123.8606947\ttotal: 45.8s\tremaining: 6.04s\n",
      "265:\tlearn: 1123.7619053\ttotal: 45.9s\tremaining: 5.87s\n",
      "266:\tlearn: 1123.5660323\ttotal: 46.1s\tremaining: 5.7s\n",
      "267:\tlearn: 1123.4004949\ttotal: 46.3s\tremaining: 5.53s\n",
      "268:\tlearn: 1123.1030214\ttotal: 46.5s\tremaining: 5.35s\n",
      "269:\tlearn: 1122.9898095\ttotal: 46.7s\tremaining: 5.18s\n",
      "270:\tlearn: 1122.8457942\ttotal: 46.8s\tremaining: 5.01s\n",
      "271:\tlearn: 1122.5269401\ttotal: 47s\tremaining: 4.84s\n",
      "272:\tlearn: 1122.2560573\ttotal: 47.2s\tremaining: 4.67s\n",
      "273:\tlearn: 1122.1607158\ttotal: 47.4s\tremaining: 4.49s\n",
      "274:\tlearn: 1122.0754912\ttotal: 47.5s\tremaining: 4.32s\n",
      "275:\tlearn: 1122.0541897\ttotal: 47.6s\tremaining: 4.14s\n",
      "276:\tlearn: 1122.0081808\ttotal: 47.7s\tremaining: 3.96s\n",
      "277:\tlearn: 1121.7935311\ttotal: 47.9s\tremaining: 3.79s\n",
      "278:\tlearn: 1121.6176997\ttotal: 48.1s\tremaining: 3.62s\n",
      "279:\tlearn: 1121.5203565\ttotal: 48.3s\tremaining: 3.45s\n",
      "280:\tlearn: 1121.3267186\ttotal: 48.5s\tremaining: 3.28s\n",
      "281:\tlearn: 1120.9418866\ttotal: 48.7s\tremaining: 3.11s\n",
      "282:\tlearn: 1120.6761013\ttotal: 48.9s\tremaining: 2.94s\n",
      "283:\tlearn: 1120.5743078\ttotal: 49.1s\tremaining: 2.77s\n",
      "284:\tlearn: 1120.4768763\ttotal: 49.3s\tremaining: 2.59s\n",
      "285:\tlearn: 1120.2622810\ttotal: 49.5s\tremaining: 2.42s\n",
      "286:\tlearn: 1120.1471473\ttotal: 49.7s\tremaining: 2.25s\n",
      "287:\tlearn: 1119.9858674\ttotal: 49.8s\tremaining: 2.08s\n",
      "288:\tlearn: 1119.6636006\ttotal: 50s\tremaining: 1.9s\n",
      "289:\tlearn: 1119.5279353\ttotal: 50.2s\tremaining: 1.73s\n",
      "290:\tlearn: 1119.4589503\ttotal: 50.4s\tremaining: 1.56s\n",
      "291:\tlearn: 1119.2997528\ttotal: 50.6s\tremaining: 1.39s\n",
      "292:\tlearn: 1119.0909699\ttotal: 50.8s\tremaining: 1.21s\n",
      "293:\tlearn: 1118.8608266\ttotal: 51s\tremaining: 1.04s\n",
      "294:\tlearn: 1118.7620209\ttotal: 51.2s\tremaining: 868ms\n",
      "295:\tlearn: 1118.4918696\ttotal: 51.4s\tremaining: 694ms\n",
      "296:\tlearn: 1118.3683059\ttotal: 51.6s\tremaining: 521ms\n",
      "297:\tlearn: 1118.3401091\ttotal: 51.8s\tremaining: 347ms\n",
      "298:\tlearn: 1118.0469221\ttotal: 51.9s\tremaining: 174ms\n",
      "299:\tlearn: 1117.8463891\ttotal: 52.2s\tremaining: 0us\n",
      "0:\tlearn: 2186.1213961\ttotal: 205ms\tremaining: 1m 1s\n",
      "1:\tlearn: 1886.9116374\ttotal: 378ms\tremaining: 56.3s\n",
      "2:\tlearn: 1691.4427011\ttotal: 632ms\tremaining: 1m 2s\n",
      "3:\tlearn: 1568.6798594\ttotal: 760ms\tremaining: 56.2s\n",
      "4:\tlearn: 1483.7892279\ttotal: 967ms\tremaining: 57.1s\n",
      "5:\tlearn: 1428.5523466\ttotal: 1.12s\tremaining: 54.9s\n",
      "6:\tlearn: 1387.0947415\ttotal: 1.32s\tremaining: 55.4s\n",
      "7:\tlearn: 1359.9771158\ttotal: 1.5s\tremaining: 54.6s\n",
      "8:\tlearn: 1342.5009020\ttotal: 1.62s\tremaining: 52.4s\n",
      "9:\tlearn: 1331.0859217\ttotal: 1.81s\tremaining: 52.6s\n",
      "10:\tlearn: 1318.9344752\ttotal: 2s\tremaining: 52.6s\n",
      "11:\tlearn: 1311.4127730\ttotal: 2.2s\tremaining: 52.7s\n",
      "12:\tlearn: 1302.0272480\ttotal: 2.33s\tremaining: 51.5s\n",
      "13:\tlearn: 1293.2846443\ttotal: 2.5s\tremaining: 51s\n",
      "14:\tlearn: 1288.5944532\ttotal: 2.68s\tremaining: 50.9s\n",
      "15:\tlearn: 1283.4874793\ttotal: 2.8s\tremaining: 49.8s\n",
      "16:\tlearn: 1279.0274981\ttotal: 2.96s\tremaining: 49.2s\n",
      "17:\tlearn: 1274.3500942\ttotal: 3.1s\tremaining: 48.6s\n",
      "18:\tlearn: 1270.6825193\ttotal: 3.26s\tremaining: 48.2s\n",
      "19:\tlearn: 1266.4891856\ttotal: 3.42s\tremaining: 47.9s\n",
      "20:\tlearn: 1263.9008469\ttotal: 3.58s\tremaining: 47.5s\n",
      "21:\tlearn: 1260.9907447\ttotal: 3.75s\tremaining: 47.4s\n",
      "22:\tlearn: 1258.5598002\ttotal: 3.86s\tremaining: 46.5s\n",
      "23:\tlearn: 1255.3411065\ttotal: 4.03s\tremaining: 46.3s\n",
      "24:\tlearn: 1252.7104264\ttotal: 4.19s\tremaining: 46.1s\n",
      "25:\tlearn: 1250.0443666\ttotal: 4.35s\tremaining: 45.9s\n",
      "26:\tlearn: 1247.2825807\ttotal: 4.49s\tremaining: 45.4s\n",
      "27:\tlearn: 1245.7757019\ttotal: 4.65s\tremaining: 45.2s\n",
      "28:\tlearn: 1243.4468367\ttotal: 4.82s\tremaining: 45.1s\n",
      "29:\tlearn: 1241.2724498\ttotal: 4.97s\tremaining: 44.8s\n",
      "30:\tlearn: 1238.8211184\ttotal: 5.13s\tremaining: 44.5s\n",
      "31:\tlearn: 1236.9910833\ttotal: 5.28s\tremaining: 44.2s\n",
      "32:\tlearn: 1235.2854569\ttotal: 5.43s\tremaining: 43.9s\n",
      "33:\tlearn: 1232.7937908\ttotal: 5.57s\tremaining: 43.6s\n",
      "34:\tlearn: 1230.7585454\ttotal: 5.72s\tremaining: 43.3s\n",
      "35:\tlearn: 1229.9758772\ttotal: 5.9s\tremaining: 43.3s\n",
      "36:\tlearn: 1228.7681101\ttotal: 6.03s\tremaining: 42.9s\n",
      "37:\tlearn: 1226.5207411\ttotal: 6.2s\tremaining: 42.7s\n",
      "38:\tlearn: 1225.4615696\ttotal: 6.33s\tremaining: 42.4s\n",
      "39:\tlearn: 1223.7289207\ttotal: 6.5s\tremaining: 42.3s\n",
      "40:\tlearn: 1221.8941943\ttotal: 6.67s\tremaining: 42.1s\n",
      "41:\tlearn: 1220.5991523\ttotal: 6.84s\tremaining: 42s\n",
      "42:\tlearn: 1219.2872642\ttotal: 7.01s\tremaining: 41.9s\n",
      "43:\tlearn: 1218.5700447\ttotal: 7.17s\tremaining: 41.7s\n",
      "44:\tlearn: 1217.2091793\ttotal: 7.3s\tremaining: 41.4s\n",
      "45:\tlearn: 1216.3200628\ttotal: 7.47s\tremaining: 41.3s\n",
      "46:\tlearn: 1214.9452531\ttotal: 7.64s\tremaining: 41.1s\n",
      "47:\tlearn: 1214.2483485\ttotal: 7.8s\tremaining: 41s\n",
      "48:\tlearn: 1213.1140356\ttotal: 7.95s\tremaining: 40.7s\n",
      "49:\tlearn: 1211.6967126\ttotal: 8.16s\tremaining: 40.8s\n",
      "50:\tlearn: 1210.6847781\ttotal: 8.34s\tremaining: 40.7s\n",
      "51:\tlearn: 1209.3375711\ttotal: 8.5s\tremaining: 40.5s\n",
      "52:\tlearn: 1207.9666108\ttotal: 8.67s\tremaining: 40.4s\n",
      "53:\tlearn: 1206.5938097\ttotal: 8.87s\tremaining: 40.4s\n",
      "54:\tlearn: 1206.1587190\ttotal: 9.02s\tremaining: 40.2s\n",
      "55:\tlearn: 1205.6668337\ttotal: 9.22s\tremaining: 40.2s\n",
      "56:\tlearn: 1204.8857753\ttotal: 9.42s\tremaining: 40.2s\n",
      "57:\tlearn: 1203.7155505\ttotal: 9.59s\tremaining: 40s\n",
      "58:\tlearn: 1202.4805368\ttotal: 9.72s\tremaining: 39.7s\n",
      "59:\tlearn: 1201.7090843\ttotal: 9.97s\tremaining: 39.9s\n",
      "60:\tlearn: 1200.5010344\ttotal: 10.1s\tremaining: 39.7s\n",
      "61:\tlearn: 1199.4785369\ttotal: 10.3s\tremaining: 39.7s\n",
      "62:\tlearn: 1198.6325232\ttotal: 10.5s\tremaining: 39.4s\n",
      "63:\tlearn: 1198.0302320\ttotal: 10.7s\tremaining: 39.5s\n",
      "64:\tlearn: 1197.2073321\ttotal: 10.9s\tremaining: 39.3s\n",
      "65:\tlearn: 1195.7644528\ttotal: 11s\tremaining: 39.1s\n",
      "66:\tlearn: 1194.7870728\ttotal: 11.2s\tremaining: 39s\n",
      "67:\tlearn: 1193.9954313\ttotal: 11.3s\tremaining: 38.7s\n",
      "68:\tlearn: 1193.4569514\ttotal: 11.5s\tremaining: 38.4s\n",
      "69:\tlearn: 1193.0129296\ttotal: 11.6s\tremaining: 38.2s\n",
      "70:\tlearn: 1191.8603976\ttotal: 11.8s\tremaining: 38.1s\n",
      "71:\tlearn: 1191.0000203\ttotal: 12s\tremaining: 37.9s\n",
      "72:\tlearn: 1190.1216724\ttotal: 12.1s\tremaining: 37.6s\n",
      "73:\tlearn: 1189.3322656\ttotal: 12.3s\tremaining: 37.5s\n",
      "74:\tlearn: 1188.8782506\ttotal: 12.4s\tremaining: 37.3s\n",
      "75:\tlearn: 1188.1501642\ttotal: 12.6s\tremaining: 37.1s\n",
      "76:\tlearn: 1187.6453557\ttotal: 12.9s\tremaining: 37.3s\n",
      "77:\tlearn: 1187.0602785\ttotal: 13s\tremaining: 37.1s\n",
      "78:\tlearn: 1186.4569381\ttotal: 13.3s\tremaining: 37.3s\n",
      "79:\tlearn: 1186.0762953\ttotal: 13.6s\tremaining: 37.4s\n",
      "80:\tlearn: 1185.4222255\ttotal: 13.9s\tremaining: 37.5s\n",
      "81:\tlearn: 1184.7909702\ttotal: 14s\tremaining: 37.3s\n",
      "82:\tlearn: 1184.4465496\ttotal: 14.2s\tremaining: 37.2s\n",
      "83:\tlearn: 1184.1256109\ttotal: 14.4s\tremaining: 37s\n",
      "84:\tlearn: 1183.4551789\ttotal: 14.6s\tremaining: 36.9s\n",
      "85:\tlearn: 1182.6249099\ttotal: 14.8s\tremaining: 36.9s\n",
      "86:\tlearn: 1182.1334012\ttotal: 15s\tremaining: 36.8s\n",
      "87:\tlearn: 1181.4846589\ttotal: 15.3s\tremaining: 36.8s\n",
      "88:\tlearn: 1180.9531492\ttotal: 15.5s\tremaining: 36.7s\n",
      "89:\tlearn: 1180.6221003\ttotal: 15.7s\tremaining: 36.6s\n",
      "90:\tlearn: 1180.0747279\ttotal: 15.9s\tremaining: 36.5s\n",
      "91:\tlearn: 1179.7597511\ttotal: 16.1s\tremaining: 36.4s\n",
      "92:\tlearn: 1179.1949788\ttotal: 16.3s\tremaining: 36.3s\n",
      "93:\tlearn: 1178.7464708\ttotal: 16.5s\tremaining: 36.2s\n",
      "94:\tlearn: 1178.3719431\ttotal: 16.7s\tremaining: 35.9s\n",
      "95:\tlearn: 1178.1562885\ttotal: 16.8s\tremaining: 35.7s\n",
      "96:\tlearn: 1177.3525625\ttotal: 17s\tremaining: 35.7s\n",
      "97:\tlearn: 1177.0570433\ttotal: 17.3s\tremaining: 35.6s\n",
      "98:\tlearn: 1176.2435824\ttotal: 17.4s\tremaining: 35.4s\n",
      "99:\tlearn: 1175.8669391\ttotal: 17.6s\tremaining: 35.3s\n",
      "100:\tlearn: 1175.5225781\ttotal: 17.8s\tremaining: 35.1s\n",
      "101:\tlearn: 1175.0012253\ttotal: 18s\tremaining: 34.9s\n",
      "102:\tlearn: 1174.6258330\ttotal: 18.1s\tremaining: 34.7s\n",
      "103:\tlearn: 1174.2421240\ttotal: 18.3s\tremaining: 34.4s\n",
      "104:\tlearn: 1173.7730315\ttotal: 18.4s\tremaining: 34.2s\n",
      "105:\tlearn: 1173.1180217\ttotal: 18.6s\tremaining: 34.1s\n",
      "106:\tlearn: 1172.5056294\ttotal: 18.7s\tremaining: 33.8s\n",
      "107:\tlearn: 1172.2959025\ttotal: 18.9s\tremaining: 33.6s\n",
      "108:\tlearn: 1171.8816049\ttotal: 19s\tremaining: 33.4s\n",
      "109:\tlearn: 1171.3031005\ttotal: 19.2s\tremaining: 33.2s\n",
      "110:\tlearn: 1170.9963394\ttotal: 19.4s\tremaining: 33s\n",
      "111:\tlearn: 1170.6100564\ttotal: 19.5s\tremaining: 32.8s\n",
      "112:\tlearn: 1170.3949463\ttotal: 19.7s\tremaining: 32.6s\n",
      "113:\tlearn: 1170.2000551\ttotal: 19.8s\tremaining: 32.4s\n",
      "114:\tlearn: 1169.8867285\ttotal: 20s\tremaining: 32.2s\n",
      "115:\tlearn: 1169.5953121\ttotal: 20.2s\tremaining: 32s\n",
      "116:\tlearn: 1169.4062337\ttotal: 20.3s\tremaining: 31.8s\n",
      "117:\tlearn: 1169.0088396\ttotal: 20.5s\tremaining: 31.6s\n",
      "118:\tlearn: 1168.4756355\ttotal: 20.6s\tremaining: 31.4s\n",
      "119:\tlearn: 1168.0479047\ttotal: 20.8s\tremaining: 31.2s\n",
      "120:\tlearn: 1167.6315372\ttotal: 20.9s\tremaining: 31s\n",
      "121:\tlearn: 1167.0562154\ttotal: 21.1s\tremaining: 30.7s\n",
      "122:\tlearn: 1166.7274663\ttotal: 21.2s\tremaining: 30.5s\n",
      "123:\tlearn: 1166.2855438\ttotal: 21.4s\tremaining: 30.3s\n",
      "124:\tlearn: 1165.9899365\ttotal: 21.5s\tremaining: 30.1s\n",
      "125:\tlearn: 1165.3918755\ttotal: 21.7s\tremaining: 29.9s\n",
      "126:\tlearn: 1165.1987904\ttotal: 21.8s\tremaining: 29.7s\n",
      "127:\tlearn: 1164.9059560\ttotal: 21.9s\tremaining: 29.5s\n",
      "128:\tlearn: 1164.6087953\ttotal: 22.1s\tremaining: 29.3s\n",
      "129:\tlearn: 1164.5197553\ttotal: 22.2s\tremaining: 29.1s\n",
      "130:\tlearn: 1164.1343743\ttotal: 22.3s\tremaining: 28.8s\n",
      "131:\tlearn: 1163.9529061\ttotal: 22.5s\tremaining: 28.6s\n",
      "132:\tlearn: 1163.4722888\ttotal: 22.6s\tremaining: 28.4s\n",
      "133:\tlearn: 1163.2907293\ttotal: 22.8s\tremaining: 28.2s\n",
      "134:\tlearn: 1162.9638550\ttotal: 22.9s\tremaining: 28s\n",
      "135:\tlearn: 1162.2984358\ttotal: 23.1s\tremaining: 27.9s\n",
      "136:\tlearn: 1162.0358115\ttotal: 23.3s\tremaining: 27.7s\n",
      "137:\tlearn: 1161.5520310\ttotal: 23.5s\tremaining: 27.6s\n",
      "138:\tlearn: 1161.0052020\ttotal: 23.6s\tremaining: 27.4s\n",
      "139:\tlearn: 1160.5625979\ttotal: 23.8s\tremaining: 27.2s\n",
      "140:\tlearn: 1160.4281270\ttotal: 23.9s\tremaining: 27s\n",
      "141:\tlearn: 1160.1124542\ttotal: 24.1s\tremaining: 26.8s\n",
      "142:\tlearn: 1159.8291788\ttotal: 24.3s\tremaining: 26.6s\n",
      "143:\tlearn: 1159.6537950\ttotal: 24.4s\tremaining: 26.4s\n",
      "144:\tlearn: 1159.1185641\ttotal: 24.5s\tremaining: 26.2s\n",
      "145:\tlearn: 1158.6566686\ttotal: 24.7s\tremaining: 26s\n",
      "146:\tlearn: 1158.3000164\ttotal: 24.8s\tremaining: 25.8s\n",
      "147:\tlearn: 1157.9980719\ttotal: 25s\tremaining: 25.6s\n",
      "148:\tlearn: 1157.7401847\ttotal: 25.1s\tremaining: 25.5s\n",
      "149:\tlearn: 1157.1704375\ttotal: 25.3s\tremaining: 25.3s\n",
      "150:\tlearn: 1156.8644419\ttotal: 25.4s\tremaining: 25.1s\n",
      "151:\tlearn: 1156.7357717\ttotal: 25.6s\tremaining: 24.9s\n",
      "152:\tlearn: 1156.4078457\ttotal: 25.7s\tremaining: 24.7s\n",
      "153:\tlearn: 1156.2071751\ttotal: 25.9s\tremaining: 24.5s\n",
      "154:\tlearn: 1155.9745498\ttotal: 26.1s\tremaining: 24.4s\n",
      "155:\tlearn: 1155.8486850\ttotal: 26.2s\tremaining: 24.2s\n",
      "156:\tlearn: 1155.4912936\ttotal: 26.4s\tremaining: 24s\n",
      "157:\tlearn: 1155.1901272\ttotal: 26.5s\tremaining: 23.9s\n",
      "158:\tlearn: 1155.0311160\ttotal: 26.7s\tremaining: 23.7s\n",
      "159:\tlearn: 1154.9624240\ttotal: 26.9s\tremaining: 23.5s\n",
      "160:\tlearn: 1154.8637522\ttotal: 27s\tremaining: 23.3s\n",
      "161:\tlearn: 1154.3799968\ttotal: 27.2s\tremaining: 23.2s\n",
      "162:\tlearn: 1154.1911354\ttotal: 27.3s\tremaining: 23s\n",
      "163:\tlearn: 1154.0283765\ttotal: 27.4s\tremaining: 22.8s\n",
      "164:\tlearn: 1153.5708433\ttotal: 27.6s\tremaining: 22.6s\n",
      "165:\tlearn: 1153.2814906\ttotal: 27.7s\tremaining: 22.4s\n",
      "166:\tlearn: 1152.9074182\ttotal: 27.9s\tremaining: 22.2s\n",
      "167:\tlearn: 1152.7971058\ttotal: 28s\tremaining: 22s\n",
      "168:\tlearn: 1152.6443588\ttotal: 28.2s\tremaining: 21.8s\n",
      "169:\tlearn: 1152.3276565\ttotal: 28.3s\tremaining: 21.7s\n",
      "170:\tlearn: 1151.5445576\ttotal: 28.5s\tremaining: 21.5s\n",
      "171:\tlearn: 1151.2450279\ttotal: 28.7s\tremaining: 21.3s\n",
      "172:\tlearn: 1150.9429606\ttotal: 28.8s\tremaining: 21.2s\n",
      "173:\tlearn: 1150.3639654\ttotal: 29s\tremaining: 21s\n",
      "174:\tlearn: 1149.9509444\ttotal: 29.2s\tremaining: 20.8s\n",
      "175:\tlearn: 1149.7098926\ttotal: 29.3s\tremaining: 20.7s\n",
      "176:\tlearn: 1149.4911696\ttotal: 29.5s\tremaining: 20.5s\n",
      "177:\tlearn: 1149.2190400\ttotal: 29.7s\tremaining: 20.4s\n",
      "178:\tlearn: 1149.0535557\ttotal: 29.9s\tremaining: 20.2s\n",
      "179:\tlearn: 1148.7988208\ttotal: 30.1s\tremaining: 20.1s\n",
      "180:\tlearn: 1148.6339572\ttotal: 30.3s\tremaining: 19.9s\n",
      "181:\tlearn: 1148.3224905\ttotal: 30.6s\tremaining: 19.8s\n",
      "182:\tlearn: 1148.1085690\ttotal: 30.8s\tremaining: 19.7s\n",
      "183:\tlearn: 1147.7850339\ttotal: 31s\tremaining: 19.5s\n",
      "184:\tlearn: 1147.6636724\ttotal: 31.2s\tremaining: 19.4s\n",
      "185:\tlearn: 1147.5390025\ttotal: 31.4s\tremaining: 19.3s\n",
      "186:\tlearn: 1147.1228125\ttotal: 31.7s\tremaining: 19.1s\n",
      "187:\tlearn: 1146.9671965\ttotal: 31.9s\tremaining: 19s\n",
      "188:\tlearn: 1146.6710995\ttotal: 32.1s\tremaining: 18.8s\n",
      "189:\tlearn: 1146.4442169\ttotal: 32.3s\tremaining: 18.7s\n",
      "190:\tlearn: 1145.8036667\ttotal: 32.5s\tremaining: 18.5s\n",
      "191:\tlearn: 1145.6285227\ttotal: 32.7s\tremaining: 18.4s\n",
      "192:\tlearn: 1145.3759351\ttotal: 32.9s\tremaining: 18.3s\n",
      "193:\tlearn: 1145.1719254\ttotal: 33.1s\tremaining: 18.1s\n",
      "194:\tlearn: 1144.9878461\ttotal: 33.4s\tremaining: 18s\n",
      "195:\tlearn: 1144.5122215\ttotal: 33.5s\tremaining: 17.8s\n",
      "196:\tlearn: 1144.2308456\ttotal: 33.7s\tremaining: 17.6s\n",
      "197:\tlearn: 1143.9978751\ttotal: 33.9s\tremaining: 17.5s\n",
      "198:\tlearn: 1143.2644976\ttotal: 34.1s\tremaining: 17.3s\n",
      "199:\tlearn: 1143.0633261\ttotal: 34.3s\tremaining: 17.2s\n",
      "200:\tlearn: 1142.8870431\ttotal: 34.5s\tremaining: 17s\n",
      "201:\tlearn: 1142.6918774\ttotal: 34.7s\tremaining: 16.8s\n",
      "202:\tlearn: 1142.3445455\ttotal: 34.8s\tremaining: 16.6s\n",
      "203:\tlearn: 1141.9456352\ttotal: 35s\tremaining: 16.5s\n",
      "204:\tlearn: 1141.8324070\ttotal: 35.1s\tremaining: 16.3s\n",
      "205:\tlearn: 1141.6255156\ttotal: 35.3s\tremaining: 16.1s\n",
      "206:\tlearn: 1141.4086668\ttotal: 35.5s\tremaining: 15.9s\n",
      "207:\tlearn: 1141.2966796\ttotal: 35.7s\tremaining: 15.8s\n",
      "208:\tlearn: 1140.8777359\ttotal: 35.9s\tremaining: 15.6s\n",
      "209:\tlearn: 1140.5679949\ttotal: 36s\tremaining: 15.4s\n",
      "210:\tlearn: 1140.4000509\ttotal: 36.2s\tremaining: 15.3s\n",
      "211:\tlearn: 1140.2077626\ttotal: 36.4s\tremaining: 15.1s\n",
      "212:\tlearn: 1140.0188907\ttotal: 36.6s\tremaining: 15s\n",
      "213:\tlearn: 1139.8195212\ttotal: 36.8s\tremaining: 14.8s\n",
      "214:\tlearn: 1139.4482115\ttotal: 36.9s\tremaining: 14.6s\n",
      "215:\tlearn: 1139.3684454\ttotal: 37.1s\tremaining: 14.4s\n",
      "216:\tlearn: 1139.2012270\ttotal: 37.3s\tremaining: 14.3s\n",
      "217:\tlearn: 1139.0352782\ttotal: 37.5s\tremaining: 14.1s\n",
      "218:\tlearn: 1138.8636498\ttotal: 37.6s\tremaining: 13.9s\n",
      "219:\tlearn: 1138.6236536\ttotal: 37.8s\tremaining: 13.7s\n",
      "220:\tlearn: 1138.4246738\ttotal: 38s\tremaining: 13.6s\n",
      "221:\tlearn: 1138.0046773\ttotal: 38.2s\tremaining: 13.4s\n",
      "222:\tlearn: 1137.5698943\ttotal: 38.4s\tremaining: 13.2s\n",
      "223:\tlearn: 1137.2111744\ttotal: 38.5s\tremaining: 13.1s\n",
      "224:\tlearn: 1137.1048156\ttotal: 38.7s\tremaining: 12.9s\n",
      "225:\tlearn: 1136.9371205\ttotal: 38.8s\tremaining: 12.7s\n",
      "226:\tlearn: 1136.7367502\ttotal: 38.9s\tremaining: 12.5s\n",
      "227:\tlearn: 1136.5281542\ttotal: 39.1s\tremaining: 12.4s\n",
      "228:\tlearn: 1136.0388740\ttotal: 39.3s\tremaining: 12.2s\n",
      "229:\tlearn: 1135.7404385\ttotal: 39.4s\tremaining: 12s\n",
      "230:\tlearn: 1135.5400917\ttotal: 39.6s\tremaining: 11.8s\n",
      "231:\tlearn: 1135.2461310\ttotal: 39.8s\tremaining: 11.7s\n",
      "232:\tlearn: 1135.1285358\ttotal: 39.9s\tremaining: 11.5s\n",
      "233:\tlearn: 1134.9155565\ttotal: 40.1s\tremaining: 11.3s\n",
      "234:\tlearn: 1134.7738277\ttotal: 40.3s\tremaining: 11.2s\n",
      "235:\tlearn: 1134.4863209\ttotal: 40.5s\tremaining: 11s\n",
      "236:\tlearn: 1134.3503173\ttotal: 40.6s\tremaining: 10.8s\n",
      "237:\tlearn: 1134.2231944\ttotal: 40.8s\tremaining: 10.6s\n",
      "238:\tlearn: 1133.9181416\ttotal: 41s\tremaining: 10.5s\n",
      "239:\tlearn: 1133.7771060\ttotal: 41.2s\tremaining: 10.3s\n",
      "240:\tlearn: 1133.5017643\ttotal: 41.3s\tremaining: 10.1s\n",
      "241:\tlearn: 1133.0984692\ttotal: 41.5s\tremaining: 9.95s\n",
      "242:\tlearn: 1132.8539682\ttotal: 41.7s\tremaining: 9.77s\n",
      "243:\tlearn: 1132.5657692\ttotal: 41.8s\tremaining: 9.6s\n",
      "244:\tlearn: 1132.4106923\ttotal: 42s\tremaining: 9.43s\n",
      "245:\tlearn: 1132.3402383\ttotal: 42.1s\tremaining: 9.25s\n",
      "246:\tlearn: 1132.2048196\ttotal: 42.3s\tremaining: 9.08s\n",
      "247:\tlearn: 1132.0462151\ttotal: 42.5s\tremaining: 8.9s\n",
      "248:\tlearn: 1131.9519576\ttotal: 42.6s\tremaining: 8.72s\n",
      "249:\tlearn: 1131.5458034\ttotal: 42.7s\tremaining: 8.54s\n",
      "250:\tlearn: 1131.4245007\ttotal: 42.9s\tremaining: 8.37s\n",
      "251:\tlearn: 1131.2592652\ttotal: 43s\tremaining: 8.19s\n",
      "252:\tlearn: 1131.1723727\ttotal: 43.2s\tremaining: 8.03s\n",
      "253:\tlearn: 1130.7855486\ttotal: 43.4s\tremaining: 7.86s\n",
      "254:\tlearn: 1130.4898918\ttotal: 43.5s\tremaining: 7.68s\n",
      "255:\tlearn: 1130.4359328\ttotal: 43.7s\tremaining: 7.51s\n",
      "256:\tlearn: 1130.2564785\ttotal: 43.8s\tremaining: 7.33s\n",
      "257:\tlearn: 1130.1451889\ttotal: 44s\tremaining: 7.16s\n",
      "258:\tlearn: 1129.9545887\ttotal: 44.1s\tremaining: 6.99s\n",
      "259:\tlearn: 1129.7410027\ttotal: 44.3s\tremaining: 6.82s\n",
      "260:\tlearn: 1129.3160210\ttotal: 44.5s\tremaining: 6.65s\n",
      "261:\tlearn: 1129.1252679\ttotal: 44.7s\tremaining: 6.48s\n",
      "262:\tlearn: 1128.8812359\ttotal: 44.8s\tremaining: 6.31s\n",
      "263:\tlearn: 1128.7679857\ttotal: 45.1s\tremaining: 6.15s\n",
      "264:\tlearn: 1128.6290892\ttotal: 45.5s\tremaining: 6.01s\n",
      "265:\tlearn: 1128.5391991\ttotal: 45.7s\tremaining: 5.83s\n",
      "266:\tlearn: 1128.4455360\ttotal: 45.9s\tremaining: 5.67s\n",
      "267:\tlearn: 1128.4451947\ttotal: 45.9s\tremaining: 5.49s\n",
      "268:\tlearn: 1128.4293208\ttotal: 46.1s\tremaining: 5.31s\n",
      "269:\tlearn: 1128.1749812\ttotal: 46.3s\tremaining: 5.14s\n",
      "270:\tlearn: 1127.9376519\ttotal: 46.5s\tremaining: 4.97s\n",
      "271:\tlearn: 1127.4100284\ttotal: 46.7s\tremaining: 4.8s\n",
      "272:\tlearn: 1127.2234989\ttotal: 46.9s\tremaining: 4.63s\n",
      "273:\tlearn: 1127.0546026\ttotal: 47s\tremaining: 4.46s\n",
      "274:\tlearn: 1126.9215793\ttotal: 47.3s\tremaining: 4.29s\n",
      "275:\tlearn: 1126.5572039\ttotal: 47.5s\tremaining: 4.13s\n",
      "276:\tlearn: 1126.4348753\ttotal: 47.6s\tremaining: 3.96s\n",
      "277:\tlearn: 1126.2993115\ttotal: 47.8s\tremaining: 3.78s\n",
      "278:\tlearn: 1126.1148217\ttotal: 48s\tremaining: 3.61s\n",
      "279:\tlearn: 1125.8262276\ttotal: 48.1s\tremaining: 3.44s\n",
      "280:\tlearn: 1125.4677955\ttotal: 48.3s\tremaining: 3.26s\n",
      "281:\tlearn: 1125.2015254\ttotal: 48.5s\tremaining: 3.09s\n",
      "282:\tlearn: 1125.2013052\ttotal: 48.5s\tremaining: 2.92s\n",
      "283:\tlearn: 1124.8335191\ttotal: 48.7s\tremaining: 2.75s\n",
      "284:\tlearn: 1124.5996881\ttotal: 48.9s\tremaining: 2.58s\n",
      "285:\tlearn: 1124.0041705\ttotal: 49.1s\tremaining: 2.4s\n",
      "286:\tlearn: 1123.8598220\ttotal: 49.3s\tremaining: 2.23s\n",
      "287:\tlearn: 1123.6297095\ttotal: 49.5s\tremaining: 2.06s\n",
      "288:\tlearn: 1123.4654952\ttotal: 49.6s\tremaining: 1.89s\n",
      "289:\tlearn: 1123.3219959\ttotal: 49.7s\tremaining: 1.72s\n",
      "290:\tlearn: 1123.1609560\ttotal: 49.9s\tremaining: 1.54s\n",
      "291:\tlearn: 1122.9755259\ttotal: 50s\tremaining: 1.37s\n",
      "292:\tlearn: 1122.7112860\ttotal: 50.1s\tremaining: 1.2s\n",
      "293:\tlearn: 1122.4940592\ttotal: 50.3s\tremaining: 1.03s\n",
      "294:\tlearn: 1122.4504431\ttotal: 50.5s\tremaining: 856ms\n",
      "295:\tlearn: 1122.2790790\ttotal: 50.7s\tremaining: 685ms\n",
      "296:\tlearn: 1122.0916142\ttotal: 50.9s\tremaining: 514ms\n",
      "297:\tlearn: 1122.0017761\ttotal: 51s\tremaining: 343ms\n",
      "298:\tlearn: 1121.5858230\ttotal: 51.2s\tremaining: 171ms\n",
      "299:\tlearn: 1121.3906251\ttotal: 51.3s\tremaining: 0us\n",
      "0:\tlearn: 2181.4113426\ttotal: 178ms\tremaining: 53.3s\n",
      "1:\tlearn: 1880.7549536\ttotal: 319ms\tremaining: 47.5s\n",
      "2:\tlearn: 1671.8426079\ttotal: 497ms\tremaining: 49.2s\n",
      "3:\tlearn: 1543.8045335\ttotal: 639ms\tremaining: 47.3s\n",
      "4:\tlearn: 1461.7802061\ttotal: 793ms\tremaining: 46.8s\n",
      "5:\tlearn: 1406.0619856\ttotal: 943ms\tremaining: 46.2s\n",
      "6:\tlearn: 1368.4415807\ttotal: 1.12s\tremaining: 47s\n",
      "7:\tlearn: 1347.5333374\ttotal: 1.25s\tremaining: 45.7s\n",
      "8:\tlearn: 1328.6309362\ttotal: 1.4s\tremaining: 45.2s\n",
      "9:\tlearn: 1315.4260628\ttotal: 1.59s\tremaining: 46.1s\n",
      "10:\tlearn: 1305.5367666\ttotal: 1.77s\tremaining: 46.5s\n",
      "11:\tlearn: 1295.7341689\ttotal: 1.89s\tremaining: 45.5s\n",
      "12:\tlearn: 1290.5992429\ttotal: 2.06s\tremaining: 45.4s\n",
      "13:\tlearn: 1283.5982353\ttotal: 2.2s\tremaining: 44.9s\n",
      "14:\tlearn: 1279.5305332\ttotal: 2.35s\tremaining: 44.6s\n",
      "15:\tlearn: 1273.7854343\ttotal: 2.48s\tremaining: 44.1s\n",
      "16:\tlearn: 1270.9482013\ttotal: 2.65s\tremaining: 44.1s\n",
      "17:\tlearn: 1268.2219989\ttotal: 2.8s\tremaining: 43.9s\n",
      "18:\tlearn: 1263.8780131\ttotal: 3s\tremaining: 44.4s\n",
      "19:\tlearn: 1262.0039789\ttotal: 3.14s\tremaining: 43.9s\n",
      "20:\tlearn: 1256.9463854\ttotal: 3.31s\tremaining: 44s\n",
      "21:\tlearn: 1251.5941749\ttotal: 3.44s\tremaining: 43.5s\n",
      "22:\tlearn: 1247.8520378\ttotal: 3.59s\tremaining: 43.2s\n",
      "23:\tlearn: 1245.0901375\ttotal: 3.75s\tremaining: 43.1s\n",
      "24:\tlearn: 1242.1453209\ttotal: 3.88s\tremaining: 42.7s\n",
      "25:\tlearn: 1239.2163569\ttotal: 4.02s\tremaining: 42.4s\n",
      "26:\tlearn: 1236.4413161\ttotal: 4.16s\tremaining: 42s\n",
      "27:\tlearn: 1234.3900834\ttotal: 4.32s\tremaining: 42s\n",
      "28:\tlearn: 1232.9303862\ttotal: 4.49s\tremaining: 42s\n",
      "29:\tlearn: 1230.9151997\ttotal: 4.6s\tremaining: 41.4s\n",
      "30:\tlearn: 1229.2581408\ttotal: 4.75s\tremaining: 41.2s\n",
      "31:\tlearn: 1227.8447763\ttotal: 4.91s\tremaining: 41.1s\n",
      "32:\tlearn: 1226.2481313\ttotal: 5.04s\tremaining: 40.7s\n",
      "33:\tlearn: 1223.5271880\ttotal: 5.21s\tremaining: 40.8s\n",
      "34:\tlearn: 1222.5275561\ttotal: 5.37s\tremaining: 40.7s\n",
      "35:\tlearn: 1220.5100009\ttotal: 5.53s\tremaining: 40.6s\n",
      "36:\tlearn: 1219.3832962\ttotal: 5.7s\tremaining: 40.5s\n",
      "37:\tlearn: 1217.5024039\ttotal: 5.86s\tremaining: 40.4s\n",
      "38:\tlearn: 1215.4988703\ttotal: 6.01s\tremaining: 40.2s\n",
      "39:\tlearn: 1214.1155323\ttotal: 6.19s\tremaining: 40.3s\n",
      "40:\tlearn: 1212.5862471\ttotal: 6.32s\tremaining: 39.9s\n",
      "41:\tlearn: 1211.6890802\ttotal: 6.5s\tremaining: 39.9s\n",
      "42:\tlearn: 1210.6524751\ttotal: 6.68s\tremaining: 39.9s\n",
      "43:\tlearn: 1210.2998002\ttotal: 6.85s\tremaining: 39.9s\n",
      "44:\tlearn: 1208.4020051\ttotal: 7.01s\tremaining: 39.7s\n",
      "45:\tlearn: 1207.2945528\ttotal: 7.17s\tremaining: 39.6s\n",
      "46:\tlearn: 1205.5381093\ttotal: 7.37s\tremaining: 39.7s\n",
      "47:\tlearn: 1204.8770822\ttotal: 7.52s\tremaining: 39.5s\n",
      "48:\tlearn: 1204.2975249\ttotal: 7.7s\tremaining: 39.4s\n",
      "49:\tlearn: 1202.9145069\ttotal: 7.82s\tremaining: 39.1s\n",
      "50:\tlearn: 1202.1823623\ttotal: 8.02s\tremaining: 39.2s\n",
      "51:\tlearn: 1201.3366003\ttotal: 8.18s\tremaining: 39s\n",
      "52:\tlearn: 1200.4475406\ttotal: 8.34s\tremaining: 38.9s\n",
      "53:\tlearn: 1199.7527760\ttotal: 8.51s\tremaining: 38.8s\n",
      "54:\tlearn: 1198.8659324\ttotal: 8.7s\tremaining: 38.8s\n",
      "55:\tlearn: 1197.8181277\ttotal: 8.86s\tremaining: 38.6s\n",
      "56:\tlearn: 1196.4271916\ttotal: 9.09s\tremaining: 38.8s\n",
      "57:\tlearn: 1195.2847446\ttotal: 9.26s\tremaining: 38.6s\n",
      "58:\tlearn: 1194.6530703\ttotal: 9.43s\tremaining: 38.5s\n",
      "59:\tlearn: 1194.0041623\ttotal: 9.58s\tremaining: 38.3s\n",
      "60:\tlearn: 1192.7354834\ttotal: 9.77s\tremaining: 38.3s\n",
      "61:\tlearn: 1191.9237644\ttotal: 9.9s\tremaining: 38s\n",
      "62:\tlearn: 1190.7077345\ttotal: 10.1s\tremaining: 37.8s\n",
      "63:\tlearn: 1189.8332394\ttotal: 10.3s\tremaining: 37.9s\n",
      "64:\tlearn: 1188.7279352\ttotal: 10.5s\tremaining: 37.8s\n",
      "65:\tlearn: 1187.6570691\ttotal: 10.6s\tremaining: 37.6s\n",
      "66:\tlearn: 1186.6983895\ttotal: 10.7s\tremaining: 37.4s\n",
      "67:\tlearn: 1185.9958983\ttotal: 11s\tremaining: 37.6s\n",
      "68:\tlearn: 1185.5412307\ttotal: 11.3s\tremaining: 37.8s\n",
      "69:\tlearn: 1185.2633492\ttotal: 11.5s\tremaining: 37.9s\n",
      "70:\tlearn: 1184.4176486\ttotal: 11.8s\tremaining: 38s\n",
      "71:\tlearn: 1183.8572883\ttotal: 12s\tremaining: 38.1s\n",
      "72:\tlearn: 1183.0368949\ttotal: 12.4s\tremaining: 38.4s\n",
      "73:\tlearn: 1182.4886759\ttotal: 12.6s\tremaining: 38.4s\n",
      "74:\tlearn: 1181.8897984\ttotal: 12.8s\tremaining: 38.5s\n",
      "75:\tlearn: 1181.2022692\ttotal: 13s\tremaining: 38.4s\n",
      "76:\tlearn: 1179.4980726\ttotal: 13.3s\tremaining: 38.4s\n",
      "77:\tlearn: 1178.6461633\ttotal: 13.4s\tremaining: 38.3s\n",
      "78:\tlearn: 1177.9491602\ttotal: 13.6s\tremaining: 38.1s\n",
      "79:\tlearn: 1177.1382774\ttotal: 13.7s\tremaining: 37.8s\n",
      "80:\tlearn: 1176.5835068\ttotal: 13.9s\tremaining: 37.6s\n",
      "81:\tlearn: 1176.2319850\ttotal: 14.1s\tremaining: 37.4s\n",
      "82:\tlearn: 1175.8329054\ttotal: 14.2s\tremaining: 37.2s\n",
      "83:\tlearn: 1175.1575270\ttotal: 14.4s\tremaining: 36.9s\n",
      "84:\tlearn: 1174.6940359\ttotal: 14.5s\tremaining: 36.8s\n",
      "85:\tlearn: 1174.0955394\ttotal: 14.7s\tremaining: 36.5s\n",
      "86:\tlearn: 1173.8236168\ttotal: 14.8s\tremaining: 36.3s\n",
      "87:\tlearn: 1173.5436472\ttotal: 14.9s\tremaining: 36s\n",
      "88:\tlearn: 1173.2991095\ttotal: 15.1s\tremaining: 35.8s\n",
      "89:\tlearn: 1172.8206906\ttotal: 15.2s\tremaining: 35.5s\n",
      "90:\tlearn: 1172.5079905\ttotal: 15.4s\tremaining: 35.4s\n",
      "91:\tlearn: 1171.8978984\ttotal: 15.5s\tremaining: 35.1s\n",
      "92:\tlearn: 1171.3186128\ttotal: 15.7s\tremaining: 34.9s\n",
      "93:\tlearn: 1170.5841748\ttotal: 15.9s\tremaining: 34.8s\n",
      "94:\tlearn: 1169.9990103\ttotal: 16s\tremaining: 34.6s\n",
      "95:\tlearn: 1169.4518979\ttotal: 16.1s\tremaining: 34.3s\n",
      "96:\tlearn: 1168.8709003\ttotal: 16.3s\tremaining: 34.1s\n",
      "97:\tlearn: 1168.3747516\ttotal: 16.4s\tremaining: 33.9s\n",
      "98:\tlearn: 1167.6237637\ttotal: 16.6s\tremaining: 33.7s\n",
      "99:\tlearn: 1167.1569599\ttotal: 16.8s\tremaining: 33.5s\n",
      "100:\tlearn: 1166.6418585\ttotal: 16.9s\tremaining: 33.4s\n",
      "101:\tlearn: 1166.1083963\ttotal: 17.1s\tremaining: 33.2s\n",
      "102:\tlearn: 1165.8513309\ttotal: 17.3s\tremaining: 33s\n",
      "103:\tlearn: 1165.2960251\ttotal: 17.4s\tremaining: 32.8s\n",
      "104:\tlearn: 1164.7708630\ttotal: 17.6s\tremaining: 32.6s\n",
      "105:\tlearn: 1164.4994331\ttotal: 17.7s\tremaining: 32.5s\n",
      "106:\tlearn: 1164.1655271\ttotal: 17.9s\tremaining: 32.4s\n",
      "107:\tlearn: 1163.6217765\ttotal: 18.1s\tremaining: 32.2s\n",
      "108:\tlearn: 1163.1727550\ttotal: 18.3s\tremaining: 32s\n",
      "109:\tlearn: 1162.6516010\ttotal: 18.4s\tremaining: 31.8s\n",
      "110:\tlearn: 1162.1981232\ttotal: 18.6s\tremaining: 31.6s\n",
      "111:\tlearn: 1161.8475985\ttotal: 18.7s\tremaining: 31.4s\n",
      "112:\tlearn: 1161.2164419\ttotal: 18.9s\tremaining: 31.3s\n",
      "113:\tlearn: 1160.6598131\ttotal: 19s\tremaining: 31.1s\n",
      "114:\tlearn: 1160.0345189\ttotal: 19.2s\tremaining: 30.9s\n",
      "115:\tlearn: 1159.3639389\ttotal: 19.4s\tremaining: 30.8s\n",
      "116:\tlearn: 1158.9824743\ttotal: 19.5s\tremaining: 30.5s\n",
      "117:\tlearn: 1158.5156270\ttotal: 19.6s\tremaining: 30.3s\n",
      "118:\tlearn: 1157.9967036\ttotal: 19.8s\tremaining: 30.1s\n",
      "119:\tlearn: 1157.4593558\ttotal: 20s\tremaining: 29.9s\n",
      "120:\tlearn: 1156.9189942\ttotal: 20.1s\tremaining: 29.8s\n",
      "121:\tlearn: 1156.6484944\ttotal: 20.4s\tremaining: 29.8s\n",
      "122:\tlearn: 1156.3046620\ttotal: 20.6s\tremaining: 29.7s\n",
      "123:\tlearn: 1155.7667580\ttotal: 20.8s\tremaining: 29.6s\n",
      "124:\tlearn: 1155.4045628\ttotal: 21s\tremaining: 29.4s\n",
      "125:\tlearn: 1155.2100419\ttotal: 21.1s\tremaining: 29.2s\n",
      "126:\tlearn: 1154.3972657\ttotal: 21.3s\tremaining: 29s\n",
      "127:\tlearn: 1154.0280412\ttotal: 21.6s\tremaining: 29s\n",
      "128:\tlearn: 1153.5495945\ttotal: 21.8s\tremaining: 28.9s\n",
      "129:\tlearn: 1153.3356011\ttotal: 22s\tremaining: 28.8s\n",
      "130:\tlearn: 1153.0010035\ttotal: 22.2s\tremaining: 28.6s\n",
      "131:\tlearn: 1152.6625019\ttotal: 22.4s\tremaining: 28.4s\n",
      "132:\tlearn: 1152.2866071\ttotal: 22.5s\tremaining: 28.2s\n",
      "133:\tlearn: 1151.8217558\ttotal: 22.7s\tremaining: 28.1s\n",
      "134:\tlearn: 1151.6064473\ttotal: 22.8s\tremaining: 27.9s\n",
      "135:\tlearn: 1151.3131842\ttotal: 23s\tremaining: 27.7s\n",
      "136:\tlearn: 1151.0369500\ttotal: 23.1s\tremaining: 27.5s\n",
      "137:\tlearn: 1150.9212607\ttotal: 23.3s\tremaining: 27.4s\n",
      "138:\tlearn: 1150.6014654\ttotal: 23.5s\tremaining: 27.2s\n",
      "139:\tlearn: 1150.3362841\ttotal: 23.6s\tremaining: 27s\n",
      "140:\tlearn: 1150.1850668\ttotal: 23.8s\tremaining: 26.9s\n",
      "141:\tlearn: 1149.8905459\ttotal: 24s\tremaining: 26.7s\n",
      "142:\tlearn: 1149.6833026\ttotal: 24.2s\tremaining: 26.6s\n",
      "143:\tlearn: 1149.4011393\ttotal: 24.4s\tremaining: 26.4s\n",
      "144:\tlearn: 1149.2267188\ttotal: 24.5s\tremaining: 26.2s\n",
      "145:\tlearn: 1149.0152291\ttotal: 24.7s\tremaining: 26.1s\n",
      "146:\tlearn: 1148.8003309\ttotal: 25s\tremaining: 26s\n",
      "147:\tlearn: 1148.5684928\ttotal: 25.2s\tremaining: 25.8s\n",
      "148:\tlearn: 1147.9019415\ttotal: 25.4s\tremaining: 25.7s\n",
      "149:\tlearn: 1147.6636338\ttotal: 25.6s\tremaining: 25.6s\n",
      "150:\tlearn: 1147.1755454\ttotal: 25.9s\tremaining: 25.6s\n",
      "151:\tlearn: 1146.7480620\ttotal: 26.1s\tremaining: 25.4s\n",
      "152:\tlearn: 1146.3245684\ttotal: 26.3s\tremaining: 25.2s\n",
      "153:\tlearn: 1145.7785579\ttotal: 26.5s\tremaining: 25.1s\n",
      "154:\tlearn: 1145.6674676\ttotal: 26.6s\tremaining: 24.9s\n",
      "155:\tlearn: 1145.3769678\ttotal: 26.8s\tremaining: 24.7s\n",
      "156:\tlearn: 1144.9298337\ttotal: 26.9s\tremaining: 24.5s\n",
      "157:\tlearn: 1144.6736835\ttotal: 27.2s\tremaining: 24.4s\n",
      "158:\tlearn: 1144.0643126\ttotal: 27.3s\tremaining: 24.2s\n",
      "159:\tlearn: 1143.8239201\ttotal: 27.5s\tremaining: 24.1s\n",
      "160:\tlearn: 1143.4197557\ttotal: 27.7s\tremaining: 23.9s\n",
      "161:\tlearn: 1142.9339889\ttotal: 27.9s\tremaining: 23.8s\n",
      "162:\tlearn: 1142.4662120\ttotal: 28.1s\tremaining: 23.6s\n",
      "163:\tlearn: 1141.8475847\ttotal: 28.2s\tremaining: 23.4s\n",
      "164:\tlearn: 1141.6740754\ttotal: 28.4s\tremaining: 23.3s\n",
      "165:\tlearn: 1141.4940345\ttotal: 28.6s\tremaining: 23.1s\n",
      "166:\tlearn: 1141.0316461\ttotal: 28.9s\tremaining: 23s\n",
      "167:\tlearn: 1140.7362375\ttotal: 29s\tremaining: 22.8s\n",
      "168:\tlearn: 1140.0033809\ttotal: 29.2s\tremaining: 22.6s\n",
      "169:\tlearn: 1139.7395396\ttotal: 29.4s\tremaining: 22.5s\n",
      "170:\tlearn: 1139.5491645\ttotal: 29.5s\tremaining: 22.3s\n",
      "171:\tlearn: 1139.3716147\ttotal: 29.7s\tremaining: 22.1s\n",
      "172:\tlearn: 1139.2346405\ttotal: 29.9s\tremaining: 21.9s\n",
      "173:\tlearn: 1138.8448650\ttotal: 30.1s\tremaining: 21.8s\n",
      "174:\tlearn: 1138.3636156\ttotal: 30.2s\tremaining: 21.6s\n",
      "175:\tlearn: 1138.2157942\ttotal: 30.4s\tremaining: 21.4s\n",
      "176:\tlearn: 1138.1477024\ttotal: 30.6s\tremaining: 21.2s\n",
      "177:\tlearn: 1137.9206482\ttotal: 30.8s\tremaining: 21.1s\n",
      "178:\tlearn: 1137.5224005\ttotal: 31s\tremaining: 20.9s\n",
      "179:\tlearn: 1137.3040619\ttotal: 31.1s\tremaining: 20.7s\n",
      "180:\tlearn: 1137.1164117\ttotal: 31.2s\tremaining: 20.5s\n",
      "181:\tlearn: 1136.9267232\ttotal: 31.4s\tremaining: 20.4s\n",
      "182:\tlearn: 1136.8196266\ttotal: 31.6s\tremaining: 20.2s\n",
      "183:\tlearn: 1136.5932034\ttotal: 31.8s\tremaining: 20s\n",
      "184:\tlearn: 1136.4987073\ttotal: 32s\tremaining: 19.9s\n",
      "185:\tlearn: 1136.3200699\ttotal: 32.2s\tremaining: 19.7s\n",
      "186:\tlearn: 1136.1522543\ttotal: 32.5s\tremaining: 19.6s\n",
      "187:\tlearn: 1135.9930382\ttotal: 32.7s\tremaining: 19.5s\n",
      "188:\tlearn: 1135.8013867\ttotal: 32.9s\tremaining: 19.3s\n",
      "189:\tlearn: 1135.6326946\ttotal: 33.1s\tremaining: 19.1s\n",
      "190:\tlearn: 1135.4603595\ttotal: 33.2s\tremaining: 19s\n",
      "191:\tlearn: 1135.1373319\ttotal: 33.5s\tremaining: 18.8s\n",
      "192:\tlearn: 1134.9148644\ttotal: 33.7s\tremaining: 18.7s\n",
      "193:\tlearn: 1134.5222254\ttotal: 33.9s\tremaining: 18.5s\n",
      "194:\tlearn: 1134.3559160\ttotal: 34.1s\tremaining: 18.4s\n",
      "195:\tlearn: 1134.2532124\ttotal: 34.4s\tremaining: 18.3s\n",
      "196:\tlearn: 1133.9895780\ttotal: 34.7s\tremaining: 18.1s\n",
      "197:\tlearn: 1133.6421788\ttotal: 35s\tremaining: 18.1s\n",
      "198:\tlearn: 1133.2126793\ttotal: 35.2s\tremaining: 17.9s\n",
      "199:\tlearn: 1133.0726751\ttotal: 35.5s\tremaining: 17.7s\n",
      "200:\tlearn: 1132.8877262\ttotal: 36.1s\tremaining: 17.8s\n",
      "201:\tlearn: 1132.5281211\ttotal: 36.5s\tremaining: 17.7s\n",
      "202:\tlearn: 1132.3843867\ttotal: 36.9s\tremaining: 17.6s\n",
      "203:\tlearn: 1131.9972167\ttotal: 37.1s\tremaining: 17.5s\n",
      "204:\tlearn: 1131.8802249\ttotal: 37.4s\tremaining: 17.4s\n",
      "205:\tlearn: 1131.6662889\ttotal: 37.6s\tremaining: 17.2s\n",
      "206:\tlearn: 1131.5201757\ttotal: 37.9s\tremaining: 17s\n",
      "207:\tlearn: 1131.3507157\ttotal: 38.2s\tremaining: 16.9s\n",
      "208:\tlearn: 1131.1409397\ttotal: 38.5s\tremaining: 16.8s\n",
      "209:\tlearn: 1131.0712948\ttotal: 38.9s\tremaining: 16.7s\n",
      "210:\tlearn: 1130.8777062\ttotal: 39.2s\tremaining: 16.5s\n",
      "211:\tlearn: 1130.6899567\ttotal: 39.4s\tremaining: 16.4s\n",
      "212:\tlearn: 1130.3505925\ttotal: 39.7s\tremaining: 16.2s\n",
      "213:\tlearn: 1130.1288412\ttotal: 40.2s\tremaining: 16.2s\n",
      "214:\tlearn: 1129.8090907\ttotal: 40.8s\tremaining: 16.1s\n",
      "215:\tlearn: 1129.5224348\ttotal: 41s\tremaining: 16s\n",
      "216:\tlearn: 1129.4034123\ttotal: 41.3s\tremaining: 15.8s\n",
      "217:\tlearn: 1129.1182733\ttotal: 41.5s\tremaining: 15.6s\n",
      "218:\tlearn: 1128.9562126\ttotal: 41.7s\tremaining: 15.4s\n",
      "219:\tlearn: 1128.6204422\ttotal: 41.9s\tremaining: 15.2s\n",
      "220:\tlearn: 1128.5114700\ttotal: 42.1s\tremaining: 15.1s\n",
      "221:\tlearn: 1128.2566604\ttotal: 42.3s\tremaining: 14.9s\n",
      "222:\tlearn: 1127.9806386\ttotal: 42.5s\tremaining: 14.7s\n",
      "223:\tlearn: 1127.8037291\ttotal: 42.7s\tremaining: 14.5s\n",
      "224:\tlearn: 1127.7332176\ttotal: 42.8s\tremaining: 14.3s\n",
      "225:\tlearn: 1127.5880919\ttotal: 43s\tremaining: 14.1s\n",
      "226:\tlearn: 1127.2183727\ttotal: 43.2s\tremaining: 13.9s\n",
      "227:\tlearn: 1126.9727806\ttotal: 43.5s\tremaining: 13.7s\n",
      "228:\tlearn: 1126.7236101\ttotal: 43.8s\tremaining: 13.6s\n",
      "229:\tlearn: 1126.5708506\ttotal: 44s\tremaining: 13.4s\n",
      "230:\tlearn: 1126.4675228\ttotal: 44.2s\tremaining: 13.2s\n",
      "231:\tlearn: 1126.3494283\ttotal: 44.4s\tremaining: 13s\n",
      "232:\tlearn: 1126.2170816\ttotal: 44.6s\tremaining: 12.8s\n",
      "233:\tlearn: 1125.9162598\ttotal: 44.8s\tremaining: 12.6s\n",
      "234:\tlearn: 1125.6414055\ttotal: 45s\tremaining: 12.4s\n",
      "235:\tlearn: 1125.3045671\ttotal: 45.2s\tremaining: 12.2s\n",
      "236:\tlearn: 1124.9172835\ttotal: 45.4s\tremaining: 12.1s\n",
      "237:\tlearn: 1124.6907429\ttotal: 45.6s\tremaining: 11.9s\n",
      "238:\tlearn: 1124.4585895\ttotal: 45.8s\tremaining: 11.7s\n",
      "239:\tlearn: 1124.3611803\ttotal: 46s\tremaining: 11.5s\n",
      "240:\tlearn: 1124.1383884\ttotal: 46.1s\tremaining: 11.3s\n",
      "241:\tlearn: 1123.8604201\ttotal: 46.4s\tremaining: 11.1s\n",
      "242:\tlearn: 1123.6996009\ttotal: 46.5s\tremaining: 10.9s\n",
      "243:\tlearn: 1123.5002525\ttotal: 46.8s\tremaining: 10.7s\n",
      "244:\tlearn: 1123.1682304\ttotal: 47s\tremaining: 10.5s\n",
      "245:\tlearn: 1122.8047598\ttotal: 47.2s\tremaining: 10.3s\n",
      "246:\tlearn: 1122.4840607\ttotal: 47.3s\tremaining: 10.1s\n",
      "247:\tlearn: 1122.3837813\ttotal: 47.4s\tremaining: 9.95s\n",
      "248:\tlearn: 1122.1757921\ttotal: 47.8s\tremaining: 9.8s\n",
      "249:\tlearn: 1122.0737561\ttotal: 48.2s\tremaining: 9.63s\n",
      "250:\tlearn: 1121.8772471\ttotal: 48.4s\tremaining: 9.45s\n",
      "251:\tlearn: 1121.4712633\ttotal: 48.7s\tremaining: 9.27s\n",
      "252:\tlearn: 1121.1777077\ttotal: 49s\tremaining: 9.1s\n",
      "253:\tlearn: 1121.0488344\ttotal: 49.2s\tremaining: 8.91s\n",
      "254:\tlearn: 1120.9952050\ttotal: 49.4s\tremaining: 8.72s\n",
      "255:\tlearn: 1120.5941000\ttotal: 49.8s\tremaining: 8.56s\n",
      "256:\tlearn: 1120.4347227\ttotal: 50.2s\tremaining: 8.4s\n",
      "257:\tlearn: 1120.2879707\ttotal: 50.5s\tremaining: 8.22s\n",
      "258:\tlearn: 1120.0998597\ttotal: 50.7s\tremaining: 8.02s\n",
      "259:\tlearn: 1119.9924511\ttotal: 50.9s\tremaining: 7.83s\n",
      "260:\tlearn: 1119.9038461\ttotal: 51s\tremaining: 7.63s\n",
      "261:\tlearn: 1119.7523573\ttotal: 51.2s\tremaining: 7.43s\n",
      "262:\tlearn: 1119.5140574\ttotal: 51.4s\tremaining: 7.23s\n",
      "263:\tlearn: 1119.3154316\ttotal: 51.6s\tremaining: 7.04s\n",
      "264:\tlearn: 1119.2132156\ttotal: 51.8s\tremaining: 6.84s\n",
      "265:\tlearn: 1118.9678684\ttotal: 52s\tremaining: 6.64s\n",
      "266:\tlearn: 1118.7017654\ttotal: 52.1s\tremaining: 6.43s\n",
      "267:\tlearn: 1118.6014461\ttotal: 52.2s\tremaining: 6.24s\n",
      "268:\tlearn: 1118.3862467\ttotal: 52.4s\tremaining: 6.04s\n",
      "269:\tlearn: 1118.1701573\ttotal: 52.7s\tremaining: 5.86s\n",
      "270:\tlearn: 1117.9287153\ttotal: 53s\tremaining: 5.67s\n",
      "271:\tlearn: 1117.7785702\ttotal: 53.3s\tremaining: 5.48s\n",
      "272:\tlearn: 1117.5603866\ttotal: 53.5s\tremaining: 5.29s\n",
      "273:\tlearn: 1117.4200906\ttotal: 53.6s\tremaining: 5.09s\n",
      "274:\tlearn: 1117.2870975\ttotal: 53.8s\tremaining: 4.89s\n",
      "275:\tlearn: 1117.1429951\ttotal: 53.9s\tremaining: 4.69s\n",
      "276:\tlearn: 1116.9598232\ttotal: 54s\tremaining: 4.49s\n",
      "277:\tlearn: 1116.5806131\ttotal: 54.2s\tremaining: 4.29s\n",
      "278:\tlearn: 1116.4049471\ttotal: 54.3s\tremaining: 4.09s\n",
      "279:\tlearn: 1116.3682843\ttotal: 54.7s\tremaining: 3.91s\n",
      "280:\tlearn: 1116.0954205\ttotal: 55s\tremaining: 3.72s\n",
      "281:\tlearn: 1115.9259495\ttotal: 55.3s\tremaining: 3.53s\n",
      "282:\tlearn: 1115.8103719\ttotal: 55.5s\tremaining: 3.33s\n",
      "283:\tlearn: 1115.3648364\ttotal: 55.7s\tremaining: 3.14s\n",
      "284:\tlearn: 1115.1168515\ttotal: 55.9s\tremaining: 2.94s\n",
      "285:\tlearn: 1114.9066608\ttotal: 56.1s\tremaining: 2.75s\n",
      "286:\tlearn: 1114.6528910\ttotal: 56.3s\tremaining: 2.55s\n",
      "287:\tlearn: 1114.3945992\ttotal: 56.5s\tremaining: 2.35s\n",
      "288:\tlearn: 1114.2398089\ttotal: 56.7s\tremaining: 2.16s\n",
      "289:\tlearn: 1114.1647221\ttotal: 56.9s\tremaining: 1.96s\n",
      "290:\tlearn: 1113.9601770\ttotal: 57.1s\tremaining: 1.77s\n",
      "291:\tlearn: 1113.7424459\ttotal: 57.3s\tremaining: 1.57s\n",
      "292:\tlearn: 1113.5170564\ttotal: 57.5s\tremaining: 1.37s\n",
      "293:\tlearn: 1113.3774120\ttotal: 57.7s\tremaining: 1.18s\n",
      "294:\tlearn: 1113.1823464\ttotal: 58.1s\tremaining: 985ms\n",
      "295:\tlearn: 1112.9879853\ttotal: 58.4s\tremaining: 789ms\n",
      "296:\tlearn: 1112.8026900\ttotal: 58.7s\tremaining: 593ms\n",
      "297:\tlearn: 1112.6098516\ttotal: 59s\tremaining: 396ms\n",
      "298:\tlearn: 1112.4991316\ttotal: 59.4s\tremaining: 199ms\n",
      "299:\tlearn: 1112.4531406\ttotal: 59.6s\tremaining: 0us\n",
      "0:\tlearn: 2176.4352531\ttotal: 226ms\tremaining: 1m 7s\n",
      "1:\tlearn: 1883.9465320\ttotal: 413ms\tremaining: 1m 1s\n",
      "2:\tlearn: 1691.6258898\ttotal: 522ms\tremaining: 51.6s\n",
      "3:\tlearn: 1564.7300441\ttotal: 689ms\tremaining: 51s\n",
      "4:\tlearn: 1478.7527305\ttotal: 844ms\tremaining: 49.8s\n",
      "5:\tlearn: 1421.2141252\ttotal: 997ms\tremaining: 48.8s\n",
      "6:\tlearn: 1381.3008126\ttotal: 1.13s\tremaining: 47.1s\n",
      "7:\tlearn: 1354.4576051\ttotal: 1.27s\tremaining: 46.4s\n",
      "8:\tlearn: 1336.8713016\ttotal: 1.44s\tremaining: 46.4s\n",
      "9:\tlearn: 1321.7453381\ttotal: 1.63s\tremaining: 47.2s\n",
      "10:\tlearn: 1307.3986569\ttotal: 1.79s\tremaining: 46.9s\n",
      "11:\tlearn: 1297.8179376\ttotal: 1.96s\tremaining: 47.1s\n",
      "12:\tlearn: 1290.3896684\ttotal: 2.09s\tremaining: 46.1s\n",
      "13:\tlearn: 1285.4645269\ttotal: 2.27s\tremaining: 46.4s\n",
      "14:\tlearn: 1279.1973491\ttotal: 2.41s\tremaining: 45.8s\n",
      "15:\tlearn: 1273.1680983\ttotal: 2.54s\tremaining: 45.1s\n",
      "16:\tlearn: 1268.4934107\ttotal: 2.65s\tremaining: 44.1s\n",
      "17:\tlearn: 1262.9496836\ttotal: 2.77s\tremaining: 43.4s\n",
      "18:\tlearn: 1258.1945179\ttotal: 2.96s\tremaining: 43.7s\n",
      "19:\tlearn: 1253.3716845\ttotal: 3.09s\tremaining: 43.2s\n",
      "20:\tlearn: 1250.9935096\ttotal: 3.25s\tremaining: 43.2s\n",
      "21:\tlearn: 1248.2206719\ttotal: 3.43s\tremaining: 43.3s\n",
      "22:\tlearn: 1245.6623086\ttotal: 3.6s\tremaining: 43.4s\n",
      "23:\tlearn: 1242.9084468\ttotal: 3.74s\tremaining: 43.1s\n",
      "24:\tlearn: 1240.6764426\ttotal: 4.01s\tremaining: 44.1s\n",
      "25:\tlearn: 1237.8095384\ttotal: 4.32s\tremaining: 45.5s\n",
      "26:\tlearn: 1235.8742470\ttotal: 4.58s\tremaining: 46.3s\n",
      "27:\tlearn: 1234.1334070\ttotal: 4.78s\tremaining: 46.5s\n",
      "28:\tlearn: 1230.9014100\ttotal: 4.92s\tremaining: 46s\n",
      "29:\tlearn: 1229.9178482\ttotal: 5.07s\tremaining: 45.6s\n",
      "30:\tlearn: 1228.6097508\ttotal: 5.25s\tremaining: 45.5s\n",
      "31:\tlearn: 1227.0016153\ttotal: 5.42s\tremaining: 45.4s\n",
      "32:\tlearn: 1224.4665732\ttotal: 5.61s\tremaining: 45.4s\n",
      "33:\tlearn: 1222.9943284\ttotal: 5.73s\tremaining: 44.8s\n",
      "34:\tlearn: 1221.8814442\ttotal: 5.84s\tremaining: 44.2s\n",
      "35:\tlearn: 1220.0702982\ttotal: 5.96s\tremaining: 43.7s\n",
      "36:\tlearn: 1218.5533255\ttotal: 6.13s\tremaining: 43.6s\n",
      "37:\tlearn: 1216.1967985\ttotal: 6.44s\tremaining: 44.4s\n",
      "38:\tlearn: 1214.2601899\ttotal: 6.65s\tremaining: 44.5s\n",
      "39:\tlearn: 1213.2722714\ttotal: 7.01s\tremaining: 45.6s\n",
      "40:\tlearn: 1211.3238347\ttotal: 7.26s\tremaining: 45.9s\n",
      "41:\tlearn: 1210.3559562\ttotal: 7.54s\tremaining: 46.3s\n",
      "42:\tlearn: 1209.4182731\ttotal: 7.74s\tremaining: 46.3s\n",
      "43:\tlearn: 1208.3795910\ttotal: 7.92s\tremaining: 46.1s\n",
      "44:\tlearn: 1206.6028874\ttotal: 8.11s\tremaining: 46s\n",
      "45:\tlearn: 1205.8612130\ttotal: 8.22s\tremaining: 45.4s\n",
      "46:\tlearn: 1204.1349002\ttotal: 8.39s\tremaining: 45.2s\n",
      "47:\tlearn: 1202.4195907\ttotal: 8.57s\tremaining: 45s\n",
      "48:\tlearn: 1201.0490832\ttotal: 8.76s\tremaining: 44.9s\n",
      "49:\tlearn: 1199.8038050\ttotal: 8.91s\tremaining: 44.6s\n",
      "50:\tlearn: 1198.5037881\ttotal: 9.05s\tremaining: 44.2s\n",
      "51:\tlearn: 1197.6347875\ttotal: 9.2s\tremaining: 43.9s\n",
      "52:\tlearn: 1197.0126714\ttotal: 9.37s\tremaining: 43.7s\n",
      "53:\tlearn: 1195.8889867\ttotal: 9.53s\tremaining: 43.4s\n",
      "54:\tlearn: 1195.5851313\ttotal: 9.69s\tremaining: 43.2s\n",
      "55:\tlearn: 1193.7876003\ttotal: 9.88s\tremaining: 43.1s\n",
      "56:\tlearn: 1192.7059080\ttotal: 10.1s\tremaining: 43s\n",
      "57:\tlearn: 1192.1086556\ttotal: 10.3s\tremaining: 42.9s\n",
      "58:\tlearn: 1191.4990959\ttotal: 10.5s\tremaining: 43s\n",
      "59:\tlearn: 1190.3597037\ttotal: 10.7s\tremaining: 42.8s\n",
      "60:\tlearn: 1190.1320670\ttotal: 10.9s\tremaining: 42.7s\n",
      "61:\tlearn: 1188.9989488\ttotal: 11.1s\tremaining: 42.6s\n",
      "62:\tlearn: 1187.9008070\ttotal: 11.2s\tremaining: 42.3s\n",
      "63:\tlearn: 1186.5793482\ttotal: 11.4s\tremaining: 42s\n",
      "64:\tlearn: 1185.7646751\ttotal: 11.7s\tremaining: 42.4s\n",
      "65:\tlearn: 1184.7966506\ttotal: 11.9s\tremaining: 42.1s\n",
      "66:\tlearn: 1184.4606512\ttotal: 12.1s\tremaining: 42s\n",
      "67:\tlearn: 1183.7185921\ttotal: 12.3s\tremaining: 41.9s\n",
      "68:\tlearn: 1182.7178455\ttotal: 12.5s\tremaining: 41.8s\n",
      "69:\tlearn: 1182.0316195\ttotal: 12.7s\tremaining: 41.7s\n",
      "70:\tlearn: 1181.7687386\ttotal: 12.9s\tremaining: 41.6s\n",
      "71:\tlearn: 1181.0477021\ttotal: 13.1s\tremaining: 41.4s\n",
      "72:\tlearn: 1180.1781104\ttotal: 13.3s\tremaining: 41.4s\n",
      "73:\tlearn: 1179.8254400\ttotal: 13.5s\tremaining: 41.1s\n",
      "74:\tlearn: 1179.0719313\ttotal: 13.7s\tremaining: 41s\n",
      "75:\tlearn: 1178.6220653\ttotal: 13.9s\tremaining: 40.9s\n",
      "76:\tlearn: 1178.0978971\ttotal: 14.1s\tremaining: 40.8s\n",
      "77:\tlearn: 1177.6914341\ttotal: 14.3s\tremaining: 40.6s\n",
      "78:\tlearn: 1177.1702671\ttotal: 14.5s\tremaining: 40.4s\n",
      "79:\tlearn: 1176.8034869\ttotal: 14.6s\tremaining: 40.1s\n",
      "80:\tlearn: 1176.3037188\ttotal: 14.8s\tremaining: 40s\n",
      "81:\tlearn: 1175.8871096\ttotal: 15s\tremaining: 39.9s\n",
      "82:\tlearn: 1174.8260972\ttotal: 15.2s\tremaining: 39.8s\n",
      "83:\tlearn: 1174.3071401\ttotal: 15.4s\tremaining: 39.5s\n",
      "84:\tlearn: 1173.6890185\ttotal: 15.6s\tremaining: 39.4s\n",
      "85:\tlearn: 1173.3353446\ttotal: 15.8s\tremaining: 39.3s\n",
      "86:\tlearn: 1172.6719396\ttotal: 16s\tremaining: 39.2s\n",
      "87:\tlearn: 1172.2947953\ttotal: 16.2s\tremaining: 39s\n",
      "88:\tlearn: 1171.8284194\ttotal: 16.4s\tremaining: 38.8s\n",
      "89:\tlearn: 1171.2359819\ttotal: 16.5s\tremaining: 38.5s\n",
      "90:\tlearn: 1170.3835878\ttotal: 16.7s\tremaining: 38.3s\n",
      "91:\tlearn: 1169.4771618\ttotal: 16.9s\tremaining: 38.1s\n",
      "92:\tlearn: 1168.9285195\ttotal: 17s\tremaining: 37.9s\n",
      "93:\tlearn: 1168.5231308\ttotal: 17.2s\tremaining: 37.7s\n",
      "94:\tlearn: 1168.0598681\ttotal: 17.4s\tremaining: 37.5s\n",
      "95:\tlearn: 1167.6356905\ttotal: 17.5s\tremaining: 37.2s\n",
      "96:\tlearn: 1167.3220694\ttotal: 17.7s\tremaining: 37s\n",
      "97:\tlearn: 1166.4663574\ttotal: 17.8s\tremaining: 36.7s\n",
      "98:\tlearn: 1166.1595629\ttotal: 18s\tremaining: 36.6s\n",
      "99:\tlearn: 1165.9451416\ttotal: 18.2s\tremaining: 36.4s\n",
      "100:\tlearn: 1164.9888831\ttotal: 18.4s\tremaining: 36.2s\n",
      "101:\tlearn: 1164.2934543\ttotal: 18.5s\tremaining: 35.9s\n",
      "102:\tlearn: 1163.7476272\ttotal: 18.6s\tremaining: 35.7s\n",
      "103:\tlearn: 1163.1353264\ttotal: 18.8s\tremaining: 35.4s\n",
      "104:\tlearn: 1162.5308388\ttotal: 19s\tremaining: 35.2s\n",
      "105:\tlearn: 1162.2505291\ttotal: 19.1s\tremaining: 34.9s\n",
      "106:\tlearn: 1161.7741292\ttotal: 19.2s\tremaining: 34.7s\n",
      "107:\tlearn: 1161.4147998\ttotal: 19.4s\tremaining: 34.5s\n",
      "108:\tlearn: 1161.1269315\ttotal: 19.6s\tremaining: 34.3s\n",
      "109:\tlearn: 1160.6433757\ttotal: 19.8s\tremaining: 34.2s\n",
      "110:\tlearn: 1160.3442036\ttotal: 20s\tremaining: 34s\n",
      "111:\tlearn: 1159.9174197\ttotal: 20.1s\tremaining: 33.8s\n",
      "112:\tlearn: 1159.2787176\ttotal: 20.3s\tremaining: 33.6s\n",
      "113:\tlearn: 1158.8062221\ttotal: 20.5s\tremaining: 33.4s\n",
      "114:\tlearn: 1158.4582624\ttotal: 20.6s\tremaining: 33.2s\n",
      "115:\tlearn: 1158.2667888\ttotal: 20.8s\tremaining: 33s\n",
      "116:\tlearn: 1157.4904941\ttotal: 20.9s\tremaining: 32.7s\n",
      "117:\tlearn: 1156.8500763\ttotal: 21.1s\tremaining: 32.6s\n",
      "118:\tlearn: 1156.5794546\ttotal: 21.4s\tremaining: 32.5s\n",
      "119:\tlearn: 1156.2432619\ttotal: 21.6s\tremaining: 32.5s\n",
      "120:\tlearn: 1156.0051895\ttotal: 21.8s\tremaining: 32.3s\n",
      "121:\tlearn: 1155.6179826\ttotal: 22s\tremaining: 32.1s\n",
      "122:\tlearn: 1155.0184796\ttotal: 22.2s\tremaining: 32s\n",
      "123:\tlearn: 1154.6824851\ttotal: 22.4s\tremaining: 31.8s\n",
      "124:\tlearn: 1154.3559889\ttotal: 22.6s\tremaining: 31.6s\n",
      "125:\tlearn: 1153.6111934\ttotal: 22.7s\tremaining: 31.4s\n",
      "126:\tlearn: 1153.2527507\ttotal: 22.9s\tremaining: 31.1s\n",
      "127:\tlearn: 1153.0837108\ttotal: 23.1s\tremaining: 31s\n",
      "128:\tlearn: 1152.8233391\ttotal: 23.2s\tremaining: 30.7s\n",
      "129:\tlearn: 1152.3110525\ttotal: 23.3s\tremaining: 30.5s\n",
      "130:\tlearn: 1151.9984263\ttotal: 23.5s\tremaining: 30.4s\n",
      "131:\tlearn: 1151.7849112\ttotal: 23.7s\tremaining: 30.2s\n",
      "132:\tlearn: 1151.4419431\ttotal: 23.9s\tremaining: 29.9s\n",
      "133:\tlearn: 1151.1453673\ttotal: 24s\tremaining: 29.8s\n",
      "134:\tlearn: 1151.0657847\ttotal: 24.2s\tremaining: 29.6s\n",
      "135:\tlearn: 1150.6729697\ttotal: 24.4s\tremaining: 29.4s\n",
      "136:\tlearn: 1150.3144851\ttotal: 24.5s\tremaining: 29.2s\n",
      "137:\tlearn: 1149.7076433\ttotal: 24.7s\tremaining: 29s\n",
      "138:\tlearn: 1149.2859666\ttotal: 24.9s\tremaining: 28.8s\n",
      "139:\tlearn: 1149.1321053\ttotal: 25s\tremaining: 28.6s\n",
      "140:\tlearn: 1148.8224614\ttotal: 25.2s\tremaining: 28.4s\n",
      "141:\tlearn: 1148.4787961\ttotal: 25.4s\tremaining: 28.3s\n",
      "142:\tlearn: 1148.1052943\ttotal: 25.5s\tremaining: 28s\n",
      "143:\tlearn: 1147.7515146\ttotal: 25.6s\tremaining: 27.8s\n",
      "144:\tlearn: 1147.3505901\ttotal: 25.8s\tremaining: 27.6s\n",
      "145:\tlearn: 1146.8148037\ttotal: 26s\tremaining: 27.4s\n",
      "146:\tlearn: 1146.5844259\ttotal: 26.1s\tremaining: 27.2s\n",
      "147:\tlearn: 1146.1868169\ttotal: 26.3s\tremaining: 27s\n",
      "148:\tlearn: 1146.0159613\ttotal: 26.5s\tremaining: 26.8s\n",
      "149:\tlearn: 1145.9059876\ttotal: 26.6s\tremaining: 26.6s\n",
      "150:\tlearn: 1145.7993989\ttotal: 26.8s\tremaining: 26.4s\n",
      "151:\tlearn: 1145.6297598\ttotal: 26.9s\tremaining: 26.2s\n",
      "152:\tlearn: 1145.1578945\ttotal: 27s\tremaining: 25.9s\n",
      "153:\tlearn: 1144.6605138\ttotal: 27.1s\tremaining: 25.7s\n",
      "154:\tlearn: 1144.4283306\ttotal: 27.3s\tremaining: 25.5s\n",
      "155:\tlearn: 1144.2294686\ttotal: 27.4s\tremaining: 25.3s\n",
      "156:\tlearn: 1143.9662364\ttotal: 27.6s\tremaining: 25.2s\n",
      "157:\tlearn: 1143.8052909\ttotal: 27.8s\tremaining: 25s\n",
      "158:\tlearn: 1143.4007003\ttotal: 28s\tremaining: 24.8s\n",
      "159:\tlearn: 1143.2070465\ttotal: 28.2s\tremaining: 24.7s\n",
      "160:\tlearn: 1142.8844842\ttotal: 28.4s\tremaining: 24.5s\n",
      "161:\tlearn: 1142.5504263\ttotal: 28.6s\tremaining: 24.4s\n",
      "162:\tlearn: 1142.2681010\ttotal: 28.8s\tremaining: 24.2s\n",
      "163:\tlearn: 1141.9688600\ttotal: 29s\tremaining: 24.1s\n",
      "164:\tlearn: 1141.5999719\ttotal: 29.2s\tremaining: 23.9s\n",
      "165:\tlearn: 1141.2192850\ttotal: 29.4s\tremaining: 23.7s\n",
      "166:\tlearn: 1140.8890551\ttotal: 29.5s\tremaining: 23.5s\n",
      "167:\tlearn: 1140.2943765\ttotal: 29.7s\tremaining: 23.3s\n",
      "168:\tlearn: 1140.0135107\ttotal: 29.8s\tremaining: 23.1s\n",
      "169:\tlearn: 1139.7002286\ttotal: 30s\tremaining: 22.9s\n",
      "170:\tlearn: 1139.4900370\ttotal: 30.2s\tremaining: 22.8s\n",
      "171:\tlearn: 1139.0998875\ttotal: 30.4s\tremaining: 22.6s\n",
      "172:\tlearn: 1138.9133179\ttotal: 30.7s\tremaining: 22.5s\n",
      "173:\tlearn: 1138.8517409\ttotal: 30.8s\tremaining: 22.3s\n",
      "174:\tlearn: 1138.3996171\ttotal: 31s\tremaining: 22.1s\n",
      "175:\tlearn: 1138.0703751\ttotal: 31.2s\tremaining: 22s\n",
      "176:\tlearn: 1137.7301794\ttotal: 31.4s\tremaining: 21.8s\n",
      "177:\tlearn: 1137.4348906\ttotal: 31.6s\tremaining: 21.7s\n",
      "178:\tlearn: 1137.2236117\ttotal: 31.9s\tremaining: 21.5s\n",
      "179:\tlearn: 1137.0375054\ttotal: 32s\tremaining: 21.3s\n",
      "180:\tlearn: 1136.8327524\ttotal: 32.2s\tremaining: 21.2s\n",
      "181:\tlearn: 1136.7214831\ttotal: 32.4s\tremaining: 21s\n",
      "182:\tlearn: 1136.2872386\ttotal: 32.5s\tremaining: 20.8s\n",
      "183:\tlearn: 1136.1207947\ttotal: 32.7s\tremaining: 20.6s\n",
      "184:\tlearn: 1135.7986092\ttotal: 32.9s\tremaining: 20.4s\n",
      "185:\tlearn: 1135.6722829\ttotal: 33.1s\tremaining: 20.3s\n",
      "186:\tlearn: 1135.5013922\ttotal: 33.2s\tremaining: 20.1s\n",
      "187:\tlearn: 1135.0931587\ttotal: 33.4s\tremaining: 19.9s\n",
      "188:\tlearn: 1134.8776255\ttotal: 33.6s\tremaining: 19.8s\n",
      "189:\tlearn: 1134.6628791\ttotal: 33.8s\tremaining: 19.6s\n",
      "190:\tlearn: 1134.5777004\ttotal: 34s\tremaining: 19.4s\n",
      "191:\tlearn: 1134.2492131\ttotal: 34.2s\tremaining: 19.2s\n",
      "192:\tlearn: 1133.8552058\ttotal: 34.4s\tremaining: 19s\n",
      "193:\tlearn: 1133.5525142\ttotal: 34.5s\tremaining: 18.9s\n",
      "194:\tlearn: 1133.3816777\ttotal: 34.7s\tremaining: 18.7s\n",
      "195:\tlearn: 1133.1456409\ttotal: 34.8s\tremaining: 18.5s\n",
      "196:\tlearn: 1132.8528238\ttotal: 35s\tremaining: 18.3s\n",
      "197:\tlearn: 1132.5552405\ttotal: 35.1s\tremaining: 18.1s\n",
      "198:\tlearn: 1132.3874814\ttotal: 35.4s\tremaining: 18s\n",
      "199:\tlearn: 1132.2094506\ttotal: 35.5s\tremaining: 17.8s\n",
      "200:\tlearn: 1131.9613641\ttotal: 35.7s\tremaining: 17.6s\n",
      "201:\tlearn: 1131.8434030\ttotal: 35.9s\tremaining: 17.4s\n",
      "202:\tlearn: 1131.4738667\ttotal: 36.1s\tremaining: 17.3s\n",
      "203:\tlearn: 1131.2884773\ttotal: 36.3s\tremaining: 17.1s\n",
      "204:\tlearn: 1131.1594742\ttotal: 36.5s\tremaining: 16.9s\n",
      "205:\tlearn: 1130.9478774\ttotal: 36.6s\tremaining: 16.7s\n",
      "206:\tlearn: 1130.7825462\ttotal: 36.7s\tremaining: 16.5s\n",
      "207:\tlearn: 1130.5455583\ttotal: 36.9s\tremaining: 16.3s\n",
      "208:\tlearn: 1130.3554370\ttotal: 37.1s\tremaining: 16.2s\n",
      "209:\tlearn: 1130.1644739\ttotal: 37.3s\tremaining: 16s\n",
      "210:\tlearn: 1130.0351024\ttotal: 37.5s\tremaining: 15.8s\n",
      "211:\tlearn: 1129.7983268\ttotal: 37.6s\tremaining: 15.6s\n",
      "212:\tlearn: 1129.5603790\ttotal: 37.8s\tremaining: 15.4s\n",
      "213:\tlearn: 1129.3350965\ttotal: 38s\tremaining: 15.3s\n",
      "214:\tlearn: 1128.9425031\ttotal: 38.2s\tremaining: 15.1s\n",
      "215:\tlearn: 1128.7861799\ttotal: 38.4s\tremaining: 14.9s\n",
      "216:\tlearn: 1128.6566771\ttotal: 38.5s\tremaining: 14.7s\n",
      "217:\tlearn: 1128.5263449\ttotal: 38.7s\tremaining: 14.6s\n",
      "218:\tlearn: 1128.4018965\ttotal: 38.9s\tremaining: 14.4s\n",
      "219:\tlearn: 1128.2760490\ttotal: 39.1s\tremaining: 14.2s\n",
      "220:\tlearn: 1127.9575572\ttotal: 39.3s\tremaining: 14s\n",
      "221:\tlearn: 1127.6447577\ttotal: 39.4s\tremaining: 13.8s\n",
      "222:\tlearn: 1127.4970475\ttotal: 39.6s\tremaining: 13.7s\n",
      "223:\tlearn: 1127.2629437\ttotal: 39.8s\tremaining: 13.5s\n",
      "224:\tlearn: 1126.6447790\ttotal: 40s\tremaining: 13.3s\n",
      "225:\tlearn: 1126.4975064\ttotal: 40.1s\tremaining: 13.1s\n",
      "226:\tlearn: 1126.3067673\ttotal: 40.3s\tremaining: 13s\n",
      "227:\tlearn: 1126.1309415\ttotal: 40.5s\tremaining: 12.8s\n",
      "228:\tlearn: 1125.9456277\ttotal: 40.7s\tremaining: 12.6s\n",
      "229:\tlearn: 1125.7180360\ttotal: 40.9s\tremaining: 12.4s\n",
      "230:\tlearn: 1125.5055178\ttotal: 41s\tremaining: 12.2s\n",
      "231:\tlearn: 1125.1643872\ttotal: 41.1s\tremaining: 12.1s\n",
      "232:\tlearn: 1125.0410899\ttotal: 41.3s\tremaining: 11.9s\n",
      "233:\tlearn: 1124.7525536\ttotal: 41.5s\tremaining: 11.7s\n",
      "234:\tlearn: 1124.4947306\ttotal: 41.7s\tremaining: 11.5s\n",
      "235:\tlearn: 1124.4624545\ttotal: 41.8s\tremaining: 11.3s\n",
      "236:\tlearn: 1124.2440671\ttotal: 42s\tremaining: 11.2s\n",
      "237:\tlearn: 1124.1817782\ttotal: 42.3s\tremaining: 11s\n",
      "238:\tlearn: 1124.0057243\ttotal: 42.5s\tremaining: 10.9s\n",
      "239:\tlearn: 1123.7355532\ttotal: 42.8s\tremaining: 10.7s\n",
      "240:\tlearn: 1123.5608109\ttotal: 43s\tremaining: 10.5s\n",
      "241:\tlearn: 1123.2454444\ttotal: 43.1s\tremaining: 10.3s\n",
      "242:\tlearn: 1123.1102654\ttotal: 43.4s\tremaining: 10.2s\n",
      "243:\tlearn: 1122.9388804\ttotal: 43.6s\tremaining: 10s\n",
      "244:\tlearn: 1122.7189121\ttotal: 43.8s\tremaining: 9.83s\n",
      "245:\tlearn: 1122.5560079\ttotal: 44s\tremaining: 9.67s\n",
      "246:\tlearn: 1122.2857438\ttotal: 44.3s\tremaining: 9.5s\n",
      "247:\tlearn: 1122.1450665\ttotal: 44.5s\tremaining: 9.33s\n",
      "248:\tlearn: 1121.9489927\ttotal: 44.7s\tremaining: 9.16s\n",
      "249:\tlearn: 1121.7010510\ttotal: 44.9s\tremaining: 8.99s\n",
      "250:\tlearn: 1121.5675169\ttotal: 45.2s\tremaining: 8.82s\n",
      "251:\tlearn: 1121.3018321\ttotal: 45.4s\tremaining: 8.65s\n",
      "252:\tlearn: 1121.1976204\ttotal: 45.6s\tremaining: 8.47s\n",
      "253:\tlearn: 1121.1304030\ttotal: 45.8s\tremaining: 8.29s\n",
      "254:\tlearn: 1121.0568850\ttotal: 46s\tremaining: 8.11s\n",
      "255:\tlearn: 1120.4953149\ttotal: 46.2s\tremaining: 7.93s\n",
      "256:\tlearn: 1120.1820405\ttotal: 46.4s\tremaining: 7.77s\n",
      "257:\tlearn: 1120.1047069\ttotal: 46.7s\tremaining: 7.6s\n",
      "258:\tlearn: 1120.0068643\ttotal: 46.9s\tremaining: 7.42s\n",
      "259:\tlearn: 1119.8169940\ttotal: 47.1s\tremaining: 7.25s\n",
      "260:\tlearn: 1119.6294974\ttotal: 47.4s\tremaining: 7.09s\n",
      "261:\tlearn: 1119.4585522\ttotal: 47.6s\tremaining: 6.91s\n",
      "262:\tlearn: 1119.3468768\ttotal: 47.7s\tremaining: 6.72s\n",
      "263:\tlearn: 1119.0737611\ttotal: 47.9s\tremaining: 6.54s\n",
      "264:\tlearn: 1118.9143076\ttotal: 48.2s\tremaining: 6.36s\n",
      "265:\tlearn: 1118.8416153\ttotal: 48.4s\tremaining: 6.18s\n",
      "266:\tlearn: 1118.6463122\ttotal: 48.6s\tremaining: 6s\n",
      "267:\tlearn: 1118.4362924\ttotal: 48.7s\tremaining: 5.82s\n",
      "268:\tlearn: 1118.2831801\ttotal: 48.9s\tremaining: 5.63s\n",
      "269:\tlearn: 1118.1570933\ttotal: 49.1s\tremaining: 5.45s\n",
      "270:\tlearn: 1118.0268346\ttotal: 49.2s\tremaining: 5.27s\n",
      "271:\tlearn: 1117.8540694\ttotal: 49.4s\tremaining: 5.08s\n",
      "272:\tlearn: 1117.6665165\ttotal: 49.5s\tremaining: 4.89s\n",
      "273:\tlearn: 1117.4132772\ttotal: 49.7s\tremaining: 4.71s\n",
      "274:\tlearn: 1117.3074901\ttotal: 49.8s\tremaining: 4.53s\n",
      "275:\tlearn: 1117.1850618\ttotal: 49.9s\tremaining: 4.34s\n",
      "276:\tlearn: 1116.8831571\ttotal: 50.1s\tremaining: 4.16s\n",
      "277:\tlearn: 1116.7508465\ttotal: 50.3s\tremaining: 3.98s\n",
      "278:\tlearn: 1116.4695793\ttotal: 50.4s\tremaining: 3.79s\n",
      "279:\tlearn: 1116.3317909\ttotal: 50.6s\tremaining: 3.62s\n",
      "280:\tlearn: 1116.1123386\ttotal: 50.8s\tremaining: 3.43s\n",
      "281:\tlearn: 1115.9051009\ttotal: 51s\tremaining: 3.25s\n",
      "282:\tlearn: 1115.7335152\ttotal: 51.1s\tremaining: 3.07s\n",
      "283:\tlearn: 1115.6387285\ttotal: 51.3s\tremaining: 2.89s\n",
      "284:\tlearn: 1115.3313812\ttotal: 51.6s\tremaining: 2.71s\n",
      "285:\tlearn: 1115.0988462\ttotal: 51.9s\tremaining: 2.54s\n",
      "286:\tlearn: 1114.8200530\ttotal: 52.1s\tremaining: 2.36s\n",
      "287:\tlearn: 1114.7394478\ttotal: 52.3s\tremaining: 2.18s\n",
      "288:\tlearn: 1114.6879754\ttotal: 52.5s\tremaining: 2s\n",
      "289:\tlearn: 1114.5337195\ttotal: 52.7s\tremaining: 1.82s\n",
      "290:\tlearn: 1114.3945784\ttotal: 52.9s\tremaining: 1.64s\n",
      "291:\tlearn: 1114.0506856\ttotal: 53.1s\tremaining: 1.46s\n",
      "292:\tlearn: 1113.8437062\ttotal: 53.3s\tremaining: 1.27s\n",
      "293:\tlearn: 1113.7929465\ttotal: 53.5s\tremaining: 1.09s\n",
      "294:\tlearn: 1113.6756872\ttotal: 53.6s\tremaining: 909ms\n",
      "295:\tlearn: 1113.4839442\ttotal: 53.8s\tremaining: 727ms\n",
      "296:\tlearn: 1113.4182307\ttotal: 54s\tremaining: 546ms\n",
      "297:\tlearn: 1113.2525655\ttotal: 54.2s\tremaining: 364ms\n",
      "298:\tlearn: 1113.0197766\ttotal: 54.4s\tremaining: 182ms\n",
      "299:\tlearn: 1112.7816254\ttotal: 54.6s\tremaining: 0us\n",
      "Mean RMSE from CV of CatBoostRegressor = 1148.8662881107728\n",
      "Mean fittime from CV of CatBoostRegressor = 54.91746001243591\n",
      "Mean predicttime from CV of CatBoostRegressor = 0.1558619499206543\n"
     ]
    }
   ],
   "source": [
    "model_cat = CatBoostRegressor(learning_rate=0.3, \n",
    "                              iterations=300,\n",
    "                              random_state=282,\n",
    "                              cat_features=['vehicle_type', 'registration_year', 'gearbox', 'fuel_type','brand','model'])\n",
    "\n",
    "cat_model_info = (cross_validate(model_cat, \n",
    "                             original_features_train, \n",
    "                             target_train, \n",
    "                             cv=5, \n",
    "                             scoring='neg_mean_squared_error'))\n",
    "\n",
    "cat_model_rmse_train = (cat_model_info['test_score'].mean() * -1) ** 0.5\n",
    "cat_model_fittime_train = cat_model_info['fit_time'].mean()\n",
    "cat_model_predicttime_train = cat_model_info['score_time'].mean()\n",
    "\n",
    "print('Mean RMSE from CV of CatBoostRegressor =', cat_model_rmse_train)\n",
    "print('Mean fittime from CV of CatBoostRegressor =', cat_model_fittime_train)\n",
    "print('Mean predicttime from CV of CatBoostRegressor =', cat_model_predicttime_train)"
   ]
  },
  {
   "cell_type": "markdown",
   "metadata": {},
   "source": [
    "Mean RMSE from CV of CatBoostRegressor = 1148.8662881107728\n",
    "Mean fittime from CV of CatBoostRegressor = 36.09305157661438\n",
    "Mean predicttime from CV of CatBoostRegressor = 0.16347842216491698"
   ]
  },
  {
   "cell_type": "markdown",
   "metadata": {},
   "source": [
    "### Сравнительная таблица"
   ]
  },
  {
   "cell_type": "code",
   "execution_count": 63,
   "metadata": {
    "scrolled": true
   },
   "outputs": [
    {
     "data": {
      "text/html": [
       "<div>\n",
       "<style scoped>\n",
       "    .dataframe tbody tr th:only-of-type {\n",
       "        vertical-align: middle;\n",
       "    }\n",
       "\n",
       "    .dataframe tbody tr th {\n",
       "        vertical-align: top;\n",
       "    }\n",
       "\n",
       "    .dataframe thead th {\n",
       "        text-align: right;\n",
       "    }\n",
       "</style>\n",
       "<table border=\"1\" class=\"dataframe\">\n",
       "  <thead>\n",
       "    <tr style=\"text-align: right;\">\n",
       "      <th></th>\n",
       "      <th>RMSE на CV, евро</th>\n",
       "      <th>time fitting</th>\n",
       "      <th>time predicting</th>\n",
       "    </tr>\n",
       "  </thead>\n",
       "  <tbody>\n",
       "    <tr>\n",
       "      <th>CatBoostRegressor</th>\n",
       "      <td>1148.866288</td>\n",
       "      <td>54.917460</td>\n",
       "      <td>0.155862</td>\n",
       "    </tr>\n",
       "    <tr>\n",
       "      <th>LinearRegression</th>\n",
       "      <td>1763.131582</td>\n",
       "      <td>6.918235</td>\n",
       "      <td>0.227266</td>\n",
       "    </tr>\n",
       "    <tr>\n",
       "      <th>LGBMRegressor</th>\n",
       "      <td>1110.761059</td>\n",
       "      <td>2.282601</td>\n",
       "      <td>0.278527</td>\n",
       "    </tr>\n",
       "    <tr>\n",
       "      <th>RandomForestRegressor</th>\n",
       "      <td>1145.304095</td>\n",
       "      <td>16.095996</td>\n",
       "      <td>0.411110</td>\n",
       "    </tr>\n",
       "  </tbody>\n",
       "</table>\n",
       "</div>"
      ],
      "text/plain": [
       "                       RMSE на CV, евро  time fitting  time predicting\n",
       "CatBoostRegressor           1148.866288     54.917460         0.155862\n",
       "LinearRegression            1763.131582      6.918235         0.227266\n",
       "LGBMRegressor               1110.761059      2.282601         0.278527\n",
       "RandomForestRegressor       1145.304095     16.095996         0.411110"
      ]
     },
     "execution_count": 63,
     "metadata": {},
     "output_type": "execute_result"
    }
   ],
   "source": [
    "index = ['LinearRegression',\n",
    "         'RandomForestRegressor',\n",
    "         'LGBMRegressor',\n",
    "         'CatBoostRegressor']\n",
    "\n",
    "data = {'RMSE на CV, евро':[linear_model_rmse_train,\n",
    "                            rf_model_rmse_train,\n",
    "                            lgbmr_model_rmse_train,\n",
    "                            cat_model_rmse_train],\n",
    "        \n",
    "        'time fitting':    [linear_model_fittime_train,\n",
    "                            rf_model_fittime_train,\n",
    "                            lgbmr_model_fittime_train,\n",
    "                            cat_model_fittime_train],\n",
    "                            \n",
    "        'time predicting':  [linear_model_predicttime_train,\n",
    "                            rf_model_predicttime_train,\n",
    "                            lgbmr_model_predicttime_train,\n",
    "                            cat_model_predicttime_train]}\n",
    "pivot = pd.DataFrame(data=data, index=index)\n",
    "pivot.sort_values(by='RMSE на CV, евро')\n",
    "pivot.sort_values(by='time predicting')\n"
   ]
  },
  {
   "cell_type": "markdown",
   "metadata": {},
   "source": [
    "**Вывод по разделу:** Модель Линейной регрессии имеет низккую метрику RMSE. Остальные модели имеют схожие метрики в районе 1145 евро. `CatBoostRegressor` обучается в среднем в 3 раза медленнее, чем `RandomForestRegressor`, однако имеет самое короткое время обучения. `LGBMRegressor` проигрывает им как по времени обучения, так и времени предсказания, при этом имея совсем незначительно лучшую метрику RMSE. Для предоставления клиенту отбираем модель `LGBMRegressor`."
   ]
  },
  {
   "cell_type": "markdown",
   "metadata": {},
   "source": [
    "### Итоговый тест"
   ]
  },
  {
   "cell_type": "code",
   "execution_count": 68,
   "metadata": {},
   "outputs": [
    {
     "name": "stdout",
     "output_type": "stream",
     "text": [
      "CPU times: total: 7.19 s\n",
      "Wall time: 1.98 s\n",
      "CPU times: total: 1.38 s\n",
      "Wall time: 367 ms\n"
     ]
    }
   ],
   "source": [
    "#model_cat = CatBoostRegressor(learning_rate=0.3, \n",
    "#                              iterations=300,\n",
    "#                              random_state=282,\n",
    "#                              cat_features=['vehicle_type', 'registration_year', 'gearbox', 'fuel_type','brand','model'])\n",
    "#\n",
    "%time model_lgbmr.fit(original_features_train, target_train)\n",
    "%time predict = model_lgbmr.predict(original_features_test)\n",
    "final_RMSE = mean_squared_error(target_test, predict) ** 0.5"
   ]
  },
  {
   "cell_type": "code",
   "execution_count": 70,
   "metadata": {},
   "outputs": [
    {
     "data": {
      "text/plain": [
       "1109.730458615681"
      ]
     },
     "execution_count": 70,
     "metadata": {},
     "output_type": "execute_result"
    }
   ],
   "source": [
    "final_RMSE"
   ]
  },
  {
   "cell_type": "markdown",
   "metadata": {},
   "source": [
    "**Вывод:**\n",
    "1.  Выполнна предобработка и обзор данных\n",
    "2. Произведен подбор гиперпараметров четырех моделей, результатаы собраны в сводную таблицу. Модель `LGBMRegressor` отобрана для демонстрации заказчику.\n",
    "4. По итогам финального тестирования модель `LGBMRegressor` показала результат RMSE = 1109 евро, при времени обучения 7.9с и времени предсказания 0.367с"
   ]
  }
 ],
 "metadata": {
  "ExecuteTimeLog": [
   {
    "duration": 461,
    "start_time": "2022-11-10T11:49:57.433Z"
   },
   {
    "duration": 8,
    "start_time": "2022-11-10T11:50:24.451Z"
   },
   {
    "duration": 358,
    "start_time": "2022-11-10T11:50:57.705Z"
   },
   {
    "duration": 1039,
    "start_time": "2022-11-10T11:51:22.305Z"
   },
   {
    "duration": 115,
    "start_time": "2022-11-10T11:51:40.123Z"
   },
   {
    "duration": 360,
    "start_time": "2022-11-10T11:51:44.523Z"
   },
   {
    "duration": 15,
    "start_time": "2022-11-10T11:52:08.583Z"
   },
   {
    "duration": 8,
    "start_time": "2022-11-10T11:52:16.402Z"
   },
   {
    "duration": 108,
    "start_time": "2022-11-10T11:52:21.145Z"
   },
   {
    "duration": 103,
    "start_time": "2022-11-10T11:52:24.806Z"
   },
   {
    "duration": 15,
    "start_time": "2022-11-10T11:52:34.836Z"
   },
   {
    "duration": 7,
    "start_time": "2022-11-10T15:05:20.013Z"
   },
   {
    "duration": 283,
    "start_time": "2022-11-10T15:05:24.239Z"
   },
   {
    "duration": 270,
    "start_time": "2022-11-10T15:05:32.708Z"
   },
   {
    "duration": 463,
    "start_time": "2022-11-10T15:05:46.637Z"
   },
   {
    "duration": 2,
    "start_time": "2022-11-10T15:06:09.285Z"
   },
   {
    "duration": 772,
    "start_time": "2022-11-10T15:07:47.382Z"
   },
   {
    "duration": 91,
    "start_time": "2022-11-10T15:08:41.382Z"
   },
   {
    "duration": 9,
    "start_time": "2022-11-10T15:09:04.427Z"
   },
   {
    "duration": 399,
    "start_time": "2022-11-10T15:09:11.028Z"
   },
   {
    "duration": 22,
    "start_time": "2022-11-10T15:09:45.703Z"
   },
   {
    "duration": 9,
    "start_time": "2022-11-10T15:09:55.308Z"
   },
   {
    "duration": 34,
    "start_time": "2022-11-10T15:09:59.392Z"
   },
   {
    "duration": 31,
    "start_time": "2022-11-10T15:10:18.788Z"
   },
   {
    "duration": 80,
    "start_time": "2022-11-10T15:11:01.686Z"
   },
   {
    "duration": 80567,
    "start_time": "2022-11-10T15:11:07.154Z"
   },
   {
    "duration": 369,
    "start_time": "2022-11-10T15:12:27.723Z"
   },
   {
    "duration": 10,
    "start_time": "2022-11-10T15:15:47.958Z"
   },
   {
    "duration": 7111,
    "start_time": "2022-11-10T15:16:06.868Z"
   },
   {
    "duration": 611,
    "start_time": "2022-11-10T15:16:47.814Z"
   },
   {
    "duration": 9,
    "start_time": "2022-11-10T15:17:01.332Z"
   },
   {
    "duration": 89669,
    "start_time": "2022-11-10T15:17:14.825Z"
   },
   {
    "duration": 639,
    "start_time": "2022-11-10T15:20:43.944Z"
   },
   {
    "duration": 10,
    "start_time": "2022-11-10T15:21:26.564Z"
   },
   {
    "duration": 713,
    "start_time": "2022-11-10T15:21:34.339Z"
   },
   {
    "duration": 4,
    "start_time": "2022-11-10T15:21:58.033Z"
   },
   {
    "duration": 651,
    "start_time": "2022-11-10T15:21:58.196Z"
   },
   {
    "duration": 325,
    "start_time": "2022-11-10T15:21:58.849Z"
   },
   {
    "duration": 104,
    "start_time": "2022-11-10T15:21:59.176Z"
   },
   {
    "duration": 14,
    "start_time": "2022-11-10T15:21:59.282Z"
   },
   {
    "duration": 718,
    "start_time": "2022-11-10T15:21:59.297Z"
   },
   {
    "duration": 456,
    "start_time": "2022-11-10T15:22:00.017Z"
   },
   {
    "duration": 44,
    "start_time": "2022-11-10T15:22:00.474Z"
   },
   {
    "duration": 3,
    "start_time": "2022-11-10T15:39:34.521Z"
   },
   {
    "duration": 244,
    "start_time": "2022-11-10T15:39:49.238Z"
   },
   {
    "duration": 102249,
    "start_time": "2022-11-10T16:46:57.664Z"
   },
   {
    "duration": 5,
    "start_time": "2022-11-10T17:04:50.511Z"
   },
   {
    "duration": 3,
    "start_time": "2022-11-10T17:04:58.516Z"
   },
   {
    "duration": 100,
    "start_time": "2022-11-10T17:05:00.620Z"
   },
   {
    "duration": 4,
    "start_time": "2022-11-10T17:10:00.699Z"
   },
   {
    "duration": 13,
    "start_time": "2022-11-10T17:10:31.417Z"
   },
   {
    "duration": 9,
    "start_time": "2022-11-10T17:10:45.454Z"
   },
   {
    "duration": 11,
    "start_time": "2022-11-10T17:11:03.817Z"
   },
   {
    "duration": 11,
    "start_time": "2022-11-10T17:12:24.980Z"
   },
   {
    "duration": 10,
    "start_time": "2022-11-10T17:12:29.855Z"
   },
   {
    "duration": 10,
    "start_time": "2022-11-10T17:14:45.367Z"
   },
   {
    "duration": 4,
    "start_time": "2022-11-10T17:15:24.364Z"
   },
   {
    "duration": 651,
    "start_time": "2022-11-10T17:15:24.524Z"
   },
   {
    "duration": 332,
    "start_time": "2022-11-10T17:15:25.177Z"
   },
   {
    "duration": 10,
    "start_time": "2022-11-10T17:15:25.513Z"
   },
   {
    "duration": 0,
    "start_time": "2022-11-10T17:15:25.524Z"
   },
   {
    "duration": 0,
    "start_time": "2022-11-10T17:15:25.526Z"
   },
   {
    "duration": 0,
    "start_time": "2022-11-10T17:15:25.527Z"
   },
   {
    "duration": 631,
    "start_time": "2022-11-10T17:15:25.673Z"
   },
   {
    "duration": 495,
    "start_time": "2022-11-10T17:15:26.312Z"
   },
   {
    "duration": 9,
    "start_time": "2022-11-10T17:15:53.779Z"
   },
   {
    "duration": 10,
    "start_time": "2022-11-10T17:17:57.071Z"
   },
   {
    "duration": 10,
    "start_time": "2022-11-10T17:18:05.480Z"
   },
   {
    "duration": 9,
    "start_time": "2022-11-10T17:18:12.374Z"
   },
   {
    "duration": 113,
    "start_time": "2022-11-10T17:20:43.631Z"
   },
   {
    "duration": 10,
    "start_time": "2022-11-10T17:20:47.348Z"
   },
   {
    "duration": 10,
    "start_time": "2022-11-10T17:20:49.781Z"
   },
   {
    "duration": 11,
    "start_time": "2022-11-10T17:21:10.612Z"
   },
   {
    "duration": 10,
    "start_time": "2022-11-10T17:21:24.168Z"
   },
   {
    "duration": 96,
    "start_time": "2022-11-10T17:21:24.347Z"
   },
   {
    "duration": 99,
    "start_time": "2022-11-10T17:21:30.948Z"
   },
   {
    "duration": 15,
    "start_time": "2022-11-10T17:22:09.071Z"
   },
   {
    "duration": 731,
    "start_time": "2022-11-10T17:22:48.682Z"
   },
   {
    "duration": 1377,
    "start_time": "2022-11-10T17:22:59.232Z"
   },
   {
    "duration": 808,
    "start_time": "2022-11-10T17:23:00.610Z"
   },
   {
    "duration": 345,
    "start_time": "2022-11-10T17:23:01.420Z"
   },
   {
    "duration": 8,
    "start_time": "2022-11-10T17:23:01.768Z"
   },
   {
    "duration": 119,
    "start_time": "2022-11-10T17:23:01.778Z"
   },
   {
    "duration": 25,
    "start_time": "2022-11-10T17:23:01.898Z"
   },
   {
    "duration": 729,
    "start_time": "2022-11-10T17:23:01.925Z"
   },
   {
    "duration": 575,
    "start_time": "2022-11-10T17:23:02.655Z"
   },
   {
    "duration": 83,
    "start_time": "2022-11-10T17:23:03.231Z"
   },
   {
    "duration": 104065,
    "start_time": "2022-11-10T17:23:03.316Z"
   },
   {
    "duration": 84472,
    "start_time": "2022-11-10T17:24:47.382Z"
   },
   {
    "duration": 13044,
    "start_time": "2022-11-10T17:26:11.856Z"
   },
   {
    "duration": 172,
    "start_time": "2022-11-10T17:26:24.903Z"
   },
   {
    "duration": 0,
    "start_time": "2022-11-10T17:26:25.077Z"
   },
   {
    "duration": 0,
    "start_time": "2022-11-10T17:26:25.077Z"
   },
   {
    "duration": 0,
    "start_time": "2022-11-10T17:26:25.079Z"
   },
   {
    "duration": 0,
    "start_time": "2022-11-10T17:26:25.080Z"
   },
   {
    "duration": 0,
    "start_time": "2022-11-10T17:26:25.081Z"
   },
   {
    "duration": 770,
    "start_time": "2022-11-10T17:26:39.018Z"
   },
   {
    "duration": 744,
    "start_time": "2022-11-10T17:26:47.342Z"
   },
   {
    "duration": 399,
    "start_time": "2022-11-10T17:26:54.072Z"
   },
   {
    "duration": 841,
    "start_time": "2022-11-10T17:27:05.642Z"
   },
   {
    "duration": 13,
    "start_time": "2022-11-10T17:30:17.874Z"
   },
   {
    "duration": 6,
    "start_time": "2022-11-10T17:30:18.466Z"
   },
   {
    "duration": 1396,
    "start_time": "2022-11-10T17:32:14.213Z"
   },
   {
    "duration": 733,
    "start_time": "2022-11-10T17:32:15.611Z"
   },
   {
    "duration": 343,
    "start_time": "2022-11-10T17:32:16.346Z"
   },
   {
    "duration": 21,
    "start_time": "2022-11-10T17:32:16.693Z"
   },
   {
    "duration": 6,
    "start_time": "2022-11-10T17:32:16.715Z"
   },
   {
    "duration": 113,
    "start_time": "2022-11-10T17:32:16.722Z"
   },
   {
    "duration": 671,
    "start_time": "2022-11-10T17:32:16.836Z"
   },
   {
    "duration": 1056,
    "start_time": "2022-11-10T17:32:17.549Z"
   },
   {
    "duration": 83,
    "start_time": "2022-11-10T17:32:18.606Z"
   },
   {
    "duration": 102047,
    "start_time": "2022-11-10T17:32:18.691Z"
   },
   {
    "duration": 83996,
    "start_time": "2022-11-10T17:34:00.739Z"
   },
   {
    "duration": 13232,
    "start_time": "2022-11-10T17:35:24.736Z"
   },
   {
    "duration": 121,
    "start_time": "2022-11-10T17:35:37.969Z"
   },
   {
    "duration": 0,
    "start_time": "2022-11-10T17:35:38.092Z"
   },
   {
    "duration": 0,
    "start_time": "2022-11-10T17:35:38.093Z"
   },
   {
    "duration": 0,
    "start_time": "2022-11-10T17:35:38.094Z"
   },
   {
    "duration": 0,
    "start_time": "2022-11-10T17:35:38.095Z"
   },
   {
    "duration": 0,
    "start_time": "2022-11-10T17:35:38.096Z"
   },
   {
    "duration": 0,
    "start_time": "2022-11-10T17:35:38.113Z"
   },
   {
    "duration": 0,
    "start_time": "2022-11-10T17:35:38.114Z"
   },
   {
    "duration": 627,
    "start_time": "2022-11-10T17:36:12.511Z"
   },
   {
    "duration": 267,
    "start_time": "2022-11-10T17:46:11.575Z"
   },
   {
    "duration": 284,
    "start_time": "2022-11-10T17:46:37.992Z"
   },
   {
    "duration": 32,
    "start_time": "2022-11-10T17:57:01.581Z"
   },
   {
    "duration": 740,
    "start_time": "2022-11-10T17:57:03.717Z"
   },
   {
    "duration": 37,
    "start_time": "2022-11-10T17:57:05.215Z"
   },
   {
    "duration": 96984,
    "start_time": "2022-11-10T17:57:07.872Z"
   },
   {
    "duration": 1630,
    "start_time": "2022-11-10T18:08:00.802Z"
   },
   {
    "duration": 1630,
    "start_time": "2022-11-10T18:08:08.769Z"
   },
   {
    "duration": 10,
    "start_time": "2022-11-10T18:08:56.668Z"
   },
   {
    "duration": 4,
    "start_time": "2022-11-10T18:09:00.033Z"
   },
   {
    "duration": 12,
    "start_time": "2022-11-10T18:09:00.258Z"
   },
   {
    "duration": 133,
    "start_time": "2022-11-10T18:09:10.585Z"
   },
   {
    "duration": 4,
    "start_time": "2022-11-10T18:11:09.913Z"
   },
   {
    "duration": 127,
    "start_time": "2022-11-10T18:11:10.675Z"
   },
   {
    "duration": 702,
    "start_time": "2022-11-10T18:13:26.465Z"
   },
   {
    "duration": 4,
    "start_time": "2022-11-10T18:16:36.600Z"
   },
   {
    "duration": 1825,
    "start_time": "2022-11-10T18:16:37.237Z"
   },
   {
    "duration": 5,
    "start_time": "2022-11-10T18:17:02.461Z"
   },
   {
    "duration": 9207,
    "start_time": "2022-11-10T18:17:02.885Z"
   },
   {
    "duration": 5,
    "start_time": "2022-11-10T18:18:14.319Z"
   },
   {
    "duration": 21,
    "start_time": "2022-11-10T18:18:14.552Z"
   },
   {
    "duration": 5,
    "start_time": "2022-11-10T18:18:39.042Z"
   },
   {
    "duration": 2559,
    "start_time": "2022-11-10T18:18:39.197Z"
   },
   {
    "duration": 5,
    "start_time": "2022-11-10T18:18:56.404Z"
   },
   {
    "duration": 18,
    "start_time": "2022-11-10T18:18:58.001Z"
   },
   {
    "duration": 7,
    "start_time": "2022-11-10T18:19:11.134Z"
   },
   {
    "duration": 21,
    "start_time": "2022-11-10T18:19:11.336Z"
   },
   {
    "duration": 4,
    "start_time": "2022-11-10T18:19:19.513Z"
   },
   {
    "duration": 756,
    "start_time": "2022-11-10T18:19:19.657Z"
   },
   {
    "duration": 5,
    "start_time": "2022-11-10T18:19:39.369Z"
   },
   {
    "duration": 2506,
    "start_time": "2022-11-10T18:19:39.528Z"
   },
   {
    "duration": 5,
    "start_time": "2022-11-10T18:20:43.406Z"
   },
   {
    "duration": 2552,
    "start_time": "2022-11-10T18:20:43.546Z"
   },
   {
    "duration": 5,
    "start_time": "2022-11-10T18:21:01.945Z"
   },
   {
    "duration": 2764,
    "start_time": "2022-11-10T18:21:02.094Z"
   },
   {
    "duration": 0,
    "start_time": "2022-11-10T18:32:50.450Z"
   },
   {
    "duration": 53237,
    "start_time": "2022-11-10T18:34:59.540Z"
   },
   {
    "duration": 46212,
    "start_time": "2022-11-10T18:36:58.193Z"
   },
   {
    "duration": 10,
    "start_time": "2022-11-10T18:43:44.039Z"
   },
   {
    "duration": 45612,
    "start_time": "2022-11-10T19:22:36.965Z"
   },
   {
    "duration": 45342,
    "start_time": "2022-11-10T19:25:02.991Z"
   },
   {
    "duration": 1322,
    "start_time": "2022-11-10T19:32:08.818Z"
   },
   {
    "duration": 1037,
    "start_time": "2022-11-10T19:32:10.141Z"
   },
   {
    "duration": 344,
    "start_time": "2022-11-10T19:32:11.179Z"
   },
   {
    "duration": 17,
    "start_time": "2022-11-10T19:32:11.526Z"
   },
   {
    "duration": 7,
    "start_time": "2022-11-10T19:32:11.544Z"
   },
   {
    "duration": 117,
    "start_time": "2022-11-10T19:32:11.553Z"
   },
   {
    "duration": 70,
    "start_time": "2022-11-10T19:32:11.671Z"
   },
   {
    "duration": 0,
    "start_time": "2022-11-10T19:32:11.742Z"
   },
   {
    "duration": 0,
    "start_time": "2022-11-10T19:32:11.744Z"
   },
   {
    "duration": 0,
    "start_time": "2022-11-10T19:32:11.745Z"
   },
   {
    "duration": 0,
    "start_time": "2022-11-10T19:32:11.746Z"
   },
   {
    "duration": 0,
    "start_time": "2022-11-10T19:32:11.746Z"
   },
   {
    "duration": 0,
    "start_time": "2022-11-10T19:32:11.748Z"
   },
   {
    "duration": 0,
    "start_time": "2022-11-10T19:32:11.749Z"
   },
   {
    "duration": 0,
    "start_time": "2022-11-10T19:32:11.750Z"
   },
   {
    "duration": 0,
    "start_time": "2022-11-10T19:32:11.750Z"
   },
   {
    "duration": 0,
    "start_time": "2022-11-10T19:32:11.751Z"
   },
   {
    "duration": 0,
    "start_time": "2022-11-10T19:32:11.752Z"
   },
   {
    "duration": 0,
    "start_time": "2022-11-10T19:32:11.753Z"
   },
   {
    "duration": 0,
    "start_time": "2022-11-10T19:32:11.754Z"
   },
   {
    "duration": 3,
    "start_time": "2022-11-11T15:30:01.226Z"
   },
   {
    "duration": 963,
    "start_time": "2022-11-11T15:30:01.231Z"
   },
   {
    "duration": 329,
    "start_time": "2022-11-11T15:30:02.196Z"
   },
   {
    "duration": 15,
    "start_time": "2022-11-11T15:30:02.527Z"
   },
   {
    "duration": 6,
    "start_time": "2022-11-11T15:30:05.340Z"
   },
   {
    "duration": 104,
    "start_time": "2022-11-11T15:30:06.933Z"
   },
   {
    "duration": 273,
    "start_time": "2022-11-11T15:30:15.760Z"
   },
   {
    "duration": 28,
    "start_time": "2022-11-11T15:31:02.230Z"
   },
   {
    "duration": 647,
    "start_time": "2022-11-11T15:31:03.706Z"
   },
   {
    "duration": 69,
    "start_time": "2022-11-11T15:31:06.875Z"
   },
   {
    "duration": 571,
    "start_time": "2022-11-11T16:30:05.473Z"
   },
   {
    "duration": 553,
    "start_time": "2022-11-11T16:30:24.197Z"
   },
   {
    "duration": 118,
    "start_time": "2022-11-11T16:30:39.867Z"
   },
   {
    "duration": 70,
    "start_time": "2022-11-11T16:30:43.779Z"
   },
   {
    "duration": 661,
    "start_time": "2022-11-11T16:30:48.117Z"
   },
   {
    "duration": 661,
    "start_time": "2022-11-11T16:31:07.601Z"
   },
   {
    "duration": 736,
    "start_time": "2022-11-11T16:31:11.909Z"
   },
   {
    "duration": 723,
    "start_time": "2022-11-11T16:31:46.928Z"
   },
   {
    "duration": 907,
    "start_time": "2022-11-11T16:31:56.186Z"
   },
   {
    "duration": 854,
    "start_time": "2022-11-11T16:32:18.996Z"
   },
   {
    "duration": 186,
    "start_time": "2022-11-11T16:32:31.487Z"
   },
   {
    "duration": 1386,
    "start_time": "2022-11-11T16:35:26.577Z"
   },
   {
    "duration": 761,
    "start_time": "2022-11-11T16:35:27.965Z"
   },
   {
    "duration": 344,
    "start_time": "2022-11-11T16:35:28.728Z"
   },
   {
    "duration": 18,
    "start_time": "2022-11-11T16:35:29.074Z"
   },
   {
    "duration": 6,
    "start_time": "2022-11-11T16:35:29.095Z"
   },
   {
    "duration": 114,
    "start_time": "2022-11-11T16:35:29.103Z"
   },
   {
    "duration": 313,
    "start_time": "2022-11-11T16:35:29.218Z"
   },
   {
    "duration": 34,
    "start_time": "2022-11-11T16:35:29.533Z"
   },
   {
    "duration": 749,
    "start_time": "2022-11-11T16:35:29.569Z"
   },
   {
    "duration": 83,
    "start_time": "2022-11-11T16:35:30.319Z"
   },
   {
    "duration": 45,
    "start_time": "2022-11-11T16:50:43.450Z"
   },
   {
    "duration": 1275,
    "start_time": "2022-11-11T16:50:50.367Z"
   },
   {
    "duration": 950,
    "start_time": "2022-11-11T16:50:51.644Z"
   },
   {
    "duration": 316,
    "start_time": "2022-11-11T16:50:52.596Z"
   },
   {
    "duration": 16,
    "start_time": "2022-11-11T16:50:52.915Z"
   },
   {
    "duration": 9,
    "start_time": "2022-11-11T16:50:52.933Z"
   },
   {
    "duration": 117,
    "start_time": "2022-11-11T16:50:52.944Z"
   },
   {
    "duration": 293,
    "start_time": "2022-11-11T16:50:53.062Z"
   },
   {
    "duration": 28,
    "start_time": "2022-11-11T16:50:53.357Z"
   },
   {
    "duration": 668,
    "start_time": "2022-11-11T16:50:53.387Z"
   },
   {
    "duration": 66,
    "start_time": "2022-11-11T16:50:54.058Z"
   },
   {
    "duration": 195,
    "start_time": "2022-11-11T16:50:54.126Z"
   },
   {
    "duration": 170,
    "start_time": "2022-11-11T16:50:54.322Z"
   },
   {
    "duration": 276,
    "start_time": "2022-11-11T16:50:54.494Z"
   },
   {
    "duration": 174,
    "start_time": "2022-11-11T16:50:54.771Z"
   },
   {
    "duration": 163,
    "start_time": "2022-11-11T16:50:54.947Z"
   },
   {
    "duration": 106,
    "start_time": "2022-11-11T16:50:55.112Z"
   },
   {
    "duration": 0,
    "start_time": "2022-11-11T16:50:55.220Z"
   },
   {
    "duration": 0,
    "start_time": "2022-11-11T16:50:55.221Z"
   },
   {
    "duration": 0,
    "start_time": "2022-11-11T16:50:55.222Z"
   },
   {
    "duration": 0,
    "start_time": "2022-11-11T16:50:55.223Z"
   },
   {
    "duration": 0,
    "start_time": "2022-11-11T16:50:55.224Z"
   },
   {
    "duration": 0,
    "start_time": "2022-11-11T16:50:55.224Z"
   },
   {
    "duration": 0,
    "start_time": "2022-11-11T16:50:55.225Z"
   },
   {
    "duration": 0,
    "start_time": "2022-11-11T16:50:55.226Z"
   },
   {
    "duration": 0,
    "start_time": "2022-11-11T16:50:55.227Z"
   },
   {
    "duration": 0,
    "start_time": "2022-11-11T16:50:55.228Z"
   },
   {
    "duration": 0,
    "start_time": "2022-11-11T16:50:55.230Z"
   },
   {
    "duration": 150,
    "start_time": "2022-11-11T16:52:48.428Z"
   },
   {
    "duration": 190,
    "start_time": "2022-11-11T16:52:52.321Z"
   },
   {
    "duration": 188,
    "start_time": "2022-11-11T16:53:02.458Z"
   },
   {
    "duration": 189,
    "start_time": "2022-11-11T16:53:07.140Z"
   },
   {
    "duration": 161,
    "start_time": "2022-11-11T16:53:11.829Z"
   },
   {
    "duration": 155,
    "start_time": "2022-11-11T16:53:40.937Z"
   },
   {
    "duration": 197,
    "start_time": "2022-11-11T16:53:46.342Z"
   },
   {
    "duration": 11,
    "start_time": "2022-11-11T16:53:53.752Z"
   },
   {
    "duration": 9,
    "start_time": "2022-11-11T16:54:06.052Z"
   },
   {
    "duration": 73,
    "start_time": "2022-11-11T16:54:20.731Z"
   },
   {
    "duration": 1349,
    "start_time": "2022-11-11T16:56:28.999Z"
   },
   {
    "duration": 158,
    "start_time": "2022-11-11T19:33:29.972Z"
   },
   {
    "duration": 161,
    "start_time": "2022-11-11T19:33:34.222Z"
   },
   {
    "duration": 10,
    "start_time": "2022-11-11T19:34:07.719Z"
   },
   {
    "duration": 155,
    "start_time": "2022-11-11T19:34:13.139Z"
   },
   {
    "duration": 10,
    "start_time": "2022-11-11T19:34:28.173Z"
   },
   {
    "duration": 152,
    "start_time": "2022-11-11T19:34:41.082Z"
   },
   {
    "duration": 11,
    "start_time": "2022-11-11T19:35:02.295Z"
   },
   {
    "duration": 13,
    "start_time": "2022-11-11T19:36:10.385Z"
   },
   {
    "duration": 1539,
    "start_time": "2022-11-12T13:31:10.389Z"
   },
   {
    "duration": 3201,
    "start_time": "2022-11-12T13:31:11.930Z"
   },
   {
    "duration": 384,
    "start_time": "2022-11-12T13:31:15.132Z"
   },
   {
    "duration": 17,
    "start_time": "2022-11-12T13:31:15.519Z"
   },
   {
    "duration": 23,
    "start_time": "2022-11-12T13:31:15.537Z"
   },
   {
    "duration": 138,
    "start_time": "2022-11-12T13:31:15.562Z"
   },
   {
    "duration": 314,
    "start_time": "2022-11-12T13:31:15.702Z"
   },
   {
    "duration": 46,
    "start_time": "2022-11-12T13:31:16.018Z"
   },
   {
    "duration": 769,
    "start_time": "2022-11-12T13:31:16.065Z"
   },
   {
    "duration": 69,
    "start_time": "2022-11-12T13:31:16.836Z"
   },
   {
    "duration": 53,
    "start_time": "2022-11-12T13:34:41.220Z"
   },
   {
    "duration": 1379,
    "start_time": "2022-11-12T13:34:45.350Z"
   },
   {
    "duration": 32177,
    "start_time": "2022-11-12T13:35:32.468Z"
   },
   {
    "duration": 1650,
    "start_time": "2022-11-12T13:36:19.329Z"
   },
   {
    "duration": 33172,
    "start_time": "2022-11-12T13:37:05.368Z"
   },
   {
    "duration": 34190,
    "start_time": "2022-11-12T13:37:52.559Z"
   },
   {
    "duration": 164,
    "start_time": "2022-11-12T13:38:52.642Z"
   },
   {
    "duration": 705,
    "start_time": "2022-11-12T13:40:34.567Z"
   },
   {
    "duration": 9,
    "start_time": "2022-11-12T13:41:44.088Z"
   },
   {
    "duration": 11,
    "start_time": "2022-11-12T13:41:50.610Z"
   },
   {
    "duration": 12,
    "start_time": "2022-11-12T13:41:54.836Z"
   },
   {
    "duration": 737,
    "start_time": "2022-11-12T13:42:04.981Z"
   },
   {
    "duration": 141,
    "start_time": "2022-11-12T13:42:25.502Z"
   },
   {
    "duration": 144,
    "start_time": "2022-11-12T13:43:03.235Z"
   },
   {
    "duration": 12,
    "start_time": "2022-11-12T13:43:18.746Z"
   },
   {
    "duration": 10091,
    "start_time": "2022-11-12T13:43:23.713Z"
   },
   {
    "duration": 5,
    "start_time": "2022-11-12T13:43:51.594Z"
   },
   {
    "duration": 16,
    "start_time": "2022-11-12T13:44:00.284Z"
   },
   {
    "duration": 5,
    "start_time": "2022-11-12T13:44:06.789Z"
   },
   {
    "duration": 11,
    "start_time": "2022-11-12T13:44:15.637Z"
   },
   {
    "duration": 10,
    "start_time": "2022-11-12T13:44:27.734Z"
   },
   {
    "duration": 99,
    "start_time": "2022-11-12T13:44:33.837Z"
   },
   {
    "duration": 187,
    "start_time": "2022-11-12T13:50:20.570Z"
   },
   {
    "duration": 183,
    "start_time": "2022-11-12T13:50:27.132Z"
   },
   {
    "duration": 15,
    "start_time": "2022-11-12T13:51:08.458Z"
   },
   {
    "duration": 101,
    "start_time": "2022-11-12T13:51:42.920Z"
   },
   {
    "duration": 160,
    "start_time": "2022-11-12T13:59:59.442Z"
   },
   {
    "duration": 147,
    "start_time": "2022-11-12T14:00:13.723Z"
   },
   {
    "duration": 237,
    "start_time": "2022-11-12T14:00:20.750Z"
   },
   {
    "duration": 4,
    "start_time": "2022-11-12T14:00:33.255Z"
   },
   {
    "duration": 200,
    "start_time": "2022-11-12T14:00:54.828Z"
   },
   {
    "duration": 10,
    "start_time": "2022-11-12T14:53:07.923Z"
   },
   {
    "duration": 11,
    "start_time": "2022-11-12T14:53:12.473Z"
   },
   {
    "duration": 8,
    "start_time": "2022-11-12T14:53:37.067Z"
   },
   {
    "duration": 10,
    "start_time": "2022-11-12T15:16:50.719Z"
   },
   {
    "duration": 232,
    "start_time": "2022-11-12T15:17:25.958Z"
   },
   {
    "duration": 198,
    "start_time": "2022-11-12T15:18:46.667Z"
   },
   {
    "duration": 10,
    "start_time": "2022-11-12T15:19:53.544Z"
   },
   {
    "duration": 10,
    "start_time": "2022-11-12T15:19:58.618Z"
   },
   {
    "duration": 9,
    "start_time": "2022-11-12T15:20:08.092Z"
   },
   {
    "duration": 9,
    "start_time": "2022-11-12T15:20:34.018Z"
   },
   {
    "duration": 9,
    "start_time": "2022-11-12T15:20:44.216Z"
   },
   {
    "duration": 54,
    "start_time": "2022-11-12T15:21:31.373Z"
   },
   {
    "duration": 184,
    "start_time": "2022-11-12T15:21:39.335Z"
   },
   {
    "duration": 5,
    "start_time": "2022-11-12T15:21:56.732Z"
   },
   {
    "duration": 145,
    "start_time": "2022-11-12T15:22:26.252Z"
   },
   {
    "duration": 46,
    "start_time": "2022-11-12T15:22:36.444Z"
   },
   {
    "duration": 1336,
    "start_time": "2022-11-12T15:22:39.504Z"
   },
   {
    "duration": 46,
    "start_time": "2022-11-12T16:57:09.430Z"
   },
   {
    "duration": 1586,
    "start_time": "2022-11-12T16:57:14.451Z"
   },
   {
    "duration": 2798,
    "start_time": "2022-11-12T16:57:16.039Z"
   },
   {
    "duration": 368,
    "start_time": "2022-11-12T16:57:18.840Z"
   },
   {
    "duration": 19,
    "start_time": "2022-11-12T16:57:19.211Z"
   },
   {
    "duration": 8,
    "start_time": "2022-11-12T16:57:19.232Z"
   },
   {
    "duration": 142,
    "start_time": "2022-11-12T16:57:19.242Z"
   },
   {
    "duration": 325,
    "start_time": "2022-11-12T16:57:19.386Z"
   },
   {
    "duration": 34,
    "start_time": "2022-11-12T16:57:19.713Z"
   },
   {
    "duration": 745,
    "start_time": "2022-11-12T16:57:19.750Z"
   },
   {
    "duration": 79,
    "start_time": "2022-11-12T16:57:20.500Z"
   },
   {
    "duration": 217,
    "start_time": "2022-11-12T16:57:20.581Z"
   },
   {
    "duration": 292,
    "start_time": "2022-11-12T16:57:20.800Z"
   },
   {
    "duration": 191,
    "start_time": "2022-11-12T16:57:21.093Z"
   },
   {
    "duration": 100,
    "start_time": "2022-11-12T16:57:21.287Z"
   },
   {
    "duration": 17,
    "start_time": "2022-11-12T16:57:21.389Z"
   },
   {
    "duration": 11,
    "start_time": "2022-11-12T16:57:21.408Z"
   },
   {
    "duration": 229,
    "start_time": "2022-11-12T16:57:21.420Z"
   },
   {
    "duration": 0,
    "start_time": "2022-11-12T16:57:21.652Z"
   },
   {
    "duration": 0,
    "start_time": "2022-11-12T16:57:21.653Z"
   },
   {
    "duration": 0,
    "start_time": "2022-11-12T16:57:21.654Z"
   },
   {
    "duration": 0,
    "start_time": "2022-11-12T16:57:21.656Z"
   },
   {
    "duration": 0,
    "start_time": "2022-11-12T16:57:21.669Z"
   },
   {
    "duration": 0,
    "start_time": "2022-11-12T16:57:21.670Z"
   },
   {
    "duration": 0,
    "start_time": "2022-11-12T16:57:21.671Z"
   },
   {
    "duration": 0,
    "start_time": "2022-11-12T16:57:21.673Z"
   },
   {
    "duration": 0,
    "start_time": "2022-11-12T16:57:21.674Z"
   },
   {
    "duration": 107,
    "start_time": "2022-11-12T16:57:31.118Z"
   },
   {
    "duration": 114,
    "start_time": "2022-11-12T16:57:35.377Z"
   },
   {
    "duration": 1417,
    "start_time": "2022-11-12T16:57:37.938Z"
   },
   {
    "duration": 125,
    "start_time": "2022-11-12T16:58:18.022Z"
   },
   {
    "duration": 1362,
    "start_time": "2022-11-12T16:58:38.583Z"
   },
   {
    "duration": 45,
    "start_time": "2022-11-12T16:58:45.283Z"
   },
   {
    "duration": 16,
    "start_time": "2022-11-12T16:58:48.340Z"
   },
   {
    "duration": 86,
    "start_time": "2022-11-12T16:59:18.576Z"
   },
   {
    "duration": 91,
    "start_time": "2022-11-12T16:59:28.929Z"
   },
   {
    "duration": 23,
    "start_time": "2022-11-12T17:00:34.402Z"
   },
   {
    "duration": 11,
    "start_time": "2022-11-12T17:00:37.192Z"
   },
   {
    "duration": 7,
    "start_time": "2022-11-12T17:01:47.059Z"
   },
   {
    "duration": 15,
    "start_time": "2022-11-12T17:01:54.053Z"
   },
   {
    "duration": 6,
    "start_time": "2022-11-12T17:02:03.744Z"
   },
   {
    "duration": 3816,
    "start_time": "2022-11-12T17:07:04.325Z"
   },
   {
    "duration": 1298,
    "start_time": "2022-11-12T17:07:14.524Z"
   },
   {
    "duration": 831,
    "start_time": "2022-11-12T17:07:15.824Z"
   },
   {
    "duration": 363,
    "start_time": "2022-11-12T17:07:16.657Z"
   },
   {
    "duration": 17,
    "start_time": "2022-11-12T17:07:17.024Z"
   },
   {
    "duration": 7,
    "start_time": "2022-11-12T17:07:17.042Z"
   },
   {
    "duration": 123,
    "start_time": "2022-11-12T17:07:17.051Z"
   },
   {
    "duration": 315,
    "start_time": "2022-11-12T17:07:17.176Z"
   },
   {
    "duration": 29,
    "start_time": "2022-11-12T17:07:17.493Z"
   },
   {
    "duration": 720,
    "start_time": "2022-11-12T17:07:17.524Z"
   },
   {
    "duration": 76,
    "start_time": "2022-11-12T17:07:18.247Z"
   },
   {
    "duration": 217,
    "start_time": "2022-11-12T17:07:18.325Z"
   },
   {
    "duration": 219,
    "start_time": "2022-11-12T17:07:18.543Z"
   },
   {
    "duration": 263,
    "start_time": "2022-11-12T17:07:18.763Z"
   },
   {
    "duration": 97,
    "start_time": "2022-11-12T17:07:19.028Z"
   },
   {
    "duration": 18,
    "start_time": "2022-11-12T17:07:19.126Z"
   },
   {
    "duration": 8,
    "start_time": "2022-11-12T17:07:19.146Z"
   },
   {
    "duration": 3667,
    "start_time": "2022-11-12T17:07:19.168Z"
   },
   {
    "duration": 3,
    "start_time": "2022-11-12T17:07:22.837Z"
   },
   {
    "duration": 0,
    "start_time": "2022-11-12T17:07:22.841Z"
   },
   {
    "duration": 1,
    "start_time": "2022-11-12T17:07:22.842Z"
   },
   {
    "duration": 0,
    "start_time": "2022-11-12T17:07:22.844Z"
   },
   {
    "duration": 0,
    "start_time": "2022-11-12T17:07:22.844Z"
   },
   {
    "duration": 0,
    "start_time": "2022-11-12T17:07:22.845Z"
   },
   {
    "duration": 0,
    "start_time": "2022-11-12T17:07:22.846Z"
   },
   {
    "duration": 0,
    "start_time": "2022-11-12T17:07:22.848Z"
   },
   {
    "duration": 0,
    "start_time": "2022-11-12T17:07:22.868Z"
   },
   {
    "duration": 0,
    "start_time": "2022-11-12T17:07:22.869Z"
   },
   {
    "duration": 0,
    "start_time": "2022-11-12T17:07:22.870Z"
   },
   {
    "duration": 19,
    "start_time": "2022-11-12T17:07:39.009Z"
   },
   {
    "duration": 117,
    "start_time": "2022-11-12T17:11:22.077Z"
   },
   {
    "duration": 3608,
    "start_time": "2022-11-12T17:13:05.222Z"
   },
   {
    "duration": 21,
    "start_time": "2022-11-12T17:13:17.131Z"
   },
   {
    "duration": 11,
    "start_time": "2022-11-12T17:13:27.910Z"
   },
   {
    "duration": 11,
    "start_time": "2022-11-12T17:13:30.717Z"
   },
   {
    "duration": 10,
    "start_time": "2022-11-12T17:13:32.592Z"
   },
   {
    "duration": 10,
    "start_time": "2022-11-12T17:13:37.858Z"
   },
   {
    "duration": 10,
    "start_time": "2022-11-12T17:13:40.004Z"
   },
   {
    "duration": 11,
    "start_time": "2022-11-12T17:13:41.914Z"
   },
   {
    "duration": 11,
    "start_time": "2022-11-12T17:13:44.604Z"
   },
   {
    "duration": 93,
    "start_time": "2022-11-12T17:13:57.818Z"
   },
   {
    "duration": 197,
    "start_time": "2022-11-12T17:14:43.644Z"
   },
   {
    "duration": 193,
    "start_time": "2022-11-12T17:14:55.362Z"
   },
   {
    "duration": 10,
    "start_time": "2022-11-12T17:27:00.662Z"
   },
   {
    "duration": 157,
    "start_time": "2022-11-12T17:27:40.484Z"
   },
   {
    "duration": 9,
    "start_time": "2022-11-12T17:27:48.108Z"
   },
   {
    "duration": 150,
    "start_time": "2022-11-23T00:37:33.778Z"
   },
   {
    "duration": 45,
    "start_time": "2022-11-23T00:37:37.132Z"
   },
   {
    "duration": 43,
    "start_time": "2022-11-23T00:37:44.276Z"
   },
   {
    "duration": 1613,
    "start_time": "2022-11-23T00:38:00.128Z"
   },
   {
    "duration": 0,
    "start_time": "2022-11-23T00:38:01.743Z"
   },
   {
    "duration": 0,
    "start_time": "2022-11-23T00:38:01.745Z"
   },
   {
    "duration": 1,
    "start_time": "2022-11-23T00:38:01.745Z"
   },
   {
    "duration": 0,
    "start_time": "2022-11-23T00:38:01.746Z"
   },
   {
    "duration": 9,
    "start_time": "2022-11-23T00:38:01.901Z"
   },
   {
    "duration": 12,
    "start_time": "2022-11-23T00:38:02.421Z"
   },
   {
    "duration": 4,
    "start_time": "2022-11-23T00:38:18.882Z"
   },
   {
    "duration": 1030,
    "start_time": "2022-11-23T00:38:19.802Z"
   },
   {
    "duration": 384,
    "start_time": "2022-11-23T00:38:20.834Z"
   },
   {
    "duration": 24,
    "start_time": "2022-11-23T00:38:21.220Z"
   },
   {
    "duration": 10,
    "start_time": "2022-11-23T00:38:22.441Z"
   },
   {
    "duration": 123,
    "start_time": "2022-11-23T00:38:23.305Z"
   },
   {
    "duration": 339,
    "start_time": "2022-11-23T00:38:24.736Z"
   },
   {
    "duration": 19,
    "start_time": "2022-11-23T00:49:57.259Z"
   },
   {
    "duration": 27,
    "start_time": "2022-11-23T00:50:20.161Z"
   },
   {
    "duration": 490,
    "start_time": "2022-11-23T00:52:17.938Z"
   },
   {
    "duration": 1379,
    "start_time": "2022-11-23T00:52:28.899Z"
   },
   {
    "duration": 862,
    "start_time": "2022-11-23T00:52:30.281Z"
   },
   {
    "duration": 372,
    "start_time": "2022-11-23T00:52:31.145Z"
   },
   {
    "duration": 27,
    "start_time": "2022-11-23T00:52:31.519Z"
   },
   {
    "duration": 6,
    "start_time": "2022-11-23T00:52:31.547Z"
   },
   {
    "duration": 140,
    "start_time": "2022-11-23T00:52:31.555Z"
   },
   {
    "duration": 323,
    "start_time": "2022-11-23T00:52:31.697Z"
   },
   {
    "duration": 635,
    "start_time": "2022-11-23T00:52:32.022Z"
   },
   {
    "duration": 26,
    "start_time": "2022-11-23T00:52:32.659Z"
   },
   {
    "duration": 455,
    "start_time": "2022-11-23T00:52:32.687Z"
   },
   {
    "duration": 58,
    "start_time": "2022-11-23T00:52:33.144Z"
   },
   {
    "duration": 206,
    "start_time": "2022-11-23T00:52:33.203Z"
   },
   {
    "duration": 293,
    "start_time": "2022-11-23T00:52:33.411Z"
   },
   {
    "duration": 8,
    "start_time": "2022-11-23T00:52:33.705Z"
   },
   {
    "duration": 184,
    "start_time": "2022-11-23T00:52:33.714Z"
   },
   {
    "duration": 179,
    "start_time": "2022-11-23T00:52:33.900Z"
   },
   {
    "duration": 79,
    "start_time": "2022-11-23T00:52:34.080Z"
   },
   {
    "duration": 13,
    "start_time": "2022-11-23T00:52:34.161Z"
   },
   {
    "duration": 13,
    "start_time": "2022-11-23T00:52:34.176Z"
   },
   {
    "duration": 87,
    "start_time": "2022-11-23T00:52:34.190Z"
   },
   {
    "duration": 4378,
    "start_time": "2022-11-23T00:52:34.278Z"
   },
   {
    "duration": 14,
    "start_time": "2022-11-23T00:52:38.658Z"
   },
   {
    "duration": 87127,
    "start_time": "2022-11-23T00:52:38.674Z"
   },
   {
    "duration": 59750,
    "start_time": "2022-11-23T00:54:05.803Z"
   },
   {
    "duration": 5,
    "start_time": "2022-11-23T00:55:05.555Z"
   },
   {
    "duration": 2087,
    "start_time": "2022-11-23T00:55:05.562Z"
   },
   {
    "duration": 288,
    "start_time": "2022-11-23T00:55:07.650Z"
   },
   {
    "duration": 0,
    "start_time": "2022-11-23T00:55:07.940Z"
   },
   {
    "duration": 0,
    "start_time": "2022-11-23T00:55:07.941Z"
   },
   {
    "duration": 0,
    "start_time": "2022-11-23T00:55:07.943Z"
   },
   {
    "duration": 0,
    "start_time": "2022-11-23T00:55:07.944Z"
   },
   {
    "duration": 18,
    "start_time": "2022-11-23T00:55:33.566Z"
   },
   {
    "duration": 12,
    "start_time": "2022-11-23T00:55:37.174Z"
   },
   {
    "duration": 10,
    "start_time": "2022-11-23T00:56:56.183Z"
   },
   {
    "duration": 3360,
    "start_time": "2022-11-23T01:04:19.922Z"
   },
   {
    "duration": 15,
    "start_time": "2022-11-23T01:04:28.655Z"
   },
   {
    "duration": 10,
    "start_time": "2022-11-23T01:04:30.783Z"
   },
   {
    "duration": 2111,
    "start_time": "2022-11-23T01:04:45.442Z"
   },
   {
    "duration": 1308,
    "start_time": "2022-11-23T01:04:47.555Z"
   },
   {
    "duration": 832,
    "start_time": "2022-11-23T01:04:48.865Z"
   },
   {
    "duration": 371,
    "start_time": "2022-11-23T01:04:49.699Z"
   },
   {
    "duration": 18,
    "start_time": "2022-11-23T01:04:50.072Z"
   },
   {
    "duration": 9,
    "start_time": "2022-11-23T01:04:50.091Z"
   },
   {
    "duration": 131,
    "start_time": "2022-11-23T01:04:50.101Z"
   },
   {
    "duration": 305,
    "start_time": "2022-11-23T01:04:50.235Z"
   },
   {
    "duration": 583,
    "start_time": "2022-11-23T01:04:50.541Z"
   },
   {
    "duration": 111,
    "start_time": "2022-11-23T01:04:51.126Z"
   },
   {
    "duration": 0,
    "start_time": "2022-11-23T01:04:51.239Z"
   },
   {
    "duration": 0,
    "start_time": "2022-11-23T01:04:51.240Z"
   },
   {
    "duration": 0,
    "start_time": "2022-11-23T01:04:51.241Z"
   },
   {
    "duration": 0,
    "start_time": "2022-11-23T01:04:51.242Z"
   },
   {
    "duration": 0,
    "start_time": "2022-11-23T01:04:51.243Z"
   },
   {
    "duration": 0,
    "start_time": "2022-11-23T01:04:51.244Z"
   },
   {
    "duration": 0,
    "start_time": "2022-11-23T01:04:51.244Z"
   },
   {
    "duration": 0,
    "start_time": "2022-11-23T01:04:51.245Z"
   },
   {
    "duration": 0,
    "start_time": "2022-11-23T01:04:51.246Z"
   },
   {
    "duration": 0,
    "start_time": "2022-11-23T01:04:51.247Z"
   },
   {
    "duration": 0,
    "start_time": "2022-11-23T01:04:51.248Z"
   },
   {
    "duration": 0,
    "start_time": "2022-11-23T01:04:51.249Z"
   },
   {
    "duration": 0,
    "start_time": "2022-11-23T01:04:51.250Z"
   },
   {
    "duration": 0,
    "start_time": "2022-11-23T01:04:51.250Z"
   },
   {
    "duration": 0,
    "start_time": "2022-11-23T01:04:51.251Z"
   },
   {
    "duration": 0,
    "start_time": "2022-11-23T01:04:51.252Z"
   },
   {
    "duration": 0,
    "start_time": "2022-11-23T01:04:51.254Z"
   },
   {
    "duration": 0,
    "start_time": "2022-11-23T01:04:51.255Z"
   },
   {
    "duration": 0,
    "start_time": "2022-11-23T01:04:51.255Z"
   },
   {
    "duration": 0,
    "start_time": "2022-11-23T01:04:51.256Z"
   },
   {
    "duration": 0,
    "start_time": "2022-11-23T01:04:51.257Z"
   },
   {
    "duration": 0,
    "start_time": "2022-11-23T01:04:51.258Z"
   },
   {
    "duration": 0,
    "start_time": "2022-11-23T01:04:51.259Z"
   },
   {
    "duration": 10,
    "start_time": "2022-11-23T01:04:59.210Z"
   },
   {
    "duration": 33,
    "start_time": "2022-11-23T01:05:14.884Z"
   },
   {
    "duration": 12,
    "start_time": "2022-11-23T01:05:18.885Z"
   },
   {
    "duration": 2118,
    "start_time": "2022-11-23T01:05:21.922Z"
   },
   {
    "duration": 15,
    "start_time": "2022-11-23T01:05:24.260Z"
   },
   {
    "duration": 11,
    "start_time": "2022-11-23T01:05:27.002Z"
   },
   {
    "duration": 7,
    "start_time": "2022-11-23T01:05:32.388Z"
   },
   {
    "duration": 778,
    "start_time": "2022-11-23T01:05:34.613Z"
   },
   {
    "duration": 370,
    "start_time": "2022-11-23T01:05:35.394Z"
   },
   {
    "duration": 14,
    "start_time": "2022-11-23T01:05:35.765Z"
   },
   {
    "duration": 42,
    "start_time": "2022-11-23T01:05:35.781Z"
   },
   {
    "duration": 129,
    "start_time": "2022-11-23T01:05:35.829Z"
   },
   {
    "duration": 292,
    "start_time": "2022-11-23T01:05:36.514Z"
   },
   {
    "duration": 623,
    "start_time": "2022-11-23T01:05:38.249Z"
   },
   {
    "duration": 51,
    "start_time": "2022-11-23T01:15:15.445Z"
   },
   {
    "duration": 2037,
    "start_time": "2022-11-23T01:15:21.062Z"
   },
   {
    "duration": 2166,
    "start_time": "2022-11-23T01:15:23.101Z"
   },
   {
    "duration": 1095,
    "start_time": "2022-11-23T01:15:25.269Z"
   },
   {
    "duration": 387,
    "start_time": "2022-11-23T01:15:26.365Z"
   },
   {
    "duration": 22,
    "start_time": "2022-11-23T01:15:26.755Z"
   },
   {
    "duration": 6,
    "start_time": "2022-11-23T01:15:26.779Z"
   },
   {
    "duration": 136,
    "start_time": "2022-11-23T01:15:26.787Z"
   },
   {
    "duration": 327,
    "start_time": "2022-11-23T01:15:26.925Z"
   },
   {
    "duration": 610,
    "start_time": "2022-11-23T01:15:27.253Z"
   },
   {
    "duration": 4,
    "start_time": "2022-11-23T01:15:27.865Z"
   },
   {
    "duration": 18,
    "start_time": "2022-11-23T01:15:27.871Z"
   },
   {
    "duration": 33,
    "start_time": "2022-11-23T01:15:27.891Z"
   },
   {
    "duration": 366,
    "start_time": "2022-11-23T01:15:27.925Z"
   },
   {
    "duration": 66,
    "start_time": "2022-11-23T01:15:28.294Z"
   },
   {
    "duration": 201,
    "start_time": "2022-11-23T01:15:28.362Z"
   },
   {
    "duration": 295,
    "start_time": "2022-11-23T01:15:28.565Z"
   },
   {
    "duration": 9,
    "start_time": "2022-11-23T01:15:28.862Z"
   },
   {
    "duration": 177,
    "start_time": "2022-11-23T01:15:28.873Z"
   },
   {
    "duration": 166,
    "start_time": "2022-11-23T01:15:29.051Z"
   },
   {
    "duration": 81,
    "start_time": "2022-11-23T01:15:29.219Z"
   },
   {
    "duration": 13,
    "start_time": "2022-11-23T01:15:29.302Z"
   },
   {
    "duration": 19,
    "start_time": "2022-11-23T01:15:29.317Z"
   },
   {
    "duration": 73,
    "start_time": "2022-11-23T01:15:29.338Z"
   },
   {
    "duration": 3607,
    "start_time": "2022-11-23T01:15:29.413Z"
   },
   {
    "duration": 16,
    "start_time": "2022-11-23T01:15:33.022Z"
   },
   {
    "duration": 85943,
    "start_time": "2022-11-23T01:15:33.040Z"
   },
   {
    "duration": 58555,
    "start_time": "2022-11-23T01:16:58.984Z"
   },
   {
    "duration": 5,
    "start_time": "2022-11-23T01:17:57.541Z"
   },
   {
    "duration": 1903,
    "start_time": "2022-11-23T01:17:57.547Z"
   },
   {
    "duration": 277,
    "start_time": "2022-11-23T01:17:59.451Z"
   },
   {
    "duration": 0,
    "start_time": "2022-11-23T01:17:59.735Z"
   },
   {
    "duration": 0,
    "start_time": "2022-11-23T01:17:59.736Z"
   },
   {
    "duration": 0,
    "start_time": "2022-11-23T01:17:59.737Z"
   },
   {
    "duration": 0,
    "start_time": "2022-11-23T01:17:59.738Z"
   },
   {
    "duration": 0,
    "start_time": "2022-11-23T01:17:59.739Z"
   },
   {
    "duration": 7375,
    "start_time": "2022-11-23T01:21:31.813Z"
   },
   {
    "duration": 179,
    "start_time": "2022-11-23T01:21:51.708Z"
   },
   {
    "duration": 90,
    "start_time": "2022-11-23T01:22:08.044Z"
   },
   {
    "duration": 32,
    "start_time": "2022-11-23T01:34:32.805Z"
   },
   {
    "duration": 29,
    "start_time": "2022-11-23T01:34:41.480Z"
   },
   {
    "duration": 296,
    "start_time": "2022-11-23T01:34:48.308Z"
   },
   {
    "duration": 309,
    "start_time": "2022-11-23T01:35:05.112Z"
   },
   {
    "duration": 318,
    "start_time": "2022-11-23T01:35:20.665Z"
   },
   {
    "duration": 301,
    "start_time": "2022-11-23T01:35:41.315Z"
   },
   {
    "duration": 11,
    "start_time": "2022-11-23T01:36:45.073Z"
   },
   {
    "duration": 2084,
    "start_time": "2022-11-23T01:50:16.503Z"
   },
   {
    "duration": 1395,
    "start_time": "2022-11-23T01:50:18.589Z"
   },
   {
    "duration": 1297,
    "start_time": "2022-11-23T01:50:19.986Z"
   },
   {
    "duration": 703,
    "start_time": "2022-11-23T01:50:21.335Z"
   },
   {
    "duration": 17,
    "start_time": "2022-11-23T01:50:22.040Z"
   },
   {
    "duration": 6,
    "start_time": "2022-11-23T01:50:22.059Z"
   },
   {
    "duration": 172,
    "start_time": "2022-11-23T01:50:22.066Z"
   },
   {
    "duration": 1012,
    "start_time": "2022-11-23T01:50:22.239Z"
   },
   {
    "duration": 308,
    "start_time": "2022-11-23T01:50:23.253Z"
   },
   {
    "duration": 591,
    "start_time": "2022-11-23T01:50:23.564Z"
   },
   {
    "duration": 5,
    "start_time": "2022-11-23T01:50:24.156Z"
   },
   {
    "duration": 9,
    "start_time": "2022-11-23T01:50:24.163Z"
   },
   {
    "duration": 45,
    "start_time": "2022-11-23T01:50:24.174Z"
   },
   {
    "duration": 70,
    "start_time": "2022-11-23T01:50:24.220Z"
   },
   {
    "duration": 407,
    "start_time": "2022-11-23T01:50:24.292Z"
   },
   {
    "duration": 13,
    "start_time": "2022-11-23T01:50:24.701Z"
   },
   {
    "duration": 134,
    "start_time": "2022-11-23T01:50:24.715Z"
   },
   {
    "duration": 1,
    "start_time": "2022-11-23T01:50:24.850Z"
   },
   {
    "duration": 0,
    "start_time": "2022-11-23T01:50:24.852Z"
   },
   {
    "duration": 0,
    "start_time": "2022-11-23T01:50:24.853Z"
   },
   {
    "duration": 0,
    "start_time": "2022-11-23T01:50:24.854Z"
   },
   {
    "duration": 0,
    "start_time": "2022-11-23T01:50:24.855Z"
   },
   {
    "duration": 0,
    "start_time": "2022-11-23T01:50:24.856Z"
   },
   {
    "duration": 0,
    "start_time": "2022-11-23T01:50:24.857Z"
   },
   {
    "duration": 0,
    "start_time": "2022-11-23T01:50:24.858Z"
   },
   {
    "duration": 0,
    "start_time": "2022-11-23T01:50:24.859Z"
   },
   {
    "duration": 0,
    "start_time": "2022-11-23T01:50:24.860Z"
   },
   {
    "duration": 0,
    "start_time": "2022-11-23T01:50:24.862Z"
   },
   {
    "duration": 0,
    "start_time": "2022-11-23T01:50:24.863Z"
   },
   {
    "duration": 0,
    "start_time": "2022-11-23T01:50:24.864Z"
   },
   {
    "duration": 0,
    "start_time": "2022-11-23T01:50:24.865Z"
   },
   {
    "duration": 0,
    "start_time": "2022-11-23T01:50:24.866Z"
   },
   {
    "duration": 0,
    "start_time": "2022-11-23T01:50:24.867Z"
   },
   {
    "duration": 0,
    "start_time": "2022-11-23T01:50:24.868Z"
   },
   {
    "duration": 0,
    "start_time": "2022-11-23T01:50:24.869Z"
   },
   {
    "duration": 0,
    "start_time": "2022-11-23T01:50:24.870Z"
   },
   {
    "duration": 0,
    "start_time": "2022-11-23T01:50:24.871Z"
   },
   {
    "duration": 0,
    "start_time": "2022-11-23T01:50:24.872Z"
   },
   {
    "duration": 35,
    "start_time": "2022-11-23T01:51:14.695Z"
   },
   {
    "duration": 96,
    "start_time": "2022-11-23T01:51:23.699Z"
   },
   {
    "duration": 12,
    "start_time": "2022-11-23T01:53:16.616Z"
   },
   {
    "duration": 332,
    "start_time": "2022-11-23T01:53:27.257Z"
   },
   {
    "duration": 789,
    "start_time": "2022-11-23T01:58:24.642Z"
   },
   {
    "duration": 257,
    "start_time": "2022-11-23T01:58:40.060Z"
   },
   {
    "duration": 341,
    "start_time": "2022-11-23T02:00:32.227Z"
   },
   {
    "duration": 239,
    "start_time": "2022-11-23T02:02:43.768Z"
   },
   {
    "duration": 66,
    "start_time": "2022-11-23T02:03:46.880Z"
   },
   {
    "duration": 15,
    "start_time": "2022-11-23T02:14:57.878Z"
   },
   {
    "duration": 14,
    "start_time": "2022-11-23T02:16:03.278Z"
   },
   {
    "duration": 24,
    "start_time": "2022-11-23T02:16:03.466Z"
   },
   {
    "duration": 287,
    "start_time": "2022-11-23T02:16:25.677Z"
   },
   {
    "duration": 248,
    "start_time": "2022-11-23T02:16:25.965Z"
   },
   {
    "duration": 24,
    "start_time": "2022-11-23T02:16:26.215Z"
   },
   {
    "duration": 82,
    "start_time": "2022-11-23T02:16:26.241Z"
   },
   {
    "duration": 12,
    "start_time": "2022-11-23T02:22:46.502Z"
   },
   {
    "duration": 102,
    "start_time": "2022-11-23T02:22:57.229Z"
   },
   {
    "duration": 10,
    "start_time": "2022-11-23T02:38:44.816Z"
   },
   {
    "duration": 2244,
    "start_time": "2022-11-23T02:41:37.236Z"
   },
   {
    "duration": 2175,
    "start_time": "2022-11-23T02:41:59.719Z"
   },
   {
    "duration": 2220,
    "start_time": "2022-11-23T02:42:06.172Z"
   },
   {
    "duration": 15,
    "start_time": "2022-11-23T02:55:27.135Z"
   },
   {
    "duration": 11,
    "start_time": "2022-11-23T02:55:29.406Z"
   },
   {
    "duration": 37,
    "start_time": "2022-11-23T02:55:59.719Z"
   },
   {
    "duration": 81,
    "start_time": "2022-11-23T02:56:00.046Z"
   },
   {
    "duration": 11,
    "start_time": "2022-11-23T02:56:12.273Z"
   },
   {
    "duration": 2675,
    "start_time": "2022-11-23T02:56:21.496Z"
   },
   {
    "duration": 1492,
    "start_time": "2022-11-23T02:56:24.173Z"
   },
   {
    "duration": 817,
    "start_time": "2022-11-23T02:56:25.667Z"
   },
   {
    "duration": 414,
    "start_time": "2022-11-23T02:56:26.486Z"
   },
   {
    "duration": 21,
    "start_time": "2022-11-23T02:56:26.903Z"
   },
   {
    "duration": 12,
    "start_time": "2022-11-23T02:56:26.943Z"
   },
   {
    "duration": 143,
    "start_time": "2022-11-23T02:56:26.957Z"
   },
   {
    "duration": 931,
    "start_time": "2022-11-23T02:56:27.102Z"
   },
   {
    "duration": 292,
    "start_time": "2022-11-23T02:56:28.035Z"
   },
   {
    "duration": 605,
    "start_time": "2022-11-23T02:56:28.337Z"
   },
   {
    "duration": 4,
    "start_time": "2022-11-23T02:56:28.944Z"
   },
   {
    "duration": 12,
    "start_time": "2022-11-23T02:56:28.949Z"
   },
   {
    "duration": 47,
    "start_time": "2022-11-23T02:56:28.963Z"
   },
   {
    "duration": 69,
    "start_time": "2022-11-23T02:56:29.012Z"
   },
   {
    "duration": 414,
    "start_time": "2022-11-23T02:56:29.083Z"
   },
   {
    "duration": 360,
    "start_time": "2022-11-23T02:56:29.498Z"
   },
   {
    "duration": 13,
    "start_time": "2022-11-23T02:56:29.860Z"
   },
   {
    "duration": 110,
    "start_time": "2022-11-23T02:56:29.874Z"
   },
   {
    "duration": 279,
    "start_time": "2022-11-23T02:56:29.987Z"
   },
   {
    "duration": 301,
    "start_time": "2022-11-23T02:56:30.268Z"
   },
   {
    "duration": 234,
    "start_time": "2022-11-23T02:56:30.571Z"
   },
   {
    "duration": 68,
    "start_time": "2022-11-23T02:56:30.807Z"
   },
   {
    "duration": 52,
    "start_time": "2022-11-23T02:56:30.877Z"
   },
   {
    "duration": 79,
    "start_time": "2022-11-23T02:56:30.931Z"
   },
   {
    "duration": 10,
    "start_time": "2022-11-23T02:56:31.011Z"
   },
   {
    "duration": 2258,
    "start_time": "2022-11-23T02:56:31.023Z"
   },
   {
    "duration": 12,
    "start_time": "2022-11-23T02:56:33.283Z"
   },
   {
    "duration": 34143,
    "start_time": "2022-11-23T02:56:33.298Z"
   },
   {
    "duration": 57803,
    "start_time": "2022-11-23T02:57:07.443Z"
   },
   {
    "duration": 5,
    "start_time": "2022-11-23T02:58:05.249Z"
   },
   {
    "duration": 2106,
    "start_time": "2022-11-23T02:58:05.256Z"
   },
   {
    "duration": 1871,
    "start_time": "2022-11-23T02:58:07.364Z"
   },
   {
    "duration": 0,
    "start_time": "2022-11-23T02:58:09.237Z"
   },
   {
    "duration": 0,
    "start_time": "2022-11-23T02:58:09.238Z"
   },
   {
    "duration": 0,
    "start_time": "2022-11-23T02:58:09.239Z"
   },
   {
    "duration": 0,
    "start_time": "2022-11-23T02:58:09.240Z"
   },
   {
    "duration": 0,
    "start_time": "2022-11-23T02:58:09.241Z"
   },
   {
    "duration": 2220,
    "start_time": "2022-11-23T02:59:41.921Z"
   },
   {
    "duration": 3025,
    "start_time": "2022-11-23T02:59:54.329Z"
   },
   {
    "duration": 1399,
    "start_time": "2022-11-23T02:59:57.357Z"
   },
   {
    "duration": 840,
    "start_time": "2022-11-23T02:59:58.760Z"
   },
   {
    "duration": 379,
    "start_time": "2022-11-23T02:59:59.602Z"
   },
   {
    "duration": 17,
    "start_time": "2022-11-23T02:59:59.983Z"
   },
   {
    "duration": 17,
    "start_time": "2022-11-23T03:00:00.002Z"
   },
   {
    "duration": 138,
    "start_time": "2022-11-23T03:00:00.020Z"
   },
   {
    "duration": 929,
    "start_time": "2022-11-23T03:00:00.159Z"
   },
   {
    "duration": 301,
    "start_time": "2022-11-23T03:00:01.089Z"
   },
   {
    "duration": 545,
    "start_time": "2022-11-23T03:00:01.392Z"
   },
   {
    "duration": 3,
    "start_time": "2022-11-23T03:00:01.939Z"
   },
   {
    "duration": 14,
    "start_time": "2022-11-23T03:00:01.944Z"
   },
   {
    "duration": 51,
    "start_time": "2022-11-23T03:00:01.961Z"
   },
   {
    "duration": 87,
    "start_time": "2022-11-23T03:00:02.014Z"
   },
   {
    "duration": 463,
    "start_time": "2022-11-23T03:00:02.103Z"
   },
   {
    "duration": 383,
    "start_time": "2022-11-23T03:00:02.568Z"
   },
   {
    "duration": 13,
    "start_time": "2022-11-23T03:00:02.953Z"
   },
   {
    "duration": 124,
    "start_time": "2022-11-23T03:00:02.967Z"
   },
   {
    "duration": 270,
    "start_time": "2022-11-23T03:00:03.093Z"
   },
   {
    "duration": 282,
    "start_time": "2022-11-23T03:00:03.365Z"
   },
   {
    "duration": 226,
    "start_time": "2022-11-23T03:00:03.648Z"
   },
   {
    "duration": 71,
    "start_time": "2022-11-23T03:00:03.876Z"
   },
   {
    "duration": 55,
    "start_time": "2022-11-23T03:00:03.949Z"
   },
   {
    "duration": 79,
    "start_time": "2022-11-23T03:00:04.005Z"
   },
   {
    "duration": 9,
    "start_time": "2022-11-23T03:00:04.086Z"
   },
   {
    "duration": 2216,
    "start_time": "2022-11-23T03:00:04.097Z"
   },
   {
    "duration": 20,
    "start_time": "2022-11-23T03:00:06.316Z"
   },
   {
    "duration": 33578,
    "start_time": "2022-11-23T03:00:06.338Z"
   },
   {
    "duration": 2826,
    "start_time": "2022-11-23T03:01:38.003Z"
   },
   {
    "duration": 1366,
    "start_time": "2022-11-23T03:01:40.831Z"
   },
   {
    "duration": 843,
    "start_time": "2022-11-23T03:01:42.198Z"
   },
   {
    "duration": 353,
    "start_time": "2022-11-23T03:01:43.043Z"
   },
   {
    "duration": 16,
    "start_time": "2022-11-23T03:01:43.398Z"
   },
   {
    "duration": 6,
    "start_time": "2022-11-23T03:01:43.416Z"
   },
   {
    "duration": 125,
    "start_time": "2022-11-23T03:01:43.436Z"
   },
   {
    "duration": 926,
    "start_time": "2022-11-23T03:01:43.562Z"
   },
   {
    "duration": 291,
    "start_time": "2022-11-23T03:01:44.490Z"
   },
   {
    "duration": 548,
    "start_time": "2022-11-23T03:01:44.783Z"
   },
   {
    "duration": 4,
    "start_time": "2022-11-23T03:01:45.333Z"
   },
   {
    "duration": 7,
    "start_time": "2022-11-23T03:01:45.338Z"
   },
   {
    "duration": 40,
    "start_time": "2022-11-23T03:01:45.346Z"
   },
   {
    "duration": 79,
    "start_time": "2022-11-23T03:01:45.389Z"
   },
   {
    "duration": 406,
    "start_time": "2022-11-23T03:01:45.470Z"
   },
   {
    "duration": 362,
    "start_time": "2022-11-23T03:01:45.878Z"
   },
   {
    "duration": 12,
    "start_time": "2022-11-23T03:01:46.241Z"
   },
   {
    "duration": 113,
    "start_time": "2022-11-23T03:01:46.254Z"
   },
   {
    "duration": 256,
    "start_time": "2022-11-23T03:01:46.369Z"
   },
   {
    "duration": 303,
    "start_time": "2022-11-23T03:01:46.627Z"
   },
   {
    "duration": 233,
    "start_time": "2022-11-23T03:01:46.934Z"
   },
   {
    "duration": 69,
    "start_time": "2022-11-23T03:01:47.169Z"
   },
   {
    "duration": 36,
    "start_time": "2022-11-23T03:01:47.240Z"
   },
   {
    "duration": 97,
    "start_time": "2022-11-23T03:01:47.277Z"
   },
   {
    "duration": 11,
    "start_time": "2022-11-23T03:01:47.375Z"
   },
   {
    "duration": 964,
    "start_time": "2022-11-23T03:01:47.387Z"
   },
   {
    "duration": 0,
    "start_time": "2022-11-23T03:01:48.353Z"
   },
   {
    "duration": 0,
    "start_time": "2022-11-23T03:01:48.354Z"
   },
   {
    "duration": 0,
    "start_time": "2022-11-23T03:01:48.355Z"
   },
   {
    "duration": 0,
    "start_time": "2022-11-23T03:01:48.356Z"
   },
   {
    "duration": 0,
    "start_time": "2022-11-23T03:01:48.357Z"
   },
   {
    "duration": 0,
    "start_time": "2022-11-23T03:01:48.358Z"
   },
   {
    "duration": 0,
    "start_time": "2022-11-23T03:01:48.359Z"
   },
   {
    "duration": 0,
    "start_time": "2022-11-23T03:01:48.360Z"
   },
   {
    "duration": 0,
    "start_time": "2022-11-23T03:01:48.361Z"
   },
   {
    "duration": 0,
    "start_time": "2022-11-23T03:01:48.362Z"
   },
   {
    "duration": 749,
    "start_time": "2022-11-23T03:11:44.018Z"
   },
   {
    "duration": 795,
    "start_time": "2022-11-23T03:11:44.854Z"
   },
   {
    "duration": 4,
    "start_time": "2022-11-23T03:11:52.903Z"
   },
   {
    "duration": 3250,
    "start_time": "2022-11-23T03:11:53.512Z"
   },
   {
    "duration": 13,
    "start_time": "2022-11-23T03:11:56.993Z"
   },
   {
    "duration": 2194,
    "start_time": "2022-11-23T03:12:10.912Z"
   },
   {
    "duration": 1374,
    "start_time": "2022-11-23T03:12:13.108Z"
   },
   {
    "duration": 815,
    "start_time": "2022-11-23T03:12:14.484Z"
   },
   {
    "duration": 380,
    "start_time": "2022-11-23T03:12:15.301Z"
   },
   {
    "duration": 18,
    "start_time": "2022-11-23T03:12:15.683Z"
   },
   {
    "duration": 7,
    "start_time": "2022-11-23T03:12:15.703Z"
   },
   {
    "duration": 154,
    "start_time": "2022-11-23T03:12:15.711Z"
   },
   {
    "duration": 1059,
    "start_time": "2022-11-23T03:12:15.867Z"
   },
   {
    "duration": 325,
    "start_time": "2022-11-23T03:12:16.927Z"
   },
   {
    "duration": 602,
    "start_time": "2022-11-23T03:12:17.255Z"
   },
   {
    "duration": 3,
    "start_time": "2022-11-23T03:12:17.859Z"
   },
   {
    "duration": 23,
    "start_time": "2022-11-23T03:12:17.863Z"
   },
   {
    "duration": 47,
    "start_time": "2022-11-23T03:12:17.888Z"
   },
   {
    "duration": 73,
    "start_time": "2022-11-23T03:12:17.937Z"
   },
   {
    "duration": 425,
    "start_time": "2022-11-23T03:12:18.012Z"
   },
   {
    "duration": 389,
    "start_time": "2022-11-23T03:12:18.439Z"
   },
   {
    "duration": 15,
    "start_time": "2022-11-23T03:12:18.829Z"
   },
   {
    "duration": 114,
    "start_time": "2022-11-23T03:12:18.846Z"
   },
   {
    "duration": 317,
    "start_time": "2022-11-23T03:12:18.962Z"
   },
   {
    "duration": 302,
    "start_time": "2022-11-23T03:12:19.281Z"
   },
   {
    "duration": 241,
    "start_time": "2022-11-23T03:12:19.585Z"
   },
   {
    "duration": 72,
    "start_time": "2022-11-23T03:12:19.828Z"
   },
   {
    "duration": 48,
    "start_time": "2022-11-23T03:12:19.901Z"
   },
   {
    "duration": 97,
    "start_time": "2022-11-23T03:12:19.951Z"
   },
   {
    "duration": 11,
    "start_time": "2022-11-23T03:12:20.050Z"
   },
   {
    "duration": 8,
    "start_time": "2022-11-23T03:12:20.063Z"
   },
   {
    "duration": 3472,
    "start_time": "2022-11-23T03:12:20.073Z"
   },
   {
    "duration": 13,
    "start_time": "2022-11-23T03:12:23.549Z"
   },
   {
    "duration": 29499,
    "start_time": "2022-11-23T03:12:23.564Z"
   },
   {
    "duration": 48172,
    "start_time": "2022-11-23T03:12:53.065Z"
   },
   {
    "duration": 4,
    "start_time": "2022-11-23T03:13:41.239Z"
   },
   {
    "duration": 1705,
    "start_time": "2022-11-23T03:13:41.245Z"
   },
   {
    "duration": 253,
    "start_time": "2022-11-23T03:13:42.952Z"
   },
   {
    "duration": 0,
    "start_time": "2022-11-23T03:13:43.207Z"
   },
   {
    "duration": 0,
    "start_time": "2022-11-23T03:13:43.208Z"
   },
   {
    "duration": 0,
    "start_time": "2022-11-23T03:13:43.210Z"
   },
   {
    "duration": 0,
    "start_time": "2022-11-23T03:13:43.211Z"
   },
   {
    "duration": 84,
    "start_time": "2022-11-23T03:40:44.572Z"
   },
   {
    "duration": 27,
    "start_time": "2022-11-23T03:40:53.028Z"
   },
   {
    "duration": 4206,
    "start_time": "2022-11-23T03:42:49.546Z"
   },
   {
    "duration": 1550,
    "start_time": "2022-11-23T03:43:22.962Z"
   },
   {
    "duration": 3,
    "start_time": "2022-11-23T03:47:11.377Z"
   },
   {
    "duration": 80,
    "start_time": "2022-11-23T03:47:13.905Z"
   },
   {
    "duration": 225,
    "start_time": "2022-11-23T03:51:04.178Z"
   },
   {
    "duration": 370,
    "start_time": "2022-11-23T03:51:22.495Z"
   },
   {
    "duration": 195,
    "start_time": "2022-11-23T03:51:29.911Z"
   },
   {
    "duration": 22,
    "start_time": "2022-11-23T03:53:30.624Z"
   },
   {
    "duration": 153,
    "start_time": "2022-11-23T03:54:43.172Z"
   },
   {
    "duration": 33,
    "start_time": "2022-11-23T03:54:55.326Z"
   },
   {
    "duration": 189,
    "start_time": "2022-11-23T03:54:56.091Z"
   },
   {
    "duration": 239,
    "start_time": "2022-11-23T03:55:01.233Z"
   },
   {
    "duration": 21,
    "start_time": "2022-11-23T03:55:30.586Z"
   },
   {
    "duration": 224,
    "start_time": "2022-11-23T03:55:30.962Z"
   },
   {
    "duration": 70,
    "start_time": "2022-11-23T03:55:31.284Z"
   },
   {
    "duration": 2613,
    "start_time": "2022-11-23T03:56:49.759Z"
   },
   {
    "duration": 1602,
    "start_time": "2022-11-23T03:56:52.375Z"
   },
   {
    "duration": 973,
    "start_time": "2022-11-23T03:56:53.979Z"
   },
   {
    "duration": 516,
    "start_time": "2022-11-23T03:56:54.958Z"
   },
   {
    "duration": 19,
    "start_time": "2022-11-23T03:56:55.476Z"
   },
   {
    "duration": 12,
    "start_time": "2022-11-23T03:56:55.496Z"
   },
   {
    "duration": 184,
    "start_time": "2022-11-23T03:56:55.510Z"
   },
   {
    "duration": 1438,
    "start_time": "2022-11-23T03:56:55.735Z"
   },
   {
    "duration": 1084,
    "start_time": "2022-11-23T03:56:57.175Z"
   },
   {
    "duration": 1241,
    "start_time": "2022-11-23T03:56:58.261Z"
   },
   {
    "duration": 5,
    "start_time": "2022-11-23T03:56:59.504Z"
   },
   {
    "duration": 19,
    "start_time": "2022-11-23T03:56:59.510Z"
   },
   {
    "duration": 73,
    "start_time": "2022-11-23T03:56:59.531Z"
   },
   {
    "duration": 82,
    "start_time": "2022-11-23T03:56:59.610Z"
   },
   {
    "duration": 535,
    "start_time": "2022-11-23T03:56:59.693Z"
   },
   {
    "duration": 422,
    "start_time": "2022-11-23T03:57:00.230Z"
   },
   {
    "duration": 18,
    "start_time": "2022-11-23T03:57:00.655Z"
   },
   {
    "duration": 130,
    "start_time": "2022-11-23T03:57:00.675Z"
   },
   {
    "duration": 337,
    "start_time": "2022-11-23T03:57:00.807Z"
   },
   {
    "duration": 339,
    "start_time": "2022-11-23T03:57:01.149Z"
   },
   {
    "duration": 296,
    "start_time": "2022-11-23T03:57:01.490Z"
   },
   {
    "duration": 15,
    "start_time": "2022-11-23T03:57:01.788Z"
   },
   {
    "duration": 37,
    "start_time": "2022-11-23T03:57:01.805Z"
   },
   {
    "duration": 256,
    "start_time": "2022-11-23T03:57:01.844Z"
   },
   {
    "duration": 85,
    "start_time": "2022-11-23T03:57:02.102Z"
   },
   {
    "duration": 53,
    "start_time": "2022-11-23T03:57:02.189Z"
   },
   {
    "duration": 127,
    "start_time": "2022-11-23T03:57:02.244Z"
   },
   {
    "duration": 24,
    "start_time": "2022-11-23T03:57:02.376Z"
   },
   {
    "duration": 4,
    "start_time": "2022-11-23T03:57:02.402Z"
   },
   {
    "duration": 3373,
    "start_time": "2022-11-23T03:57:02.408Z"
   },
   {
    "duration": 11,
    "start_time": "2022-11-23T03:57:05.783Z"
   },
   {
    "duration": 128,
    "start_time": "2022-11-23T03:57:05.796Z"
   },
   {
    "duration": 38,
    "start_time": "2022-11-23T03:57:05.926Z"
   },
   {
    "duration": 3554,
    "start_time": "2022-11-23T03:57:05.967Z"
   },
   {
    "duration": 94,
    "start_time": "2022-11-23T03:57:09.523Z"
   },
   {
    "duration": 12,
    "start_time": "2022-11-23T03:57:09.619Z"
   },
   {
    "duration": 2091,
    "start_time": "2022-11-23T03:57:09.633Z"
   },
   {
    "duration": 352,
    "start_time": "2022-11-23T03:57:11.725Z"
   },
   {
    "duration": 0,
    "start_time": "2022-11-23T03:57:12.079Z"
   },
   {
    "duration": 0,
    "start_time": "2022-11-23T03:57:12.080Z"
   },
   {
    "duration": 0,
    "start_time": "2022-11-23T03:57:12.082Z"
   },
   {
    "duration": 0,
    "start_time": "2022-11-23T03:57:12.082Z"
   },
   {
    "duration": 362,
    "start_time": "2022-11-23T03:58:20.966Z"
   },
   {
    "duration": 12,
    "start_time": "2022-11-23T04:01:09.888Z"
   },
   {
    "duration": 131,
    "start_time": "2022-11-23T04:05:55.064Z"
   },
   {
    "duration": 24,
    "start_time": "2022-11-23T04:06:40.420Z"
   },
   {
    "duration": 36,
    "start_time": "2022-11-23T04:06:54.807Z"
   },
   {
    "duration": 2234,
    "start_time": "2022-11-23T04:09:14.217Z"
   },
   {
    "duration": 1432,
    "start_time": "2022-11-23T04:09:16.454Z"
   },
   {
    "duration": 854,
    "start_time": "2022-11-23T04:09:17.888Z"
   },
   {
    "duration": 471,
    "start_time": "2022-11-23T04:09:18.744Z"
   },
   {
    "duration": 41,
    "start_time": "2022-11-23T04:09:19.217Z"
   },
   {
    "duration": 15,
    "start_time": "2022-11-23T04:09:19.261Z"
   },
   {
    "duration": 139,
    "start_time": "2022-11-23T04:09:19.278Z"
   },
   {
    "duration": 1046,
    "start_time": "2022-11-23T04:09:19.419Z"
   },
   {
    "duration": 332,
    "start_time": "2022-11-23T04:09:20.467Z"
   },
   {
    "duration": 608,
    "start_time": "2022-11-23T04:09:20.802Z"
   },
   {
    "duration": 4,
    "start_time": "2022-11-23T04:09:21.412Z"
   },
   {
    "duration": 28,
    "start_time": "2022-11-23T04:09:21.417Z"
   },
   {
    "duration": 37,
    "start_time": "2022-11-23T04:09:21.448Z"
   },
   {
    "duration": 76,
    "start_time": "2022-11-23T04:09:21.487Z"
   },
   {
    "duration": 454,
    "start_time": "2022-11-23T04:09:21.565Z"
   },
   {
    "duration": 388,
    "start_time": "2022-11-23T04:09:22.021Z"
   },
   {
    "duration": 26,
    "start_time": "2022-11-23T04:09:22.410Z"
   },
   {
    "duration": 125,
    "start_time": "2022-11-23T04:09:22.440Z"
   },
   {
    "duration": 315,
    "start_time": "2022-11-23T04:09:22.567Z"
   },
   {
    "duration": 297,
    "start_time": "2022-11-23T04:09:22.883Z"
   },
   {
    "duration": 243,
    "start_time": "2022-11-23T04:09:23.182Z"
   },
   {
    "duration": 28,
    "start_time": "2022-11-23T04:09:23.427Z"
   },
   {
    "duration": 30,
    "start_time": "2022-11-23T04:09:23.456Z"
   },
   {
    "duration": 226,
    "start_time": "2022-11-23T04:09:23.488Z"
   },
   {
    "duration": 70,
    "start_time": "2022-11-23T04:09:23.716Z"
   },
   {
    "duration": 34,
    "start_time": "2022-11-23T04:09:23.788Z"
   },
   {
    "duration": 99,
    "start_time": "2022-11-23T04:09:23.824Z"
   },
   {
    "duration": 20,
    "start_time": "2022-11-23T04:09:23.938Z"
   },
   {
    "duration": 3,
    "start_time": "2022-11-23T04:09:23.960Z"
   },
   {
    "duration": 1077,
    "start_time": "2022-11-23T04:09:23.964Z"
   },
   {
    "duration": 0,
    "start_time": "2022-11-23T04:09:25.043Z"
   },
   {
    "duration": 0,
    "start_time": "2022-11-23T04:09:25.044Z"
   },
   {
    "duration": 0,
    "start_time": "2022-11-23T04:09:25.046Z"
   },
   {
    "duration": 0,
    "start_time": "2022-11-23T04:09:25.047Z"
   },
   {
    "duration": 0,
    "start_time": "2022-11-23T04:09:25.049Z"
   },
   {
    "duration": 0,
    "start_time": "2022-11-23T04:09:25.050Z"
   },
   {
    "duration": 0,
    "start_time": "2022-11-23T04:09:25.052Z"
   },
   {
    "duration": 0,
    "start_time": "2022-11-23T04:09:25.054Z"
   },
   {
    "duration": 0,
    "start_time": "2022-11-23T04:09:25.055Z"
   },
   {
    "duration": 0,
    "start_time": "2022-11-23T04:09:25.057Z"
   },
   {
    "duration": 0,
    "start_time": "2022-11-23T04:09:25.061Z"
   },
   {
    "duration": 0,
    "start_time": "2022-11-23T04:09:25.062Z"
   },
   {
    "duration": 0,
    "start_time": "2022-11-23T04:09:25.063Z"
   },
   {
    "duration": 0,
    "start_time": "2022-11-23T04:09:25.064Z"
   },
   {
    "duration": 0,
    "start_time": "2022-11-23T04:09:25.070Z"
   },
   {
    "duration": 0,
    "start_time": "2022-11-23T04:09:25.072Z"
   },
   {
    "duration": 25,
    "start_time": "2022-11-23T04:10:23.785Z"
   },
   {
    "duration": 4,
    "start_time": "2022-11-23T04:11:01.156Z"
   },
   {
    "duration": 3114,
    "start_time": "2022-11-23T04:11:03.704Z"
   },
   {
    "duration": 23,
    "start_time": "2022-11-23T04:11:06.820Z"
   },
   {
    "duration": 108,
    "start_time": "2022-11-23T04:11:06.844Z"
   },
   {
    "duration": 16,
    "start_time": "2022-11-23T04:11:06.954Z"
   },
   {
    "duration": 2167,
    "start_time": "2022-11-23T04:11:06.972Z"
   },
   {
    "duration": 66,
    "start_time": "2022-11-23T04:11:09.142Z"
   },
   {
    "duration": 11,
    "start_time": "2022-11-23T04:11:10.173Z"
   },
   {
    "duration": 958,
    "start_time": "2022-11-23T04:11:16.261Z"
   },
   {
    "duration": 52,
    "start_time": "2022-11-23T04:11:26.247Z"
   },
   {
    "duration": 21,
    "start_time": "2022-11-23T04:11:27.330Z"
   },
   {
    "duration": 38,
    "start_time": "2022-11-23T04:11:31.554Z"
   },
   {
    "duration": 3015,
    "start_time": "2022-11-24T12:19:06.970Z"
   },
   {
    "duration": 1502,
    "start_time": "2022-11-24T12:19:09.988Z"
   },
   {
    "duration": 2911,
    "start_time": "2022-11-24T12:19:11.492Z"
   },
   {
    "duration": 353,
    "start_time": "2022-11-24T12:19:14.405Z"
   },
   {
    "duration": 16,
    "start_time": "2022-11-24T12:19:14.760Z"
   },
   {
    "duration": 30,
    "start_time": "2022-11-24T12:19:14.778Z"
   },
   {
    "duration": 140,
    "start_time": "2022-11-24T12:19:14.810Z"
   },
   {
    "duration": 876,
    "start_time": "2022-11-24T12:19:14.953Z"
   },
   {
    "duration": 293,
    "start_time": "2022-11-24T12:19:15.830Z"
   },
   {
    "duration": 640,
    "start_time": "2022-11-24T12:19:16.126Z"
   },
   {
    "duration": 4,
    "start_time": "2022-11-24T12:19:16.768Z"
   },
   {
    "duration": 68,
    "start_time": "2022-11-24T12:19:16.773Z"
   },
   {
    "duration": 77,
    "start_time": "2022-11-24T12:19:16.842Z"
   },
   {
    "duration": 122,
    "start_time": "2022-11-24T12:19:16.921Z"
   },
   {
    "duration": 372,
    "start_time": "2022-11-24T12:19:17.045Z"
   },
   {
    "duration": 383,
    "start_time": "2022-11-24T12:19:17.419Z"
   },
   {
    "duration": 12,
    "start_time": "2022-11-24T12:19:17.804Z"
   },
   {
    "duration": 102,
    "start_time": "2022-11-24T12:19:17.818Z"
   },
   {
    "duration": 268,
    "start_time": "2022-11-24T12:19:17.922Z"
   },
   {
    "duration": 297,
    "start_time": "2022-11-24T12:19:18.191Z"
   },
   {
    "duration": 244,
    "start_time": "2022-11-24T12:19:18.489Z"
   },
   {
    "duration": 21,
    "start_time": "2022-11-24T12:19:18.734Z"
   },
   {
    "duration": 22,
    "start_time": "2022-11-24T12:19:18.757Z"
   },
   {
    "duration": 220,
    "start_time": "2022-11-24T12:19:18.780Z"
   },
   {
    "duration": 53,
    "start_time": "2022-11-24T12:19:19.002Z"
   },
   {
    "duration": 42,
    "start_time": "2022-11-24T12:19:19.057Z"
   },
   {
    "duration": 130,
    "start_time": "2022-11-24T12:19:19.102Z"
   },
   {
    "duration": 27,
    "start_time": "2022-11-24T12:19:19.236Z"
   },
   {
    "duration": 5,
    "start_time": "2022-11-24T12:19:19.265Z"
   },
   {
    "duration": 2783,
    "start_time": "2022-11-24T12:19:19.272Z"
   },
   {
    "duration": 10,
    "start_time": "2022-11-24T12:19:22.056Z"
   },
   {
    "duration": 86,
    "start_time": "2022-11-24T12:19:22.067Z"
   },
   {
    "duration": 21,
    "start_time": "2022-11-24T12:19:22.155Z"
   },
   {
    "duration": 1963,
    "start_time": "2022-11-24T12:19:22.178Z"
   },
   {
    "duration": 48,
    "start_time": "2022-11-24T12:19:24.142Z"
   },
   {
    "duration": 33,
    "start_time": "2022-11-24T12:19:24.192Z"
   },
   {
    "duration": 136,
    "start_time": "2022-11-24T12:19:24.227Z"
   },
   {
    "duration": 17,
    "start_time": "2022-11-24T12:19:24.365Z"
   },
   {
    "duration": 31,
    "start_time": "2022-11-24T12:19:24.383Z"
   },
   {
    "duration": 5,
    "start_time": "2022-11-24T13:35:59.892Z"
   },
   {
    "duration": 466,
    "start_time": "2022-11-24T13:36:16.729Z"
   },
   {
    "duration": 428,
    "start_time": "2022-11-24T13:42:52.472Z"
   },
   {
    "duration": 338,
    "start_time": "2022-11-24T13:42:52.902Z"
   },
   {
    "duration": 92440,
    "start_time": "2022-11-24T13:43:35.812Z"
   },
   {
    "duration": 83970,
    "start_time": "2022-11-24T13:52:56.387Z"
   },
   {
    "duration": 95,
    "start_time": "2022-11-24T14:35:59.652Z"
   },
   {
    "duration": 4,
    "start_time": "2022-11-24T14:43:53.187Z"
   },
   {
    "duration": 106,
    "start_time": "2022-11-24T14:45:38.295Z"
   },
   {
    "duration": 18,
    "start_time": "2022-11-24T14:46:10.122Z"
   },
   {
    "duration": 11,
    "start_time": "2022-11-24T14:46:43.081Z"
   },
   {
    "duration": 11,
    "start_time": "2022-11-24T14:46:49.712Z"
   },
   {
    "duration": 1541,
    "start_time": "2022-11-24T14:47:28.464Z"
   },
   {
    "duration": 2820,
    "start_time": "2022-11-25T01:45:10.405Z"
   },
   {
    "duration": 1451,
    "start_time": "2022-11-25T01:45:13.228Z"
   },
   {
    "duration": 1039,
    "start_time": "2022-11-25T01:45:14.681Z"
   },
   {
    "duration": 355,
    "start_time": "2022-11-25T01:45:15.723Z"
   },
   {
    "duration": 15,
    "start_time": "2022-11-25T01:45:16.080Z"
   },
   {
    "duration": 6,
    "start_time": "2022-11-25T01:45:16.097Z"
   },
   {
    "duration": 132,
    "start_time": "2022-11-25T01:45:16.104Z"
   },
   {
    "duration": 902,
    "start_time": "2022-11-25T01:45:16.238Z"
   },
   {
    "duration": 287,
    "start_time": "2022-11-25T01:45:17.142Z"
   },
   {
    "duration": 605,
    "start_time": "2022-11-25T01:45:17.432Z"
   },
   {
    "duration": 4,
    "start_time": "2022-11-25T01:45:18.038Z"
   },
   {
    "duration": 6,
    "start_time": "2022-11-25T01:45:18.043Z"
   },
   {
    "duration": 36,
    "start_time": "2022-11-25T01:45:18.050Z"
   },
   {
    "duration": 70,
    "start_time": "2022-11-25T01:45:18.087Z"
   },
   {
    "duration": 465,
    "start_time": "2022-11-25T01:45:18.159Z"
   },
   {
    "duration": 280,
    "start_time": "2022-11-25T01:45:18.626Z"
   },
   {
    "duration": 17,
    "start_time": "2022-11-25T01:45:18.908Z"
   },
   {
    "duration": 110,
    "start_time": "2022-11-25T01:45:18.927Z"
   },
   {
    "duration": 269,
    "start_time": "2022-11-25T01:45:19.038Z"
   },
   {
    "duration": 289,
    "start_time": "2022-11-25T01:45:19.309Z"
   },
   {
    "duration": 212,
    "start_time": "2022-11-25T01:45:19.600Z"
   },
   {
    "duration": 18,
    "start_time": "2022-11-25T01:45:19.814Z"
   },
   {
    "duration": 18,
    "start_time": "2022-11-25T01:45:19.834Z"
   },
   {
    "duration": 198,
    "start_time": "2022-11-25T01:45:19.854Z"
   },
   {
    "duration": 70,
    "start_time": "2022-11-25T01:45:20.053Z"
   },
   {
    "duration": 32,
    "start_time": "2022-11-25T01:45:20.125Z"
   },
   {
    "duration": 84,
    "start_time": "2022-11-25T01:45:20.159Z"
   },
   {
    "duration": 14,
    "start_time": "2022-11-25T01:45:20.246Z"
   },
   {
    "duration": 3,
    "start_time": "2022-11-25T01:45:20.261Z"
   },
   {
    "duration": 2548,
    "start_time": "2022-11-25T01:45:20.265Z"
   },
   {
    "duration": 15,
    "start_time": "2022-11-25T01:45:22.814Z"
   },
   {
    "duration": 82,
    "start_time": "2022-11-25T01:45:22.830Z"
   },
   {
    "duration": 20,
    "start_time": "2022-11-25T01:45:22.913Z"
   },
   {
    "duration": 1799,
    "start_time": "2022-11-25T01:45:22.935Z"
   },
   {
    "duration": 55,
    "start_time": "2022-11-25T01:45:24.735Z"
   },
   {
    "duration": 9,
    "start_time": "2022-11-25T01:45:24.792Z"
   },
   {
    "duration": 107,
    "start_time": "2022-11-25T01:45:24.803Z"
   },
   {
    "duration": 23,
    "start_time": "2022-11-25T01:45:24.912Z"
   },
   {
    "duration": 22,
    "start_time": "2022-11-25T01:45:24.937Z"
   },
   {
    "duration": 425,
    "start_time": "2022-11-25T01:45:24.960Z"
   },
   {
    "duration": 320,
    "start_time": "2022-11-25T01:45:25.387Z"
   },
   {
    "duration": 85630,
    "start_time": "2022-11-25T01:45:25.709Z"
   },
   {
    "duration": 1984,
    "start_time": "2022-11-25T01:57:55.219Z"
   },
   {
    "duration": 1309,
    "start_time": "2022-11-25T01:57:57.205Z"
   },
   {
    "duration": 1525,
    "start_time": "2022-11-25T01:57:58.516Z"
   },
   {
    "duration": 374,
    "start_time": "2022-11-25T01:58:00.044Z"
   },
   {
    "duration": 15,
    "start_time": "2022-11-25T01:58:00.420Z"
   },
   {
    "duration": 28,
    "start_time": "2022-11-25T01:58:00.437Z"
   },
   {
    "duration": 157,
    "start_time": "2022-11-25T01:58:00.466Z"
   },
   {
    "duration": 943,
    "start_time": "2022-11-25T01:58:00.625Z"
   },
   {
    "duration": 314,
    "start_time": "2022-11-25T01:58:01.569Z"
   },
   {
    "duration": 536,
    "start_time": "2022-11-25T01:58:01.885Z"
   },
   {
    "duration": 3,
    "start_time": "2022-11-25T01:58:02.423Z"
   },
   {
    "duration": 7,
    "start_time": "2022-11-25T01:58:02.427Z"
   },
   {
    "duration": 35,
    "start_time": "2022-11-25T01:58:02.435Z"
   },
   {
    "duration": 81,
    "start_time": "2022-11-25T01:58:02.472Z"
   },
   {
    "duration": 485,
    "start_time": "2022-11-25T01:58:02.555Z"
   },
   {
    "duration": 280,
    "start_time": "2022-11-25T01:58:03.041Z"
   },
   {
    "duration": 11,
    "start_time": "2022-11-25T01:58:03.323Z"
   },
   {
    "duration": 105,
    "start_time": "2022-11-25T01:58:03.336Z"
   },
   {
    "duration": 254,
    "start_time": "2022-11-25T01:58:03.443Z"
   },
   {
    "duration": 284,
    "start_time": "2022-11-25T01:58:03.698Z"
   },
   {
    "duration": 221,
    "start_time": "2022-11-25T01:58:03.984Z"
   },
   {
    "duration": 20,
    "start_time": "2022-11-25T01:58:04.206Z"
   },
   {
    "duration": 19,
    "start_time": "2022-11-25T01:58:04.227Z"
   },
   {
    "duration": 191,
    "start_time": "2022-11-25T01:58:04.248Z"
   },
   {
    "duration": 55,
    "start_time": "2022-11-25T01:58:04.441Z"
   },
   {
    "duration": 46,
    "start_time": "2022-11-25T01:58:04.497Z"
   },
   {
    "duration": 83,
    "start_time": "2022-11-25T01:58:04.545Z"
   },
   {
    "duration": 14,
    "start_time": "2022-11-25T01:58:04.632Z"
   },
   {
    "duration": 3,
    "start_time": "2022-11-25T01:58:04.648Z"
   },
   {
    "duration": 2561,
    "start_time": "2022-11-25T01:58:04.653Z"
   },
   {
    "duration": 13,
    "start_time": "2022-11-25T01:58:07.215Z"
   },
   {
    "duration": 87,
    "start_time": "2022-11-25T01:58:07.229Z"
   },
   {
    "duration": 14,
    "start_time": "2022-11-25T01:58:07.318Z"
   },
   {
    "duration": 1793,
    "start_time": "2022-11-25T01:58:07.334Z"
   },
   {
    "duration": 56,
    "start_time": "2022-11-25T01:58:09.128Z"
   },
   {
    "duration": 11,
    "start_time": "2022-11-25T01:58:09.186Z"
   },
   {
    "duration": 108,
    "start_time": "2022-11-25T01:58:09.199Z"
   },
   {
    "duration": 20,
    "start_time": "2022-11-25T01:58:09.309Z"
   },
   {
    "duration": 23,
    "start_time": "2022-11-25T01:58:09.330Z"
   },
   {
    "duration": 361,
    "start_time": "2022-11-25T01:58:09.354Z"
   },
   {
    "duration": 322,
    "start_time": "2022-11-25T01:58:09.716Z"
   },
   {
    "duration": 108,
    "start_time": "2022-11-25T01:58:10.040Z"
   },
   {
    "duration": 0,
    "start_time": "2022-11-25T01:58:10.150Z"
   },
   {
    "duration": 0,
    "start_time": "2022-11-25T01:58:10.151Z"
   },
   {
    "duration": 11,
    "start_time": "2022-11-25T01:58:39.996Z"
   },
   {
    "duration": 1950,
    "start_time": "2022-11-25T02:02:39.599Z"
   },
   {
    "duration": 1328,
    "start_time": "2022-11-25T02:02:41.551Z"
   },
   {
    "duration": 773,
    "start_time": "2022-11-25T02:02:42.880Z"
   },
   {
    "duration": 365,
    "start_time": "2022-11-25T02:02:43.655Z"
   },
   {
    "duration": 17,
    "start_time": "2022-11-25T02:02:44.022Z"
   },
   {
    "duration": 9,
    "start_time": "2022-11-25T02:02:44.041Z"
   },
   {
    "duration": 131,
    "start_time": "2022-11-25T02:02:44.051Z"
   },
   {
    "duration": 899,
    "start_time": "2022-11-25T02:02:44.184Z"
   },
   {
    "duration": 326,
    "start_time": "2022-11-25T02:02:45.085Z"
   },
   {
    "duration": 583,
    "start_time": "2022-11-25T02:02:45.413Z"
   },
   {
    "duration": 3,
    "start_time": "2022-11-25T02:02:45.998Z"
   },
   {
    "duration": 6,
    "start_time": "2022-11-25T02:02:46.003Z"
   },
   {
    "duration": 42,
    "start_time": "2022-11-25T02:02:46.011Z"
   },
   {
    "duration": 56,
    "start_time": "2022-11-25T02:02:46.055Z"
   },
   {
    "duration": 457,
    "start_time": "2022-11-25T02:02:46.113Z"
   },
   {
    "duration": 283,
    "start_time": "2022-11-25T02:02:46.572Z"
   },
   {
    "duration": 12,
    "start_time": "2022-11-25T02:02:46.856Z"
   },
   {
    "duration": 109,
    "start_time": "2022-11-25T02:02:46.869Z"
   },
   {
    "duration": 252,
    "start_time": "2022-11-25T02:02:46.979Z"
   },
   {
    "duration": 274,
    "start_time": "2022-11-25T02:02:47.233Z"
   },
   {
    "duration": 228,
    "start_time": "2022-11-25T02:02:47.509Z"
   },
   {
    "duration": 14,
    "start_time": "2022-11-25T02:02:47.739Z"
   },
   {
    "duration": 19,
    "start_time": "2022-11-25T02:02:47.754Z"
   },
   {
    "duration": 197,
    "start_time": "2022-11-25T02:02:47.774Z"
   },
   {
    "duration": 62,
    "start_time": "2022-11-25T02:02:47.972Z"
   },
   {
    "duration": 32,
    "start_time": "2022-11-25T02:02:48.036Z"
   },
   {
    "duration": 87,
    "start_time": "2022-11-25T02:02:48.069Z"
   },
   {
    "duration": 14,
    "start_time": "2022-11-25T02:02:48.159Z"
   },
   {
    "duration": 3,
    "start_time": "2022-11-25T02:02:48.174Z"
   },
   {
    "duration": 2473,
    "start_time": "2022-11-25T02:02:48.178Z"
   },
   {
    "duration": 9,
    "start_time": "2022-11-25T02:02:50.653Z"
   },
   {
    "duration": 85,
    "start_time": "2022-11-25T02:02:50.664Z"
   },
   {
    "duration": 14,
    "start_time": "2022-11-25T02:02:50.750Z"
   },
   {
    "duration": 1785,
    "start_time": "2022-11-25T02:02:50.766Z"
   },
   {
    "duration": 71,
    "start_time": "2022-11-25T02:02:52.553Z"
   },
   {
    "duration": 9,
    "start_time": "2022-11-25T02:02:52.626Z"
   },
   {
    "duration": 107,
    "start_time": "2022-11-25T02:02:52.637Z"
   },
   {
    "duration": 17,
    "start_time": "2022-11-25T02:02:52.746Z"
   },
   {
    "duration": 23,
    "start_time": "2022-11-25T02:02:52.764Z"
   },
   {
    "duration": 379,
    "start_time": "2022-11-25T02:02:52.789Z"
   },
   {
    "duration": 323,
    "start_time": "2022-11-25T02:02:53.170Z"
   },
   {
    "duration": 2061,
    "start_time": "2022-11-25T02:20:01.892Z"
   },
   {
    "duration": 1321,
    "start_time": "2022-11-25T02:20:03.956Z"
   },
   {
    "duration": 769,
    "start_time": "2022-11-25T02:20:05.279Z"
   },
   {
    "duration": 354,
    "start_time": "2022-11-25T02:20:06.050Z"
   },
   {
    "duration": 17,
    "start_time": "2022-11-25T02:20:06.406Z"
   },
   {
    "duration": 46,
    "start_time": "2022-11-25T02:20:06.424Z"
   },
   {
    "duration": 126,
    "start_time": "2022-11-25T02:20:06.471Z"
   },
   {
    "duration": 894,
    "start_time": "2022-11-25T02:20:06.598Z"
   },
   {
    "duration": 292,
    "start_time": "2022-11-25T02:20:07.493Z"
   },
   {
    "duration": 543,
    "start_time": "2022-11-25T02:20:07.787Z"
   },
   {
    "duration": 3,
    "start_time": "2022-11-25T02:20:08.332Z"
   },
   {
    "duration": 6,
    "start_time": "2022-11-25T02:20:08.336Z"
   },
   {
    "duration": 37,
    "start_time": "2022-11-25T02:20:08.343Z"
   },
   {
    "duration": 73,
    "start_time": "2022-11-25T02:20:08.382Z"
   },
   {
    "duration": 485,
    "start_time": "2022-11-25T02:20:08.457Z"
   },
   {
    "duration": 273,
    "start_time": "2022-11-25T02:20:08.944Z"
   },
   {
    "duration": 13,
    "start_time": "2022-11-25T02:20:09.218Z"
   },
   {
    "duration": 108,
    "start_time": "2022-11-25T02:20:09.232Z"
   },
   {
    "duration": 251,
    "start_time": "2022-11-25T02:20:09.341Z"
   },
   {
    "duration": 282,
    "start_time": "2022-11-25T02:20:09.593Z"
   },
   {
    "duration": 216,
    "start_time": "2022-11-25T02:20:09.877Z"
   },
   {
    "duration": 13,
    "start_time": "2022-11-25T02:20:10.095Z"
   },
   {
    "duration": 57,
    "start_time": "2022-11-25T02:20:10.109Z"
   },
   {
    "duration": 203,
    "start_time": "2022-11-25T02:20:10.167Z"
   },
   {
    "duration": 67,
    "start_time": "2022-11-25T02:20:10.371Z"
   },
   {
    "duration": 60,
    "start_time": "2022-11-25T02:20:10.440Z"
   },
   {
    "duration": 75,
    "start_time": "2022-11-25T02:20:10.502Z"
   },
   {
    "duration": 13,
    "start_time": "2022-11-25T02:20:10.581Z"
   },
   {
    "duration": 18,
    "start_time": "2022-11-25T02:20:10.595Z"
   },
   {
    "duration": 2627,
    "start_time": "2022-11-25T02:20:10.615Z"
   },
   {
    "duration": 9,
    "start_time": "2022-11-25T02:20:13.244Z"
   },
   {
    "duration": 83,
    "start_time": "2022-11-25T02:20:13.254Z"
   },
   {
    "duration": 14,
    "start_time": "2022-11-25T02:20:13.338Z"
   },
   {
    "duration": 1859,
    "start_time": "2022-11-25T02:20:13.353Z"
   },
   {
    "duration": 70,
    "start_time": "2022-11-25T02:20:15.215Z"
   },
   {
    "duration": 14,
    "start_time": "2022-11-25T02:20:15.287Z"
   },
   {
    "duration": 133,
    "start_time": "2022-11-25T02:20:15.303Z"
   },
   {
    "duration": 14,
    "start_time": "2022-11-25T02:20:15.438Z"
   },
   {
    "duration": 77,
    "start_time": "2022-11-25T02:20:15.453Z"
   },
   {
    "duration": 719,
    "start_time": "2022-11-25T02:20:15.532Z"
   },
   {
    "duration": 681,
    "start_time": "2022-11-25T02:20:16.253Z"
   },
   {
    "duration": 2805838,
    "start_time": "2022-11-25T02:20:16.936Z"
   },
   {
    "duration": 160,
    "start_time": "2022-11-25T03:07:02.776Z"
   },
   {
    "duration": 57,
    "start_time": "2022-11-25T03:07:02.937Z"
   },
   {
    "duration": 22428,
    "start_time": "2022-11-25T03:07:02.996Z"
   },
   {
    "duration": 96,
    "start_time": "2022-11-25T03:07:25.426Z"
   },
   {
    "duration": 0,
    "start_time": "2022-11-25T03:07:25.524Z"
   },
   {
    "duration": 0,
    "start_time": "2022-11-25T03:07:25.525Z"
   },
   {
    "duration": 0,
    "start_time": "2022-11-25T03:07:25.526Z"
   },
   {
    "duration": 0,
    "start_time": "2022-11-25T03:07:25.527Z"
   },
   {
    "duration": 0,
    "start_time": "2022-11-25T03:07:25.528Z"
   },
   {
    "duration": 0,
    "start_time": "2022-11-25T03:07:25.529Z"
   },
   {
    "duration": 12,
    "start_time": "2022-11-25T03:20:05.084Z"
   },
   {
    "duration": 2,
    "start_time": "2022-11-25T03:22:34.363Z"
   },
   {
    "duration": 3,
    "start_time": "2022-11-25T03:22:41.982Z"
   },
   {
    "duration": 123,
    "start_time": "2022-11-25T03:26:17.097Z"
   },
   {
    "duration": 572670,
    "start_time": "2022-11-25T03:26:24.269Z"
   },
   {
    "duration": 481,
    "start_time": "2022-11-25T03:38:35.724Z"
   },
   {
    "duration": 527,
    "start_time": "2022-11-25T03:39:15.518Z"
   },
   {
    "duration": 573,
    "start_time": "2022-11-25T03:39:27.178Z"
   },
   {
    "duration": 510,
    "start_time": "2022-11-25T03:41:15.741Z"
   },
   {
    "duration": 2896,
    "start_time": "2022-11-26T00:12:32.893Z"
   },
   {
    "duration": 1476,
    "start_time": "2022-11-26T00:12:35.791Z"
   },
   {
    "duration": 954,
    "start_time": "2022-11-26T00:12:37.268Z"
   },
   {
    "duration": 374,
    "start_time": "2022-11-26T00:12:38.224Z"
   },
   {
    "duration": 28,
    "start_time": "2022-11-26T00:12:38.600Z"
   },
   {
    "duration": 6,
    "start_time": "2022-11-26T00:12:38.629Z"
   },
   {
    "duration": 122,
    "start_time": "2022-11-26T00:12:38.637Z"
   },
   {
    "duration": 858,
    "start_time": "2022-11-26T00:12:38.760Z"
   },
   {
    "duration": 264,
    "start_time": "2022-11-26T00:12:39.620Z"
   },
   {
    "duration": 569,
    "start_time": "2022-11-26T00:12:39.886Z"
   },
   {
    "duration": 4,
    "start_time": "2022-11-26T00:12:40.456Z"
   },
   {
    "duration": 14,
    "start_time": "2022-11-26T00:12:40.461Z"
   },
   {
    "duration": 40,
    "start_time": "2022-11-26T00:12:40.477Z"
   },
   {
    "duration": 118,
    "start_time": "2022-11-26T00:12:40.518Z"
   },
   {
    "duration": 376,
    "start_time": "2022-11-26T00:12:40.638Z"
   },
   {
    "duration": 294,
    "start_time": "2022-11-26T00:12:41.015Z"
   },
   {
    "duration": 17,
    "start_time": "2022-11-26T00:12:41.310Z"
   },
   {
    "duration": 103,
    "start_time": "2022-11-26T00:12:41.329Z"
   },
   {
    "duration": 257,
    "start_time": "2022-11-26T00:12:41.434Z"
   },
   {
    "duration": 265,
    "start_time": "2022-11-26T00:12:41.692Z"
   },
   {
    "duration": 212,
    "start_time": "2022-11-26T00:12:41.958Z"
   },
   {
    "duration": 14,
    "start_time": "2022-11-26T00:12:42.172Z"
   },
   {
    "duration": 34,
    "start_time": "2022-11-26T00:12:42.187Z"
   },
   {
    "duration": 180,
    "start_time": "2022-11-26T00:12:42.222Z"
   },
   {
    "duration": 62,
    "start_time": "2022-11-26T00:12:42.404Z"
   },
   {
    "duration": 31,
    "start_time": "2022-11-26T00:12:42.467Z"
   },
   {
    "duration": 83,
    "start_time": "2022-11-26T00:12:42.500Z"
   },
   {
    "duration": 13,
    "start_time": "2022-11-26T00:12:42.590Z"
   },
   {
    "duration": 17,
    "start_time": "2022-11-26T00:12:42.604Z"
   },
   {
    "duration": 2720,
    "start_time": "2022-11-26T00:12:42.623Z"
   },
   {
    "duration": 12,
    "start_time": "2022-11-26T00:12:45.345Z"
   },
   {
    "duration": 98,
    "start_time": "2022-11-26T00:12:45.358Z"
   },
   {
    "duration": 13,
    "start_time": "2022-11-26T00:12:45.458Z"
   },
   {
    "duration": 1848,
    "start_time": "2022-11-26T00:12:45.473Z"
   },
   {
    "duration": 53,
    "start_time": "2022-11-26T00:12:47.323Z"
   },
   {
    "duration": 8,
    "start_time": "2022-11-26T00:12:47.378Z"
   },
   {
    "duration": 123,
    "start_time": "2022-11-26T00:12:47.388Z"
   },
   {
    "duration": 16,
    "start_time": "2022-11-26T00:12:47.513Z"
   },
   {
    "duration": 24,
    "start_time": "2022-11-26T00:12:47.530Z"
   },
   {
    "duration": 367,
    "start_time": "2022-11-26T00:12:47.555Z"
   },
   {
    "duration": 313,
    "start_time": "2022-11-26T00:12:47.924Z"
   },
   {
    "duration": 1977,
    "start_time": "2022-11-26T00:13:00.564Z"
   },
   {
    "duration": 1300,
    "start_time": "2022-11-26T00:13:02.543Z"
   },
   {
    "duration": 744,
    "start_time": "2022-11-26T00:13:03.844Z"
   },
   {
    "duration": 364,
    "start_time": "2022-11-26T00:13:04.591Z"
   },
   {
    "duration": 18,
    "start_time": "2022-11-26T00:13:04.957Z"
   },
   {
    "duration": 7,
    "start_time": "2022-11-26T00:13:04.977Z"
   },
   {
    "duration": 143,
    "start_time": "2022-11-26T00:13:04.985Z"
   },
   {
    "duration": 911,
    "start_time": "2022-11-26T00:13:05.130Z"
   },
   {
    "duration": 278,
    "start_time": "2022-11-26T00:13:06.043Z"
   },
   {
    "duration": 588,
    "start_time": "2022-11-26T00:13:06.323Z"
   },
   {
    "duration": 3,
    "start_time": "2022-11-26T00:13:06.913Z"
   },
   {
    "duration": 11,
    "start_time": "2022-11-26T00:13:06.918Z"
   },
   {
    "duration": 40,
    "start_time": "2022-11-26T00:13:06.930Z"
   },
   {
    "duration": 62,
    "start_time": "2022-11-26T00:13:06.972Z"
   },
   {
    "duration": 443,
    "start_time": "2022-11-26T00:13:07.035Z"
   },
   {
    "duration": 275,
    "start_time": "2022-11-26T00:13:07.479Z"
   },
   {
    "duration": 10,
    "start_time": "2022-11-26T00:13:07.756Z"
   },
   {
    "duration": 105,
    "start_time": "2022-11-26T00:13:07.768Z"
   },
   {
    "duration": 251,
    "start_time": "2022-11-26T00:13:07.875Z"
   },
   {
    "duration": 265,
    "start_time": "2022-11-26T00:13:08.127Z"
   },
   {
    "duration": 232,
    "start_time": "2022-11-26T00:13:08.394Z"
   },
   {
    "duration": 14,
    "start_time": "2022-11-26T00:13:08.628Z"
   },
   {
    "duration": 18,
    "start_time": "2022-11-26T00:13:08.644Z"
   },
   {
    "duration": 202,
    "start_time": "2022-11-26T00:13:08.664Z"
   },
   {
    "duration": 60,
    "start_time": "2022-11-26T00:13:08.867Z"
   },
   {
    "duration": 33,
    "start_time": "2022-11-26T00:13:08.929Z"
   },
   {
    "duration": 87,
    "start_time": "2022-11-26T00:13:08.963Z"
   },
   {
    "duration": 18,
    "start_time": "2022-11-26T00:13:09.053Z"
   },
   {
    "duration": 6,
    "start_time": "2022-11-26T00:13:09.073Z"
   },
   {
    "duration": 2577,
    "start_time": "2022-11-26T00:13:09.080Z"
   },
   {
    "duration": 10,
    "start_time": "2022-11-26T00:13:11.659Z"
   },
   {
    "duration": 83,
    "start_time": "2022-11-26T00:13:11.670Z"
   },
   {
    "duration": 24,
    "start_time": "2022-11-26T00:13:11.755Z"
   },
   {
    "duration": 1809,
    "start_time": "2022-11-26T00:13:11.781Z"
   },
   {
    "duration": 55,
    "start_time": "2022-11-26T00:13:13.592Z"
   },
   {
    "duration": 13,
    "start_time": "2022-11-26T00:13:13.648Z"
   },
   {
    "duration": 108,
    "start_time": "2022-11-26T00:13:13.663Z"
   },
   {
    "duration": 16,
    "start_time": "2022-11-26T00:13:13.772Z"
   },
   {
    "duration": 32,
    "start_time": "2022-11-26T00:13:13.790Z"
   },
   {
    "duration": 389,
    "start_time": "2022-11-26T00:13:13.824Z"
   },
   {
    "duration": 320,
    "start_time": "2022-11-26T00:13:14.214Z"
   },
   {
    "duration": 359794,
    "start_time": "2022-11-26T00:13:14.535Z"
   },
   {
    "duration": 588,
    "start_time": "2022-11-26T00:19:14.330Z"
   },
   {
    "duration": 21609,
    "start_time": "2022-11-26T00:19:14.919Z"
   },
   {
    "duration": 291,
    "start_time": "2022-11-26T00:19:36.530Z"
   },
   {
    "duration": 0,
    "start_time": "2022-11-26T00:19:36.822Z"
   },
   {
    "duration": 0,
    "start_time": "2022-11-26T00:19:36.824Z"
   },
   {
    "duration": 0,
    "start_time": "2022-11-26T00:19:36.825Z"
   },
   {
    "duration": 0,
    "start_time": "2022-11-26T00:19:36.826Z"
   },
   {
    "duration": 0,
    "start_time": "2022-11-26T00:19:36.827Z"
   },
   {
    "duration": 0,
    "start_time": "2022-11-26T00:19:36.828Z"
   },
   {
    "duration": 4,
    "start_time": "2022-11-26T00:21:44.354Z"
   },
   {
    "duration": 21879,
    "start_time": "2022-11-26T00:21:53.444Z"
   },
   {
    "duration": 0,
    "start_time": "2022-11-26T00:22:15.326Z"
   },
   {
    "duration": 4,
    "start_time": "2022-11-26T00:22:48.278Z"
   },
   {
    "duration": 20717,
    "start_time": "2022-11-26T00:22:57.124Z"
   },
   {
    "duration": 79,
    "start_time": "2022-11-26T00:23:17.844Z"
   },
   {
    "duration": 130,
    "start_time": "2022-11-26T00:23:17.925Z"
   },
   {
    "duration": 0,
    "start_time": "2022-11-26T00:23:18.057Z"
   },
   {
    "duration": 0,
    "start_time": "2022-11-26T00:23:18.058Z"
   },
   {
    "duration": 85,
    "start_time": "2022-11-26T00:23:29.292Z"
   },
   {
    "duration": 55235,
    "start_time": "2022-11-26T00:23:42.711Z"
   },
   {
    "duration": 4,
    "start_time": "2022-11-26T00:24:37.948Z"
   },
   {
    "duration": 113,
    "start_time": "2022-11-26T00:24:37.954Z"
   },
   {
    "duration": 6,
    "start_time": "2022-11-26T00:24:38.070Z"
   },
   {
    "duration": 0,
    "start_time": "2022-11-26T00:24:38.078Z"
   },
   {
    "duration": 0,
    "start_time": "2022-11-26T00:24:38.079Z"
   },
   {
    "duration": 18599,
    "start_time": "2022-11-26T00:25:01.976Z"
   },
   {
    "duration": 9,
    "start_time": "2022-11-26T00:25:20.577Z"
   },
   {
    "duration": 22050,
    "start_time": "2022-11-26T00:25:28.379Z"
   },
   {
    "duration": 4,
    "start_time": "2022-11-26T00:25:50.430Z"
   },
   {
    "duration": 574,
    "start_time": "2022-11-26T00:28:18.361Z"
   },
   {
    "duration": 25937,
    "start_time": "2022-11-26T00:28:26.581Z"
   },
   {
    "duration": 48,
    "start_time": "2022-11-26T00:53:08.794Z"
   },
   {
    "duration": 506,
    "start_time": "2022-11-26T00:53:15.847Z"
   },
   {
    "duration": 522,
    "start_time": "2022-11-26T00:53:23.612Z"
   },
   {
    "duration": 511,
    "start_time": "2022-11-26T00:53:35.209Z"
   },
   {
    "duration": 9,
    "start_time": "2022-11-26T00:53:54.529Z"
   },
   {
    "duration": 21,
    "start_time": "2022-11-26T00:53:58.136Z"
   },
   {
    "duration": 9,
    "start_time": "2022-11-26T00:54:10.900Z"
   },
   {
    "duration": 20,
    "start_time": "2022-11-26T00:54:14.317Z"
   },
   {
    "duration": 9,
    "start_time": "2022-11-26T00:54:31.195Z"
   },
   {
    "duration": 26,
    "start_time": "2022-11-26T00:54:35.500Z"
   },
   {
    "duration": 517,
    "start_time": "2022-11-26T00:55:13.478Z"
   },
   {
    "duration": 108760,
    "start_time": "2022-11-26T00:56:01.901Z"
   },
   {
    "duration": 56100,
    "start_time": "2022-11-26T00:59:47.186Z"
   },
   {
    "duration": 4,
    "start_time": "2022-11-26T01:00:43.289Z"
   },
   {
    "duration": 20557,
    "start_time": "2022-11-26T01:00:43.294Z"
   },
   {
    "duration": 3,
    "start_time": "2022-11-26T01:01:03.853Z"
   },
   {
    "duration": 82392,
    "start_time": "2022-11-26T01:01:50.240Z"
   },
   {
    "duration": 493399,
    "start_time": "2022-11-26T01:04:25.155Z"
   },
   {
    "duration": 490058,
    "start_time": "2022-11-26T01:18:19.116Z"
   },
   {
    "duration": 131,
    "start_time": "2022-11-26T01:28:20.291Z"
   },
   {
    "duration": 41503,
    "start_time": "2022-11-26T01:28:30.223Z"
   },
   {
    "duration": 4,
    "start_time": "2022-11-26T01:29:11.728Z"
   },
   {
    "duration": 42242,
    "start_time": "2022-11-26T01:30:16.938Z"
   },
   {
    "duration": 4,
    "start_time": "2022-11-26T01:30:59.182Z"
   },
   {
    "duration": 13528,
    "start_time": "2022-11-26T01:31:55.394Z"
   },
   {
    "duration": 4,
    "start_time": "2022-11-26T01:32:08.924Z"
   },
   {
    "duration": 46,
    "start_time": "2022-11-26T01:46:05.606Z"
   },
   {
    "duration": 8,
    "start_time": "2022-11-26T01:46:06.231Z"
   },
   {
    "duration": 42,
    "start_time": "2022-11-26T01:46:23.241Z"
   },
   {
    "duration": 62,
    "start_time": "2022-11-26T01:49:43.671Z"
   },
   {
    "duration": 47,
    "start_time": "2022-11-26T01:49:52.478Z"
   },
   {
    "duration": 48,
    "start_time": "2022-11-26T01:50:22.800Z"
   },
   {
    "duration": 10,
    "start_time": "2022-11-26T01:50:38.319Z"
   },
   {
    "duration": 9,
    "start_time": "2022-11-26T01:50:57.254Z"
   },
   {
    "duration": 56478,
    "start_time": "2022-11-26T01:51:10.127Z"
   },
   {
    "duration": 3,
    "start_time": "2022-11-26T01:52:06.606Z"
   },
   {
    "duration": 35,
    "start_time": "2022-11-26T01:52:06.611Z"
   },
   {
    "duration": 42180,
    "start_time": "2022-11-26T01:52:25.598Z"
   },
   {
    "duration": 4,
    "start_time": "2022-11-26T01:53:07.780Z"
   },
   {
    "duration": 4,
    "start_time": "2022-11-26T01:53:07.785Z"
   },
   {
    "duration": 10,
    "start_time": "2022-11-26T01:53:07.791Z"
   },
   {
    "duration": 3,
    "start_time": "2022-11-26T01:53:14.096Z"
   },
   {
    "duration": 8,
    "start_time": "2022-11-26T01:53:16.583Z"
   },
   {
    "duration": 3,
    "start_time": "2022-11-26T01:53:38.940Z"
   },
   {
    "duration": 4,
    "start_time": "2022-11-26T01:53:39.192Z"
   },
   {
    "duration": 7,
    "start_time": "2022-11-26T01:53:39.371Z"
   },
   {
    "duration": 46,
    "start_time": "2022-11-26T01:55:01.179Z"
   },
   {
    "duration": 53,
    "start_time": "2022-11-26T01:55:09.954Z"
   },
   {
    "duration": 4,
    "start_time": "2022-11-26T01:55:15.368Z"
   },
   {
    "duration": 4,
    "start_time": "2022-11-26T01:55:21.159Z"
   },
   {
    "duration": 4,
    "start_time": "2022-11-26T01:55:22.593Z"
   },
   {
    "duration": 8,
    "start_time": "2022-11-26T01:55:22.744Z"
   },
   {
    "duration": 4,
    "start_time": "2022-11-26T01:57:20.607Z"
   },
   {
    "duration": 3,
    "start_time": "2022-11-26T01:57:20.977Z"
   },
   {
    "duration": 9,
    "start_time": "2022-11-26T01:57:21.152Z"
   },
   {
    "duration": 8,
    "start_time": "2022-11-26T02:03:05.095Z"
   },
   {
    "duration": 8,
    "start_time": "2022-11-26T02:03:23.113Z"
   },
   {
    "duration": 4,
    "start_time": "2022-11-26T17:57:51.078Z"
   },
   {
    "duration": 52,
    "start_time": "2022-11-28T08:50:28.670Z"
   },
   {
    "duration": 49,
    "start_time": "2022-11-28T11:26:02.033Z"
   },
   {
    "duration": 4,
    "start_time": "2022-11-28T11:52:44.049Z"
   },
   {
    "duration": 1620,
    "start_time": "2022-11-28T11:52:44.056Z"
   },
   {
    "duration": 0,
    "start_time": "2022-11-28T11:52:45.681Z"
   },
   {
    "duration": 0,
    "start_time": "2022-11-28T11:52:45.682Z"
   },
   {
    "duration": 0,
    "start_time": "2022-11-28T11:52:45.683Z"
   },
   {
    "duration": 0,
    "start_time": "2022-11-28T11:52:45.684Z"
   },
   {
    "duration": 0,
    "start_time": "2022-11-28T11:52:45.685Z"
   },
   {
    "duration": 0,
    "start_time": "2022-11-28T11:52:45.686Z"
   },
   {
    "duration": 0,
    "start_time": "2022-11-28T11:52:45.687Z"
   },
   {
    "duration": 0,
    "start_time": "2022-11-28T11:52:45.688Z"
   },
   {
    "duration": 0,
    "start_time": "2022-11-28T11:52:45.689Z"
   },
   {
    "duration": 0,
    "start_time": "2022-11-28T11:52:45.689Z"
   },
   {
    "duration": 0,
    "start_time": "2022-11-28T11:52:45.690Z"
   },
   {
    "duration": 0,
    "start_time": "2022-11-28T11:52:45.691Z"
   },
   {
    "duration": 0,
    "start_time": "2022-11-28T11:52:45.692Z"
   },
   {
    "duration": 0,
    "start_time": "2022-11-28T11:52:45.693Z"
   },
   {
    "duration": 0,
    "start_time": "2022-11-28T11:52:45.694Z"
   },
   {
    "duration": 0,
    "start_time": "2022-11-28T11:52:45.695Z"
   },
   {
    "duration": 0,
    "start_time": "2022-11-28T11:52:45.695Z"
   },
   {
    "duration": 0,
    "start_time": "2022-11-28T11:52:45.696Z"
   },
   {
    "duration": 0,
    "start_time": "2022-11-28T11:52:45.696Z"
   },
   {
    "duration": 0,
    "start_time": "2022-11-28T11:52:45.697Z"
   },
   {
    "duration": 0,
    "start_time": "2022-11-28T11:52:45.697Z"
   },
   {
    "duration": 0,
    "start_time": "2022-11-28T11:52:45.712Z"
   },
   {
    "duration": 0,
    "start_time": "2022-11-28T11:52:45.715Z"
   },
   {
    "duration": 0,
    "start_time": "2022-11-28T11:52:45.716Z"
   },
   {
    "duration": 0,
    "start_time": "2022-11-28T11:52:45.718Z"
   },
   {
    "duration": 0,
    "start_time": "2022-11-28T11:52:45.719Z"
   },
   {
    "duration": 0,
    "start_time": "2022-11-28T11:52:45.720Z"
   },
   {
    "duration": 0,
    "start_time": "2022-11-28T11:52:45.721Z"
   },
   {
    "duration": 0,
    "start_time": "2022-11-28T11:52:45.722Z"
   },
   {
    "duration": 0,
    "start_time": "2022-11-28T11:52:45.724Z"
   },
   {
    "duration": 0,
    "start_time": "2022-11-28T11:52:45.725Z"
   },
   {
    "duration": 0,
    "start_time": "2022-11-28T11:52:45.726Z"
   },
   {
    "duration": 0,
    "start_time": "2022-11-28T11:52:45.728Z"
   },
   {
    "duration": 0,
    "start_time": "2022-11-28T11:52:45.729Z"
   },
   {
    "duration": 0,
    "start_time": "2022-11-28T11:52:45.731Z"
   },
   {
    "duration": 0,
    "start_time": "2022-11-28T11:52:45.732Z"
   },
   {
    "duration": 0,
    "start_time": "2022-11-28T11:52:45.733Z"
   },
   {
    "duration": 0,
    "start_time": "2022-11-28T11:52:45.735Z"
   },
   {
    "duration": 0,
    "start_time": "2022-11-28T11:52:45.736Z"
   },
   {
    "duration": 0,
    "start_time": "2022-11-28T11:52:45.738Z"
   },
   {
    "duration": 0,
    "start_time": "2022-11-28T11:52:45.739Z"
   },
   {
    "duration": 0,
    "start_time": "2022-11-28T11:52:45.741Z"
   },
   {
    "duration": 0,
    "start_time": "2022-11-28T11:52:45.742Z"
   },
   {
    "duration": 0,
    "start_time": "2022-11-28T11:52:45.743Z"
   },
   {
    "duration": 0,
    "start_time": "2022-11-28T11:52:45.745Z"
   },
   {
    "duration": 0,
    "start_time": "2022-11-28T11:52:45.746Z"
   },
   {
    "duration": 0,
    "start_time": "2022-11-28T11:52:45.748Z"
   },
   {
    "duration": 0,
    "start_time": "2022-11-28T11:52:45.813Z"
   },
   {
    "duration": 0,
    "start_time": "2022-11-28T11:52:45.814Z"
   },
   {
    "duration": 0,
    "start_time": "2022-11-28T11:52:45.816Z"
   },
   {
    "duration": 0,
    "start_time": "2022-11-28T11:52:45.817Z"
   },
   {
    "duration": 0,
    "start_time": "2022-11-28T11:52:45.818Z"
   },
   {
    "duration": 0,
    "start_time": "2022-11-28T11:52:45.820Z"
   },
   {
    "duration": 0,
    "start_time": "2022-11-28T11:52:45.821Z"
   },
   {
    "duration": 0,
    "start_time": "2022-11-28T11:52:45.822Z"
   },
   {
    "duration": 0,
    "start_time": "2022-11-28T11:52:45.823Z"
   },
   {
    "duration": 0,
    "start_time": "2022-11-28T11:52:45.824Z"
   },
   {
    "duration": 0,
    "start_time": "2022-11-28T11:52:45.826Z"
   },
   {
    "duration": 3634,
    "start_time": "2022-11-28T12:03:31.397Z"
   },
   {
    "duration": 1933,
    "start_time": "2022-11-28T12:03:35.036Z"
   },
   {
    "duration": 1318,
    "start_time": "2022-11-28T12:03:36.971Z"
   },
   {
    "duration": 444,
    "start_time": "2022-11-28T12:03:38.292Z"
   },
   {
    "duration": 21,
    "start_time": "2022-11-28T12:03:38.738Z"
   },
   {
    "duration": 8,
    "start_time": "2022-11-28T12:03:38.760Z"
   },
   {
    "duration": 160,
    "start_time": "2022-11-28T12:03:38.769Z"
   },
   {
    "duration": 1185,
    "start_time": "2022-11-28T12:03:38.931Z"
   },
   {
    "duration": 375,
    "start_time": "2022-11-28T12:03:40.121Z"
   },
   {
    "duration": 703,
    "start_time": "2022-11-28T12:03:40.498Z"
   },
   {
    "duration": 15,
    "start_time": "2022-11-28T12:03:41.204Z"
   },
   {
    "duration": 48,
    "start_time": "2022-11-28T12:03:41.222Z"
   },
   {
    "duration": 62,
    "start_time": "2022-11-28T12:03:41.273Z"
   },
   {
    "duration": 304,
    "start_time": "2022-11-28T12:03:41.340Z"
   },
   {
    "duration": 1410,
    "start_time": "2022-11-28T12:03:41.646Z"
   },
   {
    "duration": 675,
    "start_time": "2022-11-28T12:03:43.058Z"
   },
   {
    "duration": 14,
    "start_time": "2022-11-28T12:03:43.734Z"
   },
   {
    "duration": 117,
    "start_time": "2022-11-28T12:03:43.750Z"
   },
   {
    "duration": 339,
    "start_time": "2022-11-28T12:03:43.869Z"
   },
   {
    "duration": 350,
    "start_time": "2022-11-28T12:03:44.215Z"
   },
   {
    "duration": 290,
    "start_time": "2022-11-28T12:03:44.567Z"
   },
   {
    "duration": 17,
    "start_time": "2022-11-28T12:03:44.860Z"
   },
   {
    "duration": 46,
    "start_time": "2022-11-28T12:03:44.879Z"
   },
   {
    "duration": 240,
    "start_time": "2022-11-28T12:03:44.929Z"
   },
   {
    "duration": 65,
    "start_time": "2022-11-28T12:03:45.170Z"
   },
   {
    "duration": 33,
    "start_time": "2022-11-28T12:03:45.237Z"
   },
   {
    "duration": 126,
    "start_time": "2022-11-28T12:03:45.274Z"
   },
   {
    "duration": 27,
    "start_time": "2022-11-28T12:03:45.402Z"
   },
   {
    "duration": 4,
    "start_time": "2022-11-28T12:03:45.431Z"
   },
   {
    "duration": 3314,
    "start_time": "2022-11-28T12:03:45.436Z"
   },
   {
    "duration": 13,
    "start_time": "2022-11-28T12:03:48.751Z"
   },
   {
    "duration": 102,
    "start_time": "2022-11-28T12:03:48.766Z"
   },
   {
    "duration": 16,
    "start_time": "2022-11-28T12:03:48.870Z"
   },
   {
    "duration": 2501,
    "start_time": "2022-11-28T12:03:48.888Z"
   },
   {
    "duration": 69,
    "start_time": "2022-11-28T12:03:51.392Z"
   },
   {
    "duration": 20,
    "start_time": "2022-11-28T12:03:51.463Z"
   },
   {
    "duration": 160,
    "start_time": "2022-11-28T12:03:51.486Z"
   },
   {
    "duration": 19,
    "start_time": "2022-11-28T12:03:51.648Z"
   },
   {
    "duration": 47,
    "start_time": "2022-11-28T12:03:51.669Z"
   },
   {
    "duration": 12,
    "start_time": "2022-11-28T12:03:51.722Z"
   },
   {
    "duration": 46,
    "start_time": "2022-11-28T12:03:51.739Z"
   },
   {
    "duration": 732,
    "start_time": "2022-11-28T12:03:51.787Z"
   },
   {
    "duration": 142,
    "start_time": "2022-11-28T12:03:52.525Z"
   },
   {
    "duration": 0,
    "start_time": "2022-11-28T12:03:52.669Z"
   },
   {
    "duration": 0,
    "start_time": "2022-11-28T12:03:52.671Z"
   },
   {
    "duration": 0,
    "start_time": "2022-11-28T12:03:52.672Z"
   },
   {
    "duration": 0,
    "start_time": "2022-11-28T12:03:52.673Z"
   },
   {
    "duration": 0,
    "start_time": "2022-11-28T12:03:52.675Z"
   },
   {
    "duration": 0,
    "start_time": "2022-11-28T12:03:52.676Z"
   },
   {
    "duration": 0,
    "start_time": "2022-11-28T12:03:52.677Z"
   },
   {
    "duration": 0,
    "start_time": "2022-11-28T12:03:52.679Z"
   },
   {
    "duration": 0,
    "start_time": "2022-11-28T12:03:52.680Z"
   },
   {
    "duration": 0,
    "start_time": "2022-11-28T12:03:52.682Z"
   },
   {
    "duration": 0,
    "start_time": "2022-11-28T12:03:52.683Z"
   },
   {
    "duration": 0,
    "start_time": "2022-11-28T12:03:52.684Z"
   },
   {
    "duration": 0,
    "start_time": "2022-11-28T12:03:52.686Z"
   },
   {
    "duration": 0,
    "start_time": "2022-11-28T12:03:52.726Z"
   },
   {
    "duration": 0,
    "start_time": "2022-11-28T12:03:52.727Z"
   },
   {
    "duration": 0,
    "start_time": "2022-11-28T12:03:52.727Z"
   },
   {
    "duration": 0,
    "start_time": "2022-11-28T12:03:52.728Z"
   },
   {
    "duration": 368,
    "start_time": "2022-11-28T12:07:38.423Z"
   },
   {
    "duration": 15,
    "start_time": "2022-11-28T12:08:13.767Z"
   },
   {
    "duration": 822,
    "start_time": "2022-11-28T12:08:55.194Z"
   },
   {
    "duration": 78,
    "start_time": "2022-11-28T12:09:14.697Z"
   },
   {
    "duration": 265,
    "start_time": "2022-11-28T12:09:44.303Z"
   },
   {
    "duration": 113,
    "start_time": "2022-11-28T12:10:19.343Z"
   },
   {
    "duration": 368,
    "start_time": "2022-11-28T12:10:45.856Z"
   },
   {
    "duration": 79,
    "start_time": "2022-11-28T12:17:49.506Z"
   },
   {
    "duration": 241,
    "start_time": "2022-11-28T12:18:02.666Z"
   },
   {
    "duration": 67,
    "start_time": "2022-11-28T12:27:04.568Z"
   },
   {
    "duration": 231,
    "start_time": "2022-11-28T12:27:34.935Z"
   },
   {
    "duration": 228,
    "start_time": "2022-11-28T12:30:40.898Z"
   },
   {
    "duration": 560,
    "start_time": "2022-11-28T12:32:33.363Z"
   },
   {
    "duration": 574,
    "start_time": "2022-11-28T12:32:45.216Z"
   },
   {
    "duration": 574,
    "start_time": "2022-11-28T12:33:16.640Z"
   },
   {
    "duration": 431,
    "start_time": "2022-11-28T13:16:51.501Z"
   },
   {
    "duration": 533,
    "start_time": "2022-11-28T13:16:59.129Z"
   },
   {
    "duration": 496,
    "start_time": "2022-11-28T13:17:13.009Z"
   },
   {
    "duration": 18,
    "start_time": "2022-11-28T13:20:12.165Z"
   },
   {
    "duration": 54,
    "start_time": "2022-11-28T13:21:08.718Z"
   },
   {
    "duration": 17,
    "start_time": "2022-11-28T13:21:42.944Z"
   },
   {
    "duration": 583,
    "start_time": "2022-11-28T13:22:00.347Z"
   },
   {
    "duration": 21,
    "start_time": "2022-11-28T13:22:07.800Z"
   },
   {
    "duration": 21,
    "start_time": "2022-11-28T13:22:31.529Z"
   },
   {
    "duration": 41,
    "start_time": "2022-11-28T13:22:59.482Z"
   },
   {
    "duration": 11,
    "start_time": "2022-11-28T13:23:04.270Z"
   },
   {
    "duration": 8,
    "start_time": "2022-11-28T13:23:07.748Z"
   },
   {
    "duration": 9,
    "start_time": "2022-11-28T13:23:10.439Z"
   },
   {
    "duration": 170,
    "start_time": "2022-11-28T13:23:16.332Z"
   },
   {
    "duration": 4,
    "start_time": "2022-11-28T13:23:18.918Z"
   },
   {
    "duration": 9,
    "start_time": "2022-11-28T13:23:20.512Z"
   },
   {
    "duration": 21,
    "start_time": "2022-11-28T13:23:44.055Z"
   },
   {
    "duration": 30,
    "start_time": "2022-11-28T13:24:00.934Z"
   },
   {
    "duration": 7,
    "start_time": "2022-11-28T13:24:17.152Z"
   },
   {
    "duration": 2242,
    "start_time": "2022-11-28T13:24:25.554Z"
   },
   {
    "duration": 1623,
    "start_time": "2022-11-28T13:24:27.799Z"
   },
   {
    "duration": 1009,
    "start_time": "2022-11-28T13:24:29.423Z"
   },
   {
    "duration": 374,
    "start_time": "2022-11-28T13:24:30.435Z"
   },
   {
    "duration": 21,
    "start_time": "2022-11-28T13:24:30.810Z"
   },
   {
    "duration": 23,
    "start_time": "2022-11-28T13:24:30.833Z"
   },
   {
    "duration": 126,
    "start_time": "2022-11-28T13:24:30.857Z"
   },
   {
    "duration": 1021,
    "start_time": "2022-11-28T13:24:30.985Z"
   },
   {
    "duration": 341,
    "start_time": "2022-11-28T13:24:32.007Z"
   },
   {
    "duration": 614,
    "start_time": "2022-11-28T13:24:32.351Z"
   },
   {
    "duration": 4,
    "start_time": "2022-11-28T13:24:32.967Z"
   },
   {
    "duration": 6,
    "start_time": "2022-11-28T13:24:32.973Z"
   },
   {
    "duration": 58,
    "start_time": "2022-11-28T13:24:32.980Z"
   },
   {
    "duration": 73,
    "start_time": "2022-11-28T13:24:33.040Z"
   },
   {
    "duration": 544,
    "start_time": "2022-11-28T13:24:33.115Z"
   },
   {
    "duration": 337,
    "start_time": "2022-11-28T13:24:33.661Z"
   },
   {
    "duration": 19,
    "start_time": "2022-11-28T13:24:34.000Z"
   },
   {
    "duration": 104,
    "start_time": "2022-11-28T13:24:34.020Z"
   },
   {
    "duration": 313,
    "start_time": "2022-11-28T13:24:34.126Z"
   },
   {
    "duration": 332,
    "start_time": "2022-11-28T13:24:34.441Z"
   },
   {
    "duration": 285,
    "start_time": "2022-11-28T13:24:34.774Z"
   },
   {
    "duration": 17,
    "start_time": "2022-11-28T13:24:35.062Z"
   },
   {
    "duration": 35,
    "start_time": "2022-11-28T13:24:35.081Z"
   },
   {
    "duration": 245,
    "start_time": "2022-11-28T13:24:35.119Z"
   },
   {
    "duration": 59,
    "start_time": "2022-11-28T13:24:35.366Z"
   },
   {
    "duration": 41,
    "start_time": "2022-11-28T13:24:35.427Z"
   },
   {
    "duration": 90,
    "start_time": "2022-11-28T13:24:35.470Z"
   },
   {
    "duration": 13,
    "start_time": "2022-11-28T13:24:35.564Z"
   },
   {
    "duration": 10,
    "start_time": "2022-11-28T13:24:35.579Z"
   },
   {
    "duration": 3054,
    "start_time": "2022-11-28T13:24:35.591Z"
   },
   {
    "duration": 11,
    "start_time": "2022-11-28T13:24:38.647Z"
   },
   {
    "duration": 114,
    "start_time": "2022-11-28T13:24:38.659Z"
   },
   {
    "duration": 15,
    "start_time": "2022-11-28T13:24:38.774Z"
   },
   {
    "duration": 2159,
    "start_time": "2022-11-28T13:24:38.791Z"
   },
   {
    "duration": 62,
    "start_time": "2022-11-28T13:24:40.951Z"
   },
   {
    "duration": 20,
    "start_time": "2022-11-28T13:24:41.016Z"
   },
   {
    "duration": 147,
    "start_time": "2022-11-28T13:24:41.037Z"
   },
   {
    "duration": 17,
    "start_time": "2022-11-28T13:24:41.186Z"
   },
   {
    "duration": 34,
    "start_time": "2022-11-28T13:24:41.204Z"
   },
   {
    "duration": 6,
    "start_time": "2022-11-28T13:24:41.239Z"
   },
   {
    "duration": 65,
    "start_time": "2022-11-28T13:24:41.247Z"
   },
   {
    "duration": 388,
    "start_time": "2022-11-28T13:24:41.314Z"
   },
   {
    "duration": 20,
    "start_time": "2022-11-28T13:24:41.703Z"
   },
   {
    "duration": 565,
    "start_time": "2022-11-28T13:24:41.725Z"
   },
   {
    "duration": 96928,
    "start_time": "2022-11-28T13:24:42.292Z"
   },
   {
    "duration": 1523752,
    "start_time": "2022-11-28T13:26:19.222Z"
   },
   {
    "duration": 2334,
    "start_time": "2022-11-28T13:53:04.558Z"
   },
   {
    "duration": 1606,
    "start_time": "2022-11-28T13:53:06.895Z"
   },
   {
    "duration": 935,
    "start_time": "2022-11-28T13:53:08.503Z"
   },
   {
    "duration": 385,
    "start_time": "2022-11-28T13:53:09.440Z"
   },
   {
    "duration": 19,
    "start_time": "2022-11-28T13:53:09.827Z"
   },
   {
    "duration": 32,
    "start_time": "2022-11-28T13:53:09.848Z"
   },
   {
    "duration": 233,
    "start_time": "2022-11-28T13:53:09.882Z"
   },
   {
    "duration": 1105,
    "start_time": "2022-11-28T13:53:10.117Z"
   },
   {
    "duration": 340,
    "start_time": "2022-11-28T13:53:11.224Z"
   },
   {
    "duration": 625,
    "start_time": "2022-11-28T13:53:11.567Z"
   },
   {
    "duration": 5,
    "start_time": "2022-11-28T13:53:12.194Z"
   },
   {
    "duration": 15,
    "start_time": "2022-11-28T13:53:12.201Z"
   },
   {
    "duration": 57,
    "start_time": "2022-11-28T13:53:12.218Z"
   },
   {
    "duration": 88,
    "start_time": "2022-11-28T13:53:12.277Z"
   },
   {
    "duration": 560,
    "start_time": "2022-11-28T13:53:12.367Z"
   },
   {
    "duration": 335,
    "start_time": "2022-11-28T13:53:12.929Z"
   },
   {
    "duration": 13,
    "start_time": "2022-11-28T13:53:13.266Z"
   },
   {
    "duration": 134,
    "start_time": "2022-11-28T13:53:13.281Z"
   },
   {
    "duration": 298,
    "start_time": "2022-11-28T13:53:13.417Z"
   },
   {
    "duration": 332,
    "start_time": "2022-11-28T13:53:13.717Z"
   },
   {
    "duration": 276,
    "start_time": "2022-11-28T13:53:14.051Z"
   },
   {
    "duration": 16,
    "start_time": "2022-11-28T13:53:14.329Z"
   },
   {
    "duration": 24,
    "start_time": "2022-11-28T13:53:14.347Z"
   },
   {
    "duration": 250,
    "start_time": "2022-11-28T13:53:14.373Z"
   },
   {
    "duration": 53,
    "start_time": "2022-11-28T13:53:14.624Z"
   },
   {
    "duration": 52,
    "start_time": "2022-11-28T13:53:14.679Z"
   },
   {
    "duration": 92,
    "start_time": "2022-11-28T13:53:14.733Z"
   },
   {
    "duration": 16,
    "start_time": "2022-11-28T13:53:14.829Z"
   },
   {
    "duration": 4,
    "start_time": "2022-11-28T13:53:14.847Z"
   },
   {
    "duration": 3229,
    "start_time": "2022-11-28T13:53:14.853Z"
   },
   {
    "duration": 12,
    "start_time": "2022-11-28T13:53:18.084Z"
   },
   {
    "duration": 105,
    "start_time": "2022-11-28T13:53:18.112Z"
   },
   {
    "duration": 17,
    "start_time": "2022-11-28T13:53:18.219Z"
   },
   {
    "duration": 2236,
    "start_time": "2022-11-28T13:53:18.238Z"
   },
   {
    "duration": 55,
    "start_time": "2022-11-28T13:53:20.476Z"
   },
   {
    "duration": 42,
    "start_time": "2022-11-28T13:53:20.533Z"
   },
   {
    "duration": 131,
    "start_time": "2022-11-28T13:53:20.577Z"
   },
   {
    "duration": 18,
    "start_time": "2022-11-28T13:53:20.710Z"
   },
   {
    "duration": 48,
    "start_time": "2022-11-28T13:53:20.729Z"
   },
   {
    "duration": 30,
    "start_time": "2022-11-28T13:53:20.779Z"
   },
   {
    "duration": 55,
    "start_time": "2022-11-28T13:53:20.811Z"
   },
   {
    "duration": 408,
    "start_time": "2022-11-28T13:53:20.868Z"
   },
   {
    "duration": 17,
    "start_time": "2022-11-28T13:53:21.277Z"
   },
   {
    "duration": 575,
    "start_time": "2022-11-28T13:53:21.296Z"
   },
   {
    "duration": 171633,
    "start_time": "2022-11-28T13:53:21.873Z"
   },
   {
    "duration": 665618,
    "start_time": "2022-11-28T13:56:13.508Z"
   },
   {
    "duration": 573394,
    "start_time": "2022-11-28T14:07:19.128Z"
   },
   {
    "duration": 96640,
    "start_time": "2022-11-28T14:16:52.524Z"
   },
   {
    "duration": 36869,
    "start_time": "2022-11-28T14:18:29.166Z"
   },
   {
    "duration": 77,
    "start_time": "2022-11-28T14:19:06.037Z"
   },
   {
    "duration": 63189,
    "start_time": "2022-11-28T14:19:06.116Z"
   },
   {
    "duration": 8,
    "start_time": "2022-11-28T14:20:09.307Z"
   },
   {
    "duration": 2287,
    "start_time": "2022-11-28T14:22:39.230Z"
   },
   {
    "duration": 2140,
    "start_time": "2022-11-28T14:22:41.520Z"
   },
   {
    "duration": 1204,
    "start_time": "2022-11-28T14:22:43.712Z"
   },
   {
    "duration": 405,
    "start_time": "2022-11-28T14:22:44.918Z"
   },
   {
    "duration": 19,
    "start_time": "2022-11-28T14:22:45.325Z"
   },
   {
    "duration": 7,
    "start_time": "2022-11-28T14:22:45.346Z"
   },
   {
    "duration": 131,
    "start_time": "2022-11-28T14:22:45.356Z"
   },
   {
    "duration": 1097,
    "start_time": "2022-11-28T14:22:45.489Z"
   },
   {
    "duration": 338,
    "start_time": "2022-11-28T14:22:46.588Z"
   },
   {
    "duration": 620,
    "start_time": "2022-11-28T14:22:46.929Z"
   },
   {
    "duration": 5,
    "start_time": "2022-11-28T14:22:47.551Z"
   },
   {
    "duration": 6,
    "start_time": "2022-11-28T14:22:47.558Z"
   },
   {
    "duration": 63,
    "start_time": "2022-11-28T14:22:47.566Z"
   },
   {
    "duration": 64,
    "start_time": "2022-11-28T14:22:47.632Z"
   },
   {
    "duration": 558,
    "start_time": "2022-11-28T14:22:47.698Z"
   },
   {
    "duration": 325,
    "start_time": "2022-11-28T14:22:48.258Z"
   },
   {
    "duration": 14,
    "start_time": "2022-11-28T14:22:48.584Z"
   },
   {
    "duration": 106,
    "start_time": "2022-11-28T14:22:48.599Z"
   },
   {
    "duration": 296,
    "start_time": "2022-11-28T14:22:48.713Z"
   },
   {
    "duration": 376,
    "start_time": "2022-11-28T14:22:49.013Z"
   },
   {
    "duration": 254,
    "start_time": "2022-11-28T14:22:49.391Z"
   },
   {
    "duration": 20,
    "start_time": "2022-11-28T14:22:49.647Z"
   },
   {
    "duration": 25,
    "start_time": "2022-11-28T14:22:49.669Z"
   },
   {
    "duration": 2195,
    "start_time": "2022-11-28T14:22:51.866Z"
   },
   {
    "duration": 1468,
    "start_time": "2022-11-28T14:22:54.063Z"
   },
   {
    "duration": 867,
    "start_time": "2022-11-28T14:22:55.533Z"
   },
   {
    "duration": 436,
    "start_time": "2022-11-28T14:22:56.402Z"
   },
   {
    "duration": 19,
    "start_time": "2022-11-28T14:22:56.839Z"
   },
   {
    "duration": 8,
    "start_time": "2022-11-28T14:22:56.860Z"
   },
   {
    "duration": 131,
    "start_time": "2022-11-28T14:22:56.869Z"
   },
   {
    "duration": 1059,
    "start_time": "2022-11-28T14:22:57.002Z"
   },
   {
    "duration": 335,
    "start_time": "2022-11-28T14:22:58.063Z"
   },
   {
    "duration": 638,
    "start_time": "2022-11-28T14:22:58.401Z"
   },
   {
    "duration": 5,
    "start_time": "2022-11-28T14:22:59.041Z"
   },
   {
    "duration": 7,
    "start_time": "2022-11-28T14:22:59.047Z"
   },
   {
    "duration": 44,
    "start_time": "2022-11-28T14:22:59.055Z"
   },
   {
    "duration": 85,
    "start_time": "2022-11-28T14:22:59.101Z"
   },
   {
    "duration": 592,
    "start_time": "2022-11-28T14:22:59.188Z"
   },
   {
    "duration": 345,
    "start_time": "2022-11-28T14:22:59.781Z"
   },
   {
    "duration": 13,
    "start_time": "2022-11-28T14:23:00.128Z"
   },
   {
    "duration": 129,
    "start_time": "2022-11-28T14:23:00.143Z"
   },
   {
    "duration": 329,
    "start_time": "2022-11-28T14:23:00.274Z"
   },
   {
    "duration": 436,
    "start_time": "2022-11-28T14:23:00.605Z"
   },
   {
    "duration": 277,
    "start_time": "2022-11-28T14:23:01.042Z"
   },
   {
    "duration": 17,
    "start_time": "2022-11-28T14:23:01.322Z"
   },
   {
    "duration": 23,
    "start_time": "2022-11-28T14:23:01.340Z"
   },
   {
    "duration": 249,
    "start_time": "2022-11-28T14:23:01.365Z"
   },
   {
    "duration": 53,
    "start_time": "2022-11-28T14:23:01.616Z"
   },
   {
    "duration": 50,
    "start_time": "2022-11-28T14:23:01.671Z"
   },
   {
    "duration": 106,
    "start_time": "2022-11-28T14:23:01.722Z"
   },
   {
    "duration": 14,
    "start_time": "2022-11-28T14:23:01.833Z"
   },
   {
    "duration": 4,
    "start_time": "2022-11-28T14:23:01.848Z"
   },
   {
    "duration": 3022,
    "start_time": "2022-11-28T14:23:01.853Z"
   },
   {
    "duration": 15,
    "start_time": "2022-11-28T14:23:04.877Z"
   },
   {
    "duration": 123,
    "start_time": "2022-11-28T14:23:04.894Z"
   },
   {
    "duration": 15,
    "start_time": "2022-11-28T14:23:05.019Z"
   },
   {
    "duration": 2203,
    "start_time": "2022-11-28T14:23:05.036Z"
   },
   {
    "duration": 52,
    "start_time": "2022-11-28T14:23:07.241Z"
   },
   {
    "duration": 21,
    "start_time": "2022-11-28T14:23:07.295Z"
   },
   {
    "duration": 150,
    "start_time": "2022-11-28T14:23:07.318Z"
   },
   {
    "duration": 19,
    "start_time": "2022-11-28T14:23:07.470Z"
   },
   {
    "duration": 45,
    "start_time": "2022-11-28T14:23:07.491Z"
   },
   {
    "duration": 7,
    "start_time": "2022-11-28T14:23:07.537Z"
   },
   {
    "duration": 44,
    "start_time": "2022-11-28T14:23:07.546Z"
   },
   {
    "duration": 506,
    "start_time": "2022-11-28T14:23:07.592Z"
   },
   {
    "duration": 18,
    "start_time": "2022-11-28T14:23:08.100Z"
   },
   {
    "duration": 656,
    "start_time": "2022-11-28T14:23:08.120Z"
   },
   {
    "duration": 773254,
    "start_time": "2022-11-28T14:23:08.778Z"
   },
   {
    "duration": 1653681,
    "start_time": "2022-11-28T14:36:02.034Z"
   },
   {
    "duration": 575442,
    "start_time": "2022-11-28T15:03:35.717Z"
   },
   {
    "duration": 96037,
    "start_time": "2022-11-28T15:13:11.160Z"
   },
   {
    "duration": 24918,
    "start_time": "2022-11-28T15:14:47.199Z"
   },
   {
    "duration": 100,
    "start_time": "2022-11-28T15:15:12.119Z"
   },
   {
    "duration": 63947,
    "start_time": "2022-11-28T15:15:12.221Z"
   },
   {
    "duration": 5,
    "start_time": "2022-11-28T15:16:16.169Z"
   },
   {
    "duration": 16437,
    "start_time": "2022-11-28T15:16:16.176Z"
   },
   {
    "duration": 5,
    "start_time": "2022-11-28T15:16:32.615Z"
   },
   {
    "duration": 48648,
    "start_time": "2022-11-28T15:16:32.623Z"
   },
   {
    "duration": 4,
    "start_time": "2022-11-28T15:17:21.272Z"
   },
   {
    "duration": 10,
    "start_time": "2022-11-28T15:17:21.277Z"
   },
   {
    "duration": 9,
    "start_time": "2022-11-28T15:17:21.289Z"
   },
   {
    "duration": 20,
    "start_time": "2022-11-28T15:17:21.300Z"
   },
   {
    "duration": 13,
    "start_time": "2022-11-28T15:17:21.322Z"
   },
   {
    "duration": 569656,
    "start_time": "2022-11-28T15:17:45.707Z"
   },
   {
    "duration": 2756,
    "start_time": "2022-11-29T07:02:42.738Z"
   },
   {
    "duration": 1778,
    "start_time": "2022-11-29T07:02:45.497Z"
   },
   {
    "duration": 2735,
    "start_time": "2022-11-29T07:02:47.276Z"
   },
   {
    "duration": 387,
    "start_time": "2022-11-29T07:02:50.013Z"
   },
   {
    "duration": 18,
    "start_time": "2022-11-29T07:02:50.402Z"
   },
   {
    "duration": 6,
    "start_time": "2022-11-29T07:02:50.422Z"
   },
   {
    "duration": 114,
    "start_time": "2022-11-29T07:02:50.430Z"
   },
   {
    "duration": 914,
    "start_time": "2022-11-29T07:02:50.545Z"
   },
   {
    "duration": 308,
    "start_time": "2022-11-29T07:02:51.461Z"
   },
   {
    "duration": 625,
    "start_time": "2022-11-29T07:02:51.771Z"
   },
   {
    "duration": 4,
    "start_time": "2022-11-29T07:02:52.398Z"
   },
   {
    "duration": 12,
    "start_time": "2022-11-29T07:02:52.403Z"
   },
   {
    "duration": 35,
    "start_time": "2022-11-29T07:02:52.416Z"
   },
   {
    "duration": 70,
    "start_time": "2022-11-29T07:02:52.453Z"
   },
   {
    "duration": 451,
    "start_time": "2022-11-29T07:02:52.525Z"
   },
   {
    "duration": 298,
    "start_time": "2022-11-29T07:02:52.978Z"
   },
   {
    "duration": 13,
    "start_time": "2022-11-29T07:02:53.278Z"
   },
   {
    "duration": 102,
    "start_time": "2022-11-29T07:02:53.293Z"
   },
   {
    "duration": 292,
    "start_time": "2022-11-29T07:02:53.397Z"
   },
   {
    "duration": 302,
    "start_time": "2022-11-29T07:02:53.691Z"
   },
   {
    "duration": 268,
    "start_time": "2022-11-29T07:02:53.994Z"
   },
   {
    "duration": 19,
    "start_time": "2022-11-29T07:02:54.264Z"
   },
   {
    "duration": 40,
    "start_time": "2022-11-29T07:02:54.285Z"
   },
   {
    "duration": 209,
    "start_time": "2022-11-29T07:02:54.327Z"
   },
   {
    "duration": 51,
    "start_time": "2022-11-29T07:02:54.538Z"
   },
   {
    "duration": 57,
    "start_time": "2022-11-29T07:02:54.591Z"
   },
   {
    "duration": 99,
    "start_time": "2022-11-29T07:02:54.650Z"
   },
   {
    "duration": 17,
    "start_time": "2022-11-29T07:02:54.753Z"
   },
   {
    "duration": 50,
    "start_time": "2022-11-29T07:02:54.773Z"
   },
   {
    "duration": 2754,
    "start_time": "2022-11-29T07:02:54.825Z"
   },
   {
    "duration": 10,
    "start_time": "2022-11-29T07:02:57.580Z"
   },
   {
    "duration": 89,
    "start_time": "2022-11-29T07:02:57.592Z"
   },
   {
    "duration": 13,
    "start_time": "2022-11-29T07:02:57.682Z"
   },
   {
    "duration": 1935,
    "start_time": "2022-11-29T07:02:57.697Z"
   },
   {
    "duration": 46,
    "start_time": "2022-11-29T07:02:59.634Z"
   },
   {
    "duration": 11,
    "start_time": "2022-11-29T07:02:59.681Z"
   },
   {
    "duration": 119,
    "start_time": "2022-11-29T07:02:59.694Z"
   },
   {
    "duration": 15,
    "start_time": "2022-11-29T07:02:59.815Z"
   },
   {
    "duration": 30,
    "start_time": "2022-11-29T07:02:59.832Z"
   },
   {
    "duration": 5,
    "start_time": "2022-11-29T07:02:59.864Z"
   },
   {
    "duration": 50,
    "start_time": "2022-11-29T07:02:59.871Z"
   },
   {
    "duration": 431,
    "start_time": "2022-11-29T07:02:59.923Z"
   },
   {
    "duration": 19,
    "start_time": "2022-11-29T07:03:00.357Z"
   },
   {
    "duration": 567,
    "start_time": "2022-11-29T07:03:00.378Z"
   },
   {
    "duration": 1975,
    "start_time": "2022-11-29T07:06:36.772Z"
   },
   {
    "duration": 1534,
    "start_time": "2022-11-29T07:06:38.749Z"
   },
   {
    "duration": 805,
    "start_time": "2022-11-29T07:06:40.285Z"
   },
   {
    "duration": 327,
    "start_time": "2022-11-29T07:06:41.092Z"
   },
   {
    "duration": 18,
    "start_time": "2022-11-29T07:06:41.420Z"
   },
   {
    "duration": 7,
    "start_time": "2022-11-29T07:06:41.439Z"
   },
   {
    "duration": 119,
    "start_time": "2022-11-29T07:06:41.447Z"
   },
   {
    "duration": 920,
    "start_time": "2022-11-29T07:06:41.568Z"
   },
   {
    "duration": 293,
    "start_time": "2022-11-29T07:06:42.490Z"
   },
   {
    "duration": 578,
    "start_time": "2022-11-29T07:06:42.786Z"
   },
   {
    "duration": 4,
    "start_time": "2022-11-29T07:06:43.366Z"
   },
   {
    "duration": 7,
    "start_time": "2022-11-29T07:06:43.372Z"
   },
   {
    "duration": 48,
    "start_time": "2022-11-29T07:06:43.380Z"
   },
   {
    "duration": 58,
    "start_time": "2022-11-29T07:06:43.429Z"
   },
   {
    "duration": 481,
    "start_time": "2022-11-29T07:06:43.489Z"
   },
   {
    "duration": 292,
    "start_time": "2022-11-29T07:06:43.972Z"
   },
   {
    "duration": 13,
    "start_time": "2022-11-29T07:06:44.265Z"
   },
   {
    "duration": 104,
    "start_time": "2022-11-29T07:06:44.279Z"
   },
   {
    "duration": 290,
    "start_time": "2022-11-29T07:06:44.385Z"
   },
   {
    "duration": 287,
    "start_time": "2022-11-29T07:06:44.678Z"
   },
   {
    "duration": 228,
    "start_time": "2022-11-29T07:06:44.967Z"
   },
   {
    "duration": 22,
    "start_time": "2022-11-29T07:06:45.197Z"
   },
   {
    "duration": 19,
    "start_time": "2022-11-29T07:06:45.221Z"
   },
   {
    "duration": 207,
    "start_time": "2022-11-29T07:06:45.242Z"
   },
   {
    "duration": 48,
    "start_time": "2022-11-29T07:06:45.450Z"
   },
   {
    "duration": 37,
    "start_time": "2022-11-29T07:06:45.500Z"
   },
   {
    "duration": 82,
    "start_time": "2022-11-29T07:06:45.539Z"
   },
   {
    "duration": 13,
    "start_time": "2022-11-29T07:06:45.624Z"
   },
   {
    "duration": 2,
    "start_time": "2022-11-29T07:06:45.639Z"
   },
   {
    "duration": 2770,
    "start_time": "2022-11-29T07:06:45.643Z"
   },
   {
    "duration": 10,
    "start_time": "2022-11-29T07:06:48.415Z"
   },
   {
    "duration": 77,
    "start_time": "2022-11-29T07:06:48.426Z"
   },
   {
    "duration": 19,
    "start_time": "2022-11-29T07:06:48.505Z"
   },
   {
    "duration": 1901,
    "start_time": "2022-11-29T07:06:48.525Z"
   },
   {
    "duration": 48,
    "start_time": "2022-11-29T07:06:50.428Z"
   },
   {
    "duration": 24,
    "start_time": "2022-11-29T07:06:50.477Z"
   },
   {
    "duration": 125,
    "start_time": "2022-11-29T07:06:50.503Z"
   },
   {
    "duration": 15,
    "start_time": "2022-11-29T07:06:50.630Z"
   },
   {
    "duration": 29,
    "start_time": "2022-11-29T07:06:50.646Z"
   },
   {
    "duration": 35,
    "start_time": "2022-11-29T07:06:50.677Z"
   },
   {
    "duration": 71,
    "start_time": "2022-11-29T07:06:50.714Z"
   },
   {
    "duration": 417,
    "start_time": "2022-11-29T07:06:50.787Z"
   },
   {
    "duration": 13,
    "start_time": "2022-11-29T07:06:51.206Z"
   },
   {
    "duration": 535,
    "start_time": "2022-11-29T07:06:51.220Z"
   },
   {
    "duration": 25159,
    "start_time": "2022-11-29T07:06:51.757Z"
   },
   {
    "duration": 5,
    "start_time": "2022-11-29T07:07:16.917Z"
   },
   {
    "duration": 15059,
    "start_time": "2022-11-29T07:07:17.012Z"
   },
   {
    "duration": 4,
    "start_time": "2022-11-29T07:07:32.072Z"
   },
   {
    "duration": 15468,
    "start_time": "2022-11-29T07:07:32.077Z"
   },
   {
    "duration": 67,
    "start_time": "2022-11-29T07:07:47.547Z"
   },
   {
    "duration": 43492,
    "start_time": "2022-11-29T07:07:47.617Z"
   },
   {
    "duration": 3,
    "start_time": "2022-11-29T07:08:31.111Z"
   },
   {
    "duration": 133,
    "start_time": "2022-11-29T07:08:31.116Z"
   },
   {
    "duration": 0,
    "start_time": "2022-11-29T07:08:31.250Z"
   },
   {
    "duration": 0,
    "start_time": "2022-11-29T07:08:31.251Z"
   },
   {
    "duration": 0,
    "start_time": "2022-11-29T07:08:31.253Z"
   },
   {
    "duration": 3,
    "start_time": "2022-11-29T07:09:14.183Z"
   },
   {
    "duration": 3,
    "start_time": "2022-11-29T07:09:16.625Z"
   },
   {
    "duration": 11,
    "start_time": "2022-11-29T07:09:17.044Z"
   },
   {
    "duration": 10,
    "start_time": "2022-11-29T07:09:17.718Z"
   },
   {
    "duration": 14419,
    "start_time": "2022-11-29T07:13:11.055Z"
   },
   {
    "duration": 3,
    "start_time": "2022-11-29T07:13:25.476Z"
   },
   {
    "duration": 2337,
    "start_time": "2022-11-29T07:28:53.203Z"
   },
   {
    "duration": 1491,
    "start_time": "2022-11-29T07:28:55.542Z"
   },
   {
    "duration": 854,
    "start_time": "2022-11-29T07:28:57.035Z"
   },
   {
    "duration": 350,
    "start_time": "2022-11-29T07:28:57.891Z"
   },
   {
    "duration": 29,
    "start_time": "2022-11-29T07:28:58.244Z"
   },
   {
    "duration": 8,
    "start_time": "2022-11-29T07:28:58.275Z"
   },
   {
    "duration": 130,
    "start_time": "2022-11-29T07:28:58.285Z"
   },
   {
    "duration": 998,
    "start_time": "2022-11-29T07:28:58.417Z"
   },
   {
    "duration": 316,
    "start_time": "2022-11-29T07:28:59.417Z"
   },
   {
    "duration": 667,
    "start_time": "2022-11-29T07:28:59.736Z"
   },
   {
    "duration": 8,
    "start_time": "2022-11-29T07:29:00.405Z"
   },
   {
    "duration": 41,
    "start_time": "2022-11-29T07:29:00.418Z"
   },
   {
    "duration": 76,
    "start_time": "2022-11-29T07:29:00.461Z"
   },
   {
    "duration": 95,
    "start_time": "2022-11-29T07:29:00.540Z"
   },
   {
    "duration": 608,
    "start_time": "2022-11-29T07:29:00.637Z"
   },
   {
    "duration": 366,
    "start_time": "2022-11-29T07:29:01.247Z"
   },
   {
    "duration": 15,
    "start_time": "2022-11-29T07:29:01.615Z"
   },
   {
    "duration": 127,
    "start_time": "2022-11-29T07:29:01.633Z"
   },
   {
    "duration": 319,
    "start_time": "2022-11-29T07:29:01.762Z"
   },
   {
    "duration": 347,
    "start_time": "2022-11-29T07:29:02.084Z"
   },
   {
    "duration": 254,
    "start_time": "2022-11-29T07:29:02.433Z"
   },
   {
    "duration": 28,
    "start_time": "2022-11-29T07:29:02.689Z"
   },
   {
    "duration": 28,
    "start_time": "2022-11-29T07:29:02.719Z"
   },
   {
    "duration": 264,
    "start_time": "2022-11-29T07:29:02.749Z"
   },
   {
    "duration": 71,
    "start_time": "2022-11-29T07:29:03.015Z"
   },
   {
    "duration": 52,
    "start_time": "2022-11-29T07:29:03.088Z"
   },
   {
    "duration": 114,
    "start_time": "2022-11-29T07:29:03.143Z"
   },
   {
    "duration": 24,
    "start_time": "2022-11-29T07:29:03.261Z"
   },
   {
    "duration": 29,
    "start_time": "2022-11-29T07:29:03.287Z"
   },
   {
    "duration": 3008,
    "start_time": "2022-11-29T07:29:03.319Z"
   },
   {
    "duration": 12,
    "start_time": "2022-11-29T07:29:06.329Z"
   },
   {
    "duration": 160,
    "start_time": "2022-11-29T07:29:06.343Z"
   },
   {
    "duration": 29,
    "start_time": "2022-11-29T07:29:06.505Z"
   },
   {
    "duration": 2139,
    "start_time": "2022-11-29T07:29:06.537Z"
   },
   {
    "duration": 96,
    "start_time": "2022-11-29T07:29:08.679Z"
   },
   {
    "duration": 12,
    "start_time": "2022-11-29T07:29:08.778Z"
   },
   {
    "duration": 144,
    "start_time": "2022-11-29T07:29:08.792Z"
   },
   {
    "duration": 19,
    "start_time": "2022-11-29T07:29:08.938Z"
   },
   {
    "duration": 34,
    "start_time": "2022-11-29T07:29:08.959Z"
   },
   {
    "duration": 24,
    "start_time": "2022-11-29T07:29:08.994Z"
   },
   {
    "duration": 34,
    "start_time": "2022-11-29T07:29:09.020Z"
   },
   {
    "duration": 421,
    "start_time": "2022-11-29T07:29:09.056Z"
   },
   {
    "duration": 13,
    "start_time": "2022-11-29T07:29:09.479Z"
   },
   {
    "duration": 522,
    "start_time": "2022-11-29T07:29:09.493Z"
   },
   {
    "duration": 124,
    "start_time": "2022-11-29T07:29:10.017Z"
   },
   {
    "duration": 0,
    "start_time": "2022-11-29T07:29:10.142Z"
   },
   {
    "duration": 0,
    "start_time": "2022-11-29T07:29:10.144Z"
   },
   {
    "duration": 0,
    "start_time": "2022-11-29T07:29:10.145Z"
   },
   {
    "duration": 0,
    "start_time": "2022-11-29T07:29:10.146Z"
   },
   {
    "duration": 0,
    "start_time": "2022-11-29T07:29:10.148Z"
   },
   {
    "duration": 0,
    "start_time": "2022-11-29T07:29:10.150Z"
   },
   {
    "duration": 0,
    "start_time": "2022-11-29T07:29:10.151Z"
   },
   {
    "duration": 0,
    "start_time": "2022-11-29T07:29:10.153Z"
   },
   {
    "duration": 0,
    "start_time": "2022-11-29T07:29:10.156Z"
   },
   {
    "duration": 0,
    "start_time": "2022-11-29T07:29:10.160Z"
   },
   {
    "duration": 0,
    "start_time": "2022-11-29T07:29:10.161Z"
   },
   {
    "duration": 36070,
    "start_time": "2022-11-29T07:47:30.849Z"
   },
   {
    "duration": 4,
    "start_time": "2022-11-29T07:48:06.921Z"
   },
   {
    "duration": 2099,
    "start_time": "2022-11-29T07:53:35.220Z"
   },
   {
    "duration": 1555,
    "start_time": "2022-11-29T07:53:37.322Z"
   },
   {
    "duration": 816,
    "start_time": "2022-11-29T07:53:38.879Z"
   },
   {
    "duration": 384,
    "start_time": "2022-11-29T07:53:39.698Z"
   },
   {
    "duration": 39,
    "start_time": "2022-11-29T07:53:40.084Z"
   },
   {
    "duration": 13,
    "start_time": "2022-11-29T07:53:40.125Z"
   },
   {
    "duration": 227,
    "start_time": "2022-11-29T07:53:40.140Z"
   },
   {
    "duration": 1040,
    "start_time": "2022-11-29T07:53:40.369Z"
   },
   {
    "duration": 308,
    "start_time": "2022-11-29T07:53:41.411Z"
   },
   {
    "duration": 605,
    "start_time": "2022-11-29T07:53:41.721Z"
   },
   {
    "duration": 5,
    "start_time": "2022-11-29T07:53:42.328Z"
   },
   {
    "duration": 8,
    "start_time": "2022-11-29T07:53:42.334Z"
   },
   {
    "duration": 45,
    "start_time": "2022-11-29T07:53:42.344Z"
   },
   {
    "duration": 82,
    "start_time": "2022-11-29T07:53:42.391Z"
   },
   {
    "duration": 539,
    "start_time": "2022-11-29T07:53:42.475Z"
   },
   {
    "duration": 333,
    "start_time": "2022-11-29T07:53:43.017Z"
   },
   {
    "duration": 13,
    "start_time": "2022-11-29T07:53:43.352Z"
   },
   {
    "duration": 109,
    "start_time": "2022-11-29T07:53:43.367Z"
   },
   {
    "duration": 294,
    "start_time": "2022-11-29T07:53:43.478Z"
   },
   {
    "duration": 318,
    "start_time": "2022-11-29T07:53:43.774Z"
   },
   {
    "duration": 243,
    "start_time": "2022-11-29T07:53:44.094Z"
   },
   {
    "duration": 16,
    "start_time": "2022-11-29T07:53:44.339Z"
   },
   {
    "duration": 21,
    "start_time": "2022-11-29T07:53:44.357Z"
   },
   {
    "duration": 239,
    "start_time": "2022-11-29T07:53:44.380Z"
   },
   {
    "duration": 67,
    "start_time": "2022-11-29T07:53:44.622Z"
   },
   {
    "duration": 53,
    "start_time": "2022-11-29T07:53:44.691Z"
   },
   {
    "duration": 87,
    "start_time": "2022-11-29T07:53:44.745Z"
   },
   {
    "duration": 14,
    "start_time": "2022-11-29T07:53:44.836Z"
   },
   {
    "duration": 3,
    "start_time": "2022-11-29T07:53:44.852Z"
   },
   {
    "duration": 2772,
    "start_time": "2022-11-29T07:53:44.857Z"
   },
   {
    "duration": 10,
    "start_time": "2022-11-29T07:53:47.631Z"
   },
   {
    "duration": 89,
    "start_time": "2022-11-29T07:53:47.643Z"
   },
   {
    "duration": 12,
    "start_time": "2022-11-29T07:53:47.734Z"
   },
   {
    "duration": 1973,
    "start_time": "2022-11-29T07:53:47.748Z"
   },
   {
    "duration": 46,
    "start_time": "2022-11-29T07:53:49.722Z"
   },
   {
    "duration": 11,
    "start_time": "2022-11-29T07:53:49.771Z"
   },
   {
    "duration": 143,
    "start_time": "2022-11-29T07:53:49.785Z"
   },
   {
    "duration": 24,
    "start_time": "2022-11-29T07:53:49.930Z"
   },
   {
    "duration": 30,
    "start_time": "2022-11-29T07:53:49.956Z"
   },
   {
    "duration": 26,
    "start_time": "2022-11-29T07:53:49.988Z"
   },
   {
    "duration": 32,
    "start_time": "2022-11-29T07:53:50.016Z"
   },
   {
    "duration": 503,
    "start_time": "2022-11-29T07:53:50.050Z"
   },
   {
    "duration": 15,
    "start_time": "2022-11-29T07:53:50.555Z"
   },
   {
    "duration": 568,
    "start_time": "2022-11-29T07:53:50.572Z"
   },
   {
    "duration": 114,
    "start_time": "2022-11-29T07:53:51.142Z"
   },
   {
    "duration": 0,
    "start_time": "2022-11-29T07:53:51.257Z"
   },
   {
    "duration": 0,
    "start_time": "2022-11-29T07:53:51.259Z"
   },
   {
    "duration": 0,
    "start_time": "2022-11-29T07:53:51.260Z"
   },
   {
    "duration": 0,
    "start_time": "2022-11-29T07:53:51.261Z"
   },
   {
    "duration": 0,
    "start_time": "2022-11-29T07:53:51.262Z"
   },
   {
    "duration": 0,
    "start_time": "2022-11-29T07:53:51.263Z"
   },
   {
    "duration": 0,
    "start_time": "2022-11-29T07:53:51.264Z"
   },
   {
    "duration": 199309,
    "start_time": "2022-11-29T07:54:01.050Z"
   },
   {
    "duration": 1,
    "start_time": "2022-11-29T07:57:20.361Z"
   },
   {
    "duration": 0,
    "start_time": "2022-11-29T07:57:20.363Z"
   },
   {
    "duration": 0,
    "start_time": "2022-11-29T07:57:20.365Z"
   },
   {
    "duration": 2148,
    "start_time": "2022-11-29T08:13:12.826Z"
   },
   {
    "duration": 1477,
    "start_time": "2022-11-29T08:13:14.977Z"
   },
   {
    "duration": 899,
    "start_time": "2022-11-29T08:13:16.455Z"
   },
   {
    "duration": 349,
    "start_time": "2022-11-29T08:13:17.356Z"
   },
   {
    "duration": 26,
    "start_time": "2022-11-29T08:13:17.713Z"
   },
   {
    "duration": 7,
    "start_time": "2022-11-29T08:13:17.740Z"
   },
   {
    "duration": 113,
    "start_time": "2022-11-29T08:13:17.748Z"
   },
   {
    "duration": 1454,
    "start_time": "2022-11-29T08:13:17.863Z"
   },
   {
    "duration": 797,
    "start_time": "2022-11-29T08:13:19.319Z"
   },
   {
    "duration": 1030,
    "start_time": "2022-11-29T08:13:20.120Z"
   },
   {
    "duration": 5,
    "start_time": "2022-11-29T08:13:21.153Z"
   },
   {
    "duration": 10,
    "start_time": "2022-11-29T08:13:21.161Z"
   },
   {
    "duration": 63,
    "start_time": "2022-11-29T08:13:21.173Z"
   },
   {
    "duration": 80,
    "start_time": "2022-11-29T08:13:21.238Z"
   },
   {
    "duration": 551,
    "start_time": "2022-11-29T08:13:21.320Z"
   },
   {
    "duration": 333,
    "start_time": "2022-11-29T08:13:21.873Z"
   },
   {
    "duration": 16,
    "start_time": "2022-11-29T08:13:22.207Z"
   },
   {
    "duration": 117,
    "start_time": "2022-11-29T08:13:22.225Z"
   },
   {
    "duration": 333,
    "start_time": "2022-11-29T08:13:22.344Z"
   },
   {
    "duration": 342,
    "start_time": "2022-11-29T08:13:22.679Z"
   },
   {
    "duration": 257,
    "start_time": "2022-11-29T08:13:23.023Z"
   },
   {
    "duration": 16,
    "start_time": "2022-11-29T08:13:23.281Z"
   },
   {
    "duration": 42,
    "start_time": "2022-11-29T08:13:23.298Z"
   },
   {
    "duration": 234,
    "start_time": "2022-11-29T08:13:23.343Z"
   },
   {
    "duration": 85,
    "start_time": "2022-11-29T08:13:23.580Z"
   },
   {
    "duration": 49,
    "start_time": "2022-11-29T08:13:23.667Z"
   },
   {
    "duration": 87,
    "start_time": "2022-11-29T08:13:23.718Z"
   },
   {
    "duration": 21,
    "start_time": "2022-11-29T08:13:23.815Z"
   },
   {
    "duration": 5,
    "start_time": "2022-11-29T08:13:23.838Z"
   },
   {
    "duration": 2995,
    "start_time": "2022-11-29T08:13:23.845Z"
   },
   {
    "duration": 10,
    "start_time": "2022-11-29T08:13:26.842Z"
   },
   {
    "duration": 101,
    "start_time": "2022-11-29T08:13:26.854Z"
   },
   {
    "duration": 14,
    "start_time": "2022-11-29T08:13:26.957Z"
   },
   {
    "duration": 2247,
    "start_time": "2022-11-29T08:13:26.973Z"
   },
   {
    "duration": 53,
    "start_time": "2022-11-29T08:13:29.222Z"
   },
   {
    "duration": 12,
    "start_time": "2022-11-29T08:13:29.277Z"
   },
   {
    "duration": 137,
    "start_time": "2022-11-29T08:13:29.291Z"
   },
   {
    "duration": 18,
    "start_time": "2022-11-29T08:13:29.429Z"
   },
   {
    "duration": 24,
    "start_time": "2022-11-29T08:13:29.449Z"
   },
   {
    "duration": 5,
    "start_time": "2022-11-29T08:13:29.475Z"
   },
   {
    "duration": 62,
    "start_time": "2022-11-29T08:13:29.482Z"
   },
   {
    "duration": 440,
    "start_time": "2022-11-29T08:13:29.546Z"
   },
   {
    "duration": 13,
    "start_time": "2022-11-29T08:13:29.988Z"
   },
   {
    "duration": 648,
    "start_time": "2022-11-29T08:13:30.002Z"
   },
   {
    "duration": 129,
    "start_time": "2022-11-29T08:13:30.652Z"
   },
   {
    "duration": 0,
    "start_time": "2022-11-29T08:13:30.783Z"
   },
   {
    "duration": 0,
    "start_time": "2022-11-29T08:13:30.784Z"
   },
   {
    "duration": 0,
    "start_time": "2022-11-29T08:13:30.785Z"
   },
   {
    "duration": 0,
    "start_time": "2022-11-29T08:13:30.787Z"
   },
   {
    "duration": 0,
    "start_time": "2022-11-29T08:13:30.788Z"
   },
   {
    "duration": 0,
    "start_time": "2022-11-29T08:13:30.789Z"
   },
   {
    "duration": 0,
    "start_time": "2022-11-29T08:13:30.790Z"
   },
   {
    "duration": 523549,
    "start_time": "2022-11-29T08:13:45.486Z"
   },
   {
    "duration": 4,
    "start_time": "2022-11-29T08:22:29.037Z"
   },
   {
    "duration": 14365,
    "start_time": "2022-11-29T08:22:29.042Z"
   },
   {
    "duration": 5,
    "start_time": "2022-11-29T08:22:43.409Z"
   },
   {
    "duration": 15591,
    "start_time": "2022-11-29T08:49:10.160Z"
   },
   {
    "duration": 4,
    "start_time": "2022-11-29T08:49:25.753Z"
   },
   {
    "duration": 32470,
    "start_time": "2022-11-29T08:52:19.643Z"
   },
   {
    "duration": 6,
    "start_time": "2022-11-29T08:52:52.116Z"
   },
   {
    "duration": 16302,
    "start_time": "2022-11-29T08:52:52.124Z"
   },
   {
    "duration": 4,
    "start_time": "2022-11-29T08:53:08.428Z"
   },
   {
    "duration": 2519,
    "start_time": "2022-11-29T08:54:15.228Z"
   },
   {
    "duration": 1967,
    "start_time": "2022-11-29T08:54:17.749Z"
   },
   {
    "duration": 879,
    "start_time": "2022-11-29T08:54:19.720Z"
   },
   {
    "duration": 358,
    "start_time": "2022-11-29T08:54:20.601Z"
   },
   {
    "duration": 18,
    "start_time": "2022-11-29T08:54:20.961Z"
   },
   {
    "duration": 17,
    "start_time": "2022-11-29T08:54:20.981Z"
   },
   {
    "duration": 135,
    "start_time": "2022-11-29T08:54:21.000Z"
   },
   {
    "duration": 954,
    "start_time": "2022-11-29T08:54:21.137Z"
   },
   {
    "duration": 310,
    "start_time": "2022-11-29T08:54:22.094Z"
   },
   {
    "duration": 627,
    "start_time": "2022-11-29T08:54:22.412Z"
   },
   {
    "duration": 4,
    "start_time": "2022-11-29T08:54:23.040Z"
   },
   {
    "duration": 24,
    "start_time": "2022-11-29T08:54:23.046Z"
   },
   {
    "duration": 46,
    "start_time": "2022-11-29T08:54:23.072Z"
   },
   {
    "duration": 73,
    "start_time": "2022-11-29T08:54:23.120Z"
   },
   {
    "duration": 501,
    "start_time": "2022-11-29T08:54:23.195Z"
   },
   {
    "duration": 323,
    "start_time": "2022-11-29T08:54:23.698Z"
   },
   {
    "duration": 13,
    "start_time": "2022-11-29T08:54:24.024Z"
   },
   {
    "duration": 106,
    "start_time": "2022-11-29T08:54:24.039Z"
   },
   {
    "duration": 288,
    "start_time": "2022-11-29T08:54:24.146Z"
   },
   {
    "duration": 331,
    "start_time": "2022-11-29T08:54:24.436Z"
   },
   {
    "duration": 246,
    "start_time": "2022-11-29T08:54:24.769Z"
   },
   {
    "duration": 16,
    "start_time": "2022-11-29T08:54:25.017Z"
   },
   {
    "duration": 21,
    "start_time": "2022-11-29T08:54:25.035Z"
   },
   {
    "duration": 233,
    "start_time": "2022-11-29T08:54:25.058Z"
   },
   {
    "duration": 53,
    "start_time": "2022-11-29T08:54:25.293Z"
   },
   {
    "duration": 31,
    "start_time": "2022-11-29T08:54:25.347Z"
   },
   {
    "duration": 106,
    "start_time": "2022-11-29T08:54:25.382Z"
   },
   {
    "duration": 26,
    "start_time": "2022-11-29T08:54:25.490Z"
   },
   {
    "duration": 4,
    "start_time": "2022-11-29T08:54:25.518Z"
   },
   {
    "duration": 2740,
    "start_time": "2022-11-29T08:54:25.524Z"
   },
   {
    "duration": 15,
    "start_time": "2022-11-29T08:54:28.267Z"
   },
   {
    "duration": 127,
    "start_time": "2022-11-29T08:54:28.284Z"
   },
   {
    "duration": 14,
    "start_time": "2022-11-29T08:54:28.413Z"
   },
   {
    "duration": 1944,
    "start_time": "2022-11-29T08:54:28.429Z"
   },
   {
    "duration": 66,
    "start_time": "2022-11-29T08:54:30.375Z"
   },
   {
    "duration": 35,
    "start_time": "2022-11-29T08:54:30.443Z"
   },
   {
    "duration": 156,
    "start_time": "2022-11-29T08:54:30.481Z"
   },
   {
    "duration": 17,
    "start_time": "2022-11-29T08:54:30.639Z"
   },
   {
    "duration": 30,
    "start_time": "2022-11-29T08:54:30.658Z"
   },
   {
    "duration": 33,
    "start_time": "2022-11-29T08:54:30.689Z"
   },
   {
    "duration": 42,
    "start_time": "2022-11-29T08:54:30.724Z"
   },
   {
    "duration": 467,
    "start_time": "2022-11-29T08:54:30.768Z"
   },
   {
    "duration": 14,
    "start_time": "2022-11-29T08:54:31.237Z"
   },
   {
    "duration": 553,
    "start_time": "2022-11-29T08:54:31.253Z"
   },
   {
    "duration": 2553,
    "start_time": "2022-11-29T08:54:48.919Z"
   },
   {
    "duration": 1698,
    "start_time": "2022-11-29T08:54:51.475Z"
   },
   {
    "duration": 891,
    "start_time": "2022-11-29T08:54:53.174Z"
   },
   {
    "duration": 562,
    "start_time": "2022-11-29T08:54:54.067Z"
   },
   {
    "duration": 24,
    "start_time": "2022-11-29T08:54:54.632Z"
   },
   {
    "duration": 17,
    "start_time": "2022-11-29T08:54:54.659Z"
   },
   {
    "duration": 189,
    "start_time": "2022-11-29T08:54:54.678Z"
   },
   {
    "duration": 1056,
    "start_time": "2022-11-29T08:54:54.869Z"
   },
   {
    "duration": 324,
    "start_time": "2022-11-29T08:54:55.928Z"
   },
   {
    "duration": 868,
    "start_time": "2022-11-29T08:54:56.256Z"
   },
   {
    "duration": 6,
    "start_time": "2022-11-29T08:54:57.126Z"
   },
   {
    "duration": 15,
    "start_time": "2022-11-29T08:54:57.133Z"
   },
   {
    "duration": 45,
    "start_time": "2022-11-29T08:54:57.150Z"
   },
   {
    "duration": 107,
    "start_time": "2022-11-29T08:54:57.197Z"
   },
   {
    "duration": 563,
    "start_time": "2022-11-29T08:54:57.314Z"
   },
   {
    "duration": 427,
    "start_time": "2022-11-29T08:54:57.879Z"
   },
   {
    "duration": 14,
    "start_time": "2022-11-29T08:54:58.313Z"
   },
   {
    "duration": 107,
    "start_time": "2022-11-29T08:54:58.329Z"
   },
   {
    "duration": 300,
    "start_time": "2022-11-29T08:54:58.438Z"
   },
   {
    "duration": 328,
    "start_time": "2022-11-29T08:54:58.741Z"
   },
   {
    "duration": 257,
    "start_time": "2022-11-29T08:54:59.070Z"
   },
   {
    "duration": 16,
    "start_time": "2022-11-29T08:54:59.329Z"
   },
   {
    "duration": 28,
    "start_time": "2022-11-29T08:54:59.348Z"
   },
   {
    "duration": 337,
    "start_time": "2022-11-29T08:54:59.379Z"
   },
   {
    "duration": 63,
    "start_time": "2022-11-29T08:54:59.718Z"
   },
   {
    "duration": 64,
    "start_time": "2022-11-29T08:54:59.784Z"
   },
   {
    "duration": 89,
    "start_time": "2022-11-29T08:54:59.850Z"
   },
   {
    "duration": 18,
    "start_time": "2022-11-29T08:54:59.943Z"
   },
   {
    "duration": 8,
    "start_time": "2022-11-29T08:54:59.963Z"
   },
   {
    "duration": 2977,
    "start_time": "2022-11-29T08:54:59.972Z"
   },
   {
    "duration": 18,
    "start_time": "2022-11-29T08:55:02.951Z"
   },
   {
    "duration": 134,
    "start_time": "2022-11-29T08:55:02.972Z"
   },
   {
    "duration": 22,
    "start_time": "2022-11-29T08:55:03.108Z"
   },
   {
    "duration": 2108,
    "start_time": "2022-11-29T08:55:03.133Z"
   },
   {
    "duration": 50,
    "start_time": "2022-11-29T08:55:05.243Z"
   },
   {
    "duration": 35,
    "start_time": "2022-11-29T08:55:05.295Z"
   },
   {
    "duration": 130,
    "start_time": "2022-11-29T08:55:05.331Z"
   },
   {
    "duration": 16,
    "start_time": "2022-11-29T08:55:05.463Z"
   },
   {
    "duration": 45,
    "start_time": "2022-11-29T08:55:05.482Z"
   },
   {
    "duration": 8,
    "start_time": "2022-11-29T08:55:05.530Z"
   },
   {
    "duration": 48,
    "start_time": "2022-11-29T08:55:05.541Z"
   },
   {
    "duration": 457,
    "start_time": "2022-11-29T08:55:05.591Z"
   },
   {
    "duration": 15,
    "start_time": "2022-11-29T08:55:06.050Z"
   },
   {
    "duration": 547,
    "start_time": "2022-11-29T08:55:06.066Z"
   },
   {
    "duration": 29004,
    "start_time": "2022-11-29T08:55:06.615Z"
   },
   {
    "duration": 10,
    "start_time": "2022-11-29T08:55:35.622Z"
   },
   {
    "duration": 16603,
    "start_time": "2022-11-29T08:55:35.714Z"
   },
   {
    "duration": 4,
    "start_time": "2022-11-29T08:55:52.318Z"
   },
   {
    "duration": 1394242,
    "start_time": "2022-11-29T08:55:52.324Z"
   },
   {
    "duration": 4,
    "start_time": "2022-11-29T09:19:06.568Z"
   },
   {
    "duration": 47316,
    "start_time": "2022-11-29T09:19:06.613Z"
   },
   {
    "duration": 4,
    "start_time": "2022-11-29T09:19:53.931Z"
   },
   {
    "duration": 87567,
    "start_time": "2022-11-29T09:19:53.937Z"
   },
   {
    "duration": 0,
    "start_time": "2022-11-29T09:21:21.505Z"
   },
   {
    "duration": 0,
    "start_time": "2022-11-29T09:21:21.506Z"
   },
   {
    "duration": 0,
    "start_time": "2022-11-29T09:21:21.508Z"
   },
   {
    "duration": 4,
    "start_time": "2022-11-29T09:21:50.074Z"
   },
   {
    "duration": 5,
    "start_time": "2022-11-29T09:21:51.797Z"
   },
   {
    "duration": 12,
    "start_time": "2022-11-29T09:21:53.363Z"
   },
   {
    "duration": 11,
    "start_time": "2022-11-29T09:21:55.058Z"
   },
   {
    "duration": 225203,
    "start_time": "2022-11-29T09:30:59.126Z"
   },
   {
    "duration": 3,
    "start_time": "2022-11-29T09:34:44.331Z"
   },
   {
    "duration": 13971,
    "start_time": "2022-11-29T09:34:44.336Z"
   },
   {
    "duration": 5,
    "start_time": "2022-11-29T09:34:58.312Z"
   },
   {
    "duration": 53,
    "start_time": "2022-11-29T18:52:45.288Z"
   },
   {
    "duration": 2949,
    "start_time": "2022-11-29T18:53:30.256Z"
   },
   {
    "duration": 1529,
    "start_time": "2022-11-29T18:53:33.208Z"
   },
   {
    "duration": 1092,
    "start_time": "2022-11-29T18:53:34.940Z"
   },
   {
    "duration": 368,
    "start_time": "2022-11-29T18:53:39.753Z"
   },
   {
    "duration": 18,
    "start_time": "2022-11-29T18:53:40.123Z"
   },
   {
    "duration": 7,
    "start_time": "2022-11-29T18:53:40.231Z"
   },
   {
    "duration": 120,
    "start_time": "2022-11-29T18:53:40.731Z"
   },
   {
    "duration": 896,
    "start_time": "2022-11-29T18:53:41.051Z"
   },
   {
    "duration": 283,
    "start_time": "2022-11-29T18:53:41.949Z"
   },
   {
    "duration": 630,
    "start_time": "2022-11-29T18:53:42.234Z"
   },
   {
    "duration": 12,
    "start_time": "2022-11-29T18:53:42.866Z"
   },
   {
    "duration": 8,
    "start_time": "2022-11-29T18:53:42.880Z"
   },
   {
    "duration": 35,
    "start_time": "2022-11-29T18:53:43.208Z"
   },
   {
    "duration": 65,
    "start_time": "2022-11-29T18:53:43.380Z"
   },
   {
    "duration": 477,
    "start_time": "2022-11-29T18:53:43.886Z"
   },
   {
    "duration": 303,
    "start_time": "2022-11-29T18:53:44.365Z"
   },
   {
    "duration": 15,
    "start_time": "2022-11-29T18:53:44.670Z"
   },
   {
    "duration": 121,
    "start_time": "2022-11-29T18:53:44.687Z"
   },
   {
    "duration": 306,
    "start_time": "2022-11-29T18:53:44.811Z"
   },
   {
    "duration": 316,
    "start_time": "2022-11-29T18:53:45.119Z"
   },
   {
    "duration": 223,
    "start_time": "2022-11-29T18:53:45.453Z"
   },
   {
    "duration": 15,
    "start_time": "2022-11-29T18:53:45.774Z"
   },
   {
    "duration": 19,
    "start_time": "2022-11-29T18:53:46.112Z"
   },
   {
    "duration": 172,
    "start_time": "2022-11-29T18:53:46.284Z"
   },
   {
    "duration": 53,
    "start_time": "2022-11-29T18:53:46.822Z"
   },
   {
    "duration": 31,
    "start_time": "2022-11-29T18:53:47.167Z"
   },
   {
    "duration": 72,
    "start_time": "2022-11-29T18:53:47.515Z"
   },
   {
    "duration": 14,
    "start_time": "2022-11-29T18:53:47.837Z"
   },
   {
    "duration": 3,
    "start_time": "2022-11-29T18:53:48.182Z"
   },
   {
    "duration": 2561,
    "start_time": "2022-11-29T18:53:48.360Z"
   },
   {
    "duration": 9,
    "start_time": "2022-11-29T18:53:50.923Z"
   },
   {
    "duration": 85,
    "start_time": "2022-11-29T18:53:50.933Z"
   },
   {
    "duration": 13,
    "start_time": "2022-11-29T18:53:51.020Z"
   },
   {
    "duration": 1805,
    "start_time": "2022-11-29T18:53:51.034Z"
   },
   {
    "duration": 57,
    "start_time": "2022-11-29T18:53:52.841Z"
   },
   {
    "duration": 9,
    "start_time": "2022-11-29T18:53:52.899Z"
   },
   {
    "duration": 110,
    "start_time": "2022-11-29T18:53:52.910Z"
   },
   {
    "duration": 14,
    "start_time": "2022-11-29T18:53:53.022Z"
   },
   {
    "duration": 23,
    "start_time": "2022-11-29T18:53:53.038Z"
   },
   {
    "duration": 5,
    "start_time": "2022-11-29T18:53:54.803Z"
   },
   {
    "duration": 26,
    "start_time": "2022-11-29T18:53:55.646Z"
   },
   {
    "duration": 345,
    "start_time": "2022-11-29T18:53:56.140Z"
   },
   {
    "duration": 12,
    "start_time": "2022-11-29T18:53:56.602Z"
   },
   {
    "duration": 481,
    "start_time": "2022-11-29T18:53:57.434Z"
   },
   {
    "duration": 81,
    "start_time": "2022-11-29T18:54:13.661Z"
   },
   {
    "duration": 25344,
    "start_time": "2022-11-29T18:54:19.639Z"
   },
   {
    "duration": 95,
    "start_time": "2022-11-29T18:54:44.985Z"
   },
   {
    "duration": 9,
    "start_time": "2022-11-29T18:54:49.567Z"
   },
   {
    "duration": 9,
    "start_time": "2022-11-29T18:54:55.200Z"
   },
   {
    "duration": 90789,
    "start_time": "2022-11-29T18:55:02.091Z"
   },
   {
    "duration": 95,
    "start_time": "2022-11-29T18:56:32.883Z"
   },
   {
    "duration": 2129,
    "start_time": "2022-11-29T19:29:56.342Z"
   },
   {
    "duration": 1384,
    "start_time": "2022-11-29T19:29:58.473Z"
   },
   {
    "duration": 818,
    "start_time": "2022-11-29T19:29:59.859Z"
   },
   {
    "duration": 520,
    "start_time": "2022-11-29T19:30:00.679Z"
   },
   {
    "duration": 17,
    "start_time": "2022-11-29T19:30:01.200Z"
   },
   {
    "duration": 45,
    "start_time": "2022-11-29T19:30:01.219Z"
   },
   {
    "duration": 163,
    "start_time": "2022-11-29T19:30:01.266Z"
   },
   {
    "duration": 923,
    "start_time": "2022-11-29T19:30:01.431Z"
   },
   {
    "duration": 280,
    "start_time": "2022-11-29T19:30:02.356Z"
   },
   {
    "duration": 540,
    "start_time": "2022-11-29T19:30:02.638Z"
   },
   {
    "duration": 4,
    "start_time": "2022-11-29T19:30:03.179Z"
   },
   {
    "duration": 15,
    "start_time": "2022-11-29T19:30:03.185Z"
   },
   {
    "duration": 47,
    "start_time": "2022-11-29T19:30:03.202Z"
   },
   {
    "duration": 66,
    "start_time": "2022-11-29T19:30:03.250Z"
   },
   {
    "duration": 511,
    "start_time": "2022-11-29T19:30:03.318Z"
   },
   {
    "duration": 301,
    "start_time": "2022-11-29T19:30:03.831Z"
   },
   {
    "duration": 13,
    "start_time": "2022-11-29T19:30:04.134Z"
   },
   {
    "duration": 110,
    "start_time": "2022-11-29T19:30:04.149Z"
   },
   {
    "duration": 257,
    "start_time": "2022-11-29T19:30:04.261Z"
   },
   {
    "duration": 330,
    "start_time": "2022-11-29T19:30:04.520Z"
   },
   {
    "duration": 276,
    "start_time": "2022-11-29T19:30:04.852Z"
   },
   {
    "duration": 15,
    "start_time": "2022-11-29T19:30:05.130Z"
   },
   {
    "duration": 33,
    "start_time": "2022-11-29T19:30:05.146Z"
   },
   {
    "duration": 231,
    "start_time": "2022-11-29T19:30:05.181Z"
   },
   {
    "duration": 65,
    "start_time": "2022-11-29T19:30:05.414Z"
   },
   {
    "duration": 64,
    "start_time": "2022-11-29T19:30:05.480Z"
   },
   {
    "duration": 80,
    "start_time": "2022-11-29T19:30:05.545Z"
   },
   {
    "duration": 14,
    "start_time": "2022-11-29T19:30:05.629Z"
   },
   {
    "duration": 20,
    "start_time": "2022-11-29T19:30:05.644Z"
   },
   {
    "duration": 3711,
    "start_time": "2022-11-29T19:30:05.666Z"
   },
   {
    "duration": 10,
    "start_time": "2022-11-29T19:30:09.378Z"
   },
   {
    "duration": 74,
    "start_time": "2022-11-29T19:30:09.389Z"
   },
   {
    "duration": 19,
    "start_time": "2022-11-29T19:30:09.476Z"
   },
   {
    "duration": 1828,
    "start_time": "2022-11-29T19:30:09.497Z"
   },
   {
    "duration": 58,
    "start_time": "2022-11-29T19:30:11.326Z"
   },
   {
    "duration": 9,
    "start_time": "2022-11-29T19:30:11.386Z"
   },
   {
    "duration": 111,
    "start_time": "2022-11-29T19:30:11.397Z"
   },
   {
    "duration": 15,
    "start_time": "2022-11-29T19:30:11.510Z"
   },
   {
    "duration": 22,
    "start_time": "2022-11-29T19:30:11.527Z"
   },
   {
    "duration": 25,
    "start_time": "2022-11-29T19:30:11.551Z"
   },
   {
    "duration": 37,
    "start_time": "2022-11-29T19:30:11.578Z"
   },
   {
    "duration": 353,
    "start_time": "2022-11-29T19:30:11.616Z"
   },
   {
    "duration": 16,
    "start_time": "2022-11-29T19:30:11.970Z"
   },
   {
    "duration": 482,
    "start_time": "2022-11-29T19:30:11.988Z"
   },
   {
    "duration": 557790,
    "start_time": "2022-11-29T19:30:12.472Z"
   },
   {
    "duration": 25213,
    "start_time": "2022-11-29T19:39:30.264Z"
   },
   {
    "duration": 5,
    "start_time": "2022-11-29T19:39:55.479Z"
   },
   {
    "duration": 87621,
    "start_time": "2022-11-29T19:39:55.485Z"
   },
   {
    "duration": 94,
    "start_time": "2022-11-29T19:41:23.181Z"
   },
   {
    "duration": 14213,
    "start_time": "2022-11-29T19:41:23.277Z"
   },
   {
    "duration": 4,
    "start_time": "2022-11-29T19:41:37.492Z"
   },
   {
    "duration": 19810,
    "start_time": "2022-11-29T19:41:37.497Z"
   },
   {
    "duration": 4,
    "start_time": "2022-11-29T19:41:57.376Z"
   },
   {
    "duration": 46137,
    "start_time": "2022-11-29T19:41:57.382Z"
   },
   {
    "duration": 4,
    "start_time": "2022-11-29T19:42:43.522Z"
   },
   {
    "duration": 35,
    "start_time": "2022-11-29T19:42:43.528Z"
   },
   {
    "duration": 19,
    "start_time": "2022-11-29T19:42:43.565Z"
   },
   {
    "duration": 16,
    "start_time": "2022-11-29T19:42:43.585Z"
   },
   {
    "duration": 11,
    "start_time": "2022-11-29T19:42:43.603Z"
   },
   {
    "duration": 12951,
    "start_time": "2022-11-29T19:42:43.616Z"
   },
   {
    "duration": 8,
    "start_time": "2022-11-29T19:42:56.569Z"
   },
   {
    "duration": 20,
    "start_time": "2022-11-29T19:42:56.580Z"
   },
   {
    "duration": 43,
    "start_time": "2022-11-29T19:46:09.895Z"
   },
   {
    "duration": 13,
    "start_time": "2022-11-29T19:46:15.560Z"
   },
   {
    "duration": 7,
    "start_time": "2022-11-29T19:47:36.760Z"
   },
   {
    "duration": 2930,
    "start_time": "2022-11-30T07:40:38.257Z"
   },
   {
    "duration": 1666,
    "start_time": "2022-11-30T07:40:41.189Z"
   },
   {
    "duration": 1152,
    "start_time": "2022-11-30T07:40:42.857Z"
   },
   {
    "duration": 385,
    "start_time": "2022-11-30T07:40:44.012Z"
   },
   {
    "duration": 19,
    "start_time": "2022-11-30T07:40:44.399Z"
   },
   {
    "duration": 7,
    "start_time": "2022-11-30T07:40:44.419Z"
   },
   {
    "duration": 134,
    "start_time": "2022-11-30T07:40:44.428Z"
   },
   {
    "duration": 1032,
    "start_time": "2022-11-30T07:40:44.564Z"
   },
   {
    "duration": 333,
    "start_time": "2022-11-30T07:40:45.600Z"
   },
   {
    "duration": 614,
    "start_time": "2022-11-30T07:40:45.934Z"
   },
   {
    "duration": 5,
    "start_time": "2022-11-30T07:40:46.550Z"
   },
   {
    "duration": 20,
    "start_time": "2022-11-30T07:40:46.557Z"
   },
   {
    "duration": 45,
    "start_time": "2022-11-30T07:40:46.579Z"
   },
   {
    "duration": 98,
    "start_time": "2022-11-30T07:40:46.626Z"
   },
   {
    "duration": 504,
    "start_time": "2022-11-30T07:40:46.726Z"
   },
   {
    "duration": 314,
    "start_time": "2022-11-30T07:40:47.233Z"
   },
   {
    "duration": 12,
    "start_time": "2022-11-30T07:40:47.549Z"
   },
   {
    "duration": 110,
    "start_time": "2022-11-30T07:40:47.563Z"
   },
   {
    "duration": 326,
    "start_time": "2022-11-30T07:40:47.675Z"
   },
   {
    "duration": 352,
    "start_time": "2022-11-30T07:40:48.003Z"
   },
   {
    "duration": 252,
    "start_time": "2022-11-30T07:40:48.357Z"
   },
   {
    "duration": 15,
    "start_time": "2022-11-30T07:40:48.611Z"
   },
   {
    "duration": 21,
    "start_time": "2022-11-30T07:40:48.628Z"
   },
   {
    "duration": 229,
    "start_time": "2022-11-30T07:40:48.652Z"
   },
   {
    "duration": 70,
    "start_time": "2022-11-30T07:40:48.882Z"
   },
   {
    "duration": 46,
    "start_time": "2022-11-30T07:40:48.954Z"
   },
   {
    "duration": 114,
    "start_time": "2022-11-30T07:40:49.003Z"
   },
   {
    "duration": 20,
    "start_time": "2022-11-30T07:40:49.119Z"
   },
   {
    "duration": 7,
    "start_time": "2022-11-30T07:40:49.142Z"
   },
   {
    "duration": 2974,
    "start_time": "2022-11-30T07:40:49.151Z"
   },
   {
    "duration": 11,
    "start_time": "2022-11-30T07:40:52.127Z"
   },
   {
    "duration": 93,
    "start_time": "2022-11-30T07:40:52.139Z"
   },
   {
    "duration": 13,
    "start_time": "2022-11-30T07:40:52.234Z"
   },
   {
    "duration": 2028,
    "start_time": "2022-11-30T07:40:52.249Z"
   },
   {
    "duration": 58,
    "start_time": "2022-11-30T07:40:54.279Z"
   },
   {
    "duration": 12,
    "start_time": "2022-11-30T07:40:54.339Z"
   },
   {
    "duration": 129,
    "start_time": "2022-11-30T07:40:54.353Z"
   },
   {
    "duration": 25,
    "start_time": "2022-11-30T07:40:54.485Z"
   },
   {
    "duration": 29,
    "start_time": "2022-11-30T07:40:54.512Z"
   },
   {
    "duration": 6,
    "start_time": "2022-11-30T07:40:54.544Z"
   },
   {
    "duration": 55,
    "start_time": "2022-11-30T07:40:54.552Z"
   },
   {
    "duration": 409,
    "start_time": "2022-11-30T07:40:54.610Z"
   },
   {
    "duration": 16,
    "start_time": "2022-11-30T07:40:55.021Z"
   },
   {
    "duration": 560,
    "start_time": "2022-11-30T07:40:55.039Z"
   },
   {
    "duration": 366549,
    "start_time": "2022-11-30T07:41:00.160Z"
   },
   {
    "duration": 127,
    "start_time": "2022-11-30T07:47:22.063Z"
   },
   {
    "duration": 7,
    "start_time": "2022-11-30T07:47:26.635Z"
   },
   {
    "duration": 4,
    "start_time": "2022-11-30T07:47:28.393Z"
   },
   {
    "duration": 5,
    "start_time": "2022-11-30T07:48:55.147Z"
   },
   {
    "duration": 9,
    "start_time": "2022-11-30T07:55:48.031Z"
   },
   {
    "duration": 5,
    "start_time": "2022-11-30T07:56:53.163Z"
   },
   {
    "duration": 6,
    "start_time": "2022-11-30T07:57:47.767Z"
   },
   {
    "duration": 4,
    "start_time": "2022-11-30T07:57:49.656Z"
   },
   {
    "duration": 7,
    "start_time": "2022-11-30T07:57:59.539Z"
   },
   {
    "duration": 3,
    "start_time": "2022-11-30T07:59:38.676Z"
   },
   {
    "duration": 13,
    "start_time": "2022-11-30T07:59:56.041Z"
   },
   {
    "duration": 3,
    "start_time": "2022-11-30T07:59:59.433Z"
   },
   {
    "duration": 12,
    "start_time": "2022-11-30T08:00:30.746Z"
   },
   {
    "duration": 24,
    "start_time": "2022-11-30T08:00:33.901Z"
   },
   {
    "duration": 10,
    "start_time": "2022-11-30T08:00:41.911Z"
   },
   {
    "duration": 7,
    "start_time": "2022-11-30T09:47:11.455Z"
   },
   {
    "duration": 138,
    "start_time": "2022-11-30T10:08:59.490Z"
   },
   {
    "duration": 7,
    "start_time": "2022-11-30T10:09:19.914Z"
   },
   {
    "duration": 177806,
    "start_time": "2022-11-30T10:09:27.096Z"
   },
   {
    "duration": 23,
    "start_time": "2022-11-30T10:13:55.726Z"
   },
   {
    "duration": 113782,
    "start_time": "2022-11-30T10:14:00.921Z"
   },
   {
    "duration": 93,
    "start_time": "2022-11-30T10:15:54.705Z"
   },
   {
    "duration": 4,
    "start_time": "2022-11-30T10:17:49.368Z"
   },
   {
    "duration": 5,
    "start_time": "2022-11-30T10:17:53.805Z"
   },
   {
    "duration": 6,
    "start_time": "2022-11-30T10:18:06.120Z"
   },
   {
    "duration": 6,
    "start_time": "2022-11-30T10:19:44.718Z"
   },
   {
    "duration": 4,
    "start_time": "2022-11-30T10:19:51.732Z"
   },
   {
    "duration": 118446,
    "start_time": "2022-11-30T10:22:20.853Z"
   },
   {
    "duration": 4,
    "start_time": "2022-11-30T10:32:08.859Z"
   },
   {
    "duration": 4,
    "start_time": "2022-11-30T10:32:13.792Z"
   },
   {
    "duration": 4,
    "start_time": "2022-11-30T10:33:34.120Z"
   },
   {
    "duration": 6,
    "start_time": "2022-11-30T10:34:29.613Z"
   },
   {
    "duration": 1459640,
    "start_time": "2022-11-30T10:38:14.470Z"
   },
   {
    "duration": 6,
    "start_time": "2022-11-30T11:13:00.375Z"
   },
   {
    "duration": 17078,
    "start_time": "2022-11-30T11:34:40.779Z"
   },
   {
    "duration": 5,
    "start_time": "2022-11-30T11:34:57.859Z"
   },
   {
    "duration": 65033,
    "start_time": "2022-11-30T11:34:57.866Z"
   },
   {
    "duration": 1401698,
    "start_time": "2022-11-30T11:37:06.202Z"
   },
   {
    "duration": 4,
    "start_time": "2022-11-30T12:00:27.903Z"
   },
   {
    "duration": 87713,
    "start_time": "2022-11-30T12:23:48.000Z"
   },
   {
    "duration": 181299,
    "start_time": "2022-11-30T12:26:23.926Z"
   },
   {
    "duration": 46606,
    "start_time": "2022-11-30T12:29:25.227Z"
   },
   {
    "duration": 4,
    "start_time": "2022-11-30T12:30:11.835Z"
   },
   {
    "duration": 11,
    "start_time": "2022-11-30T12:32:32.944Z"
   },
   {
    "duration": 47760,
    "start_time": "2022-11-30T12:46:47.121Z"
   },
   {
    "duration": 16,
    "start_time": "2022-11-30T12:47:34.883Z"
   },
   {
    "duration": 4,
    "start_time": "2022-11-30T12:48:49.338Z"
   },
   {
    "duration": 4,
    "start_time": "2022-11-30T12:55:03.346Z"
   },
   {
    "duration": 5,
    "start_time": "2022-11-30T12:55:03.905Z"
   },
   {
    "duration": 47487,
    "start_time": "2022-11-30T13:06:07.562Z"
   },
   {
    "duration": 4,
    "start_time": "2022-11-30T13:06:55.051Z"
   },
   {
    "duration": 366117,
    "start_time": "2022-11-30T13:12:29.397Z"
   },
   {
    "duration": 2,
    "start_time": "2022-11-30T13:18:35.516Z"
   },
   {
    "duration": 3147,
    "start_time": "2022-12-01T07:07:24.063Z"
   },
   {
    "duration": 2336,
    "start_time": "2022-12-01T07:07:31.014Z"
   },
   {
    "duration": 1078,
    "start_time": "2022-12-01T07:07:33.423Z"
   },
   {
    "duration": 384,
    "start_time": "2022-12-01T07:07:36.159Z"
   },
   {
    "duration": 32,
    "start_time": "2022-12-01T07:07:36.545Z"
   },
   {
    "duration": 7,
    "start_time": "2022-12-01T07:07:36.842Z"
   },
   {
    "duration": 116,
    "start_time": "2022-12-01T07:07:40.322Z"
   },
   {
    "duration": 952,
    "start_time": "2022-12-01T07:07:40.830Z"
   },
   {
    "duration": 306,
    "start_time": "2022-12-01T07:07:43.830Z"
   },
   {
    "duration": 733,
    "start_time": "2022-12-01T07:07:49.561Z"
   },
   {
    "duration": 327940,
    "start_time": "2022-12-01T07:08:00.526Z"
   },
   {
    "duration": 46,
    "start_time": "2023-02-06T21:03:15.218Z"
   }
  ],
  "kernelspec": {
   "display_name": "Python 3 (ipykernel)",
   "language": "python",
   "name": "python3"
  },
  "language_info": {
   "codemirror_mode": {
    "name": "ipython",
    "version": 3
   },
   "file_extension": ".py",
   "mimetype": "text/x-python",
   "name": "python",
   "nbconvert_exporter": "python",
   "pygments_lexer": "ipython3",
   "version": "3.9.12"
  },
  "toc": {
   "base_numbering": 1,
   "nav_menu": {},
   "number_sections": true,
   "sideBar": true,
   "skip_h1_title": true,
   "title_cell": "Table of Contents",
   "title_sidebar": "Contents",
   "toc_cell": false,
   "toc_position": {
    "height": "calc(100% - 180px)",
    "left": "10px",
    "top": "150px",
    "width": "360px"
   },
   "toc_section_display": true,
   "toc_window_display": true
  }
 },
 "nbformat": 4,
 "nbformat_minor": 2
}
