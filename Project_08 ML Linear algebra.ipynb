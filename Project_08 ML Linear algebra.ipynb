{
 "cells": [
  {
   "cell_type": "markdown",
   "metadata": {
    "toc": true
   },
   "source": [
    "<h1>Содержание<span class=\"tocSkip\"></span></h1>\n",
    "<div class=\"toc\"><ul class=\"toc-item\"><li><span><a href=\"#Загрузка-данных\" data-toc-modified-id=\"Загрузка-данных-1\"><span class=\"toc-item-num\">1&nbsp;&nbsp;</span>Загрузка данных</a></span></li><li><span><a href=\"#Умножение-матриц\" data-toc-modified-id=\"Умножение-матриц-2\"><span class=\"toc-item-num\">2&nbsp;&nbsp;</span>Умножение матриц</a></span></li><li><span><a href=\"#Алгоритм-преобразования\" data-toc-modified-id=\"Алгоритм-преобразования-3\"><span class=\"toc-item-num\">3&nbsp;&nbsp;</span>Алгоритм преобразования</a></span></li><li><span><a href=\"#Проверка-алгоритма\" data-toc-modified-id=\"Проверка-алгоритма-4\"><span class=\"toc-item-num\">4&nbsp;&nbsp;</span>Проверка алгоритма</a></span><ul class=\"toc-item\"><li><span><a href=\"#Проверка-модели\" data-toc-modified-id=\"Проверка-модели-4.1\"><span class=\"toc-item-num\">4.1&nbsp;&nbsp;</span>Проверка модели</a></span><ul class=\"toc-item\"><li><span><a href=\"#Поделим-на-обучающие-и-тестовые-выборки-непреобразованные-признаки--features-и-целевые-значения-target-для-оценки-модели:\" data-toc-modified-id=\"Поделим-на-обучающие-и-тестовые-выборки-непреобразованные-признаки--features-и-целевые-значения-target-для-оценки-модели:-4.1.1\"><span class=\"toc-item-num\">4.1.1&nbsp;&nbsp;</span>Поделим на обучающие и тестовые выборки непреобразованные признаки  <code>features</code> и целевые значения <code>target</code> для оценки модели:</a></span></li><li><span><a href=\"#Поделим-на-обучающие-и-тестовые-выборки-преобразованные-признаки--features_encrypted-и-целевые-значения-target-для-оценки-модели:\" data-toc-modified-id=\"Поделим-на-обучающие-и-тестовые-выборки-преобразованные-признаки--features_encrypted-и-целевые-значения-target-для-оценки-модели:-4.1.2\"><span class=\"toc-item-num\">4.1.2&nbsp;&nbsp;</span>Поделим на обучающие и тестовые выборки преобразованные признаки  <code>features_encrypted</code> и целевые значения <code>target</code> для оценки модели:</a></span></li></ul></li></ul></li><li><span><a href=\"#Чек-лист-проверки\" data-toc-modified-id=\"Чек-лист-проверки-5\"><span class=\"toc-item-num\">5&nbsp;&nbsp;</span>Чек-лист проверки</a></span></li></ul></div>"
   ]
  },
  {
   "cell_type": "markdown",
   "metadata": {},
   "source": [
    "# Защита персональных данных клиентов"
   ]
  },
  {
   "cell_type": "markdown",
   "metadata": {},
   "source": [
    "Цель: защитить данные клиентов страховой компании «Хоть потоп». Разработайте такой метод преобразования данных, чтобы по ним было сложно восстановить персональную информацию. Обоснуйте корректность его работы.\n",
    "\n",
    "Качество моделей машинного обучения не должно ухудшиться. Подбирать наилучшую модель не требуется.\n",
    "\n",
    "План выполнения проекта:\n",
    "1. Загрузить и изучить данные.\n",
    "2. Ответить на вопрос и обосновать решение. Признаки умножают на обратимую матрицу. Изменится ли качество линейной регрессии\n",
    "- Изменится. Приведите примеры матриц.\n",
    "- Не изменится. Укажите, как связаны параметры линейной регрессии в исходной задаче и в преобразованной.\n",
    "3. Предложить алгоритм преобразования данных для решения задачи. Обосновать, почему качество линейной регрессии не поменяется.\n",
    "4. Запрограммировать этот алгоритм, применив матричные операции. Проверить, что качество линейной регрессии из sklearn не отличается до и после преобразования. Применить метрику R2."
   ]
  },
  {
   "cell_type": "markdown",
   "metadata": {},
   "source": [
    "## Загрузка данных"
   ]
  },
  {
   "cell_type": "code",
   "execution_count": 2,
   "metadata": {},
   "outputs": [],
   "source": [
    "import pandas as pd\n",
    "import numpy as np\n",
    "from numpy.linalg import inv\n",
    "import matplotlib.pyplot as plt\n",
    "import seaborn as sns\n",
    "\n",
    "from sklearn.model_selection import train_test_split\n",
    "from sklearn.metrics import r2_score\n",
    "from sklearn.linear_model import LinearRegression\n",
    "\n",
    "import phik\n",
    "from phik.report import plot_correlation_matrix\n",
    "from phik import report"
   ]
  },
  {
   "cell_type": "code",
   "execution_count": 3,
   "metadata": {},
   "outputs": [],
   "source": [
    "df = pd.read_csv('insurance.csv')"
   ]
  },
  {
   "cell_type": "code",
   "execution_count": 4,
   "metadata": {
    "scrolled": true
   },
   "outputs": [
    {
     "name": "stdout",
     "output_type": "stream",
     "text": [
      "<class 'pandas.core.frame.DataFrame'>\n",
      "RangeIndex: 5000 entries, 0 to 4999\n",
      "Data columns (total 5 columns):\n",
      " #   Column             Non-Null Count  Dtype  \n",
      "---  ------             --------------  -----  \n",
      " 0   Пол                5000 non-null   int64  \n",
      " 1   Возраст            5000 non-null   float64\n",
      " 2   Зарплата           5000 non-null   float64\n",
      " 3   Члены семьи        5000 non-null   int64  \n",
      " 4   Страховые выплаты  5000 non-null   int64  \n",
      "dtypes: float64(2), int64(3)\n",
      "memory usage: 195.4 KB\n"
     ]
    }
   ],
   "source": [
    "df.info(memory_usage='deep')"
   ]
  },
  {
   "cell_type": "code",
   "execution_count": 5,
   "metadata": {},
   "outputs": [
    {
     "data": {
      "text/html": [
       "<div>\n",
       "<style scoped>\n",
       "    .dataframe tbody tr th:only-of-type {\n",
       "        vertical-align: middle;\n",
       "    }\n",
       "\n",
       "    .dataframe tbody tr th {\n",
       "        vertical-align: top;\n",
       "    }\n",
       "\n",
       "    .dataframe thead th {\n",
       "        text-align: right;\n",
       "    }\n",
       "</style>\n",
       "<table border=\"1\" class=\"dataframe\">\n",
       "  <thead>\n",
       "    <tr style=\"text-align: right;\">\n",
       "      <th></th>\n",
       "      <th>Пол</th>\n",
       "      <th>Возраст</th>\n",
       "      <th>Зарплата</th>\n",
       "      <th>Члены семьи</th>\n",
       "      <th>Страховые выплаты</th>\n",
       "    </tr>\n",
       "  </thead>\n",
       "  <tbody>\n",
       "    <tr>\n",
       "      <th>0</th>\n",
       "      <td>1</td>\n",
       "      <td>41.0</td>\n",
       "      <td>49600.0</td>\n",
       "      <td>1</td>\n",
       "      <td>0</td>\n",
       "    </tr>\n",
       "    <tr>\n",
       "      <th>1</th>\n",
       "      <td>0</td>\n",
       "      <td>46.0</td>\n",
       "      <td>38000.0</td>\n",
       "      <td>1</td>\n",
       "      <td>1</td>\n",
       "    </tr>\n",
       "    <tr>\n",
       "      <th>2</th>\n",
       "      <td>0</td>\n",
       "      <td>29.0</td>\n",
       "      <td>21000.0</td>\n",
       "      <td>0</td>\n",
       "      <td>0</td>\n",
       "    </tr>\n",
       "    <tr>\n",
       "      <th>3</th>\n",
       "      <td>0</td>\n",
       "      <td>21.0</td>\n",
       "      <td>41700.0</td>\n",
       "      <td>2</td>\n",
       "      <td>0</td>\n",
       "    </tr>\n",
       "    <tr>\n",
       "      <th>4</th>\n",
       "      <td>1</td>\n",
       "      <td>28.0</td>\n",
       "      <td>26100.0</td>\n",
       "      <td>0</td>\n",
       "      <td>0</td>\n",
       "    </tr>\n",
       "    <tr>\n",
       "      <th>5</th>\n",
       "      <td>1</td>\n",
       "      <td>43.0</td>\n",
       "      <td>41000.0</td>\n",
       "      <td>2</td>\n",
       "      <td>1</td>\n",
       "    </tr>\n",
       "    <tr>\n",
       "      <th>6</th>\n",
       "      <td>1</td>\n",
       "      <td>39.0</td>\n",
       "      <td>39700.0</td>\n",
       "      <td>2</td>\n",
       "      <td>0</td>\n",
       "    </tr>\n",
       "    <tr>\n",
       "      <th>7</th>\n",
       "      <td>1</td>\n",
       "      <td>25.0</td>\n",
       "      <td>38600.0</td>\n",
       "      <td>4</td>\n",
       "      <td>0</td>\n",
       "    </tr>\n",
       "    <tr>\n",
       "      <th>8</th>\n",
       "      <td>1</td>\n",
       "      <td>36.0</td>\n",
       "      <td>49700.0</td>\n",
       "      <td>1</td>\n",
       "      <td>0</td>\n",
       "    </tr>\n",
       "    <tr>\n",
       "      <th>9</th>\n",
       "      <td>1</td>\n",
       "      <td>32.0</td>\n",
       "      <td>51700.0</td>\n",
       "      <td>1</td>\n",
       "      <td>0</td>\n",
       "    </tr>\n",
       "  </tbody>\n",
       "</table>\n",
       "</div>"
      ],
      "text/plain": [
       "   Пол  Возраст  Зарплата  Члены семьи  Страховые выплаты\n",
       "0    1     41.0   49600.0            1                  0\n",
       "1    0     46.0   38000.0            1                  1\n",
       "2    0     29.0   21000.0            0                  0\n",
       "3    0     21.0   41700.0            2                  0\n",
       "4    1     28.0   26100.0            0                  0\n",
       "5    1     43.0   41000.0            2                  1\n",
       "6    1     39.0   39700.0            2                  0\n",
       "7    1     25.0   38600.0            4                  0\n",
       "8    1     36.0   49700.0            1                  0\n",
       "9    1     32.0   51700.0            1                  0"
      ]
     },
     "metadata": {},
     "output_type": "display_data"
    }
   ],
   "source": [
    "display(df.head(10))"
   ]
  },
  {
   "cell_type": "code",
   "execution_count": 6,
   "metadata": {
    "scrolled": true
   },
   "outputs": [
    {
     "data": {
      "text/html": [
       "<div>\n",
       "<style scoped>\n",
       "    .dataframe tbody tr th:only-of-type {\n",
       "        vertical-align: middle;\n",
       "    }\n",
       "\n",
       "    .dataframe tbody tr th {\n",
       "        vertical-align: top;\n",
       "    }\n",
       "\n",
       "    .dataframe thead th {\n",
       "        text-align: right;\n",
       "    }\n",
       "</style>\n",
       "<table border=\"1\" class=\"dataframe\">\n",
       "  <thead>\n",
       "    <tr style=\"text-align: right;\">\n",
       "      <th></th>\n",
       "      <th>Пол</th>\n",
       "      <th>Возраст</th>\n",
       "      <th>Зарплата</th>\n",
       "      <th>Члены семьи</th>\n",
       "      <th>Страховые выплаты</th>\n",
       "    </tr>\n",
       "  </thead>\n",
       "  <tbody>\n",
       "    <tr>\n",
       "      <th>count</th>\n",
       "      <td>5000.000000</td>\n",
       "      <td>5000.000000</td>\n",
       "      <td>5000.000000</td>\n",
       "      <td>5000.000000</td>\n",
       "      <td>5000.000000</td>\n",
       "    </tr>\n",
       "    <tr>\n",
       "      <th>mean</th>\n",
       "      <td>0.499000</td>\n",
       "      <td>30.952800</td>\n",
       "      <td>39916.360000</td>\n",
       "      <td>1.194200</td>\n",
       "      <td>0.148000</td>\n",
       "    </tr>\n",
       "    <tr>\n",
       "      <th>std</th>\n",
       "      <td>0.500049</td>\n",
       "      <td>8.440807</td>\n",
       "      <td>9900.083569</td>\n",
       "      <td>1.091387</td>\n",
       "      <td>0.463183</td>\n",
       "    </tr>\n",
       "    <tr>\n",
       "      <th>min</th>\n",
       "      <td>0.000000</td>\n",
       "      <td>18.000000</td>\n",
       "      <td>5300.000000</td>\n",
       "      <td>0.000000</td>\n",
       "      <td>0.000000</td>\n",
       "    </tr>\n",
       "    <tr>\n",
       "      <th>25%</th>\n",
       "      <td>0.000000</td>\n",
       "      <td>24.000000</td>\n",
       "      <td>33300.000000</td>\n",
       "      <td>0.000000</td>\n",
       "      <td>0.000000</td>\n",
       "    </tr>\n",
       "    <tr>\n",
       "      <th>50%</th>\n",
       "      <td>0.000000</td>\n",
       "      <td>30.000000</td>\n",
       "      <td>40200.000000</td>\n",
       "      <td>1.000000</td>\n",
       "      <td>0.000000</td>\n",
       "    </tr>\n",
       "    <tr>\n",
       "      <th>75%</th>\n",
       "      <td>1.000000</td>\n",
       "      <td>37.000000</td>\n",
       "      <td>46600.000000</td>\n",
       "      <td>2.000000</td>\n",
       "      <td>0.000000</td>\n",
       "    </tr>\n",
       "    <tr>\n",
       "      <th>max</th>\n",
       "      <td>1.000000</td>\n",
       "      <td>65.000000</td>\n",
       "      <td>79000.000000</td>\n",
       "      <td>6.000000</td>\n",
       "      <td>5.000000</td>\n",
       "    </tr>\n",
       "  </tbody>\n",
       "</table>\n",
       "</div>"
      ],
      "text/plain": [
       "               Пол      Возраст      Зарплата  Члены семьи  Страховые выплаты\n",
       "count  5000.000000  5000.000000   5000.000000  5000.000000        5000.000000\n",
       "mean      0.499000    30.952800  39916.360000     1.194200           0.148000\n",
       "std       0.500049     8.440807   9900.083569     1.091387           0.463183\n",
       "min       0.000000    18.000000   5300.000000     0.000000           0.000000\n",
       "25%       0.000000    24.000000  33300.000000     0.000000           0.000000\n",
       "50%       0.000000    30.000000  40200.000000     1.000000           0.000000\n",
       "75%       1.000000    37.000000  46600.000000     2.000000           0.000000\n",
       "max       1.000000    65.000000  79000.000000     6.000000           5.000000"
      ]
     },
     "execution_count": 6,
     "metadata": {},
     "output_type": "execute_result"
    }
   ],
   "source": [
    "df.describe()"
   ]
  },
  {
   "cell_type": "code",
   "execution_count": 7,
   "metadata": {},
   "outputs": [
    {
     "data": {
      "text/plain": [
       "153"
      ]
     },
     "execution_count": 7,
     "metadata": {},
     "output_type": "execute_result"
    }
   ],
   "source": [
    "df.duplicated().sum()"
   ]
  },
  {
   "cell_type": "markdown",
   "metadata": {},
   "source": [
    "Приведем типы данных в соответствие для сокращения расходования оперативной памяти:"
   ]
  },
  {
   "cell_type": "code",
   "execution_count": 8,
   "metadata": {},
   "outputs": [
    {
     "data": {
      "text/html": [
       "<style  type=\"text/css\" >\n",
       "</style><table id=\"T_892f8_\" ><thead>    <tr>        <th class=\"blank level0\" ></th>        <th class=\"col_heading level0 col0\" >Пол</th>        <th class=\"col_heading level0 col1\" >Возраст</th>        <th class=\"col_heading level0 col2\" >Зарплата</th>        <th class=\"col_heading level0 col3\" >Члены семьи</th>        <th class=\"col_heading level0 col4\" >Страховые выплаты</th>    </tr></thead><tbody>\n",
       "                <tr>\n",
       "                        <th id=\"T_892f8_level0_row0\" class=\"row_heading level0 row0\" >count</th>\n",
       "                        <td id=\"T_892f8_row0_col0\" class=\"data row0 col0\" >5,000.00</td>\n",
       "                        <td id=\"T_892f8_row0_col1\" class=\"data row0 col1\" >5,000.00</td>\n",
       "                        <td id=\"T_892f8_row0_col2\" class=\"data row0 col2\" >5,000.00</td>\n",
       "                        <td id=\"T_892f8_row0_col3\" class=\"data row0 col3\" >5,000.00</td>\n",
       "                        <td id=\"T_892f8_row0_col4\" class=\"data row0 col4\" >5,000.00</td>\n",
       "            </tr>\n",
       "            <tr>\n",
       "                        <th id=\"T_892f8_level0_row1\" class=\"row_heading level0 row1\" >min</th>\n",
       "                        <td id=\"T_892f8_row1_col0\" class=\"data row1 col0\" >0.00</td>\n",
       "                        <td id=\"T_892f8_row1_col1\" class=\"data row1 col1\" >18.00</td>\n",
       "                        <td id=\"T_892f8_row1_col2\" class=\"data row1 col2\" >5,300.00</td>\n",
       "                        <td id=\"T_892f8_row1_col3\" class=\"data row1 col3\" >0.00</td>\n",
       "                        <td id=\"T_892f8_row1_col4\" class=\"data row1 col4\" >0.00</td>\n",
       "            </tr>\n",
       "            <tr>\n",
       "                        <th id=\"T_892f8_level0_row2\" class=\"row_heading level0 row2\" >max</th>\n",
       "                        <td id=\"T_892f8_row2_col0\" class=\"data row2 col0\" >1.00</td>\n",
       "                        <td id=\"T_892f8_row2_col1\" class=\"data row2 col1\" >65.00</td>\n",
       "                        <td id=\"T_892f8_row2_col2\" class=\"data row2 col2\" >79,000.00</td>\n",
       "                        <td id=\"T_892f8_row2_col3\" class=\"data row2 col3\" >6.00</td>\n",
       "                        <td id=\"T_892f8_row2_col4\" class=\"data row2 col4\" >5.00</td>\n",
       "            </tr>\n",
       "    </tbody></table>"
      ],
      "text/plain": [
       "<pandas.io.formats.style.Styler at 0x7f599e1679d0>"
      ]
     },
     "execution_count": 8,
     "metadata": {},
     "output_type": "execute_result"
    }
   ],
   "source": [
    "#check\n",
    "df.apply (['count', 'min', 'max']).style.format(\"{:,.2f}\")"
   ]
  },
  {
   "cell_type": "code",
   "execution_count": 9,
   "metadata": {},
   "outputs": [],
   "source": [
    "df['Пол'] = df['Пол'].astype('bool')\n",
    "df['Возраст'] = df['Возраст'].astype('uint8')\n",
    "df['Зарплата'] = df['Зарплата'].astype('uint32')\n",
    "df['Члены семьи'] = df['Члены семьи'].astype('uint8')"
   ]
  },
  {
   "cell_type": "code",
   "execution_count": 10,
   "metadata": {},
   "outputs": [
    {
     "data": {
      "text/html": [
       "<style  type=\"text/css\" >\n",
       "</style><table id=\"T_f0510_\" ><thead>    <tr>        <th class=\"blank level0\" ></th>        <th class=\"col_heading level0 col0\" >Пол</th>        <th class=\"col_heading level0 col1\" >Возраст</th>        <th class=\"col_heading level0 col2\" >Зарплата</th>        <th class=\"col_heading level0 col3\" >Члены семьи</th>        <th class=\"col_heading level0 col4\" >Страховые выплаты</th>    </tr></thead><tbody>\n",
       "                <tr>\n",
       "                        <th id=\"T_f0510_level0_row0\" class=\"row_heading level0 row0\" >count</th>\n",
       "                        <td id=\"T_f0510_row0_col0\" class=\"data row0 col0\" >5,000.00</td>\n",
       "                        <td id=\"T_f0510_row0_col1\" class=\"data row0 col1\" >5,000.00</td>\n",
       "                        <td id=\"T_f0510_row0_col2\" class=\"data row0 col2\" >5,000.00</td>\n",
       "                        <td id=\"T_f0510_row0_col3\" class=\"data row0 col3\" >5,000.00</td>\n",
       "                        <td id=\"T_f0510_row0_col4\" class=\"data row0 col4\" >5,000.00</td>\n",
       "            </tr>\n",
       "            <tr>\n",
       "                        <th id=\"T_f0510_level0_row1\" class=\"row_heading level0 row1\" >min</th>\n",
       "                        <td id=\"T_f0510_row1_col0\" class=\"data row1 col0\" >0.00</td>\n",
       "                        <td id=\"T_f0510_row1_col1\" class=\"data row1 col1\" >18.00</td>\n",
       "                        <td id=\"T_f0510_row1_col2\" class=\"data row1 col2\" >5,300.00</td>\n",
       "                        <td id=\"T_f0510_row1_col3\" class=\"data row1 col3\" >0.00</td>\n",
       "                        <td id=\"T_f0510_row1_col4\" class=\"data row1 col4\" >0.00</td>\n",
       "            </tr>\n",
       "            <tr>\n",
       "                        <th id=\"T_f0510_level0_row2\" class=\"row_heading level0 row2\" >max</th>\n",
       "                        <td id=\"T_f0510_row2_col0\" class=\"data row2 col0\" >1.00</td>\n",
       "                        <td id=\"T_f0510_row2_col1\" class=\"data row2 col1\" >65.00</td>\n",
       "                        <td id=\"T_f0510_row2_col2\" class=\"data row2 col2\" >79,000.00</td>\n",
       "                        <td id=\"T_f0510_row2_col3\" class=\"data row2 col3\" >6.00</td>\n",
       "                        <td id=\"T_f0510_row2_col4\" class=\"data row2 col4\" >5.00</td>\n",
       "            </tr>\n",
       "    </tbody></table>"
      ],
      "text/plain": [
       "<pandas.io.formats.style.Styler at 0x7f599deb7100>"
      ]
     },
     "execution_count": 10,
     "metadata": {},
     "output_type": "execute_result"
    }
   ],
   "source": [
    "#check\n",
    "df.apply (['count', 'min', 'max']).style.format(\"{:,.2f}\")"
   ]
  },
  {
   "cell_type": "code",
   "execution_count": 11,
   "metadata": {},
   "outputs": [
    {
     "name": "stdout",
     "output_type": "stream",
     "text": [
      "<class 'pandas.core.frame.DataFrame'>\n",
      "RangeIndex: 5000 entries, 0 to 4999\n",
      "Data columns (total 5 columns):\n",
      " #   Column             Non-Null Count  Dtype \n",
      "---  ------             --------------  ----- \n",
      " 0   Пол                5000 non-null   bool  \n",
      " 1   Возраст            5000 non-null   uint8 \n",
      " 2   Зарплата           5000 non-null   uint32\n",
      " 3   Члены семьи        5000 non-null   uint8 \n",
      " 4   Страховые выплаты  5000 non-null   int64 \n",
      "dtypes: bool(1), int64(1), uint32(1), uint8(2)\n",
      "memory usage: 73.4 KB\n"
     ]
    }
   ],
   "source": [
    "df.info(memory_usage='deep')"
   ]
  },
  {
   "cell_type": "markdown",
   "metadata": {},
   "source": [
    "Подготовим датасет для работы с машинными моделями: выделим признаки и цели, отмасштабируем численные признаки"
   ]
  },
  {
   "cell_type": "code",
   "execution_count": 12,
   "metadata": {},
   "outputs": [],
   "source": [
    "features = df.drop('Страховые выплаты', axis=1)\n",
    "target = df['Страховые выплаты']"
   ]
  },
  {
   "cell_type": "code",
   "execution_count": 13,
   "metadata": {
    "scrolled": true
   },
   "outputs": [
    {
     "data": {
      "text/html": [
       "<div>\n",
       "<style scoped>\n",
       "    .dataframe tbody tr th:only-of-type {\n",
       "        vertical-align: middle;\n",
       "    }\n",
       "\n",
       "    .dataframe tbody tr th {\n",
       "        vertical-align: top;\n",
       "    }\n",
       "\n",
       "    .dataframe thead th {\n",
       "        text-align: right;\n",
       "    }\n",
       "</style>\n",
       "<table border=\"1\" class=\"dataframe\">\n",
       "  <thead>\n",
       "    <tr style=\"text-align: right;\">\n",
       "      <th></th>\n",
       "      <th>Пол</th>\n",
       "      <th>Возраст</th>\n",
       "      <th>Зарплата</th>\n",
       "      <th>Члены семьи</th>\n",
       "    </tr>\n",
       "  </thead>\n",
       "  <tbody>\n",
       "    <tr>\n",
       "      <th>0</th>\n",
       "      <td>True</td>\n",
       "      <td>41</td>\n",
       "      <td>49600</td>\n",
       "      <td>1</td>\n",
       "    </tr>\n",
       "    <tr>\n",
       "      <th>1</th>\n",
       "      <td>False</td>\n",
       "      <td>46</td>\n",
       "      <td>38000</td>\n",
       "      <td>1</td>\n",
       "    </tr>\n",
       "    <tr>\n",
       "      <th>2</th>\n",
       "      <td>False</td>\n",
       "      <td>29</td>\n",
       "      <td>21000</td>\n",
       "      <td>0</td>\n",
       "    </tr>\n",
       "    <tr>\n",
       "      <th>3</th>\n",
       "      <td>False</td>\n",
       "      <td>21</td>\n",
       "      <td>41700</td>\n",
       "      <td>2</td>\n",
       "    </tr>\n",
       "    <tr>\n",
       "      <th>4</th>\n",
       "      <td>True</td>\n",
       "      <td>28</td>\n",
       "      <td>26100</td>\n",
       "      <td>0</td>\n",
       "    </tr>\n",
       "    <tr>\n",
       "      <th>...</th>\n",
       "      <td>...</td>\n",
       "      <td>...</td>\n",
       "      <td>...</td>\n",
       "      <td>...</td>\n",
       "    </tr>\n",
       "    <tr>\n",
       "      <th>4995</th>\n",
       "      <td>False</td>\n",
       "      <td>28</td>\n",
       "      <td>35700</td>\n",
       "      <td>2</td>\n",
       "    </tr>\n",
       "    <tr>\n",
       "      <th>4996</th>\n",
       "      <td>False</td>\n",
       "      <td>34</td>\n",
       "      <td>52400</td>\n",
       "      <td>1</td>\n",
       "    </tr>\n",
       "    <tr>\n",
       "      <th>4997</th>\n",
       "      <td>False</td>\n",
       "      <td>20</td>\n",
       "      <td>33900</td>\n",
       "      <td>2</td>\n",
       "    </tr>\n",
       "    <tr>\n",
       "      <th>4998</th>\n",
       "      <td>True</td>\n",
       "      <td>22</td>\n",
       "      <td>32700</td>\n",
       "      <td>3</td>\n",
       "    </tr>\n",
       "    <tr>\n",
       "      <th>4999</th>\n",
       "      <td>True</td>\n",
       "      <td>28</td>\n",
       "      <td>40600</td>\n",
       "      <td>1</td>\n",
       "    </tr>\n",
       "  </tbody>\n",
       "</table>\n",
       "<p>5000 rows × 4 columns</p>\n",
       "</div>"
      ],
      "text/plain": [
       "        Пол  Возраст  Зарплата  Члены семьи\n",
       "0      True       41     49600            1\n",
       "1     False       46     38000            1\n",
       "2     False       29     21000            0\n",
       "3     False       21     41700            2\n",
       "4      True       28     26100            0\n",
       "...     ...      ...       ...          ...\n",
       "4995  False       28     35700            2\n",
       "4996  False       34     52400            1\n",
       "4997  False       20     33900            2\n",
       "4998   True       22     32700            3\n",
       "4999   True       28     40600            1\n",
       "\n",
       "[5000 rows x 4 columns]"
      ]
     },
     "metadata": {},
     "output_type": "display_data"
    }
   ],
   "source": [
    "display(features)"
   ]
  },
  {
   "cell_type": "code",
   "execution_count": 14,
   "metadata": {},
   "outputs": [
    {
     "data": {
      "text/html": [
       "<div>\n",
       "<style scoped>\n",
       "    .dataframe tbody tr th:only-of-type {\n",
       "        vertical-align: middle;\n",
       "    }\n",
       "\n",
       "    .dataframe tbody tr th {\n",
       "        vertical-align: top;\n",
       "    }\n",
       "\n",
       "    .dataframe thead th {\n",
       "        text-align: right;\n",
       "    }\n",
       "</style>\n",
       "<table border=\"1\" class=\"dataframe\">\n",
       "  <thead>\n",
       "    <tr style=\"text-align: right;\">\n",
       "      <th></th>\n",
       "      <th>Пол</th>\n",
       "      <th>Возраст</th>\n",
       "      <th>Зарплата</th>\n",
       "      <th>Члены семьи</th>\n",
       "      <th>Страховые выплаты</th>\n",
       "    </tr>\n",
       "  </thead>\n",
       "  <tbody>\n",
       "    <tr>\n",
       "      <th>Пол</th>\n",
       "      <td>1.000000</td>\n",
       "      <td>0.002074</td>\n",
       "      <td>0.014910</td>\n",
       "      <td>-0.008991</td>\n",
       "      <td>0.010140</td>\n",
       "    </tr>\n",
       "    <tr>\n",
       "      <th>Возраст</th>\n",
       "      <td>0.002074</td>\n",
       "      <td>1.000000</td>\n",
       "      <td>-0.019093</td>\n",
       "      <td>-0.006692</td>\n",
       "      <td>0.651030</td>\n",
       "    </tr>\n",
       "    <tr>\n",
       "      <th>Зарплата</th>\n",
       "      <td>0.014910</td>\n",
       "      <td>-0.019093</td>\n",
       "      <td>1.000000</td>\n",
       "      <td>-0.030296</td>\n",
       "      <td>-0.014963</td>\n",
       "    </tr>\n",
       "    <tr>\n",
       "      <th>Члены семьи</th>\n",
       "      <td>-0.008991</td>\n",
       "      <td>-0.006692</td>\n",
       "      <td>-0.030296</td>\n",
       "      <td>1.000000</td>\n",
       "      <td>-0.036290</td>\n",
       "    </tr>\n",
       "    <tr>\n",
       "      <th>Страховые выплаты</th>\n",
       "      <td>0.010140</td>\n",
       "      <td>0.651030</td>\n",
       "      <td>-0.014963</td>\n",
       "      <td>-0.036290</td>\n",
       "      <td>1.000000</td>\n",
       "    </tr>\n",
       "  </tbody>\n",
       "</table>\n",
       "</div>"
      ],
      "text/plain": [
       "                        Пол   Возраст  Зарплата  Члены семьи  \\\n",
       "Пол                1.000000  0.002074  0.014910    -0.008991   \n",
       "Возраст            0.002074  1.000000 -0.019093    -0.006692   \n",
       "Зарплата           0.014910 -0.019093  1.000000    -0.030296   \n",
       "Члены семьи       -0.008991 -0.006692 -0.030296     1.000000   \n",
       "Страховые выплаты  0.010140  0.651030 -0.014963    -0.036290   \n",
       "\n",
       "                   Страховые выплаты  \n",
       "Пол                         0.010140  \n",
       "Возраст                     0.651030  \n",
       "Зарплата                   -0.014963  \n",
       "Члены семьи                -0.036290  \n",
       "Страховые выплаты           1.000000  "
      ]
     },
     "execution_count": 14,
     "metadata": {},
     "output_type": "execute_result"
    }
   ],
   "source": [
    "df.corr()"
   ]
  },
  {
   "cell_type": "code",
   "execution_count": 15,
   "metadata": {
    "scrolled": true
   },
   "outputs": [
    {
     "data": {
      "text/plain": [
       "<AxesSubplot:>"
      ]
     },
     "execution_count": 15,
     "metadata": {},
     "output_type": "execute_result"
    },
    {
     "data": {
      "image/png": "[encoded data removed]",
      "text/plain": [
       "<Figure size 432x288 with 2 Axes>"
      ]
     },
     "metadata": {
      "needs_background": "light"
     },
     "output_type": "display_data"
    }
   ],
   "source": [
    "sns.heatmap(df.corr(), annot=True)"
   ]
  },
  {
   "cell_type": "code",
   "execution_count": 16,
   "metadata": {},
   "outputs": [
    {
     "name": "stdout",
     "output_type": "stream",
     "text": [
      "interval columns not set, guessing: ['Возраст', 'Зарплата', 'Члены семьи', 'Страховые выплаты']\n"
     ]
    },
    {
     "data": {
      "text/html": [
       "<div>\n",
       "<style scoped>\n",
       "    .dataframe tbody tr th:only-of-type {\n",
       "        vertical-align: middle;\n",
       "    }\n",
       "\n",
       "    .dataframe tbody tr th {\n",
       "        vertical-align: top;\n",
       "    }\n",
       "\n",
       "    .dataframe thead th {\n",
       "        text-align: right;\n",
       "    }\n",
       "</style>\n",
       "<table border=\"1\" class=\"dataframe\">\n",
       "  <thead>\n",
       "    <tr style=\"text-align: right;\">\n",
       "      <th></th>\n",
       "      <th>Пол</th>\n",
       "      <th>Возраст</th>\n",
       "      <th>Зарплата</th>\n",
       "      <th>Члены семьи</th>\n",
       "      <th>Страховые выплаты</th>\n",
       "    </tr>\n",
       "  </thead>\n",
       "  <tbody>\n",
       "    <tr>\n",
       "      <th>Пол</th>\n",
       "      <td>1.00</td>\n",
       "      <td>0.00</td>\n",
       "      <td>0.00</td>\n",
       "      <td>0.0</td>\n",
       "      <td>0.03</td>\n",
       "    </tr>\n",
       "    <tr>\n",
       "      <th>Возраст</th>\n",
       "      <td>0.00</td>\n",
       "      <td>1.00</td>\n",
       "      <td>0.07</td>\n",
       "      <td>0.0</td>\n",
       "      <td>0.88</td>\n",
       "    </tr>\n",
       "    <tr>\n",
       "      <th>Зарплата</th>\n",
       "      <td>0.00</td>\n",
       "      <td>0.07</td>\n",
       "      <td>1.00</td>\n",
       "      <td>0.0</td>\n",
       "      <td>0.00</td>\n",
       "    </tr>\n",
       "    <tr>\n",
       "      <th>Члены семьи</th>\n",
       "      <td>0.00</td>\n",
       "      <td>0.00</td>\n",
       "      <td>0.00</td>\n",
       "      <td>1.0</td>\n",
       "      <td>0.00</td>\n",
       "    </tr>\n",
       "    <tr>\n",
       "      <th>Страховые выплаты</th>\n",
       "      <td>0.03</td>\n",
       "      <td>0.88</td>\n",
       "      <td>0.00</td>\n",
       "      <td>0.0</td>\n",
       "      <td>1.00</td>\n",
       "    </tr>\n",
       "  </tbody>\n",
       "</table>\n",
       "</div>"
      ],
      "text/plain": [
       "                    Пол  Возраст  Зарплата  Члены семьи  Страховые выплаты\n",
       "Пол                1.00     0.00      0.00          0.0               0.03\n",
       "Возраст            0.00     1.00      0.07          0.0               0.88\n",
       "Зарплата           0.00     0.07      1.00          0.0               0.00\n",
       "Члены семьи        0.00     0.00      0.00          1.0               0.00\n",
       "Страховые выплаты  0.03     0.88      0.00          0.0               1.00"
      ]
     },
     "execution_count": 16,
     "metadata": {},
     "output_type": "execute_result"
    }
   ],
   "source": [
    "phik_overview = df.phik_matrix()\n",
    "phik_overview.round(2)"
   ]
  },
  {
   "cell_type": "code",
   "execution_count": 17,
   "metadata": {},
   "outputs": [
    {
     "data": {
      "image/png": "[encoded data removed]",
      "text/plain": [
       "<Figure size 720x576 with 2 Axes>"
      ]
     },
     "metadata": {
      "needs_background": "light"
     },
     "output_type": "display_data"
    }
   ],
   "source": [
    "plot_correlation_matrix(phik_overview.values, \n",
    "                        x_labels=phik_overview.columns, \n",
    "                        y_labels=phik_overview.index, \n",
    "                        vmin=0, vmax=1, color_map=\"Greens\", \n",
    "                        title=r\"correlation $\\phi_K$\", \n",
    "                        fontsize_factor=1.5, \n",
    "                        figsize=(10, 8))\n",
    "plt.tight_layout()"
   ]
  },
  {
   "cell_type": "code",
   "execution_count": 18,
   "metadata": {},
   "outputs": [
    {
     "name": "stdout",
     "output_type": "stream",
     "text": [
      "interval columns not set, guessing: ['Возраст', 'Зарплата', 'Члены семьи', 'Страховые выплаты']\n"
     ]
    },
    {
     "data": {
      "image/png": "[encoded data removed]",
      "text/plain": [
       "<Figure size 1008x720 with 2 Axes>"
      ]
     },
     "metadata": {
      "needs_background": "light"
     },
     "output_type": "display_data"
    }
   ],
   "source": [
    "significance_overview = df.significance_matrix()\n",
    "plot_correlation_matrix(significance_overview.values, \n",
    "                        x_labels=significance_overview.columns, \n",
    "                        y_labels=significance_overview.index, \n",
    "                        vmin=-5, vmax=5, title=\"Взаимосвязь коэффициентов\", \n",
    "                        usetex=False, fontsize_factor=1.5, figsize=(14, 10))\n",
    "plt.tight_layout()"
   ]
  },
  {
   "cell_type": "code",
   "execution_count": 19,
   "metadata": {
    "scrolled": true
   },
   "outputs": [
    {
     "data": {
      "image/png": "[encoded data removed]",
      "text/plain": [
       "<Figure size 432x288 with 1 Axes>"
      ]
     },
     "metadata": {
      "needs_background": "light"
     },
     "output_type": "display_data"
    }
   ],
   "source": [
    "fig, ax = plt.subplots()\n",
    "ax.figsize=(15,5)\n",
    "ax.set_ylim( 1 , 250 )\n",
    "ax.set_ylabel( \"Частота\" )\n",
    "ax.set_title( \"Гистограмма возраст\" )\n",
    "sns.histplot(df['Возраст'], bins=25, discrete=True, ax=ax);\n"
   ]
  },
  {
   "cell_type": "code",
   "execution_count": 20,
   "metadata": {
    "scrolled": true
   },
   "outputs": [
    {
     "name": "stderr",
     "output_type": "stream",
     "text": [
      "<__array_function__ internals>:5: RuntimeWarning: Converting input from bool to <class 'numpy.uint8'> for compatibility.\n"
     ]
    },
    {
     "data": {
      "image/png": "[encoded data removed]",
      "text/plain": [
       "<Figure size 432x288 with 1 Axes>"
      ]
     },
     "metadata": {
      "needs_background": "light"
     },
     "output_type": "display_data"
    }
   ],
   "source": [
    "fig, ax = plt.subplots()\n",
    "ax.figsize=(15,5)\n",
    "ax.set_ylim( 1 , 5000 )\n",
    "ax.set_ylabel( \"Частота\" )\n",
    "ax.set_title( \"Гистограмма пол\" )\n",
    "sns.histplot(df['Пол'], bins=3, discrete=True, ax=ax);"
   ]
  },
  {
   "cell_type": "code",
   "execution_count": 21,
   "metadata": {
    "scrolled": false
   },
   "outputs": [
    {
     "data": {
      "image/png": "[encoded data removed]",
      "text/plain": [
       "<Figure size 432x288 with 1 Axes>"
      ]
     },
     "metadata": {
      "needs_background": "light"
     },
     "output_type": "display_data"
    }
   ],
   "source": [
    "fig, ax = plt.subplots()\n",
    "ax.figsize=(15,5)\n",
    "ax.set_ylabel( \"Часота\" )\n",
    "ax.set_title( \"Гистограмма Зарплата\" )\n",
    "sns.histplot(df['Зарплата'], ax=ax);"
   ]
  },
  {
   "cell_type": "code",
   "execution_count": 22,
   "metadata": {},
   "outputs": [
    {
     "data": {
      "image/png": "[encoded data removed]",
      "text/plain": [
       "<Figure size 432x288 with 1 Axes>"
      ]
     },
     "metadata": {
      "needs_background": "light"
     },
     "output_type": "display_data"
    }
   ],
   "source": [
    "fig, ax = plt.subplots()\n",
    "ax.figsize=(15,5)\n",
    "ax.set_ylabel( \"Часота\" )\n",
    "ax.set_title( \"Гистограмма Члены семьи\" )\n",
    "sns.histplot(df['Члены семьи'], discrete=True, ax=ax);"
   ]
  },
  {
   "cell_type": "markdown",
   "metadata": {},
   "source": [
    "**Выводы:**\n",
    "1. Датасет имеет размерность 5000 * 5. Данные подготовлены. Один из признаков - пол  - категориальный, остальные - численные. Целевой признак `Страховые выплаты` - категориальный. ПОсле изменения данных уровень расхода оперативной памяти сокращен в 3 раза - до 63 Кб.\n",
    "2. Среднестатистический пользователь сервиса страхования имеет возраст 31 год, заработнрую плату 40000 рублей, имеет одного члена семьи и не обращается за страховкой, равновероятно может быть как мужчиной так и женщиной\n",
    "3. Признаки возраст/члены семьи и зарплата имеют разный порядок. Выполнено масштабирование данных для работы с моделью линейной регрессии\n",
    "4. Уникального идентификатора нет, поэтому полные дубликаты не удаляем - всего их 153.\n",
    "5. Ключевое влияние на факт страховой выплаты оказывает возраст. Это подтверждается и коэффициентом корреляции Пирсона и Phik."
   ]
  },
  {
   "cell_type": "markdown",
   "metadata": {},
   "source": [
    "## Умножение матриц"
   ]
  },
  {
   "cell_type": "markdown",
   "metadata": {},
   "source": [
    "Признаки умножают на обратимую матрицу. Изменится ли качество линейной регрессии? (Её можно обучить заново.)\n",
    "a. Изменится. Приведите примеры матриц.\n",
    "b. Не изменится. Укажите, как связаны параметры линейной регрессии в исходной задаче и в преобразованной."
   ]
  },
  {
   "cell_type": "markdown",
   "metadata": {},
   "source": [
    "В этом задании вы можете записывать формулы в *Jupyter Notebook.*\n",
    "\n",
    "Чтобы записать формулу внутри текста, окружите её символами доллара \\\\$; если снаружи —  двойными символами \\\\$\\\\$. Эти формулы записываются на языке вёрстки *LaTeX.* \n",
    "\n",
    "Для примера мы записали формулы линейной регрессии. Можете их скопировать и отредактировать, чтобы решить задачу.\n",
    "\n",
    "Работать в *LaTeX* необязательно."
   ]
  },
  {
   "cell_type": "markdown",
   "metadata": {},
   "source": [
    "Обозначения:\n",
    "\n",
    "- $X$ — матрица признаков (нулевой столбец состоит из единиц)\n",
    "\n",
    "- $y$ — вектор целевого признака\n",
    "\n",
    "- $P$ — матрица, на которую умножаются признаки\n",
    "\n",
    "- $w$ — вектор весов линейной регрессии (нулевой элемент равен сдвигу)"
   ]
  },
  {
   "cell_type": "markdown",
   "metadata": {},
   "source": [
    "Предсказания:\n",
    "\n",
    "$$\n",
    "a = Xw\n",
    "$$\n",
    "\n",
    "Задача обучения:\n",
    "\n",
    "$$\n",
    "w = \\arg\\min_w MSE(Xw, y)\n",
    "$$\n",
    "\n",
    "Формула обучения:\n",
    "\n",
    "$$\n",
    "w = (X^T X)^{-1} X^T y\n",
    "$$"
   ]
  },
  {
   "cell_type": "markdown",
   "metadata": {},
   "source": [
    "**Ответ:** Качество линейной регрессии не изменится от умножения матрицы признаков на обратимую матрицу P.\n",
    "\n",
    "**Обоснование:** \n",
    "1. Представим новую матрицу `K` ввиде произведения матрицы `X` и обратимой матрицы `O`:\n",
    "\n",
    "$$\n",
    "K = XO\n",
    "$$\n",
    "\n",
    "2. Тогда для матрицы `K` формула обучения вычисляется по формуле:\n",
    "\n",
    "$$\n",
    "w_1 = (K^T K)^{-1} K^T y\n",
    "$$\n",
    "\n",
    "3. Тогда для матрицы `K` предсказания вычисляются по формуле:\n",
    "\n",
    "$$\n",
    "a_1 = Kw_1 = K(K^T K)^{-1} K^T y\n",
    "$$\n",
    "4. Заменим матрицу `K` на ее составляющие из формулы п.1, раскроем скобки в 2 этапа: \n",
    "\n",
    "$$\n",
    "a_1 = (XO)((XO)^T (XO))^{-1} (XO)^T y = X\\color{blue}{O} (\\color{red}{O}^TX^TX\\color{red}{O})^{-1} \\color{blue}{O^T} X^T y =  \n",
    "$$\n",
    "\n",
    "5. O для нас неизвестная матрица. Воспользуемся правилом $A(A)^{-1} = E$ для сокращения матриц `O` до единичных: \n",
    "\n",
    "$$\n",
    "a_1 = X E(E X^TX)^{-1} X^T y= X(X^T X)^{-1} X^T y = a\n",
    "$$\n",
    "6. Таким образом, формула предсказаний для матрицы признаков K равна формуле предсказаний `a` первоначальной матрицы"
   ]
  },
  {
   "cell_type": "markdown",
   "metadata": {},
   "source": [
    "## Алгоритм преобразования"
   ]
  },
  {
   "cell_type": "markdown",
   "metadata": {},
   "source": [
    "**Алгоритм**"
   ]
  },
  {
   "cell_type": "markdown",
   "metadata": {},
   "source": [
    "Создадим отдельный класс для работы с шифровкой и дешифровкой матрицы признаков."
   ]
  },
  {
   "cell_type": "code",
   "execution_count": 23,
   "metadata": {},
   "outputs": [],
   "source": [
    "class Crypto:\n",
    "    np.random.seed(282)\n",
    "    def __init__(self,features):\n",
    "        self.features = features\n",
    "        self.p = None\n",
    "        self.matrix_encrypted= None\n",
    "        \n",
    "    def encrypt(self):\n",
    "        self.p = np.random.normal(3, 2.5, size=(self.features.shape[1] , self.features.shape[1]))\n",
    "        self.matrix_encrypted = self.features @ self.p\n",
    "        try:\n",
    "            inv = np.linalg.inv(self.p)\n",
    "            np.random.seed(0)       \n",
    "            return self.matrix_encrypted\n",
    "        except:\n",
    "            return self.encrypt(self) \n",
    "    \n",
    "    def decrypt(self):\n",
    "        return self.matrix_encrypted @ np.linalg.inv(self.p)"
   ]
  },
  {
   "cell_type": "markdown",
   "metadata": {},
   "source": [
    "**Обоснование**\n",
    "1. Рандомно генерируем обратимую матрицу размерности n * n, где n - количество признаков выборки.\n",
    "Размерность матрицы выбираем n на n выбираем потому, что обратимая матрицы существует только для квадратных невырожденных матриц. Отдельно на обратимость не производим, т.к. матрица формируется через np.random.normal. Эта функция формирует матрицу из рандомных значений нормального распределения, а такая матрица будет обратимой (=невырожденной).\n",
    "2. Шифруем признаки: для этого производим матричное умножение признаков на обратимую матрицу.\n",
    "3. Возвращаем результат работы функции: зашифрованную матрицу признаков + саму матрицу-шифратор `p`. `p` возвращаем для того, чтобы у владельца датасета была возможность в дальнейшем дешфировать данные, а также для проверки правильности работы функции."
   ]
  },
  {
   "cell_type": "markdown",
   "metadata": {},
   "source": [
    "## Проверка алгоритма"
   ]
  },
  {
   "cell_type": "code",
   "execution_count": 24,
   "metadata": {},
   "outputs": [
    {
     "data": {
      "text/html": [
       "<div>\n",
       "<style scoped>\n",
       "    .dataframe tbody tr th:only-of-type {\n",
       "        vertical-align: middle;\n",
       "    }\n",
       "\n",
       "    .dataframe tbody tr th {\n",
       "        vertical-align: top;\n",
       "    }\n",
       "\n",
       "    .dataframe thead th {\n",
       "        text-align: right;\n",
       "    }\n",
       "</style>\n",
       "<table border=\"1\" class=\"dataframe\">\n",
       "  <thead>\n",
       "    <tr style=\"text-align: right;\">\n",
       "      <th></th>\n",
       "      <th>Пол</th>\n",
       "      <th>Возраст</th>\n",
       "      <th>Зарплата</th>\n",
       "      <th>Члены семьи</th>\n",
       "      <th>Страховые выплаты</th>\n",
       "    </tr>\n",
       "  </thead>\n",
       "  <tbody>\n",
       "    <tr>\n",
       "      <th>0</th>\n",
       "      <td>True</td>\n",
       "      <td>41</td>\n",
       "      <td>49600</td>\n",
       "      <td>1</td>\n",
       "      <td>0</td>\n",
       "    </tr>\n",
       "    <tr>\n",
       "      <th>1</th>\n",
       "      <td>False</td>\n",
       "      <td>46</td>\n",
       "      <td>38000</td>\n",
       "      <td>1</td>\n",
       "      <td>1</td>\n",
       "    </tr>\n",
       "    <tr>\n",
       "      <th>2</th>\n",
       "      <td>False</td>\n",
       "      <td>29</td>\n",
       "      <td>21000</td>\n",
       "      <td>0</td>\n",
       "      <td>0</td>\n",
       "    </tr>\n",
       "    <tr>\n",
       "      <th>3</th>\n",
       "      <td>False</td>\n",
       "      <td>21</td>\n",
       "      <td>41700</td>\n",
       "      <td>2</td>\n",
       "      <td>0</td>\n",
       "    </tr>\n",
       "    <tr>\n",
       "      <th>4</th>\n",
       "      <td>True</td>\n",
       "      <td>28</td>\n",
       "      <td>26100</td>\n",
       "      <td>0</td>\n",
       "      <td>0</td>\n",
       "    </tr>\n",
       "  </tbody>\n",
       "</table>\n",
       "</div>"
      ],
      "text/plain": [
       "     Пол  Возраст  Зарплата  Члены семьи  Страховые выплаты\n",
       "0   True       41     49600            1                  0\n",
       "1  False       46     38000            1                  1\n",
       "2  False       29     21000            0                  0\n",
       "3  False       21     41700            2                  0\n",
       "4   True       28     26100            0                  0"
      ]
     },
     "execution_count": 24,
     "metadata": {},
     "output_type": "execute_result"
    }
   ],
   "source": [
    "df.head()"
   ]
  },
  {
   "cell_type": "code",
   "execution_count": 25,
   "metadata": {},
   "outputs": [
    {
     "data": {
      "text/html": [
       "<div>\n",
       "<style scoped>\n",
       "    .dataframe tbody tr th:only-of-type {\n",
       "        vertical-align: middle;\n",
       "    }\n",
       "\n",
       "    .dataframe tbody tr th {\n",
       "        vertical-align: top;\n",
       "    }\n",
       "\n",
       "    .dataframe thead th {\n",
       "        text-align: right;\n",
       "    }\n",
       "</style>\n",
       "<table border=\"1\" class=\"dataframe\">\n",
       "  <thead>\n",
       "    <tr style=\"text-align: right;\">\n",
       "      <th></th>\n",
       "      <th>0</th>\n",
       "      <th>1</th>\n",
       "      <th>2</th>\n",
       "      <th>3</th>\n",
       "    </tr>\n",
       "  </thead>\n",
       "  <tbody>\n",
       "    <tr>\n",
       "      <th>0</th>\n",
       "      <td>305746.435945</td>\n",
       "      <td>173151.209919</td>\n",
       "      <td>411723.214464</td>\n",
       "      <td>35071.764728</td>\n",
       "    </tr>\n",
       "    <tr>\n",
       "      <th>1</th>\n",
       "      <td>234240.870974</td>\n",
       "      <td>132708.248716</td>\n",
       "      <td>315498.029929</td>\n",
       "      <td>26870.408921</td>\n",
       "    </tr>\n",
       "    <tr>\n",
       "      <th>2</th>\n",
       "      <td>129447.746233</td>\n",
       "      <td>73352.216572</td>\n",
       "      <td>174369.144571</td>\n",
       "      <td>14848.011737</td>\n",
       "    </tr>\n",
       "    <tr>\n",
       "      <th>3</th>\n",
       "      <td>257051.988288</td>\n",
       "      <td>145524.222944</td>\n",
       "      <td>346086.203788</td>\n",
       "      <td>29487.211685</td>\n",
       "    </tr>\n",
       "    <tr>\n",
       "      <th>4</th>\n",
       "      <td>160885.292269</td>\n",
       "      <td>91136.851634</td>\n",
       "      <td>216681.633003</td>\n",
       "      <td>18454.572159</td>\n",
       "    </tr>\n",
       "    <tr>\n",
       "      <th>...</th>\n",
       "      <td>...</td>\n",
       "      <td>...</td>\n",
       "      <td>...</td>\n",
       "      <td>...</td>\n",
       "    </tr>\n",
       "    <tr>\n",
       "      <th>4995</th>\n",
       "      <td>220065.905595</td>\n",
       "      <td>124620.553091</td>\n",
       "      <td>296335.602538</td>\n",
       "      <td>25246.121535</td>\n",
       "    </tr>\n",
       "    <tr>\n",
       "      <th>4996</th>\n",
       "      <td>323007.151544</td>\n",
       "      <td>182894.046755</td>\n",
       "      <td>434921.188685</td>\n",
       "      <td>37049.401765</td>\n",
       "    </tr>\n",
       "    <tr>\n",
       "      <th>4997</th>\n",
       "      <td>208970.749689</td>\n",
       "      <td>118313.701517</td>\n",
       "      <td>281364.728593</td>\n",
       "      <td>23973.002308</td>\n",
       "    </tr>\n",
       "    <tr>\n",
       "      <th>4998</th>\n",
       "      <td>201574.860161</td>\n",
       "      <td>114132.675584</td>\n",
       "      <td>271421.616026</td>\n",
       "      <td>23129.162996</td>\n",
       "    </tr>\n",
       "    <tr>\n",
       "      <th>4999</th>\n",
       "      <td>250268.868261</td>\n",
       "      <td>141712.523008</td>\n",
       "      <td>336990.995867</td>\n",
       "      <td>28708.286307</td>\n",
       "    </tr>\n",
       "  </tbody>\n",
       "</table>\n",
       "<p>5000 rows × 4 columns</p>\n",
       "</div>"
      ],
      "text/plain": [
       "                  0              1              2             3\n",
       "0     305746.435945  173151.209919  411723.214464  35071.764728\n",
       "1     234240.870974  132708.248716  315498.029929  26870.408921\n",
       "2     129447.746233   73352.216572  174369.144571  14848.011737\n",
       "3     257051.988288  145524.222944  346086.203788  29487.211685\n",
       "4     160885.292269   91136.851634  216681.633003  18454.572159\n",
       "...             ...            ...            ...           ...\n",
       "4995  220065.905595  124620.553091  296335.602538  25246.121535\n",
       "4996  323007.151544  182894.046755  434921.188685  37049.401765\n",
       "4997  208970.749689  118313.701517  281364.728593  23973.002308\n",
       "4998  201574.860161  114132.675584  271421.616026  23129.162996\n",
       "4999  250268.868261  141712.523008  336990.995867  28708.286307\n",
       "\n",
       "[5000 rows x 4 columns]"
      ]
     },
     "execution_count": 25,
     "metadata": {},
     "output_type": "execute_result"
    }
   ],
   "source": [
    "a = Crypto(features)\n",
    "a.encrypt()"
   ]
  },
  {
   "cell_type": "code",
   "execution_count": 26,
   "metadata": {},
   "outputs": [
    {
     "data": {
      "text/plain": [
       "array([[-0.29642497, -1.00565501,  2.08299674,  1.24554681],\n",
       "       [-0.06622792,  3.53966518,  4.5241158 ,  0.07843382],\n",
       "       [ 6.16426985,  3.48807458,  8.29704501,  0.70693986],\n",
       "       [ 1.66317236, -1.41010648,  2.21021696,  3.08611117]])"
      ]
     },
     "execution_count": 26,
     "metadata": {},
     "output_type": "execute_result"
    }
   ],
   "source": [
    "a.p"
   ]
  },
  {
   "cell_type": "code",
   "execution_count": 27,
   "metadata": {
    "scrolled": true
   },
   "outputs": [
    {
     "data": {
      "text/html": [
       "<div>\n",
       "<style scoped>\n",
       "    .dataframe tbody tr th:only-of-type {\n",
       "        vertical-align: middle;\n",
       "    }\n",
       "\n",
       "    .dataframe tbody tr th {\n",
       "        vertical-align: top;\n",
       "    }\n",
       "\n",
       "    .dataframe thead th {\n",
       "        text-align: right;\n",
       "    }\n",
       "</style>\n",
       "<table border=\"1\" class=\"dataframe\">\n",
       "  <thead>\n",
       "    <tr style=\"text-align: right;\">\n",
       "      <th></th>\n",
       "      <th>0</th>\n",
       "      <th>1</th>\n",
       "      <th>2</th>\n",
       "      <th>3</th>\n",
       "    </tr>\n",
       "  </thead>\n",
       "  <tbody>\n",
       "    <tr>\n",
       "      <th>0</th>\n",
       "      <td>305746.435945</td>\n",
       "      <td>173151.209919</td>\n",
       "      <td>411723.214464</td>\n",
       "      <td>35071.764728</td>\n",
       "    </tr>\n",
       "    <tr>\n",
       "      <th>1</th>\n",
       "      <td>234240.870974</td>\n",
       "      <td>132708.248716</td>\n",
       "      <td>315498.029929</td>\n",
       "      <td>26870.408921</td>\n",
       "    </tr>\n",
       "    <tr>\n",
       "      <th>2</th>\n",
       "      <td>129447.746233</td>\n",
       "      <td>73352.216572</td>\n",
       "      <td>174369.144571</td>\n",
       "      <td>14848.011737</td>\n",
       "    </tr>\n",
       "    <tr>\n",
       "      <th>3</th>\n",
       "      <td>257051.988288</td>\n",
       "      <td>145524.222944</td>\n",
       "      <td>346086.203788</td>\n",
       "      <td>29487.211685</td>\n",
       "    </tr>\n",
       "    <tr>\n",
       "      <th>4</th>\n",
       "      <td>160885.292269</td>\n",
       "      <td>91136.851634</td>\n",
       "      <td>216681.633003</td>\n",
       "      <td>18454.572159</td>\n",
       "    </tr>\n",
       "  </tbody>\n",
       "</table>\n",
       "</div>"
      ],
      "text/plain": [
       "               0              1              2             3\n",
       "0  305746.435945  173151.209919  411723.214464  35071.764728\n",
       "1  234240.870974  132708.248716  315498.029929  26870.408921\n",
       "2  129447.746233   73352.216572  174369.144571  14848.011737\n",
       "3  257051.988288  145524.222944  346086.203788  29487.211685\n",
       "4  160885.292269   91136.851634  216681.633003  18454.572159"
      ]
     },
     "execution_count": 27,
     "metadata": {},
     "output_type": "execute_result"
    }
   ],
   "source": [
    "a.matrix_encrypted.head()"
   ]
  },
  {
   "cell_type": "code",
   "execution_count": 28,
   "metadata": {},
   "outputs": [
    {
     "data": {
      "text/html": [
       "<div>\n",
       "<style scoped>\n",
       "    .dataframe tbody tr th:only-of-type {\n",
       "        vertical-align: middle;\n",
       "    }\n",
       "\n",
       "    .dataframe tbody tr th {\n",
       "        vertical-align: top;\n",
       "    }\n",
       "\n",
       "    .dataframe thead th {\n",
       "        text-align: right;\n",
       "    }\n",
       "</style>\n",
       "<table border=\"1\" class=\"dataframe\">\n",
       "  <thead>\n",
       "    <tr style=\"text-align: right;\">\n",
       "      <th></th>\n",
       "      <th>0</th>\n",
       "      <th>1</th>\n",
       "      <th>2</th>\n",
       "      <th>3</th>\n",
       "    </tr>\n",
       "  </thead>\n",
       "  <tbody>\n",
       "    <tr>\n",
       "      <th>0</th>\n",
       "      <td>1.0</td>\n",
       "      <td>41.0</td>\n",
       "      <td>49600.0</td>\n",
       "      <td>1.0</td>\n",
       "    </tr>\n",
       "    <tr>\n",
       "      <th>1</th>\n",
       "      <td>-0.0</td>\n",
       "      <td>46.0</td>\n",
       "      <td>38000.0</td>\n",
       "      <td>1.0</td>\n",
       "    </tr>\n",
       "    <tr>\n",
       "      <th>2</th>\n",
       "      <td>-0.0</td>\n",
       "      <td>29.0</td>\n",
       "      <td>21000.0</td>\n",
       "      <td>0.0</td>\n",
       "    </tr>\n",
       "    <tr>\n",
       "      <th>3</th>\n",
       "      <td>0.0</td>\n",
       "      <td>21.0</td>\n",
       "      <td>41700.0</td>\n",
       "      <td>2.0</td>\n",
       "    </tr>\n",
       "    <tr>\n",
       "      <th>4</th>\n",
       "      <td>1.0</td>\n",
       "      <td>28.0</td>\n",
       "      <td>26100.0</td>\n",
       "      <td>-0.0</td>\n",
       "    </tr>\n",
       "  </tbody>\n",
       "</table>\n",
       "</div>"
      ],
      "text/plain": [
       "     0     1        2    3\n",
       "0  1.0  41.0  49600.0  1.0\n",
       "1 -0.0  46.0  38000.0  1.0\n",
       "2 -0.0  29.0  21000.0  0.0\n",
       "3  0.0  21.0  41700.0  2.0\n",
       "4  1.0  28.0  26100.0 -0.0"
      ]
     },
     "execution_count": 28,
     "metadata": {},
     "output_type": "execute_result"
    }
   ],
   "source": [
    "a.decrypt().head()"
   ]
  },
  {
   "cell_type": "markdown",
   "metadata": {},
   "source": [
    "### Проверка модели"
   ]
  },
  {
   "cell_type": "markdown",
   "metadata": {},
   "source": [
    "#### Поделим на обучающие и тестовые выборки непреобразованные признаки  `features` и целевые значения `target` для оценки модели:"
   ]
  },
  {
   "cell_type": "code",
   "execution_count": 29,
   "metadata": {},
   "outputs": [],
   "source": [
    "features_train, features_test, target_train, target_test = train_test_split(\n",
    "    features, target, test_size=0.25, random_state=282)"
   ]
  },
  {
   "cell_type": "markdown",
   "metadata": {},
   "source": [
    "#### Поделим на обучающие и тестовые выборки преобразованные признаки  `features_encrypted` и целевые значения `target` для оценки модели:"
   ]
  },
  {
   "cell_type": "code",
   "execution_count": 31,
   "metadata": {},
   "outputs": [],
   "source": [
    "features_train, features_test, target_train, target_test = train_test_split(\n",
    "    a.matrix_encrypted, target, test_size=0.25, random_state=282)"
   ]
  },
  {
   "cell_type": "code",
   "execution_count": 32,
   "metadata": {},
   "outputs": [
    {
     "name": "stdout",
     "output_type": "stream",
     "text": [
      "R2 на зашифрованных данных: 0.4173141911041054\n"
     ]
    }
   ],
   "source": [
    "lr_2 = LinearRegression()\n",
    "lr_2.fit(features_train, target_train)\n",
    "pred_lr_2 = lr_2.predict(features_test)\n",
    "lr_2_r2 = r2_score(target_test, pred_lr_2)\n",
    "print('R2 на зашифрованных данных:', lr_2_r2)"
   ]
  },
  {
   "cell_type": "markdown",
   "metadata": {},
   "source": [
    "Вывод: \n",
    "1. Выполнен обзор датасета\n",
    "2. Подготовлена функция шифрования исходной матрицы, осуществляющая проверку обратимости шифрующей матрицы. При успешной генерации обратимой матрицы функция возвращает зашифрованную матрицу исходных признаков + матрицу-дешифратор.\n",
    "3. Восстановить исходные значения матрицы признаков, зашифрованной путем умножения на обратимую матрицу, возможно. После умножения таких признаков на обратную матрицу значения становятся исходными.\n",
    "4. Умножение матрицы показателей на обратимую матрицу действительно не влияет на метрику r2 качества линейной регрессии. показатели r2 практчески полностью равные. Микро-разница показателей обусловлена преобразованием значений и их округлением в алгоритмах numpy."
   ]
  },
  {
   "cell_type": "code",
   "execution_count": null,
   "metadata": {},
   "outputs": [],
   "source": []
  }
 ],
 "metadata": {
  "ExecuteTimeLog": [
   {
    "duration": 44,
    "start_time": "2022-10-21T15:07:48.781Z"
   },
   {
    "duration": 6,
    "start_time": "2022-10-21T15:08:33.521Z"
   },
   {
    "duration": 972,
    "start_time": "2022-10-21T15:08:37.149Z"
   },
   {
    "duration": 94,
    "start_time": "2022-10-21T15:08:38.123Z"
   },
   {
    "duration": 14,
    "start_time": "2022-10-21T15:08:48.618Z"
   },
   {
    "duration": 59,
    "start_time": "2022-10-21T15:08:55.524Z"
   },
   {
    "duration": 17,
    "start_time": "2022-10-21T15:08:58.619Z"
   },
   {
    "duration": 26,
    "start_time": "2022-10-21T15:09:04.549Z"
   },
   {
    "duration": 14,
    "start_time": "2022-10-21T15:09:23.742Z"
   },
   {
    "duration": 27,
    "start_time": "2022-10-21T15:09:30.903Z"
   },
   {
    "duration": 11,
    "start_time": "2022-10-21T15:09:31.103Z"
   },
   {
    "duration": 6,
    "start_time": "2022-10-21T15:09:31.304Z"
   },
   {
    "duration": 23,
    "start_time": "2022-10-21T15:09:31.506Z"
   },
   {
    "duration": 3,
    "start_time": "2022-10-21T15:11:02.629Z"
   },
   {
    "duration": 4,
    "start_time": "2022-10-21T15:11:14.226Z"
   },
   {
    "duration": 10,
    "start_time": "2022-10-21T15:14:04.568Z"
   },
   {
    "duration": 1089,
    "start_time": "2022-10-21T15:14:09.437Z"
   },
   {
    "duration": 28,
    "start_time": "2022-10-21T15:14:10.528Z"
   },
   {
    "duration": 13,
    "start_time": "2022-10-21T15:14:10.558Z"
   },
   {
    "duration": 9,
    "start_time": "2022-10-21T15:14:10.573Z"
   },
   {
    "duration": 33,
    "start_time": "2022-10-21T15:14:10.584Z"
   },
   {
    "duration": 4,
    "start_time": "2022-10-21T15:14:10.619Z"
   },
   {
    "duration": 11,
    "start_time": "2022-10-21T15:14:10.625Z"
   },
   {
    "duration": 5,
    "start_time": "2022-10-21T15:14:18.477Z"
   },
   {
    "duration": 5,
    "start_time": "2022-10-21T15:14:31.322Z"
   },
   {
    "duration": 103,
    "start_time": "2022-10-21T15:16:01.402Z"
   },
   {
    "duration": 1044,
    "start_time": "2022-10-21T15:19:56.742Z"
   },
   {
    "duration": 28,
    "start_time": "2022-10-21T15:19:57.788Z"
   },
   {
    "duration": 12,
    "start_time": "2022-10-21T15:19:57.818Z"
   },
   {
    "duration": 7,
    "start_time": "2022-10-21T15:19:57.832Z"
   },
   {
    "duration": 33,
    "start_time": "2022-10-21T15:19:57.840Z"
   },
   {
    "duration": 4,
    "start_time": "2022-10-21T15:19:57.874Z"
   },
   {
    "duration": 18,
    "start_time": "2022-10-21T15:19:57.879Z"
   },
   {
    "duration": 13,
    "start_time": "2022-10-21T15:19:57.899Z"
   },
   {
    "duration": 1234,
    "start_time": "2022-10-21T15:20:39.761Z"
   },
   {
    "duration": 32,
    "start_time": "2022-10-21T15:20:40.997Z"
   },
   {
    "duration": 11,
    "start_time": "2022-10-21T15:20:41.031Z"
   },
   {
    "duration": 51,
    "start_time": "2022-10-21T15:20:41.045Z"
   },
   {
    "duration": 36,
    "start_time": "2022-10-21T15:20:41.097Z"
   },
   {
    "duration": 4,
    "start_time": "2022-10-21T15:20:41.135Z"
   },
   {
    "duration": 12,
    "start_time": "2022-10-21T15:20:41.190Z"
   },
   {
    "duration": 26,
    "start_time": "2022-10-21T15:20:41.204Z"
   },
   {
    "duration": 89,
    "start_time": "2022-10-22T16:09:06.440Z"
   },
   {
    "duration": 1039,
    "start_time": "2022-10-22T16:09:14.808Z"
   },
   {
    "duration": 29,
    "start_time": "2022-10-22T16:09:15.849Z"
   },
   {
    "duration": 12,
    "start_time": "2022-10-22T16:09:15.879Z"
   },
   {
    "duration": 15,
    "start_time": "2022-10-22T16:09:15.892Z"
   },
   {
    "duration": 37,
    "start_time": "2022-10-22T16:09:15.909Z"
   },
   {
    "duration": 4,
    "start_time": "2022-10-22T16:09:15.948Z"
   },
   {
    "duration": 96,
    "start_time": "2022-10-22T16:09:15.953Z"
   },
   {
    "duration": 0,
    "start_time": "2022-10-22T16:09:16.051Z"
   },
   {
    "duration": 866,
    "start_time": "2022-10-22T16:14:31.029Z"
   },
   {
    "duration": 21,
    "start_time": "2022-10-22T16:15:06.891Z"
   },
   {
    "duration": 10,
    "start_time": "2022-10-22T16:15:34.647Z"
   },
   {
    "duration": 70,
    "start_time": "2022-10-22T16:15:46.870Z"
   },
   {
    "duration": 10,
    "start_time": "2022-10-22T16:15:50.846Z"
   },
   {
    "duration": 2,
    "start_time": "2022-10-22T16:16:09.974Z"
   },
   {
    "duration": 75,
    "start_time": "2022-10-22T16:16:28.900Z"
   },
   {
    "duration": 71,
    "start_time": "2022-10-22T16:16:31.516Z"
   },
   {
    "duration": 11,
    "start_time": "2022-10-22T16:16:38.891Z"
   },
   {
    "duration": 67,
    "start_time": "2022-10-22T16:17:16.733Z"
   },
   {
    "duration": 478,
    "start_time": "2022-10-22T16:17:27.462Z"
   },
   {
    "duration": 212,
    "start_time": "2022-10-22T16:17:38.986Z"
   },
   {
    "duration": 402,
    "start_time": "2022-10-22T16:18:47.000Z"
   },
   {
    "duration": 13,
    "start_time": "2022-10-22T16:24:16.581Z"
   },
   {
    "duration": 1932,
    "start_time": "2022-10-22T16:24:21.789Z"
   },
   {
    "duration": 68,
    "start_time": "2022-10-22T16:24:23.723Z"
   },
   {
    "duration": 11,
    "start_time": "2022-10-22T16:24:23.793Z"
   },
   {
    "duration": 7,
    "start_time": "2022-10-22T16:24:23.806Z"
   },
   {
    "duration": 77,
    "start_time": "2022-10-22T16:24:23.815Z"
   },
   {
    "duration": 113,
    "start_time": "2022-10-22T16:24:23.893Z"
   },
   {
    "duration": 0,
    "start_time": "2022-10-22T16:24:24.007Z"
   },
   {
    "duration": 0,
    "start_time": "2022-10-22T16:24:24.009Z"
   },
   {
    "duration": 0,
    "start_time": "2022-10-22T16:24:24.010Z"
   },
   {
    "duration": 12,
    "start_time": "2022-10-22T16:24:36.126Z"
   },
   {
    "duration": 11,
    "start_time": "2022-10-22T16:24:43.400Z"
   },
   {
    "duration": 11,
    "start_time": "2022-10-22T16:24:48.780Z"
   },
   {
    "duration": 1419,
    "start_time": "2022-10-22T16:26:15.898Z"
   },
   {
    "duration": 28,
    "start_time": "2022-10-22T16:26:17.319Z"
   },
   {
    "duration": 12,
    "start_time": "2022-10-22T16:26:17.349Z"
   },
   {
    "duration": 7,
    "start_time": "2022-10-22T16:26:17.364Z"
   },
   {
    "duration": 26,
    "start_time": "2022-10-22T16:26:17.373Z"
   },
   {
    "duration": 2044,
    "start_time": "2022-10-22T16:30:04.762Z"
   },
   {
    "duration": 29,
    "start_time": "2022-10-22T16:30:06.808Z"
   },
   {
    "duration": 11,
    "start_time": "2022-10-22T16:30:06.839Z"
   },
   {
    "duration": 7,
    "start_time": "2022-10-22T16:30:06.891Z"
   },
   {
    "duration": 92,
    "start_time": "2022-10-22T16:30:06.900Z"
   },
   {
    "duration": 303,
    "start_time": "2022-10-22T16:30:06.994Z"
   },
   {
    "duration": 4,
    "start_time": "2022-10-22T16:30:07.299Z"
   },
   {
    "duration": 13,
    "start_time": "2022-10-22T16:30:07.304Z"
   },
   {
    "duration": 10,
    "start_time": "2022-10-22T16:30:07.319Z"
   },
   {
    "duration": 86,
    "start_time": "2022-10-22T16:30:39.880Z"
   },
   {
    "duration": 10,
    "start_time": "2022-10-22T16:30:44.149Z"
   },
   {
    "duration": 120,
    "start_time": "2022-10-22T16:31:35.550Z"
   },
   {
    "duration": 16,
    "start_time": "2022-10-22T16:31:55.672Z"
   },
   {
    "duration": 16,
    "start_time": "2022-10-22T16:32:10.562Z"
   },
   {
    "duration": 19,
    "start_time": "2022-10-22T16:32:15.182Z"
   },
   {
    "duration": 15,
    "start_time": "2022-10-22T17:04:55.909Z"
   },
   {
    "duration": 14,
    "start_time": "2022-10-22T17:05:27.463Z"
   },
   {
    "duration": 100,
    "start_time": "2022-10-22T17:05:35.841Z"
   },
   {
    "duration": 524,
    "start_time": "2022-10-22T17:05:53.892Z"
   },
   {
    "duration": 206,
    "start_time": "2022-10-22T17:06:25.611Z"
   },
   {
    "duration": 113,
    "start_time": "2022-10-22T17:06:42.508Z"
   },
   {
    "duration": 110,
    "start_time": "2022-10-22T17:07:02.681Z"
   },
   {
    "duration": 128,
    "start_time": "2022-10-22T17:07:18.774Z"
   },
   {
    "duration": 142,
    "start_time": "2022-10-22T17:07:36.477Z"
   },
   {
    "duration": 73,
    "start_time": "2022-10-22T17:13:00.928Z"
   },
   {
    "duration": 110,
    "start_time": "2022-10-22T17:13:12.662Z"
   },
   {
    "duration": 1517,
    "start_time": "2022-10-29T17:37:17.432Z"
   },
   {
    "duration": 89,
    "start_time": "2022-10-29T17:37:18.952Z"
   },
   {
    "duration": 12,
    "start_time": "2022-10-29T17:37:19.043Z"
   },
   {
    "duration": 13,
    "start_time": "2022-10-29T17:37:19.057Z"
   },
   {
    "duration": 25,
    "start_time": "2022-10-29T17:37:19.072Z"
   },
   {
    "duration": 229,
    "start_time": "2022-10-29T17:37:19.099Z"
   },
   {
    "duration": 0,
    "start_time": "2022-10-29T17:37:19.330Z"
   },
   {
    "duration": 0,
    "start_time": "2022-10-29T17:37:19.338Z"
   },
   {
    "duration": 0,
    "start_time": "2022-10-29T17:37:19.339Z"
   },
   {
    "duration": 109,
    "start_time": "2022-10-29T17:37:49.570Z"
   },
   {
    "duration": 22,
    "start_time": "2022-10-29T17:38:08.341Z"
   },
   {
    "duration": 4,
    "start_time": "2022-10-29T17:38:09.251Z"
   },
   {
    "duration": 11,
    "start_time": "2022-10-29T17:38:10.592Z"
   },
   {
    "duration": 13,
    "start_time": "2022-10-29T17:38:12.034Z"
   },
   {
    "duration": 8,
    "start_time": "2022-10-29T19:39:14.394Z"
   },
   {
    "duration": 29,
    "start_time": "2022-10-29T19:39:42.508Z"
   },
   {
    "duration": 13,
    "start_time": "2022-10-29T19:40:55.729Z"
   },
   {
    "duration": 3,
    "start_time": "2022-10-29T19:41:13.170Z"
   },
   {
    "duration": 6,
    "start_time": "2022-10-29T19:41:16.721Z"
   },
   {
    "duration": 10,
    "start_time": "2022-10-29T19:42:45.067Z"
   },
   {
    "duration": 10,
    "start_time": "2022-10-29T19:42:50.693Z"
   },
   {
    "duration": 14,
    "start_time": "2022-10-29T19:44:09.793Z"
   },
   {
    "duration": 9,
    "start_time": "2022-10-29T19:44:18.799Z"
   },
   {
    "duration": 8,
    "start_time": "2022-10-29T19:46:33.983Z"
   },
   {
    "duration": 9,
    "start_time": "2022-10-29T19:48:08.892Z"
   },
   {
    "duration": 11,
    "start_time": "2022-10-29T19:48:19.401Z"
   },
   {
    "duration": 9,
    "start_time": "2022-10-29T19:48:31.435Z"
   },
   {
    "duration": 8,
    "start_time": "2022-10-29T19:48:35.587Z"
   },
   {
    "duration": 8,
    "start_time": "2022-10-29T19:48:41.139Z"
   },
   {
    "duration": 9,
    "start_time": "2022-10-29T19:48:44.962Z"
   },
   {
    "duration": 7,
    "start_time": "2022-10-29T19:49:44.543Z"
   },
   {
    "duration": 45,
    "start_time": "2022-10-29T19:49:51.450Z"
   },
   {
    "duration": 7,
    "start_time": "2022-10-29T19:49:54.850Z"
   },
   {
    "duration": 7,
    "start_time": "2022-10-29T19:49:58.266Z"
   },
   {
    "duration": 7,
    "start_time": "2022-10-29T19:51:37.386Z"
   },
   {
    "duration": 6,
    "start_time": "2022-10-29T19:51:40.622Z"
   },
   {
    "duration": 3,
    "start_time": "2022-10-29T20:08:42.638Z"
   },
   {
    "duration": 9,
    "start_time": "2022-10-29T20:10:10.294Z"
   },
   {
    "duration": 12,
    "start_time": "2022-10-29T20:10:14.343Z"
   },
   {
    "duration": 3,
    "start_time": "2022-10-29T20:10:21.384Z"
   },
   {
    "duration": 3,
    "start_time": "2022-10-29T20:10:22.308Z"
   },
   {
    "duration": 11,
    "start_time": "2022-10-29T20:10:35.323Z"
   },
   {
    "duration": 11,
    "start_time": "2022-10-29T20:10:49.261Z"
   },
   {
    "duration": 5,
    "start_time": "2022-10-29T20:10:52.408Z"
   },
   {
    "duration": 9,
    "start_time": "2022-10-29T20:14:49.951Z"
   },
   {
    "duration": 3,
    "start_time": "2022-10-29T20:14:54.593Z"
   },
   {
    "duration": 11,
    "start_time": "2022-10-29T20:14:54.856Z"
   },
   {
    "duration": 5,
    "start_time": "2022-10-29T20:14:55.141Z"
   },
   {
    "duration": 9,
    "start_time": "2022-10-29T20:14:55.396Z"
   },
   {
    "duration": 9,
    "start_time": "2022-10-29T20:14:55.648Z"
   },
   {
    "duration": 60,
    "start_time": "2022-10-29T20:15:14.988Z"
   },
   {
    "duration": 4,
    "start_time": "2022-10-29T20:15:28.154Z"
   },
   {
    "duration": 16,
    "start_time": "2022-10-29T20:15:32.581Z"
   },
   {
    "duration": 19,
    "start_time": "2022-10-29T20:15:58.636Z"
   },
   {
    "duration": 17,
    "start_time": "2022-10-29T20:16:10.662Z"
   },
   {
    "duration": 4,
    "start_time": "2022-10-29T20:16:52.348Z"
   },
   {
    "duration": 4,
    "start_time": "2022-10-29T20:16:58.468Z"
   },
   {
    "duration": 16,
    "start_time": "2022-10-29T20:16:59.094Z"
   },
   {
    "duration": 9,
    "start_time": "2022-10-29T20:17:51.637Z"
   },
   {
    "duration": 10,
    "start_time": "2022-10-29T20:17:55.690Z"
   },
   {
    "duration": 9,
    "start_time": "2022-10-29T20:18:01.268Z"
   },
   {
    "duration": 11,
    "start_time": "2022-10-29T20:18:39.211Z"
   },
   {
    "duration": 5,
    "start_time": "2022-10-29T20:18:42.526Z"
   },
   {
    "duration": 4,
    "start_time": "2022-10-29T20:18:42.705Z"
   },
   {
    "duration": 11,
    "start_time": "2022-10-29T20:18:47.792Z"
   },
   {
    "duration": 9,
    "start_time": "2022-10-29T20:21:12.898Z"
   },
   {
    "duration": 8,
    "start_time": "2022-10-29T20:24:10.651Z"
   },
   {
    "duration": 9,
    "start_time": "2022-10-29T20:24:26.629Z"
   },
   {
    "duration": 4,
    "start_time": "2022-10-29T20:25:32.014Z"
   },
   {
    "duration": 8,
    "start_time": "2022-10-29T20:26:54.656Z"
   },
   {
    "duration": 1309,
    "start_time": "2022-10-29T20:36:53.821Z"
   },
   {
    "duration": 29,
    "start_time": "2022-10-29T20:36:55.132Z"
   },
   {
    "duration": 9,
    "start_time": "2022-10-29T20:36:55.163Z"
   },
   {
    "duration": 10,
    "start_time": "2022-10-29T20:36:55.174Z"
   },
   {
    "duration": 28,
    "start_time": "2022-10-29T20:36:55.185Z"
   },
   {
    "duration": 6,
    "start_time": "2022-10-29T20:36:55.215Z"
   },
   {
    "duration": 5,
    "start_time": "2022-10-29T20:36:55.222Z"
   },
   {
    "duration": 16,
    "start_time": "2022-10-29T20:36:55.228Z"
   },
   {
    "duration": 10,
    "start_time": "2022-10-29T20:36:55.246Z"
   },
   {
    "duration": 3,
    "start_time": "2022-10-29T20:36:55.258Z"
   },
   {
    "duration": 4,
    "start_time": "2022-10-29T20:36:55.263Z"
   },
   {
    "duration": 122,
    "start_time": "2022-10-29T20:36:55.269Z"
   },
   {
    "duration": 0,
    "start_time": "2022-10-29T20:36:55.392Z"
   },
   {
    "duration": 0,
    "start_time": "2022-10-29T20:36:55.393Z"
   },
   {
    "duration": 0,
    "start_time": "2022-10-29T20:36:55.394Z"
   },
   {
    "duration": 0,
    "start_time": "2022-10-29T20:36:55.395Z"
   },
   {
    "duration": 0,
    "start_time": "2022-10-29T20:36:55.396Z"
   },
   {
    "duration": 0,
    "start_time": "2022-10-29T20:36:55.397Z"
   },
   {
    "duration": 0,
    "start_time": "2022-10-29T20:36:55.398Z"
   },
   {
    "duration": 9,
    "start_time": "2022-10-29T20:37:37.655Z"
   },
   {
    "duration": 4,
    "start_time": "2022-10-29T20:37:39.865Z"
   },
   {
    "duration": 5,
    "start_time": "2022-10-29T20:37:42.959Z"
   },
   {
    "duration": 13,
    "start_time": "2022-10-29T20:37:44.999Z"
   },
   {
    "duration": 11,
    "start_time": "2022-10-29T20:37:47.416Z"
   },
   {
    "duration": 8,
    "start_time": "2022-10-29T20:37:52.427Z"
   },
   {
    "duration": 5,
    "start_time": "2022-10-29T20:37:56.660Z"
   },
   {
    "duration": 9,
    "start_time": "2022-10-29T20:37:56.892Z"
   },
   {
    "duration": 16,
    "start_time": "2022-10-29T20:37:57.096Z"
   },
   {
    "duration": 5,
    "start_time": "2022-10-29T20:41:11.917Z"
   },
   {
    "duration": 8,
    "start_time": "2022-10-29T20:41:12.879Z"
   },
   {
    "duration": 16,
    "start_time": "2022-10-29T20:41:29.418Z"
   },
   {
    "duration": 5,
    "start_time": "2022-10-29T20:42:20.642Z"
   },
   {
    "duration": 10,
    "start_time": "2022-10-29T20:42:21.377Z"
   },
   {
    "duration": 6,
    "start_time": "2022-10-29T20:42:22.798Z"
   },
   {
    "duration": 8,
    "start_time": "2022-10-29T20:42:26.414Z"
   },
   {
    "duration": 6,
    "start_time": "2022-10-29T20:47:00.587Z"
   },
   {
    "duration": 9,
    "start_time": "2022-10-29T20:47:00.744Z"
   },
   {
    "duration": 8,
    "start_time": "2022-10-29T21:06:12.955Z"
   },
   {
    "duration": 1378,
    "start_time": "2022-10-29T21:08:27.310Z"
   },
   {
    "duration": 30,
    "start_time": "2022-10-29T21:08:28.690Z"
   },
   {
    "duration": 12,
    "start_time": "2022-10-29T21:08:28.722Z"
   },
   {
    "duration": 9,
    "start_time": "2022-10-29T21:08:28.737Z"
   },
   {
    "duration": 28,
    "start_time": "2022-10-29T21:08:28.748Z"
   },
   {
    "duration": 6,
    "start_time": "2022-10-29T21:08:28.779Z"
   },
   {
    "duration": 5,
    "start_time": "2022-10-29T21:08:28.787Z"
   },
   {
    "duration": 14,
    "start_time": "2022-10-29T21:08:28.794Z"
   },
   {
    "duration": 38,
    "start_time": "2022-10-29T21:08:28.810Z"
   },
   {
    "duration": 6,
    "start_time": "2022-10-29T21:08:28.851Z"
   },
   {
    "duration": 11,
    "start_time": "2022-10-29T21:08:28.858Z"
   },
   {
    "duration": 9,
    "start_time": "2022-10-29T21:08:28.871Z"
   },
   {
    "duration": 9,
    "start_time": "2022-10-29T21:08:28.882Z"
   },
   {
    "duration": 7,
    "start_time": "2022-10-29T21:08:28.893Z"
   },
   {
    "duration": 12,
    "start_time": "2022-10-29T21:08:28.938Z"
   },
   {
    "duration": 92,
    "start_time": "2022-10-29T21:08:28.952Z"
   },
   {
    "duration": 7,
    "start_time": "2022-10-29T21:08:29.046Z"
   },
   {
    "duration": 11,
    "start_time": "2022-10-29T21:08:29.055Z"
   },
   {
    "duration": 10,
    "start_time": "2022-10-29T21:08:29.067Z"
   },
   {
    "duration": 16,
    "start_time": "2022-10-29T21:08:29.079Z"
   },
   {
    "duration": 50,
    "start_time": "2022-10-30T14:48:59.303Z"
   },
   {
    "duration": 1521,
    "start_time": "2022-10-30T14:49:12.131Z"
   },
   {
    "duration": 94,
    "start_time": "2022-10-30T14:49:13.654Z"
   },
   {
    "duration": 11,
    "start_time": "2022-10-30T14:49:13.749Z"
   },
   {
    "duration": 8,
    "start_time": "2022-10-30T14:49:13.761Z"
   },
   {
    "duration": 24,
    "start_time": "2022-10-30T14:49:13.771Z"
   },
   {
    "duration": 5,
    "start_time": "2022-10-30T14:49:13.796Z"
   },
   {
    "duration": 10,
    "start_time": "2022-10-30T14:49:13.803Z"
   },
   {
    "duration": 16,
    "start_time": "2022-10-30T14:49:13.814Z"
   },
   {
    "duration": 14,
    "start_time": "2022-10-30T14:49:13.831Z"
   },
   {
    "duration": 236902,
    "start_time": "2022-10-30T14:49:13.847Z"
   },
   {
    "duration": 5,
    "start_time": "2022-10-30T14:53:10.751Z"
   },
   {
    "duration": 6,
    "start_time": "2022-10-30T14:53:10.758Z"
   },
   {
    "duration": 12,
    "start_time": "2022-10-30T14:53:10.766Z"
   },
   {
    "duration": 4,
    "start_time": "2022-10-30T14:53:10.780Z"
   },
   {
    "duration": 28,
    "start_time": "2022-10-30T14:53:10.786Z"
   },
   {
    "duration": 203,
    "start_time": "2022-10-30T14:53:10.815Z"
   },
   {
    "duration": 9,
    "start_time": "2022-10-30T14:53:11.019Z"
   },
   {
    "duration": 5,
    "start_time": "2022-10-30T14:53:11.030Z"
   },
   {
    "duration": 8,
    "start_time": "2022-10-30T14:53:11.037Z"
   },
   {
    "duration": 4,
    "start_time": "2022-10-30T14:53:11.046Z"
   },
   {
    "duration": 8,
    "start_time": "2022-10-30T14:53:11.052Z"
   },
   {
    "duration": 3,
    "start_time": "2022-10-30T14:53:11.062Z"
   },
   {
    "duration": 235,
    "start_time": "2022-10-30T15:01:55.757Z"
   },
   {
    "duration": 161,
    "start_time": "2022-10-30T15:02:17.276Z"
   },
   {
    "duration": 174,
    "start_time": "2022-10-30T15:03:27.453Z"
   },
   {
    "duration": 17,
    "start_time": "2022-10-30T15:03:54.867Z"
   },
   {
    "duration": 182,
    "start_time": "2022-10-30T15:04:02.172Z"
   },
   {
    "duration": 180,
    "start_time": "2022-10-30T15:04:07.727Z"
   },
   {
    "duration": 198,
    "start_time": "2022-10-30T15:04:34.383Z"
   },
   {
    "duration": 152,
    "start_time": "2022-10-30T15:04:43.065Z"
   },
   {
    "duration": 181,
    "start_time": "2022-10-30T15:04:46.129Z"
   },
   {
    "duration": 14,
    "start_time": "2022-10-30T15:05:23.656Z"
   },
   {
    "duration": 13,
    "start_time": "2022-10-30T15:05:39.702Z"
   },
   {
    "duration": 14,
    "start_time": "2022-10-30T15:06:03.171Z"
   },
   {
    "duration": 55,
    "start_time": "2022-10-30T15:06:13.302Z"
   },
   {
    "duration": 4,
    "start_time": "2022-10-30T15:06:28.578Z"
   },
   {
    "duration": 4,
    "start_time": "2022-10-30T15:06:52.178Z"
   },
   {
    "duration": 4,
    "start_time": "2022-10-30T15:06:58.997Z"
   },
   {
    "duration": 3,
    "start_time": "2022-10-30T15:07:05.239Z"
   },
   {
    "duration": 3,
    "start_time": "2022-10-30T15:07:15.654Z"
   },
   {
    "duration": 3,
    "start_time": "2022-10-30T15:07:47.337Z"
   },
   {
    "duration": 13,
    "start_time": "2022-10-30T15:08:15.346Z"
   },
   {
    "duration": 252,
    "start_time": "2022-10-30T15:08:28.889Z"
   },
   {
    "duration": 4,
    "start_time": "2022-10-30T15:08:48.056Z"
   },
   {
    "duration": 247,
    "start_time": "2022-10-30T15:08:52.524Z"
   },
   {
    "duration": 1293,
    "start_time": "2022-10-30T15:09:10.244Z"
   },
   {
    "duration": 29,
    "start_time": "2022-10-30T15:09:11.539Z"
   },
   {
    "duration": 10,
    "start_time": "2022-10-30T15:09:11.569Z"
   },
   {
    "duration": 8,
    "start_time": "2022-10-30T15:09:11.580Z"
   },
   {
    "duration": 27,
    "start_time": "2022-10-30T15:09:11.589Z"
   },
   {
    "duration": 5,
    "start_time": "2022-10-30T15:09:11.618Z"
   },
   {
    "duration": 8,
    "start_time": "2022-10-30T15:09:11.624Z"
   },
   {
    "duration": 6,
    "start_time": "2022-10-30T15:09:11.633Z"
   },
   {
    "duration": 12,
    "start_time": "2022-10-30T15:09:11.640Z"
   },
   {
    "duration": 12,
    "start_time": "2022-10-30T15:09:11.655Z"
   },
   {
    "duration": 276,
    "start_time": "2022-10-30T15:09:11.669Z"
   },
   {
    "duration": 3,
    "start_time": "2022-10-30T15:09:11.947Z"
   },
   {
    "duration": 6,
    "start_time": "2022-10-30T15:09:11.951Z"
   },
   {
    "duration": 8,
    "start_time": "2022-10-30T15:09:11.959Z"
   },
   {
    "duration": 5,
    "start_time": "2022-10-30T15:09:11.968Z"
   },
   {
    "duration": 4,
    "start_time": "2022-10-30T15:09:11.974Z"
   },
   {
    "duration": 42,
    "start_time": "2022-10-30T15:09:11.979Z"
   },
   {
    "duration": 87,
    "start_time": "2022-10-30T15:09:12.022Z"
   },
   {
    "duration": 5,
    "start_time": "2022-10-30T15:09:12.111Z"
   },
   {
    "duration": 8,
    "start_time": "2022-10-30T15:09:12.118Z"
   },
   {
    "duration": 5,
    "start_time": "2022-10-30T15:09:12.127Z"
   },
   {
    "duration": 7,
    "start_time": "2022-10-30T15:09:12.134Z"
   },
   {
    "duration": 246,
    "start_time": "2022-10-30T15:14:05.905Z"
   },
   {
    "duration": 316,
    "start_time": "2022-10-30T15:14:52.181Z"
   },
   {
    "duration": 217,
    "start_time": "2022-10-30T15:15:09.369Z"
   },
   {
    "duration": 174,
    "start_time": "2022-10-30T15:16:44.488Z"
   },
   {
    "duration": 160,
    "start_time": "2022-10-30T15:16:50.605Z"
   },
   {
    "duration": 160,
    "start_time": "2022-10-30T15:17:01.353Z"
   },
   {
    "duration": 168,
    "start_time": "2022-10-31T11:52:06.644Z"
   },
   {
    "duration": 246,
    "start_time": "2022-10-31T11:52:22.195Z"
   },
   {
    "duration": 186,
    "start_time": "2022-10-31T11:52:45.867Z"
   },
   {
    "duration": 189,
    "start_time": "2022-10-31T11:53:06.877Z"
   },
   {
    "duration": 200,
    "start_time": "2022-10-31T11:53:13.137Z"
   },
   {
    "duration": 300,
    "start_time": "2022-10-31T11:53:17.974Z"
   },
   {
    "duration": 186,
    "start_time": "2022-10-31T11:53:24.168Z"
   },
   {
    "duration": 182,
    "start_time": "2022-10-31T11:53:29.528Z"
   },
   {
    "duration": 195,
    "start_time": "2022-10-31T11:53:35.044Z"
   },
   {
    "duration": 67,
    "start_time": "2022-10-31T11:53:58.332Z"
   },
   {
    "duration": 146,
    "start_time": "2022-10-31T11:54:07.192Z"
   },
   {
    "duration": 15,
    "start_time": "2022-10-31T11:54:30.869Z"
   },
   {
    "duration": 4,
    "start_time": "2022-10-31T11:54:46.476Z"
   },
   {
    "duration": 4,
    "start_time": "2022-10-31T11:54:46.952Z"
   },
   {
    "duration": 11,
    "start_time": "2022-10-31T11:54:47.096Z"
   },
   {
    "duration": 13,
    "start_time": "2022-10-31T11:54:47.265Z"
   },
   {
    "duration": 193,
    "start_time": "2022-10-31T11:54:47.673Z"
   },
   {
    "duration": 144,
    "start_time": "2022-10-31T11:54:47.868Z"
   },
   {
    "duration": 175,
    "start_time": "2022-10-31T11:54:59.383Z"
   },
   {
    "duration": 137,
    "start_time": "2022-10-31T11:55:10.085Z"
   },
   {
    "duration": 4,
    "start_time": "2022-10-31T11:55:19.099Z"
   },
   {
    "duration": 4,
    "start_time": "2022-10-31T11:55:19.798Z"
   },
   {
    "duration": 10,
    "start_time": "2022-10-31T11:55:19.942Z"
   },
   {
    "duration": 11,
    "start_time": "2022-10-31T11:55:20.093Z"
   },
   {
    "duration": 179,
    "start_time": "2022-10-31T11:55:20.254Z"
   },
   {
    "duration": 154,
    "start_time": "2022-10-31T11:55:20.434Z"
   },
   {
    "duration": 147,
    "start_time": "2022-10-31T11:55:27.270Z"
   },
   {
    "duration": 226,
    "start_time": "2022-10-31T11:55:32.630Z"
   },
   {
    "duration": 149,
    "start_time": "2022-10-31T11:55:46.712Z"
   },
   {
    "duration": 55,
    "start_time": "2022-10-31T11:55:52.914Z"
   },
   {
    "duration": 1352,
    "start_time": "2022-10-31T17:54:29.787Z"
   },
   {
    "duration": 29,
    "start_time": "2022-10-31T17:54:31.141Z"
   },
   {
    "duration": 11,
    "start_time": "2022-10-31T17:54:31.171Z"
   },
   {
    "duration": 20,
    "start_time": "2022-10-31T17:54:31.183Z"
   },
   {
    "duration": 31,
    "start_time": "2022-10-31T17:54:31.206Z"
   },
   {
    "duration": 6,
    "start_time": "2022-10-31T17:54:31.239Z"
   },
   {
    "duration": 4,
    "start_time": "2022-10-31T17:54:31.246Z"
   },
   {
    "duration": 6,
    "start_time": "2022-10-31T17:54:31.251Z"
   },
   {
    "duration": 22,
    "start_time": "2022-10-31T17:54:31.259Z"
   },
   {
    "duration": 11,
    "start_time": "2022-10-31T17:54:31.283Z"
   },
   {
    "duration": 196,
    "start_time": "2022-10-31T17:54:31.295Z"
   },
   {
    "duration": 157,
    "start_time": "2022-10-31T17:54:31.493Z"
   },
   {
    "duration": 4,
    "start_time": "2022-10-31T17:54:31.652Z"
   },
   {
    "duration": 14,
    "start_time": "2022-10-31T17:54:31.659Z"
   },
   {
    "duration": 19,
    "start_time": "2022-10-31T17:54:31.675Z"
   },
   {
    "duration": 19,
    "start_time": "2022-10-31T17:54:31.695Z"
   },
   {
    "duration": 18,
    "start_time": "2022-10-31T17:54:31.715Z"
   },
   {
    "duration": 78,
    "start_time": "2022-10-31T17:54:31.735Z"
   },
   {
    "duration": 95,
    "start_time": "2022-10-31T17:54:31.815Z"
   },
   {
    "duration": 6,
    "start_time": "2022-10-31T17:54:31.911Z"
   },
   {
    "duration": 24,
    "start_time": "2022-10-31T17:54:31.918Z"
   },
   {
    "duration": 11,
    "start_time": "2022-10-31T17:54:31.943Z"
   },
   {
    "duration": 22,
    "start_time": "2022-10-31T17:54:31.955Z"
   },
   {
    "duration": 148,
    "start_time": "2022-10-31T18:58:19.016Z"
   },
   {
    "duration": 153,
    "start_time": "2022-10-31T18:58:32.770Z"
   },
   {
    "duration": 217,
    "start_time": "2022-10-31T18:58:46.095Z"
   },
   {
    "duration": 4,
    "start_time": "2022-10-31T18:59:00.478Z"
   },
   {
    "duration": 5,
    "start_time": "2022-10-31T18:59:03.676Z"
   },
   {
    "duration": 10,
    "start_time": "2022-10-31T18:59:03.826Z"
   },
   {
    "duration": 14,
    "start_time": "2022-10-31T18:59:03.978Z"
   },
   {
    "duration": 187,
    "start_time": "2022-10-31T18:59:04.123Z"
   },
   {
    "duration": 307,
    "start_time": "2022-10-31T18:59:04.312Z"
   },
   {
    "duration": 6,
    "start_time": "2022-10-31T19:00:51.847Z"
   },
   {
    "duration": 5,
    "start_time": "2022-10-31T19:00:55.059Z"
   },
   {
    "duration": 12,
    "start_time": "2022-10-31T19:00:55.194Z"
   },
   {
    "duration": 11,
    "start_time": "2022-10-31T19:00:55.375Z"
   },
   {
    "duration": 177,
    "start_time": "2022-10-31T19:00:55.526Z"
   },
   {
    "duration": 152,
    "start_time": "2022-10-31T19:00:55.705Z"
   },
   {
    "duration": 286,
    "start_time": "2022-10-31T19:03:29.250Z"
   },
   {
    "duration": 162,
    "start_time": "2022-10-31T19:03:55.056Z"
   },
   {
    "duration": 160,
    "start_time": "2022-10-31T19:04:12.804Z"
   },
   {
    "duration": 143,
    "start_time": "2022-10-31T19:04:25.726Z"
   },
   {
    "duration": 4,
    "start_time": "2022-10-31T19:04:51.370Z"
   },
   {
    "duration": 192,
    "start_time": "2022-10-31T19:04:54.350Z"
   },
   {
    "duration": 9,
    "start_time": "2022-10-31T19:05:21.426Z"
   },
   {
    "duration": 551,
    "start_time": "2022-10-31T19:05:24.959Z"
   },
   {
    "duration": 160,
    "start_time": "2022-10-31T19:06:19.096Z"
   },
   {
    "duration": 122,
    "start_time": "2022-10-31T19:06:37.842Z"
   },
   {
    "duration": 145,
    "start_time": "2022-10-31T19:06:46.396Z"
   },
   {
    "duration": 134,
    "start_time": "2022-10-31T19:06:54.659Z"
   },
   {
    "duration": 281,
    "start_time": "2022-10-31T19:07:06.978Z"
   },
   {
    "duration": 280,
    "start_time": "2022-10-31T19:07:17.731Z"
   },
   {
    "duration": 243,
    "start_time": "2022-10-31T19:07:27.042Z"
   },
   {
    "duration": 172,
    "start_time": "2022-10-31T19:07:50.523Z"
   },
   {
    "duration": 165,
    "start_time": "2022-10-31T19:07:57.827Z"
   },
   {
    "duration": 162,
    "start_time": "2022-10-31T19:08:11.697Z"
   },
   {
    "duration": 97,
    "start_time": "2022-10-31T19:08:31.489Z"
   },
   {
    "duration": 107,
    "start_time": "2022-10-31T19:08:36.159Z"
   },
   {
    "duration": 170,
    "start_time": "2022-10-31T19:08:42.009Z"
   },
   {
    "duration": 130,
    "start_time": "2022-10-31T19:09:09.625Z"
   },
   {
    "duration": 129,
    "start_time": "2022-10-31T19:09:34.743Z"
   },
   {
    "duration": 160,
    "start_time": "2022-10-31T19:09:39.832Z"
   },
   {
    "duration": 162,
    "start_time": "2022-10-31T19:09:45.797Z"
   },
   {
    "duration": 253,
    "start_time": "2022-10-31T19:09:55.226Z"
   },
   {
    "duration": 156,
    "start_time": "2022-10-31T19:10:08.781Z"
   },
   {
    "duration": 164,
    "start_time": "2022-10-31T19:10:47.472Z"
   },
   {
    "duration": 138,
    "start_time": "2022-10-31T19:10:53.326Z"
   },
   {
    "duration": 9,
    "start_time": "2022-10-31T19:11:37.136Z"
   },
   {
    "duration": 1343,
    "start_time": "2022-10-31T19:12:56.400Z"
   },
   {
    "duration": 29,
    "start_time": "2022-10-31T19:12:57.745Z"
   },
   {
    "duration": 9,
    "start_time": "2022-10-31T19:12:57.775Z"
   },
   {
    "duration": 12,
    "start_time": "2022-10-31T19:12:57.786Z"
   },
   {
    "duration": 25,
    "start_time": "2022-10-31T19:12:57.799Z"
   },
   {
    "duration": 5,
    "start_time": "2022-10-31T19:12:57.825Z"
   },
   {
    "duration": 6,
    "start_time": "2022-10-31T19:12:57.831Z"
   },
   {
    "duration": 8,
    "start_time": "2022-10-31T19:12:57.839Z"
   },
   {
    "duration": 4,
    "start_time": "2022-10-31T19:12:57.848Z"
   },
   {
    "duration": 10,
    "start_time": "2022-10-31T19:12:57.855Z"
   },
   {
    "duration": 11,
    "start_time": "2022-10-31T19:12:57.866Z"
   },
   {
    "duration": 212,
    "start_time": "2022-10-31T19:12:57.879Z"
   },
   {
    "duration": 137,
    "start_time": "2022-10-31T19:12:58.092Z"
   },
   {
    "duration": 181,
    "start_time": "2022-10-31T19:12:58.231Z"
   },
   {
    "duration": 146,
    "start_time": "2022-10-31T19:12:58.414Z"
   },
   {
    "duration": 3,
    "start_time": "2022-10-31T19:12:58.562Z"
   },
   {
    "duration": 12,
    "start_time": "2022-10-31T19:12:58.566Z"
   },
   {
    "duration": 8,
    "start_time": "2022-10-31T19:12:58.579Z"
   },
   {
    "duration": 7,
    "start_time": "2022-10-31T19:12:58.588Z"
   },
   {
    "duration": 6,
    "start_time": "2022-10-31T19:12:58.609Z"
   },
   {
    "duration": 8,
    "start_time": "2022-10-31T19:12:58.617Z"
   },
   {
    "duration": 85,
    "start_time": "2022-10-31T19:12:58.626Z"
   },
   {
    "duration": 9,
    "start_time": "2022-10-31T19:12:58.713Z"
   },
   {
    "duration": 91,
    "start_time": "2022-10-31T19:12:58.724Z"
   },
   {
    "duration": 4,
    "start_time": "2022-10-31T19:12:58.817Z"
   },
   {
    "duration": 9,
    "start_time": "2022-10-31T19:12:58.822Z"
   },
   {
    "duration": 42,
    "start_time": "2022-11-01T20:16:06.263Z"
   },
   {
    "duration": 1788,
    "start_time": "2022-11-01T20:16:12.400Z"
   },
   {
    "duration": 129,
    "start_time": "2022-11-01T20:16:14.190Z"
   },
   {
    "duration": 14,
    "start_time": "2022-11-01T20:16:14.323Z"
   },
   {
    "duration": 39,
    "start_time": "2022-11-01T20:16:14.339Z"
   },
   {
    "duration": 72,
    "start_time": "2022-11-01T20:16:14.379Z"
   },
   {
    "duration": 7,
    "start_time": "2022-11-01T20:16:14.453Z"
   },
   {
    "duration": 63,
    "start_time": "2022-11-01T20:16:14.462Z"
   },
   {
    "duration": 13,
    "start_time": "2022-11-01T20:16:14.527Z"
   },
   {
    "duration": 20,
    "start_time": "2022-11-01T20:16:14.542Z"
   },
   {
    "duration": 57,
    "start_time": "2022-11-01T20:16:14.565Z"
   },
   {
    "duration": 12,
    "start_time": "2022-11-01T20:16:14.624Z"
   },
   {
    "duration": 218,
    "start_time": "2022-11-01T20:16:14.637Z"
   },
   {
    "duration": 0,
    "start_time": "2022-11-01T20:16:14.857Z"
   },
   {
    "duration": 0,
    "start_time": "2022-11-01T20:16:14.858Z"
   },
   {
    "duration": 0,
    "start_time": "2022-11-01T20:16:14.860Z"
   },
   {
    "duration": 0,
    "start_time": "2022-11-01T20:16:14.861Z"
   },
   {
    "duration": 0,
    "start_time": "2022-11-01T20:16:14.862Z"
   },
   {
    "duration": 0,
    "start_time": "2022-11-01T20:16:14.863Z"
   },
   {
    "duration": 0,
    "start_time": "2022-11-01T20:16:14.865Z"
   },
   {
    "duration": 0,
    "start_time": "2022-11-01T20:16:14.923Z"
   },
   {
    "duration": 0,
    "start_time": "2022-11-01T20:16:14.925Z"
   },
   {
    "duration": 0,
    "start_time": "2022-11-01T20:16:14.926Z"
   },
   {
    "duration": 0,
    "start_time": "2022-11-01T20:16:14.928Z"
   },
   {
    "duration": 0,
    "start_time": "2022-11-01T20:16:14.929Z"
   },
   {
    "duration": 0,
    "start_time": "2022-11-01T20:16:14.931Z"
   },
   {
    "duration": 0,
    "start_time": "2022-11-01T20:16:14.933Z"
   },
   {
    "duration": 1,
    "start_time": "2022-11-01T20:16:14.934Z"
   },
   {
    "duration": 9,
    "start_time": "2022-11-01T20:16:27.395Z"
   },
   {
    "duration": 18,
    "start_time": "2022-11-01T20:16:38.484Z"
   },
   {
    "duration": 14,
    "start_time": "2022-11-01T20:16:54.843Z"
   },
   {
    "duration": 14,
    "start_time": "2022-11-01T20:17:07.746Z"
   },
   {
    "duration": 9,
    "start_time": "2022-11-01T20:17:55.567Z"
   },
   {
    "duration": 10,
    "start_time": "2022-11-01T20:18:39.829Z"
   },
   {
    "duration": 359,
    "start_time": "2022-11-01T20:18:48.468Z"
   },
   {
    "duration": 11,
    "start_time": "2022-11-01T20:19:10.823Z"
   },
   {
    "duration": 350,
    "start_time": "2022-11-01T20:19:11.210Z"
   },
   {
    "duration": 305,
    "start_time": "2022-11-01T20:19:33.469Z"
   },
   {
    "duration": 325,
    "start_time": "2022-11-01T20:19:37.696Z"
   },
   {
    "duration": 337,
    "start_time": "2022-11-01T20:19:41.779Z"
   },
   {
    "duration": 10,
    "start_time": "2022-11-01T20:53:32.635Z"
   },
   {
    "duration": 81,
    "start_time": "2022-11-01T20:53:37.093Z"
   },
   {
    "duration": 1242,
    "start_time": "2022-11-01T20:53:56.880Z"
   },
   {
    "duration": 31,
    "start_time": "2022-11-01T20:53:58.124Z"
   },
   {
    "duration": 9,
    "start_time": "2022-11-01T20:53:58.156Z"
   },
   {
    "duration": 31,
    "start_time": "2022-11-01T20:53:58.167Z"
   },
   {
    "duration": 38,
    "start_time": "2022-11-01T20:53:58.200Z"
   },
   {
    "duration": 12,
    "start_time": "2022-11-01T20:53:58.240Z"
   },
   {
    "duration": 44,
    "start_time": "2022-11-01T20:53:58.254Z"
   },
   {
    "duration": 6,
    "start_time": "2022-11-01T20:53:58.300Z"
   },
   {
    "duration": 21,
    "start_time": "2022-11-01T20:53:58.307Z"
   },
   {
    "duration": 10,
    "start_time": "2022-11-01T20:53:58.330Z"
   },
   {
    "duration": 22,
    "start_time": "2022-11-01T20:53:58.342Z"
   },
   {
    "duration": 18,
    "start_time": "2022-11-01T20:53:58.366Z"
   },
   {
    "duration": 16,
    "start_time": "2022-11-01T20:53:58.386Z"
   },
   {
    "duration": 18,
    "start_time": "2022-11-01T20:53:58.404Z"
   },
   {
    "duration": 299,
    "start_time": "2022-11-01T20:53:58.424Z"
   },
   {
    "duration": 177,
    "start_time": "2022-11-01T20:53:58.724Z"
   },
   {
    "duration": 141,
    "start_time": "2022-11-01T20:53:58.902Z"
   },
   {
    "duration": 232,
    "start_time": "2022-11-01T20:53:59.044Z"
   },
   {
    "duration": 143,
    "start_time": "2022-11-01T20:53:59.278Z"
   },
   {
    "duration": 3,
    "start_time": "2022-11-01T20:53:59.423Z"
   },
   {
    "duration": 11,
    "start_time": "2022-11-01T20:53:59.427Z"
   },
   {
    "duration": 7,
    "start_time": "2022-11-01T20:53:59.440Z"
   },
   {
    "duration": 8,
    "start_time": "2022-11-01T20:53:59.449Z"
   },
   {
    "duration": 10,
    "start_time": "2022-11-01T20:53:59.458Z"
   },
   {
    "duration": 65,
    "start_time": "2022-11-01T20:53:59.470Z"
   },
   {
    "duration": 89,
    "start_time": "2022-11-01T20:53:59.537Z"
   },
   {
    "duration": 9,
    "start_time": "2022-11-01T20:53:59.628Z"
   },
   {
    "duration": 12,
    "start_time": "2022-11-01T20:53:59.641Z"
   },
   {
    "duration": 9,
    "start_time": "2022-11-01T20:53:59.655Z"
   },
   {
    "duration": 10,
    "start_time": "2022-11-01T20:53:59.666Z"
   },
   {
    "duration": 1383,
    "start_time": "2022-11-01T20:54:52.766Z"
   },
   {
    "duration": 32,
    "start_time": "2022-11-01T20:54:54.151Z"
   },
   {
    "duration": 10,
    "start_time": "2022-11-01T20:54:54.222Z"
   },
   {
    "duration": 16,
    "start_time": "2022-11-01T20:54:54.234Z"
   },
   {
    "duration": 79,
    "start_time": "2022-11-01T20:54:54.252Z"
   },
   {
    "duration": 6,
    "start_time": "2022-11-01T20:54:54.333Z"
   },
   {
    "duration": 102,
    "start_time": "2022-11-01T20:54:54.341Z"
   },
   {
    "duration": 5,
    "start_time": "2022-11-01T20:54:54.444Z"
   },
   {
    "duration": 16,
    "start_time": "2022-11-01T20:54:54.451Z"
   },
   {
    "duration": 11,
    "start_time": "2022-11-01T20:54:54.521Z"
   },
   {
    "duration": 8,
    "start_time": "2022-11-01T20:54:54.534Z"
   },
   {
    "duration": 12,
    "start_time": "2022-11-01T20:54:54.544Z"
   },
   {
    "duration": 67,
    "start_time": "2022-11-01T20:54:54.558Z"
   },
   {
    "duration": 16,
    "start_time": "2022-11-01T20:54:54.627Z"
   },
   {
    "duration": 510,
    "start_time": "2022-11-01T20:54:54.644Z"
   },
   {
    "duration": 391,
    "start_time": "2022-11-01T20:54:55.156Z"
   },
   {
    "duration": 262,
    "start_time": "2022-11-01T20:54:55.548Z"
   },
   {
    "duration": 326,
    "start_time": "2022-11-01T20:54:55.811Z"
   },
   {
    "duration": 191,
    "start_time": "2022-11-01T20:54:56.139Z"
   },
   {
    "duration": 3,
    "start_time": "2022-11-01T20:54:56.332Z"
   },
   {
    "duration": 11,
    "start_time": "2022-11-01T20:54:56.336Z"
   },
   {
    "duration": 14,
    "start_time": "2022-11-01T20:54:56.349Z"
   },
   {
    "duration": 8,
    "start_time": "2022-11-01T20:54:56.364Z"
   },
   {
    "duration": 23,
    "start_time": "2022-11-01T20:54:56.373Z"
   },
   {
    "duration": 9,
    "start_time": "2022-11-01T20:54:56.422Z"
   },
   {
    "duration": 96,
    "start_time": "2022-11-01T20:54:56.433Z"
   },
   {
    "duration": 8,
    "start_time": "2022-11-01T20:54:56.530Z"
   },
   {
    "duration": 12,
    "start_time": "2022-11-01T20:54:56.541Z"
   },
   {
    "duration": 5,
    "start_time": "2022-11-01T20:54:56.555Z"
   },
   {
    "duration": 10,
    "start_time": "2022-11-01T20:54:56.561Z"
   },
   {
    "duration": 1284,
    "start_time": "2022-11-01T20:56:02.617Z"
   },
   {
    "duration": 30,
    "start_time": "2022-11-01T20:56:03.903Z"
   },
   {
    "duration": 8,
    "start_time": "2022-11-01T20:56:03.934Z"
   },
   {
    "duration": 18,
    "start_time": "2022-11-01T20:56:03.944Z"
   },
   {
    "duration": 33,
    "start_time": "2022-11-01T20:56:03.964Z"
   },
   {
    "duration": 33,
    "start_time": "2022-11-01T20:56:03.998Z"
   },
   {
    "duration": 56,
    "start_time": "2022-11-01T20:56:04.032Z"
   },
   {
    "duration": 5,
    "start_time": "2022-11-01T20:56:04.090Z"
   },
   {
    "duration": 36,
    "start_time": "2022-11-01T20:56:04.096Z"
   },
   {
    "duration": 8,
    "start_time": "2022-11-01T20:56:04.134Z"
   },
   {
    "duration": 21,
    "start_time": "2022-11-01T20:56:04.144Z"
   },
   {
    "duration": 14,
    "start_time": "2022-11-01T20:56:04.166Z"
   },
   {
    "duration": 13,
    "start_time": "2022-11-01T20:56:04.181Z"
   },
   {
    "duration": 23,
    "start_time": "2022-11-01T20:56:04.195Z"
   },
   {
    "duration": 290,
    "start_time": "2022-11-01T20:56:04.220Z"
   },
   {
    "duration": 182,
    "start_time": "2022-11-01T20:56:04.511Z"
   },
   {
    "duration": 126,
    "start_time": "2022-11-01T20:56:04.695Z"
   },
   {
    "duration": 1288,
    "start_time": "2022-11-01T20:56:29.188Z"
   },
   {
    "duration": 31,
    "start_time": "2022-11-01T20:56:30.478Z"
   },
   {
    "duration": 19,
    "start_time": "2022-11-01T20:56:30.510Z"
   },
   {
    "duration": 45,
    "start_time": "2022-11-01T20:56:30.530Z"
   },
   {
    "duration": 55,
    "start_time": "2022-11-01T20:56:30.576Z"
   },
   {
    "duration": 5,
    "start_time": "2022-11-01T20:56:30.633Z"
   },
   {
    "duration": 115,
    "start_time": "2022-11-01T20:56:30.640Z"
   },
   {
    "duration": 6,
    "start_time": "2022-11-01T20:56:30.756Z"
   },
   {
    "duration": 67,
    "start_time": "2022-11-01T20:56:30.763Z"
   },
   {
    "duration": 26,
    "start_time": "2022-11-01T20:56:30.832Z"
   },
   {
    "duration": 16,
    "start_time": "2022-11-01T20:56:30.860Z"
   },
   {
    "duration": 50,
    "start_time": "2022-11-01T20:56:30.877Z"
   },
   {
    "duration": 28,
    "start_time": "2022-11-01T20:56:30.928Z"
   },
   {
    "duration": 17,
    "start_time": "2022-11-01T20:56:30.958Z"
   },
   {
    "duration": 454,
    "start_time": "2022-11-01T20:56:30.977Z"
   },
   {
    "duration": 316,
    "start_time": "2022-11-01T20:56:31.432Z"
   },
   {
    "duration": 284,
    "start_time": "2022-11-01T20:56:31.750Z"
   },
   {
    "duration": 83558,
    "start_time": "2022-11-01T20:56:32.035Z"
   },
   {
    "duration": 153,
    "start_time": "2022-11-01T20:57:55.595Z"
   },
   {
    "duration": 4,
    "start_time": "2022-11-01T20:57:55.749Z"
   },
   {
    "duration": 12,
    "start_time": "2022-11-01T20:57:55.754Z"
   },
   {
    "duration": 8,
    "start_time": "2022-11-01T20:57:55.767Z"
   },
   {
    "duration": 6,
    "start_time": "2022-11-01T20:57:55.777Z"
   },
   {
    "duration": 40,
    "start_time": "2022-11-01T20:57:55.784Z"
   },
   {
    "duration": 96,
    "start_time": "2022-11-01T20:57:55.826Z"
   },
   {
    "duration": 10,
    "start_time": "2022-11-01T20:57:55.924Z"
   },
   {
    "duration": 5,
    "start_time": "2022-11-01T20:57:55.936Z"
   },
   {
    "duration": 10,
    "start_time": "2022-11-01T20:57:55.944Z"
   },
   {
    "duration": 4,
    "start_time": "2022-11-01T20:57:55.956Z"
   },
   {
    "duration": 9,
    "start_time": "2022-11-01T20:57:55.962Z"
   },
   {
    "duration": 1279,
    "start_time": "2022-11-01T21:16:07.783Z"
   },
   {
    "duration": 31,
    "start_time": "2022-11-01T21:16:09.064Z"
   },
   {
    "duration": 9,
    "start_time": "2022-11-01T21:16:09.096Z"
   },
   {
    "duration": 12,
    "start_time": "2022-11-01T21:16:09.106Z"
   },
   {
    "duration": 19,
    "start_time": "2022-11-01T21:16:09.119Z"
   },
   {
    "duration": 4,
    "start_time": "2022-11-01T21:16:09.139Z"
   },
   {
    "duration": 46,
    "start_time": "2022-11-01T21:16:09.144Z"
   },
   {
    "duration": 5,
    "start_time": "2022-11-01T21:16:09.192Z"
   },
   {
    "duration": 24,
    "start_time": "2022-11-01T21:16:09.198Z"
   },
   {
    "duration": 8,
    "start_time": "2022-11-01T21:16:09.224Z"
   },
   {
    "duration": 8,
    "start_time": "2022-11-01T21:16:09.234Z"
   },
   {
    "duration": 11,
    "start_time": "2022-11-01T21:16:09.243Z"
   },
   {
    "duration": 10,
    "start_time": "2022-11-01T21:16:09.255Z"
   },
   {
    "duration": 273,
    "start_time": "2022-11-01T21:16:09.267Z"
   },
   {
    "duration": 162,
    "start_time": "2022-11-01T21:16:09.541Z"
   },
   {
    "duration": 123,
    "start_time": "2022-11-01T21:16:09.704Z"
   },
   {
    "duration": 1300,
    "start_time": "2022-11-01T21:17:03.221Z"
   },
   {
    "duration": 30,
    "start_time": "2022-11-01T21:17:04.523Z"
   },
   {
    "duration": 8,
    "start_time": "2022-11-01T21:17:04.555Z"
   },
   {
    "duration": 11,
    "start_time": "2022-11-01T21:17:04.565Z"
   },
   {
    "duration": 19,
    "start_time": "2022-11-01T21:17:04.578Z"
   },
   {
    "duration": 5,
    "start_time": "2022-11-01T21:17:04.599Z"
   },
   {
    "duration": 51,
    "start_time": "2022-11-01T21:17:04.605Z"
   },
   {
    "duration": 5,
    "start_time": "2022-11-01T21:17:04.658Z"
   },
   {
    "duration": 12,
    "start_time": "2022-11-01T21:17:04.664Z"
   },
   {
    "duration": 8,
    "start_time": "2022-11-01T21:17:04.678Z"
   },
   {
    "duration": 7,
    "start_time": "2022-11-01T21:17:04.687Z"
   },
   {
    "duration": 27,
    "start_time": "2022-11-01T21:17:04.695Z"
   },
   {
    "duration": 9,
    "start_time": "2022-11-01T21:17:04.724Z"
   },
   {
    "duration": 270,
    "start_time": "2022-11-01T21:17:04.734Z"
   },
   {
    "duration": 160,
    "start_time": "2022-11-01T21:17:05.005Z"
   },
   {
    "duration": 120,
    "start_time": "2022-11-01T21:17:05.167Z"
   },
   {
    "duration": 94579,
    "start_time": "2022-11-01T21:17:05.288Z"
   },
   {
    "duration": 130,
    "start_time": "2022-11-01T21:18:39.868Z"
   },
   {
    "duration": 3,
    "start_time": "2022-11-01T21:18:39.999Z"
   },
   {
    "duration": 17,
    "start_time": "2022-11-01T21:18:40.003Z"
   },
   {
    "duration": 7,
    "start_time": "2022-11-01T21:18:40.022Z"
   },
   {
    "duration": 10,
    "start_time": "2022-11-01T21:18:40.030Z"
   },
   {
    "duration": 7,
    "start_time": "2022-11-01T21:18:40.042Z"
   },
   {
    "duration": 75,
    "start_time": "2022-11-01T21:18:40.051Z"
   },
   {
    "duration": 16,
    "start_time": "2022-11-01T21:18:40.128Z"
   },
   {
    "duration": 5,
    "start_time": "2022-11-01T21:18:40.223Z"
   },
   {
    "duration": 12,
    "start_time": "2022-11-01T21:18:40.229Z"
   },
   {
    "duration": 4,
    "start_time": "2022-11-01T21:18:40.244Z"
   },
   {
    "duration": 11,
    "start_time": "2022-11-01T21:18:40.249Z"
   },
   {
    "duration": 4,
    "start_time": "2022-11-02T15:59:33.519Z"
   },
   {
    "duration": 1451,
    "start_time": "2022-11-02T15:59:40.008Z"
   },
   {
    "duration": 27,
    "start_time": "2022-11-02T15:59:41.461Z"
   },
   {
    "duration": 9,
    "start_time": "2022-11-02T15:59:41.490Z"
   },
   {
    "duration": 13,
    "start_time": "2022-11-02T15:59:41.501Z"
   },
   {
    "duration": 21,
    "start_time": "2022-11-02T15:59:41.516Z"
   },
   {
    "duration": 5,
    "start_time": "2022-11-02T15:59:41.538Z"
   },
   {
    "duration": 51,
    "start_time": "2022-11-02T15:59:41.544Z"
   },
   {
    "duration": 6,
    "start_time": "2022-11-02T15:59:41.597Z"
   },
   {
    "duration": 11,
    "start_time": "2022-11-02T15:59:41.622Z"
   },
   {
    "duration": 17,
    "start_time": "2022-11-02T15:59:41.637Z"
   },
   {
    "duration": 8,
    "start_time": "2022-11-02T15:59:41.655Z"
   },
   {
    "duration": 15,
    "start_time": "2022-11-02T15:59:41.665Z"
   },
   {
    "duration": 11,
    "start_time": "2022-11-02T15:59:41.682Z"
   },
   {
    "duration": 338,
    "start_time": "2022-11-02T15:59:41.695Z"
   },
   {
    "duration": 162,
    "start_time": "2022-11-02T15:59:42.035Z"
   },
   {
    "duration": 140,
    "start_time": "2022-11-02T15:59:42.198Z"
   },
   {
    "duration": 97892,
    "start_time": "2022-11-02T15:59:42.341Z"
   },
   {
    "duration": 135,
    "start_time": "2022-11-02T16:01:20.235Z"
   },
   {
    "duration": 4,
    "start_time": "2022-11-02T16:01:20.371Z"
   },
   {
    "duration": 11,
    "start_time": "2022-11-02T16:01:20.376Z"
   },
   {
    "duration": 33,
    "start_time": "2022-11-02T16:01:20.389Z"
   },
   {
    "duration": 3,
    "start_time": "2022-11-02T16:01:20.424Z"
   },
   {
    "duration": 93,
    "start_time": "2022-11-02T16:01:20.429Z"
   },
   {
    "duration": 9,
    "start_time": "2022-11-02T16:01:20.524Z"
   },
   {
    "duration": 92,
    "start_time": "2022-11-02T16:01:20.535Z"
   },
   {
    "duration": 25,
    "start_time": "2022-11-02T16:01:20.629Z"
   },
   {
    "duration": 38,
    "start_time": "2022-11-02T16:01:20.656Z"
   },
   {
    "duration": 15,
    "start_time": "2022-11-02T16:01:20.697Z"
   },
   {
    "duration": 24,
    "start_time": "2022-11-02T16:01:20.714Z"
   },
   {
    "duration": 1361,
    "start_time": "2022-11-02T16:08:16.189Z"
   },
   {
    "duration": 28,
    "start_time": "2022-11-02T16:08:17.551Z"
   },
   {
    "duration": 9,
    "start_time": "2022-11-02T16:08:17.581Z"
   },
   {
    "duration": 19,
    "start_time": "2022-11-02T16:08:17.591Z"
   },
   {
    "duration": 23,
    "start_time": "2022-11-02T16:08:17.611Z"
   },
   {
    "duration": 6,
    "start_time": "2022-11-02T16:08:17.635Z"
   },
   {
    "duration": 42,
    "start_time": "2022-11-02T16:08:17.643Z"
   },
   {
    "duration": 5,
    "start_time": "2022-11-02T16:08:17.687Z"
   },
   {
    "duration": 29,
    "start_time": "2022-11-02T16:08:17.693Z"
   },
   {
    "duration": 8,
    "start_time": "2022-11-02T16:08:17.725Z"
   },
   {
    "duration": 5,
    "start_time": "2022-11-02T16:08:17.734Z"
   },
   {
    "duration": 11,
    "start_time": "2022-11-02T16:08:17.741Z"
   },
   {
    "duration": 14,
    "start_time": "2022-11-02T16:08:17.754Z"
   },
   {
    "duration": 333,
    "start_time": "2022-11-02T16:08:17.769Z"
   },
   {
    "duration": 171,
    "start_time": "2022-11-02T16:08:18.104Z"
   },
   {
    "duration": 146,
    "start_time": "2022-11-02T16:08:18.276Z"
   },
   {
    "duration": 99462,
    "start_time": "2022-11-02T16:08:18.424Z"
   },
   {
    "duration": 137,
    "start_time": "2022-11-02T16:09:57.887Z"
   },
   {
    "duration": 4,
    "start_time": "2022-11-02T16:09:58.025Z"
   },
   {
    "duration": 15,
    "start_time": "2022-11-02T16:09:58.030Z"
   },
   {
    "duration": 9,
    "start_time": "2022-11-02T16:09:58.047Z"
   },
   {
    "duration": 72,
    "start_time": "2022-11-02T16:09:58.058Z"
   },
   {
    "duration": 7,
    "start_time": "2022-11-02T16:09:58.132Z"
   },
   {
    "duration": 91,
    "start_time": "2022-11-02T16:09:58.141Z"
   },
   {
    "duration": 90,
    "start_time": "2022-11-02T16:09:58.234Z"
   },
   {
    "duration": 15,
    "start_time": "2022-11-02T16:09:58.325Z"
   },
   {
    "duration": 12,
    "start_time": "2022-11-02T16:09:58.342Z"
   },
   {
    "duration": 5,
    "start_time": "2022-11-02T16:09:58.358Z"
   },
   {
    "duration": 11,
    "start_time": "2022-11-02T16:09:58.364Z"
   },
   {
    "duration": 2202,
    "start_time": "2022-11-03T15:06:54.551Z"
   },
   {
    "duration": 90,
    "start_time": "2022-11-03T15:06:56.756Z"
   },
   {
    "duration": 13,
    "start_time": "2022-11-03T15:06:56.848Z"
   },
   {
    "duration": 27,
    "start_time": "2022-11-03T15:06:56.864Z"
   },
   {
    "duration": 25,
    "start_time": "2022-11-03T15:06:57.580Z"
   },
   {
    "duration": 6,
    "start_time": "2022-11-03T15:07:00.484Z"
   },
   {
    "duration": 51,
    "start_time": "2022-11-03T15:07:06.376Z"
   },
   {
    "duration": 7,
    "start_time": "2022-11-03T15:07:07.667Z"
   },
   {
    "duration": 13,
    "start_time": "2022-11-03T15:07:19.751Z"
   },
   {
    "duration": 12,
    "start_time": "2022-11-03T15:07:23.987Z"
   },
   {
    "duration": 359,
    "start_time": "2022-11-03T15:08:19.403Z"
   },
   {
    "duration": 13,
    "start_time": "2022-11-03T15:08:42.054Z"
   },
   {
    "duration": 4115,
    "start_time": "2022-11-03T15:10:58.838Z"
   },
   {
    "duration": 10,
    "start_time": "2022-11-03T15:11:51.952Z"
   },
   {
    "duration": 111,
    "start_time": "2022-11-03T15:12:23.633Z"
   },
   {
    "duration": 13,
    "start_time": "2022-11-03T15:12:48.581Z"
   },
   {
    "duration": 4,
    "start_time": "2022-11-03T15:13:41.183Z"
   },
   {
    "duration": 4048,
    "start_time": "2022-11-03T15:13:59.514Z"
   },
   {
    "duration": 3823,
    "start_time": "2022-11-03T15:14:13.558Z"
   },
   {
    "duration": 1517,
    "start_time": "2022-11-03T15:39:46.062Z"
   },
   {
    "duration": 34,
    "start_time": "2022-11-03T15:39:47.580Z"
   },
   {
    "duration": 10,
    "start_time": "2022-11-03T15:39:47.616Z"
   },
   {
    "duration": 21,
    "start_time": "2022-11-03T15:39:47.627Z"
   },
   {
    "duration": 24,
    "start_time": "2022-11-03T15:39:47.650Z"
   },
   {
    "duration": 6,
    "start_time": "2022-11-03T15:39:47.675Z"
   },
   {
    "duration": 58,
    "start_time": "2022-11-03T15:39:47.683Z"
   },
   {
    "duration": 15,
    "start_time": "2022-11-03T15:39:47.743Z"
   },
   {
    "duration": 18,
    "start_time": "2022-11-03T15:39:47.760Z"
   },
   {
    "duration": 12,
    "start_time": "2022-11-03T15:39:47.780Z"
   },
   {
    "duration": 10,
    "start_time": "2022-11-03T15:39:47.794Z"
   },
   {
    "duration": 22,
    "start_time": "2022-11-03T15:39:47.805Z"
   },
   {
    "duration": 28,
    "start_time": "2022-11-03T15:39:47.829Z"
   },
   {
    "duration": 311,
    "start_time": "2022-11-03T15:39:47.859Z"
   },
   {
    "duration": 193,
    "start_time": "2022-11-03T15:39:48.172Z"
   },
   {
    "duration": 150,
    "start_time": "2022-11-03T15:39:48.366Z"
   },
   {
    "duration": 325,
    "start_time": "2022-11-03T15:39:48.518Z"
   },
   {
    "duration": 167,
    "start_time": "2022-11-03T15:39:48.844Z"
   },
   {
    "duration": 5,
    "start_time": "2022-11-03T15:39:49.012Z"
   },
   {
    "duration": 28,
    "start_time": "2022-11-03T15:39:49.018Z"
   },
   {
    "duration": 11,
    "start_time": "2022-11-03T15:39:49.055Z"
   },
   {
    "duration": 89,
    "start_time": "2022-11-03T15:39:49.068Z"
   },
   {
    "duration": 11,
    "start_time": "2022-11-03T15:39:49.158Z"
   },
   {
    "duration": 92,
    "start_time": "2022-11-03T15:39:49.170Z"
   },
   {
    "duration": 13,
    "start_time": "2022-11-03T15:39:49.264Z"
   },
   {
    "duration": 6,
    "start_time": "2022-11-03T15:39:49.355Z"
   },
   {
    "duration": 14,
    "start_time": "2022-11-03T15:39:49.362Z"
   },
   {
    "duration": 8,
    "start_time": "2022-11-03T15:39:49.377Z"
   },
   {
    "duration": 15,
    "start_time": "2022-11-03T15:39:49.386Z"
   },
   {
    "duration": 54,
    "start_time": "2022-11-04T09:31:49.060Z"
   },
   {
    "duration": 1560,
    "start_time": "2022-11-04T09:31:53.692Z"
   },
   {
    "duration": 91,
    "start_time": "2022-11-04T09:31:55.255Z"
   },
   {
    "duration": 11,
    "start_time": "2022-11-04T09:31:55.348Z"
   },
   {
    "duration": 18,
    "start_time": "2022-11-04T09:31:55.361Z"
   },
   {
    "duration": 27,
    "start_time": "2022-11-04T09:31:55.381Z"
   },
   {
    "duration": 7,
    "start_time": "2022-11-04T09:31:55.410Z"
   },
   {
    "duration": 49,
    "start_time": "2022-11-04T09:31:55.418Z"
   },
   {
    "duration": 6,
    "start_time": "2022-11-04T09:31:55.468Z"
   },
   {
    "duration": 12,
    "start_time": "2022-11-04T09:31:55.492Z"
   },
   {
    "duration": 10,
    "start_time": "2022-11-04T09:31:55.506Z"
   },
   {
    "duration": 5,
    "start_time": "2022-11-04T09:31:55.518Z"
   },
   {
    "duration": 12,
    "start_time": "2022-11-04T09:31:55.524Z"
   },
   {
    "duration": 11,
    "start_time": "2022-11-04T09:31:55.538Z"
   },
   {
    "duration": 444,
    "start_time": "2022-11-04T09:31:55.550Z"
   },
   {
    "duration": 189,
    "start_time": "2022-11-04T09:31:55.996Z"
   },
   {
    "duration": 223,
    "start_time": "2022-11-04T09:31:56.190Z"
   },
   {
    "duration": 286,
    "start_time": "2022-11-04T09:31:56.415Z"
   },
   {
    "duration": 174,
    "start_time": "2022-11-04T09:31:56.704Z"
   },
   {
    "duration": 11,
    "start_time": "2022-11-04T09:31:56.881Z"
   },
   {
    "duration": 14,
    "start_time": "2022-11-04T09:31:56.894Z"
   },
   {
    "duration": 11,
    "start_time": "2022-11-04T09:31:56.909Z"
   },
   {
    "duration": 71,
    "start_time": "2022-11-04T09:31:56.922Z"
   },
   {
    "duration": 9,
    "start_time": "2022-11-04T09:31:56.995Z"
   },
   {
    "duration": 91,
    "start_time": "2022-11-04T09:31:57.006Z"
   },
   {
    "duration": 11,
    "start_time": "2022-11-04T09:31:57.099Z"
   },
   {
    "duration": 7,
    "start_time": "2022-11-04T09:31:57.196Z"
   },
   {
    "duration": 14,
    "start_time": "2022-11-04T09:31:57.205Z"
   },
   {
    "duration": 5,
    "start_time": "2022-11-04T09:31:57.222Z"
   },
   {
    "duration": 10,
    "start_time": "2022-11-04T09:31:57.228Z"
   },
   {
    "duration": 152,
    "start_time": "2022-11-04T11:21:44.828Z"
   },
   {
    "duration": 10,
    "start_time": "2022-11-04T11:21:57.211Z"
   },
   {
    "duration": 3321,
    "start_time": "2022-11-04T11:22:04.909Z"
   },
   {
    "duration": 4,
    "start_time": "2022-11-04T11:22:13.828Z"
   },
   {
    "duration": 33,
    "start_time": "2022-11-04T11:22:16.621Z"
   },
   {
    "duration": 15,
    "start_time": "2022-11-04T11:22:16.797Z"
   },
   {
    "duration": 11,
    "start_time": "2022-11-04T11:22:16.960Z"
   },
   {
    "duration": 25,
    "start_time": "2022-11-04T11:22:17.414Z"
   },
   {
    "duration": 6,
    "start_time": "2022-11-04T11:22:17.564Z"
   },
   {
    "duration": 12,
    "start_time": "2022-11-04T11:22:17.842Z"
   },
   {
    "duration": 8,
    "start_time": "2022-11-04T11:22:18.032Z"
   },
   {
    "duration": 12,
    "start_time": "2022-11-04T11:22:18.305Z"
   },
   {
    "duration": 11,
    "start_time": "2022-11-04T11:22:18.947Z"
   },
   {
    "duration": 5,
    "start_time": "2022-11-04T11:22:19.271Z"
   },
   {
    "duration": 13,
    "start_time": "2022-11-04T11:22:20.907Z"
   },
   {
    "duration": 14,
    "start_time": "2022-11-04T11:22:21.333Z"
   },
   {
    "duration": 19,
    "start_time": "2022-11-04T11:22:29.989Z"
   },
   {
    "duration": 419,
    "start_time": "2022-11-04T11:22:31.290Z"
   },
   {
    "duration": 100,
    "start_time": "2022-11-04T11:23:25.861Z"
   },
   {
    "duration": 558,
    "start_time": "2022-11-04T11:24:45.100Z"
   },
   {
    "duration": 17,
    "start_time": "2022-11-04T11:26:38.962Z"
   },
   {
    "duration": 7342,
    "start_time": "2022-11-04T11:26:51.477Z"
   },
   {
    "duration": 7689,
    "start_time": "2022-11-04T11:42:32.605Z"
   },
   {
    "duration": 77,
    "start_time": "2022-11-04T11:59:59.012Z"
   },
   {
    "duration": 80,
    "start_time": "2022-11-04T12:00:01.965Z"
   },
   {
    "duration": 102,
    "start_time": "2022-11-04T12:00:04.743Z"
   },
   {
    "duration": 80,
    "start_time": "2022-11-04T12:00:08.937Z"
   },
   {
    "duration": 3,
    "start_time": "2022-11-04T12:00:13.103Z"
   },
   {
    "duration": 3,
    "start_time": "2022-11-04T12:00:16.309Z"
   },
   {
    "duration": 81,
    "start_time": "2022-11-04T12:03:37.789Z"
   },
   {
    "duration": 16,
    "start_time": "2022-11-04T12:03:54.630Z"
   },
   {
    "duration": 86,
    "start_time": "2022-11-04T12:06:28.819Z"
   },
   {
    "duration": 92,
    "start_time": "2022-11-04T12:06:31.871Z"
   },
   {
    "duration": 107,
    "start_time": "2022-11-04T12:07:02.078Z"
   },
   {
    "duration": 5,
    "start_time": "2022-11-04T12:10:46.005Z"
   },
   {
    "duration": 4,
    "start_time": "2022-11-04T12:10:57.732Z"
   },
   {
    "duration": 21,
    "start_time": "2022-11-04T12:11:12.722Z"
   },
   {
    "duration": 5,
    "start_time": "2022-11-04T12:12:35.729Z"
   },
   {
    "duration": 4,
    "start_time": "2022-11-04T12:12:36.465Z"
   },
   {
    "duration": 13,
    "start_time": "2022-11-04T12:12:36.971Z"
   },
   {
    "duration": 22,
    "start_time": "2022-11-04T12:12:51.687Z"
   },
   {
    "duration": 5,
    "start_time": "2022-11-04T12:12:58.847Z"
   },
   {
    "duration": 12,
    "start_time": "2022-11-04T12:27:32.641Z"
   },
   {
    "duration": 4,
    "start_time": "2022-11-04T12:28:29.724Z"
   },
   {
    "duration": 3,
    "start_time": "2022-11-04T12:28:29.908Z"
   },
   {
    "duration": 16,
    "start_time": "2022-11-04T12:28:30.043Z"
   },
   {
    "duration": 8,
    "start_time": "2022-11-04T12:28:30.191Z"
   },
   {
    "duration": 10,
    "start_time": "2022-11-04T12:28:30.359Z"
   },
   {
    "duration": 147,
    "start_time": "2022-11-04T12:30:30.185Z"
   },
   {
    "duration": 3,
    "start_time": "2022-11-04T12:30:30.420Z"
   },
   {
    "duration": 27,
    "start_time": "2022-11-04T12:30:30.582Z"
   },
   {
    "duration": 5,
    "start_time": "2022-11-04T12:30:30.729Z"
   },
   {
    "duration": 11,
    "start_time": "2022-11-04T12:30:30.905Z"
   },
   {
    "duration": 10,
    "start_time": "2022-11-04T12:30:43.409Z"
   },
   {
    "duration": 3,
    "start_time": "2022-11-04T12:30:44.444Z"
   },
   {
    "duration": 18,
    "start_time": "2022-11-04T12:30:44.608Z"
   },
   {
    "duration": 9,
    "start_time": "2022-11-04T12:30:44.791Z"
   },
   {
    "duration": 11,
    "start_time": "2022-11-04T12:30:44.939Z"
   },
   {
    "duration": 13,
    "start_time": "2022-11-04T12:30:59.001Z"
   },
   {
    "duration": 151,
    "start_time": "2022-11-04T12:31:15.218Z"
   },
   {
    "duration": 0,
    "start_time": "2022-11-04T12:31:15.372Z"
   },
   {
    "duration": 0,
    "start_time": "2022-11-04T12:31:15.374Z"
   },
   {
    "duration": 0,
    "start_time": "2022-11-04T12:31:15.375Z"
   },
   {
    "duration": 5,
    "start_time": "2022-11-04T12:31:15.411Z"
   },
   {
    "duration": 10,
    "start_time": "2022-11-04T12:31:15.609Z"
   },
   {
    "duration": 12,
    "start_time": "2022-11-04T12:31:15.770Z"
   },
   {
    "duration": 13,
    "start_time": "2022-11-04T12:31:20.348Z"
   },
   {
    "duration": 6,
    "start_time": "2022-11-04T12:31:39.766Z"
   },
   {
    "duration": 10,
    "start_time": "2022-11-04T12:31:40.468Z"
   },
   {
    "duration": 2,
    "start_time": "2022-11-04T12:31:40.660Z"
   },
   {
    "duration": 21,
    "start_time": "2022-11-04T12:31:40.812Z"
   },
   {
    "duration": 13,
    "start_time": "2022-11-04T12:31:40.992Z"
   },
   {
    "duration": 12,
    "start_time": "2022-11-04T12:31:41.204Z"
   },
   {
    "duration": 17,
    "start_time": "2022-11-04T12:31:41.408Z"
   },
   {
    "duration": 1482,
    "start_time": "2022-11-04T13:00:55.439Z"
   },
   {
    "duration": 28,
    "start_time": "2022-11-04T13:00:56.923Z"
   },
   {
    "duration": 11,
    "start_time": "2022-11-04T13:00:56.953Z"
   },
   {
    "duration": 16,
    "start_time": "2022-11-04T13:00:56.965Z"
   },
   {
    "duration": 26,
    "start_time": "2022-11-04T13:00:56.984Z"
   },
   {
    "duration": 7,
    "start_time": "2022-11-04T13:00:57.012Z"
   },
   {
    "duration": 47,
    "start_time": "2022-11-04T13:00:57.020Z"
   },
   {
    "duration": 16,
    "start_time": "2022-11-04T13:00:57.092Z"
   },
   {
    "duration": 15,
    "start_time": "2022-11-04T13:00:57.110Z"
   },
   {
    "duration": 11,
    "start_time": "2022-11-04T13:00:57.127Z"
   },
   {
    "duration": 5,
    "start_time": "2022-11-04T13:00:57.140Z"
   },
   {
    "duration": 16,
    "start_time": "2022-11-04T13:00:57.147Z"
   },
   {
    "duration": 37,
    "start_time": "2022-11-04T13:00:57.165Z"
   },
   {
    "duration": 389,
    "start_time": "2022-11-04T13:00:57.205Z"
   },
   {
    "duration": 110,
    "start_time": "2022-11-04T13:00:57.596Z"
   },
   {
    "duration": 547,
    "start_time": "2022-11-04T13:00:57.708Z"
   },
   {
    "duration": 7220,
    "start_time": "2022-11-04T13:00:58.257Z"
   },
   {
    "duration": 199,
    "start_time": "2022-11-04T13:01:05.479Z"
   },
   {
    "duration": 152,
    "start_time": "2022-11-04T13:01:05.680Z"
   },
   {
    "duration": 215,
    "start_time": "2022-11-04T13:01:05.834Z"
   },
   {
    "duration": 164,
    "start_time": "2022-11-04T13:01:06.051Z"
   },
   {
    "duration": 6,
    "start_time": "2022-11-04T13:01:06.217Z"
   },
   {
    "duration": 15,
    "start_time": "2022-11-04T13:01:06.225Z"
   },
   {
    "duration": 3,
    "start_time": "2022-11-04T13:01:06.242Z"
   },
   {
    "duration": 154,
    "start_time": "2022-11-04T13:01:06.247Z"
   },
   {
    "duration": 0,
    "start_time": "2022-11-04T13:01:06.402Z"
   },
   {
    "duration": 0,
    "start_time": "2022-11-04T13:01:06.403Z"
   },
   {
    "duration": 0,
    "start_time": "2022-11-04T13:01:06.404Z"
   },
   {
    "duration": 0,
    "start_time": "2022-11-04T13:01:06.406Z"
   },
   {
    "duration": 0,
    "start_time": "2022-11-04T13:01:06.407Z"
   },
   {
    "duration": 0,
    "start_time": "2022-11-04T13:01:06.408Z"
   },
   {
    "duration": 4,
    "start_time": "2022-11-04T13:01:56.938Z"
   },
   {
    "duration": 6,
    "start_time": "2022-11-04T13:02:11.181Z"
   },
   {
    "duration": 10,
    "start_time": "2022-11-04T13:02:12.493Z"
   },
   {
    "duration": 10,
    "start_time": "2022-11-04T13:02:42.399Z"
   },
   {
    "duration": 66,
    "start_time": "2022-11-04T13:02:50.451Z"
   },
   {
    "duration": 17,
    "start_time": "2022-11-04T13:02:53.507Z"
   },
   {
    "duration": 11,
    "start_time": "2022-11-04T13:03:14.455Z"
   },
   {
    "duration": 9,
    "start_time": "2022-11-04T13:03:19.367Z"
   },
   {
    "duration": 10,
    "start_time": "2022-11-04T13:03:27.737Z"
   },
   {
    "duration": 15,
    "start_time": "2022-11-04T13:03:30.157Z"
   },
   {
    "duration": 6,
    "start_time": "2022-11-04T13:04:19.236Z"
   },
   {
    "duration": 15,
    "start_time": "2022-11-04T13:04:19.664Z"
   },
   {
    "duration": 12,
    "start_time": "2022-11-04T13:04:19.969Z"
   },
   {
    "duration": 12,
    "start_time": "2022-11-04T13:04:20.137Z"
   },
   {
    "duration": 1507,
    "start_time": "2022-11-05T03:45:15.375Z"
   },
   {
    "duration": 0,
    "start_time": "2022-11-05T03:45:16.886Z"
   },
   {
    "duration": 0,
    "start_time": "2022-11-05T03:45:16.887Z"
   },
   {
    "duration": 0,
    "start_time": "2022-11-05T03:45:16.888Z"
   },
   {
    "duration": 0,
    "start_time": "2022-11-05T03:45:16.889Z"
   },
   {
    "duration": 0,
    "start_time": "2022-11-05T03:45:16.890Z"
   },
   {
    "duration": 0,
    "start_time": "2022-11-05T03:45:16.891Z"
   },
   {
    "duration": 0,
    "start_time": "2022-11-05T03:45:16.891Z"
   },
   {
    "duration": 0,
    "start_time": "2022-11-05T03:45:16.893Z"
   },
   {
    "duration": 0,
    "start_time": "2022-11-05T03:45:16.893Z"
   },
   {
    "duration": 0,
    "start_time": "2022-11-05T03:45:16.894Z"
   },
   {
    "duration": 0,
    "start_time": "2022-11-05T03:45:16.895Z"
   },
   {
    "duration": 0,
    "start_time": "2022-11-05T03:45:16.896Z"
   },
   {
    "duration": 0,
    "start_time": "2022-11-05T03:45:16.897Z"
   },
   {
    "duration": 0,
    "start_time": "2022-11-05T03:45:16.898Z"
   },
   {
    "duration": 0,
    "start_time": "2022-11-05T03:45:16.899Z"
   },
   {
    "duration": 0,
    "start_time": "2022-11-05T03:45:16.900Z"
   },
   {
    "duration": 0,
    "start_time": "2022-11-05T03:45:16.901Z"
   },
   {
    "duration": 0,
    "start_time": "2022-11-05T03:45:16.902Z"
   },
   {
    "duration": 0,
    "start_time": "2022-11-05T03:45:16.903Z"
   },
   {
    "duration": 0,
    "start_time": "2022-11-05T03:45:16.904Z"
   },
   {
    "duration": 0,
    "start_time": "2022-11-05T03:45:16.905Z"
   },
   {
    "duration": 0,
    "start_time": "2022-11-05T03:45:16.905Z"
   },
   {
    "duration": 0,
    "start_time": "2022-11-05T03:45:16.906Z"
   },
   {
    "duration": 0,
    "start_time": "2022-11-05T03:45:16.907Z"
   },
   {
    "duration": 0,
    "start_time": "2022-11-05T03:45:16.908Z"
   },
   {
    "duration": 0,
    "start_time": "2022-11-05T03:45:16.909Z"
   },
   {
    "duration": 0,
    "start_time": "2022-11-05T03:45:16.910Z"
   },
   {
    "duration": 0,
    "start_time": "2022-11-05T03:45:16.911Z"
   },
   {
    "duration": 0,
    "start_time": "2022-11-05T03:45:16.912Z"
   },
   {
    "duration": 0,
    "start_time": "2022-11-05T03:45:16.912Z"
   },
   {
    "duration": 2340,
    "start_time": "2022-11-05T03:45:44.524Z"
   },
   {
    "duration": 1464,
    "start_time": "2022-11-05T03:45:46.866Z"
   },
   {
    "duration": 90,
    "start_time": "2022-11-05T03:45:48.332Z"
   },
   {
    "duration": 9,
    "start_time": "2022-11-05T03:45:48.424Z"
   },
   {
    "duration": 12,
    "start_time": "2022-11-05T03:45:48.434Z"
   },
   {
    "duration": 21,
    "start_time": "2022-11-05T03:45:48.447Z"
   },
   {
    "duration": 5,
    "start_time": "2022-11-05T03:45:48.470Z"
   },
   {
    "duration": 48,
    "start_time": "2022-11-05T03:45:48.477Z"
   },
   {
    "duration": 5,
    "start_time": "2022-11-05T03:45:48.527Z"
   },
   {
    "duration": 11,
    "start_time": "2022-11-05T03:45:48.534Z"
   },
   {
    "duration": 8,
    "start_time": "2022-11-05T03:45:48.547Z"
   },
   {
    "duration": 23,
    "start_time": "2022-11-05T03:45:48.556Z"
   },
   {
    "duration": 11,
    "start_time": "2022-11-05T03:45:48.581Z"
   },
   {
    "duration": 9,
    "start_time": "2022-11-05T03:45:48.593Z"
   },
   {
    "duration": 330,
    "start_time": "2022-11-05T03:45:48.603Z"
   },
   {
    "duration": 93,
    "start_time": "2022-11-05T03:45:48.934Z"
   },
   {
    "duration": 471,
    "start_time": "2022-11-05T03:45:49.029Z"
   },
   {
    "duration": 5982,
    "start_time": "2022-11-05T03:45:49.503Z"
   },
   {
    "duration": 162,
    "start_time": "2022-11-05T03:45:55.486Z"
   },
   {
    "duration": 130,
    "start_time": "2022-11-05T03:45:55.650Z"
   },
   {
    "duration": 175,
    "start_time": "2022-11-05T03:45:55.782Z"
   },
   {
    "duration": 132,
    "start_time": "2022-11-05T03:45:55.959Z"
   },
   {
    "duration": 5,
    "start_time": "2022-11-05T03:45:56.092Z"
   },
   {
    "duration": 10,
    "start_time": "2022-11-05T03:45:56.099Z"
   },
   {
    "duration": 5,
    "start_time": "2022-11-05T03:45:56.111Z"
   },
   {
    "duration": 3,
    "start_time": "2022-11-05T03:45:56.118Z"
   },
   {
    "duration": 122,
    "start_time": "2022-11-05T03:45:56.123Z"
   },
   {
    "duration": 0,
    "start_time": "2022-11-05T03:45:56.246Z"
   },
   {
    "duration": 0,
    "start_time": "2022-11-05T03:45:56.248Z"
   },
   {
    "duration": 0,
    "start_time": "2022-11-05T03:45:56.249Z"
   },
   {
    "duration": 0,
    "start_time": "2022-11-05T03:45:56.251Z"
   },
   {
    "duration": 0,
    "start_time": "2022-11-05T03:45:56.253Z"
   },
   {
    "duration": 1816,
    "start_time": "2022-11-05T03:49:02.572Z"
   },
   {
    "duration": 1428,
    "start_time": "2022-11-05T03:49:04.390Z"
   },
   {
    "duration": 29,
    "start_time": "2022-11-05T03:49:05.820Z"
   },
   {
    "duration": 9,
    "start_time": "2022-11-05T03:49:05.851Z"
   },
   {
    "duration": 34,
    "start_time": "2022-11-05T03:49:05.862Z"
   },
   {
    "duration": 23,
    "start_time": "2022-11-05T03:49:05.897Z"
   },
   {
    "duration": 14,
    "start_time": "2022-11-05T03:49:05.921Z"
   },
   {
    "duration": 63,
    "start_time": "2022-11-05T03:49:05.936Z"
   },
   {
    "duration": 5,
    "start_time": "2022-11-05T03:49:06.001Z"
   },
   {
    "duration": 40,
    "start_time": "2022-11-05T03:49:06.008Z"
   },
   {
    "duration": 21,
    "start_time": "2022-11-05T03:49:06.049Z"
   },
   {
    "duration": 14,
    "start_time": "2022-11-05T03:49:06.072Z"
   },
   {
    "duration": 21,
    "start_time": "2022-11-05T03:49:06.088Z"
   },
   {
    "duration": 21,
    "start_time": "2022-11-05T03:49:06.111Z"
   },
   {
    "duration": 387,
    "start_time": "2022-11-05T03:49:06.134Z"
   },
   {
    "duration": 94,
    "start_time": "2022-11-05T03:49:06.522Z"
   },
   {
    "duration": 479,
    "start_time": "2022-11-05T03:49:06.618Z"
   },
   {
    "duration": 6015,
    "start_time": "2022-11-05T03:49:07.098Z"
   },
   {
    "duration": 165,
    "start_time": "2022-11-05T03:49:13.115Z"
   },
   {
    "duration": 125,
    "start_time": "2022-11-05T03:49:13.282Z"
   },
   {
    "duration": 183,
    "start_time": "2022-11-05T03:49:13.409Z"
   },
   {
    "duration": 137,
    "start_time": "2022-11-05T03:49:13.594Z"
   },
   {
    "duration": 4,
    "start_time": "2022-11-05T03:49:13.733Z"
   },
   {
    "duration": 11,
    "start_time": "2022-11-05T03:49:13.739Z"
   },
   {
    "duration": 34,
    "start_time": "2022-11-05T03:49:13.752Z"
   },
   {
    "duration": 6,
    "start_time": "2022-11-05T03:49:13.787Z"
   },
   {
    "duration": 87,
    "start_time": "2022-11-05T03:49:13.794Z"
   },
   {
    "duration": 92,
    "start_time": "2022-11-05T03:49:13.885Z"
   },
   {
    "duration": 5,
    "start_time": "2022-11-05T03:49:13.979Z"
   },
   {
    "duration": 95,
    "start_time": "2022-11-05T03:49:13.986Z"
   },
   {
    "duration": 109,
    "start_time": "2022-11-05T03:49:14.083Z"
   },
   {
    "duration": 0,
    "start_time": "2022-11-05T03:49:14.194Z"
   },
   {
    "duration": 1792,
    "start_time": "2022-11-05T03:49:57.453Z"
   },
   {
    "duration": 1401,
    "start_time": "2022-11-05T03:49:59.247Z"
   },
   {
    "duration": 29,
    "start_time": "2022-11-05T03:50:00.650Z"
   },
   {
    "duration": 8,
    "start_time": "2022-11-05T03:50:00.681Z"
   },
   {
    "duration": 20,
    "start_time": "2022-11-05T03:50:00.691Z"
   },
   {
    "duration": 27,
    "start_time": "2022-11-05T03:50:00.713Z"
   },
   {
    "duration": 5,
    "start_time": "2022-11-05T03:50:00.742Z"
   },
   {
    "duration": 69,
    "start_time": "2022-11-05T03:50:00.749Z"
   },
   {
    "duration": 8,
    "start_time": "2022-11-05T03:50:00.819Z"
   },
   {
    "duration": 15,
    "start_time": "2022-11-05T03:50:00.830Z"
   },
   {
    "duration": 17,
    "start_time": "2022-11-05T03:50:00.846Z"
   },
   {
    "duration": 5,
    "start_time": "2022-11-05T03:50:00.877Z"
   },
   {
    "duration": 17,
    "start_time": "2022-11-05T03:50:00.883Z"
   },
   {
    "duration": 11,
    "start_time": "2022-11-05T03:50:00.902Z"
   },
   {
    "duration": 321,
    "start_time": "2022-11-05T03:50:00.915Z"
   },
   {
    "duration": 89,
    "start_time": "2022-11-05T03:50:01.237Z"
   },
   {
    "duration": 480,
    "start_time": "2022-11-05T03:50:01.327Z"
   },
   {
    "duration": 6017,
    "start_time": "2022-11-05T03:50:01.808Z"
   },
   {
    "duration": 173,
    "start_time": "2022-11-05T03:50:07.827Z"
   },
   {
    "duration": 123,
    "start_time": "2022-11-05T03:50:08.002Z"
   },
   {
    "duration": 182,
    "start_time": "2022-11-05T03:50:08.126Z"
   },
   {
    "duration": 137,
    "start_time": "2022-11-05T03:50:08.310Z"
   },
   {
    "duration": 4,
    "start_time": "2022-11-05T03:50:08.448Z"
   },
   {
    "duration": 10,
    "start_time": "2022-11-05T03:50:08.454Z"
   },
   {
    "duration": 14,
    "start_time": "2022-11-05T03:50:08.477Z"
   },
   {
    "duration": 4,
    "start_time": "2022-11-05T03:50:08.492Z"
   },
   {
    "duration": 85,
    "start_time": "2022-11-05T03:50:08.498Z"
   },
   {
    "duration": 96,
    "start_time": "2022-11-05T03:50:08.587Z"
   },
   {
    "duration": 5,
    "start_time": "2022-11-05T03:50:08.685Z"
   },
   {
    "duration": 90,
    "start_time": "2022-11-05T03:50:08.692Z"
   },
   {
    "duration": 4,
    "start_time": "2022-11-05T03:50:08.784Z"
   },
   {
    "duration": 8,
    "start_time": "2022-11-05T03:50:08.790Z"
   }
  ],
  "kernelspec": {
   "display_name": "Python 3 (ipykernel)",
   "language": "python",
   "name": "python3"
  },
  "language_info": {
   "codemirror_mode": {
    "name": "ipython",
    "version": 3
   },
   "file_extension": ".py",
   "mimetype": "text/x-python",
   "name": "python",
   "nbconvert_exporter": "python",
   "pygments_lexer": "ipython3",
   "version": "3.9.12"
  },
  "toc": {
   "base_numbering": 1,
   "nav_menu": {
    "height": "12px",
    "width": "160px"
   },
   "number_sections": true,
   "sideBar": true,
   "skip_h1_title": true,
   "title_cell": "Содержание",
   "title_sidebar": "Contents",
   "toc_cell": true,
   "toc_position": {
    "height": "calc(100% - 180px)",
    "left": "10px",
    "top": "150px",
    "width": "288.188px"
   },
   "toc_section_display": true,
   "toc_window_display": true
  }
 },
 "nbformat": 4,
 "nbformat_minor": 2
}
