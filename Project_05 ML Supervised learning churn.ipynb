{
 "cells": [
  {
   "cell_type": "markdown",
   "metadata": {
    "toc": true
   },
   "source": [
    "<h1>Содержание<span class=\"tocSkip\"></span></h1>\n",
    "<div class=\"toc\"><ul class=\"toc-item\"><li><span><a href=\"#Подготовка-данных\" data-toc-modified-id=\"Подготовка-данных-1\"><span class=\"toc-item-num\">1&nbsp;&nbsp;</span>Подготовка данных</a></span><ul class=\"toc-item\"><li><span><a href=\"#Импорт-библиотек\" data-toc-modified-id=\"Импорт-библиотек-1.1\"><span class=\"toc-item-num\">1.1&nbsp;&nbsp;</span>Импорт библиотек</a></span></li><li><span><a href=\"#Загрузка-и-обзор-датасета\" data-toc-modified-id=\"Загрузка-и-обзор-датасета-1.2\"><span class=\"toc-item-num\">1.2&nbsp;&nbsp;</span>Загрузка и обзор датасета</a></span></li><li><span><a href=\"#Предобработка-данных\" data-toc-modified-id=\"Предобработка-данных-1.3\"><span class=\"toc-item-num\">1.3&nbsp;&nbsp;</span>Предобработка данных</a></span></li></ul></li><li><span><a href=\"#Исследование-задачи\" data-toc-modified-id=\"Исследование-задачи-2\"><span class=\"toc-item-num\">2&nbsp;&nbsp;</span>Исследование задачи</a></span><ul class=\"toc-item\"><li><span><a href=\"#Выделим-признаки-features,-цели-target,-поделим-датасет-на-обучающую,-валидационную-и-тестовую-выборки.-Категориальные-признаки-переведем-в-численные-через-dummy-признаки-предварительно.\" data-toc-modified-id=\"Выделим-признаки-features,-цели-target,-поделим-датасет-на-обучающую,-валидационную-и-тестовую-выборки.-Категориальные-признаки-переведем-в-численные-через-dummy-признаки-предварительно.-2.1\"><span class=\"toc-item-num\">2.1&nbsp;&nbsp;</span>Выделим признаки <code>features</code>, цели <code>target</code>, поделим датасет на обучающую, валидационную и тестовую выборки. Категориальные признаки переведем в численные через dummy-признаки предварительно.</a></span></li><li><span><a href=\"#Исследование-без-учета-дисбаланса\" data-toc-modified-id=\"Исследование-без-учета-дисбаланса-2.2\"><span class=\"toc-item-num\">2.2&nbsp;&nbsp;</span>Исследование без учета дисбаланса</a></span></li></ul></li><li><span><a href=\"#Борьба-с-дисбалансом\" data-toc-modified-id=\"Борьба-с-дисбалансом-3\"><span class=\"toc-item-num\">3&nbsp;&nbsp;</span>Борьба с дисбалансом</a></span><ul class=\"toc-item\"><li><span><a href=\"#Проверка-баланса-классов-целевого-признака:\" data-toc-modified-id=\"Проверка-баланса-классов-целевого-признака:-3.1\"><span class=\"toc-item-num\">3.1&nbsp;&nbsp;</span>Проверка баланса классов целевого признака:</a></span></li><li><span><a href=\"#Балансировка\" data-toc-modified-id=\"Балансировка-3.2\"><span class=\"toc-item-num\">3.2&nbsp;&nbsp;</span>Балансировка</a></span></li><li><span><a href=\"#Проверка-значения-целевой-метрики-после-балансировки-классов:\" data-toc-modified-id=\"Проверка-значения-целевой-метрики-после-балансировки-классов:-3.3\"><span class=\"toc-item-num\">3.3&nbsp;&nbsp;</span>Проверка значения целевой метрики после балансировки классов:</a></span></li></ul></li><li><span><a href=\"#Тестирование-модели-RF-после-балансировки-значений-датасета-на-тестовой-выборке:\" data-toc-modified-id=\"Тестирование-модели-RF-после-балансировки-значений-датасета-на-тестовой-выборке:-4\"><span class=\"toc-item-num\">4&nbsp;&nbsp;</span>Тестирование модели RF после балансировки значений датасета на тестовой выборке:</a></span></li></ul></div>"
   ]
  },
  {
   "cell_type": "markdown",
   "metadata": {},
   "source": [
    "# Отток клиентов"
   ]
  },
  {
   "cell_type": "markdown",
   "metadata": {},
   "source": [
    "Из «Бета-Банка» стали уходить клиенты. Каждый месяц. Немного, но заметно. Банковские маркетологи посчитали: сохранять текущих клиентов дешевле, чем привлекать новых.\n",
    "\n",
    "Цель исследования: выбрать, обучить и исследовать модель, которая сможет спрогнозировать - уйдёт клиент из банка в ближайшее время или нет - со значением f1-меры не менее 0.59. Исследование проводится на датасете с историческими данными о поведении клиентов и расторжении договоров с банком. \n",
    "\n",
    "Обучение будет проведено на тренировочной выборке, проверено на валидационной. Итоговое исследование выбранной модели произведем на тестовой выборке. Дополнительно измерим показатель *AUC-ROC*, сравнивним её значение с *F1*-мерой.\n",
    "\n",
    "Признаки:\n",
    "* RowNumber — индекс строки в данных\n",
    "* CustomerId — уникальный идентификатор клиента\n",
    "* Surname — фамилия\n",
    "* CreditScore — кредитный рейтинг\n",
    "* Geography — страна проживания\n",
    "* Gender — пол\n",
    "* Age — возраст\n",
    "* Tenure — сколько лет человек является клиентом банка\n",
    "* Balance — баланс на счёте\n",
    "* NumOfProducts — количество продуктов банка, используемых клиентом\n",
    "* HasCrCard — наличие кредитной карты\n",
    "* IsActiveMember — активность клиента\n",
    "* EstimatedSalary — предполагаемая зарплата\n",
    "* Целевой признак\n",
    "* Exited — факт ухода клиента\n",
    "\n",
    "\n",
    "\n",
    "Источник данных: [https://www.kaggle.com/barelydedicated/bank-customer-churn-modeling](https://www.kaggle.com/barelydedicated/bank-customer-churn-modeling)"
   ]
  },
  {
   "cell_type": "markdown",
   "metadata": {},
   "source": [
    "## Подготовка данных"
   ]
  },
  {
   "cell_type": "markdown",
   "metadata": {},
   "source": [
    "### Импорт библиотек"
   ]
  },
  {
   "cell_type": "code",
   "execution_count": 1,
   "metadata": {},
   "outputs": [],
   "source": [
    "import pandas as pd\n",
    "import numpy as np\n",
    "import random\n",
    "import seaborn as sns\n",
    "from matplotlib import pyplot as plt\n",
    "\n",
    "\n",
    "from sklearn.model_selection import train_test_split\n",
    "from sklearn.linear_model import LogisticRegression\n",
    "from sklearn.ensemble import RandomForestClassifier\n",
    "from sklearn.preprocessing import StandardScaler \n",
    "from sklearn.metrics import confusion_matrix\n",
    "from sklearn.utils import shuffle\n",
    "from sklearn.metrics import precision_score, recall_score, f1_score, roc_auc_score, roc_curve, precision_recall_curve\n",
    "\n",
    "pd.options.mode.chained_assignment = None"
   ]
  },
  {
   "cell_type": "markdown",
   "metadata": {},
   "source": [
    "### Загрузка и обзор датасета"
   ]
  },
  {
   "cell_type": "code",
   "execution_count": 2,
   "metadata": {},
   "outputs": [
    {
     "data": {
      "text/html": [
       "<div>\n",
       "<style scoped>\n",
       "    .dataframe tbody tr th:only-of-type {\n",
       "        vertical-align: middle;\n",
       "    }\n",
       "\n",
       "    .dataframe tbody tr th {\n",
       "        vertical-align: top;\n",
       "    }\n",
       "\n",
       "    .dataframe thead th {\n",
       "        text-align: right;\n",
       "    }\n",
       "</style>\n",
       "<table border=\"1\" class=\"dataframe\">\n",
       "  <thead>\n",
       "    <tr style=\"text-align: right;\">\n",
       "      <th></th>\n",
       "      <th>RowNumber</th>\n",
       "      <th>CustomerId</th>\n",
       "      <th>Surname</th>\n",
       "      <th>CreditScore</th>\n",
       "      <th>Geography</th>\n",
       "      <th>Gender</th>\n",
       "      <th>Age</th>\n",
       "      <th>Tenure</th>\n",
       "      <th>Balance</th>\n",
       "      <th>NumOfProducts</th>\n",
       "      <th>HasCrCard</th>\n",
       "      <th>IsActiveMember</th>\n",
       "      <th>EstimatedSalary</th>\n",
       "      <th>Exited</th>\n",
       "    </tr>\n",
       "  </thead>\n",
       "  <tbody>\n",
       "    <tr>\n",
       "      <th>0</th>\n",
       "      <td>1</td>\n",
       "      <td>15634602</td>\n",
       "      <td>Hargrave</td>\n",
       "      <td>619</td>\n",
       "      <td>France</td>\n",
       "      <td>Female</td>\n",
       "      <td>42</td>\n",
       "      <td>2.0</td>\n",
       "      <td>0.00</td>\n",
       "      <td>1</td>\n",
       "      <td>1</td>\n",
       "      <td>1</td>\n",
       "      <td>101348.88</td>\n",
       "      <td>1</td>\n",
       "    </tr>\n",
       "    <tr>\n",
       "      <th>1</th>\n",
       "      <td>2</td>\n",
       "      <td>15647311</td>\n",
       "      <td>Hill</td>\n",
       "      <td>608</td>\n",
       "      <td>Spain</td>\n",
       "      <td>Female</td>\n",
       "      <td>41</td>\n",
       "      <td>1.0</td>\n",
       "      <td>83807.86</td>\n",
       "      <td>1</td>\n",
       "      <td>0</td>\n",
       "      <td>1</td>\n",
       "      <td>112542.58</td>\n",
       "      <td>0</td>\n",
       "    </tr>\n",
       "    <tr>\n",
       "      <th>2</th>\n",
       "      <td>3</td>\n",
       "      <td>15619304</td>\n",
       "      <td>Onio</td>\n",
       "      <td>502</td>\n",
       "      <td>France</td>\n",
       "      <td>Female</td>\n",
       "      <td>42</td>\n",
       "      <td>8.0</td>\n",
       "      <td>159660.80</td>\n",
       "      <td>3</td>\n",
       "      <td>1</td>\n",
       "      <td>0</td>\n",
       "      <td>113931.57</td>\n",
       "      <td>1</td>\n",
       "    </tr>\n",
       "    <tr>\n",
       "      <th>3</th>\n",
       "      <td>4</td>\n",
       "      <td>15701354</td>\n",
       "      <td>Boni</td>\n",
       "      <td>699</td>\n",
       "      <td>France</td>\n",
       "      <td>Female</td>\n",
       "      <td>39</td>\n",
       "      <td>1.0</td>\n",
       "      <td>0.00</td>\n",
       "      <td>2</td>\n",
       "      <td>0</td>\n",
       "      <td>0</td>\n",
       "      <td>93826.63</td>\n",
       "      <td>0</td>\n",
       "    </tr>\n",
       "    <tr>\n",
       "      <th>4</th>\n",
       "      <td>5</td>\n",
       "      <td>15737888</td>\n",
       "      <td>Mitchell</td>\n",
       "      <td>850</td>\n",
       "      <td>Spain</td>\n",
       "      <td>Female</td>\n",
       "      <td>43</td>\n",
       "      <td>2.0</td>\n",
       "      <td>125510.82</td>\n",
       "      <td>1</td>\n",
       "      <td>1</td>\n",
       "      <td>1</td>\n",
       "      <td>79084.10</td>\n",
       "      <td>0</td>\n",
       "    </tr>\n",
       "    <tr>\n",
       "      <th>5</th>\n",
       "      <td>6</td>\n",
       "      <td>15574012</td>\n",
       "      <td>Chu</td>\n",
       "      <td>645</td>\n",
       "      <td>Spain</td>\n",
       "      <td>Male</td>\n",
       "      <td>44</td>\n",
       "      <td>8.0</td>\n",
       "      <td>113755.78</td>\n",
       "      <td>2</td>\n",
       "      <td>1</td>\n",
       "      <td>0</td>\n",
       "      <td>149756.71</td>\n",
       "      <td>1</td>\n",
       "    </tr>\n",
       "    <tr>\n",
       "      <th>6</th>\n",
       "      <td>7</td>\n",
       "      <td>15592531</td>\n",
       "      <td>Bartlett</td>\n",
       "      <td>822</td>\n",
       "      <td>France</td>\n",
       "      <td>Male</td>\n",
       "      <td>50</td>\n",
       "      <td>7.0</td>\n",
       "      <td>0.00</td>\n",
       "      <td>2</td>\n",
       "      <td>1</td>\n",
       "      <td>1</td>\n",
       "      <td>10062.80</td>\n",
       "      <td>0</td>\n",
       "    </tr>\n",
       "    <tr>\n",
       "      <th>7</th>\n",
       "      <td>8</td>\n",
       "      <td>15656148</td>\n",
       "      <td>Obinna</td>\n",
       "      <td>376</td>\n",
       "      <td>Germany</td>\n",
       "      <td>Female</td>\n",
       "      <td>29</td>\n",
       "      <td>4.0</td>\n",
       "      <td>115046.74</td>\n",
       "      <td>4</td>\n",
       "      <td>1</td>\n",
       "      <td>0</td>\n",
       "      <td>119346.88</td>\n",
       "      <td>1</td>\n",
       "    </tr>\n",
       "    <tr>\n",
       "      <th>8</th>\n",
       "      <td>9</td>\n",
       "      <td>15792365</td>\n",
       "      <td>He</td>\n",
       "      <td>501</td>\n",
       "      <td>France</td>\n",
       "      <td>Male</td>\n",
       "      <td>44</td>\n",
       "      <td>4.0</td>\n",
       "      <td>142051.07</td>\n",
       "      <td>2</td>\n",
       "      <td>0</td>\n",
       "      <td>1</td>\n",
       "      <td>74940.50</td>\n",
       "      <td>0</td>\n",
       "    </tr>\n",
       "    <tr>\n",
       "      <th>9</th>\n",
       "      <td>10</td>\n",
       "      <td>15592389</td>\n",
       "      <td>H?</td>\n",
       "      <td>684</td>\n",
       "      <td>France</td>\n",
       "      <td>Male</td>\n",
       "      <td>27</td>\n",
       "      <td>2.0</td>\n",
       "      <td>134603.88</td>\n",
       "      <td>1</td>\n",
       "      <td>1</td>\n",
       "      <td>1</td>\n",
       "      <td>71725.73</td>\n",
       "      <td>0</td>\n",
       "    </tr>\n",
       "    <tr>\n",
       "      <th>10</th>\n",
       "      <td>11</td>\n",
       "      <td>15767821</td>\n",
       "      <td>Bearce</td>\n",
       "      <td>528</td>\n",
       "      <td>France</td>\n",
       "      <td>Male</td>\n",
       "      <td>31</td>\n",
       "      <td>6.0</td>\n",
       "      <td>102016.72</td>\n",
       "      <td>2</td>\n",
       "      <td>0</td>\n",
       "      <td>0</td>\n",
       "      <td>80181.12</td>\n",
       "      <td>0</td>\n",
       "    </tr>\n",
       "    <tr>\n",
       "      <th>11</th>\n",
       "      <td>12</td>\n",
       "      <td>15737173</td>\n",
       "      <td>Andrews</td>\n",
       "      <td>497</td>\n",
       "      <td>Spain</td>\n",
       "      <td>Male</td>\n",
       "      <td>24</td>\n",
       "      <td>3.0</td>\n",
       "      <td>0.00</td>\n",
       "      <td>2</td>\n",
       "      <td>1</td>\n",
       "      <td>0</td>\n",
       "      <td>76390.01</td>\n",
       "      <td>0</td>\n",
       "    </tr>\n",
       "    <tr>\n",
       "      <th>12</th>\n",
       "      <td>13</td>\n",
       "      <td>15632264</td>\n",
       "      <td>Kay</td>\n",
       "      <td>476</td>\n",
       "      <td>France</td>\n",
       "      <td>Female</td>\n",
       "      <td>34</td>\n",
       "      <td>10.0</td>\n",
       "      <td>0.00</td>\n",
       "      <td>2</td>\n",
       "      <td>1</td>\n",
       "      <td>0</td>\n",
       "      <td>26260.98</td>\n",
       "      <td>0</td>\n",
       "    </tr>\n",
       "    <tr>\n",
       "      <th>13</th>\n",
       "      <td>14</td>\n",
       "      <td>15691483</td>\n",
       "      <td>Chin</td>\n",
       "      <td>549</td>\n",
       "      <td>France</td>\n",
       "      <td>Female</td>\n",
       "      <td>25</td>\n",
       "      <td>5.0</td>\n",
       "      <td>0.00</td>\n",
       "      <td>2</td>\n",
       "      <td>0</td>\n",
       "      <td>0</td>\n",
       "      <td>190857.79</td>\n",
       "      <td>0</td>\n",
       "    </tr>\n",
       "    <tr>\n",
       "      <th>14</th>\n",
       "      <td>15</td>\n",
       "      <td>15600882</td>\n",
       "      <td>Scott</td>\n",
       "      <td>635</td>\n",
       "      <td>Spain</td>\n",
       "      <td>Female</td>\n",
       "      <td>35</td>\n",
       "      <td>7.0</td>\n",
       "      <td>0.00</td>\n",
       "      <td>2</td>\n",
       "      <td>1</td>\n",
       "      <td>1</td>\n",
       "      <td>65951.65</td>\n",
       "      <td>0</td>\n",
       "    </tr>\n",
       "  </tbody>\n",
       "</table>\n",
       "</div>"
      ],
      "text/plain": [
       "    RowNumber  CustomerId   Surname  CreditScore Geography  Gender  Age  \\\n",
       "0           1    15634602  Hargrave          619    France  Female   42   \n",
       "1           2    15647311      Hill          608     Spain  Female   41   \n",
       "2           3    15619304      Onio          502    France  Female   42   \n",
       "3           4    15701354      Boni          699    France  Female   39   \n",
       "4           5    15737888  Mitchell          850     Spain  Female   43   \n",
       "5           6    15574012       Chu          645     Spain    Male   44   \n",
       "6           7    15592531  Bartlett          822    France    Male   50   \n",
       "7           8    15656148    Obinna          376   Germany  Female   29   \n",
       "8           9    15792365        He          501    France    Male   44   \n",
       "9          10    15592389        H?          684    France    Male   27   \n",
       "10         11    15767821    Bearce          528    France    Male   31   \n",
       "11         12    15737173   Andrews          497     Spain    Male   24   \n",
       "12         13    15632264       Kay          476    France  Female   34   \n",
       "13         14    15691483      Chin          549    France  Female   25   \n",
       "14         15    15600882     Scott          635     Spain  Female   35   \n",
       "\n",
       "    Tenure    Balance  NumOfProducts  HasCrCard  IsActiveMember  \\\n",
       "0      2.0       0.00              1          1               1   \n",
       "1      1.0   83807.86              1          0               1   \n",
       "2      8.0  159660.80              3          1               0   \n",
       "3      1.0       0.00              2          0               0   \n",
       "4      2.0  125510.82              1          1               1   \n",
       "5      8.0  113755.78              2          1               0   \n",
       "6      7.0       0.00              2          1               1   \n",
       "7      4.0  115046.74              4          1               0   \n",
       "8      4.0  142051.07              2          0               1   \n",
       "9      2.0  134603.88              1          1               1   \n",
       "10     6.0  102016.72              2          0               0   \n",
       "11     3.0       0.00              2          1               0   \n",
       "12    10.0       0.00              2          1               0   \n",
       "13     5.0       0.00              2          0               0   \n",
       "14     7.0       0.00              2          1               1   \n",
       "\n",
       "    EstimatedSalary  Exited  \n",
       "0         101348.88       1  \n",
       "1         112542.58       0  \n",
       "2         113931.57       1  \n",
       "3          93826.63       0  \n",
       "4          79084.10       0  \n",
       "5         149756.71       1  \n",
       "6          10062.80       0  \n",
       "7         119346.88       1  \n",
       "8          74940.50       0  \n",
       "9          71725.73       0  \n",
       "10         80181.12       0  \n",
       "11         76390.01       0  \n",
       "12         26260.98       0  \n",
       "13        190857.79       0  \n",
       "14         65951.65       0  "
      ]
     },
     "metadata": {},
     "output_type": "display_data"
    },
    {
     "name": "stdout",
     "output_type": "stream",
     "text": [
      "<class 'pandas.core.frame.DataFrame'>\n",
      "RangeIndex: 10000 entries, 0 to 9999\n",
      "Data columns (total 14 columns):\n",
      " #   Column           Non-Null Count  Dtype  \n",
      "---  ------           --------------  -----  \n",
      " 0   RowNumber        10000 non-null  int64  \n",
      " 1   CustomerId       10000 non-null  int64  \n",
      " 2   Surname          10000 non-null  object \n",
      " 3   CreditScore      10000 non-null  int64  \n",
      " 4   Geography        10000 non-null  object \n",
      " 5   Gender           10000 non-null  object \n",
      " 6   Age              10000 non-null  int64  \n",
      " 7   Tenure           9091 non-null   float64\n",
      " 8   Balance          10000 non-null  float64\n",
      " 9   NumOfProducts    10000 non-null  int64  \n",
      " 10  HasCrCard        10000 non-null  int64  \n",
      " 11  IsActiveMember   10000 non-null  int64  \n",
      " 12  EstimatedSalary  10000 non-null  float64\n",
      " 13  Exited           10000 non-null  int64  \n",
      "dtypes: float64(3), int64(8), object(3)\n",
      "memory usage: 2.6 MB\n",
      "None\n"
     ]
    }
   ],
   "source": [
    "data = pd.read_csv('Churn.csv')\n",
    "display(data.head(15))\n",
    "print(data.info(memory_usage='deep'))"
   ]
  },
  {
   "cell_type": "code",
   "execution_count": 3,
   "metadata": {},
   "outputs": [
    {
     "data": {
      "text/plain": [
       "{'whiskers': [<matplotlib.lines.Line2D at 0x7f8215396790>,\n",
       "  <matplotlib.lines.Line2D at 0x7f8215396af0>],\n",
       " 'caps': [<matplotlib.lines.Line2D at 0x7f8215396e50>,\n",
       "  <matplotlib.lines.Line2D at 0x7f820d32e1f0>],\n",
       " 'boxes': [<matplotlib.lines.Line2D at 0x7f8215396430>],\n",
       " 'medians': [<matplotlib.lines.Line2D at 0x7f820d32e550>],\n",
       " 'fliers': [<matplotlib.lines.Line2D at 0x7f820d32e8b0>],\n",
       " 'means': []}"
      ]
     },
     "execution_count": 3,
     "metadata": {},
     "output_type": "execute_result"
    },
    {
     "data": {
      "image/png": "[encoded data removed]",
      "text/plain": [
       "<Figure size 432x288 with 1 Axes>"
      ]
     },
     "metadata": {
      "needs_background": "light"
     },
     "output_type": "display_data"
    }
   ],
   "source": [
    "plt.boxplot(data['Age'])"
   ]
  },
  {
   "cell_type": "code",
   "execution_count": 4,
   "metadata": {
    "scrolled": true
   },
   "outputs": [
    {
     "data": {
      "text/plain": [
       "Text(0.5, 0, 'чуваки')"
      ]
     },
     "execution_count": 4,
     "metadata": {},
     "output_type": "execute_result"
    },
    {
     "data": {
      "image/png": "[encoded data removed]",
      "text/plain": [
       "<Figure size 1080x576 with 1 Axes>"
      ]
     },
     "metadata": {
      "needs_background": "light"
     },
     "output_type": "display_data"
    }
   ],
   "source": [
    "data['Gender'] = data['Gender'].map({'Male': 1, 'Female': 2 })\n",
    "plt.figure(figsize=(15,8))\n",
    "\n",
    "sns.countplot(data=data, x=data['Age'].apply(np.median));\n",
    "plt.xlabel('чуваки')\n",
    "\n"
   ]
  },
  {
   "cell_type": "code",
   "execution_count": 5,
   "metadata": {},
   "outputs": [
    {
     "data": {
      "text/html": [
       "<div>\n",
       "<style scoped>\n",
       "    .dataframe tbody tr th:only-of-type {\n",
       "        vertical-align: middle;\n",
       "    }\n",
       "\n",
       "    .dataframe tbody tr th {\n",
       "        vertical-align: top;\n",
       "    }\n",
       "\n",
       "    .dataframe thead th {\n",
       "        text-align: right;\n",
       "    }\n",
       "</style>\n",
       "<table border=\"1\" class=\"dataframe\">\n",
       "  <thead>\n",
       "    <tr style=\"text-align: right;\">\n",
       "      <th></th>\n",
       "      <th>RowNumber</th>\n",
       "      <th>CustomerId</th>\n",
       "      <th>Surname</th>\n",
       "      <th>CreditScore</th>\n",
       "      <th>Geography</th>\n",
       "      <th>Gender</th>\n",
       "      <th>Age</th>\n",
       "      <th>Tenure</th>\n",
       "      <th>Balance</th>\n",
       "      <th>NumOfProducts</th>\n",
       "      <th>HasCrCard</th>\n",
       "      <th>IsActiveMember</th>\n",
       "      <th>EstimatedSalary</th>\n",
       "      <th>Exited</th>\n",
       "    </tr>\n",
       "  </thead>\n",
       "  <tbody>\n",
       "    <tr>\n",
       "      <th>0</th>\n",
       "      <td>1</td>\n",
       "      <td>15634602</td>\n",
       "      <td>Hargrave</td>\n",
       "      <td>619</td>\n",
       "      <td>France</td>\n",
       "      <td>2</td>\n",
       "      <td>42</td>\n",
       "      <td>2.0</td>\n",
       "      <td>0.00</td>\n",
       "      <td>1</td>\n",
       "      <td>1</td>\n",
       "      <td>1</td>\n",
       "      <td>101348.88</td>\n",
       "      <td>1</td>\n",
       "    </tr>\n",
       "    <tr>\n",
       "      <th>1</th>\n",
       "      <td>2</td>\n",
       "      <td>15647311</td>\n",
       "      <td>Hill</td>\n",
       "      <td>608</td>\n",
       "      <td>Spain</td>\n",
       "      <td>2</td>\n",
       "      <td>41</td>\n",
       "      <td>1.0</td>\n",
       "      <td>83807.86</td>\n",
       "      <td>1</td>\n",
       "      <td>0</td>\n",
       "      <td>1</td>\n",
       "      <td>112542.58</td>\n",
       "      <td>0</td>\n",
       "    </tr>\n",
       "    <tr>\n",
       "      <th>2</th>\n",
       "      <td>3</td>\n",
       "      <td>15619304</td>\n",
       "      <td>Onio</td>\n",
       "      <td>502</td>\n",
       "      <td>France</td>\n",
       "      <td>2</td>\n",
       "      <td>42</td>\n",
       "      <td>8.0</td>\n",
       "      <td>159660.80</td>\n",
       "      <td>3</td>\n",
       "      <td>1</td>\n",
       "      <td>0</td>\n",
       "      <td>113931.57</td>\n",
       "      <td>1</td>\n",
       "    </tr>\n",
       "    <tr>\n",
       "      <th>3</th>\n",
       "      <td>4</td>\n",
       "      <td>15701354</td>\n",
       "      <td>Boni</td>\n",
       "      <td>699</td>\n",
       "      <td>France</td>\n",
       "      <td>2</td>\n",
       "      <td>39</td>\n",
       "      <td>1.0</td>\n",
       "      <td>0.00</td>\n",
       "      <td>2</td>\n",
       "      <td>0</td>\n",
       "      <td>0</td>\n",
       "      <td>93826.63</td>\n",
       "      <td>0</td>\n",
       "    </tr>\n",
       "    <tr>\n",
       "      <th>4</th>\n",
       "      <td>5</td>\n",
       "      <td>15737888</td>\n",
       "      <td>Mitchell</td>\n",
       "      <td>850</td>\n",
       "      <td>Spain</td>\n",
       "      <td>2</td>\n",
       "      <td>43</td>\n",
       "      <td>2.0</td>\n",
       "      <td>125510.82</td>\n",
       "      <td>1</td>\n",
       "      <td>1</td>\n",
       "      <td>1</td>\n",
       "      <td>79084.10</td>\n",
       "      <td>0</td>\n",
       "    </tr>\n",
       "    <tr>\n",
       "      <th>...</th>\n",
       "      <td>...</td>\n",
       "      <td>...</td>\n",
       "      <td>...</td>\n",
       "      <td>...</td>\n",
       "      <td>...</td>\n",
       "      <td>...</td>\n",
       "      <td>...</td>\n",
       "      <td>...</td>\n",
       "      <td>...</td>\n",
       "      <td>...</td>\n",
       "      <td>...</td>\n",
       "      <td>...</td>\n",
       "      <td>...</td>\n",
       "      <td>...</td>\n",
       "    </tr>\n",
       "    <tr>\n",
       "      <th>9995</th>\n",
       "      <td>9996</td>\n",
       "      <td>15606229</td>\n",
       "      <td>Obijiaku</td>\n",
       "      <td>771</td>\n",
       "      <td>France</td>\n",
       "      <td>1</td>\n",
       "      <td>39</td>\n",
       "      <td>5.0</td>\n",
       "      <td>0.00</td>\n",
       "      <td>2</td>\n",
       "      <td>1</td>\n",
       "      <td>0</td>\n",
       "      <td>96270.64</td>\n",
       "      <td>0</td>\n",
       "    </tr>\n",
       "    <tr>\n",
       "      <th>9996</th>\n",
       "      <td>9997</td>\n",
       "      <td>15569892</td>\n",
       "      <td>Johnstone</td>\n",
       "      <td>516</td>\n",
       "      <td>France</td>\n",
       "      <td>1</td>\n",
       "      <td>35</td>\n",
       "      <td>10.0</td>\n",
       "      <td>57369.61</td>\n",
       "      <td>1</td>\n",
       "      <td>1</td>\n",
       "      <td>1</td>\n",
       "      <td>101699.77</td>\n",
       "      <td>0</td>\n",
       "    </tr>\n",
       "    <tr>\n",
       "      <th>9997</th>\n",
       "      <td>9998</td>\n",
       "      <td>15584532</td>\n",
       "      <td>Liu</td>\n",
       "      <td>709</td>\n",
       "      <td>France</td>\n",
       "      <td>2</td>\n",
       "      <td>36</td>\n",
       "      <td>7.0</td>\n",
       "      <td>0.00</td>\n",
       "      <td>1</td>\n",
       "      <td>0</td>\n",
       "      <td>1</td>\n",
       "      <td>42085.58</td>\n",
       "      <td>1</td>\n",
       "    </tr>\n",
       "    <tr>\n",
       "      <th>9998</th>\n",
       "      <td>9999</td>\n",
       "      <td>15682355</td>\n",
       "      <td>Sabbatini</td>\n",
       "      <td>772</td>\n",
       "      <td>Germany</td>\n",
       "      <td>1</td>\n",
       "      <td>42</td>\n",
       "      <td>3.0</td>\n",
       "      <td>75075.31</td>\n",
       "      <td>2</td>\n",
       "      <td>1</td>\n",
       "      <td>0</td>\n",
       "      <td>92888.52</td>\n",
       "      <td>1</td>\n",
       "    </tr>\n",
       "    <tr>\n",
       "      <th>9999</th>\n",
       "      <td>10000</td>\n",
       "      <td>15628319</td>\n",
       "      <td>Walker</td>\n",
       "      <td>792</td>\n",
       "      <td>France</td>\n",
       "      <td>2</td>\n",
       "      <td>28</td>\n",
       "      <td>NaN</td>\n",
       "      <td>130142.79</td>\n",
       "      <td>1</td>\n",
       "      <td>1</td>\n",
       "      <td>0</td>\n",
       "      <td>38190.78</td>\n",
       "      <td>0</td>\n",
       "    </tr>\n",
       "  </tbody>\n",
       "</table>\n",
       "<p>10000 rows × 14 columns</p>\n",
       "</div>"
      ],
      "text/plain": [
       "      RowNumber  CustomerId    Surname  CreditScore Geography  Gender  Age  \\\n",
       "0             1    15634602   Hargrave          619    France       2   42   \n",
       "1             2    15647311       Hill          608     Spain       2   41   \n",
       "2             3    15619304       Onio          502    France       2   42   \n",
       "3             4    15701354       Boni          699    France       2   39   \n",
       "4             5    15737888   Mitchell          850     Spain       2   43   \n",
       "...         ...         ...        ...          ...       ...     ...  ...   \n",
       "9995       9996    15606229   Obijiaku          771    France       1   39   \n",
       "9996       9997    15569892  Johnstone          516    France       1   35   \n",
       "9997       9998    15584532        Liu          709    France       2   36   \n",
       "9998       9999    15682355  Sabbatini          772   Germany       1   42   \n",
       "9999      10000    15628319     Walker          792    France       2   28   \n",
       "\n",
       "      Tenure    Balance  NumOfProducts  HasCrCard  IsActiveMember  \\\n",
       "0        2.0       0.00              1          1               1   \n",
       "1        1.0   83807.86              1          0               1   \n",
       "2        8.0  159660.80              3          1               0   \n",
       "3        1.0       0.00              2          0               0   \n",
       "4        2.0  125510.82              1          1               1   \n",
       "...      ...        ...            ...        ...             ...   \n",
       "9995     5.0       0.00              2          1               0   \n",
       "9996    10.0   57369.61              1          1               1   \n",
       "9997     7.0       0.00              1          0               1   \n",
       "9998     3.0   75075.31              2          1               0   \n",
       "9999     NaN  130142.79              1          1               0   \n",
       "\n",
       "      EstimatedSalary  Exited  \n",
       "0           101348.88       1  \n",
       "1           112542.58       0  \n",
       "2           113931.57       1  \n",
       "3            93826.63       0  \n",
       "4            79084.10       0  \n",
       "...               ...     ...  \n",
       "9995         96270.64       0  \n",
       "9996        101699.77       0  \n",
       "9997         42085.58       1  \n",
       "9998         92888.52       1  \n",
       "9999         38190.78       0  \n",
       "\n",
       "[10000 rows x 14 columns]"
      ]
     },
     "execution_count": 5,
     "metadata": {},
     "output_type": "execute_result"
    }
   ],
   "source": [
    "data"
   ]
  },
  {
   "cell_type": "markdown",
   "metadata": {},
   "source": [
    "**Вывод:** Датасет имеет 9999 записей. Требуется изменить типы данных (`gender`, `tenure`, `numofproducts`, `hascrcard`, `isactivemember`) для экономии памяти. Пропуски присутствуют в столбце `Tenure`"
   ]
  },
  {
   "cell_type": "markdown",
   "metadata": {},
   "source": [
    "### Предобработка данных"
   ]
  },
  {
   "cell_type": "markdown",
   "metadata": {},
   "source": [
    "Сбросим индексы.\n",
    "Отбросим столбцы, не имеющие значения для обучения модели - они создадут излишество при OHE, откорректируем наименования столбцов. Дубликаты в записях отсутствуют."
   ]
  },
  {
   "cell_type": "code",
   "execution_count": 6,
   "metadata": {},
   "outputs": [
    {
     "name": "stderr",
     "output_type": "stream",
     "text": [
      "/tmp/ipykernel_79/2842615330.py:1: FutureWarning: The default value of regex will change from True to False in a future version.\n",
      "  data.columns = data.columns.str.replace(r\"([A-Z])\", r\" \\1\")\n"
     ]
    }
   ],
   "source": [
    "data.columns = data.columns.str.replace(r\"([A-Z])\", r\" \\1\")"
   ]
  },
  {
   "cell_type": "code",
   "execution_count": 7,
   "metadata": {},
   "outputs": [
    {
     "data": {
      "text/plain": [
       "Index([' Row Number', ' Customer Id', ' Surname', ' Credit Score',\n",
       "       ' Geography', ' Gender', ' Age', ' Tenure', ' Balance',\n",
       "       ' Num Of Products', ' Has Cr Card', ' Is Active Member',\n",
       "       ' Estimated Salary', ' Exited'],\n",
       "      dtype='object')"
      ]
     },
     "execution_count": 7,
     "metadata": {},
     "output_type": "execute_result"
    }
   ],
   "source": [
    "data.columns"
   ]
  },
  {
   "cell_type": "code",
   "execution_count": 8,
   "metadata": {},
   "outputs": [],
   "source": [
    "data.columns = data.columns.str.lower().str.replace(' ', '_')"
   ]
  },
  {
   "cell_type": "code",
   "execution_count": 9,
   "metadata": {},
   "outputs": [
    {
     "data": {
      "text/plain": [
       "Index(['_row_number', '_customer_id', '_surname', '_credit_score',\n",
       "       '_geography', '_gender', '_age', '_tenure', '_balance',\n",
       "       '_num_of_products', '_has_cr_card', '_is_active_member',\n",
       "       '_estimated_salary', '_exited'],\n",
       "      dtype='object')"
      ]
     },
     "execution_count": 9,
     "metadata": {},
     "output_type": "execute_result"
    }
   ],
   "source": [
    "data.columns"
   ]
  },
  {
   "cell_type": "code",
   "execution_count": 10,
   "metadata": {},
   "outputs": [],
   "source": [
    "data.columns = data.columns.str[1:]"
   ]
  },
  {
   "cell_type": "code",
   "execution_count": 11,
   "metadata": {},
   "outputs": [
    {
     "data": {
      "text/plain": [
       "Index(['row_number', 'customer_id', 'surname', 'credit_score', 'geography',\n",
       "       'gender', 'age', 'tenure', 'balance', 'num_of_products', 'has_cr_card',\n",
       "       'is_active_member', 'estimated_salary', 'exited'],\n",
       "      dtype='object')"
      ]
     },
     "execution_count": 11,
     "metadata": {},
     "output_type": "execute_result"
    }
   ],
   "source": [
    "data.columns"
   ]
  },
  {
   "cell_type": "code",
   "execution_count": 12,
   "metadata": {},
   "outputs": [
    {
     "data": {
      "text/html": [
       "<div>\n",
       "<style scoped>\n",
       "    .dataframe tbody tr th:only-of-type {\n",
       "        vertical-align: middle;\n",
       "    }\n",
       "\n",
       "    .dataframe tbody tr th {\n",
       "        vertical-align: top;\n",
       "    }\n",
       "\n",
       "    .dataframe thead th {\n",
       "        text-align: right;\n",
       "    }\n",
       "</style>\n",
       "<table border=\"1\" class=\"dataframe\">\n",
       "  <thead>\n",
       "    <tr style=\"text-align: right;\">\n",
       "      <th></th>\n",
       "      <th>row_number</th>\n",
       "      <th>customer_id</th>\n",
       "      <th>surname</th>\n",
       "      <th>credit_score</th>\n",
       "      <th>geography</th>\n",
       "      <th>gender</th>\n",
       "      <th>age</th>\n",
       "      <th>tenure</th>\n",
       "      <th>balance</th>\n",
       "      <th>num_of_products</th>\n",
       "      <th>has_cr_card</th>\n",
       "      <th>is_active_member</th>\n",
       "      <th>estimated_salary</th>\n",
       "      <th>exited</th>\n",
       "    </tr>\n",
       "  </thead>\n",
       "  <tbody>\n",
       "    <tr>\n",
       "      <th>0</th>\n",
       "      <td>1</td>\n",
       "      <td>15634602</td>\n",
       "      <td>Hargrave</td>\n",
       "      <td>619</td>\n",
       "      <td>France</td>\n",
       "      <td>2</td>\n",
       "      <td>42</td>\n",
       "      <td>2.0</td>\n",
       "      <td>0.00</td>\n",
       "      <td>1</td>\n",
       "      <td>1</td>\n",
       "      <td>1</td>\n",
       "      <td>101348.88</td>\n",
       "      <td>1</td>\n",
       "    </tr>\n",
       "    <tr>\n",
       "      <th>1</th>\n",
       "      <td>2</td>\n",
       "      <td>15647311</td>\n",
       "      <td>Hill</td>\n",
       "      <td>608</td>\n",
       "      <td>Spain</td>\n",
       "      <td>2</td>\n",
       "      <td>41</td>\n",
       "      <td>1.0</td>\n",
       "      <td>83807.86</td>\n",
       "      <td>1</td>\n",
       "      <td>0</td>\n",
       "      <td>1</td>\n",
       "      <td>112542.58</td>\n",
       "      <td>0</td>\n",
       "    </tr>\n",
       "    <tr>\n",
       "      <th>2</th>\n",
       "      <td>3</td>\n",
       "      <td>15619304</td>\n",
       "      <td>Onio</td>\n",
       "      <td>502</td>\n",
       "      <td>France</td>\n",
       "      <td>2</td>\n",
       "      <td>42</td>\n",
       "      <td>8.0</td>\n",
       "      <td>159660.80</td>\n",
       "      <td>3</td>\n",
       "      <td>1</td>\n",
       "      <td>0</td>\n",
       "      <td>113931.57</td>\n",
       "      <td>1</td>\n",
       "    </tr>\n",
       "    <tr>\n",
       "      <th>3</th>\n",
       "      <td>4</td>\n",
       "      <td>15701354</td>\n",
       "      <td>Boni</td>\n",
       "      <td>699</td>\n",
       "      <td>France</td>\n",
       "      <td>2</td>\n",
       "      <td>39</td>\n",
       "      <td>1.0</td>\n",
       "      <td>0.00</td>\n",
       "      <td>2</td>\n",
       "      <td>0</td>\n",
       "      <td>0</td>\n",
       "      <td>93826.63</td>\n",
       "      <td>0</td>\n",
       "    </tr>\n",
       "    <tr>\n",
       "      <th>4</th>\n",
       "      <td>5</td>\n",
       "      <td>15737888</td>\n",
       "      <td>Mitchell</td>\n",
       "      <td>850</td>\n",
       "      <td>Spain</td>\n",
       "      <td>2</td>\n",
       "      <td>43</td>\n",
       "      <td>2.0</td>\n",
       "      <td>125510.82</td>\n",
       "      <td>1</td>\n",
       "      <td>1</td>\n",
       "      <td>1</td>\n",
       "      <td>79084.10</td>\n",
       "      <td>0</td>\n",
       "    </tr>\n",
       "    <tr>\n",
       "      <th>...</th>\n",
       "      <td>...</td>\n",
       "      <td>...</td>\n",
       "      <td>...</td>\n",
       "      <td>...</td>\n",
       "      <td>...</td>\n",
       "      <td>...</td>\n",
       "      <td>...</td>\n",
       "      <td>...</td>\n",
       "      <td>...</td>\n",
       "      <td>...</td>\n",
       "      <td>...</td>\n",
       "      <td>...</td>\n",
       "      <td>...</td>\n",
       "      <td>...</td>\n",
       "    </tr>\n",
       "    <tr>\n",
       "      <th>9995</th>\n",
       "      <td>9996</td>\n",
       "      <td>15606229</td>\n",
       "      <td>Obijiaku</td>\n",
       "      <td>771</td>\n",
       "      <td>France</td>\n",
       "      <td>1</td>\n",
       "      <td>39</td>\n",
       "      <td>5.0</td>\n",
       "      <td>0.00</td>\n",
       "      <td>2</td>\n",
       "      <td>1</td>\n",
       "      <td>0</td>\n",
       "      <td>96270.64</td>\n",
       "      <td>0</td>\n",
       "    </tr>\n",
       "    <tr>\n",
       "      <th>9996</th>\n",
       "      <td>9997</td>\n",
       "      <td>15569892</td>\n",
       "      <td>Johnstone</td>\n",
       "      <td>516</td>\n",
       "      <td>France</td>\n",
       "      <td>1</td>\n",
       "      <td>35</td>\n",
       "      <td>10.0</td>\n",
       "      <td>57369.61</td>\n",
       "      <td>1</td>\n",
       "      <td>1</td>\n",
       "      <td>1</td>\n",
       "      <td>101699.77</td>\n",
       "      <td>0</td>\n",
       "    </tr>\n",
       "    <tr>\n",
       "      <th>9997</th>\n",
       "      <td>9998</td>\n",
       "      <td>15584532</td>\n",
       "      <td>Liu</td>\n",
       "      <td>709</td>\n",
       "      <td>France</td>\n",
       "      <td>2</td>\n",
       "      <td>36</td>\n",
       "      <td>7.0</td>\n",
       "      <td>0.00</td>\n",
       "      <td>1</td>\n",
       "      <td>0</td>\n",
       "      <td>1</td>\n",
       "      <td>42085.58</td>\n",
       "      <td>1</td>\n",
       "    </tr>\n",
       "    <tr>\n",
       "      <th>9998</th>\n",
       "      <td>9999</td>\n",
       "      <td>15682355</td>\n",
       "      <td>Sabbatini</td>\n",
       "      <td>772</td>\n",
       "      <td>Germany</td>\n",
       "      <td>1</td>\n",
       "      <td>42</td>\n",
       "      <td>3.0</td>\n",
       "      <td>75075.31</td>\n",
       "      <td>2</td>\n",
       "      <td>1</td>\n",
       "      <td>0</td>\n",
       "      <td>92888.52</td>\n",
       "      <td>1</td>\n",
       "    </tr>\n",
       "    <tr>\n",
       "      <th>9999</th>\n",
       "      <td>10000</td>\n",
       "      <td>15628319</td>\n",
       "      <td>Walker</td>\n",
       "      <td>792</td>\n",
       "      <td>France</td>\n",
       "      <td>2</td>\n",
       "      <td>28</td>\n",
       "      <td>NaN</td>\n",
       "      <td>130142.79</td>\n",
       "      <td>1</td>\n",
       "      <td>1</td>\n",
       "      <td>0</td>\n",
       "      <td>38190.78</td>\n",
       "      <td>0</td>\n",
       "    </tr>\n",
       "  </tbody>\n",
       "</table>\n",
       "<p>10000 rows × 14 columns</p>\n",
       "</div>"
      ],
      "text/plain": [
       "      row_number  customer_id    surname  credit_score geography  gender  age  \\\n",
       "0              1     15634602   Hargrave           619    France       2   42   \n",
       "1              2     15647311       Hill           608     Spain       2   41   \n",
       "2              3     15619304       Onio           502    France       2   42   \n",
       "3              4     15701354       Boni           699    France       2   39   \n",
       "4              5     15737888   Mitchell           850     Spain       2   43   \n",
       "...          ...          ...        ...           ...       ...     ...  ...   \n",
       "9995        9996     15606229   Obijiaku           771    France       1   39   \n",
       "9996        9997     15569892  Johnstone           516    France       1   35   \n",
       "9997        9998     15584532        Liu           709    France       2   36   \n",
       "9998        9999     15682355  Sabbatini           772   Germany       1   42   \n",
       "9999       10000     15628319     Walker           792    France       2   28   \n",
       "\n",
       "      tenure    balance  num_of_products  has_cr_card  is_active_member  \\\n",
       "0        2.0       0.00                1            1                 1   \n",
       "1        1.0   83807.86                1            0                 1   \n",
       "2        8.0  159660.80                3            1                 0   \n",
       "3        1.0       0.00                2            0                 0   \n",
       "4        2.0  125510.82                1            1                 1   \n",
       "...      ...        ...              ...          ...               ...   \n",
       "9995     5.0       0.00                2            1                 0   \n",
       "9996    10.0   57369.61                1            1                 1   \n",
       "9997     7.0       0.00                1            0                 1   \n",
       "9998     3.0   75075.31                2            1                 0   \n",
       "9999     NaN  130142.79                1            1                 0   \n",
       "\n",
       "      estimated_salary  exited  \n",
       "0            101348.88       1  \n",
       "1            112542.58       0  \n",
       "2            113931.57       1  \n",
       "3             93826.63       0  \n",
       "4             79084.10       0  \n",
       "...                ...     ...  \n",
       "9995          96270.64       0  \n",
       "9996         101699.77       0  \n",
       "9997          42085.58       1  \n",
       "9998          92888.52       1  \n",
       "9999          38190.78       0  \n",
       "\n",
       "[10000 rows x 14 columns]"
      ]
     },
     "execution_count": 12,
     "metadata": {},
     "output_type": "execute_result"
    }
   ],
   "source": [
    "data"
   ]
  },
  {
   "cell_type": "code",
   "execution_count": 13,
   "metadata": {},
   "outputs": [
    {
     "name": "stdout",
     "output_type": "stream",
     "text": [
      "Явные дубликаты: 0\n"
     ]
    }
   ],
   "source": [
    "data.reset_index()\n",
    "data = data.drop(['surname', 'row_number', 'customer_id'], axis=1)\n",
    "data['geography'] = data['geography'].str.lower()\n",
    "\n",
    "#check\n",
    "print('Явные дубликаты:', data.duplicated().sum())\n",
    "\n",
    "#data = data.rename(\n",
    "#    columns={\n",
    "#    'creditscore': 'credit_score',\n",
    "#    'numofproducts': 'num_of_products',\n",
    "#    'hascrcard': 'has_cr_card',\n",
    "#    'isactivemember': 'is_active_member',\n",
    "#    'estimatedsalary': 'estimated_salary',\n",
    "#    }\n",
    "#    )"
   ]
  },
  {
   "cell_type": "code",
   "execution_count": 14,
   "metadata": {},
   "outputs": [
    {
     "data": {
      "text/html": [
       "<div>\n",
       "<style scoped>\n",
       "    .dataframe tbody tr th:only-of-type {\n",
       "        vertical-align: middle;\n",
       "    }\n",
       "\n",
       "    .dataframe tbody tr th {\n",
       "        vertical-align: top;\n",
       "    }\n",
       "\n",
       "    .dataframe thead th {\n",
       "        text-align: right;\n",
       "    }\n",
       "</style>\n",
       "<table border=\"1\" class=\"dataframe\">\n",
       "  <thead>\n",
       "    <tr style=\"text-align: right;\">\n",
       "      <th></th>\n",
       "      <th>credit_score</th>\n",
       "      <th>geography</th>\n",
       "      <th>gender</th>\n",
       "      <th>age</th>\n",
       "      <th>tenure</th>\n",
       "      <th>balance</th>\n",
       "      <th>num_of_products</th>\n",
       "      <th>has_cr_card</th>\n",
       "      <th>is_active_member</th>\n",
       "      <th>estimated_salary</th>\n",
       "      <th>exited</th>\n",
       "    </tr>\n",
       "  </thead>\n",
       "  <tbody>\n",
       "    <tr>\n",
       "      <th>0</th>\n",
       "      <td>619</td>\n",
       "      <td>france</td>\n",
       "      <td>2</td>\n",
       "      <td>42</td>\n",
       "      <td>2.0</td>\n",
       "      <td>0.00</td>\n",
       "      <td>1</td>\n",
       "      <td>1</td>\n",
       "      <td>1</td>\n",
       "      <td>101348.88</td>\n",
       "      <td>1</td>\n",
       "    </tr>\n",
       "    <tr>\n",
       "      <th>1</th>\n",
       "      <td>608</td>\n",
       "      <td>spain</td>\n",
       "      <td>2</td>\n",
       "      <td>41</td>\n",
       "      <td>1.0</td>\n",
       "      <td>83807.86</td>\n",
       "      <td>1</td>\n",
       "      <td>0</td>\n",
       "      <td>1</td>\n",
       "      <td>112542.58</td>\n",
       "      <td>0</td>\n",
       "    </tr>\n",
       "    <tr>\n",
       "      <th>2</th>\n",
       "      <td>502</td>\n",
       "      <td>france</td>\n",
       "      <td>2</td>\n",
       "      <td>42</td>\n",
       "      <td>8.0</td>\n",
       "      <td>159660.80</td>\n",
       "      <td>3</td>\n",
       "      <td>1</td>\n",
       "      <td>0</td>\n",
       "      <td>113931.57</td>\n",
       "      <td>1</td>\n",
       "    </tr>\n",
       "    <tr>\n",
       "      <th>3</th>\n",
       "      <td>699</td>\n",
       "      <td>france</td>\n",
       "      <td>2</td>\n",
       "      <td>39</td>\n",
       "      <td>1.0</td>\n",
       "      <td>0.00</td>\n",
       "      <td>2</td>\n",
       "      <td>0</td>\n",
       "      <td>0</td>\n",
       "      <td>93826.63</td>\n",
       "      <td>0</td>\n",
       "    </tr>\n",
       "    <tr>\n",
       "      <th>4</th>\n",
       "      <td>850</td>\n",
       "      <td>spain</td>\n",
       "      <td>2</td>\n",
       "      <td>43</td>\n",
       "      <td>2.0</td>\n",
       "      <td>125510.82</td>\n",
       "      <td>1</td>\n",
       "      <td>1</td>\n",
       "      <td>1</td>\n",
       "      <td>79084.10</td>\n",
       "      <td>0</td>\n",
       "    </tr>\n",
       "  </tbody>\n",
       "</table>\n",
       "</div>"
      ],
      "text/plain": [
       "   credit_score geography  gender  age  tenure    balance  num_of_products  \\\n",
       "0           619    france       2   42     2.0       0.00                1   \n",
       "1           608     spain       2   41     1.0   83807.86                1   \n",
       "2           502    france       2   42     8.0  159660.80                3   \n",
       "3           699    france       2   39     1.0       0.00                2   \n",
       "4           850     spain       2   43     2.0  125510.82                1   \n",
       "\n",
       "   has_cr_card  is_active_member  estimated_salary  exited  \n",
       "0            1                 1         101348.88       1  \n",
       "1            0                 1         112542.58       0  \n",
       "2            1                 0         113931.57       1  \n",
       "3            0                 0          93826.63       0  \n",
       "4            1                 1          79084.10       0  "
      ]
     },
     "execution_count": 14,
     "metadata": {},
     "output_type": "execute_result"
    }
   ],
   "source": [
    "data.head()"
   ]
  },
  {
   "cell_type": "markdown",
   "metadata": {},
   "source": [
    "Заполнение пропусков: сперва определим доли заполненных значений `tenure` в переменной `to_refill`. Далее - создаем список рандомных чисел из имеющихся в `tenure` и создаем список `to_refill_list` в аналогичных долях."
   ]
  },
  {
   "cell_type": "code",
   "execution_count": 15,
   "metadata": {},
   "outputs": [],
   "source": [
    "to_refill = data['tenure'].value_counts(normalize=True, ascending=True).sort_values()\n",
    "#to_refill\n",
    "to_refill_list = random.choices(\n",
    "                                population=to_refill.index,\n",
    "                                weights=to_refill,\n",
    "                                k=909)\n",
    "#display(to_refill_list.value_counts(normalize=True, ascending=True).sort_values())\n",
    "#print(len(to_refill_list))"
   ]
  },
  {
   "cell_type": "markdown",
   "metadata": {},
   "source": [
    "Присваиваем пропускам значения сгенерированного списка`to_refill_list`:"
   ]
  },
  {
   "cell_type": "code",
   "execution_count": 16,
   "metadata": {},
   "outputs": [
    {
     "name": "stdout",
     "output_type": "stream",
     "text": [
      "credit_score        0\n",
      "geography           0\n",
      "gender              0\n",
      "age                 0\n",
      "tenure              0\n",
      "balance             0\n",
      "num_of_products     0\n",
      "has_cr_card         0\n",
      "is_active_member    0\n",
      "estimated_salary    0\n",
      "exited              0\n",
      "dtype: int64\n"
     ]
    }
   ],
   "source": [
    "data.loc[data['tenure'].isna(), 'tenure'] = to_refill_list\n",
    "print(data.isna().sum())"
   ]
  },
  {
   "cell_type": "markdown",
   "metadata": {},
   "source": [
    "Корректировка типов данных:"
   ]
  },
  {
   "cell_type": "code",
   "execution_count": 17,
   "metadata": {
    "scrolled": false
   },
   "outputs": [
    {
     "data": {
      "text/html": [
       "<div>\n",
       "<style scoped>\n",
       "    .dataframe tbody tr th:only-of-type {\n",
       "        vertical-align: middle;\n",
       "    }\n",
       "\n",
       "    .dataframe tbody tr th {\n",
       "        vertical-align: top;\n",
       "    }\n",
       "\n",
       "    .dataframe thead th {\n",
       "        text-align: right;\n",
       "    }\n",
       "</style>\n",
       "<table border=\"1\" class=\"dataframe\">\n",
       "  <thead>\n",
       "    <tr style=\"text-align: right;\">\n",
       "      <th></th>\n",
       "      <th>credit_score</th>\n",
       "      <th>geography</th>\n",
       "      <th>gender</th>\n",
       "      <th>age</th>\n",
       "      <th>tenure</th>\n",
       "      <th>balance</th>\n",
       "      <th>num_of_products</th>\n",
       "      <th>has_cr_card</th>\n",
       "      <th>is_active_member</th>\n",
       "      <th>estimated_salary</th>\n",
       "      <th>exited</th>\n",
       "    </tr>\n",
       "  </thead>\n",
       "  <tbody>\n",
       "    <tr>\n",
       "      <th>0</th>\n",
       "      <td>619</td>\n",
       "      <td>france</td>\n",
       "      <td>2</td>\n",
       "      <td>42</td>\n",
       "      <td>2.0</td>\n",
       "      <td>0.00</td>\n",
       "      <td>1</td>\n",
       "      <td>1</td>\n",
       "      <td>1</td>\n",
       "      <td>101348.88</td>\n",
       "      <td>1</td>\n",
       "    </tr>\n",
       "    <tr>\n",
       "      <th>1</th>\n",
       "      <td>608</td>\n",
       "      <td>spain</td>\n",
       "      <td>2</td>\n",
       "      <td>41</td>\n",
       "      <td>1.0</td>\n",
       "      <td>83807.86</td>\n",
       "      <td>1</td>\n",
       "      <td>0</td>\n",
       "      <td>1</td>\n",
       "      <td>112542.58</td>\n",
       "      <td>0</td>\n",
       "    </tr>\n",
       "    <tr>\n",
       "      <th>2</th>\n",
       "      <td>502</td>\n",
       "      <td>france</td>\n",
       "      <td>2</td>\n",
       "      <td>42</td>\n",
       "      <td>8.0</td>\n",
       "      <td>159660.80</td>\n",
       "      <td>3</td>\n",
       "      <td>1</td>\n",
       "      <td>0</td>\n",
       "      <td>113931.57</td>\n",
       "      <td>1</td>\n",
       "    </tr>\n",
       "    <tr>\n",
       "      <th>3</th>\n",
       "      <td>699</td>\n",
       "      <td>france</td>\n",
       "      <td>2</td>\n",
       "      <td>39</td>\n",
       "      <td>1.0</td>\n",
       "      <td>0.00</td>\n",
       "      <td>2</td>\n",
       "      <td>0</td>\n",
       "      <td>0</td>\n",
       "      <td>93826.63</td>\n",
       "      <td>0</td>\n",
       "    </tr>\n",
       "    <tr>\n",
       "      <th>4</th>\n",
       "      <td>850</td>\n",
       "      <td>spain</td>\n",
       "      <td>2</td>\n",
       "      <td>43</td>\n",
       "      <td>2.0</td>\n",
       "      <td>125510.82</td>\n",
       "      <td>1</td>\n",
       "      <td>1</td>\n",
       "      <td>1</td>\n",
       "      <td>79084.10</td>\n",
       "      <td>0</td>\n",
       "    </tr>\n",
       "  </tbody>\n",
       "</table>\n",
       "</div>"
      ],
      "text/plain": [
       "   credit_score geography gender  age tenure    balance num_of_products  \\\n",
       "0           619    france      2   42    2.0       0.00               1   \n",
       "1           608     spain      2   41    1.0   83807.86               1   \n",
       "2           502    france      2   42    8.0  159660.80               3   \n",
       "3           699    france      2   39    1.0       0.00               2   \n",
       "4           850     spain      2   43    2.0  125510.82               1   \n",
       "\n",
       "  has_cr_card is_active_member  estimated_salary  exited  \n",
       "0           1                1         101348.88       1  \n",
       "1           0                1         112542.58       0  \n",
       "2           1                0         113931.57       1  \n",
       "3           0                0          93826.63       0  \n",
       "4           1                1          79084.10       0  "
      ]
     },
     "metadata": {},
     "output_type": "display_data"
    },
    {
     "name": "stdout",
     "output_type": "stream",
     "text": [
      "<class 'pandas.core.frame.DataFrame'>\n",
      "RangeIndex: 10000 entries, 0 to 9999\n",
      "Data columns (total 11 columns):\n",
      " #   Column            Non-Null Count  Dtype   \n",
      "---  ------            --------------  -----   \n",
      " 0   credit_score      10000 non-null  int64   \n",
      " 1   geography         10000 non-null  category\n",
      " 2   gender            10000 non-null  category\n",
      " 3   age               10000 non-null  uint16  \n",
      " 4   tenure            10000 non-null  category\n",
      " 5   balance           10000 non-null  float64 \n",
      " 6   num_of_products   10000 non-null  category\n",
      " 7   has_cr_card       10000 non-null  category\n",
      " 8   is_active_member  10000 non-null  category\n",
      " 9   estimated_salary  10000 non-null  float64 \n",
      " 10  exited            10000 non-null  int64   \n",
      "dtypes: category(6), float64(2), int64(2), uint16(1)\n",
      "memory usage: 392.0 KB\n"
     ]
    }
   ],
   "source": [
    "data['geography'] = data['geography'].astype('category')\n",
    "data['gender'] = data['gender'].astype('category')\n",
    "data['age'] = data['age'].astype('uint16')\n",
    "data['tenure'] = data['tenure'].astype('category')\n",
    "data['num_of_products'] = data['num_of_products'].astype('category')\n",
    "data['has_cr_card'] = data['has_cr_card'].astype('category')\n",
    "data['is_active_member'] = data['is_active_member'].astype('category')\n",
    "\n",
    "display(data.head())\n",
    "data.info(memory_usage='deep')"
   ]
  },
  {
   "cell_type": "code",
   "execution_count": 18,
   "metadata": {
    "scrolled": true
   },
   "outputs": [
    {
     "data": {
      "text/html": [
       "<style  type=\"text/css\" >\n",
       "</style><table id=\"T_5bca8_\" ><thead>    <tr>        <th class=\"blank level0\" ></th>        <th class=\"col_heading level0 col0\" >credit_score</th>        <th class=\"col_heading level0 col1\" >geography</th>        <th class=\"col_heading level0 col2\" >gender</th>        <th class=\"col_heading level0 col3\" >age</th>        <th class=\"col_heading level0 col4\" >tenure</th>        <th class=\"col_heading level0 col5\" >balance</th>        <th class=\"col_heading level0 col6\" >num_of_products</th>        <th class=\"col_heading level0 col7\" >has_cr_card</th>        <th class=\"col_heading level0 col8\" >is_active_member</th>        <th class=\"col_heading level0 col9\" >estimated_salary</th>        <th class=\"col_heading level0 col10\" >exited</th>    </tr></thead><tbody>\n",
       "                <tr>\n",
       "                        <th id=\"T_5bca8_level0_row0\" class=\"row_heading level0 row0\" >count</th>\n",
       "                        <td id=\"T_5bca8_row0_col0\" class=\"data row0 col0\" >10,000.00</td>\n",
       "                        <td id=\"T_5bca8_row0_col1\" class=\"data row0 col1\" >10,000.00</td>\n",
       "                        <td id=\"T_5bca8_row0_col2\" class=\"data row0 col2\" >10,000.00</td>\n",
       "                        <td id=\"T_5bca8_row0_col3\" class=\"data row0 col3\" >10,000.00</td>\n",
       "                        <td id=\"T_5bca8_row0_col4\" class=\"data row0 col4\" >10,000.00</td>\n",
       "                        <td id=\"T_5bca8_row0_col5\" class=\"data row0 col5\" >10,000.00</td>\n",
       "                        <td id=\"T_5bca8_row0_col6\" class=\"data row0 col6\" >10,000.00</td>\n",
       "                        <td id=\"T_5bca8_row0_col7\" class=\"data row0 col7\" >10,000.00</td>\n",
       "                        <td id=\"T_5bca8_row0_col8\" class=\"data row0 col8\" >10,000.00</td>\n",
       "                        <td id=\"T_5bca8_row0_col9\" class=\"data row0 col9\" >10,000.00</td>\n",
       "                        <td id=\"T_5bca8_row0_col10\" class=\"data row0 col10\" >10,000.00</td>\n",
       "            </tr>\n",
       "            <tr>\n",
       "                        <th id=\"T_5bca8_level0_row1\" class=\"row_heading level0 row1\" >min</th>\n",
       "                        <td id=\"T_5bca8_row1_col0\" class=\"data row1 col0\" >350.00</td>\n",
       "                        <td id=\"T_5bca8_row1_col1\" class=\"data row1 col1\" >nan</td>\n",
       "                        <td id=\"T_5bca8_row1_col2\" class=\"data row1 col2\" >nan</td>\n",
       "                        <td id=\"T_5bca8_row1_col3\" class=\"data row1 col3\" >18.00</td>\n",
       "                        <td id=\"T_5bca8_row1_col4\" class=\"data row1 col4\" >nan</td>\n",
       "                        <td id=\"T_5bca8_row1_col5\" class=\"data row1 col5\" >0.00</td>\n",
       "                        <td id=\"T_5bca8_row1_col6\" class=\"data row1 col6\" >nan</td>\n",
       "                        <td id=\"T_5bca8_row1_col7\" class=\"data row1 col7\" >nan</td>\n",
       "                        <td id=\"T_5bca8_row1_col8\" class=\"data row1 col8\" >nan</td>\n",
       "                        <td id=\"T_5bca8_row1_col9\" class=\"data row1 col9\" >11.58</td>\n",
       "                        <td id=\"T_5bca8_row1_col10\" class=\"data row1 col10\" >0.00</td>\n",
       "            </tr>\n",
       "            <tr>\n",
       "                        <th id=\"T_5bca8_level0_row2\" class=\"row_heading level0 row2\" >max</th>\n",
       "                        <td id=\"T_5bca8_row2_col0\" class=\"data row2 col0\" >850.00</td>\n",
       "                        <td id=\"T_5bca8_row2_col1\" class=\"data row2 col1\" >nan</td>\n",
       "                        <td id=\"T_5bca8_row2_col2\" class=\"data row2 col2\" >nan</td>\n",
       "                        <td id=\"T_5bca8_row2_col3\" class=\"data row2 col3\" >92.00</td>\n",
       "                        <td id=\"T_5bca8_row2_col4\" class=\"data row2 col4\" >nan</td>\n",
       "                        <td id=\"T_5bca8_row2_col5\" class=\"data row2 col5\" >250,898.09</td>\n",
       "                        <td id=\"T_5bca8_row2_col6\" class=\"data row2 col6\" >nan</td>\n",
       "                        <td id=\"T_5bca8_row2_col7\" class=\"data row2 col7\" >nan</td>\n",
       "                        <td id=\"T_5bca8_row2_col8\" class=\"data row2 col8\" >nan</td>\n",
       "                        <td id=\"T_5bca8_row2_col9\" class=\"data row2 col9\" >199,992.48</td>\n",
       "                        <td id=\"T_5bca8_row2_col10\" class=\"data row2 col10\" >1.00</td>\n",
       "            </tr>\n",
       "    </tbody></table>"
      ],
      "text/plain": [
       "<pandas.io.formats.style.Styler at 0x7f820d01ca90>"
      ]
     },
     "execution_count": 18,
     "metadata": {},
     "output_type": "execute_result"
    }
   ],
   "source": [
    "#check\n",
    "data.apply (['count', 'min', 'max']).style.format(\"{:,.2f}\")"
   ]
  },
  {
   "cell_type": "code",
   "execution_count": 19,
   "metadata": {},
   "outputs": [
    {
     "name": "stdout",
     "output_type": "stream",
     "text": [
      "[619 608 502 699 850 645 822 376 501 684 528 497 476 549 635 616 653 587\n",
      " 726 732 636 510 669 846 577 756 571 574 411 591 533 553 520 722 475 490\n",
      " 804 582 472 465 556 834 660 776 829 637 550 698 585 788 655 601 656 725\n",
      " 511 614 742 687 555 603 751 581 735 661 675 738 813 657 604 519 664 678\n",
      " 757 416 665 777 543 506 493 652 750 729 646 647 808 524 769 730 515 773\n",
      " 814 710 413 623 670 622 785 605 479 685 538 562 721 628 668 828 674 625\n",
      " 432 770 758 795 686 789 589 461 584 579 663 682 793 691 485 650 754 535\n",
      " 716 539 706 586 631 717 800 683 704 615 667 484 480 578 512 606 597 778\n",
      " 514 525 715 580 807 521 759 516 711 618 643 671 689 620 676 572 695 592\n",
      " 567 694 547 594 673 610 767 763 712 703 662 659 523 772 545 634 739 771\n",
      " 681 544 696 766 727 693 557 531 498 651 791 733 811 707 714 782 775 799\n",
      " 602 744 588 747 583 627 731 629 438 642 806 474 559 429 680 749 734 644\n",
      " 626 649 805 718 840 630 654 762 568 613 522 737 648 443 640 540 460 593\n",
      " 801 611 802 745 483 690 492 709 705 560 752 701 537 487 596 702 486 724\n",
      " 548 464 790 534 748 494 590 468 509 818 816 536 753 774 621 569 658 798\n",
      " 641 542 692 639 765 570 638 599 632 779 527 564 833 504 842 508 417 598\n",
      " 741 607 761 848 546 439 755 760 526 713 700 666 566 495 688 612 477 427\n",
      " 839 819 720 459 503 624 529 563 482 796 445 746 786 554 672 787 499 844\n",
      " 450 815 838 803 736 633 600 679 517 792 743 488 421 841 708 507 505 456\n",
      " 435 561 518 565 728 784 552 609 764 697 723 551 444 719 496 541 830 812\n",
      " 677 420 595 617 809 500 826 434 513 478 797 363 399 463 780 452 575 837\n",
      " 794 824 428 823 781 849 489 431 457 768 831 359 820 573 576 558 817 449\n",
      " 440 415 821 530 350 446 425 740 481 783 358 845 451 458 469 423 404 836\n",
      " 473 835 466 491 351 827 843 365 532 414 453 471 401 810 832 470 447 422\n",
      " 825 430 436 426 408 847 418 437 410 454 407 455 462 386 405 383 395 467\n",
      " 433 442 424 448 441 367 412 382 373 419]\n",
      "['france', 'spain', 'germany']\n",
      "Categories (3, object): ['france', 'spain', 'germany']\n",
      "[2, 1]\n",
      "Categories (2, int64): [2, 1]\n",
      "[42 41 39 43 44 50 29 27 31 24 34 25 35 45 58 32 38 46 36 33 40 51 61 49\n",
      " 37 19 66 56 26 21 55 75 22 30 28 65 48 52 57 73 47 54 72 20 67 79 62 53\n",
      " 80 59 68 23 60 70 63 64 18 82 69 74 71 76 77 88 85 84 78 81 92 83]\n",
      "[2.0, 1.0, 8.0, 7.0, 4.0, ..., 3.0, 10.0, 5.0, 9.0, 0.0]\n",
      "Length: 11\n",
      "Categories (11, float64): [2.0, 1.0, 8.0, 7.0, ..., 10.0, 5.0, 9.0, 0.0]\n",
      "[     0.    83807.86 159660.8  ...  57369.61  75075.31 130142.79]\n",
      "[1, 3, 2, 4]\n",
      "Categories (4, int64): [1, 3, 2, 4]\n",
      "[1, 0]\n",
      "Categories (2, int64): [1, 0]\n",
      "[1, 0]\n",
      "Categories (2, int64): [1, 0]\n",
      "[101348.88 112542.58 113931.57 ...  42085.58  92888.52  38190.78]\n",
      "[1 0]\n"
     ]
    },
    {
     "name": "stderr",
     "output_type": "stream",
     "text": [
      "/opt/conda/lib/python3.9/site-packages/pandas/io/formats/format.py:1405: FutureWarning: Index.ravel returning ndarray is deprecated; in a future version this will return a view on self.\n",
      "  for val, m in zip(values.ravel(), mask.ravel())\n",
      "/opt/conda/lib/python3.9/site-packages/pandas/io/formats/format.py:1405: FutureWarning: Index.ravel returning ndarray is deprecated; in a future version this will return a view on self.\n",
      "  for val, m in zip(values.ravel(), mask.ravel())\n"
     ]
    }
   ],
   "source": [
    "for i in data.columns:\n",
    "    print(data[i].unique())"
   ]
  },
  {
   "cell_type": "markdown",
   "metadata": {},
   "source": [
    "**Вывод:** \n",
    "1. Совершена предобработка данных: заполнены пропуски, откорректированы типы данных, отброшены нерелевантные столбцы. \n",
    "2. Пропуски в столбце `tenure` заполнены рандомно из диапазона существуюших значений в соответствующих пропорциях\n",
    "3. Объем требуемой памяти сократился с 2.6Мб до 400Кб."
   ]
  },
  {
   "cell_type": "markdown",
   "metadata": {},
   "source": [
    "## Исследование задачи"
   ]
  },
  {
   "cell_type": "markdown",
   "metadata": {},
   "source": [
    "### Выделим признаки `features`, цели `target`, поделим датасет на обучающую, валидационную и тестовую выборки. Категориальные признаки переведем в численные через dummy-признаки предварительно."
   ]
  },
  {
   "cell_type": "code",
   "execution_count": 20,
   "metadata": {},
   "outputs": [
    {
     "data": {
      "text/html": [
       "<div>\n",
       "<style scoped>\n",
       "    .dataframe tbody tr th:only-of-type {\n",
       "        vertical-align: middle;\n",
       "    }\n",
       "\n",
       "    .dataframe tbody tr th {\n",
       "        vertical-align: top;\n",
       "    }\n",
       "\n",
       "    .dataframe thead th {\n",
       "        text-align: right;\n",
       "    }\n",
       "</style>\n",
       "<table border=\"1\" class=\"dataframe\">\n",
       "  <thead>\n",
       "    <tr style=\"text-align: right;\">\n",
       "      <th></th>\n",
       "      <th>credit_score</th>\n",
       "      <th>age</th>\n",
       "      <th>balance</th>\n",
       "      <th>estimated_salary</th>\n",
       "      <th>exited</th>\n",
       "      <th>geography_germany</th>\n",
       "      <th>geography_spain</th>\n",
       "      <th>gender_2</th>\n",
       "      <th>tenure_1.0</th>\n",
       "      <th>tenure_2.0</th>\n",
       "      <th>...</th>\n",
       "      <th>tenure_6.0</th>\n",
       "      <th>tenure_7.0</th>\n",
       "      <th>tenure_8.0</th>\n",
       "      <th>tenure_9.0</th>\n",
       "      <th>tenure_10.0</th>\n",
       "      <th>num_of_products_2</th>\n",
       "      <th>num_of_products_3</th>\n",
       "      <th>num_of_products_4</th>\n",
       "      <th>has_cr_card_1</th>\n",
       "      <th>is_active_member_1</th>\n",
       "    </tr>\n",
       "  </thead>\n",
       "  <tbody>\n",
       "    <tr>\n",
       "      <th>0</th>\n",
       "      <td>619</td>\n",
       "      <td>42</td>\n",
       "      <td>0.00</td>\n",
       "      <td>101348.88</td>\n",
       "      <td>1</td>\n",
       "      <td>0</td>\n",
       "      <td>0</td>\n",
       "      <td>1</td>\n",
       "      <td>0</td>\n",
       "      <td>1</td>\n",
       "      <td>...</td>\n",
       "      <td>0</td>\n",
       "      <td>0</td>\n",
       "      <td>0</td>\n",
       "      <td>0</td>\n",
       "      <td>0</td>\n",
       "      <td>0</td>\n",
       "      <td>0</td>\n",
       "      <td>0</td>\n",
       "      <td>1</td>\n",
       "      <td>1</td>\n",
       "    </tr>\n",
       "    <tr>\n",
       "      <th>1</th>\n",
       "      <td>608</td>\n",
       "      <td>41</td>\n",
       "      <td>83807.86</td>\n",
       "      <td>112542.58</td>\n",
       "      <td>0</td>\n",
       "      <td>0</td>\n",
       "      <td>1</td>\n",
       "      <td>1</td>\n",
       "      <td>1</td>\n",
       "      <td>0</td>\n",
       "      <td>...</td>\n",
       "      <td>0</td>\n",
       "      <td>0</td>\n",
       "      <td>0</td>\n",
       "      <td>0</td>\n",
       "      <td>0</td>\n",
       "      <td>0</td>\n",
       "      <td>0</td>\n",
       "      <td>0</td>\n",
       "      <td>0</td>\n",
       "      <td>1</td>\n",
       "    </tr>\n",
       "    <tr>\n",
       "      <th>2</th>\n",
       "      <td>502</td>\n",
       "      <td>42</td>\n",
       "      <td>159660.80</td>\n",
       "      <td>113931.57</td>\n",
       "      <td>1</td>\n",
       "      <td>0</td>\n",
       "      <td>0</td>\n",
       "      <td>1</td>\n",
       "      <td>0</td>\n",
       "      <td>0</td>\n",
       "      <td>...</td>\n",
       "      <td>0</td>\n",
       "      <td>0</td>\n",
       "      <td>1</td>\n",
       "      <td>0</td>\n",
       "      <td>0</td>\n",
       "      <td>0</td>\n",
       "      <td>1</td>\n",
       "      <td>0</td>\n",
       "      <td>1</td>\n",
       "      <td>0</td>\n",
       "    </tr>\n",
       "    <tr>\n",
       "      <th>3</th>\n",
       "      <td>699</td>\n",
       "      <td>39</td>\n",
       "      <td>0.00</td>\n",
       "      <td>93826.63</td>\n",
       "      <td>0</td>\n",
       "      <td>0</td>\n",
       "      <td>0</td>\n",
       "      <td>1</td>\n",
       "      <td>1</td>\n",
       "      <td>0</td>\n",
       "      <td>...</td>\n",
       "      <td>0</td>\n",
       "      <td>0</td>\n",
       "      <td>0</td>\n",
       "      <td>0</td>\n",
       "      <td>0</td>\n",
       "      <td>1</td>\n",
       "      <td>0</td>\n",
       "      <td>0</td>\n",
       "      <td>0</td>\n",
       "      <td>0</td>\n",
       "    </tr>\n",
       "    <tr>\n",
       "      <th>4</th>\n",
       "      <td>850</td>\n",
       "      <td>43</td>\n",
       "      <td>125510.82</td>\n",
       "      <td>79084.10</td>\n",
       "      <td>0</td>\n",
       "      <td>0</td>\n",
       "      <td>1</td>\n",
       "      <td>1</td>\n",
       "      <td>0</td>\n",
       "      <td>1</td>\n",
       "      <td>...</td>\n",
       "      <td>0</td>\n",
       "      <td>0</td>\n",
       "      <td>0</td>\n",
       "      <td>0</td>\n",
       "      <td>0</td>\n",
       "      <td>0</td>\n",
       "      <td>0</td>\n",
       "      <td>0</td>\n",
       "      <td>1</td>\n",
       "      <td>1</td>\n",
       "    </tr>\n",
       "    <tr>\n",
       "      <th>5</th>\n",
       "      <td>645</td>\n",
       "      <td>44</td>\n",
       "      <td>113755.78</td>\n",
       "      <td>149756.71</td>\n",
       "      <td>1</td>\n",
       "      <td>0</td>\n",
       "      <td>1</td>\n",
       "      <td>0</td>\n",
       "      <td>0</td>\n",
       "      <td>0</td>\n",
       "      <td>...</td>\n",
       "      <td>0</td>\n",
       "      <td>0</td>\n",
       "      <td>1</td>\n",
       "      <td>0</td>\n",
       "      <td>0</td>\n",
       "      <td>1</td>\n",
       "      <td>0</td>\n",
       "      <td>0</td>\n",
       "      <td>1</td>\n",
       "      <td>0</td>\n",
       "    </tr>\n",
       "    <tr>\n",
       "      <th>6</th>\n",
       "      <td>822</td>\n",
       "      <td>50</td>\n",
       "      <td>0.00</td>\n",
       "      <td>10062.80</td>\n",
       "      <td>0</td>\n",
       "      <td>0</td>\n",
       "      <td>0</td>\n",
       "      <td>0</td>\n",
       "      <td>0</td>\n",
       "      <td>0</td>\n",
       "      <td>...</td>\n",
       "      <td>0</td>\n",
       "      <td>1</td>\n",
       "      <td>0</td>\n",
       "      <td>0</td>\n",
       "      <td>0</td>\n",
       "      <td>1</td>\n",
       "      <td>0</td>\n",
       "      <td>0</td>\n",
       "      <td>1</td>\n",
       "      <td>1</td>\n",
       "    </tr>\n",
       "    <tr>\n",
       "      <th>7</th>\n",
       "      <td>376</td>\n",
       "      <td>29</td>\n",
       "      <td>115046.74</td>\n",
       "      <td>119346.88</td>\n",
       "      <td>1</td>\n",
       "      <td>1</td>\n",
       "      <td>0</td>\n",
       "      <td>1</td>\n",
       "      <td>0</td>\n",
       "      <td>0</td>\n",
       "      <td>...</td>\n",
       "      <td>0</td>\n",
       "      <td>0</td>\n",
       "      <td>0</td>\n",
       "      <td>0</td>\n",
       "      <td>0</td>\n",
       "      <td>0</td>\n",
       "      <td>0</td>\n",
       "      <td>1</td>\n",
       "      <td>1</td>\n",
       "      <td>0</td>\n",
       "    </tr>\n",
       "    <tr>\n",
       "      <th>8</th>\n",
       "      <td>501</td>\n",
       "      <td>44</td>\n",
       "      <td>142051.07</td>\n",
       "      <td>74940.50</td>\n",
       "      <td>0</td>\n",
       "      <td>0</td>\n",
       "      <td>0</td>\n",
       "      <td>0</td>\n",
       "      <td>0</td>\n",
       "      <td>0</td>\n",
       "      <td>...</td>\n",
       "      <td>0</td>\n",
       "      <td>0</td>\n",
       "      <td>0</td>\n",
       "      <td>0</td>\n",
       "      <td>0</td>\n",
       "      <td>1</td>\n",
       "      <td>0</td>\n",
       "      <td>0</td>\n",
       "      <td>0</td>\n",
       "      <td>1</td>\n",
       "    </tr>\n",
       "    <tr>\n",
       "      <th>9</th>\n",
       "      <td>684</td>\n",
       "      <td>27</td>\n",
       "      <td>134603.88</td>\n",
       "      <td>71725.73</td>\n",
       "      <td>0</td>\n",
       "      <td>0</td>\n",
       "      <td>0</td>\n",
       "      <td>0</td>\n",
       "      <td>0</td>\n",
       "      <td>1</td>\n",
       "      <td>...</td>\n",
       "      <td>0</td>\n",
       "      <td>0</td>\n",
       "      <td>0</td>\n",
       "      <td>0</td>\n",
       "      <td>0</td>\n",
       "      <td>0</td>\n",
       "      <td>0</td>\n",
       "      <td>0</td>\n",
       "      <td>1</td>\n",
       "      <td>1</td>\n",
       "    </tr>\n",
       "  </tbody>\n",
       "</table>\n",
       "<p>10 rows × 23 columns</p>\n",
       "</div>"
      ],
      "text/plain": [
       "   credit_score  age    balance  estimated_salary  exited  geography_germany  \\\n",
       "0           619   42       0.00         101348.88       1                  0   \n",
       "1           608   41   83807.86         112542.58       0                  0   \n",
       "2           502   42  159660.80         113931.57       1                  0   \n",
       "3           699   39       0.00          93826.63       0                  0   \n",
       "4           850   43  125510.82          79084.10       0                  0   \n",
       "5           645   44  113755.78         149756.71       1                  0   \n",
       "6           822   50       0.00          10062.80       0                  0   \n",
       "7           376   29  115046.74         119346.88       1                  1   \n",
       "8           501   44  142051.07          74940.50       0                  0   \n",
       "9           684   27  134603.88          71725.73       0                  0   \n",
       "\n",
       "   geography_spain  gender_2  tenure_1.0  tenure_2.0  ...  tenure_6.0  \\\n",
       "0                0         1           0           1  ...           0   \n",
       "1                1         1           1           0  ...           0   \n",
       "2                0         1           0           0  ...           0   \n",
       "3                0         1           1           0  ...           0   \n",
       "4                1         1           0           1  ...           0   \n",
       "5                1         0           0           0  ...           0   \n",
       "6                0         0           0           0  ...           0   \n",
       "7                0         1           0           0  ...           0   \n",
       "8                0         0           0           0  ...           0   \n",
       "9                0         0           0           1  ...           0   \n",
       "\n",
       "   tenure_7.0  tenure_8.0  tenure_9.0  tenure_10.0  num_of_products_2  \\\n",
       "0           0           0           0            0                  0   \n",
       "1           0           0           0            0                  0   \n",
       "2           0           1           0            0                  0   \n",
       "3           0           0           0            0                  1   \n",
       "4           0           0           0            0                  0   \n",
       "5           0           1           0            0                  1   \n",
       "6           1           0           0            0                  1   \n",
       "7           0           0           0            0                  0   \n",
       "8           0           0           0            0                  1   \n",
       "9           0           0           0            0                  0   \n",
       "\n",
       "   num_of_products_3  num_of_products_4  has_cr_card_1  is_active_member_1  \n",
       "0                  0                  0              1                   1  \n",
       "1                  0                  0              0                   1  \n",
       "2                  1                  0              1                   0  \n",
       "3                  0                  0              0                   0  \n",
       "4                  0                  0              1                   1  \n",
       "5                  0                  0              1                   0  \n",
       "6                  0                  0              1                   1  \n",
       "7                  0                  1              1                   0  \n",
       "8                  0                  0              0                   1  \n",
       "9                  0                  0              1                   1  \n",
       "\n",
       "[10 rows x 23 columns]"
      ]
     },
     "metadata": {},
     "output_type": "display_data"
    }
   ],
   "source": [
    "data_ohe = pd.get_dummies(data, drop_first=True)\n",
    "#check\n",
    "display(data_ohe.head(10))"
   ]
  },
  {
   "cell_type": "code",
   "execution_count": 21,
   "metadata": {},
   "outputs": [],
   "source": [
    "features = data_ohe.drop('exited', axis=1 )\n",
    "target = data_ohe['exited']\n",
    "\n",
    "features_train, features_valid, target_train, target_valid = train_test_split(\n",
    "    features, target, test_size=0.4, random_state=433, stratify=target)\n",
    "features_valid, features_test, target_valid, target_test = train_test_split(\n",
    "    features_valid, target_valid, test_size=0.5, random_state=433, stratify=target_valid)"
   ]
  },
  {
   "cell_type": "code",
   "execution_count": 22,
   "metadata": {},
   "outputs": [
    {
     "name": "stdout",
     "output_type": "stream",
     "text": [
      "Размер тренировочной выборки признаков: (6000, 22)\n",
      "Размер проверочной выборки признаков: (2000, 22)\n",
      "Размер тестовой выборки цпризнаков: (2000, 22)\n"
     ]
    }
   ],
   "source": [
    "#check\n",
    "print('Размер тренировочной выборки признаков:', features_train.shape)\n",
    "print('Размер проверочной выборки признаков:', features_valid.shape)\n",
    "print('Размер тестовой выборки цпризнаков:', features_test.shape)"
   ]
  },
  {
   "cell_type": "code",
   "execution_count": 23,
   "metadata": {},
   "outputs": [
    {
     "name": "stdout",
     "output_type": "stream",
     "text": [
      "Размер тренировочной выборки целевого значения: (6000,)\n",
      "Размер проверочной выборки целевого значения: (2000,)\n",
      "Размер тестовой выборки целевого значения: (2000,)\n"
     ]
    }
   ],
   "source": [
    "#check\n",
    "print('Размер тренировочной выборки целевого значения:', target_train.shape)\n",
    "print('Размер проверочной выборки целевого значения:', target_valid.shape)\n",
    "print('Размер тестовой выборки целевого значения:', target_test.shape)"
   ]
  },
  {
   "cell_type": "code",
   "execution_count": 24,
   "metadata": {},
   "outputs": [],
   "source": [
    "numeric = ['balance', 'estimated_salary', 'age', 'credit_score']\n",
    "\n",
    "scaler = StandardScaler()\n",
    "scaler.fit(features_train[numeric])\n",
    "\n",
    "features_train[numeric] = scaler.transform(features_train[numeric])\n",
    "features_valid[numeric] = scaler.transform(features_valid[numeric])\n",
    "features_test[numeric] = scaler.transform(features_test[numeric])"
   ]
  },
  {
   "cell_type": "markdown",
   "metadata": {},
   "source": [
    "### Исследование без учета дисбаланса"
   ]
  },
  {
   "cell_type": "markdown",
   "metadata": {},
   "source": [
    "Исследуем логистическую регрессию:"
   ]
  },
  {
   "cell_type": "code",
   "execution_count": 25,
   "metadata": {
    "scrolled": true
   },
   "outputs": [
    {
     "name": "stdout",
     "output_type": "stream",
     "text": [
      "CPU times: user 41.9 ms, sys: 14.2 ms, total: 56.1 ms\n",
      "Wall time: 54.9 ms\n"
     ]
    }
   ],
   "source": [
    "%%time\n",
    "model_lr = LogisticRegression(solver='liblinear', random_state=433)\n",
    "model_lr.fit(features_train, target_train)\n",
    "predicted_lr = model_lr.predict(features_valid)\n",
    "f1_lr = f1_score(target_valid, predicted_lr)\n",
    "precision_lr = precision_score(target_valid, predicted_lr)\n",
    "recall_lr = recall_score(target_valid, predicted_lr)\n",
    "auc_roc_lr = roc_auc_score(target_valid, predicted_lr)"
   ]
  },
  {
   "cell_type": "code",
   "execution_count": 26,
   "metadata": {},
   "outputs": [
    {
     "name": "stdout",
     "output_type": "stream",
     "text": [
      "Несбалансированная LR, f1-мера: 0.48287112561174544\n",
      "Несбалансированная LR, точность: 0.7219512195121951\n",
      "Несбалансированная LR, полнота: 0.3627450980392157\n",
      "AUC-ROC LR: 0.6634705389693566\n"
     ]
    }
   ],
   "source": [
    "print('Несбалансированная LR, f1-мера:', f1_lr)\n",
    "print('Несбалансированная LR, точность:', precision_lr)\n",
    "print('Несбалансированная LR, полнота:', recall_lr)\n",
    "print('AUC-ROC LR:', auc_roc_lr)"
   ]
  },
  {
   "cell_type": "markdown",
   "metadata": {},
   "source": [
    "Исследуем Случайный лес. Цикл делаю только для max_depth, n-estim перебрал вручную с 20 до 100"
   ]
  },
  {
   "cell_type": "code",
   "execution_count": 27,
   "metadata": {
    "scrolled": false
   },
   "outputs": [
    {
     "name": "stderr",
     "output_type": "stream",
     "text": [
      "/opt/conda/lib/python3.9/site-packages/sklearn/metrics/_classification.py:1245: UndefinedMetricWarning: Precision is ill-defined and being set to 0.0 due to no predicted samples. Use `zero_division` parameter to control this behavior.\n",
      "  _warn_prf(average, modifier, msg_start, len(result))\n"
     ]
    },
    {
     "name": "stdout",
     "output_type": "stream",
     "text": [
      "CPU times: user 4.57 s, sys: 14.8 ms, total: 4.59 s\n",
      "Wall time: 4.61 s\n"
     ]
    }
   ],
   "source": [
    "%%time\n",
    "f1_rf1_best= 0\n",
    "best_depth = None\n",
    "for depth in range(1,15):\n",
    "    model_rf1 = RandomForestClassifier(n_estimators=80, random_state=433, max_depth=depth)\n",
    "    model_rf1.fit(features_train, target_train)\n",
    "    predicted_rf1 = model_rf1.predict(features_valid)\n",
    "    f1_rf1 = f1_score(target_valid, predicted_rf1)\n",
    "    precision_rf1 = precision_score(target_valid, predicted_rf1)\n",
    "    recall_rf1 = recall_score(target_valid, predicted_rf1)\n",
    "    roc_auc_rf1 = roc_auc_score(target_valid, predicted_rf1)\n",
    "    if f1_rf1 > f1_rf1_best:\n",
    "        f1_rf1_best = f1_rf1\n",
    "        best_depth = depth"
   ]
  },
  {
   "cell_type": "code",
   "execution_count": 28,
   "metadata": {},
   "outputs": [
    {
     "name": "stdout",
     "output_type": "stream",
     "text": [
      "Несбалансированный RF, глубина: 13\n",
      "Несбалансированный RF, f1-мера: 0.5520504731861198\n",
      "Несбалансированный RF, точность: 0.7743362831858407\n",
      "Несбалансированный RF, полнота: 0.42892156862745096\n",
      "Несбалансированный RF, AUC-ROC : 0.6984431963740271\n"
     ]
    }
   ],
   "source": [
    "print('Несбалансированный RF, глубина:', best_depth)\n",
    "print('Несбалансированный RF, f1-мера:', f1_rf1)\n",
    "print('Несбалансированный RF, точность:', precision_rf1)\n",
    "print('Несбалансированный RF, полнота:', recall_rf1)\n",
    "print('Несбалансированный RF, AUC-ROC :', roc_auc_rf1)"
   ]
  },
  {
   "cell_type": "markdown",
   "metadata": {},
   "source": [
    "**Вывод:** Обе модели показали низкие результаты при построении моделей без учета дисбаланса. LR имеет низкую f1-меру 0.48 за счет низкой полноты (0.36!) определения целевого признака. RF имеет низкую f1-меру 0.56 также за счет низкого значения полноты: модель определяет \"1\" с высокой точностью, но далеко не каждую. Проверим величину разбаланса целевых значений."
   ]
  },
  {
   "cell_type": "markdown",
   "metadata": {},
   "source": [
    "## Борьба с дисбалансом"
   ]
  },
  {
   "cell_type": "markdown",
   "metadata": {},
   "source": [
    "### Проверка баланса классов целевого признака:"
   ]
  },
  {
   "cell_type": "code",
   "execution_count": 29,
   "metadata": {},
   "outputs": [
    {
     "name": "stdout",
     "output_type": "stream",
     "text": [
      "0    0.7963\n",
      "1    0.2037\n",
      "Name: exited, dtype: float64\n"
     ]
    },
    {
     "data": {
      "image/png": "[encoded data removed]",
      "text/plain": [
       "<Figure size 720x360 with 1 Axes>"
      ]
     },
     "metadata": {
      "needs_background": "light"
     },
     "output_type": "display_data"
    }
   ],
   "source": [
    "class_frequency = data['exited'].value_counts(normalize=True)\n",
    "print(class_frequency)\n",
    "class_frequency.plot(\n",
    "    kind='bar', figsize=(10,5), grid=True, title='Доли отказавшихся (0) и оставшихся клиентов (1)', legend=True, );"
   ]
  },
  {
   "cell_type": "markdown",
   "metadata": {},
   "source": [
    "**Вывод:** Между значениями целевого признака наблюдается явный дисбаланс в отношении 1:4. Требуется балансировка"
   ]
  },
  {
   "cell_type": "markdown",
   "metadata": {},
   "source": [
    "### Балансировка"
   ]
  },
  {
   "cell_type": "code",
   "execution_count": 30,
   "metadata": {},
   "outputs": [
    {
     "data": {
      "text/plain": [
       "(10888, 22)"
      ]
     },
     "execution_count": 30,
     "metadata": {},
     "output_type": "execute_result"
    }
   ],
   "source": [
    "def upsample(features, target, repeat):\n",
    "    features_zeros = features[target == 0]\n",
    "    features_ones = features[target == 1]\n",
    "    target_zeros = target[target == 0]\n",
    "    target_ones = target[target == 1]\n",
    "    features_upsampled = pd.concat([features_zeros] + [features_ones] * repeat)\n",
    "    target_upsampled = pd.concat([target_zeros] + [target_ones] * repeat)\n",
    "    features_upsampled, target_upsampled = shuffle(features_upsampled, target_upsampled, random_state=433)\n",
    "    return features_upsampled, target_upsampled\n",
    "\n",
    "features_upsampled, target_upsampled = upsample(features_train, target_train, 5)\n",
    "features_upsampled.shape"
   ]
  },
  {
   "cell_type": "markdown",
   "metadata": {},
   "source": [
    "### Проверка значения целевой метрики после балансировки классов:"
   ]
  },
  {
   "cell_type": "markdown",
   "metadata": {},
   "source": [
    "Проверим модель Логистической регресии при балансировке классов встроенным методом:"
   ]
  },
  {
   "cell_type": "code",
   "execution_count": 31,
   "metadata": {},
   "outputs": [
    {
     "name": "stdout",
     "output_type": "stream",
     "text": [
      "F1-мера для логистической регрессии после балансировки встроенным методом: 0.5416666666666667\n"
     ]
    }
   ],
   "source": [
    "model_lr_balanced_1 = LogisticRegression(random_state = 433, solver = 'liblinear', class_weight='balanced')\n",
    "model_lr_balanced_1.fit(features_train, target_train)\n",
    "\n",
    "predicted_lr_balanced_1 = model_lr_balanced_1.predict(features_valid)\n",
    "\n",
    "print(\"F1-мера для логистической регрессии после балансировки встроенным методом:\", \\\n",
    "      f1_score(target_valid, predicted_lr_balanced_1))"
   ]
  },
  {
   "cell_type": "markdown",
   "metadata": {},
   "source": [
    "Проверим модель Логистической регресии после балансировки классов:"
   ]
  },
  {
   "cell_type": "code",
   "execution_count": 32,
   "metadata": {
    "scrolled": true
   },
   "outputs": [
    {
     "name": "stdout",
     "output_type": "stream",
     "text": [
      "F1-мера для логистической регрессии после балансировки: 0.540796963946869\n"
     ]
    }
   ],
   "source": [
    "model_lr_balanced_2 = LogisticRegression(random_state = 12345, solver = 'liblinear', class_weight='balanced')\n",
    "model_lr_balanced_2.fit(features_upsampled, target_upsampled)\n",
    "\n",
    "predicted_lr_balanced_2 = model_lr_balanced_2.predict(features_valid)\n",
    "\n",
    "print(\"F1-мера для логистической регрессии после балансировки:\", f1_score(target_valid, predicted_lr_balanced_2))"
   ]
  },
  {
   "cell_type": "code",
   "execution_count": 33,
   "metadata": {},
   "outputs": [
    {
     "name": "stdout",
     "output_type": "stream",
     "text": [
      "F1-мера для случайного леса после балансировки: 0.5951557093425606\n"
     ]
    }
   ],
   "source": [
    "model_rf_2 = RandomForestClassifier(n_estimators=60, random_state=433, max_depth=14)\n",
    "model_rf_2.fit(features_upsampled, target_upsampled)\n",
    "predicted_rf_balanced = model_rf_2.predict(features_valid)\n",
    "\n",
    "precision_rf2 = precision_score(target_valid, predicted_rf_balanced)\n",
    "recall_rf2 = recall_score(target_valid, predicted_rf_balanced)\n",
    "roc_auc_rf2 = roc_auc_score(target_valid, predicted_rf_balanced)\n",
    "\n",
    "print(\"F1-мера для случайного леса после балансировки:\", f1_score(target_valid, predicted_rf_balanced))"
   ]
  },
  {
   "cell_type": "markdown",
   "metadata": {},
   "source": [
    "**Вывод:** Модель линейной регрессии после балансировки классов обоими методами показала низкое значение F1-меры < 0.59. Для дальнейшего исследования выбираем модель RF со значением f1-меры 0.61"
   ]
  },
  {
   "cell_type": "markdown",
   "metadata": {},
   "source": [
    "## Тестирование модели RF после балансировки значений датасета на тестовой выборке:"
   ]
  },
  {
   "cell_type": "markdown",
   "metadata": {},
   "source": [
    "Исследуем влияние параметры определения границы присвоения целевого признака `threshold`:"
   ]
  },
  {
   "cell_type": "markdown",
   "metadata": {},
   "source": [
    "Для тестирования модели RF с выбранными параметрами объединим выборки, предварительно проведя балансировку валидационной выборки:"
   ]
  },
  {
   "cell_type": "code",
   "execution_count": 34,
   "metadata": {},
   "outputs": [
    {
     "name": "stdout",
     "output_type": "stream",
     "text": [
      "(14520, 22)\n",
      "(14520,)\n"
     ]
    }
   ],
   "source": [
    "features_upsampled_valid, target_upsampled_valid = upsample(features_valid, target_valid, 5)\n",
    "\n",
    "features_concat = pd.concat([features_upsampled, features_upsampled_valid])\n",
    "target_concat = pd.concat([target_upsampled, target_upsampled_valid])\n",
    "\n",
    "#check\n",
    "print(features_concat.shape)\n",
    "print(target_concat.shape)"
   ]
  },
  {
   "cell_type": "markdown",
   "metadata": {},
   "source": [
    "Обучим модель на валидационной + тренировочной выборке (для большего числа примеров). "
   ]
  },
  {
   "cell_type": "code",
   "execution_count": 35,
   "metadata": {},
   "outputs": [],
   "source": [
    "model_rf_concat = RandomForestClassifier(n_estimators=80, random_state=433, max_depth=14)\n",
    "model_rf_concat.fit(features_concat, target_concat)\n",
    "predicted_rf_concat = model_rf_concat.predict(features_test)\n",
    "\n",
    "f1_concat =  f1_score(target_test, predicted_rf_concat)\n",
    "roc_auc_concat =   roc_auc_score(target_test, predicted_rf_concat)"
   ]
  },
  {
   "cell_type": "code",
   "execution_count": 36,
   "metadata": {},
   "outputs": [
    {
     "name": "stdout",
     "output_type": "stream",
     "text": [
      "0.6195899772209567\n",
      "0.7716915683017378\n"
     ]
    }
   ],
   "source": [
    "print(f1_concat)\n",
    "print(roc_auc_concat)"
   ]
  },
  {
   "cell_type": "markdown",
   "metadata": {},
   "source": [
    "Проверим влияние смещения порога приняния решения:"
   ]
  },
  {
   "cell_type": "code",
   "execution_count": 37,
   "metadata": {},
   "outputs": [
    {
     "name": "stdout",
     "output_type": "stream",
     "text": [
      "F1 = 0.47 | Порог = 0.20 | Точность = 0.311, Полнота = 0.953\n",
      "F1 = 0.50 | Порог = 0.24 | Точность = 0.341, Полнота = 0.931\n",
      "F1 = 0.53 | Порог = 0.28 | Точность = 0.373, Полнота = 0.887\n",
      "F1 = 0.56 | Порог = 0.32 | Точность = 0.410, Полнота = 0.860\n",
      "F1 = 0.58 | Порог = 0.36 | Точность = 0.448, Полнота = 0.811\n",
      "F1 = 0.60 | Порог = 0.40 | Точность = 0.490, Полнота = 0.769\n",
      "F1 = 0.60 | Порог = 0.44 | Точность = 0.520, Полнота = 0.715\n",
      "F1 = 0.62 | Порог = 0.48 | Точность = 0.560, Полнота = 0.688\n",
      "F1 = 0.61 | Порог = 0.52 | Точность = 0.582, Полнота = 0.651\n",
      "F1 = 0.61 | Порог = 0.56 | Точность = 0.606, Полнота = 0.609\n",
      "F1 = 0.60 | Порог = 0.60 | Точность = 0.638, Полнота = 0.563\n",
      "F1 = 0.59 | Порог = 0.64 | Точность = 0.669, Полнота = 0.526\n",
      "F1 = 0.57 | Порог = 0.68 | Точность = 0.703, Полнота = 0.477\n",
      "F1 = 0.53 | Порог = 0.72 | Точность = 0.748, Полнота = 0.415\n",
      "F1 = 0.49 | Порог = 0.76 | Точность = 0.799, Полнота = 0.351\n",
      "F1 = 0.43 | Порог = 0.80 | Точность = 0.853, Полнота = 0.285\n"
     ]
    }
   ],
   "source": [
    "probabilities = model_rf_concat.predict_proba(features_test)\n",
    "probabilities_one = probabilities[:, 1]\n",
    "\n",
    "for threshold in np.arange(0.2, 0.8, 0.04):\n",
    "    predicted_rf_concat_2 = probabilities_one > threshold\n",
    "    f1_concat_2 = f1_score(target_test, predicted_rf_concat_2)\n",
    "    precision_concat_2 = precision_score(target_test, predicted_rf_concat_2)\n",
    "    recall_concat_2 = recall_score(target_test, predicted_rf_concat_2)\n",
    "    print(\"F1 = {:.2f} | Порог = {:.2f} | Точность = {:.3f}, Полнота = {:.3f}\".format(\n",
    "        f1_concat_2, threshold, precision_concat_2, recall_concat_2))"
   ]
  },
  {
   "cell_type": "markdown",
   "metadata": {},
   "source": [
    "Построим график зависимости точности `precision` и полноты `recall` от смещения границы `threshold`:"
   ]
  },
  {
   "cell_type": "code",
   "execution_count": 38,
   "metadata": {},
   "outputs": [
    {
     "data": {
      "image/png": "[encoded data removed]",
      "text/plain": [
       "<Figure size 432x432 with 1 Axes>"
      ]
     },
     "metadata": {
      "needs_background": "light"
     },
     "output_type": "display_data"
    }
   ],
   "source": [
    "precision, recall, thresholds = precision_recall_curve(target_test, probabilities_one)\n",
    "\n",
    "plt.figure(figsize=(6, 6))\n",
    "plt.step(recall, precision, where='post')\n",
    "plt.xlabel('Recall')\n",
    "plt.ylabel('Precision')\n",
    "plt.ylim([0.0, 1.05])\n",
    "plt.xlim([0.0, 1.0])\n",
    "plt.title('Кривая Precision-Recall')\n",
    "plt.show() "
   ]
  },
  {
   "cell_type": "code",
   "execution_count": 39,
   "metadata": {},
   "outputs": [
    {
     "name": "stdout",
     "output_type": "stream",
     "text": [
      "0.863519914367372\n"
     ]
    },
    {
     "data": {
      "image/png": "[encoded data removed]",
      "text/plain": [
       "<Figure size 432x288 with 1 Axes>"
      ]
     },
     "metadata": {
      "needs_background": "light"
     },
     "output_type": "display_data"
    }
   ],
   "source": [
    "auc_roc = roc_auc_score(target_test, probabilities_one)\n",
    "print(auc_roc)\n",
    "\n",
    "fpr, tpr, thresholds = roc_curve(target_test, probabilities_one)\n",
    "plt.figure()\n",
    "plt.plot(fpr, tpr);\n",
    "plt.xlim([0.0, 1.0])\n",
    "plt.ylim([0.0, 1.0])\n",
    "plt.xlabel('False Positive Rate')\n",
    "plt.ylabel('True Positive Rate')\n",
    "plt.title('ROC-кривая')\n",
    "plt.plot([0, 1], [0, 1], linestyle='--');"
   ]
  },
  {
   "cell_type": "code",
   "execution_count": 40,
   "metadata": {},
   "outputs": [
    {
     "name": "stdout",
     "output_type": "stream",
     "text": [
      "0.3384564260197724\n"
     ]
    }
   ],
   "source": [
    "#проверка адекватности модели\n",
    "target_pred_constant = [1 for i in range(len(target))]\n",
    "target_pred_constant = pd.Series(target_pred_constant)\n",
    "\n",
    "print(f1_score(target, target_pred_constant))"
   ]
  },
  {
   "cell_type": "markdown",
   "metadata": {},
   "source": [
    "**Вывод:** \n",
    "1. В ходе исследования произведена предобработка датасета. В результате предобработки заполнены пропущенные значения столбца `tenure`, сокращен объем использованной памяти с 2.6Mb до 0.4Mb.\n",
    "2. Для исследования выбрана модель RF в связи с более высоким показателем значения f1-меры после балансировки целевого значения `target`. После балансировки, подбора параметров RF f1-меры доведена до значения 0.61. Сдвиг границы принятия решения `threshold` о присвоении класса 1 до значения 0.48 позволяет поднять значение f1-меры до значения 0.62\n",
    "3. ROC-кривая находятся значительно выше прямой случайно модели: модель высокого качества с хорошим предсказанием TPR при низком значении FPR.\n",
    "4. Кривая precision_recall модели RF находится высоко в верхней части графика, что говорит о высокой точности построенной модели.\n",
    "5. Модель прошла проверку на адекватность: ее показатель f1-мера превышает примитивную модель."
   ]
  }
 ],
 "metadata": {
  "ExecuteTimeLog": [
   {
    "duration": 78,
    "start_time": "2022-09-14T06:20:22.992Z"
   },
   {
    "duration": 120,
    "start_time": "2022-09-14T06:22:04.719Z"
   },
   {
    "duration": 1441,
    "start_time": "2022-09-14T06:22:08.838Z"
   },
   {
    "duration": 62,
    "start_time": "2022-09-14T06:22:26.946Z"
   },
   {
    "duration": 66,
    "start_time": "2022-09-14T06:22:45.517Z"
   },
   {
    "duration": 160,
    "start_time": "2022-09-14T06:22:52.046Z"
   },
   {
    "duration": 58,
    "start_time": "2022-09-14T06:22:59.344Z"
   },
   {
    "duration": 54,
    "start_time": "2022-09-14T06:23:21.439Z"
   },
   {
    "duration": 54,
    "start_time": "2022-09-14T06:23:27.048Z"
   },
   {
    "duration": 66,
    "start_time": "2022-09-14T06:24:59.895Z"
   },
   {
    "duration": 83,
    "start_time": "2022-09-14T06:25:09.360Z"
   },
   {
    "duration": 74,
    "start_time": "2022-09-14T06:30:50.885Z"
   },
   {
    "duration": 1118,
    "start_time": "2022-09-14T06:33:12.815Z"
   },
   {
    "duration": 81,
    "start_time": "2022-09-14T06:33:30.970Z"
   },
   {
    "duration": 1460,
    "start_time": "2022-09-14T06:33:38.759Z"
   },
   {
    "duration": 1233,
    "start_time": "2022-09-14T06:34:04.168Z"
   },
   {
    "duration": 1251,
    "start_time": "2022-09-14T06:34:15.464Z"
   },
   {
    "duration": 1274,
    "start_time": "2022-09-14T06:34:22.500Z"
   },
   {
    "duration": 58,
    "start_time": "2022-09-14T06:34:44.356Z"
   },
   {
    "duration": 82,
    "start_time": "2022-09-14T06:34:52.408Z"
   },
   {
    "duration": 88,
    "start_time": "2022-09-14T06:35:00.090Z"
   },
   {
    "duration": 66,
    "start_time": "2022-09-14T07:24:50.820Z"
   },
   {
    "duration": 17,
    "start_time": "2022-09-14T07:25:27.582Z"
   },
   {
    "duration": 22,
    "start_time": "2022-09-14T07:25:36.681Z"
   },
   {
    "duration": 14,
    "start_time": "2022-09-14T07:26:30.705Z"
   },
   {
    "duration": 13,
    "start_time": "2022-09-14T07:26:34.027Z"
   },
   {
    "duration": 1119,
    "start_time": "2022-09-14T07:26:50.956Z"
   },
   {
    "duration": 77,
    "start_time": "2022-09-14T07:26:52.077Z"
   },
   {
    "duration": 21,
    "start_time": "2022-09-14T07:26:52.156Z"
   },
   {
    "duration": 964,
    "start_time": "2022-09-14T07:26:52.179Z"
   },
   {
    "duration": 216,
    "start_time": "2022-09-14T07:30:03.409Z"
   },
   {
    "duration": 104,
    "start_time": "2022-09-14T07:32:13.803Z"
   },
   {
    "duration": 17,
    "start_time": "2022-09-14T07:32:18.116Z"
   },
   {
    "duration": 1131,
    "start_time": "2022-09-14T07:32:25.790Z"
   },
   {
    "duration": 74,
    "start_time": "2022-09-14T07:32:26.923Z"
   },
   {
    "duration": 26,
    "start_time": "2022-09-14T07:32:27.001Z"
   },
   {
    "duration": 1126,
    "start_time": "2022-09-14T07:32:27.029Z"
   },
   {
    "duration": 26,
    "start_time": "2022-09-14T07:33:48.902Z"
   },
   {
    "duration": 1145,
    "start_time": "2022-09-14T07:33:55.207Z"
   },
   {
    "duration": 79,
    "start_time": "2022-09-14T07:33:56.354Z"
   },
   {
    "duration": 122,
    "start_time": "2022-09-14T07:33:56.435Z"
   },
   {
    "duration": 0,
    "start_time": "2022-09-14T07:33:56.559Z"
   },
   {
    "duration": 1105,
    "start_time": "2022-09-14T07:34:18.462Z"
   },
   {
    "duration": 72,
    "start_time": "2022-09-14T07:34:19.569Z"
   },
   {
    "duration": 114,
    "start_time": "2022-09-14T07:34:19.642Z"
   },
   {
    "duration": 0,
    "start_time": "2022-09-14T07:34:19.758Z"
   },
   {
    "duration": 29,
    "start_time": "2022-09-14T07:34:37.315Z"
   },
   {
    "duration": 15,
    "start_time": "2022-09-14T07:34:59.870Z"
   },
   {
    "duration": 1139,
    "start_time": "2022-09-14T07:35:05.120Z"
   },
   {
    "duration": 75,
    "start_time": "2022-09-14T07:35:06.261Z"
   },
   {
    "duration": 27,
    "start_time": "2022-09-14T07:35:06.337Z"
   },
   {
    "duration": 1122,
    "start_time": "2022-09-14T07:35:06.366Z"
   },
   {
    "duration": 3,
    "start_time": "2022-09-14T07:35:53.043Z"
   },
   {
    "duration": 1337,
    "start_time": "2022-09-14T07:51:26.538Z"
   },
   {
    "duration": 21,
    "start_time": "2022-09-14T07:53:36.283Z"
   },
   {
    "duration": 16,
    "start_time": "2022-09-14T07:53:52.311Z"
   },
   {
    "duration": 1228,
    "start_time": "2022-09-14T08:05:38.735Z"
   },
   {
    "duration": 82,
    "start_time": "2022-09-14T08:05:39.965Z"
   },
   {
    "duration": 23,
    "start_time": "2022-09-14T08:05:40.048Z"
   },
   {
    "duration": 50,
    "start_time": "2022-09-14T08:05:40.073Z"
   },
   {
    "duration": 1561,
    "start_time": "2022-09-14T08:05:40.125Z"
   },
   {
    "duration": 23,
    "start_time": "2022-09-14T08:06:25.969Z"
   },
   {
    "duration": 30,
    "start_time": "2022-09-14T08:07:13.707Z"
   },
   {
    "duration": 498,
    "start_time": "2022-09-14T08:27:55.377Z"
   },
   {
    "duration": 1159,
    "start_time": "2022-09-14T08:28:54.562Z"
   },
   {
    "duration": 78,
    "start_time": "2022-09-14T08:28:55.723Z"
   },
   {
    "duration": 26,
    "start_time": "2022-09-14T08:28:55.802Z"
   },
   {
    "duration": 30,
    "start_time": "2022-09-14T08:28:55.830Z"
   },
   {
    "duration": 332,
    "start_time": "2022-09-14T08:28:55.861Z"
   },
   {
    "duration": 1096,
    "start_time": "2022-09-14T08:28:56.195Z"
   },
   {
    "duration": 96,
    "start_time": "2022-09-14T08:31:33.121Z"
   },
   {
    "duration": 17,
    "start_time": "2022-09-14T08:38:13.585Z"
   },
   {
    "duration": 22,
    "start_time": "2022-09-14T08:38:20.613Z"
   },
   {
    "duration": 22,
    "start_time": "2022-09-14T08:38:57.415Z"
   },
   {
    "duration": 1135,
    "start_time": "2022-09-14T08:39:05.209Z"
   },
   {
    "duration": 394,
    "start_time": "2022-09-14T08:39:06.346Z"
   },
   {
    "duration": 1209,
    "start_time": "2022-09-14T08:39:06.742Z"
   },
   {
    "duration": 0,
    "start_time": "2022-09-14T08:39:07.953Z"
   },
   {
    "duration": 0,
    "start_time": "2022-09-14T08:39:07.954Z"
   },
   {
    "duration": 0,
    "start_time": "2022-09-14T08:39:07.955Z"
   },
   {
    "duration": 20,
    "start_time": "2022-09-14T08:39:42.019Z"
   },
   {
    "duration": 1185,
    "start_time": "2022-09-14T08:40:00.109Z"
   },
   {
    "duration": 415,
    "start_time": "2022-09-14T08:40:01.296Z"
   },
   {
    "duration": 133,
    "start_time": "2022-09-14T08:40:01.713Z"
   },
   {
    "duration": 0,
    "start_time": "2022-09-14T08:40:01.848Z"
   },
   {
    "duration": 0,
    "start_time": "2022-09-14T08:40:01.849Z"
   },
   {
    "duration": 0,
    "start_time": "2022-09-14T08:40:01.851Z"
   },
   {
    "duration": 1698,
    "start_time": "2022-09-14T08:40:56.348Z"
   },
   {
    "duration": 787,
    "start_time": "2022-09-14T08:40:58.049Z"
   },
   {
    "duration": 111,
    "start_time": "2022-09-14T08:40:58.837Z"
   },
   {
    "duration": 0,
    "start_time": "2022-09-14T08:40:58.950Z"
   },
   {
    "duration": 0,
    "start_time": "2022-09-14T08:40:58.952Z"
   },
   {
    "duration": 0,
    "start_time": "2022-09-14T08:40:58.953Z"
   },
   {
    "duration": 1381,
    "start_time": "2022-09-14T08:41:16.996Z"
   },
   {
    "duration": 681,
    "start_time": "2022-09-14T08:41:18.379Z"
   },
   {
    "duration": 170,
    "start_time": "2022-09-14T08:41:19.063Z"
   },
   {
    "duration": 0,
    "start_time": "2022-09-14T08:41:19.235Z"
   },
   {
    "duration": 0,
    "start_time": "2022-09-14T08:41:19.236Z"
   },
   {
    "duration": 0,
    "start_time": "2022-09-14T08:41:19.238Z"
   },
   {
    "duration": 22,
    "start_time": "2022-09-14T08:41:30.698Z"
   },
   {
    "duration": 1145,
    "start_time": "2022-09-14T08:41:37.142Z"
   },
   {
    "duration": 393,
    "start_time": "2022-09-14T08:41:38.289Z"
   },
   {
    "duration": 126,
    "start_time": "2022-09-14T08:41:38.684Z"
   },
   {
    "duration": 0,
    "start_time": "2022-09-14T08:41:38.812Z"
   },
   {
    "duration": 0,
    "start_time": "2022-09-14T08:41:38.814Z"
   },
   {
    "duration": 0,
    "start_time": "2022-09-14T08:41:38.820Z"
   },
   {
    "duration": 18,
    "start_time": "2022-09-14T08:42:24.335Z"
   },
   {
    "duration": 1230,
    "start_time": "2022-09-14T08:42:29.979Z"
   },
   {
    "duration": 424,
    "start_time": "2022-09-14T08:42:31.211Z"
   },
   {
    "duration": 152,
    "start_time": "2022-09-14T08:42:31.637Z"
   },
   {
    "duration": 0,
    "start_time": "2022-09-14T08:42:31.791Z"
   },
   {
    "duration": 0,
    "start_time": "2022-09-14T08:42:31.792Z"
   },
   {
    "duration": 0,
    "start_time": "2022-09-14T08:42:31.793Z"
   },
   {
    "duration": 21,
    "start_time": "2022-09-14T08:42:53.954Z"
   },
   {
    "duration": 17,
    "start_time": "2022-09-14T08:43:07.700Z"
   },
   {
    "duration": 16,
    "start_time": "2022-09-14T08:43:13.000Z"
   },
   {
    "duration": 15,
    "start_time": "2022-09-14T08:43:46.951Z"
   },
   {
    "duration": 24,
    "start_time": "2022-09-14T08:44:08.722Z"
   },
   {
    "duration": 1141,
    "start_time": "2022-09-14T08:44:40.631Z"
   },
   {
    "duration": 422,
    "start_time": "2022-09-14T08:44:41.775Z"
   },
   {
    "duration": 29,
    "start_time": "2022-09-14T08:44:42.199Z"
   },
   {
    "duration": 43,
    "start_time": "2022-09-14T08:44:42.231Z"
   },
   {
    "duration": 18,
    "start_time": "2022-09-14T08:44:42.276Z"
   },
   {
    "duration": 1387,
    "start_time": "2022-09-14T08:44:42.296Z"
   },
   {
    "duration": 64,
    "start_time": "2022-09-14T08:45:44.883Z"
   },
   {
    "duration": 16,
    "start_time": "2022-09-14T08:46:02.339Z"
   },
   {
    "duration": 8,
    "start_time": "2022-09-14T08:47:14.752Z"
   },
   {
    "duration": 3,
    "start_time": "2022-09-14T09:09:40.130Z"
   },
   {
    "duration": 19,
    "start_time": "2022-09-14T09:13:39.008Z"
   },
   {
    "duration": 26,
    "start_time": "2022-09-14T09:13:47.652Z"
   },
   {
    "duration": 1198,
    "start_time": "2022-09-14T09:14:10.834Z"
   },
   {
    "duration": 428,
    "start_time": "2022-09-14T09:14:12.034Z"
   },
   {
    "duration": 21,
    "start_time": "2022-09-14T09:14:12.467Z"
   },
   {
    "duration": 75,
    "start_time": "2022-09-14T09:14:12.490Z"
   },
   {
    "duration": 0,
    "start_time": "2022-09-14T09:14:12.567Z"
   },
   {
    "duration": 0,
    "start_time": "2022-09-14T09:14:12.568Z"
   },
   {
    "duration": 0,
    "start_time": "2022-09-14T09:14:12.570Z"
   },
   {
    "duration": 0,
    "start_time": "2022-09-14T09:14:12.572Z"
   },
   {
    "duration": 1154,
    "start_time": "2022-09-14T09:14:27.053Z"
   },
   {
    "duration": 419,
    "start_time": "2022-09-14T09:14:28.209Z"
   },
   {
    "duration": 21,
    "start_time": "2022-09-14T09:14:28.630Z"
   },
   {
    "duration": 457,
    "start_time": "2022-09-14T09:14:28.653Z"
   },
   {
    "duration": 0,
    "start_time": "2022-09-14T09:14:29.112Z"
   },
   {
    "duration": 0,
    "start_time": "2022-09-14T09:14:29.113Z"
   },
   {
    "duration": 0,
    "start_time": "2022-09-14T09:14:29.115Z"
   },
   {
    "duration": 0,
    "start_time": "2022-09-14T09:14:29.116Z"
   },
   {
    "duration": 266,
    "start_time": "2022-09-14T09:16:21.066Z"
   },
   {
    "duration": 45,
    "start_time": "2022-09-14T09:17:22.523Z"
   },
   {
    "duration": 290,
    "start_time": "2022-09-14T09:17:28.089Z"
   },
   {
    "duration": 271,
    "start_time": "2022-09-14T09:29:41.606Z"
   },
   {
    "duration": 324,
    "start_time": "2022-09-14T09:29:57.235Z"
   },
   {
    "duration": 62,
    "start_time": "2022-09-14T09:30:22.649Z"
   },
   {
    "duration": 82,
    "start_time": "2022-09-14T09:30:31.938Z"
   },
   {
    "duration": 20,
    "start_time": "2022-09-14T09:51:01.766Z"
   },
   {
    "duration": 12,
    "start_time": "2022-09-14T09:51:51.239Z"
   },
   {
    "duration": 321,
    "start_time": "2022-09-14T09:52:09.690Z"
   },
   {
    "duration": 610,
    "start_time": "2022-09-14T09:53:44.193Z"
   },
   {
    "duration": 284,
    "start_time": "2022-09-14T09:57:29.403Z"
   },
   {
    "duration": 1169,
    "start_time": "2022-09-14T10:01:00.146Z"
   },
   {
    "duration": 419,
    "start_time": "2022-09-14T10:01:01.317Z"
   },
   {
    "duration": 22,
    "start_time": "2022-09-14T10:01:01.739Z"
   },
   {
    "duration": 424,
    "start_time": "2022-09-14T10:01:01.763Z"
   },
   {
    "duration": 0,
    "start_time": "2022-09-14T10:01:02.190Z"
   },
   {
    "duration": 0,
    "start_time": "2022-09-14T10:01:02.192Z"
   },
   {
    "duration": 0,
    "start_time": "2022-09-14T10:01:02.194Z"
   },
   {
    "duration": 0,
    "start_time": "2022-09-14T10:01:02.196Z"
   },
   {
    "duration": 56,
    "start_time": "2022-09-14T10:01:36.676Z"
   },
   {
    "duration": 520,
    "start_time": "2022-09-14T10:01:45.592Z"
   },
   {
    "duration": 49,
    "start_time": "2022-09-14T10:03:06.544Z"
   },
   {
    "duration": 1209,
    "start_time": "2022-09-14T10:03:20.682Z"
   },
   {
    "duration": 464,
    "start_time": "2022-09-14T10:03:21.893Z"
   },
   {
    "duration": 22,
    "start_time": "2022-09-14T10:03:22.359Z"
   },
   {
    "duration": 63,
    "start_time": "2022-09-14T10:03:22.383Z"
   },
   {
    "duration": 821,
    "start_time": "2022-09-14T10:03:22.447Z"
   },
   {
    "duration": 0,
    "start_time": "2022-09-14T10:03:23.270Z"
   },
   {
    "duration": 0,
    "start_time": "2022-09-14T10:03:23.272Z"
   },
   {
    "duration": 0,
    "start_time": "2022-09-14T10:03:23.273Z"
   },
   {
    "duration": 1054,
    "start_time": "2022-09-15T19:15:51.252Z"
   },
   {
    "duration": 682,
    "start_time": "2022-09-15T19:15:52.308Z"
   },
   {
    "duration": 31,
    "start_time": "2022-09-15T19:15:52.992Z"
   },
   {
    "duration": 439,
    "start_time": "2022-09-15T19:15:53.025Z"
   },
   {
    "duration": 0,
    "start_time": "2022-09-15T19:15:53.466Z"
   },
   {
    "duration": 0,
    "start_time": "2022-09-15T19:15:53.467Z"
   },
   {
    "duration": 0,
    "start_time": "2022-09-15T19:15:53.468Z"
   },
   {
    "duration": 0,
    "start_time": "2022-09-15T19:15:53.470Z"
   },
   {
    "duration": 2,
    "start_time": "2022-09-15T19:16:22.496Z"
   },
   {
    "duration": 32,
    "start_time": "2022-09-15T19:16:23.680Z"
   },
   {
    "duration": 22,
    "start_time": "2022-09-15T19:16:29.403Z"
   },
   {
    "duration": 11,
    "start_time": "2022-09-15T19:16:31.071Z"
   },
   {
    "duration": 27,
    "start_time": "2022-09-15T19:16:45.820Z"
   },
   {
    "duration": 25,
    "start_time": "2022-09-15T19:16:53.656Z"
   },
   {
    "duration": 15,
    "start_time": "2022-09-15T19:17:46.668Z"
   },
   {
    "duration": 27,
    "start_time": "2022-09-15T19:24:00.449Z"
   },
   {
    "duration": 8,
    "start_time": "2022-09-15T19:25:32.153Z"
   },
   {
    "duration": 1090,
    "start_time": "2022-09-15T19:25:41.238Z"
   },
   {
    "duration": 359,
    "start_time": "2022-09-15T19:25:42.330Z"
   },
   {
    "duration": 30,
    "start_time": "2022-09-15T19:25:42.690Z"
   },
   {
    "duration": 2,
    "start_time": "2022-09-15T19:25:42.723Z"
   },
   {
    "duration": 29,
    "start_time": "2022-09-15T19:25:42.727Z"
   },
   {
    "duration": 20,
    "start_time": "2022-09-15T19:25:42.758Z"
   },
   {
    "duration": 39,
    "start_time": "2022-09-15T19:25:42.779Z"
   },
   {
    "duration": 46,
    "start_time": "2022-09-15T19:25:42.819Z"
   },
   {
    "duration": 105,
    "start_time": "2022-09-15T19:25:42.867Z"
   },
   {
    "duration": 0,
    "start_time": "2022-09-15T19:25:42.974Z"
   },
   {
    "duration": 1075,
    "start_time": "2022-09-15T19:26:02.473Z"
   },
   {
    "duration": 398,
    "start_time": "2022-09-15T19:26:03.550Z"
   },
   {
    "duration": 25,
    "start_time": "2022-09-15T19:26:03.949Z"
   },
   {
    "duration": 2,
    "start_time": "2022-09-15T19:26:03.977Z"
   },
   {
    "duration": 41,
    "start_time": "2022-09-15T19:26:03.981Z"
   },
   {
    "duration": 14,
    "start_time": "2022-09-15T19:26:04.024Z"
   },
   {
    "duration": 9,
    "start_time": "2022-09-15T19:26:04.039Z"
   },
   {
    "duration": 25,
    "start_time": "2022-09-15T19:26:04.050Z"
   },
   {
    "duration": 147,
    "start_time": "2022-09-15T19:26:04.076Z"
   },
   {
    "duration": 0,
    "start_time": "2022-09-15T19:26:04.224Z"
   },
   {
    "duration": 129,
    "start_time": "2022-09-15T19:28:53.024Z"
   },
   {
    "duration": 119,
    "start_time": "2022-09-15T19:29:12.021Z"
   },
   {
    "duration": 140,
    "start_time": "2022-09-15T19:29:17.725Z"
   },
   {
    "duration": 118,
    "start_time": "2022-09-15T19:29:28.525Z"
   },
   {
    "duration": 13,
    "start_time": "2022-09-15T19:31:38.142Z"
   },
   {
    "duration": 82,
    "start_time": "2022-09-15T19:32:04.921Z"
   },
   {
    "duration": 86,
    "start_time": "2022-09-15T19:32:08.878Z"
   },
   {
    "duration": 208,
    "start_time": "2022-09-15T19:32:16.825Z"
   },
   {
    "duration": 124,
    "start_time": "2022-09-15T19:32:39.849Z"
   },
   {
    "duration": 130,
    "start_time": "2022-09-15T19:32:44.302Z"
   },
   {
    "duration": 136,
    "start_time": "2022-09-15T19:32:47.941Z"
   },
   {
    "duration": 143,
    "start_time": "2022-09-15T19:33:08.779Z"
   },
   {
    "duration": 116,
    "start_time": "2022-09-15T19:34:38.867Z"
   },
   {
    "duration": 114,
    "start_time": "2022-09-15T19:34:41.723Z"
   },
   {
    "duration": 90,
    "start_time": "2022-09-15T19:34:44.631Z"
   },
   {
    "duration": 131,
    "start_time": "2022-09-15T19:34:51.419Z"
   },
   {
    "duration": 158,
    "start_time": "2022-09-15T19:34:55.963Z"
   },
   {
    "duration": 139,
    "start_time": "2022-09-15T19:35:09.757Z"
   },
   {
    "duration": 12,
    "start_time": "2022-09-15T19:35:23.036Z"
   },
   {
    "duration": 143,
    "start_time": "2022-09-15T19:35:29.159Z"
   },
   {
    "duration": 8,
    "start_time": "2022-09-15T19:51:33.794Z"
   },
   {
    "duration": 24,
    "start_time": "2022-09-15T19:51:37.450Z"
   },
   {
    "duration": 12,
    "start_time": "2022-09-15T19:51:37.876Z"
   },
   {
    "duration": 1105,
    "start_time": "2022-09-15T19:52:12.920Z"
   },
   {
    "duration": 397,
    "start_time": "2022-09-15T19:52:14.027Z"
   },
   {
    "duration": 25,
    "start_time": "2022-09-15T19:52:14.426Z"
   },
   {
    "duration": 3,
    "start_time": "2022-09-15T19:52:14.454Z"
   },
   {
    "duration": 28,
    "start_time": "2022-09-15T19:52:14.458Z"
   },
   {
    "duration": 32,
    "start_time": "2022-09-15T19:52:14.488Z"
   },
   {
    "duration": 14,
    "start_time": "2022-09-15T19:52:14.523Z"
   },
   {
    "duration": 26,
    "start_time": "2022-09-15T19:52:14.539Z"
   },
   {
    "duration": 180,
    "start_time": "2022-09-15T19:52:14.567Z"
   },
   {
    "duration": 18,
    "start_time": "2022-09-15T19:52:14.749Z"
   },
   {
    "duration": 6,
    "start_time": "2022-09-15T19:52:14.769Z"
   },
   {
    "duration": 151,
    "start_time": "2022-09-15T19:52:14.776Z"
   },
   {
    "duration": 0,
    "start_time": "2022-09-15T19:52:14.929Z"
   },
   {
    "duration": 0,
    "start_time": "2022-09-15T19:52:14.930Z"
   },
   {
    "duration": 119,
    "start_time": "2022-09-15T19:55:20.628Z"
   },
   {
    "duration": 140,
    "start_time": "2022-09-15T19:57:29.060Z"
   },
   {
    "duration": 145,
    "start_time": "2022-09-15T19:57:52.756Z"
   },
   {
    "duration": 218,
    "start_time": "2022-09-15T19:58:26.854Z"
   },
   {
    "duration": 133,
    "start_time": "2022-09-15T19:58:37.234Z"
   },
   {
    "duration": 167,
    "start_time": "2022-09-15T19:58:42.155Z"
   },
   {
    "duration": 147,
    "start_time": "2022-09-15T19:58:49.039Z"
   },
   {
    "duration": 115,
    "start_time": "2022-09-15T19:59:24.621Z"
   },
   {
    "duration": 15,
    "start_time": "2022-09-15T20:00:42.146Z"
   },
   {
    "duration": 20,
    "start_time": "2022-09-15T20:01:16.122Z"
   },
   {
    "duration": 1107,
    "start_time": "2022-09-15T20:02:03.615Z"
   },
   {
    "duration": 399,
    "start_time": "2022-09-15T20:02:04.723Z"
   },
   {
    "duration": 20,
    "start_time": "2022-09-15T20:02:05.123Z"
   },
   {
    "duration": 2,
    "start_time": "2022-09-15T20:02:05.145Z"
   },
   {
    "duration": 29,
    "start_time": "2022-09-15T20:02:05.148Z"
   },
   {
    "duration": 43,
    "start_time": "2022-09-15T20:02:05.179Z"
   },
   {
    "duration": 11,
    "start_time": "2022-09-15T20:02:05.223Z"
   },
   {
    "duration": 25,
    "start_time": "2022-09-15T20:02:05.235Z"
   },
   {
    "duration": 167,
    "start_time": "2022-09-15T20:02:05.261Z"
   },
   {
    "duration": 17,
    "start_time": "2022-09-15T20:02:05.430Z"
   },
   {
    "duration": 141,
    "start_time": "2022-09-15T20:02:05.448Z"
   },
   {
    "duration": 0,
    "start_time": "2022-09-15T20:02:05.591Z"
   },
   {
    "duration": 0,
    "start_time": "2022-09-15T20:02:05.592Z"
   },
   {
    "duration": 0,
    "start_time": "2022-09-15T20:02:05.592Z"
   },
   {
    "duration": 7,
    "start_time": "2022-09-15T20:23:20.341Z"
   },
   {
    "duration": 11,
    "start_time": "2022-09-15T20:26:28.073Z"
   },
   {
    "duration": 1095,
    "start_time": "2022-09-15T20:26:40.431Z"
   },
   {
    "duration": 408,
    "start_time": "2022-09-15T20:26:41.528Z"
   },
   {
    "duration": 21,
    "start_time": "2022-09-15T20:26:41.937Z"
   },
   {
    "duration": 9,
    "start_time": "2022-09-15T20:26:41.960Z"
   },
   {
    "duration": 121,
    "start_time": "2022-09-15T20:26:41.970Z"
   },
   {
    "duration": 0,
    "start_time": "2022-09-15T20:26:42.092Z"
   },
   {
    "duration": 0,
    "start_time": "2022-09-15T20:26:42.093Z"
   },
   {
    "duration": 0,
    "start_time": "2022-09-15T20:26:42.095Z"
   },
   {
    "duration": 0,
    "start_time": "2022-09-15T20:26:42.096Z"
   },
   {
    "duration": 0,
    "start_time": "2022-09-15T20:26:42.097Z"
   },
   {
    "duration": 1,
    "start_time": "2022-09-15T20:26:42.097Z"
   },
   {
    "duration": 0,
    "start_time": "2022-09-15T20:26:42.106Z"
   },
   {
    "duration": 0,
    "start_time": "2022-09-15T20:26:42.107Z"
   },
   {
    "duration": 0,
    "start_time": "2022-09-15T20:26:42.107Z"
   },
   {
    "duration": 0,
    "start_time": "2022-09-15T20:26:42.108Z"
   },
   {
    "duration": 11,
    "start_time": "2022-09-15T20:30:05.265Z"
   },
   {
    "duration": 20,
    "start_time": "2022-09-15T20:30:26.693Z"
   },
   {
    "duration": 12,
    "start_time": "2022-09-15T20:30:35.768Z"
   },
   {
    "duration": 3,
    "start_time": "2022-09-15T20:30:39.086Z"
   },
   {
    "duration": 5,
    "start_time": "2022-09-15T20:30:44.048Z"
   },
   {
    "duration": 5,
    "start_time": "2022-09-15T20:31:02.362Z"
   },
   {
    "duration": 6,
    "start_time": "2022-09-15T20:31:06.219Z"
   },
   {
    "duration": 7,
    "start_time": "2022-09-15T20:31:37.565Z"
   },
   {
    "duration": 4,
    "start_time": "2022-09-15T20:31:39.020Z"
   },
   {
    "duration": 5,
    "start_time": "2022-09-15T20:31:40.964Z"
   },
   {
    "duration": 4,
    "start_time": "2022-09-15T20:31:41.864Z"
   },
   {
    "duration": 6,
    "start_time": "2022-09-15T20:31:50.282Z"
   },
   {
    "duration": 5,
    "start_time": "2022-09-15T20:31:51.285Z"
   },
   {
    "duration": 6,
    "start_time": "2022-09-15T20:31:52.920Z"
   },
   {
    "duration": 5,
    "start_time": "2022-09-15T20:31:53.885Z"
   },
   {
    "duration": 13,
    "start_time": "2022-09-15T20:41:03.743Z"
   },
   {
    "duration": 10,
    "start_time": "2022-09-15T20:41:16.187Z"
   },
   {
    "duration": 17,
    "start_time": "2022-09-15T20:42:26.705Z"
   },
   {
    "duration": 8,
    "start_time": "2022-09-15T20:43:06.935Z"
   },
   {
    "duration": 18,
    "start_time": "2022-09-15T20:43:14.331Z"
   },
   {
    "duration": 6,
    "start_time": "2022-09-15T20:44:46.378Z"
   },
   {
    "duration": 9,
    "start_time": "2022-09-15T20:45:42.277Z"
   },
   {
    "duration": 6,
    "start_time": "2022-09-15T20:45:48.031Z"
   },
   {
    "duration": 7,
    "start_time": "2022-09-15T20:46:11.228Z"
   },
   {
    "duration": 7,
    "start_time": "2022-09-15T20:46:11.688Z"
   },
   {
    "duration": 7,
    "start_time": "2022-09-15T20:46:12.222Z"
   },
   {
    "duration": 1057,
    "start_time": "2022-09-15T20:48:45.389Z"
   },
   {
    "duration": 372,
    "start_time": "2022-09-15T20:48:46.448Z"
   },
   {
    "duration": 28,
    "start_time": "2022-09-15T20:48:46.823Z"
   },
   {
    "duration": 8,
    "start_time": "2022-09-15T20:48:46.854Z"
   },
   {
    "duration": 6,
    "start_time": "2022-09-15T20:48:46.864Z"
   },
   {
    "duration": 9,
    "start_time": "2022-09-15T20:48:46.872Z"
   },
   {
    "duration": 142,
    "start_time": "2022-09-15T20:48:46.882Z"
   },
   {
    "duration": 0,
    "start_time": "2022-09-15T20:48:47.025Z"
   },
   {
    "duration": 1,
    "start_time": "2022-09-15T20:48:47.026Z"
   },
   {
    "duration": 0,
    "start_time": "2022-09-15T20:48:47.028Z"
   },
   {
    "duration": 0,
    "start_time": "2022-09-15T20:48:47.028Z"
   },
   {
    "duration": 0,
    "start_time": "2022-09-15T20:48:47.029Z"
   },
   {
    "duration": 0,
    "start_time": "2022-09-15T20:48:47.030Z"
   },
   {
    "duration": 0,
    "start_time": "2022-09-15T20:48:47.031Z"
   },
   {
    "duration": 0,
    "start_time": "2022-09-15T20:48:47.032Z"
   },
   {
    "duration": 0,
    "start_time": "2022-09-15T20:48:47.032Z"
   },
   {
    "duration": 6,
    "start_time": "2022-09-15T20:50:02.381Z"
   },
   {
    "duration": 6,
    "start_time": "2022-09-15T20:50:05.235Z"
   },
   {
    "duration": 11,
    "start_time": "2022-09-15T20:50:05.800Z"
   },
   {
    "duration": 8,
    "start_time": "2022-09-15T20:50:22.890Z"
   },
   {
    "duration": 6,
    "start_time": "2022-09-15T20:50:29.736Z"
   },
   {
    "duration": 14,
    "start_time": "2022-09-15T20:51:48.014Z"
   },
   {
    "duration": 7,
    "start_time": "2022-09-15T20:52:07.832Z"
   },
   {
    "duration": 6,
    "start_time": "2022-09-15T20:52:08.974Z"
   },
   {
    "duration": 11,
    "start_time": "2022-09-15T20:52:15.304Z"
   },
   {
    "duration": 8,
    "start_time": "2022-09-15T20:52:42.333Z"
   },
   {
    "duration": 7,
    "start_time": "2022-09-15T20:52:42.739Z"
   },
   {
    "duration": 12,
    "start_time": "2022-09-15T20:52:43.127Z"
   },
   {
    "duration": 13,
    "start_time": "2022-09-15T20:55:03.498Z"
   },
   {
    "duration": 13,
    "start_time": "2022-09-15T20:59:23.556Z"
   },
   {
    "duration": 1430,
    "start_time": "2022-09-15T20:59:38.256Z"
   },
   {
    "duration": 6,
    "start_time": "2022-09-15T21:00:12.781Z"
   },
   {
    "duration": 24,
    "start_time": "2022-09-15T21:00:19.163Z"
   },
   {
    "duration": 12,
    "start_time": "2022-09-15T21:05:40.082Z"
   },
   {
    "duration": 9,
    "start_time": "2022-09-15T21:06:12.071Z"
   },
   {
    "duration": 4,
    "start_time": "2022-09-15T21:12:23.135Z"
   },
   {
    "duration": 11,
    "start_time": "2022-09-15T21:12:28.237Z"
   },
   {
    "duration": 6,
    "start_time": "2022-09-15T21:12:33.396Z"
   },
   {
    "duration": 1127,
    "start_time": "2022-09-15T21:16:58.200Z"
   },
   {
    "duration": 379,
    "start_time": "2022-09-15T21:16:59.329Z"
   },
   {
    "duration": 34,
    "start_time": "2022-09-15T21:16:59.709Z"
   },
   {
    "duration": 7,
    "start_time": "2022-09-15T21:16:59.744Z"
   },
   {
    "duration": 7,
    "start_time": "2022-09-15T21:16:59.753Z"
   },
   {
    "duration": 116,
    "start_time": "2022-09-15T21:16:59.761Z"
   },
   {
    "duration": 0,
    "start_time": "2022-09-15T21:16:59.879Z"
   },
   {
    "duration": 0,
    "start_time": "2022-09-15T21:16:59.880Z"
   },
   {
    "duration": 0,
    "start_time": "2022-09-15T21:16:59.881Z"
   },
   {
    "duration": 0,
    "start_time": "2022-09-15T21:16:59.882Z"
   },
   {
    "duration": 0,
    "start_time": "2022-09-15T21:16:59.883Z"
   },
   {
    "duration": 0,
    "start_time": "2022-09-15T21:16:59.884Z"
   },
   {
    "duration": 0,
    "start_time": "2022-09-15T21:16:59.886Z"
   },
   {
    "duration": 0,
    "start_time": "2022-09-15T21:16:59.886Z"
   },
   {
    "duration": 0,
    "start_time": "2022-09-15T21:16:59.887Z"
   },
   {
    "duration": 0,
    "start_time": "2022-09-15T21:16:59.888Z"
   },
   {
    "duration": 0,
    "start_time": "2022-09-15T21:16:59.890Z"
   },
   {
    "duration": 0,
    "start_time": "2022-09-15T21:16:59.906Z"
   },
   {
    "duration": 1070,
    "start_time": "2022-09-15T21:17:28.397Z"
   },
   {
    "duration": 396,
    "start_time": "2022-09-15T21:17:29.469Z"
   },
   {
    "duration": 19,
    "start_time": "2022-09-15T21:17:29.867Z"
   },
   {
    "duration": 32,
    "start_time": "2022-09-15T21:17:29.888Z"
   },
   {
    "duration": 14,
    "start_time": "2022-09-15T21:17:29.928Z"
   },
   {
    "duration": 12,
    "start_time": "2022-09-15T21:17:29.943Z"
   },
   {
    "duration": 114,
    "start_time": "2022-09-15T21:17:29.956Z"
   },
   {
    "duration": 0,
    "start_time": "2022-09-15T21:17:30.072Z"
   },
   {
    "duration": 0,
    "start_time": "2022-09-15T21:17:30.073Z"
   },
   {
    "duration": 0,
    "start_time": "2022-09-15T21:17:30.074Z"
   },
   {
    "duration": 0,
    "start_time": "2022-09-15T21:17:30.076Z"
   },
   {
    "duration": 0,
    "start_time": "2022-09-15T21:17:30.077Z"
   },
   {
    "duration": 0,
    "start_time": "2022-09-15T21:17:30.078Z"
   },
   {
    "duration": 0,
    "start_time": "2022-09-15T21:17:30.079Z"
   },
   {
    "duration": 0,
    "start_time": "2022-09-15T21:17:30.080Z"
   },
   {
    "duration": 0,
    "start_time": "2022-09-15T21:17:30.081Z"
   },
   {
    "duration": 12,
    "start_time": "2022-09-15T21:19:17.835Z"
   },
   {
    "duration": 11,
    "start_time": "2022-09-15T21:19:41.589Z"
   },
   {
    "duration": 8,
    "start_time": "2022-09-15T21:20:16.601Z"
   },
   {
    "duration": 10,
    "start_time": "2022-09-15T21:20:41.435Z"
   },
   {
    "duration": 1213,
    "start_time": "2022-09-17T06:23:04.251Z"
   },
   {
    "duration": 639,
    "start_time": "2022-09-17T06:23:05.466Z"
   },
   {
    "duration": 24,
    "start_time": "2022-09-17T06:23:06.107Z"
   },
   {
    "duration": 10,
    "start_time": "2022-09-17T06:23:06.146Z"
   },
   {
    "duration": 28,
    "start_time": "2022-09-17T06:23:06.158Z"
   },
   {
    "duration": 42,
    "start_time": "2022-09-17T06:23:06.189Z"
   },
   {
    "duration": 42,
    "start_time": "2022-09-17T06:23:06.233Z"
   },
   {
    "duration": 79,
    "start_time": "2022-09-17T06:23:06.277Z"
   },
   {
    "duration": 24,
    "start_time": "2022-09-17T06:23:06.359Z"
   },
   {
    "duration": 44,
    "start_time": "2022-09-17T06:23:06.386Z"
   },
   {
    "duration": 63,
    "start_time": "2022-09-17T06:23:06.434Z"
   },
   {
    "duration": 184,
    "start_time": "2022-09-17T06:23:06.500Z"
   },
   {
    "duration": 26,
    "start_time": "2022-09-17T06:23:06.687Z"
   },
   {
    "duration": 189,
    "start_time": "2022-09-17T06:23:06.715Z"
   },
   {
    "duration": 0,
    "start_time": "2022-09-17T06:23:06.907Z"
   },
   {
    "duration": 0,
    "start_time": "2022-09-17T06:23:06.908Z"
   },
   {
    "duration": 10,
    "start_time": "2022-09-17T06:24:10.848Z"
   },
   {
    "duration": 9,
    "start_time": "2022-09-17T06:25:58.677Z"
   },
   {
    "duration": 9,
    "start_time": "2022-09-17T06:27:49.570Z"
   },
   {
    "duration": 10,
    "start_time": "2022-09-17T06:27:53.458Z"
   },
   {
    "duration": 7,
    "start_time": "2022-09-17T06:27:54.403Z"
   },
   {
    "duration": 8,
    "start_time": "2022-09-17T06:31:06.820Z"
   },
   {
    "duration": 11,
    "start_time": "2022-09-17T06:31:12.899Z"
   },
   {
    "duration": 8,
    "start_time": "2022-09-17T06:31:28.286Z"
   },
   {
    "duration": 13,
    "start_time": "2022-09-17T06:31:28.661Z"
   },
   {
    "duration": 10,
    "start_time": "2022-09-17T06:31:48.734Z"
   },
   {
    "duration": 11,
    "start_time": "2022-09-17T06:32:38.367Z"
   },
   {
    "duration": 8,
    "start_time": "2022-09-17T06:32:40.767Z"
   },
   {
    "duration": 11,
    "start_time": "2022-09-17T06:35:26.715Z"
   },
   {
    "duration": 7,
    "start_time": "2022-09-17T06:36:27.133Z"
   },
   {
    "duration": 21,
    "start_time": "2022-09-17T06:47:37.679Z"
   },
   {
    "duration": 66,
    "start_time": "2022-09-17T07:03:43.140Z"
   },
   {
    "duration": 1073,
    "start_time": "2022-09-17T10:35:57.201Z"
   },
   {
    "duration": 558,
    "start_time": "2022-09-17T10:35:58.276Z"
   },
   {
    "duration": 25,
    "start_time": "2022-09-17T10:35:58.836Z"
   },
   {
    "duration": 8,
    "start_time": "2022-09-17T10:35:58.862Z"
   },
   {
    "duration": 8,
    "start_time": "2022-09-17T10:35:58.871Z"
   },
   {
    "duration": 9,
    "start_time": "2022-09-17T10:35:58.880Z"
   },
   {
    "duration": 145,
    "start_time": "2022-09-17T10:35:58.890Z"
   },
   {
    "duration": 0,
    "start_time": "2022-09-17T10:35:59.037Z"
   },
   {
    "duration": 0,
    "start_time": "2022-09-17T10:35:59.039Z"
   },
   {
    "duration": 0,
    "start_time": "2022-09-17T10:35:59.046Z"
   },
   {
    "duration": 0,
    "start_time": "2022-09-17T10:35:59.047Z"
   },
   {
    "duration": 0,
    "start_time": "2022-09-17T10:35:59.048Z"
   },
   {
    "duration": 0,
    "start_time": "2022-09-17T10:35:59.049Z"
   },
   {
    "duration": 0,
    "start_time": "2022-09-17T10:35:59.050Z"
   },
   {
    "duration": 0,
    "start_time": "2022-09-17T10:35:59.051Z"
   },
   {
    "duration": 0,
    "start_time": "2022-09-17T10:35:59.052Z"
   },
   {
    "duration": 9,
    "start_time": "2022-09-17T10:36:57.472Z"
   },
   {
    "duration": 8,
    "start_time": "2022-09-17T10:37:24.907Z"
   },
   {
    "duration": 7,
    "start_time": "2022-09-17T10:37:27.555Z"
   },
   {
    "duration": 9,
    "start_time": "2022-09-17T10:37:28.219Z"
   },
   {
    "duration": 7,
    "start_time": "2022-09-17T10:37:47.845Z"
   },
   {
    "duration": 8,
    "start_time": "2022-09-17T10:38:24.402Z"
   },
   {
    "duration": 8,
    "start_time": "2022-09-17T10:38:54.515Z"
   },
   {
    "duration": 7,
    "start_time": "2022-09-17T10:38:57.707Z"
   },
   {
    "duration": 4,
    "start_time": "2022-09-17T10:39:20.530Z"
   },
   {
    "duration": 5,
    "start_time": "2022-09-17T10:39:20.963Z"
   },
   {
    "duration": 8,
    "start_time": "2022-09-17T10:39:21.603Z"
   },
   {
    "duration": 16,
    "start_time": "2022-09-17T10:39:24.021Z"
   },
   {
    "duration": 10,
    "start_time": "2022-09-17T10:46:17.779Z"
   },
   {
    "duration": 3,
    "start_time": "2022-09-17T10:46:25.547Z"
   },
   {
    "duration": 12,
    "start_time": "2022-09-17T10:46:27.534Z"
   },
   {
    "duration": 1128,
    "start_time": "2022-09-17T10:46:42.635Z"
   },
   {
    "duration": 403,
    "start_time": "2022-09-17T10:46:43.766Z"
   },
   {
    "duration": 20,
    "start_time": "2022-09-17T10:46:44.171Z"
   },
   {
    "duration": 4,
    "start_time": "2022-09-17T10:46:44.194Z"
   },
   {
    "duration": 43,
    "start_time": "2022-09-17T10:46:44.199Z"
   },
   {
    "duration": 14,
    "start_time": "2022-09-17T10:46:44.244Z"
   },
   {
    "duration": 27,
    "start_time": "2022-09-17T10:46:44.259Z"
   },
   {
    "duration": 14,
    "start_time": "2022-09-17T10:46:44.288Z"
   },
   {
    "duration": 10,
    "start_time": "2022-09-17T10:46:44.303Z"
   },
   {
    "duration": 36,
    "start_time": "2022-09-17T10:46:44.315Z"
   },
   {
    "duration": 108,
    "start_time": "2022-09-17T10:46:44.353Z"
   },
   {
    "duration": 0,
    "start_time": "2022-09-17T10:46:44.463Z"
   },
   {
    "duration": 0,
    "start_time": "2022-09-17T10:46:44.464Z"
   },
   {
    "duration": 0,
    "start_time": "2022-09-17T10:46:44.465Z"
   },
   {
    "duration": 0,
    "start_time": "2022-09-17T10:46:44.466Z"
   },
   {
    "duration": 0,
    "start_time": "2022-09-17T10:46:44.467Z"
   },
   {
    "duration": 1088,
    "start_time": "2022-09-17T10:51:20.284Z"
   },
   {
    "duration": 70,
    "start_time": "2022-09-17T10:51:21.374Z"
   },
   {
    "duration": 308,
    "start_time": "2022-09-17T10:51:21.448Z"
   },
   {
    "duration": 21,
    "start_time": "2022-09-17T10:51:21.758Z"
   },
   {
    "duration": 7,
    "start_time": "2022-09-17T10:51:21.780Z"
   },
   {
    "duration": 21,
    "start_time": "2022-09-17T10:51:21.788Z"
   },
   {
    "duration": 47,
    "start_time": "2022-09-17T10:51:21.810Z"
   },
   {
    "duration": 18,
    "start_time": "2022-09-17T10:51:21.859Z"
   },
   {
    "duration": 12,
    "start_time": "2022-09-17T10:51:21.879Z"
   },
   {
    "duration": 61,
    "start_time": "2022-09-17T10:51:21.893Z"
   },
   {
    "duration": 124,
    "start_time": "2022-09-17T10:51:21.956Z"
   },
   {
    "duration": 0,
    "start_time": "2022-09-17T10:51:22.082Z"
   },
   {
    "duration": 0,
    "start_time": "2022-09-17T10:51:22.082Z"
   },
   {
    "duration": 0,
    "start_time": "2022-09-17T10:51:22.083Z"
   },
   {
    "duration": 0,
    "start_time": "2022-09-17T10:51:22.085Z"
   },
   {
    "duration": 0,
    "start_time": "2022-09-17T10:51:22.085Z"
   },
   {
    "duration": 13,
    "start_time": "2022-09-17T11:28:32.066Z"
   },
   {
    "duration": 116,
    "start_time": "2022-09-17T11:28:36.640Z"
   },
   {
    "duration": 48,
    "start_time": "2022-09-17T12:14:29.763Z"
   },
   {
    "duration": 1141,
    "start_time": "2022-09-17T12:14:37.291Z"
   },
   {
    "duration": 400,
    "start_time": "2022-09-17T12:14:38.434Z"
   },
   {
    "duration": 537,
    "start_time": "2022-09-17T12:14:38.836Z"
   },
   {
    "duration": 26,
    "start_time": "2022-09-17T12:14:39.375Z"
   },
   {
    "duration": 8,
    "start_time": "2022-09-17T12:14:39.404Z"
   },
   {
    "duration": 9,
    "start_time": "2022-09-17T12:14:39.414Z"
   },
   {
    "duration": 35,
    "start_time": "2022-09-17T12:14:39.424Z"
   },
   {
    "duration": 46,
    "start_time": "2022-09-17T12:14:39.461Z"
   },
   {
    "duration": 11,
    "start_time": "2022-09-17T12:14:39.509Z"
   },
   {
    "duration": 24,
    "start_time": "2022-09-17T12:14:39.522Z"
   },
   {
    "duration": 7,
    "start_time": "2022-09-17T12:14:39.548Z"
   },
   {
    "duration": 450,
    "start_time": "2022-09-17T12:14:39.556Z"
   },
   {
    "duration": 0,
    "start_time": "2022-09-17T12:14:40.008Z"
   },
   {
    "duration": 0,
    "start_time": "2022-09-17T12:14:40.010Z"
   },
   {
    "duration": 0,
    "start_time": "2022-09-17T12:14:40.011Z"
   },
   {
    "duration": 0,
    "start_time": "2022-09-17T12:14:40.013Z"
   },
   {
    "duration": 0,
    "start_time": "2022-09-17T12:14:40.014Z"
   },
   {
    "duration": 20,
    "start_time": "2022-09-17T12:15:11.421Z"
   },
   {
    "duration": 2091,
    "start_time": "2022-09-17T12:18:00.242Z"
   },
   {
    "duration": 0,
    "start_time": "2022-09-17T12:18:02.335Z"
   },
   {
    "duration": 0,
    "start_time": "2022-09-17T12:18:02.336Z"
   },
   {
    "duration": 0,
    "start_time": "2022-09-17T12:18:02.337Z"
   },
   {
    "duration": 0,
    "start_time": "2022-09-17T12:18:02.338Z"
   },
   {
    "duration": 0,
    "start_time": "2022-09-17T12:18:02.339Z"
   },
   {
    "duration": 0,
    "start_time": "2022-09-17T12:18:02.341Z"
   },
   {
    "duration": 0,
    "start_time": "2022-09-17T12:18:02.342Z"
   },
   {
    "duration": 0,
    "start_time": "2022-09-17T12:18:02.395Z"
   },
   {
    "duration": 0,
    "start_time": "2022-09-17T12:18:02.397Z"
   },
   {
    "duration": 0,
    "start_time": "2022-09-17T12:18:02.399Z"
   },
   {
    "duration": 0,
    "start_time": "2022-09-17T12:18:02.400Z"
   },
   {
    "duration": 0,
    "start_time": "2022-09-17T12:18:02.402Z"
   },
   {
    "duration": 0,
    "start_time": "2022-09-17T12:18:02.403Z"
   },
   {
    "duration": 0,
    "start_time": "2022-09-17T12:18:02.404Z"
   },
   {
    "duration": 0,
    "start_time": "2022-09-17T12:18:02.406Z"
   },
   {
    "duration": 1202,
    "start_time": "2022-09-17T12:27:53.411Z"
   },
   {
    "duration": 97,
    "start_time": "2022-09-17T12:27:54.615Z"
   },
   {
    "duration": 29,
    "start_time": "2022-09-17T12:27:54.714Z"
   },
   {
    "duration": 9,
    "start_time": "2022-09-17T12:27:54.745Z"
   },
   {
    "duration": 11,
    "start_time": "2022-09-17T12:27:54.758Z"
   },
   {
    "duration": 65,
    "start_time": "2022-09-17T12:27:54.771Z"
   },
   {
    "duration": 406,
    "start_time": "2022-09-17T12:27:54.838Z"
   },
   {
    "duration": 16,
    "start_time": "2022-09-17T12:27:55.247Z"
   },
   {
    "duration": 56,
    "start_time": "2022-09-17T12:27:55.265Z"
   },
   {
    "duration": 11,
    "start_time": "2022-09-17T12:27:55.324Z"
   },
   {
    "duration": 430,
    "start_time": "2022-09-17T12:27:55.337Z"
   },
   {
    "duration": 0,
    "start_time": "2022-09-17T12:27:55.769Z"
   },
   {
    "duration": 0,
    "start_time": "2022-09-17T12:27:55.770Z"
   },
   {
    "duration": 0,
    "start_time": "2022-09-17T12:27:55.771Z"
   },
   {
    "duration": 0,
    "start_time": "2022-09-17T12:27:55.772Z"
   },
   {
    "duration": 0,
    "start_time": "2022-09-17T12:27:55.773Z"
   },
   {
    "duration": 110,
    "start_time": "2022-09-17T12:28:11.197Z"
   },
   {
    "duration": 12,
    "start_time": "2022-09-17T12:36:27.831Z"
   },
   {
    "duration": 12,
    "start_time": "2022-09-17T12:44:53.607Z"
   },
   {
    "duration": 451,
    "start_time": "2022-09-17T12:45:13.871Z"
   },
   {
    "duration": 1034,
    "start_time": "2022-09-19T19:18:19.122Z"
   },
   {
    "duration": 183,
    "start_time": "2022-09-19T19:18:20.158Z"
   },
   {
    "duration": 16,
    "start_time": "2022-09-19T19:18:20.342Z"
   },
   {
    "duration": 5,
    "start_time": "2022-09-19T19:18:20.360Z"
   },
   {
    "duration": 16,
    "start_time": "2022-09-19T19:18:20.366Z"
   },
   {
    "duration": 32,
    "start_time": "2022-09-19T19:18:20.383Z"
   },
   {
    "duration": 418,
    "start_time": "2022-09-19T19:18:20.416Z"
   },
   {
    "duration": 11,
    "start_time": "2022-09-19T19:18:20.836Z"
   },
   {
    "duration": 34,
    "start_time": "2022-09-19T19:18:20.848Z"
   },
   {
    "duration": 6,
    "start_time": "2022-09-19T19:18:20.884Z"
   },
   {
    "duration": 187,
    "start_time": "2022-09-19T19:18:20.891Z"
   },
   {
    "duration": 489,
    "start_time": "2022-09-19T19:18:21.080Z"
   },
   {
    "duration": 0,
    "start_time": "2022-09-19T19:18:21.571Z"
   },
   {
    "duration": 0,
    "start_time": "2022-09-19T19:18:21.571Z"
   },
   {
    "duration": 0,
    "start_time": "2022-09-19T19:18:21.577Z"
   },
   {
    "duration": 0,
    "start_time": "2022-09-19T19:18:21.578Z"
   },
   {
    "duration": 0,
    "start_time": "2022-09-19T19:18:21.579Z"
   },
   {
    "duration": 350,
    "start_time": "2022-09-19T19:21:06.059Z"
   },
   {
    "duration": 29,
    "start_time": "2022-09-19T19:21:40.825Z"
   },
   {
    "duration": 11,
    "start_time": "2022-09-19T19:21:53.579Z"
   },
   {
    "duration": 32,
    "start_time": "2022-09-19T19:22:10.141Z"
   },
   {
    "duration": 74,
    "start_time": "2022-09-19T19:22:22.123Z"
   },
   {
    "duration": 1015,
    "start_time": "2022-09-19T19:25:02.630Z"
   },
   {
    "duration": 64,
    "start_time": "2022-09-19T19:25:03.647Z"
   },
   {
    "duration": 16,
    "start_time": "2022-09-19T19:25:03.713Z"
   },
   {
    "duration": 6,
    "start_time": "2022-09-19T19:25:03.730Z"
   },
   {
    "duration": 10,
    "start_time": "2022-09-19T19:25:03.737Z"
   },
   {
    "duration": 35,
    "start_time": "2022-09-19T19:25:03.749Z"
   },
   {
    "duration": 402,
    "start_time": "2022-09-19T19:25:03.786Z"
   },
   {
    "duration": 17,
    "start_time": "2022-09-19T19:25:04.189Z"
   },
   {
    "duration": 27,
    "start_time": "2022-09-19T19:25:04.207Z"
   },
   {
    "duration": 6,
    "start_time": "2022-09-19T19:25:04.236Z"
   },
   {
    "duration": 136,
    "start_time": "2022-09-19T19:25:04.244Z"
   },
   {
    "duration": 264,
    "start_time": "2022-09-19T19:25:04.382Z"
   },
   {
    "duration": 0,
    "start_time": "2022-09-19T19:25:04.648Z"
   },
   {
    "duration": 0,
    "start_time": "2022-09-19T19:25:04.649Z"
   },
   {
    "duration": 0,
    "start_time": "2022-09-19T19:25:04.650Z"
   },
   {
    "duration": 0,
    "start_time": "2022-09-19T19:25:04.651Z"
   },
   {
    "duration": 0,
    "start_time": "2022-09-19T19:25:04.652Z"
   },
   {
    "duration": 79,
    "start_time": "2022-09-19T19:28:19.730Z"
   },
   {
    "duration": 1045,
    "start_time": "2022-09-19T19:28:49.657Z"
   },
   {
    "duration": 65,
    "start_time": "2022-09-19T19:28:50.704Z"
   },
   {
    "duration": 17,
    "start_time": "2022-09-19T19:28:50.771Z"
   },
   {
    "duration": 6,
    "start_time": "2022-09-19T19:28:50.790Z"
   },
   {
    "duration": 6,
    "start_time": "2022-09-19T19:28:50.798Z"
   },
   {
    "duration": 29,
    "start_time": "2022-09-19T19:28:50.806Z"
   },
   {
    "duration": 282,
    "start_time": "2022-09-19T19:28:50.836Z"
   },
   {
    "duration": 15,
    "start_time": "2022-09-19T19:28:51.120Z"
   },
   {
    "duration": 47,
    "start_time": "2022-09-19T19:28:51.136Z"
   },
   {
    "duration": 7,
    "start_time": "2022-09-19T19:28:51.186Z"
   },
   {
    "duration": 86,
    "start_time": "2022-09-19T19:28:51.194Z"
   },
   {
    "duration": 250,
    "start_time": "2022-09-19T19:28:51.281Z"
   },
   {
    "duration": 0,
    "start_time": "2022-09-19T19:28:51.533Z"
   },
   {
    "duration": 0,
    "start_time": "2022-09-19T19:28:51.533Z"
   },
   {
    "duration": 0,
    "start_time": "2022-09-19T19:28:51.534Z"
   },
   {
    "duration": 0,
    "start_time": "2022-09-19T19:28:51.535Z"
   },
   {
    "duration": 0,
    "start_time": "2022-09-19T19:28:51.536Z"
   },
   {
    "duration": 17,
    "start_time": "2022-09-19T19:33:59.880Z"
   },
   {
    "duration": 6,
    "start_time": "2022-09-19T19:34:08.784Z"
   },
   {
    "duration": 71,
    "start_time": "2022-09-19T19:34:36.757Z"
   },
   {
    "duration": 81,
    "start_time": "2022-09-19T19:35:00.866Z"
   },
   {
    "duration": 136,
    "start_time": "2022-09-19T19:35:28.663Z"
   },
   {
    "duration": 73,
    "start_time": "2022-09-19T19:35:35.156Z"
   },
   {
    "duration": 9,
    "start_time": "2022-09-19T19:36:57.771Z"
   },
   {
    "duration": 10,
    "start_time": "2022-09-19T19:37:48.280Z"
   },
   {
    "duration": 4,
    "start_time": "2022-09-19T19:38:00.274Z"
   },
   {
    "duration": 1205,
    "start_time": "2022-09-19T19:38:05.463Z"
   },
   {
    "duration": 64,
    "start_time": "2022-09-19T19:38:06.669Z"
   },
   {
    "duration": 17,
    "start_time": "2022-09-19T19:38:06.734Z"
   },
   {
    "duration": 5,
    "start_time": "2022-09-19T19:38:06.753Z"
   },
   {
    "duration": 7,
    "start_time": "2022-09-19T19:38:06.759Z"
   },
   {
    "duration": 32,
    "start_time": "2022-09-19T19:38:06.767Z"
   },
   {
    "duration": 315,
    "start_time": "2022-09-19T19:38:06.800Z"
   },
   {
    "duration": 15,
    "start_time": "2022-09-19T19:38:07.117Z"
   },
   {
    "duration": 27,
    "start_time": "2022-09-19T19:38:07.133Z"
   },
   {
    "duration": 20,
    "start_time": "2022-09-19T19:38:07.162Z"
   },
   {
    "duration": 51,
    "start_time": "2022-09-19T19:38:07.183Z"
   },
   {
    "duration": 5,
    "start_time": "2022-09-19T19:38:07.277Z"
   },
   {
    "duration": 1416,
    "start_time": "2022-09-19T19:38:07.283Z"
   },
   {
    "duration": 0,
    "start_time": "2022-09-19T19:38:08.700Z"
   },
   {
    "duration": 0,
    "start_time": "2022-09-19T19:38:08.701Z"
   },
   {
    "duration": 0,
    "start_time": "2022-09-19T19:38:08.702Z"
   },
   {
    "duration": 0,
    "start_time": "2022-09-19T19:38:08.703Z"
   },
   {
    "duration": 0,
    "start_time": "2022-09-19T19:38:08.704Z"
   },
   {
    "duration": 1191,
    "start_time": "2022-09-19T19:39:03.673Z"
   },
   {
    "duration": 1237,
    "start_time": "2022-09-19T19:40:25.024Z"
   },
   {
    "duration": 1183,
    "start_time": "2022-09-19T19:41:18.594Z"
   },
   {
    "duration": 1206,
    "start_time": "2022-09-19T19:41:59.330Z"
   },
   {
    "duration": 2272,
    "start_time": "2022-09-19T19:42:14.499Z"
   },
   {
    "duration": 3340,
    "start_time": "2022-09-19T19:42:20.276Z"
   },
   {
    "duration": 4549,
    "start_time": "2022-09-19T19:42:26.456Z"
   },
   {
    "duration": 5488,
    "start_time": "2022-09-19T19:42:38.259Z"
   },
   {
    "duration": 3336,
    "start_time": "2022-09-19T19:42:49.848Z"
   },
   {
    "duration": 2298,
    "start_time": "2022-09-19T19:42:57.384Z"
   },
   {
    "duration": 2837,
    "start_time": "2022-09-19T19:43:04.639Z"
   },
   {
    "duration": 132,
    "start_time": "2022-09-19T19:44:41.159Z"
   },
   {
    "duration": 15,
    "start_time": "2022-09-19T19:44:44.631Z"
   },
   {
    "duration": 75,
    "start_time": "2022-09-19T19:44:46.305Z"
   },
   {
    "duration": 41,
    "start_time": "2022-09-19T19:48:00.146Z"
   },
   {
    "duration": 2855,
    "start_time": "2022-09-19T19:48:01.773Z"
   },
   {
    "duration": 16,
    "start_time": "2022-09-19T19:56:01.944Z"
   },
   {
    "duration": 66,
    "start_time": "2022-09-19T19:56:05.254Z"
   },
   {
    "duration": 65,
    "start_time": "2022-09-19T20:00:49.413Z"
   },
   {
    "duration": 4,
    "start_time": "2022-09-19T20:00:54.000Z"
   },
   {
    "duration": 49,
    "start_time": "2022-09-19T20:07:03.684Z"
   },
   {
    "duration": 1053,
    "start_time": "2022-09-19T20:07:11.247Z"
   },
   {
    "duration": 61,
    "start_time": "2022-09-19T20:07:12.302Z"
   },
   {
    "duration": 16,
    "start_time": "2022-09-19T20:07:12.364Z"
   },
   {
    "duration": 6,
    "start_time": "2022-09-19T20:07:12.381Z"
   },
   {
    "duration": 5,
    "start_time": "2022-09-19T20:07:12.388Z"
   },
   {
    "duration": 25,
    "start_time": "2022-09-19T20:07:12.395Z"
   },
   {
    "duration": 284,
    "start_time": "2022-09-19T20:07:12.421Z"
   },
   {
    "duration": 17,
    "start_time": "2022-09-19T20:07:12.707Z"
   },
   {
    "duration": 32,
    "start_time": "2022-09-19T20:07:12.725Z"
   },
   {
    "duration": 7,
    "start_time": "2022-09-19T20:07:12.779Z"
   },
   {
    "duration": 90,
    "start_time": "2022-09-19T20:07:12.788Z"
   },
   {
    "duration": 5,
    "start_time": "2022-09-19T20:07:12.880Z"
   },
   {
    "duration": 2958,
    "start_time": "2022-09-19T20:07:12.886Z"
   },
   {
    "duration": 4,
    "start_time": "2022-09-19T20:07:15.845Z"
   },
   {
    "duration": 140,
    "start_time": "2022-09-19T20:07:15.850Z"
   },
   {
    "duration": 17,
    "start_time": "2022-09-19T20:07:15.991Z"
   },
   {
    "duration": 8,
    "start_time": "2022-09-19T20:07:16.010Z"
   },
   {
    "duration": 70,
    "start_time": "2022-09-19T20:07:16.020Z"
   },
   {
    "duration": 88,
    "start_time": "2022-09-19T20:07:16.092Z"
   },
   {
    "duration": 187,
    "start_time": "2022-09-19T20:07:16.182Z"
   },
   {
    "duration": 65,
    "start_time": "2022-09-19T20:07:26.223Z"
   },
   {
    "duration": 51,
    "start_time": "2022-09-19T20:07:34.715Z"
   },
   {
    "duration": 465,
    "start_time": "2022-09-19T20:08:54.500Z"
   },
   {
    "duration": 8,
    "start_time": "2022-09-19T20:10:38.079Z"
   },
   {
    "duration": 5,
    "start_time": "2022-09-19T20:10:47.197Z"
   },
   {
    "duration": 1002,
    "start_time": "2022-09-19T20:10:55.652Z"
   },
   {
    "duration": 63,
    "start_time": "2022-09-19T20:10:56.656Z"
   },
   {
    "duration": 17,
    "start_time": "2022-09-19T20:10:56.720Z"
   },
   {
    "duration": 6,
    "start_time": "2022-09-19T20:10:56.739Z"
   },
   {
    "duration": 9,
    "start_time": "2022-09-19T20:10:56.746Z"
   },
   {
    "duration": 42,
    "start_time": "2022-09-19T20:10:56.756Z"
   },
   {
    "duration": 269,
    "start_time": "2022-09-19T20:10:56.799Z"
   },
   {
    "duration": 16,
    "start_time": "2022-09-19T20:10:57.070Z"
   },
   {
    "duration": 27,
    "start_time": "2022-09-19T20:10:57.088Z"
   },
   {
    "duration": 7,
    "start_time": "2022-09-19T20:10:57.117Z"
   },
   {
    "duration": 62,
    "start_time": "2022-09-19T20:10:57.125Z"
   },
   {
    "duration": 92,
    "start_time": "2022-09-19T20:10:57.189Z"
   },
   {
    "duration": 2918,
    "start_time": "2022-09-19T20:10:57.282Z"
   },
   {
    "duration": 3,
    "start_time": "2022-09-19T20:11:00.202Z"
   },
   {
    "duration": 141,
    "start_time": "2022-09-19T20:11:00.207Z"
   },
   {
    "duration": 18,
    "start_time": "2022-09-19T20:11:00.349Z"
   },
   {
    "duration": 10,
    "start_time": "2022-09-19T20:11:00.377Z"
   },
   {
    "duration": 90,
    "start_time": "2022-09-19T20:11:00.388Z"
   },
   {
    "duration": 532,
    "start_time": "2022-09-19T20:11:00.480Z"
   },
   {
    "duration": 5,
    "start_time": "2022-09-19T20:11:01.013Z"
   },
   {
    "duration": 7,
    "start_time": "2022-09-19T20:11:01.019Z"
   },
   {
    "duration": 104,
    "start_time": "2022-09-19T20:11:01.027Z"
   },
   {
    "duration": 437,
    "start_time": "2022-09-19T20:12:00.010Z"
   },
   {
    "duration": 4,
    "start_time": "2022-09-19T20:12:00.449Z"
   },
   {
    "duration": 1644,
    "start_time": "2022-09-19T20:15:59.355Z"
   },
   {
    "duration": 1633,
    "start_time": "2022-09-19T20:16:11.555Z"
   },
   {
    "duration": 1639,
    "start_time": "2022-09-19T20:16:31.192Z"
   },
   {
    "duration": 2424,
    "start_time": "2022-09-19T20:16:45.167Z"
   },
   {
    "duration": 3227,
    "start_time": "2022-09-19T20:16:53.951Z"
   },
   {
    "duration": 4063,
    "start_time": "2022-09-19T20:17:00.304Z"
   },
   {
    "duration": 4783,
    "start_time": "2022-09-19T20:17:08.176Z"
   },
   {
    "duration": 5612,
    "start_time": "2022-09-19T20:17:18.437Z"
   },
   {
    "duration": 590,
    "start_time": "2022-09-19T20:17:58.272Z"
   },
   {
    "duration": 5,
    "start_time": "2022-09-19T20:18:02.415Z"
   },
   {
    "duration": 6,
    "start_time": "2022-09-19T20:18:04.906Z"
   },
   {
    "duration": 9,
    "start_time": "2022-09-19T20:18:37.872Z"
   },
   {
    "duration": 8,
    "start_time": "2022-09-19T20:19:08.860Z"
   },
   {
    "duration": 10,
    "start_time": "2022-09-19T20:28:54.370Z"
   },
   {
    "duration": 14,
    "start_time": "2022-09-19T20:29:12.481Z"
   },
   {
    "duration": 1043,
    "start_time": "2022-09-19T20:29:28.973Z"
   },
   {
    "duration": 63,
    "start_time": "2022-09-19T20:29:30.018Z"
   },
   {
    "duration": 16,
    "start_time": "2022-09-19T20:29:30.083Z"
   },
   {
    "duration": 6,
    "start_time": "2022-09-19T20:29:30.100Z"
   },
   {
    "duration": 6,
    "start_time": "2022-09-19T20:29:30.107Z"
   },
   {
    "duration": 28,
    "start_time": "2022-09-19T20:29:30.114Z"
   },
   {
    "duration": 312,
    "start_time": "2022-09-19T20:29:30.143Z"
   },
   {
    "duration": 14,
    "start_time": "2022-09-19T20:29:30.456Z"
   },
   {
    "duration": 28,
    "start_time": "2022-09-19T20:29:30.477Z"
   },
   {
    "duration": 8,
    "start_time": "2022-09-19T20:29:30.508Z"
   },
   {
    "duration": 59,
    "start_time": "2022-09-19T20:29:30.518Z"
   },
   {
    "duration": 7,
    "start_time": "2022-09-19T20:29:30.579Z"
   },
   {
    "duration": 3496,
    "start_time": "2022-09-19T20:29:30.587Z"
   },
   {
    "duration": 4,
    "start_time": "2022-09-19T20:29:34.084Z"
   },
   {
    "duration": 134,
    "start_time": "2022-09-19T20:29:34.089Z"
   },
   {
    "duration": 16,
    "start_time": "2022-09-19T20:29:34.225Z"
   },
   {
    "duration": 9,
    "start_time": "2022-09-19T20:29:34.243Z"
   },
   {
    "duration": 294,
    "start_time": "2022-09-19T20:29:34.254Z"
   },
   {
    "duration": 0,
    "start_time": "2022-09-19T20:29:34.550Z"
   },
   {
    "duration": 0,
    "start_time": "2022-09-19T20:29:34.551Z"
   },
   {
    "duration": 0,
    "start_time": "2022-09-19T20:29:34.552Z"
   },
   {
    "duration": 0,
    "start_time": "2022-09-19T20:29:34.553Z"
   },
   {
    "duration": 0,
    "start_time": "2022-09-19T20:29:34.553Z"
   },
   {
    "duration": 49,
    "start_time": "2022-09-19T20:29:55.155Z"
   },
   {
    "duration": 236,
    "start_time": "2022-09-19T20:29:55.378Z"
   },
   {
    "duration": 602,
    "start_time": "2022-09-19T20:29:56.088Z"
   },
   {
    "duration": 0,
    "start_time": "2022-09-19T20:29:56.691Z"
   },
   {
    "duration": 0,
    "start_time": "2022-09-19T20:29:56.692Z"
   },
   {
    "duration": 0,
    "start_time": "2022-09-19T20:29:56.694Z"
   },
   {
    "duration": 228,
    "start_time": "2022-09-19T20:30:34.890Z"
   },
   {
    "duration": 206,
    "start_time": "2022-09-19T20:30:55.846Z"
   },
   {
    "duration": 596,
    "start_time": "2022-09-19T20:32:23.323Z"
   },
   {
    "duration": 6,
    "start_time": "2022-09-19T20:32:26.300Z"
   },
   {
    "duration": 607,
    "start_time": "2022-09-19T20:32:36.882Z"
   },
   {
    "duration": 10,
    "start_time": "2022-09-19T20:34:52.627Z"
   },
   {
    "duration": 1291,
    "start_time": "2022-09-19T20:35:31.401Z"
   },
   {
    "duration": 72,
    "start_time": "2022-09-19T20:35:32.694Z"
   },
   {
    "duration": 17,
    "start_time": "2022-09-19T20:35:32.767Z"
   },
   {
    "duration": 5,
    "start_time": "2022-09-19T20:35:32.785Z"
   },
   {
    "duration": 6,
    "start_time": "2022-09-19T20:35:32.792Z"
   },
   {
    "duration": 28,
    "start_time": "2022-09-19T20:35:32.799Z"
   },
   {
    "duration": 57,
    "start_time": "2022-09-19T20:35:32.828Z"
   },
   {
    "duration": 14,
    "start_time": "2022-09-19T20:35:32.886Z"
   },
   {
    "duration": 27,
    "start_time": "2022-09-19T20:35:32.901Z"
   },
   {
    "duration": 6,
    "start_time": "2022-09-19T20:35:32.930Z"
   },
   {
    "duration": 62,
    "start_time": "2022-09-19T20:35:32.937Z"
   },
   {
    "duration": 79,
    "start_time": "2022-09-19T20:35:33.000Z"
   },
   {
    "duration": 3460,
    "start_time": "2022-09-19T20:35:33.080Z"
   },
   {
    "duration": 4,
    "start_time": "2022-09-19T20:35:36.542Z"
   },
   {
    "duration": 138,
    "start_time": "2022-09-19T20:35:36.547Z"
   },
   {
    "duration": 18,
    "start_time": "2022-09-19T20:35:36.686Z"
   },
   {
    "duration": 9,
    "start_time": "2022-09-19T20:35:36.705Z"
   },
   {
    "duration": 66,
    "start_time": "2022-09-19T20:35:36.715Z"
   },
   {
    "duration": 360,
    "start_time": "2022-09-19T20:35:36.785Z"
   },
   {
    "duration": 114,
    "start_time": "2022-09-19T20:35:37.147Z"
   },
   {
    "duration": 631,
    "start_time": "2022-09-19T20:35:37.263Z"
   },
   {
    "duration": 8,
    "start_time": "2022-09-19T20:35:37.895Z"
   },
   {
    "duration": 104,
    "start_time": "2022-09-19T20:35:37.904Z"
   },
   {
    "duration": 3,
    "start_time": "2022-09-19T20:39:53.378Z"
   },
   {
    "duration": 6,
    "start_time": "2022-09-19T20:40:39.652Z"
   },
   {
    "duration": 15,
    "start_time": "2022-09-19T20:41:36.142Z"
   },
   {
    "duration": 171,
    "start_time": "2022-09-19T20:41:47.424Z"
   },
   {
    "duration": 101,
    "start_time": "2022-09-19T20:42:01.067Z"
   },
   {
    "duration": 505,
    "start_time": "2022-09-19T20:44:14.319Z"
   },
   {
    "duration": 431,
    "start_time": "2022-09-19T20:44:21.067Z"
   },
   {
    "duration": 563,
    "start_time": "2022-09-19T20:44:26.751Z"
   },
   {
    "duration": 115,
    "start_time": "2022-09-19T20:45:27.297Z"
   },
   {
    "duration": 1265,
    "start_time": "2022-09-19T20:50:24.464Z"
   },
   {
    "duration": 62,
    "start_time": "2022-09-19T20:50:25.731Z"
   },
   {
    "duration": 17,
    "start_time": "2022-09-19T20:50:25.795Z"
   },
   {
    "duration": 6,
    "start_time": "2022-09-19T20:50:25.814Z"
   },
   {
    "duration": 9,
    "start_time": "2022-09-19T20:50:25.821Z"
   },
   {
    "duration": 52,
    "start_time": "2022-09-19T20:50:25.831Z"
   },
   {
    "duration": 48,
    "start_time": "2022-09-19T20:50:25.884Z"
   },
   {
    "duration": 13,
    "start_time": "2022-09-19T20:50:25.933Z"
   },
   {
    "duration": 47,
    "start_time": "2022-09-19T20:50:25.947Z"
   },
   {
    "duration": 6,
    "start_time": "2022-09-19T20:50:25.996Z"
   },
   {
    "duration": 74,
    "start_time": "2022-09-19T20:50:26.003Z"
   },
   {
    "duration": 4,
    "start_time": "2022-09-19T20:50:26.079Z"
   },
   {
    "duration": 3529,
    "start_time": "2022-09-19T20:50:26.084Z"
   },
   {
    "duration": 4,
    "start_time": "2022-09-19T20:50:29.615Z"
   },
   {
    "duration": 138,
    "start_time": "2022-09-19T20:50:29.620Z"
   },
   {
    "duration": 23,
    "start_time": "2022-09-19T20:50:29.759Z"
   },
   {
    "duration": 9,
    "start_time": "2022-09-19T20:50:29.783Z"
   },
   {
    "duration": 84,
    "start_time": "2022-09-19T20:50:29.794Z"
   },
   {
    "duration": 623,
    "start_time": "2022-09-19T20:50:29.880Z"
   },
   {
    "duration": 248,
    "start_time": "2022-09-19T20:50:30.505Z"
   },
   {
    "duration": 115,
    "start_time": "2022-09-19T20:50:30.755Z"
   },
   {
    "duration": 113,
    "start_time": "2022-09-19T20:50:30.876Z"
   },
   {
    "duration": 10,
    "start_time": "2022-09-19T20:50:30.991Z"
   },
   {
    "duration": 51,
    "start_time": "2022-09-19T20:51:32.802Z"
   },
   {
    "duration": 515,
    "start_time": "2022-09-19T20:51:33.157Z"
   },
   {
    "duration": 1222,
    "start_time": "2022-09-19T20:53:50.891Z"
   },
   {
    "duration": 62,
    "start_time": "2022-09-19T20:53:52.115Z"
   },
   {
    "duration": 17,
    "start_time": "2022-09-19T20:53:52.178Z"
   },
   {
    "duration": 5,
    "start_time": "2022-09-19T20:53:52.197Z"
   },
   {
    "duration": 5,
    "start_time": "2022-09-19T20:53:52.204Z"
   },
   {
    "duration": 25,
    "start_time": "2022-09-19T20:53:52.210Z"
   },
   {
    "duration": 65,
    "start_time": "2022-09-19T20:53:52.237Z"
   },
   {
    "duration": 14,
    "start_time": "2022-09-19T20:53:52.304Z"
   },
   {
    "duration": 27,
    "start_time": "2022-09-19T20:53:52.319Z"
   },
   {
    "duration": 29,
    "start_time": "2022-09-19T20:53:52.348Z"
   },
   {
    "duration": 102,
    "start_time": "2022-09-19T20:53:52.378Z"
   },
   {
    "duration": 4,
    "start_time": "2022-09-19T20:53:52.482Z"
   },
   {
    "duration": 3336,
    "start_time": "2022-09-19T20:53:52.578Z"
   },
   {
    "duration": 4,
    "start_time": "2022-09-19T20:53:55.915Z"
   },
   {
    "duration": 136,
    "start_time": "2022-09-19T20:53:55.920Z"
   },
   {
    "duration": 23,
    "start_time": "2022-09-19T20:53:56.058Z"
   },
   {
    "duration": 9,
    "start_time": "2022-09-19T20:53:56.082Z"
   },
   {
    "duration": 87,
    "start_time": "2022-09-19T20:53:56.092Z"
   },
   {
    "duration": 601,
    "start_time": "2022-09-19T20:53:56.180Z"
   },
   {
    "duration": 130,
    "start_time": "2022-09-19T20:53:56.782Z"
   },
   {
    "duration": 105,
    "start_time": "2022-09-19T20:53:56.913Z"
   },
   {
    "duration": 108,
    "start_time": "2022-09-19T20:53:57.020Z"
   },
   {
    "duration": 8,
    "start_time": "2022-09-19T20:53:57.130Z"
   },
   {
    "duration": 123,
    "start_time": "2022-09-19T20:55:13.415Z"
   },
   {
    "duration": 1450,
    "start_time": "2022-09-20T09:07:06.033Z"
   },
   {
    "duration": 190,
    "start_time": "2022-09-20T09:07:07.485Z"
   },
   {
    "duration": 17,
    "start_time": "2022-09-20T09:07:07.676Z"
   },
   {
    "duration": 5,
    "start_time": "2022-09-20T09:07:07.695Z"
   },
   {
    "duration": 8,
    "start_time": "2022-09-20T09:07:07.702Z"
   },
   {
    "duration": 37,
    "start_time": "2022-09-20T09:07:07.711Z"
   },
   {
    "duration": 50,
    "start_time": "2022-09-20T09:07:07.750Z"
   },
   {
    "duration": 31,
    "start_time": "2022-09-20T09:07:07.802Z"
   },
   {
    "duration": 34,
    "start_time": "2022-09-20T09:07:07.835Z"
   },
   {
    "duration": 10,
    "start_time": "2022-09-20T09:07:07.873Z"
   },
   {
    "duration": 73,
    "start_time": "2022-09-20T09:07:07.885Z"
   },
   {
    "duration": 6,
    "start_time": "2022-09-20T09:07:08.028Z"
   },
   {
    "duration": 3907,
    "start_time": "2022-09-20T09:07:08.035Z"
   },
   {
    "duration": 4,
    "start_time": "2022-09-20T09:07:11.944Z"
   },
   {
    "duration": 171,
    "start_time": "2022-09-20T09:07:11.950Z"
   },
   {
    "duration": 30,
    "start_time": "2022-09-20T09:07:12.124Z"
   },
   {
    "duration": 15,
    "start_time": "2022-09-20T09:07:12.156Z"
   },
   {
    "duration": 71,
    "start_time": "2022-09-20T09:07:12.172Z"
   },
   {
    "duration": 781,
    "start_time": "2022-09-20T09:07:12.244Z"
   },
   {
    "duration": 190,
    "start_time": "2022-09-20T09:07:13.027Z"
   },
   {
    "duration": 139,
    "start_time": "2022-09-20T09:07:13.219Z"
   },
   {
    "duration": 187,
    "start_time": "2022-09-20T09:07:13.360Z"
   },
   {
    "duration": 9,
    "start_time": "2022-09-20T09:07:13.549Z"
   },
   {
    "duration": 1452,
    "start_time": "2022-09-20T09:37:03.301Z"
   },
   {
    "duration": 62,
    "start_time": "2022-09-20T09:37:04.755Z"
   },
   {
    "duration": 18,
    "start_time": "2022-09-20T09:37:04.819Z"
   },
   {
    "duration": 6,
    "start_time": "2022-09-20T09:37:04.839Z"
   },
   {
    "duration": 18,
    "start_time": "2022-09-20T09:37:04.846Z"
   },
   {
    "duration": 44,
    "start_time": "2022-09-20T09:37:04.865Z"
   },
   {
    "duration": 55,
    "start_time": "2022-09-20T09:37:04.910Z"
   },
   {
    "duration": 14,
    "start_time": "2022-09-20T09:37:04.966Z"
   },
   {
    "duration": 42,
    "start_time": "2022-09-20T09:37:04.982Z"
   },
   {
    "duration": 7,
    "start_time": "2022-09-20T09:37:05.027Z"
   },
   {
    "duration": 186,
    "start_time": "2022-09-20T09:37:05.036Z"
   },
   {
    "duration": 5,
    "start_time": "2022-09-20T09:37:05.224Z"
   },
   {
    "duration": 3723,
    "start_time": "2022-09-20T09:37:05.230Z"
   },
   {
    "duration": 5,
    "start_time": "2022-09-20T09:37:08.954Z"
   },
   {
    "duration": 145,
    "start_time": "2022-09-20T09:37:08.960Z"
   },
   {
    "duration": 23,
    "start_time": "2022-09-20T09:37:09.107Z"
   },
   {
    "duration": 9,
    "start_time": "2022-09-20T09:37:09.131Z"
   },
   {
    "duration": 86,
    "start_time": "2022-09-20T09:37:09.141Z"
   },
   {
    "duration": 643,
    "start_time": "2022-09-20T09:37:09.229Z"
   },
   {
    "duration": 138,
    "start_time": "2022-09-20T09:37:09.873Z"
   },
   {
    "duration": 119,
    "start_time": "2022-09-20T09:37:10.012Z"
   },
   {
    "duration": 112,
    "start_time": "2022-09-20T09:37:10.132Z"
   },
   {
    "duration": 9,
    "start_time": "2022-09-20T09:37:10.246Z"
   },
   {
    "duration": 1869,
    "start_time": "2022-09-20T19:37:10.216Z"
   },
   {
    "duration": 163,
    "start_time": "2022-09-20T19:37:12.087Z"
   },
   {
    "duration": 1507,
    "start_time": "2022-09-20T19:37:21.645Z"
   },
   {
    "duration": 0,
    "start_time": "2022-09-20T19:37:23.154Z"
   },
   {
    "duration": 5,
    "start_time": "2022-09-20T19:38:01.855Z"
   },
   {
    "duration": 106,
    "start_time": "2022-09-20T19:38:02.545Z"
   },
   {
    "duration": 9,
    "start_time": "2022-09-20T19:38:08.954Z"
   },
   {
    "duration": 5,
    "start_time": "2022-09-20T19:38:17.875Z"
   },
   {
    "duration": 12,
    "start_time": "2022-09-20T19:38:27.584Z"
   },
   {
    "duration": 4,
    "start_time": "2022-09-20T19:39:25.459Z"
   },
   {
    "duration": 71,
    "start_time": "2022-09-20T19:39:26.124Z"
   },
   {
    "duration": 5,
    "start_time": "2022-09-20T19:39:29.785Z"
   },
   {
    "duration": 12,
    "start_time": "2022-09-20T19:39:31.269Z"
   },
   {
    "duration": 13,
    "start_time": "2022-09-20T19:39:56.947Z"
   },
   {
    "duration": 91,
    "start_time": "2022-09-20T19:39:57.584Z"
   },
   {
    "duration": 5,
    "start_time": "2022-09-20T19:39:59.760Z"
   },
   {
    "duration": 26,
    "start_time": "2022-09-20T19:40:01.817Z"
   },
   {
    "duration": 4,
    "start_time": "2022-09-20T19:40:36.990Z"
   },
   {
    "duration": 11,
    "start_time": "2022-09-20T19:40:37.975Z"
   },
   {
    "duration": 6,
    "start_time": "2022-09-20T19:40:43.852Z"
   },
   {
    "duration": 13,
    "start_time": "2022-09-20T19:40:44.045Z"
   },
   {
    "duration": 4,
    "start_time": "2022-09-20T19:43:23.359Z"
   },
   {
    "duration": 68,
    "start_time": "2022-09-20T19:43:24.028Z"
   },
   {
    "duration": 322,
    "start_time": "2022-09-20T19:43:31.829Z"
   },
   {
    "duration": 292,
    "start_time": "2022-09-20T19:43:40.371Z"
   },
   {
    "duration": 364,
    "start_time": "2022-09-20T19:43:43.931Z"
   },
   {
    "duration": 13,
    "start_time": "2022-09-20T19:43:47.135Z"
   },
   {
    "duration": 11,
    "start_time": "2022-09-20T19:43:49.687Z"
   },
   {
    "duration": 11,
    "start_time": "2022-09-20T19:43:55.432Z"
   },
   {
    "duration": 11,
    "start_time": "2022-09-20T19:43:57.630Z"
   },
   {
    "duration": 17,
    "start_time": "2022-09-20T19:43:57.938Z"
   },
   {
    "duration": 1473,
    "start_time": "2022-09-20T19:44:06.954Z"
   },
   {
    "duration": 70,
    "start_time": "2022-09-20T19:44:08.436Z"
   },
   {
    "duration": 20,
    "start_time": "2022-09-20T19:44:08.507Z"
   },
   {
    "duration": 27,
    "start_time": "2022-09-20T19:44:08.529Z"
   },
   {
    "duration": 8,
    "start_time": "2022-09-20T19:44:08.558Z"
   },
   {
    "duration": 8,
    "start_time": "2022-09-20T19:44:08.568Z"
   },
   {
    "duration": 49,
    "start_time": "2022-09-20T19:44:08.577Z"
   },
   {
    "duration": 64,
    "start_time": "2022-09-20T19:44:08.629Z"
   },
   {
    "duration": 38,
    "start_time": "2022-09-20T19:44:08.695Z"
   },
   {
    "duration": 290,
    "start_time": "2022-09-20T19:44:08.741Z"
   },
   {
    "duration": 111,
    "start_time": "2022-09-20T19:44:09.043Z"
   },
   {
    "duration": 574,
    "start_time": "2022-09-20T19:44:09.157Z"
   },
   {
    "duration": 7,
    "start_time": "2022-09-20T19:44:09.738Z"
   },
   {
    "duration": 12195,
    "start_time": "2022-09-20T19:44:09.748Z"
   },
   {
    "duration": 5,
    "start_time": "2022-09-20T19:44:21.947Z"
   },
   {
    "duration": 192,
    "start_time": "2022-09-20T19:44:21.954Z"
   },
   {
    "duration": 20,
    "start_time": "2022-09-20T19:44:22.148Z"
   },
   {
    "duration": 132,
    "start_time": "2022-09-20T19:44:22.170Z"
   },
   {
    "duration": 1016,
    "start_time": "2022-09-20T19:44:22.304Z"
   },
   {
    "duration": 2144,
    "start_time": "2022-09-20T19:44:23.329Z"
   },
   {
    "duration": 180,
    "start_time": "2022-09-20T19:44:25.475Z"
   },
   {
    "duration": 146,
    "start_time": "2022-09-20T19:44:25.657Z"
   },
   {
    "duration": 141,
    "start_time": "2022-09-20T19:44:25.805Z"
   },
   {
    "duration": 10,
    "start_time": "2022-09-20T19:44:25.948Z"
   },
   {
    "duration": 216,
    "start_time": "2022-09-20T19:44:52.684Z"
   },
   {
    "duration": 1415,
    "start_time": "2022-09-20T19:44:58.164Z"
   },
   {
    "duration": 81,
    "start_time": "2022-09-20T19:44:59.580Z"
   },
   {
    "duration": 30,
    "start_time": "2022-09-20T19:44:59.663Z"
   },
   {
    "duration": 56,
    "start_time": "2022-09-20T19:44:59.695Z"
   },
   {
    "duration": 28,
    "start_time": "2022-09-20T19:44:59.753Z"
   },
   {
    "duration": 68,
    "start_time": "2022-09-20T19:44:59.782Z"
   },
   {
    "duration": 42,
    "start_time": "2022-09-20T19:44:59.852Z"
   },
   {
    "duration": 62,
    "start_time": "2022-09-20T19:44:59.896Z"
   },
   {
    "duration": 20,
    "start_time": "2022-09-20T19:44:59.960Z"
   },
   {
    "duration": 68,
    "start_time": "2022-09-20T19:44:59.983Z"
   },
   {
    "duration": 21,
    "start_time": "2022-09-20T19:45:00.054Z"
   },
   {
    "duration": 152,
    "start_time": "2022-09-20T19:45:00.077Z"
   },
   {
    "duration": 4,
    "start_time": "2022-09-20T19:45:00.231Z"
   },
   {
    "duration": 6383,
    "start_time": "2022-09-20T19:45:00.236Z"
   },
   {
    "duration": 10,
    "start_time": "2022-09-20T19:45:06.621Z"
   },
   {
    "duration": 210,
    "start_time": "2022-09-20T19:45:06.633Z"
   },
   {
    "duration": 29,
    "start_time": "2022-09-20T19:45:06.845Z"
   },
   {
    "duration": 14,
    "start_time": "2022-09-20T19:45:06.876Z"
   },
   {
    "duration": 143,
    "start_time": "2022-09-20T19:45:06.892Z"
   },
   {
    "duration": 741,
    "start_time": "2022-09-20T19:45:07.119Z"
   },
   {
    "duration": 158,
    "start_time": "2022-09-20T19:45:07.862Z"
   },
   {
    "duration": 149,
    "start_time": "2022-09-20T19:45:08.036Z"
   },
   {
    "duration": 136,
    "start_time": "2022-09-20T19:45:08.187Z"
   },
   {
    "duration": 27,
    "start_time": "2022-09-20T19:45:08.330Z"
   },
   {
    "duration": 16,
    "start_time": "2022-09-20T19:56:37.336Z"
   },
   {
    "duration": 5,
    "start_time": "2022-09-20T19:56:38.158Z"
   },
   {
    "duration": 9,
    "start_time": "2022-09-20T19:56:38.918Z"
   },
   {
    "duration": 138,
    "start_time": "2022-09-20T19:57:44.195Z"
   },
   {
    "duration": 8,
    "start_time": "2022-09-20T19:57:44.936Z"
   },
   {
    "duration": 3993,
    "start_time": "2022-09-20T19:57:47.455Z"
   },
   {
    "duration": 5,
    "start_time": "2022-09-20T19:57:53.056Z"
   },
   {
    "duration": 3363,
    "start_time": "2022-09-20T19:59:57.452Z"
   },
   {
    "duration": 23,
    "start_time": "2022-09-20T20:00:00.824Z"
   },
   {
    "duration": 4696,
    "start_time": "2022-09-20T20:00:04.743Z"
   },
   {
    "duration": 4092,
    "start_time": "2022-09-20T20:00:09.700Z"
   },
   {
    "duration": 5351,
    "start_time": "2022-09-20T20:00:16.412Z"
   },
   {
    "duration": 2158,
    "start_time": "2022-09-20T20:00:51.329Z"
   },
   {
    "duration": 4,
    "start_time": "2022-09-20T20:00:53.489Z"
   },
   {
    "duration": 2137,
    "start_time": "2022-09-20T20:01:04.089Z"
   },
   {
    "duration": 4,
    "start_time": "2022-09-20T20:01:09.399Z"
   },
   {
    "duration": 1425,
    "start_time": "2022-09-20T20:01:21.136Z"
   },
   {
    "duration": 4,
    "start_time": "2022-09-20T20:01:23.469Z"
   },
   {
    "duration": 2851,
    "start_time": "2022-09-20T20:01:55.781Z"
   },
   {
    "duration": 8,
    "start_time": "2022-09-20T20:01:58.645Z"
   },
   {
    "duration": 4016,
    "start_time": "2022-09-20T20:02:05.135Z"
   },
   {
    "duration": 4,
    "start_time": "2022-09-20T20:02:09.158Z"
   },
   {
    "duration": 23,
    "start_time": "2022-09-20T20:08:31.671Z"
   },
   {
    "duration": 83,
    "start_time": "2022-09-20T20:08:51.381Z"
   },
   {
    "duration": 5,
    "start_time": "2022-09-20T20:08:52.395Z"
   },
   {
    "duration": 1571,
    "start_time": "2022-09-20T20:09:44.444Z"
   },
   {
    "duration": 118,
    "start_time": "2022-09-20T20:09:46.017Z"
   },
   {
    "duration": 32,
    "start_time": "2022-09-20T20:09:46.146Z"
   },
   {
    "duration": 19,
    "start_time": "2022-09-20T20:09:46.182Z"
   },
   {
    "duration": 63,
    "start_time": "2022-09-20T20:09:46.203Z"
   },
   {
    "duration": 12,
    "start_time": "2022-09-20T20:09:46.268Z"
   },
   {
    "duration": 53,
    "start_time": "2022-09-20T20:09:46.282Z"
   },
   {
    "duration": 90,
    "start_time": "2022-09-20T20:09:46.347Z"
   },
   {
    "duration": 23,
    "start_time": "2022-09-20T20:09:46.438Z"
   },
   {
    "duration": 34,
    "start_time": "2022-09-20T20:09:46.464Z"
   },
   {
    "duration": 38,
    "start_time": "2022-09-20T20:09:46.500Z"
   },
   {
    "duration": 11,
    "start_time": "2022-09-20T20:09:46.550Z"
   },
   {
    "duration": 13,
    "start_time": "2022-09-20T20:09:46.563Z"
   },
   {
    "duration": 27,
    "start_time": "2022-09-20T20:09:46.577Z"
   },
   {
    "duration": 205,
    "start_time": "2022-09-20T20:09:46.606Z"
   },
   {
    "duration": 21,
    "start_time": "2022-09-20T20:09:46.813Z"
   },
   {
    "duration": 6239,
    "start_time": "2022-09-20T20:09:46.836Z"
   },
   {
    "duration": 35,
    "start_time": "2022-09-20T20:09:53.081Z"
   },
   {
    "duration": 590,
    "start_time": "2022-09-20T20:09:53.133Z"
   },
   {
    "duration": 18,
    "start_time": "2022-09-20T20:09:53.724Z"
   },
   {
    "duration": 183,
    "start_time": "2022-09-20T20:09:53.744Z"
   },
   {
    "duration": 744,
    "start_time": "2022-09-20T20:09:53.929Z"
   },
   {
    "duration": 220,
    "start_time": "2022-09-20T20:09:54.674Z"
   },
   {
    "duration": 327,
    "start_time": "2022-09-20T20:09:54.896Z"
   },
   {
    "duration": 278,
    "start_time": "2022-09-20T20:09:55.243Z"
   },
   {
    "duration": 21,
    "start_time": "2022-09-20T20:09:55.523Z"
   },
   {
    "duration": 2277,
    "start_time": "2022-09-20T20:10:44.124Z"
   },
   {
    "duration": 35,
    "start_time": "2022-09-20T20:10:46.403Z"
   },
   {
    "duration": 2998,
    "start_time": "2022-09-20T20:10:50.779Z"
   },
   {
    "duration": 5,
    "start_time": "2022-09-20T20:10:53.779Z"
   },
   {
    "duration": 4339,
    "start_time": "2022-09-20T20:10:57.529Z"
   },
   {
    "duration": 6,
    "start_time": "2022-09-20T20:11:01.873Z"
   },
   {
    "duration": 5698,
    "start_time": "2022-09-20T20:11:09.395Z"
   },
   {
    "duration": 10,
    "start_time": "2022-09-20T20:11:16.344Z"
   },
   {
    "duration": 7178,
    "start_time": "2022-09-20T20:11:22.370Z"
   },
   {
    "duration": 5,
    "start_time": "2022-09-20T20:11:29.550Z"
   },
   {
    "duration": 5600,
    "start_time": "2022-09-20T20:12:30.068Z"
   },
   {
    "duration": 5,
    "start_time": "2022-09-20T20:12:35.670Z"
   },
   {
    "duration": 75,
    "start_time": "2022-09-20T20:30:40.957Z"
   },
   {
    "duration": 74,
    "start_time": "2022-09-20T20:32:25.945Z"
   },
   {
    "duration": 650,
    "start_time": "2022-09-20T20:33:20.772Z"
   },
   {
    "duration": 135,
    "start_time": "2022-09-20T20:34:53.138Z"
   },
   {
    "duration": 130,
    "start_time": "2022-09-20T20:35:09.167Z"
   },
   {
    "duration": 133,
    "start_time": "2022-09-20T20:35:17.940Z"
   },
   {
    "duration": 11,
    "start_time": "2022-09-20T20:35:18.255Z"
   },
   {
    "duration": 53,
    "start_time": "2022-09-21T07:50:49.241Z"
   },
   {
    "duration": 1490,
    "start_time": "2022-09-21T07:50:58.325Z"
   },
   {
    "duration": 106,
    "start_time": "2022-09-21T07:50:59.817Z"
   },
   {
    "duration": 20,
    "start_time": "2022-09-21T07:50:59.925Z"
   },
   {
    "duration": 11,
    "start_time": "2022-09-21T07:50:59.946Z"
   },
   {
    "duration": 6,
    "start_time": "2022-09-21T07:50:59.959Z"
   },
   {
    "duration": 9,
    "start_time": "2022-09-21T07:50:59.967Z"
   },
   {
    "duration": 58,
    "start_time": "2022-09-21T07:50:59.977Z"
   },
   {
    "duration": 52,
    "start_time": "2022-09-21T07:51:00.037Z"
   },
   {
    "duration": 30,
    "start_time": "2022-09-21T07:51:00.091Z"
   },
   {
    "duration": 29,
    "start_time": "2022-09-21T07:51:00.122Z"
   },
   {
    "duration": 15,
    "start_time": "2022-09-21T07:51:00.153Z"
   },
   {
    "duration": 17,
    "start_time": "2022-09-21T07:51:00.169Z"
   },
   {
    "duration": 23,
    "start_time": "2022-09-21T07:51:00.187Z"
   },
   {
    "duration": 47,
    "start_time": "2022-09-21T07:51:00.212Z"
   },
   {
    "duration": 59,
    "start_time": "2022-09-21T07:51:00.260Z"
   },
   {
    "duration": 92,
    "start_time": "2022-09-21T07:51:00.321Z"
   },
   {
    "duration": 4933,
    "start_time": "2022-09-21T07:51:00.415Z"
   },
   {
    "duration": 4,
    "start_time": "2022-09-21T07:51:05.350Z"
   },
   {
    "duration": 176,
    "start_time": "2022-09-21T07:51:05.356Z"
   },
   {
    "duration": 10,
    "start_time": "2022-09-21T07:51:05.533Z"
   },
   {
    "duration": 65,
    "start_time": "2022-09-21T07:51:05.544Z"
   },
   {
    "duration": 148,
    "start_time": "2022-09-21T07:51:05.611Z"
   },
   {
    "duration": 0,
    "start_time": "2022-09-21T07:51:05.761Z"
   },
   {
    "duration": 0,
    "start_time": "2022-09-21T07:51:05.762Z"
   },
   {
    "duration": 0,
    "start_time": "2022-09-21T07:51:05.763Z"
   },
   {
    "duration": 0,
    "start_time": "2022-09-21T07:51:05.764Z"
   },
   {
    "duration": 0,
    "start_time": "2022-09-21T07:51:05.765Z"
   },
   {
    "duration": 0,
    "start_time": "2022-09-21T07:51:05.766Z"
   },
   {
    "duration": 0,
    "start_time": "2022-09-21T07:51:05.767Z"
   },
   {
    "duration": 0,
    "start_time": "2022-09-21T07:51:05.769Z"
   },
   {
    "duration": 0,
    "start_time": "2022-09-21T07:51:05.770Z"
   },
   {
    "duration": 46,
    "start_time": "2022-09-21T07:51:19.187Z"
   },
   {
    "duration": 534,
    "start_time": "2022-09-21T07:51:19.737Z"
   },
   {
    "duration": 9,
    "start_time": "2022-09-21T07:51:24.865Z"
   },
   {
    "duration": 6,
    "start_time": "2022-09-21T07:51:25.585Z"
   },
   {
    "duration": 10,
    "start_time": "2022-09-21T07:59:16.873Z"
   },
   {
    "duration": 9,
    "start_time": "2022-09-21T07:59:27.508Z"
   },
   {
    "duration": 10,
    "start_time": "2022-09-21T07:59:39.384Z"
   },
   {
    "duration": 4,
    "start_time": "2022-09-21T07:59:39.605Z"
   },
   {
    "duration": 5,
    "start_time": "2022-09-21T07:59:42.487Z"
   },
   {
    "duration": 26,
    "start_time": "2022-09-21T08:00:30.874Z"
   },
   {
    "duration": 13,
    "start_time": "2022-09-21T08:00:34.791Z"
   },
   {
    "duration": 23,
    "start_time": "2022-09-21T08:00:42.848Z"
   },
   {
    "duration": 4,
    "start_time": "2022-09-21T08:00:45.969Z"
   },
   {
    "duration": 3,
    "start_time": "2022-09-21T08:27:51.832Z"
   },
   {
    "duration": 992,
    "start_time": "2022-09-21T08:27:53.679Z"
   },
   {
    "duration": 1015,
    "start_time": "2022-09-21T08:44:42.497Z"
   },
   {
    "duration": 157,
    "start_time": "2022-09-21T08:44:45.450Z"
   },
   {
    "duration": 127,
    "start_time": "2022-09-21T08:44:55.541Z"
   },
   {
    "duration": 129,
    "start_time": "2022-09-21T08:45:28.903Z"
   },
   {
    "duration": 119,
    "start_time": "2022-09-21T08:45:49.136Z"
   },
   {
    "duration": 15,
    "start_time": "2022-09-21T08:45:53.525Z"
   },
   {
    "duration": 1320,
    "start_time": "2022-09-21T09:11:16.649Z"
   },
   {
    "duration": 75,
    "start_time": "2022-09-21T09:11:17.971Z"
   },
   {
    "duration": 18,
    "start_time": "2022-09-21T09:11:18.048Z"
   },
   {
    "duration": 10,
    "start_time": "2022-09-21T09:11:18.068Z"
   },
   {
    "duration": 7,
    "start_time": "2022-09-21T09:11:18.080Z"
   },
   {
    "duration": 9,
    "start_time": "2022-09-21T09:11:18.089Z"
   },
   {
    "duration": 35,
    "start_time": "2022-09-21T09:11:18.116Z"
   },
   {
    "duration": 67,
    "start_time": "2022-09-21T09:11:18.152Z"
   },
   {
    "duration": 13,
    "start_time": "2022-09-21T09:11:18.222Z"
   },
   {
    "duration": 29,
    "start_time": "2022-09-21T09:11:18.238Z"
   },
   {
    "duration": 12,
    "start_time": "2022-09-21T09:11:18.269Z"
   },
   {
    "duration": 4,
    "start_time": "2022-09-21T09:11:18.282Z"
   },
   {
    "duration": 10,
    "start_time": "2022-09-21T09:11:18.310Z"
   },
   {
    "duration": 27,
    "start_time": "2022-09-21T09:11:18.322Z"
   },
   {
    "duration": 65,
    "start_time": "2022-09-21T09:11:18.350Z"
   },
   {
    "duration": 6,
    "start_time": "2022-09-21T09:11:18.416Z"
   },
   {
    "duration": 4996,
    "start_time": "2022-09-21T09:11:18.423Z"
   },
   {
    "duration": 5,
    "start_time": "2022-09-21T09:11:23.421Z"
   },
   {
    "duration": 154,
    "start_time": "2022-09-21T09:11:23.427Z"
   },
   {
    "duration": 11,
    "start_time": "2022-09-21T09:11:23.583Z"
   },
   {
    "duration": 44,
    "start_time": "2022-09-21T09:11:23.595Z"
   },
   {
    "duration": 189,
    "start_time": "2022-09-21T09:11:23.721Z"
   },
   {
    "duration": 656,
    "start_time": "2022-09-21T09:11:23.912Z"
   },
   {
    "duration": 9,
    "start_time": "2022-09-21T09:11:24.570Z"
   },
   {
    "duration": 968,
    "start_time": "2022-09-21T09:11:24.580Z"
   },
   {
    "duration": 129,
    "start_time": "2022-09-21T09:11:25.549Z"
   },
   {
    "duration": 119,
    "start_time": "2022-09-21T09:11:25.680Z"
   },
   {
    "duration": 116,
    "start_time": "2022-09-21T09:11:25.811Z"
   },
   {
    "duration": 10,
    "start_time": "2022-09-21T09:11:25.928Z"
   },
   {
    "duration": 132,
    "start_time": "2022-09-21T09:15:03.905Z"
   },
   {
    "duration": 105,
    "start_time": "2022-09-21T09:15:14.030Z"
   },
   {
    "duration": 3,
    "start_time": "2022-09-21T09:18:54.326Z"
   },
   {
    "duration": 1329,
    "start_time": "2022-09-21T09:20:36.736Z"
   },
   {
    "duration": 72,
    "start_time": "2022-09-21T09:20:38.067Z"
   },
   {
    "duration": 20,
    "start_time": "2022-09-21T09:20:38.144Z"
   },
   {
    "duration": 11,
    "start_time": "2022-09-21T09:20:38.167Z"
   },
   {
    "duration": 6,
    "start_time": "2022-09-21T09:20:38.180Z"
   },
   {
    "duration": 35,
    "start_time": "2022-09-21T09:20:38.187Z"
   },
   {
    "duration": 29,
    "start_time": "2022-09-21T09:20:38.225Z"
   },
   {
    "duration": 66,
    "start_time": "2022-09-21T09:20:38.255Z"
   },
   {
    "duration": 15,
    "start_time": "2022-09-21T09:20:38.322Z"
   },
   {
    "duration": 29,
    "start_time": "2022-09-21T09:20:38.339Z"
   },
   {
    "duration": 12,
    "start_time": "2022-09-21T09:20:38.369Z"
   },
   {
    "duration": 3,
    "start_time": "2022-09-21T09:20:38.383Z"
   },
   {
    "duration": 32,
    "start_time": "2022-09-21T09:20:38.388Z"
   },
   {
    "duration": 26,
    "start_time": "2022-09-21T09:20:38.422Z"
   },
   {
    "duration": 73,
    "start_time": "2022-09-21T09:20:38.450Z"
   },
   {
    "duration": 90,
    "start_time": "2022-09-21T09:20:38.525Z"
   },
   {
    "duration": 4947,
    "start_time": "2022-09-21T09:20:38.621Z"
   },
   {
    "duration": 4,
    "start_time": "2022-09-21T09:20:43.569Z"
   },
   {
    "duration": 159,
    "start_time": "2022-09-21T09:20:43.575Z"
   },
   {
    "duration": 10,
    "start_time": "2022-09-21T09:20:43.736Z"
   },
   {
    "duration": 72,
    "start_time": "2022-09-21T09:20:43.748Z"
   },
   {
    "duration": 133,
    "start_time": "2022-09-21T09:20:43.821Z"
   },
   {
    "duration": 653,
    "start_time": "2022-09-21T09:20:44.008Z"
   },
   {
    "duration": 9,
    "start_time": "2022-09-21T09:20:44.662Z"
   },
   {
    "duration": 965,
    "start_time": "2022-09-21T09:20:44.672Z"
   },
   {
    "duration": 3,
    "start_time": "2022-09-21T09:20:45.639Z"
   },
   {
    "duration": 108,
    "start_time": "2022-09-21T09:20:45.643Z"
   },
   {
    "duration": 133,
    "start_time": "2022-09-21T09:20:45.754Z"
   },
   {
    "duration": 133,
    "start_time": "2022-09-21T09:20:45.889Z"
   },
   {
    "duration": 10,
    "start_time": "2022-09-21T09:20:46.024Z"
   },
   {
    "duration": 1886,
    "start_time": "2022-09-21T09:43:51.560Z"
   },
   {
    "duration": 176,
    "start_time": "2022-09-21T09:43:54.054Z"
   },
   {
    "duration": 109,
    "start_time": "2022-09-21T09:44:39.216Z"
   },
   {
    "duration": 4,
    "start_time": "2022-09-21T09:44:45.496Z"
   },
   {
    "duration": 5,
    "start_time": "2022-09-21T09:44:55.716Z"
   },
   {
    "duration": 10,
    "start_time": "2022-09-21T09:45:37.648Z"
   },
   {
    "duration": 4,
    "start_time": "2022-09-21T09:45:42.766Z"
   },
   {
    "duration": 5,
    "start_time": "2022-09-21T09:45:48.721Z"
   },
   {
    "duration": 4,
    "start_time": "2022-09-21T09:46:07.902Z"
   },
   {
    "duration": 5,
    "start_time": "2022-09-21T09:46:16.802Z"
   },
   {
    "duration": 24,
    "start_time": "2022-09-21T09:46:45.065Z"
   },
   {
    "duration": 64,
    "start_time": "2022-10-11T11:47:34.221Z"
   },
   {
    "duration": 1628,
    "start_time": "2022-10-11T11:47:38.820Z"
   },
   {
    "duration": 120,
    "start_time": "2022-10-11T11:47:40.702Z"
   },
   {
    "duration": 184,
    "start_time": "2022-10-11T12:45:46.234Z"
   },
   {
    "duration": 1583,
    "start_time": "2022-10-16T15:48:23.496Z"
   },
   {
    "duration": 84,
    "start_time": "2022-10-16T15:48:25.081Z"
   },
   {
    "duration": 790,
    "start_time": "2022-10-16T15:48:50.912Z"
   },
   {
    "duration": 32678,
    "start_time": "2022-10-16T15:49:01.540Z"
   },
   {
    "duration": 4,
    "start_time": "2022-10-16T15:49:42.472Z"
   },
   {
    "duration": 48,
    "start_time": "2022-10-16T15:49:44.513Z"
   },
   {
    "duration": 132,
    "start_time": "2022-10-16T15:50:18.497Z"
   },
   {
    "duration": 5,
    "start_time": "2022-10-16T15:50:42.691Z"
   },
   {
    "duration": 47,
    "start_time": "2022-10-16T15:50:43.390Z"
   },
   {
    "duration": 115,
    "start_time": "2022-10-16T15:50:43.599Z"
   },
   {
    "duration": 3,
    "start_time": "2022-10-16T15:51:24.505Z"
   },
   {
    "duration": 48,
    "start_time": "2022-10-16T15:51:25.952Z"
   },
   {
    "duration": 131,
    "start_time": "2022-10-16T15:51:30.888Z"
   },
   {
    "duration": 57,
    "start_time": "2022-10-16T15:52:38.726Z"
   },
   {
    "duration": 18,
    "start_time": "2022-10-16T15:52:49.761Z"
   },
   {
    "duration": 656,
    "start_time": "2022-10-16T15:53:23.539Z"
   },
   {
    "duration": 96,
    "start_time": "2022-10-16T15:53:28.056Z"
   },
   {
    "duration": 90,
    "start_time": "2022-10-16T15:53:37.981Z"
   },
   {
    "duration": 43,
    "start_time": "2022-10-16T15:53:50.160Z"
   },
   {
    "duration": 47,
    "start_time": "2022-10-16T15:55:25.584Z"
   },
   {
    "duration": 93,
    "start_time": "2022-10-16T16:09:00.401Z"
   },
   {
    "duration": 93,
    "start_time": "2022-10-16T16:09:03.333Z"
   },
   {
    "duration": 17,
    "start_time": "2022-10-16T16:09:07.172Z"
   },
   {
    "duration": 97,
    "start_time": "2022-10-16T16:10:01.254Z"
   },
   {
    "duration": 104,
    "start_time": "2022-10-16T16:10:06.005Z"
   },
   {
    "duration": 93,
    "start_time": "2022-10-16T16:10:19.032Z"
   },
   {
    "duration": 97,
    "start_time": "2022-10-16T16:10:22.981Z"
   },
   {
    "duration": 89,
    "start_time": "2022-10-16T16:10:28.428Z"
   },
   {
    "duration": 28,
    "start_time": "2022-10-16T16:11:21.424Z"
   },
   {
    "duration": 90,
    "start_time": "2022-10-16T16:11:24.876Z"
   },
   {
    "duration": 89,
    "start_time": "2022-10-16T16:11:35.378Z"
   },
   {
    "duration": 90,
    "start_time": "2022-10-16T16:11:38.961Z"
   },
   {
    "duration": 15,
    "start_time": "2022-10-16T16:11:51.482Z"
   },
   {
    "duration": 12,
    "start_time": "2022-10-16T16:12:28.164Z"
   },
   {
    "duration": 11,
    "start_time": "2022-10-16T16:13:15.206Z"
   },
   {
    "duration": 9,
    "start_time": "2022-10-16T16:13:32.881Z"
   },
   {
    "duration": 13,
    "start_time": "2022-10-16T16:13:36.268Z"
   },
   {
    "duration": 13,
    "start_time": "2022-10-16T16:13:39.172Z"
   },
   {
    "duration": 12,
    "start_time": "2022-10-16T16:13:57.993Z"
   },
   {
    "duration": 13,
    "start_time": "2022-10-16T16:14:21.720Z"
   },
   {
    "duration": 9,
    "start_time": "2022-10-16T16:14:26.647Z"
   },
   {
    "duration": 12,
    "start_time": "2022-10-16T16:14:38.773Z"
   },
   {
    "duration": 167,
    "start_time": "2022-10-16T16:16:33.856Z"
   },
   {
    "duration": 4,
    "start_time": "2022-10-16T16:17:11.982Z"
   },
   {
    "duration": 4717,
    "start_time": "2022-10-16T16:17:14.845Z"
   },
   {
    "duration": 3264,
    "start_time": "2022-10-16T16:17:40.273Z"
   },
   {
    "duration": 4905,
    "start_time": "2022-10-16T16:18:35.595Z"
   },
   {
    "duration": 4826,
    "start_time": "2022-10-16T16:20:09.241Z"
   },
   {
    "duration": 4417,
    "start_time": "2022-10-16T16:20:15.407Z"
   },
   {
    "duration": 195,
    "start_time": "2022-10-16T16:20:43.044Z"
   },
   {
    "duration": 12,
    "start_time": "2022-10-16T16:20:49.963Z"
   },
   {
    "duration": 126,
    "start_time": "2022-10-16T16:22:07.798Z"
   },
   {
    "duration": 40,
    "start_time": "2022-10-16T16:22:32.175Z"
   },
   {
    "duration": 121,
    "start_time": "2022-10-16T16:22:35.522Z"
   },
   {
    "duration": 125,
    "start_time": "2022-10-16T16:22:40.221Z"
   },
   {
    "duration": 875,
    "start_time": "2022-10-16T16:24:46.456Z"
   },
   {
    "duration": 1241,
    "start_time": "2022-10-16T16:25:14.447Z"
   },
   {
    "duration": 863,
    "start_time": "2022-10-16T16:25:30.610Z"
   },
   {
    "duration": 5136,
    "start_time": "2022-10-16T16:36:05.306Z"
   },
   {
    "duration": 5110,
    "start_time": "2022-10-16T16:36:19.607Z"
   },
   {
    "duration": 5301,
    "start_time": "2022-10-16T16:36:39.105Z"
   },
   {
    "duration": 5097,
    "start_time": "2022-10-16T16:36:50.832Z"
   },
   {
    "duration": 93,
    "start_time": "2022-10-16T16:37:11.358Z"
   },
   {
    "duration": 5257,
    "start_time": "2022-10-16T16:37:11.748Z"
   },
   {
    "duration": 127809,
    "start_time": "2022-10-16T16:37:41.589Z"
   },
   {
    "duration": 128656,
    "start_time": "2022-10-16T16:42:49.457Z"
   },
   {
    "duration": 847,
    "start_time": "2022-10-16T16:45:15.824Z"
   },
   {
    "duration": 47,
    "start_time": "2022-10-16T16:46:08.891Z"
   },
   {
    "duration": 11,
    "start_time": "2022-10-16T16:46:11.897Z"
   },
   {
    "duration": 188,
    "start_time": "2022-10-16T16:46:32.007Z"
   },
   {
    "duration": 12,
    "start_time": "2022-10-16T16:46:51.607Z"
   },
   {
    "duration": 12,
    "start_time": "2022-10-16T16:46:59.186Z"
   },
   {
    "duration": 35,
    "start_time": "2022-10-16T16:47:02.418Z"
   },
   {
    "duration": 11,
    "start_time": "2022-10-16T16:47:07.334Z"
   },
   {
    "duration": 179,
    "start_time": "2022-10-16T16:47:55.360Z"
   },
   {
    "duration": 1233,
    "start_time": "2022-10-16T16:48:02.843Z"
   },
   {
    "duration": 1094,
    "start_time": "2022-10-16T16:48:13.335Z"
   },
   {
    "duration": 6,
    "start_time": "2022-10-16T16:58:11.433Z"
   },
   {
    "duration": 55,
    "start_time": "2022-10-16T17:13:41.897Z"
   },
   {
    "duration": 10,
    "start_time": "2022-10-16T17:13:47.005Z"
   },
   {
    "duration": 10,
    "start_time": "2022-10-16T17:13:50.172Z"
   },
   {
    "duration": 700,
    "start_time": "2022-10-16T17:13:59.060Z"
   },
   {
    "duration": 1051,
    "start_time": "2022-10-16T17:14:05.591Z"
   },
   {
    "duration": 20,
    "start_time": "2022-10-16T17:14:14.532Z"
   },
   {
    "duration": 1147,
    "start_time": "2022-10-16T17:14:52.105Z"
   },
   {
    "duration": 22,
    "start_time": "2022-10-16T17:14:53.507Z"
   },
   {
    "duration": 9,
    "start_time": "2022-10-16T17:15:08.383Z"
   },
   {
    "duration": 1048,
    "start_time": "2022-10-16T17:15:20.723Z"
   },
   {
    "duration": 24,
    "start_time": "2022-10-16T17:15:22.674Z"
   },
   {
    "duration": 1567,
    "start_time": "2023-04-10T09:36:37.023Z"
   },
   {
    "duration": 110,
    "start_time": "2023-04-10T09:36:38.593Z"
   },
   {
    "duration": 102,
    "start_time": "2023-04-10T09:36:38.705Z"
   },
   {
    "duration": 1182,
    "start_time": "2023-04-10T09:36:38.810Z"
   },
   {
    "duration": 23,
    "start_time": "2023-04-10T09:36:39.993Z"
   },
   {
    "duration": 4,
    "start_time": "2023-04-10T09:36:40.017Z"
   },
   {
    "duration": 4,
    "start_time": "2023-04-10T09:36:40.041Z"
   },
   {
    "duration": 11,
    "start_time": "2023-04-10T09:36:40.046Z"
   },
   {
    "duration": 9,
    "start_time": "2023-04-10T09:36:40.059Z"
   },
   {
    "duration": 7,
    "start_time": "2023-04-10T09:36:40.070Z"
   },
   {
    "duration": 12,
    "start_time": "2023-04-10T09:36:40.079Z"
   },
   {
    "duration": 142,
    "start_time": "2023-04-10T09:36:40.093Z"
   },
   {
    "duration": 0,
    "start_time": "2023-04-10T09:36:40.238Z"
   },
   {
    "duration": 0,
    "start_time": "2023-04-10T09:36:40.239Z"
   },
   {
    "duration": 0,
    "start_time": "2023-04-10T09:36:40.241Z"
   },
   {
    "duration": 0,
    "start_time": "2023-04-10T09:36:40.242Z"
   },
   {
    "duration": 0,
    "start_time": "2023-04-10T09:36:40.244Z"
   },
   {
    "duration": 0,
    "start_time": "2023-04-10T09:36:40.245Z"
   },
   {
    "duration": 0,
    "start_time": "2023-04-10T09:36:40.246Z"
   },
   {
    "duration": 0,
    "start_time": "2023-04-10T09:36:40.247Z"
   },
   {
    "duration": 0,
    "start_time": "2023-04-10T09:36:40.248Z"
   },
   {
    "duration": 0,
    "start_time": "2023-04-10T09:36:40.249Z"
   },
   {
    "duration": 0,
    "start_time": "2023-04-10T09:36:40.250Z"
   },
   {
    "duration": 0,
    "start_time": "2023-04-10T09:36:40.251Z"
   },
   {
    "duration": 0,
    "start_time": "2023-04-10T09:36:40.253Z"
   },
   {
    "duration": 0,
    "start_time": "2023-04-10T09:36:40.254Z"
   },
   {
    "duration": 0,
    "start_time": "2023-04-10T09:36:40.255Z"
   },
   {
    "duration": 0,
    "start_time": "2023-04-10T09:36:40.256Z"
   },
   {
    "duration": 0,
    "start_time": "2023-04-10T09:36:40.257Z"
   },
   {
    "duration": 0,
    "start_time": "2023-04-10T09:36:40.258Z"
   },
   {
    "duration": 0,
    "start_time": "2023-04-10T09:36:40.259Z"
   },
   {
    "duration": 0,
    "start_time": "2023-04-10T09:36:40.260Z"
   },
   {
    "duration": 0,
    "start_time": "2023-04-10T09:36:40.261Z"
   },
   {
    "duration": 0,
    "start_time": "2023-04-10T09:36:40.262Z"
   },
   {
    "duration": 0,
    "start_time": "2023-04-10T09:36:40.264Z"
   },
   {
    "duration": 0,
    "start_time": "2023-04-10T09:36:40.265Z"
   },
   {
    "duration": 0,
    "start_time": "2023-04-10T09:36:40.266Z"
   },
   {
    "duration": 0,
    "start_time": "2023-04-10T09:36:40.267Z"
   },
   {
    "duration": 0,
    "start_time": "2023-04-10T09:36:40.268Z"
   },
   {
    "duration": 24,
    "start_time": "2023-04-10T09:37:48.025Z"
   },
   {
    "duration": 1395,
    "start_time": "2023-04-10T09:38:18.363Z"
   },
   {
    "duration": 61,
    "start_time": "2023-04-10T09:38:19.760Z"
   },
   {
    "duration": 100,
    "start_time": "2023-04-10T09:38:19.823Z"
   },
   {
    "duration": 1225,
    "start_time": "2023-04-10T09:38:19.925Z"
   },
   {
    "duration": 21,
    "start_time": "2023-04-10T09:38:21.152Z"
   },
   {
    "duration": 4,
    "start_time": "2023-04-10T09:38:21.175Z"
   },
   {
    "duration": 6,
    "start_time": "2023-04-10T09:38:21.181Z"
   },
   {
    "duration": 8,
    "start_time": "2023-04-10T09:38:21.189Z"
   },
   {
    "duration": 7,
    "start_time": "2023-04-10T09:38:21.199Z"
   },
   {
    "duration": 4,
    "start_time": "2023-04-10T09:38:21.208Z"
   },
   {
    "duration": 30,
    "start_time": "2023-04-10T09:38:21.213Z"
   },
   {
    "duration": 25,
    "start_time": "2023-04-10T09:38:21.245Z"
   },
   {
    "duration": 15,
    "start_time": "2023-04-10T09:38:21.272Z"
   },
   {
    "duration": 11,
    "start_time": "2023-04-10T09:38:21.288Z"
   },
   {
    "duration": 7,
    "start_time": "2023-04-10T09:38:21.301Z"
   },
   {
    "duration": 32,
    "start_time": "2023-04-10T09:38:21.309Z"
   },
   {
    "duration": 32,
    "start_time": "2023-04-10T09:38:21.343Z"
   },
   {
    "duration": 67,
    "start_time": "2023-04-10T09:38:21.377Z"
   },
   {
    "duration": 19,
    "start_time": "2023-04-10T09:38:21.446Z"
   },
   {
    "duration": 34,
    "start_time": "2023-04-10T09:38:21.467Z"
   },
   {
    "duration": 15,
    "start_time": "2023-04-10T09:38:21.503Z"
   },
   {
    "duration": 4,
    "start_time": "2023-04-10T09:38:21.541Z"
   },
   {
    "duration": 5,
    "start_time": "2023-04-10T09:38:21.546Z"
   },
   {
    "duration": 129,
    "start_time": "2023-04-10T09:38:21.552Z"
   },
   {
    "duration": 61,
    "start_time": "2023-04-10T09:38:21.683Z"
   },
   {
    "duration": 96,
    "start_time": "2023-04-10T09:38:21.746Z"
   },
   {
    "duration": 4611,
    "start_time": "2023-04-10T09:38:21.844Z"
   },
   {
    "duration": 4,
    "start_time": "2023-04-10T09:38:26.460Z"
   },
   {
    "duration": 158,
    "start_time": "2023-04-10T09:38:26.466Z"
   },
   {
    "duration": 26,
    "start_time": "2023-04-10T09:38:26.626Z"
   },
   {
    "duration": 37,
    "start_time": "2023-04-10T09:38:26.654Z"
   },
   {
    "duration": 135,
    "start_time": "2023-04-10T09:38:26.747Z"
   },
   {
    "duration": 616,
    "start_time": "2023-04-10T09:38:26.943Z"
   },
   {
    "duration": 11,
    "start_time": "2023-04-10T09:38:27.561Z"
   },
   {
    "duration": 871,
    "start_time": "2023-04-10T09:38:27.574Z"
   },
   {
    "duration": 3,
    "start_time": "2023-04-10T09:38:28.447Z"
   },
   {
    "duration": 128,
    "start_time": "2023-04-10T09:38:28.451Z"
   },
   {
    "duration": 130,
    "start_time": "2023-04-10T09:38:28.580Z"
   },
   {
    "duration": 131,
    "start_time": "2023-04-10T09:38:28.711Z"
   },
   {
    "duration": 10,
    "start_time": "2023-04-10T09:38:28.843Z"
   }
  ],
  "kernelspec": {
   "display_name": "Python 3 (ipykernel)",
   "language": "python",
   "name": "python3"
  },
  "language_info": {
   "codemirror_mode": {
    "name": "ipython",
    "version": 3
   },
   "file_extension": ".py",
   "mimetype": "text/x-python",
   "name": "python",
   "nbconvert_exporter": "python",
   "pygments_lexer": "ipython3",
   "version": "3.9.12"
  },
  "toc": {
   "base_numbering": 1,
   "nav_menu": {},
   "number_sections": true,
   "sideBar": true,
   "skip_h1_title": true,
   "title_cell": "Содержание",
   "title_sidebar": "Contents",
   "toc_cell": true,
   "toc_position": {
    "height": "calc(100% - 180px)",
    "left": "10px",
    "top": "150px",
    "width": "165px"
   },
   "toc_section_display": true,
   "toc_window_display": true
  }
 },
 "nbformat": 4,
 "nbformat_minor": 2
}
