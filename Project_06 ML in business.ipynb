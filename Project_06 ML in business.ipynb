{
 "cells": [
  {
   "cell_type": "markdown",
   "metadata": {},
   "source": [
    "# Выбор локации для скважины"
   ]
  },
  {
   "cell_type": "markdown",
   "metadata": {},
   "source": [
    "Добывающая компания «ГлавРосГосНефть» планирует разрабатывать новые регионы месторождений. Для этого ей требуется собственная модель машинного обучения, которая позволит отбирать наилучшие по выработке месторождения нефти на основании качества проб и их оценки по трем параметрам.\n",
    "\n",
    "Нам предоставлены пробы нефти в трёх регионах: в каждом 10 000 месторождений, где измерили качество нефти и объём её запасов. Постройм модель машинного обучения, которая выявит закономерности и поможет определить регион, где добыча принесёт наибольшую прибыль. Возможную прибыль и риски убытков будем оценивать техникой *Bootstrap*. \n",
    "\n",
    "Шаги для выбора локации:\n",
    "\n",
    "- В каждом регионе ищем месторождения, для каждого определяем значения признаков;\n",
    "- Строим модель и оцениваем объём запасов;\n",
    "- Выбираем месторождения с самым высокими оценками значений. Количество месторождений зависит от бюджета компании и стоимости разработки одной скважины;\n",
    "- Определяем прибыль и риски\n",
    "\n",
    "Значения столбцов датасета:\n",
    " - id — уникальный идентификатор скважины;\n",
    " - f0, f1, f2 — признаки месторождени);\n",
    " - product — объём запасов в скважине (тыс. баррелей)."
   ]
  },
  {
   "cell_type": "markdown",
   "metadata": {},
   "source": [
    "## Загрузка и подготовка данных"
   ]
  },
  {
   "cell_type": "markdown",
   "metadata": {},
   "source": [
    "### Импорт библиотек"
   ]
  },
  {
   "cell_type": "code",
   "execution_count": 1,
   "metadata": {},
   "outputs": [],
   "source": [
    "import pandas as pd\n",
    "import numpy as np\n",
    "import scipy.stats as st\n",
    "import random\n",
    "import matplotlib.pyplot as plt\n",
    "\n",
    "from sklearn.model_selection import train_test_split\n",
    "from sklearn.linear_model import LinearRegression\n",
    "from sklearn.metrics import precision_score, recall_score, f1_score, mean_squared_error, roc_auc_score, precision_recall_curve\n",
    "\n",
    "pd.options.mode.chained_assignment = None"
   ]
  },
  {
   "cell_type": "markdown",
   "metadata": {},
   "source": [
    "### Сохраним ключевые метрики в переменных: \n",
    "- `sample_size` - объем выборки для bootstrap\n",
    "- `cost_per_region` - бюджет на разработку 200 скважин в регионе\n",
    "- `sample_ml` - объем выборки для модели машинного обучения\n",
    "- `price` - выручка за 1 тысячу баррелей\n",
    "- `q` - квантиль"
   ]
  },
  {
   "cell_type": "code",
   "execution_count": 2,
   "metadata": {},
   "outputs": [],
   "source": [
    "cost_per_region = 10_000_000_000\n",
    "sample_size = 500\n",
    "price = 450000\n",
    "sample_ml = 200\n",
    "q = 0.95"
   ]
  },
  {
   "cell_type": "markdown",
   "metadata": {},
   "source": [
    "### Загрузка и обзор датасета"
   ]
  },
  {
   "cell_type": "markdown",
   "metadata": {},
   "source": [
    "#### Загрузка датасетов и подготовка списка:"
   ]
  },
  {
   "cell_type": "code",
   "execution_count": 3,
   "metadata": {
    "scrolled": true
   },
   "outputs": [],
   "source": [
    "data_0 = pd.read_csv('geo_data_0.csv')\n",
    "data_1 = pd.read_csv('geo_data_1.csv')\n",
    "data_2 = pd.read_csv('geo_data_2.csv')\n",
    "\n",
    "datasets = []\n",
    "datasets.append(data_0)\n",
    "datasets.append(data_1)\n",
    "datasets.append(data_2)"
   ]
  },
  {
   "cell_type": "code",
   "execution_count": 4,
   "metadata": {},
   "outputs": [
    {
     "name": "stdout",
     "output_type": "stream",
     "text": [
      "<class 'pandas.core.frame.DataFrame'>\n",
      "RangeIndex: 100000 entries, 0 to 99999\n",
      "Data columns (total 5 columns):\n",
      " #   Column   Non-Null Count   Dtype  \n",
      "---  ------   --------------   -----  \n",
      " 0   id       100000 non-null  object \n",
      " 1   f0       100000 non-null  float64\n",
      " 2   f1       100000 non-null  float64\n",
      " 3   f2       100000 non-null  float64\n",
      " 4   product  100000 non-null  float64\n",
      "dtypes: float64(4), object(1)\n",
      "memory usage: 9.0 MB\n"
     ]
    },
    {
     "data": {
      "text/plain": [
       "None"
      ]
     },
     "metadata": {},
     "output_type": "display_data"
    },
    {
     "name": "stdout",
     "output_type": "stream",
     "text": [
      "Явные дубликаты датасета : 0\n",
      "[[<AxesSubplot:title={'center':'product'}>]]\n",
      "\n",
      "<class 'pandas.core.frame.DataFrame'>\n",
      "RangeIndex: 100000 entries, 0 to 99999\n",
      "Data columns (total 5 columns):\n",
      " #   Column   Non-Null Count   Dtype  \n",
      "---  ------   --------------   -----  \n",
      " 0   id       100000 non-null  object \n",
      " 1   f0       100000 non-null  float64\n",
      " 2   f1       100000 non-null  float64\n",
      " 3   f2       100000 non-null  float64\n",
      " 4   product  100000 non-null  float64\n",
      "dtypes: float64(4), object(1)\n",
      "memory usage: 9.0 MB\n"
     ]
    },
    {
     "data": {
      "text/plain": [
       "None"
      ]
     },
     "metadata": {},
     "output_type": "display_data"
    },
    {
     "name": "stdout",
     "output_type": "stream",
     "text": [
      "Явные дубликаты датасета : 0\n",
      "[[<AxesSubplot:title={'center':'product'}>]]\n",
      "\n",
      "<class 'pandas.core.frame.DataFrame'>\n",
      "RangeIndex: 100000 entries, 0 to 99999\n",
      "Data columns (total 5 columns):\n",
      " #   Column   Non-Null Count   Dtype  \n",
      "---  ------   --------------   -----  \n",
      " 0   id       100000 non-null  object \n",
      " 1   f0       100000 non-null  float64\n",
      " 2   f1       100000 non-null  float64\n",
      " 3   f2       100000 non-null  float64\n",
      " 4   product  100000 non-null  float64\n",
      "dtypes: float64(4), object(1)\n",
      "memory usage: 9.0 MB\n"
     ]
    },
    {
     "data": {
      "text/plain": [
       "None"
      ]
     },
     "metadata": {},
     "output_type": "display_data"
    },
    {
     "name": "stdout",
     "output_type": "stream",
     "text": [
      "Явные дубликаты датасета : 0\n",
      "[[<AxesSubplot:title={'center':'product'}>]]\n",
      "\n"
     ]
    },
    {
     "data": {
      "image/png": "[encoded data removed]",
      "text/plain": [
       "<Figure size 432x288 with 1 Axes>"
      ]
     },
     "metadata": {
      "needs_background": "light"
     },
     "output_type": "display_data"
    },
    {
     "data": {
      "image/png": "[encoded data removed]",
      "text/plain": [
       "<Figure size 432x288 with 1 Axes>"
      ]
     },
     "metadata": {
      "needs_background": "light"
     },
     "output_type": "display_data"
    },
    {
     "data": {
      "image/png": "[encoded data removed]",
      "text/plain": [
       "<Figure size 432x288 with 1 Axes>"
      ]
     },
     "metadata": {
      "needs_background": "light"
     },
     "output_type": "display_data"
    }
   ],
   "source": [
    "for i in datasets:\n",
    "    display(i.info(memory_usage='deep'))\n",
    "    print(f'Явные дубликаты датасета : {i.duplicated().sum()}')\n",
    "    print(i.hist('product', bins=15));\n",
    "    print()"
   ]
  },
  {
   "cell_type": "markdown",
   "metadata": {},
   "source": [
    "#### Подготовка функции для обзора целевого значения:"
   ]
  },
  {
   "cell_type": "code",
   "execution_count": 5,
   "metadata": {},
   "outputs": [],
   "source": [
    "def review(df, col): \n",
    "    '''Функция для обзора распределения данных методом describe.\n",
    "    В качестве аргументов принимает df=датафрейм, col=столбец для обзора, pregion=регион разработки'''\n",
    "    pl = df.boxplot('product', vert = False, figsize=(20, 5));\n",
    "    \n",
    "    desc = df[col].describe()\n",
    "    print(f'Медиана:', round(df[col].median(), 2))\n",
    "    print(f'Межквартильный размах находятся в диапазоне между значениями {round(desc[4], 2)} и {round(desc[6], 2)}')\n",
    "    poltora_q1 = desc[4] - 1.5*(desc[6] - desc[4])\n",
    "    if poltora_q1 < 0:\n",
    "        print(f'Нормальный диапазон значений региона: c {round(desc[3], 3)} до {round(desc[6] + 1.5*(desc[6] - desc[4]), 3)}' )\n",
    "    else:\n",
    "        print(f'Нормальный диапазон значений: \\\n",
    "c {round(desc[4] - 1.5*(desc[6] - desc[4]), 3)} до {round(desc[6] + 1.5*(desc[6] - desc[4]), 3)}' )"
   ]
  },
  {
   "cell_type": "markdown",
   "metadata": {},
   "source": [
    "#### Обзор датасетов и целевого значени"
   ]
  },
  {
   "cell_type": "code",
   "execution_count": 6,
   "metadata": {},
   "outputs": [
    {
     "name": "stdout",
     "output_type": "stream",
     "text": [
      "Медиана: 91.85\n",
      "Межквартильный размах находятся в диапазоне между значениями 56.5 и 128.56\n",
      "Нормальный диапазон значений региона: c 0.0 до 236.664\n"
     ]
    },
    {
     "data": {
      "image/png": "[encoded data removed]",
      "text/plain": [
       "<Figure size 1440x360 with 1 Axes>"
      ]
     },
     "metadata": {
      "needs_background": "light"
     },
     "output_type": "display_data"
    }
   ],
   "source": [
    "review(data_0, 'product')"
   ]
  },
  {
   "cell_type": "code",
   "execution_count": 7,
   "metadata": {},
   "outputs": [
    {
     "name": "stdout",
     "output_type": "stream",
     "text": [
      "Медиана: 57.09\n",
      "Межквартильный размах находятся в диапазоне между значениями 26.95 и 107.81\n",
      "Нормальный диапазон значений региона: c 0.0 до 229.103\n"
     ]
    },
    {
     "data": {
      "image/png": "[encoded data removed]",
      "text/plain": [
       "<Figure size 1440x360 with 1 Axes>"
      ]
     },
     "metadata": {
      "needs_background": "light"
     },
     "output_type": "display_data"
    }
   ],
   "source": [
    "review(data_1, 'product')"
   ]
  },
  {
   "cell_type": "code",
   "execution_count": 8,
   "metadata": {
    "scrolled": true
   },
   "outputs": [
    {
     "name": "stdout",
     "output_type": "stream",
     "text": [
      "Медиана: 94.93\n",
      "Межквартильный размах находятся в диапазоне между значениями 59.45 и 130.6\n",
      "Нормальный диапазон значений региона: c 0.0 до 237.312\n"
     ]
    },
    {
     "data": {
      "image/png": "[encoded data removed]",
      "text/plain": [
       "<Figure size 1440x360 with 1 Axes>"
      ]
     },
     "metadata": {
      "needs_background": "light"
     },
     "output_type": "display_data"
    }
   ],
   "source": [
    "review(data_2, 'product')"
   ]
  },
  {
   "cell_type": "markdown",
   "metadata": {},
   "source": [
    "**Вывод:** \n",
    "1. Предоставленные заказчиком датасеты подготовленные: типы данных соответствуют значениям, пропуски и дубликаты отсутствуют. \n",
    "2. Каждый датасет имеет данные на 100000 скважин. Категориальные признаки отсутствуют - все данные количественные, dummy-classifier не требуется. \n",
    "3. Распределения 1 и 3 региона распределены нормально, со схожими средними значениями в районе 93 тыс.баррелей на скважину. Распределение региона 2 неопределенное, имеет низкое среднее значение и множество \"пустых\" скважин. "
   ]
  },
  {
   "cell_type": "markdown",
   "metadata": {},
   "source": [
    "## Обучение и проверка модели"
   ]
  },
  {
   "cell_type": "markdown",
   "metadata": {},
   "source": [
    "Обучим модель линейной регрессии отдельно для каждого региона для определения среднего квадратичной ошибки, коэффициента детерминации, определим средний запас сырья по регионам 1 2 3. Деление на выборки производим сразу в функции, а для последующей оценки прибыли таргеты, предсказания на валидационной выборке, средние вносим в списки `target_list`, `prediction_list` и `mean_list`. Для дальнейшего расчета прибыли переведем каждом блоке предсказания в Series, а у целевых показатели валидационной выборки сбросим индексы."
   ]
  },
  {
   "cell_type": "code",
   "execution_count": 9,
   "metadata": {},
   "outputs": [],
   "source": [
    "prediction_list = []\n",
    "target_list = []\n",
    "mean_list = []\n",
    "def rmse_review(df_list):\n",
    "    for i in df_list:        \n",
    "        features = i.drop(['id','product'], axis=1)\n",
    "        target= i['product']\n",
    "        features_train, features_valid, target_train, target_valid = train_test_split(\n",
    "            features, target, test_size=0.25, random_state=433)\n",
    "    \n",
    "        model = LinearRegression()\n",
    "        model.fit(features_train, target_train)\n",
    "        predictions = model.predict(features_valid)\n",
    "        \n",
    "        target_valid = target_valid.reset_index(drop=True)\n",
    "        predictions = pd.Series(predictions)\n",
    "        mean = predictions.mean()\n",
    "        \n",
    "        prediction_list.append(predictions)\n",
    "        target_list.append(target_valid)\n",
    "        mean_list.append(mean)\n",
    "        \n",
    "        print('Средний запас сырья по месторождениям региона:', mean)\n",
    "        print('RMSE региона:', mean_squared_error(target_valid, predictions)**0.5)\n",
    "        print()"
   ]
  },
  {
   "cell_type": "code",
   "execution_count": 10,
   "metadata": {
    "scrolled": true
   },
   "outputs": [
    {
     "name": "stdout",
     "output_type": "stream",
     "text": [
      "Средний запас сырья по месторождениям региона: 92.31139550425699\n",
      "RMSE региона: 37.61805085279286\n",
      "\n",
      "Средний запас сырья по месторождениям региона: 68.62142355900797\n",
      "RMSE региона: 0.8888533415096879\n",
      "\n",
      "Средний запас сырья по месторождениям региона: 94.98729323778443\n",
      "RMSE региона: 40.07661209455226\n",
      "\n"
     ]
    }
   ],
   "source": [
    "rmse_review(datasets)"
   ]
  },
  {
   "cell_type": "markdown",
   "metadata": {},
   "source": [
    "**Вывод:** \n",
    "1. Регионы 0 и 2 содержат большой средний запас сырья 94.98 и 92 тыс.баррелей соответственно с RMSE 37.6 и 40.1 соответственно\n",
    "2. Самый низкий средний запас на 1 скважину - в регионе 2: 68.6 тыс.баррелей, ошибка RMSE крайне низкая 0.9. На мой взгляд данные по этому региону содержат ошибку."
   ]
  },
  {
   "cell_type": "markdown",
   "metadata": {},
   "source": [
    "## Подготовка к расчёту прибыли"
   ]
  },
  {
   "cell_type": "markdown",
   "metadata": {},
   "source": [
    "Рассчитаем достаточный объём сырья для безубыточной разработки 1 новой скважины и сравним его со средним запасом сырья в каждом регионе:"
   ]
  },
  {
   "cell_type": "code",
   "execution_count": 11,
   "metadata": {
    "scrolled": true
   },
   "outputs": [
    {
     "name": "stdout",
     "output_type": "stream",
     "text": [
      "Минимальный объем выработки сырья для достижения безубыточности составляет 111.11 тысяч баррелей.\n"
     ]
    }
   ],
   "source": [
    "min_vol = cost_per_region / (price * sample_ml)\n",
    "print(f'Минимальный объем выработки сырья для достижения безубыточности составляет {round(min_vol, 2)} тысяч баррелей.')"
   ]
  },
  {
   "cell_type": "code",
   "execution_count": 12,
   "metadata": {},
   "outputs": [
    {
     "name": "stdout",
     "output_type": "stream",
     "text": [
      "Расчетная прибыль для региона 0 по среднему значению: -1691974404.61687\n",
      "Расчетная прибыль для региона 1 по среднему значению: -3824071879.6892834\n",
      "Расчетная прибыль для региона 2 по среднему значению: -1451143608.5994024\n"
     ]
    }
   ],
   "source": [
    "for i in mean_list:\n",
    "    print(f'Расчетная прибыль для региона {mean_list.index(i)} по среднему значению: {i * price * sample_ml - cost_per_region}')"
   ]
  },
  {
   "cell_type": "code",
   "execution_count": 13,
   "metadata": {
    "scrolled": true
   },
   "outputs": [
    {
     "name": "stdout",
     "output_type": "stream",
     "text": [
      "Вероятность убытков в регионе при средней добыче со скважины: 0.79092\n",
      "Вероятность убытков в регионе при средней добыче со скважины: 0.82232\n",
      "Вероятность убытков в регионе при средней добыче со скважины: 0.79024\n"
     ]
    }
   ],
   "source": [
    "for i in prediction_list:\n",
    "    print(f'Вероятность убытков в регионе при средней добыче со скважины: {len(i[i < min_vol]) / len(i)}')"
   ]
  },
  {
   "cell_type": "markdown",
   "metadata": {},
   "source": [
    "**Вывод:** Средний объем сырья 200 скважин каждого региона не позволяет достигнуть точки безубыточности. Для безубыточной разработки требуется выбирать наиболее прибыльные скважины - у которых выработка сырья будет в среднем более 111.11 тыс. баррелей. Риск получения убытков при выборе скважин наугад высокий и составялет 79-82% в зависимости от региона."
   ]
  },
  {
   "cell_type": "markdown",
   "metadata": {},
   "source": [
    "## Напишитем функцию для расчёта прибыли по выбранным скважинам и предсказаниям модели:"
   ]
  },
  {
   "cell_type": "code",
   "execution_count": 14,
   "metadata": {},
   "outputs": [],
   "source": [
    "def profit(targets, predictions, count, price, costs):\n",
    "    predictions_sorted = predictions.sort_values(ascending=False)\n",
    "    selected = targets[predictions_sorted.index][:count]\n",
    "    return price * selected.sum() - costs"
   ]
  },
  {
   "cell_type": "markdown",
   "metadata": {},
   "source": [
    "## Расчёт прибыли и рисков "
   ]
  },
  {
   "cell_type": "markdown",
   "metadata": {},
   "source": [
    "Напишем функцию расчета средней выручки, выведем для нее доверительный и риски:"
   ]
  },
  {
   "cell_type": "code",
   "execution_count": 15,
   "metadata": {},
   "outputs": [],
   "source": [
    "def profit_risks(target, prediction, percent, region):\n",
    "    state = np.random.RandomState(12345)\n",
    "    values_profit = []\n",
    "    for i in range(1000):\n",
    "        target_subsample = target.sample(n=500, replace=True, random_state=state)\n",
    "        pred_subsample = prediction[target_subsample.index] \n",
    "        target_subsample = target_subsample.reset_index(drop=True)\n",
    "        pred_subsample = pred_subsample.reset_index(drop=True)\n",
    "        values_profit.append(profit(target_subsample, pred_subsample, sample_ml, price, cost_per_region))\n",
    "    \n",
    "    values_profit = pd.Series(values_profit)\n",
    "    mean = values_profit.mean()\n",
    "    lower = values_profit.quantile((1-percent)/2)\n",
    "    upper = values_profit.quantile(percent + (1-percent)/2)\n",
    "\n",
    "    print(f'Средняя выручка региона {region}: {round(mean,2)}')\n",
    "    print(f'95%-й доверительный интервал для средней прибыли региона {region}: с {lower:.2e} до {upper:.2e}')\n",
    "    print(f'Вероятность убытков в регионе {region}: {round((values_profit < 0).mean() * 100, 2)}%')\n",
    "    print()"
   ]
  },
  {
   "cell_type": "code",
   "execution_count": 16,
   "metadata": {},
   "outputs": [
    {
     "name": "stdout",
     "output_type": "stream",
     "text": [
      "Средняя выручка региона 0: 370381571.6\n",
      "95%-й доверительный интервал для средней прибыли региона 0: с -1.58e+08 до 9.10e+08\n",
      "Вероятность убытков в регионе 0: 7.6%\n",
      "\n",
      "Средняя выручка региона 1: 406888515.45\n",
      "95%-й доверительный интервал для средней прибыли региона 1: с 9.62e+06 до 7.92e+08\n",
      "Вероятность убытков в регионе 1: 2.2%\n",
      "\n",
      "Средняя выручка региона 2: 376901462.71\n",
      "95%-й доверительный интервал для средней прибыли региона 2: с -1.35e+08 до 8.70e+08\n",
      "Вероятность убытков в регионе 2: 7.8%\n",
      "\n"
     ]
    }
   ],
   "source": [
    "profit_risks(target_list[0], prediction_list[0], q, 0)\n",
    "profit_risks(target_list[1], prediction_list[1], q, 1)\n",
    "profit_risks(target_list[2], prediction_list[2], q, 2)"
   ]
  },
  {
   "cell_type": "markdown",
   "metadata": {},
   "source": [
    "## Выводы:"
   ]
  },
  {
   "cell_type": "markdown",
   "metadata": {},
   "source": [
    "\n",
    "Регион 1 - самый благоприятный для выполнения изысканий и бурения скважин. Риск получения убытков составляет 2.2% при 95% -м доверительном интервале 9.62e+06 - 7.92e+08\n",
    "Средняя выручка региона 1: 406 млн.руб.\n",
    "\n",
    "Региона 0 и 2 имеют слишком высокий риск убытков: 7.6% и 7.8% соответственно для вложения средств в разработку. При этом средняя ожидаемая прибыль в них соизмерима с регионом 1 (~370 млн.руб.) при более, чем в 3 раза большем риске."
   ]
  }
 ],
 "metadata": {
  "ExecuteTimeLog": [
   {
    "duration": 49,
    "start_time": "2022-10-03T18:46:20.672Z"
   },
   {
    "duration": 1478,
    "start_time": "2022-10-03T18:46:25.342Z"
   },
   {
    "duration": 793,
    "start_time": "2022-10-03T18:46:26.822Z"
   },
   {
    "duration": 364,
    "start_time": "2022-10-03T18:46:38.573Z"
   },
   {
    "duration": 25,
    "start_time": "2022-10-03T18:47:15.773Z"
   },
   {
    "duration": 32,
    "start_time": "2022-10-03T18:47:29.119Z"
   },
   {
    "duration": 24,
    "start_time": "2022-10-03T18:47:29.553Z"
   },
   {
    "duration": 104,
    "start_time": "2022-10-03T18:49:20.213Z"
   },
   {
    "duration": 10,
    "start_time": "2022-10-03T19:29:55.034Z"
   },
   {
    "duration": 12,
    "start_time": "2022-10-03T19:30:21.182Z"
   },
   {
    "duration": 18,
    "start_time": "2022-10-03T19:30:22.142Z"
   },
   {
    "duration": 17,
    "start_time": "2022-10-03T19:30:23.514Z"
   },
   {
    "duration": 151,
    "start_time": "2022-10-03T19:31:24.315Z"
   },
   {
    "duration": 1372,
    "start_time": "2022-10-03T19:37:07.818Z"
   },
   {
    "duration": 344,
    "start_time": "2022-10-03T19:37:09.192Z"
   },
   {
    "duration": 29,
    "start_time": "2022-10-03T19:37:09.537Z"
   },
   {
    "duration": 25,
    "start_time": "2022-10-03T19:37:09.568Z"
   },
   {
    "duration": 27,
    "start_time": "2022-10-03T19:37:09.609Z"
   },
   {
    "duration": 126,
    "start_time": "2022-10-03T19:37:09.638Z"
   },
   {
    "duration": 12,
    "start_time": "2022-10-03T19:37:09.765Z"
   },
   {
    "duration": 35,
    "start_time": "2022-10-03T19:37:09.779Z"
   },
   {
    "duration": 16,
    "start_time": "2022-10-03T19:37:09.816Z"
   },
   {
    "duration": 170,
    "start_time": "2022-10-03T19:37:09.834Z"
   },
   {
    "duration": 11,
    "start_time": "2022-10-03T19:37:10.005Z"
   },
   {
    "duration": 101,
    "start_time": "2022-10-03T19:42:58.882Z"
   },
   {
    "duration": 1226,
    "start_time": "2022-10-03T19:43:29.042Z"
   },
   {
    "duration": 663,
    "start_time": "2022-10-03T19:43:30.271Z"
   },
   {
    "duration": 78,
    "start_time": "2022-10-03T19:43:30.936Z"
   },
   {
    "duration": 38,
    "start_time": "2022-10-03T19:43:31.017Z"
   },
   {
    "duration": 40,
    "start_time": "2022-10-03T19:43:31.109Z"
   },
   {
    "duration": 296,
    "start_time": "2022-10-03T19:43:31.150Z"
   },
   {
    "duration": 64,
    "start_time": "2022-10-03T19:43:31.447Z"
   },
   {
    "duration": 18,
    "start_time": "2022-10-03T19:43:31.513Z"
   },
   {
    "duration": 14,
    "start_time": "2022-10-03T19:43:31.533Z"
   },
   {
    "duration": 391,
    "start_time": "2022-10-03T19:43:31.549Z"
   },
   {
    "duration": 9,
    "start_time": "2022-10-03T19:43:31.941Z"
   },
   {
    "duration": 85,
    "start_time": "2022-10-03T19:58:08.017Z"
   },
   {
    "duration": 56,
    "start_time": "2022-10-03T19:58:30.636Z"
   },
   {
    "duration": 56,
    "start_time": "2022-10-03T19:58:33.776Z"
   },
   {
    "duration": 10,
    "start_time": "2022-10-03T19:58:57.776Z"
   },
   {
    "duration": 114,
    "start_time": "2022-10-03T19:59:33.604Z"
   },
   {
    "duration": 96,
    "start_time": "2022-10-03T20:00:04.777Z"
   },
   {
    "duration": 1334,
    "start_time": "2022-10-03T20:00:34.020Z"
   },
   {
    "duration": 345,
    "start_time": "2022-10-03T20:00:35.356Z"
   },
   {
    "duration": 34,
    "start_time": "2022-10-03T20:00:35.704Z"
   },
   {
    "duration": 35,
    "start_time": "2022-10-03T20:00:35.740Z"
   },
   {
    "duration": 46,
    "start_time": "2022-10-03T20:00:35.780Z"
   },
   {
    "duration": 181,
    "start_time": "2022-10-03T20:00:35.828Z"
   },
   {
    "duration": 16,
    "start_time": "2022-10-03T20:00:36.011Z"
   },
   {
    "duration": 18,
    "start_time": "2022-10-03T20:00:36.029Z"
   },
   {
    "duration": 18,
    "start_time": "2022-10-03T20:00:36.049Z"
   },
   {
    "duration": 13,
    "start_time": "2022-10-03T20:00:36.069Z"
   },
   {
    "duration": 235,
    "start_time": "2022-10-03T20:00:36.083Z"
   },
   {
    "duration": 12,
    "start_time": "2022-10-03T20:00:36.320Z"
   },
   {
    "duration": 1334,
    "start_time": "2022-10-03T20:02:09.698Z"
   },
   {
    "duration": 330,
    "start_time": "2022-10-03T20:02:11.034Z"
   },
   {
    "duration": 29,
    "start_time": "2022-10-03T20:02:11.365Z"
   },
   {
    "duration": 30,
    "start_time": "2022-10-03T20:02:11.396Z"
   },
   {
    "duration": 24,
    "start_time": "2022-10-03T20:02:11.428Z"
   },
   {
    "duration": 128,
    "start_time": "2022-10-03T20:02:11.453Z"
   },
   {
    "duration": 10,
    "start_time": "2022-10-03T20:02:11.583Z"
   },
   {
    "duration": 27,
    "start_time": "2022-10-03T20:02:11.594Z"
   },
   {
    "duration": 15,
    "start_time": "2022-10-03T20:02:11.622Z"
   },
   {
    "duration": 9,
    "start_time": "2022-10-03T20:02:11.640Z"
   },
   {
    "duration": 169,
    "start_time": "2022-10-03T20:02:11.650Z"
   },
   {
    "duration": 8,
    "start_time": "2022-10-03T20:02:11.821Z"
   },
   {
    "duration": 48,
    "start_time": "2022-10-03T20:02:24.974Z"
   },
   {
    "duration": 116,
    "start_time": "2022-10-03T20:02:33.493Z"
   },
   {
    "duration": 223,
    "start_time": "2022-10-03T20:02:41.895Z"
   },
   {
    "duration": 15,
    "start_time": "2022-10-03T20:06:10.473Z"
   },
   {
    "duration": 13,
    "start_time": "2022-10-03T20:06:38.113Z"
   },
   {
    "duration": 14,
    "start_time": "2022-10-03T20:06:48.294Z"
   },
   {
    "duration": 13,
    "start_time": "2022-10-03T20:07:25.316Z"
   },
   {
    "duration": 14,
    "start_time": "2022-10-03T20:07:50.730Z"
   },
   {
    "duration": 1422,
    "start_time": "2022-10-05T15:58:38.715Z"
   },
   {
    "duration": 737,
    "start_time": "2022-10-05T15:58:40.138Z"
   },
   {
    "duration": 30,
    "start_time": "2022-10-05T15:58:40.876Z"
   },
   {
    "duration": 24,
    "start_time": "2022-10-05T15:58:40.907Z"
   },
   {
    "duration": 23,
    "start_time": "2022-10-05T15:58:40.932Z"
   },
   {
    "duration": 129,
    "start_time": "2022-10-05T15:58:40.957Z"
   },
   {
    "duration": 19,
    "start_time": "2022-10-05T15:58:41.088Z"
   },
   {
    "duration": 15,
    "start_time": "2022-10-05T15:58:41.108Z"
   },
   {
    "duration": 14,
    "start_time": "2022-10-05T15:58:41.125Z"
   },
   {
    "duration": 60,
    "start_time": "2022-10-05T15:58:41.141Z"
   },
   {
    "duration": 98,
    "start_time": "2022-10-05T15:58:41.204Z"
   },
   {
    "duration": 198,
    "start_time": "2022-10-05T15:58:41.304Z"
   },
   {
    "duration": 305,
    "start_time": "2022-10-05T18:15:13.506Z"
   },
   {
    "duration": 146,
    "start_time": "2022-10-05T18:15:30.264Z"
   },
   {
    "duration": 22,
    "start_time": "2022-10-05T18:23:12.256Z"
   },
   {
    "duration": 20,
    "start_time": "2022-10-05T18:23:44.853Z"
   },
   {
    "duration": 17,
    "start_time": "2022-10-05T18:23:49.966Z"
   },
   {
    "duration": 226,
    "start_time": "2022-10-05T18:27:10.579Z"
   },
   {
    "duration": 4,
    "start_time": "2022-10-05T18:27:41.600Z"
   },
   {
    "duration": 19,
    "start_time": "2022-10-05T18:28:28.970Z"
   },
   {
    "duration": 22,
    "start_time": "2022-10-05T18:28:33.839Z"
   },
   {
    "duration": 19,
    "start_time": "2022-10-05T18:29:06.572Z"
   },
   {
    "duration": 1609,
    "start_time": "2022-10-05T18:29:45.526Z"
   },
   {
    "duration": 675,
    "start_time": "2022-10-05T18:29:47.137Z"
   },
   {
    "duration": 28,
    "start_time": "2022-10-05T18:29:47.814Z"
   },
   {
    "duration": 23,
    "start_time": "2022-10-05T18:29:47.844Z"
   },
   {
    "duration": 24,
    "start_time": "2022-10-05T18:29:47.900Z"
   },
   {
    "duration": 125,
    "start_time": "2022-10-05T18:29:47.925Z"
   },
   {
    "duration": 11,
    "start_time": "2022-10-05T18:29:48.052Z"
   },
   {
    "duration": 19,
    "start_time": "2022-10-05T18:29:48.065Z"
   },
   {
    "duration": 24,
    "start_time": "2022-10-05T18:29:48.086Z"
   },
   {
    "duration": 18,
    "start_time": "2022-10-05T18:29:48.112Z"
   },
   {
    "duration": 107,
    "start_time": "2022-10-05T18:29:48.205Z"
   },
   {
    "duration": 288,
    "start_time": "2022-10-05T18:29:48.314Z"
   },
   {
    "duration": 106,
    "start_time": "2022-10-05T18:44:32.695Z"
   },
   {
    "duration": 22,
    "start_time": "2022-10-05T18:44:32.922Z"
   },
   {
    "duration": 20,
    "start_time": "2022-10-05T18:44:33.115Z"
   },
   {
    "duration": 1231,
    "start_time": "2022-10-05T18:46:29.664Z"
   },
   {
    "duration": 345,
    "start_time": "2022-10-05T18:46:30.897Z"
   },
   {
    "duration": 27,
    "start_time": "2022-10-05T18:46:31.243Z"
   },
   {
    "duration": 46,
    "start_time": "2022-10-05T18:46:31.272Z"
   },
   {
    "duration": 26,
    "start_time": "2022-10-05T18:46:31.319Z"
   },
   {
    "duration": 128,
    "start_time": "2022-10-05T18:46:31.347Z"
   },
   {
    "duration": 10,
    "start_time": "2022-10-05T18:46:31.477Z"
   },
   {
    "duration": 23,
    "start_time": "2022-10-05T18:46:31.488Z"
   },
   {
    "duration": 14,
    "start_time": "2022-10-05T18:46:31.513Z"
   },
   {
    "duration": 73,
    "start_time": "2022-10-05T18:46:31.529Z"
   },
   {
    "duration": 106,
    "start_time": "2022-10-05T18:46:31.604Z"
   },
   {
    "duration": 195,
    "start_time": "2022-10-05T18:46:31.712Z"
   },
   {
    "duration": 3,
    "start_time": "2022-10-06T07:02:12.192Z"
   },
   {
    "duration": 96,
    "start_time": "2022-10-06T07:32:43.785Z"
   },
   {
    "duration": 2,
    "start_time": "2022-10-06T07:32:57.624Z"
   },
   {
    "duration": 4,
    "start_time": "2022-10-06T17:08:47.672Z"
   },
   {
    "duration": 11,
    "start_time": "2022-10-06T17:08:48.550Z"
   },
   {
    "duration": 3,
    "start_time": "2022-10-06T17:08:54.918Z"
   },
   {
    "duration": 3,
    "start_time": "2022-10-06T17:08:55.542Z"
   },
   {
    "duration": 3,
    "start_time": "2022-10-06T17:08:55.887Z"
   },
   {
    "duration": 4,
    "start_time": "2022-10-06T17:09:06.843Z"
   },
   {
    "duration": 4,
    "start_time": "2022-10-06T17:09:13.293Z"
   },
   {
    "duration": 4,
    "start_time": "2022-10-06T17:09:41.472Z"
   },
   {
    "duration": 3,
    "start_time": "2022-10-06T17:09:41.858Z"
   },
   {
    "duration": 3,
    "start_time": "2022-10-06T17:09:42.223Z"
   },
   {
    "duration": 3,
    "start_time": "2022-10-06T17:09:42.590Z"
   },
   {
    "duration": 68,
    "start_time": "2022-10-06T18:26:36.341Z"
   },
   {
    "duration": 9,
    "start_time": "2022-10-06T18:50:46.660Z"
   },
   {
    "duration": 4,
    "start_time": "2022-10-06T18:50:50.094Z"
   },
   {
    "duration": 3,
    "start_time": "2022-10-06T18:50:50.939Z"
   },
   {
    "duration": 4,
    "start_time": "2022-10-06T18:52:05.751Z"
   },
   {
    "duration": 59,
    "start_time": "2022-10-06T18:52:49.020Z"
   },
   {
    "duration": 5,
    "start_time": "2022-10-06T18:52:53.565Z"
   },
   {
    "duration": 7,
    "start_time": "2022-10-06T18:53:24.161Z"
   },
   {
    "duration": 6,
    "start_time": "2022-10-06T18:53:46.361Z"
   },
   {
    "duration": 3,
    "start_time": "2022-10-06T18:58:09.345Z"
   },
   {
    "duration": 3,
    "start_time": "2022-10-06T18:58:59.259Z"
   },
   {
    "duration": 4,
    "start_time": "2022-10-06T18:59:34.114Z"
   },
   {
    "duration": 3,
    "start_time": "2022-10-06T19:07:26.899Z"
   },
   {
    "duration": 4,
    "start_time": "2022-10-06T19:07:32.619Z"
   },
   {
    "duration": 4,
    "start_time": "2022-10-06T19:07:52.054Z"
   },
   {
    "duration": 5,
    "start_time": "2022-10-06T19:08:11.391Z"
   },
   {
    "duration": 8,
    "start_time": "2022-10-06T19:09:02.499Z"
   },
   {
    "duration": 1366,
    "start_time": "2022-10-06T19:09:25.993Z"
   },
   {
    "duration": 381,
    "start_time": "2022-10-06T19:09:27.361Z"
   },
   {
    "duration": 32,
    "start_time": "2022-10-06T19:09:27.744Z"
   },
   {
    "duration": 43,
    "start_time": "2022-10-06T19:09:27.778Z"
   },
   {
    "duration": 25,
    "start_time": "2022-10-06T19:09:27.823Z"
   },
   {
    "duration": 140,
    "start_time": "2022-10-06T19:09:27.850Z"
   },
   {
    "duration": 23,
    "start_time": "2022-10-06T19:09:27.992Z"
   },
   {
    "duration": 16,
    "start_time": "2022-10-06T19:09:28.017Z"
   },
   {
    "duration": 14,
    "start_time": "2022-10-06T19:09:28.034Z"
   },
   {
    "duration": 150,
    "start_time": "2022-10-06T19:09:28.050Z"
   },
   {
    "duration": 101,
    "start_time": "2022-10-06T19:09:28.202Z"
   },
   {
    "duration": 116,
    "start_time": "2022-10-06T19:09:28.305Z"
   },
   {
    "duration": 82,
    "start_time": "2022-10-06T19:09:28.423Z"
   },
   {
    "duration": 112,
    "start_time": "2022-10-06T19:09:28.507Z"
   },
   {
    "duration": 7,
    "start_time": "2022-10-06T19:09:28.621Z"
   },
   {
    "duration": 6,
    "start_time": "2022-10-06T19:09:28.630Z"
   },
   {
    "duration": 10,
    "start_time": "2022-10-06T19:09:28.637Z"
   },
   {
    "duration": 104,
    "start_time": "2022-10-06T19:09:28.649Z"
   },
   {
    "duration": 0,
    "start_time": "2022-10-06T19:09:28.754Z"
   },
   {
    "duration": 0,
    "start_time": "2022-10-06T19:09:28.755Z"
   },
   {
    "duration": 0,
    "start_time": "2022-10-06T19:09:28.756Z"
   },
   {
    "duration": 0,
    "start_time": "2022-10-06T19:09:28.757Z"
   },
   {
    "duration": 0,
    "start_time": "2022-10-06T19:09:28.758Z"
   },
   {
    "duration": 4,
    "start_time": "2022-10-06T19:10:08.687Z"
   },
   {
    "duration": 1341,
    "start_time": "2022-10-06T19:10:59.334Z"
   },
   {
    "duration": 381,
    "start_time": "2022-10-06T19:11:00.677Z"
   },
   {
    "duration": 65,
    "start_time": "2022-10-06T19:11:01.060Z"
   },
   {
    "duration": 96,
    "start_time": "2022-10-06T19:11:01.129Z"
   },
   {
    "duration": 87,
    "start_time": "2022-10-06T19:11:01.227Z"
   },
   {
    "duration": 293,
    "start_time": "2022-10-06T19:11:01.319Z"
   },
   {
    "duration": 15,
    "start_time": "2022-10-06T19:11:01.613Z"
   },
   {
    "duration": 13,
    "start_time": "2022-10-06T19:11:01.630Z"
   },
   {
    "duration": 73,
    "start_time": "2022-10-06T19:11:01.645Z"
   },
   {
    "duration": 91,
    "start_time": "2022-10-06T19:11:01.722Z"
   },
   {
    "duration": 121,
    "start_time": "2022-10-06T19:11:01.899Z"
   },
   {
    "duration": 203,
    "start_time": "2022-10-06T19:11:02.022Z"
   },
   {
    "duration": 176,
    "start_time": "2022-10-06T19:11:02.227Z"
   },
   {
    "duration": 20,
    "start_time": "2022-10-06T19:11:02.408Z"
   },
   {
    "duration": 6,
    "start_time": "2022-10-06T19:11:02.430Z"
   },
   {
    "duration": 14,
    "start_time": "2022-10-06T19:11:02.437Z"
   },
   {
    "duration": 6,
    "start_time": "2022-10-06T19:11:02.453Z"
   },
   {
    "duration": 63,
    "start_time": "2022-10-06T19:11:02.461Z"
   },
   {
    "duration": 204,
    "start_time": "2022-10-06T19:11:02.525Z"
   },
   {
    "duration": 0,
    "start_time": "2022-10-06T19:11:02.730Z"
   },
   {
    "duration": 0,
    "start_time": "2022-10-06T19:11:02.732Z"
   },
   {
    "duration": 0,
    "start_time": "2022-10-06T19:11:02.733Z"
   },
   {
    "duration": 0,
    "start_time": "2022-10-06T19:11:02.734Z"
   },
   {
    "duration": 0,
    "start_time": "2022-10-06T19:11:02.734Z"
   },
   {
    "duration": 7,
    "start_time": "2022-10-06T19:18:23.008Z"
   },
   {
    "duration": 5,
    "start_time": "2022-10-06T19:20:50.091Z"
   },
   {
    "duration": 6,
    "start_time": "2022-10-06T19:21:10.410Z"
   },
   {
    "duration": 3,
    "start_time": "2022-10-06T19:29:26.948Z"
   },
   {
    "duration": 3,
    "start_time": "2022-10-06T19:29:33.817Z"
   },
   {
    "duration": 4,
    "start_time": "2022-10-06T19:30:04.712Z"
   },
   {
    "duration": 4,
    "start_time": "2022-10-06T19:30:36.041Z"
   },
   {
    "duration": 3,
    "start_time": "2022-10-06T19:34:48.719Z"
   },
   {
    "duration": 14,
    "start_time": "2022-10-06T19:35:41.003Z"
   },
   {
    "duration": 3,
    "start_time": "2022-10-06T19:35:43.826Z"
   },
   {
    "duration": 4,
    "start_time": "2022-10-06T19:35:44.435Z"
   },
   {
    "duration": 5,
    "start_time": "2022-10-06T19:35:51.760Z"
   },
   {
    "duration": 3,
    "start_time": "2022-10-06T19:36:16.833Z"
   },
   {
    "duration": 3,
    "start_time": "2022-10-06T19:36:20.531Z"
   },
   {
    "duration": 4,
    "start_time": "2022-10-06T19:51:28.641Z"
   },
   {
    "duration": 3,
    "start_time": "2022-10-06T20:03:42.884Z"
   },
   {
    "duration": 4,
    "start_time": "2022-10-06T20:03:52.914Z"
   },
   {
    "duration": 9,
    "start_time": "2022-10-06T20:07:10.197Z"
   },
   {
    "duration": 6,
    "start_time": "2022-10-06T20:09:40.017Z"
   },
   {
    "duration": 4,
    "start_time": "2022-10-06T20:10:00.959Z"
   },
   {
    "duration": 4,
    "start_time": "2022-10-06T20:10:12.477Z"
   },
   {
    "duration": 8,
    "start_time": "2022-10-06T20:11:38.899Z"
   },
   {
    "duration": 5,
    "start_time": "2022-10-06T20:11:40.493Z"
   },
   {
    "duration": 4,
    "start_time": "2022-10-06T20:11:48.726Z"
   },
   {
    "duration": 5,
    "start_time": "2022-10-06T20:11:58.427Z"
   },
   {
    "duration": 4,
    "start_time": "2022-10-06T20:12:19.271Z"
   },
   {
    "duration": 4,
    "start_time": "2022-10-06T20:12:19.483Z"
   },
   {
    "duration": 4,
    "start_time": "2022-10-06T20:12:37.769Z"
   },
   {
    "duration": 3,
    "start_time": "2022-10-06T20:12:38.069Z"
   },
   {
    "duration": 4,
    "start_time": "2022-10-06T20:13:32.116Z"
   },
   {
    "duration": 5,
    "start_time": "2022-10-06T20:13:34.032Z"
   },
   {
    "duration": 8,
    "start_time": "2022-10-06T20:16:41.001Z"
   },
   {
    "duration": 5,
    "start_time": "2022-10-06T20:16:59.849Z"
   },
   {
    "duration": 3,
    "start_time": "2022-10-06T20:17:40.151Z"
   },
   {
    "duration": 4,
    "start_time": "2022-10-06T20:17:41.188Z"
   },
   {
    "duration": 4,
    "start_time": "2022-10-06T20:20:24.816Z"
   },
   {
    "duration": 4,
    "start_time": "2022-10-06T20:22:22.616Z"
   },
   {
    "duration": 5,
    "start_time": "2022-10-06T20:22:59.971Z"
   },
   {
    "duration": 3,
    "start_time": "2022-10-06T20:24:28.062Z"
   },
   {
    "duration": 3,
    "start_time": "2022-10-06T20:24:29.392Z"
   },
   {
    "duration": 3,
    "start_time": "2022-10-06T20:24:33.338Z"
   },
   {
    "duration": 5,
    "start_time": "2022-10-06T20:24:34.900Z"
   },
   {
    "duration": 3,
    "start_time": "2022-10-06T20:25:00.946Z"
   },
   {
    "duration": 4,
    "start_time": "2022-10-06T20:25:24.990Z"
   },
   {
    "duration": 4,
    "start_time": "2022-10-06T20:25:26.139Z"
   },
   {
    "duration": 7,
    "start_time": "2022-10-06T20:25:28.598Z"
   },
   {
    "duration": 3,
    "start_time": "2022-10-06T20:25:29.191Z"
   },
   {
    "duration": 4,
    "start_time": "2022-10-06T20:26:09.112Z"
   },
   {
    "duration": 13,
    "start_time": "2022-10-06T20:26:35.698Z"
   },
   {
    "duration": 3,
    "start_time": "2022-10-06T20:27:02.873Z"
   },
   {
    "duration": 5,
    "start_time": "2022-10-06T20:27:03.158Z"
   },
   {
    "duration": 5,
    "start_time": "2022-10-06T20:27:22.028Z"
   },
   {
    "duration": 5,
    "start_time": "2022-10-06T20:27:33.969Z"
   },
   {
    "duration": 4,
    "start_time": "2022-10-06T20:27:47.119Z"
   },
   {
    "duration": 8,
    "start_time": "2022-10-06T20:28:31.199Z"
   },
   {
    "duration": 4,
    "start_time": "2022-10-06T20:28:57.165Z"
   },
   {
    "duration": 4,
    "start_time": "2022-10-06T20:29:09.620Z"
   },
   {
    "duration": 10,
    "start_time": "2022-10-06T20:45:20.491Z"
   },
   {
    "duration": 3,
    "start_time": "2022-10-06T20:45:23.842Z"
   },
   {
    "duration": 11,
    "start_time": "2022-10-06T20:45:24.189Z"
   },
   {
    "duration": 12,
    "start_time": "2022-10-06T20:45:46.812Z"
   },
   {
    "duration": 4,
    "start_time": "2022-10-06T20:46:31.679Z"
   },
   {
    "duration": 31,
    "start_time": "2022-10-06T20:46:32.198Z"
   },
   {
    "duration": 55,
    "start_time": "2022-10-07T09:08:55.807Z"
   },
   {
    "duration": 8,
    "start_time": "2022-10-07T09:08:56.320Z"
   },
   {
    "duration": 2178,
    "start_time": "2022-10-07T09:09:08.331Z"
   },
   {
    "duration": 2341,
    "start_time": "2022-10-07T09:09:10.513Z"
   },
   {
    "duration": 39,
    "start_time": "2022-10-07T09:09:12.856Z"
   },
   {
    "duration": 47,
    "start_time": "2022-10-07T09:09:12.898Z"
   },
   {
    "duration": 42,
    "start_time": "2022-10-07T09:09:12.948Z"
   },
   {
    "duration": 183,
    "start_time": "2022-10-07T09:09:12.992Z"
   },
   {
    "duration": 34,
    "start_time": "2022-10-07T09:09:13.177Z"
   },
   {
    "duration": 20,
    "start_time": "2022-10-07T09:09:13.213Z"
   },
   {
    "duration": 17,
    "start_time": "2022-10-07T09:09:13.235Z"
   },
   {
    "duration": 141,
    "start_time": "2022-10-07T09:09:13.254Z"
   },
   {
    "duration": 198,
    "start_time": "2022-10-07T09:09:13.398Z"
   },
   {
    "duration": 160,
    "start_time": "2022-10-07T09:09:13.598Z"
   },
   {
    "duration": 0,
    "start_time": "2022-10-07T09:09:13.761Z"
   },
   {
    "duration": 0,
    "start_time": "2022-10-07T09:09:13.763Z"
   },
   {
    "duration": 0,
    "start_time": "2022-10-07T09:09:13.765Z"
   },
   {
    "duration": 0,
    "start_time": "2022-10-07T09:09:13.766Z"
   },
   {
    "duration": 0,
    "start_time": "2022-10-07T09:09:13.769Z"
   },
   {
    "duration": 0,
    "start_time": "2022-10-07T09:09:13.771Z"
   },
   {
    "duration": 0,
    "start_time": "2022-10-07T09:09:13.773Z"
   },
   {
    "duration": 0,
    "start_time": "2022-10-07T09:09:13.775Z"
   },
   {
    "duration": 0,
    "start_time": "2022-10-07T09:09:13.777Z"
   },
   {
    "duration": 0,
    "start_time": "2022-10-07T09:09:13.779Z"
   },
   {
    "duration": 0,
    "start_time": "2022-10-07T09:09:13.781Z"
   },
   {
    "duration": 1768,
    "start_time": "2022-10-07T09:09:50.153Z"
   },
   {
    "duration": 1076,
    "start_time": "2022-10-07T09:09:51.923Z"
   },
   {
    "duration": 105,
    "start_time": "2022-10-07T09:09:53.002Z"
   },
   {
    "duration": 93,
    "start_time": "2022-10-07T09:09:53.110Z"
   },
   {
    "duration": 96,
    "start_time": "2022-10-07T09:09:53.206Z"
   },
   {
    "duration": 389,
    "start_time": "2022-10-07T09:09:53.305Z"
   },
   {
    "duration": 21,
    "start_time": "2022-10-07T09:09:53.699Z"
   },
   {
    "duration": 74,
    "start_time": "2022-10-07T09:09:53.723Z"
   },
   {
    "duration": 26,
    "start_time": "2022-10-07T09:09:53.799Z"
   },
   {
    "duration": 180,
    "start_time": "2022-10-07T09:09:53.829Z"
   },
   {
    "duration": 298,
    "start_time": "2022-10-07T09:09:54.012Z"
   },
   {
    "duration": 36,
    "start_time": "2022-10-07T09:09:54.389Z"
   },
   {
    "duration": 76,
    "start_time": "2022-10-07T09:09:54.427Z"
   },
   {
    "duration": 90,
    "start_time": "2022-10-07T09:09:54.508Z"
   },
   {
    "duration": 11,
    "start_time": "2022-10-07T09:09:54.600Z"
   },
   {
    "duration": 7,
    "start_time": "2022-10-07T09:09:54.614Z"
   },
   {
    "duration": 5,
    "start_time": "2022-10-07T09:09:54.623Z"
   },
   {
    "duration": 8,
    "start_time": "2022-10-07T09:09:54.630Z"
   },
   {
    "duration": 7,
    "start_time": "2022-10-07T09:09:54.640Z"
   },
   {
    "duration": 181,
    "start_time": "2022-10-07T09:09:54.649Z"
   },
   {
    "duration": 0,
    "start_time": "2022-10-07T09:09:54.832Z"
   },
   {
    "duration": 0,
    "start_time": "2022-10-07T09:09:54.833Z"
   },
   {
    "duration": 0,
    "start_time": "2022-10-07T09:09:54.835Z"
   },
   {
    "duration": 4,
    "start_time": "2022-10-07T09:10:10.750Z"
   },
   {
    "duration": 28,
    "start_time": "2022-10-07T09:10:11.354Z"
   },
   {
    "duration": 73,
    "start_time": "2022-10-07T09:14:59.639Z"
   },
   {
    "duration": 256,
    "start_time": "2022-10-07T09:15:19.301Z"
   },
   {
    "duration": 182,
    "start_time": "2022-10-07T09:15:42.417Z"
   },
   {
    "duration": 29,
    "start_time": "2022-10-07T09:15:49.946Z"
   },
   {
    "duration": 38,
    "start_time": "2022-10-07T09:15:50.305Z"
   },
   {
    "duration": 41,
    "start_time": "2022-10-07T09:16:14.819Z"
   },
   {
    "duration": 4,
    "start_time": "2022-10-07T09:16:21.126Z"
   },
   {
    "duration": 12,
    "start_time": "2022-10-07T09:16:21.821Z"
   },
   {
    "duration": 4,
    "start_time": "2022-10-07T09:27:07.856Z"
   },
   {
    "duration": 4,
    "start_time": "2022-10-07T09:27:32.375Z"
   },
   {
    "duration": 4,
    "start_time": "2022-10-07T09:27:44.186Z"
   },
   {
    "duration": 3,
    "start_time": "2022-10-07T09:27:49.071Z"
   },
   {
    "duration": 6,
    "start_time": "2022-10-07T09:27:51.082Z"
   },
   {
    "duration": 5,
    "start_time": "2022-10-07T09:28:03.242Z"
   },
   {
    "duration": 6,
    "start_time": "2022-10-07T09:29:18.398Z"
   },
   {
    "duration": 5,
    "start_time": "2022-10-07T09:36:04.423Z"
   },
   {
    "duration": 4,
    "start_time": "2022-10-07T10:44:02.580Z"
   },
   {
    "duration": 4,
    "start_time": "2022-10-07T10:44:03.235Z"
   },
   {
    "duration": 4,
    "start_time": "2022-10-07T10:45:03.605Z"
   },
   {
    "duration": 7,
    "start_time": "2022-10-07T10:45:28.305Z"
   },
   {
    "duration": 5,
    "start_time": "2022-10-07T10:45:53.722Z"
   },
   {
    "duration": 5,
    "start_time": "2022-10-07T10:49:50.038Z"
   },
   {
    "duration": 5,
    "start_time": "2022-10-07T10:50:07.607Z"
   },
   {
    "duration": 10,
    "start_time": "2022-10-07T10:56:06.509Z"
   },
   {
    "duration": 4,
    "start_time": "2022-10-07T10:57:08.909Z"
   },
   {
    "duration": 5,
    "start_time": "2022-10-07T10:57:25.964Z"
   },
   {
    "duration": 1501,
    "start_time": "2022-10-07T19:48:38.309Z"
   },
   {
    "duration": 1300,
    "start_time": "2022-10-07T19:48:39.812Z"
   },
   {
    "duration": 94,
    "start_time": "2022-10-07T19:48:41.115Z"
   },
   {
    "duration": 96,
    "start_time": "2022-10-07T19:48:41.211Z"
   },
   {
    "duration": 102,
    "start_time": "2022-10-07T19:48:41.309Z"
   },
   {
    "duration": 378,
    "start_time": "2022-10-07T19:48:41.413Z"
   },
   {
    "duration": 19,
    "start_time": "2022-10-07T19:48:41.793Z"
   },
   {
    "duration": 20,
    "start_time": "2022-10-07T19:48:41.818Z"
   },
   {
    "duration": 77,
    "start_time": "2022-10-07T19:48:41.840Z"
   },
   {
    "duration": 389,
    "start_time": "2022-10-07T19:48:41.921Z"
   },
   {
    "duration": 178,
    "start_time": "2022-10-07T19:48:42.315Z"
   },
   {
    "duration": 198,
    "start_time": "2022-10-07T19:48:42.497Z"
   },
   {
    "duration": 14,
    "start_time": "2022-10-07T19:48:42.697Z"
   },
   {
    "duration": 0,
    "start_time": "2022-10-07T19:48:42.713Z"
   },
   {
    "duration": 0,
    "start_time": "2022-10-07T19:48:42.715Z"
   },
   {
    "duration": 0,
    "start_time": "2022-10-07T19:48:42.718Z"
   },
   {
    "duration": 0,
    "start_time": "2022-10-07T19:48:42.719Z"
   },
   {
    "duration": 0,
    "start_time": "2022-10-07T19:48:42.720Z"
   },
   {
    "duration": 0,
    "start_time": "2022-10-07T19:48:42.722Z"
   },
   {
    "duration": 0,
    "start_time": "2022-10-07T19:48:42.723Z"
   },
   {
    "duration": 0,
    "start_time": "2022-10-07T19:48:42.725Z"
   },
   {
    "duration": 0,
    "start_time": "2022-10-07T19:48:42.726Z"
   },
   {
    "duration": 1477,
    "start_time": "2022-10-07T19:49:46.916Z"
   },
   {
    "duration": 432,
    "start_time": "2022-10-07T19:49:48.403Z"
   },
   {
    "duration": 35,
    "start_time": "2022-10-07T19:49:48.837Z"
   },
   {
    "duration": 52,
    "start_time": "2022-10-07T19:49:48.874Z"
   },
   {
    "duration": 42,
    "start_time": "2022-10-07T19:49:48.928Z"
   },
   {
    "duration": 182,
    "start_time": "2022-10-07T19:49:48.971Z"
   },
   {
    "duration": 20,
    "start_time": "2022-10-07T19:49:49.155Z"
   },
   {
    "duration": 22,
    "start_time": "2022-10-07T19:49:49.192Z"
   },
   {
    "duration": 18,
    "start_time": "2022-10-07T19:49:49.215Z"
   },
   {
    "duration": 323,
    "start_time": "2022-10-07T19:49:49.235Z"
   },
   {
    "duration": 179,
    "start_time": "2022-10-07T19:49:49.560Z"
   },
   {
    "duration": 161,
    "start_time": "2022-10-07T19:49:49.742Z"
   },
   {
    "duration": 16,
    "start_time": "2022-10-07T19:49:49.906Z"
   },
   {
    "duration": 0,
    "start_time": "2022-10-07T19:49:49.924Z"
   },
   {
    "duration": 0,
    "start_time": "2022-10-07T19:49:49.926Z"
   },
   {
    "duration": 0,
    "start_time": "2022-10-07T19:49:49.927Z"
   },
   {
    "duration": 0,
    "start_time": "2022-10-07T19:49:49.929Z"
   },
   {
    "duration": 0,
    "start_time": "2022-10-07T19:49:49.930Z"
   },
   {
    "duration": 0,
    "start_time": "2022-10-07T19:49:49.932Z"
   },
   {
    "duration": 0,
    "start_time": "2022-10-07T19:49:49.933Z"
   },
   {
    "duration": 0,
    "start_time": "2022-10-07T19:49:49.934Z"
   },
   {
    "duration": 0,
    "start_time": "2022-10-07T19:49:49.936Z"
   },
   {
    "duration": 1429,
    "start_time": "2022-10-07T19:50:34.822Z"
   },
   {
    "duration": 425,
    "start_time": "2022-10-07T19:50:36.253Z"
   },
   {
    "duration": 45,
    "start_time": "2022-10-07T19:50:36.680Z"
   },
   {
    "duration": 30,
    "start_time": "2022-10-07T19:50:36.728Z"
   },
   {
    "duration": 59,
    "start_time": "2022-10-07T19:50:36.760Z"
   },
   {
    "duration": 183,
    "start_time": "2022-10-07T19:50:36.820Z"
   },
   {
    "duration": 15,
    "start_time": "2022-10-07T19:50:37.005Z"
   },
   {
    "duration": 17,
    "start_time": "2022-10-07T19:50:37.023Z"
   },
   {
    "duration": 19,
    "start_time": "2022-10-07T19:50:37.042Z"
   },
   {
    "duration": 51,
    "start_time": "2022-10-07T19:50:37.064Z"
   },
   {
    "duration": 126,
    "start_time": "2022-10-07T19:50:37.195Z"
   },
   {
    "duration": 171,
    "start_time": "2022-10-07T19:50:37.323Z"
   },
   {
    "duration": 107,
    "start_time": "2022-10-07T19:50:37.497Z"
   },
   {
    "duration": 9,
    "start_time": "2022-10-07T19:50:37.606Z"
   },
   {
    "duration": 9,
    "start_time": "2022-10-07T19:50:37.617Z"
   },
   {
    "duration": 6,
    "start_time": "2022-10-07T19:50:37.629Z"
   },
   {
    "duration": 8,
    "start_time": "2022-10-07T19:50:37.638Z"
   },
   {
    "duration": 10,
    "start_time": "2022-10-07T19:50:37.648Z"
   },
   {
    "duration": 145,
    "start_time": "2022-10-07T19:50:37.660Z"
   },
   {
    "duration": 0,
    "start_time": "2022-10-07T19:50:37.807Z"
   },
   {
    "duration": 0,
    "start_time": "2022-10-07T19:50:37.808Z"
   },
   {
    "duration": 0,
    "start_time": "2022-10-07T19:50:37.809Z"
   },
   {
    "duration": 3,
    "start_time": "2022-10-07T19:56:42.584Z"
   },
   {
    "duration": 3,
    "start_time": "2022-10-07T19:56:43.631Z"
   },
   {
    "duration": 3,
    "start_time": "2022-10-07T19:56:52.977Z"
   },
   {
    "duration": 4,
    "start_time": "2022-10-07T19:56:53.385Z"
   },
   {
    "duration": 5,
    "start_time": "2022-10-07T19:59:50.266Z"
   },
   {
    "duration": 4,
    "start_time": "2022-10-07T20:00:12.116Z"
   },
   {
    "duration": 1529,
    "start_time": "2022-10-07T20:03:08.283Z"
   },
   {
    "duration": 427,
    "start_time": "2022-10-07T20:03:09.817Z"
   },
   {
    "duration": 35,
    "start_time": "2022-10-07T20:03:10.246Z"
   },
   {
    "duration": 32,
    "start_time": "2022-10-07T20:03:10.297Z"
   },
   {
    "duration": 31,
    "start_time": "2022-10-07T20:03:10.331Z"
   },
   {
    "duration": 178,
    "start_time": "2022-10-07T20:03:10.364Z"
   },
   {
    "duration": 8,
    "start_time": "2022-10-07T20:03:10.544Z"
   },
   {
    "duration": 41,
    "start_time": "2022-10-07T20:03:10.554Z"
   },
   {
    "duration": 20,
    "start_time": "2022-10-07T20:03:10.597Z"
   },
   {
    "duration": 18,
    "start_time": "2022-10-07T20:03:10.621Z"
   },
   {
    "duration": 65,
    "start_time": "2022-10-07T20:03:10.642Z"
   },
   {
    "duration": 198,
    "start_time": "2022-10-07T20:03:10.709Z"
   },
   {
    "duration": 216,
    "start_time": "2022-10-07T20:03:10.911Z"
   },
   {
    "duration": 170,
    "start_time": "2022-10-07T20:03:11.129Z"
   },
   {
    "duration": 12,
    "start_time": "2022-10-07T20:03:11.301Z"
   },
   {
    "duration": 5,
    "start_time": "2022-10-07T20:03:11.316Z"
   },
   {
    "duration": 6,
    "start_time": "2022-10-07T20:03:11.323Z"
   },
   {
    "duration": 9,
    "start_time": "2022-10-07T20:03:11.331Z"
   },
   {
    "duration": 6,
    "start_time": "2022-10-07T20:03:11.342Z"
   },
   {
    "duration": 162,
    "start_time": "2022-10-07T20:03:11.350Z"
   },
   {
    "duration": 0,
    "start_time": "2022-10-07T20:03:11.514Z"
   },
   {
    "duration": 0,
    "start_time": "2022-10-07T20:03:11.516Z"
   },
   {
    "duration": 0,
    "start_time": "2022-10-07T20:03:11.519Z"
   },
   {
    "duration": 2887,
    "start_time": "2022-10-07T20:03:47.421Z"
   },
   {
    "duration": 907,
    "start_time": "2022-10-07T20:03:50.311Z"
   },
   {
    "duration": 102,
    "start_time": "2022-10-07T20:03:51.220Z"
   },
   {
    "duration": 93,
    "start_time": "2022-10-07T20:03:51.324Z"
   },
   {
    "duration": 93,
    "start_time": "2022-10-07T20:03:51.419Z"
   },
   {
    "duration": 398,
    "start_time": "2022-10-07T20:03:51.514Z"
   },
   {
    "duration": 17,
    "start_time": "2022-10-07T20:03:51.913Z"
   },
   {
    "duration": 75,
    "start_time": "2022-10-07T20:03:51.932Z"
   },
   {
    "duration": 28,
    "start_time": "2022-10-07T20:03:52.009Z"
   },
   {
    "duration": 253,
    "start_time": "2022-10-07T20:03:52.040Z"
   },
   {
    "duration": 212,
    "start_time": "2022-10-07T20:03:52.295Z"
   },
   {
    "duration": 121,
    "start_time": "2022-10-07T20:03:52.513Z"
   },
   {
    "duration": 170,
    "start_time": "2022-10-07T20:03:52.636Z"
   },
   {
    "duration": 12,
    "start_time": "2022-10-07T20:03:52.811Z"
   },
   {
    "duration": 27,
    "start_time": "2022-10-07T20:03:52.824Z"
   },
   {
    "duration": 18,
    "start_time": "2022-10-07T20:03:52.853Z"
   },
   {
    "duration": 43,
    "start_time": "2022-10-07T20:03:52.873Z"
   },
   {
    "duration": 32,
    "start_time": "2022-10-07T20:03:52.918Z"
   },
   {
    "duration": 164,
    "start_time": "2022-10-07T20:03:52.953Z"
   },
   {
    "duration": 0,
    "start_time": "2022-10-07T20:03:53.120Z"
   },
   {
    "duration": 0,
    "start_time": "2022-10-07T20:03:53.121Z"
   },
   {
    "duration": 0,
    "start_time": "2022-10-07T20:03:53.123Z"
   },
   {
    "duration": 4,
    "start_time": "2022-10-07T20:05:05.921Z"
   },
   {
    "duration": 3,
    "start_time": "2022-10-07T20:05:08.635Z"
   },
   {
    "duration": 12,
    "start_time": "2022-10-07T20:05:11.506Z"
   },
   {
    "duration": 10,
    "start_time": "2022-10-07T20:05:20.540Z"
   },
   {
    "duration": 4,
    "start_time": "2022-10-07T20:05:30.545Z"
   },
   {
    "duration": 17,
    "start_time": "2022-10-07T20:05:30.787Z"
   },
   {
    "duration": 45,
    "start_time": "2022-10-07T20:17:09.266Z"
   },
   {
    "duration": 31,
    "start_time": "2022-10-07T20:17:09.610Z"
   },
   {
    "duration": 43,
    "start_time": "2022-10-07T20:17:09.882Z"
   },
   {
    "duration": 1459,
    "start_time": "2022-10-07T20:17:32.416Z"
   },
   {
    "duration": 449,
    "start_time": "2022-10-07T20:17:33.877Z"
   },
   {
    "duration": 37,
    "start_time": "2022-10-07T20:17:34.328Z"
   },
   {
    "duration": 64,
    "start_time": "2022-10-07T20:17:34.368Z"
   },
   {
    "duration": 30,
    "start_time": "2022-10-07T20:17:34.434Z"
   },
   {
    "duration": 171,
    "start_time": "2022-10-07T20:17:34.466Z"
   },
   {
    "duration": 15,
    "start_time": "2022-10-07T20:17:34.639Z"
   },
   {
    "duration": 51,
    "start_time": "2022-10-07T20:17:34.656Z"
   },
   {
    "duration": 18,
    "start_time": "2022-10-07T20:17:34.709Z"
   },
   {
    "duration": 73,
    "start_time": "2022-10-07T20:17:34.730Z"
   },
   {
    "duration": 198,
    "start_time": "2022-10-07T20:17:34.805Z"
   },
   {
    "duration": 182,
    "start_time": "2022-10-07T20:17:35.010Z"
   },
   {
    "duration": 109,
    "start_time": "2022-10-07T20:17:35.200Z"
   },
   {
    "duration": 10,
    "start_time": "2022-10-07T20:17:35.311Z"
   },
   {
    "duration": 6,
    "start_time": "2022-10-07T20:17:35.323Z"
   },
   {
    "duration": 5,
    "start_time": "2022-10-07T20:17:35.331Z"
   },
   {
    "duration": 12,
    "start_time": "2022-10-07T20:17:35.338Z"
   },
   {
    "duration": 11,
    "start_time": "2022-10-07T20:17:35.352Z"
   },
   {
    "duration": 20,
    "start_time": "2022-10-07T20:17:35.365Z"
   },
   {
    "duration": 152,
    "start_time": "2022-10-07T20:17:35.387Z"
   },
   {
    "duration": 0,
    "start_time": "2022-10-07T20:17:35.541Z"
   },
   {
    "duration": 0,
    "start_time": "2022-10-07T20:17:35.543Z"
   },
   {
    "duration": 92,
    "start_time": "2022-10-07T20:21:49.505Z"
   },
   {
    "duration": 8,
    "start_time": "2022-10-07T20:22:01.882Z"
   },
   {
    "duration": 6,
    "start_time": "2022-10-07T20:22:37.066Z"
   },
   {
    "duration": 7,
    "start_time": "2022-10-07T20:22:49.523Z"
   },
   {
    "duration": 13,
    "start_time": "2022-10-07T20:23:11.095Z"
   },
   {
    "duration": 8,
    "start_time": "2022-10-07T20:23:36.814Z"
   },
   {
    "duration": 3,
    "start_time": "2022-10-07T20:25:21.613Z"
   },
   {
    "duration": 15,
    "start_time": "2022-10-07T20:25:22.131Z"
   },
   {
    "duration": 4,
    "start_time": "2022-10-07T20:40:00.456Z"
   },
   {
    "duration": 12,
    "start_time": "2022-10-07T20:40:01.263Z"
   },
   {
    "duration": 8,
    "start_time": "2022-10-07T20:59:49.285Z"
   },
   {
    "duration": 10,
    "start_time": "2022-10-07T20:59:49.813Z"
   },
   {
    "duration": 1659,
    "start_time": "2022-10-07T21:04:44.810Z"
   },
   {
    "duration": 1523,
    "start_time": "2022-10-07T21:04:58.710Z"
   },
   {
    "duration": 1605,
    "start_time": "2022-10-07T21:05:04.452Z"
   },
   {
    "duration": 1647,
    "start_time": "2022-10-07T21:05:21.411Z"
   },
   {
    "duration": 1704,
    "start_time": "2022-10-07T21:05:40.650Z"
   },
   {
    "duration": 1580,
    "start_time": "2022-10-07T21:05:52.207Z"
   },
   {
    "duration": 2070,
    "start_time": "2022-10-07T21:15:38.116Z"
   },
   {
    "duration": 655,
    "start_time": "2022-10-07T21:15:40.189Z"
   },
   {
    "duration": 74,
    "start_time": "2022-10-07T21:15:40.851Z"
   },
   {
    "duration": 63,
    "start_time": "2022-10-07T21:15:40.933Z"
   },
   {
    "duration": 59,
    "start_time": "2022-10-07T21:15:41.003Z"
   },
   {
    "duration": 255,
    "start_time": "2022-10-07T21:15:41.069Z"
   },
   {
    "duration": 17,
    "start_time": "2022-10-07T21:15:41.331Z"
   },
   {
    "duration": 21,
    "start_time": "2022-10-07T21:15:41.351Z"
   },
   {
    "duration": 75,
    "start_time": "2022-10-07T21:15:41.374Z"
   },
   {
    "duration": 54,
    "start_time": "2022-10-07T21:15:41.453Z"
   },
   {
    "duration": 334,
    "start_time": "2022-10-07T21:15:41.509Z"
   },
   {
    "duration": 159,
    "start_time": "2022-10-07T21:15:41.850Z"
   },
   {
    "duration": 17,
    "start_time": "2022-10-07T21:15:42.021Z"
   },
   {
    "duration": 95,
    "start_time": "2022-10-07T21:15:42.046Z"
   },
   {
    "duration": 38,
    "start_time": "2022-10-07T21:15:42.144Z"
   },
   {
    "duration": 42,
    "start_time": "2022-10-07T21:15:42.184Z"
   },
   {
    "duration": 17,
    "start_time": "2022-10-07T21:15:42.231Z"
   },
   {
    "duration": 36,
    "start_time": "2022-10-07T21:15:42.250Z"
   },
   {
    "duration": 67,
    "start_time": "2022-10-07T21:15:42.288Z"
   },
   {
    "duration": 64,
    "start_time": "2022-10-07T21:15:42.358Z"
   },
   {
    "duration": 1945,
    "start_time": "2022-10-07T21:15:42.424Z"
   },
   {
    "duration": 1728,
    "start_time": "2022-10-07T21:23:53.756Z"
   },
   {
    "duration": 1894,
    "start_time": "2022-10-07T21:24:44.886Z"
   },
   {
    "duration": 107,
    "start_time": "2022-10-07T21:30:16.209Z"
   },
   {
    "duration": 2444,
    "start_time": "2022-10-07T21:30:48.660Z"
   },
   {
    "duration": 1553,
    "start_time": "2022-10-07T21:31:24.954Z"
   },
   {
    "duration": 1720,
    "start_time": "2022-10-07T21:32:15.064Z"
   },
   {
    "duration": 1632,
    "start_time": "2022-10-07T21:32:16.789Z"
   },
   {
    "duration": 1646,
    "start_time": "2022-10-07T21:32:18.658Z"
   },
   {
    "duration": 46,
    "start_time": "2022-10-09T08:25:48.366Z"
   },
   {
    "duration": 1537,
    "start_time": "2022-10-09T08:25:57.392Z"
   },
   {
    "duration": 834,
    "start_time": "2022-10-09T08:25:58.931Z"
   },
   {
    "duration": 37,
    "start_time": "2022-10-09T08:25:59.767Z"
   },
   {
    "duration": 5,
    "start_time": "2022-10-09T08:25:59.806Z"
   },
   {
    "duration": 201,
    "start_time": "2022-10-09T08:25:59.812Z"
   },
   {
    "duration": 114,
    "start_time": "2022-10-09T08:26:00.015Z"
   },
   {
    "duration": 0,
    "start_time": "2022-10-09T08:26:00.133Z"
   },
   {
    "duration": 0,
    "start_time": "2022-10-09T08:26:00.134Z"
   },
   {
    "duration": 0,
    "start_time": "2022-10-09T08:26:00.135Z"
   },
   {
    "duration": 1,
    "start_time": "2022-10-09T08:26:00.136Z"
   },
   {
    "duration": 0,
    "start_time": "2022-10-09T08:26:00.138Z"
   },
   {
    "duration": 0,
    "start_time": "2022-10-09T08:26:00.139Z"
   },
   {
    "duration": 0,
    "start_time": "2022-10-09T08:26:00.140Z"
   },
   {
    "duration": 0,
    "start_time": "2022-10-09T08:26:00.140Z"
   },
   {
    "duration": 0,
    "start_time": "2022-10-09T08:26:00.141Z"
   },
   {
    "duration": 0,
    "start_time": "2022-10-09T08:26:00.142Z"
   },
   {
    "duration": 0,
    "start_time": "2022-10-09T08:26:00.143Z"
   },
   {
    "duration": 0,
    "start_time": "2022-10-09T08:26:00.144Z"
   },
   {
    "duration": 0,
    "start_time": "2022-10-09T08:26:00.144Z"
   },
   {
    "duration": 0,
    "start_time": "2022-10-09T08:26:00.145Z"
   },
   {
    "duration": 0,
    "start_time": "2022-10-09T08:26:00.146Z"
   },
   {
    "duration": 0,
    "start_time": "2022-10-09T08:26:00.146Z"
   },
   {
    "duration": 0,
    "start_time": "2022-10-09T08:26:00.151Z"
   },
   {
    "duration": 0,
    "start_time": "2022-10-09T08:26:00.152Z"
   },
   {
    "duration": 0,
    "start_time": "2022-10-09T08:26:00.152Z"
   },
   {
    "duration": 0,
    "start_time": "2022-10-09T08:26:00.153Z"
   },
   {
    "duration": 10,
    "start_time": "2022-10-09T08:41:01.065Z"
   },
   {
    "duration": 105,
    "start_time": "2022-10-09T08:42:03.788Z"
   },
   {
    "duration": 13,
    "start_time": "2022-10-09T08:42:06.905Z"
   },
   {
    "duration": 411,
    "start_time": "2022-10-09T08:44:00.566Z"
   },
   {
    "duration": 88,
    "start_time": "2022-10-09T08:44:46.344Z"
   },
   {
    "duration": 189,
    "start_time": "2022-10-09T08:45:30.217Z"
   },
   {
    "duration": 200,
    "start_time": "2022-10-09T08:45:44.205Z"
   },
   {
    "duration": 71,
    "start_time": "2022-10-09T08:46:02.582Z"
   },
   {
    "duration": 206,
    "start_time": "2022-10-09T08:46:05.487Z"
   },
   {
    "duration": 240,
    "start_time": "2022-10-09T08:47:26.253Z"
   },
   {
    "duration": 215,
    "start_time": "2022-10-09T08:48:29.546Z"
   },
   {
    "duration": 186,
    "start_time": "2022-10-09T08:48:57.557Z"
   },
   {
    "duration": 46,
    "start_time": "2022-10-09T08:50:34.950Z"
   },
   {
    "duration": 26,
    "start_time": "2022-10-09T08:50:53.777Z"
   },
   {
    "duration": 28,
    "start_time": "2022-10-09T08:51:02.287Z"
   },
   {
    "duration": 26,
    "start_time": "2022-10-09T08:51:04.970Z"
   },
   {
    "duration": 54,
    "start_time": "2022-10-09T08:51:18.761Z"
   },
   {
    "duration": 98,
    "start_time": "2022-10-09T08:52:20.779Z"
   },
   {
    "duration": 389,
    "start_time": "2022-10-09T08:52:37.062Z"
   },
   {
    "duration": 112,
    "start_time": "2022-10-09T08:52:37.552Z"
   },
   {
    "duration": 140,
    "start_time": "2022-10-09T08:53:26.072Z"
   },
   {
    "duration": 394,
    "start_time": "2022-10-09T08:53:42.704Z"
   },
   {
    "duration": 101,
    "start_time": "2022-10-09T08:53:43.100Z"
   },
   {
    "duration": 1304,
    "start_time": "2022-10-09T08:54:16.456Z"
   },
   {
    "duration": 386,
    "start_time": "2022-10-09T08:54:17.762Z"
   },
   {
    "duration": 225,
    "start_time": "2022-10-09T08:54:18.152Z"
   },
   {
    "duration": 0,
    "start_time": "2022-10-09T08:54:18.379Z"
   },
   {
    "duration": 0,
    "start_time": "2022-10-09T08:54:18.380Z"
   },
   {
    "duration": 0,
    "start_time": "2022-10-09T08:54:18.381Z"
   },
   {
    "duration": 0,
    "start_time": "2022-10-09T08:54:18.381Z"
   },
   {
    "duration": 0,
    "start_time": "2022-10-09T08:54:18.382Z"
   },
   {
    "duration": 0,
    "start_time": "2022-10-09T08:54:18.383Z"
   },
   {
    "duration": 0,
    "start_time": "2022-10-09T08:54:18.384Z"
   },
   {
    "duration": 0,
    "start_time": "2022-10-09T08:54:18.385Z"
   },
   {
    "duration": 0,
    "start_time": "2022-10-09T08:54:18.386Z"
   },
   {
    "duration": 0,
    "start_time": "2022-10-09T08:54:18.388Z"
   },
   {
    "duration": 0,
    "start_time": "2022-10-09T08:54:18.389Z"
   },
   {
    "duration": 0,
    "start_time": "2022-10-09T08:54:18.390Z"
   },
   {
    "duration": 0,
    "start_time": "2022-10-09T08:54:18.391Z"
   },
   {
    "duration": 0,
    "start_time": "2022-10-09T08:54:18.392Z"
   },
   {
    "duration": 0,
    "start_time": "2022-10-09T08:54:18.393Z"
   },
   {
    "duration": 0,
    "start_time": "2022-10-09T08:54:18.394Z"
   },
   {
    "duration": 0,
    "start_time": "2022-10-09T08:54:18.395Z"
   },
   {
    "duration": 0,
    "start_time": "2022-10-09T08:54:18.397Z"
   },
   {
    "duration": 0,
    "start_time": "2022-10-09T08:54:18.398Z"
   },
   {
    "duration": 1,
    "start_time": "2022-10-09T08:54:18.399Z"
   },
   {
    "duration": 118,
    "start_time": "2022-10-09T09:06:19.980Z"
   },
   {
    "duration": 117,
    "start_time": "2022-10-09T09:06:30.072Z"
   },
   {
    "duration": 116,
    "start_time": "2022-10-09T09:06:33.630Z"
   },
   {
    "duration": 239,
    "start_time": "2022-10-09T09:07:52.800Z"
   },
   {
    "duration": 122,
    "start_time": "2022-10-09T09:08:13.262Z"
   },
   {
    "duration": 4,
    "start_time": "2022-10-09T09:08:46.105Z"
   },
   {
    "duration": 202,
    "start_time": "2022-10-09T09:08:46.553Z"
   },
   {
    "duration": 15,
    "start_time": "2022-10-09T09:08:46.999Z"
   },
   {
    "duration": 220,
    "start_time": "2022-10-09T09:09:06.606Z"
   },
   {
    "duration": 6,
    "start_time": "2022-10-09T09:09:24.147Z"
   },
   {
    "duration": 7,
    "start_time": "2022-10-09T09:10:59.619Z"
   },
   {
    "duration": 125,
    "start_time": "2022-10-09T09:11:00.086Z"
   },
   {
    "duration": 11,
    "start_time": "2022-10-09T09:11:15.233Z"
   },
   {
    "duration": 474,
    "start_time": "2022-10-09T09:11:17.035Z"
   },
   {
    "duration": 506,
    "start_time": "2022-10-09T09:13:09.790Z"
   },
   {
    "duration": 220,
    "start_time": "2022-10-09T09:13:10.298Z"
   },
   {
    "duration": 5,
    "start_time": "2022-10-09T09:13:10.562Z"
   },
   {
    "duration": 398,
    "start_time": "2022-10-09T09:13:11.832Z"
   },
   {
    "duration": 8,
    "start_time": "2022-10-09T09:13:20.961Z"
   },
   {
    "duration": 334,
    "start_time": "2022-10-09T09:13:24.093Z"
   },
   {
    "duration": 6,
    "start_time": "2022-10-09T09:38:17.389Z"
   },
   {
    "duration": 33,
    "start_time": "2022-10-09T09:38:18.170Z"
   },
   {
    "duration": 9,
    "start_time": "2022-10-09T09:38:29.499Z"
   },
   {
    "duration": 13,
    "start_time": "2022-10-09T09:38:33.896Z"
   },
   {
    "duration": 4,
    "start_time": "2022-10-09T09:38:44.760Z"
   },
   {
    "duration": 293,
    "start_time": "2022-10-09T09:38:47.148Z"
   },
   {
    "duration": 6,
    "start_time": "2022-10-09T09:39:17.784Z"
   },
   {
    "duration": 334,
    "start_time": "2022-10-09T09:39:19.293Z"
   },
   {
    "duration": 5,
    "start_time": "2022-10-09T09:39:38.817Z"
   },
   {
    "duration": 297,
    "start_time": "2022-10-09T09:39:39.273Z"
   },
   {
    "duration": 4,
    "start_time": "2022-10-09T09:40:13.920Z"
   },
   {
    "duration": 321,
    "start_time": "2022-10-09T09:40:14.297Z"
   },
   {
    "duration": 0,
    "start_time": "2022-10-09T09:40:14.619Z"
   },
   {
    "duration": 60,
    "start_time": "2022-10-09T09:41:00.293Z"
   },
   {
    "duration": 348,
    "start_time": "2022-10-09T09:41:00.801Z"
   },
   {
    "duration": 146,
    "start_time": "2022-10-09T09:41:09.910Z"
   },
   {
    "duration": 294,
    "start_time": "2022-10-09T09:41:10.297Z"
   },
   {
    "duration": 7,
    "start_time": "2022-10-09T09:41:16.059Z"
   },
   {
    "duration": 389,
    "start_time": "2022-10-09T09:41:16.408Z"
   },
   {
    "duration": 0,
    "start_time": "2022-10-09T09:41:16.798Z"
   },
   {
    "duration": 256,
    "start_time": "2022-10-09T09:41:49.023Z"
   },
   {
    "duration": 205,
    "start_time": "2022-10-09T09:42:01.745Z"
   },
   {
    "duration": 249,
    "start_time": "2022-10-09T09:42:02.038Z"
   },
   {
    "duration": 154,
    "start_time": "2022-10-09T09:44:14.935Z"
   },
   {
    "duration": 720,
    "start_time": "2022-10-09T09:44:54.917Z"
   },
   {
    "duration": 929,
    "start_time": "2022-10-09T09:45:14.496Z"
   },
   {
    "duration": 892,
    "start_time": "2022-10-09T09:45:26.046Z"
   },
   {
    "duration": 821,
    "start_time": "2022-10-09T09:45:32.503Z"
   },
   {
    "duration": 671,
    "start_time": "2022-10-09T09:45:49.646Z"
   },
   {
    "duration": 704,
    "start_time": "2022-10-09T09:46:24.768Z"
   },
   {
    "duration": 723,
    "start_time": "2022-10-09T09:46:33.932Z"
   },
   {
    "duration": 755,
    "start_time": "2022-10-09T09:46:42.616Z"
   },
   {
    "duration": 751,
    "start_time": "2022-10-09T09:47:05.729Z"
   },
   {
    "duration": 4,
    "start_time": "2022-10-09T10:02:24.755Z"
   },
   {
    "duration": 46,
    "start_time": "2022-10-09T10:02:25.083Z"
   },
   {
    "duration": 721,
    "start_time": "2022-10-09T10:05:13.752Z"
   },
   {
    "duration": 3,
    "start_time": "2022-10-09T10:08:41.990Z"
   },
   {
    "duration": 3,
    "start_time": "2022-10-09T10:08:43.273Z"
   },
   {
    "duration": 12,
    "start_time": "2022-10-09T10:08:43.572Z"
   },
   {
    "duration": 1456,
    "start_time": "2022-10-09T10:09:15.312Z"
   },
   {
    "duration": 4,
    "start_time": "2022-10-09T10:09:16.771Z"
   },
   {
    "duration": 416,
    "start_time": "2022-10-09T10:09:16.777Z"
   },
   {
    "duration": 732,
    "start_time": "2022-10-09T10:09:17.195Z"
   },
   {
    "duration": 9,
    "start_time": "2022-10-09T10:09:17.933Z"
   },
   {
    "duration": 245,
    "start_time": "2022-10-09T10:09:17.944Z"
   },
   {
    "duration": 216,
    "start_time": "2022-10-09T10:09:18.191Z"
   },
   {
    "duration": 224,
    "start_time": "2022-10-09T10:09:18.409Z"
   },
   {
    "duration": 21,
    "start_time": "2022-10-09T10:09:18.634Z"
   },
   {
    "duration": 23,
    "start_time": "2022-10-09T10:09:18.659Z"
   },
   {
    "duration": 145,
    "start_time": "2022-10-09T10:09:18.684Z"
   },
   {
    "duration": 0,
    "start_time": "2022-10-09T10:09:18.830Z"
   },
   {
    "duration": 0,
    "start_time": "2022-10-09T10:09:18.837Z"
   },
   {
    "duration": 0,
    "start_time": "2022-10-09T10:09:18.838Z"
   },
   {
    "duration": 0,
    "start_time": "2022-10-09T10:09:18.839Z"
   },
   {
    "duration": 0,
    "start_time": "2022-10-09T10:09:18.840Z"
   },
   {
    "duration": 0,
    "start_time": "2022-10-09T10:09:18.916Z"
   },
   {
    "duration": 0,
    "start_time": "2022-10-09T10:09:18.918Z"
   },
   {
    "duration": 0,
    "start_time": "2022-10-09T10:09:18.919Z"
   },
   {
    "duration": 0,
    "start_time": "2022-10-09T10:09:18.933Z"
   },
   {
    "duration": 0,
    "start_time": "2022-10-09T10:09:18.934Z"
   },
   {
    "duration": 0,
    "start_time": "2022-10-09T10:09:18.935Z"
   },
   {
    "duration": 0,
    "start_time": "2022-10-09T10:09:18.936Z"
   },
   {
    "duration": 0,
    "start_time": "2022-10-09T10:09:18.937Z"
   },
   {
    "duration": 0,
    "start_time": "2022-10-09T10:09:18.937Z"
   },
   {
    "duration": 9,
    "start_time": "2022-10-09T10:40:21.115Z"
   },
   {
    "duration": 9,
    "start_time": "2022-10-09T10:40:22.068Z"
   },
   {
    "duration": 3,
    "start_time": "2022-10-09T10:40:35.101Z"
   },
   {
    "duration": 5,
    "start_time": "2022-10-09T10:40:41.824Z"
   },
   {
    "duration": 12,
    "start_time": "2022-10-09T10:40:42.361Z"
   },
   {
    "duration": 7,
    "start_time": "2022-10-09T10:41:21.385Z"
   },
   {
    "duration": 16,
    "start_time": "2022-10-09T10:41:21.679Z"
   },
   {
    "duration": 7,
    "start_time": "2022-10-09T10:41:38.169Z"
   },
   {
    "duration": 72,
    "start_time": "2022-10-09T10:41:38.571Z"
   },
   {
    "duration": 5,
    "start_time": "2022-10-09T10:41:49.455Z"
   },
   {
    "duration": 45,
    "start_time": "2022-10-09T10:41:49.655Z"
   },
   {
    "duration": 7,
    "start_time": "2022-10-09T10:42:22.054Z"
   },
   {
    "duration": 301,
    "start_time": "2022-10-09T10:42:22.262Z"
   },
   {
    "duration": 8,
    "start_time": "2022-10-09T10:43:03.123Z"
   },
   {
    "duration": 158,
    "start_time": "2022-10-09T10:43:03.592Z"
   },
   {
    "duration": 4,
    "start_time": "2022-10-09T10:43:31.648Z"
   },
   {
    "duration": 264,
    "start_time": "2022-10-09T10:43:31.986Z"
   },
   {
    "duration": 4,
    "start_time": "2022-10-09T11:15:01.398Z"
   },
   {
    "duration": 35,
    "start_time": "2022-10-09T11:15:01.910Z"
   },
   {
    "duration": 4,
    "start_time": "2022-10-09T11:15:50.892Z"
   },
   {
    "duration": 399,
    "start_time": "2022-10-09T11:15:51.240Z"
   },
   {
    "duration": 8,
    "start_time": "2022-10-09T11:16:04.495Z"
   },
   {
    "duration": 9,
    "start_time": "2022-10-09T11:16:31.645Z"
   },
   {
    "duration": 8,
    "start_time": "2022-10-09T11:17:17.784Z"
   },
   {
    "duration": 366,
    "start_time": "2022-10-09T11:17:18.871Z"
   },
   {
    "duration": 5,
    "start_time": "2022-10-09T11:17:20.264Z"
   },
   {
    "duration": 6,
    "start_time": "2022-10-09T11:18:17.321Z"
   },
   {
    "duration": 38,
    "start_time": "2022-10-09T11:18:17.605Z"
   },
   {
    "duration": 4,
    "start_time": "2022-10-09T11:18:24.948Z"
   },
   {
    "duration": 329,
    "start_time": "2022-10-09T11:18:25.317Z"
   },
   {
    "duration": 6,
    "start_time": "2022-10-09T11:23:08.394Z"
   },
   {
    "duration": 280,
    "start_time": "2022-10-09T11:23:08.669Z"
   },
   {
    "duration": 4,
    "start_time": "2022-10-09T11:24:35.193Z"
   },
   {
    "duration": 11,
    "start_time": "2022-10-09T11:24:36.250Z"
   },
   {
    "duration": 3,
    "start_time": "2022-10-09T11:25:29.344Z"
   },
   {
    "duration": 5,
    "start_time": "2022-10-09T11:26:22.595Z"
   },
   {
    "duration": 4,
    "start_time": "2022-10-09T11:26:41.885Z"
   },
   {
    "duration": 9,
    "start_time": "2022-10-09T11:28:31.076Z"
   },
   {
    "duration": 81,
    "start_time": "2022-10-09T11:31:22.366Z"
   },
   {
    "duration": 43,
    "start_time": "2022-10-09T11:31:40.972Z"
   },
   {
    "duration": 107,
    "start_time": "2022-10-09T11:31:51.872Z"
   },
   {
    "duration": 56,
    "start_time": "2022-10-09T11:32:04.356Z"
   },
   {
    "duration": 12,
    "start_time": "2022-10-09T11:32:35.552Z"
   },
   {
    "duration": 11,
    "start_time": "2022-10-09T11:32:54.900Z"
   },
   {
    "duration": 4,
    "start_time": "2022-10-09T11:34:03.052Z"
   },
   {
    "duration": 3,
    "start_time": "2022-10-09T11:35:07.314Z"
   },
   {
    "duration": 4,
    "start_time": "2022-10-09T11:35:46.078Z"
   },
   {
    "duration": 12,
    "start_time": "2022-10-09T11:36:09.979Z"
   },
   {
    "duration": 4,
    "start_time": "2022-10-09T11:36:36.923Z"
   },
   {
    "duration": 7,
    "start_time": "2022-10-09T11:37:16.326Z"
   },
   {
    "duration": 4,
    "start_time": "2022-10-09T11:37:40.447Z"
   },
   {
    "duration": 54,
    "start_time": "2022-10-09T11:38:31.868Z"
   },
   {
    "duration": 7,
    "start_time": "2022-10-09T11:38:36.168Z"
   },
   {
    "duration": 4,
    "start_time": "2022-10-09T11:38:55.906Z"
   },
   {
    "duration": 52,
    "start_time": "2022-10-09T11:39:12.716Z"
   },
   {
    "duration": 58,
    "start_time": "2022-10-09T11:39:22.989Z"
   },
   {
    "duration": 64,
    "start_time": "2022-10-09T11:39:42.509Z"
   },
   {
    "duration": 59,
    "start_time": "2022-10-09T11:39:50.579Z"
   },
   {
    "duration": 9,
    "start_time": "2022-10-09T11:40:07.049Z"
   },
   {
    "duration": 10,
    "start_time": "2022-10-09T11:40:49.270Z"
   },
   {
    "duration": 4,
    "start_time": "2022-10-09T11:41:13.645Z"
   },
   {
    "duration": 6,
    "start_time": "2022-10-09T11:41:13.925Z"
   },
   {
    "duration": 12,
    "start_time": "2022-10-09T11:41:44.994Z"
   },
   {
    "duration": 5,
    "start_time": "2022-10-09T11:41:55.076Z"
   },
   {
    "duration": 3,
    "start_time": "2022-10-09T11:42:33.292Z"
   },
   {
    "duration": 16,
    "start_time": "2022-10-09T11:42:42.030Z"
   },
   {
    "duration": 11,
    "start_time": "2022-10-09T11:44:11.385Z"
   },
   {
    "duration": 3,
    "start_time": "2022-10-09T11:44:14.623Z"
   },
   {
    "duration": 12,
    "start_time": "2022-10-09T11:44:14.867Z"
   },
   {
    "duration": 4,
    "start_time": "2022-10-09T11:44:28.762Z"
   },
   {
    "duration": 3,
    "start_time": "2022-10-09T11:44:30.086Z"
   },
   {
    "duration": 1350,
    "start_time": "2022-10-09T11:44:30.640Z"
   },
   {
    "duration": 11,
    "start_time": "2022-10-09T11:51:25.247Z"
   },
   {
    "duration": 6,
    "start_time": "2022-10-09T11:51:33.951Z"
   },
   {
    "duration": 1249,
    "start_time": "2022-10-09T11:52:18.595Z"
   },
   {
    "duration": 2,
    "start_time": "2022-10-09T11:52:19.847Z"
   },
   {
    "duration": 399,
    "start_time": "2022-10-09T11:52:19.851Z"
   },
   {
    "duration": 655,
    "start_time": "2022-10-09T11:52:20.252Z"
   },
   {
    "duration": 6,
    "start_time": "2022-10-09T11:52:20.909Z"
   },
   {
    "duration": 214,
    "start_time": "2022-10-09T11:52:20.916Z"
   },
   {
    "duration": 214,
    "start_time": "2022-10-09T11:52:21.132Z"
   },
   {
    "duration": 208,
    "start_time": "2022-10-09T11:52:21.348Z"
   },
   {
    "duration": 5,
    "start_time": "2022-10-09T11:52:21.558Z"
   },
   {
    "duration": 479,
    "start_time": "2022-10-09T11:52:21.564Z"
   },
   {
    "duration": 6,
    "start_time": "2022-10-09T11:52:22.045Z"
   },
   {
    "duration": 92,
    "start_time": "2022-10-09T11:52:22.052Z"
   },
   {
    "duration": 16,
    "start_time": "2022-10-09T11:52:22.146Z"
   },
   {
    "duration": 6,
    "start_time": "2022-10-09T11:52:22.165Z"
   },
   {
    "duration": 10,
    "start_time": "2022-10-09T11:52:22.172Z"
   },
   {
    "duration": 1340,
    "start_time": "2022-10-09T11:52:22.183Z"
   },
   {
    "duration": 124,
    "start_time": "2022-10-09T11:52:23.524Z"
   },
   {
    "duration": 0,
    "start_time": "2022-10-09T11:52:23.650Z"
   },
   {
    "duration": 46,
    "start_time": "2022-10-09T11:54:53.770Z"
   },
   {
    "duration": 8,
    "start_time": "2022-10-09T11:55:05.521Z"
   },
   {
    "duration": 1474,
    "start_time": "2022-10-09T12:27:55.476Z"
   },
   {
    "duration": 1329,
    "start_time": "2022-10-09T12:28:04.499Z"
   },
   {
    "duration": 1291,
    "start_time": "2022-10-09T12:28:49.387Z"
   },
   {
    "duration": 3,
    "start_time": "2022-10-09T12:28:50.680Z"
   },
   {
    "duration": 393,
    "start_time": "2022-10-09T12:28:50.684Z"
   },
   {
    "duration": 667,
    "start_time": "2022-10-09T12:28:51.079Z"
   },
   {
    "duration": 5,
    "start_time": "2022-10-09T12:28:51.749Z"
   },
   {
    "duration": 231,
    "start_time": "2022-10-09T12:28:51.755Z"
   },
   {
    "duration": 211,
    "start_time": "2022-10-09T12:28:51.987Z"
   },
   {
    "duration": 214,
    "start_time": "2022-10-09T12:28:52.200Z"
   },
   {
    "duration": 5,
    "start_time": "2022-10-09T12:28:52.416Z"
   },
   {
    "duration": 505,
    "start_time": "2022-10-09T12:28:52.433Z"
   },
   {
    "duration": 4,
    "start_time": "2022-10-09T12:28:52.940Z"
   },
   {
    "duration": 90,
    "start_time": "2022-10-09T12:28:52.946Z"
   },
   {
    "duration": 27,
    "start_time": "2022-10-09T12:28:53.039Z"
   },
   {
    "duration": 3,
    "start_time": "2022-10-09T12:28:53.068Z"
   },
   {
    "duration": 9,
    "start_time": "2022-10-09T12:28:53.073Z"
   },
   {
    "duration": 1538,
    "start_time": "2022-10-09T12:28:53.083Z"
   },
   {
    "duration": 0,
    "start_time": "2022-10-09T12:28:54.622Z"
   },
   {
    "duration": 1,
    "start_time": "2022-10-09T12:28:54.623Z"
   },
   {
    "duration": 0,
    "start_time": "2022-10-09T12:28:54.625Z"
   },
   {
    "duration": 1338,
    "start_time": "2022-10-09T12:29:09.350Z"
   },
   {
    "duration": 10,
    "start_time": "2022-10-09T14:51:11.111Z"
   },
   {
    "duration": 1404,
    "start_time": "2022-10-09T14:51:14.982Z"
   },
   {
    "duration": 1261,
    "start_time": "2022-10-09T14:52:38.354Z"
   },
   {
    "duration": 3,
    "start_time": "2022-10-09T14:55:30.314Z"
   },
   {
    "duration": 59,
    "start_time": "2022-10-09T14:56:44.002Z"
   },
   {
    "duration": 1298,
    "start_time": "2022-10-09T14:56:52.922Z"
   },
   {
    "duration": 1302,
    "start_time": "2022-10-09T15:01:59.981Z"
   },
   {
    "duration": 2,
    "start_time": "2022-10-09T15:02:56.718Z"
   },
   {
    "duration": 1257,
    "start_time": "2022-10-09T15:03:01.674Z"
   },
   {
    "duration": 3,
    "start_time": "2022-10-09T15:03:02.933Z"
   },
   {
    "duration": 373,
    "start_time": "2022-10-09T15:03:02.937Z"
   },
   {
    "duration": 612,
    "start_time": "2022-10-09T15:03:03.312Z"
   },
   {
    "duration": 4,
    "start_time": "2022-10-09T15:03:03.933Z"
   },
   {
    "duration": 196,
    "start_time": "2022-10-09T15:03:03.939Z"
   },
   {
    "duration": 196,
    "start_time": "2022-10-09T15:03:04.137Z"
   },
   {
    "duration": 189,
    "start_time": "2022-10-09T15:03:04.335Z"
   },
   {
    "duration": 4,
    "start_time": "2022-10-09T15:03:04.533Z"
   },
   {
    "duration": 495,
    "start_time": "2022-10-09T15:03:04.539Z"
   },
   {
    "duration": 95,
    "start_time": "2022-10-09T15:03:05.039Z"
   },
   {
    "duration": 4,
    "start_time": "2022-10-09T15:03:05.135Z"
   },
   {
    "duration": 13,
    "start_time": "2022-10-09T15:03:05.140Z"
   },
   {
    "duration": 5,
    "start_time": "2022-10-09T15:03:05.156Z"
   },
   {
    "duration": 6,
    "start_time": "2022-10-09T15:03:05.162Z"
   },
   {
    "duration": 1405,
    "start_time": "2022-10-09T15:03:05.170Z"
   },
   {
    "duration": 104,
    "start_time": "2022-10-09T15:03:06.577Z"
   },
   {
    "duration": 0,
    "start_time": "2022-10-09T15:03:06.682Z"
   },
   {
    "duration": 0,
    "start_time": "2022-10-09T15:03:06.683Z"
   },
   {
    "duration": 1332,
    "start_time": "2022-10-09T15:28:03.573Z"
   },
   {
    "duration": 1435,
    "start_time": "2022-10-09T15:57:54.834Z"
   },
   {
    "duration": 1473,
    "start_time": "2022-10-09T15:58:16.313Z"
   },
   {
    "duration": 1292,
    "start_time": "2022-10-09T16:04:17.405Z"
   },
   {
    "duration": 6,
    "start_time": "2022-10-09T16:13:28.560Z"
   },
   {
    "duration": 16,
    "start_time": "2022-10-09T16:13:29.471Z"
   },
   {
    "duration": 15,
    "start_time": "2022-10-09T16:14:46.248Z"
   },
   {
    "duration": 16,
    "start_time": "2022-10-09T16:14:56.315Z"
   },
   {
    "duration": 6,
    "start_time": "2022-10-09T16:15:05.191Z"
   },
   {
    "duration": 13,
    "start_time": "2022-10-09T16:15:21.616Z"
   },
   {
    "duration": 5,
    "start_time": "2022-10-09T16:15:55.782Z"
   },
   {
    "duration": 8,
    "start_time": "2022-10-09T16:15:56.395Z"
   },
   {
    "duration": 14,
    "start_time": "2022-10-09T16:15:57.843Z"
   },
   {
    "duration": 6,
    "start_time": "2022-10-09T16:18:31.275Z"
   },
   {
    "duration": 8,
    "start_time": "2022-10-09T16:18:31.632Z"
   },
   {
    "duration": 14,
    "start_time": "2022-10-09T16:18:32.927Z"
   },
   {
    "duration": 3,
    "start_time": "2022-10-09T16:18:43.490Z"
   },
   {
    "duration": 5,
    "start_time": "2022-10-09T16:18:43.772Z"
   },
   {
    "duration": 7,
    "start_time": "2022-10-09T16:18:44.008Z"
   },
   {
    "duration": 18,
    "start_time": "2022-10-09T16:18:44.263Z"
   },
   {
    "duration": 7,
    "start_time": "2022-10-09T16:19:02.209Z"
   },
   {
    "duration": 6,
    "start_time": "2022-10-09T16:19:02.480Z"
   },
   {
    "duration": 1355,
    "start_time": "2022-10-09T16:19:02.737Z"
   },
   {
    "duration": 1423,
    "start_time": "2022-10-09T16:19:04.139Z"
   },
   {
    "duration": 6,
    "start_time": "2022-10-09T16:20:52.819Z"
   },
   {
    "duration": 7,
    "start_time": "2022-10-09T16:20:52.991Z"
   },
   {
    "duration": 1650,
    "start_time": "2022-10-09T16:20:53.164Z"
   },
   {
    "duration": 1558,
    "start_time": "2022-10-09T16:20:54.816Z"
   },
   {
    "duration": 6,
    "start_time": "2022-10-09T16:21:22.929Z"
   },
   {
    "duration": 7,
    "start_time": "2022-10-09T16:21:23.110Z"
   },
   {
    "duration": 1347,
    "start_time": "2022-10-09T16:21:23.247Z"
   },
   {
    "duration": 1393,
    "start_time": "2022-10-09T16:21:24.596Z"
   },
   {
    "duration": 4,
    "start_time": "2022-10-09T16:22:12.055Z"
   },
   {
    "duration": 6,
    "start_time": "2022-10-09T16:22:12.215Z"
   },
   {
    "duration": 1457,
    "start_time": "2022-10-09T16:22:12.370Z"
   },
   {
    "duration": 1535,
    "start_time": "2022-10-09T16:22:13.833Z"
   },
   {
    "duration": 11,
    "start_time": "2022-10-09T16:22:15.370Z"
   },
   {
    "duration": 1535,
    "start_time": "2022-10-09T16:22:30.896Z"
   },
   {
    "duration": 16,
    "start_time": "2022-10-09T16:22:32.434Z"
   },
   {
    "duration": 5,
    "start_time": "2022-10-09T16:22:40.052Z"
   },
   {
    "duration": 7,
    "start_time": "2022-10-09T16:22:40.227Z"
   },
   {
    "duration": 1438,
    "start_time": "2022-10-09T16:22:40.377Z"
   },
   {
    "duration": 5,
    "start_time": "2022-10-09T16:31:23.783Z"
   },
   {
    "duration": 9,
    "start_time": "2022-10-09T16:31:24.154Z"
   },
   {
    "duration": 1415,
    "start_time": "2022-10-09T16:31:32.195Z"
   },
   {
    "duration": 4,
    "start_time": "2022-10-09T16:31:51.784Z"
   },
   {
    "duration": 4293,
    "start_time": "2022-10-09T16:31:51.958Z"
   },
   {
    "duration": 5,
    "start_time": "2022-10-09T16:32:21.289Z"
   },
   {
    "duration": 4426,
    "start_time": "2022-10-09T16:32:21.430Z"
   },
   {
    "duration": 49,
    "start_time": "2022-10-09T16:33:01.495Z"
   },
   {
    "duration": 3934,
    "start_time": "2022-10-09T16:33:01.708Z"
   },
   {
    "duration": 6,
    "start_time": "2022-10-09T16:33:38.711Z"
   },
   {
    "duration": 1308,
    "start_time": "2022-10-09T16:33:38.890Z"
   },
   {
    "duration": 0,
    "start_time": "2022-10-09T16:33:40.200Z"
   },
   {
    "duration": 4,
    "start_time": "2022-10-09T16:34:14.501Z"
   },
   {
    "duration": 4038,
    "start_time": "2022-10-09T16:34:14.958Z"
   },
   {
    "duration": 5,
    "start_time": "2022-10-09T16:34:24.124Z"
   },
   {
    "duration": 3892,
    "start_time": "2022-10-09T16:34:24.305Z"
   },
   {
    "duration": 1312,
    "start_time": "2022-10-09T16:34:28.200Z"
   },
   {
    "duration": 1304,
    "start_time": "2022-10-09T16:35:31.572Z"
   },
   {
    "duration": 7,
    "start_time": "2022-10-09T16:47:47.037Z"
   },
   {
    "duration": 424,
    "start_time": "2022-10-09T16:47:47.434Z"
   },
   {
    "duration": 5,
    "start_time": "2022-10-09T16:48:07.901Z"
   },
   {
    "duration": 388,
    "start_time": "2022-10-09T16:48:08.870Z"
   },
   {
    "duration": 7,
    "start_time": "2022-10-09T16:55:22.351Z"
   },
   {
    "duration": 4777,
    "start_time": "2022-10-09T16:55:23.102Z"
   },
   {
    "duration": 4,
    "start_time": "2022-10-09T17:34:26.083Z"
   },
   {
    "duration": 3895,
    "start_time": "2022-10-09T17:34:26.470Z"
   },
   {
    "duration": 6,
    "start_time": "2022-10-09T17:35:07.889Z"
   },
   {
    "duration": 5,
    "start_time": "2022-10-09T17:35:27.238Z"
   },
   {
    "duration": 5,
    "start_time": "2022-10-09T17:35:39.286Z"
   },
   {
    "duration": 3778,
    "start_time": "2022-10-09T17:35:39.451Z"
   },
   {
    "duration": 8,
    "start_time": "2022-10-09T17:38:06.517Z"
   },
   {
    "duration": 8,
    "start_time": "2022-10-09T17:38:42.863Z"
   },
   {
    "duration": 5,
    "start_time": "2022-10-09T17:38:55.827Z"
   },
   {
    "duration": 3839,
    "start_time": "2022-10-09T17:38:56.287Z"
   },
   {
    "duration": 5,
    "start_time": "2022-10-09T17:39:08.305Z"
   },
   {
    "duration": 3900,
    "start_time": "2022-10-09T17:39:08.498Z"
   },
   {
    "duration": 5,
    "start_time": "2022-10-09T17:39:54.636Z"
   },
   {
    "duration": 3888,
    "start_time": "2022-10-09T17:39:56.327Z"
   },
   {
    "duration": 5,
    "start_time": "2022-10-09T17:41:53.789Z"
   },
   {
    "duration": 3977,
    "start_time": "2022-10-09T17:41:54.139Z"
   },
   {
    "duration": 5,
    "start_time": "2022-10-09T17:45:19.959Z"
   },
   {
    "duration": 3212,
    "start_time": "2022-10-09T17:45:20.373Z"
   },
   {
    "duration": 5,
    "start_time": "2022-10-09T17:45:46.436Z"
   },
   {
    "duration": 3260,
    "start_time": "2022-10-09T17:45:46.802Z"
   },
   {
    "duration": 50,
    "start_time": "2022-10-09T17:47:40.541Z"
   },
   {
    "duration": 3295,
    "start_time": "2022-10-09T17:47:40.792Z"
   },
   {
    "duration": 5,
    "start_time": "2022-10-09T17:47:45.575Z"
   },
   {
    "duration": 3380,
    "start_time": "2022-10-09T17:47:45.688Z"
   },
   {
    "duration": 1281,
    "start_time": "2022-10-09T18:19:51.823Z"
   },
   {
    "duration": 2,
    "start_time": "2022-10-09T18:19:53.106Z"
   },
   {
    "duration": 374,
    "start_time": "2022-10-09T18:19:53.109Z"
   },
   {
    "duration": 611,
    "start_time": "2022-10-09T18:19:53.485Z"
   },
   {
    "duration": 5,
    "start_time": "2022-10-09T18:19:54.098Z"
   },
   {
    "duration": 202,
    "start_time": "2022-10-09T18:19:54.104Z"
   },
   {
    "duration": 189,
    "start_time": "2022-10-09T18:19:54.308Z"
   },
   {
    "duration": 193,
    "start_time": "2022-10-09T18:19:54.499Z"
   },
   {
    "duration": 5,
    "start_time": "2022-10-09T18:19:54.693Z"
   },
   {
    "duration": 444,
    "start_time": "2022-10-09T18:19:54.701Z"
   },
   {
    "duration": 86,
    "start_time": "2022-10-09T18:19:55.148Z"
   },
   {
    "duration": 102,
    "start_time": "2022-10-09T18:19:55.236Z"
   },
   {
    "duration": 9,
    "start_time": "2022-10-09T18:19:55.339Z"
   },
   {
    "duration": 3,
    "start_time": "2022-10-09T18:19:55.349Z"
   },
   {
    "duration": 7,
    "start_time": "2022-10-09T18:19:55.354Z"
   },
   {
    "duration": 1282,
    "start_time": "2022-10-09T18:19:55.363Z"
   },
   {
    "duration": 5,
    "start_time": "2022-10-09T18:20:44.130Z"
   },
   {
    "duration": 1062,
    "start_time": "2022-10-09T18:20:44.445Z"
   },
   {
    "duration": 5,
    "start_time": "2022-10-09T18:22:15.315Z"
   },
   {
    "duration": 1159,
    "start_time": "2022-10-09T18:22:15.703Z"
   },
   {
    "duration": 5,
    "start_time": "2022-10-09T18:23:48.073Z"
   },
   {
    "duration": 3165,
    "start_time": "2022-10-09T18:23:48.245Z"
   },
   {
    "duration": 6,
    "start_time": "2022-10-09T18:25:51.925Z"
   },
   {
    "duration": 3178,
    "start_time": "2022-10-09T18:25:52.200Z"
   },
   {
    "duration": 39,
    "start_time": "2022-10-09T18:27:39.345Z"
   },
   {
    "duration": 7,
    "start_time": "2022-10-09T18:41:55.310Z"
   },
   {
    "duration": 1261,
    "start_time": "2022-10-09T18:41:55.585Z"
   },
   {
    "duration": 6,
    "start_time": "2022-10-09T18:42:00.594Z"
   },
   {
    "duration": 3461,
    "start_time": "2022-10-09T18:42:00.755Z"
   },
   {
    "duration": 6,
    "start_time": "2022-10-09T18:42:31.126Z"
   },
   {
    "duration": 3439,
    "start_time": "2022-10-09T18:42:31.322Z"
   },
   {
    "duration": 7,
    "start_time": "2022-10-09T18:43:46.152Z"
   },
   {
    "duration": 3491,
    "start_time": "2022-10-09T18:43:46.161Z"
   },
   {
    "duration": 5,
    "start_time": "2022-10-09T18:44:32.412Z"
   },
   {
    "duration": 3393,
    "start_time": "2022-10-09T18:44:32.707Z"
   },
   {
    "duration": 8,
    "start_time": "2022-10-09T18:45:27.657Z"
   },
   {
    "duration": 3688,
    "start_time": "2022-10-09T18:45:27.824Z"
   },
   {
    "duration": 5,
    "start_time": "2022-10-09T18:45:44.705Z"
   },
   {
    "duration": 3625,
    "start_time": "2022-10-09T18:45:44.876Z"
   },
   {
    "duration": 5,
    "start_time": "2022-10-09T18:46:14.475Z"
   },
   {
    "duration": 1147,
    "start_time": "2022-10-09T18:46:14.617Z"
   },
   {
    "duration": 8,
    "start_time": "2022-10-09T18:46:24.158Z"
   },
   {
    "duration": 1150,
    "start_time": "2022-10-09T18:46:24.328Z"
   },
   {
    "duration": 8,
    "start_time": "2022-10-09T18:46:28.853Z"
   },
   {
    "duration": 3386,
    "start_time": "2022-10-09T18:46:28.987Z"
   },
   {
    "duration": 5,
    "start_time": "2022-10-09T18:47:52.605Z"
   },
   {
    "duration": 3585,
    "start_time": "2022-10-09T18:47:52.792Z"
   },
   {
    "duration": 5,
    "start_time": "2022-10-09T18:48:28.527Z"
   },
   {
    "duration": 3592,
    "start_time": "2022-10-09T18:48:28.690Z"
   },
   {
    "duration": 1408,
    "start_time": "2022-10-09T18:52:42.156Z"
   },
   {
    "duration": 3,
    "start_time": "2022-10-09T18:52:43.566Z"
   },
   {
    "duration": 437,
    "start_time": "2022-10-09T18:52:43.570Z"
   },
   {
    "duration": 720,
    "start_time": "2022-10-09T18:52:44.009Z"
   },
   {
    "duration": 8,
    "start_time": "2022-10-09T18:52:44.738Z"
   },
   {
    "duration": 252,
    "start_time": "2022-10-09T18:52:44.748Z"
   },
   {
    "duration": 219,
    "start_time": "2022-10-09T18:52:45.002Z"
   },
   {
    "duration": 236,
    "start_time": "2022-10-09T18:52:45.223Z"
   },
   {
    "duration": 6,
    "start_time": "2022-10-09T18:52:45.461Z"
   },
   {
    "duration": 385,
    "start_time": "2022-10-09T18:52:45.470Z"
   },
   {
    "duration": 5,
    "start_time": "2022-10-09T18:52:45.861Z"
   },
   {
    "duration": 190,
    "start_time": "2022-10-09T18:52:45.868Z"
   },
   {
    "duration": 12,
    "start_time": "2022-10-09T18:52:46.061Z"
   },
   {
    "duration": 3,
    "start_time": "2022-10-09T18:52:46.075Z"
   },
   {
    "duration": 8,
    "start_time": "2022-10-09T18:52:46.079Z"
   },
   {
    "duration": 3871,
    "start_time": "2022-10-09T18:52:46.088Z"
   },
   {
    "duration": 1470,
    "start_time": "2022-10-10T11:18:38.583Z"
   },
   {
    "duration": 2,
    "start_time": "2022-10-10T11:18:40.055Z"
   },
   {
    "duration": 332,
    "start_time": "2022-10-10T11:18:40.059Z"
   },
   {
    "duration": 593,
    "start_time": "2022-10-10T11:18:40.393Z"
   },
   {
    "duration": 12,
    "start_time": "2022-10-10T11:18:40.988Z"
   },
   {
    "duration": 200,
    "start_time": "2022-10-10T11:18:41.002Z"
   },
   {
    "duration": 188,
    "start_time": "2022-10-10T11:18:41.204Z"
   },
   {
    "duration": 185,
    "start_time": "2022-10-10T11:18:41.394Z"
   },
   {
    "duration": 5,
    "start_time": "2022-10-10T11:18:41.581Z"
   },
   {
    "duration": 313,
    "start_time": "2022-10-10T11:18:41.599Z"
   },
   {
    "duration": 85,
    "start_time": "2022-10-10T11:18:41.914Z"
   },
   {
    "duration": 101,
    "start_time": "2022-10-10T11:18:42.001Z"
   },
   {
    "duration": 9,
    "start_time": "2022-10-10T11:18:42.104Z"
   },
   {
    "duration": 3,
    "start_time": "2022-10-10T11:18:42.115Z"
   },
   {
    "duration": 10,
    "start_time": "2022-10-10T11:18:42.119Z"
   },
   {
    "duration": 3096,
    "start_time": "2022-10-10T11:18:42.130Z"
   },
   {
    "duration": 2971,
    "start_time": "2022-10-10T11:20:14.690Z"
   },
   {
    "duration": 101,
    "start_time": "2022-10-10T11:46:36.094Z"
   },
   {
    "duration": 8,
    "start_time": "2022-10-10T11:47:09.584Z"
   },
   {
    "duration": 10,
    "start_time": "2022-10-10T11:47:16.022Z"
   },
   {
    "duration": 3,
    "start_time": "2022-10-10T11:48:02.834Z"
   },
   {
    "duration": 3,
    "start_time": "2022-10-10T11:48:17.830Z"
   },
   {
    "duration": 7,
    "start_time": "2022-10-10T11:48:21.882Z"
   },
   {
    "duration": 8,
    "start_time": "2022-10-10T11:48:35.645Z"
   },
   {
    "duration": 8,
    "start_time": "2022-10-10T11:50:44.835Z"
   },
   {
    "duration": 8,
    "start_time": "2022-10-10T11:50:58.107Z"
   },
   {
    "duration": 1575,
    "start_time": "2022-10-10T12:37:49.471Z"
   },
   {
    "duration": 3,
    "start_time": "2022-10-10T12:37:51.048Z"
   },
   {
    "duration": 1577,
    "start_time": "2022-10-10T12:37:51.052Z"
   },
   {
    "duration": 677,
    "start_time": "2022-10-10T12:37:52.631Z"
   },
   {
    "duration": 5,
    "start_time": "2022-10-10T12:37:53.309Z"
   },
   {
    "duration": 215,
    "start_time": "2022-10-10T12:37:53.316Z"
   },
   {
    "duration": 201,
    "start_time": "2022-10-10T12:37:53.532Z"
   },
   {
    "duration": 224,
    "start_time": "2022-10-10T12:37:53.735Z"
   },
   {
    "duration": 6,
    "start_time": "2022-10-10T12:37:53.960Z"
   },
   {
    "duration": 428,
    "start_time": "2022-10-10T12:37:53.968Z"
   },
   {
    "duration": 4,
    "start_time": "2022-10-10T12:37:54.398Z"
   },
   {
    "duration": 99,
    "start_time": "2022-10-10T12:37:54.403Z"
   },
   {
    "duration": 10,
    "start_time": "2022-10-10T12:37:54.504Z"
   },
   {
    "duration": 3,
    "start_time": "2022-10-10T12:37:54.516Z"
   },
   {
    "duration": 6,
    "start_time": "2022-10-10T12:37:54.521Z"
   },
   {
    "duration": 3502,
    "start_time": "2022-10-10T12:37:54.529Z"
   },
   {
    "duration": 5,
    "start_time": "2022-10-10T12:40:38.761Z"
   },
   {
    "duration": 3363,
    "start_time": "2022-10-10T12:40:39.221Z"
   },
   {
    "duration": 5,
    "start_time": "2022-10-10T12:44:41.456Z"
   },
   {
    "duration": 3315,
    "start_time": "2022-10-10T12:44:41.674Z"
   },
   {
    "duration": 6,
    "start_time": "2022-10-10T12:45:03.251Z"
   },
   {
    "duration": 3360,
    "start_time": "2022-10-10T12:45:03.562Z"
   },
   {
    "duration": 5,
    "start_time": "2022-10-10T12:45:13.234Z"
   },
   {
    "duration": 3462,
    "start_time": "2022-10-10T12:45:15.435Z"
   },
   {
    "duration": 5,
    "start_time": "2022-10-10T12:45:39.336Z"
   },
   {
    "duration": 3390,
    "start_time": "2022-10-10T12:45:39.741Z"
   },
   {
    "duration": 6,
    "start_time": "2022-10-10T12:45:52.306Z"
   },
   {
    "duration": 3310,
    "start_time": "2022-10-10T12:45:52.496Z"
   },
   {
    "duration": 6,
    "start_time": "2022-10-10T12:53:19.516Z"
   },
   {
    "duration": 3471,
    "start_time": "2022-10-10T12:53:19.871Z"
   },
   {
    "duration": 7,
    "start_time": "2022-10-10T12:54:55.135Z"
   },
   {
    "duration": 6,
    "start_time": "2022-10-10T12:55:08.774Z"
   },
   {
    "duration": 3627,
    "start_time": "2022-10-10T12:55:09.056Z"
   },
   {
    "duration": 1501,
    "start_time": "2022-10-10T13:15:49.670Z"
   },
   {
    "duration": 3,
    "start_time": "2022-10-10T13:15:51.173Z"
   },
   {
    "duration": 417,
    "start_time": "2022-10-10T13:15:51.178Z"
   },
   {
    "duration": 793,
    "start_time": "2022-10-10T13:15:51.596Z"
   },
   {
    "duration": 6,
    "start_time": "2022-10-10T13:15:52.393Z"
   },
   {
    "duration": 227,
    "start_time": "2022-10-10T13:15:52.401Z"
   },
   {
    "duration": 227,
    "start_time": "2022-10-10T13:15:52.631Z"
   },
   {
    "duration": 225,
    "start_time": "2022-10-10T13:15:52.860Z"
   },
   {
    "duration": 11,
    "start_time": "2022-10-10T13:15:53.087Z"
   },
   {
    "duration": 399,
    "start_time": "2022-10-10T13:15:53.100Z"
   },
   {
    "duration": 88,
    "start_time": "2022-10-10T13:15:53.508Z"
   },
   {
    "duration": 105,
    "start_time": "2022-10-10T13:15:53.599Z"
   },
   {
    "duration": 8,
    "start_time": "2022-10-10T13:15:53.707Z"
   },
   {
    "duration": 4,
    "start_time": "2022-10-10T13:15:53.718Z"
   },
   {
    "duration": 9,
    "start_time": "2022-10-10T13:15:53.723Z"
   },
   {
    "duration": 3746,
    "start_time": "2022-10-10T13:15:53.734Z"
   },
   {
    "duration": 2329,
    "start_time": "2022-10-12T20:55:32.772Z"
   },
   {
    "duration": 3,
    "start_time": "2022-10-12T20:55:35.103Z"
   },
   {
    "duration": 2438,
    "start_time": "2022-10-12T20:55:35.107Z"
   },
   {
    "duration": 1336,
    "start_time": "2022-10-12T20:55:37.596Z"
   },
   {
    "duration": 61,
    "start_time": "2022-10-12T20:55:38.934Z"
   },
   {
    "duration": 500,
    "start_time": "2022-10-12T20:55:38.997Z"
   },
   {
    "duration": 396,
    "start_time": "2022-10-12T20:55:39.499Z"
   },
   {
    "duration": 407,
    "start_time": "2022-10-12T20:55:39.896Z"
   },
   {
    "duration": 5,
    "start_time": "2022-10-12T20:55:40.305Z"
   },
   {
    "duration": 581,
    "start_time": "2022-10-12T20:55:40.313Z"
   },
   {
    "duration": 4,
    "start_time": "2022-10-12T20:55:40.897Z"
   },
   {
    "duration": 8,
    "start_time": "2022-10-12T20:55:40.903Z"
   },
   {
    "duration": 12,
    "start_time": "2022-10-12T20:55:40.912Z"
   },
   {
    "duration": 70,
    "start_time": "2022-10-12T20:55:40.926Z"
   },
   {
    "duration": 8,
    "start_time": "2022-10-12T20:55:40.999Z"
   },
   {
    "duration": 7026,
    "start_time": "2022-10-12T20:55:41.009Z"
   },
   {
    "duration": 8,
    "start_time": "2022-10-12T20:56:04.002Z"
   },
   {
    "duration": 6,
    "start_time": "2022-10-12T20:56:29.897Z"
   },
   {
    "duration": 272,
    "start_time": "2022-10-12T20:56:30.953Z"
   },
   {
    "duration": 6,
    "start_time": "2022-10-12T20:57:15.302Z"
   },
   {
    "duration": 707,
    "start_time": "2022-10-12T20:57:37.417Z"
   },
   {
    "duration": 8,
    "start_time": "2022-10-12T20:57:53.831Z"
   },
   {
    "duration": 178,
    "start_time": "2022-10-12T20:57:58.243Z"
   },
   {
    "duration": 11,
    "start_time": "2022-10-12T20:58:34.056Z"
   },
   {
    "duration": 452,
    "start_time": "2022-10-12T20:58:34.859Z"
   },
   {
    "duration": 34,
    "start_time": "2022-10-12T20:59:04.068Z"
   },
   {
    "duration": 9,
    "start_time": "2022-10-12T21:05:14.499Z"
   },
   {
    "duration": 20,
    "start_time": "2022-10-12T21:05:15.381Z"
   },
   {
    "duration": 336,
    "start_time": "2022-10-12T21:05:16.299Z"
   },
   {
    "duration": 20,
    "start_time": "2022-10-12T21:05:51.678Z"
   },
   {
    "duration": 12,
    "start_time": "2022-10-12T21:05:51.860Z"
   },
   {
    "duration": 361,
    "start_time": "2022-10-12T21:05:53.550Z"
   },
   {
    "duration": 14,
    "start_time": "2022-10-12T21:11:51.450Z"
   },
   {
    "duration": 14,
    "start_time": "2022-10-12T21:12:39.546Z"
   },
   {
    "duration": 9,
    "start_time": "2022-10-12T21:12:59.626Z"
   },
   {
    "duration": 14,
    "start_time": "2022-10-12T21:13:11.351Z"
   },
   {
    "duration": 10,
    "start_time": "2022-10-12T21:13:15.396Z"
   },
   {
    "duration": 349,
    "start_time": "2022-10-12T21:13:17.891Z"
   },
   {
    "duration": 349,
    "start_time": "2022-10-12T21:13:59.358Z"
   },
   {
    "duration": 1461,
    "start_time": "2022-10-12T21:14:16.294Z"
   },
   {
    "duration": 5,
    "start_time": "2022-10-12T21:15:47.471Z"
   },
   {
    "duration": 328,
    "start_time": "2022-10-12T21:15:58.069Z"
   },
   {
    "duration": 4,
    "start_time": "2022-10-12T21:17:30.350Z"
   },
   {
    "duration": 21,
    "start_time": "2022-10-12T21:17:35.883Z"
   },
   {
    "duration": 23,
    "start_time": "2022-10-12T21:18:25.472Z"
   },
   {
    "duration": 9,
    "start_time": "2022-10-12T21:18:37.608Z"
   },
   {
    "duration": 5,
    "start_time": "2022-10-12T21:18:38.291Z"
   },
   {
    "duration": 8,
    "start_time": "2022-10-12T21:18:38.960Z"
   },
   {
    "duration": 302,
    "start_time": "2022-10-12T21:18:49.609Z"
   },
   {
    "duration": 20,
    "start_time": "2022-10-12T21:18:50.176Z"
   },
   {
    "duration": 11,
    "start_time": "2022-10-12T21:18:50.910Z"
   },
   {
    "duration": 4,
    "start_time": "2022-10-12T21:19:24.240Z"
   },
   {
    "duration": 12,
    "start_time": "2022-10-12T21:19:26.546Z"
   },
   {
    "duration": 383,
    "start_time": "2022-10-12T21:19:33.330Z"
   },
   {
    "duration": 9,
    "start_time": "2022-10-12T21:20:14.749Z"
   },
   {
    "duration": 25,
    "start_time": "2022-10-12T21:20:20.970Z"
   },
   {
    "duration": 385,
    "start_time": "2022-10-12T21:20:21.713Z"
   },
   {
    "duration": 5,
    "start_time": "2022-10-12T21:21:47.549Z"
   },
   {
    "duration": 547,
    "start_time": "2022-10-12T21:21:49.060Z"
   },
   {
    "duration": 13,
    "start_time": "2022-10-12T21:22:00.597Z"
   },
   {
    "duration": 13,
    "start_time": "2022-10-12T21:25:35.919Z"
   },
   {
    "duration": 295,
    "start_time": "2022-10-12T21:25:41.310Z"
   },
   {
    "duration": 544,
    "start_time": "2022-10-12T21:26:33.563Z"
   },
   {
    "duration": 12,
    "start_time": "2022-10-12T21:26:44.795Z"
   },
   {
    "duration": 12,
    "start_time": "2022-10-12T21:26:48.055Z"
   }
  ],
  "kernelspec": {
   "display_name": "Python 3 (ipykernel)",
   "language": "python",
   "name": "python3"
  },
  "language_info": {
   "codemirror_mode": {
    "name": "ipython",
    "version": 3
   },
   "file_extension": ".py",
   "mimetype": "text/x-python",
   "name": "python",
   "nbconvert_exporter": "python",
   "pygments_lexer": "ipython3",
   "version": "3.9.12"
  },
  "toc": {
   "base_numbering": 1,
   "nav_menu": {},
   "number_sections": true,
   "sideBar": true,
   "skip_h1_title": true,
   "title_cell": "Table of Contents",
   "title_sidebar": "Contents",
   "toc_cell": false,
   "toc_position": {
    "height": "calc(100% - 180px)",
    "left": "10px",
    "top": "150px",
    "width": "288.188px"
   },
   "toc_section_display": true,
   "toc_window_display": true
  }
 },
 "nbformat": 4,
 "nbformat_minor": 2
}
