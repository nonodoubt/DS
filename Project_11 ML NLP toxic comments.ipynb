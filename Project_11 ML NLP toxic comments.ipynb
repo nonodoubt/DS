{
 "cells": [
  {
   "cell_type": "markdown",
   "metadata": {
    "toc": true
   },
   "source": [
    "<h1>Содержание<span class=\"tocSkip\"></span></h1>\n",
    "<div class=\"toc\"><ul class=\"toc-item\"><li><span><a href=\"#Подготовка\" data-toc-modified-id=\"Подготовка-1\"><span class=\"toc-item-num\">1&nbsp;&nbsp;</span>Подготовка</a></span><ul class=\"toc-item\"><li><span><a href=\"#Импорт-библиотек\" data-toc-modified-id=\"Импорт-библиотек-1.1\"><span class=\"toc-item-num\">1.1&nbsp;&nbsp;</span>Импорт библиотек</a></span></li><li><span><a href=\"#Загрузка-датасета\" data-toc-modified-id=\"Загрузка-датасета-1.2\"><span class=\"toc-item-num\">1.2&nbsp;&nbsp;</span>Загрузка датасета</a></span></li><li><span><a href=\"#Обзор-датасета\" data-toc-modified-id=\"Обзор-датасета-1.3\"><span class=\"toc-item-num\">1.3&nbsp;&nbsp;</span>Обзор датасета</a></span></li><li><span><a href=\"#Лемматизации-и-очистка-датасета\" data-toc-modified-id=\"Лемматизации-и-очистка-датасета-1.4\"><span class=\"toc-item-num\">1.4&nbsp;&nbsp;</span>Лемматизации и очистка датасета</a></span></li><li><span><a href=\"#Визуализация-частоты-употребления-слов:\" data-toc-modified-id=\"Визуализация-частоты-употребления-слов:-1.5\"><span class=\"toc-item-num\">1.5&nbsp;&nbsp;</span>Визуализация частоты употребления слов:</a></span></li></ul></li><li><span><a href=\"#Обучение\" data-toc-modified-id=\"Обучение-2\"><span class=\"toc-item-num\">2&nbsp;&nbsp;</span>Обучение</a></span><ul class=\"toc-item\"><li><span><a href=\"#Подготовка-выборок\" data-toc-modified-id=\"Подготовка-выборок-2.1\"><span class=\"toc-item-num\">2.1&nbsp;&nbsp;</span>Подготовка выборок</a></span></li><li><span><a href=\"#Логистическая-регрессия\" data-toc-modified-id=\"Логистическая-регрессия-2.2\"><span class=\"toc-item-num\">2.2&nbsp;&nbsp;</span>Логистическая регрессия</a></span><ul class=\"toc-item\"><li><span><a href=\"#Логистическая-регрессия-без-балансировки-на-кросс-валидации:\" data-toc-modified-id=\"Логистическая-регрессия-без-балансировки-на-кросс-валидации:-2.2.1\"><span class=\"toc-item-num\">2.2.1&nbsp;&nbsp;</span>Логистическая регрессия без балансировки на кросс-валидации:</a></span></li><li><span><a href=\"#Логистическая-регрессияс-балансировкой-классов-на-кросс-валидации:\" data-toc-modified-id=\"Логистическая-регрессияс-балансировкой-классов-на-кросс-валидации:-2.2.2\"><span class=\"toc-item-num\">2.2.2&nbsp;&nbsp;</span>Логистическая регрессияс балансировкой классов на кросс-валидации:</a></span></li></ul></li><li><span><a href=\"#SGDClassifier\" data-toc-modified-id=\"SGDClassifier-2.3\"><span class=\"toc-item-num\">2.3&nbsp;&nbsp;</span>SGDClassifier</a></span></li><li><span><a href=\"#Итоговое-тестирование\" data-toc-modified-id=\"Итоговое-тестирование-2.4\"><span class=\"toc-item-num\">2.4&nbsp;&nbsp;</span>Итоговое тестирование</a></span></li></ul></li><li><span><a href=\"#Выводы\" data-toc-modified-id=\"Выводы-3\"><span class=\"toc-item-num\">3&nbsp;&nbsp;</span>Выводы</a></span></li></ul></div>"
   ]
  },
  {
   "cell_type": "markdown",
   "metadata": {},
   "source": [
    "# Проект для «Викишоп»"
   ]
  },
  {
   "cell_type": "markdown",
   "metadata": {},
   "source": [
    "Интернет-магазин «Викишоп» запускает новый сервис. Теперь пользователи могут редактировать и дополнять описания товаров, как в вики-сообществах. То есть клиенты предлагают свои правки и комментируют изменения других. Магазину нужен инструмент, который будет искать токсичные комментарии и отправлять их на модерацию. \n",
    "\n",
    "Требуется обучить модель классифицировать комментарии на позитивные и негативные. Заказчик предоставил набор данных с разметкой о токсичности правок.\n",
    "\n",
    "Построим модель со значением метрики качества *F1* не меньше 0.75. \n",
    "\n",
    "**План выполнения проекта**\n",
    "\n",
    "1. Загрузим и подготовим данные.\n",
    "2. Обучим разные модели. \n",
    "3. Сделаем выводы и выберем лучшую модель для представления заказчику\n",
    "\n",
    "\n",
    "**Описание данных**\n",
    "\n",
    "Данные находятся в файле `toxic_comments.csv`. Столбец *text* в нём содержит текст комментария, а *toxic* — целевой признак."
   ]
  },
  {
   "cell_type": "markdown",
   "metadata": {},
   "source": [
    "## Подготовка"
   ]
  },
  {
   "cell_type": "markdown",
   "metadata": {},
   "source": [
    "### Импорт библиотек"
   ]
  },
  {
   "cell_type": "code",
   "execution_count": 1,
   "metadata": {},
   "outputs": [
    {
     "name": "stderr",
     "output_type": "stream",
     "text": [
      "[nltk_data] Downloading package wordnet to\n",
      "[nltk_data]     C:\\Users\\e.fomin\\AppData\\Roaming\\nltk_data...\n",
      "[nltk_data]   Package wordnet is already up-to-date!\n"
     ]
    }
   ],
   "source": [
    "import pandas as pd\n",
    "\n",
    "import warnings\n",
    "import matplotlib.pyplot as plt\n",
    "import numpy as np\n",
    "import seaborn as sns\n",
    "import nltk\n",
    "nltk.download('wordnet')\n",
    "from tqdm import tqdm\n",
    "import re\n",
    "import spacy\n",
    "from wordcloud import WordCloud\n",
    "\n",
    "from sklearn.pipeline import Pipeline\n",
    "from sklearn.feature_extraction.text import CountVectorizer, TfidfVectorizer \n",
    "from sklearn.model_selection import train_test_split, GridSearchCV, cross_val_score, cross_validate\n",
    "from sklearn.metrics import f1_score, roc_auc_score, roc_curve\n",
    "from sklearn.linear_model import LogisticRegression, SGDClassifier\n",
    "from sklearn.ensemble import RandomForestRegressor\n",
    "from catboost import cv\n",
    "from lightgbm import LGBMRegressor\n",
    "from sklearn.linear_model import Ridge\n",
    "\n",
    "pd.options.mode.chained_assignment = None\n",
    "warnings.filterwarnings('ignore')"
   ]
  },
  {
   "cell_type": "markdown",
   "metadata": {},
   "source": [
    "### Загрузка датасета"
   ]
  },
  {
   "cell_type": "code",
   "execution_count": 2,
   "metadata": {},
   "outputs": [],
   "source": [
    "df = pd.read_csv('toxic_comments.csv', index_col=[0])"
   ]
  },
  {
   "cell_type": "markdown",
   "metadata": {},
   "source": [
    "### Обзор датасета"
   ]
  },
  {
   "cell_type": "code",
   "execution_count": 3,
   "metadata": {},
   "outputs": [
    {
     "name": "stdout",
     "output_type": "stream",
     "text": [
      "<class 'pandas.core.frame.DataFrame'>\n",
      "Int64Index: 159292 entries, 0 to 159450\n",
      "Data columns (total 2 columns):\n",
      " #   Column  Non-Null Count   Dtype \n",
      "---  ------  --------------   ----- \n",
      " 0   text    159292 non-null  object\n",
      " 1   toxic   159292 non-null  int64 \n",
      "dtypes: int64(1), object(1)\n",
      "memory usage: 3.6+ MB\n"
     ]
    }
   ],
   "source": [
    "df.info()"
   ]
  },
  {
   "cell_type": "code",
   "execution_count": 4,
   "metadata": {
    "scrolled": true
   },
   "outputs": [
    {
     "data": {
      "image/png": "[encoded data removed]",
      "text/plain": [
       "<Figure size 432x288 with 1 Axes>"
      ]
     },
     "metadata": {
      "needs_background": "light"
     },
     "output_type": "display_data"
    }
   ],
   "source": [
    "df.hist(bins=3);"
   ]
  },
  {
   "cell_type": "markdown",
   "metadata": {},
   "source": [
    "<img src=\"https://emojigraph.org/media/apple/check-mark-button_2705.png\" align=left width=33, heigth=33>\n",
    "<div class=\"alert alert-success\">\n",
    "Молодец, исследован баланс классов. Это полезная информация, может пригодиться.</div>"
   ]
  },
  {
   "cell_type": "code",
   "execution_count": 5,
   "metadata": {},
   "outputs": [
    {
     "data": {
      "text/plain": [
       "0    143106\n",
       "1     16186\n",
       "Name: toxic, dtype: int64"
      ]
     },
     "metadata": {},
     "output_type": "display_data"
    },
    {
     "data": {
      "text/plain": [
       "8.841344371679229"
      ]
     },
     "execution_count": 5,
     "metadata": {},
     "output_type": "execute_result"
    }
   ],
   "source": [
    "#для логистической регрессии потребуются балансировка классов\n",
    "display(df['toxic'].value_counts())\n",
    "class_ratio = df['toxic'].value_counts()[0] / df['toxic'].value_counts()[1]\n",
    "class_ratio"
   ]
  },
  {
   "cell_type": "code",
   "execution_count": 6,
   "metadata": {},
   "outputs": [
    {
     "name": "stdout",
     "output_type": "stream",
     "text": [
      "0\n"
     ]
    }
   ],
   "source": [
    "print(df.duplicated().sum())\n",
    "df.drop_duplicates(inplace=True)"
   ]
  },
  {
   "cell_type": "markdown",
   "metadata": {},
   "source": [
    "### Лемматизации и очистка датасета"
   ]
  },
  {
   "cell_type": "markdown",
   "metadata": {},
   "source": [
    "Функция для очистки текста от сторонних символов:"
   ]
  },
  {
   "cell_type": "code",
   "execution_count": 7,
   "metadata": {},
   "outputs": [],
   "source": [
    "def clear_text(text):\n",
    "    clear_text = re.sub(r'[^a-zA-Z]', ' ', text).lower()\n",
    "    return ' '.join(clear_text.split())"
   ]
  },
  {
   "cell_type": "code",
   "execution_count": 8,
   "metadata": {},
   "outputs": [],
   "source": [
    "df['clear_text'] = df['text'].apply(clear_text)"
   ]
  },
  {
   "cell_type": "markdown",
   "metadata": {},
   "source": [
    "Загрузим словарь стоп-слов:"
   ]
  },
  {
   "cell_type": "markdown",
   "metadata": {},
   "source": [
    "Лемматизация:"
   ]
  },
  {
   "cell_type": "code",
   "execution_count": 10,
   "metadata": {},
   "outputs": [],
   "source": [
    "lemmatizer = spacy.load('en_core_web_sm', disable = ['parser', 'ner'])\n",
    "stopwords = lemmatizer.Defaults.stop_words\n",
    "\n",
    "def lemmatize(text):\n",
    "    lemm_list = lemmatizer(text)\n",
    "    lemmed_text = ' '.join([token.lemma_ for  token in  lemm_list])\n",
    "    return lemmed_text"
   ]
  },
  {
   "cell_type": "code",
   "execution_count": 11,
   "metadata": {
    "scrolled": true
   },
   "outputs": [
    {
     "name": "stderr",
     "output_type": "stream",
     "text": [
      "100%|██████████| 159292/159292 [22:36<00:00, 117.40it/s]\n"
     ]
    }
   ],
   "source": [
    "tqdm.pandas()\n",
    "df['lemmed_text'] = df['clear_text'].progress_apply(lemmatize)"
   ]
  },
  {
   "cell_type": "code",
   "execution_count": 12,
   "metadata": {},
   "outputs": [],
   "source": [
    "df.drop(columns=['text', 'clear_text'], axis=1, inplace=True)"
   ]
  },
  {
   "cell_type": "markdown",
   "metadata": {},
   "source": [
    "### Визуализация частоты употребления слов:"
   ]
  },
  {
   "cell_type": "markdown",
   "metadata": {},
   "source": [
    "Для визуализации подготовим отдельный корпус из текстов датасета, исключив из него стоп-слова. Визуалаизцию будем проводить путем построения би-грамм через count_vectorizer и библиотеку wordcloud:"
   ]
  },
  {
   "cell_type": "code",
   "execution_count": 13,
   "metadata": {},
   "outputs": [],
   "source": [
    "corpus = df['lemmed_text'].values"
   ]
  },
  {
   "cell_type": "markdown",
   "metadata": {},
   "source": [
    "Исключим стоп-слова:"
   ]
  },
  {
   "cell_type": "code",
   "execution_count": 14,
   "metadata": {},
   "outputs": [],
   "source": [
    "lst=[]\n",
    "for i in corpus:\n",
    "    for j in i.split():\n",
    "        l = []\n",
    "        if j not in stopwords:\n",
    "            l.append(j)\n",
    "    lst.append(i)"
   ]
  },
  {
   "cell_type": "markdown",
   "metadata": {},
   "source": [
    "Построим график популярности слов в датасете:"
   ]
  },
  {
   "cell_type": "code",
   "execution_count": 27,
   "metadata": {},
   "outputs": [],
   "source": [
    "words_counter = CountVectorizer(ngram_range=(4, 4))\n",
    "toxic_count = words_counter.fit_transform(lst)\n",
    "\n",
    "words_frequence = pd.DataFrame(\n",
    "  {'word' : words_counter.get_feature_names_out(),\n",
    "\n",
    "  'frequency' : np.array(toxic_count.sum(axis = 0))[0]\n",
    "    }).sort_values(by = 'frequency', ascending = False)\n"
   ]
  },
  {
   "cell_type": "code",
   "execution_count": 28,
   "metadata": {},
   "outputs": [
    {
     "data": {
      "image/png": "[encoded data removed]",
      "text/plain": [
       "<Figure size 1440x864 with 1 Axes>"
      ]
     },
     "metadata": {
      "needs_background": "light"
     },
     "output_type": "display_data"
    }
   ],
   "source": [
    "wordcloud_words = WordCloud(background_color=\"black\",\n",
    "                               colormap = 'Blues',\n",
    "                               max_words=100,\n",
    "                               mask=None, \n",
    "                               width=1600,\n",
    "                               height=1600)\\\n",
    "                        .generate_from_frequencies(\n",
    "                            dict(words_frequence.values))\n",
    "\n",
    "\n",
    "fig, ax = plt.subplots(figsize = (20, 12))\n",
    "\n",
    "\n",
    "ax.imshow(wordcloud_words, interpolation='bilinear')\n",
    "\n",
    "ax.set_title('Words in comments by popularity', fontsize = 20)\n",
    "ax.axis(\"off\")\n",
    "plt.show()"
   ]
  },
  {
   "cell_type": "markdown",
   "metadata": {},
   "source": [
    "**Вывод:** \n",
    "1. Выполнен обзор датасета. \n",
    "2. Данные подготовлены для анализа: лемматизированы, отчищены\n",
    "3. Выявлен сильный дисбаланс классов 0 и 1 признака \"toxic\". Соотношение составило 8.84 : 1."
   ]
  },
  {
   "cell_type": "markdown",
   "metadata": {},
   "source": [
    "## Обучение"
   ]
  },
  {
   "cell_type": "markdown",
   "metadata": {},
   "source": [
    "### Подготовка выборок"
   ]
  },
  {
   "cell_type": "code",
   "execution_count": 17,
   "metadata": {},
   "outputs": [],
   "source": [
    "train, test = train_test_split(df, \n",
    "                               test_size = 0.1, \n",
    "                               stratify = df['toxic'], \n",
    "                               random_state = 282)\n",
    "\n",
    "train_features = train.drop('toxic', axis=1)\n",
    "test_features = test.drop('toxic', axis=1)\n",
    "train_target = train['toxic']\n",
    "test_target = test['toxic']"
   ]
  },
  {
   "cell_type": "markdown",
   "metadata": {},
   "source": [
    "### Логистическая регрессия"
   ]
  },
  {
   "cell_type": "markdown",
   "metadata": {},
   "source": [
    "Ранее в п.1.3 была выявлена отсутствие баланса классов целевого признака. Проверим работу модели с балансировкой и без:"
   ]
  },
  {
   "cell_type": "markdown",
   "metadata": {},
   "source": [
    "#### Логистическая регрессия без балансировки на кросс-валидации:"
   ]
  },
  {
   "cell_type": "markdown",
   "metadata": {},
   "source": [
    "Сделаем конвейер Pipeline для tf-idf-векторизации при кросс-валидации"
   ]
  },
  {
   "cell_type": "code",
   "execution_count": 18,
   "metadata": {},
   "outputs": [],
   "source": [
    "pipeline_lr_disbalanced = Pipeline([\n",
    "    ('tf-idf vectorizer',  TfidfVectorizer(stop_words=list(stopwords))), \n",
    "    ('modelling', LogisticRegression())])"
   ]
  },
  {
   "cell_type": "code",
   "execution_count": 19,
   "metadata": {},
   "outputs": [
    {
     "name": "stdout",
     "output_type": "stream",
     "text": [
      "Средняя F1 при CV=5 LogisticRegression с дисбалансом 0.7408220882002844\n"
     ]
    }
   ],
   "source": [
    "train_f1_disbalanced = cross_val_score(pipeline_lr_disbalanced,\n",
    "                          train_features['lemmed_text'], \n",
    "                          train_target, \n",
    "                          cv=5, \n",
    "                          scoring='f1').mean()\n",
    "print('Средняя F1 при CV=5 LogisticRegression с дисбалансом', train_f1_disbalanced)"
   ]
  },
  {
   "cell_type": "markdown",
   "metadata": {},
   "source": [
    "#### Логистическая регрессияс балансировкой классов на кросс-валидации:"
   ]
  },
  {
   "cell_type": "code",
   "execution_count": 20,
   "metadata": {},
   "outputs": [],
   "source": [
    "dict_classes={0: 1, \n",
    "              1: class_ratio}"
   ]
  },
  {
   "cell_type": "markdown",
   "metadata": {},
   "source": [
    "Сделаем конвейер Pipeline для tf-idf-векторизации при кросс-валидации"
   ]
  },
  {
   "cell_type": "code",
   "execution_count": 21,
   "metadata": {},
   "outputs": [],
   "source": [
    "pipeline_lr = Pipeline([\n",
    "    ('tf-idf vectorizer',  TfidfVectorizer(stop_words=list(stopwords))), \n",
    "    ('modelling', LogisticRegression(class_weight=dict_classes))])"
   ]
  },
  {
   "cell_type": "code",
   "execution_count": 22,
   "metadata": {},
   "outputs": [
    {
     "name": "stdout",
     "output_type": "stream",
     "text": [
      "Средняя F1 при CV=5 LogisticRegression после балансировки 0.7566528706402005\n"
     ]
    }
   ],
   "source": [
    "train_f1 = cross_val_score(pipeline_lr,\n",
    "                          train_features['lemmed_text'], \n",
    "                          train_target, \n",
    "                          cv=5, \n",
    "                          scoring='f1').mean()\n",
    "print('Средняя F1 при CV=5 LogisticRegression после балансировки', train_f1)"
   ]
  },
  {
   "cell_type": "markdown",
   "metadata": {},
   "source": [
    "Незначительно, но улучшение метрики есть - на 0.017. Используем балансированную версию для поиска оптимальных гиперпараметров через GridSearchCV:"
   ]
  },
  {
   "cell_type": "code",
   "execution_count": 33,
   "metadata": {
    "scrolled": true
   },
   "outputs": [
    {
     "name": "stdout",
     "output_type": "stream",
     "text": [
      "\n",
      "Fitting 3 folds for each of 9 candidates, totalling 27 fits\n",
      "[CV] END modelling__C=0.5, modelling__max_iter=75, modelling__random_state=282; total time=  18.2s\n",
      "[CV] END modelling__C=0.5, modelling__max_iter=75, modelling__random_state=282; total time=  12.1s\n",
      "[CV] END modelling__C=0.5, modelling__max_iter=75, modelling__random_state=282; total time=  10.2s\n",
      "[CV] END modelling__C=0.5, modelling__max_iter=125, modelling__random_state=282; total time=  11.4s\n",
      "[CV] END modelling__C=0.5, modelling__max_iter=125, modelling__random_state=282; total time=  11.4s\n",
      "[CV] END modelling__C=0.5, modelling__max_iter=125, modelling__random_state=282; total time=  10.4s\n",
      "[CV] END modelling__C=0.5, modelling__max_iter=100, modelling__random_state=282; total time=  10.7s\n",
      "[CV] END modelling__C=0.5, modelling__max_iter=100, modelling__random_state=282; total time=  12.9s\n",
      "[CV] END modelling__C=0.5, modelling__max_iter=100, modelling__random_state=282; total time=  11.5s\n",
      "[CV] END modelling__C=1, modelling__max_iter=75, modelling__random_state=282; total time=  10.6s\n",
      "[CV] END modelling__C=1, modelling__max_iter=75, modelling__random_state=282; total time=  14.0s\n",
      "[CV] END modelling__C=1, modelling__max_iter=75, modelling__random_state=282; total time=  12.9s\n",
      "[CV] END modelling__C=1, modelling__max_iter=125, modelling__random_state=282; total time=  12.3s\n",
      "[CV] END modelling__C=1, modelling__max_iter=125, modelling__random_state=282; total time=  13.0s\n",
      "[CV] END modelling__C=1, modelling__max_iter=125, modelling__random_state=282; total time=  12.2s\n",
      "[CV] END modelling__C=1, modelling__max_iter=100, modelling__random_state=282; total time=  11.1s\n",
      "[CV] END modelling__C=1, modelling__max_iter=100, modelling__random_state=282; total time=  11.4s\n",
      "[CV] END modelling__C=1, modelling__max_iter=100, modelling__random_state=282; total time=  10.6s\n",
      "[CV] END modelling__C=10, modelling__max_iter=75, modelling__random_state=282; total time=  10.5s\n",
      "[CV] END modelling__C=10, modelling__max_iter=75, modelling__random_state=282; total time=  11.1s\n",
      "[CV] END modelling__C=10, modelling__max_iter=75, modelling__random_state=282; total time=  10.8s\n",
      "[CV] END modelling__C=10, modelling__max_iter=125, modelling__random_state=282; total time=  12.2s\n",
      "[CV] END modelling__C=10, modelling__max_iter=125, modelling__random_state=282; total time=  11.9s\n",
      "[CV] END modelling__C=10, modelling__max_iter=125, modelling__random_state=282; total time=  12.3s\n",
      "[CV] END modelling__C=10, modelling__max_iter=100, modelling__random_state=282; total time=  11.8s\n",
      "[CV] END modelling__C=10, modelling__max_iter=100, modelling__random_state=282; total time=  11.1s\n",
      "[CV] END modelling__C=10, modelling__max_iter=100, modelling__random_state=282; total time=  12.0s\n",
      "# Tuning hyper-parameters for f1_score\n",
      "Best score 0.7618430678159033 found on development set:\n",
      "\n",
      "{'modelling__C': 10, 'modelling__max_iter': 100, 'modelling__random_state': 282}\n",
      "\n"
     ]
    }
   ],
   "source": [
    "hyperparams = dict(modelling__max_iter = [75, 125, 100],\n",
    "                modelling__C = [0.5, 1, 10],\n",
    "                modelling__random_state = [282]\n",
    "                  )\n",
    "print()\n",
    "clf_lr = GridSearchCV(pipeline_lr, \n",
    "                   hyperparams, \n",
    "                   scoring='f1',\n",
    "                   cv=3,\n",
    "                   verbose=2)\n",
    "\n",
    "clf_lr.fit(train_features['lemmed_text'], train_target)\n",
    "print('# Tuning hyper-parameters for f1_score')\n",
    "best_score_LR = clf_lr.best_score_\n",
    "best_params_LR = clf_lr.best_params_\n",
    "best_model_LR = clf_lr.best_estimator_\n",
    "\n",
    "print(f\"Best score {best_score_LR} found on development set:\")\n",
    "print()\n",
    "print(best_params_LR)\n",
    "print()"
   ]
  },
  {
   "cell_type": "markdown",
   "metadata": {},
   "source": [
    "Best score 0.7618430678159033 found on development set:\n",
    "\n",
    "{'modelling__C': 10, 'modelling__max_iter': 100, 'modelling__random_state': 282}"
   ]
  },
  {
   "cell_type": "markdown",
   "metadata": {},
   "source": [
    "### SGDClassifier"
   ]
  },
  {
   "cell_type": "code",
   "execution_count": 35,
   "metadata": {
    "scrolled": false
   },
   "outputs": [
    {
     "name": "stdout",
     "output_type": "stream",
     "text": [
      "\n",
      "Fitting 3 folds for each of 48 candidates, totalling 144 fits\n",
      "[CV] END modelling__class_weight={0: 1, 1: 8.841344371679229}, modelling__eta0=0.05, modelling__learning_rate=constant, modelling__loss=hinge, modelling__random_state=282; total time=  11.2s\n",
      "[CV] END modelling__class_weight={0: 1, 1: 8.841344371679229}, modelling__eta0=0.05, modelling__learning_rate=constant, modelling__loss=hinge, modelling__random_state=282; total time=  10.4s\n",
      "[CV] END modelling__class_weight={0: 1, 1: 8.841344371679229}, modelling__eta0=0.05, modelling__learning_rate=constant, modelling__loss=hinge, modelling__random_state=282; total time=   8.0s\n",
      "[CV] END modelling__class_weight={0: 1, 1: 8.841344371679229}, modelling__eta0=0.05, modelling__learning_rate=constant, modelling__loss=log, modelling__random_state=282; total time=   9.3s\n",
      "[CV] END modelling__class_weight={0: 1, 1: 8.841344371679229}, modelling__eta0=0.05, modelling__learning_rate=constant, modelling__loss=log, modelling__random_state=282; total time=   9.4s\n",
      "[CV] END modelling__class_weight={0: 1, 1: 8.841344371679229}, modelling__eta0=0.05, modelling__learning_rate=constant, modelling__loss=log, modelling__random_state=282; total time=   9.7s\n",
      "[CV] END modelling__class_weight={0: 1, 1: 8.841344371679229}, modelling__eta0=0.05, modelling__learning_rate=constant, modelling__loss=modified_huber, modelling__random_state=282; total time=   9.1s\n",
      "[CV] END modelling__class_weight={0: 1, 1: 8.841344371679229}, modelling__eta0=0.05, modelling__learning_rate=constant, modelling__loss=modified_huber, modelling__random_state=282; total time=   9.0s\n",
      "[CV] END modelling__class_weight={0: 1, 1: 8.841344371679229}, modelling__eta0=0.05, modelling__learning_rate=constant, modelling__loss=modified_huber, modelling__random_state=282; total time=  10.9s\n",
      "[CV] END modelling__class_weight={0: 1, 1: 8.841344371679229}, modelling__eta0=0.05, modelling__learning_rate=optimal, modelling__loss=hinge, modelling__random_state=282; total time=  11.8s\n",
      "[CV] END modelling__class_weight={0: 1, 1: 8.841344371679229}, modelling__eta0=0.05, modelling__learning_rate=optimal, modelling__loss=hinge, modelling__random_state=282; total time=  11.4s\n",
      "[CV] END modelling__class_weight={0: 1, 1: 8.841344371679229}, modelling__eta0=0.05, modelling__learning_rate=optimal, modelling__loss=hinge, modelling__random_state=282; total time=  11.3s\n",
      "[CV] END modelling__class_weight={0: 1, 1: 8.841344371679229}, modelling__eta0=0.05, modelling__learning_rate=optimal, modelling__loss=log, modelling__random_state=282; total time=  11.0s\n",
      "[CV] END modelling__class_weight={0: 1, 1: 8.841344371679229}, modelling__eta0=0.05, modelling__learning_rate=optimal, modelling__loss=log, modelling__random_state=282; total time=   9.1s\n",
      "[CV] END modelling__class_weight={0: 1, 1: 8.841344371679229}, modelling__eta0=0.05, modelling__learning_rate=optimal, modelling__loss=log, modelling__random_state=282; total time=  11.0s\n",
      "[CV] END modelling__class_weight={0: 1, 1: 8.841344371679229}, modelling__eta0=0.05, modelling__learning_rate=optimal, modelling__loss=modified_huber, modelling__random_state=282; total time=  10.9s\n",
      "[CV] END modelling__class_weight={0: 1, 1: 8.841344371679229}, modelling__eta0=0.05, modelling__learning_rate=optimal, modelling__loss=modified_huber, modelling__random_state=282; total time=   9.8s\n",
      "[CV] END modelling__class_weight={0: 1, 1: 8.841344371679229}, modelling__eta0=0.05, modelling__learning_rate=optimal, modelling__loss=modified_huber, modelling__random_state=282; total time=  10.2s\n",
      "[CV] END modelling__class_weight={0: 1, 1: 8.841344371679229}, modelling__eta0=0.05, modelling__learning_rate=invscaling, modelling__loss=hinge, modelling__random_state=282; total time=  12.0s\n",
      "[CV] END modelling__class_weight={0: 1, 1: 8.841344371679229}, modelling__eta0=0.05, modelling__learning_rate=invscaling, modelling__loss=hinge, modelling__random_state=282; total time=  10.7s\n",
      "[CV] END modelling__class_weight={0: 1, 1: 8.841344371679229}, modelling__eta0=0.05, modelling__learning_rate=invscaling, modelling__loss=hinge, modelling__random_state=282; total time=  10.9s\n",
      "[CV] END modelling__class_weight={0: 1, 1: 8.841344371679229}, modelling__eta0=0.05, modelling__learning_rate=invscaling, modelling__loss=log, modelling__random_state=282; total time=  10.6s\n",
      "[CV] END modelling__class_weight={0: 1, 1: 8.841344371679229}, modelling__eta0=0.05, modelling__learning_rate=invscaling, modelling__loss=log, modelling__random_state=282; total time=   9.9s\n",
      "[CV] END modelling__class_weight={0: 1, 1: 8.841344371679229}, modelling__eta0=0.05, modelling__learning_rate=invscaling, modelling__loss=log, modelling__random_state=282; total time=  10.4s\n",
      "[CV] END modelling__class_weight={0: 1, 1: 8.841344371679229}, modelling__eta0=0.05, modelling__learning_rate=invscaling, modelling__loss=modified_huber, modelling__random_state=282; total time=  11.1s\n",
      "[CV] END modelling__class_weight={0: 1, 1: 8.841344371679229}, modelling__eta0=0.05, modelling__learning_rate=invscaling, modelling__loss=modified_huber, modelling__random_state=282; total time=  10.1s\n",
      "[CV] END modelling__class_weight={0: 1, 1: 8.841344371679229}, modelling__eta0=0.05, modelling__learning_rate=invscaling, modelling__loss=modified_huber, modelling__random_state=282; total time=  11.8s\n",
      "[CV] END modelling__class_weight={0: 1, 1: 8.841344371679229}, modelling__eta0=0.05, modelling__learning_rate=adaptive, modelling__loss=hinge, modelling__random_state=282; total time=  11.2s\n",
      "[CV] END modelling__class_weight={0: 1, 1: 8.841344371679229}, modelling__eta0=0.05, modelling__learning_rate=adaptive, modelling__loss=hinge, modelling__random_state=282; total time=   9.5s\n",
      "[CV] END modelling__class_weight={0: 1, 1: 8.841344371679229}, modelling__eta0=0.05, modelling__learning_rate=adaptive, modelling__loss=hinge, modelling__random_state=282; total time=  10.2s\n",
      "[CV] END modelling__class_weight={0: 1, 1: 8.841344371679229}, modelling__eta0=0.05, modelling__learning_rate=adaptive, modelling__loss=log, modelling__random_state=282; total time=  10.6s\n",
      "[CV] END modelling__class_weight={0: 1, 1: 8.841344371679229}, modelling__eta0=0.05, modelling__learning_rate=adaptive, modelling__loss=log, modelling__random_state=282; total time=   9.8s\n",
      "[CV] END modelling__class_weight={0: 1, 1: 8.841344371679229}, modelling__eta0=0.05, modelling__learning_rate=adaptive, modelling__loss=log, modelling__random_state=282; total time=  10.7s\n",
      "[CV] END modelling__class_weight={0: 1, 1: 8.841344371679229}, modelling__eta0=0.05, modelling__learning_rate=adaptive, modelling__loss=modified_huber, modelling__random_state=282; total time=  10.0s\n",
      "[CV] END modelling__class_weight={0: 1, 1: 8.841344371679229}, modelling__eta0=0.05, modelling__learning_rate=adaptive, modelling__loss=modified_huber, modelling__random_state=282; total time=   9.6s\n",
      "[CV] END modelling__class_weight={0: 1, 1: 8.841344371679229}, modelling__eta0=0.05, modelling__learning_rate=adaptive, modelling__loss=modified_huber, modelling__random_state=282; total time=  13.3s\n",
      "[CV] END modelling__class_weight={0: 1, 1: 8.841344371679229}, modelling__eta0=0.1, modelling__learning_rate=constant, modelling__loss=hinge, modelling__random_state=282; total time=  12.4s\n",
      "[CV] END modelling__class_weight={0: 1, 1: 8.841344371679229}, modelling__eta0=0.1, modelling__learning_rate=constant, modelling__loss=hinge, modelling__random_state=282; total time=  16.3s\n",
      "[CV] END modelling__class_weight={0: 1, 1: 8.841344371679229}, modelling__eta0=0.1, modelling__learning_rate=constant, modelling__loss=hinge, modelling__random_state=282; total time=  13.5s\n",
      "[CV] END modelling__class_weight={0: 1, 1: 8.841344371679229}, modelling__eta0=0.1, modelling__learning_rate=constant, modelling__loss=log, modelling__random_state=282; total time=   9.4s\n",
      "[CV] END modelling__class_weight={0: 1, 1: 8.841344371679229}, modelling__eta0=0.1, modelling__learning_rate=constant, modelling__loss=log, modelling__random_state=282; total time=   9.8s\n",
      "[CV] END modelling__class_weight={0: 1, 1: 8.841344371679229}, modelling__eta0=0.1, modelling__learning_rate=constant, modelling__loss=log, modelling__random_state=282; total time=   8.5s\n",
      "[CV] END modelling__class_weight={0: 1, 1: 8.841344371679229}, modelling__eta0=0.1, modelling__learning_rate=constant, modelling__loss=modified_huber, modelling__random_state=282; total time=   8.9s\n",
      "[CV] END modelling__class_weight={0: 1, 1: 8.841344371679229}, modelling__eta0=0.1, modelling__learning_rate=constant, modelling__loss=modified_huber, modelling__random_state=282; total time=   8.7s\n",
      "[CV] END modelling__class_weight={0: 1, 1: 8.841344371679229}, modelling__eta0=0.1, modelling__learning_rate=constant, modelling__loss=modified_huber, modelling__random_state=282; total time=   8.3s\n",
      "[CV] END modelling__class_weight={0: 1, 1: 8.841344371679229}, modelling__eta0=0.1, modelling__learning_rate=optimal, modelling__loss=hinge, modelling__random_state=282; total time=   9.2s\n",
      "[CV] END modelling__class_weight={0: 1, 1: 8.841344371679229}, modelling__eta0=0.1, modelling__learning_rate=optimal, modelling__loss=hinge, modelling__random_state=282; total time=   8.3s\n",
      "[CV] END modelling__class_weight={0: 1, 1: 8.841344371679229}, modelling__eta0=0.1, modelling__learning_rate=optimal, modelling__loss=hinge, modelling__random_state=282; total time=   8.8s\n",
      "[CV] END modelling__class_weight={0: 1, 1: 8.841344371679229}, modelling__eta0=0.1, modelling__learning_rate=optimal, modelling__loss=log, modelling__random_state=282; total time=   9.3s\n",
      "[CV] END modelling__class_weight={0: 1, 1: 8.841344371679229}, modelling__eta0=0.1, modelling__learning_rate=optimal, modelling__loss=log, modelling__random_state=282; total time=  12.0s\n",
      "[CV] END modelling__class_weight={0: 1, 1: 8.841344371679229}, modelling__eta0=0.1, modelling__learning_rate=optimal, modelling__loss=log, modelling__random_state=282; total time=  15.1s\n",
      "[CV] END modelling__class_weight={0: 1, 1: 8.841344371679229}, modelling__eta0=0.1, modelling__learning_rate=optimal, modelling__loss=modified_huber, modelling__random_state=282; total time=  13.8s\n",
      "[CV] END modelling__class_weight={0: 1, 1: 8.841344371679229}, modelling__eta0=0.1, modelling__learning_rate=optimal, modelling__loss=modified_huber, modelling__random_state=282; total time=  14.2s\n",
      "[CV] END modelling__class_weight={0: 1, 1: 8.841344371679229}, modelling__eta0=0.1, modelling__learning_rate=optimal, modelling__loss=modified_huber, modelling__random_state=282; total time=  11.2s\n",
      "[CV] END modelling__class_weight={0: 1, 1: 8.841344371679229}, modelling__eta0=0.1, modelling__learning_rate=invscaling, modelling__loss=hinge, modelling__random_state=282; total time=  13.6s\n",
      "[CV] END modelling__class_weight={0: 1, 1: 8.841344371679229}, modelling__eta0=0.1, modelling__learning_rate=invscaling, modelling__loss=hinge, modelling__random_state=282; total time=  13.8s\n",
      "[CV] END modelling__class_weight={0: 1, 1: 8.841344371679229}, modelling__eta0=0.1, modelling__learning_rate=invscaling, modelling__loss=hinge, modelling__random_state=282; total time=  13.5s\n",
      "[CV] END modelling__class_weight={0: 1, 1: 8.841344371679229}, modelling__eta0=0.1, modelling__learning_rate=invscaling, modelling__loss=log, modelling__random_state=282; total time=  13.6s\n",
      "[CV] END modelling__class_weight={0: 1, 1: 8.841344371679229}, modelling__eta0=0.1, modelling__learning_rate=invscaling, modelling__loss=log, modelling__random_state=282; total time=  14.2s\n",
      "[CV] END modelling__class_weight={0: 1, 1: 8.841344371679229}, modelling__eta0=0.1, modelling__learning_rate=invscaling, modelling__loss=log, modelling__random_state=282; total time=  13.9s\n",
      "[CV] END modelling__class_weight={0: 1, 1: 8.841344371679229}, modelling__eta0=0.1, modelling__learning_rate=invscaling, modelling__loss=modified_huber, modelling__random_state=282; total time=  13.1s\n",
      "[CV] END modelling__class_weight={0: 1, 1: 8.841344371679229}, modelling__eta0=0.1, modelling__learning_rate=invscaling, modelling__loss=modified_huber, modelling__random_state=282; total time=  12.9s\n",
      "[CV] END modelling__class_weight={0: 1, 1: 8.841344371679229}, modelling__eta0=0.1, modelling__learning_rate=invscaling, modelling__loss=modified_huber, modelling__random_state=282; total time=  13.3s\n",
      "[CV] END modelling__class_weight={0: 1, 1: 8.841344371679229}, modelling__eta0=0.1, modelling__learning_rate=adaptive, modelling__loss=hinge, modelling__random_state=282; total time=  14.5s\n",
      "[CV] END modelling__class_weight={0: 1, 1: 8.841344371679229}, modelling__eta0=0.1, modelling__learning_rate=adaptive, modelling__loss=hinge, modelling__random_state=282; total time=  11.7s\n",
      "[CV] END modelling__class_weight={0: 1, 1: 8.841344371679229}, modelling__eta0=0.1, modelling__learning_rate=adaptive, modelling__loss=hinge, modelling__random_state=282; total time=   9.5s\n",
      "[CV] END modelling__class_weight={0: 1, 1: 8.841344371679229}, modelling__eta0=0.1, modelling__learning_rate=adaptive, modelling__loss=log, modelling__random_state=282; total time=  10.8s\n",
      "[CV] END modelling__class_weight={0: 1, 1: 8.841344371679229}, modelling__eta0=0.1, modelling__learning_rate=adaptive, modelling__loss=log, modelling__random_state=282; total time=  15.5s\n",
      "[CV] END modelling__class_weight={0: 1, 1: 8.841344371679229}, modelling__eta0=0.1, modelling__learning_rate=adaptive, modelling__loss=log, modelling__random_state=282; total time=  13.2s\n",
      "[CV] END modelling__class_weight={0: 1, 1: 8.841344371679229}, modelling__eta0=0.1, modelling__learning_rate=adaptive, modelling__loss=modified_huber, modelling__random_state=282; total time=  12.4s\n",
      "[CV] END modelling__class_weight={0: 1, 1: 8.841344371679229}, modelling__eta0=0.1, modelling__learning_rate=adaptive, modelling__loss=modified_huber, modelling__random_state=282; total time=  13.7s\n",
      "[CV] END modelling__class_weight={0: 1, 1: 8.841344371679229}, modelling__eta0=0.1, modelling__learning_rate=adaptive, modelling__loss=modified_huber, modelling__random_state=282; total time=  10.6s\n",
      "[CV] END modelling__class_weight={0: 1, 1: 8.841344371679229}, modelling__eta0=0.2, modelling__learning_rate=constant, modelling__loss=hinge, modelling__random_state=282; total time=   9.2s\n",
      "[CV] END modelling__class_weight={0: 1, 1: 8.841344371679229}, modelling__eta0=0.2, modelling__learning_rate=constant, modelling__loss=hinge, modelling__random_state=282; total time=   8.4s\n",
      "[CV] END modelling__class_weight={0: 1, 1: 8.841344371679229}, modelling__eta0=0.2, modelling__learning_rate=constant, modelling__loss=hinge, modelling__random_state=282; total time=   9.2s\n",
      "[CV] END modelling__class_weight={0: 1, 1: 8.841344371679229}, modelling__eta0=0.2, modelling__learning_rate=constant, modelling__loss=log, modelling__random_state=282; total time=   8.8s\n",
      "[CV] END modelling__class_weight={0: 1, 1: 8.841344371679229}, modelling__eta0=0.2, modelling__learning_rate=constant, modelling__loss=log, modelling__random_state=282; total time=  10.2s\n",
      "[CV] END modelling__class_weight={0: 1, 1: 8.841344371679229}, modelling__eta0=0.2, modelling__learning_rate=constant, modelling__loss=log, modelling__random_state=282; total time=   9.5s\n",
      "[CV] END modelling__class_weight={0: 1, 1: 8.841344371679229}, modelling__eta0=0.2, modelling__learning_rate=constant, modelling__loss=modified_huber, modelling__random_state=282; total time=   8.8s\n",
      "[CV] END modelling__class_weight={0: 1, 1: 8.841344371679229}, modelling__eta0=0.2, modelling__learning_rate=constant, modelling__loss=modified_huber, modelling__random_state=282; total time=  12.8s\n",
      "[CV] END modelling__class_weight={0: 1, 1: 8.841344371679229}, modelling__eta0=0.2, modelling__learning_rate=constant, modelling__loss=modified_huber, modelling__random_state=282; total time=   9.3s\n",
      "[CV] END modelling__class_weight={0: 1, 1: 8.841344371679229}, modelling__eta0=0.2, modelling__learning_rate=optimal, modelling__loss=hinge, modelling__random_state=282; total time=   9.2s\n",
      "[CV] END modelling__class_weight={0: 1, 1: 8.841344371679229}, modelling__eta0=0.2, modelling__learning_rate=optimal, modelling__loss=hinge, modelling__random_state=282; total time=  11.1s\n",
      "[CV] END modelling__class_weight={0: 1, 1: 8.841344371679229}, modelling__eta0=0.2, modelling__learning_rate=optimal, modelling__loss=hinge, modelling__random_state=282; total time=  14.1s\n",
      "[CV] END modelling__class_weight={0: 1, 1: 8.841344371679229}, modelling__eta0=0.2, modelling__learning_rate=optimal, modelling__loss=log, modelling__random_state=282; total time=  15.5s\n",
      "[CV] END modelling__class_weight={0: 1, 1: 8.841344371679229}, modelling__eta0=0.2, modelling__learning_rate=optimal, modelling__loss=log, modelling__random_state=282; total time=  12.2s\n",
      "[CV] END modelling__class_weight={0: 1, 1: 8.841344371679229}, modelling__eta0=0.2, modelling__learning_rate=optimal, modelling__loss=log, modelling__random_state=282; total time=  14.0s\n",
      "[CV] END modelling__class_weight={0: 1, 1: 8.841344371679229}, modelling__eta0=0.2, modelling__learning_rate=optimal, modelling__loss=modified_huber, modelling__random_state=282; total time=  15.4s\n",
      "[CV] END modelling__class_weight={0: 1, 1: 8.841344371679229}, modelling__eta0=0.2, modelling__learning_rate=optimal, modelling__loss=modified_huber, modelling__random_state=282; total time=  10.9s\n",
      "[CV] END modelling__class_weight={0: 1, 1: 8.841344371679229}, modelling__eta0=0.2, modelling__learning_rate=optimal, modelling__loss=modified_huber, modelling__random_state=282; total time=  12.5s\n",
      "[CV] END modelling__class_weight={0: 1, 1: 8.841344371679229}, modelling__eta0=0.2, modelling__learning_rate=invscaling, modelling__loss=hinge, modelling__random_state=282; total time=  12.4s\n",
      "[CV] END modelling__class_weight={0: 1, 1: 8.841344371679229}, modelling__eta0=0.2, modelling__learning_rate=invscaling, modelling__loss=hinge, modelling__random_state=282; total time=  10.1s\n",
      "[CV] END modelling__class_weight={0: 1, 1: 8.841344371679229}, modelling__eta0=0.2, modelling__learning_rate=invscaling, modelling__loss=hinge, modelling__random_state=282; total time=  18.7s\n",
      "[CV] END modelling__class_weight={0: 1, 1: 8.841344371679229}, modelling__eta0=0.2, modelling__learning_rate=invscaling, modelling__loss=log, modelling__random_state=282; total time=  14.5s\n",
      "[CV] END modelling__class_weight={0: 1, 1: 8.841344371679229}, modelling__eta0=0.2, modelling__learning_rate=invscaling, modelling__loss=log, modelling__random_state=282; total time=  17.5s\n",
      "[CV] END modelling__class_weight={0: 1, 1: 8.841344371679229}, modelling__eta0=0.2, modelling__learning_rate=invscaling, modelling__loss=log, modelling__random_state=282; total time=  18.9s\n",
      "[CV] END modelling__class_weight={0: 1, 1: 8.841344371679229}, modelling__eta0=0.2, modelling__learning_rate=invscaling, modelling__loss=modified_huber, modelling__random_state=282; total time=  19.6s\n",
      "[CV] END modelling__class_weight={0: 1, 1: 8.841344371679229}, modelling__eta0=0.2, modelling__learning_rate=invscaling, modelling__loss=modified_huber, modelling__random_state=282; total time=  19.0s\n",
      "[CV] END modelling__class_weight={0: 1, 1: 8.841344371679229}, modelling__eta0=0.2, modelling__learning_rate=invscaling, modelling__loss=modified_huber, modelling__random_state=282; total time=  18.1s\n",
      "[CV] END modelling__class_weight={0: 1, 1: 8.841344371679229}, modelling__eta0=0.2, modelling__learning_rate=adaptive, modelling__loss=hinge, modelling__random_state=282; total time=  17.8s\n",
      "[CV] END modelling__class_weight={0: 1, 1: 8.841344371679229}, modelling__eta0=0.2, modelling__learning_rate=adaptive, modelling__loss=hinge, modelling__random_state=282; total time=  16.9s\n",
      "[CV] END modelling__class_weight={0: 1, 1: 8.841344371679229}, modelling__eta0=0.2, modelling__learning_rate=adaptive, modelling__loss=hinge, modelling__random_state=282; total time=  12.5s\n",
      "[CV] END modelling__class_weight={0: 1, 1: 8.841344371679229}, modelling__eta0=0.2, modelling__learning_rate=adaptive, modelling__loss=log, modelling__random_state=282; total time=  11.4s\n",
      "[CV] END modelling__class_weight={0: 1, 1: 8.841344371679229}, modelling__eta0=0.2, modelling__learning_rate=adaptive, modelling__loss=log, modelling__random_state=282; total time=  11.6s\n",
      "[CV] END modelling__class_weight={0: 1, 1: 8.841344371679229}, modelling__eta0=0.2, modelling__learning_rate=adaptive, modelling__loss=log, modelling__random_state=282; total time=  11.1s\n",
      "[CV] END modelling__class_weight={0: 1, 1: 8.841344371679229}, modelling__eta0=0.2, modelling__learning_rate=adaptive, modelling__loss=modified_huber, modelling__random_state=282; total time=  12.8s\n",
      "[CV] END modelling__class_weight={0: 1, 1: 8.841344371679229}, modelling__eta0=0.2, modelling__learning_rate=adaptive, modelling__loss=modified_huber, modelling__random_state=282; total time=  13.5s\n",
      "[CV] END modelling__class_weight={0: 1, 1: 8.841344371679229}, modelling__eta0=0.2, modelling__learning_rate=adaptive, modelling__loss=modified_huber, modelling__random_state=282; total time=  15.4s\n",
      "[CV] END modelling__class_weight={0: 1, 1: 8.841344371679229}, modelling__eta0=0.3, modelling__learning_rate=constant, modelling__loss=hinge, modelling__random_state=282; total time=  14.7s\n",
      "[CV] END modelling__class_weight={0: 1, 1: 8.841344371679229}, modelling__eta0=0.3, modelling__learning_rate=constant, modelling__loss=hinge, modelling__random_state=282; total time=  14.7s\n",
      "[CV] END modelling__class_weight={0: 1, 1: 8.841344371679229}, modelling__eta0=0.3, modelling__learning_rate=constant, modelling__loss=hinge, modelling__random_state=282; total time=  14.0s\n",
      "[CV] END modelling__class_weight={0: 1, 1: 8.841344371679229}, modelling__eta0=0.3, modelling__learning_rate=constant, modelling__loss=log, modelling__random_state=282; total time=  15.4s\n",
      "[CV] END modelling__class_weight={0: 1, 1: 8.841344371679229}, modelling__eta0=0.3, modelling__learning_rate=constant, modelling__loss=log, modelling__random_state=282; total time=  14.9s\n",
      "[CV] END modelling__class_weight={0: 1, 1: 8.841344371679229}, modelling__eta0=0.3, modelling__learning_rate=constant, modelling__loss=log, modelling__random_state=282; total time=  14.4s\n",
      "[CV] END modelling__class_weight={0: 1, 1: 8.841344371679229}, modelling__eta0=0.3, modelling__learning_rate=constant, modelling__loss=modified_huber, modelling__random_state=282; total time=  14.0s\n",
      "[CV] END modelling__class_weight={0: 1, 1: 8.841344371679229}, modelling__eta0=0.3, modelling__learning_rate=constant, modelling__loss=modified_huber, modelling__random_state=282; total time=  14.8s\n",
      "[CV] END modelling__class_weight={0: 1, 1: 8.841344371679229}, modelling__eta0=0.3, modelling__learning_rate=constant, modelling__loss=modified_huber, modelling__random_state=282; total time=  14.2s\n",
      "[CV] END modelling__class_weight={0: 1, 1: 8.841344371679229}, modelling__eta0=0.3, modelling__learning_rate=optimal, modelling__loss=hinge, modelling__random_state=282; total time=  13.9s\n",
      "[CV] END modelling__class_weight={0: 1, 1: 8.841344371679229}, modelling__eta0=0.3, modelling__learning_rate=optimal, modelling__loss=hinge, modelling__random_state=282; total time=  10.5s\n",
      "[CV] END modelling__class_weight={0: 1, 1: 8.841344371679229}, modelling__eta0=0.3, modelling__learning_rate=optimal, modelling__loss=hinge, modelling__random_state=282; total time=   8.5s\n",
      "[CV] END modelling__class_weight={0: 1, 1: 8.841344371679229}, modelling__eta0=0.3, modelling__learning_rate=optimal, modelling__loss=log, modelling__random_state=282; total time=   8.9s\n",
      "[CV] END modelling__class_weight={0: 1, 1: 8.841344371679229}, modelling__eta0=0.3, modelling__learning_rate=optimal, modelling__loss=log, modelling__random_state=282; total time=   8.7s\n",
      "[CV] END modelling__class_weight={0: 1, 1: 8.841344371679229}, modelling__eta0=0.3, modelling__learning_rate=optimal, modelling__loss=log, modelling__random_state=282; total time=   9.0s\n",
      "[CV] END modelling__class_weight={0: 1, 1: 8.841344371679229}, modelling__eta0=0.3, modelling__learning_rate=optimal, modelling__loss=modified_huber, modelling__random_state=282; total time=  10.6s\n",
      "[CV] END modelling__class_weight={0: 1, 1: 8.841344371679229}, modelling__eta0=0.3, modelling__learning_rate=optimal, modelling__loss=modified_huber, modelling__random_state=282; total time=   8.3s\n",
      "[CV] END modelling__class_weight={0: 1, 1: 8.841344371679229}, modelling__eta0=0.3, modelling__learning_rate=optimal, modelling__loss=modified_huber, modelling__random_state=282; total time=   9.0s\n",
      "[CV] END modelling__class_weight={0: 1, 1: 8.841344371679229}, modelling__eta0=0.3, modelling__learning_rate=invscaling, modelling__loss=hinge, modelling__random_state=282; total time=   9.8s\n",
      "[CV] END modelling__class_weight={0: 1, 1: 8.841344371679229}, modelling__eta0=0.3, modelling__learning_rate=invscaling, modelling__loss=hinge, modelling__random_state=282; total time=   9.6s\n",
      "[CV] END modelling__class_weight={0: 1, 1: 8.841344371679229}, modelling__eta0=0.3, modelling__learning_rate=invscaling, modelling__loss=hinge, modelling__random_state=282; total time=  10.6s\n",
      "[CV] END modelling__class_weight={0: 1, 1: 8.841344371679229}, modelling__eta0=0.3, modelling__learning_rate=invscaling, modelling__loss=log, modelling__random_state=282; total time=   9.9s\n",
      "[CV] END modelling__class_weight={0: 1, 1: 8.841344371679229}, modelling__eta0=0.3, modelling__learning_rate=invscaling, modelling__loss=log, modelling__random_state=282; total time=  10.3s\n",
      "[CV] END modelling__class_weight={0: 1, 1: 8.841344371679229}, modelling__eta0=0.3, modelling__learning_rate=invscaling, modelling__loss=log, modelling__random_state=282; total time=  10.5s\n",
      "[CV] END modelling__class_weight={0: 1, 1: 8.841344371679229}, modelling__eta0=0.3, modelling__learning_rate=invscaling, modelling__loss=modified_huber, modelling__random_state=282; total time=   9.9s\n",
      "[CV] END modelling__class_weight={0: 1, 1: 8.841344371679229}, modelling__eta0=0.3, modelling__learning_rate=invscaling, modelling__loss=modified_huber, modelling__random_state=282; total time=  10.3s\n",
      "[CV] END modelling__class_weight={0: 1, 1: 8.841344371679229}, modelling__eta0=0.3, modelling__learning_rate=invscaling, modelling__loss=modified_huber, modelling__random_state=282; total time=  10.7s\n",
      "[CV] END modelling__class_weight={0: 1, 1: 8.841344371679229}, modelling__eta0=0.3, modelling__learning_rate=adaptive, modelling__loss=hinge, modelling__random_state=282; total time=  10.9s\n",
      "[CV] END modelling__class_weight={0: 1, 1: 8.841344371679229}, modelling__eta0=0.3, modelling__learning_rate=adaptive, modelling__loss=hinge, modelling__random_state=282; total time=  10.5s\n",
      "[CV] END modelling__class_weight={0: 1, 1: 8.841344371679229}, modelling__eta0=0.3, modelling__learning_rate=adaptive, modelling__loss=hinge, modelling__random_state=282; total time=  10.2s\n",
      "[CV] END modelling__class_weight={0: 1, 1: 8.841344371679229}, modelling__eta0=0.3, modelling__learning_rate=adaptive, modelling__loss=log, modelling__random_state=282; total time=  10.1s\n",
      "[CV] END modelling__class_weight={0: 1, 1: 8.841344371679229}, modelling__eta0=0.3, modelling__learning_rate=adaptive, modelling__loss=log, modelling__random_state=282; total time=  10.5s\n",
      "[CV] END modelling__class_weight={0: 1, 1: 8.841344371679229}, modelling__eta0=0.3, modelling__learning_rate=adaptive, modelling__loss=log, modelling__random_state=282; total time=  11.0s\n",
      "[CV] END modelling__class_weight={0: 1, 1: 8.841344371679229}, modelling__eta0=0.3, modelling__learning_rate=adaptive, modelling__loss=modified_huber, modelling__random_state=282; total time=   9.8s\n",
      "[CV] END modelling__class_weight={0: 1, 1: 8.841344371679229}, modelling__eta0=0.3, modelling__learning_rate=adaptive, modelling__loss=modified_huber, modelling__random_state=282; total time=  10.9s\n",
      "[CV] END modelling__class_weight={0: 1, 1: 8.841344371679229}, modelling__eta0=0.3, modelling__learning_rate=adaptive, modelling__loss=modified_huber, modelling__random_state=282; total time=  10.2s\n",
      "# Tuning hyper-parameters for f1_score\n",
      "Best score 0.7588830704382259 found on development set:\n",
      "\n",
      "{'modelling__class_weight': {0: 1, 1: 8.841344371679229}, 'modelling__eta0': 0.1, 'modelling__learning_rate': 'adaptive', 'modelling__loss': 'modified_huber', 'modelling__random_state': 282}\n",
      "\n"
     ]
    }
   ],
   "source": [
    "pipeline_sgd = Pipeline([\n",
    "    ('tf-idf vectorizer',  TfidfVectorizer(stop_words=list(stopwords))), \n",
    "    ('modelling', SGDClassifier())])\n",
    "\n",
    "               \n",
    "hyperparams = dict(modelling__loss = ['hinge', 'log', 'modified_huber'],\n",
    "                modelling__learning_rate = ['constant', 'optimal', 'invscaling', 'adaptive'],\n",
    "                modelling__eta0 = [0.05, 0.1, 0.2],\n",
    "                modelling__class_weight = [dict_classes],\n",
    "                modelling__random_state = [282]\n",
    "                  )\n",
    "\n",
    "print()\n",
    "clf_SGD = GridSearchCV(pipeline_sgd, \n",
    "                   hyperparams, \n",
    "                   scoring='f1',\n",
    "                   cv=3,\n",
    "                   verbose=2)\n",
    "\n",
    "clf_SGD.fit(train_features['lemmed_text'], train_target)\n",
    "print('# Tuning hyper-parameters for f1_score')\n",
    "best_score_SGD = clf_SGD.best_score_\n",
    "best_params_SGD = clf_SGD.best_params_\n",
    "best_model_SGD = clf_SGD.best_estimator_\n",
    "\n",
    "print(f\"Best score {best_score_SGD} found on development set:\")\n",
    "print()\n",
    "print(best_params_SGD)\n",
    "print()"
   ]
  },
  {
   "cell_type": "markdown",
   "metadata": {},
   "source": [
    "Best score 0.7588830704382259 found on development set:\n",
    "best_params_SGD = {'class_weight': {0: 1, 1: 8.841344371679229}, 'eta0': 0.05, 'learning_rate': 'adaptive', 'loss': 'modified_huber', 'random_state': 282}"
   ]
  },
  {
   "cell_type": "markdown",
   "metadata": {},
   "source": [
    "### Итоговое тестирование"
   ]
  },
  {
   "cell_type": "markdown",
   "metadata": {},
   "source": [
    "Для итогового тестирования отобрана модель LR в связи с ее быстродействием. Параметр f1 у моделей схожий."
   ]
  },
  {
   "cell_type": "code",
   "execution_count": 58,
   "metadata": {},
   "outputs": [
    {
     "name": "stdout",
     "output_type": "stream",
     "text": [
      "CPU times: total: 1.05 s\n",
      "Wall time: 1.07 s\n",
      "Метрики LR\n",
      "ROC AUC: 0.967314132552399\n",
      "F1 SGDC: 0.7614678899082569\n"
     ]
    },
    {
     "data": {
      "image/png": "[encoded data removed]",
      "text/plain": [
       "<Figure size 432x288 with 1 Axes>"
      ]
     },
     "metadata": {
      "needs_background": "light"
     },
     "output_type": "display_data"
    }
   ],
   "source": [
    "probabilities_test = best_model_LR.predict_proba(test_features['lemmed_text'])\n",
    "probabilities_one_test = probabilities_test[:, 1]\n",
    "fpr, tpr, thresholds = roc_curve(test_target, probabilities_one_test)\n",
    "%time predict_test = best_model_LR.predict(test_features['lemmed_text'])\n",
    "\n",
    "plt.plot(fpr, tpr, label='LogisticRegression')\n",
    "print('Метрики LR')\n",
    "print('ROC AUC:', roc_auc_score(test_target, probabilities_one_test))\n",
    "print('F1 SGDC:', f1_score(test_target, predict_test))\n",
    "\n",
    "plt.xlim([0,1])\n",
    "plt.ylim([0,1])\n",
    "\n",
    "plt.xlabel(\"False Positive Rate\")\n",
    "plt.ylabel(\"True Positive Rate\")\n",
    "\n",
    "plt.legend(loc='lower right', fontsize='x-large')\n",
    "\n",
    "plt.title(\"ROC-кривая\")\n",
    "plt.show()"
   ]
  },
  {
   "cell_type": "markdown",
   "metadata": {},
   "source": [
    "## Выводы"
   ]
  },
  {
   "cell_type": "markdown",
   "metadata": {},
   "source": [
    "1. Выполнена очистка и лемматизация датасета с отзывами посетителей сайта.\n",
    "2. Получены векторные представления отзывов \n",
    "3. По итогам проверки моделей на тестовой выборке для представления клиенту отобрана модель для классификации отзывов LR с показаталем f1 = 0.761. также построена кривая ROC-AUC с достаточно высоким значением 0.97."
   ]
  }
 ],
 "metadata": {
  "ExecuteTimeLog": [
   {
    "duration": 45,
    "start_time": "2022-12-08T06:50:08.270Z"
   },
   {
    "duration": 2001,
    "start_time": "2022-12-08T06:51:19.440Z"
   },
   {
    "duration": 1111,
    "start_time": "2022-12-08T06:51:52.180Z"
   },
   {
    "duration": 12,
    "start_time": "2022-12-08T06:51:54.971Z"
   },
   {
    "duration": 758,
    "start_time": "2022-12-08T06:52:37.269Z"
   },
   {
    "duration": 9,
    "start_time": "2022-12-08T06:52:38.029Z"
   },
   {
    "duration": 47,
    "start_time": "2022-12-08T19:24:30.045Z"
   },
   {
    "duration": 1836,
    "start_time": "2022-12-08T19:24:32.716Z"
   },
   {
    "duration": 3778,
    "start_time": "2022-12-08T19:24:34.554Z"
   },
   {
    "duration": 35,
    "start_time": "2022-12-08T19:24:38.333Z"
   },
   {
    "duration": 11,
    "start_time": "2022-12-08T19:24:48.755Z"
   },
   {
    "duration": 4,
    "start_time": "2022-12-08T19:25:05.863Z"
   },
   {
    "duration": 102,
    "start_time": "2022-12-08T19:25:13.662Z"
   },
   {
    "duration": 69,
    "start_time": "2022-12-08T19:25:18.144Z"
   },
   {
    "duration": 11,
    "start_time": "2022-12-08T19:25:21.304Z"
   },
   {
    "duration": 7,
    "start_time": "2022-12-08T19:25:31.352Z"
   },
   {
    "duration": 624,
    "start_time": "2022-12-08T19:25:33.426Z"
   },
   {
    "duration": 9,
    "start_time": "2022-12-08T19:25:39.765Z"
   },
   {
    "duration": 33,
    "start_time": "2022-12-08T19:25:50.404Z"
   },
   {
    "duration": 7,
    "start_time": "2022-12-08T19:26:18.824Z"
   },
   {
    "duration": 169,
    "start_time": "2022-12-08T19:26:24.297Z"
   },
   {
    "duration": 145,
    "start_time": "2022-12-08T19:26:32.495Z"
   },
   {
    "duration": 140,
    "start_time": "2022-12-08T19:26:36.065Z"
   },
   {
    "duration": 161,
    "start_time": "2022-12-08T19:28:19.164Z"
   },
   {
    "duration": 766,
    "start_time": "2022-12-08T19:28:32.223Z"
   },
   {
    "duration": 34,
    "start_time": "2022-12-08T19:28:32.991Z"
   },
   {
    "duration": 151,
    "start_time": "2022-12-08T19:28:33.026Z"
   },
   {
    "duration": 568,
    "start_time": "2022-12-08T19:29:53.708Z"
   },
   {
    "duration": 786,
    "start_time": "2022-12-08T19:29:54.279Z"
   },
   {
    "duration": 30,
    "start_time": "2022-12-08T19:29:55.067Z"
   },
   {
    "duration": 237,
    "start_time": "2022-12-08T19:29:55.099Z"
   },
   {
    "duration": 45,
    "start_time": "2022-12-08T19:48:06.905Z"
   },
   {
    "duration": 8,
    "start_time": "2022-12-08T19:55:25.937Z"
   },
   {
    "duration": 3,
    "start_time": "2022-12-08T19:55:54.861Z"
   },
   {
    "duration": 8,
    "start_time": "2022-12-08T19:55:54.866Z"
   },
   {
    "duration": 31,
    "start_time": "2022-12-08T19:56:49.571Z"
   },
   {
    "duration": 10,
    "start_time": "2022-12-08T19:57:01.669Z"
   },
   {
    "duration": 3,
    "start_time": "2022-12-08T19:57:04.177Z"
   },
   {
    "duration": 7,
    "start_time": "2022-12-08T19:57:07.098Z"
   },
   {
    "duration": 3,
    "start_time": "2022-12-08T19:57:11.564Z"
   },
   {
    "duration": 6,
    "start_time": "2022-12-08T19:57:11.896Z"
   },
   {
    "duration": 780,
    "start_time": "2022-12-08T19:57:18.711Z"
   },
   {
    "duration": 35,
    "start_time": "2022-12-08T19:57:19.493Z"
   },
   {
    "duration": 152,
    "start_time": "2022-12-08T19:57:19.530Z"
   },
   {
    "duration": 3,
    "start_time": "2022-12-08T19:57:19.684Z"
   },
   {
    "duration": 15,
    "start_time": "2022-12-08T19:57:19.689Z"
   },
   {
    "duration": 12,
    "start_time": "2022-12-08T19:57:19.713Z"
   },
   {
    "duration": 3,
    "start_time": "2022-12-08T19:57:22.971Z"
   },
   {
    "duration": 11,
    "start_time": "2022-12-08T19:57:48.166Z"
   },
   {
    "duration": 4,
    "start_time": "2022-12-08T19:57:58.228Z"
   },
   {
    "duration": 3,
    "start_time": "2022-12-08T19:57:58.398Z"
   },
   {
    "duration": 3,
    "start_time": "2022-12-08T19:57:58.544Z"
   },
   {
    "duration": 18,
    "start_time": "2022-12-08T19:57:58.694Z"
   },
   {
    "duration": 65,
    "start_time": "2022-12-08T19:58:07.804Z"
   },
   {
    "duration": 3,
    "start_time": "2022-12-08T19:58:32.327Z"
   },
   {
    "duration": 4,
    "start_time": "2022-12-08T19:58:43.364Z"
   },
   {
    "duration": 3,
    "start_time": "2022-12-08T19:58:53.633Z"
   },
   {
    "duration": 3,
    "start_time": "2022-12-08T19:58:53.806Z"
   },
   {
    "duration": 4,
    "start_time": "2022-12-08T19:58:53.951Z"
   },
   {
    "duration": 786,
    "start_time": "2022-12-08T19:59:00.635Z"
   },
   {
    "duration": 31,
    "start_time": "2022-12-08T19:59:01.423Z"
   },
   {
    "duration": 150,
    "start_time": "2022-12-08T19:59:01.455Z"
   },
   {
    "duration": 3,
    "start_time": "2022-12-08T19:59:01.612Z"
   },
   {
    "duration": 14,
    "start_time": "2022-12-08T19:59:01.616Z"
   },
   {
    "duration": 7,
    "start_time": "2022-12-08T19:59:01.632Z"
   },
   {
    "duration": 50,
    "start_time": "2022-12-08T19:59:01.641Z"
   },
   {
    "duration": 3,
    "start_time": "2022-12-08T19:59:01.694Z"
   },
   {
    "duration": 3,
    "start_time": "2022-12-08T19:59:01.880Z"
   },
   {
    "duration": 4,
    "start_time": "2022-12-08T19:59:01.997Z"
   },
   {
    "duration": 4,
    "start_time": "2022-12-08T19:59:31.931Z"
   },
   {
    "duration": 3,
    "start_time": "2022-12-08T19:59:32.900Z"
   },
   {
    "duration": 4,
    "start_time": "2022-12-08T19:59:33.052Z"
   },
   {
    "duration": 809,
    "start_time": "2022-12-08T19:59:41.993Z"
   },
   {
    "duration": 41,
    "start_time": "2022-12-08T19:59:42.804Z"
   },
   {
    "duration": 171,
    "start_time": "2022-12-08T19:59:42.846Z"
   },
   {
    "duration": 4,
    "start_time": "2022-12-08T19:59:43.019Z"
   },
   {
    "duration": 14,
    "start_time": "2022-12-08T19:59:43.027Z"
   },
   {
    "duration": 6,
    "start_time": "2022-12-08T19:59:43.043Z"
   },
   {
    "duration": 25,
    "start_time": "2022-12-08T19:59:43.050Z"
   },
   {
    "duration": 8,
    "start_time": "2022-12-08T19:59:43.077Z"
   },
   {
    "duration": 37,
    "start_time": "2022-12-08T19:59:43.087Z"
   },
   {
    "duration": 7,
    "start_time": "2022-12-08T19:59:43.128Z"
   },
   {
    "duration": 11,
    "start_time": "2022-12-08T20:19:58.744Z"
   },
   {
    "duration": 6,
    "start_time": "2022-12-08T20:20:07.541Z"
   },
   {
    "duration": 740,
    "start_time": "2022-12-08T20:20:08.052Z"
   },
   {
    "duration": 29,
    "start_time": "2022-12-08T20:20:08.794Z"
   },
   {
    "duration": 159,
    "start_time": "2022-12-08T20:20:08.825Z"
   },
   {
    "duration": 3,
    "start_time": "2022-12-08T20:20:08.987Z"
   },
   {
    "duration": 20,
    "start_time": "2022-12-08T20:20:08.991Z"
   },
   {
    "duration": 23,
    "start_time": "2022-12-08T20:20:09.013Z"
   },
   {
    "duration": 35,
    "start_time": "2022-12-08T20:20:09.038Z"
   },
   {
    "duration": 6,
    "start_time": "2022-12-08T20:20:09.075Z"
   },
   {
    "duration": 177,
    "start_time": "2022-12-08T20:20:09.082Z"
   },
   {
    "duration": 0,
    "start_time": "2022-12-08T20:20:09.260Z"
   },
   {
    "duration": 12,
    "start_time": "2022-12-08T20:20:13.895Z"
   },
   {
    "duration": 2803,
    "start_time": "2022-12-08T20:21:55.295Z"
   },
   {
    "duration": 724,
    "start_time": "2022-12-08T20:21:58.100Z"
   },
   {
    "duration": 30,
    "start_time": "2022-12-08T20:21:58.826Z"
   },
   {
    "duration": 170,
    "start_time": "2022-12-08T20:21:58.858Z"
   },
   {
    "duration": 3,
    "start_time": "2022-12-08T20:21:59.029Z"
   },
   {
    "duration": 15,
    "start_time": "2022-12-08T20:21:59.034Z"
   },
   {
    "duration": 11,
    "start_time": "2022-12-08T20:21:59.051Z"
   },
   {
    "duration": 32,
    "start_time": "2022-12-08T20:21:59.064Z"
   },
   {
    "duration": 17,
    "start_time": "2022-12-08T20:21:59.098Z"
   },
   {
    "duration": 642,
    "start_time": "2022-12-08T20:21:59.118Z"
   },
   {
    "duration": 2417364,
    "start_time": "2022-12-08T20:21:59.761Z"
   },
   {
    "duration": 44,
    "start_time": "2022-12-08T21:02:17.132Z"
   },
   {
    "duration": 75,
    "start_time": "2022-12-08T21:02:17.178Z"
   },
   {
    "duration": 12,
    "start_time": "2022-12-08T21:02:23.656Z"
   },
   {
    "duration": 230,
    "start_time": "2022-12-08T21:03:09.767Z"
   },
   {
    "duration": 437,
    "start_time": "2022-12-08T21:03:26.233Z"
   },
   {
    "duration": 22,
    "start_time": "2022-12-08T21:03:29.472Z"
   },
   {
    "duration": 21,
    "start_time": "2022-12-08T21:04:05.805Z"
   },
   {
    "duration": 22,
    "start_time": "2022-12-08T21:04:16.612Z"
   },
   {
    "duration": 3233,
    "start_time": "2022-12-08T21:04:32.956Z"
   },
   {
    "duration": 54,
    "start_time": "2022-12-08T21:04:39.089Z"
   },
   {
    "duration": 32,
    "start_time": "2022-12-08T21:04:44.630Z"
   },
   {
    "duration": 638,
    "start_time": "2022-12-08T21:04:56.207Z"
   },
   {
    "duration": 276,
    "start_time": "2022-12-08T21:05:02.324Z"
   },
   {
    "duration": 22,
    "start_time": "2022-12-08T21:05:15.782Z"
   },
   {
    "duration": 295,
    "start_time": "2022-12-08T21:06:17.257Z"
   },
   {
    "duration": 7077,
    "start_time": "2022-12-08T21:06:20.350Z"
   },
   {
    "duration": 6855,
    "start_time": "2022-12-08T21:07:12.614Z"
   },
   {
    "duration": 0,
    "start_time": "2022-12-08T21:07:39.333Z"
   },
   {
    "duration": 7649,
    "start_time": "2022-12-08T21:08:01.660Z"
   },
   {
    "duration": 4,
    "start_time": "2022-12-08T21:08:19.860Z"
   },
   {
    "duration": 12,
    "start_time": "2022-12-08T21:08:26.220Z"
   },
   {
    "duration": 149,
    "start_time": "2022-12-08T21:08:39.958Z"
   },
   {
    "duration": 12,
    "start_time": "2022-12-08T21:08:45.205Z"
   },
   {
    "duration": 41,
    "start_time": "2022-12-08T21:09:11.600Z"
   },
   {
    "duration": 41,
    "start_time": "2022-12-08T21:09:16.536Z"
   },
   {
    "duration": 23,
    "start_time": "2022-12-08T21:12:27.098Z"
   },
   {
    "duration": 6,
    "start_time": "2022-12-08T21:12:40.800Z"
   },
   {
    "duration": 5,
    "start_time": "2022-12-08T21:12:54.985Z"
   },
   {
    "duration": 20,
    "start_time": "2022-12-08T21:13:43.335Z"
   },
   {
    "duration": 292,
    "start_time": "2022-12-08T21:14:48.010Z"
   },
   {
    "duration": 6,
    "start_time": "2022-12-08T21:15:12.099Z"
   },
   {
    "duration": 1463,
    "start_time": "2022-12-08T21:15:18.389Z"
   },
   {
    "duration": 1967,
    "start_time": "2022-12-08T21:15:40.851Z"
   },
   {
    "duration": 4,
    "start_time": "2022-12-08T21:15:55.578Z"
   },
   {
    "duration": 28,
    "start_time": "2022-12-08T21:54:36.402Z"
   },
   {
    "duration": 18409,
    "start_time": "2022-12-08T21:54:50.614Z"
   },
   {
    "duration": 0,
    "start_time": "2022-12-08T21:55:09.026Z"
   },
   {
    "duration": 19942,
    "start_time": "2022-12-08T21:55:27.072Z"
   },
   {
    "duration": 24,
    "start_time": "2022-12-08T21:55:47.017Z"
   },
   {
    "duration": 6147,
    "start_time": "2022-12-08T21:55:55.967Z"
   },
   {
    "duration": 196,
    "start_time": "2022-12-08T21:56:02.117Z"
   },
   {
    "duration": 38,
    "start_time": "2022-12-08T21:56:40.936Z"
   },
   {
    "duration": 5,
    "start_time": "2022-12-08T22:00:16.841Z"
   },
   {
    "duration": 11,
    "start_time": "2022-12-08T22:00:22.682Z"
   },
   {
    "duration": 4,
    "start_time": "2022-12-08T22:00:28.103Z"
   },
   {
    "duration": 4,
    "start_time": "2022-12-08T22:00:33.202Z"
   },
   {
    "duration": 25,
    "start_time": "2022-12-08T22:00:37.654Z"
   },
   {
    "duration": 88,
    "start_time": "2022-12-08T22:05:41.910Z"
   },
   {
    "duration": 5,
    "start_time": "2022-12-08T22:09:14.726Z"
   },
   {
    "duration": 9,
    "start_time": "2022-12-08T22:09:18.450Z"
   },
   {
    "duration": 35,
    "start_time": "2022-12-08T22:13:09.976Z"
   },
   {
    "duration": 26,
    "start_time": "2022-12-08T22:44:10.256Z"
   },
   {
    "duration": 2,
    "start_time": "2022-12-08T22:46:49.657Z"
   },
   {
    "duration": 279,
    "start_time": "2022-12-08T22:47:03.640Z"
   },
   {
    "duration": 7365,
    "start_time": "2022-12-08T22:47:04.646Z"
   },
   {
    "duration": 300,
    "start_time": "2022-12-08T22:48:23.306Z"
   },
   {
    "duration": 7361,
    "start_time": "2022-12-08T22:48:23.608Z"
   },
   {
    "duration": 28,
    "start_time": "2022-12-08T22:52:41.495Z"
   },
   {
    "duration": 28,
    "start_time": "2022-12-08T22:54:01.654Z"
   },
   {
    "duration": 461,
    "start_time": "2022-12-08T22:54:08.336Z"
   },
   {
    "duration": 32,
    "start_time": "2022-12-08T22:54:14.053Z"
   },
   {
    "duration": 9,
    "start_time": "2022-12-08T22:56:11.004Z"
   },
   {
    "duration": 5,
    "start_time": "2022-12-08T22:57:40.736Z"
   },
   {
    "duration": 6,
    "start_time": "2022-12-08T22:57:49.891Z"
   },
   {
    "duration": 5,
    "start_time": "2022-12-08T22:57:56.350Z"
   },
   {
    "duration": 6,
    "start_time": "2022-12-08T22:57:56.565Z"
   },
   {
    "duration": 32,
    "start_time": "2022-12-08T23:11:53.055Z"
   },
   {
    "duration": 3,
    "start_time": "2022-12-08T23:12:01.254Z"
   },
   {
    "duration": 34,
    "start_time": "2022-12-08T23:12:04.994Z"
   },
   {
    "duration": 9,
    "start_time": "2022-12-08T23:12:47.886Z"
   },
   {
    "duration": 29,
    "start_time": "2022-12-08T23:12:48.655Z"
   },
   {
    "duration": 3,
    "start_time": "2022-12-08T23:13:15.502Z"
   },
   {
    "duration": 27,
    "start_time": "2022-12-08T23:13:22.302Z"
   },
   {
    "duration": 6,
    "start_time": "2022-12-08T23:13:34.986Z"
   },
   {
    "duration": 6,
    "start_time": "2022-12-08T23:13:41.154Z"
   },
   {
    "duration": 2849,
    "start_time": "2022-12-09T08:49:52.707Z"
   },
   {
    "duration": 4984,
    "start_time": "2022-12-09T08:49:55.559Z"
   },
   {
    "duration": 1145,
    "start_time": "2022-12-09T08:50:00.546Z"
   },
   {
    "duration": 33,
    "start_time": "2022-12-09T08:50:01.694Z"
   },
   {
    "duration": 171,
    "start_time": "2022-12-09T08:50:01.729Z"
   },
   {
    "duration": 475,
    "start_time": "2022-12-09T08:50:01.902Z"
   },
   {
    "duration": 3,
    "start_time": "2022-12-09T08:50:02.379Z"
   },
   {
    "duration": 16,
    "start_time": "2022-12-09T08:50:02.384Z"
   },
   {
    "duration": 374,
    "start_time": "2022-12-09T08:50:02.840Z"
   },
   {
    "duration": 136,
    "start_time": "2022-12-09T08:50:36.672Z"
   },
   {
    "duration": 507,
    "start_time": "2022-12-09T08:50:40.029Z"
   },
   {
    "duration": 242,
    "start_time": "2022-12-09T08:50:46.058Z"
   },
   {
    "duration": 670,
    "start_time": "2022-12-09T08:51:04.888Z"
   },
   {
    "duration": 37371,
    "start_time": "2022-12-09T08:51:05.680Z"
   },
   {
    "duration": 15,
    "start_time": "2022-12-09T08:51:44.232Z"
   },
   {
    "duration": 23,
    "start_time": "2022-12-09T08:52:05.211Z"
   },
   {
    "duration": 3,
    "start_time": "2022-12-09T08:52:12.486Z"
   },
   {
    "duration": 269,
    "start_time": "2022-12-09T08:52:17.324Z"
   },
   {
    "duration": 7986,
    "start_time": "2022-12-09T08:52:18.339Z"
   },
   {
    "duration": 5,
    "start_time": "2022-12-09T08:52:27.557Z"
   },
   {
    "duration": 10,
    "start_time": "2022-12-09T08:52:49.676Z"
   },
   {
    "duration": 4,
    "start_time": "2022-12-09T08:52:50.600Z"
   },
   {
    "duration": 7,
    "start_time": "2022-12-09T08:52:51.477Z"
   },
   {
    "duration": 4,
    "start_time": "2022-12-09T08:52:52.360Z"
   },
   {
    "duration": 29,
    "start_time": "2022-12-09T08:52:54.330Z"
   },
   {
    "duration": 22,
    "start_time": "2022-12-09T08:53:01.643Z"
   },
   {
    "duration": 347,
    "start_time": "2022-12-09T08:53:09.331Z"
   },
   {
    "duration": 628,
    "start_time": "2022-12-09T09:28:01.188Z"
   },
   {
    "duration": 4,
    "start_time": "2022-12-09T09:28:18.064Z"
   },
   {
    "duration": 634,
    "start_time": "2022-12-09T09:28:25.156Z"
   },
   {
    "duration": 859,
    "start_time": "2022-12-09T09:28:31.741Z"
   },
   {
    "duration": 21,
    "start_time": "2022-12-09T09:29:39.820Z"
   },
   {
    "duration": 6,
    "start_time": "2022-12-09T09:29:49.898Z"
   },
   {
    "duration": 21,
    "start_time": "2022-12-09T09:29:54.836Z"
   },
   {
    "duration": 83,
    "start_time": "2022-12-09T09:32:11.351Z"
   },
   {
    "duration": 21,
    "start_time": "2022-12-09T09:32:12.215Z"
   },
   {
    "duration": 79,
    "start_time": "2022-12-09T09:35:43.515Z"
   },
   {
    "duration": 10,
    "start_time": "2022-12-09T09:41:06.694Z"
   },
   {
    "duration": 3,
    "start_time": "2022-12-09T09:41:07.115Z"
   },
   {
    "duration": 7,
    "start_time": "2022-12-09T09:41:07.647Z"
   },
   {
    "duration": 5,
    "start_time": "2022-12-09T09:41:08.631Z"
   },
   {
    "duration": 28,
    "start_time": "2022-12-09T09:41:13.005Z"
   },
   {
    "duration": 11,
    "start_time": "2022-12-09T09:42:00.341Z"
   },
   {
    "duration": 221,
    "start_time": "2022-12-09T09:42:23.670Z"
   },
   {
    "duration": 5,
    "start_time": "2022-12-09T09:42:24.244Z"
   },
   {
    "duration": 3202,
    "start_time": "2022-12-09T09:42:24.406Z"
   },
   {
    "duration": 0,
    "start_time": "2022-12-09T09:42:27.610Z"
   },
   {
    "duration": 463,
    "start_time": "2022-12-09T09:42:58.094Z"
   },
   {
    "duration": 6,
    "start_time": "2022-12-09T09:42:58.607Z"
   },
   {
    "duration": 2648,
    "start_time": "2022-12-09T09:42:58.649Z"
   },
   {
    "duration": 0,
    "start_time": "2022-12-09T09:43:01.299Z"
   },
   {
    "duration": 0,
    "start_time": "2022-12-09T09:43:01.301Z"
   },
   {
    "duration": 4,
    "start_time": "2022-12-09T09:47:07.294Z"
   },
   {
    "duration": 5,
    "start_time": "2022-12-09T09:47:18.156Z"
   },
   {
    "duration": 5,
    "start_time": "2022-12-09T09:47:26.699Z"
   },
   {
    "duration": 4,
    "start_time": "2022-12-09T09:47:30.592Z"
   },
   {
    "duration": 30,
    "start_time": "2022-12-09T09:47:38.942Z"
   },
   {
    "duration": 4,
    "start_time": "2022-12-09T09:48:05.963Z"
   },
   {
    "duration": 5,
    "start_time": "2022-12-09T09:48:09.657Z"
   },
   {
    "duration": 4,
    "start_time": "2022-12-09T09:48:32.218Z"
   },
   {
    "duration": 4,
    "start_time": "2022-12-09T09:49:07.152Z"
   },
   {
    "duration": 5,
    "start_time": "2022-12-09T09:49:10.539Z"
   },
   {
    "duration": 10,
    "start_time": "2022-12-09T09:49:37.103Z"
   },
   {
    "duration": 5,
    "start_time": "2022-12-09T09:49:37.272Z"
   },
   {
    "duration": 9,
    "start_time": "2022-12-09T09:49:37.411Z"
   },
   {
    "duration": 1565,
    "start_time": "2022-12-09T09:49:37.714Z"
   },
   {
    "duration": 5,
    "start_time": "2022-12-09T09:49:39.281Z"
   },
   {
    "duration": 119,
    "start_time": "2022-12-09T09:49:39.288Z"
   },
   {
    "duration": 22,
    "start_time": "2022-12-09T09:49:39.410Z"
   },
   {
    "duration": 24,
    "start_time": "2022-12-09T09:49:39.434Z"
   },
   {
    "duration": 26,
    "start_time": "2022-12-09T09:49:39.459Z"
   },
   {
    "duration": 5,
    "start_time": "2022-12-09T09:49:40.562Z"
   },
   {
    "duration": 58,
    "start_time": "2022-12-09T10:59:17.824Z"
   },
   {
    "duration": 2612,
    "start_time": "2022-12-09T10:59:20.570Z"
   },
   {
    "duration": 93,
    "start_time": "2022-12-09T10:59:23.186Z"
   },
   {
    "duration": 82,
    "start_time": "2022-12-09T11:03:39.672Z"
   },
   {
    "duration": 20448,
    "start_time": "2022-12-09T11:04:27.143Z"
   },
   {
    "duration": 234,
    "start_time": "2022-12-09T11:11:26.810Z"
   },
   {
    "duration": 2099,
    "start_time": "2022-12-09T11:11:29.879Z"
   },
   {
    "duration": 5,
    "start_time": "2022-12-09T11:11:31.980Z"
   },
   {
    "duration": 20894,
    "start_time": "2022-12-09T11:11:31.986Z"
   },
   {
    "duration": 63,
    "start_time": "2022-12-09T11:12:22.252Z"
   },
   {
    "duration": 70,
    "start_time": "2022-12-09T11:12:41.339Z"
   },
   {
    "duration": 9991,
    "start_time": "2022-12-09T11:12:47.390Z"
   },
   {
    "duration": 95,
    "start_time": "2022-12-09T11:12:57.384Z"
   },
   {
    "duration": 2106,
    "start_time": "2022-12-09T11:17:26.114Z"
   },
   {
    "duration": 4749,
    "start_time": "2022-12-09T11:17:28.224Z"
   },
   {
    "duration": 832,
    "start_time": "2022-12-09T11:17:32.975Z"
   },
   {
    "duration": 35,
    "start_time": "2022-12-09T11:17:33.810Z"
   },
   {
    "duration": 178,
    "start_time": "2022-12-09T11:17:33.847Z"
   },
   {
    "duration": 479,
    "start_time": "2022-12-09T11:17:34.027Z"
   },
   {
    "duration": 2,
    "start_time": "2022-12-09T11:17:34.508Z"
   },
   {
    "duration": 7,
    "start_time": "2022-12-09T11:17:34.512Z"
   },
   {
    "duration": 4263,
    "start_time": "2022-12-09T11:17:34.521Z"
   },
   {
    "duration": 526,
    "start_time": "2022-12-09T11:17:38.787Z"
   },
   {
    "duration": 1138501,
    "start_time": "2022-12-09T11:17:39.315Z"
   },
   {
    "duration": 103,
    "start_time": "2022-12-09T11:36:37.818Z"
   },
   {
    "duration": 4,
    "start_time": "2022-12-09T11:36:37.923Z"
   },
   {
    "duration": 8418,
    "start_time": "2022-12-09T11:36:37.928Z"
   },
   {
    "duration": 8673,
    "start_time": "2022-12-09T11:36:46.348Z"
   },
   {
    "duration": 2308,
    "start_time": "2022-12-09T11:36:55.022Z"
   },
   {
    "duration": 106,
    "start_time": "2022-12-09T11:36:57.332Z"
   },
   {
    "duration": 7562,
    "start_time": "2022-12-09T11:36:57.441Z"
   },
   {
    "duration": 201481,
    "start_time": "2022-12-09T11:37:05.006Z"
   },
   {
    "duration": 420,
    "start_time": "2022-12-09T11:40:26.491Z"
   },
   {
    "duration": 0,
    "start_time": "2022-12-09T11:40:26.914Z"
   },
   {
    "duration": 0,
    "start_time": "2022-12-09T11:40:26.915Z"
   },
   {
    "duration": 456067,
    "start_time": "2022-12-09T11:50:39.429Z"
   },
   {
    "duration": 22,
    "start_time": "2022-12-09T11:58:15.498Z"
   },
   {
    "duration": 23,
    "start_time": "2022-12-09T12:01:23.296Z"
   },
   {
    "duration": 13,
    "start_time": "2022-12-09T12:01:28.079Z"
   },
   {
    "duration": 205486,
    "start_time": "2022-12-09T12:27:09.506Z"
   },
   {
    "duration": 3033,
    "start_time": "2022-12-09T13:01:56.920Z"
   },
   {
    "duration": 4592,
    "start_time": "2022-12-09T13:01:59.955Z"
   },
   {
    "duration": 1216,
    "start_time": "2022-12-09T13:02:04.549Z"
   },
   {
    "duration": 39,
    "start_time": "2022-12-09T13:02:05.767Z"
   },
   {
    "duration": 169,
    "start_time": "2022-12-09T13:02:05.809Z"
   },
   {
    "duration": 28,
    "start_time": "2022-12-09T13:02:05.980Z"
   },
   {
    "duration": 430,
    "start_time": "2022-12-09T13:02:06.015Z"
   },
   {
    "duration": 3,
    "start_time": "2022-12-09T13:02:06.446Z"
   },
   {
    "duration": 4440,
    "start_time": "2022-12-09T13:02:06.451Z"
   },
   {
    "duration": 539,
    "start_time": "2022-12-09T13:02:10.893Z"
   },
   {
    "duration": 1032086,
    "start_time": "2022-12-09T13:02:11.433Z"
   },
   {
    "duration": 91,
    "start_time": "2022-12-09T13:19:23.521Z"
   },
   {
    "duration": 4,
    "start_time": "2022-12-09T13:19:23.614Z"
   },
   {
    "duration": 7494,
    "start_time": "2022-12-09T13:19:23.620Z"
   },
   {
    "duration": 0,
    "start_time": "2022-12-09T13:19:31.116Z"
   },
   {
    "duration": 0,
    "start_time": "2022-12-09T13:19:31.117Z"
   },
   {
    "duration": 0,
    "start_time": "2022-12-09T13:19:31.118Z"
   },
   {
    "duration": 0,
    "start_time": "2022-12-09T13:19:31.119Z"
   },
   {
    "duration": 0,
    "start_time": "2022-12-09T13:19:31.120Z"
   },
   {
    "duration": 0,
    "start_time": "2022-12-09T13:19:31.121Z"
   },
   {
    "duration": 0,
    "start_time": "2022-12-09T13:19:31.122Z"
   },
   {
    "duration": 6410,
    "start_time": "2022-12-09T13:20:11.962Z"
   },
   {
    "duration": 6453,
    "start_time": "2022-12-09T13:22:14.002Z"
   },
   {
    "duration": 0,
    "start_time": "2022-12-09T13:22:20.457Z"
   },
   {
    "duration": 2089,
    "start_time": "2022-12-09T13:22:31.644Z"
   },
   {
    "duration": 75,
    "start_time": "2022-12-09T13:22:33.735Z"
   },
   {
    "duration": 6002,
    "start_time": "2022-12-09T13:22:33.812Z"
   },
   {
    "duration": 6717,
    "start_time": "2022-12-09T13:22:39.816Z"
   },
   {
    "duration": 0,
    "start_time": "2022-12-09T13:22:46.535Z"
   },
   {
    "duration": 0,
    "start_time": "2022-12-09T13:22:46.536Z"
   },
   {
    "duration": 7074,
    "start_time": "2022-12-09T13:23:49.729Z"
   },
   {
    "duration": 178269,
    "start_time": "2022-12-09T13:24:23.239Z"
   },
   {
    "duration": 150,
    "start_time": "2022-12-09T13:27:21.510Z"
   },
   {
    "duration": 15,
    "start_time": "2022-12-09T13:27:21.661Z"
   },
   {
    "duration": 0,
    "start_time": "2022-12-09T13:27:21.677Z"
   },
   {
    "duration": 0,
    "start_time": "2022-12-09T13:27:21.678Z"
   },
   {
    "duration": 3,
    "start_time": "2022-12-09T13:31:18.403Z"
   },
   {
    "duration": 4534793,
    "start_time": "2022-12-09T13:31:21.407Z"
   },
   {
    "duration": 4,
    "start_time": "2022-12-09T14:46:56.203Z"
   },
   {
    "duration": 95,
    "start_time": "2022-12-09T14:46:56.209Z"
   },
   {
    "duration": 18,
    "start_time": "2022-12-09T14:46:56.306Z"
   },
   {
    "duration": 171168,
    "start_time": "2022-12-09T15:19:47.836Z"
   },
   {
    "duration": 90,
    "start_time": "2022-12-09T15:22:39.006Z"
   },
   {
    "duration": 55,
    "start_time": "2022-12-09T15:22:39.098Z"
   },
   {
    "duration": 175,
    "start_time": "2022-12-09T15:22:39.155Z"
   },
   {
    "duration": 2,
    "start_time": "2022-12-09T15:53:57.453Z"
   },
   {
    "duration": 44,
    "start_time": "2022-12-09T16:32:33.621Z"
   },
   {
    "duration": 1908,
    "start_time": "2022-12-09T16:32:43.818Z"
   },
   {
    "duration": 5610,
    "start_time": "2022-12-09T16:32:45.728Z"
   },
   {
    "duration": 814,
    "start_time": "2022-12-09T16:32:51.341Z"
   },
   {
    "duration": 31,
    "start_time": "2022-12-09T16:32:52.158Z"
   },
   {
    "duration": 140,
    "start_time": "2022-12-09T16:32:52.191Z"
   },
   {
    "duration": 10,
    "start_time": "2022-12-09T16:32:52.333Z"
   },
   {
    "duration": 409,
    "start_time": "2022-12-09T16:32:52.345Z"
   },
   {
    "duration": 3,
    "start_time": "2022-12-09T16:32:52.755Z"
   },
   {
    "duration": 3821,
    "start_time": "2022-12-09T16:32:52.759Z"
   },
   {
    "duration": 483,
    "start_time": "2022-12-09T16:32:56.583Z"
   },
   {
    "duration": 947042,
    "start_time": "2022-12-09T16:32:57.068Z"
   },
   {
    "duration": 72,
    "start_time": "2022-12-09T16:48:44.112Z"
   },
   {
    "duration": 2,
    "start_time": "2022-12-09T16:48:44.196Z"
   },
   {
    "duration": 2040,
    "start_time": "2022-12-09T16:48:44.200Z"
   },
   {
    "duration": 70,
    "start_time": "2022-12-09T16:48:46.242Z"
   },
   {
    "duration": 5900,
    "start_time": "2022-12-09T16:48:46.314Z"
   },
   {
    "duration": 177585,
    "start_time": "2022-12-09T16:48:52.216Z"
   },
   {
    "duration": 5,
    "start_time": "2022-12-09T16:51:49.803Z"
   },
   {
    "duration": 193086,
    "start_time": "2022-12-09T16:51:49.810Z"
   },
   {
    "duration": 1774512,
    "start_time": "2022-12-09T16:55:02.901Z"
   },
   {
    "duration": 87,
    "start_time": "2022-12-09T17:24:37.415Z"
   },
   {
    "duration": 17,
    "start_time": "2022-12-09T17:24:37.503Z"
   },
   {
    "duration": 6,
    "start_time": "2022-12-09T17:24:37.522Z"
   },
   {
    "duration": 383,
    "start_time": "2022-12-09T17:24:37.530Z"
   },
   {
    "duration": 20,
    "start_time": "2022-12-09T17:24:37.915Z"
   },
   {
    "duration": 0,
    "start_time": "2022-12-09T17:24:37.937Z"
   },
   {
    "duration": 0,
    "start_time": "2022-12-09T17:24:37.938Z"
   },
   {
    "duration": 0,
    "start_time": "2022-12-09T17:24:37.940Z"
   },
   {
    "duration": 228200,
    "start_time": "2022-12-09T17:54:22.924Z"
   },
   {
    "duration": 3,
    "start_time": "2022-12-09T18:01:10.457Z"
   },
   {
    "duration": 19,
    "start_time": "2022-12-09T18:01:22.353Z"
   },
   {
    "duration": 3,
    "start_time": "2022-12-09T18:01:48.973Z"
   },
   {
    "duration": 3,
    "start_time": "2022-12-09T18:02:09.626Z"
   },
   {
    "duration": 33053,
    "start_time": "2022-12-09T18:02:18.058Z"
   },
   {
    "duration": 0,
    "start_time": "2022-12-09T18:02:51.113Z"
   },
   {
    "duration": 221,
    "start_time": "2022-12-09T18:02:57.802Z"
   },
   {
    "duration": 32023,
    "start_time": "2022-12-09T18:03:02.775Z"
   },
   {
    "duration": 0,
    "start_time": "2022-12-09T18:03:34.800Z"
   },
   {
    "duration": 6,
    "start_time": "2022-12-09T18:04:33.393Z"
   },
   {
    "duration": 32349,
    "start_time": "2022-12-09T18:04:38.954Z"
   },
   {
    "duration": 0,
    "start_time": "2022-12-09T18:05:11.304Z"
   },
   {
    "duration": 37372,
    "start_time": "2022-12-09T18:06:01.434Z"
   },
   {
    "duration": 0,
    "start_time": "2022-12-09T18:06:38.811Z"
   },
   {
    "duration": 35397,
    "start_time": "2022-12-09T18:06:58.211Z"
   },
   {
    "duration": 2064,
    "start_time": "2022-12-09T18:07:33.611Z"
   },
   {
    "duration": 32825,
    "start_time": "2022-12-09T19:01:49.798Z"
   },
   {
    "duration": 0,
    "start_time": "2022-12-09T19:02:22.624Z"
   },
   {
    "duration": 0,
    "start_time": "2022-12-09T19:05:06.713Z"
   },
   {
    "duration": 32721,
    "start_time": "2022-12-09T19:05:41.488Z"
   },
   {
    "duration": 0,
    "start_time": "2022-12-09T19:07:13.458Z"
   },
   {
    "duration": 32964,
    "start_time": "2022-12-09T19:07:17.648Z"
   },
   {
    "duration": 32786,
    "start_time": "2022-12-09T19:08:19.996Z"
   },
   {
    "duration": 33773,
    "start_time": "2022-12-09T19:09:18.577Z"
   },
   {
    "duration": 34685,
    "start_time": "2022-12-09T19:10:43.297Z"
   },
   {
    "duration": 35903,
    "start_time": "2022-12-09T19:11:37.131Z"
   },
   {
    "duration": 34123,
    "start_time": "2022-12-09T19:20:28.248Z"
   },
   {
    "duration": 34450,
    "start_time": "2022-12-09T19:22:30.682Z"
   },
   {
    "duration": 34580,
    "start_time": "2022-12-09T19:24:37.228Z"
   },
   {
    "duration": 34443,
    "start_time": "2022-12-09T19:25:43.046Z"
   },
   {
    "duration": 2056,
    "start_time": "2022-12-09T19:28:42.466Z"
   },
   {
    "duration": 53,
    "start_time": "2022-12-09T22:06:57.484Z"
   },
   {
    "duration": 3287,
    "start_time": "2022-12-09T22:18:02.199Z"
   },
   {
    "duration": 5664,
    "start_time": "2022-12-09T22:18:13.057Z"
   },
   {
    "duration": 3838,
    "start_time": "2022-12-09T22:18:18.724Z"
   },
   {
    "duration": 37,
    "start_time": "2022-12-09T22:18:22.565Z"
   },
   {
    "duration": 171,
    "start_time": "2022-12-09T22:18:22.605Z"
   },
   {
    "duration": 12,
    "start_time": "2022-12-09T22:18:22.778Z"
   },
   {
    "duration": 500,
    "start_time": "2022-12-09T22:18:22.792Z"
   },
   {
    "duration": 4,
    "start_time": "2022-12-09T22:18:23.294Z"
   },
   {
    "duration": 4377,
    "start_time": "2022-12-09T22:18:23.300Z"
   },
   {
    "duration": 549,
    "start_time": "2022-12-09T22:18:27.680Z"
   },
   {
    "duration": 1142732,
    "start_time": "2022-12-09T22:18:28.231Z"
   },
   {
    "duration": 97,
    "start_time": "2022-12-09T22:37:30.965Z"
   },
   {
    "duration": 4,
    "start_time": "2022-12-09T22:37:31.064Z"
   },
   {
    "duration": 88,
    "start_time": "2022-12-09T22:37:31.070Z"
   },
   {
    "duration": 7071,
    "start_time": "2022-12-09T22:37:31.160Z"
   },
   {
    "duration": 7905,
    "start_time": "2022-12-09T22:37:49.864Z"
   },
   {
    "duration": 7757,
    "start_time": "2022-12-09T22:40:43.646Z"
   },
   {
    "duration": 7985,
    "start_time": "2022-12-09T22:42:02.737Z"
   },
   {
    "duration": 7947,
    "start_time": "2022-12-09T22:44:37.403Z"
   },
   {
    "duration": 8116,
    "start_time": "2022-12-09T22:45:49.628Z"
   },
   {
    "duration": 12,
    "start_time": "2022-12-09T22:46:12.684Z"
   },
   {
    "duration": 8482,
    "start_time": "2022-12-09T22:47:22.260Z"
   },
   {
    "duration": 7,
    "start_time": "2022-12-09T22:47:33.189Z"
   },
   {
    "duration": 8170,
    "start_time": "2022-12-09T22:48:05.079Z"
   },
   {
    "duration": 36,
    "start_time": "2022-12-09T22:48:29.051Z"
   },
   {
    "duration": 91984,
    "start_time": "2022-12-09T22:48:37.566Z"
   },
   {
    "duration": 28714,
    "start_time": "2022-12-09T22:50:09.552Z"
   },
   {
    "duration": 820,
    "start_time": "2022-12-09T22:51:04.488Z"
   },
   {
    "duration": 65246,
    "start_time": "2022-12-09T22:51:10.817Z"
   },
   {
    "duration": 20395,
    "start_time": "2022-12-09T22:52:16.065Z"
   },
   {
    "duration": 88182,
    "start_time": "2022-12-09T22:53:08.578Z"
   },
   {
    "duration": 26762,
    "start_time": "2022-12-09T22:54:36.762Z"
   },
   {
    "duration": 3517,
    "start_time": "2022-12-10T12:28:08.175Z"
   },
   {
    "duration": 5631,
    "start_time": "2022-12-10T12:28:11.696Z"
   },
   {
    "duration": 1530,
    "start_time": "2022-12-10T12:28:17.328Z"
   },
   {
    "duration": 37,
    "start_time": "2022-12-10T12:28:18.866Z"
   },
   {
    "duration": 202,
    "start_time": "2022-12-10T12:28:18.905Z"
   },
   {
    "duration": 19,
    "start_time": "2022-12-10T12:28:19.112Z"
   },
   {
    "duration": 472,
    "start_time": "2022-12-10T12:28:19.133Z"
   },
   {
    "duration": 3,
    "start_time": "2022-12-10T12:28:19.607Z"
   },
   {
    "duration": 5127,
    "start_time": "2022-12-10T12:28:19.612Z"
   },
   {
    "duration": 698,
    "start_time": "2022-12-10T12:28:24.744Z"
   },
   {
    "duration": 1175045,
    "start_time": "2022-12-10T12:28:25.444Z"
   },
   {
    "duration": 91,
    "start_time": "2022-12-10T12:48:00.491Z"
   },
   {
    "duration": 4,
    "start_time": "2022-12-10T12:48:00.584Z"
   },
   {
    "duration": 2594,
    "start_time": "2022-12-10T12:48:00.591Z"
   },
   {
    "duration": 89,
    "start_time": "2022-12-10T12:48:03.187Z"
   },
   {
    "duration": 7733,
    "start_time": "2022-12-10T12:48:03.278Z"
   },
   {
    "duration": 221,
    "start_time": "2022-12-10T14:08:03.199Z"
   },
   {
    "duration": 854,
    "start_time": "2022-12-10T14:08:03.780Z"
   },
   {
    "duration": 43,
    "start_time": "2022-12-10T14:08:04.637Z"
   },
   {
    "duration": 193,
    "start_time": "2022-12-10T14:08:04.683Z"
   },
   {
    "duration": 17,
    "start_time": "2022-12-10T14:08:04.879Z"
   },
   {
    "duration": 508,
    "start_time": "2022-12-10T14:08:04.898Z"
   },
   {
    "duration": 2207,
    "start_time": "2022-12-10T14:20:14.947Z"
   },
   {
    "duration": 7,
    "start_time": "2022-12-10T14:20:17.156Z"
   },
   {
    "duration": 820,
    "start_time": "2022-12-10T14:20:17.165Z"
   },
   {
    "duration": 33,
    "start_time": "2022-12-10T14:20:17.987Z"
   },
   {
    "duration": 145,
    "start_time": "2022-12-10T14:20:18.021Z"
   },
   {
    "duration": 10,
    "start_time": "2022-12-10T14:20:18.168Z"
   },
   {
    "duration": 413,
    "start_time": "2022-12-10T14:20:18.179Z"
   },
   {
    "duration": 3,
    "start_time": "2022-12-10T14:20:19.417Z"
   },
   {
    "duration": 4036,
    "start_time": "2022-12-10T14:20:19.794Z"
   },
   {
    "duration": 538,
    "start_time": "2022-12-10T14:20:24.211Z"
   },
   {
    "duration": 992757,
    "start_time": "2022-12-10T14:20:25.440Z"
   },
   {
    "duration": 83,
    "start_time": "2022-12-10T14:36:58.199Z"
   },
   {
    "duration": 21,
    "start_time": "2022-12-10T14:36:58.284Z"
   },
   {
    "duration": 125,
    "start_time": "2022-12-10T14:37:00.530Z"
   },
   {
    "duration": 2295,
    "start_time": "2022-12-10T14:37:00.657Z"
   },
   {
    "duration": 73526,
    "start_time": "2022-12-10T14:37:02.954Z"
   },
   {
    "duration": 21317,
    "start_time": "2022-12-10T14:38:16.482Z"
   },
   {
    "duration": 373,
    "start_time": "2022-12-10T14:59:22.871Z"
   },
   {
    "duration": 6,
    "start_time": "2022-12-10T15:00:40.272Z"
   },
   {
    "duration": 2,
    "start_time": "2022-12-10T15:16:31.490Z"
   },
   {
    "duration": 18,
    "start_time": "2022-12-10T15:16:32.681Z"
   },
   {
    "duration": 21,
    "start_time": "2022-12-10T15:16:54.986Z"
   },
   {
    "duration": 21,
    "start_time": "2022-12-10T15:17:12.217Z"
   },
   {
    "duration": 32739,
    "start_time": "2022-12-10T15:19:14.966Z"
   },
   {
    "duration": 2,
    "start_time": "2022-12-10T15:19:52.814Z"
   },
   {
    "duration": 34,
    "start_time": "2022-12-10T15:19:53.362Z"
   },
   {
    "duration": 45,
    "start_time": "2022-12-10T15:22:54.750Z"
   },
   {
    "duration": 20,
    "start_time": "2022-12-10T15:24:49.771Z"
   },
   {
    "duration": 30,
    "start_time": "2022-12-10T15:25:18.852Z"
   },
   {
    "duration": 18,
    "start_time": "2022-12-10T15:26:45.367Z"
   },
   {
    "duration": 17,
    "start_time": "2022-12-10T15:27:14.049Z"
   },
   {
    "duration": 19,
    "start_time": "2022-12-10T15:28:01.853Z"
   },
   {
    "duration": 19,
    "start_time": "2022-12-10T15:28:02.093Z"
   },
   {
    "duration": 2,
    "start_time": "2022-12-10T15:28:06.049Z"
   },
   {
    "duration": 24,
    "start_time": "2022-12-10T15:28:06.683Z"
   },
   {
    "duration": 46,
    "start_time": "2022-12-10T15:28:27.284Z"
   },
   {
    "duration": 31,
    "start_time": "2022-12-10T15:28:36.009Z"
   },
   {
    "duration": 22,
    "start_time": "2022-12-10T15:28:51.195Z"
   },
   {
    "duration": 58,
    "start_time": "2022-12-10T15:30:19.462Z"
   },
   {
    "duration": 58,
    "start_time": "2022-12-10T15:30:27.447Z"
   },
   {
    "duration": 3,
    "start_time": "2022-12-10T15:30:30.008Z"
   },
   {
    "duration": 51,
    "start_time": "2022-12-10T15:30:30.314Z"
   },
   {
    "duration": 5,
    "start_time": "2022-12-10T15:30:41.894Z"
   },
   {
    "duration": 3,
    "start_time": "2022-12-10T15:31:05.532Z"
   },
   {
    "duration": 5,
    "start_time": "2022-12-10T15:31:14.213Z"
   },
   {
    "duration": 94,
    "start_time": "2022-12-10T15:31:29.349Z"
   },
   {
    "duration": 178,
    "start_time": "2022-12-10T15:34:25.565Z"
   },
   {
    "duration": 4,
    "start_time": "2022-12-10T15:35:03.553Z"
   },
   {
    "duration": 4,
    "start_time": "2022-12-10T15:35:03.737Z"
   },
   {
    "duration": 147,
    "start_time": "2022-12-10T15:35:03.894Z"
   },
   {
    "duration": 3,
    "start_time": "2022-12-10T15:39:07.301Z"
   },
   {
    "duration": 172,
    "start_time": "2022-12-10T15:39:07.553Z"
   },
   {
    "duration": 172,
    "start_time": "2022-12-10T15:39:18.575Z"
   },
   {
    "duration": 3,
    "start_time": "2022-12-10T15:39:21.421Z"
   },
   {
    "duration": 3,
    "start_time": "2022-12-10T15:39:21.624Z"
   },
   {
    "duration": 130,
    "start_time": "2022-12-10T15:39:22.177Z"
   },
   {
    "duration": 5,
    "start_time": "2022-12-10T15:39:31.150Z"
   },
   {
    "duration": 122,
    "start_time": "2022-12-10T15:39:43.749Z"
   },
   {
    "duration": 5,
    "start_time": "2022-12-10T15:39:45.853Z"
   },
   {
    "duration": 108,
    "start_time": "2022-12-10T15:39:57.152Z"
   },
   {
    "duration": 11,
    "start_time": "2022-12-10T15:40:17.649Z"
   },
   {
    "duration": 219805,
    "start_time": "2022-12-10T15:40:33.412Z"
   },
   {
    "duration": 5,
    "start_time": "2022-12-10T15:44:13.220Z"
   },
   {
    "duration": 35,
    "start_time": "2022-12-10T16:01:38.814Z"
   },
   {
    "duration": 13,
    "start_time": "2022-12-10T16:02:17.786Z"
   },
   {
    "duration": 5,
    "start_time": "2022-12-10T16:02:28.554Z"
   },
   {
    "duration": 65754,
    "start_time": "2022-12-10T16:02:47.614Z"
   },
   {
    "duration": 85,
    "start_time": "2022-12-10T16:03:53.370Z"
   },
   {
    "duration": 27,
    "start_time": "2022-12-10T16:03:53.457Z"
   },
   {
    "duration": 0,
    "start_time": "2022-12-10T16:03:53.487Z"
   },
   {
    "duration": 676,
    "start_time": "2022-12-10T16:04:26.991Z"
   },
   {
    "duration": 8,
    "start_time": "2022-12-10T16:04:27.669Z"
   },
   {
    "duration": 4,
    "start_time": "2022-12-10T16:04:31.312Z"
   },
   {
    "duration": 3,
    "start_time": "2022-12-10T16:19:34.341Z"
   },
   {
    "duration": 3,
    "start_time": "2022-12-10T16:19:57.367Z"
   },
   {
    "duration": 5,
    "start_time": "2022-12-10T16:19:57.855Z"
   },
   {
    "duration": 267008,
    "start_time": "2022-12-10T16:20:10.487Z"
   },
   {
    "duration": 48,
    "start_time": "2022-12-10T16:39:44.753Z"
   },
   {
    "duration": 63,
    "start_time": "2022-12-10T16:40:11.782Z"
   },
   {
    "duration": 56,
    "start_time": "2022-12-10T16:41:38.611Z"
   },
   {
    "duration": 5,
    "start_time": "2022-12-10T16:42:31.725Z"
   },
   {
    "duration": 42,
    "start_time": "2022-12-10T16:42:35.338Z"
   },
   {
    "duration": 54,
    "start_time": "2022-12-10T16:43:39.492Z"
   },
   {
    "duration": 54,
    "start_time": "2022-12-10T16:44:06.970Z"
   },
   {
    "duration": 63,
    "start_time": "2022-12-10T16:44:10.944Z"
   },
   {
    "duration": 61,
    "start_time": "2022-12-10T16:44:13.226Z"
   },
   {
    "duration": 55,
    "start_time": "2022-12-10T16:44:43.367Z"
   },
   {
    "duration": 29,
    "start_time": "2022-12-10T16:45:28.494Z"
   },
   {
    "duration": 25,
    "start_time": "2022-12-10T16:45:43.708Z"
   },
   {
    "duration": 3,
    "start_time": "2022-12-10T16:45:47.220Z"
   },
   {
    "duration": 61,
    "start_time": "2022-12-10T16:45:52.421Z"
   },
   {
    "duration": 57,
    "start_time": "2022-12-10T16:49:59.755Z"
   },
   {
    "duration": 70,
    "start_time": "2022-12-10T16:50:39.434Z"
   },
   {
    "duration": 59,
    "start_time": "2022-12-10T16:51:19.377Z"
   },
   {
    "duration": 53,
    "start_time": "2022-12-10T16:51:32.181Z"
   },
   {
    "duration": 54,
    "start_time": "2022-12-10T16:51:38.996Z"
   },
   {
    "duration": 94,
    "start_time": "2022-12-10T16:51:43.184Z"
   },
   {
    "duration": 55,
    "start_time": "2022-12-10T17:03:24.080Z"
   },
   {
    "duration": 34,
    "start_time": "2022-12-10T17:06:54.011Z"
   },
   {
    "duration": 52,
    "start_time": "2022-12-10T17:09:27.733Z"
   },
   {
    "duration": 35,
    "start_time": "2022-12-10T17:09:34.748Z"
   },
   {
    "duration": 17,
    "start_time": "2022-12-10T17:11:29.134Z"
   },
   {
    "duration": 29,
    "start_time": "2022-12-10T17:22:22.028Z"
   },
   {
    "duration": 22,
    "start_time": "2022-12-10T17:23:30.732Z"
   },
   {
    "duration": 51,
    "start_time": "2022-12-10T17:23:55.652Z"
   },
   {
    "duration": 21,
    "start_time": "2022-12-10T17:24:18.145Z"
   },
   {
    "duration": 6,
    "start_time": "2022-12-10T17:25:18.194Z"
   },
   {
    "duration": 1161,
    "start_time": "2022-12-10T17:40:52.453Z"
   },
   {
    "duration": 24,
    "start_time": "2022-12-10T17:41:25.421Z"
   },
   {
    "duration": 35,
    "start_time": "2022-12-10T17:41:43.767Z"
   },
   {
    "duration": 1281,
    "start_time": "2022-12-10T17:42:03.709Z"
   },
   {
    "duration": 3,
    "start_time": "2022-12-10T17:43:05.813Z"
   },
   {
    "duration": 1208,
    "start_time": "2022-12-10T17:43:08.055Z"
   },
   {
    "duration": 19,
    "start_time": "2022-12-10T17:43:59.064Z"
   },
   {
    "duration": 1148,
    "start_time": "2022-12-10T17:44:07.668Z"
   },
   {
    "duration": 4,
    "start_time": "2022-12-10T17:47:08.809Z"
   },
   {
    "duration": 0,
    "start_time": "2022-12-10T17:56:31.491Z"
   },
   {
    "duration": 789929,
    "start_time": "2022-12-10T17:56:42.734Z"
   },
   {
    "duration": 4,
    "start_time": "2022-12-10T18:22:16.960Z"
   },
   {
    "duration": 21,
    "start_time": "2022-12-10T18:22:17.533Z"
   },
   {
    "duration": 5,
    "start_time": "2022-12-10T18:22:26.086Z"
   },
   {
    "duration": 3,
    "start_time": "2022-12-10T18:32:09.821Z"
   },
   {
    "duration": 286,
    "start_time": "2022-12-10T18:32:13.109Z"
   },
   {
    "duration": 4,
    "start_time": "2022-12-10T18:39:13.259Z"
   },
   {
    "duration": 23,
    "start_time": "2022-12-10T18:39:31.689Z"
   },
   {
    "duration": 309,
    "start_time": "2022-12-10T18:40:01.246Z"
   },
   {
    "duration": 3,
    "start_time": "2022-12-10T18:43:36.036Z"
   },
   {
    "duration": 44,
    "start_time": "2022-12-10T18:47:39.486Z"
   },
   {
    "duration": 9,
    "start_time": "2022-12-10T18:49:36.744Z"
   },
   {
    "duration": 239072,
    "start_time": "2022-12-10T19:02:47.455Z"
   },
   {
    "duration": 7989,
    "start_time": "2022-12-10T19:12:26.851Z"
   },
   {
    "duration": 7951,
    "start_time": "2022-12-10T19:14:32.219Z"
   },
   {
    "duration": 23,
    "start_time": "2022-12-10T19:14:40.172Z"
   },
   {
    "duration": 228,
    "start_time": "2022-12-10T19:15:23.464Z"
   },
   {
    "duration": 8414,
    "start_time": "2023-02-06T20:14:42.451Z"
   }
  ],
  "kernelspec": {
   "display_name": "Python 3 (ipykernel)",
   "language": "python",
   "name": "python3"
  },
  "language_info": {
   "codemirror_mode": {
    "name": "ipython",
    "version": 3
   },
   "file_extension": ".py",
   "mimetype": "text/x-python",
   "name": "python",
   "nbconvert_exporter": "python",
   "pygments_lexer": "ipython3",
   "version": "3.9.12"
  },
  "toc": {
   "base_numbering": 1,
   "nav_menu": {},
   "number_sections": true,
   "sideBar": true,
   "skip_h1_title": true,
   "title_cell": "Содержание",
   "title_sidebar": "Contents",
   "toc_cell": true,
   "toc_position": {
    "height": "calc(100% - 180px)",
    "left": "10px",
    "top": "150px",
    "width": "302.391px"
   },
   "toc_section_display": true,
   "toc_window_display": true
  }
 },
 "nbformat": 4,
 "nbformat_minor": 2
}
